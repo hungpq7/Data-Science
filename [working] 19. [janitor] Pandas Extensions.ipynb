{
 "cells": [
  {
   "cell_type": "markdown",
   "id": "3734076c-ceee-4a84-98bb-0bcd799e60e6",
   "metadata": {},
   "source": [
    "# 1. DuckDB"
   ]
  },
  {
   "cell_type": "markdown",
   "id": "3f9c8079-4a7f-4650-8fac-3c384a3c9ac3",
   "metadata": {},
   "source": [
    "# 2. Janitor"
   ]
  },
  {
   "cell_type": "markdown",
   "id": "08864fa9-d065-4dca-bbc4-69612761f467",
   "metadata": {},
   "source": [
    "# 3. Pandas profiling"
   ]
  },
  {
   "cell_type": "code",
   "execution_count": 1,
   "id": "a118642f-802c-4c85-962a-b42ccb50ecef",
   "metadata": {},
   "outputs": [
    {
     "ename": "ModuleNotFoundError",
     "evalue": "No module named 'skforecast'",
     "output_type": "error",
     "traceback": [
      "\u001b[1;31m---------------------------------------------------------------------------\u001b[0m",
      "\u001b[1;31mModuleNotFoundError\u001b[0m                       Traceback (most recent call last)",
      "\u001b[1;32m~\\AppData\\Local\\Temp/ipykernel_3576/3509127228.py\u001b[0m in \u001b[0;36m<module>\u001b[1;34m\u001b[0m\n\u001b[0;32m     10\u001b[0m \u001b[1;32mfrom\u001b[0m \u001b[0msklearn\u001b[0m\u001b[1;33m.\u001b[0m\u001b[0mmetrics\u001b[0m \u001b[1;32mimport\u001b[0m \u001b[0mmean_absolute_error\u001b[0m\u001b[1;33m\u001b[0m\u001b[1;33m\u001b[0m\u001b[0m\n\u001b[0;32m     11\u001b[0m \u001b[1;33m\u001b[0m\u001b[0m\n\u001b[1;32m---> 12\u001b[1;33m \u001b[1;32mfrom\u001b[0m \u001b[0mskforecast\u001b[0m\u001b[1;33m.\u001b[0m\u001b[0mForecasterAutoregMultiSeries\u001b[0m \u001b[1;32mimport\u001b[0m \u001b[0mForecasterAutoregMultiSeries\u001b[0m\u001b[1;33m\u001b[0m\u001b[1;33m\u001b[0m\u001b[0m\n\u001b[0m\u001b[0;32m     13\u001b[0m \u001b[1;32mfrom\u001b[0m \u001b[0mskforecast\u001b[0m\u001b[1;33m.\u001b[0m\u001b[0mmodel_selection_multiseries\u001b[0m \u001b[1;32mimport\u001b[0m \u001b[0mbacktesting_forecaster_multiseries\u001b[0m\u001b[1;33m\u001b[0m\u001b[1;33m\u001b[0m\u001b[0m\n\u001b[0;32m     14\u001b[0m \u001b[1;32mfrom\u001b[0m \u001b[0mskforecast\u001b[0m\u001b[1;33m.\u001b[0m\u001b[0mmodel_selection_multiseries\u001b[0m \u001b[1;32mimport\u001b[0m \u001b[0mgrid_search_forecaster_multiseries\u001b[0m\u001b[1;33m\u001b[0m\u001b[1;33m\u001b[0m\u001b[0m\n",
      "\u001b[1;31mModuleNotFoundError\u001b[0m: No module named 'skforecast'"
     ]
    }
   ],
   "source": [
    "# Libraries\n",
    "# ==============================================================================\n",
    "import numpy as np\n",
    "import pandas as pd\n",
    "import matplotlib.pyplot as plt\n",
    "from sklearn.preprocessing import StandardScaler\n",
    "from sklearn.linear_model import LinearRegression\n",
    "from sklearn.linear_model import Ridge\n",
    "from sklearn.ensemble import RandomForestRegressor\n",
    "from sklearn.metrics import mean_absolute_error\n",
    "\n",
    "from skforecast.ForecasterAutoregMultiSeries import ForecasterAutoregMultiSeries\n",
    "from skforecast.model_selection_multiseries import backtesting_forecaster_multiseries\n",
    "from skforecast.model_selection_multiseries import grid_search_forecaster_multiseries"
   ]
  }
 ],
 "metadata": {
  "kernelspec": {
   "display_name": "Python 3 (ipykernel)",
   "language": "python",
   "name": "python3"
  },
  "language_info": {
   "codemirror_mode": {
    "name": "ipython",
    "version": 3
   },
   "file_extension": ".py",
   "mimetype": "text/x-python",
   "name": "python",
   "nbconvert_exporter": "python",
   "pygments_lexer": "ipython3",
   "version": "3.9.7"
  }
 },
 "nbformat": 4,
 "nbformat_minor": 5
}
