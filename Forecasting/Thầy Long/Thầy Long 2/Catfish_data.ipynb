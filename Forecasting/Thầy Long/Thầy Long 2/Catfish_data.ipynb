{
 "cells": [
  {
   "cell_type": "code",
   "execution_count": 1,
   "metadata": {},
   "outputs": [],
   "source": [
    "import numpy as np\n",
    "import pandas as pd"
   ]
  },
  {
   "cell_type": "code",
   "execution_count": 57,
   "metadata": {},
   "outputs": [],
   "source": [
    "cf=pd.read_csv(\"Catfish_Trout.csv\")"
   ]
  },
  {
   "cell_type": "code",
   "execution_count": 58,
   "metadata": {},
   "outputs": [
    {
     "data": {
      "text/html": [
       "<div>\n",
       "<style scoped>\n",
       "    .dataframe tbody tr th:only-of-type {\n",
       "        vertical-align: middle;\n",
       "    }\n",
       "\n",
       "    .dataframe tbody tr th {\n",
       "        vertical-align: top;\n",
       "    }\n",
       "\n",
       "    .dataframe thead th {\n",
       "        text-align: right;\n",
       "    }\n",
       "</style>\n",
       "<table border=\"1\" class=\"dataframe\">\n",
       "  <thead>\n",
       "    <tr style=\"text-align: right;\">\n",
       "      <th></th>\n",
       "      <th>SOURCE_ID</th>\n",
       "      <th>COMMODITY_DESC</th>\n",
       "      <th>GEOGRAPHY_CODE</th>\n",
       "      <th>GEOGRAPHY_DESC</th>\n",
       "      <th>ATTRIBUTE_DESC</th>\n",
       "      <th>UNIT_DESC</th>\n",
       "      <th>YEAR_ID</th>\n",
       "      <th>TIMEPERIOD_ID</th>\n",
       "      <th>AMOUNT</th>\n",
       "    </tr>\n",
       "  </thead>\n",
       "  <tbody>\n",
       "    <tr>\n",
       "      <th>0</th>\n",
       "      <td>101</td>\n",
       "      <td>Catfish</td>\n",
       "      <td>9000.0</td>\n",
       "      <td>United States of America</td>\n",
       "      <td>Farm Price</td>\n",
       "      <td>Cents/Pound</td>\n",
       "      <td>1986</td>\n",
       "      <td>1</td>\n",
       "      <td>70.0</td>\n",
       "    </tr>\n",
       "    <tr>\n",
       "      <th>1</th>\n",
       "      <td>101</td>\n",
       "      <td>Catfish</td>\n",
       "      <td>9000.0</td>\n",
       "      <td>United States of America</td>\n",
       "      <td>Farm Price</td>\n",
       "      <td>Cents/Pound</td>\n",
       "      <td>1986</td>\n",
       "      <td>2</td>\n",
       "      <td>70.0</td>\n",
       "    </tr>\n",
       "    <tr>\n",
       "      <th>2</th>\n",
       "      <td>101</td>\n",
       "      <td>Catfish</td>\n",
       "      <td>9000.0</td>\n",
       "      <td>United States of America</td>\n",
       "      <td>Farm Price</td>\n",
       "      <td>Cents/Pound</td>\n",
       "      <td>1986</td>\n",
       "      <td>3</td>\n",
       "      <td>72.0</td>\n",
       "    </tr>\n",
       "    <tr>\n",
       "      <th>3</th>\n",
       "      <td>101</td>\n",
       "      <td>Catfish</td>\n",
       "      <td>9000.0</td>\n",
       "      <td>United States of America</td>\n",
       "      <td>Farm Price</td>\n",
       "      <td>Cents/Pound</td>\n",
       "      <td>1986</td>\n",
       "      <td>4</td>\n",
       "      <td>74.0</td>\n",
       "    </tr>\n",
       "    <tr>\n",
       "      <th>4</th>\n",
       "      <td>101</td>\n",
       "      <td>Catfish</td>\n",
       "      <td>9000.0</td>\n",
       "      <td>United States of America</td>\n",
       "      <td>Farm Price</td>\n",
       "      <td>Cents/Pound</td>\n",
       "      <td>1986</td>\n",
       "      <td>5</td>\n",
       "      <td>72.0</td>\n",
       "    </tr>\n",
       "  </tbody>\n",
       "</table>\n",
       "</div>"
      ],
      "text/plain": [
       "   SOURCE_ID COMMODITY_DESC  GEOGRAPHY_CODE            GEOGRAPHY_DESC  \\\n",
       "0        101        Catfish          9000.0  United States of America   \n",
       "1        101        Catfish          9000.0  United States of America   \n",
       "2        101        Catfish          9000.0  United States of America   \n",
       "3        101        Catfish          9000.0  United States of America   \n",
       "4        101        Catfish          9000.0  United States of America   \n",
       "\n",
       "  ATTRIBUTE_DESC    UNIT_DESC  YEAR_ID  TIMEPERIOD_ID  AMOUNT  \n",
       "0     Farm Price  Cents/Pound     1986              1    70.0  \n",
       "1     Farm Price  Cents/Pound     1986              2    70.0  \n",
       "2     Farm Price  Cents/Pound     1986              3    72.0  \n",
       "3     Farm Price  Cents/Pound     1986              4    74.0  \n",
       "4     Farm Price  Cents/Pound     1986              5    72.0  "
      ]
     },
     "execution_count": 58,
     "metadata": {},
     "output_type": "execute_result"
    }
   ],
   "source": [
    "cf.head()"
   ]
  },
  {
   "cell_type": "code",
   "execution_count": 59,
   "metadata": {},
   "outputs": [
    {
     "data": {
      "text/plain": [
       "array([ 1,  2,  3,  4,  5,  6,  7,  8,  9, 10, 11, 12, 17], dtype=int64)"
      ]
     },
     "execution_count": 59,
     "metadata": {},
     "output_type": "execute_result"
    }
   ],
   "source": [
    "cf['TIMEPERIOD_ID'].unique()"
   ]
  },
  {
   "cell_type": "code",
   "execution_count": 60,
   "metadata": {},
   "outputs": [],
   "source": [
    "cf=cf[cf['TIMEPERIOD_ID']!=17]"
   ]
  },
  {
   "cell_type": "code",
   "execution_count": 61,
   "metadata": {},
   "outputs": [
    {
     "data": {
      "text/plain": [
       "array([ 1,  2,  3,  4,  5,  6,  7,  8,  9, 10, 11, 12], dtype=int64)"
      ]
     },
     "execution_count": 61,
     "metadata": {},
     "output_type": "execute_result"
    }
   ],
   "source": [
    "cf['TIMEPERIOD_ID'].unique()"
   ]
  },
  {
   "cell_type": "code",
   "execution_count": 81,
   "metadata": {},
   "outputs": [],
   "source": [
    "cf['DATE']=cf['YEAR_ID'].astype(str)+\"-\"+cf['TIMEPERIOD_ID'].astype(str)+\"-\"+str(1)"
   ]
  },
  {
   "cell_type": "code",
   "execution_count": 82,
   "metadata": {},
   "outputs": [
    {
     "data": {
      "text/html": [
       "<div>\n",
       "<style scoped>\n",
       "    .dataframe tbody tr th:only-of-type {\n",
       "        vertical-align: middle;\n",
       "    }\n",
       "\n",
       "    .dataframe tbody tr th {\n",
       "        vertical-align: top;\n",
       "    }\n",
       "\n",
       "    .dataframe thead th {\n",
       "        text-align: right;\n",
       "    }\n",
       "</style>\n",
       "<table border=\"1\" class=\"dataframe\">\n",
       "  <thead>\n",
       "    <tr style=\"text-align: right;\">\n",
       "      <th></th>\n",
       "      <th>SOURCE_ID</th>\n",
       "      <th>COMMODITY_DESC</th>\n",
       "      <th>GEOGRAPHY_CODE</th>\n",
       "      <th>GEOGRAPHY_DESC</th>\n",
       "      <th>ATTRIBUTE_DESC</th>\n",
       "      <th>UNIT_DESC</th>\n",
       "      <th>YEAR_ID</th>\n",
       "      <th>TIMEPERIOD_ID</th>\n",
       "      <th>AMOUNT</th>\n",
       "      <th>DATE</th>\n",
       "    </tr>\n",
       "  </thead>\n",
       "  <tbody>\n",
       "    <tr>\n",
       "      <th>0</th>\n",
       "      <td>101</td>\n",
       "      <td>Catfish</td>\n",
       "      <td>9000.0</td>\n",
       "      <td>United States of America</td>\n",
       "      <td>Farm Price</td>\n",
       "      <td>Cents/Pound</td>\n",
       "      <td>1986</td>\n",
       "      <td>1</td>\n",
       "      <td>70.0</td>\n",
       "      <td>1986-1-1</td>\n",
       "    </tr>\n",
       "    <tr>\n",
       "      <th>1</th>\n",
       "      <td>101</td>\n",
       "      <td>Catfish</td>\n",
       "      <td>9000.0</td>\n",
       "      <td>United States of America</td>\n",
       "      <td>Farm Price</td>\n",
       "      <td>Cents/Pound</td>\n",
       "      <td>1986</td>\n",
       "      <td>2</td>\n",
       "      <td>70.0</td>\n",
       "      <td>1986-2-1</td>\n",
       "    </tr>\n",
       "    <tr>\n",
       "      <th>2</th>\n",
       "      <td>101</td>\n",
       "      <td>Catfish</td>\n",
       "      <td>9000.0</td>\n",
       "      <td>United States of America</td>\n",
       "      <td>Farm Price</td>\n",
       "      <td>Cents/Pound</td>\n",
       "      <td>1986</td>\n",
       "      <td>3</td>\n",
       "      <td>72.0</td>\n",
       "      <td>1986-3-1</td>\n",
       "    </tr>\n",
       "    <tr>\n",
       "      <th>3</th>\n",
       "      <td>101</td>\n",
       "      <td>Catfish</td>\n",
       "      <td>9000.0</td>\n",
       "      <td>United States of America</td>\n",
       "      <td>Farm Price</td>\n",
       "      <td>Cents/Pound</td>\n",
       "      <td>1986</td>\n",
       "      <td>4</td>\n",
       "      <td>74.0</td>\n",
       "      <td>1986-4-1</td>\n",
       "    </tr>\n",
       "    <tr>\n",
       "      <th>4</th>\n",
       "      <td>101</td>\n",
       "      <td>Catfish</td>\n",
       "      <td>9000.0</td>\n",
       "      <td>United States of America</td>\n",
       "      <td>Farm Price</td>\n",
       "      <td>Cents/Pound</td>\n",
       "      <td>1986</td>\n",
       "      <td>5</td>\n",
       "      <td>72.0</td>\n",
       "      <td>1986-5-1</td>\n",
       "    </tr>\n",
       "  </tbody>\n",
       "</table>\n",
       "</div>"
      ],
      "text/plain": [
       "   SOURCE_ID COMMODITY_DESC  GEOGRAPHY_CODE            GEOGRAPHY_DESC  \\\n",
       "0        101        Catfish          9000.0  United States of America   \n",
       "1        101        Catfish          9000.0  United States of America   \n",
       "2        101        Catfish          9000.0  United States of America   \n",
       "3        101        Catfish          9000.0  United States of America   \n",
       "4        101        Catfish          9000.0  United States of America   \n",
       "\n",
       "  ATTRIBUTE_DESC    UNIT_DESC  YEAR_ID  TIMEPERIOD_ID  AMOUNT      DATE  \n",
       "0     Farm Price  Cents/Pound     1986              1    70.0  1986-1-1  \n",
       "1     Farm Price  Cents/Pound     1986              2    70.0  1986-2-1  \n",
       "2     Farm Price  Cents/Pound     1986              3    72.0  1986-3-1  \n",
       "3     Farm Price  Cents/Pound     1986              4    74.0  1986-4-1  \n",
       "4     Farm Price  Cents/Pound     1986              5    72.0  1986-5-1  "
      ]
     },
     "execution_count": 82,
     "metadata": {},
     "output_type": "execute_result"
    }
   ],
   "source": [
    "cf.head()"
   ]
  },
  {
   "cell_type": "code",
   "execution_count": 83,
   "metadata": {},
   "outputs": [],
   "source": [
    "unit_names=cf['UNIT_DESC'].unique()"
   ]
  },
  {
   "cell_type": "code",
   "execution_count": 95,
   "metadata": {},
   "outputs": [],
   "source": [
    "cf1=cf[cf['UNIT_DESC']==unit_names[2]]"
   ]
  },
  {
   "cell_type": "code",
   "execution_count": 96,
   "metadata": {},
   "outputs": [],
   "source": [
    "df =cf1.pivot_table(index='DATE', columns=['COMMODITY_DESC','ATTRIBUTE_DESC'], values='AMOUNT')"
   ]
  },
  {
   "cell_type": "code",
   "execution_count": 97,
   "metadata": {},
   "outputs": [],
   "source": [
    "df2=df.dropna(axis=1)"
   ]
  },
  {
   "cell_type": "code",
   "execution_count": 98,
   "metadata": {},
   "outputs": [
    {
     "data": {
      "text/plain": [
       "(326, 12)"
      ]
     },
     "execution_count": 98,
     "metadata": {},
     "output_type": "execute_result"
    }
   ],
   "source": [
    "df2.shape"
   ]
  },
  {
   "cell_type": "code",
   "execution_count": 99,
   "metadata": {},
   "outputs": [],
   "source": [
    "df2.to_csv('catfish_wide_unit3.csv')"
   ]
  },
  {
   "cell_type": "code",
   "execution_count": null,
   "metadata": {},
   "outputs": [],
   "source": []
  },
  {
   "cell_type": "code",
   "execution_count": null,
   "metadata": {},
   "outputs": [],
   "source": []
  },
  {
   "cell_type": "code",
   "execution_count": null,
   "metadata": {},
   "outputs": [],
   "source": []
  },
  {
   "cell_type": "code",
   "execution_count": null,
   "metadata": {},
   "outputs": [],
   "source": []
  },
  {
   "cell_type": "code",
   "execution_count": 64,
   "metadata": {},
   "outputs": [],
   "source": [
    "df =cf.pivot_table(index='DATE', columns=['COMMODITY_DESC','ATTRIBUTE_DESC','UNIT_DESC'], values='AMOUNT')"
   ]
  },
  {
   "cell_type": "code",
   "execution_count": 65,
   "metadata": {},
   "outputs": [
    {
     "data": {
      "text/html": [
       "<div>\n",
       "<style scoped>\n",
       "    .dataframe tbody tr th:only-of-type {\n",
       "        vertical-align: middle;\n",
       "    }\n",
       "\n",
       "    .dataframe tbody tr th {\n",
       "        vertical-align: top;\n",
       "    }\n",
       "\n",
       "    .dataframe thead tr th {\n",
       "        text-align: left;\n",
       "    }\n",
       "\n",
       "    .dataframe thead tr:last-of-type th {\n",
       "        text-align: right;\n",
       "    }\n",
       "</style>\n",
       "<table border=\"1\" class=\"dataframe\">\n",
       "  <thead>\n",
       "    <tr>\n",
       "      <th>COMMODITY_DESC</th>\n",
       "      <th colspan=\"6\" halign=\"left\">Catfish</th>\n",
       "      <th colspan=\"3\" halign=\"left\">Catfish-Fresh Filleted Fish</th>\n",
       "      <th>Catfish-Fresh Fish Total</th>\n",
       "      <th>...</th>\n",
       "      <th>Catfish-Frozen Other Fish, Other</th>\n",
       "      <th colspan=\"3\" halign=\"left\">Catfish-Frozen Other Fish, Steaks</th>\n",
       "      <th colspan=\"3\" halign=\"left\">Catfish-Frozen Whole Fish</th>\n",
       "      <th colspan=\"3\" halign=\"left\">Catfish-Frozen Whole Fish Dressed</th>\n",
       "    </tr>\n",
       "    <tr>\n",
       "      <th>ATTRIBUTE_DESC</th>\n",
       "      <th>Farm Price</th>\n",
       "      <th>Farm Sales to Processors</th>\n",
       "      <th>Imports, QTY</th>\n",
       "      <th>Processor Inventories</th>\n",
       "      <th>Processor Price</th>\n",
       "      <th>Processor Sales, All categories</th>\n",
       "      <th>Processor Inventories</th>\n",
       "      <th>Processor Price</th>\n",
       "      <th>Processor Sales</th>\n",
       "      <th>Processor Inventories</th>\n",
       "      <th>...</th>\n",
       "      <th>Processor Sales</th>\n",
       "      <th>Processor Inventories</th>\n",
       "      <th>Processor Price</th>\n",
       "      <th>Processor Sales</th>\n",
       "      <th>Processor Inventories</th>\n",
       "      <th>Processor Price</th>\n",
       "      <th>Processor Sales</th>\n",
       "      <th>Processor Inventories</th>\n",
       "      <th>Processor Price</th>\n",
       "      <th>Processor Sales</th>\n",
       "    </tr>\n",
       "    <tr>\n",
       "      <th>UNIT_DESC</th>\n",
       "      <th>Cents/Pound</th>\n",
       "      <th>1,000 Pounds</th>\n",
       "      <th>1,000 Pounds</th>\n",
       "      <th>1,000 Pounds</th>\n",
       "      <th>Cents/Pound</th>\n",
       "      <th>1,000 Pounds</th>\n",
       "      <th>1,000 Pounds</th>\n",
       "      <th>$/Pound</th>\n",
       "      <th>1,000 Pounds</th>\n",
       "      <th>1,000 Pounds</th>\n",
       "      <th>...</th>\n",
       "      <th>1,000 Pounds</th>\n",
       "      <th>1,000 Pounds</th>\n",
       "      <th>$/Pound</th>\n",
       "      <th>1,000 Pounds</th>\n",
       "      <th>1,000 Pounds</th>\n",
       "      <th>$/Pound</th>\n",
       "      <th>1,000 Pounds</th>\n",
       "      <th>1,000 Pounds</th>\n",
       "      <th>$/Pound</th>\n",
       "      <th>1,000 Pounds</th>\n",
       "    </tr>\n",
       "    <tr>\n",
       "      <th>DATE</th>\n",
       "      <th></th>\n",
       "      <th></th>\n",
       "      <th></th>\n",
       "      <th></th>\n",
       "      <th></th>\n",
       "      <th></th>\n",
       "      <th></th>\n",
       "      <th></th>\n",
       "      <th></th>\n",
       "      <th></th>\n",
       "      <th></th>\n",
       "      <th></th>\n",
       "      <th></th>\n",
       "      <th></th>\n",
       "      <th></th>\n",
       "      <th></th>\n",
       "      <th></th>\n",
       "      <th></th>\n",
       "      <th></th>\n",
       "      <th></th>\n",
       "      <th></th>\n",
       "    </tr>\n",
       "  </thead>\n",
       "  <tbody>\n",
       "    <tr>\n",
       "      <th>1986-1</th>\n",
       "      <td>70.0</td>\n",
       "      <td>19761.0</td>\n",
       "      <td>383.0</td>\n",
       "      <td>5103.0</td>\n",
       "      <td>201.0</td>\n",
       "      <td>9034.0</td>\n",
       "      <td>143.0</td>\n",
       "      <td>2.73</td>\n",
       "      <td>1091.0</td>\n",
       "      <td>381.0</td>\n",
       "      <td>...</td>\n",
       "      <td>NaN</td>\n",
       "      <td>NaN</td>\n",
       "      <td>NaN</td>\n",
       "      <td>NaN</td>\n",
       "      <td>1684.0</td>\n",
       "      <td>1.66</td>\n",
       "      <td>1392.0</td>\n",
       "      <td>NaN</td>\n",
       "      <td>NaN</td>\n",
       "      <td>NaN</td>\n",
       "    </tr>\n",
       "    <tr>\n",
       "      <th>1986-10</th>\n",
       "      <td>62.0</td>\n",
       "      <td>20453.0</td>\n",
       "      <td>800.0</td>\n",
       "      <td>4021.0</td>\n",
       "      <td>185.5</td>\n",
       "      <td>10649.0</td>\n",
       "      <td>104.0</td>\n",
       "      <td>2.53</td>\n",
       "      <td>1438.0</td>\n",
       "      <td>317.0</td>\n",
       "      <td>...</td>\n",
       "      <td>NaN</td>\n",
       "      <td>NaN</td>\n",
       "      <td>NaN</td>\n",
       "      <td>NaN</td>\n",
       "      <td>1002.0</td>\n",
       "      <td>1.50</td>\n",
       "      <td>1426.0</td>\n",
       "      <td>NaN</td>\n",
       "      <td>NaN</td>\n",
       "      <td>NaN</td>\n",
       "    </tr>\n",
       "    <tr>\n",
       "      <th>1986-11</th>\n",
       "      <td>61.0</td>\n",
       "      <td>17107.0</td>\n",
       "      <td>1142.0</td>\n",
       "      <td>4223.0</td>\n",
       "      <td>186.4</td>\n",
       "      <td>8917.0</td>\n",
       "      <td>108.0</td>\n",
       "      <td>2.52</td>\n",
       "      <td>1086.0</td>\n",
       "      <td>364.0</td>\n",
       "      <td>...</td>\n",
       "      <td>NaN</td>\n",
       "      <td>NaN</td>\n",
       "      <td>NaN</td>\n",
       "      <td>NaN</td>\n",
       "      <td>1002.0</td>\n",
       "      <td>1.53</td>\n",
       "      <td>1027.0</td>\n",
       "      <td>NaN</td>\n",
       "      <td>NaN</td>\n",
       "      <td>NaN</td>\n",
       "    </tr>\n",
       "    <tr>\n",
       "      <th>1986-12</th>\n",
       "      <td>61.0</td>\n",
       "      <td>15812.0</td>\n",
       "      <td>199.0</td>\n",
       "      <td>4147.0</td>\n",
       "      <td>185.2</td>\n",
       "      <td>8196.0</td>\n",
       "      <td>124.0</td>\n",
       "      <td>2.50</td>\n",
       "      <td>1036.0</td>\n",
       "      <td>332.0</td>\n",
       "      <td>...</td>\n",
       "      <td>NaN</td>\n",
       "      <td>NaN</td>\n",
       "      <td>NaN</td>\n",
       "      <td>NaN</td>\n",
       "      <td>1062.0</td>\n",
       "      <td>1.51</td>\n",
       "      <td>1017.0</td>\n",
       "      <td>NaN</td>\n",
       "      <td>NaN</td>\n",
       "      <td>NaN</td>\n",
       "    </tr>\n",
       "    <tr>\n",
       "      <th>1986-2</th>\n",
       "      <td>70.0</td>\n",
       "      <td>19083.0</td>\n",
       "      <td>947.0</td>\n",
       "      <td>5361.0</td>\n",
       "      <td>199.0</td>\n",
       "      <td>9596.0</td>\n",
       "      <td>94.0</td>\n",
       "      <td>2.66</td>\n",
       "      <td>1222.0</td>\n",
       "      <td>279.0</td>\n",
       "      <td>...</td>\n",
       "      <td>NaN</td>\n",
       "      <td>NaN</td>\n",
       "      <td>NaN</td>\n",
       "      <td>NaN</td>\n",
       "      <td>1907.0</td>\n",
       "      <td>1.64</td>\n",
       "      <td>1366.0</td>\n",
       "      <td>NaN</td>\n",
       "      <td>NaN</td>\n",
       "      <td>NaN</td>\n",
       "    </tr>\n",
       "  </tbody>\n",
       "</table>\n",
       "<p>5 rows × 63 columns</p>\n",
       "</div>"
      ],
      "text/plain": [
       "COMMODITY_DESC     Catfish                                        \\\n",
       "ATTRIBUTE_DESC  Farm Price Farm Sales to Processors Imports, QTY   \n",
       "UNIT_DESC      Cents/Pound             1,000 Pounds 1,000 Pounds   \n",
       "DATE                                                               \n",
       "1986-1                70.0                  19761.0        383.0   \n",
       "1986-10               62.0                  20453.0        800.0   \n",
       "1986-11               61.0                  17107.0       1142.0   \n",
       "1986-12               61.0                  15812.0        199.0   \n",
       "1986-2                70.0                  19083.0        947.0   \n",
       "\n",
       "COMMODITY_DESC                                        \\\n",
       "ATTRIBUTE_DESC Processor Inventories Processor Price   \n",
       "UNIT_DESC               1,000 Pounds     Cents/Pound   \n",
       "DATE                                                   \n",
       "1986-1                        5103.0           201.0   \n",
       "1986-10                       4021.0           185.5   \n",
       "1986-11                       4223.0           186.4   \n",
       "1986-12                       4147.0           185.2   \n",
       "1986-2                        5361.0           199.0   \n",
       "\n",
       "COMMODITY_DESC                                 Catfish-Fresh Filleted Fish  \\\n",
       "ATTRIBUTE_DESC Processor Sales, All categories       Processor Inventories   \n",
       "UNIT_DESC                         1,000 Pounds                1,000 Pounds   \n",
       "DATE                                                                         \n",
       "1986-1                                  9034.0                       143.0   \n",
       "1986-10                                10649.0                       104.0   \n",
       "1986-11                                 8917.0                       108.0   \n",
       "1986-12                                 8196.0                       124.0   \n",
       "1986-2                                  9596.0                        94.0   \n",
       "\n",
       "COMMODITY_DESC                                 Catfish-Fresh Fish Total  ...  \\\n",
       "ATTRIBUTE_DESC Processor Price Processor Sales    Processor Inventories  ...   \n",
       "UNIT_DESC              $/Pound    1,000 Pounds             1,000 Pounds  ...   \n",
       "DATE                                                                     ...   \n",
       "1986-1                    2.73          1091.0                    381.0  ...   \n",
       "1986-10                   2.53          1438.0                    317.0  ...   \n",
       "1986-11                   2.52          1086.0                    364.0  ...   \n",
       "1986-12                   2.50          1036.0                    332.0  ...   \n",
       "1986-2                    2.66          1222.0                    279.0  ...   \n",
       "\n",
       "COMMODITY_DESC Catfish-Frozen Other Fish, Other  \\\n",
       "ATTRIBUTE_DESC                  Processor Sales   \n",
       "UNIT_DESC                          1,000 Pounds   \n",
       "DATE                                              \n",
       "1986-1                                      NaN   \n",
       "1986-10                                     NaN   \n",
       "1986-11                                     NaN   \n",
       "1986-12                                     NaN   \n",
       "1986-2                                      NaN   \n",
       "\n",
       "COMMODITY_DESC Catfish-Frozen Other Fish, Steaks                  \\\n",
       "ATTRIBUTE_DESC             Processor Inventories Processor Price   \n",
       "UNIT_DESC                           1,000 Pounds         $/Pound   \n",
       "DATE                                                               \n",
       "1986-1                                       NaN             NaN   \n",
       "1986-10                                      NaN             NaN   \n",
       "1986-11                                      NaN             NaN   \n",
       "1986-12                                      NaN             NaN   \n",
       "1986-2                                       NaN             NaN   \n",
       "\n",
       "COMMODITY_DESC                 Catfish-Frozen Whole Fish                  \\\n",
       "ATTRIBUTE_DESC Processor Sales     Processor Inventories Processor Price   \n",
       "UNIT_DESC         1,000 Pounds              1,000 Pounds         $/Pound   \n",
       "DATE                                                                       \n",
       "1986-1                     NaN                    1684.0            1.66   \n",
       "1986-10                    NaN                    1002.0            1.50   \n",
       "1986-11                    NaN                    1002.0            1.53   \n",
       "1986-12                    NaN                    1062.0            1.51   \n",
       "1986-2                     NaN                    1907.0            1.64   \n",
       "\n",
       "COMMODITY_DESC                 Catfish-Frozen Whole Fish Dressed  \\\n",
       "ATTRIBUTE_DESC Processor Sales             Processor Inventories   \n",
       "UNIT_DESC         1,000 Pounds                      1,000 Pounds   \n",
       "DATE                                                               \n",
       "1986-1                  1392.0                               NaN   \n",
       "1986-10                 1426.0                               NaN   \n",
       "1986-11                 1027.0                               NaN   \n",
       "1986-12                 1017.0                               NaN   \n",
       "1986-2                  1366.0                               NaN   \n",
       "\n",
       "COMMODITY_DESC                                  \n",
       "ATTRIBUTE_DESC Processor Price Processor Sales  \n",
       "UNIT_DESC              $/Pound    1,000 Pounds  \n",
       "DATE                                            \n",
       "1986-1                     NaN             NaN  \n",
       "1986-10                    NaN             NaN  \n",
       "1986-11                    NaN             NaN  \n",
       "1986-12                    NaN             NaN  \n",
       "1986-2                     NaN             NaN  \n",
       "\n",
       "[5 rows x 63 columns]"
      ]
     },
     "execution_count": 65,
     "metadata": {},
     "output_type": "execute_result"
    }
   ],
   "source": [
    "df.head()"
   ]
  },
  {
   "cell_type": "code",
   "execution_count": 66,
   "metadata": {},
   "outputs": [
    {
     "data": {
      "text/plain": [
       "(326, 63)"
      ]
     },
     "execution_count": 66,
     "metadata": {},
     "output_type": "execute_result"
    }
   ],
   "source": [
    "df.shape"
   ]
  },
  {
   "cell_type": "code",
   "execution_count": 67,
   "metadata": {},
   "outputs": [],
   "source": [
    "df=df.dropna(axis=1, how='all')"
   ]
  },
  {
   "cell_type": "code",
   "execution_count": 68,
   "metadata": {},
   "outputs": [
    {
     "data": {
      "text/plain": [
       "(326, 63)"
      ]
     },
     "execution_count": 68,
     "metadata": {},
     "output_type": "execute_result"
    }
   ],
   "source": [
    "df.shape"
   ]
  },
  {
   "cell_type": "code",
   "execution_count": 69,
   "metadata": {},
   "outputs": [],
   "source": [
    "df.to_csv(\"castfish_wide.csv\")"
   ]
  },
  {
   "cell_type": "code",
   "execution_count": 71,
   "metadata": {},
   "outputs": [],
   "source": [
    "df1=df.dropna(axis=1)"
   ]
  },
  {
   "cell_type": "code",
   "execution_count": 72,
   "metadata": {},
   "outputs": [
    {
     "data": {
      "text/plain": [
       "(326, 37)"
      ]
     },
     "execution_count": 72,
     "metadata": {},
     "output_type": "execute_result"
    }
   ],
   "source": [
    "df1.shape"
   ]
  },
  {
   "cell_type": "code",
   "execution_count": 73,
   "metadata": {},
   "outputs": [],
   "source": [
    "df1.to_csv(\"castfish_wide1.csv\")"
   ]
  },
  {
   "cell_type": "code",
   "execution_count": 74,
   "metadata": {},
   "outputs": [
    {
     "data": {
      "text/html": [
       "<div>\n",
       "<style scoped>\n",
       "    .dataframe tbody tr th:only-of-type {\n",
       "        vertical-align: middle;\n",
       "    }\n",
       "\n",
       "    .dataframe tbody tr th {\n",
       "        vertical-align: top;\n",
       "    }\n",
       "\n",
       "    .dataframe thead tr th {\n",
       "        text-align: left;\n",
       "    }\n",
       "\n",
       "    .dataframe thead tr:last-of-type th {\n",
       "        text-align: right;\n",
       "    }\n",
       "</style>\n",
       "<table border=\"1\" class=\"dataframe\">\n",
       "  <thead>\n",
       "    <tr>\n",
       "      <th>COMMODITY_DESC</th>\n",
       "      <th colspan=\"5\" halign=\"left\">Catfish</th>\n",
       "      <th colspan=\"3\" halign=\"left\">Catfish-Fresh Filleted Fish</th>\n",
       "      <th colspan=\"2\" halign=\"left\">Catfish-Fresh Fish Total</th>\n",
       "      <th>...</th>\n",
       "      <th>Catfish-Frozen Filleted Fish</th>\n",
       "      <th colspan=\"3\" halign=\"left\">Catfish-Frozen Fish Total</th>\n",
       "      <th colspan=\"3\" halign=\"left\">Catfish-Frozen Other Fish</th>\n",
       "      <th colspan=\"3\" halign=\"left\">Catfish-Frozen Whole Fish</th>\n",
       "    </tr>\n",
       "    <tr>\n",
       "      <th>ATTRIBUTE_DESC</th>\n",
       "      <th>Farm Price</th>\n",
       "      <th>Farm Sales to Processors</th>\n",
       "      <th>Processor Inventories</th>\n",
       "      <th>Processor Price</th>\n",
       "      <th>Processor Sales, All categories</th>\n",
       "      <th>Processor Inventories</th>\n",
       "      <th>Processor Price</th>\n",
       "      <th>Processor Sales</th>\n",
       "      <th>Processor Inventories</th>\n",
       "      <th>Processor Price</th>\n",
       "      <th>...</th>\n",
       "      <th>Processor Sales</th>\n",
       "      <th>Processor Inventories</th>\n",
       "      <th>Processor Price</th>\n",
       "      <th>Processor Sales</th>\n",
       "      <th>Processor Inventories</th>\n",
       "      <th>Processor Price</th>\n",
       "      <th>Processor Sales</th>\n",
       "      <th>Processor Inventories</th>\n",
       "      <th>Processor Price</th>\n",
       "      <th>Processor Sales</th>\n",
       "    </tr>\n",
       "    <tr>\n",
       "      <th>UNIT_DESC</th>\n",
       "      <th>Cents/Pound</th>\n",
       "      <th>1,000 Pounds</th>\n",
       "      <th>1,000 Pounds</th>\n",
       "      <th>Cents/Pound</th>\n",
       "      <th>1,000 Pounds</th>\n",
       "      <th>1,000 Pounds</th>\n",
       "      <th>$/Pound</th>\n",
       "      <th>1,000 Pounds</th>\n",
       "      <th>1,000 Pounds</th>\n",
       "      <th>$/Pound</th>\n",
       "      <th>...</th>\n",
       "      <th>1,000 Pounds</th>\n",
       "      <th>1,000 Pounds</th>\n",
       "      <th>$/Pound</th>\n",
       "      <th>1,000 Pounds</th>\n",
       "      <th>1,000 Pounds</th>\n",
       "      <th>$/Pound</th>\n",
       "      <th>1,000 Pounds</th>\n",
       "      <th>1,000 Pounds</th>\n",
       "      <th>$/Pound</th>\n",
       "      <th>1,000 Pounds</th>\n",
       "    </tr>\n",
       "    <tr>\n",
       "      <th>DATE</th>\n",
       "      <th></th>\n",
       "      <th></th>\n",
       "      <th></th>\n",
       "      <th></th>\n",
       "      <th></th>\n",
       "      <th></th>\n",
       "      <th></th>\n",
       "      <th></th>\n",
       "      <th></th>\n",
       "      <th></th>\n",
       "      <th></th>\n",
       "      <th></th>\n",
       "      <th></th>\n",
       "      <th></th>\n",
       "      <th></th>\n",
       "      <th></th>\n",
       "      <th></th>\n",
       "      <th></th>\n",
       "      <th></th>\n",
       "      <th></th>\n",
       "      <th></th>\n",
       "    </tr>\n",
       "  </thead>\n",
       "  <tbody>\n",
       "    <tr>\n",
       "      <th>1986-1</th>\n",
       "      <td>70.0</td>\n",
       "      <td>19761.0</td>\n",
       "      <td>5103.0</td>\n",
       "      <td>201.0</td>\n",
       "      <td>9034.0</td>\n",
       "      <td>143.0</td>\n",
       "      <td>2.73</td>\n",
       "      <td>1091.0</td>\n",
       "      <td>381.0</td>\n",
       "      <td>1.86</td>\n",
       "      <td>...</td>\n",
       "      <td>2212.0</td>\n",
       "      <td>4722.0</td>\n",
       "      <td>2.15</td>\n",
       "      <td>4670.0</td>\n",
       "      <td>963.0</td>\n",
       "      <td>1.85</td>\n",
       "      <td>1066.0</td>\n",
       "      <td>1684.0</td>\n",
       "      <td>1.66</td>\n",
       "      <td>1392.0</td>\n",
       "    </tr>\n",
       "    <tr>\n",
       "      <th>1986-10</th>\n",
       "      <td>62.0</td>\n",
       "      <td>20453.0</td>\n",
       "      <td>4021.0</td>\n",
       "      <td>185.5</td>\n",
       "      <td>10649.0</td>\n",
       "      <td>104.0</td>\n",
       "      <td>2.53</td>\n",
       "      <td>1438.0</td>\n",
       "      <td>317.0</td>\n",
       "      <td>1.72</td>\n",
       "      <td>...</td>\n",
       "      <td>2386.0</td>\n",
       "      <td>3704.0</td>\n",
       "      <td>1.99</td>\n",
       "      <td>5315.0</td>\n",
       "      <td>749.0</td>\n",
       "      <td>1.64</td>\n",
       "      <td>1503.0</td>\n",
       "      <td>1002.0</td>\n",
       "      <td>1.50</td>\n",
       "      <td>1426.0</td>\n",
       "    </tr>\n",
       "    <tr>\n",
       "      <th>1986-11</th>\n",
       "      <td>61.0</td>\n",
       "      <td>17107.0</td>\n",
       "      <td>4223.0</td>\n",
       "      <td>186.4</td>\n",
       "      <td>8917.0</td>\n",
       "      <td>108.0</td>\n",
       "      <td>2.52</td>\n",
       "      <td>1086.0</td>\n",
       "      <td>364.0</td>\n",
       "      <td>1.69</td>\n",
       "      <td>...</td>\n",
       "      <td>2272.0</td>\n",
       "      <td>3859.0</td>\n",
       "      <td>2.04</td>\n",
       "      <td>4433.0</td>\n",
       "      <td>879.0</td>\n",
       "      <td>1.71</td>\n",
       "      <td>1134.0</td>\n",
       "      <td>1002.0</td>\n",
       "      <td>1.53</td>\n",
       "      <td>1027.0</td>\n",
       "    </tr>\n",
       "    <tr>\n",
       "      <th>1986-12</th>\n",
       "      <td>61.0</td>\n",
       "      <td>15812.0</td>\n",
       "      <td>4147.0</td>\n",
       "      <td>185.2</td>\n",
       "      <td>8196.0</td>\n",
       "      <td>124.0</td>\n",
       "      <td>2.50</td>\n",
       "      <td>1036.0</td>\n",
       "      <td>332.0</td>\n",
       "      <td>1.68</td>\n",
       "      <td>...</td>\n",
       "      <td>1951.0</td>\n",
       "      <td>3815.0</td>\n",
       "      <td>2.03</td>\n",
       "      <td>4023.0</td>\n",
       "      <td>771.0</td>\n",
       "      <td>1.74</td>\n",
       "      <td>1055.0</td>\n",
       "      <td>1062.0</td>\n",
       "      <td>1.51</td>\n",
       "      <td>1017.0</td>\n",
       "    </tr>\n",
       "    <tr>\n",
       "      <th>1986-2</th>\n",
       "      <td>70.0</td>\n",
       "      <td>19083.0</td>\n",
       "      <td>5361.0</td>\n",
       "      <td>199.0</td>\n",
       "      <td>9596.0</td>\n",
       "      <td>94.0</td>\n",
       "      <td>2.66</td>\n",
       "      <td>1222.0</td>\n",
       "      <td>279.0</td>\n",
       "      <td>1.83</td>\n",
       "      <td>...</td>\n",
       "      <td>2245.0</td>\n",
       "      <td>5082.0</td>\n",
       "      <td>2.17</td>\n",
       "      <td>4513.0</td>\n",
       "      <td>638.0</td>\n",
       "      <td>1.85</td>\n",
       "      <td>902.0</td>\n",
       "      <td>1907.0</td>\n",
       "      <td>1.64</td>\n",
       "      <td>1366.0</td>\n",
       "    </tr>\n",
       "  </tbody>\n",
       "</table>\n",
       "<p>5 rows × 37 columns</p>\n",
       "</div>"
      ],
      "text/plain": [
       "COMMODITY_DESC     Catfish                                                 \\\n",
       "ATTRIBUTE_DESC  Farm Price Farm Sales to Processors Processor Inventories   \n",
       "UNIT_DESC      Cents/Pound             1,000 Pounds          1,000 Pounds   \n",
       "DATE                                                                        \n",
       "1986-1                70.0                  19761.0                5103.0   \n",
       "1986-10               62.0                  20453.0                4021.0   \n",
       "1986-11               61.0                  17107.0                4223.0   \n",
       "1986-12               61.0                  15812.0                4147.0   \n",
       "1986-2                70.0                  19083.0                5361.0   \n",
       "\n",
       "COMMODITY_DESC                                                  \\\n",
       "ATTRIBUTE_DESC Processor Price Processor Sales, All categories   \n",
       "UNIT_DESC          Cents/Pound                    1,000 Pounds   \n",
       "DATE                                                             \n",
       "1986-1                   201.0                          9034.0   \n",
       "1986-10                  185.5                         10649.0   \n",
       "1986-11                  186.4                          8917.0   \n",
       "1986-12                  185.2                          8196.0   \n",
       "1986-2                   199.0                          9596.0   \n",
       "\n",
       "COMMODITY_DESC Catfish-Fresh Filleted Fish                                  \\\n",
       "ATTRIBUTE_DESC       Processor Inventories Processor Price Processor Sales   \n",
       "UNIT_DESC                     1,000 Pounds         $/Pound    1,000 Pounds   \n",
       "DATE                                                                         \n",
       "1986-1                               143.0            2.73          1091.0   \n",
       "1986-10                              104.0            2.53          1438.0   \n",
       "1986-11                              108.0            2.52          1086.0   \n",
       "1986-12                              124.0            2.50          1036.0   \n",
       "1986-2                                94.0            2.66          1222.0   \n",
       "\n",
       "COMMODITY_DESC Catfish-Fresh Fish Total                  ...  \\\n",
       "ATTRIBUTE_DESC    Processor Inventories Processor Price  ...   \n",
       "UNIT_DESC                  1,000 Pounds         $/Pound  ...   \n",
       "DATE                                                     ...   \n",
       "1986-1                            381.0            1.86  ...   \n",
       "1986-10                           317.0            1.72  ...   \n",
       "1986-11                           364.0            1.69  ...   \n",
       "1986-12                           332.0            1.68  ...   \n",
       "1986-2                            279.0            1.83  ...   \n",
       "\n",
       "COMMODITY_DESC Catfish-Frozen Filleted Fish Catfish-Frozen Fish Total  \\\n",
       "ATTRIBUTE_DESC              Processor Sales     Processor Inventories   \n",
       "UNIT_DESC                      1,000 Pounds              1,000 Pounds   \n",
       "DATE                                                                    \n",
       "1986-1                               2212.0                    4722.0   \n",
       "1986-10                              2386.0                    3704.0   \n",
       "1986-11                              2272.0                    3859.0   \n",
       "1986-12                              1951.0                    3815.0   \n",
       "1986-2                               2245.0                    5082.0   \n",
       "\n",
       "COMMODITY_DESC                                 Catfish-Frozen Other Fish  \\\n",
       "ATTRIBUTE_DESC Processor Price Processor Sales     Processor Inventories   \n",
       "UNIT_DESC              $/Pound    1,000 Pounds              1,000 Pounds   \n",
       "DATE                                                                       \n",
       "1986-1                    2.15          4670.0                     963.0   \n",
       "1986-10                   1.99          5315.0                     749.0   \n",
       "1986-11                   2.04          4433.0                     879.0   \n",
       "1986-12                   2.03          4023.0                     771.0   \n",
       "1986-2                    2.17          4513.0                     638.0   \n",
       "\n",
       "COMMODITY_DESC                                 Catfish-Frozen Whole Fish  \\\n",
       "ATTRIBUTE_DESC Processor Price Processor Sales     Processor Inventories   \n",
       "UNIT_DESC              $/Pound    1,000 Pounds              1,000 Pounds   \n",
       "DATE                                                                       \n",
       "1986-1                    1.85          1066.0                    1684.0   \n",
       "1986-10                   1.64          1503.0                    1002.0   \n",
       "1986-11                   1.71          1134.0                    1002.0   \n",
       "1986-12                   1.74          1055.0                    1062.0   \n",
       "1986-2                    1.85           902.0                    1907.0   \n",
       "\n",
       "COMMODITY_DESC                                  \n",
       "ATTRIBUTE_DESC Processor Price Processor Sales  \n",
       "UNIT_DESC              $/Pound    1,000 Pounds  \n",
       "DATE                                            \n",
       "1986-1                    1.66          1392.0  \n",
       "1986-10                   1.50          1426.0  \n",
       "1986-11                   1.53          1027.0  \n",
       "1986-12                   1.51          1017.0  \n",
       "1986-2                    1.64          1366.0  \n",
       "\n",
       "[5 rows x 37 columns]"
      ]
     },
     "execution_count": 74,
     "metadata": {},
     "output_type": "execute_result"
    }
   ],
   "source": [
    "df1.head()"
   ]
  },
  {
   "cell_type": "code",
   "execution_count": 77,
   "metadata": {},
   "outputs": [
    {
     "data": {
      "text/plain": [
       "('Catfish', 'Farm Price', 'Cents/Pound')"
      ]
     },
     "execution_count": 77,
     "metadata": {},
     "output_type": "execute_result"
    }
   ],
   "source": [
    "df1.columns[0]"
   ]
  },
  {
   "cell_type": "code",
   "execution_count": 78,
   "metadata": {},
   "outputs": [
    {
     "data": {
      "text/plain": [
       "array(['Cents/Pound', '1,000 Pounds', '$/Pound'], dtype=object)"
      ]
     },
     "execution_count": 78,
     "metadata": {},
     "output_type": "execute_result"
    }
   ],
   "source": [
    "cf['UNIT_DESC'].unique()"
   ]
  },
  {
   "cell_type": "code",
   "execution_count": 80,
   "metadata": {},
   "outputs": [
    {
     "ename": "IndexError",
     "evalue": "too many indices for array",
     "output_type": "error",
     "traceback": [
      "\u001b[1;31m---------------------------------------------------------------------------\u001b[0m",
      "\u001b[1;31mIndexError\u001b[0m                                Traceback (most recent call last)",
      "\u001b[1;32m<ipython-input-80-10d8cbb29ba0>\u001b[0m in \u001b[0;36m<module>\u001b[1;34m\u001b[0m\n\u001b[1;32m----> 1\u001b[1;33m \u001b[0mdf2\u001b[0m\u001b[1;33m=\u001b[0m\u001b[0mdf1\u001b[0m\u001b[1;33m[\u001b[0m\u001b[0mdf1\u001b[0m\u001b[1;33m.\u001b[0m\u001b[0mcolumns\u001b[0m\u001b[1;33m[\u001b[0m\u001b[1;33m:\u001b[0m\u001b[1;33m,\u001b[0m\u001b[1;36m2\u001b[0m\u001b[1;33m]\u001b[0m\u001b[1;33m==\u001b[0m\u001b[1;34m'Cents/Pound'\u001b[0m\u001b[1;33m]\u001b[0m\u001b[1;33m\u001b[0m\u001b[1;33m\u001b[0m\u001b[0m\n\u001b[0m",
      "\u001b[1;32m~\\Anaconda3\\lib\\site-packages\\pandas\\core\\indexes\\multi.py\u001b[0m in \u001b[0;36m__getitem__\u001b[1;34m(self, key)\u001b[0m\n\u001b[0;32m   1948\u001b[0m                     \u001b[0mkey\u001b[0m \u001b[1;33m=\u001b[0m \u001b[0mnp\u001b[0m\u001b[1;33m.\u001b[0m\u001b[0masarray\u001b[0m\u001b[1;33m(\u001b[0m\u001b[0mkey\u001b[0m\u001b[1;33m)\u001b[0m\u001b[1;33m\u001b[0m\u001b[1;33m\u001b[0m\u001b[0m\n\u001b[0;32m   1949\u001b[0m \u001b[1;33m\u001b[0m\u001b[0m\n\u001b[1;32m-> 1950\u001b[1;33m             \u001b[0mnew_codes\u001b[0m \u001b[1;33m=\u001b[0m \u001b[1;33m[\u001b[0m\u001b[0mlevel_codes\u001b[0m\u001b[1;33m[\u001b[0m\u001b[0mkey\u001b[0m\u001b[1;33m]\u001b[0m \u001b[1;32mfor\u001b[0m \u001b[0mlevel_codes\u001b[0m \u001b[1;32min\u001b[0m \u001b[0mself\u001b[0m\u001b[1;33m.\u001b[0m\u001b[0mcodes\u001b[0m\u001b[1;33m]\u001b[0m\u001b[1;33m\u001b[0m\u001b[1;33m\u001b[0m\u001b[0m\n\u001b[0m\u001b[0;32m   1951\u001b[0m \u001b[1;33m\u001b[0m\u001b[0m\n\u001b[0;32m   1952\u001b[0m             return MultiIndex(\n",
      "\u001b[1;32m~\\Anaconda3\\lib\\site-packages\\pandas\\core\\indexes\\multi.py\u001b[0m in \u001b[0;36m<listcomp>\u001b[1;34m(.0)\u001b[0m\n\u001b[0;32m   1948\u001b[0m                     \u001b[0mkey\u001b[0m \u001b[1;33m=\u001b[0m \u001b[0mnp\u001b[0m\u001b[1;33m.\u001b[0m\u001b[0masarray\u001b[0m\u001b[1;33m(\u001b[0m\u001b[0mkey\u001b[0m\u001b[1;33m)\u001b[0m\u001b[1;33m\u001b[0m\u001b[1;33m\u001b[0m\u001b[0m\n\u001b[0;32m   1949\u001b[0m \u001b[1;33m\u001b[0m\u001b[0m\n\u001b[1;32m-> 1950\u001b[1;33m             \u001b[0mnew_codes\u001b[0m \u001b[1;33m=\u001b[0m \u001b[1;33m[\u001b[0m\u001b[0mlevel_codes\u001b[0m\u001b[1;33m[\u001b[0m\u001b[0mkey\u001b[0m\u001b[1;33m]\u001b[0m \u001b[1;32mfor\u001b[0m \u001b[0mlevel_codes\u001b[0m \u001b[1;32min\u001b[0m \u001b[0mself\u001b[0m\u001b[1;33m.\u001b[0m\u001b[0mcodes\u001b[0m\u001b[1;33m]\u001b[0m\u001b[1;33m\u001b[0m\u001b[1;33m\u001b[0m\u001b[0m\n\u001b[0m\u001b[0;32m   1951\u001b[0m \u001b[1;33m\u001b[0m\u001b[0m\n\u001b[0;32m   1952\u001b[0m             return MultiIndex(\n",
      "\u001b[1;31mIndexError\u001b[0m: too many indices for array"
     ]
    }
   ],
   "source": [
    "df2=df1[df1.columns[:,2]=='Cents/Pound']"
   ]
  },
  {
   "cell_type": "code",
   "execution_count": null,
   "metadata": {},
   "outputs": [],
   "source": []
  },
  {
   "cell_type": "code",
   "execution_count": null,
   "metadata": {},
   "outputs": [],
   "source": []
  },
  {
   "cell_type": "code",
   "execution_count": null,
   "metadata": {},
   "outputs": [],
   "source": []
  },
  {
   "cell_type": "code",
   "execution_count": 33,
   "metadata": {},
   "outputs": [],
   "source": [
    "list_1=cf['COMMODITY_DESC'].unique()"
   ]
  },
  {
   "cell_type": "code",
   "execution_count": 34,
   "metadata": {},
   "outputs": [],
   "source": [
    "list_2=cf['UNIT_DESC'].unique()"
   ]
  },
  {
   "cell_type": "code",
   "execution_count": 35,
   "metadata": {},
   "outputs": [],
   "source": [
    "list_3=cf['ATTRIBUTE_DESC'].unique()"
   ]
  },
  {
   "cell_type": "code",
   "execution_count": null,
   "metadata": {},
   "outputs": [],
   "source": []
  },
  {
   "cell_type": "code",
   "execution_count": 41,
   "metadata": {},
   "outputs": [
    {
     "ename": "AttributeError",
     "evalue": "'SeriesGroupBy' object has no attribute 'unstack'",
     "output_type": "error",
     "traceback": [
      "\u001b[1;31m---------------------------------------------------------------------------\u001b[0m",
      "\u001b[1;31mAttributeError\u001b[0m                            Traceback (most recent call last)",
      "\u001b[1;32m<ipython-input-41-c9b5a50c03bb>\u001b[0m in \u001b[0;36m<module>\u001b[1;34m\u001b[0m\n\u001b[1;32m----> 1\u001b[1;33m \u001b[0mdf\u001b[0m\u001b[1;33m=\u001b[0m\u001b[0mcf\u001b[0m\u001b[1;33m.\u001b[0m\u001b[0mgroupby\u001b[0m\u001b[1;33m(\u001b[0m\u001b[1;33m[\u001b[0m\u001b[1;34m'COMMODITY_DESC'\u001b[0m\u001b[1;33m,\u001b[0m\u001b[1;34m'ATTRIBUTE_DESC'\u001b[0m\u001b[1;33m,\u001b[0m\u001b[1;34m'UNIT_DESC'\u001b[0m\u001b[1;33m]\u001b[0m\u001b[1;33m)\u001b[0m\u001b[1;33m.\u001b[0m\u001b[0mAMOUNT\u001b[0m\u001b[1;33m.\u001b[0m\u001b[0munstack\u001b[0m\u001b[1;33m(\u001b[0m\u001b[1;33m)\u001b[0m\u001b[1;33m\u001b[0m\u001b[1;33m\u001b[0m\u001b[0m\n\u001b[0m",
      "\u001b[1;32m~\\Anaconda3\\lib\\site-packages\\pandas\\core\\groupby\\groupby.py\u001b[0m in \u001b[0;36m__getattr__\u001b[1;34m(self, attr)\u001b[0m\n\u001b[0;32m    578\u001b[0m \u001b[1;33m\u001b[0m\u001b[0m\n\u001b[0;32m    579\u001b[0m         raise AttributeError(\n\u001b[1;32m--> 580\u001b[1;33m             \u001b[1;34mf\"'{type(self).__name__}' object has no attribute '{attr}'\"\u001b[0m\u001b[1;33m\u001b[0m\u001b[1;33m\u001b[0m\u001b[0m\n\u001b[0m\u001b[0;32m    581\u001b[0m         )\n\u001b[0;32m    582\u001b[0m \u001b[1;33m\u001b[0m\u001b[0m\n",
      "\u001b[1;31mAttributeError\u001b[0m: 'SeriesGroupBy' object has no attribute 'unstack'"
     ]
    }
   ],
   "source": [
    "df=cf.groupby(['COMMODITY_DESC','ATTRIBUTE_DESC','UNIT_DESC']).AMOUNT.unstack()"
   ]
  },
  {
   "cell_type": "code",
   "execution_count": null,
   "metadata": {},
   "outputs": [],
   "source": []
  },
  {
   "cell_type": "code",
   "execution_count": null,
   "metadata": {},
   "outputs": [],
   "source": []
  },
  {
   "cell_type": "code",
   "execution_count": null,
   "metadata": {},
   "outputs": [],
   "source": []
  },
  {
   "cell_type": "code",
   "execution_count": 6,
   "metadata": {},
   "outputs": [],
   "source": [
    "cf_filter=cf[cf['COMMODITY_DESC']=='Catfish']"
   ]
  },
  {
   "cell_type": "code",
   "execution_count": 7,
   "metadata": {},
   "outputs": [
    {
     "data": {
      "text/html": [
       "<div>\n",
       "<style scoped>\n",
       "    .dataframe tbody tr th:only-of-type {\n",
       "        vertical-align: middle;\n",
       "    }\n",
       "\n",
       "    .dataframe tbody tr th {\n",
       "        vertical-align: top;\n",
       "    }\n",
       "\n",
       "    .dataframe thead th {\n",
       "        text-align: right;\n",
       "    }\n",
       "</style>\n",
       "<table border=\"1\" class=\"dataframe\">\n",
       "  <thead>\n",
       "    <tr style=\"text-align: right;\">\n",
       "      <th></th>\n",
       "      <th>SOURCE_ID</th>\n",
       "      <th>COMMODITY_DESC</th>\n",
       "      <th>GEOGRAPHY_CODE</th>\n",
       "      <th>GEOGRAPHY_DESC</th>\n",
       "      <th>ATTRIBUTE_DESC</th>\n",
       "      <th>UNIT_DESC</th>\n",
       "      <th>YEAR_ID</th>\n",
       "      <th>TIMEPERIOD_ID</th>\n",
       "      <th>AMOUNT</th>\n",
       "    </tr>\n",
       "  </thead>\n",
       "  <tbody>\n",
       "    <tr>\n",
       "      <th>0</th>\n",
       "      <td>101</td>\n",
       "      <td>Catfish</td>\n",
       "      <td>9000.0</td>\n",
       "      <td>United States of America</td>\n",
       "      <td>Farm Price</td>\n",
       "      <td>Cents/Pound</td>\n",
       "      <td>1986</td>\n",
       "      <td>1</td>\n",
       "      <td>70.0</td>\n",
       "    </tr>\n",
       "    <tr>\n",
       "      <th>1</th>\n",
       "      <td>101</td>\n",
       "      <td>Catfish</td>\n",
       "      <td>9000.0</td>\n",
       "      <td>United States of America</td>\n",
       "      <td>Farm Price</td>\n",
       "      <td>Cents/Pound</td>\n",
       "      <td>1986</td>\n",
       "      <td>2</td>\n",
       "      <td>70.0</td>\n",
       "    </tr>\n",
       "    <tr>\n",
       "      <th>2</th>\n",
       "      <td>101</td>\n",
       "      <td>Catfish</td>\n",
       "      <td>9000.0</td>\n",
       "      <td>United States of America</td>\n",
       "      <td>Farm Price</td>\n",
       "      <td>Cents/Pound</td>\n",
       "      <td>1986</td>\n",
       "      <td>3</td>\n",
       "      <td>72.0</td>\n",
       "    </tr>\n",
       "    <tr>\n",
       "      <th>3</th>\n",
       "      <td>101</td>\n",
       "      <td>Catfish</td>\n",
       "      <td>9000.0</td>\n",
       "      <td>United States of America</td>\n",
       "      <td>Farm Price</td>\n",
       "      <td>Cents/Pound</td>\n",
       "      <td>1986</td>\n",
       "      <td>4</td>\n",
       "      <td>74.0</td>\n",
       "    </tr>\n",
       "    <tr>\n",
       "      <th>4</th>\n",
       "      <td>101</td>\n",
       "      <td>Catfish</td>\n",
       "      <td>9000.0</td>\n",
       "      <td>United States of America</td>\n",
       "      <td>Farm Price</td>\n",
       "      <td>Cents/Pound</td>\n",
       "      <td>1986</td>\n",
       "      <td>5</td>\n",
       "      <td>72.0</td>\n",
       "    </tr>\n",
       "  </tbody>\n",
       "</table>\n",
       "</div>"
      ],
      "text/plain": [
       "   SOURCE_ID COMMODITY_DESC  GEOGRAPHY_CODE            GEOGRAPHY_DESC  \\\n",
       "0        101        Catfish          9000.0  United States of America   \n",
       "1        101        Catfish          9000.0  United States of America   \n",
       "2        101        Catfish          9000.0  United States of America   \n",
       "3        101        Catfish          9000.0  United States of America   \n",
       "4        101        Catfish          9000.0  United States of America   \n",
       "\n",
       "  ATTRIBUTE_DESC    UNIT_DESC  YEAR_ID  TIMEPERIOD_ID  AMOUNT  \n",
       "0     Farm Price  Cents/Pound     1986              1    70.0  \n",
       "1     Farm Price  Cents/Pound     1986              2    70.0  \n",
       "2     Farm Price  Cents/Pound     1986              3    72.0  \n",
       "3     Farm Price  Cents/Pound     1986              4    74.0  \n",
       "4     Farm Price  Cents/Pound     1986              5    72.0  "
      ]
     },
     "execution_count": 7,
     "metadata": {},
     "output_type": "execute_result"
    }
   ],
   "source": [
    "cf_filter.head()"
   ]
  },
  {
   "cell_type": "code",
   "execution_count": 8,
   "metadata": {},
   "outputs": [
    {
     "data": {
      "text/plain": [
       "array([9000.])"
      ]
     },
     "execution_count": 8,
     "metadata": {},
     "output_type": "execute_result"
    }
   ],
   "source": [
    "cf_filter['GEOGRAPHY_CODE'].unique()"
   ]
  },
  {
   "cell_type": "code",
   "execution_count": 9,
   "metadata": {},
   "outputs": [
    {
     "data": {
      "text/plain": [
       "array(['United States of America'], dtype=object)"
      ]
     },
     "execution_count": 9,
     "metadata": {},
     "output_type": "execute_result"
    }
   ],
   "source": [
    "cf_filter['GEOGRAPHY_DESC'].unique()"
   ]
  },
  {
   "cell_type": "code",
   "execution_count": 10,
   "metadata": {},
   "outputs": [
    {
     "data": {
      "text/plain": [
       "array(['Farm Price', 'Imports, QTY', 'Processor Price',\n",
       "       'Farm Sales to Processors', 'Processor Sales, All categories',\n",
       "       'Processor Inventories'], dtype=object)"
      ]
     },
     "execution_count": 10,
     "metadata": {},
     "output_type": "execute_result"
    }
   ],
   "source": [
    "cf_filter['ATTRIBUTE_DESC'].unique()"
   ]
  },
  {
   "cell_type": "code",
   "execution_count": 11,
   "metadata": {},
   "outputs": [],
   "source": [
    "cf1=cf_filter[cf_filter['ATTRIBUTE_DESC']=='Farm Price']"
   ]
  },
  {
   "cell_type": "code",
   "execution_count": 12,
   "metadata": {},
   "outputs": [
    {
     "data": {
      "text/html": [
       "<div>\n",
       "<style scoped>\n",
       "    .dataframe tbody tr th:only-of-type {\n",
       "        vertical-align: middle;\n",
       "    }\n",
       "\n",
       "    .dataframe tbody tr th {\n",
       "        vertical-align: top;\n",
       "    }\n",
       "\n",
       "    .dataframe thead th {\n",
       "        text-align: right;\n",
       "    }\n",
       "</style>\n",
       "<table border=\"1\" class=\"dataframe\">\n",
       "  <thead>\n",
       "    <tr style=\"text-align: right;\">\n",
       "      <th></th>\n",
       "      <th>SOURCE_ID</th>\n",
       "      <th>COMMODITY_DESC</th>\n",
       "      <th>GEOGRAPHY_CODE</th>\n",
       "      <th>GEOGRAPHY_DESC</th>\n",
       "      <th>ATTRIBUTE_DESC</th>\n",
       "      <th>UNIT_DESC</th>\n",
       "      <th>YEAR_ID</th>\n",
       "      <th>TIMEPERIOD_ID</th>\n",
       "      <th>AMOUNT</th>\n",
       "    </tr>\n",
       "  </thead>\n",
       "  <tbody>\n",
       "    <tr>\n",
       "      <th>0</th>\n",
       "      <td>101</td>\n",
       "      <td>Catfish</td>\n",
       "      <td>9000.0</td>\n",
       "      <td>United States of America</td>\n",
       "      <td>Farm Price</td>\n",
       "      <td>Cents/Pound</td>\n",
       "      <td>1986</td>\n",
       "      <td>1</td>\n",
       "      <td>70.0</td>\n",
       "    </tr>\n",
       "    <tr>\n",
       "      <th>1</th>\n",
       "      <td>101</td>\n",
       "      <td>Catfish</td>\n",
       "      <td>9000.0</td>\n",
       "      <td>United States of America</td>\n",
       "      <td>Farm Price</td>\n",
       "      <td>Cents/Pound</td>\n",
       "      <td>1986</td>\n",
       "      <td>2</td>\n",
       "      <td>70.0</td>\n",
       "    </tr>\n",
       "    <tr>\n",
       "      <th>2</th>\n",
       "      <td>101</td>\n",
       "      <td>Catfish</td>\n",
       "      <td>9000.0</td>\n",
       "      <td>United States of America</td>\n",
       "      <td>Farm Price</td>\n",
       "      <td>Cents/Pound</td>\n",
       "      <td>1986</td>\n",
       "      <td>3</td>\n",
       "      <td>72.0</td>\n",
       "    </tr>\n",
       "    <tr>\n",
       "      <th>3</th>\n",
       "      <td>101</td>\n",
       "      <td>Catfish</td>\n",
       "      <td>9000.0</td>\n",
       "      <td>United States of America</td>\n",
       "      <td>Farm Price</td>\n",
       "      <td>Cents/Pound</td>\n",
       "      <td>1986</td>\n",
       "      <td>4</td>\n",
       "      <td>74.0</td>\n",
       "    </tr>\n",
       "    <tr>\n",
       "      <th>4</th>\n",
       "      <td>101</td>\n",
       "      <td>Catfish</td>\n",
       "      <td>9000.0</td>\n",
       "      <td>United States of America</td>\n",
       "      <td>Farm Price</td>\n",
       "      <td>Cents/Pound</td>\n",
       "      <td>1986</td>\n",
       "      <td>5</td>\n",
       "      <td>72.0</td>\n",
       "    </tr>\n",
       "  </tbody>\n",
       "</table>\n",
       "</div>"
      ],
      "text/plain": [
       "   SOURCE_ID COMMODITY_DESC  GEOGRAPHY_CODE            GEOGRAPHY_DESC  \\\n",
       "0        101        Catfish          9000.0  United States of America   \n",
       "1        101        Catfish          9000.0  United States of America   \n",
       "2        101        Catfish          9000.0  United States of America   \n",
       "3        101        Catfish          9000.0  United States of America   \n",
       "4        101        Catfish          9000.0  United States of America   \n",
       "\n",
       "  ATTRIBUTE_DESC    UNIT_DESC  YEAR_ID  TIMEPERIOD_ID  AMOUNT  \n",
       "0     Farm Price  Cents/Pound     1986              1    70.0  \n",
       "1     Farm Price  Cents/Pound     1986              2    70.0  \n",
       "2     Farm Price  Cents/Pound     1986              3    72.0  \n",
       "3     Farm Price  Cents/Pound     1986              4    74.0  \n",
       "4     Farm Price  Cents/Pound     1986              5    72.0  "
      ]
     },
     "execution_count": 12,
     "metadata": {},
     "output_type": "execute_result"
    }
   ],
   "source": [
    "cf1.head()"
   ]
  },
  {
   "cell_type": "code",
   "execution_count": 13,
   "metadata": {},
   "outputs": [
    {
     "data": {
      "text/plain": [
       "(326, 9)"
      ]
     },
     "execution_count": 13,
     "metadata": {},
     "output_type": "execute_result"
    }
   ],
   "source": [
    "cf1.shape"
   ]
  },
  {
   "cell_type": "code",
   "execution_count": 17,
   "metadata": {},
   "outputs": [],
   "source": [
    "cf_g=cf.groupby(['COMMODITY_DESC','ATTRIBUTE_DESC'])"
   ]
  },
  {
   "cell_type": "code",
   "execution_count": 18,
   "metadata": {},
   "outputs": [],
   "source": [
    "list_name_g=[]\n",
    "list_df_g=[]\n",
    "for n, g in cf_g:\n",
    "    list_name_g.append(n)\n",
    "    list_df_g.append(g)"
   ]
  },
  {
   "cell_type": "code",
   "execution_count": 29,
   "metadata": {},
   "outputs": [
    {
     "data": {
      "text/plain": [
       "(326, 9)"
      ]
     },
     "execution_count": 29,
     "metadata": {},
     "output_type": "execute_result"
    }
   ],
   "source": [
    "i=10\n",
    "df=list_df_g[i]\n",
    "df.shape"
   ]
  },
  {
   "cell_type": "code",
   "execution_count": 30,
   "metadata": {},
   "outputs": [
    {
     "data": {
      "text/plain": [
       "77"
      ]
     },
     "execution_count": 30,
     "metadata": {},
     "output_type": "execute_result"
    }
   ],
   "source": [
    "len(list_df_g)"
   ]
  },
  {
   "cell_type": "code",
   "execution_count": null,
   "metadata": {},
   "outputs": [],
   "source": []
  }
 ],
 "metadata": {
  "kernelspec": {
   "display_name": "Python 3",
   "language": "python",
   "name": "python3"
  },
  "language_info": {
   "codemirror_mode": {
    "name": "ipython",
    "version": 3
   },
   "file_extension": ".py",
   "mimetype": "text/x-python",
   "name": "python",
   "nbconvert_exporter": "python",
   "pygments_lexer": "ipython3",
   "version": "3.8.8"
  }
 },
 "nbformat": 4,
 "nbformat_minor": 4
}
