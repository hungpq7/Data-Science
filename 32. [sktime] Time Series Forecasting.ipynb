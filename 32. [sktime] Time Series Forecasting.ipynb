{
 "cells": [
  {
   "cell_type": "markdown",
   "id": "ad426173-dbb6-46d8-bd1c-254e2dc48926",
   "metadata": {},
   "source": [
    "# 1. Approaches"
   ]
  },
  {
   "cell_type": "markdown",
   "id": "bbc831e9-d664-4137-84d9-6b9250db36ab",
   "metadata": {},
   "source": [
    "## 1.1. Univariate"
   ]
  },
  {
   "cell_type": "markdown",
   "id": "ca520d2f-8643-4e6a-a20b-c6d00543757b",
   "metadata": {},
   "source": [
    "## 1.2. Multivariate"
   ]
  },
  {
   "cell_type": "markdown",
   "id": "b762953a-0fb9-4b71-ba01-55980e3dfebc",
   "metadata": {},
   "source": [
    "## 1.3. Tabular"
   ]
  },
  {
   "cell_type": "markdown",
   "id": "03574477-faec-43ad-bd14-19ea22535508",
   "metadata": {},
   "source": [
    "## 1.4. Cross validation"
   ]
  },
  {
   "cell_type": "markdown",
   "id": "3fee5a50-4e8c-42f1-8167-1b16b81edba3",
   "metadata": {},
   "source": [
    "# 2. Statistical forecasting"
   ]
  },
  {
   "cell_type": "markdown",
   "id": "c14cfef2-3792-4f30-a3d2-4ef432e823c3",
   "metadata": {},
   "source": [
    "https://github.com/jxx123/fireTS"
   ]
  }
 ],
 "metadata": {
  "kernelspec": {
   "display_name": "Python 3",
   "language": "python",
   "name": "python3"
  },
  "language_info": {
   "codemirror_mode": {
    "name": "ipython",
    "version": 3
   },
   "file_extension": ".py",
   "mimetype": "text/x-python",
   "name": "python",
   "nbconvert_exporter": "python",
   "pygments_lexer": "ipython3",
   "version": "3.8.8"
  }
 },
 "nbformat": 4,
 "nbformat_minor": 5
}
