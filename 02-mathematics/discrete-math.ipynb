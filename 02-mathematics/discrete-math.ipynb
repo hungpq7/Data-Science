{
 "cells": [
  {
   "cell_type": "markdown",
   "metadata": {},
   "source": [
    "- [Textbook](https://faculty.ksu.edu.sa/sites/default/files/rosen_discrete_mathematics_and_its_applications_7th_edition.pdf)\n",
    "- [Python](https://colab.research.google.com/drive/1vGYrfTyTM2QF3bVeSj_UStaRKwkTFCCm#scrollTo=aSh0bpboPoVn)\n",
    "- [Calculator](https://www.desmos.com/scientific)"
   ]
  },
  {
   "cell_type": "markdown",
   "metadata": {},
   "source": [
    "## 1.1 - Propositional Logic\n",
    "- $\\neg$ negation\n",
    "- $\\land$ conjunction\n",
    "- $\\lor$ disjunction\n",
    "- $\\oplus$ exclusive or\n",
    "- $\\rightarrow$ condition\n",
    "- $\\leftrightarrow$ bi-condition\n",
    "\n",
    "|$x$|$y$|$x\\land y$|$x\\lor y$|$x\\oplus y$|$x\\rightarrow y$|$x\\leftrightarrow y$|\n",
    "|:-:|:-:|:--------:|:-------:|:---------:|:--------------:|:------------------:|\n",
    "|1  |1  |1         |1        |0          |1               |1                   |\n",
    "|1  |0  |0         |1        |1          |0               |0                   |\n",
    "|0  |1  |0         |1        |1          |1               |0                   |\n",
    "|0  |0  |0         |0        |0          |1               |1                   |."
   ]
  },
  {
   "cell_type": "markdown",
   "metadata": {},
   "source": [
    "***\n",
    "**32.** *Construct truth tables*\n",
    "\n",
    "a) $p \\rightarrow \\neg p$\\\n",
    "b) $p \\leftrightarrow \\neg p$\n",
    "\n",
    "|$p$|$\\neg p$|$p\\rightarrow\\neg p$|$p\\leftrightarrow\\neg p$|\n",
    "|:-:|:-:|:-:|:-:|\n",
    "|1|0|0|0|\n",
    "|0|1|1|0|\n",
    "\n",
    "c) $p \\oplus (p \\lor q)$\n",
    "\n",
    "|$p$|$q$|$p\\lor q$|$p\\oplus(p\\lor q)$|\n",
    "|:-:|:-:|:-:|:-:|\n",
    "|1|1|1|0|\n",
    "|1|0|1|0|\n",
    "|0|1|1|1|\n",
    "|0|0|0|0|\n",
    "\n",
    "d) $(p \\land q) \\rightarrow (p \\lor q)$\n",
    "\n",
    "|$p$|$q$|$p\\land q$|$p\\lor q$|$(p\\land q)\\rightarrow (p\\lor q)$|\n",
    "|:-:|:-:|:-:|:-:|:-:|\n",
    "|1|1|1|1|1|\n",
    "|1|0|0|1|1|\n",
    "|0|1|0|1|1|\n",
    "|0|0|0|0|1|\n",
    "\n",
    "e) $(q \\rightarrow \\neg p) \\leftrightarrow (p \\leftrightarrow q)$\n",
    "\n",
    "|$p$|$q$|$\\neg p$|$q\\rightarrow\\neg p$|$p\\leftrightarrow q$|$(q\\rightarrow\\neg p)\\oplus(p\\leftrightarrow q)$|\n",
    "|:-:|:-:|:-:|:-:|:-:|:-:|\n",
    "|1|1|0|0|1|1|\n",
    "|1|0|0|1|0|1|\n",
    "|0|1|1|1|0|1|\n",
    "|0|0|1|1|1|0|\n",
    "\n",
    "f) $(p \\leftrightarrow q) \\oplus (p \\leftrightarrow \\neg q)$\n",
    "\n",
    "|$p$|$q$|$\\neg q$|$p\\leftrightarrow q$|$p\\leftrightarrow\\neg q$|$(p\\leftrightarrow q)\\oplus(p\\leftrightarrow\\neg q)$|\n",
    "|:-:|:-:|:-:|:-:|:-:|:-:|\n",
    "|1|1|0|1|0|1|\n",
    "|1|0|1|0|1|1|\n",
    "|0|1|0|0|1|1|\n",
    "|0|0|1|1|0|1|"
   ]
  },
  {
   "cell_type": "markdown",
   "metadata": {},
   "source": [
    "***\n",
    "**33.** *Construct truth tables*\n",
    "\n",
    "a) $(p \\lor q) \\rightarrow (p \\oplus q)$\n",
    "\n",
    "b) $(p \\oplus q) \\rightarrow (p \\land q)$\n",
    "\n",
    "c) $(p \\lor q) \\oplus (p \\land q)$\n",
    "\n",
    "d) $(p \\leftrightarrow q) \\oplus (\\neg p \\leftrightarrow q)$\n",
    "\n",
    "e) $(p \\leftrightarrow q) \\oplus (\\neg p \\leftrightarrow \\neg r)$\n",
    "\n",
    "f) $(p \\oplus q) \\rightarrow (p \\oplus \\neg q)$"
   ]
  },
  {
   "cell_type": "markdown",
   "metadata": {},
   "source": [
    "***\n",
    "***48.** $p$ = \"This statement is false\" is not a statement because it is self-contradictory. In other words, its content and its value cannot be the same."
   ]
  },
  {
   "cell_type": "markdown",
   "metadata": {},
   "source": [
    "***\n",
    "***49.**\n",
    "*The $n^{th}$ statement in a list of 100 statements is \"Exactly $n$ of the statements in this list are false.\"`*\n",
    "\n",
    "*a) What conclusions can you draw from these statements?*\n",
    "\n",
    "100 statements are mutually exclusive $\\rightarrow$ number of true statements can only be 0 or 1.\\\n",
    "If the number of true statements is 0, then:\\\n",
    "$\\quad\\rightarrow$ there are $100$ false statements\\\n",
    "$\\quad\\rightarrow$ $p_{100}$ is true (conflict with its content)\\\n",
    "$\\quad\\rightarrow$ there are 1 true statement & 99 false statements\\\n",
    "$\\quad\\rightarrow$ $p_{99}$ is true, the rest are false\n",
    "\n",
    "*b) Answer part (a) if the $n^{th}$ statement is \"At least $n$ of the statements in this list are false.\"*\\\n",
    "*c) Answer part (b) assuming that the list contains 99 statements.*\n",
    "\n",
    "Denote $N$ the total number of statements is, $X$ the number of false statements. According to their contents, there are $X$ true statements from $p_1$ to $p_X$ $\\rightarrow$ there are $100-X$ false statements $\\rightarrow X=N-X \\rightarrow X=N/2$.\n",
    "- If $N=100$ then $X=50$.\n",
    "- If $N=99$ then $X$ does not exists."
   ]
  },
  {
   "cell_type": "markdown",
   "metadata": {},
   "source": [
    "## 1.2 - Applications of Propositional Logic"
   ]
  },
  {
   "cell_type": "markdown",
   "metadata": {},
   "source": [
    "***\n",
    "**33.**\n",
    "*Steve would like to determine the relative salaries of three coworkers using two facts. (1) if Fred is not the highest paid of the three, then Janice is. (2) if Janice is not the lowest paid, then Maggie is paid the most. Determine who is paid the most and who the least?*\n",
    "\n",
    "- Fact 1 $\\rightarrow$ Maggie is not #1\n",
    "- Fact 2 is a conditional statement + LHS is false $\\rightarrow$ fact 2 is true if only LHS is false $\\rightarrow$ Janice is #3.\n",
    "- Above inferences $\\rightarrow$ Maggie is #2 $\\rightarrow$ Fred is #1."
   ]
  },
  {
   "cell_type": "markdown",
   "metadata": {},
   "source": [
    "***\n",
    "**39.**\n",
    "*Freedonia has fifty senators. Each senator is either honest or corrupt. Suppose you know that (1) at least one of the Freedonian senators is honest and (2) given any two Freedonian senators, at least one is corrupt. Based on these facts, determine how many Freedonian senators are honest and how many are corrupt?*\n",
    "\n",
    "If there is a second honest senator then fact 2 is false. So, there can only exactly 1 honest senator, the rest are corrupt."
   ]
  },
  {
   "cell_type": "markdown",
   "metadata": {},
   "source": [
    "## 1.3 - Proposition Equivalances\n",
    "- $p\\land 1=p$\n",
    "- $p\\land 0=0$\n",
    "- $p\\lor 1=1$\n",
    "- $p\\lor 0=p$"
   ]
  },
  {
   "cell_type": "markdown",
   "metadata": {},
   "source": [
    "***\n",
    "**8.**\n",
    "*Use De Morgan’s laws to find the negation of each of the following statements.*\n",
    "- *Kwame will take a job in industry or go to graduate school.* $\\rightarrow$ Kwame will not take a job in industry and will not go to graduate school\n",
    "- *Yoshiko knows Java and calculus.* $\\rightarrow$ Yoshiko doesn't know Java or calculus\n",
    "- *James is young and strong.* $\\rightarrow$ James is not young or is not strong\n",
    "- *Rita will move to Oregon or Washington.* $\\rightarrow$ Rita will not move to Oregon and Washington"
   ]
  },
  {
   "cell_type": "markdown",
   "metadata": {},
   "source": [
    "***\n",
    "**30.**\n",
    "*Prove a compound statement is tautology*\n",
    "\n",
    "Variable|Bit|\n",
    ":-|:-|\n",
    "$p$                                               |$11110000$|\n",
    "$q$                                               |$11001100$|\n",
    "$r$                                               |$10101010$|\n",
    "$\\neg p$                                          |$00001111$|\n",
    "$(p\\lor q)$                                       |$11111100$|\n",
    "$(\\neg p\\lor r)\\equiv(p\\rightarrow r)$            |$10101111$|\n",
    "$(p\\lor q)\\land(\\neg p\\lor r)$                    |$10101100$|\n",
    "$(q\\lor r)$                                       |$11101110$|\n",
    "$(p\\lor q)\\land(\\neg p\\lor r)\\rightarrow(q\\lor r)$|$11111111$|"
   ]
  },
  {
   "cell_type": "markdown",
   "metadata": {},
   "source": [
    "***\n",
    "**42.**\n",
    "*Suppose that a truth table in n propositional variables is specified. Show that a compound proposition with this truth table can be formed by taking the disjunction of conjunctions of the variables or their negations, with one conjunction included for each combination of values for which the compound proposition is true. The resulting compound proposition is said to be in disjunctive normal form*"
   ]
  },
  {
   "cell_type": "markdown",
   "metadata": {},
   "source": [
    "## 1.4 - Predicates and Quantifiers"
   ]
  },
  {
   "cell_type": "markdown",
   "metadata": {},
   "source": [
    "***\n",
    "**46.** *Establish logical equivalences*\n",
    "- $(\\forall x \\, P(x)) \\lor A \\equiv \\forall x \\, (P(x) \\lor A)$\n",
    "- $(\\exists x \\, P(x)) \\lor A \\equiv \\exists x \\, (P(x) \\lor A)$\n",
    "\n",
    "If $A=1$ then both sides are $1$. If $A=0$ then both sides are $\\forall xP(x)$ (part a) or $\\exists xP(x)$ (part b)"
   ]
  },
  {
   "cell_type": "markdown",
   "metadata": {},
   "source": [
    "***\n",
    "**47.** *Establish logical equivalences*\n",
    "- $(\\forall x \\, P(x)) \\land A \\equiv \\forall x \\, (P(x) \\land A)$\n",
    "- $(\\exists x \\, P(x)) \\land A \\equiv \\exists x \\, (P(x) \\land A)$\n",
    "\n",
    "If $A=0$ then both sides are $0$. If $A=1$ then both sides are $\\forall xP(x)$ (part a) or $\\exists xP(x)$ (part b)"
   ]
  },
  {
   "cell_type": "markdown",
   "metadata": {},
   "source": [
    "***\n",
    "**48.** *Establish logical equivalences*\n",
    "- $\\forall x \\, (A \\to P(x)) \\equiv A \\to \\forall x \\, P(x)$\n",
    "- $\\exists x \\, (A \\to P(x)) \\equiv A \\to \\exists x \\, P(x)$"
   ]
  },
  {
   "cell_type": "markdown",
   "metadata": {},
   "source": [
    "***\n",
    "**49.** *Establish logical equivalences*\n",
    "\n",
    "a) $\\forall x \\, (P(x) \\to A) \\equiv \\exists x \\, P(x) \\to A$\n",
    "\n",
    "If $A=1$ then both side are $1$. Consider $A=0$, eg all squares < 0\n",
    "- If $P(x)=0$ for every $x$, eg $x^4<-7$\n",
    "    - $P(x)\\rightarrow A=1$, so LHS is $1$\n",
    "    - $\\exists xP(x)=0$, so RHS is $1$\n",
    "- If $P(x)=1$ for some $x$, let's say at $x=x_0$, eg $x<7$\n",
    "    - $P(x_0)\\rightarrow A=0$, so LHS is $0$ (there is 1 false case)\n",
    "    - $\\exists xP(x)=1$, so RHS is $0$\n",
    "\n",
    "b) $\\exists x \\, (P(x) \\to A) \\equiv \\forall x \\, P(x) \\to A$\n",
    "\n",
    "If $A=1$ then both side are $1$. Consider $A=0$, eg all squares < 0.\n",
    "- If $P(x)=0$ for some $x$, let's say at $x=x_0$, eg $x<7$\n",
    "    - $P(x_0)\\rightarrow A=1$, so LHS is $1$\n",
    "    - $\\forall xP(x)=0$, so RHS is $1$\n",
    "- If $P(x)=1$ for every $x$, eg $x^4\\geq0$\n",
    "    - $P(x)\\rightarrow A=0$, so LHS is $0$\n",
    "    - $\\forall xP(x)=1$, so RHS is $0$\n",
    "\n",
    "---"
   ]
  },
  {
   "cell_type": "markdown",
   "metadata": {},
   "source": [
    "## 1.5 - Nested Quantifiers"
   ]
  },
  {
   "cell_type": "markdown",
   "metadata": {},
   "source": [
    "***\n",
    "**47.**\n",
    "*Show that the two statements $\\neg \\exists x \\forall y P(x, y)$ and $\\forall x \\exists y \\neg P(x, y)$, where both quantifiers over the first variable in $P(x, y)$ have the same domain, and both quantifiers over the second variable in $P(x, y)$ have the same domain, are logically equivalent.*"
   ]
  },
  {
   "cell_type": "markdown",
   "metadata": {},
   "source": [
    "***\n",
    "***48.**\n",
    "*Show that $\\forall x P(x) \\lor \\forall x Q(x)$ and $\\forall x \\forall y (P(x) \\lor Q(y))$, where all quantifiers have the same nonempty domain, are logically equivalent. (The new variable $y$ is used to combine the quantifications correctly.)*"
   ]
  },
  {
   "cell_type": "markdown",
   "metadata": {},
   "source": [
    "***\n",
    "***49.**\n",
    "\n",
    "*a) Show that $\\forall x P(x) \\land \\exists x Q(x)$ is logically equivalent to $\\forall x \\exists y (P(x) \\land Q(y))$, where all quantifiers have the same nonempty domain.*\n",
    "\n",
    "*b) Show that $\\forall x P(x) \\lor \\exists x Q(x)$ is equivalent to $\\forall x \\exists y (P(x) \\lor Q(y))$, where all quantifiers have the same nonempty domain.*"
   ]
  },
  {
   "cell_type": "markdown",
   "metadata": {},
   "source": [
    "## 1.6 - Rules of Inference"
   ]
  },
  {
   "cell_type": "markdown",
   "metadata": {},
   "source": [
    "***\n",
    "**13.**\n",
    "*For each of these arguments, explain which rules of inference are used for each step.*\n",
    "\n",
    "*a) \"Doug, a student in this class, knows how to write programs in JAVA. Everyone who knows how to write programs in JAVA can get a high-paying job. Therefore, someone in this class can get a high-paying job.\"*\n",
    "\n",
    "*b) \"Somebody in this class enjoys whale watching. Every person who enjoys whale watching cares about ocean pollution. Therefore, there is a person in this class who cares about ocean pollution.\"*\n",
    "\n",
    "*c) \"Each of the 93 students in this class owns a personal computer. Everyone who owns a personal computer can use a word processing program. Therefore, Zeke, a student in this class, can use a word processing program.\"*\n",
    "\n",
    "*d) \"Everyone in New Jersey lives within 50 miles of the ocean. Someone in New Jersey has never seen the ocean. Therefore, someone who lives within 50 miles of the ocean has never seen the ocean.\"*\n"
   ]
  },
  {
   "cell_type": "markdown",
   "metadata": {},
   "source": [
    "***\n",
    "**19.**\n",
    "*Determine whether each of these arguments is valid. If an argument is correct, what rule of inference is being used? If it is not, what logical error occurs?*\n",
    "\n",
    "*a) If $n$ is a real number such that $n > 1$, then $n^2 > 1$. Suppose that $n^2 > 1$. Then $n > 1$.*\n",
    "\n",
    "*b) If $n$ is a real number with $n > 3$, then $n^2 > 9$. Suppose that $n^2 \\leq 9$. Then $n \\leq 3$.*\n",
    "\n",
    "*c) If $n$ is a real number with $n > 2$, then $n^2 > 4$. Suppose that $n \\leq 2$. Then $n^2 \\leq 4$.*\n"
   ]
  },
  {
   "cell_type": "markdown",
   "metadata": {},
   "source": [
    "## 1.7 - Intro to Proof"
   ]
  },
  {
   "cell_type": "markdown",
   "metadata": {},
   "source": [
    "***\n",
    "**21.**\n",
    "*Let $P(n)$ be the proposition \"If $a$ and $b$ are positive real numbers, then $(a + b)^n \\geq a^n + b^n$\". Prove that $P(1)$ is true. What kind of proof did you use?*"
   ]
  },
  {
   "cell_type": "markdown",
   "metadata": {},
   "source": [
    "## 1.8 - Proof methods"
   ]
  },
  {
   "cell_type": "markdown",
   "metadata": {},
   "source": [
    "***\n",
    "**12.**\n",
    "*Show that the product of two of the numbers $65^{1000} - 8^{2001} + 3^{177}$, $79^{1212} - 9^{2399} + 2^{2001}$, and $24^{4493} - 5^{8192} + 7^{1777}$ is nonnegative. Is your proof constructive or nonconstructive?*\n",
    "\n",
    "In any 3 numbers, if there are 2 or 3 positive numbers then their product is positive. If there are 0 or 1 positive numbers then there are 2 or 3 negative numbers, their product is also positive."
   ]
  },
  {
   "cell_type": "markdown",
   "metadata": {},
   "source": [
    "***\n",
    "**25.**\n",
    "*Write the numbers $1, 2, \\ldots, 2n$ on a blackboard, where $n$ is an odd integer. Pick any two of the numbers, $j$ and $k$, write $|j - k|$ on the board and erase $j$ and $k$. Continue this process until only one integer is written on the board. Prove that this integer must be odd.*\n",
    "\n",
    "At iteration $t=1,\\ldots,T$, let's say there are $O_t$ odd numbers, $E_t$ even numbers. First iteration: $O_0=E_0=2k+1$. Almost last iteration, $(O_{T-1},E_{T-1})$ can be $(1,1)$, $(0,2)$ or $(2,0)$\n",
    "\n",
    "When deleting 2 number and keep their differences, there can 3 cases:\n",
    "- 1 even 1 odd $\\to$ difference is odd $\\to$ $E_t$ reduces by 1\n",
    "- 2 evens $\\to$ difference is even $\\to$ $E_t$ reduces by 1\n",
    "- 2 odds $\\to$ difference is even $\\to$ $E_t$ increases by 1, $O_t$ reduces by 2\n",
    "\n",
    "We can observe that at any iteration, $O_t,E_t$ can only both odd or even-odd, never be both even. So $(O_{T-1},E_{T-1})=(1,1)$, then $(O_T,E_T)=(1,0)$"
   ]
  },
  {
   "cell_type": "markdown",
   "metadata": {},
   "source": [
    "## 5.1 - Mathematical Induction"
   ]
  },
  {
   "cell_type": "markdown",
   "metadata": {},
   "source": [
    "***\n",
    "**4.**\n",
    "*Prove:* $4(1^3+2^3+\\ldots+n^3)=n^2(n+1)^2$\n",
    "\n",
    "Basic step: $P(1)\\equiv 1=1$ is always True\n",
    "\n",
    "Induction step:\n",
    "- Assume being true: $P(n=k)\\equiv1^3+\\ldots+k^3=k^2(k+1)^2/4$\n",
    "- Prove: $P(n=k+1)\\equiv1^3+\\ldots+k^3+(k+1)^3=(k+1)^2(k+2)^2/4$\n",
    "\n",
    "$$\\begin{aligned}\n",
    "k^2(k+1)^2/4+(k+1)^3 &= (k+1)^2(k+2)^2/4 \\\\\n",
    "k^2+4(k+1) &= (k+2)^2 \\\\\n",
    "k^2+4k+4 &= (k+2)^2\n",
    "\\end{aligned}$$"
   ]
  },
  {
   "cell_type": "markdown",
   "metadata": {},
   "source": [
    "***\n",
    "**6.** *Prove for $n$ is a positive integer:*\n",
    "$1\\cdot 1!+2\\cdot 2!+\\ldots+n\\cdot n!=(n+1)!-1$\n",
    "\n",
    "Basic step: easily proved\n",
    "\n",
    "Induction step:\n",
    "- Assume being true: $P(k)\\equiv\\sum kk!=(k+1)!-1$\n",
    "- Prove: $P(k+1)\\equiv\\sum (k+1)(k+1)!=(k+2)!-1$\n",
    "\n",
    "$$\\begin{aligned}\n",
    "(k+1)!-1+(k+1)(k+1)! &= (k+2)!-1 \\\\\n",
    "(k+1)(k+1)! &= (k+2)!-(k+1)! \\\\\n",
    "(k+1)(k+1)! &= (k+2)(k+1)!-(k+1)! \\\\\n",
    "(k+1)(k+1)! &= (k+1)(k+1)! \\\\\n",
    "\\end{aligned}$$"
   ]
  },
  {
   "cell_type": "markdown",
   "metadata": {},
   "source": [
    "***\n",
    "***25.** *For all non-negative integers $n$, if $h>-1$ prove*\n",
    "$(1+h)^n\\geq1+nh$\n",
    "\n",
    "Basic step: obvious\n",
    "\n",
    "Induction step:\n",
    "- assume being true: $(1+h)^k\\geq1+kh$\n",
    "- prove: $(1+h)^{k+1}\\geq1+(k+1)h$\n",
    "\n",
    "$(1+h)^{k+1}=(1+h)(1+h)^k\\geq(1+h)(1+kh)=1+(k+1)h+kh^2\\geq1+(k+1)h$"
   ]
  },
  {
   "cell_type": "markdown",
   "metadata": {},
   "source": [
    "***\n",
    "****63.** Prove the AM-GM inequality\n",
    "\n",
    "$\\displaystyle{P(n)=\\frac{1}{n}\\sum_{1}^{n}} \\geq \\sqrt[n]{\\prod_{1}^{n}}$\n",
    "\n",
    "Basic: obvious $P(2)=\\text{True}$\n",
    "\n",
    "Induction 1: $P(k)=\\text{True}\\rightarrow P(2k)=\\text{True}$\n",
    "\n",
    "$\\displaystyle{\n",
    "\\text{LHS}\n",
    "=\\frac{1}{2k}\\sum_{1}^{2k}\n",
    "=\\frac{1}{2}\\left( \\frac{1}{k}\\sum_{1}^{k} + \\frac{1}{k}\\sum_{k+1}^{2k} \\right)\n",
    "\\geq \\frac{1}{2} \\left( \\sqrt[k]{\\prod_{1}^{k}} + \\sqrt[k]{\\prod_{k+1}^{2k}} \\right)\n",
    "\\geq \\sqrt[2k]{\\prod_{1}^{k} \\prod_{k+1}^{2k}}\n",
    "=\\sqrt[2k]{\\prod_{1}^{2k}}\n",
    "=\\text{RHS}\n",
    "}$"
   ]
  },
  {
   "cell_type": "markdown",
   "metadata": {},
   "source": [
    "$\\displaystyle{\n",
    "\\frac{1}{k-1}\\sum_{1}^{k-1}\n",
    "=\\frac{k}{k-1}\\frac{1}{k}\\sum_{1}^{k}-\\frac{x_k}{k-1}\n",
    "\\geq \\frac{k}{k-1}\\sqrt[k]{\\prod_{1}^{k}}\n",
    "}$"
   ]
  },
  {
   "cell_type": "markdown",
   "metadata": {},
   "source": [
    "## 6.1 - The Basics of Counting"
   ]
  },
  {
   "cell_type": "markdown",
   "metadata": {},
   "source": [
    "***\n",
    "**1.**\n",
    "*There are 18 mathematics majors and 325 computer science majors at a college.*\n",
    "- *In how many ways can two representative be picked so that one is a mathematics major and the other is a computer science major?** $18*325=5850$\n",
    "- *In how many ways can one representative be picked who is either a mathematics major or a computer science major?* $18+325=343$"
   ]
  },
  {
   "cell_type": "markdown",
   "metadata": {},
   "source": [
    "***\n",
    "**17.**\n",
    "*How many strings of five ASCII characters contain the character @ (\"at\" sign) at least once? (Note: There are 128 different ASCII characters).*\n",
    "\n",
    "- Number of strings of length 5: $128^5$\n",
    "- Number of strings of length 5 without @: $127^5$\n",
    "- Answer = $128^5-127^5=1321368961$"
   ]
  },
  {
   "cell_type": "markdown",
   "metadata": {},
   "source": [
    "***\n",
    "**18.**\n",
    "*How many 5-element DNA sequences*\n",
    "- *end with A?* `****A` $\\rightarrow4^4=256$\n",
    "- *start with T and end with G?* `T***G` $\\rightarrow4^3=64$\n",
    "- *contain only A and T?* $2^5=32$\n",
    "- *do not contain C?* $3^5=243$"
   ]
  },
  {
   "cell_type": "markdown",
   "metadata": {},
   "source": [
    "***\n",
    "**19.**\n",
    "*How many 6-element RNA sequences*\n",
    "- *do not contain U?* $3^6=729$\n",
    "- *end with GU?* `****GU` $\\rightarrow4^4=256$\n",
    "- *start with C?* `C*****` $\\rightarrow4^5=1024$\n",
    "- *contain only A or U?* $2^6=64$"
   ]
  },
  {
   "cell_type": "markdown",
   "metadata": {},
   "source": [
    "***\n",
    "**24.** *How many positive integers between 1000 and 9999 inclusive*\n",
    "\n",
    "a)\n",
    "- *are divisible by 9?* $(9999-1008)/9+1=1000$\n",
    "- are even? $(9998-1000)/2+1=4500$ or $9\\cdot10\\cdot10\\cdot5=4500$\n",
    "- have distinct digits? $9\\cdot8\\cdot8\\cdot7=4536$ (must go left-to-right, the other direction causes cases)\n",
    "- are not divisible by 3? $(9999-1000)-(9999-1002)/3=6000$\n",
    "\n",
    "b)\n",
    "- are divisible by 5? $(9995-1000)/5+1=1800$\n",
    "- are divisible by 7? $(9996-1001)/7+1=1286$\n",
    "- are divisible by 5 and 7? $(9975-1015)/35+1=257$\n",
    "- are divisible by 5 or 7? $1800+1286-257=2829$\n",
    "- are not divisible by either 5 or 7? $9000-2829=6171$\n",
    "- are divisible by 5 but not by 7? $1800-257=1543$"
   ]
  },
  {
   "cell_type": "markdown",
   "metadata": {},
   "source": [
    "***\n",
    "***50.**\n",
    "*How many bit strings of length 10 contain either five consecutive 0s or five consecutive 1s?*\n",
    "\n",
    "Consider where the first `1` of the consecutive sequence starts\n",
    "\n",
    "- Start at position 1: `11111xxxxx` $\\to$ $2^5=32$ possibilities\n",
    "- Start at position 2: `011111xxxx` $\\to$ $2^4=16$ possibilities\n",
    "- Start at position 3: `x011111xxx` $\\to$ $2^4=16$ possibilities\n",
    "- Start at position 4: `xx011111xx` $\\to$ $2^4=16$ possibilities\n",
    "- Start at position 5: `xxx011111x` $\\to$ $2^4=16$ possibilities\n",
    "- Start at position 6: `xxxx011111` $\\to$ $2^4=16$ possibilities\n",
    "\n",
    "So there are $32+16\\cdot5=112$ strings contains `11111`, the same for number of strings containing `00000`.\\\n",
    "There are 2 strings contains both, so final result is $112\\cdot2-2=222$"
   ]
  },
  {
   "cell_type": "markdown",
   "metadata": {},
   "source": [
    "## 6.2 - The Pigeonhole Principle"
   ]
  },
  {
   "cell_type": "markdown",
   "metadata": {},
   "source": [
    "***\n",
    "**3.**\n",
    "*A drawer contains a dozen brown socks and a dozen black socks, all unmatched. A man takes socks out at random in the dark. How many socks must he take out to be sure that:*\n",
    "- *at least two socks of the same color?* - Worst case: 1 black 1 brown $\\to$ need one more $\\to$ total 3 socks\n",
    "- *at least two black socks?* - Worst case: 12 brown 1 black $\\to$ need one more $\\to$ total 14 socks"
   ]
  },
  {
   "cell_type": "markdown",
   "metadata": {},
   "source": [
    "***\n",
    "**11.**\n",
    "*Let $(x_i, y_i, z_i), i = 1, 2, 3, 4, 5, 6, 7, 8, 9,$ be a set of nine distinct points with integer coordinates in $xyz$ space. Show that the midpoint of at least one pair of these points has integer coordinates.*\n",
    "\n",
    "Mid point of $P_i$ and $P_j$ has integer coordinates if only $(x_i,x_j)$, $(y_i,y_j)$, $(z_i,z_j)$ all 3 pairs must have the same parity. Each pair has 2 possibilities: same parity or different parity. So 3 pairs have $2^3=8$ possibilities. There are 9 points, so there must be at least $\\lceil 9/8 \\rceil=2$ points having all 3 pair of coordinates sharing the same parity."
   ]
  },
  {
   "cell_type": "markdown",
   "metadata": {},
   "source": [
    "***\n",
    "**12.**\n",
    "*How many ordered pairs of integers $(a, b)$ are needed to guarantee that there are two ordered pairs $(a_1, b_1)$ and $(a_2, b_2)$ such that $a_1 \\mod 5 = a_2 \\mod 5$ and $b_1 \\mod 5 = b_2 \\mod 5$?*\n",
    "\n",
    "Every integer when dividing by 5 can have 5 possibilities $\\to$ a pair of integers have $5^2=25$ possibilities. So we need at least $26$ pairs."
   ]
  },
  {
   "cell_type": "markdown",
   "metadata": {},
   "source": [
    "***\n",
    "**18.**\n",
    "*Suppose that there are 9 students in a discrete mathematics class at a small college.*\n",
    "- *Show that the class must have at least 5 male students or at least 5 female students.*\n",
    "- *Show that the class must have at least 3 male students or at least 7 female students.*\n",
    "\n",
    "Assume num of males $<m$ and num of females $<n$ ($m+n=10$)\\\n",
    "$\\to$ num of males $\\leq m-1$ and num of females $\\leq n-1$ \\\n",
    "$\\to$ total students $\\leq m-1+n-1=8$"
   ]
  },
  {
   "cell_type": "markdown",
   "metadata": {},
   "source": [
    "***\n",
    "**39.**\n",
    "*Find the least number of cables required to connect 100 computers to 20 printers to guarantee that every subset of 20 computers can directly access 20 different printers. (Here, the assumptions about cables and computers are the same as in Example 9.) Justify your answer.*"
   ]
  },
  {
   "cell_type": "markdown",
   "metadata": {},
   "source": [
    "## 6.3 - Permutation and Combination"
   ]
  },
  {
   "cell_type": "markdown",
   "metadata": {},
   "source": [
    "***\n",
    "**12.**\n",
    "*How many bit strings of length 12 contain*\n",
    "- *exactly three 1s?* $C(12,3)=220$\n",
    "- *at most three 1s?* $C(12,0)+C(12,1)+C(12,2)+C(12,3)=299$\n",
    "- *at least three 1s?* $2^{12}-299+220=4017$\n",
    "- *an equal number of 0s and 1s?* $C(12,6)=926$"
   ]
  },
  {
   "cell_type": "markdown",
   "metadata": {},
   "source": [
    "***\n",
    "**16.**\n",
    "*How many subsets with an odd number of elements does a set with 10 elements have?*\n",
    "\n",
    "$C(10,1)+C(10,3)+C(10,5)+C(10,7)+C(10,9)=512$"
   ]
  },
  {
   "cell_type": "markdown",
   "metadata": {},
   "source": [
    "***\n",
    "**18.**\n",
    "*A coin is flipped eight times where each flip comes up either heads or tails. How many possible outcomes*\n",
    "- *are there in total?* $2^8=256$\n",
    "- *contain exactly three heads?* $C(8,3)=56$\n",
    "- *contain at least three heads?* $256-C(8,0)-C(8,1)-C(8,2)=219$\n",
    "- *contain the same number of heads and tails?* $C(8,4)=70$"
   ]
  },
  {
   "cell_type": "markdown",
   "metadata": {},
   "source": [
    "***\n",
    "**22.**\n",
    "*How many permutations of the letters ABCDEFGH contain*\n",
    "- *the string ED?* $(8-2+1)!=7!=5040$\n",
    "- *the string CDE?* $(8-3+1)!=6!=720$\n",
    "- *the strings BA and FGH?* $(8-5+2)!=5!=120$\n",
    "- *the strings AB, DE, and GH?* $(8-6+3)!=5!=120$\n",
    "- *the strings CAB and BED?* $(8-6+2)!=4!=24$\n",
    "- *the strings BCA and ABF?* $0$"
   ]
  },
  {
   "cell_type": "markdown",
   "metadata": {},
   "source": [
    "***\n",
    "**28.**\n",
    "*A professor writes 40 discrete mathematics true/false questions. Of the statements in these questions, 17 are true. If the questions can be positioned in any order, how many different answer keys are possible?*\n",
    "\n",
    "$C(40,17)$"
   ]
  },
  {
   "cell_type": "markdown",
   "metadata": {},
   "source": [
    "***\n",
    "***29.**\n",
    "*How many 4-permutations of the positive integers not exceeding 100 contain three consecutive integers $k, k + 1, k + 2$, in the correct order*\n",
    "\n",
    "*b) where they are in consecutive positions in the permutation?*\n",
    "- $(k,k+1,k+2,x)$ and $k=1,\\ldots,98$. For each $k$ there can be $97$ possibilities of $x$ $\\to97\\times98$.\n",
    "- $(x,k,k+1,k+2)$ we should excludes 4 consecutives as they have already been in the first calculation. So $x\\neq k-1$, which cannot happens for $k=1$. So $97$ possibilities of $x$ when $k=1$ and $96$ possibilities of $x$ when $k=2,\\ldots,98$ $\\to97+96\\times 97=97^2$\n",
    "- Total: $97\\times 98+97^2=97\\times 195=18,915$\n",
    "\n",
    "*a) where these consecutive integers can perhaps be separated by other integers in the permutation?*\n",
    "- $(k,x,k+1,k+2)$. There are $98$ values of $k$ and $97$ values of $x$ $\\to 97\\cdot98$\n",
    "- $(k,k+1,x,k+2)$. Same $x$ $\\to 97\\times98$\n",
    "- Total: $18,915+97\\times98\\times2=37,927$"
   ]
  },
  {
   "cell_type": "markdown",
   "metadata": {},
   "source": [
    "## 6.4 - Binomial Coefficients and Identity"
   ]
  },
  {
   "cell_type": "markdown",
   "metadata": {},
   "source": [
    "***\n",
    "**10.**\n",
    "*Give a formula for the coefficient of $x^k$ in the expansion of $\\left(x + \\frac{1}{x}\\right)^{100}$, where $k$ is an integer.*\n",
    "\n",
    "$\\displaystyle{\n",
    "    \\left( x+x^{-1} \\right)^{100}\n",
    "    = \\sum_{i=1}^{100}{ C_i^{100} x^{i}x^{-(100-i)} }\n",
    "    = \\sum_{i=1}^{100}{ C_i^{100} x^{2i-100} }\n",
    "}$\n",
    "\n",
    "- Assume $k=2i-100$. Note that $1\\leq i \\leq 100$.\n",
    "- So for $k=-100,-98,\\ldots,98,100$, coefficient of $x^k$ is $C_i^{100}=C_{k/2+50}^{100}$\n",
    "- For $k>100$ or $k<-100$ or $k$ is an odd number, $x^k$ does not appear in the expansion, therefore its coefficient is $0$"
   ]
  },
  {
   "cell_type": "markdown",
   "metadata": {},
   "source": [
    "***\n",
    "***11.**\n",
    "*Give a formula for the coefficient of $x^k$ in the expansion of $\\left(x^2 - \\frac{1}{x}\\right)^{100}$, where $k$ is an integer.*\n",
    "\n",
    "$\\displaystyle{\n",
    "    (x^2-x^{-1})^{100}\n",
    "    = \\sum_{i=1}^{100}{ -(-1)^i C_i^{100}x^{2i}x^{-(100-i)} }\n",
    "    = \\sum_{i=1}^{100}{ -(-1)^i C_i^{100}x^{3i-100}} \n",
    "}$"
   ]
  },
  {
   "cell_type": "markdown",
   "metadata": {},
   "source": [
    "- Assume $k=3i-100$, not that $1\\leq i \\leq 100$\n",
    "- So, for $k=-97,-94,\\ldots,197,200$, coefficient of $x^k$ is $-(-1)^i C_i^{100} = -(-1)^{(k+100)/3} C_{(k+100)/3}^{100}$\n",
    "- Otherwise, coeficient is $0$"
   ]
  },
  {
   "cell_type": "markdown",
   "metadata": {},
   "source": [
    "***\n",
    "**12.**\n",
    "*Use Pascal’s identity to produce the row immediately following this row in Pascal’s triangle. The row of Pascal’s triangle containing the binomial coefficients $\\binom{10}{k}, 0 \\leq k \\leq 10$, is:*\n",
    "\n",
    "$$1 \\quad 10 \\quad 45 \\quad 120 \\quad 210 \\quad 252 \\quad 210 \\quad 120 \\quad 45 \\quad 10 \\quad 1$$\n",
    "$$1 \\quad 11 \\quad 55 \\quad 165 \\quad 330 \\quad 462 \\quad 462 \\quad 330 \\quad 165 \\quad 55 \\quad 11 \\quad 1$$"
   ]
  },
  {
   "cell_type": "markdown",
   "metadata": {},
   "source": [
    "***\n",
    "**16.**\n",
    "\n",
    "*a) Use Exercise 14 and Corollary 1 to show that if $n$ is an integer greater than 1, then $\\binom{n}{\\lfloor n/2 \\rfloor} \\geq 2^n/n$.*\n",
    "\n",
    "*b) Conclude from part (a) that if $n$ is a positive integer, then $\\binom{2n}{n} \\geq 4^n/2n$.*"
   ]
  },
  {
   "cell_type": "markdown",
   "metadata": {},
   "source": [
    "***\n",
    "***27.**\n",
    "*Prove the hockeystick identity whenever $n$ and $r$ are positive integers*\n",
    "$$\n",
    "\\sum_{k=0}^{r} \\binom{n + k}{k} = \\binom{n + r + 1}{r}\n",
    "$$\n",
    "- *using a combinatorial argument.*\n",
    "- *using Pascal’s identity.*"
   ]
  },
  {
   "cell_type": "markdown",
   "metadata": {},
   "source": [
    "***\n",
    "**33.**\n",
    "*In this exercise we will count the number of paths in the $xy$ plane between the origin $(0, 0)$ and point $(m, n)$, where $m$ and $n$ are nonnegative integers, such that each path is made up of a series of steps, where each step is a move one unit to the right or a move one unit upward. (No moves to the left or downward are allowed.) Two such paths from $(0, 0)$ to $(5, 3)$ are illustrated here.*\n",
    "\n",
    "*a) Show that each path of the type described can be represented by a bit string consisting of $m$ 0s and $n$ 1s, where a 0 represents a move one unit to the right and a 1 represents a move one unit upward.*\n",
    "\n",
    "*b) Conclude from part (a) that there are $\\binom{m+n}{n}$ paths of the desired type.*"
   ]
  },
  {
   "attachments": {
    "image.png": {
     "image/png": "[encoded data removed]"
    }
   },
   "cell_type": "markdown",
   "metadata": {},
   "source": [
    "![image.png](attachment:image.png)"
   ]
  }
 ],
 "metadata": {
  "language_info": {
   "name": "python"
  }
 },
 "nbformat": 4,
 "nbformat_minor": 2
}
