{
 "cells": [
  {
   "cell_type": "markdown",
   "metadata": {},
   "source": [
    "- $\\neg$ negation\n",
    "- $\\land$ conjunction\n",
    "- $\\lor$ disjunction\n",
    "- $\\oplus$ exclusive or\n",
    "- $\\rightarrow$ condition\n",
    "- $\\leftrightarrow$ bi-condition\n",
    "\n",
    "|$x$|$y$|$x\\land y$|$x\\lor y$|$x\\oplus y$|$x\\rightarrow y$|$x\\leftrightarrow y$|\n",
    "|:-:|:-:|:--------:|:-------:|:---------:|:--------------:|:------------------:|\n",
    "|1  |1  |1         |1        |0          |1               |1                   |\n",
    "|1  |0  |0         |1        |1          |0               |0                   |\n",
    "|0  |1  |0         |1        |1          |1               |0                   |\n",
    "|0  |0  |0         |0        |0          |1               |1                   |"
   ]
  },
  {
   "cell_type": "markdown",
   "metadata": {
    "vscode": {
     "languageId": "plaintext"
    }
   },
   "source": [
    "## Chapter 1.1 - Propositional Logic "
   ]
  },
  {
   "cell_type": "markdown",
   "metadata": {},
   "source": [
    "#### 1-1-32-ab\n",
    "|$p$|$\\neg p$|$p\\rightarrow\\neg p$|$p\\leftrightarrow\\neg p$|\n",
    "|:-:|:-:|:-:|:-:|\n",
    "|1|0|0|0\n",
    "|0|1|1|0"
   ]
  },
  {
   "cell_type": "markdown",
   "metadata": {},
   "source": [
    "#### 1-1-32-c\n",
    "|$p$|$q$|$p\\lor q$|$p\\oplus(p\\lor q)$|\n",
    "|:-:|:-:|:-:|:-:|\n",
    "|1|1|1|0\n",
    "|1|0|1|0\n",
    "|0|1|1|1\n",
    "|0|0|0|0"
   ]
  },
  {
   "cell_type": "markdown",
   "metadata": {},
   "source": [
    "#### 1-1-32-d\n",
    "|$p$|$q$|$p\\land q$|$p\\lor q$|$(p\\land q)\\rightarrow (p\\lor q)$|\n",
    "|:-:|:-:|:-:|:-:|:-:|\n",
    "|1|1|1|1|1\n",
    "|1|0|0|1|1\n",
    "|0|1|0|1|1\n",
    "|0|0|0|0|1"
   ]
  },
  {
   "cell_type": "markdown",
   "metadata": {},
   "source": [
    "#### 1-1-32-e\n",
    "|$p$|$q$|$\\neg p$|$q\\rightarrow\\neg p$|$p\\leftrightarrow q$|$(q\\rightarrow\\neg p)\\oplus(p\\leftrightarrow q)$\n",
    "|:-:|:-:|:-:|:-:|:-:|:-:|\n",
    "|1|1|0|0|1|1|\n",
    "|1|0|0|1|0|1|\n",
    "|0|1|1|1|0|1|\n",
    "|0|0|1|1|1|0|"
   ]
  },
  {
   "cell_type": "markdown",
   "metadata": {},
   "source": [
    "#### 1-1-32-f\n",
    "|$p$|$q$|$\\neg q$|$p\\leftrightarrow q$|$p\\leftrightarrow\\neg q$|$(p\\leftrightarrow q)\\oplus(p\\leftrightarrow\\neg q)$|\n",
    "|:-:|:-:|:-:|:-:|:-:|:-:|\n",
    "|1|1|0|1|0|1\n",
    "|1|0|1|0|1|1\n",
    "|0|1|0|0|1|1\n",
    "|0|0|1|1|0|1"
   ]
  },
  {
   "cell_type": "markdown",
   "metadata": {},
   "source": [
    "#### 1-1-48\n",
    "$p$ = \"This statement is false\" ko phải statement vì tự mâu thuẫn."
   ]
  },
  {
   "cell_type": "markdown",
   "metadata": {},
   "source": [
    "#### 1-1-49-a\n",
    "100 statements là mutually exclusive $\\rightarrow$ số true statements chỉ có thể là 1 hoặc 0.\\\n",
    "Nếu số true statements là 0\\\n",
    "$\\quad\\rightarrow$ có 100 false statements\\\n",
    "$\\quad\\rightarrow$ $p_{100}=1$ (mâu thuẫn)\\\n",
    "$\\quad\\rightarrow$ có 1 true statement & 99 false statements\\\n",
    "$\\quad\\rightarrow$ $p_{99}=1$, còn lại false"
   ]
  },
  {
   "cell_type": "markdown",
   "metadata": {},
   "source": [
    "#### 1-1-49-bc\n",
    "Tổng số statements là $N$, số false statements là $X$. Theo nội dung statement, có $X$ true statements từ $p_1$ đến $p_X$ $\\rightarrow$ có $100-X$ false statements $\\rightarrow X=N-X \\rightarrow X=N/2$.\\\n",
    "Nếu $N=100$ thì $X=50$. Nếu $N=99$ thì ko thỏa mãn nên tất cả đều ko thể là statements."
   ]
  },
  {
   "cell_type": "markdown",
   "metadata": {},
   "source": [
    "## Chapter 1.2 - Applications of Propositional Logic"
   ]
  },
  {
   "cell_type": "markdown",
   "metadata": {},
   "source": [
    "#### 1-2-33\n",
    "If Fred is not the highest paid of the three, then Janice is. If Janice is not the lowest paid, then Maggie is paid the most.\n",
    "\n",
    "- Fact 1 $\\rightarrow$ Maggie ko phải #1\n",
    "- Fact 2 là mệnh đề kéo theo + về sau sai $\\rightarrow$ để fact 2 đúng thì vế 1 đúng $\\rightarrow$ Janice ko phải #3. Fact 2 clear.\n",
    "- Nếu Janice là #1 $\\rightarrow$ Fred là #2 hoặc #3\n",
    "- Nếu Fred là #1 $\\rightarrow$ Janice là #2 $\\rightarrow$ Maggie là #3. Ko mâu thuẫn fact 1."
   ]
  }
 ],
 "metadata": {
  "language_info": {
   "name": "python"
  }
 },
 "nbformat": 4,
 "nbformat_minor": 2
}
