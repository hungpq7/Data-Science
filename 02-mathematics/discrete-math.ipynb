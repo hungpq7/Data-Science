{
 "cells": [
  {
   "cell_type": "markdown",
   "metadata": {},
   "source": [
    "## 1.1 - Propositional Logic\n",
    "- $\\neg$ negation\n",
    "- $\\land$ conjunction\n",
    "- $\\lor$ disjunction\n",
    "- $\\oplus$ exclusive or\n",
    "- $\\rightarrow$ condition\n",
    "- $\\leftrightarrow$ bi-condition\n",
    "\n",
    "|$x$|$y$|$x\\land y$|$x\\lor y$|$x\\oplus y$|$x\\rightarrow y$|$x\\leftrightarrow y$|\n",
    "|:-:|:-:|:--------:|:-------:|:---------:|:--------------:|:------------------:|\n",
    "|1  |1  |1         |1        |0          |1               |1                   |\n",
    "|1  |0  |0         |1        |1          |0               |0                   |\n",
    "|0  |1  |0         |1        |1          |1               |0                   |\n",
    "|0  |0  |0         |0        |0          |1               |1                   |"
   ]
  },
  {
   "cell_type": "markdown",
   "metadata": {},
   "source": [
    "#### 1-1-32-ab\n",
    "|$p$|$\\neg p$|$p\\rightarrow\\neg p$|$p\\leftrightarrow\\neg p$|\n",
    "|:-:|:-:|:-:|:-:|\n",
    "|1|0|0|0\n",
    "|0|1|1|0"
   ]
  },
  {
   "cell_type": "markdown",
   "metadata": {},
   "source": [
    "#### 1-1-32-c\n",
    "|$p$|$q$|$p\\lor q$|$p\\oplus(p\\lor q)$|\n",
    "|:-:|:-:|:-:|:-:|\n",
    "|1|1|1|0\n",
    "|1|0|1|0\n",
    "|0|1|1|1\n",
    "|0|0|0|0"
   ]
  },
  {
   "cell_type": "markdown",
   "metadata": {},
   "source": [
    "#### 1-1-32-d\n",
    "|$p$|$q$|$p\\land q$|$p\\lor q$|$(p\\land q)\\rightarrow (p\\lor q)$|\n",
    "|:-:|:-:|:-:|:-:|:-:|\n",
    "|1|1|1|1|1\n",
    "|1|0|0|1|1\n",
    "|0|1|0|1|1\n",
    "|0|0|0|0|1"
   ]
  },
  {
   "cell_type": "markdown",
   "metadata": {},
   "source": [
    "#### 1-1-32-e\n",
    "|$p$|$q$|$\\neg p$|$q\\rightarrow\\neg p$|$p\\leftrightarrow q$|$(q\\rightarrow\\neg p)\\oplus(p\\leftrightarrow q)$\n",
    "|:-:|:-:|:-:|:-:|:-:|:-:|\n",
    "|1|1|0|0|1|1|\n",
    "|1|0|0|1|0|1|\n",
    "|0|1|1|1|0|1|\n",
    "|0|0|1|1|1|0|"
   ]
  },
  {
   "cell_type": "markdown",
   "metadata": {},
   "source": [
    "#### 1-1-32-f\n",
    "|$p$|$q$|$\\neg q$|$p\\leftrightarrow q$|$p\\leftrightarrow\\neg q$|$(p\\leftrightarrow q)\\oplus(p\\leftrightarrow\\neg q)$|\n",
    "|:-:|:-:|:-:|:-:|:-:|:-:|\n",
    "|1|1|0|1|0|1\n",
    "|1|0|1|0|1|1\n",
    "|0|1|0|0|1|1\n",
    "|0|0|1|1|0|1"
   ]
  },
  {
   "cell_type": "markdown",
   "metadata": {},
   "source": [
    "#### 1-1-48*\n",
    "$p$ = \"This statement is false\" ko phải statement vì tự mâu thuẫn."
   ]
  },
  {
   "cell_type": "markdown",
   "metadata": {},
   "source": [
    "#### 1-1-49*-a\n",
    "100 statements là mutually exclusive $\\rightarrow$ số true statements chỉ có thể là 1 hoặc 0.\\\n",
    "Nếu số true statements là 0\\\n",
    "$\\quad\\rightarrow$ có 100 false statements\\\n",
    "$\\quad\\rightarrow$ $p_{100}=1$ (mâu thuẫn)\\\n",
    "$\\quad\\rightarrow$ có 1 true statement & 99 false statements\\\n",
    "$\\quad\\rightarrow$ $p_{99}=1$, còn lại false"
   ]
  },
  {
   "cell_type": "markdown",
   "metadata": {},
   "source": [
    "#### 1-1-49*-bc\n",
    "Tổng số statements là $N$, số false statements là $X$. Theo nội dung statement, có $X$ true statements từ $p_1$ đến $p_X$ $\\rightarrow$ có $100-X$ false statements $\\rightarrow X=N-X \\rightarrow X=N/2$.\\\n",
    "Nếu $N=100$ thì $X=50$. Nếu $N=99$ thì ko thỏa mãn nên tất cả đều ko thể là statements."
   ]
  },
  {
   "cell_type": "markdown",
   "metadata": {},
   "source": [
    "## 1.2 - Applications of Propositional Logic"
   ]
  },
  {
   "cell_type": "markdown",
   "metadata": {},
   "source": [
    "#### 1-2-33\n",
    "If Fred is not the highest paid of the three, then Janice is. If Janice is not the lowest paid, then Maggie is paid the most.\n",
    "\n",
    "- Fact 1 $\\rightarrow$ Maggie ko phải #1\n",
    "- Fact 2 là mệnh đề kéo theo + về sau sai $\\rightarrow$ để fact 2 đúng thì vế 1 sai $\\rightarrow$ Janice là #3.\n",
    "- 2 suy luận trên $\\rightarrow$ Maggie là #2 $\\rightarrow$ Fred là #1"
   ]
  },
  {
   "cell_type": "markdown",
   "metadata": {},
   "source": [
    "#### 1-2-39\n",
    "Each senator is either honest or corrupt. Suppose you know that at least one of the senators is honest and that, given any two senators, at least one is corrupt.\n",
    "\n",
    "Nếu có một honest senator thứ 2 thì fact 2 ko thoả mãn. Vậy chỉ có 1 honest, còn lại là corrupt."
   ]
  },
  {
   "cell_type": "markdown",
   "metadata": {},
   "source": [
    "## 1.3 - Proposition Equivalances\n",
    "- $p\\land 1=p$\n",
    "- $p\\land 0=0$\n",
    "- $p\\lor 1=1$\n",
    "- $p\\lor 0=p$"
   ]
  },
  {
   "cell_type": "markdown",
   "metadata": {},
   "source": [
    "#### 1-3-8\n",
    "- Kwame will not take a job in industry and will not go to graduate school\n",
    "- Yoshiko doesn't know Java or calculus\n",
    "- James is not young or is not strong\n",
    "- Rita will not move to Oregon and Washington"
   ]
  },
  {
   "cell_type": "markdown",
   "metadata": {},
   "source": [
    "#### 1-3-30\n",
    "\n",
    "Variable|Bit|\n",
    ":-|:-|\n",
    "$p$                                               |$11110000$|\n",
    "$q$                                               |$11001100$|\n",
    "$r$                                               |$10101010$|\n",
    "$\\neg p$                                          |$00001111$|\n",
    "$(p\\lor q)$                                       |$11111100$|\n",
    "$(\\neg p\\lor r)\\equiv(p\\rightarrow r)$            |$10101111$|\n",
    "$(p\\lor q)\\land(\\neg p\\lor r)$                    |$10101100$|\n",
    "$(q\\lor r)$                                       |$11101110$|\n",
    "$(p\\lor q)\\land(\\neg p\\lor r)\\rightarrow(q\\lor r)$|$11111111$|"
   ]
  },
  {
   "cell_type": "markdown",
   "metadata": {},
   "source": [
    "#### 1-3-42*\n",
    "Suppose that a truth table in n propositional variables is specified. Show that a compound proposition with this truth table can be formed by taking the disjunction of conjunctions of the variables or their negations, with one conjunction included for each combination of values for which the compound proposition is true. The resulting compound proposition is said to be in disjunctive normal form"
   ]
  },
  {
   "cell_type": "markdown",
   "metadata": {},
   "source": [
    "## 1.4 - Predicates and Quantifiers"
   ]
  },
  {
   "cell_type": "markdown",
   "metadata": {},
   "source": [
    "#### 1-4-46\n",
    "If $A=1$ then both sides are $1$. If $A=0$ then both sides are $\\forall xP(x)$ (part a) or $\\exists xP(x)$ (part b)"
   ]
  },
  {
   "cell_type": "markdown",
   "metadata": {},
   "source": [
    "#### 1-4-47\n",
    "If $A=0$ then both sides are $0$. If $A=1$ then both sides are $\\forall xP(x)$ (part a) or $\\exists xP(x)$ (part b)"
   ]
  },
  {
   "cell_type": "markdown",
   "metadata": {},
   "source": [
    "#### 1-4-48"
   ]
  },
  {
   "cell_type": "markdown",
   "metadata": {},
   "source": [
    "#### 1-4-49-a\n",
    "If $A=1$ then both side are $1$. Consider $A=0$, eg all squares < 0\n",
    "- If $P(x)=0$ for every $x$, eg $x^4<-7$\n",
    "    - $P(x)\\rightarrow A=1$, so LHS is $1$\n",
    "    - $\\exists xP(x)=0$, so RHS is $1$\n",
    "- If $P(x)=1$ for some $x$, let's say at $x=x_0$, eg $x<7$\n",
    "    - $P(x_0)\\rightarrow A=0$, so LHS is $0$ (there is 1 false case)\n",
    "    - $\\exists xP(x)=1$, so RHS is $0$"
   ]
  },
  {
   "cell_type": "markdown",
   "metadata": {},
   "source": [
    "#### 1-4-49-b\n",
    "If $A=1$ then both side are $1$. Consider $A=0$, eg all squares < 0.\n",
    "- If $P(x)=0$ for some $x$, let's say at $x=x_0$, eg $x<7$\n",
    "    - $P(x_0)\\rightarrow A=1$, so LHS is $1$\n",
    "    - $\\forall xP(x)=0$, so RHS is $1$\n",
    "- If $P(x)=1$ for every $x$, eg $x^4\\geq0$\n",
    "    - $P(x)\\rightarrow A=0$, so LHS is $0$\n",
    "    - $\\forall xP(x)=1$, so RHS is $0$"
   ]
  },
  {
   "cell_type": "markdown",
   "metadata": {},
   "source": [
    "## 1.5 - Nested Quantifiers"
   ]
  },
  {
   "cell_type": "markdown",
   "metadata": {},
   "source": [
    "#### 1-5-47"
   ]
  },
  {
   "cell_type": "markdown",
   "metadata": {},
   "source": [
    "#### 1-5-48"
   ]
  },
  {
   "cell_type": "markdown",
   "metadata": {},
   "source": [
    "#### 1-5-49"
   ]
  },
  {
   "cell_type": "markdown",
   "metadata": {},
   "source": [
    "## 1.8 - Proof methods"
   ]
  },
  {
   "cell_type": "markdown",
   "metadata": {},
   "source": [
    "#### 1-8-12\n",
    "Part a)\n",
    "\n",
    "$$\n",
    "65^{1000}-8^{2001}+3^{177}=\\\\\n",
    "65^{1000}-8\\times64^{1000}+3^{177}\n",
    "$$"
   ]
  }
 ],
 "metadata": {
  "language_info": {
   "name": "python"
  }
 },
 "nbformat": 4,
 "nbformat_minor": 2
}
