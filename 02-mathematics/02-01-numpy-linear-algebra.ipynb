{
 "cells": [
  {
   "cell_type": "markdown",
   "metadata": {},
   "source": [
    "# NumPy: Linear Algebra"
   ]
  },
  {
   "cell_type": "code",
   "execution_count": 2,
   "metadata": {},
   "outputs": [],
   "source": [
    "from util import np, scipy, linalg, plt\n",
    "# from numpy.linalg import eig, inv, matrix_power, svd, qr"
   ]
  },
  {
   "cell_type": "markdown",
   "metadata": {},
   "source": [
    "## 1. Basic concepts\n",
    "From now on, the following notations are applied:\n",
    "\n",
    "- Regular, lowercase letters are used for [scalars]. For example:\n",
    "\n",
    "$$x=5,\\;\\alpha=0.2$$\n",
    "\n",
    "- Bold, lowercase letters are used for [column vectors]. Adding a number in square brackets specifies the entry in the corresponding position. For example:\n",
    "\n",
    "$$\\mathbf{x}=\\begin{bmatrix}2\\\\4\\\\5\\end{bmatrix},\\;\\mathbf{x}[2]=4$$\n",
    "\n",
    "- For row vectors, add a transpose operator to the the column form. For example:\n",
    "\n",
    "$$\\mathbf{x}^{\\text{T}}=\\begin{bmatrix}2 & 4 & 5\\end{bmatrix}$$\n",
    "\n",
    "- Bold, uppercase letters are for [matrices]. Adding $M\\times N$ as subscript indicates that the matrix has $M$ rows and $N$ columns. Adding $m,n$ as subscript specifies the entry in the $m^{th}$ row and the $n^{th}$ column. For example:\n",
    "\n",
    "$$\\mathbf{A}_{3\\times4}=\\begin{bmatrix}1&2&3&4\\\\5&6&7&8\\\\9&10&11&12\\end{bmatrix},\\;\\mathbf{A}_{2,3}=\\mathbf{A}[2,3]=7$$\n",
    "\n",
    "[scalars]: https://en.wikipedia.org/wiki/Scalar_(mathematics)\n",
    "[column vectors]: https://en.wikipedia.org/wiki/Row_and_column_vectors\n",
    "[matrices]: https://en.wikipedia.org/wiki/Matrix_(mathematics)"
   ]
  },
  {
   "cell_type": "markdown",
   "metadata": {},
   "source": [
    "### 1.1. Special matrices"
   ]
  },
  {
   "cell_type": "code",
   "execution_count": 1,
   "metadata": {},
   "outputs": [],
   "source": [
    "from util import np, scipy, linalg, plt"
   ]
  },
  {
   "cell_type": "markdown",
   "metadata": {},
   "source": [
    "#### Constant matrix\n",
    "A constant matrix is a matrix where all elements are the same. Popular constant matrices are [zero matrix] and [matrix of ones].\n",
    "\n",
    "[zero matrix]: https://en.wikipedia.org/wiki/Zero_matrix\n",
    "[matrix of ones]: https://en.wikipedia.org/wiki/Matrix_of_ones"
   ]
  },
  {
   "cell_type": "code",
   "execution_count": 4,
   "metadata": {},
   "outputs": [
    {
     "data": {
      "text/plain": [
       "array([[0, 0, 0, 0],\n",
       "       [0, 0, 0, 0],\n",
       "       [0, 0, 0, 0]])"
      ]
     },
     "execution_count": 4,
     "metadata": {},
     "output_type": "execute_result"
    }
   ],
   "source": [
    "np.zeros((3,4), dtype=int)"
   ]
  },
  {
   "cell_type": "code",
   "execution_count": 5,
   "metadata": {},
   "outputs": [
    {
     "data": {
      "text/plain": [
       "array([[1, 1, 1, 1, 1, 1],\n",
       "       [1, 1, 1, 1, 1, 1],\n",
       "       [1, 1, 1, 1, 1, 1],\n",
       "       [1, 1, 1, 1, 1, 1]])"
      ]
     },
     "execution_count": 5,
     "metadata": {},
     "output_type": "execute_result"
    }
   ],
   "source": [
    "np.ones((4,6), dtype=int)"
   ]
  },
  {
   "cell_type": "markdown",
   "metadata": {},
   "source": [
    "#### Square matrix\n",
    "A [square matrix] is a matrix with the same number of rows and columns.\n",
    "\n",
    "[square matrix]: https://en.wikipedia.org/wiki/Square_matrix"
   ]
  },
  {
   "cell_type": "code",
   "execution_count": 6,
   "metadata": {},
   "outputs": [
    {
     "data": {
      "text/plain": [
       "array([[0.3636, 0.1811, 0.4987],\n",
       "       [0.224 , 0.2386, 0.02  ],\n",
       "       [0.8813, 0.0596, 0.766 ]])"
      ]
     },
     "execution_count": 6,
     "metadata": {},
     "output_type": "execute_result"
    }
   ],
   "source": [
    "np.random.random((3,3))"
   ]
  },
  {
   "cell_type": "code",
   "execution_count": 5,
   "metadata": {},
   "outputs": [
    {
     "data": {
      "text/plain": [
       "array([[0, 1, 2],\n",
       "       [3, 4, 5],\n",
       "       [6, 7, 8]])"
      ]
     },
     "execution_count": 5,
     "metadata": {},
     "output_type": "execute_result"
    }
   ],
   "source": [
    "np.arange(9).reshape(3,3)"
   ]
  },
  {
   "cell_type": "markdown",
   "metadata": {},
   "source": [
    "#### Unit matrix\n",
    "A [unit matrix] (sometimes called identity matrix) is a square matrix with ones on the main diagonal and zeros elsewhere, denoted by $\\mathbf{I}_N$ where $N$ is the length of each size.\n",
    "\n",
    "[unit matrix]: https://en.wikipedia.org/wiki/Identity_matrix"
   ]
  },
  {
   "cell_type": "code",
   "execution_count": 7,
   "metadata": {},
   "outputs": [
    {
     "data": {
      "text/plain": [
       "array([[1, 0, 0, 0, 0],\n",
       "       [0, 1, 0, 0, 0],\n",
       "       [0, 0, 1, 0, 0],\n",
       "       [0, 0, 0, 1, 0],\n",
       "       [0, 0, 0, 0, 1]])"
      ]
     },
     "execution_count": 7,
     "metadata": {},
     "output_type": "execute_result"
    }
   ],
   "source": [
    "np.eye(N=5, dtype=int)"
   ]
  },
  {
   "cell_type": "markdown",
   "metadata": {},
   "source": [
    "#### Diagonal matrix\n",
    "A [diagonal matrix] is a square matrix in which the elements outside the main diagonal are all zero. Given $\\mathbf{a}=\\begin{bmatrix}1 & 2 & 3\\end{bmatrix}^{\\text{T}}$, a diagonal matrix can be represented as below:\n",
    "\n",
    "$$\\begin{bmatrix}1&0&0 \\\\ 0&2&0 \\\\ 0&0&3 \\end{bmatrix}=\\text{diag}(\\mathbf{a})=\\text{diag}(1,2,3)$$\n",
    "\n",
    "[diagonal matrix]: https://en.wikipedia.org/wiki/Diagonal_matrix"
   ]
  },
  {
   "cell_type": "code",
   "execution_count": 3,
   "metadata": {},
   "outputs": [
    {
     "data": {
      "text/plain": [
       "array([[4, 0, 0, 0],\n",
       "       [0, 5, 0, 0],\n",
       "       [0, 0, 9, 0],\n",
       "       [0, 0, 0, 6]])"
      ]
     },
     "execution_count": 3,
     "metadata": {},
     "output_type": "execute_result"
    }
   ],
   "source": [
    "array = np.random.randint(10, size=(4,4))\n",
    "np.diag(np.diag(array))"
   ]
  },
  {
   "cell_type": "markdown",
   "metadata": {},
   "source": [
    "#### Triangular matrix\n",
    "A [triangular matrix] is a special kind of square matrix, where all entries above or below the main diagonal are $0$. There are two types of triangular matrix: lower and upper.\n",
    "\n",
    "[triangular matrix]: https://en.wikipedia.org/wiki/Triangular_matrix"
   ]
  },
  {
   "cell_type": "code",
   "execution_count": 9,
   "metadata": {},
   "outputs": [
    {
     "data": {
      "text/plain": [
       "array([[3, 0, 0, 0],\n",
       "       [8, 6, 0, 0],\n",
       "       [9, 6, 6, 0],\n",
       "       [9, 5, 1, 5]])"
      ]
     },
     "execution_count": 9,
     "metadata": {},
     "output_type": "execute_result"
    }
   ],
   "source": [
    "array = np.random.randint(10, size=(4,4))\n",
    "np.tril(array)"
   ]
  },
  {
   "cell_type": "code",
   "execution_count": 10,
   "metadata": {},
   "outputs": [
    {
     "data": {
      "text/plain": [
       "array([[3, 1, 9, 4],\n",
       "       [0, 6, 5, 5],\n",
       "       [0, 0, 0, 4],\n",
       "       [0, 0, 0, 6]])"
      ]
     },
     "execution_count": 10,
     "metadata": {},
     "output_type": "execute_result"
    }
   ],
   "source": [
    "array = np.random.randint(10, size=(4,4))\n",
    "np.triu(array)"
   ]
  },
  {
   "cell_type": "markdown",
   "metadata": {},
   "source": [
    "#### Sparse matrix\n",
    "Sparse matrix is a large matrix that most of its elements are zero. Our approach is to compress the sparse matrix to storing the non-zero values only (compressed sparse row (CSR) matrix). This leads to significant computational saving.\n",
    "\n",
    "For example, imagine a matrix where every column is a Netflix movie and each row is a Netflix user, the values are how many times a user has watched a particular movie. That matrix would have thousands of columns and millions of rows. However, since most users have not watched most movies, the vast majority of the matrix values would be zero."
   ]
  },
  {
   "cell_type": "code",
   "execution_count": 4,
   "metadata": {},
   "outputs": [
    {
     "data": {
      "text/plain": [
       "(array([0, 0, 1, 2, 2]), array([5, 8, 1, 0, 8]))"
      ]
     },
     "execution_count": 4,
     "metadata": {},
     "output_type": "execute_result"
    }
   ],
   "source": [
    "large_matrix = np.array(\n",
    "    [[0, 0, 0, 0, 0, 4, 0, 0, 7, 0],\n",
    "     [0, 1, 0, 0, 0, 0, 0, 0, 0, 0],\n",
    "     [3, 0, 0, 0, 0, 0, 0, 0, 8, 0]]\n",
    ")\n",
    "\n",
    "np.nonzero(large_matrix)"
   ]
  },
  {
   "cell_type": "code",
   "execution_count": 8,
   "metadata": {},
   "outputs": [
    {
     "name": "stdout",
     "output_type": "stream",
     "text": [
      "  (0, 5)\t4\n",
      "  (0, 8)\t7\n",
      "  (1, 1)\t1\n",
      "  (2, 0)\t3\n",
      "  (2, 8)\t8\n"
     ]
    }
   ],
   "source": [
    "compressed_matrix = scipy.sparse.csr_matrix(large_matrix)\n",
    "print(compressed_matrix)"
   ]
  },
  {
   "cell_type": "markdown",
   "metadata": {},
   "source": [
    "### 1.2. Matrix operations"
   ]
  },
  {
   "cell_type": "code",
   "execution_count": 1,
   "metadata": {},
   "outputs": [],
   "source": [
    "from util import np"
   ]
  },
  {
   "cell_type": "markdown",
   "metadata": {},
   "source": [
    "#### Addition\n",
    "The matrices to be used in [addition] (or subtraction) must be of the same shape. The sum of $\\mathbf{A}\\in\\mathbb{R}^{M\\times N}$ and $\\mathbf{B}\\in\\mathbb{R}^{M\\times N}$ is calculated as:\n",
    "\n",
    "$$(\\mathbf{A}+\\mathbf{B})_{m,n} = \\mathbf{A}_{m,n} + \\mathbf{B}_{m,n}\\qquad\\text{for }m\\in\\{1,2,\\dots,M\\}\\text{ and }n\\in\\{1,2,\\dots,N\\}$$\n",
    "\n",
    "[addition]: https://en.wikipedia.org/wiki/Matrix_addition"
   ]
  },
  {
   "cell_type": "code",
   "execution_count": 16,
   "metadata": {},
   "outputs": [],
   "source": [
    "A = np.array([[1, 2, 3],\n",
    "              [4, 5, 6]])"
   ]
  },
  {
   "cell_type": "code",
   "execution_count": 17,
   "metadata": {},
   "outputs": [],
   "source": [
    "B = np.array([[7, 5, 8],\n",
    "              [2, 0, 7]])"
   ]
  },
  {
   "cell_type": "code",
   "execution_count": 18,
   "metadata": {},
   "outputs": [
    {
     "data": {
      "text/plain": [
       "array([[ 8,  7, 11],\n",
       "       [ 6,  5, 13]])"
      ]
     },
     "execution_count": 18,
     "metadata": {},
     "output_type": "execute_result"
    }
   ],
   "source": [
    "A + B"
   ]
  },
  {
   "cell_type": "code",
   "execution_count": 19,
   "metadata": {},
   "outputs": [
    {
     "data": {
      "text/plain": [
       "array([[ 6,  3,  5],\n",
       "       [-2, -5,  1]])"
      ]
     },
     "execution_count": 19,
     "metadata": {},
     "output_type": "execute_result"
    }
   ],
   "source": [
    "B - A"
   ]
  },
  {
   "cell_type": "markdown",
   "metadata": {},
   "source": [
    "Alternatively, `np.add()` can be used."
   ]
  },
  {
   "cell_type": "code",
   "execution_count": 20,
   "metadata": {},
   "outputs": [
    {
     "data": {
      "text/plain": [
       "array([[ 8,  7, 11],\n",
       "       [ 6,  5, 13]])"
      ]
     },
     "execution_count": 20,
     "metadata": {},
     "output_type": "execute_result"
    }
   ],
   "source": [
    "np.add(A, B)"
   ]
  },
  {
   "cell_type": "markdown",
   "metadata": {},
   "source": [
    "#### Scalar multiplication\n",
    "For a scalar $c$ and a matrix $\\mathbf{A}\\in\\mathbb{R}^{M\\times N}$, the multiplication can be computed: $(c\\mathbf{A})_{m,n} = c\\cdot \\mathbf{A}_{m,n}$"
   ]
  },
  {
   "cell_type": "code",
   "execution_count": 21,
   "metadata": {},
   "outputs": [],
   "source": [
    "A = np.array([[1, 2, 3],\n",
    "              [4, 5, 6]])"
   ]
  },
  {
   "cell_type": "code",
   "execution_count": 22,
   "metadata": {},
   "outputs": [
    {
     "data": {
      "text/plain": [
       "array([[ 2,  4,  6],\n",
       "       [ 8, 10, 12]])"
      ]
     },
     "execution_count": 22,
     "metadata": {},
     "output_type": "execute_result"
    }
   ],
   "source": [
    "A * 2"
   ]
  },
  {
   "cell_type": "markdown",
   "metadata": {},
   "source": [
    "#### Hadamard product\n",
    "Also known as [element-wise product], the Hadamard product of two matrices $\\mathbf{A}$ and $\\mathbf{B}$ of the same size $M\\times N$ is a matrix $\\mathbf{C}\\in\\mathbb{R}^{M\\times N}$.\n",
    "\n",
    "$$\\mathbf{C}_{m,n}=\\mathbf{A}_{m,n}\\odot\\mathbf{B}_{m,n}$$\n",
    "\n",
    "[element-wise product]: https://en.wikipedia.org/wiki/Hadamard_product_(matrices)"
   ]
  },
  {
   "cell_type": "code",
   "execution_count": 3,
   "metadata": {},
   "outputs": [
    {
     "data": {
      "text/plain": [
       "array([[ 1,  2,  3,  4],\n",
       "       [ 5,  6,  7,  8],\n",
       "       [ 9, 10, 11, 12]])"
      ]
     },
     "execution_count": 3,
     "metadata": {},
     "output_type": "execute_result"
    }
   ],
   "source": [
    "A = np.linspace(1, 12, 12, dtype=int).reshape(3,4)\n",
    "A"
   ]
  },
  {
   "cell_type": "code",
   "execution_count": 4,
   "metadata": {},
   "outputs": [
    {
     "data": {
      "text/plain": [
       "array([[ 6,  7,  8,  9],\n",
       "       [10, 11, 12, 13],\n",
       "       [14, 15, 16, 18]])"
      ]
     },
     "execution_count": 4,
     "metadata": {},
     "output_type": "execute_result"
    }
   ],
   "source": [
    "B = np.linspace(6, 18, 12, dtype=int).reshape(3,4)\n",
    "B"
   ]
  },
  {
   "cell_type": "code",
   "execution_count": 6,
   "metadata": {},
   "outputs": [
    {
     "data": {
      "text/plain": [
       "array([[  6,  14,  24,  36],\n",
       "       [ 50,  66,  84, 104],\n",
       "       [126, 150, 176, 216]])"
      ]
     },
     "execution_count": 6,
     "metadata": {},
     "output_type": "execute_result"
    }
   ],
   "source": [
    "A * B"
   ]
  },
  {
   "cell_type": "markdown",
   "metadata": {},
   "source": [
    "#### Matrix multiplication\n",
    "The [dot product] of $\\mathbf{A}\\in\\mathbb{R}^{M\\times N}$ and $\\mathbf{B}\\in\\mathbb{R}^{N\\times P}$ is a matrix $\\mathbf{C}\\in\\mathbb{R}^{M\\times P}$ where the element of $\\mathbf{C}$ in the $m^{th}$ row and $p^{th}$ column is calculated by the formula:\n",
    "$$\\mathbf{C}_{m,p} = \\sum_{n=1}^N {\\mathbf{A}_{m,n}\\mathbf{B}_{n,p}}$$\n",
    "\n",
    "[dot product]: https://en.wikipedia.org/wiki/Matrix_multiplication"
   ]
  },
  {
   "cell_type": "code",
   "execution_count": 23,
   "metadata": {},
   "outputs": [],
   "source": [
    "A = np.linspace(1, 6, 6, dtype=int).reshape(2, 3)\n",
    "B = np.linspace(1, 12, 12, dtype=int).reshape(3, 4)"
   ]
  },
  {
   "cell_type": "code",
   "execution_count": 24,
   "metadata": {},
   "outputs": [
    {
     "data": {
      "text/plain": [
       "array([[1, 2, 3],\n",
       "       [4, 5, 6]])"
      ]
     },
     "execution_count": 24,
     "metadata": {},
     "output_type": "execute_result"
    }
   ],
   "source": [
    "A"
   ]
  },
  {
   "cell_type": "code",
   "execution_count": 25,
   "metadata": {},
   "outputs": [
    {
     "data": {
      "text/plain": [
       "array([[ 1,  2,  3,  4],\n",
       "       [ 5,  6,  7,  8],\n",
       "       [ 9, 10, 11, 12]])"
      ]
     },
     "execution_count": 25,
     "metadata": {},
     "output_type": "execute_result"
    }
   ],
   "source": [
    "B"
   ]
  },
  {
   "cell_type": "code",
   "execution_count": 26,
   "metadata": {},
   "outputs": [
    {
     "data": {
      "text/plain": [
       "array([[ 38,  44,  50,  56],\n",
       "       [ 83,  98, 113, 128]])"
      ]
     },
     "execution_count": 26,
     "metadata": {},
     "output_type": "execute_result"
    }
   ],
   "source": [
    "np.dot(A, B)"
   ]
  },
  {
   "cell_type": "code",
   "execution_count": 27,
   "metadata": {},
   "outputs": [
    {
     "data": {
      "text/plain": [
       "array([[ 38,  44,  50,  56],\n",
       "       [ 83,  98, 113, 128]])"
      ]
     },
     "execution_count": 27,
     "metadata": {},
     "output_type": "execute_result"
    }
   ],
   "source": [
    "A @ B"
   ]
  },
  {
   "cell_type": "markdown",
   "metadata": {},
   "source": [
    "#### Transposition\n",
    "[Transposition] is an operator where the matrix is flipped over its diagonal. The transpose of the matrix $\\mathbf{A}\\in\\mathbb{R}^{M\\times N}$ is denoted $(\\mathbf{A}^{\\text{T}})\\in\\mathbb{R}^{N\\times M}$ and satisfies $\\mathbf{A}_{m,n}$ = $(\\mathbf{A}^{\\text{T}})_{n,m}$ for $m\\in \\{1,2,\\dots,M\\}$ and $n\\in\\{1,2,\\dots,N\\}$.\n",
    "\n",
    "[Transposition]: https://en.wikipedia.org/wiki/Transpose"
   ]
  },
  {
   "cell_type": "code",
   "execution_count": 28,
   "metadata": {},
   "outputs": [
    {
     "data": {
      "text/plain": [
       "array([[ 0,  1,  2,  3,  4,  5,  6,  7],\n",
       "       [ 8,  9, 10, 11, 12, 13, 14, 15],\n",
       "       [16, 17, 18, 19, 20, 21, 22, 23]])"
      ]
     },
     "execution_count": 28,
     "metadata": {},
     "output_type": "execute_result"
    }
   ],
   "source": [
    "A = np.arange(24).reshape(3,8)\n",
    "A"
   ]
  },
  {
   "cell_type": "code",
   "execution_count": 29,
   "metadata": {},
   "outputs": [
    {
     "data": {
      "text/plain": [
       "array([[ 0,  8, 16],\n",
       "       [ 1,  9, 17],\n",
       "       [ 2, 10, 18],\n",
       "       [ 3, 11, 19],\n",
       "       [ 4, 12, 20],\n",
       "       [ 5, 13, 21],\n",
       "       [ 6, 14, 22],\n",
       "       [ 7, 15, 23]])"
      ]
     },
     "execution_count": 29,
     "metadata": {},
     "output_type": "execute_result"
    }
   ],
   "source": [
    "A.T"
   ]
  },
  {
   "cell_type": "code",
   "execution_count": 30,
   "metadata": {},
   "outputs": [
    {
     "data": {
      "text/plain": [
       "array([ True,  True,  True])"
      ]
     },
     "execution_count": 30,
     "metadata": {},
     "output_type": "execute_result"
    }
   ],
   "source": [
    "np.diag(A) == np.diag(A.T)"
   ]
  },
  {
   "cell_type": "markdown",
   "metadata": {},
   "source": [
    "#### Properties\n",
    "Here are some properties of matrix operations:\n",
    "- $\\mathbf{A}+\\mathbf{B} = \\mathbf{B}+\\mathbf{A}$ (commutativity)\n",
    "- $(c\\mathbf{A})^{\\text{T}} = c \\cdot \\mathbf{A}^{\\text{T}}$\n",
    "- $(\\mathbf{A}+\\mathbf{B})^{\\text{T}} = \\mathbf{A}^{\\text{T}} + \\mathbf{B}^{\\text{T}}$\n",
    "- $(\\mathbf{A}^{\\text{T}})^{\\text{T}} = \\mathbf{A}$\n",
    "- $(\\mathbf{A}\\mathbf{B})\\mathbf{C} = \\mathbf{A}(\\mathbf{B}\\mathbf{C}) = \\mathbf{A}\\mathbf{B}\\mathbf{C}$ (associativity)\n",
    "- $(\\mathbf{A}+\\mathbf{B})\\mathbf{C} = \\mathbf{A}\\mathbf{C} + \\mathbf{B}\\mathbf{C}$ (distributivity)\n",
    "- $\\mathbf{A}\\mathbf{B} \\neq \\mathbf{B}\\mathbf{A}$"
   ]
  },
  {
   "cell_type": "markdown",
   "metadata": {},
   "source": [
    "### 1.3. Diagonal and trace"
   ]
  },
  {
   "cell_type": "markdown",
   "metadata": {},
   "source": [
    "#### The diagonal\n",
    "To get the [main diagonal] of a matrix, use the [`np.diag()`] function.\n",
    "\n",
    "[`np.diag()`]: https://numpy.org/doc/stable/reference/generated/numpy.diag.html\n",
    "[main diagonal]: https://en.wikipedia.org/wiki/Main_diagonal"
   ]
  },
  {
   "cell_type": "code",
   "execution_count": 31,
   "metadata": {},
   "outputs": [],
   "source": [
    "from util import np"
   ]
  },
  {
   "cell_type": "code",
   "execution_count": 32,
   "metadata": {},
   "outputs": [
    {
     "data": {
      "text/plain": [
       "array([[ 0,  1,  2,  3],\n",
       "       [ 4,  5,  6,  7],\n",
       "       [ 8,  9, 10, 11]])"
      ]
     },
     "execution_count": 32,
     "metadata": {},
     "output_type": "execute_result"
    }
   ],
   "source": [
    "A = np.arange(12).reshape(3,4)\n",
    "A"
   ]
  },
  {
   "cell_type": "code",
   "execution_count": 33,
   "metadata": {},
   "outputs": [
    {
     "data": {
      "text/plain": [
       "array([ 0,  5, 10])"
      ]
     },
     "execution_count": 33,
     "metadata": {},
     "output_type": "execute_result"
    }
   ],
   "source": [
    "np.diag(A)"
   ]
  },
  {
   "cell_type": "code",
   "execution_count": 34,
   "metadata": {},
   "outputs": [
    {
     "data": {
      "text/plain": [
       "array([ 1,  6, 11])"
      ]
     },
     "execution_count": 34,
     "metadata": {},
     "output_type": "execute_result"
    }
   ],
   "source": [
    "np.diag(A, k=1)"
   ]
  },
  {
   "cell_type": "markdown",
   "metadata": {},
   "source": [
    "#### The trace\n",
    "The [trace] of a square matrix is the sum of the main diagonal elements. Despite that Numpy supports calculating the trace for any type of matrix, Mathematics defines the trace for square matrices only.\n",
    "\n",
    "[trace]: https://en.wikipedia.org/wiki/Trace_(linear_algebra)"
   ]
  },
  {
   "cell_type": "code",
   "execution_count": 35,
   "metadata": {},
   "outputs": [
    {
     "data": {
      "text/plain": [
       "array([[ 0,  1,  2,  3],\n",
       "       [ 4,  5,  6,  7],\n",
       "       [ 8,  9, 10, 11]])"
      ]
     },
     "execution_count": 35,
     "metadata": {},
     "output_type": "execute_result"
    }
   ],
   "source": [
    "A = np.arange(12).reshape(3,4)\n",
    "A"
   ]
  },
  {
   "cell_type": "code",
   "execution_count": 36,
   "metadata": {},
   "outputs": [
    {
     "data": {
      "text/plain": [
       "15"
      ]
     },
     "execution_count": 36,
     "metadata": {},
     "output_type": "execute_result"
    }
   ],
   "source": [
    "A.trace()"
   ]
  },
  {
   "cell_type": "code",
   "execution_count": 37,
   "metadata": {},
   "outputs": [
    {
     "data": {
      "text/plain": [
       "15"
      ]
     },
     "execution_count": 37,
     "metadata": {},
     "output_type": "execute_result"
    }
   ],
   "source": [
    "np.diag(A).sum()"
   ]
  },
  {
   "cell_type": "markdown",
   "metadata": {},
   "source": [
    "### 1.4. Echelon form and rank"
   ]
  },
  {
   "cell_type": "code",
   "execution_count": 2,
   "metadata": {},
   "outputs": [],
   "source": [
    "from util import np, linalg"
   ]
  },
  {
   "cell_type": "markdown",
   "metadata": {},
   "source": [
    "#### Gaussian elimination\n",
    "[Gaussian elimination] (also known as row reduction) is a linear algebra algorithm for solving a system of linear equations; finding the rank, the determinant and the inverse of matrices. There are three types of elementary matrix operations:\n",
    "- Interchanging two rows\n",
    "- Multiplying a row by a non-zero number\n",
    "- Adding a multiple of a row to another row\n",
    "\n",
    "[Gaussian elimination]: https://en.wikipedia.org/wiki/Gaussian_elimination"
   ]
  },
  {
   "cell_type": "markdown",
   "metadata": {},
   "source": [
    "#### Echelon form\n",
    "Using Gaussian elimination, any matrix can be transformed to the [row echelon form] or column echelon form. From now on, echelon form refers to row echelon.\n",
    "\n",
    "$$\n",
    "\\begin{bmatrix}\n",
    "    a & * & * & * & * & * & * & * & * \\\\\n",
    "    0 & 0 & b & * & * & * & * & * & * \\\\\n",
    "    0 & 0 & 0 & c & * & * & * & * & * \\\\\n",
    "    0 & 0 & 0 & 0 & 0 & 0 & d & * & * \\\\\n",
    "    0 & 0 & 0 & 0 & 0 & 0 & 0 & e & * \\\\\n",
    "    0 & 0 & 0 & 0 & 0 & 0 & 0 & 0 & 0 \\\\\n",
    "\\end{bmatrix}\n",
    "$$\n",
    "\n",
    "A matrix is in echelon form when it satisfies the following conditions:\n",
    "- All zero rows (rows with all zero elements) are at the bottom.\n",
    "- Each [pivot] (or leading entry) - the leftmost non-zero element of each row is always to the right of the above pivot. In the example above, $a$, $b$, $c$, $d$ and $e$ are pivots.\n",
    "\n",
    "[row echelon form]: https://en.wikipedia.org/wiki/Row_echelon_form\n",
    "[pivot]: https://en.wikipedia.org/wiki/Pivot_element"
   ]
  },
  {
   "cell_type": "code",
   "execution_count": 9,
   "metadata": {
    "tags": []
   },
   "outputs": [
    {
     "data": {
      "text/plain": [
       "array([[ 2. ,  7. ,  8. ],\n",
       "       [ 0. , -1.5, -3. ],\n",
       "       [ 0. ,  0. ,  0. ]])"
      ]
     },
     "execution_count": 9,
     "metadata": {},
     "output_type": "execute_result"
    }
   ],
   "source": [
    "A = np.array(\n",
    "    [[0, 1, 2],\n",
    "     [1, 2, 1],\n",
    "     [2, 7, 8]]\n",
    ")\n",
    "_, _, echelon = linalg.lu(A)\n",
    "echelon"
   ]
  },
  {
   "cell_type": "markdown",
   "metadata": {},
   "source": [
    "#### Rank-nullity theorem\n",
    "The [rank] of a matrix is the highest number of linear independent rows in the matrix. A vector is linear dependent if it equals to the sum of scalar multiples of other vectors. The maximum rank of the matrix $\\mathbf{A}\\in\\mathbb{R}^{M\\times N}$ is $\\min(M,N)$. $\\mathbf{A}$ is said to be *full rank* if its rank reaches the maximum value and to be *rank deficient* otherwise. This can be expressed using the\n",
    "[rank-nullity theorem]:\n",
    "\n",
    "$$\\text{rank}(A)+\\text{nullity}(A)=\\min(M,N)$$\n",
    "\n",
    "[rank]: https://en.wikipedia.org/wiki/Rank_(linear_algebra)\n",
    "[rank-nullity theorem]: https://en.wikipedia.org/wiki/Rank%E2%80%93nullity_theorem"
   ]
  },
  {
   "cell_type": "code",
   "execution_count": 11,
   "metadata": {},
   "outputs": [
    {
     "data": {
      "text/plain": [
       "2"
      ]
     },
     "execution_count": 11,
     "metadata": {},
     "output_type": "execute_result"
    }
   ],
   "source": [
    "np.linalg.matrix_rank(A)"
   ]
  },
  {
   "cell_type": "markdown",
   "metadata": {},
   "source": [
    "### 1.5. Determinant and inverse\n",
    "These attributes are defined only for square matrices."
   ]
  },
  {
   "cell_type": "code",
   "execution_count": 2,
   "metadata": {},
   "outputs": [],
   "source": [
    "from util import np, linalg"
   ]
  },
  {
   "cell_type": "markdown",
   "metadata": {},
   "source": [
    "#### Minors and cofactors\n",
    "The [minor] and the cofactor are required to calculate the determinant and the inverse of square matrices. Given a square matrix $\\mathbf{A}\\in\\mathbb{R}^{N\\times N}$ and $i,j\\in\\{1,2,\\dots,N\\}$:\n",
    "- The $(i,j)$ minor, denoted $m_{ij}$, is the determinant of the $(N-1)\\times(N-1)$ [sub-matrix] formed by deleting the $i^{th}$ row and the $j^{th}$ column.\n",
    "- The corresponding cofactor is $\\mathbf{C}_{i,j}=(-1)^{i+j}\\,m_{ij}$.\n",
    "\n",
    "From the calculated cofactors, we can build the matrix of cofactors ([adjugate matrix]):\n",
    "\n",
    "$$\n",
    "\\mathbf{C} =\n",
    "\\begin{bmatrix}\n",
    "\\mathbf{C}_{1,1} & \\mathbf{C}_{1,2} & \\dots  & \\mathbf{C}_{1,n}\\\\\n",
    "\\mathbf{C}_{2,1} & \\mathbf{C}_{2,2} & \\dots  & \\mathbf{C}_{2,n}\\\\\n",
    "\\vdots  & \\vdots  & \\ddots & \\vdots \\\\\n",
    "\\mathbf{C}_{n,1} & \\mathbf{C}_{n,2} & \\dots  & \\mathbf{C}_{n,n}\n",
    "\\end{bmatrix}\n",
    "$$\n",
    "\n",
    "[minor]: https://en.wikipedia.org/wiki/Minor_(linear_algebra)\n",
    "[sub-matrix]: https://proofwiki.org/wiki/Definition:Submatrix\n",
    "[adjugate matrix]: https://en.wikipedia.org/wiki/Adjugate_matrix"
   ]
  },
  {
   "cell_type": "markdown",
   "metadata": {
    "tags": []
   },
   "source": [
    "#### Determinant\n",
    "The [determinant] of a $2\\times 2$ matrix is:\n",
    "$\n",
    "\\begin{vmatrix}\n",
    "a_{1,1} & a_{1,2}\\\\\n",
    "a_{2,1} & a_{2,2}\n",
    "\\end{vmatrix}\n",
    "= a_{1,1}a_{2,2} - a_{1,2}a_{2,1}\n",
    "$\n",
    "\n",
    "To calculate the determinant of the matrix $\\mathbf{A}\\in\\mathbb{R}^{N\\times N}$ (denoted $|\\mathbf{A}|$), use the [Laplace formula] (a recursion with the base case of $N=2$):\n",
    "\n",
    "$$\\det\\left(\\mathbf{A}\\right) = |\\mathbf{A}| = \\sum_{i=1}^N a_{ij}(-1)^{i+j}m_{ij} = \\sum_{i=1}^N a_{ij}C_{ij}$$\n",
    "where: $i, j \\in \\{1,2,...,N\\}$.\n",
    "\n",
    "[determinant]: https://en.wikipedia.org/wiki/Determinant\n",
    "[Laplace formula]: https://en.wikipedia.org/wiki/Laplace_expansion"
   ]
  },
  {
   "cell_type": "code",
   "execution_count": 12,
   "metadata": {},
   "outputs": [
    {
     "data": {
      "text/plain": [
       "array([[6, 1, 4, 4, 8],\n",
       "       [4, 6, 3, 5, 8],\n",
       "       [7, 9, 9, 2, 7],\n",
       "       [8, 8, 9, 2, 6],\n",
       "       [9, 5, 4, 1, 4]])"
      ]
     },
     "execution_count": 12,
     "metadata": {},
     "output_type": "execute_result"
    }
   ],
   "source": [
    "np.random.seed(0)\n",
    "A = np.random.randint(1, 10, (5,5))\n",
    "A"
   ]
  },
  {
   "cell_type": "code",
   "execution_count": 14,
   "metadata": {},
   "outputs": [
    {
     "data": {
      "text/plain": [
       "-1552.9999999999998"
      ]
     },
     "execution_count": 14,
     "metadata": {},
     "output_type": "execute_result"
    }
   ],
   "source": [
    "linalg.det(A)"
   ]
  },
  {
   "cell_type": "markdown",
   "metadata": {},
   "source": [
    "#### Inverse\n",
    "The [inverse] of the square matrix $\\mathbf{A}\\in\\mathbb{R}^{N\\times N}$ is denoted $\\mathbf{A}^{-1}$ and satisfies $\\mathbf{A}\\cdot\\mathbf{A}^{-1} = \\mathbf{I}_N$ where $\\mathbf{I}_N$ is the unit matrix. $\\mathbf{A}$ is invertible only if $|\\mathbf{A}| \\ne 0$. The formula for inversion is:\n",
    "\n",
    "$$\\mathbf{A}^{-1} = \\frac{1}{|\\mathbf{A}|}C^{\\text{T}}$$\n",
    "\n",
    "Infered from the above formula, a square matrix having determinant of $0$ has no inverse. Such a matrix is called a *singular matrix*. Otherwise, the matrix is said to be *invertible*.\n",
    "\n",
    "[inverse]: https://en.wikipedia.org/wiki/Invertible_matrix"
   ]
  },
  {
   "cell_type": "code",
   "execution_count": 15,
   "metadata": {},
   "outputs": [
    {
     "data": {
      "text/plain": [
       "array([[-24.,  18.,   5.],\n",
       "       [ 20., -15.,  -4.],\n",
       "       [ -5.,   4.,   1.]])"
      ]
     },
     "execution_count": 15,
     "metadata": {},
     "output_type": "execute_result"
    }
   ],
   "source": [
    "A = np.array([[1, 2, 3],\n",
    "              [0, 1, 4],\n",
    "              [5, 6, 0]])\n",
    "linalg.inv(A)"
   ]
  },
  {
   "cell_type": "markdown",
   "metadata": {},
   "source": [
    "Let's check if the dot product of $\\mathbf{A}$ and $\\mathbf{A}^{-1}$ is an identity matrix."
   ]
  },
  {
   "cell_type": "code",
   "execution_count": 16,
   "metadata": {},
   "outputs": [
    {
     "data": {
      "text/plain": [
       "array([[1, 0, 0],\n",
       "       [0, 1, 0],\n",
       "       [0, 0, 1]])"
      ]
     },
     "execution_count": 16,
     "metadata": {},
     "output_type": "execute_result"
    }
   ],
   "source": [
    "A @ linalg.inv(A).astype(int)"
   ]
  },
  {
   "cell_type": "markdown",
   "metadata": {},
   "source": [
    "### 1.6. Eigenvalues"
   ]
  },
  {
   "cell_type": "markdown",
   "metadata": {},
   "source": [
    "#### Calculation\n",
    "[Eigenvalues and eigenvectors] are defined only for square matrices. Each eigenvalue $(\\lambda)$ and a corresponding eigenvector $(\\mathbf{x})$ of the square matrix $\\mathbf{A}$ satisfies: $\\mathbf{A}\\mathbf{x} = \\lambda \\mathbf{x}$. To find eigenvalues and eigenvectors:\n",
    "- Solve the equation: $|\\mathbf{A} - \\lambda \\mathbf{I}| = \\mathbf{0}$ (called the [characteristic equation]) for $\\lambda$.\n",
    "- For each value of $\\lambda$ found, solve the equation $(\\mathbf{A}-\\lambda)\\;\\mathbf{x}=\\mathbf{0}$ or use Gaussian elimination to convert the [augmented matrix] $(\\mathbf{A} - \\lambda \\mathbf{I}\\mid0)$ to echelon form then solve it as a system of linear equations.  \n",
    "\n",
    "Note that there are an infinite number of linear dependent eigenvectors associated with a single eigenvalue.\n",
    "\n",
    "[Eigenvalues and eigenvectors]: https://en.wikipedia.org/wiki/Eigenvalues_and_eigenvectors\n",
    "[characteristic equation]: https://en.wikipedia.org/wiki/Characteristic_polynomial\n",
    "[augmented matrix]: https://en.wikipedia.org/wiki/Augmented_matrix"
   ]
  },
  {
   "cell_type": "code",
   "execution_count": 2,
   "metadata": {},
   "outputs": [],
   "source": [
    "from util import np"
   ]
  },
  {
   "cell_type": "code",
   "execution_count": 17,
   "metadata": {
    "tags": []
   },
   "outputs": [],
   "source": [
    "A = np.array([\n",
    "    [3, 4, -2],\n",
    "    [1, 4, -1],\n",
    "    [2, 6, -1]]\n",
    ")\n",
    "eigenvalues, eigenvectors = linalg.eig(A)"
   ]
  },
  {
   "cell_type": "code",
   "execution_count": 5,
   "metadata": {
    "tags": []
   },
   "outputs": [
    {
     "data": {
      "text/plain": [
       "array([3., 2., 1.])"
      ]
     },
     "execution_count": 5,
     "metadata": {},
     "output_type": "execute_result"
    }
   ],
   "source": [
    "eigenvalues"
   ]
  },
  {
   "cell_type": "code",
   "execution_count": 8,
   "metadata": {},
   "outputs": [
    {
     "data": {
      "text/plain": [
       "6.000000000000002"
      ]
     },
     "execution_count": 8,
     "metadata": {},
     "output_type": "execute_result"
    }
   ],
   "source": [
    "eigenvalues.sum()"
   ]
  },
  {
   "cell_type": "code",
   "execution_count": 11,
   "metadata": {
    "execution": {
     "iopub.execute_input": "2022-05-09T16:50:36.394133Z",
     "iopub.status.busy": "2022-05-09T16:50:36.393863Z",
     "iopub.status.idle": "2022-05-09T16:50:36.399113Z",
     "shell.execute_reply": "2022-05-09T16:50:36.398238Z",
     "shell.execute_reply.started": "2022-05-09T16:50:36.394108Z"
    },
    "tags": []
   },
   "outputs": [
    {
     "data": {
      "text/plain": [
       "array([[-0.4082,  0.    ,  0.7071],\n",
       "       [-0.4082,  0.4472, -0.    ],\n",
       "       [-0.8165,  0.8944,  0.7071]])"
      ]
     },
     "execution_count": 11,
     "metadata": {},
     "output_type": "execute_result"
    }
   ],
   "source": [
    "eigenvectors\n",
    "# each column is an eigenvector"
   ]
  },
  {
   "cell_type": "code",
   "execution_count": 12,
   "metadata": {
    "execution": {
     "iopub.execute_input": "2022-05-09T16:50:57.999490Z",
     "iopub.status.busy": "2022-05-09T16:50:57.998193Z",
     "iopub.status.idle": "2022-05-09T16:50:58.011590Z",
     "shell.execute_reply": "2022-05-09T16:50:58.010591Z",
     "shell.execute_reply.started": "2022-05-09T16:50:57.999429Z"
    },
    "tags": []
   },
   "outputs": [
    {
     "data": {
      "text/plain": [
       "array([-0.4082, -0.4082, -0.8165])"
      ]
     },
     "execution_count": 12,
     "metadata": {},
     "output_type": "execute_result"
    }
   ],
   "source": [
    "eigenvectors[:, 0]"
   ]
  },
  {
   "cell_type": "markdown",
   "metadata": {},
   "source": [
    "Now calculate the value of $\\mathbf{A}\\mathbf{x}$ and $\\lambda \\mathbf{x}$ and check if they are equal."
   ]
  },
  {
   "cell_type": "code",
   "execution_count": 18,
   "metadata": {
    "execution": {
     "iopub.execute_input": "2022-05-09T17:26:13.782857Z",
     "iopub.status.busy": "2022-05-09T17:26:13.782489Z",
     "iopub.status.idle": "2022-05-09T17:26:13.789831Z",
     "shell.execute_reply": "2022-05-09T17:26:13.788806Z",
     "shell.execute_reply.started": "2022-05-09T17:26:13.782832Z"
    },
    "tags": []
   },
   "outputs": [
    {
     "data": {
      "text/plain": [
       "True"
      ]
     },
     "execution_count": 18,
     "metadata": {},
     "output_type": "execute_result"
    }
   ],
   "source": [
    "lhs = A @ eigenvectors[:,0]\n",
    "rhs = eigenvalues[0] * eigenvectors[:,0]\n",
    "np.allclose(lhs, rhs)"
   ]
  },
  {
   "cell_type": "markdown",
   "metadata": {},
   "source": [
    "#### Properties\n",
    "Here are some properties of eigenvalues:\n",
    "- The sum of all eigenvalues is the same as the trace of $\\mathbf{A}$.\n",
    "- The product of all eigenvalues is the same as the determinant of $\\mathbf{A}$.\n",
    "- The number of eigenvalues equals to the rank of $\\mathbf{A}$.\n",
    "- $\\mathbf{A}$ and $\\mathbf{A}^T$ have the same set of eigenvalues."
   ]
  },
  {
   "cell_type": "markdown",
   "metadata": {},
   "source": [
    "## 2. Decomposition"
   ]
  },
  {
   "cell_type": "markdown",
   "metadata": {},
   "source": [
    "### 2.1. Eigendecomposition\n",
    "[Eigendecomposition] of a square matrix $\\mathbf{A}\\in\\mathbb{R}^{N\\times N}$ is the factorization that is based on its eigenvalues and eigenvectors and is only applied for [non-defective matrices] (matrices that are diagonizable). $\\mathbf{A}$ can be written as:\n",
    "\n",
    "$$\\mathbf{A}=\\mathbf{Q}\\mathbf{D}\\mathbf{Q}^{-1}$$\n",
    "\n",
    "[Eigendecomposition]: https://en.wikipedia.org/wiki/Eigendecomposition_of_a_matrix\n",
    "[non-defective matrices]: https://en.wikipedia.org/wiki/Diagonalizable_matrix"
   ]
  },
  {
   "cell_type": "code",
   "execution_count": null,
   "metadata": {},
   "outputs": [],
   "source": [
    "from util import np, linalg"
   ]
  },
  {
   "cell_type": "code",
   "execution_count": 20,
   "metadata": {
    "execution": {
     "iopub.execute_input": "2022-05-09T17:56:49.654994Z",
     "iopub.status.busy": "2022-05-09T17:56:49.654611Z",
     "iopub.status.idle": "2022-05-09T17:56:49.660258Z",
     "shell.execute_reply": "2022-05-09T17:56:49.659336Z",
     "shell.execute_reply.started": "2022-05-09T17:56:49.654958Z"
    },
    "tags": []
   },
   "outputs": [],
   "source": [
    "A = np.array(\n",
    "    [[3, 4, -2],\n",
    "     [1, 4, -1],\n",
    "     [2, 6, -1]], dtype=float,\n",
    ")\n",
    "eigenvalues, eigenvectors = linalg.eig(A)\n",
    "D = np.diag(eigenvalues)\n",
    "Q = eigenvectors"
   ]
  },
  {
   "cell_type": "code",
   "execution_count": 22,
   "metadata": {
    "execution": {
     "iopub.execute_input": "2022-05-09T17:58:15.442538Z",
     "iopub.status.busy": "2022-05-09T17:58:15.442275Z",
     "iopub.status.idle": "2022-05-09T17:58:15.448098Z",
     "shell.execute_reply": "2022-05-09T17:58:15.447084Z",
     "shell.execute_reply.started": "2022-05-09T17:58:15.442515Z"
    },
    "tags": []
   },
   "outputs": [
    {
     "data": {
      "text/plain": [
       "True"
      ]
     },
     "execution_count": 22,
     "metadata": {},
     "output_type": "execute_result"
    }
   ],
   "source": [
    "lhs = A\n",
    "rhs = Q @ D @ linalg.inv(Q)\n",
    "np.allclose(lhs, rhs)"
   ]
  },
  {
   "cell_type": "markdown",
   "metadata": {},
   "source": [
    "#### Properties\n",
    "- We can easily prove that: $\\mathbf{A}^k=\\mathbf{Q}\\mathbf{D}^k\\mathbf{Q}^{-1}$. By letting $k=-1$, this property can be used to compute the inverse of $\\mathbf{A}$.\n",
    "- When $\\mathbf{A}$ is a [symmetric matrix] ($\\mathbf{A}=\\mathbf{A}^{\\text{T}}$), it is always diagonalizable and its eigenvectors are [orthonormal]. Thus, $\\mathbf{Q}$ becomes an [orthogonal matrix]. This wonderful property is the foundation of famous PCA (Principle Components Analysis).\n",
    "\n",
    "[symmetric matrix]: https://en.wikipedia.org/wiki/Symmetric_matrix\n",
    "[orthonormal]: https://en.wikipedia.org/wiki/Orthonormality\n",
    "[orthogonal matrix]: https://en.wikipedia.org/wiki/Orthogonal_matrix"
   ]
  },
  {
   "cell_type": "code",
   "execution_count": 28,
   "metadata": {
    "execution": {
     "iopub.execute_input": "2022-05-09T17:59:36.501153Z",
     "iopub.status.busy": "2022-05-09T17:59:36.500776Z",
     "iopub.status.idle": "2022-05-09T17:59:36.507451Z",
     "shell.execute_reply": "2022-05-09T17:59:36.506418Z",
     "shell.execute_reply.started": "2022-05-09T17:59:36.501119Z"
    },
    "tags": []
   },
   "outputs": [
    {
     "data": {
      "text/plain": [
       "True"
      ]
     },
     "execution_count": 28,
     "metadata": {},
     "output_type": "execute_result"
    }
   ],
   "source": [
    "power = 5\n",
    "\n",
    "lhs = np.linalg.matrix_power(A, power)\n",
    "rhs = Q @ np.linalg.matrix_power(D, power) @ linalg.inv(Q)\n",
    "\n",
    "np.allclose(lhs, rhs)"
   ]
  },
  {
   "cell_type": "markdown",
   "metadata": {},
   "source": [
    "#### Diagonalization\n",
    "Diagonalization is the process of transform a square matrix to a diagonal matrix so that it retains the main properties. By performing eigendecomposition, we are diagonalizing $\\mathbf{A}$ into $\\mathbf{D}$. Let's analyze the situation to understand how $\\mathbf{D}$ shares the same characteristics with $\\mathbf{A}$.\n",
    "\n",
    "$$\n",
    "\\begin{aligned}\n",
    "    \\mathbf{Ax} &= \\mathbf{y} \\\\\n",
    "    \\Leftrightarrow\\mathbf{Q}\\mathbf{D}\\mathbf{Q}^{-1}\\mathbf{x} &= \\mathbf{y} \\\\\n",
    "    \\Leftrightarrow\\mathbf{D}\\left(\\mathbf{Q}^{-1}\\mathbf{x}\\right) &= \\left(\\mathbf{Q}^{-1}\\mathbf{y}\\right)\n",
    "\\end{aligned}\n",
    "$$\n",
    "\n",
    "In the first equation, $\\mathbf{y}$ is the image of $\\mathbf{x}$ in the new coordinates system proposed by $\\mathbf{A}$. In the third equation, notice that both $\\mathbf{x}$ and $\\mathbf{y}$ are transformed in the same way. We can conclude that $\\mathbf{D}$ represents the simplest form of $\\mathbf{A}$ that requires less entries ($N$ instead of $N^2$)."
   ]
  },
  {
   "cell_type": "markdown",
   "metadata": {},
   "source": [
    "### 2.2. SVD\n",
    "[Singular Value Decomposition] (SVD) is the generalization of eigendecomposition of a square matrix to any rectangular matrix. In Machine Learning, it has a lot of applications such as finding [pseudo-inverse] and solving for [least squares] problems. SVD says that any matrix $\\mathbf{A}\\in\\mathbb{R}^{M\\times N}$ can be factorized into:\n",
    "\n",
    "$$\\mathbf{A}=\\mathbf{U}\\mathbf{S}\\mathbf{V}^{\\text{T}}$$\n",
    "\n",
    "where:\n",
    "- $\\mathbf{U}\\in\\mathbb{R}^{M\\times M}$ stores the eigenvectors of $\\mathbf{A}\\mathbf{A}^{\\text{T}}$\n",
    "- $\\mathbf{V}\\in\\mathbb{R}^{N\\times N}$ stores the eigenvectors of $\\mathbf{A}^{\\text{T}}\\mathbf{A}$\n",
    "- $\\mathbf{S}\\in\\mathbb{R}^{M\\times N}$ is a diagonal matrix with singular values lying on the diagonal\n",
    "\n",
    "[Singular Value Decomposition]: https://en.wikipedia.org/wiki/Singular_value_decomposition\n",
    "[pseudo-inverse]: https://en.wikipedia.org/wiki/Moore%E2%80%93Penrose_inverse\n",
    "[least squares]: https://en.wikipedia.org/wiki/Total_least_squares"
   ]
  },
  {
   "cell_type": "code",
   "execution_count": 29,
   "metadata": {},
   "outputs": [],
   "source": [
    "from util import np, linalg"
   ]
  },
  {
   "cell_type": "code",
   "execution_count": 33,
   "metadata": {
    "execution": {
     "iopub.execute_input": "2022-08-05T01:21:44.315805Z",
     "iopub.status.busy": "2022-08-05T01:21:44.315456Z",
     "iopub.status.idle": "2022-08-05T01:21:44.319817Z",
     "shell.execute_reply": "2022-08-05T01:21:44.318877Z",
     "shell.execute_reply.started": "2022-08-05T01:21:44.315780Z"
    },
    "tags": []
   },
   "outputs": [],
   "source": [
    "A = np.array([\n",
    "    [4, 9, 4, 6],\n",
    "    [5, 7, 4, 5],\n",
    "    [3, 1, 7, 9],\n",
    "])\n",
    "\n",
    "U, S, Vh = linalg.svd(A)"
   ]
  },
  {
   "cell_type": "code",
   "execution_count": 31,
   "metadata": {
    "execution": {
     "iopub.execute_input": "2022-08-05T01:22:34.281073Z",
     "iopub.status.busy": "2022-08-05T01:22:34.280718Z",
     "iopub.status.idle": "2022-08-05T01:22:34.286816Z",
     "shell.execute_reply": "2022-08-05T01:22:34.285737Z",
     "shell.execute_reply.started": "2022-08-05T01:22:34.281047Z"
    },
    "tags": []
   },
   "outputs": [
    {
     "data": {
      "text/plain": [
       "array([[ 0.6253,  0.453 ,  0.6354],\n",
       "       [ 0.5556,  0.3133, -0.7702],\n",
       "       [ 0.548 , -0.8346,  0.0558]])"
      ]
     },
     "execution_count": 31,
     "metadata": {},
     "output_type": "execute_result"
    }
   ],
   "source": [
    "U"
   ]
  },
  {
   "cell_type": "code",
   "execution_count": 35,
   "metadata": {},
   "outputs": [
    {
     "data": {
      "text/plain": [
       "array([18.8115,  6.9597,  1.2991])"
      ]
     },
     "execution_count": 35,
     "metadata": {},
     "output_type": "execute_result"
    }
   ],
   "source": [
    "S"
   ]
  },
  {
   "cell_type": "code",
   "execution_count": 36,
   "metadata": {
    "execution": {
     "iopub.execute_input": "2022-08-05T01:24:28.735861Z",
     "iopub.status.busy": "2022-08-05T01:24:28.735529Z",
     "iopub.status.idle": "2022-08-05T01:24:28.741310Z",
     "shell.execute_reply": "2022-08-05T01:24:28.739748Z",
     "shell.execute_reply.started": "2022-08-05T01:24:28.735837Z"
    },
    "tags": []
   },
   "outputs": [
    {
     "data": {
      "text/plain": [
       "array([[ 0.368 ,  0.5351,  0.455 ,  0.6093],\n",
       "       [ 0.1257,  0.781 , -0.3991, -0.4637],\n",
       "       [-0.8789,  0.295 , -0.1142,  0.3571],\n",
       "       [ 0.2763, -0.1293, -0.7878,  0.535 ]])"
      ]
     },
     "execution_count": 36,
     "metadata": {},
     "output_type": "execute_result"
    }
   ],
   "source": [
    "Vh"
   ]
  },
  {
   "cell_type": "markdown",
   "metadata": {},
   "source": [
    "#### Properties\n",
    "Notice that both $\\mathbf{A}\\mathbf{A}^{\\text{T}}$ and $\\mathbf{A}^{\\text{T}}\\mathbf{A}$ are symmetric matrices, thus their eigenvectors are orthogonal. As $\\mathbf{U}$ and $\\mathbf{V}$ are constructed of these vectors, we call them orthogonal matrices. An orthogonal matrix is unitary:\n",
    "\n",
    "$$\\mathbf{U}\\mathbf{U}^{\\text{T}}=\\mathbf{U}\\mathbf{U}^{-1}=\\mathbf{I}$$\n",
    "\n",
    "$\\mathbf{A}\\mathbf{A}^{\\text{T}}$ and $\\mathbf{A}^{\\text{T}}\\mathbf{A}$ in fact share the same set of positive eigenvalues. It turns out, their square roots are the singular values which lies on the diagonal of $\\mathbf{S}$. This relationship can be expressed using the eigendecomposition of either $\\mathbf{A}\\mathbf{A}^{\\text{T}}$ or $\\mathbf{A}^{\\text{T}}\\mathbf{A}$:\n",
    "\n",
    "$$\\begin{aligned}\n",
    "\\mathbf{A}\\mathbf{A}^{\\text{T}}\n",
    "&= \\left(\\mathbf{U}\\mathbf{S}\\mathbf{V}^{\\text{T}}\\right)\\left(\\mathbf{U}\\mathbf{S}\\mathbf{V}^{\\text{T}}\\right)^{\\text{T}} \\\\\n",
    "&= \\mathbf{U}\\mathbf{S}\\mathbf{V}^{\\text{T}}\\mathbf{V}\\mathbf{S}^{\\text{T}}\\mathbf{U}^{\\text{T}} \\\\\n",
    "&= \\mathbf{U}(\\mathbf{S}\\mathbf{S}^{\\text{T}})\\mathbf{U}^{-1} \\\\\n",
    "\\end{aligned}$$\n",
    "\n",
    "As $\\mathbf{S}$ is a diagonal matrix, to calculate $\\mathbf{S}\\mathbf{S}^{\\text{T}}$ we only need to square the elements on the diagonal of $\\mathbf{S}$. In other words, squaring singular values of $\\mathbf{A}$ gives us the eigenvalues of $\\mathbf{A}\\mathbf{A}^{\\text{T}}$."
   ]
  },
  {
   "cell_type": "markdown",
   "metadata": {},
   "source": [
    "### 2.3. QR decomposition\n",
    "[QR decomposition] of a matrix $\\mathbf{A}$ is the factorization into a product of an orthogonal matrix $\\mathbf{Q}$ and an upper triangular matrix $\\mathbf{R}$. It is solved using [Gram-Schmidt process].\n",
    "\n",
    "[QR decomposition]: https://en.wikipedia.org/wiki/QR_decomposition\n",
    "[Gram-Schmidt process]: https://en.wikipedia.org/wiki/Gram%E2%80%93Schmidt_process"
   ]
  },
  {
   "cell_type": "code",
   "execution_count": 37,
   "metadata": {},
   "outputs": [],
   "source": [
    "from util import np, linalg"
   ]
  },
  {
   "cell_type": "code",
   "execution_count": 38,
   "metadata": {
    "execution": {
     "iopub.execute_input": "2022-08-05T01:21:03.484538Z",
     "iopub.status.busy": "2022-08-05T01:21:03.484206Z",
     "iopub.status.idle": "2022-08-05T01:21:03.489074Z",
     "shell.execute_reply": "2022-08-05T01:21:03.487992Z",
     "shell.execute_reply.started": "2022-08-05T01:21:03.484509Z"
    },
    "tags": []
   },
   "outputs": [],
   "source": [
    "A = np.array([\n",
    "    [4, 9, 4],\n",
    "    [5, 7, 4],\n",
    "    [3, 1, 7]\n",
    "])\n",
    "\n",
    "Q, R = linalg.qr(A)"
   ]
  },
  {
   "cell_type": "code",
   "execution_count": 13,
   "metadata": {
    "execution": {
     "iopub.execute_input": "2022-08-05T01:21:05.019334Z",
     "iopub.status.busy": "2022-08-05T01:21:05.018820Z",
     "iopub.status.idle": "2022-08-05T01:21:05.024444Z",
     "shell.execute_reply": "2022-08-05T01:21:05.023383Z",
     "shell.execute_reply.started": "2022-08-05T01:21:05.019295Z"
    },
    "tags": []
   },
   "outputs": [
    {
     "data": {
      "text/plain": [
       "array([[-0.5657,  0.6646,  0.4882],\n",
       "       [-0.7071, -0.0863, -0.7018],\n",
       "       [-0.4243, -0.7422,  0.5187]])"
      ]
     },
     "execution_count": 13,
     "metadata": {},
     "output_type": "execute_result"
    }
   ],
   "source": [
    "Q"
   ]
  },
  {
   "cell_type": "code",
   "execution_count": 14,
   "metadata": {
    "execution": {
     "iopub.execute_input": "2022-08-05T01:21:05.036414Z",
     "iopub.status.busy": "2022-08-05T01:21:05.036059Z",
     "iopub.status.idle": "2022-08-05T01:21:05.041149Z",
     "shell.execute_reply": "2022-08-05T01:21:05.040154Z",
     "shell.execute_reply.started": "2022-08-05T01:21:05.036390Z"
    },
    "tags": []
   },
   "outputs": [
    {
     "data": {
      "text/plain": [
       "array([[ -7.0711, -10.4652,  -8.061 ],\n",
       "       [  0.    ,   4.6347,  -2.8826],\n",
       "       [  0.    ,   0.    ,   2.7768]])"
      ]
     },
     "execution_count": 14,
     "metadata": {},
     "output_type": "execute_result"
    }
   ],
   "source": [
    "R"
   ]
  },
  {
   "cell_type": "markdown",
   "metadata": {},
   "source": [
    "## 3. Geometric meaning"
   ]
  },
  {
   "cell_type": "code",
   "execution_count": 2,
   "metadata": {},
   "outputs": [],
   "source": [
    "from util import np, plt\n",
    "from util import plot_vectors"
   ]
  },
  {
   "cell_type": "markdown",
   "metadata": {},
   "source": [
    "### 3.1. Scalars\n",
    "A scalar $c$ when times a vector $\\mathbf{a}$ has the following effects:\n",
    "- If $|c|>1$ then $\\mathbf{a}$ stretches, if $|c|<1$ then $\\mathbf{a}$ shrinks.\n",
    "- The sign of $c$ tells us the direction of the new vector: positive means same direction, negative means opposite direction."
   ]
  },
  {
   "cell_type": "code",
   "execution_count": 3,
   "metadata": {
    "render": {
     "image": {
      "align": "center",
      "scale": "50%"
     }
    },
    "tags": []
   },
   "outputs": [
    {
     "data": {
      "image/png": "[encoded data removed]",
      "text/plain": [
       "<Figure size 800x550 with 1 Axes>"
      ]
     },
     "metadata": {
      "image/png": {
       "height": 380,
       "width": 665
      }
     },
     "output_type": "display_data"
    }
   ],
   "source": [
    "data = [\n",
    "    [8, 4, 'deepskyblue'],\n",
    "    [-2, -1, 'coral'],\n",
    "    [4, 2, 'black'],\n",
    "]\n",
    "\n",
    "plot_vectors(data)"
   ]
  },
  {
   "cell_type": "markdown",
   "metadata": {},
   "source": [
    "### 3.2. Column vectors\n",
    "In a 2-dimensional $xy$-coordinates, we conventionally call $\\mathbf{i}_1$ and $\\mathbf{i}_2$ the [basis/unit vectors]:\n",
    "\n",
    "$$\\mathbf{i}_1=\\begin{bmatrix}1\\\\0\\end{bmatrix},\\;\\mathbf{i}_2=\\begin{bmatrix}0\\\\1\\end{bmatrix}$$\n",
    "\n",
    "Any vector $\\mathbf{a}$ can always be represented by these basis vectors, for example:\n",
    "\n",
    "$$\\mathbf{a}=\\begin{bmatrix}3\\\\2\\end{bmatrix}=3\\mathbf{i}_1+2\\mathbf{i}_2$$\n",
    "\n",
    "Note that there are an infinite number of representations of $\\mathbf{a}$. By convention, I use the origin as the *initial point* for all vectors. In other words, only the *terminal point* is neccessary to represent a vector.\n",
    "\n",
    "[basis/unit vectors]: https://en.wikipedia.org/wiki/Basis_(linear_algebra)"
   ]
  },
  {
   "cell_type": "code",
   "execution_count": 4,
   "metadata": {
    "render": {
     "image": {
      "align": "center",
      "scale": "50%"
     }
    },
    "tags": []
   },
   "outputs": [
    {
     "data": {
      "image/png": "[encoded data removed]",
      "text/plain": [
       "<Figure size 800x550 with 1 Axes>"
      ]
     },
     "metadata": {
      "image/png": {
       "height": 466,
       "width": 602
      }
     },
     "output_type": "display_data"
    }
   ],
   "source": [
    "data = [\n",
    "    [3, 2, 'deepskyblue'],\n",
    "    [3, 0, 'coral'],\n",
    "    [0, 2, 'coral'],\n",
    "    [1, 0, 'black'],\n",
    "    [0, 1, 'black'],\n",
    "]\n",
    "\n",
    "plot_vectors(data)"
   ]
  },
  {
   "cell_type": "markdown",
   "metadata": {},
   "source": [
    "### 3.3. Square matrices\n",
    "A square matrix represents a *change* of basis vectors. For example, let's consider the matrix:\n",
    "\n",
    "$$\\mathbf{A}=\\begin{bmatrix}2&1\\\\0&3\\end{bmatrix}$$\n",
    "\n",
    "$\\mathbf{A}$ represents a new coordinates system, in which $(\\mathbf{a}_1,\\mathbf{a}_2)$ become the new basis:\n",
    "\n",
    "$$\\mathbf{a}_1=\\begin{bmatrix}2\\\\0\\end{bmatrix},\\;\\mathbf{a}_2=\\begin{bmatrix}1\\\\3\\end{bmatrix}$$"
   ]
  },
  {
   "cell_type": "code",
   "execution_count": 5,
   "metadata": {
    "render": {
     "image": {
      "align": "center",
      "scale": "50%"
     }
    },
    "tags": []
   },
   "outputs": [
    {
     "data": {
      "image/png": "[encoded data removed]",
      "text/plain": [
       "<Figure size 800x550 with 1 Axes>"
      ]
     },
     "metadata": {
      "image/png": {
       "height": 466,
       "width": 355
      }
     },
     "output_type": "display_data"
    }
   ],
   "source": [
    "data = [\n",
    "    [2, 0, 'coral'],\n",
    "    [1, 3, 'coral'],\n",
    "    [1, 0, 'black'],\n",
    "    [0, 1, 'black'],\n",
    "]\n",
    "\n",
    "plot_vectors(data)"
   ]
  },
  {
   "cell_type": "markdown",
   "metadata": {},
   "source": [
    "### 3.4. Dot product\n",
    "In this part, we are going to discover the geometric meaning of the dot a product between a square matrix $\\mathbf{A}_{N\\times N}$ with a column vector $\\mathbf{b}_{N\\times 1}$. As far as we know, a square matrix can be thought as a *container* of new basis, where each column represents a basis vector:\n",
    "$\\mathbf{A}=[\\mathbf{a}_1,\\mathbf{a}_2,\\dots,\\mathbf{a}_N]$.\n",
    "For a specific case of $N=2$, the dot product $\\mathbf{Ab}$ is derived as follow:\n",
    "\n",
    "$$\n",
    "\\mathbf{A}\\mathbf{b} =\n",
    "\\begin{bmatrix}\\begin{array}{r} 2&-1 \\\\ 0&1 \\end{array}\\end{bmatrix}\n",
    "\\begin{bmatrix}\\begin{array}{r} 3 \\\\ 4 \\end{array}\\end{bmatrix}\n",
    "=\n",
    "3\\begin{bmatrix}\\begin{array}{r} 2 \\\\ 0 \\end{array}\\end{bmatrix} +\n",
    "4\\begin{bmatrix}\\begin{array}{r} -1 \\\\ 1 \\end{array}\\end{bmatrix}\n",
    "=\n",
    "3\\mathbf{a}_1+4\\mathbf{a}_2\n",
    "$$\n",
    "\n",
    "By treating $\\mathbf{A}$ as a set of new basis vectors, $(\\mathbf{a}_1,\\mathbf{a}_2)$, we can now construct a brand new coordinates system. The geometric meaning of the product $\\mathbf{Ab}$ is where $\\mathbf{b}$ points to in the new coordinates. A special case of dot product is when $\\mathbf{A}$ is a unit matrix, then we have $\\mathbf{b}=\\mathbf{A}\\mathbf{b}$. This equation tells us a unit matrix is just the same old representation of the original basis."
   ]
  },
  {
   "cell_type": "code",
   "execution_count": 6,
   "metadata": {
    "render": {
     "image": {
      "align": "center",
      "scale": "50%"
     }
    },
    "tags": []
   },
   "outputs": [
    {
     "data": {
      "image/png": "[encoded data removed]",
      "text/plain": [
       "<Figure size 800x550 with 1 Axes>"
      ]
     },
     "metadata": {
      "image/png": {
       "height": 324,
       "width": 657
      }
     },
     "output_type": "display_data"
    }
   ],
   "source": [
    "data = [\n",
    "    [2, 4, 'deepskyblue'],\n",
    "    [6, 0, 'coral'],\n",
    "    [-4, 4, 'coral'],\n",
    "    [2, 0, 'black'],\n",
    "    [-1, 1, 'black'],\n",
    "]\n",
    "\n",
    "plot_vectors(data)"
   ]
  },
  {
   "cell_type": "markdown",
   "metadata": {},
   "source": [
    "### 3.5. Determinant\n",
    "The determinant of a matrix\n",
    "$\\mathbf{M}_{2\\times 2}=\\begin{bmatrix}\\begin{array}{r} a&c \\\\ b&d \\end{array}\\end{bmatrix}$\n",
    "is the area of the [parallellogram] formed by new basis vectors.\n",
    "\n",
    "<img src=\"../image/chap-02/parallellogram.png\" style=\"height:250px; margin:20px auto 20px;\">\n",
    "\n",
    "For the matrix\n",
    "$\\mathbf{R}_{3\\times 3}=\\left[\\begin{array}{c|c|c|c}\\mathbf{r}_1 & \\mathbf{r}_2 & \\mathbf{r}_3\\end{array}\\right]$,\n",
    "its determinant is the volume of the [parallelepiped] formed by 3 new basis vectors.\n",
    "\n",
    "<img src=\"../image/chap-02/parallelepiped.png\" style=\"height:250px; margin:20px auto 20px;\">\n",
    "\n",
    "[parallellogram]: https://en.wikipedia.org/wiki/Parallelogram\n",
    "[parallelepiped]: https://en.wikipedia.org/wiki/Parallelepiped"
   ]
  },
  {
   "cell_type": "markdown",
   "metadata": {},
   "source": [
    "&#9800;&nbsp;<b>Note</b><br>\n",
    "A square matrix has the determinant of $0$ only when there is at least one of its vectors is *linear dependent* on the others. Assume the matrix $\\mathbf{R}_{3\\times 3}$ above has the determinant of $0$, then it can be one of the following situations:\n",
    "- There are at least one vector is $\\mathbf{0}$\n",
    "- There are at least a pair of vectors is parallel\n",
    "- All three vectors lies in the same plane\n",
    "\n",
    "Basically, if $\\det\\left(\\mathbf{R}\\right)=0$ then the new coordinates system has less than 3 dimensions."
   ]
  },
  {
   "cell_type": "markdown",
   "metadata": {},
   "source": [
    "### 3.6. Inverse\n",
    "If a matrix $\\mathbf{A}_{N\\times N}$ changes the basis, then $\\mathbf{A}^{-1}$ is the inverse transform that changes back to the old coordinates. The reason behind this is the equation $\\mathbf{A}\\cdot\\mathbf{A}^{-1} = \\mathbf{I}_N$.\n",
    "\n",
    "If $\\det\\left(\\mathbf{A}\\right)=0$ then $\\mathbf{A}$ maps the original coordinates into a new, lower dimensional space. In this case, the inverse transform cannot be performed; in other words, $\\mathbf{A}$ is  *non-invertible*."
   ]
  }
 ],
 "metadata": {
  "colab": {
   "name": "lecture6.ipynb",
   "provenance": [],
   "version": "0.3.2"
  },
  "kernelspec": {
   "display_name": "Python 3 (ipykernel)",
   "language": "python",
   "name": "python3"
  },
  "language_info": {
   "codemirror_mode": {
    "name": "ipython",
    "version": 3
   },
   "file_extension": ".py",
   "mimetype": "text/x-python",
   "name": "python",
   "nbconvert_exporter": "python",
   "pygments_lexer": "ipython3",
   "version": "3.12.0"
  },
  "toc-autonumbering": false
 },
 "nbformat": 4,
 "nbformat_minor": 4
}
