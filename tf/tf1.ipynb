{
 "cells": [
  {
   "cell_type": "markdown",
   "metadata": {
    "id": "IDtVVbFylG3y"
   },
   "source": [
    "**LUYỆN TẬP THỰC HÀNH TENSORFLOW**\n",
    "\n",
    "[DAY 1] BASIC MODELING"
   ]
  },
  {
   "cell_type": "markdown",
   "metadata": {
    "id": "ZFheJkvclfwy"
   },
   "source": [
    "1. Linear regression\n",
    "\n",
    "Cho 2 mảng xs (biến độc lập) và ys (biến phụ thuộc) như dưới, sử dụng tensorflow hãy xây dựng một mô hình đơn giản thể hiện mối quan hệ của 2 biến này"
   ]
  },
  {
   "cell_type": "code",
   "execution_count": null,
   "metadata": {
    "id": "1RwrL2LCk6d1"
   },
   "outputs": [],
   "source": [
    "xs = np.array([-1.0, 0.0, 1.0, 2.0, 3.0, 4.0], dtype=float)\n",
    "ys = np.array([0.0, 1.0, 2.0, 3.0, 4.0, 5.0], dtype=float)"
   ]
  },
  {
   "cell_type": "code",
   "execution_count": null,
   "metadata": {
    "id": "QqqT296umXTA"
   },
   "outputs": [],
   "source": [
    "# YOUR CODE HERE"
   ]
  },
  {
   "cell_type": "markdown",
   "metadata": {
    "id": "-fAziWyNl99U"
   },
   "source": [
    "2. Fashion MNIST\n",
    "\n",
    "Xây dựng mô hình phân loại với bộ dữ liệu Fashion MNIST. <br>\n",
    "Chú ý: đầu vào ảnh 28x28, đầu ra: 10 nhãn phân loại"
   ]
  },
  {
   "cell_type": "code",
   "execution_count": null,
   "metadata": {
    "id": "FTpirOr4mJQA"
   },
   "outputs": [],
   "source": [
    "fashion_mnist = tf.keras.datasets.fashion_mnist"
   ]
  },
  {
   "cell_type": "code",
   "execution_count": null,
   "metadata": {
    "id": "EaCjeFDEmw7B"
   },
   "outputs": [],
   "source": [
    "# YOUR CODE HERE"
   ]
  }
 ],
 "metadata": {
  "colab": {
   "name": "TF training_Day1.ipynb",
   "provenance": []
  },
  "kernelspec": {
   "display_name": "Python 3 (ipykernel)",
   "language": "python",
   "name": "python3"
  },
  "language_info": {
   "codemirror_mode": {
    "name": "ipython",
    "version": 3
   },
   "file_extension": ".py",
   "mimetype": "text/x-python",
   "name": "python",
   "nbconvert_exporter": "python",
   "pygments_lexer": "ipython3",
   "version": "3.9.7"
  }
 },
 "nbformat": 4,
 "nbformat_minor": 4
}
