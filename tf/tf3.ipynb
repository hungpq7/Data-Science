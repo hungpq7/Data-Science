{
 "cells": [
  {
   "cell_type": "markdown",
   "metadata": {
    "colab_type": "text",
    "id": "view-in-github"
   },
   "source": [
    "<a href=\"https://colab.research.google.com/github/quanvu0996/TF_cert_training/blob/main/TF_training_Day_3.ipynb\" target=\"_parent\"><img src=\"https://colab.research.google.com/assets/colab-badge.svg\" alt=\"Open In Colab\"/></a>"
   ]
  },
  {
   "cell_type": "markdown",
   "metadata": {
    "id": "DT1HIeuecNwC"
   },
   "source": [
    "**LUYỆN TẬP THỰC HÀNH TENSORFLOW**\n",
    "\n",
    "[DAY 3] TIME SERIES MODELING"
   ]
  },
  {
   "cell_type": "code",
   "execution_count": 5,
   "metadata": {
    "id": "N0xLxH4wM_Z6"
   },
   "outputs": [],
   "source": [
    "\n",
    "import csv\n",
    "import tensorflow as tf\n",
    "import numpy as np\n",
    "import urllib\n"
   ]
  },
  {
   "cell_type": "code",
   "execution_count": null,
   "metadata": {
    "id": "7bkJ_HeOPXye"
   },
   "outputs": [],
   "source": [
    "\n",
    "# Build and train a neural network to predict sunspot activity using\n",
    "# the Sunspots.csv dataset.\n",
    "#\n",
    "# Your neural network must have an MAE of 0.12 or less on the normalized dataset\n",
    "# for top marks.\n",
    "#\n",
    "# Code for normalizing the data is provided and should not be changed.\n",
    "#\n",
    "# At the bottom of this file, we provide  some testing\n",
    "# code in case you want to check your model.\n",
    "\n",
    "# Note: Do not use lambda layers in your model, they are not supported\n",
    "# on the grading infrastructure.\n"
   ]
  },
  {
   "cell_type": "code",
   "execution_count": 6,
   "metadata": {
    "id": "i3qhMeHrM05-"
   },
   "outputs": [],
   "source": [
    "url = 'https://storage.googleapis.com/download.tensorflow.org/data/Sunspots.csv'\n",
    "urllib.request.urlretrieve(url, 'sunspots.csv')\n",
    "\n",
    "time_step = []\n",
    "sunspots = []\n",
    "\n",
    "with open('sunspots.csv') as csvfile:\n",
    "    reader = csv.reader(csvfile, delimiter=',')\n",
    "    next(reader)\n",
    "    for row in reader:\n",
    "        sunspots.append(float(row[2]))\n",
    "        time_step.append(int(row[0]))\n",
    "\n",
    "series = np.array(sunspots)"
   ]
  },
  {
   "cell_type": "code",
   "execution_count": 10,
   "metadata": {
    "id": "M4Yff59fMygR"
   },
   "outputs": [],
   "source": [
    "# DO NOT CHANGE THIS CODE\n",
    "def windowed_dataset(series, window_size, batch_size, shuffle_buffer):\n",
    "    series = tf.expand_dims(series, axis=-1)\n",
    "    ds = tf.data.Dataset.from_tensor_slices(series)\n",
    "    ds = ds.window(window_size + 1, shift=1, drop_remainder=True)\n",
    "    ds = ds.flat_map(lambda w: w.batch(window_size + 1))\n",
    "    ds = ds.shuffle(shuffle_buffer)\n",
    "    ds = ds.map(lambda w: (w[:-1], w[1:]))\n",
    "    return ds.batch(batch_size).prefetch(1)\n"
   ]
  },
  {
   "cell_type": "code",
   "execution_count": null,
   "metadata": {
    "id": "o5LqevFGPeh-"
   },
   "outputs": [],
   "source": [
    "\n",
    "# THIS CODE IS USED IN THE TESTER FOR FORECASTING. IF YOU WANT TO TEST YOUR MODEL\n",
    "# BEFORE UPLOADING YOU CAN DO IT WITH THIS\n",
    "# def model_forecast(model, series, window_size):\n",
    "#    ds = tf.data.Dataset.from_tensor_slices(series)\n",
    "#    ds = ds.window(window_size, shift=1, drop_remainder=True)\n",
    "#    ds = ds.flat_map(lambda w: w.batch(window_size))\n",
    "#    ds = ds.batch(32).prefetch(1)\n",
    "#    forecast = model.predict(ds)\n",
    "#    return forecast\n",
    "\n",
    "\n",
    "# window_size = # YOUR CODE HERE\n",
    "# rnn_forecast = model_forecast(model, series[..., np.newaxis], window_size)\n",
    "# rnn_forecast = rnn_forecast[split_time - window_size:-1, -1, 0]\n",
    "\n",
    "# result = tf.keras.metrics.mean_absolute_error(x_valid, rnn_forecast).numpy()\n",
    "\n",
    "## To get the maximum score, your model must have an MAE OF .12 or less.\n",
    "## When you Submit and Test your model, the grading infrastructure\n",
    "## converts the MAE of your model to a score from 0 to 5 as follows:\n",
    "\n",
    "# test_val = 100 * result\n",
    "# score = math.ceil(17 - test_val)\n",
    "# if score > 5:\n",
    "#    score = 5\n",
    "\n",
    "# print(score)"
   ]
  }
 ],
 "metadata": {
  "colab": {
   "authorship_tag": "ABX9TyMLgnWwjV538WMv+AjNe/Bp",
   "include_colab_link": true,
   "name": "TF_training_Day_3.ipynb",
   "provenance": []
  },
  "kernelspec": {
   "display_name": "Python 3 (ipykernel)",
   "language": "python",
   "name": "python3"
  },
  "language_info": {
   "codemirror_mode": {
    "name": "ipython",
    "version": 3
   },
   "file_extension": ".py",
   "mimetype": "text/x-python",
   "name": "python",
   "nbconvert_exporter": "python",
   "pygments_lexer": "ipython3",
   "version": "3.9.7"
  }
 },
 "nbformat": 4,
 "nbformat_minor": 4
}
