{
 "cells": [
  {
   "cell_type": "code",
   "execution_count": null,
   "metadata": {
    "colab": {},
    "colab_type": "code",
    "id": "AVdbdgYcpHN-"
   },
   "outputs": [],
   "source": [
    "import numpy as np\n",
    "import pandas as pd"
   ]
  },
  {
   "cell_type": "markdown",
   "metadata": {
    "colab_type": "text",
    "id": "wGV45OnlpHOH"
   },
   "source": [
    "## Bài 1\n",
    "Làm mịn đường biểu diễn nhiệt độ trong file `temperatures.xlsx` của 1 thành phố tùy ý, sử dụng trung bình trượt với chu kỳ = 7. \n",
    "\n",
    "Gợi ý: Sử dụng `rolling_mean`"
   ]
  },
  {
   "cell_type": "code",
   "execution_count": null,
   "metadata": {
    "colab": {},
    "colab_type": "code",
    "id": "yzwP1W7kpHOI"
   },
   "outputs": [],
   "source": []
  },
  {
   "cell_type": "markdown",
   "metadata": {
    "colab_type": "text",
    "id": "MF_cShV3pHOO"
   },
   "source": [
    "## Bài 2\n",
    "Ghép bảng trong tất cả các sheet của file `world_population_sheets.xlsx` thành 1 file duy nhất."
   ]
  },
  {
   "cell_type": "code",
   "execution_count": null,
   "metadata": {
    "colab": {},
    "colab_type": "code",
    "id": "p6yiHInMpHOR"
   },
   "outputs": [],
   "source": []
  },
  {
   "cell_type": "markdown",
   "metadata": {
    "colab_type": "text",
    "id": "aOU781capHOZ"
   },
   "source": [
    "## Bài 3\n",
    "Đọc dữ liệu từ 2 file `world_population.xlsx` và `gapminder.xlsx` rồi merge. Thử các cách merge khác nhau: left, right, inner, outer để đánh giá phương án nào tốt nhất."
   ]
  },
  {
   "cell_type": "code",
   "execution_count": null,
   "metadata": {
    "colab": {},
    "colab_type": "code",
    "id": "aSRlfTFLpHOb"
   },
   "outputs": [],
   "source": []
  },
  {
   "cell_type": "markdown",
   "metadata": {
    "colab_type": "text",
    "id": "hdsqEkU6pHOm"
   },
   "source": [
    "## Bài 4\n",
    "Pivot dữ liệu trong file `temperatures.xlsx` về dạng giữ nguyên cột `date`, mỗi thành phố trở thành một cột mới."
   ]
  },
  {
   "cell_type": "code",
   "execution_count": null,
   "metadata": {
    "colab": {},
    "colab_type": "code",
    "id": "8CvfW_pxpHOr"
   },
   "outputs": [],
   "source": []
  },
  {
   "cell_type": "markdown",
   "metadata": {
    "colab_type": "text",
    "id": "O_INzQ5kpHOx"
   },
   "source": [
    "## Bài 5\n",
    "Unpivot dữ liệu dưới đây, sử dụng `append` thay vì `melt`."
   ]
  },
  {
   "cell_type": "code",
   "execution_count": null,
   "metadata": {
    "colab": {},
    "colab_type": "code",
    "id": "-6L8U-OjpHOy"
   },
   "outputs": [],
   "source": [
    "wide = pd.DataFrame({\n",
    "    'Color': ['Red', 'Green', 'Blue'],\n",
    "    '2020 Q1': [1000, 1500, 2000],\n",
    "    '2020 Q2': [1200, 1500, 2200],\n",
    "    '2020 Q3': [1500, 1575, 2000],\n",
    "    '2020 Q4': [1700, 1800, 2800]\n",
    "})\n",
    "wide"
   ]
  }
 ],
 "metadata": {
  "colab": {
   "name": "Homework 09.ipynb",
   "provenance": []
  },
  "kernelspec": {
   "display_name": "Python 3 (ipykernel)",
   "language": "python",
   "name": "python3"
  },
  "language_info": {
   "codemirror_mode": {
    "name": "ipython",
    "version": 3
   },
   "file_extension": ".py",
   "mimetype": "text/x-python",
   "name": "python",
   "nbconvert_exporter": "python",
   "pygments_lexer": "ipython3",
   "version": "3.9.7"
  }
 },
 "nbformat": 4,
 "nbformat_minor": 4
}
