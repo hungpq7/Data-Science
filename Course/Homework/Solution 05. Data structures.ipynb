{
 "cells": [
  {
   "cell_type": "markdown",
   "metadata": {},
   "source": [
    "## Bài 1\n",
    "Cho 1 list dưới đây:\\\n",
    "`[python, java, tableau, eviews, matlab, sql, excel, data, analytic, science]`\n",
    "\n",
    "Tìm tất cả các từ có số chữ cái lớn hơn 5 trong list trên và in ra dưới dạng 1 tuple"
   ]
  },
  {
   "cell_type": "code",
   "execution_count": 1,
   "metadata": {},
   "outputs": [
    {
     "data": {
      "text/plain": [
       "['python', 'tableau', 'eviews', 'matlab', 'analytic', 'science']"
      ]
     },
     "execution_count": 1,
     "metadata": {},
     "output_type": "execute_result"
    }
   ],
   "source": [
    "data = ['python', 'java', 'tableau', 'eviews', 'matlab',\n",
    "        'sql', 'excel', 'data', 'analytic', 'science']\n",
    "result = []\n",
    "for i in data:\n",
    "    if len(i) > 5:\n",
    "        result.append(i)\n",
    "result = tuple(result)        \n",
    "result"
   ]
  },
  {
   "cell_type": "markdown",
   "metadata": {},
   "source": [
    "## Bài 2\n",
    "2 lần đánh giá kỹ năng của các chuyên viên Phân tích Dữ liệu thu được kết quả dưới dạng dictionary như dưới đây. Hãy tạo dictionary mới cập nhật tất cả kỹ năng mỗi người. Nếu một kỹ năng được test nhiều lần sẽ lấy kết quả sau cùng."
   ]
  },
  {
   "cell_type": "code",
   "execution_count": 1,
   "metadata": {},
   "outputs": [],
   "source": [
    "test1 = {\n",
    "    'Kevin': {'Statistics': 1, 'Python': 3, 'R': 1},\n",
    "    'Wayne': {'Statistics': 2, 'SQL': 4, 'Tableau': 3}\n",
    "}\n",
    "\n",
    "test2 = {\n",
    "    'Kevin': {'Statistics': 3, 'R': 2, 'SQL': 3},\n",
    "    'Wayne': {'R': 3},\n",
    "    'Aaron': {'Statistics': 4, 'Python': 5, 'SQL': 4, 'Machine Learning': 3}\n",
    "}"
   ]
  },
  {
   "cell_type": "code",
   "execution_count": 4,
   "metadata": {},
   "outputs": [
    {
     "data": {
      "text/plain": [
       "{'Kevin': {'Statistics': 3, 'Python': 3, 'R': 2, 'SQL': 3},\n",
       " 'Wayne': {'Statistics': 2, 'SQL': 4, 'Tableau': 3, 'R': 3},\n",
       " 'Aaron': {'Statistics': 4, 'Python': 5, 'SQL': 4, 'Machine Learning': 3}}"
      ]
     },
     "execution_count": 4,
     "metadata": {},
     "output_type": "execute_result"
    }
   ],
   "source": [
    "for key in test2.keys():\n",
    "    if key in test1.keys():\n",
    "        test1[key].update(test2[key])\n",
    "    else:\n",
    "        test1[key] = test2[key]\n",
    "\n",
    "result = test1\n",
    "result"
   ]
  },
  {
   "cell_type": "markdown",
   "metadata": {},
   "source": [
    "## Bài 3\n",
    "Cho dictionary `my_dict`. Hãy cập nhật thêm key cho `my_dict` từ `raw_dict` và `raw_list`. Sau đó sửa value của `my_dict` thành độ dài của key tương ứng."
   ]
  },
  {
   "cell_type": "code",
   "execution_count": 26,
   "metadata": {},
   "outputs": [],
   "source": [
    "my_dict = {\n",
    "    'Python': None,\n",
    "    'Anaconda': None,\n",
    "    'TabularData': None,\n",
    "    'PyCharm': None\n",
    "}\n",
    "\n",
    "raw_dict = {\n",
    "    'Statistics': None,\n",
    "    'LinearAlgebra': None,\n",
    "    'Tableau': None\n",
    "}\n",
    "\n",
    "raw_list = ['PowerBI', 'R', 'MachineLearning', 'DeepLearning']"
   ]
  },
  {
   "cell_type": "code",
   "execution_count": 29,
   "metadata": {},
   "outputs": [
    {
     "data": {
      "text/plain": [
       "{'Python': 6,\n",
       " 'Anaconda': 8,\n",
       " 'TabularData': 11,\n",
       " 'PyCharm': 7,\n",
       " 'Statistics': 10,\n",
       " 'LinearAlgebra': 13,\n",
       " 'Tableau': 7,\n",
       " 'PowerBI': 7,\n",
       " 'R': 1,\n",
       " 'MachineLearning': 15,\n",
       " 'DeepLearning': 12}"
      ]
     },
     "execution_count": 29,
     "metadata": {},
     "output_type": "execute_result"
    }
   ],
   "source": [
    "my_dict.update(raw_dict)\n",
    "\n",
    "for i in my_dict.keys():\n",
    "    my_dict[i] = len(i)\n",
    "\n",
    "for i in raw_list:\n",
    "    my_dict[i] = len(i)\n",
    "    \n",
    "my_dict"
   ]
  },
  {
   "cell_type": "markdown",
   "metadata": {},
   "source": [
    "## Bài 4\n",
    "Cho đoạn văn bản dưới đây. Hãy tạo ra một dictinary trong đó key là danh sách các từ (không viết hoa, sắp xếp theo alphabet), value là số lần xuất hiện của từ đó."
   ]
  },
  {
   "cell_type": "code",
   "execution_count": 24,
   "metadata": {},
   "outputs": [],
   "source": [
    "text = '''Python is an interpreted, high-level, general-purpose programming language. Created by Guido van Rossum and first released in 1991, Python is design philosophy emphasizes code readability with its notable use of significant whitespace. Its language constructs and object-oriented approach aim to help programmers write clear, logical code for small and large-scale projects.'''"
   ]
  },
  {
   "cell_type": "code",
   "execution_count": 25,
   "metadata": {},
   "outputs": [
    {
     "data": {
      "text/plain": [
       "{'aim': 1,\n",
       " 'an': 8,\n",
       " 'and': 3,\n",
       " 'approach': 1,\n",
       " 'by': 1,\n",
       " 'clear': 1,\n",
       " 'code': 2,\n",
       " 'constructs': 1,\n",
       " 'created': 1,\n",
       " 'design': 1,\n",
       " 'emphasizes': 1,\n",
       " 'first': 1,\n",
       " 'for': 1,\n",
       " 'general': 1,\n",
       " 'guido': 1,\n",
       " 'help': 1,\n",
       " 'high': 1,\n",
       " 'in': 3,\n",
       " 'interpreted': 1,\n",
       " 'is': 2,\n",
       " 'its': 2,\n",
       " 'language': 2,\n",
       " 'large': 1,\n",
       " 'level': 1,\n",
       " 'logical': 1,\n",
       " 'notable': 1,\n",
       " 'object': 1,\n",
       " 'of': 1,\n",
       " 'oriented': 1,\n",
       " 'philosophy': 1,\n",
       " 'programmers': 1,\n",
       " 'programming': 1,\n",
       " 'projects': 1,\n",
       " 'purpose': 1,\n",
       " 'python': 2,\n",
       " 'readability': 1,\n",
       " 'released': 1,\n",
       " 'rossum': 1,\n",
       " 'scale': 1,\n",
       " 'significant': 1,\n",
       " 'small': 1,\n",
       " 'to': 1,\n",
       " 'use': 1,\n",
       " 'van': 1,\n",
       " 'whitespace': 1,\n",
       " 'with': 1,\n",
       " 'write': 1}"
      ]
     },
     "execution_count": 25,
     "metadata": {},
     "output_type": "execute_result"
    }
   ],
   "source": [
    "word_list = ''\n",
    "text = text.lower()\n",
    "\n",
    "for i in text:\n",
    "    if i.isalpha() or i==' ':\n",
    "        word_list += i\n",
    "    if i=='-':\n",
    "        word_list += ' '\n",
    "\n",
    "word_list = word_list.split()\n",
    "word_list = sorted(word_list)\n",
    "\n",
    "output = {}\n",
    "for i in word_list:\n",
    "    output[i] = text.count(i)\n",
    "output"
   ]
  },
  {
   "cell_type": "markdown",
   "metadata": {
    "tags": []
   },
   "source": [
    "## Bài 5\n",
    "\n",
    "Viết chương trình tính tần suất của các phần tử trong list dưới đây, in ra kết quả dưới dạng dictionary.\\\n",
    "`[100, 30, 20, 100, 30, 200, 30, 20, 50, 600, 20, 20, 100, 50, 600, -15, -10]`"
   ]
  },
  {
   "cell_type": "code",
   "execution_count": null,
   "metadata": {},
   "outputs": [],
   "source": [
    "data = [100, 30, 20, 100, 30, 200, 30, 20, 50, 600, 20, 20, 100, 50, 600, -15, -10]\n",
    "freq = {x: data.count(x) for x in data}\n",
    "freq"
   ]
  },
  {
   "cell_type": "markdown",
   "metadata": {},
   "source": [
    "## Bài 6\n",
    "Viết một hàm nhận đầu vào là một số nguyên dương và trả về một list chứa các thừa số nguyên tố của nó.\\\n",
    "Ví dụ: `prime_decompose(12)` trả về `[2, 2, 3]`."
   ]
  },
  {
   "cell_type": "code",
   "execution_count": 2,
   "metadata": {},
   "outputs": [],
   "source": [
    "def prime_decompose(x):\n",
    "    prime_list = []\n",
    "\n",
    "    for i in range(2, x+1):\n",
    "        while x%i == 0:\n",
    "            prime_list.append(i)\n",
    "            x /= i\n",
    "    \n",
    "    return prime_list"
   ]
  },
  {
   "cell_type": "code",
   "execution_count": 7,
   "metadata": {},
   "outputs": [
    {
     "data": {
      "text/plain": [
       "[3, 3, 5, 5, 5]"
      ]
     },
     "execution_count": 7,
     "metadata": {},
     "output_type": "execute_result"
    }
   ],
   "source": [
    "prime_decompose(1125)"
   ]
  },
  {
   "cell_type": "markdown",
   "metadata": {},
   "source": [
    "## Bài 7\n",
    "a, b, c là các số nguyên nhỏ hơn 10 ; a + b/c = 10. In ra tất cả các lists `[a, b, c]` thỏa mãn điều kiện trên. Kết quả phải sắp xếp theo thứ tự a giảm dần, sau đó sắp xếp theo b tăng dần và c tăng dần."
   ]
  },
  {
   "cell_type": "code",
   "execution_count": null,
   "metadata": {},
   "outputs": [],
   "source": [
    "answer = [\n",
    "    print(f'{a}, {b}, {c}')\n",
    "    for a in range(9, 0, -1)\n",
    "    for b in range(0, 10)\n",
    "    for c in range(1, 10)\n",
    "    if a + b/c == 9\n",
    "]"
   ]
  },
  {
   "cell_type": "markdown",
   "metadata": {},
   "source": [
    "## Bài 8\n",
    "Viết một chương trình nhập vào 2 số nguyên `'x,y'` và tạo ra ma trận A có x dòng và y cột. Giá trị của mỗi phần tử trong ma trận được xác định bằng $A_{i, j}=i \\times j$ với $i \\in \\{1,2,3,...,x\\}$ và $j \\in \\{1,2,3,...,y\\}$."
   ]
  },
  {
   "cell_type": "code",
   "execution_count": null,
   "metadata": {},
   "outputs": [],
   "source": [
    "data = '4,5'\n",
    "x, y = data.split(',')\n",
    "x, y = int(x), int(y)\n",
    "A = [[(i+1)*(j+1) for j in range(y)] for i in range(x)]\n",
    "A"
   ]
  }
 ],
 "metadata": {
  "kernelspec": {
   "display_name": "Python 3 (ipykernel)",
   "language": "python",
   "name": "python3"
  },
  "language_info": {
   "codemirror_mode": {
    "name": "ipython",
    "version": 3
   },
   "file_extension": ".py",
   "mimetype": "text/x-python",
   "name": "python",
   "nbconvert_exporter": "python",
   "pygments_lexer": "ipython3",
   "version": "3.9.7"
  }
 },
 "nbformat": 4,
 "nbformat_minor": 4
}
