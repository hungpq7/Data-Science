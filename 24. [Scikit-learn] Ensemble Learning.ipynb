{
 "cells": [
  {
   "cell_type": "markdown",
   "metadata": {},
   "source": [
    "# 1. Random Forest\n",
    "*Reference: [Scikit Learn](https://scikit-learn.org/stable/modules/generated/sklearn.ensemble.RandomForestClassifier.html)*"
   ]
  },
  {
   "cell_type": "markdown",
   "metadata": {},
   "source": [
    "## 4.1. The algorithm\n",
    "Random Forest is an ensemble method consists of a large number of Decision Trees, they operate as a committee outperforms any individual weak model. This wonderful effect - the wisdom of crowds - can be explained that trees protect each other from their individual errors. If trees share the same behaviors, they also make the same mistakes. So, the low correlation between trees is the key. But how Random Forest ensures the trees are independent?"
   ]
  },
  {
   "cell_type": "markdown",
   "metadata": {},
   "source": [
    "#### Bootstrap aggregating\n",
    "Bootstrap aggregating (bagging) is a resampling technique that randomly selects instances from the original data to form a bootstrap sample, which becomes input for an individual tree. There are two points should be noticed:\n",
    "- Sampling is done with replacement, meaning an observation can appear more than once in a bootstrap sample. This makes every single tree is completely random.\n",
    "- The size for all bootstrap samples is fixed, it can be a number of observations or a ratio of the original size."
   ]
  },
  {
   "cell_type": "markdown",
   "metadata": {},
   "source": [
    "#### Variable randomness\n",
    "In a normal Decision Tree, every input variable is considered to find the best split at a node (so greedy). In contrast, each tree of a Random Forest only picks a random subset of variables, this forces even more variation amongst trees. Compare variable randomness to bootstrap aggregating, they both do sampling, but one selects rows, the other selects columns."
   ]
  },
  {
   "cell_type": "markdown",
   "metadata": {},
   "source": [
    "## 4.2. Implementation\n",
    "Notable hyperparameters:\n",
    "\n",
    "Hyperparameter|Meaning|Default value|Common values|\n",
    ":---|:---|:---|:---|\n",
    "`n_estimators`|Number of trees in the forest|`100`||\n",
    "`criterion`|Measure of impurity for each tree|`gini`|`entropy` `gini`|\n",
    "`max_features`|Number or ratio of variables used in each tree|`auto`|`0.8` `0.9`|\n",
    "`max_samples`|Number or ratio of instances used in each tree|`None`|`0.5`|"
   ]
  },
  {
   "cell_type": "code",
   "execution_count": 1,
   "metadata": {},
   "outputs": [],
   "source": [
    "import numpy as np\n",
    "import pandas as pd\n",
    "from sklearn.model_selection import train_test_split, GridSearchCV\n",
    "from sklearn.ensemble import RandomForestClassifier\n",
    "from sklearn.metrics import confusion_matrix, classification_report"
   ]
  },
  {
   "cell_type": "code",
   "execution_count": 2,
   "metadata": {},
   "outputs": [
    {
     "data": {
      "text/html": [
       "<div>\n",
       "<style scoped>\n",
       "    .dataframe tbody tr th:only-of-type {\n",
       "        vertical-align: middle;\n",
       "    }\n",
       "\n",
       "    .dataframe tbody tr th {\n",
       "        vertical-align: top;\n",
       "    }\n",
       "\n",
       "    .dataframe thead th {\n",
       "        text-align: right;\n",
       "    }\n",
       "</style>\n",
       "<table border=\"1\" class=\"dataframe\">\n",
       "  <thead>\n",
       "    <tr style=\"text-align: right;\">\n",
       "      <th></th>\n",
       "      <th>index</th>\n",
       "      <th>bad_customer</th>\n",
       "      <th>credit_balance_percent</th>\n",
       "      <th>age</th>\n",
       "      <th>num_of_group1_pastdue</th>\n",
       "      <th>debt_ratio</th>\n",
       "      <th>income</th>\n",
       "      <th>num_of_loans</th>\n",
       "      <th>num_of_times_late_90days</th>\n",
       "      <th>num_of_estate_loans</th>\n",
       "      <th>num_of_group2_pastdue</th>\n",
       "      <th>num_of_dependents</th>\n",
       "    </tr>\n",
       "  </thead>\n",
       "  <tbody>\n",
       "    <tr>\n",
       "      <th>0</th>\n",
       "      <td>0</td>\n",
       "      <td>1</td>\n",
       "      <td>0.766127</td>\n",
       "      <td>45</td>\n",
       "      <td>2</td>\n",
       "      <td>0.802982</td>\n",
       "      <td>9120.0</td>\n",
       "      <td>13</td>\n",
       "      <td>0</td>\n",
       "      <td>6</td>\n",
       "      <td>0</td>\n",
       "      <td>2.0</td>\n",
       "    </tr>\n",
       "    <tr>\n",
       "      <th>1</th>\n",
       "      <td>1</td>\n",
       "      <td>0</td>\n",
       "      <td>0.957151</td>\n",
       "      <td>40</td>\n",
       "      <td>0</td>\n",
       "      <td>0.121876</td>\n",
       "      <td>2600.0</td>\n",
       "      <td>4</td>\n",
       "      <td>0</td>\n",
       "      <td>0</td>\n",
       "      <td>0</td>\n",
       "      <td>1.0</td>\n",
       "    </tr>\n",
       "    <tr>\n",
       "      <th>2</th>\n",
       "      <td>2</td>\n",
       "      <td>0</td>\n",
       "      <td>0.658180</td>\n",
       "      <td>38</td>\n",
       "      <td>1</td>\n",
       "      <td>0.085113</td>\n",
       "      <td>3042.0</td>\n",
       "      <td>2</td>\n",
       "      <td>1</td>\n",
       "      <td>0</td>\n",
       "      <td>0</td>\n",
       "      <td>0.0</td>\n",
       "    </tr>\n",
       "    <tr>\n",
       "      <th>3</th>\n",
       "      <td>3</td>\n",
       "      <td>0</td>\n",
       "      <td>0.233810</td>\n",
       "      <td>30</td>\n",
       "      <td>0</td>\n",
       "      <td>0.036050</td>\n",
       "      <td>3300.0</td>\n",
       "      <td>5</td>\n",
       "      <td>0</td>\n",
       "      <td>0</td>\n",
       "      <td>0</td>\n",
       "      <td>0.0</td>\n",
       "    </tr>\n",
       "    <tr>\n",
       "      <th>4</th>\n",
       "      <td>4</td>\n",
       "      <td>0</td>\n",
       "      <td>0.907239</td>\n",
       "      <td>49</td>\n",
       "      <td>1</td>\n",
       "      <td>0.024926</td>\n",
       "      <td>63588.0</td>\n",
       "      <td>7</td>\n",
       "      <td>0</td>\n",
       "      <td>1</td>\n",
       "      <td>0</td>\n",
       "      <td>0.0</td>\n",
       "    </tr>\n",
       "  </tbody>\n",
       "</table>\n",
       "</div>"
      ],
      "text/plain": [
       "   index  bad_customer  credit_balance_percent  age  num_of_group1_pastdue  \\\n",
       "0      0             1                0.766127   45                      2   \n",
       "1      1             0                0.957151   40                      0   \n",
       "2      2             0                0.658180   38                      1   \n",
       "3      3             0                0.233810   30                      0   \n",
       "4      4             0                0.907239   49                      1   \n",
       "\n",
       "   debt_ratio   income  num_of_loans  num_of_times_late_90days  \\\n",
       "0    0.802982   9120.0            13                         0   \n",
       "1    0.121876   2600.0             4                         0   \n",
       "2    0.085113   3042.0             2                         1   \n",
       "3    0.036050   3300.0             5                         0   \n",
       "4    0.024926  63588.0             7                         0   \n",
       "\n",
       "   num_of_estate_loans  num_of_group2_pastdue  num_of_dependents  \n",
       "0                    6                      0                2.0  \n",
       "1                    0                      0                1.0  \n",
       "2                    0                      0                0.0  \n",
       "3                    0                      0                0.0  \n",
       "4                    1                      0                0.0  "
      ]
     },
     "execution_count": 2,
     "metadata": {},
     "output_type": "execute_result"
    }
   ],
   "source": [
    "credit = pd.read_excel('data/credit_scoring.xlsx')\n",
    "credit = credit.dropna().reset_index()\n",
    "credit.head()"
   ]
  },
  {
   "cell_type": "code",
   "execution_count": 3,
   "metadata": {},
   "outputs": [],
   "source": [
    "y = credit.bad_customer.values\n",
    "x = credit.drop(columns='bad_customer')"
   ]
  },
  {
   "cell_type": "code",
   "execution_count": 4,
   "metadata": {},
   "outputs": [],
   "source": [
    "x_train, x_test, y_train, y_test = train_test_split(x, y, test_size=0.2)"
   ]
  },
  {
   "cell_type": "code",
   "execution_count": 5,
   "metadata": {},
   "outputs": [
    {
     "data": {
      "text/plain": [
       "{'max_features': 0.8, 'max_samples': 0.5}"
      ]
     },
     "execution_count": 5,
     "metadata": {},
     "output_type": "execute_result"
    }
   ],
   "source": [
    "params = {\n",
    "    'max_features': [0.8, 0.9],\n",
    "    'max_samples': [0.5]\n",
    "}\n",
    "\n",
    "forest = RandomForestClassifier()\n",
    "forest = GridSearchCV(forest, params, cv=5)\n",
    "forest = forest.fit(x_train, y_train)\n",
    "forest.best_params_"
   ]
  },
  {
   "cell_type": "code",
   "execution_count": 7,
   "metadata": {},
   "outputs": [],
   "source": [
    "y_train_pred = forest.predict(x_train)\n",
    "y_test_pred = forest.predict(x_test)"
   ]
  },
  {
   "cell_type": "code",
   "execution_count": 8,
   "metadata": {},
   "outputs": [
    {
     "name": "stdout",
     "output_type": "stream",
     "text": [
      "              precision    recall  f1-score   support\n",
      "\n",
      "           0       0.97      1.00      0.98     89543\n",
      "           1       0.99      0.58      0.73      6672\n",
      "\n",
      "    accuracy                           0.97     96215\n",
      "   macro avg       0.98      0.79      0.86     96215\n",
      "weighted avg       0.97      0.97      0.97     96215\n",
      "\n"
     ]
    }
   ],
   "source": [
    "print(classification_report(y_train, y_train_pred))"
   ]
  },
  {
   "cell_type": "code",
   "execution_count": 9,
   "metadata": {},
   "outputs": [
    {
     "name": "stdout",
     "output_type": "stream",
     "text": [
      "              precision    recall  f1-score   support\n",
      "\n",
      "           0       0.94      0.99      0.96     22369\n",
      "           1       0.55      0.17      0.26      1685\n",
      "\n",
      "    accuracy                           0.93     24054\n",
      "   macro avg       0.75      0.58      0.61     24054\n",
      "weighted avg       0.91      0.93      0.92     24054\n",
      "\n"
     ]
    }
   ],
   "source": [
    "print(classification_report(y_test, y_test_pred))"
   ]
  }
 ],
 "metadata": {
  "kernelspec": {
   "display_name": "Python 3",
   "language": "python",
   "name": "python3"
  },
  "language_info": {
   "codemirror_mode": {
    "name": "ipython",
    "version": 3
   },
   "file_extension": ".py",
   "mimetype": "text/x-python",
   "name": "python",
   "nbconvert_exporter": "python",
   "pygments_lexer": "ipython3",
   "version": "3.8.3"
  }
 },
 "nbformat": 4,
 "nbformat_minor": 4
}
