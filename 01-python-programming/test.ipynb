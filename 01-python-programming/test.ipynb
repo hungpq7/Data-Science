{
 "cells": [
  {
   "cell_type": "code",
   "execution_count": 5,
   "id": "42e0a34a",
   "metadata": {},
   "outputs": [
    {
     "name": "stdout",
     "output_type": "stream",
     "text": [
      "Collecting sklearn-pandas\n",
      "  Downloading sklearn_pandas-2.2.0-py2.py3-none-any.whl.metadata (445 bytes)\n",
      "Requirement already satisfied: scikit-learn>=0.23.0 in /opt/anaconda3/envs/ds/lib/python3.12/site-packages (from sklearn-pandas) (1.4.2)\n",
      "Requirement already satisfied: scipy>=1.5.1 in /opt/anaconda3/envs/ds/lib/python3.12/site-packages (from sklearn-pandas) (1.13.0)\n",
      "Requirement already satisfied: pandas>=1.1.4 in /opt/anaconda3/envs/ds/lib/python3.12/site-packages (from sklearn-pandas) (2.2.2)\n",
      "Requirement already satisfied: numpy>=1.18.1 in /opt/anaconda3/envs/ds/lib/python3.12/site-packages (from sklearn-pandas) (1.26.4)\n",
      "Requirement already satisfied: python-dateutil>=2.8.2 in /opt/anaconda3/envs/ds/lib/python3.12/site-packages (from pandas>=1.1.4->sklearn-pandas) (2.9.0.post0)\n",
      "Requirement already satisfied: pytz>=2020.1 in /opt/anaconda3/envs/ds/lib/python3.12/site-packages (from pandas>=1.1.4->sklearn-pandas) (2024.1)\n",
      "Requirement already satisfied: tzdata>=2022.7 in /opt/anaconda3/envs/ds/lib/python3.12/site-packages (from pandas>=1.1.4->sklearn-pandas) (2024.1)\n",
      "Requirement already satisfied: joblib>=1.2.0 in /opt/anaconda3/envs/ds/lib/python3.12/site-packages (from scikit-learn>=0.23.0->sklearn-pandas) (1.4.0)\n",
      "Requirement already satisfied: threadpoolctl>=2.0.0 in /opt/anaconda3/envs/ds/lib/python3.12/site-packages (from scikit-learn>=0.23.0->sklearn-pandas) (3.4.0)\n",
      "Requirement already satisfied: six>=1.5 in /opt/anaconda3/envs/ds/lib/python3.12/site-packages (from python-dateutil>=2.8.2->pandas>=1.1.4->sklearn-pandas) (1.16.0)\n",
      "Downloading sklearn_pandas-2.2.0-py2.py3-none-any.whl (10 kB)\n",
      "Installing collected packages: sklearn-pandas\n",
      "Successfully installed sklearn-pandas-2.2.0\n",
      "Note: you may need to restart the kernel to use updated packages.\n"
     ]
    }
   ],
   "source": [
    "pip install sklearn-pandas"
   ]
  }
 ],
 "metadata": {
  "kernelspec": {
   "display_name": "Python 3 (ipykernel)",
   "language": "python",
   "name": "python3"
  },
  "language_info": {
   "codemirror_mode": {
    "name": "ipython",
    "version": 3
   },
   "file_extension": ".py",
   "mimetype": "text/x-python",
   "name": "python",
   "nbconvert_exporter": "python",
   "pygments_lexer": "ipython3",
   "version": "3.12.0"
  },
  "vscode": {
   "interpreter": {
    "hash": "aee8b7b246df8f9039afb4144a1f6fd8d2ca17a180786b69acc140d282b71a49"
   }
  }
 },
 "nbformat": 4,
 "nbformat_minor": 5
}
