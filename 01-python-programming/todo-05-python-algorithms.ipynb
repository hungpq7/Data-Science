{
 "cells": [
  {
   "cell_type": "markdown",
   "id": "a9c64e2e",
   "metadata": {},
   "source": [
    "# Python: Algorithms"
   ]
  },
  {
   "cell_type": "markdown",
   "id": "81c81b62",
   "metadata": {
    "vscode": {
     "languageId": "plaintext"
    }
   },
   "source": [
    "## Sorting"
   ]
  },
  {
   "cell_type": "code",
   "execution_count": 15,
   "id": "54d8fbea",
   "metadata": {},
   "outputs": [],
   "source": [
    "import numpy as np\n",
    "rng = np.random.default_rng(7)\n",
    "seq = rng.integers(low=1, high=100000, size=20).tolist()"
   ]
  },
  {
   "cell_type": "markdown",
   "id": "16ece034",
   "metadata": {},
   "source": [
    "### Bubble sort"
   ]
  },
  {
   "cell_type": "code",
   "execution_count": 16,
   "id": "875983a7",
   "metadata": {},
   "outputs": [
    {
     "data": {
      "text/plain": [
       "[527,\n",
       " 5554,\n",
       " 11909,\n",
       " 13144,\n",
       " 22521,\n",
       " 28507,\n",
       " 30017,\n",
       " 46794,\n",
       " 49979,\n",
       " 57829,\n",
       " 62509,\n",
       " 68418,\n",
       " 77568,\n",
       " 79707,\n",
       " 82123,\n",
       " 83365,\n",
       " 87355,\n",
       " 89721,\n",
       " 91262,\n",
       " 94490]"
      ]
     },
     "execution_count": 16,
     "metadata": {},
     "output_type": "execute_result"
    }
   ],
   "source": [
    "def bubble_sort(array):\n",
    "    n = len(array)\n",
    "    swapped = False\n",
    "    for i in range(n - 1):\n",
    "        if array[i] > array[i+1]:\n",
    "            array[i], array[i+1] = array[i+1], array[i]\n",
    "            swapped = True\n",
    "    return array if not swapped else bubble_sort(array)\n",
    "\n",
    "bubble_sort(seq)"
   ]
  }
 ],
 "metadata": {
  "kernelspec": {
   "display_name": "Python 3 (ipykernel)",
   "language": "python",
   "name": "python3"
  },
  "language_info": {
   "codemirror_mode": {
    "name": "ipython",
    "version": 3
   },
   "file_extension": ".py",
   "mimetype": "text/x-python",
   "name": "python",
   "nbconvert_exporter": "python",
   "pygments_lexer": "ipython3",
   "version": "3.10.0"
  },
  "vscode": {
   "interpreter": {
    "hash": "aee8b7b246df8f9039afb4144a1f6fd8d2ca17a180786b69acc140d282b71a49"
   }
  }
 },
 "nbformat": 4,
 "nbformat_minor": 5
}
