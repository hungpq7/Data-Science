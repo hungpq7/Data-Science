{
 "cells": [
  {
   "cell_type": "markdown",
   "metadata": {},
   "source": [
    "# 1. Mathematical functions\n",
    "*Reference: [SciPy](https://docs.scipy.org/doc/numpy-1.17.0/reference/routines.math.html)*"
   ]
  },
  {
   "cell_type": "code",
   "execution_count": 1,
   "metadata": {},
   "outputs": [],
   "source": [
    "import numpy as np"
   ]
  },
  {
   "cell_type": "markdown",
   "metadata": {},
   "source": [
    "#### Trigonometry"
   ]
  },
  {
   "cell_type": "code",
   "execution_count": null,
   "metadata": {},
   "outputs": [],
   "source": [
    "np.pi"
   ]
  },
  {
   "cell_type": "code",
   "execution_count": null,
   "metadata": {},
   "outputs": [],
   "source": [
    "np.sin(np.pi/2)"
   ]
  },
  {
   "cell_type": "code",
   "execution_count": null,
   "metadata": {},
   "outputs": [],
   "source": [
    "np.cos(0)"
   ]
  },
  {
   "cell_type": "code",
   "execution_count": null,
   "metadata": {},
   "outputs": [],
   "source": [
    "np.tan(np.pi/4)"
   ]
  },
  {
   "cell_type": "markdown",
   "metadata": {},
   "source": [
    "#### Rounding"
   ]
  },
  {
   "cell_type": "code",
   "execution_count": null,
   "metadata": {},
   "outputs": [],
   "source": [
    "array = np.array([-4.3, 3.14, 5.64, -7.55])\n",
    "np.floor(array)"
   ]
  },
  {
   "cell_type": "code",
   "execution_count": null,
   "metadata": {},
   "outputs": [],
   "source": [
    "array = np.array([-4.3, 3.14, 5.64, -7.55])\n",
    "np.ceil(array)"
   ]
  },
  {
   "cell_type": "code",
   "execution_count": null,
   "metadata": {},
   "outputs": [],
   "source": [
    "np.round(np.pi)"
   ]
  },
  {
   "cell_type": "code",
   "execution_count": null,
   "metadata": {},
   "outputs": [],
   "source": [
    "np.round(np.e, 2)"
   ]
  },
  {
   "cell_type": "markdown",
   "metadata": {},
   "source": [
    "#### Exponents and logarithms"
   ]
  },
  {
   "cell_type": "code",
   "execution_count": null,
   "metadata": {},
   "outputs": [],
   "source": [
    "np.e"
   ]
  },
  {
   "cell_type": "code",
   "execution_count": null,
   "metadata": {},
   "outputs": [],
   "source": [
    "array = np.array([1, 2, 3])\n",
    "np.exp(array)"
   ]
  },
  {
   "cell_type": "code",
   "execution_count": null,
   "metadata": {},
   "outputs": [],
   "source": [
    "np.emath.sqrt(-1)"
   ]
  },
  {
   "cell_type": "code",
   "execution_count": null,
   "metadata": {},
   "outputs": [],
   "source": [
    "np.log(np.e)"
   ]
  },
  {
   "cell_type": "code",
   "execution_count": null,
   "metadata": {},
   "outputs": [],
   "source": [
    "array = np.array([10, 1000, 100000])\n",
    "np.log10(array)"
   ]
  },
  {
   "cell_type": "markdown",
   "metadata": {},
   "source": [
    "#### Other functions"
   ]
  },
  {
   "cell_type": "code",
   "execution_count": null,
   "metadata": {},
   "outputs": [],
   "source": [
    "array = np.array([-4, 6, -7])\n",
    "np.abs(array)"
   ]
  },
  {
   "cell_type": "code",
   "execution_count": null,
   "metadata": {},
   "outputs": [],
   "source": [
    "array = np.arange(10)\n",
    "np.cumsum(array)"
   ]
  },
  {
   "cell_type": "code",
   "execution_count": null,
   "metadata": {},
   "outputs": [],
   "source": [
    "array = np.logspace(1, 4, 4)\n",
    "np.diff(array)"
   ]
  },
  {
   "cell_type": "markdown",
   "metadata": {},
   "source": [
    "#### Polynomial fitting\n",
    "Find the coefficients for the polynomial $p(\\mathbf{x})$ of degree $n$ that is the best fit for the data points $(\\mathbf{x}_i, \\mathbf{y}_i)$. Based on the least squares method."
   ]
  },
  {
   "cell_type": "code",
   "execution_count": 8,
   "metadata": {},
   "outputs": [
    {
     "data": {
      "image/png": "[encoded data removed]",
      "text/plain": [
       "<Figure size 432x288 with 1 Axes>"
      ]
     },
     "metadata": {},
     "output_type": "display_data"
    }
   ],
   "source": [
    "import seaborn as sns; sns.set_style('whitegrid')\n",
    "\n",
    "degree = 1\n",
    "\n",
    "x = np.array([10, 8, 13, 9, 11, 14, 6, 4, 12, 7, 5])\n",
    "y = np.array([8.04, 6.950, 7.58, 8.81, 8.33, 9.96, 7.24, 4.26, 10.84, 4.82, 5.68])\n",
    "\n",
    "coefs = np.polyfit(x, y, deg=degree)\n",
    "\n",
    "x_fit = np.linspace(0, 18, 1000)\n",
    "y_fit = sum(x_fit**(degree-i) * coefs[i] for i in range(degree+1))\n",
    "\n",
    "_ = sns.scatterplot(x, y)\n",
    "_ = sns.lineplot(x_fit, y_fit)"
   ]
  },
  {
   "cell_type": "markdown",
   "metadata": {},
   "source": [
    "# 2. Linear Algebra\n",
    "Convention:\n",
    "- Regular, lowercase letters are used for scalars.\n",
    "- Bold, lowercase letters are used for column vectors. For row vectors, add a transpose operator.\n",
    "- Bold, uppercase letters are used for matrices.\n",
    "\n",
    "For example:\n",
    "$x=5$, $\\alpha=8$, $\\mathbf{x}=\\begin{bmatrix}1\\\\2\\\\3\\end{bmatrix}$,\n",
    "$\\mathbf{0}=\\begin{bmatrix}0\\\\0\\\\0\\end{bmatrix}$,\n",
    "$\\mathbf{A}=\\begin{bmatrix}1&2&3\\\\4&5&6\\\\7&8&9\\end{bmatrix}$"
   ]
  },
  {
   "cell_type": "markdown",
   "metadata": {},
   "source": [
    "## 2.1. Special matrices"
   ]
  },
  {
   "cell_type": "code",
   "execution_count": 2,
   "metadata": {},
   "outputs": [],
   "source": [
    "import numpy as np"
   ]
  },
  {
   "cell_type": "markdown",
   "metadata": {},
   "source": [
    "#### Zero matrix\n",
    "The matrix where every element is equal to 0."
   ]
  },
  {
   "cell_type": "code",
   "execution_count": 3,
   "metadata": {},
   "outputs": [
    {
     "data": {
      "text/plain": [
       "array([[0, 0, 0, 0],\n",
       "       [0, 0, 0, 0],\n",
       "       [0, 0, 0, 0]])"
      ]
     },
     "execution_count": 3,
     "metadata": {},
     "output_type": "execute_result"
    }
   ],
   "source": [
    "np.zeros((3,4), dtype=int)"
   ]
  },
  {
   "cell_type": "markdown",
   "metadata": {},
   "source": [
    "#### Matrix of ones"
   ]
  },
  {
   "cell_type": "code",
   "execution_count": 4,
   "metadata": {},
   "outputs": [
    {
     "data": {
      "text/plain": [
       "array([[1, 1, 1, 1, 1, 1],\n",
       "       [1, 1, 1, 1, 1, 1],\n",
       "       [1, 1, 1, 1, 1, 1],\n",
       "       [1, 1, 1, 1, 1, 1]])"
      ]
     },
     "execution_count": 4,
     "metadata": {},
     "output_type": "execute_result"
    }
   ],
   "source": [
    "np.ones((4,6), dtype=int)"
   ]
  },
  {
   "cell_type": "markdown",
   "metadata": {},
   "source": [
    "#### Square matrix\n",
    "A matrix with the same number of rows and columns."
   ]
  },
  {
   "cell_type": "code",
   "execution_count": 5,
   "metadata": {},
   "outputs": [
    {
     "data": {
      "text/plain": [
       "array([[0.20639021, 0.6348458 , 0.41424616],\n",
       "       [0.74047367, 0.67598526, 0.92274593],\n",
       "       [0.43987545, 0.20554807, 0.38868093]])"
      ]
     },
     "execution_count": 5,
     "metadata": {},
     "output_type": "execute_result"
    }
   ],
   "source": [
    "np.random.random((3,3))"
   ]
  },
  {
   "cell_type": "code",
   "execution_count": 6,
   "metadata": {},
   "outputs": [
    {
     "data": {
      "text/plain": [
       "array([[0, 1, 2],\n",
       "       [3, 4, 5],\n",
       "       [6, 7, 8]])"
      ]
     },
     "execution_count": 6,
     "metadata": {},
     "output_type": "execute_result"
    }
   ],
   "source": [
    "np.arange(9).reshape(3,3)"
   ]
  },
  {
   "cell_type": "markdown",
   "metadata": {},
   "source": [
    "#### Unit/Identity matrix\n",
    "A square matrix with ones on the main diagonal and zeros elsewhere, denoted by $\\mathbf{I}_n$ where $n$ is the length of each size."
   ]
  },
  {
   "cell_type": "code",
   "execution_count": 7,
   "metadata": {},
   "outputs": [
    {
     "data": {
      "text/plain": [
       "array([[1, 0, 0, 0, 0],\n",
       "       [0, 1, 0, 0, 0],\n",
       "       [0, 0, 1, 0, 0],\n",
       "       [0, 0, 0, 1, 0],\n",
       "       [0, 0, 0, 0, 1]])"
      ]
     },
     "execution_count": 7,
     "metadata": {},
     "output_type": "execute_result"
    }
   ],
   "source": [
    "np.eye(N=5, dtype=int)"
   ]
  },
  {
   "cell_type": "markdown",
   "metadata": {},
   "source": [
    "#### Diagonal matrix\n",
    "A square matrix in which the elements outside the main diagonal are all zero."
   ]
  },
  {
   "cell_type": "code",
   "execution_count": 8,
   "metadata": {},
   "outputs": [
    {
     "data": {
      "text/plain": [
       "array([[9, 0, 0, 0],\n",
       "       [0, 2, 0, 0],\n",
       "       [0, 0, 7, 0],\n",
       "       [0, 0, 0, 2]])"
      ]
     },
     "execution_count": 8,
     "metadata": {},
     "output_type": "execute_result"
    }
   ],
   "source": [
    "array = np.random.randint(10, size=(4,4))\n",
    "np.diag(np.diag(array))"
   ]
  },
  {
   "cell_type": "markdown",
   "metadata": {},
   "source": [
    "#### Triangular matrix\n",
    "Two types of triangular matrix: lower and upper."
   ]
  },
  {
   "cell_type": "code",
   "execution_count": 9,
   "metadata": {},
   "outputs": [
    {
     "data": {
      "text/plain": [
       "array([[6, 0, 0, 0],\n",
       "       [4, 1, 0, 0],\n",
       "       [2, 7, 5, 0],\n",
       "       [6, 5, 3, 0]])"
      ]
     },
     "execution_count": 9,
     "metadata": {},
     "output_type": "execute_result"
    }
   ],
   "source": [
    "array = np.random.randint(10, size=(4,4))\n",
    "np.tril(array)"
   ]
  },
  {
   "cell_type": "code",
   "execution_count": 10,
   "metadata": {},
   "outputs": [
    {
     "data": {
      "text/plain": [
       "array([[2, 3, 3, 1],\n",
       "       [0, 8, 2, 7],\n",
       "       [0, 0, 0, 7],\n",
       "       [0, 0, 0, 3]])"
      ]
     },
     "execution_count": 10,
     "metadata": {},
     "output_type": "execute_result"
    }
   ],
   "source": [
    "array = np.random.randint(10, size=(4,4))\n",
    "np.triu(array)"
   ]
  },
  {
   "cell_type": "markdown",
   "metadata": {},
   "source": [
    "#### Sparse matrix\n",
    "Sparse matrix is a large matrix that most of its elements are zero. Our approach is to compress the sparse matrix to storing the non-zero values only (compressed sparse row (CSR) matrix). This lead to significant computational saving.\n",
    "\n",
    "For example, imagine a matrix where every column is a Netflix movie and each row is a Netflix user, the values are how many times an user has watched a particular movie. That matrix would have thousands of columns and milions of rows. However, since most users have not watched most movies, the vast majority of the matrix values would be zero."
   ]
  },
  {
   "cell_type": "code",
   "execution_count": null,
   "metadata": {},
   "outputs": [],
   "source": [
    "from scipy import sparse"
   ]
  },
  {
   "cell_type": "code",
   "execution_count": null,
   "metadata": {},
   "outputs": [],
   "source": [
    "large_matrix = np.array(\n",
    "    [[0, 0, 0, 0, 0, 4, 0, 0, 7, 0],\n",
    "     [0, 1, 0, 0, 0, 0, 0, 0, 0, 0],\n",
    "     [3, 0, 0, 0, 0, 0, 0, 0, 8, 0]]\n",
    ")\n",
    "large_matrix"
   ]
  },
  {
   "cell_type": "code",
   "execution_count": null,
   "metadata": {},
   "outputs": [],
   "source": [
    "np.nonzero(large_matrix)"
   ]
  },
  {
   "cell_type": "code",
   "execution_count": null,
   "metadata": {},
   "outputs": [],
   "source": [
    "compressed_matrix = sparse.csr_matrix(large_matrix)"
   ]
  },
  {
   "cell_type": "code",
   "execution_count": null,
   "metadata": {},
   "outputs": [],
   "source": [
    "print(compressed_matrix)"
   ]
  },
  {
   "cell_type": "markdown",
   "metadata": {},
   "source": [
    "## 2.2. Matrix operations"
   ]
  },
  {
   "cell_type": "code",
   "execution_count": null,
   "metadata": {},
   "outputs": [],
   "source": [
    "import numpy as np"
   ]
  },
  {
   "cell_type": "markdown",
   "metadata": {},
   "source": [
    "#### Addition\n",
    "The matrices to be used in addition or subtraction must be of the same shape. The sum of $\\mathbf{A}$ $(m \\times n)$ and $\\mathbf{B}$ $(m \\times n)$ is calculated:\n",
    "\n",
    "$$(\\mathbf{A}+\\mathbf{B})_{ij} = \\mathbf{A}_{ij} + \\mathbf{B}_{ij}$$\n",
    "\n",
    "where $i \\in \\{1, 2, 3,\\dots, m\\}$ and $j \\in \\{1, 2, 3,\\dots, n\\}$"
   ]
  },
  {
   "cell_type": "code",
   "execution_count": 11,
   "metadata": {},
   "outputs": [],
   "source": [
    "A = np.array([[1, 2, 3],\n",
    "              [4, 5, 6]])"
   ]
  },
  {
   "cell_type": "code",
   "execution_count": 12,
   "metadata": {},
   "outputs": [],
   "source": [
    "B = np.array([[7, 5, 8],\n",
    "              [2, 0, 7]])"
   ]
  },
  {
   "cell_type": "code",
   "execution_count": 13,
   "metadata": {},
   "outputs": [
    {
     "data": {
      "text/plain": [
       "array([[ 8,  7, 11],\n",
       "       [ 6,  5, 13]])"
      ]
     },
     "execution_count": 13,
     "metadata": {},
     "output_type": "execute_result"
    }
   ],
   "source": [
    "A + B"
   ]
  },
  {
   "cell_type": "code",
   "execution_count": 14,
   "metadata": {},
   "outputs": [
    {
     "data": {
      "text/plain": [
       "array([[ 6,  3,  5],\n",
       "       [-2, -5,  1]])"
      ]
     },
     "execution_count": 14,
     "metadata": {},
     "output_type": "execute_result"
    }
   ],
   "source": [
    "B - A"
   ]
  },
  {
   "cell_type": "markdown",
   "metadata": {},
   "source": [
    "Alternatively, you can use `numpy.add()`."
   ]
  },
  {
   "cell_type": "code",
   "execution_count": null,
   "metadata": {},
   "outputs": [],
   "source": [
    "np.add(A, B)"
   ]
  },
  {
   "cell_type": "markdown",
   "metadata": {},
   "source": [
    "#### Scalar multiplication\n",
    "For a scalar $c$ and a matrix $\\mathbf{A}$ $(m\\times n)$, the multiplication can be computed: $(c\\mathbf{A})_{ij} = c\\cdot \\mathbf{A}_{ij}$"
   ]
  },
  {
   "cell_type": "code",
   "execution_count": 15,
   "metadata": {},
   "outputs": [],
   "source": [
    "A = np.array([[1, 2, 3],\n",
    "              [4, 5, 6]])"
   ]
  },
  {
   "cell_type": "code",
   "execution_count": 16,
   "metadata": {},
   "outputs": [
    {
     "data": {
      "text/plain": [
       "array([[ 2,  4,  6],\n",
       "       [ 8, 10, 12]])"
      ]
     },
     "execution_count": 16,
     "metadata": {},
     "output_type": "execute_result"
    }
   ],
   "source": [
    "A * 2"
   ]
  },
  {
   "cell_type": "markdown",
   "metadata": {},
   "source": [
    "#### Matrix multiplication\n",
    "The dot product of $\\mathbf{A}$ $(m\\times n)$ and $\\mathbf{B}$ $(n\\times p)$ is a matrix $\\mathbf{C}$ $(m\\times p)$ where the element of $\\mathbf{C}$ in the row $x^{th}$ and column $y^{th}$ is calculated by the formula:\n",
    "$$\\mathbf{C}_{xy} = \\sum_{i=1}^n {\\mathbf{A}_{xi}\\mathbf{B}_{iy}}$$"
   ]
  },
  {
   "cell_type": "code",
   "execution_count": 17,
   "metadata": {},
   "outputs": [],
   "source": [
    "A = np.linspace(1, 6, 6, dtype=int).reshape(2, 3)\n",
    "B = np.linspace(1, 12, 12, dtype=int).reshape(3, 4)"
   ]
  },
  {
   "cell_type": "code",
   "execution_count": null,
   "metadata": {},
   "outputs": [],
   "source": [
    "A"
   ]
  },
  {
   "cell_type": "code",
   "execution_count": null,
   "metadata": {},
   "outputs": [],
   "source": [
    "B"
   ]
  },
  {
   "cell_type": "code",
   "execution_count": null,
   "metadata": {},
   "outputs": [],
   "source": [
    "np.dot(A, B)"
   ]
  },
  {
   "cell_type": "code",
   "execution_count": null,
   "metadata": {},
   "outputs": [],
   "source": [
    "A @ B"
   ]
  },
  {
   "cell_type": "markdown",
   "metadata": {},
   "source": [
    "#### Transposition\n",
    "Transposition is a  operator where the matrix is flipped over its diagonal. The transpose of the matrix $\\mathbf{A}$ ($m\\times n$) is denoted $\\mathbf{A}^T$ ($n\\times m$) and satisfies $\\mathbf{A}_{ij}$ = $(\\mathbf{A}^T)_{ji}$ where $i\\in \\{1,2,3,\\dots,m\\}$ and $j \\in \\{1,2,3,\\dots,n\\}$."
   ]
  },
  {
   "cell_type": "code",
   "execution_count": 18,
   "metadata": {},
   "outputs": [
    {
     "data": {
      "text/plain": [
       "array([[ 0,  1,  2,  3,  4,  5,  6,  7],\n",
       "       [ 8,  9, 10, 11, 12, 13, 14, 15],\n",
       "       [16, 17, 18, 19, 20, 21, 22, 23]])"
      ]
     },
     "execution_count": 18,
     "metadata": {},
     "output_type": "execute_result"
    }
   ],
   "source": [
    "A = np.arange(24).reshape(3,8)\n",
    "A"
   ]
  },
  {
   "cell_type": "code",
   "execution_count": 19,
   "metadata": {},
   "outputs": [
    {
     "data": {
      "text/plain": [
       "array([[ 0,  8, 16],\n",
       "       [ 1,  9, 17],\n",
       "       [ 2, 10, 18],\n",
       "       [ 3, 11, 19],\n",
       "       [ 4, 12, 20],\n",
       "       [ 5, 13, 21],\n",
       "       [ 6, 14, 22],\n",
       "       [ 7, 15, 23]])"
      ]
     },
     "execution_count": 19,
     "metadata": {},
     "output_type": "execute_result"
    }
   ],
   "source": [
    "A.T"
   ]
  },
  {
   "cell_type": "code",
   "execution_count": 20,
   "metadata": {},
   "outputs": [
    {
     "data": {
      "text/plain": [
       "array([ True,  True,  True])"
      ]
     },
     "execution_count": 20,
     "metadata": {},
     "output_type": "execute_result"
    }
   ],
   "source": [
    "np.diag(A) == np.diag(A.T)"
   ]
  },
  {
   "cell_type": "markdown",
   "metadata": {},
   "source": [
    "#### Properties\n",
    "Here are some properties of matrix operations:\n",
    "- $\\mathbf{A}+\\mathbf{B} = \\mathbf{B}+\\mathbf{A}$ (commutativity)\n",
    "- $(c\\mathbf{A})^T = c \\cdot \\mathbf{A}^T$\n",
    "- $(\\mathbf{A}+\\mathbf{B})^T = \\mathbf{A}^T + \\mathbf{B}^T$\n",
    "- $(\\mathbf{A}^T)^T = \\mathbf{A}$\n",
    "- $(\\mathbf{A}\\mathbf{B})\\mathbf{C} = \\mathbf{A}(\\mathbf{B}\\mathbf{C}) = \\mathbf{A}\\mathbf{B}\\mathbf{C}$ (associativity)\n",
    "- $(\\mathbf{A}+\\mathbf{B})\\mathbf{C} = \\mathbf{A}\\mathbf{C} + \\mathbf{B}\\mathbf{C}$ (distributivity)\n",
    "- $\\mathbf{A}\\mathbf{B} \\neq \\mathbf{B}\\mathbf{A}$"
   ]
  },
  {
   "cell_type": "markdown",
   "metadata": {},
   "source": [
    "## 2.3. Diagonal and trace"
   ]
  },
  {
   "cell_type": "markdown",
   "metadata": {},
   "source": [
    "#### The diagonal\n",
    "To get the main diagonal of the matrix, use the `numpy.diag()` function. The `k` parameter moves the diagonal up $k$ steps (if `k` is negative then the diagonal moves down)."
   ]
  },
  {
   "cell_type": "code",
   "execution_count": null,
   "metadata": {},
   "outputs": [],
   "source": [
    "import numpy as np"
   ]
  },
  {
   "cell_type": "code",
   "execution_count": 21,
   "metadata": {},
   "outputs": [
    {
     "data": {
      "text/plain": [
       "array([[ 0,  1,  2,  3],\n",
       "       [ 4,  5,  6,  7],\n",
       "       [ 8,  9, 10, 11]])"
      ]
     },
     "execution_count": 21,
     "metadata": {},
     "output_type": "execute_result"
    }
   ],
   "source": [
    "A = np.arange(12).reshape(3,4)\n",
    "A"
   ]
  },
  {
   "cell_type": "code",
   "execution_count": 22,
   "metadata": {},
   "outputs": [
    {
     "data": {
      "text/plain": [
       "array([ 0,  5, 10])"
      ]
     },
     "execution_count": 22,
     "metadata": {},
     "output_type": "execute_result"
    }
   ],
   "source": [
    "np.diag(A)"
   ]
  },
  {
   "cell_type": "code",
   "execution_count": 23,
   "metadata": {},
   "outputs": [
    {
     "data": {
      "text/plain": [
       "array([ 1,  6, 11])"
      ]
     },
     "execution_count": 23,
     "metadata": {},
     "output_type": "execute_result"
    }
   ],
   "source": [
    "np.diag(A, k=1)"
   ]
  },
  {
   "cell_type": "markdown",
   "metadata": {},
   "source": [
    "#### The trace\n",
    "The trace of a square matrix is the sum of the main diagonal elements. Despite that NumPy supports calculating the trace for any type of matrix, Mathematics define the trace for square matrices only."
   ]
  },
  {
   "cell_type": "code",
   "execution_count": 24,
   "metadata": {},
   "outputs": [
    {
     "data": {
      "text/plain": [
       "array([[ 0,  1,  2,  3],\n",
       "       [ 4,  5,  6,  7],\n",
       "       [ 8,  9, 10, 11]])"
      ]
     },
     "execution_count": 24,
     "metadata": {},
     "output_type": "execute_result"
    }
   ],
   "source": [
    "A = np.arange(12).reshape(3,4)\n",
    "A"
   ]
  },
  {
   "cell_type": "code",
   "execution_count": 25,
   "metadata": {},
   "outputs": [
    {
     "data": {
      "text/plain": [
       "15"
      ]
     },
     "execution_count": 25,
     "metadata": {},
     "output_type": "execute_result"
    }
   ],
   "source": [
    "A.trace()"
   ]
  },
  {
   "cell_type": "code",
   "execution_count": 26,
   "metadata": {},
   "outputs": [
    {
     "data": {
      "text/plain": [
       "15"
      ]
     },
     "execution_count": 26,
     "metadata": {},
     "output_type": "execute_result"
    }
   ],
   "source": [
    "np.diag(A).sum()"
   ]
  },
  {
   "cell_type": "markdown",
   "metadata": {},
   "source": [
    "## 2.4. Echelon form and rank"
   ]
  },
  {
   "cell_type": "code",
   "execution_count": null,
   "metadata": {},
   "outputs": [],
   "source": [
    "import numpy as np"
   ]
  },
  {
   "cell_type": "markdown",
   "metadata": {},
   "source": [
    "#### Gaussian elimination\n",
    "Gaussian elimination (also known as row reduction) is a linear algebra algorithm for solving a system of linear equations; finding the rank, the determinant and the inverse of matrices. There are three types of elementary matrix operations:\n",
    "- Interchanging two rows\n",
    "- Multiplying a row by a non-zero number\n",
    "- Adding a multiple of a row to another row"
   ]
  },
  {
   "cell_type": "markdown",
   "metadata": {},
   "source": [
    "#### Echelon form\n",
    "Using Gaussian elimination, you can transform any matrix to the row echelon or column echelon form. However, only row echelon form is considered in this topic.\n",
    "\n",
    "$$\n",
    "\\begin{bmatrix}\n",
    "a & * & * & * & * & * & * & * & * \\\\\n",
    "0 & 0 & b & * & * & * & * & * & * \\\\\n",
    "0 & 0 & 0 & c & * & * & * & * & * \\\\\n",
    "0 & 0 & 0 & 0 & 0 & 0 & d & * & * \\\\\n",
    "0 & 0 & 0 & 0 & 0 & 0 & 0 & e & * \\\\\n",
    "0 & 0 & 0 & 0 & 0 & 0 & 0 & 0 & 0 \\\\\n",
    "\\end{bmatrix}\n",
    "$$\n",
    "\n",
    "A matrix is in echelon form when it satisfies the following conditions:\n",
    "- All zero rows (rows with all zero elements) are at the bottom.\n",
    "- Each pivot (or leading entry) - the leftmost non-zero element of each row is always to the right of the pivot of the rows above. In the example above, $a$, $b$, $c$, $d$ and $e$ are pivots.\n",
    "\n",
    "To transform a matrix to echelon form, use the `scipy.linalg.lu()` function."
   ]
  },
  {
   "cell_type": "code",
   "execution_count": 28,
   "metadata": {},
   "outputs": [
    {
     "data": {
      "text/plain": [
       "array([[ 2. ,  7. ,  8. ],\n",
       "       [ 0. , -1.5, -3. ],\n",
       "       [ 0. ,  0. ,  0. ]])"
      ]
     },
     "execution_count": 28,
     "metadata": {},
     "output_type": "execute_result"
    }
   ],
   "source": [
    "A = np.array(\n",
    "    [[0, 1, 2],\n",
    "     [1, 2, 1],\n",
    "     [2, 7, 8]]\n",
    ")\n",
    "import scipy.linalg\n",
    "_, _, echelon = scipy.linalg.lu(A)\n",
    "echelon"
   ]
  },
  {
   "cell_type": "code",
   "execution_count": null,
   "metadata": {},
   "outputs": [],
   "source": [
    "echelon.astype(int)"
   ]
  },
  {
   "cell_type": "markdown",
   "metadata": {},
   "source": [
    "#### Rank\n",
    "The rank of a matrix is the highest number of linear independent rows in the matrix. A vector linear dependent if it equals to the sum of scalar multiples of other vectors. The maximum rank of the matrix $\\mathbf{A}$ $(m\\times n)$ is $\\min(m,n)$. $\\mathbf{A}$ is said to be full rank if its rank reachs the maximum value and to be rank deficient otherwise.\n",
    "\n",
    "To find the rank of a matrix, use the `numpy.linalg.matrix_rank()` function."
   ]
  },
  {
   "cell_type": "code",
   "execution_count": 29,
   "metadata": {},
   "outputs": [
    {
     "data": {
      "text/plain": [
       "2"
      ]
     },
     "execution_count": 29,
     "metadata": {},
     "output_type": "execute_result"
    }
   ],
   "source": [
    "np.linalg.matrix_rank(A)"
   ]
  },
  {
   "cell_type": "markdown",
   "metadata": {},
   "source": [
    "## 2.5. The determinant and the inverse\n",
    "These attributes are defined only for square matrices."
   ]
  },
  {
   "cell_type": "code",
   "execution_count": null,
   "metadata": {},
   "outputs": [],
   "source": [
    "import numpy as np"
   ]
  },
  {
   "cell_type": "markdown",
   "metadata": {},
   "source": [
    "#### Minors and cofactors\n",
    "The minor and the cofactor are required to calculate the determinant and the inverse of square matrices. Given a square matrix $\\mathbf{A}$ $(n\\times n)$:\n",
    "- The minor of $\\mathbf{A}_{ij}$ is the determinant of the $(n-1)\\cdot (n-1)$ submatrix formed by deleting the $i^{th}$ row and the $j^{th}$ column, denoted $M_{ij}$.\n",
    "- The corresponding cofactor is $\\mathbf{C}_{ij}=(-1)^{i+j}M_{ij}$.\n",
    "\n",
    "From the calculated cofactors, we have the matrix of cofactors (adjugate matrix):\n",
    "\n",
    "$$\n",
    "\\mathbf{C} =\n",
    "\\begin{bmatrix}\n",
    "C_{11} & C_{12} & \\dots  & C_{1n}\\\\\n",
    "C_{21} & C_{22} & \\dots  & C_{2n}\\\\\n",
    "\\vdots  & \\vdots  & \\ddots & \\vdots \\\\\n",
    "C_{n1} & C_{n2} & \\dots  & C_{nn}\n",
    "\\end{bmatrix}\n",
    "$$"
   ]
  },
  {
   "cell_type": "markdown",
   "metadata": {},
   "source": [
    "#### Determinant\n",
    "The determinant of a $2\\times 2$ matrix is:\n",
    "$\n",
    "\\begin{vmatrix}\n",
    "a_{11} & a_{12}\\\\\n",
    "a_{21} & a_{22}\n",
    "\\end{vmatrix}\n",
    "= a_{11}a_{22} - a_{12}a_{21}.\n",
    "$\n",
    "\n",
    "To calculate the determinant of the matrix $\\mathbf{A}$ $(n\\times n)$ (denoted $|\\mathbf{A}|$), use the Laplace formula (a recursion with the base case of $n=2$):\n",
    "\n",
    "$$\\det(\\mathbf{A}) = |\\mathbf{A}| = \\sum_{i=1}^n a_{ij}(-1)^{i+j}M_{ij} = \\sum_{i=1}^n a_{ij}C_{ij}$$\n",
    "where: $i, j \\in \\{1,2,3,...,n\\}$.\n",
    "\n",
    "To calculate the determinant of a square matrix, use the `numpy.linalg.det()` function."
   ]
  },
  {
   "cell_type": "code",
   "execution_count": null,
   "metadata": {},
   "outputs": [],
   "source": [
    "import numpy as np"
   ]
  },
  {
   "cell_type": "code",
   "execution_count": null,
   "metadata": {},
   "outputs": [],
   "source": [
    "np.random.seed(0)\n",
    "A = np.random.randint(1, 10, (5,5))\n",
    "A"
   ]
  },
  {
   "cell_type": "code",
   "execution_count": null,
   "metadata": {},
   "outputs": [],
   "source": [
    "np.linalg.det(A)"
   ]
  },
  {
   "cell_type": "markdown",
   "metadata": {},
   "source": [
    "#### Inverse\n",
    "The inverse of the square matrix $\\mathbf{A}$ $(n\\times n)$ is denoted $\\mathbf{A}^{-1}$ and satisfies $\\mathbf{A} \\cdot \\mathbf{A}^{-1} = \\mathbf{I}_n$ where $\\mathbf{I}_n$ is the unit matrix. $\\mathbf{A}$ is invertible only if $|\\mathbf{A}| \\ne 0$. The formula for inversion is:\n",
    "\n",
    "$$\\mathbf{A}^{-1} = \\frac{1}{|\\mathbf{A}|}C^T$$\n",
    "\n",
    "To calcualate the inverse of a square matrix, use the `numpy.linalg.inv()` function."
   ]
  },
  {
   "cell_type": "code",
   "execution_count": 22,
   "metadata": {},
   "outputs": [
    {
     "data": {
      "text/plain": [
       "array([[-24.,  18.,   5.],\n",
       "       [ 20., -15.,  -4.],\n",
       "       [ -5.,   4.,   1.]])"
      ]
     },
     "execution_count": 22,
     "metadata": {},
     "output_type": "execute_result"
    }
   ],
   "source": [
    "A = np.array([[1, 2, 3],\n",
    "              [0, 1, 4],\n",
    "              [5, 6, 0]])\n",
    "np.linalg.inv(A)"
   ]
  },
  {
   "cell_type": "markdown",
   "metadata": {},
   "source": [
    "Let's check if the dot product of $\\mathbf{A}$ and $\\mathbf{A}^{-1}$ is an identity matrix."
   ]
  },
  {
   "cell_type": "code",
   "execution_count": 23,
   "metadata": {},
   "outputs": [
    {
     "data": {
      "text/plain": [
       "array([[1, 0, 0],\n",
       "       [0, 1, 0],\n",
       "       [0, 0, 1]])"
      ]
     },
     "execution_count": 23,
     "metadata": {},
     "output_type": "execute_result"
    }
   ],
   "source": [
    "A @ np.linalg.inv(A).astype(int)"
   ]
  },
  {
   "cell_type": "markdown",
   "metadata": {},
   "source": [
    "## 2.6. Eigenvalues and eigenvectors"
   ]
  },
  {
   "cell_type": "markdown",
   "metadata": {},
   "source": [
    "#### Calculating\n",
    "Eigenvalues and eigenvectors are defined only for square matrices. Each eigenvalue $(\\lambda)$ and a corresponding eigenvector $(\\mathbf{x})$ of the square matrix $\\mathbf{A}$ satisfies: $\\mathbf{A}\\mathbf{x} = \\lambda \\mathbf{x}$. To find eigenvalues and eigenvectors:\n",
    "- Solve the equation: $|\\mathbf{A} - \\lambda \\mathbf{I}| = \\mathbf{0}$ (called the characteristic equation) for $\\lambda$.\n",
    "- For each value of $\\lambda$ found, you can either solve the equation $(\\mathbf{A}-\\lambda)\\mathbf{x}=\\mathbf{0}$ or use Gaussian elimination to convert the augmented matrix $(\\mathbf{A} - \\lambda \\mathbf{I}|0)$ to echelon form then solve it as a system of linear equations.  \n",
    "Note that there are an infinite number of linear dependent eigenvectors associated with a single eigenvalue.\n",
    "\n",
    "To find eigenvalues and eigenvectors of a matrix, use the `numpy.linalg.eig()` function."
   ]
  },
  {
   "cell_type": "code",
   "execution_count": null,
   "metadata": {},
   "outputs": [],
   "source": [
    "import numpy as np"
   ]
  },
  {
   "cell_type": "code",
   "execution_count": 30,
   "metadata": {},
   "outputs": [],
   "source": [
    "A = np.array([[1, -1, 3],\n",
    "              [1, 2, 6],\n",
    "              [3, 8, 9]])\n",
    "eigenvalues, eigenvectors = np.linalg.eig(A)"
   ]
  },
  {
   "cell_type": "code",
   "execution_count": 31,
   "metadata": {},
   "outputs": [
    {
     "data": {
      "text/plain": [
       "array([13.78499146,  0.89368918, -2.67868064])"
      ]
     },
     "execution_count": 31,
     "metadata": {},
     "output_type": "execute_result"
    }
   ],
   "source": [
    "eigenvalues"
   ]
  },
  {
   "cell_type": "code",
   "execution_count": 32,
   "metadata": {},
   "outputs": [
    {
     "data": {
      "text/plain": [
       "11.999999999999995"
      ]
     },
     "execution_count": 32,
     "metadata": {},
     "output_type": "execute_result"
    }
   ],
   "source": [
    "sum(eigenvalues)"
   ]
  },
  {
   "cell_type": "code",
   "execution_count": null,
   "metadata": {},
   "outputs": [],
   "source": [
    "eigenvectors\n",
    "# each column is an eigenvector"
   ]
  },
  {
   "cell_type": "code",
   "execution_count": null,
   "metadata": {},
   "outputs": [],
   "source": [
    "eigenvectors[:, 0]"
   ]
  },
  {
   "cell_type": "markdown",
   "metadata": {},
   "source": [
    "Now calculate the value of $\\mathbf{A}\\mathbf{x}$ and $\\lambda \\mathbf{x}$ and check if they are equal."
   ]
  },
  {
   "cell_type": "code",
   "execution_count": null,
   "metadata": {},
   "outputs": [],
   "source": [
    "A @ eigenvectors[:,0]"
   ]
  },
  {
   "cell_type": "code",
   "execution_count": null,
   "metadata": {},
   "outputs": [],
   "source": [
    "eigenvalues[0] * eigenvectors[:,0]"
   ]
  },
  {
   "cell_type": "markdown",
   "metadata": {},
   "source": [
    "#### Propreties\n",
    "Here are some properties of eigenvalues, you can check them using NumPy:\n",
    "- The sum of all eigenvalues is the same as the trace of $\\mathbf{A}$.\n",
    "- The product of all eigenvalues is the same as the determinant of $\\mathbf{A}$.\n",
    "- The number of eigenvalues equals to the rank of $\\mathbf{A}$.\n",
    "- $\\mathbf{A}$ and $\\mathbf{A}^T$ have the same set of eigenvalues."
   ]
  }
 ],
 "metadata": {
  "colab": {
   "name": "lecture6.ipynb",
   "provenance": [],
   "version": "0.3.2"
  },
  "kernelspec": {
   "display_name": "Python 3",
   "language": "python",
   "name": "python3"
  },
  "language_info": {
   "codemirror_mode": {
    "name": "ipython",
    "version": 3
   },
   "file_extension": ".py",
   "mimetype": "text/x-python",
   "name": "python",
   "nbconvert_exporter": "python",
   "pygments_lexer": "ipython3",
   "version": "3.8.3"
  },
  "toc-autonumbering": false
 },
 "nbformat": 4,
 "nbformat_minor": 4
}
