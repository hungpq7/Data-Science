{
 "cells": [
  {
   "cell_type": "markdown",
   "metadata": {},
   "source": [
    "# 1. Ensemble Learning overview\n",
    "Classical Machine Learning algorithms are usually shown to be poor when handling real-world datasets. Models fit from these algorithms often suffer from two problems: high bias and high variance; such a model is called a *weak learner*. In this topic, we are going through some elegant techniques that combine multiple algorithms to form a powerful model, which produces an improved overall result. This is referred to generally as [Ensemble Learning](https://en.wikipedia.org/wiki/Ensemble_learning). Enemble Learning methods in fact have proved their effectiveness in many Machine Learing competitions."
   ]
  },
  {
   "cell_type": "markdown",
   "metadata": {},
   "source": [
    "## 1.1. Voting\n",
    "[Voting](https://scikit-learn.org/stable/modules/ensemble.html#voting-classifier) (for classification) or [Averaging](https://scikit-learn.org/stable/modules/ensemble.html#voting-regressor) (for regression) is the simplest ensembling method. When doing voting for classification, there are two strategies can be applied: marjority voting on predicted results (hard voting) and taking argmax of the weighted average of predicted probabilities (soft voting)."
   ]
  },
  {
   "cell_type": "code",
   "execution_count": 11,
   "metadata": {
    "execution": {
     "iopub.execute_input": "2022-01-01T09:36:46.798410Z",
     "iopub.status.busy": "2022-01-01T09:36:46.797956Z",
     "iopub.status.idle": "2022-01-01T09:36:46.804842Z",
     "shell.execute_reply": "2022-01-01T09:36:46.803425Z",
     "shell.execute_reply.started": "2022-01-01T09:36:46.798373Z"
    },
    "tags": []
   },
   "outputs": [],
   "source": [
    "import numpy as np\n",
    "import pandas as pd\n",
    "np.set_printoptions(precision=4, floatmode='maxprec')\n",
    "\n",
    "from sklearn.datasets import load_breast_cancer\n",
    "from sklearn.model_selection import train_test_split\n",
    "from sklearn.metrics import roc_auc_score\n",
    "from sklearn.tree import DecisionTreeClassifier\n",
    "from sklearn.svm import SVC\n",
    "from sklearn.linear_model import LogisticRegression\n",
    "from sklearn.ensemble import VotingClassifier, VotingRegressor"
   ]
  },
  {
   "cell_type": "code",
   "execution_count": 7,
   "metadata": {
    "execution": {
     "iopub.execute_input": "2022-01-01T09:31:43.188099Z",
     "iopub.status.busy": "2022-01-01T09:31:43.187857Z",
     "iopub.status.idle": "2022-01-01T09:31:43.199839Z",
     "shell.execute_reply": "2022-01-01T09:31:43.199180Z",
     "shell.execute_reply.started": "2022-01-01T09:31:43.188076Z"
    },
    "tags": []
   },
   "outputs": [],
   "source": [
    "cancer = load_breast_cancer()\n",
    "X = cancer.data\n",
    "y = cancer.target\n",
    "XTrain, XTest, yTrain, yTest = train_test_split(X, y, test_size=0.3, random_state=7)"
   ]
  },
  {
   "cell_type": "code",
   "execution_count": 42,
   "metadata": {
    "execution": {
     "iopub.execute_input": "2022-01-01T09:47:25.941429Z",
     "iopub.status.busy": "2022-01-01T09:47:25.941159Z",
     "iopub.status.idle": "2022-01-01T09:47:25.945586Z",
     "shell.execute_reply": "2022-01-01T09:47:25.944826Z",
     "shell.execute_reply.started": "2022-01-01T09:47:25.941406Z"
    },
    "tags": []
   },
   "outputs": [],
   "source": [
    "clf1 = SVC(probability=True)\n",
    "clf2 = LogisticRegression(solver='liblinear')\n",
    "clf3 = DecisionTreeClassifier()\n",
    "\n",
    "models = [clf1, clf2, clf3]\n",
    "base_models = [(i.__class__.__name__, i) for i in models]\n",
    "ensembler = VotingClassifier(base_models, voting='soft')"
   ]
  },
  {
   "cell_type": "code",
   "execution_count": 44,
   "metadata": {
    "execution": {
     "iopub.execute_input": "2022-01-01T09:47:41.230030Z",
     "iopub.status.busy": "2022-01-01T09:47:41.229779Z",
     "iopub.status.idle": "2022-01-01T09:47:41.282840Z",
     "shell.execute_reply": "2022-01-01T09:47:41.282250Z",
     "shell.execute_reply.started": "2022-01-01T09:47:41.230009Z"
    },
    "tags": []
   },
   "outputs": [
    {
     "name": "stdout",
     "output_type": "stream",
     "text": [
      "AUC = 0.8909 [SVC]\n",
      "AUC = 0.9230 [LogisticRegression]\n",
      "AUC = 0.8837 [DecisionTreeClassifier]\n",
      "AUC = 0.9455 [VotingClassifier]\n"
     ]
    }
   ],
   "source": [
    "for model in models + [ensembler]:\n",
    "    model = model.fit(XTrain, yTrain)\n",
    "    yPred = model.predict(XTest)\n",
    "    auc = roc_auc_score(yTest, yPred)\n",
    "    print(f'AUC = {auc:.4f} [{model.__class__.__name__}]')"
   ]
  },
  {
   "cell_type": "markdown",
   "metadata": {},
   "source": [
    "## 1.2. Stacking\n",
    "[Stacking](https://scikit-learn.org/stable/modules/ensemble.html#stacked-generalization) technique organizes its members into two levels:\n",
    "- Level 1, a number of *base models* is fit to ther dataset. Build a new dataset where the values predicted by base models are input variables while the output variable remains the same.\n",
    "- Level 2, a *meta model* is train on the new dataset to get final prediction.\n",
    "\n",
    "The idea behind stacking is that each base model has an unique approach, it might discover some parts of the ground truth that other models do hot have. Combining them might utilize the their strengths and thus improve the overall quality. Note that Voting is a special case of Stacking, where the final combiner is a very simple model.\n",
    "\n",
    "In the implementation of Stacking, the base models are often selected *heterogeneously*, and the meta model is often a simple Logistic Regression model."
   ]
  },
  {
   "cell_type": "code",
   "execution_count": 1,
   "metadata": {
    "execution": {
     "iopub.execute_input": "2022-01-01T09:29:57.923764Z",
     "iopub.status.busy": "2022-01-01T09:29:57.923443Z",
     "iopub.status.idle": "2022-01-01T09:29:58.776643Z",
     "shell.execute_reply": "2022-01-01T09:29:58.775773Z",
     "shell.execute_reply.started": "2022-01-01T09:29:57.923696Z"
    },
    "tags": []
   },
   "outputs": [],
   "source": [
    "import numpy as np\n",
    "import pandas as pd\n",
    "np.set_printoptions(precision=4, floatmode='maxprec')\n",
    "\n",
    "from sklearn.datasets import load_breast_cancer\n",
    "from sklearn.model_selection import train_test_split\n",
    "from sklearn.metrics import roc_auc_score\n",
    "from sklearn.neighbors import KNeighborsClassifier\n",
    "from sklearn.tree import DecisionTreeClassifier\n",
    "from sklearn.naive_bayes import GaussianNB\n",
    "from sklearn.svm import SVC\n",
    "from sklearn.linear_model import LogisticRegression\n",
    "from sklearn.ensemble import StackingClassifier, StackingRegressor"
   ]
  },
  {
   "cell_type": "code",
   "execution_count": 26,
   "metadata": {
    "execution": {
     "iopub.execute_input": "2022-01-01T09:42:16.576644Z",
     "iopub.status.busy": "2022-01-01T09:42:16.576356Z",
     "iopub.status.idle": "2022-01-01T09:42:16.589105Z",
     "shell.execute_reply": "2022-01-01T09:42:16.588294Z",
     "shell.execute_reply.started": "2022-01-01T09:42:16.576617Z"
    },
    "tags": []
   },
   "outputs": [],
   "source": [
    "cancer = load_breast_cancer()\n",
    "X = cancer.data\n",
    "y = cancer.target\n",
    "XTrain, XTest, yTrain, yTest = train_test_split(X, y, test_size=0.3, random_state=7)"
   ]
  },
  {
   "cell_type": "code",
   "execution_count": 40,
   "metadata": {
    "execution": {
     "iopub.execute_input": "2022-01-01T09:47:18.619739Z",
     "iopub.status.busy": "2022-01-01T09:47:18.619327Z",
     "iopub.status.idle": "2022-01-01T09:47:18.626259Z",
     "shell.execute_reply": "2022-01-01T09:47:18.624984Z",
     "shell.execute_reply.started": "2022-01-01T09:47:18.619701Z"
    },
    "tags": []
   },
   "outputs": [],
   "source": [
    "clf1 = KNeighborsClassifier()\n",
    "clf2 = GaussianNB()\n",
    "clf3 = SVC(probability=True)\n",
    "clf4 = LogisticRegression(solver='liblinear')\n",
    "clf5 = DecisionTreeClassifier()\n",
    "\n",
    "models = [clf1, clf2, clf3, clf4, clf5]\n",
    "base_models = [(i.__class__.__name__, i) for i in models]\n",
    "meta_model = LogisticRegression()\n",
    "\n",
    "ensembler = StackingClassifier(base_models, meta_model)"
   ]
  },
  {
   "cell_type": "code",
   "execution_count": 41,
   "metadata": {
    "execution": {
     "iopub.execute_input": "2022-01-01T09:47:19.560321Z",
     "iopub.status.busy": "2022-01-01T09:47:19.560056Z",
     "iopub.status.idle": "2022-01-01T09:47:19.734698Z",
     "shell.execute_reply": "2022-01-01T09:47:19.734072Z",
     "shell.execute_reply.started": "2022-01-01T09:47:19.560298Z"
    },
    "tags": []
   },
   "outputs": [
    {
     "name": "stdout",
     "output_type": "stream",
     "text": [
      "AUC = 0.9373 [KNeighborsClassifier]\n",
      "AUC = 0.9368 [GaussianNB]\n",
      "AUC = 0.8909 [SVC]\n",
      "AUC = 0.9230 [LogisticRegression]\n",
      "AUC = 0.8966 [DecisionTreeClassifier]\n",
      "AUC = 0.9321 [StackingClassifier]\n"
     ]
    }
   ],
   "source": [
    "for model in models + [ensembler]:\n",
    "    model = model.fit(XTrain, yTrain)\n",
    "    yPred = model.predict(XTest)\n",
    "    auc = roc_auc_score(yTest, yPred)\n",
    "    print(f'AUC = {auc:.4f} [{model.__class__.__name__}]')"
   ]
  },
  {
   "cell_type": "markdown",
   "metadata": {},
   "source": [
    "## 1.3. Bagging\n",
    "[Bootstrap Aggregating](https://scikit-learn.org/stable/modules/ensemble.html#bagging-meta-estimator) (Bagging) uses averaging/voting method over a number of *homogeneous* weak models in order to reduce variance. Specifically, Bagging is divided into two parts: [bootsrapping](<https://en.wikipedia.org/wiki/Bootstrapping_(statistics)>) and aggregating.\n",
    "\n",
    "- Boostrapping: The entire dataset is performed random sampling with replacement on both rows and columns. This outputs a number of bootstraps where each of them is different from the others.\n",
    "- Aggregating: after boostrap samples are generated, they are fit into the weak learners. All the model results will be combined by averaging (for regression) or voting (for classification).\n",
    "\n",
    "A Bagging ensembler operates as a committee that outperforms any individual weak model. This wonderful effect - *the wisdom of crowds* - can be explained that weak models protect each other from their individual errors. If the members share the same behaviors, they also make the same mistakes. Therefore, the low correlation between weak models is the key. Note that the Bagging method requires the initial sample to be large enough for the bootstrapping step to be statistical significant."
   ]
  },
  {
   "cell_type": "markdown",
   "metadata": {},
   "source": [
    "### Random Forest\n",
    "Random Forest is the implementation of Bagging method on Decision Trees. It can be easily parallelized, does not requires too much hyperparameters tuning and has a decent prediction power. Random Forest is a very popular algorithm, before Boosting methods take the crown.\n",
    "\n",
    "[Scikit-learn's Random Forest](https://scikit-learn.org/stable/modules/generated/sklearn.ensemble.RandomForestClassifier.html) has the following Bagging hyperparameters, beside the hyperparameters inherited from Decision Tree:\n",
    "\n",
    "Hyperparameter|Default|Meaning|Usage|\n",
    ":---|:---|:---|:---|\n",
    "`n_estimators`|`100`|The number of trees in the forest|Control the complexity of the algorithm. Try increasing this when<br>the model is underfitting, but it will take a longer training time.|\n",
    "`max_features`|`auto`|The ratio of features used in each tree|Lower values increase bias and reduce variance.|\n",
    "`max_samples`|`None`|The ratio of instances used in each tree|Lower values increase bias and reduce variance.|"
   ]
  },
  {
   "cell_type": "code",
   "execution_count": 46,
   "metadata": {
    "execution": {
     "iopub.execute_input": "2022-01-01T10:02:54.944816Z",
     "iopub.status.busy": "2022-01-01T10:02:54.944554Z",
     "iopub.status.idle": "2022-01-01T10:02:54.948533Z",
     "shell.execute_reply": "2022-01-01T10:02:54.947582Z",
     "shell.execute_reply.started": "2022-01-01T10:02:54.944792Z"
    },
    "tags": []
   },
   "outputs": [],
   "source": [
    "import numpy as np\n",
    "import pandas as pd\n",
    "np.set_printoptions(precision=4, floatmode='maxprec')\n",
    "\n",
    "from sklearn.datasets import load_breast_cancer\n",
    "from sklearn.model_selection import train_test_split\n",
    "from sklearn.metrics import roc_auc_score\n",
    "from sklearn.ensemble import RandomForestClassifier, RandomForestRegressor"
   ]
  },
  {
   "cell_type": "code",
   "execution_count": 35,
   "metadata": {
    "execution": {
     "iopub.execute_input": "2022-01-01T09:46:34.523852Z",
     "iopub.status.busy": "2022-01-01T09:46:34.523566Z",
     "iopub.status.idle": "2022-01-01T09:46:34.536496Z",
     "shell.execute_reply": "2022-01-01T09:46:34.535736Z",
     "shell.execute_reply.started": "2022-01-01T09:46:34.523829Z"
    },
    "tags": []
   },
   "outputs": [],
   "source": [
    "cancer = load_breast_cancer()\n",
    "X = cancer.data\n",
    "y = cancer.target\n",
    "XTrain, XTest, yTrain, yTest = train_test_split(X, y, test_size=0.3, random_state=7)"
   ]
  },
  {
   "cell_type": "code",
   "execution_count": 47,
   "metadata": {
    "execution": {
     "iopub.execute_input": "2022-01-01T10:02:56.608250Z",
     "iopub.status.busy": "2022-01-01T10:02:56.607847Z",
     "iopub.status.idle": "2022-01-01T10:02:56.651228Z",
     "shell.execute_reply": "2022-01-01T10:02:56.650188Z",
     "shell.execute_reply.started": "2022-01-01T10:02:56.608213Z"
    },
    "tags": []
   },
   "outputs": [
    {
     "name": "stdout",
     "output_type": "stream",
     "text": [
      "AUC = 0.9325 [RandomForestClassifier]\n"
     ]
    }
   ],
   "source": [
    "clf = RandomForestClassifier(\n",
    "    n_estimators=20,\n",
    "    min_samples_split=20,\n",
    "    max_depth=16,\n",
    "#     class_weight={0:1, 1:20}\n",
    ")\n",
    "\n",
    "clf = clf.fit(XTrain, yTrain)\n",
    "\n",
    "yPred = clf.predict(XTest)\n",
    "auc = roc_auc_score(yTest, yPred)\n",
    "\n",
    "print(f'AUC = {auc:.4f} [{clf.__class__.__name__}]')"
   ]
  },
  {
   "cell_type": "markdown",
   "metadata": {},
   "source": [
    "### Implementation"
   ]
  },
  {
   "cell_type": "code",
   "execution_count": 34,
   "metadata": {
    "execution": {
     "iopub.execute_input": "2022-01-01T09:46:31.982784Z",
     "iopub.status.busy": "2022-01-01T09:46:31.982375Z",
     "iopub.status.idle": "2022-01-01T09:46:31.988612Z",
     "shell.execute_reply": "2022-01-01T09:46:31.987134Z",
     "shell.execute_reply.started": "2022-01-01T09:46:31.982746Z"
    },
    "tags": []
   },
   "outputs": [],
   "source": [
    "import numpy as np\n",
    "import pandas as pd\n",
    "np.set_printoptions(precision=4, suppress=True)\n",
    "\n",
    "from sklearn.datasets import load_breast_cancer\n",
    "from sklearn.model_selection import train_test_split\n",
    "from sklearn.metrics import roc_auc_score\n",
    "from sklearn.linear_model import LogisticRegression\n",
    "from sklearn.ensemble import BaggingClassifier, BaggingRegressor"
   ]
  },
  {
   "cell_type": "code",
   "execution_count": 35,
   "metadata": {
    "execution": {
     "iopub.execute_input": "2022-01-01T09:46:34.523852Z",
     "iopub.status.busy": "2022-01-01T09:46:34.523566Z",
     "iopub.status.idle": "2022-01-01T09:46:34.536496Z",
     "shell.execute_reply": "2022-01-01T09:46:34.535736Z",
     "shell.execute_reply.started": "2022-01-01T09:46:34.523829Z"
    },
    "tags": []
   },
   "outputs": [],
   "source": [
    "cancer = load_breast_cancer()\n",
    "X = cancer.data\n",
    "y = cancer.target\n",
    "XTrain, XTest, yTrain, yTest = train_test_split(X, y, test_size=0.3, random_state=7)"
   ]
  },
  {
   "cell_type": "code",
   "execution_count": 37,
   "metadata": {
    "execution": {
     "iopub.execute_input": "2022-01-01T09:46:51.897528Z",
     "iopub.status.busy": "2022-01-01T09:46:51.897257Z",
     "iopub.status.idle": "2022-01-01T09:46:51.901381Z",
     "shell.execute_reply": "2022-01-01T09:46:51.900333Z",
     "shell.execute_reply.started": "2022-01-01T09:46:51.897504Z"
    },
    "tags": []
   },
   "outputs": [],
   "source": [
    "base_model = LogisticRegression(solver='liblinear', class_weight={0:1, 1:10})\n",
    "ensembler = BaggingClassifier(base_model, 10, random_state=7)"
   ]
  },
  {
   "cell_type": "code",
   "execution_count": 38,
   "metadata": {
    "execution": {
     "iopub.execute_input": "2022-01-01T09:46:58.972643Z",
     "iopub.status.busy": "2022-01-01T09:46:58.972333Z",
     "iopub.status.idle": "2022-01-01T09:46:59.022197Z",
     "shell.execute_reply": "2022-01-01T09:46:59.021557Z",
     "shell.execute_reply.started": "2022-01-01T09:46:58.972614Z"
    },
    "tags": []
   },
   "outputs": [
    {
     "name": "stdout",
     "output_type": "stream",
     "text": [
      "AUC = 0.8957 [LogisticRegression]\n",
      "AUC = 0.9048 [BaggingClassifier]\n"
     ]
    }
   ],
   "source": [
    "models = [base_model, ensembler]\n",
    "for model in models:\n",
    "    model = model.fit(XTrain, yTrain)\n",
    "    yPred = model.predict(XTest)\n",
    "    auc = roc_auc_score(yTest, yPred)\n",
    "    print(f'AUC = {auc:.4f} [{model.__class__.__name__}]')"
   ]
  },
  {
   "cell_type": "markdown",
   "metadata": {},
   "source": [
    "## 1.4. Boosting\n",
    "[Boosting](<https://en.wikipedia.org/wiki/Boosting_(machine_learning)>) works in the same spirit as Bagging: it also build a group of *homogeneous* models to obtain a more powerful predictor. The difference is that Boosting trains weak models sequentially while Bagging perform the training independently. The idea behind Boosting is to fit models iteratively such that the training of each model depends on the previous ones. Using this strategy, badly handled observations in the earlier steps will be taken care better in the later steps. Since the Boosting method puts its efforts on important cases, we end up have a strong learner with lower bias.\n",
    "\n",
    "In applications, Boosting methods used on Decision Trees are so effective for tabular datasets and is widely used by top competitors. For the rest of this article, we will go through a bunch of interesting Boosting algorithms. To start off, this section discuss the first successful method in the Boosting family, [Adaptive Boosting](https://en.wikipedia.org/wiki/AdaBoost) (AdaBoost).\n",
    "\n",
    "AdaBoost was originally designed for binary classification problems. This method can be used to boost any algorithm, but Decision Tree is always the go-to choice. More specifically, Decision Trees used here are very shallow, they only have one root and two leaves, explaining why they are also called Decision Stumps."
   ]
  },
  {
   "cell_type": "markdown",
   "metadata": {},
   "source": [
    "### AdaBoost\n",
    "AdaBoost takes the following inputs:\n",
    "- A dataset having $N$ observations $(\\mathbf{X},\\mathbf{y})=\\{(\\mathbf{x}_n,y_n)\\}_{n=1}^N$ where $y_n\\in\\{-1,1\\}$\n",
    "- The number of weak models, $T$\n",
    "- The learning rate, $\\eta$\n",
    "\n",
    "The algorithm:\n",
    "\n",
    "*Step 1.* Initialize the weight for each observation: $w_n^{(1)}=1/N$.\n",
    "\n",
    "*Step 2.* For $t=1,2,\\dots,T$:\n",
    "\n",
    "   - Train a weak model $\\hat{y}_n=f_t(\\mathbf{x}_n)$ that minimizes the sum of weights over misclassifications, represented by the error:\n",
    "   \n",
    "   $$\\displaystyle{\\epsilon_t=\\sum{w_n^{(t)}\\;\\left[\\hat{y}_n\\neq y_n\\right]}}$$\n",
    "\n",
    "   - Calculate $\\alpha_t$ the amount of say for the current weak classifier; deciding how much $f_t$ will contribute in the final prediction. This calculation rewards $f_t$ a very high influence if its total error is low and penalizes $f_t$ a negative influence for a high total error.\n",
    "   \n",
    "   $$\\displaystyle{\\alpha_t=\\frac{\\eta}{2}\\,\\ln{\\frac{1-\\epsilon_t}{\\epsilon_t}}}$$\n",
    "   \n",
    "   - Update sample weights for the next iteration so that: the weights of the correctly classied samples decrease $\\exp{(\\alpha_t)}$ times and the weights of misclassifications increase the same amount. Note that the term $-\\hat{y}_n y_n$ equals to $1$ if the prediction is correct and equals to $-1$ if the prediction is incorrect.\n",
    "   \n",
    "   $$w_n^{(t+1)}=w_n^{(t)}e^{(-\\hat{y}_n y_n)\\,\\alpha_t}$$\n",
    "   \n",
    "   - Normalize new weights so that they add up to $1$. This step is required to make the calculation of $\\alpha_{t+1}$ meaningful. At this step, some implementations resample the dataset so that the distribution of observations follows the newly calculated weights.\n",
    "\n",
    "*Step 3.* Build an additive strong model $F(\\mathbf{x})$ that performs weighted voting over $T$ weak learners; this is the output of the algorithm. The formula uses the notation $\\text{sign}(\\bullet)$, indicating the [sign function](https://en.wikipedia.org/wiki/Sign_function).\n",
    "\n",
    "$$F(\\mathbf{x})=\\text{sign}\\left(\\sum_{t=1}^T\\alpha_t f_t(\\mathbf{x})\\right)$$"
   ]
  },
  {
   "cell_type": "code",
   "execution_count": 7,
   "metadata": {
    "execution": {
     "iopub.execute_input": "2022-01-01T17:20:21.621536Z",
     "iopub.status.busy": "2022-01-01T17:20:21.621168Z",
     "iopub.status.idle": "2022-01-01T17:20:22.069610Z",
     "shell.execute_reply": "2022-01-01T17:20:22.069006Z",
     "shell.execute_reply.started": "2022-01-01T17:20:21.621503Z"
    },
    "tags": []
   },
   "outputs": [],
   "source": [
    "import numpy as np\n",
    "import matplotlib.pyplot as plt\n",
    "plt.style.use(['seaborn', 'seaborn-whitegrid'])\n",
    "%config InlineBackend.figure_format = 'retina'"
   ]
  },
  {
   "cell_type": "code",
   "execution_count": 50,
   "metadata": {
    "execution": {
     "iopub.execute_input": "2022-01-01T17:34:14.925112Z",
     "iopub.status.busy": "2022-01-01T17:34:14.924770Z",
     "iopub.status.idle": "2022-01-01T17:34:15.159184Z",
     "shell.execute_reply": "2022-01-01T17:34:15.158475Z",
     "shell.execute_reply.started": "2022-01-01T17:34:14.925084Z"
    },
    "tags": []
   },
   "outputs": [
    {
     "data": {
      "image/png": "[encoded data removed]",
      "text/plain": [
       "<Figure size 360x360 with 1 Axes>"
      ]
     },
     "metadata": {
      "image/png": {
       "height": 308,
       "width": 335
      }
     },
     "output_type": "display_data"
    }
   ],
   "source": [
    "eta = 0.2\n",
    "x = np.linspace(0.01, 0.99, 1000)\n",
    "y = eta * 1/2 * np.log(1/x - 1)\n",
    "\n",
    "fig, ax = plt.subplots(figsize=(5,5))\n",
    "ax.plot(x, y, 'k', label=fr'Learning rate = {eta}')\n",
    "ax.axis('scaled')\n",
    "ax.set_xlabel(r'Error, $\\epsilon_t$')\n",
    "ax.set_ylabel(r'Influence, $\\alpha_t$')\n",
    "ax.legend()\n",
    "plt.show()"
   ]
  },
  {
   "cell_type": "markdown",
   "metadata": {},
   "source": [
    "### Implementation\n",
    "[Scikit-learn's AdaBoost](https://scikit-learn.org/stable/modules/generated/sklearn.ensemble.AdaBoostClassifier.html) has the following hyperparameters:\n",
    "\n",
    "Hyperparameter|Default|Meaning|Usage|\n",
    ":-|:-|:-|:-|\n",
    "`base_estimator`|`None`|The algorithm to be boosted|\n",
    "`n_estimators`|`50`|The number of weak learners, $T$|\n",
    "`learning_rate`|`1`|The learning rate, $\\eta$"
   ]
  },
  {
   "cell_type": "code",
   "execution_count": 1,
   "metadata": {
    "execution": {
     "iopub.execute_input": "2022-01-02T02:57:05.556257Z",
     "iopub.status.busy": "2022-01-02T02:57:05.555900Z",
     "iopub.status.idle": "2022-01-02T02:57:07.354431Z",
     "shell.execute_reply": "2022-01-02T02:57:07.353874Z",
     "shell.execute_reply.started": "2022-01-02T02:57:05.556190Z"
    },
    "tags": []
   },
   "outputs": [],
   "source": [
    "import numpy as np\n",
    "import pandas as pd\n",
    "np.set_printoptions(precision=4, suppress=True)\n",
    "\n",
    "from sklearn.datasets import load_breast_cancer\n",
    "from sklearn.model_selection import train_test_split\n",
    "from sklearn.metrics import roc_auc_score\n",
    "from sklearn.tree import DecisionTreeClassifier\n",
    "from sklearn.ensemble import AdaBoostClassifier, AdaBoostRegressor"
   ]
  },
  {
   "cell_type": "code",
   "execution_count": 2,
   "metadata": {
    "execution": {
     "iopub.execute_input": "2022-01-02T02:57:07.355882Z",
     "iopub.status.busy": "2022-01-02T02:57:07.355667Z",
     "iopub.status.idle": "2022-01-02T02:57:07.371322Z",
     "shell.execute_reply": "2022-01-02T02:57:07.370793Z",
     "shell.execute_reply.started": "2022-01-02T02:57:07.355863Z"
    },
    "tags": []
   },
   "outputs": [],
   "source": [
    "cancer = load_breast_cancer()\n",
    "X = cancer.data\n",
    "y = cancer.target\n",
    "XTrain, XTest, yTrain, yTest = train_test_split(X, y, test_size=0.3, random_state=7)"
   ]
  },
  {
   "cell_type": "code",
   "execution_count": 4,
   "metadata": {
    "execution": {
     "iopub.execute_input": "2022-01-01T17:09:22.934042Z",
     "iopub.status.busy": "2022-01-01T17:09:22.933504Z",
     "iopub.status.idle": "2022-01-01T17:09:22.939945Z",
     "shell.execute_reply": "2022-01-01T17:09:22.938177Z",
     "shell.execute_reply.started": "2022-01-01T17:09:22.934006Z"
    },
    "tags": []
   },
   "outputs": [],
   "source": [
    "base_model = DecisionTreeClassifier(max_depth=1)\n",
    "ensembler = AdaBoostClassifier(base_model, n_estimators=50, learning_rate=1)"
   ]
  },
  {
   "cell_type": "code",
   "execution_count": 6,
   "metadata": {
    "execution": {
     "iopub.execute_input": "2022-01-01T17:09:46.831315Z",
     "iopub.status.busy": "2022-01-01T17:09:46.831017Z",
     "iopub.status.idle": "2022-01-01T17:09:46.992571Z",
     "shell.execute_reply": "2022-01-01T17:09:46.991957Z",
     "shell.execute_reply.started": "2022-01-01T17:09:46.831287Z"
    },
    "tags": []
   },
   "outputs": [
    {
     "name": "stdout",
     "output_type": "stream",
     "text": [
      "AUC = 0.9502 [AdaBoostClassifier]\n"
     ]
    }
   ],
   "source": [
    "models = [ensembler]\n",
    "for model in models:\n",
    "    model = model.fit(XTrain, yTrain)\n",
    "    yPred = model.predict(XTest)\n",
    "    auc = roc_auc_score(yTest, yPred)\n",
    "    print(f'AUC = {auc:.4f} [{model.__class__.__name__}]')"
   ]
  },
  {
   "cell_type": "markdown",
   "metadata": {},
   "source": [
    "# 2. Gradient Boosting Machine\n",
    "[Grandient Boosting](https://en.wikipedia.org/wiki/Gradient_boosting) is another boosting strategy beside Adaptive Boosting. The idea of this method is mostly inspired by [Gradient Descent](https://en.wikipedia.org/wiki/Gradient_descent), thus the name Gradient Boosting. Just like other ensembling methods, this algorithm works best on Decision Trees and becomes the foundation for its modern variants such as XGBoost, LightGBM and CatBoost."
   ]
  },
  {
   "cell_type": "markdown",
   "metadata": {},
   "source": [
    "## 2.1. The algorithm\n",
    "Gradient Boosting Trees was originally designed for regression problems. The algorithm considers the following inputs:\n",
    "- A dataset having $N$ observations $(\\mathbf{X},\\mathbf{y})=\\{(\\mathbf{x}_n,y_n)\\}_{n=1}^N$\n",
    "- The number of weak models, $T$\n",
    "- The learning rate, $\\eta$\n",
    "- A [differentiable](https://en.wikipedia.org/wiki/Differentiable_function) loss function $L(y,F(\\mathbf{x}))$ ([MSE](https://en.wikipedia.org/wiki/Mean_squared_error) is a popular choice)\n",
    "\n",
    "The algorithm:\n",
    "\n",
    "*Step 1.* Initialize the prediction as a constant. Since this is the very first prediction and will be updated step-by-step, we denote this value $F_0({\\mathbf{x}})$. When the loss function is MSE, this value is nothing but the mean of $\\mathbf{y}$.\n",
    "\n",
    "$$F_0(\\mathbf{x})=\\underset\\gamma{\\arg\\min}\\sum_{n=1}^NL(y_n,\\gamma)$$\n",
    "\n",
    "*Step 2.* For $t=1$ to $T$:\n",
    "\n",
    "   - Compute the psuedo-residual $r_n^{(t)}$ equals to the derivative of the loss function with respect to the prediction of the iteration $t-1$. When MSE is used, this term is proportional to the actual residual, $y_n-F(\\mathbf{x}_n)$. Thus, we call it psuedo-residual for generalization, allowing plugging if different loss functions.\n",
    "   \n",
    "   $$r_n^{(t)}=-\\left[\\frac{\\partial L(y_n,F(\\mathbf{x}_n))}{\\partial F(\\mathbf{x}_n)}\\right]_{F(x)=F_{m-1}(x)}$$\n",
    "\n",
    "   - Fit a weak learner $f_t(\\mathbf{x})$ using the training set $\\{(\\mathbf{x}_n,r_n^{(t)})\\}_{n=1}^N$. This step results in a tree with $J_t$ leaf nodes; it means the input space is split into $J_t$ [disjoint](https://en.wikipedia.org/wiki/Disjoint_sets) regions, each region is denoted $R_j\\;(j=1,2,\\dots,J_t)$. Trees in this step is not restricted to be stumps as in AdaBoost.\n",
    "   \n",
    "   - Compute $\\gamma_j^{(t)}$, the predicted value for the model $f_t$. By using first-order [Taylor approximation](https://en.wikipedia.org/wiki/Taylor_series), it can be proved that $\\gamma_j^{(t)}$ is proportional to the negative gradient $r_n^{(t)}$. When MSE is chosen as the loss function, $\\gamma_j^{(t)}$ is the average residual in the leaf $R_j$. As $\\gamma_j^{(t)}$ is added to the final prediction $F$ at each iteration, this can be considered a Gradient Descent algorithm.\n",
    "   \n",
    "   $$\\gamma_j^{(t)}=\\underset\\gamma{\\arg\\min}\\sum_{\\mathbf{x}_n\\in R_j}{L(y_n,F_{t-1}(\\mathbf{x}_n)+\\gamma)}$$\n",
    "   \n",
    "   - Update the strong model $F_t$ by adding the current weak predictor scaled by the learning rate. The formula uses the [indicator notation](https://en.wikipedia.org/wiki/Indicator_function).\n",
    "   \n",
    "   $$F_t(x)=F_{t-1}(x)+\\eta\\sum_{j=1}^{J_t}{\\gamma_j^{(t)}\\mathbf{1}_{R_j}(x)}$$\n",
    "   \n",
    "*Step 3*. Take the last strong model as the final predictor: $F\\leftarrow F_t$. Note that in Gradient Boosting, the $t^{th}$ learner $F_t$ has taken into account all  weak learners up to the current iteration. Not like in Adaptive Boosting, the strong model is only built once all weak leaners was trained successfully."
   ]
  },
  {
   "cell_type": "markdown",
   "metadata": {},
   "source": [
    "## 2.2. Implementation\n",
    "[Scikit-learn's Gradient Boosting](https://scikit-learn.org/stable/modules/generated/sklearn.ensemble.GradientBoostingRegressor.html) considers the following hyperparameters (excluding the ones come from Decision Tree). Scikit-learn also introduces the [Histogram-based Gradient Boosting](https://scikit-learn.org/stable/modules/generated/sklearn.ensemble.HistGradientBoostingRegressor.html) which is inspired by LightGBM and is much more faster than the original implementation.\n",
    "\n",
    "Hyperparameter|Default|Meaning|Usage|\n",
    ":---|:---|:---|:---|\n",
    "`loss`|`deviance` (classifification)<br>`squared_error` (regression)|The loss function||\n",
    "`n_estimators`|`100`|The number of boosting stages ($T$)||\n",
    "`learning_rate`|`0.1`|The learning rate ($\\eta$)|\n",
    "`subsample`|`1.0`|The ratio of instances used in each tree|Lower values increase bias and reduce variance|\n",
    "`max_features`|`None`|The ratio of features used in each tree|Lower values increase bias and reduce variance|\n",
    "`criterion`|`friedman_mse`|The mearsure quality of split||"
   ]
  },
  {
   "cell_type": "code",
   "execution_count": 2,
   "metadata": {
    "execution": {
     "iopub.execute_input": "2022-01-04T16:33:58.203250Z",
     "iopub.status.busy": "2022-01-04T16:33:58.202982Z",
     "iopub.status.idle": "2022-01-04T16:34:27.189526Z",
     "shell.execute_reply": "2022-01-04T16:34:27.188792Z",
     "shell.execute_reply.started": "2022-01-04T16:33:58.203226Z"
    },
    "tags": []
   },
   "outputs": [],
   "source": [
    "import numpy as np\n",
    "import pandas as pd\n",
    "np.set_printoptions(precision=4, floatmode='maxprec')\n",
    "\n",
    "from sklearn.datasets import load_breast_cancer\n",
    "from sklearn.model_selection import train_test_split\n",
    "from sklearn.metrics import roc_auc_score\n",
    "from sklearn.ensemble import GradientBoostingClassifier, HistGradientBoostingClassifier"
   ]
  },
  {
   "cell_type": "code",
   "execution_count": 4,
   "metadata": {
    "execution": {
     "iopub.execute_input": "2022-01-04T16:41:46.510412Z",
     "iopub.status.busy": "2022-01-04T16:41:46.510141Z",
     "iopub.status.idle": "2022-01-04T16:41:46.523752Z",
     "shell.execute_reply": "2022-01-04T16:41:46.522992Z",
     "shell.execute_reply.started": "2022-01-04T16:41:46.510389Z"
    },
    "tags": []
   },
   "outputs": [],
   "source": [
    "cancer = load_breast_cancer()\n",
    "X = cancer.data\n",
    "y = cancer.target\n",
    "XTrain, XTest, yTrain, yTest = train_test_split(X, y, test_size=0.3, random_state=7)"
   ]
  },
  {
   "cell_type": "code",
   "execution_count": 6,
   "metadata": {
    "execution": {
     "iopub.execute_input": "2022-01-04T16:41:56.149265Z",
     "iopub.status.busy": "2022-01-04T16:41:56.149015Z",
     "iopub.status.idle": "2022-01-04T16:41:57.313333Z",
     "shell.execute_reply": "2022-01-04T16:41:57.312489Z",
     "shell.execute_reply.started": "2022-01-04T16:41:56.149243Z"
    },
    "tags": []
   },
   "outputs": [
    {
     "name": "stdout",
     "output_type": "stream",
     "text": [
      "AUC = 0.9775 [GradientBoostingClassifier]\n",
      "AUC = 0.9455 [HistGradientBoostingClassifier]\n"
     ]
    }
   ],
   "source": [
    "clf1 = GradientBoostingClassifier()\n",
    "clf2 = HistGradientBoostingClassifier()\n",
    "models = [clf1, clf2]\n",
    "\n",
    "for model in models:\n",
    "    model = model.fit(XTrain, yTrain)\n",
    "    yPred = model.predict(XTest)\n",
    "    auc = roc_auc_score(yTest, yPred)\n",
    "    print(f'AUC = {auc:.4f} [{model.__class__.__name__}]')"
   ]
  },
  {
   "cell_type": "markdown",
   "metadata": {},
   "source": [
    "# 3. XGBoost"
   ]
  },
  {
   "cell_type": "markdown",
   "metadata": {},
   "source": [
    "## 3.1. The algorithm"
   ]
  },
  {
   "cell_type": "code",
   "execution_count": 32,
   "metadata": {
    "execution": {
     "iopub.execute_input": "2022-01-04T17:10:16.426324Z",
     "iopub.status.busy": "2022-01-04T17:10:16.425909Z",
     "iopub.status.idle": "2022-01-04T17:10:16.430661Z",
     "shell.execute_reply": "2022-01-04T17:10:16.429393Z",
     "shell.execute_reply.started": "2022-01-04T17:10:16.426279Z"
    },
    "tags": []
   },
   "outputs": [],
   "source": [
    "import numpy as np\n",
    "import pandas as pd\n",
    "np.set_printoptions(precision=4, floatmode='maxprec')\n",
    "\n",
    "from sklearn.datasets import load_breast_cancer\n",
    "from sklearn.model_selection import train_test_split\n",
    "from sklearn.metrics import roc_auc_score\n",
    "from xgboost import XGBClassifier, XGBRegressor"
   ]
  },
  {
   "cell_type": "code",
   "execution_count": 9,
   "metadata": {
    "execution": {
     "iopub.execute_input": "2022-01-04T16:49:39.384331Z",
     "iopub.status.busy": "2022-01-04T16:49:39.383993Z",
     "iopub.status.idle": "2022-01-04T16:49:39.399052Z",
     "shell.execute_reply": "2022-01-04T16:49:39.398263Z",
     "shell.execute_reply.started": "2022-01-04T16:49:39.384300Z"
    },
    "tags": []
   },
   "outputs": [],
   "source": [
    "cancer = load_breast_cancer()\n",
    "X = cancer.data\n",
    "y = cancer.target\n",
    "XTrain, XTest, yTrain, yTest = train_test_split(X, y, test_size=0.3, random_state=7)"
   ]
  },
  {
   "cell_type": "code",
   "execution_count": 37,
   "metadata": {
    "execution": {
     "iopub.execute_input": "2022-01-04T17:12:15.888140Z",
     "iopub.status.busy": "2022-01-04T17:12:15.887758Z",
     "iopub.status.idle": "2022-01-04T17:12:16.030266Z",
     "shell.execute_reply": "2022-01-04T17:12:16.028735Z",
     "shell.execute_reply.started": "2022-01-04T17:12:15.888097Z"
    },
    "tags": []
   },
   "outputs": [
    {
     "name": "stdout",
     "output_type": "stream",
     "text": [
      "AUC = 0.9636 [XGBClassifier]\n"
     ]
    }
   ],
   "source": [
    "clf = XGBClassifier(eval_metric='error', use_label_encoder=False)\n",
    "\n",
    "model = clf.fit(XTrain, yTrain)\n",
    "yPred = model.predict(XTest)\n",
    "auc = roc_auc_score(yTest, yPred)\n",
    "print(f'AUC = {auc:.4f} [{model.__class__.__name__}]')"
   ]
  },
  {
   "cell_type": "markdown",
   "metadata": {},
   "source": [
    "## 3.2. Implementation"
   ]
  },
  {
   "cell_type": "markdown",
   "metadata": {},
   "source": [
    "# 4. LightGBM\n",
    "[LightGBM](https://lightgbm.readthedocs.io/en/latest/) is an implementation of Gradient Boosting developed by Microsoft in order to deal with large datasets. According to [LightGBM paper](https://proceedings.neurips.cc/paper/2017/file/6449f44a102fde848669bdd9eb6b76fa-Paper.pdf), *the main cost in GBDT lies in learning the decision trees, and the most time-consuming part in learning a decision tree is to find the best split points*. XGBoost has developed histogram-based split finding that reduces the complexity of the algorithm from $O(\\#instance \\times \\#feature)$ to $O(\\#bin \\times \\#feature)$ where $\\#bin\\ll \\#instance$, which outperforms other implementations in terms of memory consumption.\n",
    "\n",
    "However, XGBoost still does not meet the satisfactory of scalability when working on large datasets. To improve the performance of previous implementations, LightGBM introduces two novels techniques, *Gradient-based One-Side Sampling* (GOSS) for reducing data instances and *Exclusive Feature Bundling* (EFB) for reducing data dimensions."
   ]
  },
  {
   "cell_type": "markdown",
   "metadata": {},
   "source": [
    "## 4.1. The algorithm"
   ]
  },
  {
   "cell_type": "markdown",
   "metadata": {},
   "source": [
    "### Gradient-based one-side sampling\n",
    "As the purpose of GOSS is to smartly sample data, it requires sample weights to achieve this. Althought Gradient Boosting does not have any native weight as in Adaptive Boosting, we can use residuals (generally gradients) as pseudo-weights. The GOSS algorithm is implemented right before the training of each weak learner and is described as follows.\n",
    "\n",
    "*Input:*\n",
    "- A dataset of $N$ observations and their corresponding gradients computed from the most recent predictor\n",
    "- $a$ - the sampling ratio of large gradient data and $b$ - the sampling ratio of small gradient data ($a+b$ should not be greater than $1$)\n",
    "\n",
    "*Step 1:* Sort (in descending order) the observations by the absolute values of their gradients and select top $\\lfloor aN \\rfloor$ observations. This under-trained set is what the training of the next tree should focus on.\n",
    "\n",
    "*Step 2:* Perform random sampling $\\lfloor bN \\rfloor$ observations from the rest of the data. In order to compensate the information losses that affect data distribution, each instance in this well-trained set is amplified by a constant $\\frac{1-a}{b}>1$ when calculating information gain in the next tree.\n",
    "\n",
    "*Step 3:* Combine the under-trained set and the well-trained set above to form a single set to be used in learning the Decision Tree. By using this technique, *we put more focus on the under-trained instances without changing the original data distribution by much*."
   ]
  },
  {
   "cell_type": "markdown",
   "metadata": {},
   "source": [
    "### Exclusive feature bundling"
   ]
  },
  {
   "cell_type": "markdown",
   "metadata": {},
   "source": [
    "## 4.2. Implementation"
   ]
  },
  {
   "cell_type": "code",
   "execution_count": 27,
   "metadata": {
    "execution": {
     "iopub.execute_input": "2022-01-04T17:07:47.251126Z",
     "iopub.status.busy": "2022-01-04T17:07:47.250865Z",
     "iopub.status.idle": "2022-01-04T17:07:47.255182Z",
     "shell.execute_reply": "2022-01-04T17:07:47.254212Z",
     "shell.execute_reply.started": "2022-01-04T17:07:47.251103Z"
    },
    "tags": []
   },
   "outputs": [],
   "source": [
    "import numpy as np\n",
    "import pandas as pd\n",
    "np.set_printoptions(precision=4, floatmode='maxprec')\n",
    "\n",
    "from sklearn.datasets import load_breast_cancer\n",
    "from sklearn.model_selection import train_test_split\n",
    "from sklearn.metrics import roc_auc_score\n",
    "from lightgbm import LGBMClassifier, LGBMRegressor"
   ]
  },
  {
   "cell_type": "code",
   "execution_count": 9,
   "metadata": {
    "execution": {
     "iopub.execute_input": "2022-01-04T16:49:39.384331Z",
     "iopub.status.busy": "2022-01-04T16:49:39.383993Z",
     "iopub.status.idle": "2022-01-04T16:49:39.399052Z",
     "shell.execute_reply": "2022-01-04T16:49:39.398263Z",
     "shell.execute_reply.started": "2022-01-04T16:49:39.384300Z"
    },
    "tags": []
   },
   "outputs": [],
   "source": [
    "cancer = load_breast_cancer()\n",
    "X = cancer.data\n",
    "y = cancer.target\n",
    "XTrain, XTest, yTrain, yTest = train_test_split(X, y, test_size=0.3, random_state=7)"
   ]
  },
  {
   "cell_type": "code",
   "execution_count": 29,
   "metadata": {
    "execution": {
     "iopub.execute_input": "2022-01-04T17:08:05.866463Z",
     "iopub.status.busy": "2022-01-04T17:08:05.866166Z",
     "iopub.status.idle": "2022-01-04T17:08:06.058369Z",
     "shell.execute_reply": "2022-01-04T17:08:06.057268Z",
     "shell.execute_reply.started": "2022-01-04T17:08:05.866437Z"
    },
    "tags": []
   },
   "outputs": [
    {
     "name": "stdout",
     "output_type": "stream",
     "text": [
      "AUC = 0.9364 [LGBMClassifier]\n"
     ]
    }
   ],
   "source": [
    "clf = LGBMClassifier()\n",
    "\n",
    "model = clf.fit(XTrain, yTrain)\n",
    "yPred = model.predict(XTest)\n",
    "auc = roc_auc_score(yTest, yPred)\n",
    "print(f'AUC = {auc:.4f} [{model.__class__.__name__}]')"
   ]
  },
  {
   "cell_type": "markdown",
   "metadata": {},
   "source": [
    "# 5. CatBoost"
   ]
  },
  {
   "cell_type": "markdown",
   "metadata": {},
   "source": [
    "## 5.1. The algorithm"
   ]
  },
  {
   "cell_type": "markdown",
   "metadata": {},
   "source": [
    "### Target encoding"
   ]
  },
  {
   "cell_type": "markdown",
   "metadata": {},
   "source": [
    "### Ordered boosting"
   ]
  },
  {
   "cell_type": "markdown",
   "metadata": {},
   "source": [
    "## 5.2. Implementation"
   ]
  },
  {
   "cell_type": "code",
   "execution_count": 38,
   "metadata": {
    "execution": {
     "iopub.execute_input": "2022-01-04T17:31:55.947470Z",
     "iopub.status.busy": "2022-01-04T17:31:55.947140Z",
     "iopub.status.idle": "2022-01-04T17:31:55.951243Z",
     "shell.execute_reply": "2022-01-04T17:31:55.950374Z",
     "shell.execute_reply.started": "2022-01-04T17:31:55.947440Z"
    },
    "tags": []
   },
   "outputs": [],
   "source": [
    "import numpy as np\n",
    "import pandas as pd\n",
    "np.set_printoptions(precision=4, floatmode='maxprec')\n",
    "\n",
    "from sklearn.datasets import load_breast_cancer\n",
    "from sklearn.model_selection import train_test_split\n",
    "from sklearn.metrics import roc_auc_score\n",
    "from catboost import CatBoostClassifier, CatBoostRegressor"
   ]
  },
  {
   "cell_type": "code",
   "execution_count": 9,
   "metadata": {
    "execution": {
     "iopub.execute_input": "2022-01-04T16:49:39.384331Z",
     "iopub.status.busy": "2022-01-04T16:49:39.383993Z",
     "iopub.status.idle": "2022-01-04T16:49:39.399052Z",
     "shell.execute_reply": "2022-01-04T16:49:39.398263Z",
     "shell.execute_reply.started": "2022-01-04T16:49:39.384300Z"
    },
    "tags": []
   },
   "outputs": [],
   "source": [
    "cancer = load_breast_cancer()\n",
    "X = cancer.data\n",
    "y = cancer.target\n",
    "XTrain, XTest, yTrain, yTest = train_test_split(X, y, test_size=0.3, random_state=7)"
   ]
  },
  {
   "cell_type": "code",
   "execution_count": 17,
   "metadata": {
    "execution": {
     "iopub.execute_input": "2022-01-04T16:55:47.098732Z",
     "iopub.status.busy": "2022-01-04T16:55:47.098230Z",
     "iopub.status.idle": "2022-01-04T16:55:49.820022Z",
     "shell.execute_reply": "2022-01-04T16:55:49.818822Z",
     "shell.execute_reply.started": "2022-01-04T16:55:47.098684Z"
    },
    "tags": []
   },
   "outputs": [
    {
     "name": "stdout",
     "output_type": "stream",
     "text": [
      "AUC = 0.9636 [CatBoostClassifier]\n"
     ]
    }
   ],
   "source": [
    "clf = CatBoostClassifier()\n",
    "\n",
    "model = clf.fit(XTrain, yTrain, logging_level='Silent')\n",
    "yPred = model.predict(XTest)\n",
    "auc = roc_auc_score(yTest, yPred)\n",
    "print(f'AUC = {auc:.4f} [{model.__class__.__name__}]')"
   ]
  },
  {
   "cell_type": "code",
   "execution_count": null,
   "metadata": {},
   "outputs": [],
   "source": []
  },
  {
   "cell_type": "code",
   "execution_count": null,
   "metadata": {},
   "outputs": [],
   "source": []
  },
  {
   "cell_type": "code",
   "execution_count": null,
   "metadata": {},
   "outputs": [],
   "source": []
  },
  {
   "cell_type": "markdown",
   "metadata": {},
   "source": [
    "# References\n",
    "- [Scikit-learn] [Ensemble methods](https://scikit-learn.org/stable/modules/ensemble.html)\n",
    "- [XGBoost] [Introduction to Boosted Trees](https://xgboost.readthedocs.io/en/stable/tutorials/model.html)\n",
    "- [Towards Data Science] [Ensemble methods: bagging, boosting and stacking](https://towardsdatascience.com/ensemble-methods-bagging-boosting-and-stacking-c9214a10a205)\n",
    "\n",
    "\n",
    "- [Paper] [A short introduction to Boosting](http://www.cs.columbia.edu/~jebara/6772/papers/IntroToBoosting.pdf)\n",
    "- [Paper] [XGBoost: A scalable tree boosting system](https://arxiv.org/pdf/1603.02754.pdf)\n",
    "- [Paper] [LightGBM: A highly efficient Gradient Boosting Decision Tree](https://proceedings.neurips.cc/paper/2017/file/6449f44a102fde848669bdd9eb6b76fa-Paper.pdf)\n",
    "- [Paper] [CatBoost: Unbiased Boosting with categorical features](https://arxiv.org/pdf/1706.09516.pdf)"
   ]
  },
  {
   "cell_type": "markdown",
   "metadata": {},
   "source": [
    "# Old"
   ]
  },
  {
   "cell_type": "markdown",
   "metadata": {},
   "source": [
    "## XGBoost\n",
    "\n",
    "**Signing**:\n",
    "- $O_{value}$: Output value\n",
    "- $\\lambda$ : Regulaziration parameter\n",
    "- $\\gamma$: Tree complexity parameter\n",
    "- $\\eta$: Learning rate\n",
    "- Gradient ($g$): First derivative of loss function\n",
    "- Hessian ($h$): Second derivative of loss function\n",
    "- Residual :$r$\n",
    "- Number of residual: $N_r$"
   ]
  },
  {
   "cell_type": "markdown",
   "metadata": {},
   "source": [
    "### The idea and mathematical behind xgboost\n",
    "\n",
    "The first step of fitting XGboost to the training data is making the initial prediction $p_0$ (default is `0.5` for both regression and classification). Like GBM, XGboost fit a tree to the residual of each observation but each tree in XGboost is unique. XGB build a tree which try to minimize the equation:\n",
    "$$\\sum_{i=1}^{n}L(y_i,p_{i}^0+O_{value}) + \\frac{1}{2}\\lambda*{O^2_{value}}  \\space \\mbox{(1)}$$\n",
    "with $L$ is *loss function* and ($\\frac{1}{2}\\lambda*{O^2_{value}}$) is *regularization term*.\\\n",
    "The goal of XGB is finding the optimal output value to minimize the equation $(1)$.\n",
    "\n",
    "To make an Xgboost tree, firstly we calculate the residuals of each obs different to initial prediction then making similariry score for the root:\n",
    "$$\\mbox{Similariry Score} = \\frac{(\\sum gradient)^2}{\\sum hessian + \\lambda}$$\n",
    "Similarity score tell us the similarity between residual of observations, if residuals is different, they cancel out the others so that the similarity score will be small. And $\\lambda$ is the regularization parameter, it's intend to reduce the prediction's sensitivity to individual observations and then prevent overfitting. When $\\lambda$ increase, the similarity score wil be decrease - the amount of decrease is inversely proportional to the number of residual in the node.\\\n",
    "After having the similarity for the root, we find an optimal split point for the tree. We'll choose one threshold to split the obs and then calculating similarity score for each node. To quantify how much better the leaves similar residual than the root, we calculate the gain:\n",
    "$$\\mbox{gain} = \\mbox{left}_{similarity} + \\mbox{right}_{similarity} - \\mbox{root}_{similarity}$$\n",
    "\n",
    "We can compare the gain of this thresold to the others and the threshold which made the largest gain will be chosen. Continue building tree with other feature until getting the maximum split.\n",
    "\n",
    "Now we have the full tree, to prune the tree, we use $\\gamma$ parameter. If $gain - \\gamma < 0$, we prune that leave.\n",
    "\n",
    "Next step is find the output for each leaf of the tree. To do that, we derivate the equation $(1)$ and we get the formular for optimal output:\n",
    "$$O_{value}=\\frac{-\\sum gradient}{\\sum hessian + \\lambda}$$\n",
    "\n",
    "The larger $\\lambda$, the closer output value to 0.\\\n",
    "Finally, we use the output value plus learning rate to make the new prediction:\n",
    "$$p_0 + \\sum_{m=1}^{m}\\eta * O_{value}$$\n",
    "\n",
    "Like GBM, the process go on with the next tree which is build based on residual of previous tree. And ending by reaching the smallest residual or maximum tree.\n"
   ]
  },
  {
   "cell_type": "markdown",
   "metadata": {},
   "source": [
    "### Application in regression\n",
    "\n",
    "In regression, XGB use loss function just like GBM:\n",
    "$$L(y_i,p_i) = \\frac{1}{2}(y_i-p_i)^2$$\n",
    "\n",
    "Then gradient and hessian of loss function is :\n",
    "$g_i = -(y_i-p_i)$ and $h_i = 1$\n",
    "\n",
    "Replace to $O_{value}$ and similarity score we will have:\n",
    "$$O_{value} = \\frac{\\sum r}{N_r + \\lambda}$$\n",
    "\n",
    "$$\\mbox{similarity score} = \\frac{\\sum r^2}{N_{r} + \\lambda} $$"
   ]
  },
  {
   "cell_type": "markdown",
   "metadata": {},
   "source": [
    "### Application in classification\n",
    "\n",
    "In classification, the loss function is the negative likelihood:\n",
    "$$L(y_i,p_i) = -[y_i*log(p_i) + (1-y_i)*log(1-p_i)]$$\n",
    "Then gradient and hessian of loss function is: \n",
    "$g_i = -(y_i-p_i)$ and $h_i = p_i*(1-p_i)$\n",
    "\n",
    "Replace we have:\n",
    "$$O_{value} = \\frac{\\sum r}{N_r + \\lambda}$$\n",
    "\n",
    "$$\\mbox{similarity score} = \\frac{\\sum r^2}{cover+ \\lambda} $$\n",
    "with $Cover = \\sum h_i= \\sum[\\mbox{previous prob}*(1-\\mbox{previous prob})]$ \n",
    "\n",
    "Despite making probability as a new prediction, we predict $log(odds)$ of prediction then convert to probability (because ouput value is the $log(odds)$ now):\n",
    "\n",
    "$$log(odds) prediction = log(\\frac{p_0}{1-p_0}) + \\eta*O_{value}$$"
   ]
  },
  {
   "cell_type": "markdown",
   "metadata": {},
   "source": [
    "## LightGBM\n",
    "\n",
    "LightGBM is a gradient boosting framework which use tree based learning algorithm. \n",
    "\n",
    "The reason why lightgbm became powerful are:\n",
    "1. Optimization in accuracy: \n",
    "- LigthGBM uses *leaf_wise* stategy to grow the tree vertically. It will choose the leaf with max delta  loss to grow. \n",
    "- Optimal split for category feature. Other boosting can only use one-hot encoding for category feature but lightGBM can treat feature values equally although values in numeric (i.e: gender 0-unknow, 1-man, 2-woman)\n",
    "2.  Optimization in speed and memory usage: \n",
    "- LightGBM uses histogram-based algorithms, which bucket continuous feature values into discrete bins. Algo will find the best split between bins.\n",
    "- LightGBM uses Gradient-based one side sampling (GOSS) method. By usual, subsample process is done by taking random sample from dataset. But GOSS not only perform a faster way to do this but also keep distribution of the data. The instances with larger gradients (under-trained), contribute a lot more to the tree building process so we keep all instances with large gradient, but to prevent changing the distribution, we need to perform random sampling on instances with small gradients. Assume we have \n",
    "$n$ data instances, if we keep $a$ instances with large gradients and randomly samples $x$% $(n-a)$ instances with small gradients, we have the sampled data with size $a+ x$% $*(n-a)$. \n",
    "3. Sparse Optimization:\n",
    "- LightGBM handle sparse data by using Exclusive feature bundling (EFB). EFB is a technique that uses a greedy algorithm to combine (or bundle) these mutually exclusive (means never take non-zero in the same time) into a single feature and thus reduce the dimensionality.\n",
    "4. Optimization in Distributed Learning:\n",
    "- Distributed learning allows the use of multiple machines to produce a single model.\n",
    "- Feature parallel: Data had split vertically, each worker handle a subset of feature to find the best split on local feature set then they communicate to others to get the best one. \n",
    "- Data parallel: Data had split horizontally, each worker will construct the local histograms then merge them to make global histogram of the data and find the best split on global histogram. \n",
    "- Voting parallel: It is the special case of data parallel when communication cost is constant.\n",
    "\n",
    "||Data is small| Data is large\n",
    "|:--|:--|:--\n",
    "**Feature  is small**|Feature parallel|Data parallel|\n",
    "**Feature is large**|Feaure parallel|Voting parallel|\n",
    "\n",
    "LightGBM also supports GPU learning. The disadvantage of LGBM is it can easily overfit with small dataset and can't be use with one-hot encoding because of optimal category feature\n"
   ]
  },
  {
   "cell_type": "markdown",
   "metadata": {},
   "source": [
    "Implementation\n",
    "\n",
    "*Reference*: [LightGBM docs](https://lightgbm.readthedocs.io/en/latest/Parameters.html)\\\n",
    "There are several parameters in LGBM which separate into groups:\n",
    "1. Core parameters\n",
    "- task: Type of task which perform on your data. Default is `train`, common is `train`/`predict`\n",
    "- object: Type of problem - regression, binary or multiclass. Default is `regression`.\n",
    "- boosting: Type of algorithms. Default is `GDBT`. Common value is `GOSS`.\n",
    "- num_iterations: Number of interation. Default is 100\n",
    "- learning_rate: Default is `0.1`. Common values are `0.001`, `0.003`\n",
    "- num_leaves: Max number of leaves in full tree. Default is `31`\n",
    "- tree_learner: type of distributed learning. Default is `serial`. Common values are: `feature`,`data`,`voting`.\n",
    "- device_type: `cpu` or `gpu`. GPU can perform better than CPU\n",
    "- data: path of training data\n",
    "- valid: path of validation data. Support multiple validation data\n",
    "2. Learning control parameter\n",
    "- max_depth: The maximum depth of tree. Default is `-1` means no limit.\n",
    "- min_data_in_leaf: The minimum observations a leaf. Default is `20`\n",
    "- feature_fraction: Subset of feature in each tree. Default is `1.0`\n",
    "- bagging_fraction: Subsample data. Default is `1.0`\n",
    "- early_stopping_round: Model will stop training if one metric of one validation data doesn’t improve in last early_stopping_round rounds. Default is `0`.\n",
    "- lambda: lambda specifies regularization (L1/L2). Default is `0.0`\n",
    "- min_gain_to_split:the minimal gain to perform split. Default is `0.0`\n",
    "- max_cat_threshold:Limit number of split points considered for categorical features. Default is `32`\n",
    "3. IO parameter\n",
    "- max_bin: Max number of bins that feature values will be bucketed in. Default is `255`\n",
    "- categorical_feature: used to specify categorical features. Fill with index or name of columns.\n",
    "- is_enable_sparse: used to enable/disable sparse optimization. Default is `true`\n",
    "- enable_bundle: used EFB to bunlding feature. Default is `true`\n",
    "- weight_column: used to specify the weight column. Fill with index or name of column\n",
    "- save_binary: if true, LightGBM will save the dataset (including validation data) to a binary file. This speed ups the data loading for the next time. Default is `true`\n",
    "4. Metric parameter\n",
    "- metric: metric(s) to be evaluated on the evaluation set(s). Default is `\"\"`. Common values are `mae`,`mse`,`auc`,`binary_logloss`,..\n"
   ]
  },
  {
   "cell_type": "code",
   "execution_count": 4,
   "metadata": {},
   "outputs": [],
   "source": [
    "import lightgbm as lgbm\n",
    "\n",
    "import numpy as np\n",
    "import pandas as pd\n",
    "from sklearn.model_selection import train_test_split, GridSearchCV\n",
    "from sklearn.metrics import confusion_matrix, classification_report"
   ]
  },
  {
   "cell_type": "code",
   "execution_count": 5,
   "metadata": {},
   "outputs": [
    {
     "data": {
      "text/html": [
       "<div>\n",
       "<style scoped>\n",
       "    .dataframe tbody tr th:only-of-type {\n",
       "        vertical-align: middle;\n",
       "    }\n",
       "\n",
       "    .dataframe tbody tr th {\n",
       "        vertical-align: top;\n",
       "    }\n",
       "\n",
       "    .dataframe thead th {\n",
       "        text-align: right;\n",
       "    }\n",
       "</style>\n",
       "<table border=\"1\" class=\"dataframe\">\n",
       "  <thead>\n",
       "    <tr style=\"text-align: right;\">\n",
       "      <th></th>\n",
       "      <th>index</th>\n",
       "      <th>Bad_customer</th>\n",
       "      <th>credit_balance_percent</th>\n",
       "      <th>age</th>\n",
       "      <th>num_of_group1_pastdue</th>\n",
       "      <th>debt_ratio</th>\n",
       "      <th>income</th>\n",
       "      <th>num_of_loans</th>\n",
       "      <th>num_of_times_late_90days</th>\n",
       "      <th>num_of_estate_loans</th>\n",
       "      <th>num_of_group2_pastdue</th>\n",
       "      <th>num_of_dependents</th>\n",
       "    </tr>\n",
       "  </thead>\n",
       "  <tbody>\n",
       "    <tr>\n",
       "      <th>0</th>\n",
       "      <td>0</td>\n",
       "      <td>1</td>\n",
       "      <td>0.766127</td>\n",
       "      <td>45</td>\n",
       "      <td>2</td>\n",
       "      <td>0.802982</td>\n",
       "      <td>9120.0</td>\n",
       "      <td>13</td>\n",
       "      <td>0</td>\n",
       "      <td>6</td>\n",
       "      <td>0</td>\n",
       "      <td>2.0</td>\n",
       "    </tr>\n",
       "    <tr>\n",
       "      <th>1</th>\n",
       "      <td>1</td>\n",
       "      <td>0</td>\n",
       "      <td>0.957151</td>\n",
       "      <td>40</td>\n",
       "      <td>0</td>\n",
       "      <td>0.121876</td>\n",
       "      <td>2600.0</td>\n",
       "      <td>4</td>\n",
       "      <td>0</td>\n",
       "      <td>0</td>\n",
       "      <td>0</td>\n",
       "      <td>1.0</td>\n",
       "    </tr>\n",
       "    <tr>\n",
       "      <th>2</th>\n",
       "      <td>2</td>\n",
       "      <td>0</td>\n",
       "      <td>0.658180</td>\n",
       "      <td>38</td>\n",
       "      <td>1</td>\n",
       "      <td>0.085113</td>\n",
       "      <td>3042.0</td>\n",
       "      <td>2</td>\n",
       "      <td>1</td>\n",
       "      <td>0</td>\n",
       "      <td>0</td>\n",
       "      <td>0.0</td>\n",
       "    </tr>\n",
       "    <tr>\n",
       "      <th>3</th>\n",
       "      <td>3</td>\n",
       "      <td>0</td>\n",
       "      <td>0.233810</td>\n",
       "      <td>30</td>\n",
       "      <td>0</td>\n",
       "      <td>0.036050</td>\n",
       "      <td>3300.0</td>\n",
       "      <td>5</td>\n",
       "      <td>0</td>\n",
       "      <td>0</td>\n",
       "      <td>0</td>\n",
       "      <td>0.0</td>\n",
       "    </tr>\n",
       "    <tr>\n",
       "      <th>4</th>\n",
       "      <td>4</td>\n",
       "      <td>0</td>\n",
       "      <td>0.907239</td>\n",
       "      <td>49</td>\n",
       "      <td>1</td>\n",
       "      <td>0.024926</td>\n",
       "      <td>63588.0</td>\n",
       "      <td>7</td>\n",
       "      <td>0</td>\n",
       "      <td>1</td>\n",
       "      <td>0</td>\n",
       "      <td>0.0</td>\n",
       "    </tr>\n",
       "  </tbody>\n",
       "</table>\n",
       "</div>"
      ],
      "text/plain": [
       "   index  Bad_customer  credit_balance_percent  age  num_of_group1_pastdue  \\\n",
       "0      0             1                0.766127   45                      2   \n",
       "1      1             0                0.957151   40                      0   \n",
       "2      2             0                0.658180   38                      1   \n",
       "3      3             0                0.233810   30                      0   \n",
       "4      4             0                0.907239   49                      1   \n",
       "\n",
       "   debt_ratio   income  num_of_loans  num_of_times_late_90days  \\\n",
       "0    0.802982   9120.0            13                         0   \n",
       "1    0.121876   2600.0             4                         0   \n",
       "2    0.085113   3042.0             2                         1   \n",
       "3    0.036050   3300.0             5                         0   \n",
       "4    0.024926  63588.0             7                         0   \n",
       "\n",
       "   num_of_estate_loans  num_of_group2_pastdue  num_of_dependents  \n",
       "0                    6                      0                2.0  \n",
       "1                    0                      0                1.0  \n",
       "2                    0                      0                0.0  \n",
       "3                    0                      0                0.0  \n",
       "4                    1                      0                0.0  "
      ]
     },
     "execution_count": 5,
     "metadata": {},
     "output_type": "execute_result"
    }
   ],
   "source": [
    "credit = pd.read_excel('data/credit_scoring.xlsx')\n",
    "credit = credit.dropna().reset_index()\n",
    "credit.head()"
   ]
  },
  {
   "cell_type": "code",
   "execution_count": 6,
   "metadata": {},
   "outputs": [],
   "source": [
    "y = credit.Bad_customer.values\n",
    "x = credit.drop(columns='Bad_customer')"
   ]
  },
  {
   "cell_type": "code",
   "execution_count": 7,
   "metadata": {},
   "outputs": [],
   "source": [
    "x_train, x_test, y_train, y_test = train_test_split(x, y, test_size=0.2)"
   ]
  },
  {
   "cell_type": "code",
   "execution_count": 8,
   "metadata": {},
   "outputs": [],
   "source": [
    "d_train = lgbm.Dataset(x_train, label=y_train)"
   ]
  },
  {
   "cell_type": "code",
   "execution_count": null,
   "metadata": {},
   "outputs": [],
   "source": [
    "params = {\n",
    "    'learning_rate': [0.001],\n",
    "    'boosting_type': 'goss',\n",
    "    'objective': [1],\n",
    "    'criterion':['friedman_mse']\n",
    "#     'min_sample_split':[10,5,2]  \n",
    "}\n",
    "\n",
    "gbm = GradientBoostingClassifier()\n",
    "gbm = GridSearchCV(gbm, params, cv=3)\n",
    "gbm = gbm.fit(x_train, y_train)\n",
    "gbm.best_params_"
   ]
  },
  {
   "cell_type": "code",
   "execution_count": null,
   "metadata": {},
   "outputs": [],
   "source": [
    "y_train_pred = gbm.predict(x_train)\n",
    "y_test_pred = gbm.predict(x_test)"
   ]
  },
  {
   "cell_type": "markdown",
   "metadata": {},
   "source": [
    "---\n",
    "*&#9829; By Quang Hung x Thuy Linh &#9829;*"
   ]
  }
 ],
 "metadata": {
  "kernelspec": {
   "display_name": "Python 3",
   "language": "python",
   "name": "python3"
  },
  "language_info": {
   "codemirror_mode": {
    "name": "ipython",
    "version": 3
   },
   "file_extension": ".py",
   "mimetype": "text/x-python",
   "name": "python",
   "nbconvert_exporter": "python",
   "pygments_lexer": "ipython3",
   "version": "3.8.8"
  }
 },
 "nbformat": 4,
 "nbformat_minor": 4
}
