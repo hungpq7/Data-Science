{
 "cells": [
  {
   "cell_type": "markdown",
   "id": "2c9e8c3c-a01b-4416-a575-91b7a86329a2",
   "metadata": {},
   "source": [
    "# 1. Overview\n",
    "In Machine Learning, there are commonly two problems (functions) that need to be optimized:\n",
    "\n",
    "$$\\begin{aligned}\n",
    "f &:\\text{parameter}\\rightarrow\\text{loss} \\\\\n",
    "f &:\\text{hyperparameter}\\rightarrow\\text{score}\n",
    "\\end{aligned}$$\n",
    "\n",
    "The first problem is nothing but the training/fitting step; the loss function $\\mathcal{L}$ to be minimized is known and more importantly, *differentiable*. Therefore, a gradient-based method such as Gradient Descent can be used to estimate model parameters.\n",
    "\n",
    "The second one (also known as hyperparameter tuning) does not have a mathematical form and thus cannot be solved using Gradient Descent. The optimal set of hyperparameters is usually found either by Data Scientists using rule of thumb or by searching methods. However, each trial is expensive and we must find the optimal configurations with as few trials as possible.\n",
    "\n",
    "Scoring strategies in Machine Learning can be either *higher is better* (R2, AUC, F1,...) or *lower is better* (RMSE, MAE,...). To make things consistant, we assume all evaluation metrics are higher better."
   ]
  },
  {
   "cell_type": "markdown",
   "id": "c667ef03-9271-4d81-aa47-1d19e04c47ed",
   "metadata": {},
   "source": [
    "## 1.1. Exhausted search\n",
    "There are two popular methods of searching hyperparameters, implemented in Scikit-learn via the classes\n",
    "<code style='font-size:13px'><a href='https://scikit-learn.org/stable/modules/generated/sklearn.model_selection.GridSearchCV.html'>GridSearchCV</a></code>\n",
    "and\n",
    "<code style='font-size:13px'><a href='https://scikit-learn.org/stable/modules/generated/sklearn.model_selection.RandomizedSearchCV.html'>RandomizedSearchCV</a></code>.\n",
    "The idea of each method are already explained clearly in the image below, where the red area shows how much each hyperparameter contributes to model score.\n",
    "\n",
    "<img src='image/grid_random_search.png' style='width:450px; margin:20px auto;'>\n",
    "\n",
    "Grid Search goes to every possible combinations, and thus it will revisit a parameter value multiple times. This makes Grid Search have a low coverage and is very expensive, especially for algorithms with a huge number of hyperparameters such as XGBoost and LightGBM.\n",
    "\n",
    "Random Search is a more efficient method, it randomly takes a number combinations to train models. With the same number of iterations provided, Random Search can cover a wider range of values, and thus it is able to reach the optimal value that Grid Search cannot. Another advantage is that you can include unimportant hyperparameters in your search without increasing the number of trials."
   ]
  },
  {
   "cell_type": "markdown",
   "id": "14fc9d32-07e7-42d7-ac03-3c8b5b4e5e30",
   "metadata": {},
   "source": [
    "## 1.2. Sequential search\n",
    "It's not difficult to see that searching methods perform expensive trials independently, thus they are actually wasting a lot of useful information from previous trials. In order to take advantages of historical information, SMBO (**S**equential **M**odel-**B**ased **O**ptimization) comes to the rescue. This is a class contains algorithms that *smartly* predict the most promising configuration *sequentially*, thus reduce the number of training rounds needed significantly.\n",
    "\n",
    "The basic idea of SMBO is to build a *probabilistic surrogate model* of the black-box function $f:\\text{hyperparameter}\\rightarrow\\text{score}$ using results from observed trials. You can think of it as Machine Learning of Machine Learning; this concept can be a bit complicated but is exactly how it works. There are many algorithms using this sequential search strategy, but in this topic, we are discussing Bayesian Optimization and Tree-structured Parzen Estimators."
   ]
  },
  {
   "cell_type": "markdown",
   "id": "cfe38464-4165-4c69-9b7e-d580a7fff14e",
   "metadata": {},
   "source": [
    "## 1.3. Bandit-based\n",
    "Another effective strategy is using [Multi-Armed Bandit](<https://en.wikipedia.org/wiki/Multi-armed_bandit>). This method is all about *resources allocation*, which smartly uses the most resources on the most promising hyperparameters sets. Multi-Armed Bandit fits so well for Machine Learning algorithms with iterative training behavior, as number of estimators in Gradient Boosting and number of epochs in Deep Learning may serve as the role of resources.\n",
    "\n",
    "A well-known algorithm of this family is Successive Halving, which is implemented in Scikit-learn via\n",
    "<code style='font-size:13px'><a href='https://scikit-learn.org/stable/modules/generated/sklearn.model_selection.HalvingGridSearchCV.html'>HalvingGridSearchCV</a></code> and\n",
    "<code style='font-size:13px'><a href='https://scikit-learn.org/stable/modules/generated/sklearn.model_selection.HalvingRandomSearchCV.html'>HalvingRandomSearchCV</a></code>.\n",
    "There are also improved variants HyperBand and BOHB (a combination of Bayes Optimization and HyperBand)."
   ]
  },
  {
   "cell_type": "markdown",
   "id": "de4f2df1-fcab-4d42-b734-46ac71299b99",
   "metadata": {},
   "source": [
    "## 1.4. Evolutionary\n",
    "Evolutionary algorithms are inspired from [natural selection](https://en.wikipedia.org/wiki/Natural_selection) treat each hyperparameter as a gene and iteratively discard candidates with bad genes. Only good genes are kept in order to perform random permutations on."
   ]
  },
  {
   "cell_type": "markdown",
   "id": "ddcb0e7a-6e33-449d-bbbf-eb41acadc446",
   "metadata": {},
   "source": [
    "# 2. Bayesian Optimization\n",
    "A SMBO using Gaussian Process as the surrogate function is called **B**ayesian **O**ptimization (BO), since Gaussian Process use Bayes' rule to update the posterior distribution. This is the most popular algorithm for hyperparameter tuning that is implemented in many packages such as\n",
    "[bayes_opt](https://github.com/fmfn/BayesianOptimization),\n",
    "[scikit-optimize](https://github.com/scikit-optimize/scikit-optimize),\n",
    "[nni](https://github.com/microsoft/nni),\n",
    "[spearmint](https://github.com/JasperSnoek/spearmint),\n",
    "[pyGPGO](https://github.com/josejimenezluna/pyGPGO),\n",
    "[MOE](https://github.com/Yelp/MOE),\n",
    "[GPyOpt](https://github.com/SheffieldML/GPyOpt).\n",
    "Despite that, the algorithm has some disadvantages:\n",
    "- It does not support categorical hyperparameters, such as impurity criterion in Decision Tree.\n",
    "- Gaussian Process does not scale very well"
   ]
  },
  {
   "cell_type": "markdown",
   "id": "57aa1a38-c8df-4c23-95e5-cb45055182b3",
   "metadata": {
    "tags": []
   },
   "source": [
    "## 2.1. Algorithm\n",
    "*Input*:\n",
    "- A domain, or search space of hyperparameters\n",
    "- $f$, the black-box function to be optimized, it maps hyperpameters to model score: $y=f(x)$ and is very expensive to evaluate\n",
    "- $T$, the number of trials budget\n",
    "- $\\mathcal{S}$, a surrogate model (Gaussian Process) which takes finished trials as input then returns a distribution of model score for each unobserved trial\n",
    "- $\\mathcal{A}$, an acquisition function for deciding where the next trial should locate at\n",
    "\n",
    "*Step 1*: Create a set $\\mathcal{H}$ for storing historical trials $(x,y)$ with a randomly initialized trial $(x_0,y_0)$.\n",
    "\n",
    "*Step 2*: For each trial $t$ for $t=1,2,\\dots,T$:\n",
    "- Fit the surrogate model on $\\mathcal{H}$ to get $\\mathcal{S}_t$\n",
    "- Compute the acquisition function $\\mathcal{A}_t(x)$ using $\\mathcal{S}_t$ and $\\mathcal{H}$\n",
    "- Evaluate the most promising query point $x_t=\\arg\\max\\mathcal{A}_t(x)$\n",
    "- Train the expensive Machine Learning model using hyperparameters $x_t$ and compute its score $y_t=f(x_t)$\n",
    "- Append the result $(x_t,y_t)$ to $\\mathcal{H}$"
   ]
  },
  {
   "cell_type": "markdown",
   "id": "09e2ceec-1fe4-432a-afb5-4e2fabc44371",
   "metadata": {},
   "source": [
    "## 2.2. Acquisition functions\n",
    "Acquisition function is a very important component of SMBO, it defines the strategy to select the next set of hyperparameters to be used in training Machine Learning model. Acqusition functions control the balance between *exploitation* and *exploration*. In this section, we learn about 4 most popular options, using these notations:\n",
    "- $x^\\star,y^\\star$ are the best hyperparameters so far in $\\mathcal{H}$ and the associated model score\n",
    "- $\\varphi(\\cdot)$ and $\\psi(\\cdot)$ indicate the PDF and CDF, respectively\n",
    "- $\\mu_y$ and $\\sigma_y$ indicate the mean and standard deviation of model score according to the surrogate model\n",
    "\n",
    "<img src='image/acquisition_functions.png' style='height:450px; margin:20px auto 20px;'>"
   ]
  },
  {
   "cell_type": "markdown",
   "id": "f1a0e070-aa10-454e-b12a-393bcf4e45be",
   "metadata": {},
   "source": [
    "### Probability of Improvement\n",
    "The idea of PI is very simple, it measures, at each unused configuration $x$, the probability that the corresponding score $y$ is higher than the current best score $y^\\star$. A small positive offset $\\xi$ is added to maintain the trade-off between *exploration* and *exploitation*.\n",
    "\n",
    "$$\\text{PI}=\\text{Prob }(y>y^\\star+\\xi)$$\n",
    "\n",
    "The intuition behind $\\xi$ is all about *uncertainty*. For certain areas, the distribution of model scores are clustered around the mean, so that only a small $\\xi$ penalizes their PI a lot. For this reason, higher values of $\\xi$ favor exploration; but if too high, the behaviour will be a lot like [Active Learning](<https://en.wikipedia.org/wiki/Active_learning_(machine_learning)>). A balanced $\\epsilon$ will make SMBO explore *just enough* and spend trials effectively on exploitation."
   ]
  },
  {
   "cell_type": "code",
   "execution_count": 1,
   "id": "ffeb97b6-8601-4b9e-994b-3cd4dab6479c",
   "metadata": {
    "tags": []
   },
   "outputs": [],
   "source": [
    "import numpy as np\n",
    "import pandas as pd\n",
    "from scipy import stats\n",
    "import matplotlib.pyplot as plt; plt.style.use(['seaborn', 'seaborn-whitegrid'])\n",
    "import seaborn as sns\n",
    "from sklearn.gaussian_process import GaussianProcessRegressor\n",
    "%config InlineBackend.figure_format = 'retina'"
   ]
  },
  {
   "cell_type": "code",
   "execution_count": 2,
   "id": "ada8df0a-6d65-41d4-bdda-158ef39bcae7",
   "metadata": {
    "tags": []
   },
   "outputs": [],
   "source": [
    "f = lambda x: 0.009*x**5 + 0.06*x**4 - 0.03*x**3 - 0.72*x**2 - 0.75*x + 1.8\n",
    "\n",
    "np.random.seed(7)\n",
    "xTrain = np.array([-4, 0.5, 1.5, 3])\n",
    "yTrain = f(xTrain)\n",
    "\n",
    "xTest = np.linspace(-5, 3.5, 100)\n",
    "yTest = f(xTest)"
   ]
  },
  {
   "cell_type": "code",
   "execution_count": 3,
   "id": "e7eeaf01-fa1f-4358-8fad-aefa4b41b072",
   "metadata": {
    "tags": []
   },
   "outputs": [],
   "source": [
    "algo = GaussianProcessRegressor()\n",
    "model = algo.fit(xTrain.reshape(-1,1), yTrain)\n",
    "meanPred, sigmaPred = model.predict(xTest.reshape(-1,1), return_std=True)\n",
    "lower, upper = meanPred - sigmaPred, meanPred + sigmaPred"
   ]
  },
  {
   "cell_type": "code",
   "execution_count": 5,
   "id": "7760f995-e53e-47fd-a0db-b2cce842df82",
   "metadata": {
    "tags": []
   },
   "outputs": [
    {
     "data": {
      "image/png": "[encoded data removed]",
      "text/plain": [
       "<Figure size 864x432 with 1 Axes>"
      ]
     },
     "metadata": {
      "image/png": {
       "height": 354,
       "width": 629
      }
     },
     "output_type": "display_data"
    }
   ],
   "source": [
    "xi = 0.5\n",
    "yStar = yTrain.max()\n",
    "yThres = yStar + xi\n",
    "\n",
    "fig, ax = plt.subplots(figsize=(12,6))\n",
    "ax.plot(xTest, yTest, 'indianred', label='Ground Truth')\n",
    "ax.plot(xTest, meanPred, color='grey', label='Surrogate Mean')\n",
    "ax.plot(xTrain, yTrain, 'ok', label='Trials Done')\n",
    "\n",
    "ax.axhline(yTrain.max(), ls='--', lw=1, c='grey')\n",
    "ax.axhline(yTrain.max()+xi, ls='--', lw=1, c='grey')\n",
    "\n",
    "yStar = yTrain.max()\n",
    "yThres = yStar + xi\n",
    "ax.text(ax.get_xlim()[1]*1.02, yStar, 'Best score', va='center', ha='left')\n",
    "ax.text(ax.get_xlim()[1]*1.02, yThres, 'Best score + Offset', va='center', ha='left')\n",
    "\n",
    "for idx, xQuery in enumerate([-0.7, 0.2]):\n",
    "    xQuery = np.array(xQuery)\n",
    "    muQuery, sigmaQuery = model.predict(xQuery.reshape(-1,1), return_std=True)\n",
    "    muQuery, sigmaQuery = muQuery[0], sigmaQuery[0]\n",
    "    distQuery = stats.norm(muQuery, sigmaQuery)\n",
    "    lowerQuery, upperQuery = muQuery - 3*sigmaQuery, muQuery + 3*sigmaQuery\n",
    "    yRange = np.linspace(lowerQuery, upperQuery, 100)\n",
    "    yPlot = yRange[yRange < yThres]\n",
    "    xPlot = xQuery + distQuery.pdf(yPlot)\n",
    "    yPI = yRange[yRange >= yThres]\n",
    "    xPI = xQuery + distQuery.pdf(yPI)\n",
    "    \n",
    "    ax.axvline(xQuery, ls='--', lw=1, c='grey')\n",
    "    if idx == 0:\n",
    "        ax.fill_betweenx(yPlot, xPlot, xQuery, color='grey', alpha=0.1, label='Surrogate Distribution')\n",
    "        ax.fill_betweenx(yPI, xPI, xQuery, color='teal', alpha=0.2, label='Probability of Improvement')\n",
    "    else:\n",
    "        ax.fill_betweenx(yPlot, xPlot, xQuery, color='grey', alpha=0.1)\n",
    "        ax.fill_betweenx(yPI, xPI, xQuery, color='teal', alpha=0.2)\n",
    "        \n",
    "\n",
    "ax.axis('scaled')\n",
    "ax.xaxis.set_major_locator(plt.MultipleLocator(1))\n",
    "ax.yaxis.set_major_locator(plt.MultipleLocator(1))\n",
    "ax.legend()\n",
    "ax.grid(False)\n",
    "ax.tick_params(axis='both', bottom=False, left=False, labelbottom=False, labelleft=False)\n",
    "ax.set_xlabel('Hyperparameter')\n",
    "ax.set_ylabel('Model Score')\n",
    "plt.show()"
   ]
  },
  {
   "cell_type": "markdown",
   "id": "a84942eb-e12e-4df8-a5f9-a57a680e7b36",
   "metadata": {},
   "source": [
    "### Expected Improvement\n",
    "As PI only considers *how likely* to improve, we need EI to answer *how much* the improvement can be. We simply measure the [expected value](https://en.wikipedia.org/wiki/Expected_value#Random_variables_with_density) of improvement $y-y^\\star$, or more percisely, $\\max(y-y^\\star-\\xi,0)$. In the later formula, we are clipping negative improvements at zero. An offset $\\xi$ is also added with the same intuition as in Probability of Improvement.\n",
    "\n",
    "$$\\text{EI}=\\int_{-\\infty}^{\\infty} {(y-y^\\star-\\xi)\\,\\varphi(y)\\,\\text{d}y}$$\n",
    "\n",
    "As EI and PI overcome the limitation of the other, we can combine them: $\\text{PI}+\\lambda\\text{EI}$ to get a new acquisition function, PI-EI."
   ]
  },
  {
   "cell_type": "markdown",
   "id": "ab184817-010e-42a5-aa64-b57dcbe8c255",
   "metadata": {},
   "source": [
    "### Upper Confidence Bound\n",
    "This acquisition function is a linear combination of the surrogate mean $\\mu_y$ and the surrogate uncertainty $\\sigma_y$. A multiplier $\\kappa$ is attached to $\\sigma_y$, it also favors *exploration*.\n",
    "\n",
    "$$\\text{UCB}=\\mu_y+\\kappa\\sigma_y$$"
   ]
  },
  {
   "cell_type": "markdown",
   "id": "bf7645fb-97a3-493b-aecb-b56437bc05ab",
   "metadata": {},
   "source": [
    "### Thomson Sampling\n",
    "As its name states, this method randomly samples a function that follows the surrogate distribution at each trial. Such a stochastic behaviour is non-deterministic in short-term but can converge in long-term as it is naturally exploration-exploitation balance."
   ]
  },
  {
   "cell_type": "markdown",
   "id": "4f3a3ac6-cd17-4565-9957-dbf318b482bf",
   "metadata": {},
   "source": [
    "## 2.3. Implementation: Bayes-opt\n",
    "In this section, we are going to use Bayes_opt and start simple with an example of maximizing the function:\n",
    "\n",
    "$$f(x,y,z)=100-(x-1)^2+-(y-2)^2+-(z-4)^2$$\n",
    "\n",
    "This problem can be easily solved by hand: $\\max{f}=100$ and $\\arg\\max{f}=(1,2,4)$. Let's see how BO performs in action. Before we start, always remember that $f$ is an *expensive black box* function."
   ]
  },
  {
   "cell_type": "code",
   "execution_count": 1,
   "id": "55741c84-bb35-46d4-b877-4ed3e04849d4",
   "metadata": {
    "execution": {
     "iopub.execute_input": "2022-08-29T15:18:07.881017Z",
     "iopub.status.busy": "2022-08-29T15:18:07.880652Z",
     "iopub.status.idle": "2022-08-29T15:18:07.884594Z",
     "shell.execute_reply": "2022-08-29T15:18:07.883778Z",
     "shell.execute_reply.started": "2022-08-29T15:18:07.880962Z"
    },
    "tags": []
   },
   "outputs": [],
   "source": [
    "f = lambda x, y, z: 100 - (x-1)**2 - (y-2)**2 - (z-4)**2 "
   ]
  },
  {
   "cell_type": "code",
   "execution_count": 2,
   "id": "8ce05579-b1f3-491c-999d-449a5726e948",
   "metadata": {
    "execution": {
     "iopub.execute_input": "2022-08-29T15:18:09.328304Z",
     "iopub.status.busy": "2022-08-29T15:18:09.327984Z",
     "iopub.status.idle": "2022-08-29T15:18:13.576222Z",
     "shell.execute_reply": "2022-08-29T15:18:13.574757Z",
     "shell.execute_reply.started": "2022-08-29T15:18:09.328284Z"
    },
    "tags": []
   },
   "outputs": [],
   "source": [
    "from bayes_opt import BayesianOptimization\n",
    "space = {\n",
    "    'x': (-5, 5),\n",
    "    'y': (-5, 5),\n",
    "    'z': (-5, 5),\n",
    "}"
   ]
  },
  {
   "cell_type": "code",
   "execution_count": 3,
   "id": "7a818b81-b2e1-4537-bdc2-194fc11937dd",
   "metadata": {
    "execution": {
     "iopub.execute_input": "2022-08-29T15:18:13.736867Z",
     "iopub.status.busy": "2022-08-29T15:18:13.736468Z",
     "iopub.status.idle": "2022-08-29T15:18:15.506036Z",
     "shell.execute_reply": "2022-08-29T15:18:15.505199Z",
     "shell.execute_reply.started": "2022-08-29T15:18:13.736842Z"
    },
    "tags": []
   },
   "outputs": [
    {
     "name": "stdout",
     "output_type": "stream",
     "text": [
      "|   iter    |  target   |     x     |     y     |     z     |\n",
      "-------------------------------------------------------------\n",
      "| \u001b[0m 1       \u001b[0m | \u001b[0m 15.63   \u001b[0m | \u001b[0m-0.8298  \u001b[0m | \u001b[0m 2.203   \u001b[0m | \u001b[0m-4.999   \u001b[0m |\n",
      "| \u001b[0m 2       \u001b[0m | \u001b[0m-4.7     \u001b[0m | \u001b[0m-1.977   \u001b[0m | \u001b[0m-3.532   \u001b[0m | \u001b[0m-4.077   \u001b[0m |\n",
      "| \u001b[95m 3       \u001b[0m | \u001b[95m 44.99   \u001b[0m | \u001b[95m-3.137   \u001b[0m | \u001b[95m-1.544   \u001b[0m | \u001b[95m-1.032   \u001b[0m |\n",
      "| \u001b[0m 4       \u001b[0m | \u001b[0m 44.6    \u001b[0m | \u001b[0m-3.174   \u001b[0m | \u001b[0m-1.831   \u001b[0m | \u001b[0m-0.8263  \u001b[0m |\n",
      "| \u001b[95m 5       \u001b[0m | \u001b[95m 60.98   \u001b[0m | \u001b[95m-4.083   \u001b[0m | \u001b[95m 0.04953 \u001b[0m | \u001b[95m 0.9382  \u001b[0m |\n",
      "| \u001b[95m 6       \u001b[0m | \u001b[95m 96.31   \u001b[0m | \u001b[95m-0.7705  \u001b[0m | \u001b[95m 1.273   \u001b[0m | \u001b[95m 4.159   \u001b[0m |\n",
      "| \u001b[0m 7       \u001b[0m | \u001b[0m 88.2    \u001b[0m | \u001b[0m 2.343   \u001b[0m | \u001b[0m 5.0     \u001b[0m | \u001b[0m 5.0     \u001b[0m |\n",
      "| \u001b[0m 8       \u001b[0m | \u001b[0m 74.54   \u001b[0m | \u001b[0m 5.0     \u001b[0m | \u001b[0m-0.9091  \u001b[0m | \u001b[0m 5.0     \u001b[0m |\n",
      "| \u001b[0m 9       \u001b[0m | \u001b[0m 65.17   \u001b[0m | \u001b[0m-4.065   \u001b[0m | \u001b[0m 4.859   \u001b[0m | \u001b[0m 4.997   \u001b[0m |\n",
      "| \u001b[0m 10      \u001b[0m | \u001b[0m 65.21   \u001b[0m | \u001b[0m 5.0     \u001b[0m | \u001b[0m 5.0     \u001b[0m | \u001b[0m 0.8713  \u001b[0m |\n",
      "| \u001b[0m 11      \u001b[0m | \u001b[0m 75.69   \u001b[0m | \u001b[0m-0.1365  \u001b[0m | \u001b[0m-2.693   \u001b[0m | \u001b[0m 5.0     \u001b[0m |\n",
      "| \u001b[95m 12      \u001b[0m | \u001b[95m 98.32   \u001b[0m | \u001b[95m 1.742   \u001b[0m | \u001b[95m 1.648   \u001b[0m | \u001b[95m 5.0     \u001b[0m |\n",
      "| \u001b[0m 13      \u001b[0m | \u001b[0m 97.98   \u001b[0m | \u001b[0m 1.017   \u001b[0m | \u001b[0m 2.303   \u001b[0m | \u001b[0m 2.61    \u001b[0m |\n",
      "| \u001b[0m 14      \u001b[0m | \u001b[0m 97.51   \u001b[0m | \u001b[0m 0.1922  \u001b[0m | \u001b[0m 3.312   \u001b[0m | \u001b[0m 4.336   \u001b[0m |\n",
      "| \u001b[0m 15      \u001b[0m | \u001b[0m 97.8    \u001b[0m | \u001b[0m 1.159   \u001b[0m | \u001b[0m 0.6424  \u001b[0m | \u001b[0m 3.425   \u001b[0m |\n",
      "=============================================================\n"
     ]
    }
   ],
   "source": [
    "optimizer = BayesianOptimization(f=f, pbounds=space, verbose=2, random_state=1)\n",
    "optimizer.maximize(init_points=3, n_iter=12, acq='ucb', kappa=2.5)"
   ]
  },
  {
   "cell_type": "code",
   "execution_count": 4,
   "id": "6b05d767-d15b-4310-abd5-1c9bb1a49d13",
   "metadata": {
    "execution": {
     "iopub.execute_input": "2022-08-29T15:20:08.200380Z",
     "iopub.status.busy": "2022-08-29T15:20:08.199999Z",
     "iopub.status.idle": "2022-08-29T15:20:13.364746Z",
     "shell.execute_reply": "2022-08-29T15:20:13.363997Z",
     "shell.execute_reply.started": "2022-08-29T15:20:08.200352Z"
    },
    "tags": []
   },
   "outputs": [
    {
     "name": "stdout",
     "output_type": "stream",
     "text": [
      "|   iter    |  target   |     x     |     y     |     z     |\n",
      "-------------------------------------------------------------\n",
      "| \u001b[0m 1       \u001b[0m | \u001b[0m 15.63   \u001b[0m | \u001b[0m-0.8298  \u001b[0m | \u001b[0m 2.203   \u001b[0m | \u001b[0m-4.999   \u001b[0m |\n",
      "| \u001b[0m 2       \u001b[0m | \u001b[0m-4.7     \u001b[0m | \u001b[0m-1.977   \u001b[0m | \u001b[0m-3.532   \u001b[0m | \u001b[0m-4.077   \u001b[0m |\n",
      "| \u001b[95m 3       \u001b[0m | \u001b[95m 44.99   \u001b[0m | \u001b[95m-3.137   \u001b[0m | \u001b[95m-1.544   \u001b[0m | \u001b[95m-1.032   \u001b[0m |\n",
      "| \u001b[0m 4       \u001b[0m | \u001b[0m 44.6    \u001b[0m | \u001b[0m-3.174   \u001b[0m | \u001b[0m-1.831   \u001b[0m | \u001b[0m-0.8263  \u001b[0m |\n",
      "| \u001b[95m 5       \u001b[0m | \u001b[95m 46.11   \u001b[0m | \u001b[95m-3.181   \u001b[0m | \u001b[95m-1.498   \u001b[0m | \u001b[95m-0.9167  \u001b[0m |\n",
      "| \u001b[95m 6       \u001b[0m | \u001b[95m 47.26   \u001b[0m | \u001b[95m-3.226   \u001b[0m | \u001b[95m-1.44    \u001b[0m | \u001b[95m-0.8012  \u001b[0m |\n",
      "| \u001b[95m 7       \u001b[0m | \u001b[95m 49.7    \u001b[0m | \u001b[95m-3.268   \u001b[0m | \u001b[95m-1.196   \u001b[0m | \u001b[95m-0.6767  \u001b[0m |\n",
      "| \u001b[95m 8       \u001b[0m | \u001b[95m 51.54   \u001b[0m | \u001b[95m-3.256   \u001b[0m | \u001b[95m-0.9533  \u001b[0m | \u001b[95m-0.6504  \u001b[0m |\n",
      "| \u001b[95m 9       \u001b[0m | \u001b[95m 56.67   \u001b[0m | \u001b[95m-3.249   \u001b[0m | \u001b[95m-0.4196  \u001b[0m | \u001b[95m-0.4069  \u001b[0m |\n",
      "| \u001b[95m 10      \u001b[0m | \u001b[95m 61.06   \u001b[0m | \u001b[95m-3.223   \u001b[0m | \u001b[95m 0.05349 \u001b[0m | \u001b[95m-0.1613  \u001b[0m |\n",
      "| \u001b[95m 11      \u001b[0m | \u001b[95m 64.22   \u001b[0m | \u001b[95m-3.264   \u001b[0m | \u001b[95m 0.3143  \u001b[0m | \u001b[95m 0.1591  \u001b[0m |\n",
      "| \u001b[95m 12      \u001b[0m | \u001b[95m 65.4    \u001b[0m | \u001b[95m-3.265   \u001b[0m | \u001b[95m 0.4904  \u001b[0m | \u001b[95m 0.2406  \u001b[0m |\n",
      "| \u001b[95m 13      \u001b[0m | \u001b[95m 68.15   \u001b[0m | \u001b[95m-3.36    \u001b[0m | \u001b[95m 1.046   \u001b[0m | \u001b[95m 0.5464  \u001b[0m |\n",
      "| \u001b[95m 14      \u001b[0m | \u001b[95m 68.66   \u001b[0m | \u001b[95m-3.398   \u001b[0m | \u001b[95m 1.171   \u001b[0m | \u001b[95m 0.6378  \u001b[0m |\n",
      "| \u001b[95m 15      \u001b[0m | \u001b[95m 69.25   \u001b[0m | \u001b[95m-3.454   \u001b[0m | \u001b[95m 1.336   \u001b[0m | \u001b[95m 0.7639  \u001b[0m |\n",
      "=============================================================\n"
     ]
    }
   ],
   "source": [
    "optimizer = BayesianOptimization(f=f, pbounds=space, verbose=2, random_state=1)\n",
    "optimizer.maximize(init_points=3, n_iter=12, acq='poi', xi=0.1)"
   ]
  },
  {
   "cell_type": "code",
   "execution_count": 63,
   "id": "9f2b2e70-5f98-4024-ae03-90fad1494767",
   "metadata": {},
   "outputs": [
    {
     "name": "stdout",
     "output_type": "stream",
     "text": [
      "|   iter    |  target   |     x     |     y     |     z     |\n",
      "-------------------------------------------------------------\n",
      "| \u001b[0m 1       \u001b[0m | \u001b[0m 15.63   \u001b[0m | \u001b[0m-0.8298  \u001b[0m | \u001b[0m 2.203   \u001b[0m | \u001b[0m-4.999   \u001b[0m |\n",
      "| \u001b[0m 2       \u001b[0m | \u001b[0m-4.7     \u001b[0m | \u001b[0m-1.977   \u001b[0m | \u001b[0m-3.532   \u001b[0m | \u001b[0m-4.077   \u001b[0m |\n",
      "| \u001b[95m 3       \u001b[0m | \u001b[95m 44.99   \u001b[0m | \u001b[95m-3.137   \u001b[0m | \u001b[95m-1.544   \u001b[0m | \u001b[95m-1.032   \u001b[0m |\n",
      "| \u001b[0m 4       \u001b[0m | \u001b[0m 44.6    \u001b[0m | \u001b[0m-3.174   \u001b[0m | \u001b[0m-1.831   \u001b[0m | \u001b[0m-0.8263  \u001b[0m |\n",
      "| \u001b[95m 5       \u001b[0m | \u001b[95m 56.05   \u001b[0m | \u001b[95m-3.631   \u001b[0m | \u001b[95m-0.6719  \u001b[0m | \u001b[95m 0.08012 \u001b[0m |\n",
      "| \u001b[0m 6       \u001b[0m | \u001b[0m 55.63   \u001b[0m | \u001b[0m-5.0     \u001b[0m | \u001b[0m 1.158   \u001b[0m | \u001b[0m 1.232   \u001b[0m |\n",
      "| \u001b[95m 7       \u001b[0m | \u001b[95m 87.19   \u001b[0m | \u001b[95m-2.018   \u001b[0m | \u001b[95m 0.7071  \u001b[0m | \u001b[95m 2.576   \u001b[0m |\n",
      "| \u001b[95m 8       \u001b[0m | \u001b[95m 97.13   \u001b[0m | \u001b[95m-0.4664  \u001b[0m | \u001b[95m 1.16    \u001b[0m | \u001b[95m 4.134   \u001b[0m |\n",
      "| \u001b[0m 9       \u001b[0m | \u001b[0m 94.88   \u001b[0m | \u001b[0m 0.8402  \u001b[0m | \u001b[0m 4.186   \u001b[0m | \u001b[0m 4.563   \u001b[0m |\n",
      "| \u001b[0m 10      \u001b[0m | \u001b[0m 90.31   \u001b[0m | \u001b[0m 3.888   \u001b[0m | \u001b[0m 1.41    \u001b[0m | \u001b[0m 5.0     \u001b[0m |\n",
      "| \u001b[95m 11      \u001b[0m | \u001b[95m 99.28   \u001b[0m | \u001b[95m 1.074   \u001b[0m | \u001b[95m 2.031   \u001b[0m | \u001b[95m 3.156   \u001b[0m |\n",
      "| \u001b[0m 12      \u001b[0m | \u001b[0m 72.4    \u001b[0m | \u001b[0m 5.0     \u001b[0m | \u001b[0m 5.0     \u001b[0m | \u001b[0m 2.388   \u001b[0m |\n",
      "| \u001b[0m 13      \u001b[0m | \u001b[0m 34.0    \u001b[0m | \u001b[0m 5.0     \u001b[0m | \u001b[0m-5.0     \u001b[0m | \u001b[0m 5.0     \u001b[0m |\n",
      "| \u001b[95m 14      \u001b[0m | \u001b[95m 99.68   \u001b[0m | \u001b[95m 1.162   \u001b[0m | \u001b[95m 2.185   \u001b[0m | \u001b[95m 4.505   \u001b[0m |\n",
      "| \u001b[0m 15      \u001b[0m | \u001b[0m 99.4    \u001b[0m | \u001b[0m 0.3421  \u001b[0m | \u001b[0m 2.342   \u001b[0m | \u001b[0m 3.772   \u001b[0m |\n",
      "=============================================================\n"
     ]
    }
   ],
   "source": [
    "optimizer = BayesianOptimization(f=f, pbounds=space, verbose=2, random_state=1)\n",
    "optimizer.maximize(init_points=3, n_iter=12, acq='ei', xi=0.1)"
   ]
  },
  {
   "cell_type": "code",
   "execution_count": 64,
   "id": "9a597d29-1c28-497f-b4b2-142ac32f637d",
   "metadata": {},
   "outputs": [
    {
     "data": {
      "text/plain": [
       "{'target': 99.68468719711005,\n",
       " 'params': {'x': 1.1623018678779808,\n",
       "  'y': 2.185370504483861,\n",
       "  'z': 4.504587636234444}}"
      ]
     },
     "execution_count": 64,
     "metadata": {},
     "output_type": "execute_result"
    }
   ],
   "source": [
    "optimizer.max"
   ]
  },
  {
   "cell_type": "markdown",
   "id": "bd40fc5f-5434-47df-b267-a0ef1c273d60",
   "metadata": {},
   "source": [
    "Now, analyze the results of Bayesian Optimization with different acquisition functions. Each candidate is provided 15 trials in total in which the 3 first rounds are random initialization with the same random seed. The current best scores are in purple.\n",
    "- First candidate: UCB with $\\kappa=3$. Although the alogrithm has explored a very high score quite early ($y=96.31$ at iteration #6) and another high score later ($y=98.32$ at iteration #12), it keeps exploring the range $[96.31,98.32]$. Our algorithm seems explores more than needed and forget to exploit, thus it cannot beat $98.32$. Another thing can be observed is that these two high scores are found quite *luckily*.\n",
    "- Second candidate: PI with $\\xi=0.1$. This algorithm doesn't take risks and refuses to explore. Once it finds a way that can improve score, it keeps going towards that direction but very slowly. It's afraid of losing that path.\n",
    "- Third candidate: EI with $\\xi=0.1$, the best candidate, not because EI is better but because exploration-exploitation in this case is balanced. This algorithm also follows the same path with PI, but completes it very quickly after only 5 rounds. It then spends some trials exploring uncertain areas, but right after being sure they are not promising, the algorithm switches back to exploitation mode and finishes at $y=99.68$."
   ]
  },
  {
   "cell_type": "markdown",
   "id": "b0a1848c-d509-4666-974d-fc225a5678ba",
   "metadata": {},
   "source": [
    "## 2.4. Implementation: Scikit-optimize\n",
    "[Scikit-optimize](https://github.com/scikit-optimize/scikit-optimize) is another library that implements Bayesian Optimization. It is built on top of Scikit-learn and thus provides a familiar interface with Data Scientists."
   ]
  },
  {
   "cell_type": "code",
   "execution_count": 5,
   "id": "34ad11a2-bcee-4453-bc17-6c6277afe78c",
   "metadata": {
    "execution": {
     "iopub.execute_input": "2022-08-29T15:20:29.271094Z",
     "iopub.status.busy": "2022-08-29T15:20:29.270694Z",
     "iopub.status.idle": "2022-08-29T15:20:32.343109Z",
     "shell.execute_reply": "2022-08-29T15:20:32.342499Z",
     "shell.execute_reply.started": "2022-08-29T15:20:29.271065Z"
    },
    "tags": []
   },
   "outputs": [],
   "source": [
    "import datetime as dt\n",
    "import numpy as np; np.set_printoptions(precision=4, suppress=True)\n",
    "import pandas as pd\n",
    "from lightgbm import LGBMRegressor\n",
    "from sklearn.model_selection import train_test_split, cross_val_score\n",
    "from sklearn.metrics import r2_score as R2\n",
    "\n",
    "from skopt import Optimizer, BayesSearchCV\n",
    "from skopt import gp_minimize, forest_minimize, gbrt_minimize\n",
    "from skopt.space.space import Real, Integer, Categorical, Dimension\n",
    "from skopt.utils import use_named_args"
   ]
  },
  {
   "cell_type": "code",
   "execution_count": 6,
   "id": "27fec87e-9bae-4372-b809-70e0b490cf63",
   "metadata": {
    "execution": {
     "iopub.execute_input": "2022-08-29T15:20:33.699537Z",
     "iopub.status.busy": "2022-08-29T15:20:33.699216Z",
     "iopub.status.idle": "2022-08-29T15:20:33.733709Z",
     "shell.execute_reply": "2022-08-29T15:20:33.731621Z",
     "shell.execute_reply.started": "2022-08-29T15:20:33.699515Z"
    },
    "tags": []
   },
   "outputs": [
    {
     "data": {
      "text/html": [
       "<div>\n",
       "<style scoped>\n",
       "    .dataframe tbody tr th:only-of-type {\n",
       "        vertical-align: middle;\n",
       "    }\n",
       "\n",
       "    .dataframe tbody tr th {\n",
       "        vertical-align: top;\n",
       "    }\n",
       "\n",
       "    .dataframe thead th {\n",
       "        text-align: right;\n",
       "    }\n",
       "</style>\n",
       "<table border=\"1\" class=\"dataframe\">\n",
       "  <thead>\n",
       "    <tr style=\"text-align: right;\">\n",
       "      <th></th>\n",
       "      <th>crime_rate</th>\n",
       "      <th>land_rate</th>\n",
       "      <th>indus</th>\n",
       "      <th>chas</th>\n",
       "      <th>nox</th>\n",
       "      <th>room</th>\n",
       "      <th>age</th>\n",
       "      <th>distance</th>\n",
       "      <th>radial</th>\n",
       "      <th>tax</th>\n",
       "      <th>ptratio</th>\n",
       "      <th>black</th>\n",
       "      <th>lstat</th>\n",
       "      <th>price</th>\n",
       "    </tr>\n",
       "  </thead>\n",
       "  <tbody>\n",
       "    <tr>\n",
       "      <th>0</th>\n",
       "      <td>0.00632</td>\n",
       "      <td>18.0</td>\n",
       "      <td>2.31</td>\n",
       "      <td>0</td>\n",
       "      <td>0.538</td>\n",
       "      <td>6.575</td>\n",
       "      <td>65.2</td>\n",
       "      <td>4.0900</td>\n",
       "      <td>1</td>\n",
       "      <td>296</td>\n",
       "      <td>15.3</td>\n",
       "      <td>396.90</td>\n",
       "      <td>4.98</td>\n",
       "      <td>24.0</td>\n",
       "    </tr>\n",
       "    <tr>\n",
       "      <th>1</th>\n",
       "      <td>0.02731</td>\n",
       "      <td>0.0</td>\n",
       "      <td>7.07</td>\n",
       "      <td>0</td>\n",
       "      <td>0.469</td>\n",
       "      <td>6.421</td>\n",
       "      <td>78.9</td>\n",
       "      <td>4.9671</td>\n",
       "      <td>2</td>\n",
       "      <td>242</td>\n",
       "      <td>17.8</td>\n",
       "      <td>396.90</td>\n",
       "      <td>9.14</td>\n",
       "      <td>21.6</td>\n",
       "    </tr>\n",
       "    <tr>\n",
       "      <th>2</th>\n",
       "      <td>0.02729</td>\n",
       "      <td>0.0</td>\n",
       "      <td>7.07</td>\n",
       "      <td>0</td>\n",
       "      <td>0.469</td>\n",
       "      <td>7.185</td>\n",
       "      <td>61.1</td>\n",
       "      <td>4.9671</td>\n",
       "      <td>2</td>\n",
       "      <td>242</td>\n",
       "      <td>17.8</td>\n",
       "      <td>392.83</td>\n",
       "      <td>4.03</td>\n",
       "      <td>34.7</td>\n",
       "    </tr>\n",
       "    <tr>\n",
       "      <th>3</th>\n",
       "      <td>0.03237</td>\n",
       "      <td>0.0</td>\n",
       "      <td>2.18</td>\n",
       "      <td>0</td>\n",
       "      <td>0.458</td>\n",
       "      <td>6.998</td>\n",
       "      <td>45.8</td>\n",
       "      <td>6.0622</td>\n",
       "      <td>3</td>\n",
       "      <td>222</td>\n",
       "      <td>18.7</td>\n",
       "      <td>394.63</td>\n",
       "      <td>2.94</td>\n",
       "      <td>33.4</td>\n",
       "    </tr>\n",
       "    <tr>\n",
       "      <th>4</th>\n",
       "      <td>0.06905</td>\n",
       "      <td>0.0</td>\n",
       "      <td>2.18</td>\n",
       "      <td>0</td>\n",
       "      <td>0.458</td>\n",
       "      <td>7.147</td>\n",
       "      <td>54.2</td>\n",
       "      <td>6.0622</td>\n",
       "      <td>3</td>\n",
       "      <td>222</td>\n",
       "      <td>18.7</td>\n",
       "      <td>396.90</td>\n",
       "      <td>5.33</td>\n",
       "      <td>36.2</td>\n",
       "    </tr>\n",
       "  </tbody>\n",
       "</table>\n",
       "</div>"
      ],
      "text/plain": [
       "   crime_rate  land_rate  indus  chas    nox   room   age  distance  radial  \\\n",
       "0     0.00632       18.0   2.31     0  0.538  6.575  65.2    4.0900       1   \n",
       "1     0.02731        0.0   7.07     0  0.469  6.421  78.9    4.9671       2   \n",
       "2     0.02729        0.0   7.07     0  0.469  7.185  61.1    4.9671       2   \n",
       "3     0.03237        0.0   2.18     0  0.458  6.998  45.8    6.0622       3   \n",
       "4     0.06905        0.0   2.18     0  0.458  7.147  54.2    6.0622       3   \n",
       "\n",
       "   tax  ptratio   black  lstat  price  \n",
       "0  296     15.3  396.90   4.98   24.0  \n",
       "1  242     17.8  396.90   9.14   21.6  \n",
       "2  242     17.8  392.83   4.03   34.7  \n",
       "3  222     18.7  394.63   2.94   33.4  \n",
       "4  222     18.7  396.90   5.33   36.2  "
      ]
     },
     "execution_count": 6,
     "metadata": {},
     "output_type": "execute_result"
    }
   ],
   "source": [
    "dfBoston = pd.read_csv('data/boston.csv')\n",
    "dfBoston.head()"
   ]
  },
  {
   "cell_type": "code",
   "execution_count": 7,
   "id": "b1b801fe-37c9-4632-9e6b-1e71c53e7618",
   "metadata": {
    "execution": {
     "iopub.execute_input": "2022-08-29T15:20:36.148831Z",
     "iopub.status.busy": "2022-08-29T15:20:36.148511Z",
     "iopub.status.idle": "2022-08-29T15:20:36.158580Z",
     "shell.execute_reply": "2022-08-29T15:20:36.157100Z",
     "shell.execute_reply.started": "2022-08-29T15:20:36.148810Z"
    },
    "tags": []
   },
   "outputs": [],
   "source": [
    "x = dfBoston.copy()\n",
    "y = x.pop('price')\n",
    "xTrain, xTest, yTrain, yTest = train_test_split(x, y, test_size=1/10, random_state=7)\n",
    "xTrain, xValid, yTrain, yValid = train_test_split(xTrain, yTrain, test_size=1/9, random_state=7)"
   ]
  },
  {
   "cell_type": "markdown",
   "id": "abfa381e-60e9-4f13-986b-6808109696f7",
   "metadata": {},
   "source": [
    "### BayesSearchCV"
   ]
  },
  {
   "cell_type": "code",
   "execution_count": 8,
   "id": "301a657f-fa81-44c8-bb29-bea6935be76f",
   "metadata": {
    "execution": {
     "iopub.execute_input": "2022-08-29T15:20:42.987407Z",
     "iopub.status.busy": "2022-08-29T15:20:42.986790Z",
     "iopub.status.idle": "2022-08-29T15:20:42.996080Z",
     "shell.execute_reply": "2022-08-29T15:20:42.995127Z",
     "shell.execute_reply.started": "2022-08-29T15:20:42.987362Z"
    }
   },
   "outputs": [],
   "source": [
    "searchSpace = {\n",
    "    'n_estimators': Integer(50, 300),\n",
    "    'learning_rate': Real(0.01, 0.5),\n",
    "    'reg_alpha': Real(1e-5, 1e5, prior='log-uniform', base=10),\n",
    "    'boosting_type': Categorical(['gbdt', 'goss', 'dart']),\n",
    "}"
   ]
  },
  {
   "cell_type": "code",
   "execution_count": 9,
   "id": "eba8d296-6e7c-4466-81dd-5cc88afa8702",
   "metadata": {
    "execution": {
     "iopub.execute_input": "2022-08-29T15:20:42.997830Z",
     "iopub.status.busy": "2022-08-29T15:20:42.997524Z",
     "iopub.status.idle": "2022-08-29T15:21:05.596702Z",
     "shell.execute_reply": "2022-08-29T15:21:05.595759Z",
     "shell.execute_reply.started": "2022-08-29T15:20:42.997809Z"
    },
    "tags": []
   },
   "outputs": [
    {
     "name": "stdout",
     "output_type": "stream",
     "text": [
      "0:00:22.594505\n"
     ]
    }
   ],
   "source": [
    "start = dt.datetime.now()\n",
    "\n",
    "algo = LGBMRegressor()\n",
    "validator = BayesSearchCV(algo, searchSpace, cv=5, scoring='r2', n_iter=20)\n",
    "validator = validator.fit(xTrain, yTrain)\n",
    "model = validator.best_estimator_\n",
    "\n",
    "end = dt.datetime.now()\n",
    "print(end - start)"
   ]
  },
  {
   "cell_type": "code",
   "execution_count": 10,
   "id": "44da1630-7c29-4023-9fce-0df5878c24d1",
   "metadata": {
    "execution": {
     "iopub.execute_input": "2022-08-29T15:21:05.600016Z",
     "iopub.status.busy": "2022-08-29T15:21:05.599335Z",
     "iopub.status.idle": "2022-08-29T15:21:05.606029Z",
     "shell.execute_reply": "2022-08-29T15:21:05.604948Z",
     "shell.execute_reply.started": "2022-08-29T15:21:05.599966Z"
    },
    "tags": []
   },
   "outputs": [
    {
     "data": {
      "text/plain": [
       "OrderedDict([('boosting_type', 'dart'),\n",
       "             ('learning_rate', 0.44286614584030554),\n",
       "             ('n_estimators', 128),\n",
       "             ('reg_alpha', 0.0030414870639248457)])"
      ]
     },
     "execution_count": 10,
     "metadata": {},
     "output_type": "execute_result"
    }
   ],
   "source": [
    "validator.best_params_"
   ]
  },
  {
   "cell_type": "code",
   "execution_count": 11,
   "id": "afedf2ea-c1a0-485d-a28d-9e41d87e5474",
   "metadata": {
    "execution": {
     "iopub.execute_input": "2022-08-29T15:21:05.608676Z",
     "iopub.status.busy": "2022-08-29T15:21:05.607906Z",
     "iopub.status.idle": "2022-08-29T15:21:05.623290Z",
     "shell.execute_reply": "2022-08-29T15:21:05.620747Z",
     "shell.execute_reply.started": "2022-08-29T15:21:05.608640Z"
    },
    "tags": []
   },
   "outputs": [
    {
     "name": "stdout",
     "output_type": "stream",
     "text": [
      "R2 = 0.8860 [LGBMRegressor]\n"
     ]
    }
   ],
   "source": [
    "yTestPred = model.predict(xTest)\n",
    "r2Test = R2(yTest, yTestPred)\n",
    "modelName = model.__class__.__name__\n",
    "\n",
    "print(f'R2 = {r2Test:.4f} [{modelName}]')"
   ]
  },
  {
   "cell_type": "markdown",
   "id": "124b54e3-43b0-4cf3-8151-c2a7746580ca",
   "metadata": {},
   "source": [
    "### Low-level interface"
   ]
  },
  {
   "cell_type": "code",
   "execution_count": 12,
   "id": "0eb95528-7e6d-40a7-8828-2b45c578a359",
   "metadata": {
    "execution": {
     "iopub.execute_input": "2022-08-29T15:21:16.477093Z",
     "iopub.status.busy": "2022-08-29T15:21:16.476463Z",
     "iopub.status.idle": "2022-08-29T15:21:16.487958Z",
     "shell.execute_reply": "2022-08-29T15:21:16.486880Z",
     "shell.execute_reply.started": "2022-08-29T15:21:16.477050Z"
    }
   },
   "outputs": [],
   "source": [
    "searchSpace = [\n",
    "    Integer(50, 300, name='n_estimators'),\n",
    "    Real(0.01, 0.5, name='learning_rate'),\n",
    "    Real(1e-5, 1e5, prior='log-uniform', base=10, name='reg_alpha'),\n",
    "    Categorical(['gbdt', 'goss', 'dart'], name='boosting_type'),\n",
    "]"
   ]
  },
  {
   "cell_type": "code",
   "execution_count": 13,
   "id": "4e669c6b-15ac-4530-b0cf-f38a26ae0db5",
   "metadata": {
    "execution": {
     "iopub.execute_input": "2022-08-29T15:21:16.490674Z",
     "iopub.status.busy": "2022-08-29T15:21:16.489967Z",
     "iopub.status.idle": "2022-08-29T15:21:26.234418Z",
     "shell.execute_reply": "2022-08-29T15:21:26.233574Z",
     "shell.execute_reply.started": "2022-08-29T15:21:16.490625Z"
    }
   },
   "outputs": [],
   "source": [
    "@use_named_args(searchSpace)\n",
    "def model_score(**params):\n",
    "    model = LGBMRegressor(**params)\n",
    "    model.fit(xTrain, yTrain)\n",
    "    yValidPred = model.predict(xValid)\n",
    "    r2Valid = R2(yValid, yValidPred)\n",
    "    return - r2Valid\n",
    "\n",
    "searchResult = gp_minimize(model_score, searchSpace, n_calls=20, n_initial_points=5)"
   ]
  },
  {
   "cell_type": "code",
   "execution_count": 14,
   "id": "e0f33b9e-b612-431a-ab2b-fe6129b397c7",
   "metadata": {
    "execution": {
     "iopub.execute_input": "2022-08-29T15:21:26.237450Z",
     "iopub.status.busy": "2022-08-29T15:21:26.236990Z",
     "iopub.status.idle": "2022-08-29T15:21:26.242434Z",
     "shell.execute_reply": "2022-08-29T15:21:26.241326Z",
     "shell.execute_reply.started": "2022-08-29T15:21:26.237412Z"
    }
   },
   "outputs": [
    {
     "data": {
      "text/plain": [
       "[232, 0.390552436302625, 0.0003471326146338028, 'gbdt']"
      ]
     },
     "execution_count": 14,
     "metadata": {},
     "output_type": "execute_result"
    }
   ],
   "source": [
    "searchResult.x"
   ]
  },
  {
   "cell_type": "code",
   "execution_count": 15,
   "id": "93adf109-f01d-4d2e-b472-827a20557e0a",
   "metadata": {
    "execution": {
     "iopub.execute_input": "2022-08-29T15:21:26.244941Z",
     "iopub.status.busy": "2022-08-29T15:21:26.244343Z",
     "iopub.status.idle": "2022-08-29T15:21:26.251840Z",
     "shell.execute_reply": "2022-08-29T15:21:26.249821Z",
     "shell.execute_reply.started": "2022-08-29T15:21:26.244902Z"
    }
   },
   "outputs": [
    {
     "data": {
      "text/plain": [
       "-0.900411530385728"
      ]
     },
     "execution_count": 15,
     "metadata": {},
     "output_type": "execute_result"
    }
   ],
   "source": [
    "searchResult.fun"
   ]
  },
  {
   "cell_type": "code",
   "execution_count": 16,
   "id": "12c8db60-fa75-4d25-be58-d156affd62d8",
   "metadata": {
    "execution": {
     "iopub.execute_input": "2022-08-29T15:21:26.254161Z",
     "iopub.status.busy": "2022-08-29T15:21:26.253602Z",
     "iopub.status.idle": "2022-08-29T15:21:26.262967Z",
     "shell.execute_reply": "2022-08-29T15:21:26.261888Z",
     "shell.execute_reply.started": "2022-08-29T15:21:26.254117Z"
    }
   },
   "outputs": [
    {
     "data": {
      "text/plain": [
       "[[232, 0.390552436302625, 0.0003471326146338028, 'gbdt'],\n",
       " [132, 0.2619994811875118, 80.82225265683698, 'goss'],\n",
       " [99, 0.4816407488117391, 31.403865748829578, 'gbdt'],\n",
       " [174, 0.3439422705326614, 0.5970108141078779, 'goss'],\n",
       " [56, 0.157251760215045, 29.99491541464815, 'gbdt']]"
      ]
     },
     "execution_count": 16,
     "metadata": {},
     "output_type": "execute_result"
    }
   ],
   "source": [
    "df = pd.DataFrame(\n",
    "    data=searchResult.x_iters[:5],\n",
    "    index=''\n",
    ")"
   ]
  },
  {
   "cell_type": "code",
   "execution_count": 17,
   "id": "7c4e7edf-f57b-4bfb-af7c-55893a95d5d5",
   "metadata": {
    "execution": {
     "iopub.execute_input": "2022-08-29T15:21:26.265174Z",
     "iopub.status.busy": "2022-08-29T15:21:26.264547Z",
     "iopub.status.idle": "2022-08-29T15:21:26.274256Z",
     "shell.execute_reply": "2022-08-29T15:21:26.272984Z",
     "shell.execute_reply.started": "2022-08-29T15:21:26.265126Z"
    }
   },
   "outputs": [
    {
     "data": {
      "text/plain": [
       "array([-0.9004, -0.8235, -0.8635, -0.8508, -0.8616])"
      ]
     },
     "execution_count": 17,
     "metadata": {},
     "output_type": "execute_result"
    }
   ],
   "source": [
    "searchResult.func_vals[:5]"
   ]
  },
  {
   "cell_type": "markdown",
   "id": "fd3bf87a-8173-4247-97dd-61ba6d63dc42",
   "metadata": {},
   "source": [
    "# 3. Parzen Estimators\n",
    "Parzen-window Estimation is another name of [Kernel Density Estimation](https://en.wikipedia.org/wiki/Kernel_density_estimation) which is usually included in histograms. **T**ree-structured **P**arzen **E**stimators (TPE) is an algorithm of SMBO family and is proposed in the same paper with BO. TPE estimates the likelihood $\\text{Pr }(x|y)$ rather than the posterior $\\text{Pr }(y|x)$ as in BO."
   ]
  },
  {
   "cell_type": "markdown",
   "id": "e440791a-fe5d-434d-9edf-b584aa89d5a4",
   "metadata": {},
   "source": [
    "## 3.1. Algorithm\n",
    "*Input*:\n",
    "- A domain, or search space of hyperparameters\n",
    "- $f$, the black-box function to be optimized, it maps hyperpameters to model score: $y=f(x)$ and is very expensive to evaluate\n",
    "- $T$, the number of trials budget\n",
    "\n",
    "*Step 1*: Warm up several trials using Random Search. The observed scores are splited into two groups: low and high score, denoted $\\mathcal{L}$ and $\\mathcal{H}$. The high score group is usually 10-25% number of observed trials.\n",
    "\n",
    "*Step 2*: Construct KDEs for low-score and high-score groups. They serve as surrogate models representing the likelihoods $\\text{Pr }(x|y\\in\\mathcal{L})$ and $\\text{Pr }(x|y\\in\\mathcal{H})$, respectively. We would probably want our next trial is more likely to be in $\\mathcal{H}$ and less likely to be in $\\mathcal{L}$.\n",
    "\n",
    "*Step 3*: Select the acqusition function: $\\mathcal{A}(x)=\\text{Pr }(x|y\\in\\mathcal{H})\\div\\text{Pr }(x|y\\in\\mathcal{L})$. Selecting $x=\\arg\\max\\mathcal{A}(x)$ ends up getting the same result as maximizing EI in Bayesian Optimization, but this method considers the *top best trials* rather than only the best trial. Repeat step 2 and 3 until the budget $T$ elapses.\n",
    "\n",
    "<img src='image/tpe.png' style='height:450px; margin:20px auto 20px;'>"
   ]
  },
  {
   "cell_type": "markdown",
   "id": "2f65e413-ff67-4363-a278-25c77162d546",
   "metadata": {},
   "source": [
    "## 3.2. Implementation: Hyperopt\n",
    "In this section we are going to use [Hyperopt](https://github.com/hyperopt/hyperopt), a low-level but powerful implementation of TPE."
   ]
  },
  {
   "cell_type": "code",
   "execution_count": 7,
   "id": "665be833-abd0-4607-9e4e-9ae7d86750f3",
   "metadata": {
    "tags": []
   },
   "outputs": [],
   "source": [
    "import numpy as np; np.set_printoptions(precision=4, suppress=True)\n",
    "import pandas as pd\n",
    "\n",
    "from sklearn.model_selection import train_test_split, cross_val_score\n",
    "from sklearn.metrics import r2_score as R2\n",
    "\n",
    "from xgboost import XGBRegressor\n",
    "from lightgbm import LGBMRegressor\n",
    "from catboost import CatBoostRegressor\n",
    "from sklearn.svm import SVC, SVR\n",
    "\n",
    "from hyperopt import hp, fmin, rand, tpe, Trials\n",
    "from hyperopt.pyll import scope"
   ]
  },
  {
   "cell_type": "code",
   "execution_count": 20,
   "id": "5092f986-7b33-4eab-92c2-e9cb6c891739",
   "metadata": {
    "execution": {
     "iopub.execute_input": "2022-08-29T16:59:38.547596Z",
     "iopub.status.busy": "2022-08-29T16:59:38.547081Z",
     "iopub.status.idle": "2022-08-29T16:59:38.571358Z",
     "shell.execute_reply": "2022-08-29T16:59:38.570454Z",
     "shell.execute_reply.started": "2022-08-29T16:59:38.547566Z"
    },
    "tags": []
   },
   "outputs": [
    {
     "data": {
      "text/html": [
       "<div>\n",
       "<style scoped>\n",
       "    .dataframe tbody tr th:only-of-type {\n",
       "        vertical-align: middle;\n",
       "    }\n",
       "\n",
       "    .dataframe tbody tr th {\n",
       "        vertical-align: top;\n",
       "    }\n",
       "\n",
       "    .dataframe thead th {\n",
       "        text-align: right;\n",
       "    }\n",
       "</style>\n",
       "<table border=\"1\" class=\"dataframe\">\n",
       "  <thead>\n",
       "    <tr style=\"text-align: right;\">\n",
       "      <th></th>\n",
       "      <th>crime_rate</th>\n",
       "      <th>land_rate</th>\n",
       "      <th>indus</th>\n",
       "      <th>chas</th>\n",
       "      <th>nox</th>\n",
       "      <th>room</th>\n",
       "      <th>age</th>\n",
       "      <th>distance</th>\n",
       "      <th>radial</th>\n",
       "      <th>tax</th>\n",
       "      <th>ptratio</th>\n",
       "      <th>black</th>\n",
       "      <th>lstat</th>\n",
       "      <th>price</th>\n",
       "    </tr>\n",
       "  </thead>\n",
       "  <tbody>\n",
       "    <tr>\n",
       "      <th>0</th>\n",
       "      <td>0.00632</td>\n",
       "      <td>18.0</td>\n",
       "      <td>2.31</td>\n",
       "      <td>0</td>\n",
       "      <td>0.538</td>\n",
       "      <td>6.575</td>\n",
       "      <td>65.2</td>\n",
       "      <td>4.0900</td>\n",
       "      <td>1</td>\n",
       "      <td>296</td>\n",
       "      <td>15.3</td>\n",
       "      <td>396.90</td>\n",
       "      <td>4.98</td>\n",
       "      <td>24.0</td>\n",
       "    </tr>\n",
       "    <tr>\n",
       "      <th>1</th>\n",
       "      <td>0.02731</td>\n",
       "      <td>0.0</td>\n",
       "      <td>7.07</td>\n",
       "      <td>0</td>\n",
       "      <td>0.469</td>\n",
       "      <td>6.421</td>\n",
       "      <td>78.9</td>\n",
       "      <td>4.9671</td>\n",
       "      <td>2</td>\n",
       "      <td>242</td>\n",
       "      <td>17.8</td>\n",
       "      <td>396.90</td>\n",
       "      <td>9.14</td>\n",
       "      <td>21.6</td>\n",
       "    </tr>\n",
       "    <tr>\n",
       "      <th>2</th>\n",
       "      <td>0.02729</td>\n",
       "      <td>0.0</td>\n",
       "      <td>7.07</td>\n",
       "      <td>0</td>\n",
       "      <td>0.469</td>\n",
       "      <td>7.185</td>\n",
       "      <td>61.1</td>\n",
       "      <td>4.9671</td>\n",
       "      <td>2</td>\n",
       "      <td>242</td>\n",
       "      <td>17.8</td>\n",
       "      <td>392.83</td>\n",
       "      <td>4.03</td>\n",
       "      <td>34.7</td>\n",
       "    </tr>\n",
       "    <tr>\n",
       "      <th>3</th>\n",
       "      <td>0.03237</td>\n",
       "      <td>0.0</td>\n",
       "      <td>2.18</td>\n",
       "      <td>0</td>\n",
       "      <td>0.458</td>\n",
       "      <td>6.998</td>\n",
       "      <td>45.8</td>\n",
       "      <td>6.0622</td>\n",
       "      <td>3</td>\n",
       "      <td>222</td>\n",
       "      <td>18.7</td>\n",
       "      <td>394.63</td>\n",
       "      <td>2.94</td>\n",
       "      <td>33.4</td>\n",
       "    </tr>\n",
       "    <tr>\n",
       "      <th>4</th>\n",
       "      <td>0.06905</td>\n",
       "      <td>0.0</td>\n",
       "      <td>2.18</td>\n",
       "      <td>0</td>\n",
       "      <td>0.458</td>\n",
       "      <td>7.147</td>\n",
       "      <td>54.2</td>\n",
       "      <td>6.0622</td>\n",
       "      <td>3</td>\n",
       "      <td>222</td>\n",
       "      <td>18.7</td>\n",
       "      <td>396.90</td>\n",
       "      <td>5.33</td>\n",
       "      <td>36.2</td>\n",
       "    </tr>\n",
       "  </tbody>\n",
       "</table>\n",
       "</div>"
      ],
      "text/plain": [
       "   crime_rate  land_rate  indus  chas    nox   room   age  distance  radial  \\\n",
       "0     0.00632       18.0   2.31     0  0.538  6.575  65.2    4.0900       1   \n",
       "1     0.02731        0.0   7.07     0  0.469  6.421  78.9    4.9671       2   \n",
       "2     0.02729        0.0   7.07     0  0.469  7.185  61.1    4.9671       2   \n",
       "3     0.03237        0.0   2.18     0  0.458  6.998  45.8    6.0622       3   \n",
       "4     0.06905        0.0   2.18     0  0.458  7.147  54.2    6.0622       3   \n",
       "\n",
       "   tax  ptratio   black  lstat  price  \n",
       "0  296     15.3  396.90   4.98   24.0  \n",
       "1  242     17.8  396.90   9.14   21.6  \n",
       "2  242     17.8  392.83   4.03   34.7  \n",
       "3  222     18.7  394.63   2.94   33.4  \n",
       "4  222     18.7  396.90   5.33   36.2  "
      ]
     },
     "execution_count": 20,
     "metadata": {},
     "output_type": "execute_result"
    }
   ],
   "source": [
    "dfBoston = pd.read_csv('data/boston.csv')\n",
    "dfBoston.head()"
   ]
  },
  {
   "cell_type": "code",
   "execution_count": 21,
   "id": "1bb9bc6e-e48d-4765-8c2e-426ef79fdccd",
   "metadata": {
    "execution": {
     "iopub.execute_input": "2022-08-29T16:59:38.573766Z",
     "iopub.status.busy": "2022-08-29T16:59:38.573431Z",
     "iopub.status.idle": "2022-08-29T16:59:38.582468Z",
     "shell.execute_reply": "2022-08-29T16:59:38.581579Z",
     "shell.execute_reply.started": "2022-08-29T16:59:38.573741Z"
    },
    "tags": []
   },
   "outputs": [],
   "source": [
    "x = dfBoston.copy()\n",
    "y = x.pop('price')\n",
    "xTrain, xTest, yTrain, yTest = train_test_split(x, y, test_size=1/10, random_state=7)\n",
    "xTrain, xValid, yTrain, yValid = train_test_split(xTrain, yTrain, test_size=1/9, random_state=7)"
   ]
  },
  {
   "cell_type": "markdown",
   "id": "208b3d9d-92f8-443a-82d3-09fe6f34fa9d",
   "metadata": {},
   "source": [
    "### Basic usage\n",
    "The use of <code style='font-size:13px'>fmin()</code>, the most important function of Hyperopt, along with the <code style='font-size:13px'>hp</code> submodule for defining hyperparameter distributions."
   ]
  },
  {
   "cell_type": "code",
   "execution_count": 22,
   "id": "d954bc61-0bc6-4ffc-87b9-67d5f63cbc3c",
   "metadata": {
    "execution": {
     "iopub.execute_input": "2022-08-29T16:59:40.981463Z",
     "iopub.status.busy": "2022-08-29T16:59:40.981087Z",
     "iopub.status.idle": "2022-08-29T16:59:40.987657Z",
     "shell.execute_reply": "2022-08-29T16:59:40.986579Z",
     "shell.execute_reply.started": "2022-08-29T16:59:40.981436Z"
    },
    "tags": []
   },
   "outputs": [],
   "source": [
    "black_box_func = lambda x, y, z: 100 - (x-1)**2 - (y-2)**2 - (z-4)**2\n",
    "\n",
    "def fn(params):\n",
    "    return - black_box_func(**params)\n",
    "\n",
    "searchSpace = {\n",
    "    'x': hp.uniform('x', low=-5, high=5),\n",
    "    'y': hp.choice('y', options=[0, 1, 2, 3, 4]),\n",
    "    'z': hp.loguniform('z', low=0, high=5),\n",
    "}"
   ]
  },
  {
   "cell_type": "code",
   "execution_count": 23,
   "id": "8e36ced1-7605-460c-a67c-cae7c3d1e7a9",
   "metadata": {
    "execution": {
     "iopub.execute_input": "2022-08-29T16:59:49.696338Z",
     "iopub.status.busy": "2022-08-29T16:59:49.695989Z",
     "iopub.status.idle": "2022-08-29T16:59:49.926709Z",
     "shell.execute_reply": "2022-08-29T16:59:49.925406Z",
     "shell.execute_reply.started": "2022-08-29T16:59:49.696313Z"
    },
    "tags": []
   },
   "outputs": [
    {
     "name": "stdout",
     "output_type": "stream",
     "text": [
      "100%|██████████| 50/50 [00:00<00:00, 245.48trial/s, best loss: -98.995812702584]\n"
     ]
    },
    {
     "data": {
      "text/plain": [
       "{'x': 1.060761427151827, 'y': 1, 'z': 3.977743621443048}"
      ]
     },
     "execution_count": 23,
     "metadata": {},
     "output_type": "execute_result"
    }
   ],
   "source": [
    "trials = Trials()\n",
    "fmin(\n",
    "    fn=fn,\n",
    "    space=searchSpace,\n",
    "    max_evals=50,\n",
    "    algo=tpe.suggest,\n",
    "    trials=trials,\n",
    "    rstate=np.random.seed(7)\n",
    ")"
   ]
  },
  {
   "cell_type": "code",
   "execution_count": 24,
   "id": "e7a74e77-24b2-49d3-9d89-e7eb2aea2d10",
   "metadata": {
    "execution": {
     "iopub.execute_input": "2022-08-29T16:59:54.597126Z",
     "iopub.status.busy": "2022-08-29T16:59:54.596766Z",
     "iopub.status.idle": "2022-08-29T16:59:54.613862Z",
     "shell.execute_reply": "2022-08-29T16:59:54.612766Z",
     "shell.execute_reply.started": "2022-08-29T16:59:54.597098Z"
    },
    "tags": []
   },
   "outputs": [
    {
     "data": {
      "text/html": [
       "<div>\n",
       "<style scoped>\n",
       "    .dataframe tbody tr th:only-of-type {\n",
       "        vertical-align: middle;\n",
       "    }\n",
       "\n",
       "    .dataframe tbody tr th {\n",
       "        vertical-align: top;\n",
       "    }\n",
       "\n",
       "    .dataframe thead th {\n",
       "        text-align: right;\n",
       "    }\n",
       "</style>\n",
       "<table border=\"1\" class=\"dataframe\">\n",
       "  <thead>\n",
       "    <tr style=\"text-align: right;\">\n",
       "      <th></th>\n",
       "      <th>x</th>\n",
       "      <th>y</th>\n",
       "      <th>z</th>\n",
       "      <th>func</th>\n",
       "    </tr>\n",
       "  </thead>\n",
       "  <tbody>\n",
       "    <tr>\n",
       "      <th>1</th>\n",
       "      <td>1.061</td>\n",
       "      <td>1</td>\n",
       "      <td>3.978</td>\n",
       "      <td>-98.996</td>\n",
       "    </tr>\n",
       "    <tr>\n",
       "      <th>23</th>\n",
       "      <td>1.853</td>\n",
       "      <td>1</td>\n",
       "      <td>3.693</td>\n",
       "      <td>-98.178</td>\n",
       "    </tr>\n",
       "    <tr>\n",
       "      <th>24</th>\n",
       "      <td>2.032</td>\n",
       "      <td>1</td>\n",
       "      <td>3.865</td>\n",
       "      <td>-97.917</td>\n",
       "    </tr>\n",
       "    <tr>\n",
       "      <th>45</th>\n",
       "      <td>-0.420</td>\n",
       "      <td>2</td>\n",
       "      <td>3.699</td>\n",
       "      <td>-97.893</td>\n",
       "    </tr>\n",
       "    <tr>\n",
       "      <th>6</th>\n",
       "      <td>0.568</td>\n",
       "      <td>3</td>\n",
       "      <td>3.011</td>\n",
       "      <td>-97.834</td>\n",
       "    </tr>\n",
       "  </tbody>\n",
       "</table>\n",
       "</div>"
      ],
      "text/plain": [
       "        x  y      z    func\n",
       "1   1.061  1  3.978 -98.996\n",
       "23  1.853  1  3.693 -98.178\n",
       "24  2.032  1  3.865 -97.917\n",
       "45 -0.420  2  3.699 -97.893\n",
       "6   0.568  3  3.011 -97.834"
      ]
     },
     "execution_count": 24,
     "metadata": {},
     "output_type": "execute_result"
    }
   ],
   "source": [
    "df = pd.DataFrame(trials.vals)\n",
    "df['func'] = trials.losses()\n",
    "df = df.round(3).sort_values('func')\n",
    "df.head()"
   ]
  },
  {
   "cell_type": "markdown",
   "id": "6e983a83-b12d-41ae-a75a-a6c5148c6fde",
   "metadata": {},
   "source": [
    "### Validation\n",
    "Let's uses <code style='font-size:13px'>fmin()</code> and <code style='font-size:13px'>hp</code> to optimize hyperparameters of SVM."
   ]
  },
  {
   "cell_type": "code",
   "execution_count": 10,
   "id": "1afddbbb-0b87-4ec2-9e65-18bc8d752f7a",
   "metadata": {},
   "outputs": [],
   "source": [
    "def holdout_tuning(params):\n",
    "    model = SVR(**params)\n",
    "    model.fit(xTrain, yTrain)\n",
    "    yValidPred = model.predict(xValid)\n",
    "    r2Valid = R2(yValid, yValidPred)\n",
    "    return - r2Valid\n",
    "\n",
    "def crossval_tuning(params):\n",
    "    algo = SVR(**params)\n",
    "    r2Valid = cross_val_score(algo, xTrain, yTrain, scoring='r2', cv=5).mean()\n",
    "    return - r2Valid\n",
    "\n",
    "searchSpace = {\n",
    "    'kernel': hp.choice('kernel', ['linear', 'poly', 'rbf', 'sigmoid']),\n",
    "    'degree': hp.quniform('degree', low=1, high=7, q=1),\n",
    "    'C': hp.loguniform('C', low=-5, high=5),\n",
    "}"
   ]
  },
  {
   "cell_type": "code",
   "execution_count": 11,
   "id": "d9ded109-5629-4b99-9baa-d658cf0592dc",
   "metadata": {},
   "outputs": [
    {
     "name": "stdout",
     "output_type": "stream",
     "text": [
      "100%|███████████████████████████████████████████████| 20/20 [00:50<00:00,  2.53s/trial, best loss: -0.6492170817703494]\n"
     ]
    },
    {
     "data": {
      "text/plain": [
       "{'C': 54.088782020579494, 'degree': 7.0, 'kernel': 0}"
      ]
     },
     "execution_count": 11,
     "metadata": {},
     "output_type": "execute_result"
    }
   ],
   "source": [
    "trials = Trials()\n",
    "fmin(\n",
    "    fn=holdout_tuning,\n",
    "    space=searchSpace,\n",
    "    max_evals=20,\n",
    "    algo=tpe.suggest,\n",
    ")"
   ]
  },
  {
   "cell_type": "code",
   "execution_count": 44,
   "id": "948afffa-2af8-4698-9f09-c1c4ce150a21",
   "metadata": {},
   "outputs": [
    {
     "name": "stdout",
     "output_type": "stream",
     "text": [
      "100%|███████████████████████████████████████████████| 20/20 [00:18<00:00,  1.09trial/s, best loss: -0.7012666183746514]\n"
     ]
    },
    {
     "data": {
      "text/plain": [
       "{'C': 0.2875113193925223, 'degree': 3.0, 'kernel': 0}"
      ]
     },
     "execution_count": 44,
     "metadata": {},
     "output_type": "execute_result"
    }
   ],
   "source": [
    "trials = Trials()\n",
    "fmin(\n",
    "    fn=crossval_tuning,\n",
    "    space=searchSpace,\n",
    "    max_evals=20,\n",
    "    algo=tpe.suggest,\n",
    ")"
   ]
  },
  {
   "cell_type": "markdown",
   "id": "ad644e7e-ed04-420d-b493-7184f930cdfc",
   "metadata": {},
   "source": [
    "### Model selection\n",
    "Things get more complicated: we need to choose between several algorithms with their own search spaces. Hyperopt tackles this by allowing classifiers/regressors using Scikit-learn API to be registered to Hyperopt's scope, so that they c"
   ]
  },
  {
   "cell_type": "code",
   "execution_count": 8,
   "id": "0103e264-8369-4772-bbe0-20f21a095fc8",
   "metadata": {},
   "outputs": [],
   "source": [
    "for estimator in (XGBRegressor, LGBMRegressor, CatBoostRegressor):\n",
    "    try: scope.define(estimator)\n",
    "    except: pass\n",
    "\n",
    "spaceXGBoost = scope.XGBRegressor(\n",
    "    n_estimators=hp.randint('xgb_nEstimators', 1000),\n",
    "    learning_rate=hp.uniform('xgb_learningRate', 0.001, 0.5),\n",
    "    grow_policy=hp.choice('xgb_growPolicy', ['lossguide', 'depthwise']),\n",
    "    reg_alpha=hp.loguniform('xgb_regL1', -5, 5),\n",
    "    reg_lambda=hp.loguniform('xgb_regL2', -5, 5),\n",
    "    num_leaves=hp.choice('xgb_maxLeaves', [4, 8, 16, 32, 64]),\n",
    "    colsample_bytree=hp.uniform('xgb_fracFeatureByTree', 0.2, 0.8),\n",
    "    colsample_bylevel=hp.uniform('xgb_fracFeatureByLevel', 0.2, 0.8),\n",
    "    colsample_bynode=hp.uniform('xgb_fracFeatureByNode', 0.2, 0.8),\n",
    "    subsample=hp.uniform('xgb_fracSample', 0.2, 0.8),\n",
    "    verbosity=0, silent=1,\n",
    ")\n",
    "\n",
    "spaceLightGBM = scope.LGBMRegressor(\n",
    "    n_estimators=hp.randint('lgb_nEstimators', 1000),\n",
    "    learning_rate=hp.uniform('lgb_learningRate', 0.001, 0.5),\n",
    "    boosting_type=hp.choice('lgb_booster', ['gbdt', 'goss', 'dart']),\n",
    "    subsample=hp.uniform('lgb_fracSample', 0.2, 0.8),\n",
    "    colsample_bytree=hp.uniform('lgb_fracFeature', 0.2, 0.8),\n",
    "    num_leaves=hp.choice('lgb_maxLeaves', [4, 8, 16, 32, 64]),\n",
    "    reg_alpha=hp.loguniform('lgb_regL1', -5, 5),\n",
    "    reg_lambda=hp.loguniform('lgb_regL2', -5, 5),\n",
    "    verbosity=-1,\n",
    ")\n",
    "\n",
    "spaceCatBoost = scope.CatBoostRegressor(\n",
    "    n_estimators=hp.randint('cgb_nEstimators', 1000),\n",
    "    learning_rate=hp.uniform('cgb_learningRate', 0.001, 0.5),\n",
    "    l2_leaf_reg=hp.loguniform('cgb_regL2', -5, 5),\n",
    "    subsample=hp.uniform('cgb_fracSample', 0.2, 0.8),\n",
    "    boosting_type='Ordered',\n",
    "    grow_policy='SymmetricTree',\n",
    "    verbose=0,\n",
    ")\n",
    "\n",
    "searchSpace = hp.choice('clf', [spaceXGBoost, spaceLightGBM, spaceCatBoost])"
   ]
  },
  {
   "cell_type": "code",
   "execution_count": 6,
   "id": "a6136c3d-50d6-4765-91bb-21bbbb45b9a4",
   "metadata": {},
   "outputs": [],
   "source": [
    "def score_model(estimator):\n",
    "    estimator.fit(xTrain, yTrain)\n",
    "    yValidPred = estimator.predict(xValid)\n",
    "    r2Valid = R2(yValid, yValidPred)\n",
    "    return - r2Valid"
   ]
  },
  {
   "cell_type": "code",
   "execution_count": 9,
   "id": "112047fb-1f98-4fea-bd3d-cca057e89b6c",
   "metadata": {},
   "outputs": [
    {
     "name": "stdout",
     "output_type": "stream",
     "text": [
      "100%|█████████████████████████████████████████████| 200/200 [09:25<00:00,  2.83s/trial, best loss: -0.9404563285976195]\n"
     ]
    },
    {
     "data": {
      "text/plain": [
       "{'cgb_fracSample': 0.7670114374279781,\n",
       " 'cgb_learningRate': 0.04852071907043586,\n",
       " 'cgb_nEstimators': 535,\n",
       " 'cgb_regL2': 0.01292892425132965,\n",
       " 'clf': 2}"
      ]
     },
     "execution_count": 9,
     "metadata": {},
     "output_type": "execute_result"
    }
   ],
   "source": [
    "fmin(\n",
    "    fn=score_model,\n",
    "    space=searchSpace,\n",
    "    max_evals=200,\n",
    "    algo=tpe.suggest,\n",
    ")"
   ]
  },
  {
   "cell_type": "markdown",
   "id": "ac96af59-671c-4da4-a685-3d06ed2968b2",
   "metadata": {},
   "source": [
    "# 4. Hyperband"
   ]
  },
  {
   "cell_type": "markdown",
   "id": "d85f6a39-a81c-4492-9ccd-7c77377352f8",
   "metadata": {},
   "source": [
    "## 4.1. Successive Halving"
   ]
  },
  {
   "cell_type": "markdown",
   "id": "db8a30f1-4b3a-451c-92f8-911685ed8eb3",
   "metadata": {},
   "source": [
    "### Resource allocation\n",
    "As Multi-Armed Bandits algorithms are all about *resources allocation*, we need to define *resource*. In the context of Machine Learning, it should be the something (1) measurable, prefered in integer, (2) proportional to training time and (3) can be added partially to the model without re-training from the start.\n",
    "\n",
    "For all Machine Learning algorithms, the number of samples is a viable choice, but it only satisfies (1) and (2). Fortunately, most state-of-the-art algorithms (Gradient Boosting for strutured data and Neural Network for nonstructured data) use a Stochastic Gradient Descent mechanism for model training, which statisfies all (1), (2) and (3). Thanks to this online learning behaviour, we can use, for example, number of trees in XGBoost or number of epochs in MLP as *resource*. We denote $B$ the maximum budget for the selected resource."
   ]
  },
  {
   "cell_type": "markdown",
   "id": "a8bca2f9-5893-4a15-af14-25a5a2c88b5f",
   "metadata": {},
   "source": [
    "### Algorithm\n",
    "Successive Halving uniformally allocates the budget to $N$ configurations randomly choosed from the hyperparameter space, which means each configuration is trained using $\\lfloor B/N\\rfloor$ whatever the resource is. The bottom half in terms of validation score is discarded (early stopping), while the top half is promoted to the next bracket and then trained with doubled resources. This process is repeated until one configuration survives.\n",
    "\n",
    "The algorithm can be generalized to:\n",
    "- Instead of strictly *halving*, we perform *eliminating* with an *elimination rate*, $\\eta\\geq2$, so that in each bracket we promote only $1/\\eta$ best scoring candidates and give them resources $\\eta$ times higher than the last round.\n",
    "- Use any number of resources in the first bracket instead of fixing the value to be $\\lfloor B/N\\rfloor$."
   ]
  },
  {
   "cell_type": "markdown",
   "id": "879a315b-0335-47c8-8779-9bc0e49d26f0",
   "metadata": {},
   "source": [
    "*Example*: Let's say we are tuning an XGBoost model with $B=200$ trees. Successive Halving with $N=32$ and $\\eta=2$ is demonstrated in the table below:\n",
    "\n",
    "||Candidates survived|Number of trees|\n",
    "|:---|:---:|---:|\n",
    "|Bracket 1|$32$|$\\lfloor 200\\div32\\rfloor=6$|\n",
    "|Bracket 2|$16$|$6\\times2=12$|\n",
    "|Bracket 3|$8$|$12\\times2=24$|\n",
    "|Bracket 4|$4$|$24\\times2=48$|\n",
    "|Bracket 5|$2$|$48\\times2=96$|\n",
    "|Bracket 6|$1$|$96\\times2=192$|"
   ]
  },
  {
   "cell_type": "markdown",
   "id": "f8519caf-4572-41db-afe2-096ddd203904",
   "metadata": {},
   "source": [
    "## 4.2. Hyperband\n",
    "Hyperband is an improved version solving the problem *$N$ versus $B/N$* that Successive Halving suffers from."
   ]
  },
  {
   "cell_type": "markdown",
   "id": "e4212ca3-748d-4b6d-81fa-bf677e65dd82",
   "metadata": {},
   "source": [
    "### N versus B/N problem\n",
    "This problem is all about *biases*, especially in early rounds: a good candidate can poorly perform if not being given enough resources. You can look at the learning curve of Gradient Boosting or Gradient Descent examples in practice to see a particular situation: the curve first fluctuates very much, but when the number of epochs/trees increases, it converges to a stable state.\n",
    "\n",
    "<img src='image/learning_curve_fluctuations.png' style='height:250px; margin:20px auto 20px;'>\n",
    "\n",
    "In the $N$ versus $B/N$ problem, $N$ refers to the number of configurations and $B/N$ refers to the average budget for each configuration. When the learning curves in the first rounds fluctuate and overlap, then the configurations are hard to distinguished. If we judge them using these biased scores, there is a high change that we are going to discard good candidates. So, it is reasonable to use fewer configurations and train them for longer.\n",
    "\n",
    "In contrast, when the configurations can significantly differentiate themselves after a small number of resources, we known that biases do not affect very much. We would want $N$ to be as large as possible to cover a wider range of candidates (more exploration), as the budget is fixed."
   ]
  },
  {
   "cell_type": "markdown",
   "id": "576f11c8-da15-435c-a8aa-7c58292bab33",
   "metadata": {},
   "source": [
    "### Algorithm\n",
    "In attemp to solve the problem above, Hyperband performs a grid search over different numbers of configurations. It is controled by the number of brackets $s$, at maximum of $S=\\lfloor\\log_{\\eta}{B}\\rfloor+1$. The total resources over all brackets will be $S\\times B$. For each number of brackets $s=1,2,\\dots,S$, Hyperband computes the number of configurations $N$ and the minimum resources $b$:\n",
    "\n",
    "$$\n",
    "N_s=\\left\\lceil\\frac{S}{s}\\eta^s\\right\\rceil,\\qquad\n",
    "B_s=B\\eta^{-s}\n",
    "$$\n",
    "\n",
    "Then, Successive Halving is performed for $N_s$ and $B_s$ and repeated for all possible values of $s$."
   ]
  },
  {
   "cell_type": "markdown",
   "id": "ca4c1d82-1090-4aa9-911d-89a93301ee9b",
   "metadata": {},
   "source": [
    "## 4.3. BOHB\n",
    "Hyperband shows good performance across many problems, but it does random sampling each time run Successive Halving, so is not the most effective. BOHB is proposed as an extended version of Hyperband (HB), which combines it with Bayesian Optimization (BO) to determine $N_s$ configurations prior to each Successive Halving run more effectively."
   ]
  },
  {
   "cell_type": "markdown",
   "id": "348c8e5d-b4ee-4f3a-8549-4ddec2f467fe",
   "metadata": {},
   "source": [
    "# 5. Implementation"
   ]
  },
  {
   "cell_type": "markdown",
   "id": "538890dd-17fb-4fb4-8a80-065612b88fa7",
   "metadata": {},
   "source": [
    "## 5.1. Optuna\n",
    "Optuna implements [efficient optimization] by combining two techniques, (1) [sampling] promising configurations and (2) early stopping or [pruning] unpromising configurations. By default, this library uses TPE for sampling and Hyperband for pruning. It also supports a number of visualization functions to analyze the hyperparameter importances for a single Machine Learning algorithm.\n",
    "\n",
    "[efficient optimization]: https://optuna.readthedocs.io/en/stable/tutorial/10_key_features/003_efficient_optimization_algorithms.html\n",
    "[sampling]: https://optuna.readthedocs.io/en/stable/reference/samplers/index.html\n",
    "[pruning]: https://optuna.readthedocs.io/en/stable/reference/pruners.html"
   ]
  },
  {
   "cell_type": "code",
   "execution_count": 37,
   "id": "7a948077-040b-4871-b44c-bf6108bd4d1d",
   "metadata": {
    "tags": []
   },
   "outputs": [],
   "source": [
    "import warnings; warnings.filterwarnings('ignore')\n",
    "import numpy as np; np.set_printoptions(precision=4, suppress=True)\n",
    "import pandas as pd\n",
    "\n",
    "from sklearn.model_selection import train_test_split, cross_val_score\n",
    "from sklearn.metrics import r2_score as R2\n",
    "from lightgbm import LGBMRegressor\n",
    "from xgboost import XGBRegressor\n",
    "from catboost import CatBoostRegressor\n",
    "\n",
    "import optuna\n",
    "from optuna.samplers import RandomSampler, TPESampler, CmaEsSampler, NSGAIISampler\n",
    "from optuna.pruners import HyperbandPruner, SuccessiveHalvingPruner, MedianPruner\n",
    "optuna.logging.set_verbosity(optuna.logging.CRITICAL)"
   ]
  },
  {
   "cell_type": "code",
   "execution_count": 36,
   "id": "231b5350-cbb6-42b5-b321-8897aa19cb60",
   "metadata": {
    "tags": []
   },
   "outputs": [
    {
     "data": {
      "text/html": [
       "<div>\n",
       "<style scoped>\n",
       "    .dataframe tbody tr th:only-of-type {\n",
       "        vertical-align: middle;\n",
       "    }\n",
       "\n",
       "    .dataframe tbody tr th {\n",
       "        vertical-align: top;\n",
       "    }\n",
       "\n",
       "    .dataframe thead th {\n",
       "        text-align: right;\n",
       "    }\n",
       "</style>\n",
       "<table border=\"1\" class=\"dataframe\">\n",
       "  <thead>\n",
       "    <tr style=\"text-align: right;\">\n",
       "      <th></th>\n",
       "      <th>crime_rate</th>\n",
       "      <th>land_rate</th>\n",
       "      <th>indus</th>\n",
       "      <th>chas</th>\n",
       "      <th>nox</th>\n",
       "      <th>room</th>\n",
       "      <th>age</th>\n",
       "      <th>distance</th>\n",
       "      <th>radial</th>\n",
       "      <th>tax</th>\n",
       "      <th>ptratio</th>\n",
       "      <th>black</th>\n",
       "      <th>lstat</th>\n",
       "      <th>price</th>\n",
       "    </tr>\n",
       "  </thead>\n",
       "  <tbody>\n",
       "    <tr>\n",
       "      <th>0</th>\n",
       "      <td>0.00632</td>\n",
       "      <td>18.0</td>\n",
       "      <td>2.31</td>\n",
       "      <td>0</td>\n",
       "      <td>0.538</td>\n",
       "      <td>6.575</td>\n",
       "      <td>65.2</td>\n",
       "      <td>4.0900</td>\n",
       "      <td>1</td>\n",
       "      <td>296</td>\n",
       "      <td>15.3</td>\n",
       "      <td>396.90</td>\n",
       "      <td>4.98</td>\n",
       "      <td>24.0</td>\n",
       "    </tr>\n",
       "    <tr>\n",
       "      <th>1</th>\n",
       "      <td>0.02731</td>\n",
       "      <td>0.0</td>\n",
       "      <td>7.07</td>\n",
       "      <td>0</td>\n",
       "      <td>0.469</td>\n",
       "      <td>6.421</td>\n",
       "      <td>78.9</td>\n",
       "      <td>4.9671</td>\n",
       "      <td>2</td>\n",
       "      <td>242</td>\n",
       "      <td>17.8</td>\n",
       "      <td>396.90</td>\n",
       "      <td>9.14</td>\n",
       "      <td>21.6</td>\n",
       "    </tr>\n",
       "    <tr>\n",
       "      <th>2</th>\n",
       "      <td>0.02729</td>\n",
       "      <td>0.0</td>\n",
       "      <td>7.07</td>\n",
       "      <td>0</td>\n",
       "      <td>0.469</td>\n",
       "      <td>7.185</td>\n",
       "      <td>61.1</td>\n",
       "      <td>4.9671</td>\n",
       "      <td>2</td>\n",
       "      <td>242</td>\n",
       "      <td>17.8</td>\n",
       "      <td>392.83</td>\n",
       "      <td>4.03</td>\n",
       "      <td>34.7</td>\n",
       "    </tr>\n",
       "    <tr>\n",
       "      <th>3</th>\n",
       "      <td>0.03237</td>\n",
       "      <td>0.0</td>\n",
       "      <td>2.18</td>\n",
       "      <td>0</td>\n",
       "      <td>0.458</td>\n",
       "      <td>6.998</td>\n",
       "      <td>45.8</td>\n",
       "      <td>6.0622</td>\n",
       "      <td>3</td>\n",
       "      <td>222</td>\n",
       "      <td>18.7</td>\n",
       "      <td>394.63</td>\n",
       "      <td>2.94</td>\n",
       "      <td>33.4</td>\n",
       "    </tr>\n",
       "    <tr>\n",
       "      <th>4</th>\n",
       "      <td>0.06905</td>\n",
       "      <td>0.0</td>\n",
       "      <td>2.18</td>\n",
       "      <td>0</td>\n",
       "      <td>0.458</td>\n",
       "      <td>7.147</td>\n",
       "      <td>54.2</td>\n",
       "      <td>6.0622</td>\n",
       "      <td>3</td>\n",
       "      <td>222</td>\n",
       "      <td>18.7</td>\n",
       "      <td>396.90</td>\n",
       "      <td>5.33</td>\n",
       "      <td>36.2</td>\n",
       "    </tr>\n",
       "  </tbody>\n",
       "</table>\n",
       "</div>"
      ],
      "text/plain": [
       "   crime_rate  land_rate  indus  chas    nox   room   age  distance  radial  \\\n",
       "0     0.00632       18.0   2.31     0  0.538  6.575  65.2    4.0900       1   \n",
       "1     0.02731        0.0   7.07     0  0.469  6.421  78.9    4.9671       2   \n",
       "2     0.02729        0.0   7.07     0  0.469  7.185  61.1    4.9671       2   \n",
       "3     0.03237        0.0   2.18     0  0.458  6.998  45.8    6.0622       3   \n",
       "4     0.06905        0.0   2.18     0  0.458  7.147  54.2    6.0622       3   \n",
       "\n",
       "   tax  ptratio   black  lstat  price  \n",
       "0  296     15.3  396.90   4.98   24.0  \n",
       "1  242     17.8  396.90   9.14   21.6  \n",
       "2  242     17.8  392.83   4.03   34.7  \n",
       "3  222     18.7  394.63   2.94   33.4  \n",
       "4  222     18.7  396.90   5.33   36.2  "
      ]
     },
     "execution_count": 36,
     "metadata": {},
     "output_type": "execute_result"
    }
   ],
   "source": [
    "dfBoston = pd.read_csv('data/boston.csv')\n",
    "dfBoston.head()"
   ]
  },
  {
   "cell_type": "code",
   "execution_count": 4,
   "id": "d7c5be60-9e1b-448d-83a9-8e2d2229bd7b",
   "metadata": {
    "tags": []
   },
   "outputs": [],
   "source": [
    "x = dfBoston.copy()\n",
    "y = x.pop('price')\n",
    "xTrain, xTest, yTrain, yTest = train_test_split(x, y, test_size=1/10, random_state=7)"
   ]
  },
  {
   "cell_type": "markdown",
   "id": "4cc73103-3510-429e-969e-6f49844d7cd5",
   "metadata": {},
   "source": [
    "### Model selection\n",
    "Optuna's search space can be defined via the <code style='font-size:13px'>[Trial]</code> object.\n",
    "\n",
    "[Trial]: https://optuna.readthedocs.io/en/stable/reference/generated/optuna.trial.Trial.html"
   ]
  },
  {
   "cell_type": "code",
   "execution_count": 38,
   "id": "c381c15c-7add-40af-a0ff-f06165eed77a",
   "metadata": {
    "tags": []
   },
   "outputs": [],
   "source": [
    "def objective(trial):\n",
    "    regressor = trial.suggest_categorical('classifier', ['xgb', 'lgb'])\n",
    "    if regressor == 'xgb':\n",
    "        params = dict(\n",
    "            n_estimators = trial.suggest_int('xgb_nEstimators', 300, 500),\n",
    "            learning_rate = trial.suggest_float('xgb_learningRate', 0.01, 0.5),\n",
    "            grow_policy = trial.suggest_categorical('xgb_growPolicy', ['lossguide', 'depthwise']),\n",
    "            reg_alpha = trial.suggest_float('xgb_regL1', 1e-3, 1e3, log=True),\n",
    "            reg_lambda = trial.suggest_float('xgb_regL2', 1e-3, 1e3, log=True),\n",
    "        )\n",
    "        algo = XGBRegressor(**params, verbosity=0, silent=1)\n",
    "    \n",
    "    if regressor == 'lgb':\n",
    "        params = dict(\n",
    "            n_estimators = trial.suggest_int('lgb_nEstimators', 300, 500),\n",
    "            learning_rate = trial.suggest_float('lgb_learningRate', 0.01, 0.5),\n",
    "            boosting_type = trial.suggest_categorical('lgb_booster', ['gbdt', 'goss', 'dart']),\n",
    "            reg_alpha = trial.suggest_float('lgb_regL1', 1e-3, 1e3, log=True),\n",
    "            reg_lambda = trial.suggest_float('lgb_regL2', 1e-3, 1e3, log=True),\n",
    "        )\n",
    "        algo = LGBMRegressor(**params, verbosity=-1)\n",
    "        \n",
    "    r2Valid = cross_val_score(algo, xTrain, yTrain, scoring='r2', cv=5).mean()\n",
    "    return r2Valid"
   ]
  },
  {
   "cell_type": "code",
   "execution_count": 39,
   "id": "34bf2ef7-03f0-482e-b7ef-09724df4865d",
   "metadata": {
    "tags": []
   },
   "outputs": [
    {
     "data": {
      "application/vnd.jupyter.widget-view+json": {
       "model_id": "78c124a773c44b859c79a8542b573227",
       "version_major": 2,
       "version_minor": 0
      },
      "text/plain": [
       "  0%|          | 0/30 [00:00<?, ?it/s]"
      ]
     },
     "metadata": {},
     "output_type": "display_data"
    }
   ],
   "source": [
    "study = optuna.create_study(sampler=TPESampler(), pruner=HyperbandPruner(), direction='maximize',)\n",
    "study.optimize(objective, n_trials=30, show_progress_bar=True)"
   ]
  },
  {
   "cell_type": "code",
   "execution_count": 13,
   "id": "ba34a89c-f17f-49d1-b908-3f3799753114",
   "metadata": {
    "tags": []
   },
   "outputs": [
    {
     "data": {
      "text/plain": [
       "{'classifier': 'xgb',\n",
       " 'xgb_nEstimators': 311,\n",
       " 'xgb_learningRate': 0.035667511815266485,\n",
       " 'xgb_growPolicy': 'depthwise',\n",
       " 'xgb_regL1': 0.006899877570589229,\n",
       " 'xgb_regL2': 1.9934991166501708}"
      ]
     },
     "execution_count": 13,
     "metadata": {},
     "output_type": "execute_result"
    }
   ],
   "source": [
    "study.best_params"
   ]
  },
  {
   "cell_type": "code",
   "execution_count": 14,
   "id": "338db556-42ed-4386-b93a-ef3f13d8330d",
   "metadata": {
    "tags": []
   },
   "outputs": [
    {
     "data": {
      "text/plain": [
       "0.8910925517789409"
      ]
     },
     "execution_count": 14,
     "metadata": {},
     "output_type": "execute_result"
    }
   ],
   "source": [
    "study.best_value"
   ]
  },
  {
   "cell_type": "code",
   "execution_count": 15,
   "id": "83f78640-c708-4e3d-be4f-15e66ddf7bbd",
   "metadata": {
    "tags": []
   },
   "outputs": [
    {
     "data": {
      "text/html": [
       "<div>\n",
       "<style scoped>\n",
       "    .dataframe tbody tr th:only-of-type {\n",
       "        vertical-align: middle;\n",
       "    }\n",
       "\n",
       "    .dataframe tbody tr th {\n",
       "        vertical-align: top;\n",
       "    }\n",
       "\n",
       "    .dataframe thead th {\n",
       "        text-align: right;\n",
       "    }\n",
       "</style>\n",
       "<table border=\"1\" class=\"dataframe\">\n",
       "  <thead>\n",
       "    <tr style=\"text-align: right;\">\n",
       "      <th></th>\n",
       "      <th>number</th>\n",
       "      <th>value</th>\n",
       "      <th>datetime_start</th>\n",
       "      <th>datetime_complete</th>\n",
       "      <th>duration</th>\n",
       "      <th>params_classifier</th>\n",
       "      <th>params_lgb_booster</th>\n",
       "      <th>params_lgb_learningRate</th>\n",
       "      <th>params_lgb_nEstimators</th>\n",
       "      <th>params_lgb_regL1</th>\n",
       "      <th>params_lgb_regL2</th>\n",
       "      <th>params_xgb_growPolicy</th>\n",
       "      <th>params_xgb_learningRate</th>\n",
       "      <th>params_xgb_nEstimators</th>\n",
       "      <th>params_xgb_regL1</th>\n",
       "      <th>params_xgb_regL2</th>\n",
       "      <th>state</th>\n",
       "    </tr>\n",
       "  </thead>\n",
       "  <tbody>\n",
       "    <tr>\n",
       "      <th>0</th>\n",
       "      <td>0</td>\n",
       "      <td>0.808016</td>\n",
       "      <td>2022-09-13 14:44:06.355847</td>\n",
       "      <td>2022-09-13 14:44:06.714174</td>\n",
       "      <td>0 days 00:00:00.358327</td>\n",
       "      <td>lgb</td>\n",
       "      <td>goss</td>\n",
       "      <td>0.338352</td>\n",
       "      <td>422.0</td>\n",
       "      <td>0.001017</td>\n",
       "      <td>78.764094</td>\n",
       "      <td>NaN</td>\n",
       "      <td>NaN</td>\n",
       "      <td>NaN</td>\n",
       "      <td>NaN</td>\n",
       "      <td>NaN</td>\n",
       "      <td>COMPLETE</td>\n",
       "    </tr>\n",
       "    <tr>\n",
       "      <th>1</th>\n",
       "      <td>1</td>\n",
       "      <td>0.841423</td>\n",
       "      <td>2022-09-13 14:44:06.715174</td>\n",
       "      <td>2022-09-13 14:44:07.317979</td>\n",
       "      <td>0 days 00:00:00.602805</td>\n",
       "      <td>xgb</td>\n",
       "      <td>NaN</td>\n",
       "      <td>NaN</td>\n",
       "      <td>NaN</td>\n",
       "      <td>NaN</td>\n",
       "      <td>NaN</td>\n",
       "      <td>lossguide</td>\n",
       "      <td>0.077407</td>\n",
       "      <td>427.0</td>\n",
       "      <td>43.831639</td>\n",
       "      <td>0.044911</td>\n",
       "      <td>COMPLETE</td>\n",
       "    </tr>\n",
       "    <tr>\n",
       "      <th>2</th>\n",
       "      <td>2</td>\n",
       "      <td>0.864540</td>\n",
       "      <td>2022-09-13 14:44:07.320024</td>\n",
       "      <td>2022-09-13 14:44:08.569180</td>\n",
       "      <td>0 days 00:00:01.249156</td>\n",
       "      <td>xgb</td>\n",
       "      <td>NaN</td>\n",
       "      <td>NaN</td>\n",
       "      <td>NaN</td>\n",
       "      <td>NaN</td>\n",
       "      <td>NaN</td>\n",
       "      <td>depthwise</td>\n",
       "      <td>0.123563</td>\n",
       "      <td>408.0</td>\n",
       "      <td>0.021523</td>\n",
       "      <td>0.050877</td>\n",
       "      <td>COMPLETE</td>\n",
       "    </tr>\n",
       "    <tr>\n",
       "      <th>3</th>\n",
       "      <td>3</td>\n",
       "      <td>0.858921</td>\n",
       "      <td>2022-09-13 14:44:08.570180</td>\n",
       "      <td>2022-09-13 14:44:09.401807</td>\n",
       "      <td>0 days 00:00:00.831627</td>\n",
       "      <td>xgb</td>\n",
       "      <td>NaN</td>\n",
       "      <td>NaN</td>\n",
       "      <td>NaN</td>\n",
       "      <td>NaN</td>\n",
       "      <td>NaN</td>\n",
       "      <td>depthwise</td>\n",
       "      <td>0.218222</td>\n",
       "      <td>391.0</td>\n",
       "      <td>0.009911</td>\n",
       "      <td>0.007228</td>\n",
       "      <td>COMPLETE</td>\n",
       "    </tr>\n",
       "    <tr>\n",
       "      <th>4</th>\n",
       "      <td>4</td>\n",
       "      <td>0.839002</td>\n",
       "      <td>2022-09-13 14:44:09.403811</td>\n",
       "      <td>2022-09-13 14:44:09.735071</td>\n",
       "      <td>0 days 00:00:00.331260</td>\n",
       "      <td>lgb</td>\n",
       "      <td>goss</td>\n",
       "      <td>0.047859</td>\n",
       "      <td>349.0</td>\n",
       "      <td>1.246176</td>\n",
       "      <td>0.258064</td>\n",
       "      <td>NaN</td>\n",
       "      <td>NaN</td>\n",
       "      <td>NaN</td>\n",
       "      <td>NaN</td>\n",
       "      <td>NaN</td>\n",
       "      <td>COMPLETE</td>\n",
       "    </tr>\n",
       "  </tbody>\n",
       "</table>\n",
       "</div>"
      ],
      "text/plain": [
       "   number     value             datetime_start          datetime_complete  \\\n",
       "0       0  0.808016 2022-09-13 14:44:06.355847 2022-09-13 14:44:06.714174   \n",
       "1       1  0.841423 2022-09-13 14:44:06.715174 2022-09-13 14:44:07.317979   \n",
       "2       2  0.864540 2022-09-13 14:44:07.320024 2022-09-13 14:44:08.569180   \n",
       "3       3  0.858921 2022-09-13 14:44:08.570180 2022-09-13 14:44:09.401807   \n",
       "4       4  0.839002 2022-09-13 14:44:09.403811 2022-09-13 14:44:09.735071   \n",
       "\n",
       "                duration params_classifier params_lgb_booster  \\\n",
       "0 0 days 00:00:00.358327               lgb               goss   \n",
       "1 0 days 00:00:00.602805               xgb                NaN   \n",
       "2 0 days 00:00:01.249156               xgb                NaN   \n",
       "3 0 days 00:00:00.831627               xgb                NaN   \n",
       "4 0 days 00:00:00.331260               lgb               goss   \n",
       "\n",
       "   params_lgb_learningRate  params_lgb_nEstimators  params_lgb_regL1  \\\n",
       "0                 0.338352                   422.0          0.001017   \n",
       "1                      NaN                     NaN               NaN   \n",
       "2                      NaN                     NaN               NaN   \n",
       "3                      NaN                     NaN               NaN   \n",
       "4                 0.047859                   349.0          1.246176   \n",
       "\n",
       "   params_lgb_regL2 params_xgb_growPolicy  params_xgb_learningRate  \\\n",
       "0         78.764094                   NaN                      NaN   \n",
       "1               NaN             lossguide                 0.077407   \n",
       "2               NaN             depthwise                 0.123563   \n",
       "3               NaN             depthwise                 0.218222   \n",
       "4          0.258064                   NaN                      NaN   \n",
       "\n",
       "   params_xgb_nEstimators  params_xgb_regL1  params_xgb_regL2     state  \n",
       "0                     NaN               NaN               NaN  COMPLETE  \n",
       "1                   427.0         43.831639          0.044911  COMPLETE  \n",
       "2                   408.0          0.021523          0.050877  COMPLETE  \n",
       "3                   391.0          0.009911          0.007228  COMPLETE  \n",
       "4                     NaN               NaN               NaN  COMPLETE  "
      ]
     },
     "execution_count": 15,
     "metadata": {},
     "output_type": "execute_result"
    }
   ],
   "source": [
    "study.trials_dataframe().head()"
   ]
  },
  {
   "cell_type": "markdown",
   "id": "4bf0d4de-72c2-400a-9235-459ab2ca8aaf",
   "metadata": {},
   "source": [
    "### Performance analysis"
   ]
  },
  {
   "cell_type": "code",
   "execution_count": 47,
   "id": "e86450d0-3b0e-492b-9335-165e7a5afb5e",
   "metadata": {
    "tags": []
   },
   "outputs": [],
   "source": [
    "from optuna.visualization import plot_contour\n",
    "from optuna.visualization import plot_optimization_history\n",
    "from optuna.visualization import plot_parallel_coordinate\n",
    "from optuna.visualization import plot_param_importances"
   ]
  },
  {
   "cell_type": "code",
   "execution_count": 48,
   "id": "d324b701-5c51-4dc3-99b6-3ec9ccb4708c",
   "metadata": {
    "tags": []
   },
   "outputs": [],
   "source": [
    "def objective(trial):\n",
    "    params = dict(\n",
    "        n_estimators = trial.suggest_int('n_estimators', 300, 500),\n",
    "        learning_rate = trial.suggest_float('learning_rate', 0.01, 0.5),\n",
    "        boosting_type = trial.suggest_categorical('boosting_type', ['gbdt', 'goss', 'dart']),\n",
    "        reg_alpha = trial.suggest_float('reg_alpha', 1e-3, 1e3, log=True),\n",
    "        reg_lambda = trial.suggest_float('reg_lambda', 1e-3, 1e3, log=True),\n",
    "    )\n",
    "    algo = LGBMRegressor(**params, verbosity=-1)\n",
    "        \n",
    "    r2Valid = cross_val_score(algo, xTrain, yTrain, scoring='r2', cv=5).mean()\n",
    "    return r2Valid"
   ]
  },
  {
   "cell_type": "code",
   "execution_count": 49,
   "id": "b6f59944-1007-4f8c-adb3-ff8c645f2509",
   "metadata": {
    "tags": []
   },
   "outputs": [
    {
     "data": {
      "application/vnd.jupyter.widget-view+json": {
       "model_id": "29f7cc76838d40bc85c99ce287de7e95",
       "version_major": 2,
       "version_minor": 0
      },
      "text/plain": [
       "  0%|          | 0/30 [00:00<?, ?it/s]"
      ]
     },
     "metadata": {},
     "output_type": "display_data"
    }
   ],
   "source": [
    "study = optuna.create_study(sampler=TPESampler(), pruner=HyperbandPruner(), direction='maximize')\n",
    "study.optimize(objective, n_trials=30, show_progress_bar=True)"
   ]
  },
  {
   "cell_type": "code",
   "execution_count": 52,
   "id": "220c6d1a-cb97-47c4-98f5-9da6f17bccfa",
   "metadata": {
    "tags": []
   },
   "outputs": [
    {
     "data": {
      "application/vnd.plotly.v1+json": {
       "config": {
        "plotlyServerURL": "https://plot.ly"
       },
       "data": [
        {
         "mode": "markers",
         "name": "Objective Value",
         "type": "scatter",
         "visible": "legendonly",
         "x": [
          0,
          1,
          2,
          3,
          4,
          5,
          6,
          7,
          8,
          9,
          10,
          11,
          12,
          13,
          14,
          15,
          16,
          17,
          18,
          19,
          20,
          21,
          22,
          23,
          24,
          25,
          26,
          27,
          28,
          29
         ],
         "y": [
          -6.23936548466809,
          0.7723732745769143,
          0.7641657909162468,
          0.8872125558259079,
          0.8404131018517951,
          -6.480531818769646,
          0.8657653668524816,
          0.6449034020057518,
          0.8166606612958878,
          0.8325678629479822,
          0.8874382745143696,
          0.8895188864419321,
          0.886473851919629,
          0.887216419464405,
          0.6626978982218501,
          0.8853333917618478,
          -4.432479445000773,
          0.8892055912510941,
          0.8818619217010631,
          0.8746065614107987,
          0.8868740718727544,
          0.8895668934092873,
          0.8879717802822474,
          0.8858201508601384,
          -6.354776696728696,
          0.8878345473166022,
          0.8825237826967784,
          0.8864678076878383,
          0.7966965078966778,
          0.8796872236176592
         ]
        },
        {
         "name": "Best Value",
         "type": "scatter",
         "x": [
          0,
          1,
          2,
          3,
          4,
          5,
          6,
          7,
          8,
          9,
          10,
          11,
          12,
          13,
          14,
          15,
          16,
          17,
          18,
          19,
          20,
          21,
          22,
          23,
          24,
          25,
          26,
          27,
          28,
          29
         ],
         "y": [
          -6.23936548466809,
          0.7723732745769143,
          0.7723732745769143,
          0.8872125558259079,
          0.8872125558259079,
          0.8872125558259079,
          0.8872125558259079,
          0.8872125558259079,
          0.8872125558259079,
          0.8872125558259079,
          0.8874382745143696,
          0.8895188864419321,
          0.8895188864419321,
          0.8895188864419321,
          0.8895188864419321,
          0.8895188864419321,
          0.8895188864419321,
          0.8895188864419321,
          0.8895188864419321,
          0.8895188864419321,
          0.8895188864419321,
          0.8895668934092873,
          0.8895668934092873,
          0.8895668934092873,
          0.8895668934092873,
          0.8895668934092873,
          0.8895668934092873,
          0.8895668934092873,
          0.8895668934092873,
          0.8895668934092873
         ]
        }
       ],
       "layout": {
        "autosize": true,
        "template": {
         "data": {
          "bar": [
           {
            "error_x": {
             "color": "#2a3f5f"
            },
            "error_y": {
             "color": "#2a3f5f"
            },
            "marker": {
             "line": {
              "color": "#E5ECF6",
              "width": 0.5
             },
             "pattern": {
              "fillmode": "overlay",
              "size": 10,
              "solidity": 0.2
             }
            },
            "type": "bar"
           }
          ],
          "barpolar": [
           {
            "marker": {
             "line": {
              "color": "#E5ECF6",
              "width": 0.5
             },
             "pattern": {
              "fillmode": "overlay",
              "size": 10,
              "solidity": 0.2
             }
            },
            "type": "barpolar"
           }
          ],
          "carpet": [
           {
            "aaxis": {
             "endlinecolor": "#2a3f5f",
             "gridcolor": "white",
             "linecolor": "white",
             "minorgridcolor": "white",
             "startlinecolor": "#2a3f5f"
            },
            "baxis": {
             "endlinecolor": "#2a3f5f",
             "gridcolor": "white",
             "linecolor": "white",
             "minorgridcolor": "white",
             "startlinecolor": "#2a3f5f"
            },
            "type": "carpet"
           }
          ],
          "choropleth": [
           {
            "colorbar": {
             "outlinewidth": 0,
             "ticks": ""
            },
            "type": "choropleth"
           }
          ],
          "contour": [
           {
            "colorbar": {
             "outlinewidth": 0,
             "ticks": ""
            },
            "colorscale": [
             [
              0,
              "#0d0887"
             ],
             [
              0.1111111111111111,
              "#46039f"
             ],
             [
              0.2222222222222222,
              "#7201a8"
             ],
             [
              0.3333333333333333,
              "#9c179e"
             ],
             [
              0.4444444444444444,
              "#bd3786"
             ],
             [
              0.5555555555555556,
              "#d8576b"
             ],
             [
              0.6666666666666666,
              "#ed7953"
             ],
             [
              0.7777777777777778,
              "#fb9f3a"
             ],
             [
              0.8888888888888888,
              "#fdca26"
             ],
             [
              1,
              "#f0f921"
             ]
            ],
            "type": "contour"
           }
          ],
          "contourcarpet": [
           {
            "colorbar": {
             "outlinewidth": 0,
             "ticks": ""
            },
            "type": "contourcarpet"
           }
          ],
          "heatmap": [
           {
            "colorbar": {
             "outlinewidth": 0,
             "ticks": ""
            },
            "colorscale": [
             [
              0,
              "#0d0887"
             ],
             [
              0.1111111111111111,
              "#46039f"
             ],
             [
              0.2222222222222222,
              "#7201a8"
             ],
             [
              0.3333333333333333,
              "#9c179e"
             ],
             [
              0.4444444444444444,
              "#bd3786"
             ],
             [
              0.5555555555555556,
              "#d8576b"
             ],
             [
              0.6666666666666666,
              "#ed7953"
             ],
             [
              0.7777777777777778,
              "#fb9f3a"
             ],
             [
              0.8888888888888888,
              "#fdca26"
             ],
             [
              1,
              "#f0f921"
             ]
            ],
            "type": "heatmap"
           }
          ],
          "heatmapgl": [
           {
            "colorbar": {
             "outlinewidth": 0,
             "ticks": ""
            },
            "colorscale": [
             [
              0,
              "#0d0887"
             ],
             [
              0.1111111111111111,
              "#46039f"
             ],
             [
              0.2222222222222222,
              "#7201a8"
             ],
             [
              0.3333333333333333,
              "#9c179e"
             ],
             [
              0.4444444444444444,
              "#bd3786"
             ],
             [
              0.5555555555555556,
              "#d8576b"
             ],
             [
              0.6666666666666666,
              "#ed7953"
             ],
             [
              0.7777777777777778,
              "#fb9f3a"
             ],
             [
              0.8888888888888888,
              "#fdca26"
             ],
             [
              1,
              "#f0f921"
             ]
            ],
            "type": "heatmapgl"
           }
          ],
          "histogram": [
           {
            "marker": {
             "pattern": {
              "fillmode": "overlay",
              "size": 10,
              "solidity": 0.2
             }
            },
            "type": "histogram"
           }
          ],
          "histogram2d": [
           {
            "colorbar": {
             "outlinewidth": 0,
             "ticks": ""
            },
            "colorscale": [
             [
              0,
              "#0d0887"
             ],
             [
              0.1111111111111111,
              "#46039f"
             ],
             [
              0.2222222222222222,
              "#7201a8"
             ],
             [
              0.3333333333333333,
              "#9c179e"
             ],
             [
              0.4444444444444444,
              "#bd3786"
             ],
             [
              0.5555555555555556,
              "#d8576b"
             ],
             [
              0.6666666666666666,
              "#ed7953"
             ],
             [
              0.7777777777777778,
              "#fb9f3a"
             ],
             [
              0.8888888888888888,
              "#fdca26"
             ],
             [
              1,
              "#f0f921"
             ]
            ],
            "type": "histogram2d"
           }
          ],
          "histogram2dcontour": [
           {
            "colorbar": {
             "outlinewidth": 0,
             "ticks": ""
            },
            "colorscale": [
             [
              0,
              "#0d0887"
             ],
             [
              0.1111111111111111,
              "#46039f"
             ],
             [
              0.2222222222222222,
              "#7201a8"
             ],
             [
              0.3333333333333333,
              "#9c179e"
             ],
             [
              0.4444444444444444,
              "#bd3786"
             ],
             [
              0.5555555555555556,
              "#d8576b"
             ],
             [
              0.6666666666666666,
              "#ed7953"
             ],
             [
              0.7777777777777778,
              "#fb9f3a"
             ],
             [
              0.8888888888888888,
              "#fdca26"
             ],
             [
              1,
              "#f0f921"
             ]
            ],
            "type": "histogram2dcontour"
           }
          ],
          "mesh3d": [
           {
            "colorbar": {
             "outlinewidth": 0,
             "ticks": ""
            },
            "type": "mesh3d"
           }
          ],
          "parcoords": [
           {
            "line": {
             "colorbar": {
              "outlinewidth": 0,
              "ticks": ""
             }
            },
            "type": "parcoords"
           }
          ],
          "pie": [
           {
            "automargin": true,
            "type": "pie"
           }
          ],
          "scatter": [
           {
            "fillpattern": {
             "fillmode": "overlay",
             "size": 10,
             "solidity": 0.2
            },
            "type": "scatter"
           }
          ],
          "scatter3d": [
           {
            "line": {
             "colorbar": {
              "outlinewidth": 0,
              "ticks": ""
             }
            },
            "marker": {
             "colorbar": {
              "outlinewidth": 0,
              "ticks": ""
             }
            },
            "type": "scatter3d"
           }
          ],
          "scattercarpet": [
           {
            "marker": {
             "colorbar": {
              "outlinewidth": 0,
              "ticks": ""
             }
            },
            "type": "scattercarpet"
           }
          ],
          "scattergeo": [
           {
            "marker": {
             "colorbar": {
              "outlinewidth": 0,
              "ticks": ""
             }
            },
            "type": "scattergeo"
           }
          ],
          "scattergl": [
           {
            "marker": {
             "colorbar": {
              "outlinewidth": 0,
              "ticks": ""
             }
            },
            "type": "scattergl"
           }
          ],
          "scattermapbox": [
           {
            "marker": {
             "colorbar": {
              "outlinewidth": 0,
              "ticks": ""
             }
            },
            "type": "scattermapbox"
           }
          ],
          "scatterpolar": [
           {
            "marker": {
             "colorbar": {
              "outlinewidth": 0,
              "ticks": ""
             }
            },
            "type": "scatterpolar"
           }
          ],
          "scatterpolargl": [
           {
            "marker": {
             "colorbar": {
              "outlinewidth": 0,
              "ticks": ""
             }
            },
            "type": "scatterpolargl"
           }
          ],
          "scatterternary": [
           {
            "marker": {
             "colorbar": {
              "outlinewidth": 0,
              "ticks": ""
             }
            },
            "type": "scatterternary"
           }
          ],
          "surface": [
           {
            "colorbar": {
             "outlinewidth": 0,
             "ticks": ""
            },
            "colorscale": [
             [
              0,
              "#0d0887"
             ],
             [
              0.1111111111111111,
              "#46039f"
             ],
             [
              0.2222222222222222,
              "#7201a8"
             ],
             [
              0.3333333333333333,
              "#9c179e"
             ],
             [
              0.4444444444444444,
              "#bd3786"
             ],
             [
              0.5555555555555556,
              "#d8576b"
             ],
             [
              0.6666666666666666,
              "#ed7953"
             ],
             [
              0.7777777777777778,
              "#fb9f3a"
             ],
             [
              0.8888888888888888,
              "#fdca26"
             ],
             [
              1,
              "#f0f921"
             ]
            ],
            "type": "surface"
           }
          ],
          "table": [
           {
            "cells": {
             "fill": {
              "color": "#EBF0F8"
             },
             "line": {
              "color": "white"
             }
            },
            "header": {
             "fill": {
              "color": "#C8D4E3"
             },
             "line": {
              "color": "white"
             }
            },
            "type": "table"
           }
          ]
         },
         "layout": {
          "annotationdefaults": {
           "arrowcolor": "#2a3f5f",
           "arrowhead": 0,
           "arrowwidth": 1
          },
          "autotypenumbers": "strict",
          "coloraxis": {
           "colorbar": {
            "outlinewidth": 0,
            "ticks": ""
           }
          },
          "colorscale": {
           "diverging": [
            [
             0,
             "#8e0152"
            ],
            [
             0.1,
             "#c51b7d"
            ],
            [
             0.2,
             "#de77ae"
            ],
            [
             0.3,
             "#f1b6da"
            ],
            [
             0.4,
             "#fde0ef"
            ],
            [
             0.5,
             "#f7f7f7"
            ],
            [
             0.6,
             "#e6f5d0"
            ],
            [
             0.7,
             "#b8e186"
            ],
            [
             0.8,
             "#7fbc41"
            ],
            [
             0.9,
             "#4d9221"
            ],
            [
             1,
             "#276419"
            ]
           ],
           "sequential": [
            [
             0,
             "#0d0887"
            ],
            [
             0.1111111111111111,
             "#46039f"
            ],
            [
             0.2222222222222222,
             "#7201a8"
            ],
            [
             0.3333333333333333,
             "#9c179e"
            ],
            [
             0.4444444444444444,
             "#bd3786"
            ],
            [
             0.5555555555555556,
             "#d8576b"
            ],
            [
             0.6666666666666666,
             "#ed7953"
            ],
            [
             0.7777777777777778,
             "#fb9f3a"
            ],
            [
             0.8888888888888888,
             "#fdca26"
            ],
            [
             1,
             "#f0f921"
            ]
           ],
           "sequentialminus": [
            [
             0,
             "#0d0887"
            ],
            [
             0.1111111111111111,
             "#46039f"
            ],
            [
             0.2222222222222222,
             "#7201a8"
            ],
            [
             0.3333333333333333,
             "#9c179e"
            ],
            [
             0.4444444444444444,
             "#bd3786"
            ],
            [
             0.5555555555555556,
             "#d8576b"
            ],
            [
             0.6666666666666666,
             "#ed7953"
            ],
            [
             0.7777777777777778,
             "#fb9f3a"
            ],
            [
             0.8888888888888888,
             "#fdca26"
            ],
            [
             1,
             "#f0f921"
            ]
           ]
          },
          "colorway": [
           "#636efa",
           "#EF553B",
           "#00cc96",
           "#ab63fa",
           "#FFA15A",
           "#19d3f3",
           "#FF6692",
           "#B6E880",
           "#FF97FF",
           "#FECB52"
          ],
          "font": {
           "color": "#2a3f5f"
          },
          "geo": {
           "bgcolor": "white",
           "lakecolor": "white",
           "landcolor": "#E5ECF6",
           "showlakes": true,
           "showland": true,
           "subunitcolor": "white"
          },
          "hoverlabel": {
           "align": "left"
          },
          "hovermode": "closest",
          "mapbox": {
           "style": "light"
          },
          "paper_bgcolor": "white",
          "plot_bgcolor": "#E5ECF6",
          "polar": {
           "angularaxis": {
            "gridcolor": "white",
            "linecolor": "white",
            "ticks": ""
           },
           "bgcolor": "#E5ECF6",
           "radialaxis": {
            "gridcolor": "white",
            "linecolor": "white",
            "ticks": ""
           }
          },
          "scene": {
           "xaxis": {
            "backgroundcolor": "#E5ECF6",
            "gridcolor": "white",
            "gridwidth": 2,
            "linecolor": "white",
            "showbackground": true,
            "ticks": "",
            "zerolinecolor": "white"
           },
           "yaxis": {
            "backgroundcolor": "#E5ECF6",
            "gridcolor": "white",
            "gridwidth": 2,
            "linecolor": "white",
            "showbackground": true,
            "ticks": "",
            "zerolinecolor": "white"
           },
           "zaxis": {
            "backgroundcolor": "#E5ECF6",
            "gridcolor": "white",
            "gridwidth": 2,
            "linecolor": "white",
            "showbackground": true,
            "ticks": "",
            "zerolinecolor": "white"
           }
          },
          "shapedefaults": {
           "line": {
            "color": "#2a3f5f"
           }
          },
          "ternary": {
           "aaxis": {
            "gridcolor": "white",
            "linecolor": "white",
            "ticks": ""
           },
           "baxis": {
            "gridcolor": "white",
            "linecolor": "white",
            "ticks": ""
           },
           "bgcolor": "#E5ECF6",
           "caxis": {
            "gridcolor": "white",
            "linecolor": "white",
            "ticks": ""
           }
          },
          "title": {
           "x": 0.05
          },
          "xaxis": {
           "automargin": true,
           "gridcolor": "white",
           "linecolor": "white",
           "ticks": "",
           "title": {
            "standoff": 15
           },
           "zerolinecolor": "white",
           "zerolinewidth": 2
          },
          "yaxis": {
           "automargin": true,
           "gridcolor": "white",
           "linecolor": "white",
           "ticks": "",
           "title": {
            "standoff": 15
           },
           "zerolinecolor": "white",
           "zerolinewidth": 2
          }
         }
        },
        "title": {
         "text": "Optimization History Plot"
        },
        "xaxis": {
         "autorange": true,
         "range": [
          0,
          29
         ],
         "title": {
          "text": "Trial"
         },
         "type": "linear"
        },
        "yaxis": {
         "autorange": true,
         "range": [
          -6.635417283450167,
          1.2856186921913637
         ],
         "title": {
          "text": "Objective Value"
         },
         "type": "linear"
        }
       }
      },
      "image/png": "[encoded data removed]",
      "text/html": [
       "<div>                            <div id=\"65580251-a00b-45f5-bddf-66812ce858af\" class=\"plotly-graph-div\" style=\"height:525px; width:100%;\"></div>            <script type=\"text/javascript\">                require([\"plotly\"], function(Plotly) {                    window.PLOTLYENV=window.PLOTLYENV || {};                                    if (document.getElementById(\"65580251-a00b-45f5-bddf-66812ce858af\")) {                    Plotly.newPlot(                        \"65580251-a00b-45f5-bddf-66812ce858af\",                        [{\"mode\":\"markers\",\"name\":\"Objective Value\",\"x\":[0,1,2,3,4,5,6,7,8,9,10,11,12,13,14,15,16,17,18,19,20,21,22,23,24,25,26,27,28,29],\"y\":[-6.23936548466809,0.7723732745769143,0.7641657909162468,0.8872125558259079,0.8404131018517951,-6.480531818769646,0.8657653668524816,0.6449034020057518,0.8166606612958878,0.8325678629479822,0.8874382745143696,0.8895188864419321,0.886473851919629,0.887216419464405,0.6626978982218501,0.8853333917618478,-4.432479445000773,0.8892055912510941,0.8818619217010631,0.8746065614107987,0.8868740718727544,0.8895668934092873,0.8879717802822474,0.8858201508601384,-6.354776696728696,0.8878345473166022,0.8825237826967784,0.8864678076878383,0.7966965078966778,0.8796872236176592],\"type\":\"scatter\"},{\"name\":\"Best Value\",\"x\":[0,1,2,3,4,5,6,7,8,9,10,11,12,13,14,15,16,17,18,19,20,21,22,23,24,25,26,27,28,29],\"y\":[-6.23936548466809,0.7723732745769143,0.7723732745769143,0.8872125558259079,0.8872125558259079,0.8872125558259079,0.8872125558259079,0.8872125558259079,0.8872125558259079,0.8872125558259079,0.8874382745143696,0.8895188864419321,0.8895188864419321,0.8895188864419321,0.8895188864419321,0.8895188864419321,0.8895188864419321,0.8895188864419321,0.8895188864419321,0.8895188864419321,0.8895188864419321,0.8895668934092873,0.8895668934092873,0.8895668934092873,0.8895668934092873,0.8895668934092873,0.8895668934092873,0.8895668934092873,0.8895668934092873,0.8895668934092873],\"type\":\"scatter\"}],                        {\"title\":{\"text\":\"Optimization History Plot\"},\"xaxis\":{\"title\":{\"text\":\"Trial\"}},\"yaxis\":{\"title\":{\"text\":\"Objective Value\"}},\"template\":{\"data\":{\"histogram2dcontour\":[{\"type\":\"histogram2dcontour\",\"colorbar\":{\"outlinewidth\":0,\"ticks\":\"\"},\"colorscale\":[[0.0,\"#0d0887\"],[0.1111111111111111,\"#46039f\"],[0.2222222222222222,\"#7201a8\"],[0.3333333333333333,\"#9c179e\"],[0.4444444444444444,\"#bd3786\"],[0.5555555555555556,\"#d8576b\"],[0.6666666666666666,\"#ed7953\"],[0.7777777777777778,\"#fb9f3a\"],[0.8888888888888888,\"#fdca26\"],[1.0,\"#f0f921\"]]}],\"choropleth\":[{\"type\":\"choropleth\",\"colorbar\":{\"outlinewidth\":0,\"ticks\":\"\"}}],\"histogram2d\":[{\"type\":\"histogram2d\",\"colorbar\":{\"outlinewidth\":0,\"ticks\":\"\"},\"colorscale\":[[0.0,\"#0d0887\"],[0.1111111111111111,\"#46039f\"],[0.2222222222222222,\"#7201a8\"],[0.3333333333333333,\"#9c179e\"],[0.4444444444444444,\"#bd3786\"],[0.5555555555555556,\"#d8576b\"],[0.6666666666666666,\"#ed7953\"],[0.7777777777777778,\"#fb9f3a\"],[0.8888888888888888,\"#fdca26\"],[1.0,\"#f0f921\"]]}],\"heatmap\":[{\"type\":\"heatmap\",\"colorbar\":{\"outlinewidth\":0,\"ticks\":\"\"},\"colorscale\":[[0.0,\"#0d0887\"],[0.1111111111111111,\"#46039f\"],[0.2222222222222222,\"#7201a8\"],[0.3333333333333333,\"#9c179e\"],[0.4444444444444444,\"#bd3786\"],[0.5555555555555556,\"#d8576b\"],[0.6666666666666666,\"#ed7953\"],[0.7777777777777778,\"#fb9f3a\"],[0.8888888888888888,\"#fdca26\"],[1.0,\"#f0f921\"]]}],\"heatmapgl\":[{\"type\":\"heatmapgl\",\"colorbar\":{\"outlinewidth\":0,\"ticks\":\"\"},\"colorscale\":[[0.0,\"#0d0887\"],[0.1111111111111111,\"#46039f\"],[0.2222222222222222,\"#7201a8\"],[0.3333333333333333,\"#9c179e\"],[0.4444444444444444,\"#bd3786\"],[0.5555555555555556,\"#d8576b\"],[0.6666666666666666,\"#ed7953\"],[0.7777777777777778,\"#fb9f3a\"],[0.8888888888888888,\"#fdca26\"],[1.0,\"#f0f921\"]]}],\"contourcarpet\":[{\"type\":\"contourcarpet\",\"colorbar\":{\"outlinewidth\":0,\"ticks\":\"\"}}],\"contour\":[{\"type\":\"contour\",\"colorbar\":{\"outlinewidth\":0,\"ticks\":\"\"},\"colorscale\":[[0.0,\"#0d0887\"],[0.1111111111111111,\"#46039f\"],[0.2222222222222222,\"#7201a8\"],[0.3333333333333333,\"#9c179e\"],[0.4444444444444444,\"#bd3786\"],[0.5555555555555556,\"#d8576b\"],[0.6666666666666666,\"#ed7953\"],[0.7777777777777778,\"#fb9f3a\"],[0.8888888888888888,\"#fdca26\"],[1.0,\"#f0f921\"]]}],\"surface\":[{\"type\":\"surface\",\"colorbar\":{\"outlinewidth\":0,\"ticks\":\"\"},\"colorscale\":[[0.0,\"#0d0887\"],[0.1111111111111111,\"#46039f\"],[0.2222222222222222,\"#7201a8\"],[0.3333333333333333,\"#9c179e\"],[0.4444444444444444,\"#bd3786\"],[0.5555555555555556,\"#d8576b\"],[0.6666666666666666,\"#ed7953\"],[0.7777777777777778,\"#fb9f3a\"],[0.8888888888888888,\"#fdca26\"],[1.0,\"#f0f921\"]]}],\"mesh3d\":[{\"type\":\"mesh3d\",\"colorbar\":{\"outlinewidth\":0,\"ticks\":\"\"}}],\"scatter\":[{\"fillpattern\":{\"fillmode\":\"overlay\",\"size\":10,\"solidity\":0.2},\"type\":\"scatter\"}],\"parcoords\":[{\"type\":\"parcoords\",\"line\":{\"colorbar\":{\"outlinewidth\":0,\"ticks\":\"\"}}}],\"scatterpolargl\":[{\"type\":\"scatterpolargl\",\"marker\":{\"colorbar\":{\"outlinewidth\":0,\"ticks\":\"\"}}}],\"bar\":[{\"error_x\":{\"color\":\"#2a3f5f\"},\"error_y\":{\"color\":\"#2a3f5f\"},\"marker\":{\"line\":{\"color\":\"#E5ECF6\",\"width\":0.5},\"pattern\":{\"fillmode\":\"overlay\",\"size\":10,\"solidity\":0.2}},\"type\":\"bar\"}],\"scattergeo\":[{\"type\":\"scattergeo\",\"marker\":{\"colorbar\":{\"outlinewidth\":0,\"ticks\":\"\"}}}],\"scatterpolar\":[{\"type\":\"scatterpolar\",\"marker\":{\"colorbar\":{\"outlinewidth\":0,\"ticks\":\"\"}}}],\"histogram\":[{\"marker\":{\"pattern\":{\"fillmode\":\"overlay\",\"size\":10,\"solidity\":0.2}},\"type\":\"histogram\"}],\"scattergl\":[{\"type\":\"scattergl\",\"marker\":{\"colorbar\":{\"outlinewidth\":0,\"ticks\":\"\"}}}],\"scatter3d\":[{\"type\":\"scatter3d\",\"line\":{\"colorbar\":{\"outlinewidth\":0,\"ticks\":\"\"}},\"marker\":{\"colorbar\":{\"outlinewidth\":0,\"ticks\":\"\"}}}],\"scattermapbox\":[{\"type\":\"scattermapbox\",\"marker\":{\"colorbar\":{\"outlinewidth\":0,\"ticks\":\"\"}}}],\"scatterternary\":[{\"type\":\"scatterternary\",\"marker\":{\"colorbar\":{\"outlinewidth\":0,\"ticks\":\"\"}}}],\"scattercarpet\":[{\"type\":\"scattercarpet\",\"marker\":{\"colorbar\":{\"outlinewidth\":0,\"ticks\":\"\"}}}],\"carpet\":[{\"aaxis\":{\"endlinecolor\":\"#2a3f5f\",\"gridcolor\":\"white\",\"linecolor\":\"white\",\"minorgridcolor\":\"white\",\"startlinecolor\":\"#2a3f5f\"},\"baxis\":{\"endlinecolor\":\"#2a3f5f\",\"gridcolor\":\"white\",\"linecolor\":\"white\",\"minorgridcolor\":\"white\",\"startlinecolor\":\"#2a3f5f\"},\"type\":\"carpet\"}],\"table\":[{\"cells\":{\"fill\":{\"color\":\"#EBF0F8\"},\"line\":{\"color\":\"white\"}},\"header\":{\"fill\":{\"color\":\"#C8D4E3\"},\"line\":{\"color\":\"white\"}},\"type\":\"table\"}],\"barpolar\":[{\"marker\":{\"line\":{\"color\":\"#E5ECF6\",\"width\":0.5},\"pattern\":{\"fillmode\":\"overlay\",\"size\":10,\"solidity\":0.2}},\"type\":\"barpolar\"}],\"pie\":[{\"automargin\":true,\"type\":\"pie\"}]},\"layout\":{\"autotypenumbers\":\"strict\",\"colorway\":[\"#636efa\",\"#EF553B\",\"#00cc96\",\"#ab63fa\",\"#FFA15A\",\"#19d3f3\",\"#FF6692\",\"#B6E880\",\"#FF97FF\",\"#FECB52\"],\"font\":{\"color\":\"#2a3f5f\"},\"hovermode\":\"closest\",\"hoverlabel\":{\"align\":\"left\"},\"paper_bgcolor\":\"white\",\"plot_bgcolor\":\"#E5ECF6\",\"polar\":{\"bgcolor\":\"#E5ECF6\",\"angularaxis\":{\"gridcolor\":\"white\",\"linecolor\":\"white\",\"ticks\":\"\"},\"radialaxis\":{\"gridcolor\":\"white\",\"linecolor\":\"white\",\"ticks\":\"\"}},\"ternary\":{\"bgcolor\":\"#E5ECF6\",\"aaxis\":{\"gridcolor\":\"white\",\"linecolor\":\"white\",\"ticks\":\"\"},\"baxis\":{\"gridcolor\":\"white\",\"linecolor\":\"white\",\"ticks\":\"\"},\"caxis\":{\"gridcolor\":\"white\",\"linecolor\":\"white\",\"ticks\":\"\"}},\"coloraxis\":{\"colorbar\":{\"outlinewidth\":0,\"ticks\":\"\"}},\"colorscale\":{\"sequential\":[[0.0,\"#0d0887\"],[0.1111111111111111,\"#46039f\"],[0.2222222222222222,\"#7201a8\"],[0.3333333333333333,\"#9c179e\"],[0.4444444444444444,\"#bd3786\"],[0.5555555555555556,\"#d8576b\"],[0.6666666666666666,\"#ed7953\"],[0.7777777777777778,\"#fb9f3a\"],[0.8888888888888888,\"#fdca26\"],[1.0,\"#f0f921\"]],\"sequentialminus\":[[0.0,\"#0d0887\"],[0.1111111111111111,\"#46039f\"],[0.2222222222222222,\"#7201a8\"],[0.3333333333333333,\"#9c179e\"],[0.4444444444444444,\"#bd3786\"],[0.5555555555555556,\"#d8576b\"],[0.6666666666666666,\"#ed7953\"],[0.7777777777777778,\"#fb9f3a\"],[0.8888888888888888,\"#fdca26\"],[1.0,\"#f0f921\"]],\"diverging\":[[0,\"#8e0152\"],[0.1,\"#c51b7d\"],[0.2,\"#de77ae\"],[0.3,\"#f1b6da\"],[0.4,\"#fde0ef\"],[0.5,\"#f7f7f7\"],[0.6,\"#e6f5d0\"],[0.7,\"#b8e186\"],[0.8,\"#7fbc41\"],[0.9,\"#4d9221\"],[1,\"#276419\"]]},\"xaxis\":{\"gridcolor\":\"white\",\"linecolor\":\"white\",\"ticks\":\"\",\"title\":{\"standoff\":15},\"zerolinecolor\":\"white\",\"automargin\":true,\"zerolinewidth\":2},\"yaxis\":{\"gridcolor\":\"white\",\"linecolor\":\"white\",\"ticks\":\"\",\"title\":{\"standoff\":15},\"zerolinecolor\":\"white\",\"automargin\":true,\"zerolinewidth\":2},\"scene\":{\"xaxis\":{\"backgroundcolor\":\"#E5ECF6\",\"gridcolor\":\"white\",\"linecolor\":\"white\",\"showbackground\":true,\"ticks\":\"\",\"zerolinecolor\":\"white\",\"gridwidth\":2},\"yaxis\":{\"backgroundcolor\":\"#E5ECF6\",\"gridcolor\":\"white\",\"linecolor\":\"white\",\"showbackground\":true,\"ticks\":\"\",\"zerolinecolor\":\"white\",\"gridwidth\":2},\"zaxis\":{\"backgroundcolor\":\"#E5ECF6\",\"gridcolor\":\"white\",\"linecolor\":\"white\",\"showbackground\":true,\"ticks\":\"\",\"zerolinecolor\":\"white\",\"gridwidth\":2}},\"shapedefaults\":{\"line\":{\"color\":\"#2a3f5f\"}},\"annotationdefaults\":{\"arrowcolor\":\"#2a3f5f\",\"arrowhead\":0,\"arrowwidth\":1},\"geo\":{\"bgcolor\":\"white\",\"landcolor\":\"#E5ECF6\",\"subunitcolor\":\"white\",\"showland\":true,\"showlakes\":true,\"lakecolor\":\"white\"},\"title\":{\"x\":0.05},\"mapbox\":{\"style\":\"light\"}}}},                        {\"responsive\": true}                    ).then(function(){\n",
       "                            \n",
       "var gd = document.getElementById('65580251-a00b-45f5-bddf-66812ce858af');\n",
       "var x = new MutationObserver(function (mutations, observer) {{\n",
       "        var display = window.getComputedStyle(gd).display;\n",
       "        if (!display || display === 'none') {{\n",
       "            console.log([gd, 'removed!']);\n",
       "            Plotly.purge(gd);\n",
       "            observer.disconnect();\n",
       "        }}\n",
       "}});\n",
       "\n",
       "// Listen for the removal of the full notebook cells\n",
       "var notebookContainer = gd.closest('#notebook-container');\n",
       "if (notebookContainer) {{\n",
       "    x.observe(notebookContainer, {childList: true});\n",
       "}}\n",
       "\n",
       "// Listen for the clearing of the current output cell\n",
       "var outputEl = gd.closest('.output');\n",
       "if (outputEl) {{\n",
       "    x.observe(outputEl, {childList: true});\n",
       "}}\n",
       "\n",
       "                        })                };                });            </script>        </div>"
      ]
     },
     "metadata": {},
     "output_type": "display_data"
    }
   ],
   "source": [
    "plot_optimization_history(study)"
   ]
  },
  {
   "cell_type": "code",
   "execution_count": 53,
   "id": "0b1fd032-2e5c-4897-81b4-aba21b7a83f0",
   "metadata": {
    "tags": []
   },
   "outputs": [
    {
     "data": {
      "application/vnd.plotly.v1+json": {
       "config": {
        "plotlyServerURL": "https://plot.ly"
       },
       "data": [
        {
         "dimensions": [
          {
           "label": "Objective Value",
           "range": [
            -6.480531818769646,
            0.8895668934092873
           ],
           "values": [
            -6.23936548466809,
            0.7723732745769143,
            0.7641657909162468,
            0.8872125558259079,
            0.8404131018517951,
            -6.480531818769646,
            0.8657653668524816,
            0.6449034020057518,
            0.8166606612958878,
            0.8325678629479822,
            0.8874382745143696,
            0.8895188864419321,
            0.886473851919629,
            0.887216419464405,
            0.6626978982218501,
            0.8853333917618478,
            -4.432479445000773,
            0.8892055912510941,
            0.8818619217010631,
            0.8746065614107987,
            0.8868740718727544,
            0.8895668934092873,
            0.8879717802822474,
            0.8858201508601384,
            -6.354776696728696,
            0.8878345473166022,
            0.8825237826967784,
            0.8864678076878383,
            0.7966965078966778,
            0.8796872236176592
           ]
          },
          {
           "label": "boosting_type",
           "range": [
            0,
            2
           ],
           "ticktext": [
            "dart",
            "goss",
            "gbdt"
           ],
           "tickvals": [
            0,
            1,
            2
           ],
           "values": [
            0,
            1,
            2,
            0,
            1,
            0,
            2,
            2,
            1,
            1,
            0,
            0,
            0,
            0,
            0,
            0,
            0,
            0,
            0,
            2,
            0,
            0,
            0,
            0,
            0,
            0,
            0,
            0,
            1,
            2
           ]
          },
          {
           "label": "learning_rate",
           "range": [
            0.01830470146425714,
            0.4950837351493692
           ],
           "values": [
            0.2982859273116631,
            0.48593364380025067,
            0.1208486331595697,
            0.40415769921471595,
            0.1976841168348662,
            0.18904767821318408,
            0.21909549648549922,
            0.339530793082379,
            0.45239864640087163,
            0.2449193736756152,
            0.3868327373193552,
            0.37738247895276167,
            0.35573271978753124,
            0.38860953448249824,
            0.01830470146425714,
            0.43301836577822717,
            0.28997064981659715,
            0.49089269885731424,
            0.4950837351493692,
            0.4382731082543777,
            0.3149368555608864,
            0.3899774853709844,
            0.4635136987868013,
            0.3613022615830269,
            0.4410754790102777,
            0.408440085968774,
            0.49189555501123167,
            0.26355285635414205,
            0.34514396056884095,
            0.1319654053198428
           ]
          },
          {
           "label": "n_estimators",
           "range": [
            311,
            500
           ],
           "values": [
            403,
            326,
            403,
            395,
            431,
            486,
            365,
            358,
            311,
            398,
            468,
            500,
            488,
            455,
            461,
            497,
            461,
            437,
            432,
            431,
            444,
            474,
            476,
            499,
            444,
            477,
            418,
            480,
            451,
            417
           ]
          },
          {
           "label": "reg_alpha",
           "range": [
            -2.984336738022265,
            2.4589040355747613
           ],
           "ticktext": [
            "0.00104",
            "0.01",
            "0.1",
            "1",
            "10",
            "100",
            "288"
           ],
           "tickvals": [
            -2.984336738022265,
            -2,
            -1,
            0,
            1,
            2,
            2.4589040355747613
           ],
           "values": [
            2.3416387570461015,
            2.185074165974143,
            2.052019313519548,
            0.2089715041797954,
            -0.2360499345172193,
            0.7078610074443115,
            -1.2900325019111596,
            2.4589040355747613,
            1.1588497681231296,
            -0.4061766815005325,
            -2.6366124406220215,
            -2.984336738022265,
            -2.8007180576113013,
            -2.764654963546711,
            -1.778098802432671,
            -1.9509584446504087,
            -1.048528233067718,
            -2.298446801952212,
            -2.092443453797965,
            -1.4683822971511018,
            -0.7380519086415881,
            -2.4288240835384904,
            -2.2782581023064377,
            -2.3820855058879875,
            -2.9584372222329764,
            -1.8335073820072025,
            -2.978725196292232,
            -1.5154226070801675,
            -2.4280561421390576,
            -0.9050190153269423
           ]
          },
          {
           "label": "reg_lambda",
           "range": [
            -2.985305617989367,
            2.5515237514684466
           ],
           "ticktext": [
            "0.00103",
            "0.01",
            "0.1",
            "1",
            "10",
            "100",
            "356"
           ],
           "tickvals": [
            -2.985305617989367,
            -2,
            -1,
            0,
            1,
            2,
            2.5515237514684466
           ],
           "values": [
            -2.3335333359509924,
            2.2638788911878738,
            2.250684166640796,
            -1.3645493700541182,
            -1.9452572646619337,
            1.0185180701772092,
            2.1639523385599797,
            2.5515237514684466,
            -0.06474421875483381,
            -2.729518433848656,
            -1.0095272558279864,
            -1.0053598473955385,
            -0.8023899709767841,
            -0.4260762112021235,
            0.5418259131364871,
            -1.5337113310845694,
            0.8664962730464835,
            -1.0066102375334205,
            -2.985305617989367,
            0.22006855512455312,
            -1.9422699232631226,
            -0.44458655037070743,
            -0.5910914115979342,
            -1.2439463332167462,
            1.4117373205267025,
            -0.13445095587079456,
            -1.8389954743228074,
            -0.4870929992426107,
            -0.9644958613132774,
            -2.4850595132563904
           ]
          }
         ],
         "labelangle": 30,
         "labelside": "bottom",
         "line": {
          "color": [
           -6.23936548466809,
           0.7723732745769143,
           0.7641657909162468,
           0.8872125558259079,
           0.8404131018517951,
           -6.480531818769646,
           0.8657653668524816,
           0.6449034020057518,
           0.8166606612958878,
           0.8325678629479822,
           0.8874382745143696,
           0.8895188864419321,
           0.886473851919629,
           0.887216419464405,
           0.6626978982218501,
           0.8853333917618478,
           -4.432479445000773,
           0.8892055912510941,
           0.8818619217010631,
           0.8746065614107987,
           0.8868740718727544,
           0.8895668934092873,
           0.8879717802822474,
           0.8858201508601384,
           -6.354776696728696,
           0.8878345473166022,
           0.8825237826967784,
           0.8864678076878383,
           0.7966965078966778,
           0.8796872236176592
          ],
          "colorbar": {
           "title": {
            "text": "Objective Value"
           }
          },
          "colorscale": [
           [
            0,
            "rgb(247,251,255)"
           ],
           [
            0.125,
            "rgb(222,235,247)"
           ],
           [
            0.25,
            "rgb(198,219,239)"
           ],
           [
            0.375,
            "rgb(158,202,225)"
           ],
           [
            0.5,
            "rgb(107,174,214)"
           ],
           [
            0.625,
            "rgb(66,146,198)"
           ],
           [
            0.75,
            "rgb(33,113,181)"
           ],
           [
            0.875,
            "rgb(8,81,156)"
           ],
           [
            1,
            "rgb(8,48,107)"
           ]
          ],
          "reversescale": false,
          "showscale": true
         },
         "type": "parcoords"
        }
       ],
       "layout": {
        "autosize": true,
        "template": {
         "data": {
          "bar": [
           {
            "error_x": {
             "color": "#2a3f5f"
            },
            "error_y": {
             "color": "#2a3f5f"
            },
            "marker": {
             "line": {
              "color": "#E5ECF6",
              "width": 0.5
             },
             "pattern": {
              "fillmode": "overlay",
              "size": 10,
              "solidity": 0.2
             }
            },
            "type": "bar"
           }
          ],
          "barpolar": [
           {
            "marker": {
             "line": {
              "color": "#E5ECF6",
              "width": 0.5
             },
             "pattern": {
              "fillmode": "overlay",
              "size": 10,
              "solidity": 0.2
             }
            },
            "type": "barpolar"
           }
          ],
          "carpet": [
           {
            "aaxis": {
             "endlinecolor": "#2a3f5f",
             "gridcolor": "white",
             "linecolor": "white",
             "minorgridcolor": "white",
             "startlinecolor": "#2a3f5f"
            },
            "baxis": {
             "endlinecolor": "#2a3f5f",
             "gridcolor": "white",
             "linecolor": "white",
             "minorgridcolor": "white",
             "startlinecolor": "#2a3f5f"
            },
            "type": "carpet"
           }
          ],
          "choropleth": [
           {
            "colorbar": {
             "outlinewidth": 0,
             "ticks": ""
            },
            "type": "choropleth"
           }
          ],
          "contour": [
           {
            "colorbar": {
             "outlinewidth": 0,
             "ticks": ""
            },
            "colorscale": [
             [
              0,
              "#0d0887"
             ],
             [
              0.1111111111111111,
              "#46039f"
             ],
             [
              0.2222222222222222,
              "#7201a8"
             ],
             [
              0.3333333333333333,
              "#9c179e"
             ],
             [
              0.4444444444444444,
              "#bd3786"
             ],
             [
              0.5555555555555556,
              "#d8576b"
             ],
             [
              0.6666666666666666,
              "#ed7953"
             ],
             [
              0.7777777777777778,
              "#fb9f3a"
             ],
             [
              0.8888888888888888,
              "#fdca26"
             ],
             [
              1,
              "#f0f921"
             ]
            ],
            "type": "contour"
           }
          ],
          "contourcarpet": [
           {
            "colorbar": {
             "outlinewidth": 0,
             "ticks": ""
            },
            "type": "contourcarpet"
           }
          ],
          "heatmap": [
           {
            "colorbar": {
             "outlinewidth": 0,
             "ticks": ""
            },
            "colorscale": [
             [
              0,
              "#0d0887"
             ],
             [
              0.1111111111111111,
              "#46039f"
             ],
             [
              0.2222222222222222,
              "#7201a8"
             ],
             [
              0.3333333333333333,
              "#9c179e"
             ],
             [
              0.4444444444444444,
              "#bd3786"
             ],
             [
              0.5555555555555556,
              "#d8576b"
             ],
             [
              0.6666666666666666,
              "#ed7953"
             ],
             [
              0.7777777777777778,
              "#fb9f3a"
             ],
             [
              0.8888888888888888,
              "#fdca26"
             ],
             [
              1,
              "#f0f921"
             ]
            ],
            "type": "heatmap"
           }
          ],
          "heatmapgl": [
           {
            "colorbar": {
             "outlinewidth": 0,
             "ticks": ""
            },
            "colorscale": [
             [
              0,
              "#0d0887"
             ],
             [
              0.1111111111111111,
              "#46039f"
             ],
             [
              0.2222222222222222,
              "#7201a8"
             ],
             [
              0.3333333333333333,
              "#9c179e"
             ],
             [
              0.4444444444444444,
              "#bd3786"
             ],
             [
              0.5555555555555556,
              "#d8576b"
             ],
             [
              0.6666666666666666,
              "#ed7953"
             ],
             [
              0.7777777777777778,
              "#fb9f3a"
             ],
             [
              0.8888888888888888,
              "#fdca26"
             ],
             [
              1,
              "#f0f921"
             ]
            ],
            "type": "heatmapgl"
           }
          ],
          "histogram": [
           {
            "marker": {
             "pattern": {
              "fillmode": "overlay",
              "size": 10,
              "solidity": 0.2
             }
            },
            "type": "histogram"
           }
          ],
          "histogram2d": [
           {
            "colorbar": {
             "outlinewidth": 0,
             "ticks": ""
            },
            "colorscale": [
             [
              0,
              "#0d0887"
             ],
             [
              0.1111111111111111,
              "#46039f"
             ],
             [
              0.2222222222222222,
              "#7201a8"
             ],
             [
              0.3333333333333333,
              "#9c179e"
             ],
             [
              0.4444444444444444,
              "#bd3786"
             ],
             [
              0.5555555555555556,
              "#d8576b"
             ],
             [
              0.6666666666666666,
              "#ed7953"
             ],
             [
              0.7777777777777778,
              "#fb9f3a"
             ],
             [
              0.8888888888888888,
              "#fdca26"
             ],
             [
              1,
              "#f0f921"
             ]
            ],
            "type": "histogram2d"
           }
          ],
          "histogram2dcontour": [
           {
            "colorbar": {
             "outlinewidth": 0,
             "ticks": ""
            },
            "colorscale": [
             [
              0,
              "#0d0887"
             ],
             [
              0.1111111111111111,
              "#46039f"
             ],
             [
              0.2222222222222222,
              "#7201a8"
             ],
             [
              0.3333333333333333,
              "#9c179e"
             ],
             [
              0.4444444444444444,
              "#bd3786"
             ],
             [
              0.5555555555555556,
              "#d8576b"
             ],
             [
              0.6666666666666666,
              "#ed7953"
             ],
             [
              0.7777777777777778,
              "#fb9f3a"
             ],
             [
              0.8888888888888888,
              "#fdca26"
             ],
             [
              1,
              "#f0f921"
             ]
            ],
            "type": "histogram2dcontour"
           }
          ],
          "mesh3d": [
           {
            "colorbar": {
             "outlinewidth": 0,
             "ticks": ""
            },
            "type": "mesh3d"
           }
          ],
          "parcoords": [
           {
            "line": {
             "colorbar": {
              "outlinewidth": 0,
              "ticks": ""
             }
            },
            "type": "parcoords"
           }
          ],
          "pie": [
           {
            "automargin": true,
            "type": "pie"
           }
          ],
          "scatter": [
           {
            "fillpattern": {
             "fillmode": "overlay",
             "size": 10,
             "solidity": 0.2
            },
            "type": "scatter"
           }
          ],
          "scatter3d": [
           {
            "line": {
             "colorbar": {
              "outlinewidth": 0,
              "ticks": ""
             }
            },
            "marker": {
             "colorbar": {
              "outlinewidth": 0,
              "ticks": ""
             }
            },
            "type": "scatter3d"
           }
          ],
          "scattercarpet": [
           {
            "marker": {
             "colorbar": {
              "outlinewidth": 0,
              "ticks": ""
             }
            },
            "type": "scattercarpet"
           }
          ],
          "scattergeo": [
           {
            "marker": {
             "colorbar": {
              "outlinewidth": 0,
              "ticks": ""
             }
            },
            "type": "scattergeo"
           }
          ],
          "scattergl": [
           {
            "marker": {
             "colorbar": {
              "outlinewidth": 0,
              "ticks": ""
             }
            },
            "type": "scattergl"
           }
          ],
          "scattermapbox": [
           {
            "marker": {
             "colorbar": {
              "outlinewidth": 0,
              "ticks": ""
             }
            },
            "type": "scattermapbox"
           }
          ],
          "scatterpolar": [
           {
            "marker": {
             "colorbar": {
              "outlinewidth": 0,
              "ticks": ""
             }
            },
            "type": "scatterpolar"
           }
          ],
          "scatterpolargl": [
           {
            "marker": {
             "colorbar": {
              "outlinewidth": 0,
              "ticks": ""
             }
            },
            "type": "scatterpolargl"
           }
          ],
          "scatterternary": [
           {
            "marker": {
             "colorbar": {
              "outlinewidth": 0,
              "ticks": ""
             }
            },
            "type": "scatterternary"
           }
          ],
          "surface": [
           {
            "colorbar": {
             "outlinewidth": 0,
             "ticks": ""
            },
            "colorscale": [
             [
              0,
              "#0d0887"
             ],
             [
              0.1111111111111111,
              "#46039f"
             ],
             [
              0.2222222222222222,
              "#7201a8"
             ],
             [
              0.3333333333333333,
              "#9c179e"
             ],
             [
              0.4444444444444444,
              "#bd3786"
             ],
             [
              0.5555555555555556,
              "#d8576b"
             ],
             [
              0.6666666666666666,
              "#ed7953"
             ],
             [
              0.7777777777777778,
              "#fb9f3a"
             ],
             [
              0.8888888888888888,
              "#fdca26"
             ],
             [
              1,
              "#f0f921"
             ]
            ],
            "type": "surface"
           }
          ],
          "table": [
           {
            "cells": {
             "fill": {
              "color": "#EBF0F8"
             },
             "line": {
              "color": "white"
             }
            },
            "header": {
             "fill": {
              "color": "#C8D4E3"
             },
             "line": {
              "color": "white"
             }
            },
            "type": "table"
           }
          ]
         },
         "layout": {
          "annotationdefaults": {
           "arrowcolor": "#2a3f5f",
           "arrowhead": 0,
           "arrowwidth": 1
          },
          "autotypenumbers": "strict",
          "coloraxis": {
           "colorbar": {
            "outlinewidth": 0,
            "ticks": ""
           }
          },
          "colorscale": {
           "diverging": [
            [
             0,
             "#8e0152"
            ],
            [
             0.1,
             "#c51b7d"
            ],
            [
             0.2,
             "#de77ae"
            ],
            [
             0.3,
             "#f1b6da"
            ],
            [
             0.4,
             "#fde0ef"
            ],
            [
             0.5,
             "#f7f7f7"
            ],
            [
             0.6,
             "#e6f5d0"
            ],
            [
             0.7,
             "#b8e186"
            ],
            [
             0.8,
             "#7fbc41"
            ],
            [
             0.9,
             "#4d9221"
            ],
            [
             1,
             "#276419"
            ]
           ],
           "sequential": [
            [
             0,
             "#0d0887"
            ],
            [
             0.1111111111111111,
             "#46039f"
            ],
            [
             0.2222222222222222,
             "#7201a8"
            ],
            [
             0.3333333333333333,
             "#9c179e"
            ],
            [
             0.4444444444444444,
             "#bd3786"
            ],
            [
             0.5555555555555556,
             "#d8576b"
            ],
            [
             0.6666666666666666,
             "#ed7953"
            ],
            [
             0.7777777777777778,
             "#fb9f3a"
            ],
            [
             0.8888888888888888,
             "#fdca26"
            ],
            [
             1,
             "#f0f921"
            ]
           ],
           "sequentialminus": [
            [
             0,
             "#0d0887"
            ],
            [
             0.1111111111111111,
             "#46039f"
            ],
            [
             0.2222222222222222,
             "#7201a8"
            ],
            [
             0.3333333333333333,
             "#9c179e"
            ],
            [
             0.4444444444444444,
             "#bd3786"
            ],
            [
             0.5555555555555556,
             "#d8576b"
            ],
            [
             0.6666666666666666,
             "#ed7953"
            ],
            [
             0.7777777777777778,
             "#fb9f3a"
            ],
            [
             0.8888888888888888,
             "#fdca26"
            ],
            [
             1,
             "#f0f921"
            ]
           ]
          },
          "colorway": [
           "#636efa",
           "#EF553B",
           "#00cc96",
           "#ab63fa",
           "#FFA15A",
           "#19d3f3",
           "#FF6692",
           "#B6E880",
           "#FF97FF",
           "#FECB52"
          ],
          "font": {
           "color": "#2a3f5f"
          },
          "geo": {
           "bgcolor": "white",
           "lakecolor": "white",
           "landcolor": "#E5ECF6",
           "showlakes": true,
           "showland": true,
           "subunitcolor": "white"
          },
          "hoverlabel": {
           "align": "left"
          },
          "hovermode": "closest",
          "mapbox": {
           "style": "light"
          },
          "paper_bgcolor": "white",
          "plot_bgcolor": "#E5ECF6",
          "polar": {
           "angularaxis": {
            "gridcolor": "white",
            "linecolor": "white",
            "ticks": ""
           },
           "bgcolor": "#E5ECF6",
           "radialaxis": {
            "gridcolor": "white",
            "linecolor": "white",
            "ticks": ""
           }
          },
          "scene": {
           "xaxis": {
            "backgroundcolor": "#E5ECF6",
            "gridcolor": "white",
            "gridwidth": 2,
            "linecolor": "white",
            "showbackground": true,
            "ticks": "",
            "zerolinecolor": "white"
           },
           "yaxis": {
            "backgroundcolor": "#E5ECF6",
            "gridcolor": "white",
            "gridwidth": 2,
            "linecolor": "white",
            "showbackground": true,
            "ticks": "",
            "zerolinecolor": "white"
           },
           "zaxis": {
            "backgroundcolor": "#E5ECF6",
            "gridcolor": "white",
            "gridwidth": 2,
            "linecolor": "white",
            "showbackground": true,
            "ticks": "",
            "zerolinecolor": "white"
           }
          },
          "shapedefaults": {
           "line": {
            "color": "#2a3f5f"
           }
          },
          "ternary": {
           "aaxis": {
            "gridcolor": "white",
            "linecolor": "white",
            "ticks": ""
           },
           "baxis": {
            "gridcolor": "white",
            "linecolor": "white",
            "ticks": ""
           },
           "bgcolor": "#E5ECF6",
           "caxis": {
            "gridcolor": "white",
            "linecolor": "white",
            "ticks": ""
           }
          },
          "title": {
           "x": 0.05
          },
          "xaxis": {
           "automargin": true,
           "gridcolor": "white",
           "linecolor": "white",
           "ticks": "",
           "title": {
            "standoff": 15
           },
           "zerolinecolor": "white",
           "zerolinewidth": 2
          },
          "yaxis": {
           "automargin": true,
           "gridcolor": "white",
           "linecolor": "white",
           "ticks": "",
           "title": {
            "standoff": 15
           },
           "zerolinecolor": "white",
           "zerolinewidth": 2
          }
         }
        },
        "title": {
         "text": "Parallel Coordinate Plot"
        }
       }
      },
      "image/png": "[encoded data removed]",
      "text/html": [
       "<div>                            <div id=\"75891559-b404-4c34-b103-addbeba1fa78\" class=\"plotly-graph-div\" style=\"height:525px; width:100%;\"></div>            <script type=\"text/javascript\">                require([\"plotly\"], function(Plotly) {                    window.PLOTLYENV=window.PLOTLYENV || {};                                    if (document.getElementById(\"75891559-b404-4c34-b103-addbeba1fa78\")) {                    Plotly.newPlot(                        \"75891559-b404-4c34-b103-addbeba1fa78\",                        [{\"dimensions\":[{\"label\":\"Objective Value\",\"range\":[-6.480531818769646,0.8895668934092873],\"values\":[-6.23936548466809,0.7723732745769143,0.7641657909162468,0.8872125558259079,0.8404131018517951,-6.480531818769646,0.8657653668524816,0.6449034020057518,0.8166606612958878,0.8325678629479822,0.8874382745143696,0.8895188864419321,0.886473851919629,0.887216419464405,0.6626978982218501,0.8853333917618478,-4.432479445000773,0.8892055912510941,0.8818619217010631,0.8746065614107987,0.8868740718727544,0.8895668934092873,0.8879717802822474,0.8858201508601384,-6.354776696728696,0.8878345473166022,0.8825237826967784,0.8864678076878383,0.7966965078966778,0.8796872236176592]},{\"label\":\"boosting_type\",\"range\":[0,2],\"ticktext\":[\"dart\",\"goss\",\"gbdt\"],\"tickvals\":[0,1,2],\"values\":[0,1,2,0,1,0,2,2,1,1,0,0,0,0,0,0,0,0,0,2,0,0,0,0,0,0,0,0,1,2]},{\"label\":\"learning_rate\",\"range\":[0.01830470146425714,0.4950837351493692],\"values\":[0.2982859273116631,0.48593364380025067,0.1208486331595697,0.40415769921471595,0.1976841168348662,0.18904767821318408,0.21909549648549922,0.339530793082379,0.45239864640087163,0.2449193736756152,0.3868327373193552,0.37738247895276167,0.35573271978753124,0.38860953448249824,0.01830470146425714,0.43301836577822717,0.28997064981659715,0.49089269885731424,0.4950837351493692,0.4382731082543777,0.3149368555608864,0.3899774853709844,0.4635136987868013,0.3613022615830269,0.4410754790102777,0.408440085968774,0.49189555501123167,0.26355285635414205,0.34514396056884095,0.1319654053198428]},{\"label\":\"n_estimators\",\"range\":[311,500],\"values\":[403,326,403,395,431,486,365,358,311,398,468,500,488,455,461,497,461,437,432,431,444,474,476,499,444,477,418,480,451,417]},{\"label\":\"reg_alpha\",\"range\":[-2.984336738022265,2.4589040355747613],\"ticktext\":[\"0.00104\",\"0.01\",\"0.1\",\"1\",\"10\",\"100\",\"288\"],\"tickvals\":[-2.984336738022265,-2,-1,0,1,2,2.4589040355747613],\"values\":[2.3416387570461015,2.185074165974143,2.052019313519548,0.2089715041797954,-0.2360499345172193,0.7078610074443115,-1.2900325019111596,2.4589040355747613,1.1588497681231296,-0.4061766815005325,-2.6366124406220215,-2.984336738022265,-2.8007180576113013,-2.764654963546711,-1.778098802432671,-1.9509584446504087,-1.048528233067718,-2.298446801952212,-2.092443453797965,-1.4683822971511018,-0.7380519086415881,-2.4288240835384904,-2.2782581023064377,-2.3820855058879875,-2.9584372222329764,-1.8335073820072025,-2.978725196292232,-1.5154226070801675,-2.4280561421390576,-0.9050190153269423]},{\"label\":\"reg_lambda\",\"range\":[-2.985305617989367,2.5515237514684466],\"ticktext\":[\"0.00103\",\"0.01\",\"0.1\",\"1\",\"10\",\"100\",\"356\"],\"tickvals\":[-2.985305617989367,-2,-1,0,1,2,2.5515237514684466],\"values\":[-2.3335333359509924,2.2638788911878738,2.250684166640796,-1.3645493700541182,-1.9452572646619337,1.0185180701772092,2.1639523385599797,2.5515237514684466,-0.06474421875483381,-2.729518433848656,-1.0095272558279864,-1.0053598473955385,-0.8023899709767841,-0.4260762112021235,0.5418259131364871,-1.5337113310845694,0.8664962730464835,-1.0066102375334205,-2.985305617989367,0.22006855512455312,-1.9422699232631226,-0.44458655037070743,-0.5910914115979342,-1.2439463332167462,1.4117373205267025,-0.13445095587079456,-1.8389954743228074,-0.4870929992426107,-0.9644958613132774,-2.4850595132563904]}],\"labelangle\":30,\"labelside\":\"bottom\",\"line\":{\"color\":[-6.23936548466809,0.7723732745769143,0.7641657909162468,0.8872125558259079,0.8404131018517951,-6.480531818769646,0.8657653668524816,0.6449034020057518,0.8166606612958878,0.8325678629479822,0.8874382745143696,0.8895188864419321,0.886473851919629,0.887216419464405,0.6626978982218501,0.8853333917618478,-4.432479445000773,0.8892055912510941,0.8818619217010631,0.8746065614107987,0.8868740718727544,0.8895668934092873,0.8879717802822474,0.8858201508601384,-6.354776696728696,0.8878345473166022,0.8825237826967784,0.8864678076878383,0.7966965078966778,0.8796872236176592],\"colorbar\":{\"title\":{\"text\":\"Objective Value\"}},\"colorscale\":[[0.0,\"rgb(247,251,255)\"],[0.125,\"rgb(222,235,247)\"],[0.25,\"rgb(198,219,239)\"],[0.375,\"rgb(158,202,225)\"],[0.5,\"rgb(107,174,214)\"],[0.625,\"rgb(66,146,198)\"],[0.75,\"rgb(33,113,181)\"],[0.875,\"rgb(8,81,156)\"],[1.0,\"rgb(8,48,107)\"]],\"reversescale\":false,\"showscale\":true},\"type\":\"parcoords\"}],                        {\"title\":{\"text\":\"Parallel Coordinate Plot\"},\"template\":{\"data\":{\"histogram2dcontour\":[{\"type\":\"histogram2dcontour\",\"colorbar\":{\"outlinewidth\":0,\"ticks\":\"\"},\"colorscale\":[[0.0,\"#0d0887\"],[0.1111111111111111,\"#46039f\"],[0.2222222222222222,\"#7201a8\"],[0.3333333333333333,\"#9c179e\"],[0.4444444444444444,\"#bd3786\"],[0.5555555555555556,\"#d8576b\"],[0.6666666666666666,\"#ed7953\"],[0.7777777777777778,\"#fb9f3a\"],[0.8888888888888888,\"#fdca26\"],[1.0,\"#f0f921\"]]}],\"choropleth\":[{\"type\":\"choropleth\",\"colorbar\":{\"outlinewidth\":0,\"ticks\":\"\"}}],\"histogram2d\":[{\"type\":\"histogram2d\",\"colorbar\":{\"outlinewidth\":0,\"ticks\":\"\"},\"colorscale\":[[0.0,\"#0d0887\"],[0.1111111111111111,\"#46039f\"],[0.2222222222222222,\"#7201a8\"],[0.3333333333333333,\"#9c179e\"],[0.4444444444444444,\"#bd3786\"],[0.5555555555555556,\"#d8576b\"],[0.6666666666666666,\"#ed7953\"],[0.7777777777777778,\"#fb9f3a\"],[0.8888888888888888,\"#fdca26\"],[1.0,\"#f0f921\"]]}],\"heatmap\":[{\"type\":\"heatmap\",\"colorbar\":{\"outlinewidth\":0,\"ticks\":\"\"},\"colorscale\":[[0.0,\"#0d0887\"],[0.1111111111111111,\"#46039f\"],[0.2222222222222222,\"#7201a8\"],[0.3333333333333333,\"#9c179e\"],[0.4444444444444444,\"#bd3786\"],[0.5555555555555556,\"#d8576b\"],[0.6666666666666666,\"#ed7953\"],[0.7777777777777778,\"#fb9f3a\"],[0.8888888888888888,\"#fdca26\"],[1.0,\"#f0f921\"]]}],\"heatmapgl\":[{\"type\":\"heatmapgl\",\"colorbar\":{\"outlinewidth\":0,\"ticks\":\"\"},\"colorscale\":[[0.0,\"#0d0887\"],[0.1111111111111111,\"#46039f\"],[0.2222222222222222,\"#7201a8\"],[0.3333333333333333,\"#9c179e\"],[0.4444444444444444,\"#bd3786\"],[0.5555555555555556,\"#d8576b\"],[0.6666666666666666,\"#ed7953\"],[0.7777777777777778,\"#fb9f3a\"],[0.8888888888888888,\"#fdca26\"],[1.0,\"#f0f921\"]]}],\"contourcarpet\":[{\"type\":\"contourcarpet\",\"colorbar\":{\"outlinewidth\":0,\"ticks\":\"\"}}],\"contour\":[{\"type\":\"contour\",\"colorbar\":{\"outlinewidth\":0,\"ticks\":\"\"},\"colorscale\":[[0.0,\"#0d0887\"],[0.1111111111111111,\"#46039f\"],[0.2222222222222222,\"#7201a8\"],[0.3333333333333333,\"#9c179e\"],[0.4444444444444444,\"#bd3786\"],[0.5555555555555556,\"#d8576b\"],[0.6666666666666666,\"#ed7953\"],[0.7777777777777778,\"#fb9f3a\"],[0.8888888888888888,\"#fdca26\"],[1.0,\"#f0f921\"]]}],\"surface\":[{\"type\":\"surface\",\"colorbar\":{\"outlinewidth\":0,\"ticks\":\"\"},\"colorscale\":[[0.0,\"#0d0887\"],[0.1111111111111111,\"#46039f\"],[0.2222222222222222,\"#7201a8\"],[0.3333333333333333,\"#9c179e\"],[0.4444444444444444,\"#bd3786\"],[0.5555555555555556,\"#d8576b\"],[0.6666666666666666,\"#ed7953\"],[0.7777777777777778,\"#fb9f3a\"],[0.8888888888888888,\"#fdca26\"],[1.0,\"#f0f921\"]]}],\"mesh3d\":[{\"type\":\"mesh3d\",\"colorbar\":{\"outlinewidth\":0,\"ticks\":\"\"}}],\"scatter\":[{\"fillpattern\":{\"fillmode\":\"overlay\",\"size\":10,\"solidity\":0.2},\"type\":\"scatter\"}],\"parcoords\":[{\"type\":\"parcoords\",\"line\":{\"colorbar\":{\"outlinewidth\":0,\"ticks\":\"\"}}}],\"scatterpolargl\":[{\"type\":\"scatterpolargl\",\"marker\":{\"colorbar\":{\"outlinewidth\":0,\"ticks\":\"\"}}}],\"bar\":[{\"error_x\":{\"color\":\"#2a3f5f\"},\"error_y\":{\"color\":\"#2a3f5f\"},\"marker\":{\"line\":{\"color\":\"#E5ECF6\",\"width\":0.5},\"pattern\":{\"fillmode\":\"overlay\",\"size\":10,\"solidity\":0.2}},\"type\":\"bar\"}],\"scattergeo\":[{\"type\":\"scattergeo\",\"marker\":{\"colorbar\":{\"outlinewidth\":0,\"ticks\":\"\"}}}],\"scatterpolar\":[{\"type\":\"scatterpolar\",\"marker\":{\"colorbar\":{\"outlinewidth\":0,\"ticks\":\"\"}}}],\"histogram\":[{\"marker\":{\"pattern\":{\"fillmode\":\"overlay\",\"size\":10,\"solidity\":0.2}},\"type\":\"histogram\"}],\"scattergl\":[{\"type\":\"scattergl\",\"marker\":{\"colorbar\":{\"outlinewidth\":0,\"ticks\":\"\"}}}],\"scatter3d\":[{\"type\":\"scatter3d\",\"line\":{\"colorbar\":{\"outlinewidth\":0,\"ticks\":\"\"}},\"marker\":{\"colorbar\":{\"outlinewidth\":0,\"ticks\":\"\"}}}],\"scattermapbox\":[{\"type\":\"scattermapbox\",\"marker\":{\"colorbar\":{\"outlinewidth\":0,\"ticks\":\"\"}}}],\"scatterternary\":[{\"type\":\"scatterternary\",\"marker\":{\"colorbar\":{\"outlinewidth\":0,\"ticks\":\"\"}}}],\"scattercarpet\":[{\"type\":\"scattercarpet\",\"marker\":{\"colorbar\":{\"outlinewidth\":0,\"ticks\":\"\"}}}],\"carpet\":[{\"aaxis\":{\"endlinecolor\":\"#2a3f5f\",\"gridcolor\":\"white\",\"linecolor\":\"white\",\"minorgridcolor\":\"white\",\"startlinecolor\":\"#2a3f5f\"},\"baxis\":{\"endlinecolor\":\"#2a3f5f\",\"gridcolor\":\"white\",\"linecolor\":\"white\",\"minorgridcolor\":\"white\",\"startlinecolor\":\"#2a3f5f\"},\"type\":\"carpet\"}],\"table\":[{\"cells\":{\"fill\":{\"color\":\"#EBF0F8\"},\"line\":{\"color\":\"white\"}},\"header\":{\"fill\":{\"color\":\"#C8D4E3\"},\"line\":{\"color\":\"white\"}},\"type\":\"table\"}],\"barpolar\":[{\"marker\":{\"line\":{\"color\":\"#E5ECF6\",\"width\":0.5},\"pattern\":{\"fillmode\":\"overlay\",\"size\":10,\"solidity\":0.2}},\"type\":\"barpolar\"}],\"pie\":[{\"automargin\":true,\"type\":\"pie\"}]},\"layout\":{\"autotypenumbers\":\"strict\",\"colorway\":[\"#636efa\",\"#EF553B\",\"#00cc96\",\"#ab63fa\",\"#FFA15A\",\"#19d3f3\",\"#FF6692\",\"#B6E880\",\"#FF97FF\",\"#FECB52\"],\"font\":{\"color\":\"#2a3f5f\"},\"hovermode\":\"closest\",\"hoverlabel\":{\"align\":\"left\"},\"paper_bgcolor\":\"white\",\"plot_bgcolor\":\"#E5ECF6\",\"polar\":{\"bgcolor\":\"#E5ECF6\",\"angularaxis\":{\"gridcolor\":\"white\",\"linecolor\":\"white\",\"ticks\":\"\"},\"radialaxis\":{\"gridcolor\":\"white\",\"linecolor\":\"white\",\"ticks\":\"\"}},\"ternary\":{\"bgcolor\":\"#E5ECF6\",\"aaxis\":{\"gridcolor\":\"white\",\"linecolor\":\"white\",\"ticks\":\"\"},\"baxis\":{\"gridcolor\":\"white\",\"linecolor\":\"white\",\"ticks\":\"\"},\"caxis\":{\"gridcolor\":\"white\",\"linecolor\":\"white\",\"ticks\":\"\"}},\"coloraxis\":{\"colorbar\":{\"outlinewidth\":0,\"ticks\":\"\"}},\"colorscale\":{\"sequential\":[[0.0,\"#0d0887\"],[0.1111111111111111,\"#46039f\"],[0.2222222222222222,\"#7201a8\"],[0.3333333333333333,\"#9c179e\"],[0.4444444444444444,\"#bd3786\"],[0.5555555555555556,\"#d8576b\"],[0.6666666666666666,\"#ed7953\"],[0.7777777777777778,\"#fb9f3a\"],[0.8888888888888888,\"#fdca26\"],[1.0,\"#f0f921\"]],\"sequentialminus\":[[0.0,\"#0d0887\"],[0.1111111111111111,\"#46039f\"],[0.2222222222222222,\"#7201a8\"],[0.3333333333333333,\"#9c179e\"],[0.4444444444444444,\"#bd3786\"],[0.5555555555555556,\"#d8576b\"],[0.6666666666666666,\"#ed7953\"],[0.7777777777777778,\"#fb9f3a\"],[0.8888888888888888,\"#fdca26\"],[1.0,\"#f0f921\"]],\"diverging\":[[0,\"#8e0152\"],[0.1,\"#c51b7d\"],[0.2,\"#de77ae\"],[0.3,\"#f1b6da\"],[0.4,\"#fde0ef\"],[0.5,\"#f7f7f7\"],[0.6,\"#e6f5d0\"],[0.7,\"#b8e186\"],[0.8,\"#7fbc41\"],[0.9,\"#4d9221\"],[1,\"#276419\"]]},\"xaxis\":{\"gridcolor\":\"white\",\"linecolor\":\"white\",\"ticks\":\"\",\"title\":{\"standoff\":15},\"zerolinecolor\":\"white\",\"automargin\":true,\"zerolinewidth\":2},\"yaxis\":{\"gridcolor\":\"white\",\"linecolor\":\"white\",\"ticks\":\"\",\"title\":{\"standoff\":15},\"zerolinecolor\":\"white\",\"automargin\":true,\"zerolinewidth\":2},\"scene\":{\"xaxis\":{\"backgroundcolor\":\"#E5ECF6\",\"gridcolor\":\"white\",\"linecolor\":\"white\",\"showbackground\":true,\"ticks\":\"\",\"zerolinecolor\":\"white\",\"gridwidth\":2},\"yaxis\":{\"backgroundcolor\":\"#E5ECF6\",\"gridcolor\":\"white\",\"linecolor\":\"white\",\"showbackground\":true,\"ticks\":\"\",\"zerolinecolor\":\"white\",\"gridwidth\":2},\"zaxis\":{\"backgroundcolor\":\"#E5ECF6\",\"gridcolor\":\"white\",\"linecolor\":\"white\",\"showbackground\":true,\"ticks\":\"\",\"zerolinecolor\":\"white\",\"gridwidth\":2}},\"shapedefaults\":{\"line\":{\"color\":\"#2a3f5f\"}},\"annotationdefaults\":{\"arrowcolor\":\"#2a3f5f\",\"arrowhead\":0,\"arrowwidth\":1},\"geo\":{\"bgcolor\":\"white\",\"landcolor\":\"#E5ECF6\",\"subunitcolor\":\"white\",\"showland\":true,\"showlakes\":true,\"lakecolor\":\"white\"},\"title\":{\"x\":0.05},\"mapbox\":{\"style\":\"light\"}}}},                        {\"responsive\": true}                    ).then(function(){\n",
       "                            \n",
       "var gd = document.getElementById('75891559-b404-4c34-b103-addbeba1fa78');\n",
       "var x = new MutationObserver(function (mutations, observer) {{\n",
       "        var display = window.getComputedStyle(gd).display;\n",
       "        if (!display || display === 'none') {{\n",
       "            console.log([gd, 'removed!']);\n",
       "            Plotly.purge(gd);\n",
       "            observer.disconnect();\n",
       "        }}\n",
       "}});\n",
       "\n",
       "// Listen for the removal of the full notebook cells\n",
       "var notebookContainer = gd.closest('#notebook-container');\n",
       "if (notebookContainer) {{\n",
       "    x.observe(notebookContainer, {childList: true});\n",
       "}}\n",
       "\n",
       "// Listen for the clearing of the current output cell\n",
       "var outputEl = gd.closest('.output');\n",
       "if (outputEl) {{\n",
       "    x.observe(outputEl, {childList: true});\n",
       "}}\n",
       "\n",
       "                        })                };                });            </script>        </div>"
      ]
     },
     "metadata": {},
     "output_type": "display_data"
    }
   ],
   "source": [
    "plot_parallel_coordinate(study)"
   ]
  },
  {
   "cell_type": "code",
   "execution_count": 54,
   "id": "7c94f44c-2b8b-4fa3-8a60-0047fec58052",
   "metadata": {},
   "outputs": [
    {
     "data": {
      "application/vnd.plotly.v1+json": {
       "config": {
        "plotlyServerURL": "https://plot.ly"
       },
       "data": [
        {
         "autocontour": true,
         "colorbar": {
          "title": {
           "text": "Objective Value"
          }
         },
         "colorscale": [
          [
           0,
           "rgb(247,251,255)"
          ],
          [
           0.125,
           "rgb(222,235,247)"
          ],
          [
           0.25,
           "rgb(198,219,239)"
          ],
          [
           0.375,
           "rgb(158,202,225)"
          ],
          [
           0.5,
           "rgb(107,174,214)"
          ],
          [
           0.625,
           "rgb(66,146,198)"
          ],
          [
           0.75,
           "rgb(33,113,181)"
          ],
          [
           0.875,
           "rgb(8,81,156)"
          ],
          [
           1,
           "rgb(8,48,107)"
          ]
         ],
         "connectgaps": true,
         "contours": {
          "coloring": "heatmap",
          "end": 0.5,
          "size": 0.5,
          "start": -6
         },
         "hoverinfo": "none",
         "line": {
          "smoothing": 1.3
         },
         "reversescale": false,
         "type": "contour",
         "x": [
          0.0005539891043838056,
          0.0010367242613349439,
          0.0010502067461412702,
          0.0011004309023525205,
          0.001582274912997435,
          0.0017192737660957336,
          0.002308806622030587,
          0.0037254257876981737,
          0.003732019101003391,
          0.004148723526227126,
          0.005029828739742686,
          0.005269166204749979,
          0.008082701610103188,
          0.011195450017018153,
          0.014672111474812547,
          0.01666867955270932,
          0.0305194984969446,
          0.03401086698467048,
          0.051282300369387114,
          0.08942763939921988,
          0.12444601226283149,
          0.18278817272325296,
          0.39248523043018485,
          0.5806976459529858,
          1.617973872340258,
          5.103416429808186,
          14.416165788325815,
          112.7247584913243,
          153.1348953122593,
          219.60324692333555,
          287.67626770246653,
          538.3516819688402
         ],
         "y": [
          0.0005468307313912917,
          0.00103441398155478,
          0.0018641530516553255,
          0.0032729584103707086,
          0.004639451767106887,
          0.01134338664132304,
          0.011421682322768271,
          0.014487869509226259,
          0.029260966634075444,
          0.04319670593512818,
          0.05702347331646873,
          0.09783015557644242,
          0.09848946139914505,
          0.09877343393251299,
          0.10851858910559992,
          0.15761953031163048,
          0.25639443130718403,
          0.32576693423446634,
          0.3592637920855517,
          0.3749072067145613,
          0.7337515710433009,
          0.8615009907701324,
          1.6598489005600539,
          3.481977120688724,
          7.3535368491683775,
          10.435615524603117,
          25.806988038745743,
          145.86541721872425,
          178.10830336679732,
          183.60262715242564,
          356.06046237083365,
          673.5428340286501
         ],
         "z": [
          [
           null,
           null,
           null,
           null,
           null,
           null,
           null,
           null,
           null,
           null,
           null,
           null,
           null,
           null,
           null,
           null,
           null,
           null,
           null,
           null,
           null,
           null,
           null,
           null,
           null,
           null,
           null,
           null,
           null,
           null,
           null,
           null
          ],
          [
           null,
           null,
           null,
           null,
           null,
           null,
           null,
           null,
           null,
           null,
           null,
           null,
           0.8818619217010631,
           null,
           null,
           null,
           null,
           null,
           null,
           null,
           null,
           null,
           null,
           null,
           null,
           null,
           null,
           null,
           null,
           null,
           null,
           null
          ],
          [
           null,
           null,
           null,
           null,
           null,
           null,
           null,
           null,
           null,
           null,
           null,
           null,
           null,
           null,
           null,
           null,
           null,
           null,
           null,
           null,
           null,
           null,
           0.8325678629479822,
           null,
           null,
           null,
           null,
           null,
           null,
           null,
           null,
           null
          ],
          [
           null,
           null,
           null,
           null,
           null,
           null,
           null,
           null,
           null,
           null,
           null,
           null,
           null,
           null,
           null,
           null,
           null,
           null,
           null,
           null,
           0.8796872236176592,
           null,
           null,
           null,
           null,
           null,
           null,
           null,
           null,
           null,
           null,
           null
          ],
          [
           null,
           null,
           null,
           null,
           null,
           null,
           null,
           null,
           null,
           null,
           null,
           null,
           null,
           null,
           null,
           null,
           null,
           null,
           null,
           null,
           null,
           null,
           null,
           null,
           null,
           null,
           null,
           null,
           null,
           -6.23936548466809,
           null,
           null
          ],
          [
           null,
           null,
           null,
           null,
           null,
           null,
           null,
           null,
           null,
           null,
           null,
           null,
           null,
           null,
           null,
           null,
           null,
           null,
           null,
           null,
           null,
           null,
           null,
           0.8404131018517951,
           null,
           null,
           null,
           null,
           null,
           null,
           null,
           null
          ],
          [
           null,
           null,
           null,
           null,
           null,
           null,
           null,
           null,
           null,
           null,
           null,
           null,
           null,
           null,
           null,
           null,
           null,
           null,
           null,
           null,
           null,
           0.8868740718727544,
           null,
           null,
           null,
           null,
           null,
           null,
           null,
           null,
           null,
           null
          ],
          [
           null,
           null,
           0.8825237826967784,
           null,
           null,
           null,
           null,
           null,
           null,
           null,
           null,
           null,
           null,
           null,
           null,
           null,
           null,
           null,
           null,
           null,
           null,
           null,
           null,
           null,
           null,
           null,
           null,
           null,
           null,
           null,
           null,
           null
          ],
          [
           null,
           null,
           null,
           null,
           null,
           null,
           null,
           null,
           null,
           null,
           null,
           null,
           null,
           0.8853333917618478,
           null,
           null,
           null,
           null,
           null,
           null,
           null,
           null,
           null,
           null,
           null,
           null,
           null,
           null,
           null,
           null,
           null,
           null
          ],
          [
           null,
           null,
           null,
           null,
           null,
           null,
           null,
           null,
           null,
           null,
           null,
           null,
           null,
           null,
           null,
           null,
           null,
           null,
           null,
           null,
           null,
           null,
           null,
           null,
           0.8872125558259079,
           null,
           null,
           null,
           null,
           null,
           null,
           null
          ],
          [
           null,
           null,
           null,
           null,
           null,
           null,
           null,
           null,
           null,
           0.8858201508601384,
           null,
           null,
           null,
           null,
           null,
           null,
           null,
           null,
           null,
           null,
           null,
           null,
           null,
           null,
           null,
           null,
           null,
           null,
           null,
           null,
           null,
           null
          ],
          [
           null,
           null,
           null,
           null,
           null,
           null,
           0.8874382745143696,
           null,
           null,
           null,
           null,
           null,
           null,
           null,
           null,
           null,
           null,
           null,
           null,
           null,
           null,
           null,
           null,
           null,
           null,
           null,
           null,
           null,
           null,
           null,
           null,
           null
          ],
          [
           null,
           null,
           null,
           null,
           null,
           null,
           null,
           null,
           null,
           null,
           0.8892055912510941,
           null,
           null,
           null,
           null,
           null,
           null,
           null,
           null,
           null,
           null,
           null,
           null,
           null,
           null,
           null,
           null,
           null,
           null,
           null,
           null,
           null
          ],
          [
           null,
           0.8895188864419321,
           null,
           null,
           null,
           null,
           null,
           null,
           null,
           null,
           null,
           null,
           null,
           null,
           null,
           null,
           null,
           null,
           null,
           null,
           null,
           null,
           null,
           null,
           null,
           null,
           null,
           null,
           null,
           null,
           null,
           null
          ],
          [
           null,
           null,
           null,
           null,
           null,
           null,
           null,
           null,
           0.7966965078966778,
           null,
           null,
           null,
           null,
           null,
           null,
           null,
           null,
           null,
           null,
           null,
           null,
           null,
           null,
           null,
           null,
           null,
           null,
           null,
           null,
           null,
           null,
           null
          ],
          [
           null,
           null,
           null,
           null,
           0.886473851919629,
           null,
           null,
           null,
           null,
           null,
           null,
           null,
           null,
           null,
           null,
           null,
           null,
           null,
           null,
           null,
           null,
           null,
           null,
           null,
           null,
           null,
           null,
           null,
           null,
           null,
           null,
           null
          ],
          [
           null,
           null,
           null,
           null,
           null,
           null,
           null,
           null,
           null,
           null,
           null,
           0.8879717802822474,
           null,
           null,
           null,
           null,
           null,
           null,
           null,
           null,
           null,
           null,
           null,
           null,
           null,
           null,
           null,
           null,
           null,
           null,
           null,
           null
          ],
          [
           null,
           null,
           null,
           null,
           null,
           null,
           null,
           null,
           null,
           null,
           null,
           null,
           null,
           null,
           null,
           null,
           0.8864678076878383,
           null,
           null,
           null,
           null,
           null,
           null,
           null,
           null,
           null,
           null,
           null,
           null,
           null,
           null,
           null
          ],
          [
           null,
           null,
           null,
           null,
           null,
           null,
           null,
           0.8895668934092873,
           null,
           null,
           null,
           null,
           null,
           null,
           null,
           null,
           null,
           null,
           null,
           null,
           null,
           null,
           null,
           null,
           null,
           null,
           null,
           null,
           null,
           null,
           null,
           null
          ],
          [
           null,
           null,
           null,
           null,
           null,
           0.887216419464405,
           null,
           null,
           null,
           null,
           null,
           null,
           null,
           null,
           null,
           null,
           null,
           null,
           null,
           null,
           null,
           null,
           null,
           null,
           null,
           null,
           null,
           null,
           null,
           null,
           null,
           null
          ],
          [
           null,
           null,
           null,
           null,
           null,
           null,
           null,
           null,
           null,
           null,
           null,
           null,
           null,
           null,
           0.8878345473166022,
           null,
           null,
           null,
           null,
           null,
           null,
           null,
           null,
           null,
           null,
           null,
           null,
           null,
           null,
           null,
           null,
           null
          ],
          [
           null,
           null,
           null,
           null,
           null,
           null,
           null,
           null,
           null,
           null,
           null,
           null,
           null,
           null,
           null,
           null,
           null,
           null,
           null,
           null,
           null,
           null,
           null,
           null,
           null,
           null,
           0.8166606612958878,
           null,
           null,
           null,
           null,
           null
          ],
          [
           null,
           null,
           null,
           null,
           null,
           null,
           null,
           null,
           null,
           null,
           null,
           null,
           null,
           null,
           null,
           null,
           null,
           0.8746065614107987,
           null,
           null,
           null,
           null,
           null,
           null,
           null,
           null,
           null,
           null,
           null,
           null,
           null,
           null
          ],
          [
           null,
           null,
           null,
           null,
           null,
           null,
           null,
           null,
           null,
           null,
           null,
           null,
           null,
           null,
           null,
           0.6626978982218501,
           null,
           null,
           null,
           null,
           null,
           null,
           null,
           null,
           null,
           null,
           null,
           null,
           null,
           null,
           null,
           null
          ],
          [
           null,
           null,
           null,
           null,
           null,
           null,
           null,
           null,
           null,
           null,
           null,
           null,
           null,
           null,
           null,
           null,
           null,
           null,
           null,
           -4.432479445000773,
           null,
           null,
           null,
           null,
           null,
           null,
           null,
           null,
           null,
           null,
           null,
           null
          ],
          [
           null,
           null,
           null,
           null,
           null,
           null,
           null,
           null,
           null,
           null,
           null,
           null,
           null,
           null,
           null,
           null,
           null,
           null,
           null,
           null,
           null,
           null,
           null,
           null,
           null,
           -6.480531818769646,
           null,
           null,
           null,
           null,
           null,
           null
          ],
          [
           null,
           null,
           null,
           -6.354776696728696,
           null,
           null,
           null,
           null,
           null,
           null,
           null,
           null,
           null,
           null,
           null,
           null,
           null,
           null,
           null,
           null,
           null,
           null,
           null,
           null,
           null,
           null,
           null,
           null,
           null,
           null,
           null,
           null
          ],
          [
           null,
           null,
           null,
           null,
           null,
           null,
           null,
           null,
           null,
           null,
           null,
           null,
           null,
           null,
           null,
           null,
           null,
           null,
           0.8657653668524816,
           null,
           null,
           null,
           null,
           null,
           null,
           null,
           null,
           null,
           null,
           null,
           null,
           null
          ],
          [
           null,
           null,
           null,
           null,
           null,
           null,
           null,
           null,
           null,
           null,
           null,
           null,
           null,
           null,
           null,
           null,
           null,
           null,
           null,
           null,
           null,
           null,
           null,
           null,
           null,
           null,
           null,
           0.7641657909162468,
           null,
           null,
           null,
           null
          ],
          [
           null,
           null,
           null,
           null,
           null,
           null,
           null,
           null,
           null,
           null,
           null,
           null,
           null,
           null,
           null,
           null,
           null,
           null,
           null,
           null,
           null,
           null,
           null,
           null,
           null,
           null,
           null,
           null,
           0.7723732745769143,
           null,
           null,
           null
          ],
          [
           null,
           null,
           null,
           null,
           null,
           null,
           null,
           null,
           null,
           null,
           null,
           null,
           null,
           null,
           null,
           null,
           null,
           null,
           null,
           null,
           null,
           null,
           null,
           null,
           null,
           null,
           null,
           null,
           null,
           null,
           0.6449034020057518,
           null
          ],
          [
           null,
           null,
           null,
           null,
           null,
           null,
           null,
           null,
           null,
           null,
           null,
           null,
           null,
           null,
           null,
           null,
           null,
           null,
           null,
           null,
           null,
           null,
           null,
           null,
           null,
           null,
           null,
           null,
           null,
           null,
           null,
           null
          ]
         ]
        },
        {
         "marker": {
          "color": "black",
          "line": {
           "color": "Grey",
           "width": 2
          }
         },
         "mode": "markers",
         "showlegend": false,
         "type": "scatter",
         "x": [
          219.60324692333555,
          153.1348953122593,
          112.7247584913243,
          1.617973872340258,
          0.5806976459529858,
          5.103416429808186,
          0.051282300369387114,
          287.67626770246653,
          14.416165788325815,
          0.39248523043018485,
          0.002308806622030587,
          0.0010367242613349439,
          0.001582274912997435,
          0.0017192737660957336,
          0.01666867955270932,
          0.011195450017018153,
          0.08942763939921988,
          0.005029828739742686,
          0.008082701610103188,
          0.03401086698467048,
          0.18278817272325296,
          0.0037254257876981737,
          0.005269166204749979,
          0.004148723526227126,
          0.0011004309023525205,
          0.014672111474812547,
          0.0010502067461412702,
          0.0305194984969446,
          0.003732019101003391,
          0.12444601226283149
         ],
         "y": [
          0.004639451767106887,
          183.60262715242564,
          178.10830336679732,
          0.04319670593512818,
          0.01134338664132304,
          10.435615524603117,
          145.86541721872425,
          356.06046237083365,
          0.8615009907701324,
          0.0018641530516553255,
          0.09783015557644242,
          0.09877343393251299,
          0.15761953031163048,
          0.3749072067145613,
          3.481977120688724,
          0.029260966634075444,
          7.3535368491683775,
          0.09848946139914505,
          0.00103441398155478,
          1.6598489005600539,
          0.011421682322768271,
          0.3592637920855517,
          0.25639443130718403,
          0.05702347331646873,
          25.806988038745743,
          0.7337515710433009,
          0.014487869509226259,
          0.32576693423446634,
          0.10851858910559992,
          0.0032729584103707086
         ]
        }
       ],
       "layout": {
        "autosize": true,
        "template": {
         "data": {
          "bar": [
           {
            "error_x": {
             "color": "#2a3f5f"
            },
            "error_y": {
             "color": "#2a3f5f"
            },
            "marker": {
             "line": {
              "color": "#E5ECF6",
              "width": 0.5
             },
             "pattern": {
              "fillmode": "overlay",
              "size": 10,
              "solidity": 0.2
             }
            },
            "type": "bar"
           }
          ],
          "barpolar": [
           {
            "marker": {
             "line": {
              "color": "#E5ECF6",
              "width": 0.5
             },
             "pattern": {
              "fillmode": "overlay",
              "size": 10,
              "solidity": 0.2
             }
            },
            "type": "barpolar"
           }
          ],
          "carpet": [
           {
            "aaxis": {
             "endlinecolor": "#2a3f5f",
             "gridcolor": "white",
             "linecolor": "white",
             "minorgridcolor": "white",
             "startlinecolor": "#2a3f5f"
            },
            "baxis": {
             "endlinecolor": "#2a3f5f",
             "gridcolor": "white",
             "linecolor": "white",
             "minorgridcolor": "white",
             "startlinecolor": "#2a3f5f"
            },
            "type": "carpet"
           }
          ],
          "choropleth": [
           {
            "colorbar": {
             "outlinewidth": 0,
             "ticks": ""
            },
            "type": "choropleth"
           }
          ],
          "contour": [
           {
            "colorbar": {
             "outlinewidth": 0,
             "ticks": ""
            },
            "colorscale": [
             [
              0,
              "#0d0887"
             ],
             [
              0.1111111111111111,
              "#46039f"
             ],
             [
              0.2222222222222222,
              "#7201a8"
             ],
             [
              0.3333333333333333,
              "#9c179e"
             ],
             [
              0.4444444444444444,
              "#bd3786"
             ],
             [
              0.5555555555555556,
              "#d8576b"
             ],
             [
              0.6666666666666666,
              "#ed7953"
             ],
             [
              0.7777777777777778,
              "#fb9f3a"
             ],
             [
              0.8888888888888888,
              "#fdca26"
             ],
             [
              1,
              "#f0f921"
             ]
            ],
            "type": "contour"
           }
          ],
          "contourcarpet": [
           {
            "colorbar": {
             "outlinewidth": 0,
             "ticks": ""
            },
            "type": "contourcarpet"
           }
          ],
          "heatmap": [
           {
            "colorbar": {
             "outlinewidth": 0,
             "ticks": ""
            },
            "colorscale": [
             [
              0,
              "#0d0887"
             ],
             [
              0.1111111111111111,
              "#46039f"
             ],
             [
              0.2222222222222222,
              "#7201a8"
             ],
             [
              0.3333333333333333,
              "#9c179e"
             ],
             [
              0.4444444444444444,
              "#bd3786"
             ],
             [
              0.5555555555555556,
              "#d8576b"
             ],
             [
              0.6666666666666666,
              "#ed7953"
             ],
             [
              0.7777777777777778,
              "#fb9f3a"
             ],
             [
              0.8888888888888888,
              "#fdca26"
             ],
             [
              1,
              "#f0f921"
             ]
            ],
            "type": "heatmap"
           }
          ],
          "heatmapgl": [
           {
            "colorbar": {
             "outlinewidth": 0,
             "ticks": ""
            },
            "colorscale": [
             [
              0,
              "#0d0887"
             ],
             [
              0.1111111111111111,
              "#46039f"
             ],
             [
              0.2222222222222222,
              "#7201a8"
             ],
             [
              0.3333333333333333,
              "#9c179e"
             ],
             [
              0.4444444444444444,
              "#bd3786"
             ],
             [
              0.5555555555555556,
              "#d8576b"
             ],
             [
              0.6666666666666666,
              "#ed7953"
             ],
             [
              0.7777777777777778,
              "#fb9f3a"
             ],
             [
              0.8888888888888888,
              "#fdca26"
             ],
             [
              1,
              "#f0f921"
             ]
            ],
            "type": "heatmapgl"
           }
          ],
          "histogram": [
           {
            "marker": {
             "pattern": {
              "fillmode": "overlay",
              "size": 10,
              "solidity": 0.2
             }
            },
            "type": "histogram"
           }
          ],
          "histogram2d": [
           {
            "colorbar": {
             "outlinewidth": 0,
             "ticks": ""
            },
            "colorscale": [
             [
              0,
              "#0d0887"
             ],
             [
              0.1111111111111111,
              "#46039f"
             ],
             [
              0.2222222222222222,
              "#7201a8"
             ],
             [
              0.3333333333333333,
              "#9c179e"
             ],
             [
              0.4444444444444444,
              "#bd3786"
             ],
             [
              0.5555555555555556,
              "#d8576b"
             ],
             [
              0.6666666666666666,
              "#ed7953"
             ],
             [
              0.7777777777777778,
              "#fb9f3a"
             ],
             [
              0.8888888888888888,
              "#fdca26"
             ],
             [
              1,
              "#f0f921"
             ]
            ],
            "type": "histogram2d"
           }
          ],
          "histogram2dcontour": [
           {
            "colorbar": {
             "outlinewidth": 0,
             "ticks": ""
            },
            "colorscale": [
             [
              0,
              "#0d0887"
             ],
             [
              0.1111111111111111,
              "#46039f"
             ],
             [
              0.2222222222222222,
              "#7201a8"
             ],
             [
              0.3333333333333333,
              "#9c179e"
             ],
             [
              0.4444444444444444,
              "#bd3786"
             ],
             [
              0.5555555555555556,
              "#d8576b"
             ],
             [
              0.6666666666666666,
              "#ed7953"
             ],
             [
              0.7777777777777778,
              "#fb9f3a"
             ],
             [
              0.8888888888888888,
              "#fdca26"
             ],
             [
              1,
              "#f0f921"
             ]
            ],
            "type": "histogram2dcontour"
           }
          ],
          "mesh3d": [
           {
            "colorbar": {
             "outlinewidth": 0,
             "ticks": ""
            },
            "type": "mesh3d"
           }
          ],
          "parcoords": [
           {
            "line": {
             "colorbar": {
              "outlinewidth": 0,
              "ticks": ""
             }
            },
            "type": "parcoords"
           }
          ],
          "pie": [
           {
            "automargin": true,
            "type": "pie"
           }
          ],
          "scatter": [
           {
            "fillpattern": {
             "fillmode": "overlay",
             "size": 10,
             "solidity": 0.2
            },
            "type": "scatter"
           }
          ],
          "scatter3d": [
           {
            "line": {
             "colorbar": {
              "outlinewidth": 0,
              "ticks": ""
             }
            },
            "marker": {
             "colorbar": {
              "outlinewidth": 0,
              "ticks": ""
             }
            },
            "type": "scatter3d"
           }
          ],
          "scattercarpet": [
           {
            "marker": {
             "colorbar": {
              "outlinewidth": 0,
              "ticks": ""
             }
            },
            "type": "scattercarpet"
           }
          ],
          "scattergeo": [
           {
            "marker": {
             "colorbar": {
              "outlinewidth": 0,
              "ticks": ""
             }
            },
            "type": "scattergeo"
           }
          ],
          "scattergl": [
           {
            "marker": {
             "colorbar": {
              "outlinewidth": 0,
              "ticks": ""
             }
            },
            "type": "scattergl"
           }
          ],
          "scattermapbox": [
           {
            "marker": {
             "colorbar": {
              "outlinewidth": 0,
              "ticks": ""
             }
            },
            "type": "scattermapbox"
           }
          ],
          "scatterpolar": [
           {
            "marker": {
             "colorbar": {
              "outlinewidth": 0,
              "ticks": ""
             }
            },
            "type": "scatterpolar"
           }
          ],
          "scatterpolargl": [
           {
            "marker": {
             "colorbar": {
              "outlinewidth": 0,
              "ticks": ""
             }
            },
            "type": "scatterpolargl"
           }
          ],
          "scatterternary": [
           {
            "marker": {
             "colorbar": {
              "outlinewidth": 0,
              "ticks": ""
             }
            },
            "type": "scatterternary"
           }
          ],
          "surface": [
           {
            "colorbar": {
             "outlinewidth": 0,
             "ticks": ""
            },
            "colorscale": [
             [
              0,
              "#0d0887"
             ],
             [
              0.1111111111111111,
              "#46039f"
             ],
             [
              0.2222222222222222,
              "#7201a8"
             ],
             [
              0.3333333333333333,
              "#9c179e"
             ],
             [
              0.4444444444444444,
              "#bd3786"
             ],
             [
              0.5555555555555556,
              "#d8576b"
             ],
             [
              0.6666666666666666,
              "#ed7953"
             ],
             [
              0.7777777777777778,
              "#fb9f3a"
             ],
             [
              0.8888888888888888,
              "#fdca26"
             ],
             [
              1,
              "#f0f921"
             ]
            ],
            "type": "surface"
           }
          ],
          "table": [
           {
            "cells": {
             "fill": {
              "color": "#EBF0F8"
             },
             "line": {
              "color": "white"
             }
            },
            "header": {
             "fill": {
              "color": "#C8D4E3"
             },
             "line": {
              "color": "white"
             }
            },
            "type": "table"
           }
          ]
         },
         "layout": {
          "annotationdefaults": {
           "arrowcolor": "#2a3f5f",
           "arrowhead": 0,
           "arrowwidth": 1
          },
          "autotypenumbers": "strict",
          "coloraxis": {
           "colorbar": {
            "outlinewidth": 0,
            "ticks": ""
           }
          },
          "colorscale": {
           "diverging": [
            [
             0,
             "#8e0152"
            ],
            [
             0.1,
             "#c51b7d"
            ],
            [
             0.2,
             "#de77ae"
            ],
            [
             0.3,
             "#f1b6da"
            ],
            [
             0.4,
             "#fde0ef"
            ],
            [
             0.5,
             "#f7f7f7"
            ],
            [
             0.6,
             "#e6f5d0"
            ],
            [
             0.7,
             "#b8e186"
            ],
            [
             0.8,
             "#7fbc41"
            ],
            [
             0.9,
             "#4d9221"
            ],
            [
             1,
             "#276419"
            ]
           ],
           "sequential": [
            [
             0,
             "#0d0887"
            ],
            [
             0.1111111111111111,
             "#46039f"
            ],
            [
             0.2222222222222222,
             "#7201a8"
            ],
            [
             0.3333333333333333,
             "#9c179e"
            ],
            [
             0.4444444444444444,
             "#bd3786"
            ],
            [
             0.5555555555555556,
             "#d8576b"
            ],
            [
             0.6666666666666666,
             "#ed7953"
            ],
            [
             0.7777777777777778,
             "#fb9f3a"
            ],
            [
             0.8888888888888888,
             "#fdca26"
            ],
            [
             1,
             "#f0f921"
            ]
           ],
           "sequentialminus": [
            [
             0,
             "#0d0887"
            ],
            [
             0.1111111111111111,
             "#46039f"
            ],
            [
             0.2222222222222222,
             "#7201a8"
            ],
            [
             0.3333333333333333,
             "#9c179e"
            ],
            [
             0.4444444444444444,
             "#bd3786"
            ],
            [
             0.5555555555555556,
             "#d8576b"
            ],
            [
             0.6666666666666666,
             "#ed7953"
            ],
            [
             0.7777777777777778,
             "#fb9f3a"
            ],
            [
             0.8888888888888888,
             "#fdca26"
            ],
            [
             1,
             "#f0f921"
            ]
           ]
          },
          "colorway": [
           "#636efa",
           "#EF553B",
           "#00cc96",
           "#ab63fa",
           "#FFA15A",
           "#19d3f3",
           "#FF6692",
           "#B6E880",
           "#FF97FF",
           "#FECB52"
          ],
          "font": {
           "color": "#2a3f5f"
          },
          "geo": {
           "bgcolor": "white",
           "lakecolor": "white",
           "landcolor": "#E5ECF6",
           "showlakes": true,
           "showland": true,
           "subunitcolor": "white"
          },
          "hoverlabel": {
           "align": "left"
          },
          "hovermode": "closest",
          "mapbox": {
           "style": "light"
          },
          "paper_bgcolor": "white",
          "plot_bgcolor": "#E5ECF6",
          "polar": {
           "angularaxis": {
            "gridcolor": "white",
            "linecolor": "white",
            "ticks": ""
           },
           "bgcolor": "#E5ECF6",
           "radialaxis": {
            "gridcolor": "white",
            "linecolor": "white",
            "ticks": ""
           }
          },
          "scene": {
           "xaxis": {
            "backgroundcolor": "#E5ECF6",
            "gridcolor": "white",
            "gridwidth": 2,
            "linecolor": "white",
            "showbackground": true,
            "ticks": "",
            "zerolinecolor": "white"
           },
           "yaxis": {
            "backgroundcolor": "#E5ECF6",
            "gridcolor": "white",
            "gridwidth": 2,
            "linecolor": "white",
            "showbackground": true,
            "ticks": "",
            "zerolinecolor": "white"
           },
           "zaxis": {
            "backgroundcolor": "#E5ECF6",
            "gridcolor": "white",
            "gridwidth": 2,
            "linecolor": "white",
            "showbackground": true,
            "ticks": "",
            "zerolinecolor": "white"
           }
          },
          "shapedefaults": {
           "line": {
            "color": "#2a3f5f"
           }
          },
          "ternary": {
           "aaxis": {
            "gridcolor": "white",
            "linecolor": "white",
            "ticks": ""
           },
           "baxis": {
            "gridcolor": "white",
            "linecolor": "white",
            "ticks": ""
           },
           "bgcolor": "#E5ECF6",
           "caxis": {
            "gridcolor": "white",
            "linecolor": "white",
            "ticks": ""
           }
          },
          "title": {
           "x": 0.05
          },
          "xaxis": {
           "automargin": true,
           "gridcolor": "white",
           "linecolor": "white",
           "ticks": "",
           "title": {
            "standoff": 15
           },
           "zerolinecolor": "white",
           "zerolinewidth": 2
          },
          "yaxis": {
           "automargin": true,
           "gridcolor": "white",
           "linecolor": "white",
           "ticks": "",
           "title": {
            "standoff": 15
           },
           "zerolinecolor": "white",
           "zerolinewidth": 2
          }
         }
        },
        "title": {
         "text": "Contour Plot"
        },
        "xaxis": {
         "range": [
          -3.256498776702116,
          2.7310660742546125
         ],
         "title": {
          "text": "reg_alpha"
         },
         "type": "log"
        },
        "yaxis": {
         "range": [
          -3.262147086462258,
          2.8283652199413374
         ],
         "title": {
          "text": "reg_lambda"
         },
         "type": "log"
        }
       }
      },
      "image/png": "[encoded data removed]",
      "text/html": [
       "<div>                            <div id=\"fb2a70f5-64ca-404a-a129-81697de0173d\" class=\"plotly-graph-div\" style=\"height:525px; width:100%;\"></div>            <script type=\"text/javascript\">                require([\"plotly\"], function(Plotly) {                    window.PLOTLYENV=window.PLOTLYENV || {};                                    if (document.getElementById(\"fb2a70f5-64ca-404a-a129-81697de0173d\")) {                    Plotly.newPlot(                        \"fb2a70f5-64ca-404a-a129-81697de0173d\",                        [{\"colorbar\":{\"title\":{\"text\":\"Objective Value\"}},\"colorscale\":[[0.0,\"rgb(247,251,255)\"],[0.125,\"rgb(222,235,247)\"],[0.25,\"rgb(198,219,239)\"],[0.375,\"rgb(158,202,225)\"],[0.5,\"rgb(107,174,214)\"],[0.625,\"rgb(66,146,198)\"],[0.75,\"rgb(33,113,181)\"],[0.875,\"rgb(8,81,156)\"],[1.0,\"rgb(8,48,107)\"]],\"connectgaps\":true,\"contours\":{\"coloring\":\"heatmap\"},\"hoverinfo\":\"none\",\"line\":{\"smoothing\":1.3},\"reversescale\":false,\"x\":[0.0005539891043838056,0.0010367242613349439,0.0010502067461412702,0.0011004309023525205,0.001582274912997435,0.0017192737660957336,0.002308806622030587,0.0037254257876981737,0.003732019101003391,0.004148723526227126,0.005029828739742686,0.005269166204749979,0.008082701610103188,0.011195450017018153,0.014672111474812547,0.01666867955270932,0.0305194984969446,0.03401086698467048,0.051282300369387114,0.08942763939921988,0.12444601226283149,0.18278817272325296,0.39248523043018485,0.5806976459529858,1.617973872340258,5.103416429808186,14.416165788325815,112.7247584913243,153.1348953122593,219.60324692333555,287.67626770246653,538.3516819688402],\"y\":[0.0005468307313912917,0.00103441398155478,0.0018641530516553255,0.0032729584103707086,0.004639451767106887,0.01134338664132304,0.011421682322768271,0.014487869509226259,0.029260966634075444,0.04319670593512818,0.05702347331646873,0.09783015557644242,0.09848946139914505,0.09877343393251299,0.10851858910559992,0.15761953031163048,0.25639443130718403,0.32576693423446634,0.3592637920855517,0.3749072067145613,0.7337515710433009,0.8615009907701324,1.6598489005600539,3.481977120688724,7.3535368491683775,10.435615524603117,25.806988038745743,145.86541721872425,178.10830336679732,183.60262715242564,356.06046237083365,673.5428340286501],\"z\":[[null,null,null,null,null,null,null,null,null,null,null,null,null,null,null,null,null,null,null,null,null,null,null,null,null,null,null,null,null,null,null,null],[null,null,null,null,null,null,null,null,null,null,null,null,0.8818619217010631,null,null,null,null,null,null,null,null,null,null,null,null,null,null,null,null,null,null,null],[null,null,null,null,null,null,null,null,null,null,null,null,null,null,null,null,null,null,null,null,null,null,0.8325678629479822,null,null,null,null,null,null,null,null,null],[null,null,null,null,null,null,null,null,null,null,null,null,null,null,null,null,null,null,null,null,0.8796872236176592,null,null,null,null,null,null,null,null,null,null,null],[null,null,null,null,null,null,null,null,null,null,null,null,null,null,null,null,null,null,null,null,null,null,null,null,null,null,null,null,null,-6.23936548466809,null,null],[null,null,null,null,null,null,null,null,null,null,null,null,null,null,null,null,null,null,null,null,null,null,null,0.8404131018517951,null,null,null,null,null,null,null,null],[null,null,null,null,null,null,null,null,null,null,null,null,null,null,null,null,null,null,null,null,null,0.8868740718727544,null,null,null,null,null,null,null,null,null,null],[null,null,0.8825237826967784,null,null,null,null,null,null,null,null,null,null,null,null,null,null,null,null,null,null,null,null,null,null,null,null,null,null,null,null,null],[null,null,null,null,null,null,null,null,null,null,null,null,null,0.8853333917618478,null,null,null,null,null,null,null,null,null,null,null,null,null,null,null,null,null,null],[null,null,null,null,null,null,null,null,null,null,null,null,null,null,null,null,null,null,null,null,null,null,null,null,0.8872125558259079,null,null,null,null,null,null,null],[null,null,null,null,null,null,null,null,null,0.8858201508601384,null,null,null,null,null,null,null,null,null,null,null,null,null,null,null,null,null,null,null,null,null,null],[null,null,null,null,null,null,0.8874382745143696,null,null,null,null,null,null,null,null,null,null,null,null,null,null,null,null,null,null,null,null,null,null,null,null,null],[null,null,null,null,null,null,null,null,null,null,0.8892055912510941,null,null,null,null,null,null,null,null,null,null,null,null,null,null,null,null,null,null,null,null,null],[null,0.8895188864419321,null,null,null,null,null,null,null,null,null,null,null,null,null,null,null,null,null,null,null,null,null,null,null,null,null,null,null,null,null,null],[null,null,null,null,null,null,null,null,0.7966965078966778,null,null,null,null,null,null,null,null,null,null,null,null,null,null,null,null,null,null,null,null,null,null,null],[null,null,null,null,0.886473851919629,null,null,null,null,null,null,null,null,null,null,null,null,null,null,null,null,null,null,null,null,null,null,null,null,null,null,null],[null,null,null,null,null,null,null,null,null,null,null,0.8879717802822474,null,null,null,null,null,null,null,null,null,null,null,null,null,null,null,null,null,null,null,null],[null,null,null,null,null,null,null,null,null,null,null,null,null,null,null,null,0.8864678076878383,null,null,null,null,null,null,null,null,null,null,null,null,null,null,null],[null,null,null,null,null,null,null,0.8895668934092873,null,null,null,null,null,null,null,null,null,null,null,null,null,null,null,null,null,null,null,null,null,null,null,null],[null,null,null,null,null,0.887216419464405,null,null,null,null,null,null,null,null,null,null,null,null,null,null,null,null,null,null,null,null,null,null,null,null,null,null],[null,null,null,null,null,null,null,null,null,null,null,null,null,null,0.8878345473166022,null,null,null,null,null,null,null,null,null,null,null,null,null,null,null,null,null],[null,null,null,null,null,null,null,null,null,null,null,null,null,null,null,null,null,null,null,null,null,null,null,null,null,null,0.8166606612958878,null,null,null,null,null],[null,null,null,null,null,null,null,null,null,null,null,null,null,null,null,null,null,0.8746065614107987,null,null,null,null,null,null,null,null,null,null,null,null,null,null],[null,null,null,null,null,null,null,null,null,null,null,null,null,null,null,0.6626978982218501,null,null,null,null,null,null,null,null,null,null,null,null,null,null,null,null],[null,null,null,null,null,null,null,null,null,null,null,null,null,null,null,null,null,null,null,-4.432479445000773,null,null,null,null,null,null,null,null,null,null,null,null],[null,null,null,null,null,null,null,null,null,null,null,null,null,null,null,null,null,null,null,null,null,null,null,null,null,-6.480531818769646,null,null,null,null,null,null],[null,null,null,-6.354776696728696,null,null,null,null,null,null,null,null,null,null,null,null,null,null,null,null,null,null,null,null,null,null,null,null,null,null,null,null],[null,null,null,null,null,null,null,null,null,null,null,null,null,null,null,null,null,null,0.8657653668524816,null,null,null,null,null,null,null,null,null,null,null,null,null],[null,null,null,null,null,null,null,null,null,null,null,null,null,null,null,null,null,null,null,null,null,null,null,null,null,null,null,0.7641657909162468,null,null,null,null],[null,null,null,null,null,null,null,null,null,null,null,null,null,null,null,null,null,null,null,null,null,null,null,null,null,null,null,null,0.7723732745769143,null,null,null],[null,null,null,null,null,null,null,null,null,null,null,null,null,null,null,null,null,null,null,null,null,null,null,null,null,null,null,null,null,null,0.6449034020057518,null],[null,null,null,null,null,null,null,null,null,null,null,null,null,null,null,null,null,null,null,null,null,null,null,null,null,null,null,null,null,null,null,null]],\"type\":\"contour\"},{\"marker\":{\"color\":\"black\",\"line\":{\"color\":\"Grey\",\"width\":2.0}},\"mode\":\"markers\",\"showlegend\":false,\"x\":[219.60324692333555,153.1348953122593,112.7247584913243,1.617973872340258,0.5806976459529858,5.103416429808186,0.051282300369387114,287.67626770246653,14.416165788325815,0.39248523043018485,0.002308806622030587,0.0010367242613349439,0.001582274912997435,0.0017192737660957336,0.01666867955270932,0.011195450017018153,0.08942763939921988,0.005029828739742686,0.008082701610103188,0.03401086698467048,0.18278817272325296,0.0037254257876981737,0.005269166204749979,0.004148723526227126,0.0011004309023525205,0.014672111474812547,0.0010502067461412702,0.0305194984969446,0.003732019101003391,0.12444601226283149],\"y\":[0.004639451767106887,183.60262715242564,178.10830336679732,0.04319670593512818,0.01134338664132304,10.435615524603117,145.86541721872425,356.06046237083365,0.8615009907701324,0.0018641530516553255,0.09783015557644242,0.09877343393251299,0.15761953031163048,0.3749072067145613,3.481977120688724,0.029260966634075444,7.3535368491683775,0.09848946139914505,0.00103441398155478,1.6598489005600539,0.011421682322768271,0.3592637920855517,0.25639443130718403,0.05702347331646873,25.806988038745743,0.7337515710433009,0.014487869509226259,0.32576693423446634,0.10851858910559992,0.0032729584103707086],\"type\":\"scatter\"}],                        {\"title\":{\"text\":\"Contour Plot\"},\"template\":{\"data\":{\"histogram2dcontour\":[{\"type\":\"histogram2dcontour\",\"colorbar\":{\"outlinewidth\":0,\"ticks\":\"\"},\"colorscale\":[[0.0,\"#0d0887\"],[0.1111111111111111,\"#46039f\"],[0.2222222222222222,\"#7201a8\"],[0.3333333333333333,\"#9c179e\"],[0.4444444444444444,\"#bd3786\"],[0.5555555555555556,\"#d8576b\"],[0.6666666666666666,\"#ed7953\"],[0.7777777777777778,\"#fb9f3a\"],[0.8888888888888888,\"#fdca26\"],[1.0,\"#f0f921\"]]}],\"choropleth\":[{\"type\":\"choropleth\",\"colorbar\":{\"outlinewidth\":0,\"ticks\":\"\"}}],\"histogram2d\":[{\"type\":\"histogram2d\",\"colorbar\":{\"outlinewidth\":0,\"ticks\":\"\"},\"colorscale\":[[0.0,\"#0d0887\"],[0.1111111111111111,\"#46039f\"],[0.2222222222222222,\"#7201a8\"],[0.3333333333333333,\"#9c179e\"],[0.4444444444444444,\"#bd3786\"],[0.5555555555555556,\"#d8576b\"],[0.6666666666666666,\"#ed7953\"],[0.7777777777777778,\"#fb9f3a\"],[0.8888888888888888,\"#fdca26\"],[1.0,\"#f0f921\"]]}],\"heatmap\":[{\"type\":\"heatmap\",\"colorbar\":{\"outlinewidth\":0,\"ticks\":\"\"},\"colorscale\":[[0.0,\"#0d0887\"],[0.1111111111111111,\"#46039f\"],[0.2222222222222222,\"#7201a8\"],[0.3333333333333333,\"#9c179e\"],[0.4444444444444444,\"#bd3786\"],[0.5555555555555556,\"#d8576b\"],[0.6666666666666666,\"#ed7953\"],[0.7777777777777778,\"#fb9f3a\"],[0.8888888888888888,\"#fdca26\"],[1.0,\"#f0f921\"]]}],\"heatmapgl\":[{\"type\":\"heatmapgl\",\"colorbar\":{\"outlinewidth\":0,\"ticks\":\"\"},\"colorscale\":[[0.0,\"#0d0887\"],[0.1111111111111111,\"#46039f\"],[0.2222222222222222,\"#7201a8\"],[0.3333333333333333,\"#9c179e\"],[0.4444444444444444,\"#bd3786\"],[0.5555555555555556,\"#d8576b\"],[0.6666666666666666,\"#ed7953\"],[0.7777777777777778,\"#fb9f3a\"],[0.8888888888888888,\"#fdca26\"],[1.0,\"#f0f921\"]]}],\"contourcarpet\":[{\"type\":\"contourcarpet\",\"colorbar\":{\"outlinewidth\":0,\"ticks\":\"\"}}],\"contour\":[{\"type\":\"contour\",\"colorbar\":{\"outlinewidth\":0,\"ticks\":\"\"},\"colorscale\":[[0.0,\"#0d0887\"],[0.1111111111111111,\"#46039f\"],[0.2222222222222222,\"#7201a8\"],[0.3333333333333333,\"#9c179e\"],[0.4444444444444444,\"#bd3786\"],[0.5555555555555556,\"#d8576b\"],[0.6666666666666666,\"#ed7953\"],[0.7777777777777778,\"#fb9f3a\"],[0.8888888888888888,\"#fdca26\"],[1.0,\"#f0f921\"]]}],\"surface\":[{\"type\":\"surface\",\"colorbar\":{\"outlinewidth\":0,\"ticks\":\"\"},\"colorscale\":[[0.0,\"#0d0887\"],[0.1111111111111111,\"#46039f\"],[0.2222222222222222,\"#7201a8\"],[0.3333333333333333,\"#9c179e\"],[0.4444444444444444,\"#bd3786\"],[0.5555555555555556,\"#d8576b\"],[0.6666666666666666,\"#ed7953\"],[0.7777777777777778,\"#fb9f3a\"],[0.8888888888888888,\"#fdca26\"],[1.0,\"#f0f921\"]]}],\"mesh3d\":[{\"type\":\"mesh3d\",\"colorbar\":{\"outlinewidth\":0,\"ticks\":\"\"}}],\"scatter\":[{\"fillpattern\":{\"fillmode\":\"overlay\",\"size\":10,\"solidity\":0.2},\"type\":\"scatter\"}],\"parcoords\":[{\"type\":\"parcoords\",\"line\":{\"colorbar\":{\"outlinewidth\":0,\"ticks\":\"\"}}}],\"scatterpolargl\":[{\"type\":\"scatterpolargl\",\"marker\":{\"colorbar\":{\"outlinewidth\":0,\"ticks\":\"\"}}}],\"bar\":[{\"error_x\":{\"color\":\"#2a3f5f\"},\"error_y\":{\"color\":\"#2a3f5f\"},\"marker\":{\"line\":{\"color\":\"#E5ECF6\",\"width\":0.5},\"pattern\":{\"fillmode\":\"overlay\",\"size\":10,\"solidity\":0.2}},\"type\":\"bar\"}],\"scattergeo\":[{\"type\":\"scattergeo\",\"marker\":{\"colorbar\":{\"outlinewidth\":0,\"ticks\":\"\"}}}],\"scatterpolar\":[{\"type\":\"scatterpolar\",\"marker\":{\"colorbar\":{\"outlinewidth\":0,\"ticks\":\"\"}}}],\"histogram\":[{\"marker\":{\"pattern\":{\"fillmode\":\"overlay\",\"size\":10,\"solidity\":0.2}},\"type\":\"histogram\"}],\"scattergl\":[{\"type\":\"scattergl\",\"marker\":{\"colorbar\":{\"outlinewidth\":0,\"ticks\":\"\"}}}],\"scatter3d\":[{\"type\":\"scatter3d\",\"line\":{\"colorbar\":{\"outlinewidth\":0,\"ticks\":\"\"}},\"marker\":{\"colorbar\":{\"outlinewidth\":0,\"ticks\":\"\"}}}],\"scattermapbox\":[{\"type\":\"scattermapbox\",\"marker\":{\"colorbar\":{\"outlinewidth\":0,\"ticks\":\"\"}}}],\"scatterternary\":[{\"type\":\"scatterternary\",\"marker\":{\"colorbar\":{\"outlinewidth\":0,\"ticks\":\"\"}}}],\"scattercarpet\":[{\"type\":\"scattercarpet\",\"marker\":{\"colorbar\":{\"outlinewidth\":0,\"ticks\":\"\"}}}],\"carpet\":[{\"aaxis\":{\"endlinecolor\":\"#2a3f5f\",\"gridcolor\":\"white\",\"linecolor\":\"white\",\"minorgridcolor\":\"white\",\"startlinecolor\":\"#2a3f5f\"},\"baxis\":{\"endlinecolor\":\"#2a3f5f\",\"gridcolor\":\"white\",\"linecolor\":\"white\",\"minorgridcolor\":\"white\",\"startlinecolor\":\"#2a3f5f\"},\"type\":\"carpet\"}],\"table\":[{\"cells\":{\"fill\":{\"color\":\"#EBF0F8\"},\"line\":{\"color\":\"white\"}},\"header\":{\"fill\":{\"color\":\"#C8D4E3\"},\"line\":{\"color\":\"white\"}},\"type\":\"table\"}],\"barpolar\":[{\"marker\":{\"line\":{\"color\":\"#E5ECF6\",\"width\":0.5},\"pattern\":{\"fillmode\":\"overlay\",\"size\":10,\"solidity\":0.2}},\"type\":\"barpolar\"}],\"pie\":[{\"automargin\":true,\"type\":\"pie\"}]},\"layout\":{\"autotypenumbers\":\"strict\",\"colorway\":[\"#636efa\",\"#EF553B\",\"#00cc96\",\"#ab63fa\",\"#FFA15A\",\"#19d3f3\",\"#FF6692\",\"#B6E880\",\"#FF97FF\",\"#FECB52\"],\"font\":{\"color\":\"#2a3f5f\"},\"hovermode\":\"closest\",\"hoverlabel\":{\"align\":\"left\"},\"paper_bgcolor\":\"white\",\"plot_bgcolor\":\"#E5ECF6\",\"polar\":{\"bgcolor\":\"#E5ECF6\",\"angularaxis\":{\"gridcolor\":\"white\",\"linecolor\":\"white\",\"ticks\":\"\"},\"radialaxis\":{\"gridcolor\":\"white\",\"linecolor\":\"white\",\"ticks\":\"\"}},\"ternary\":{\"bgcolor\":\"#E5ECF6\",\"aaxis\":{\"gridcolor\":\"white\",\"linecolor\":\"white\",\"ticks\":\"\"},\"baxis\":{\"gridcolor\":\"white\",\"linecolor\":\"white\",\"ticks\":\"\"},\"caxis\":{\"gridcolor\":\"white\",\"linecolor\":\"white\",\"ticks\":\"\"}},\"coloraxis\":{\"colorbar\":{\"outlinewidth\":0,\"ticks\":\"\"}},\"colorscale\":{\"sequential\":[[0.0,\"#0d0887\"],[0.1111111111111111,\"#46039f\"],[0.2222222222222222,\"#7201a8\"],[0.3333333333333333,\"#9c179e\"],[0.4444444444444444,\"#bd3786\"],[0.5555555555555556,\"#d8576b\"],[0.6666666666666666,\"#ed7953\"],[0.7777777777777778,\"#fb9f3a\"],[0.8888888888888888,\"#fdca26\"],[1.0,\"#f0f921\"]],\"sequentialminus\":[[0.0,\"#0d0887\"],[0.1111111111111111,\"#46039f\"],[0.2222222222222222,\"#7201a8\"],[0.3333333333333333,\"#9c179e\"],[0.4444444444444444,\"#bd3786\"],[0.5555555555555556,\"#d8576b\"],[0.6666666666666666,\"#ed7953\"],[0.7777777777777778,\"#fb9f3a\"],[0.8888888888888888,\"#fdca26\"],[1.0,\"#f0f921\"]],\"diverging\":[[0,\"#8e0152\"],[0.1,\"#c51b7d\"],[0.2,\"#de77ae\"],[0.3,\"#f1b6da\"],[0.4,\"#fde0ef\"],[0.5,\"#f7f7f7\"],[0.6,\"#e6f5d0\"],[0.7,\"#b8e186\"],[0.8,\"#7fbc41\"],[0.9,\"#4d9221\"],[1,\"#276419\"]]},\"xaxis\":{\"gridcolor\":\"white\",\"linecolor\":\"white\",\"ticks\":\"\",\"title\":{\"standoff\":15},\"zerolinecolor\":\"white\",\"automargin\":true,\"zerolinewidth\":2},\"yaxis\":{\"gridcolor\":\"white\",\"linecolor\":\"white\",\"ticks\":\"\",\"title\":{\"standoff\":15},\"zerolinecolor\":\"white\",\"automargin\":true,\"zerolinewidth\":2},\"scene\":{\"xaxis\":{\"backgroundcolor\":\"#E5ECF6\",\"gridcolor\":\"white\",\"linecolor\":\"white\",\"showbackground\":true,\"ticks\":\"\",\"zerolinecolor\":\"white\",\"gridwidth\":2},\"yaxis\":{\"backgroundcolor\":\"#E5ECF6\",\"gridcolor\":\"white\",\"linecolor\":\"white\",\"showbackground\":true,\"ticks\":\"\",\"zerolinecolor\":\"white\",\"gridwidth\":2},\"zaxis\":{\"backgroundcolor\":\"#E5ECF6\",\"gridcolor\":\"white\",\"linecolor\":\"white\",\"showbackground\":true,\"ticks\":\"\",\"zerolinecolor\":\"white\",\"gridwidth\":2}},\"shapedefaults\":{\"line\":{\"color\":\"#2a3f5f\"}},\"annotationdefaults\":{\"arrowcolor\":\"#2a3f5f\",\"arrowhead\":0,\"arrowwidth\":1},\"geo\":{\"bgcolor\":\"white\",\"landcolor\":\"#E5ECF6\",\"subunitcolor\":\"white\",\"showland\":true,\"showlakes\":true,\"lakecolor\":\"white\"},\"title\":{\"x\":0.05},\"mapbox\":{\"style\":\"light\"}}},\"xaxis\":{\"title\":{\"text\":\"reg_alpha\"},\"range\":[-3.256498776702116,2.7310660742546125],\"type\":\"log\"},\"yaxis\":{\"title\":{\"text\":\"reg_lambda\"},\"range\":[-3.262147086462258,2.8283652199413374],\"type\":\"log\"}},                        {\"responsive\": true}                    ).then(function(){\n",
       "                            \n",
       "var gd = document.getElementById('fb2a70f5-64ca-404a-a129-81697de0173d');\n",
       "var x = new MutationObserver(function (mutations, observer) {{\n",
       "        var display = window.getComputedStyle(gd).display;\n",
       "        if (!display || display === 'none') {{\n",
       "            console.log([gd, 'removed!']);\n",
       "            Plotly.purge(gd);\n",
       "            observer.disconnect();\n",
       "        }}\n",
       "}});\n",
       "\n",
       "// Listen for the removal of the full notebook cells\n",
       "var notebookContainer = gd.closest('#notebook-container');\n",
       "if (notebookContainer) {{\n",
       "    x.observe(notebookContainer, {childList: true});\n",
       "}}\n",
       "\n",
       "// Listen for the clearing of the current output cell\n",
       "var outputEl = gd.closest('.output');\n",
       "if (outputEl) {{\n",
       "    x.observe(outputEl, {childList: true});\n",
       "}}\n",
       "\n",
       "                        })                };                });            </script>        </div>"
      ]
     },
     "metadata": {},
     "output_type": "display_data"
    }
   ],
   "source": [
    "plot_contour(study, params=['reg_alpha', 'reg_lambda'])"
   ]
  },
  {
   "cell_type": "code",
   "execution_count": 56,
   "id": "7a083252-5c5e-4f89-bceb-457c12808f26",
   "metadata": {},
   "outputs": [
    {
     "data": {
      "application/vnd.plotly.v1+json": {
       "config": {
        "plotlyServerURL": "https://plot.ly"
       },
       "data": [
        {
         "cliponaxis": false,
         "hovertemplate": [
          "learning_rate (FloatDistribution): 0.11925159023601185<extra></extra>",
          "n_estimators (IntDistribution): 0.15368270298071232<extra></extra>",
          "reg_lambda (FloatDistribution): 0.2262502878554323<extra></extra>",
          "boosting_type (CategoricalDistribution): 0.22752368368165787<extra></extra>",
          "reg_alpha (FloatDistribution): 0.2732917352461857<extra></extra>"
         ],
         "marker": {
          "color": "rgb(66,146,198)"
         },
         "orientation": "h",
         "text": [
          "0.12",
          "0.15",
          "0.23",
          "0.23",
          "0.27"
         ],
         "textposition": "outside",
         "type": "bar",
         "x": [
          0.11925159023601185,
          0.15368270298071232,
          0.2262502878554323,
          0.22752368368165787,
          0.2732917352461857
         ],
         "y": [
          "learning_rate",
          "n_estimators",
          "reg_lambda",
          "boosting_type",
          "reg_alpha"
         ]
        }
       ],
       "layout": {
        "autosize": true,
        "showlegend": false,
        "template": {
         "data": {
          "bar": [
           {
            "error_x": {
             "color": "#2a3f5f"
            },
            "error_y": {
             "color": "#2a3f5f"
            },
            "marker": {
             "line": {
              "color": "#E5ECF6",
              "width": 0.5
             },
             "pattern": {
              "fillmode": "overlay",
              "size": 10,
              "solidity": 0.2
             }
            },
            "type": "bar"
           }
          ],
          "barpolar": [
           {
            "marker": {
             "line": {
              "color": "#E5ECF6",
              "width": 0.5
             },
             "pattern": {
              "fillmode": "overlay",
              "size": 10,
              "solidity": 0.2
             }
            },
            "type": "barpolar"
           }
          ],
          "carpet": [
           {
            "aaxis": {
             "endlinecolor": "#2a3f5f",
             "gridcolor": "white",
             "linecolor": "white",
             "minorgridcolor": "white",
             "startlinecolor": "#2a3f5f"
            },
            "baxis": {
             "endlinecolor": "#2a3f5f",
             "gridcolor": "white",
             "linecolor": "white",
             "minorgridcolor": "white",
             "startlinecolor": "#2a3f5f"
            },
            "type": "carpet"
           }
          ],
          "choropleth": [
           {
            "colorbar": {
             "outlinewidth": 0,
             "ticks": ""
            },
            "type": "choropleth"
           }
          ],
          "contour": [
           {
            "colorbar": {
             "outlinewidth": 0,
             "ticks": ""
            },
            "colorscale": [
             [
              0,
              "#0d0887"
             ],
             [
              0.1111111111111111,
              "#46039f"
             ],
             [
              0.2222222222222222,
              "#7201a8"
             ],
             [
              0.3333333333333333,
              "#9c179e"
             ],
             [
              0.4444444444444444,
              "#bd3786"
             ],
             [
              0.5555555555555556,
              "#d8576b"
             ],
             [
              0.6666666666666666,
              "#ed7953"
             ],
             [
              0.7777777777777778,
              "#fb9f3a"
             ],
             [
              0.8888888888888888,
              "#fdca26"
             ],
             [
              1,
              "#f0f921"
             ]
            ],
            "type": "contour"
           }
          ],
          "contourcarpet": [
           {
            "colorbar": {
             "outlinewidth": 0,
             "ticks": ""
            },
            "type": "contourcarpet"
           }
          ],
          "heatmap": [
           {
            "colorbar": {
             "outlinewidth": 0,
             "ticks": ""
            },
            "colorscale": [
             [
              0,
              "#0d0887"
             ],
             [
              0.1111111111111111,
              "#46039f"
             ],
             [
              0.2222222222222222,
              "#7201a8"
             ],
             [
              0.3333333333333333,
              "#9c179e"
             ],
             [
              0.4444444444444444,
              "#bd3786"
             ],
             [
              0.5555555555555556,
              "#d8576b"
             ],
             [
              0.6666666666666666,
              "#ed7953"
             ],
             [
              0.7777777777777778,
              "#fb9f3a"
             ],
             [
              0.8888888888888888,
              "#fdca26"
             ],
             [
              1,
              "#f0f921"
             ]
            ],
            "type": "heatmap"
           }
          ],
          "heatmapgl": [
           {
            "colorbar": {
             "outlinewidth": 0,
             "ticks": ""
            },
            "colorscale": [
             [
              0,
              "#0d0887"
             ],
             [
              0.1111111111111111,
              "#46039f"
             ],
             [
              0.2222222222222222,
              "#7201a8"
             ],
             [
              0.3333333333333333,
              "#9c179e"
             ],
             [
              0.4444444444444444,
              "#bd3786"
             ],
             [
              0.5555555555555556,
              "#d8576b"
             ],
             [
              0.6666666666666666,
              "#ed7953"
             ],
             [
              0.7777777777777778,
              "#fb9f3a"
             ],
             [
              0.8888888888888888,
              "#fdca26"
             ],
             [
              1,
              "#f0f921"
             ]
            ],
            "type": "heatmapgl"
           }
          ],
          "histogram": [
           {
            "marker": {
             "pattern": {
              "fillmode": "overlay",
              "size": 10,
              "solidity": 0.2
             }
            },
            "type": "histogram"
           }
          ],
          "histogram2d": [
           {
            "colorbar": {
             "outlinewidth": 0,
             "ticks": ""
            },
            "colorscale": [
             [
              0,
              "#0d0887"
             ],
             [
              0.1111111111111111,
              "#46039f"
             ],
             [
              0.2222222222222222,
              "#7201a8"
             ],
             [
              0.3333333333333333,
              "#9c179e"
             ],
             [
              0.4444444444444444,
              "#bd3786"
             ],
             [
              0.5555555555555556,
              "#d8576b"
             ],
             [
              0.6666666666666666,
              "#ed7953"
             ],
             [
              0.7777777777777778,
              "#fb9f3a"
             ],
             [
              0.8888888888888888,
              "#fdca26"
             ],
             [
              1,
              "#f0f921"
             ]
            ],
            "type": "histogram2d"
           }
          ],
          "histogram2dcontour": [
           {
            "colorbar": {
             "outlinewidth": 0,
             "ticks": ""
            },
            "colorscale": [
             [
              0,
              "#0d0887"
             ],
             [
              0.1111111111111111,
              "#46039f"
             ],
             [
              0.2222222222222222,
              "#7201a8"
             ],
             [
              0.3333333333333333,
              "#9c179e"
             ],
             [
              0.4444444444444444,
              "#bd3786"
             ],
             [
              0.5555555555555556,
              "#d8576b"
             ],
             [
              0.6666666666666666,
              "#ed7953"
             ],
             [
              0.7777777777777778,
              "#fb9f3a"
             ],
             [
              0.8888888888888888,
              "#fdca26"
             ],
             [
              1,
              "#f0f921"
             ]
            ],
            "type": "histogram2dcontour"
           }
          ],
          "mesh3d": [
           {
            "colorbar": {
             "outlinewidth": 0,
             "ticks": ""
            },
            "type": "mesh3d"
           }
          ],
          "parcoords": [
           {
            "line": {
             "colorbar": {
              "outlinewidth": 0,
              "ticks": ""
             }
            },
            "type": "parcoords"
           }
          ],
          "pie": [
           {
            "automargin": true,
            "type": "pie"
           }
          ],
          "scatter": [
           {
            "fillpattern": {
             "fillmode": "overlay",
             "size": 10,
             "solidity": 0.2
            },
            "type": "scatter"
           }
          ],
          "scatter3d": [
           {
            "line": {
             "colorbar": {
              "outlinewidth": 0,
              "ticks": ""
             }
            },
            "marker": {
             "colorbar": {
              "outlinewidth": 0,
              "ticks": ""
             }
            },
            "type": "scatter3d"
           }
          ],
          "scattercarpet": [
           {
            "marker": {
             "colorbar": {
              "outlinewidth": 0,
              "ticks": ""
             }
            },
            "type": "scattercarpet"
           }
          ],
          "scattergeo": [
           {
            "marker": {
             "colorbar": {
              "outlinewidth": 0,
              "ticks": ""
             }
            },
            "type": "scattergeo"
           }
          ],
          "scattergl": [
           {
            "marker": {
             "colorbar": {
              "outlinewidth": 0,
              "ticks": ""
             }
            },
            "type": "scattergl"
           }
          ],
          "scattermapbox": [
           {
            "marker": {
             "colorbar": {
              "outlinewidth": 0,
              "ticks": ""
             }
            },
            "type": "scattermapbox"
           }
          ],
          "scatterpolar": [
           {
            "marker": {
             "colorbar": {
              "outlinewidth": 0,
              "ticks": ""
             }
            },
            "type": "scatterpolar"
           }
          ],
          "scatterpolargl": [
           {
            "marker": {
             "colorbar": {
              "outlinewidth": 0,
              "ticks": ""
             }
            },
            "type": "scatterpolargl"
           }
          ],
          "scatterternary": [
           {
            "marker": {
             "colorbar": {
              "outlinewidth": 0,
              "ticks": ""
             }
            },
            "type": "scatterternary"
           }
          ],
          "surface": [
           {
            "colorbar": {
             "outlinewidth": 0,
             "ticks": ""
            },
            "colorscale": [
             [
              0,
              "#0d0887"
             ],
             [
              0.1111111111111111,
              "#46039f"
             ],
             [
              0.2222222222222222,
              "#7201a8"
             ],
             [
              0.3333333333333333,
              "#9c179e"
             ],
             [
              0.4444444444444444,
              "#bd3786"
             ],
             [
              0.5555555555555556,
              "#d8576b"
             ],
             [
              0.6666666666666666,
              "#ed7953"
             ],
             [
              0.7777777777777778,
              "#fb9f3a"
             ],
             [
              0.8888888888888888,
              "#fdca26"
             ],
             [
              1,
              "#f0f921"
             ]
            ],
            "type": "surface"
           }
          ],
          "table": [
           {
            "cells": {
             "fill": {
              "color": "#EBF0F8"
             },
             "line": {
              "color": "white"
             }
            },
            "header": {
             "fill": {
              "color": "#C8D4E3"
             },
             "line": {
              "color": "white"
             }
            },
            "type": "table"
           }
          ]
         },
         "layout": {
          "annotationdefaults": {
           "arrowcolor": "#2a3f5f",
           "arrowhead": 0,
           "arrowwidth": 1
          },
          "autotypenumbers": "strict",
          "coloraxis": {
           "colorbar": {
            "outlinewidth": 0,
            "ticks": ""
           }
          },
          "colorscale": {
           "diverging": [
            [
             0,
             "#8e0152"
            ],
            [
             0.1,
             "#c51b7d"
            ],
            [
             0.2,
             "#de77ae"
            ],
            [
             0.3,
             "#f1b6da"
            ],
            [
             0.4,
             "#fde0ef"
            ],
            [
             0.5,
             "#f7f7f7"
            ],
            [
             0.6,
             "#e6f5d0"
            ],
            [
             0.7,
             "#b8e186"
            ],
            [
             0.8,
             "#7fbc41"
            ],
            [
             0.9,
             "#4d9221"
            ],
            [
             1,
             "#276419"
            ]
           ],
           "sequential": [
            [
             0,
             "#0d0887"
            ],
            [
             0.1111111111111111,
             "#46039f"
            ],
            [
             0.2222222222222222,
             "#7201a8"
            ],
            [
             0.3333333333333333,
             "#9c179e"
            ],
            [
             0.4444444444444444,
             "#bd3786"
            ],
            [
             0.5555555555555556,
             "#d8576b"
            ],
            [
             0.6666666666666666,
             "#ed7953"
            ],
            [
             0.7777777777777778,
             "#fb9f3a"
            ],
            [
             0.8888888888888888,
             "#fdca26"
            ],
            [
             1,
             "#f0f921"
            ]
           ],
           "sequentialminus": [
            [
             0,
             "#0d0887"
            ],
            [
             0.1111111111111111,
             "#46039f"
            ],
            [
             0.2222222222222222,
             "#7201a8"
            ],
            [
             0.3333333333333333,
             "#9c179e"
            ],
            [
             0.4444444444444444,
             "#bd3786"
            ],
            [
             0.5555555555555556,
             "#d8576b"
            ],
            [
             0.6666666666666666,
             "#ed7953"
            ],
            [
             0.7777777777777778,
             "#fb9f3a"
            ],
            [
             0.8888888888888888,
             "#fdca26"
            ],
            [
             1,
             "#f0f921"
            ]
           ]
          },
          "colorway": [
           "#636efa",
           "#EF553B",
           "#00cc96",
           "#ab63fa",
           "#FFA15A",
           "#19d3f3",
           "#FF6692",
           "#B6E880",
           "#FF97FF",
           "#FECB52"
          ],
          "font": {
           "color": "#2a3f5f"
          },
          "geo": {
           "bgcolor": "white",
           "lakecolor": "white",
           "landcolor": "#E5ECF6",
           "showlakes": true,
           "showland": true,
           "subunitcolor": "white"
          },
          "hoverlabel": {
           "align": "left"
          },
          "hovermode": "closest",
          "mapbox": {
           "style": "light"
          },
          "paper_bgcolor": "white",
          "plot_bgcolor": "#E5ECF6",
          "polar": {
           "angularaxis": {
            "gridcolor": "white",
            "linecolor": "white",
            "ticks": ""
           },
           "bgcolor": "#E5ECF6",
           "radialaxis": {
            "gridcolor": "white",
            "linecolor": "white",
            "ticks": ""
           }
          },
          "scene": {
           "xaxis": {
            "backgroundcolor": "#E5ECF6",
            "gridcolor": "white",
            "gridwidth": 2,
            "linecolor": "white",
            "showbackground": true,
            "ticks": "",
            "zerolinecolor": "white"
           },
           "yaxis": {
            "backgroundcolor": "#E5ECF6",
            "gridcolor": "white",
            "gridwidth": 2,
            "linecolor": "white",
            "showbackground": true,
            "ticks": "",
            "zerolinecolor": "white"
           },
           "zaxis": {
            "backgroundcolor": "#E5ECF6",
            "gridcolor": "white",
            "gridwidth": 2,
            "linecolor": "white",
            "showbackground": true,
            "ticks": "",
            "zerolinecolor": "white"
           }
          },
          "shapedefaults": {
           "line": {
            "color": "#2a3f5f"
           }
          },
          "ternary": {
           "aaxis": {
            "gridcolor": "white",
            "linecolor": "white",
            "ticks": ""
           },
           "baxis": {
            "gridcolor": "white",
            "linecolor": "white",
            "ticks": ""
           },
           "bgcolor": "#E5ECF6",
           "caxis": {
            "gridcolor": "white",
            "linecolor": "white",
            "ticks": ""
           }
          },
          "title": {
           "x": 0.05
          },
          "xaxis": {
           "automargin": true,
           "gridcolor": "white",
           "linecolor": "white",
           "ticks": "",
           "title": {
            "standoff": 15
           },
           "zerolinecolor": "white",
           "zerolinewidth": 2
          },
          "yaxis": {
           "automargin": true,
           "gridcolor": "white",
           "linecolor": "white",
           "ticks": "",
           "title": {
            "standoff": 15
           },
           "zerolinecolor": "white",
           "zerolinewidth": 2
          }
         }
        },
        "title": {
         "text": "Hyperparameter Importances"
        },
        "xaxis": {
         "autorange": true,
         "range": [
          0,
          0.28767551078545867
         ],
         "title": {
          "text": "Importance for Objective Value"
         },
         "type": "linear"
        },
        "yaxis": {
         "autorange": true,
         "range": [
          -0.5,
          4.5
         ],
         "title": {
          "text": "Hyperparameter"
         },
         "type": "category"
        }
       }
      },
      "image/png": "[encoded data removed]",
      "text/html": [
       "<div>                            <div id=\"2c75ee43-c130-4d53-b5df-27e611e59634\" class=\"plotly-graph-div\" style=\"height:525px; width:100%;\"></div>            <script type=\"text/javascript\">                require([\"plotly\"], function(Plotly) {                    window.PLOTLYENV=window.PLOTLYENV || {};                                    if (document.getElementById(\"2c75ee43-c130-4d53-b5df-27e611e59634\")) {                    Plotly.newPlot(                        \"2c75ee43-c130-4d53-b5df-27e611e59634\",                        [{\"cliponaxis\":false,\"hovertemplate\":[\"learning_rate (FloatDistribution): 0.11925159023601185<extra></extra>\",\"n_estimators (IntDistribution): 0.15368270298071232<extra></extra>\",\"reg_lambda (FloatDistribution): 0.2262502878554323<extra></extra>\",\"boosting_type (CategoricalDistribution): 0.22752368368165787<extra></extra>\",\"reg_alpha (FloatDistribution): 0.2732917352461857<extra></extra>\"],\"marker\":{\"color\":\"rgb(66,146,198)\"},\"orientation\":\"h\",\"text\":[\"0.12\",\"0.15\",\"0.23\",\"0.23\",\"0.27\"],\"textposition\":\"outside\",\"x\":[0.11925159023601185,0.15368270298071232,0.2262502878554323,0.22752368368165787,0.2732917352461857],\"y\":[\"learning_rate\",\"n_estimators\",\"reg_lambda\",\"boosting_type\",\"reg_alpha\"],\"type\":\"bar\"}],                        {\"showlegend\":false,\"title\":{\"text\":\"Hyperparameter Importances\"},\"xaxis\":{\"title\":{\"text\":\"Importance for Objective Value\"}},\"yaxis\":{\"title\":{\"text\":\"Hyperparameter\"}},\"template\":{\"data\":{\"histogram2dcontour\":[{\"type\":\"histogram2dcontour\",\"colorbar\":{\"outlinewidth\":0,\"ticks\":\"\"},\"colorscale\":[[0.0,\"#0d0887\"],[0.1111111111111111,\"#46039f\"],[0.2222222222222222,\"#7201a8\"],[0.3333333333333333,\"#9c179e\"],[0.4444444444444444,\"#bd3786\"],[0.5555555555555556,\"#d8576b\"],[0.6666666666666666,\"#ed7953\"],[0.7777777777777778,\"#fb9f3a\"],[0.8888888888888888,\"#fdca26\"],[1.0,\"#f0f921\"]]}],\"choropleth\":[{\"type\":\"choropleth\",\"colorbar\":{\"outlinewidth\":0,\"ticks\":\"\"}}],\"histogram2d\":[{\"type\":\"histogram2d\",\"colorbar\":{\"outlinewidth\":0,\"ticks\":\"\"},\"colorscale\":[[0.0,\"#0d0887\"],[0.1111111111111111,\"#46039f\"],[0.2222222222222222,\"#7201a8\"],[0.3333333333333333,\"#9c179e\"],[0.4444444444444444,\"#bd3786\"],[0.5555555555555556,\"#d8576b\"],[0.6666666666666666,\"#ed7953\"],[0.7777777777777778,\"#fb9f3a\"],[0.8888888888888888,\"#fdca26\"],[1.0,\"#f0f921\"]]}],\"heatmap\":[{\"type\":\"heatmap\",\"colorbar\":{\"outlinewidth\":0,\"ticks\":\"\"},\"colorscale\":[[0.0,\"#0d0887\"],[0.1111111111111111,\"#46039f\"],[0.2222222222222222,\"#7201a8\"],[0.3333333333333333,\"#9c179e\"],[0.4444444444444444,\"#bd3786\"],[0.5555555555555556,\"#d8576b\"],[0.6666666666666666,\"#ed7953\"],[0.7777777777777778,\"#fb9f3a\"],[0.8888888888888888,\"#fdca26\"],[1.0,\"#f0f921\"]]}],\"heatmapgl\":[{\"type\":\"heatmapgl\",\"colorbar\":{\"outlinewidth\":0,\"ticks\":\"\"},\"colorscale\":[[0.0,\"#0d0887\"],[0.1111111111111111,\"#46039f\"],[0.2222222222222222,\"#7201a8\"],[0.3333333333333333,\"#9c179e\"],[0.4444444444444444,\"#bd3786\"],[0.5555555555555556,\"#d8576b\"],[0.6666666666666666,\"#ed7953\"],[0.7777777777777778,\"#fb9f3a\"],[0.8888888888888888,\"#fdca26\"],[1.0,\"#f0f921\"]]}],\"contourcarpet\":[{\"type\":\"contourcarpet\",\"colorbar\":{\"outlinewidth\":0,\"ticks\":\"\"}}],\"contour\":[{\"type\":\"contour\",\"colorbar\":{\"outlinewidth\":0,\"ticks\":\"\"},\"colorscale\":[[0.0,\"#0d0887\"],[0.1111111111111111,\"#46039f\"],[0.2222222222222222,\"#7201a8\"],[0.3333333333333333,\"#9c179e\"],[0.4444444444444444,\"#bd3786\"],[0.5555555555555556,\"#d8576b\"],[0.6666666666666666,\"#ed7953\"],[0.7777777777777778,\"#fb9f3a\"],[0.8888888888888888,\"#fdca26\"],[1.0,\"#f0f921\"]]}],\"surface\":[{\"type\":\"surface\",\"colorbar\":{\"outlinewidth\":0,\"ticks\":\"\"},\"colorscale\":[[0.0,\"#0d0887\"],[0.1111111111111111,\"#46039f\"],[0.2222222222222222,\"#7201a8\"],[0.3333333333333333,\"#9c179e\"],[0.4444444444444444,\"#bd3786\"],[0.5555555555555556,\"#d8576b\"],[0.6666666666666666,\"#ed7953\"],[0.7777777777777778,\"#fb9f3a\"],[0.8888888888888888,\"#fdca26\"],[1.0,\"#f0f921\"]]}],\"mesh3d\":[{\"type\":\"mesh3d\",\"colorbar\":{\"outlinewidth\":0,\"ticks\":\"\"}}],\"scatter\":[{\"fillpattern\":{\"fillmode\":\"overlay\",\"size\":10,\"solidity\":0.2},\"type\":\"scatter\"}],\"parcoords\":[{\"type\":\"parcoords\",\"line\":{\"colorbar\":{\"outlinewidth\":0,\"ticks\":\"\"}}}],\"scatterpolargl\":[{\"type\":\"scatterpolargl\",\"marker\":{\"colorbar\":{\"outlinewidth\":0,\"ticks\":\"\"}}}],\"bar\":[{\"error_x\":{\"color\":\"#2a3f5f\"},\"error_y\":{\"color\":\"#2a3f5f\"},\"marker\":{\"line\":{\"color\":\"#E5ECF6\",\"width\":0.5},\"pattern\":{\"fillmode\":\"overlay\",\"size\":10,\"solidity\":0.2}},\"type\":\"bar\"}],\"scattergeo\":[{\"type\":\"scattergeo\",\"marker\":{\"colorbar\":{\"outlinewidth\":0,\"ticks\":\"\"}}}],\"scatterpolar\":[{\"type\":\"scatterpolar\",\"marker\":{\"colorbar\":{\"outlinewidth\":0,\"ticks\":\"\"}}}],\"histogram\":[{\"marker\":{\"pattern\":{\"fillmode\":\"overlay\",\"size\":10,\"solidity\":0.2}},\"type\":\"histogram\"}],\"scattergl\":[{\"type\":\"scattergl\",\"marker\":{\"colorbar\":{\"outlinewidth\":0,\"ticks\":\"\"}}}],\"scatter3d\":[{\"type\":\"scatter3d\",\"line\":{\"colorbar\":{\"outlinewidth\":0,\"ticks\":\"\"}},\"marker\":{\"colorbar\":{\"outlinewidth\":0,\"ticks\":\"\"}}}],\"scattermapbox\":[{\"type\":\"scattermapbox\",\"marker\":{\"colorbar\":{\"outlinewidth\":0,\"ticks\":\"\"}}}],\"scatterternary\":[{\"type\":\"scatterternary\",\"marker\":{\"colorbar\":{\"outlinewidth\":0,\"ticks\":\"\"}}}],\"scattercarpet\":[{\"type\":\"scattercarpet\",\"marker\":{\"colorbar\":{\"outlinewidth\":0,\"ticks\":\"\"}}}],\"carpet\":[{\"aaxis\":{\"endlinecolor\":\"#2a3f5f\",\"gridcolor\":\"white\",\"linecolor\":\"white\",\"minorgridcolor\":\"white\",\"startlinecolor\":\"#2a3f5f\"},\"baxis\":{\"endlinecolor\":\"#2a3f5f\",\"gridcolor\":\"white\",\"linecolor\":\"white\",\"minorgridcolor\":\"white\",\"startlinecolor\":\"#2a3f5f\"},\"type\":\"carpet\"}],\"table\":[{\"cells\":{\"fill\":{\"color\":\"#EBF0F8\"},\"line\":{\"color\":\"white\"}},\"header\":{\"fill\":{\"color\":\"#C8D4E3\"},\"line\":{\"color\":\"white\"}},\"type\":\"table\"}],\"barpolar\":[{\"marker\":{\"line\":{\"color\":\"#E5ECF6\",\"width\":0.5},\"pattern\":{\"fillmode\":\"overlay\",\"size\":10,\"solidity\":0.2}},\"type\":\"barpolar\"}],\"pie\":[{\"automargin\":true,\"type\":\"pie\"}]},\"layout\":{\"autotypenumbers\":\"strict\",\"colorway\":[\"#636efa\",\"#EF553B\",\"#00cc96\",\"#ab63fa\",\"#FFA15A\",\"#19d3f3\",\"#FF6692\",\"#B6E880\",\"#FF97FF\",\"#FECB52\"],\"font\":{\"color\":\"#2a3f5f\"},\"hovermode\":\"closest\",\"hoverlabel\":{\"align\":\"left\"},\"paper_bgcolor\":\"white\",\"plot_bgcolor\":\"#E5ECF6\",\"polar\":{\"bgcolor\":\"#E5ECF6\",\"angularaxis\":{\"gridcolor\":\"white\",\"linecolor\":\"white\",\"ticks\":\"\"},\"radialaxis\":{\"gridcolor\":\"white\",\"linecolor\":\"white\",\"ticks\":\"\"}},\"ternary\":{\"bgcolor\":\"#E5ECF6\",\"aaxis\":{\"gridcolor\":\"white\",\"linecolor\":\"white\",\"ticks\":\"\"},\"baxis\":{\"gridcolor\":\"white\",\"linecolor\":\"white\",\"ticks\":\"\"},\"caxis\":{\"gridcolor\":\"white\",\"linecolor\":\"white\",\"ticks\":\"\"}},\"coloraxis\":{\"colorbar\":{\"outlinewidth\":0,\"ticks\":\"\"}},\"colorscale\":{\"sequential\":[[0.0,\"#0d0887\"],[0.1111111111111111,\"#46039f\"],[0.2222222222222222,\"#7201a8\"],[0.3333333333333333,\"#9c179e\"],[0.4444444444444444,\"#bd3786\"],[0.5555555555555556,\"#d8576b\"],[0.6666666666666666,\"#ed7953\"],[0.7777777777777778,\"#fb9f3a\"],[0.8888888888888888,\"#fdca26\"],[1.0,\"#f0f921\"]],\"sequentialminus\":[[0.0,\"#0d0887\"],[0.1111111111111111,\"#46039f\"],[0.2222222222222222,\"#7201a8\"],[0.3333333333333333,\"#9c179e\"],[0.4444444444444444,\"#bd3786\"],[0.5555555555555556,\"#d8576b\"],[0.6666666666666666,\"#ed7953\"],[0.7777777777777778,\"#fb9f3a\"],[0.8888888888888888,\"#fdca26\"],[1.0,\"#f0f921\"]],\"diverging\":[[0,\"#8e0152\"],[0.1,\"#c51b7d\"],[0.2,\"#de77ae\"],[0.3,\"#f1b6da\"],[0.4,\"#fde0ef\"],[0.5,\"#f7f7f7\"],[0.6,\"#e6f5d0\"],[0.7,\"#b8e186\"],[0.8,\"#7fbc41\"],[0.9,\"#4d9221\"],[1,\"#276419\"]]},\"xaxis\":{\"gridcolor\":\"white\",\"linecolor\":\"white\",\"ticks\":\"\",\"title\":{\"standoff\":15},\"zerolinecolor\":\"white\",\"automargin\":true,\"zerolinewidth\":2},\"yaxis\":{\"gridcolor\":\"white\",\"linecolor\":\"white\",\"ticks\":\"\",\"title\":{\"standoff\":15},\"zerolinecolor\":\"white\",\"automargin\":true,\"zerolinewidth\":2},\"scene\":{\"xaxis\":{\"backgroundcolor\":\"#E5ECF6\",\"gridcolor\":\"white\",\"linecolor\":\"white\",\"showbackground\":true,\"ticks\":\"\",\"zerolinecolor\":\"white\",\"gridwidth\":2},\"yaxis\":{\"backgroundcolor\":\"#E5ECF6\",\"gridcolor\":\"white\",\"linecolor\":\"white\",\"showbackground\":true,\"ticks\":\"\",\"zerolinecolor\":\"white\",\"gridwidth\":2},\"zaxis\":{\"backgroundcolor\":\"#E5ECF6\",\"gridcolor\":\"white\",\"linecolor\":\"white\",\"showbackground\":true,\"ticks\":\"\",\"zerolinecolor\":\"white\",\"gridwidth\":2}},\"shapedefaults\":{\"line\":{\"color\":\"#2a3f5f\"}},\"annotationdefaults\":{\"arrowcolor\":\"#2a3f5f\",\"arrowhead\":0,\"arrowwidth\":1},\"geo\":{\"bgcolor\":\"white\",\"landcolor\":\"#E5ECF6\",\"subunitcolor\":\"white\",\"showland\":true,\"showlakes\":true,\"lakecolor\":\"white\"},\"title\":{\"x\":0.05},\"mapbox\":{\"style\":\"light\"}}}},                        {\"responsive\": true}                    ).then(function(){\n",
       "                            \n",
       "var gd = document.getElementById('2c75ee43-c130-4d53-b5df-27e611e59634');\n",
       "var x = new MutationObserver(function (mutations, observer) {{\n",
       "        var display = window.getComputedStyle(gd).display;\n",
       "        if (!display || display === 'none') {{\n",
       "            console.log([gd, 'removed!']);\n",
       "            Plotly.purge(gd);\n",
       "            observer.disconnect();\n",
       "        }}\n",
       "}});\n",
       "\n",
       "// Listen for the removal of the full notebook cells\n",
       "var notebookContainer = gd.closest('#notebook-container');\n",
       "if (notebookContainer) {{\n",
       "    x.observe(notebookContainer, {childList: true});\n",
       "}}\n",
       "\n",
       "// Listen for the clearing of the current output cell\n",
       "var outputEl = gd.closest('.output');\n",
       "if (outputEl) {{\n",
       "    x.observe(outputEl, {childList: true});\n",
       "}}\n",
       "\n",
       "                        })                };                });            </script>        </div>"
      ]
     },
     "metadata": {},
     "output_type": "display_data"
    }
   ],
   "source": [
    "plot_param_importances(study)"
   ]
  },
  {
   "cell_type": "code",
   "execution_count": 57,
   "id": "5b07e271-cee8-4550-b038-a310d8e44768",
   "metadata": {},
   "outputs": [
    {
     "data": {
      "text/plain": [
       "{'n_estimators': 474,\n",
       " 'learning_rate': 0.3899774853709844,\n",
       " 'boosting_type': 'dart',\n",
       " 'reg_alpha': 0.0037254257876981737,\n",
       " 'reg_lambda': 0.3592637920855517}"
      ]
     },
     "execution_count": 57,
     "metadata": {},
     "output_type": "execute_result"
    }
   ],
   "source": [
    "study.best_params"
   ]
  },
  {
   "cell_type": "markdown",
   "id": "81b2805e-8704-42e6-bc95-91c7fd1b4839",
   "metadata": {},
   "source": [
    "## 5.2. Ray\n",
    "[Ray] is a unified framework for scaling AI and Python applications. In this section, we are going to use [Ray Tune], a sub-module of Ray to implement various optimization algorithms. Tune wraps many other optimization libraries and organizes the algorithms into two groups, [searchers] and [schedulers], which are equivalent to *sampler* and *pruner* in Optuna.\n",
    "\n",
    "[Ray]: https://github.com/ray-project/ray\n",
    "[Ray Tune]: https://docs.ray.io/en/master/tune/index.html\n",
    "[searchers]: https://docs.ray.io/en/latest/tune/api_docs/suggestion.html\n",
    "[schedulers]: https://docs.ray.io/en/latest/tune/api_docs/schedulers.html"
   ]
  },
  {
   "cell_type": "markdown",
   "id": "49ab2b3a-a1b2-4190-a36d-beecf9d120f6",
   "metadata": {},
   "source": [
    "### Optimizer wrappers\n",
    "*Searchers*:\n",
    "- <code style='font-size:13px'>[AxSearch]</code>, an implementation of Bayesian Optimization by Facebook's [Ax]\n",
    "- <code style='font-size:13px'>[BayesOptSearch]</code>, an implementation of Bayesian Optimization by [bayes_opt]\n",
    "- <code style='font-size:13px'>[TuneBOHB]</code>, an implementation of BOHB by [HpBandSter]\n",
    "- <code style='font-size:13px'>[BlendSearch]</code> and <code style='font-size:13px'>[CFO]</code>, two optimizers by Microsoft's [FLAML]\n",
    "- <code style='font-size:13px'>[DragonflySearch]</code>, an implementation of various optimizers by [DragonFly]\n",
    "- <code style='font-size:13px'>[HEBOSearch]</code>, an implementation of [HEBO]\n",
    "- <code style='font-size:13px'>[HyperOptSearch]</code>, an implementation of TPE by [hyperopt]\n",
    "- <code style='font-size:13px'>[NevergradSearch]</code>, an implementation of Facebook's [NeverGrad]\n",
    "- <code style='font-size:13px'>[ZOOptSearch]</code>, an implementation of ASRacos by [ZOOpt]\n",
    "\n",
    "*Schedulers*:\n",
    "- <code style='font-size:13px'>[MedianStoppingRule]</code>, a simple stopping strategy\n",
    "- <code style='font-size:13px'>[HyperBandScheduler]</code>, an implementation of Hyperband\n",
    "- <code style='font-size:13px'>[ASHAScheduler]</code>, an implementation of Asynchronous Successive Halving Algorithm\n",
    "- <code style='font-size:13px'>[PopulationBasedTraining]</code>, an implementation of PBT\n",
    "\n",
    "\n",
    "[AxSearch]: https://docs.ray.io/en/latest/tune/api_docs/suggestion.html#ax-tune-search-ax-axsearch\n",
    "[Ax]: https://github.com/facebook/Ax\n",
    "[BayesOptSearch]: https://docs.ray.io/en/latest/tune/api_docs/suggestion.html#bayesian-optimization-tune-search-bayesopt-bayesoptsearch\n",
    "[bayes_opt]: https://github.com/fmfn/BayesianOptimization\n",
    "[TuneBOHB]: https://docs.ray.io/en/latest/tune/api_docs/suggestion.html#bohb-tune-search-bohb-tunebohb\n",
    "[HpBandSter]: https://github.com/automl/HpBandSter\n",
    "[BlendSearch]: https://docs.ray.io/en/latest/tune/api_docs/suggestion.html#blendsearch-tune-search-flaml-blendsearch\n",
    "[CFO]: https://docs.ray.io/en/latest/tune/api_docs/suggestion.html#cfo-tune-search-flaml-cfo\n",
    "[FLAML]: https://github.com/microsoft/FLAML/tree/main/flaml/tune\n",
    "[DragonflySearch]: https://docs.ray.io/en/latest/tune/api_docs/suggestion.html#dragonfly-tune-search-dragonfly-dragonflysearch\n",
    "[DragonFly]: https://github.com/dragonfly/dragonfly\n",
    "[HEBOSearch]: https://docs.ray.io/en/latest/tune/api_docs/suggestion.html#hebo-tune-search-hebo-hebosearch\n",
    "[HEBO]: https://github.com/huawei-noah/HEBO\n",
    "[HyperOptSearch]: https://docs.ray.io/en/latest/tune/api_docs/suggestion.html#hyperopt-tune-search-hyperopt-hyperoptsearch\n",
    "[hyperopt]: https://hyperopt.github.io/hyperopt/\n",
    "[NevergradSearch]: https://docs.ray.io/en/latest/tune/api_docs/suggestion.html#nevergrad-tune-search-nevergrad-nevergradsearch\n",
    "[NeverGrad]: https://github.com/facebookresearch/nevergrad\n",
    "[OptunaSearch]: https://docs.ray.io/en/latest/tune/api_docs/suggestion.html#optuna-tune-search-optuna-optunasearch\n",
    "[Optuna]: https://optuna.org/\n",
    "[ZOOptSearch]: https://docs.ray.io/en/latest/tune/api_docs/suggestion.html#zoopt-tune-search-zoopt-zooptsearch\n",
    "[ZOOpt]: https://github.com/polixir/ZOOpt\n",
    "\n",
    "[MedianStoppingRule]: https://docs.ray.io/en/latest/tune/api_docs/schedulers.html#median-stopping-rule-tune-schedulers-medianstoppingrule\n",
    "[HyperBandScheduler]: https://docs.ray.io/en/latest/tune/api_docs/schedulers.html#hyperband-tune-schedulers-hyperbandscheduler\n",
    "[ASHAScheduler]: https://docs.ray.io/en/latest/tune/api_docs/schedulers.html#asha-tune-schedulers-ashascheduler\n",
    "[PopulationBasedTraining]: https://docs.ray.io/en/latest/tune/api_docs/schedulers.html#population-based-training-tune-schedulers-populationbasedtraining"
   ]
  },
  {
   "cell_type": "code",
   "execution_count": null,
   "id": "b722a433-0bc3-4ee0-a500-382874a56e4c",
   "metadata": {
    "tags": []
   },
   "outputs": [],
   "source": [
    "import warnings; warnings.filterwarnings('ignore')\n",
    "import logging\n",
    "import numpy as np; np.set_printoptions(precision=4, suppress=True)\n",
    "import pandas as pd\n",
    "\n",
    "from sklearn.model_selection import train_test_split, cross_val_score\n",
    "from sklearn.model_selection import StratifiedShuffleSplit, ShuffleSplit\n",
    "from sklearn.metrics import r2_score as R2\n",
    "from lightgbm import LGBMRegressor\n",
    "from xgboost import XGBRegressor\n",
    "from catboost import CatBoostRegressor\n",
    "\n",
    "import ray\n",
    "from ray import tune\n",
    "from ray.tune.sklearn import TuneSearchCV\n",
    "ray.init(log_to_driver=False, ignore_reinit_error=True, logging_level=logging.FATAL)"
   ]
  },
  {
   "cell_type": "code",
   "execution_count": 6,
   "id": "c4520047-98e2-425c-bf0b-cec6bb924a3a",
   "metadata": {
    "execution": {
     "iopub.execute_input": "2022-09-15T01:16:15.379549Z",
     "iopub.status.busy": "2022-09-15T01:16:15.379238Z",
     "iopub.status.idle": "2022-09-15T01:16:15.427747Z",
     "shell.execute_reply": "2022-09-15T01:16:15.426646Z",
     "shell.execute_reply.started": "2022-09-15T01:16:15.379527Z"
    },
    "tags": []
   },
   "outputs": [
    {
     "data": {
      "text/html": [
       "<div>\n",
       "<style scoped>\n",
       "    .dataframe tbody tr th:only-of-type {\n",
       "        vertical-align: middle;\n",
       "    }\n",
       "\n",
       "    .dataframe tbody tr th {\n",
       "        vertical-align: top;\n",
       "    }\n",
       "\n",
       "    .dataframe thead th {\n",
       "        text-align: right;\n",
       "    }\n",
       "</style>\n",
       "<table border=\"1\" class=\"dataframe\">\n",
       "  <thead>\n",
       "    <tr style=\"text-align: right;\">\n",
       "      <th></th>\n",
       "      <th>crime_rate</th>\n",
       "      <th>land_rate</th>\n",
       "      <th>indus</th>\n",
       "      <th>chas</th>\n",
       "      <th>nox</th>\n",
       "      <th>room</th>\n",
       "      <th>age</th>\n",
       "      <th>distance</th>\n",
       "      <th>radial</th>\n",
       "      <th>tax</th>\n",
       "      <th>ptratio</th>\n",
       "      <th>black</th>\n",
       "      <th>lstat</th>\n",
       "      <th>price</th>\n",
       "    </tr>\n",
       "  </thead>\n",
       "  <tbody>\n",
       "    <tr>\n",
       "      <th>0</th>\n",
       "      <td>0.00632</td>\n",
       "      <td>18.0</td>\n",
       "      <td>2.31</td>\n",
       "      <td>0</td>\n",
       "      <td>0.538</td>\n",
       "      <td>6.575</td>\n",
       "      <td>65.2</td>\n",
       "      <td>4.0900</td>\n",
       "      <td>1</td>\n",
       "      <td>296</td>\n",
       "      <td>15.3</td>\n",
       "      <td>396.90</td>\n",
       "      <td>4.98</td>\n",
       "      <td>24.0</td>\n",
       "    </tr>\n",
       "    <tr>\n",
       "      <th>1</th>\n",
       "      <td>0.02731</td>\n",
       "      <td>0.0</td>\n",
       "      <td>7.07</td>\n",
       "      <td>0</td>\n",
       "      <td>0.469</td>\n",
       "      <td>6.421</td>\n",
       "      <td>78.9</td>\n",
       "      <td>4.9671</td>\n",
       "      <td>2</td>\n",
       "      <td>242</td>\n",
       "      <td>17.8</td>\n",
       "      <td>396.90</td>\n",
       "      <td>9.14</td>\n",
       "      <td>21.6</td>\n",
       "    </tr>\n",
       "    <tr>\n",
       "      <th>2</th>\n",
       "      <td>0.02729</td>\n",
       "      <td>0.0</td>\n",
       "      <td>7.07</td>\n",
       "      <td>0</td>\n",
       "      <td>0.469</td>\n",
       "      <td>7.185</td>\n",
       "      <td>61.1</td>\n",
       "      <td>4.9671</td>\n",
       "      <td>2</td>\n",
       "      <td>242</td>\n",
       "      <td>17.8</td>\n",
       "      <td>392.83</td>\n",
       "      <td>4.03</td>\n",
       "      <td>34.7</td>\n",
       "    </tr>\n",
       "    <tr>\n",
       "      <th>3</th>\n",
       "      <td>0.03237</td>\n",
       "      <td>0.0</td>\n",
       "      <td>2.18</td>\n",
       "      <td>0</td>\n",
       "      <td>0.458</td>\n",
       "      <td>6.998</td>\n",
       "      <td>45.8</td>\n",
       "      <td>6.0622</td>\n",
       "      <td>3</td>\n",
       "      <td>222</td>\n",
       "      <td>18.7</td>\n",
       "      <td>394.63</td>\n",
       "      <td>2.94</td>\n",
       "      <td>33.4</td>\n",
       "    </tr>\n",
       "    <tr>\n",
       "      <th>4</th>\n",
       "      <td>0.06905</td>\n",
       "      <td>0.0</td>\n",
       "      <td>2.18</td>\n",
       "      <td>0</td>\n",
       "      <td>0.458</td>\n",
       "      <td>7.147</td>\n",
       "      <td>54.2</td>\n",
       "      <td>6.0622</td>\n",
       "      <td>3</td>\n",
       "      <td>222</td>\n",
       "      <td>18.7</td>\n",
       "      <td>396.90</td>\n",
       "      <td>5.33</td>\n",
       "      <td>36.2</td>\n",
       "    </tr>\n",
       "  </tbody>\n",
       "</table>\n",
       "</div>"
      ],
      "text/plain": [
       "   crime_rate  land_rate  indus  chas    nox   room   age  distance  radial  \\\n",
       "0     0.00632       18.0   2.31     0  0.538  6.575  65.2    4.0900       1   \n",
       "1     0.02731        0.0   7.07     0  0.469  6.421  78.9    4.9671       2   \n",
       "2     0.02729        0.0   7.07     0  0.469  7.185  61.1    4.9671       2   \n",
       "3     0.03237        0.0   2.18     0  0.458  6.998  45.8    6.0622       3   \n",
       "4     0.06905        0.0   2.18     0  0.458  7.147  54.2    6.0622       3   \n",
       "\n",
       "   tax  ptratio   black  lstat  price  \n",
       "0  296     15.3  396.90   4.98   24.0  \n",
       "1  242     17.8  396.90   9.14   21.6  \n",
       "2  242     17.8  392.83   4.03   34.7  \n",
       "3  222     18.7  394.63   2.94   33.4  \n",
       "4  222     18.7  396.90   5.33   36.2  "
      ]
     },
     "execution_count": 6,
     "metadata": {},
     "output_type": "execute_result"
    }
   ],
   "source": [
    "dfBoston = pd.read_csv('data/boston.csv')\n",
    "dfBoston.head()"
   ]
  },
  {
   "cell_type": "code",
   "execution_count": 7,
   "id": "6ed291c8-18d0-4985-bac5-6ea50555f4e2",
   "metadata": {
    "execution": {
     "iopub.execute_input": "2022-09-15T01:16:16.273833Z",
     "iopub.status.busy": "2022-09-15T01:16:16.273510Z",
     "iopub.status.idle": "2022-09-15T01:16:16.288565Z",
     "shell.execute_reply": "2022-09-15T01:16:16.287561Z",
     "shell.execute_reply.started": "2022-09-15T01:16:16.273810Z"
    },
    "tags": []
   },
   "outputs": [],
   "source": [
    "x = dfBoston.copy()\n",
    "y = x.pop('price')\n",
    "xTrain, xTest, yTrain, yTest = train_test_split(x, y, test_size=1/10, random_state=7)"
   ]
  },
  {
   "cell_type": "markdown",
   "id": "81633c27-d2df-4c5e-97bc-f74b200c671b",
   "metadata": {},
   "source": [
    "### Ray Tuner\n",
    "Ray run hyperparameters optimization via the class <code style='font-size:13px'>[Tuner]</code>. This class has 3 main components:\n",
    "<code style='font-size:13px'>[Trainable]</code>\n",
    "<code style='font-size:13px'>[TuneConfig]</code> and\n",
    "<code style='font-size:13px'>[RunConfig]</code>.\n",
    "\n",
    "[Tuner]: https://docs.ray.io/en/master/tune/api_docs/execution.html#tuner\n",
    "[Trainable]: https://docs.ray.io/en/latest/tune/api_docs/trainable.html\n",
    "[TuneConfig]: https://docs.ray.io/en/master/ray-air/package-ref.html#ray.tune.tune_config.TuneConfig\n",
    "[RunConfig]: https://docs.ray.io/en/master/ray-air/package-ref.html#ray.air.config.RunConfig"
   ]
  },
  {
   "cell_type": "code",
   "execution_count": 9,
   "id": "e2180ea4-5566-4e5a-a564-248cd2f0d283",
   "metadata": {
    "execution": {
     "iopub.execute_input": "2022-09-15T01:16:26.701053Z",
     "iopub.status.busy": "2022-09-15T01:16:26.700468Z",
     "iopub.status.idle": "2022-09-15T01:16:26.707256Z",
     "shell.execute_reply": "2022-09-15T01:16:26.705788Z",
     "shell.execute_reply.started": "2022-09-15T01:16:26.701015Z"
    },
    "tags": []
   },
   "outputs": [],
   "source": [
    "def objective(paramSpace):\n",
    "    algo = LGBMRegressor(**paramSpace, verbosity=-1)\n",
    "    scoreValid = cross_val_score(algo, xTrain, yTrain, scoring='r2', cv=5).mean()\n",
    "    return scoreValid\n",
    "\n",
    "paramSpace = {\n",
    "    'n_estimators': tune.randint(300, 500),\n",
    "    'learning_rate': tune.uniform(0.01, 0.5),\n",
    "    'boosting_type': tune.choice(['gbdt', 'goss', 'dart']),\n",
    "    'reg_alpha': tune.loguniform(1e-3, 1e3, base=10),\n",
    "    'reg_lambda': tune.loguniform(1e-3, 1e3, base=10),\n",
    "    'subsample': tune.quniform(0.2, 0.8, q=0.1),\n",
    "    'colsample_bytree': tune.quniform(0.2, 0.8, q=0.1),\n",
    "    'num_leaves': tune.qlograndint(4, 64, q=2, base=2),\n",
    "}"
   ]
  },
  {
   "cell_type": "code",
   "execution_count": 18,
   "id": "a67e7ead-9e18-49d6-957c-2bee7832f6d1",
   "metadata": {
    "execution": {
     "iopub.execute_input": "2022-09-14T17:27:36.855641Z",
     "iopub.status.busy": "2022-09-14T17:27:36.855286Z",
     "iopub.status.idle": "2022-09-14T17:27:46.115302Z",
     "shell.execute_reply": "2022-09-14T17:27:46.114659Z",
     "shell.execute_reply.started": "2022-09-14T17:27:36.855602Z"
    },
    "tags": []
   },
   "outputs": [
    {
     "data": {
      "text/html": [],
      "text/plain": [
       "<IPython.core.display.HTML object>"
      ]
     },
     "metadata": {},
     "output_type": "display_data"
    }
   ],
   "source": [
    "tuneConfig = tune.TuneConfig(\n",
    "    # metric='binary_erorr',\n",
    "    mode='max',\n",
    "    scheduler='async_hyperband',\n",
    "    num_samples=10,\n",
    ")\n",
    "\n",
    "runConfig = ray.air.config.RunConfig(verbose=0)\n",
    "\n",
    "tuner = tune.Tuner(objective, param_space=paramSpace, tune_config=tuneConfig, run_config=runConfig)\n",
    "result = tuner.fit()"
   ]
  },
  {
   "cell_type": "code",
   "execution_count": 28,
   "id": "a590e6ae-150e-40dc-94ad-b3a51d2c37b4",
   "metadata": {
    "execution": {
     "iopub.execute_input": "2022-09-14T17:38:32.105719Z",
     "iopub.status.busy": "2022-09-14T17:38:32.105343Z",
     "iopub.status.idle": "2022-09-14T17:38:32.110742Z",
     "shell.execute_reply": "2022-09-14T17:38:32.109796Z",
     "shell.execute_reply.started": "2022-09-14T17:38:32.105695Z"
    },
    "tags": []
   },
   "outputs": [
    {
     "data": {
      "text/plain": [
       "0.8808802735272714"
      ]
     },
     "execution_count": 28,
     "metadata": {},
     "output_type": "execute_result"
    }
   ],
   "source": [
    "result.get_best_result().metrics['_metric']"
   ]
  },
  {
   "cell_type": "code",
   "execution_count": 25,
   "id": "949e7671-de9b-4d02-a61f-ddc3a68e2186",
   "metadata": {
    "execution": {
     "iopub.execute_input": "2022-09-14T17:29:26.671281Z",
     "iopub.status.busy": "2022-09-14T17:29:26.670772Z",
     "iopub.status.idle": "2022-09-14T17:29:26.677130Z",
     "shell.execute_reply": "2022-09-14T17:29:26.676237Z",
     "shell.execute_reply.started": "2022-09-14T17:29:26.671243Z"
    },
    "tags": []
   },
   "outputs": [
    {
     "data": {
      "text/plain": [
       "PosixPath('/Users/hungpq/ray_results/objective_2022-09-15_00-27-36/objective_87351_00004_4_boosting_type=dart,colsample_bytree=0.7000,learning_rate=0.2549,n_estimators=462,num_leaves=6,reg_alpha=0._2022-09-15_00-27-39')"
      ]
     },
     "execution_count": 25,
     "metadata": {},
     "output_type": "execute_result"
    }
   ],
   "source": [
    "result.get_best_result().log_dir"
   ]
  },
  {
   "cell_type": "code",
   "execution_count": 24,
   "id": "b5cdd76e-468b-4a5c-a457-20bfc2033647",
   "metadata": {
    "execution": {
     "iopub.execute_input": "2022-09-14T17:29:10.577639Z",
     "iopub.status.busy": "2022-09-14T17:29:10.577306Z",
     "iopub.status.idle": "2022-09-14T17:29:10.582296Z",
     "shell.execute_reply": "2022-09-14T17:29:10.581512Z",
     "shell.execute_reply.started": "2022-09-14T17:29:10.577616Z"
    },
    "tags": []
   },
   "outputs": [
    {
     "data": {
      "text/plain": [
       "{'n_estimators': 462,\n",
       " 'learning_rate': 0.2549450865455335,\n",
       " 'boosting_type': 'dart',\n",
       " 'reg_alpha': 0.00620586579780976,\n",
       " 'reg_lambda': 0.015631260583187825,\n",
       " 'subsample': 0.5,\n",
       " 'colsample_bytree': 0.7000000000000001,\n",
       " 'num_leaves': 6}"
      ]
     },
     "execution_count": 24,
     "metadata": {},
     "output_type": "execute_result"
    }
   ],
   "source": [
    "result.get_best_result().config"
   ]
  },
  {
   "cell_type": "markdown",
   "id": "5d44e2ef-eed3-498c-b64d-390a877e291c",
   "metadata": {},
   "source": [
    "### TuneSearchCV\n",
    "Instead of defining experiments/trials explicitly, we can use <code style='font-size:13px'>[TuneSearchCV]</code>, a function using Scikit-learn's interface dedicated to tune Machine Learning algorithms. You can change the optimizer via the parameter <code style='font-size:13px'>search_optimization</code>, it accpets either a string (*random*, *bayesian*, *hyperopt*, *bohb* or *optuna*) or any Tune searcher.\n",
    "\n",
    "[TuneSearchCV]: https://docs.ray.io/en/latest/tune/api_docs/sklearn.html#tunesearchcv"
   ]
  },
  {
   "cell_type": "code",
   "execution_count": 5,
   "id": "6cba520b-8a88-4c18-8d01-dc4aa7c1f3b7",
   "metadata": {},
   "outputs": [],
   "source": [
    "algo = LGBMRegressor(verbosity=-1)\n",
    "\n",
    "paramSpace = {\n",
    "    'n_estimators': tune.randint(300, 500),\n",
    "    'learning_rate': tune.uniform(0.01, 0.5),\n",
    "    'boosting_type': tune.choice(['gbdt', 'goss', 'dart']),\n",
    "    'reg_alpha': tune.loguniform(1e-3, 1e3, base=10),\n",
    "    'reg_lambda': tune.loguniform(1e-3, 1e3, base=10),\n",
    "    'subsample': tune.quniform(0.2, 0.8, q=0.1),\n",
    "    'colsample_bytree': tune.quniform(0.2, 0.8, q=0.1),\n",
    "    'num_leaves': tune.qlograndint(4, 64, q=2, base=2),\n",
    "}"
   ]
  },
  {
   "cell_type": "code",
   "execution_count": 29,
   "id": "3292e65e-e81d-4863-a532-0cf366bea9dc",
   "metadata": {},
   "outputs": [],
   "source": [
    "validator = TuneSearchCV(\n",
    "    estimator=algo,\n",
    "    param_distributions=paramSpace,\n",
    "    cv=ShuffleSplit(n_splits=1, test_size=0.2, random_state=7),\n",
    "    n_trials=5,\n",
    "    scoring='r2',\n",
    "    search_optimization='hyperopt',\n",
    "    early_stopping='ASHAScheduler',\n",
    "    time_budget_s=300,\n",
    "    mode='max',\n",
    "    random_state=7,\n",
    ")"
   ]
  },
  {
   "cell_type": "code",
   "execution_count": 30,
   "id": "290e939a-6572-4b6c-b994-6e0b5d8feca2",
   "metadata": {},
   "outputs": [
    {
     "data": {
      "text/html": [],
      "text/plain": [
       "<IPython.core.display.HTML object>"
      ]
     },
     "metadata": {},
     "output_type": "display_data"
    },
    {
     "data": {
      "text/html": [
       "<style>#sk-container-id-3 {color: black;background-color: white;}#sk-container-id-3 pre{padding: 0;}#sk-container-id-3 div.sk-toggleable {background-color: white;}#sk-container-id-3 label.sk-toggleable__label {cursor: pointer;display: block;width: 100%;margin-bottom: 0;padding: 0.3em;box-sizing: border-box;text-align: center;}#sk-container-id-3 label.sk-toggleable__label-arrow:before {content: \"▸\";float: left;margin-right: 0.25em;color: #696969;}#sk-container-id-3 label.sk-toggleable__label-arrow:hover:before {color: black;}#sk-container-id-3 div.sk-estimator:hover label.sk-toggleable__label-arrow:before {color: black;}#sk-container-id-3 div.sk-toggleable__content {max-height: 0;max-width: 0;overflow: hidden;text-align: left;background-color: #f0f8ff;}#sk-container-id-3 div.sk-toggleable__content pre {margin: 0.2em;color: black;border-radius: 0.25em;background-color: #f0f8ff;}#sk-container-id-3 input.sk-toggleable__control:checked~div.sk-toggleable__content {max-height: 200px;max-width: 100%;overflow: auto;}#sk-container-id-3 input.sk-toggleable__control:checked~label.sk-toggleable__label-arrow:before {content: \"▾\";}#sk-container-id-3 div.sk-estimator input.sk-toggleable__control:checked~label.sk-toggleable__label {background-color: #d4ebff;}#sk-container-id-3 div.sk-label input.sk-toggleable__control:checked~label.sk-toggleable__label {background-color: #d4ebff;}#sk-container-id-3 input.sk-hidden--visually {border: 0;clip: rect(1px 1px 1px 1px);clip: rect(1px, 1px, 1px, 1px);height: 1px;margin: -1px;overflow: hidden;padding: 0;position: absolute;width: 1px;}#sk-container-id-3 div.sk-estimator {font-family: monospace;background-color: #f0f8ff;border: 1px dotted black;border-radius: 0.25em;box-sizing: border-box;margin-bottom: 0.5em;}#sk-container-id-3 div.sk-estimator:hover {background-color: #d4ebff;}#sk-container-id-3 div.sk-parallel-item::after {content: \"\";width: 100%;border-bottom: 1px solid gray;flex-grow: 1;}#sk-container-id-3 div.sk-label:hover label.sk-toggleable__label {background-color: #d4ebff;}#sk-container-id-3 div.sk-serial::before {content: \"\";position: absolute;border-left: 1px solid gray;box-sizing: border-box;top: 0;bottom: 0;left: 50%;z-index: 0;}#sk-container-id-3 div.sk-serial {display: flex;flex-direction: column;align-items: center;background-color: white;padding-right: 0.2em;padding-left: 0.2em;position: relative;}#sk-container-id-3 div.sk-item {position: relative;z-index: 1;}#sk-container-id-3 div.sk-parallel {display: flex;align-items: stretch;justify-content: center;background-color: white;position: relative;}#sk-container-id-3 div.sk-item::before, #sk-container-id-3 div.sk-parallel-item::before {content: \"\";position: absolute;border-left: 1px solid gray;box-sizing: border-box;top: 0;bottom: 0;left: 50%;z-index: -1;}#sk-container-id-3 div.sk-parallel-item {display: flex;flex-direction: column;z-index: 1;position: relative;background-color: white;}#sk-container-id-3 div.sk-parallel-item:first-child::after {align-self: flex-end;width: 50%;}#sk-container-id-3 div.sk-parallel-item:last-child::after {align-self: flex-start;width: 50%;}#sk-container-id-3 div.sk-parallel-item:only-child::after {width: 0;}#sk-container-id-3 div.sk-dashed-wrapped {border: 1px dashed gray;margin: 0 0.4em 0.5em 0.4em;box-sizing: border-box;padding-bottom: 0.4em;background-color: white;}#sk-container-id-3 div.sk-label label {font-family: monospace;font-weight: bold;display: inline-block;line-height: 1.2em;}#sk-container-id-3 div.sk-label-container {text-align: center;}#sk-container-id-3 div.sk-container {/* jupyter's `normalize.less` sets `[hidden] { display: none; }` but bootstrap.min.css set `[hidden] { display: none !important; }` so we also need the `!important` here to be able to override the default hidden behavior on the sphinx rendered scikit-learn.org. See: https://github.com/scikit-learn/scikit-learn/issues/21755 */display: inline-block !important;position: relative;}#sk-container-id-3 div.sk-text-repr-fallback {display: none;}</style><div id=\"sk-container-id-3\" class=\"sk-top-container\"><div class=\"sk-text-repr-fallback\"><pre>TuneSearchCV(cv=ShuffleSplit(n_splits=1, random_state=7, test_size=0.2, train_size=None),\n",
       "             early_stopping=&#x27;ASHAScheduler&#x27;,\n",
       "             estimator=LGBMRegressor(verbosity=-1), mode=&#x27;max&#x27;, n_jobs=-1,\n",
       "             n_trials=5,\n",
       "             param_distributions={&#x27;boosting_type&#x27;: &lt;ray.tune.search.sample.Categorical object at 0x00000232998B2AF0&gt;,\n",
       "                                  &#x27;colsample_bytree&#x27;: &lt;ray.tune.search.sample.Float object at 0x00000...\n",
       "                                  &#x27;num_leaves&#x27;: &lt;ray.tune.search.sample.Integer object at 0x000002329964C280&gt;,\n",
       "                                  &#x27;reg_alpha&#x27;: &lt;ray.tune.search.sample.Float object at 0x00000232998B2B80&gt;,\n",
       "                                  &#x27;reg_lambda&#x27;: &lt;ray.tune.search.sample.Float object at 0x00000232998B2C40&gt;,\n",
       "                                  &#x27;subsample&#x27;: &lt;ray.tune.search.sample.Float object at 0x000002329964CF40&gt;},\n",
       "             random_state=7, scoring=&#x27;r2&#x27;, search_optimization=&#x27;hyperopt&#x27;,\n",
       "             sk_n_jobs=1, time_budget_s=300)</pre><b>In a Jupyter environment, please rerun this cell to show the HTML representation or trust the notebook. <br />On GitHub, the HTML representation is unable to render, please try loading this page with nbviewer.org.</b></div><div class=\"sk-container\" hidden><div class=\"sk-item sk-dashed-wrapped\"><div class=\"sk-label-container\"><div class=\"sk-label sk-toggleable\"><input class=\"sk-toggleable__control sk-hidden--visually\" id=\"sk-estimator-id-7\" type=\"checkbox\" ><label for=\"sk-estimator-id-7\" class=\"sk-toggleable__label sk-toggleable__label-arrow\">TuneSearchCV</label><div class=\"sk-toggleable__content\"><pre>TuneSearchCV(cv=ShuffleSplit(n_splits=1, random_state=7, test_size=0.2, train_size=None),\n",
       "             early_stopping=&#x27;ASHAScheduler&#x27;,\n",
       "             estimator=LGBMRegressor(verbosity=-1), mode=&#x27;max&#x27;, n_jobs=-1,\n",
       "             n_trials=5,\n",
       "             param_distributions={&#x27;boosting_type&#x27;: &lt;ray.tune.search.sample.Categorical object at 0x00000232998B2AF0&gt;,\n",
       "                                  &#x27;colsample_bytree&#x27;: &lt;ray.tune.search.sample.Float object at 0x00000...\n",
       "                                  &#x27;num_leaves&#x27;: &lt;ray.tune.search.sample.Integer object at 0x000002329964C280&gt;,\n",
       "                                  &#x27;reg_alpha&#x27;: &lt;ray.tune.search.sample.Float object at 0x00000232998B2B80&gt;,\n",
       "                                  &#x27;reg_lambda&#x27;: &lt;ray.tune.search.sample.Float object at 0x00000232998B2C40&gt;,\n",
       "                                  &#x27;subsample&#x27;: &lt;ray.tune.search.sample.Float object at 0x000002329964CF40&gt;},\n",
       "             random_state=7, scoring=&#x27;r2&#x27;, search_optimization=&#x27;hyperopt&#x27;,\n",
       "             sk_n_jobs=1, time_budget_s=300)</pre></div></div></div><div class=\"sk-parallel\"><div class=\"sk-parallel-item\"><div class=\"sk-item\"><div class=\"sk-label-container\"><div class=\"sk-label sk-toggleable\"><input class=\"sk-toggleable__control sk-hidden--visually\" id=\"sk-estimator-id-8\" type=\"checkbox\" ><label for=\"sk-estimator-id-8\" class=\"sk-toggleable__label sk-toggleable__label-arrow\">estimator: LGBMRegressor</label><div class=\"sk-toggleable__content\"><pre>LGBMRegressor(verbosity=-1)</pre></div></div></div><div class=\"sk-serial\"><div class=\"sk-item\"><div class=\"sk-estimator sk-toggleable\"><input class=\"sk-toggleable__control sk-hidden--visually\" id=\"sk-estimator-id-9\" type=\"checkbox\" ><label for=\"sk-estimator-id-9\" class=\"sk-toggleable__label sk-toggleable__label-arrow\">LGBMRegressor</label><div class=\"sk-toggleable__content\"><pre>LGBMRegressor(verbosity=-1)</pre></div></div></div></div></div></div></div></div></div></div>"
      ],
      "text/plain": [
       "TuneSearchCV(cv=ShuffleSplit(n_splits=1, random_state=7, test_size=0.2, train_size=None),\n",
       "             early_stopping='ASHAScheduler',\n",
       "             estimator=LGBMRegressor(verbosity=-1), mode='max', n_jobs=-1,\n",
       "             n_trials=5,\n",
       "             param_distributions={'boosting_type': <ray.tune.search.sample.Categorical object at 0x00000232998B2AF0>,\n",
       "                                  'colsample_bytree': <ray.tune.search.sample.Float object at 0x00000...\n",
       "                                  'num_leaves': <ray.tune.search.sample.Integer object at 0x000002329964C280>,\n",
       "                                  'reg_alpha': <ray.tune.search.sample.Float object at 0x00000232998B2B80>,\n",
       "                                  'reg_lambda': <ray.tune.search.sample.Float object at 0x00000232998B2C40>,\n",
       "                                  'subsample': <ray.tune.search.sample.Float object at 0x000002329964CF40>},\n",
       "             random_state=7, scoring='r2', search_optimization='hyperopt',\n",
       "             sk_n_jobs=1, time_budget_s=300)"
      ]
     },
     "execution_count": 30,
     "metadata": {},
     "output_type": "execute_result"
    }
   ],
   "source": [
    "validator.fit(xTrain, yTrain)"
   ]
  },
  {
   "cell_type": "code",
   "execution_count": 31,
   "id": "ec4aced7-c5dc-42fd-8416-0cedd405f5a9",
   "metadata": {},
   "outputs": [
    {
     "data": {
      "text/plain": [
       "{'n_estimators': 326,\n",
       " 'learning_rate': 0.46439231091458705,\n",
       " 'boosting_type': 'dart',\n",
       " 'reg_alpha': 0.0010104257647162234,\n",
       " 'reg_lambda': 0.17841255959079713,\n",
       " 'subsample': 0.6000000000000001,\n",
       " 'colsample_bytree': 0.4,\n",
       " 'num_leaves': 52}"
      ]
     },
     "execution_count": 31,
     "metadata": {},
     "output_type": "execute_result"
    }
   ],
   "source": [
    "validator.best_params_"
   ]
  },
  {
   "cell_type": "code",
   "execution_count": 35,
   "id": "5eb79550-ddcf-4ab2-ad01-9137a9421284",
   "metadata": {},
   "outputs": [
    {
     "data": {
      "text/plain": [
       "0.8187092316296182"
      ]
     },
     "execution_count": 35,
     "metadata": {},
     "output_type": "execute_result"
    }
   ],
   "source": [
    "validator.best_score"
   ]
  },
  {
   "cell_type": "code",
   "execution_count": 37,
   "id": "87b2f202-4b20-4499-a475-d9b8145192e2",
   "metadata": {},
   "outputs": [
    {
     "data": {
      "text/plain": [
       "0.91666816614645"
      ]
     },
     "execution_count": 37,
     "metadata": {},
     "output_type": "execute_result"
    }
   ],
   "source": [
    "validator.best_estimator.score(xTest, yTest)"
   ]
  },
  {
   "cell_type": "markdown",
   "id": "63ca5053-5940-419e-8636-ad2dd5456fac",
   "metadata": {
    "tags": []
   },
   "source": [
    "# References\n",
    "- *papers.nips.cc - [Algorithms for hyperparameters optimization](https://papers.nips.cc/paper/2011/file/86e8f7ab32cfd12577bc2619bc635690-Paper.pdf)*\n",
    "- *arxiv.org - [Non-stochastic best arm identification and hyperparameter optimization](https://arxiv.org/pdf/1502.07943.pdf)*\n",
    "- *arxiv.org - [Hyperband: Bandit-based configuration evaluation for hyperparameter optimization](https://arxiv.org/pdf/1603.06560.pdf)*\n",
    "- *arxiv.org - [BOHB: Robust and efficient hyperparameter optimization at scale](https://arxiv.org/pdf/1807.01774.pdf)*\n",
    "- *deepmind.com - [Population based training of Neural Networks](https://www.deepmind.com/blog/population-based-training-of-neural-networks)*\n",
    "- *automl.org - [Overview of HPO packages](https://www.automl.org/automl/hpo-packages/)*\n",
    "- *medium.com - [A conceptual explanation of Bayesian hyperparameter optimization for Machine Learning](https://towardsdatascience.com/a-conceptual-explanation-of-bayesian-model-based-hyperparameter-optimization-for-machine-learning-b8172278050f)*\n",
    "- *medium.com - [Hyperparameter optimization algorithms: a short review](https://medium.com/criteo-engineering/hyper-parameter-optimization-algorithms-2fe447525903)*\n",
    "- *krasserm.github.io - [Bayesian Optimization](https://krasserm.github.io/2018/03/21/bayesian-optimization/)*\n",
    "- *distill.pub - [Exploring Bayesian Optimization](https://distill.pub/2020/bayesian-optimization/)*\n",
    "- *borealisai.com - [Tutorial #8: Bayesian optimization](https://www.borealisai.com/research-blogs/tutorial-8-bayesian-optimization/)*\n",
    "- *neupy.com - [Hyperparmeter optimization for Neural Networks](http://neupy.com/2016/12/17/hyperparameter_optimization_for_neural_networks.html)*\n",
    "- *ekamperi.github.io - [Acquisition functions](https://ekamperi.github.io/machine%20learning/2021/06/11/acquisition-functions.html)*\n",
    "- *blog.ml.cmu.edu - [Massively parallel hyperparameter optimization](https://blog.ml.cmu.edu/2018/12/12/massively-parallel-hyperparameter-optimization/)*\n",
    "- *deepmind.com - [Population based training of Neural Networks](https://www.deepmind.com/blog/population-based-training-of-neural-networks)*"
   ]
  },
  {
   "cell_type": "code",
   "execution_count": null,
   "id": "8e05d095-bf5d-424e-a18e-6f4d4d332dd4",
   "metadata": {},
   "outputs": [],
   "source": [
    "pip install hpbandster ConfigSpace"
   ]
  },
  {
   "cell_type": "code",
   "execution_count": null,
   "id": "f1fde2f5-95fa-4301-86ad-22df53ff6ae3",
   "metadata": {},
   "outputs": [],
   "source": [
    "pip install --upgrade nni --user"
   ]
  },
  {
   "cell_type": "markdown",
   "id": "efb00b13-5acf-4214-ac79-05bc4e6845f2",
   "metadata": {},
   "source": [
    "---\n",
    "*&#9829; By Quang Hung x Thuy Linh &#9829;*"
   ]
  }
 ],
 "metadata": {
  "kernelspec": {
   "display_name": "Python 3 (ipykernel)",
   "language": "python",
   "name": "python3"
  },
  "language_info": {
   "codemirror_mode": {
    "name": "ipython",
    "version": 3
   },
   "file_extension": ".py",
   "mimetype": "text/x-python",
   "name": "python",
   "nbconvert_exporter": "python",
   "pygments_lexer": "ipython3",
   "version": "3.9.7"
  }
 },
 "nbformat": 4,
 "nbformat_minor": 5
}
