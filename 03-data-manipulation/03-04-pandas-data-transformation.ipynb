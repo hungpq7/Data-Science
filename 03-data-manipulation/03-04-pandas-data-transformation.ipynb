{
 "cells": [
  {
   "cell_type": "markdown",
   "metadata": {},
   "source": [
    "# Pandas: Data Transformation"
   ]
  },
  {
   "cell_type": "markdown",
   "metadata": {},
   "source": [
    "## 1. Miscellaneous techniques"
   ]
  },
  {
   "cell_type": "markdown",
   "metadata": {
    "colab_type": "text",
    "id": "Q_G6ZQAk5bID"
   },
   "source": [
    "### 1.1. Mapping\n",
    "Map is the generalization of function."
   ]
  },
  {
   "cell_type": "code",
   "execution_count": null,
   "metadata": {},
   "outputs": [],
   "source": [
    "from util import np, pd\n",
    "from util._data import df_student"
   ]
  },
  {
   "cell_type": "code",
   "execution_count": 1,
   "metadata": {},
   "outputs": [
    {
     "data": {
      "text/html": [
       "<div>\n",
       "<style scoped>\n",
       "    .dataframe tbody tr th:only-of-type {\n",
       "        vertical-align: middle;\n",
       "    }\n",
       "\n",
       "    .dataframe tbody tr th {\n",
       "        vertical-align: top;\n",
       "    }\n",
       "\n",
       "    .dataframe thead th {\n",
       "        text-align: right;\n",
       "    }\n",
       "</style>\n",
       "<table border=\"1\" class=\"dataframe\">\n",
       "  <thead>\n",
       "    <tr style=\"text-align: right;\">\n",
       "      <th></th>\n",
       "      <th>student_id</th>\n",
       "      <th>gender</th>\n",
       "    </tr>\n",
       "  </thead>\n",
       "  <tbody>\n",
       "    <tr>\n",
       "      <th>0</th>\n",
       "      <td>010001</td>\n",
       "      <td>Male</td>\n",
       "    </tr>\n",
       "    <tr>\n",
       "      <th>1</th>\n",
       "      <td>030001</td>\n",
       "      <td>Female</td>\n",
       "    </tr>\n",
       "    <tr>\n",
       "      <th>2</th>\n",
       "      <td>070001</td>\n",
       "      <td>Female</td>\n",
       "    </tr>\n",
       "    <tr>\n",
       "      <th>3</th>\n",
       "      <td>080001</td>\n",
       "      <td>Female</td>\n",
       "    </tr>\n",
       "    <tr>\n",
       "      <th>4</th>\n",
       "      <td>110001</td>\n",
       "      <td>Male</td>\n",
       "    </tr>\n",
       "    <tr>\n",
       "      <th>5</th>\n",
       "      <td>120001</td>\n",
       "      <td>Female</td>\n",
       "    </tr>\n",
       "  </tbody>\n",
       "</table>\n",
       "</div>"
      ],
      "text/plain": [
       "  student_id  gender\n",
       "0     010001    Male\n",
       "1     030001  Female\n",
       "2     070001  Female\n",
       "3     080001  Female\n",
       "4     110001    Male\n",
       "5     120001  Female"
      ]
     },
     "execution_count": 1,
     "metadata": {},
     "output_type": "execute_result"
    }
   ],
   "source": [
    "df_student"
   ]
  },
  {
   "cell_type": "markdown",
   "metadata": {},
   "source": [
    "#### Mapping with a dictionary"
   ]
  },
  {
   "cell_type": "code",
   "execution_count": 3,
   "metadata": {},
   "outputs": [
    {
     "data": {
      "text/plain": [
       "0    1\n",
       "1    0\n",
       "2    0\n",
       "3    0\n",
       "4    1\n",
       "5    0\n",
       "Name: gender, dtype: int64"
      ]
     },
     "execution_count": 3,
     "metadata": {},
     "output_type": "execute_result"
    }
   ],
   "source": [
    "gender_map = {'Female': 0, 'Male': 1}\n",
    "df_student['gender'].map(gender_map)"
   ]
  },
  {
   "cell_type": "markdown",
   "metadata": {},
   "source": [
    "#### Mapping with a function"
   ]
  },
  {
   "cell_type": "code",
   "execution_count": 4,
   "metadata": {},
   "outputs": [
    {
     "data": {
      "text/html": [
       "<div>\n",
       "<style scoped>\n",
       "    .dataframe tbody tr th:only-of-type {\n",
       "        vertical-align: middle;\n",
       "    }\n",
       "\n",
       "    .dataframe tbody tr th {\n",
       "        vertical-align: top;\n",
       "    }\n",
       "\n",
       "    .dataframe thead th {\n",
       "        text-align: right;\n",
       "    }\n",
       "</style>\n",
       "<table border=\"1\" class=\"dataframe\">\n",
       "  <thead>\n",
       "    <tr style=\"text-align: right;\">\n",
       "      <th></th>\n",
       "      <th>student_id</th>\n",
       "      <th>gender</th>\n",
       "      <th>grade</th>\n",
       "    </tr>\n",
       "  </thead>\n",
       "  <tbody>\n",
       "    <tr>\n",
       "      <th>0</th>\n",
       "      <td>010001</td>\n",
       "      <td>Male</td>\n",
       "      <td>1</td>\n",
       "    </tr>\n",
       "    <tr>\n",
       "      <th>1</th>\n",
       "      <td>030001</td>\n",
       "      <td>Female</td>\n",
       "      <td>3</td>\n",
       "    </tr>\n",
       "    <tr>\n",
       "      <th>2</th>\n",
       "      <td>070001</td>\n",
       "      <td>Female</td>\n",
       "      <td>7</td>\n",
       "    </tr>\n",
       "    <tr>\n",
       "      <th>3</th>\n",
       "      <td>080001</td>\n",
       "      <td>Female</td>\n",
       "      <td>8</td>\n",
       "    </tr>\n",
       "    <tr>\n",
       "      <th>4</th>\n",
       "      <td>110001</td>\n",
       "      <td>Male</td>\n",
       "      <td>11</td>\n",
       "    </tr>\n",
       "    <tr>\n",
       "      <th>5</th>\n",
       "      <td>120001</td>\n",
       "      <td>Female</td>\n",
       "      <td>12</td>\n",
       "    </tr>\n",
       "  </tbody>\n",
       "</table>\n",
       "</div>"
      ],
      "text/plain": [
       "  student_id  gender  grade\n",
       "0     010001    Male      1\n",
       "1     030001  Female      3\n",
       "2     070001  Female      7\n",
       "3     080001  Female      8\n",
       "4     110001    Male     11\n",
       "5     120001  Female     12"
      ]
     },
     "execution_count": 4,
     "metadata": {},
     "output_type": "execute_result"
    }
   ],
   "source": [
    "df_student['grade'] = df_student['student_id'].map(lambda x: int(x[:2]))\n",
    "df_student"
   ]
  },
  {
   "cell_type": "code",
   "execution_count": 5,
   "metadata": {},
   "outputs": [
    {
     "data": {
      "text/html": [
       "<div>\n",
       "<style scoped>\n",
       "    .dataframe tbody tr th:only-of-type {\n",
       "        vertical-align: middle;\n",
       "    }\n",
       "\n",
       "    .dataframe tbody tr th {\n",
       "        vertical-align: top;\n",
       "    }\n",
       "\n",
       "    .dataframe thead th {\n",
       "        text-align: right;\n",
       "    }\n",
       "</style>\n",
       "<table border=\"1\" class=\"dataframe\">\n",
       "  <thead>\n",
       "    <tr style=\"text-align: right;\">\n",
       "      <th></th>\n",
       "      <th>student_id</th>\n",
       "      <th>gender</th>\n",
       "      <th>grade</th>\n",
       "      <th>stage</th>\n",
       "    </tr>\n",
       "  </thead>\n",
       "  <tbody>\n",
       "    <tr>\n",
       "      <th>0</th>\n",
       "      <td>010001</td>\n",
       "      <td>Male</td>\n",
       "      <td>1</td>\n",
       "      <td>Primary</td>\n",
       "    </tr>\n",
       "    <tr>\n",
       "      <th>1</th>\n",
       "      <td>030001</td>\n",
       "      <td>Female</td>\n",
       "      <td>3</td>\n",
       "      <td>Primary</td>\n",
       "    </tr>\n",
       "    <tr>\n",
       "      <th>2</th>\n",
       "      <td>070001</td>\n",
       "      <td>Female</td>\n",
       "      <td>7</td>\n",
       "      <td>Secondary</td>\n",
       "    </tr>\n",
       "    <tr>\n",
       "      <th>3</th>\n",
       "      <td>080001</td>\n",
       "      <td>Female</td>\n",
       "      <td>8</td>\n",
       "      <td>Secondary</td>\n",
       "    </tr>\n",
       "    <tr>\n",
       "      <th>4</th>\n",
       "      <td>110001</td>\n",
       "      <td>Male</td>\n",
       "      <td>11</td>\n",
       "      <td>High</td>\n",
       "    </tr>\n",
       "    <tr>\n",
       "      <th>5</th>\n",
       "      <td>120001</td>\n",
       "      <td>Female</td>\n",
       "      <td>12</td>\n",
       "      <td>High</td>\n",
       "    </tr>\n",
       "  </tbody>\n",
       "</table>\n",
       "</div>"
      ],
      "text/plain": [
       "  student_id  gender  grade      stage\n",
       "0     010001    Male      1    Primary\n",
       "1     030001  Female      3    Primary\n",
       "2     070001  Female      7  Secondary\n",
       "3     080001  Female      8  Secondary\n",
       "4     110001    Male     11       High\n",
       "5     120001  Female     12       High"
      ]
     },
     "execution_count": 5,
     "metadata": {},
     "output_type": "execute_result"
    }
   ],
   "source": [
    "def stage_map(grade):\n",
    "    if grade in range(1, 6):\n",
    "        stage = 'Primary'\n",
    "    if grade in range(6, 10):\n",
    "        stage = 'Secondary'\n",
    "    if grade in range(10, 13):\n",
    "        stage = 'High'\n",
    "    return stage\n",
    "\n",
    "df_student['stage'] = df_student['grade'].map(stage_map)\n",
    "df_student"
   ]
  },
  {
   "cell_type": "markdown",
   "metadata": {},
   "source": [
    "### 1.2. Window functions"
   ]
  },
  {
   "cell_type": "code",
   "execution_count": null,
   "metadata": {},
   "outputs": [],
   "source": [
    "from util import np, pd"
   ]
  },
  {
   "cell_type": "code",
   "execution_count": 19,
   "metadata": {
    "execution": {
     "iopub.execute_input": "2023-01-23T16:58:13.968267Z",
     "iopub.status.busy": "2023-01-23T16:58:13.967918Z",
     "iopub.status.idle": "2023-01-23T16:58:13.980017Z",
     "shell.execute_reply": "2023-01-23T16:58:13.979167Z",
     "shell.execute_reply.started": "2023-01-23T16:58:13.968244Z"
    },
    "tags": []
   },
   "outputs": [
    {
     "data": {
      "text/html": [
       "<div>\n",
       "<style scoped>\n",
       "    .dataframe tbody tr th:only-of-type {\n",
       "        vertical-align: middle;\n",
       "    }\n",
       "\n",
       "    .dataframe tbody tr th {\n",
       "        vertical-align: top;\n",
       "    }\n",
       "\n",
       "    .dataframe thead th {\n",
       "        text-align: right;\n",
       "    }\n",
       "</style>\n",
       "<table border=\"1\" class=\"dataframe\">\n",
       "  <thead>\n",
       "    <tr style=\"text-align: right;\">\n",
       "      <th></th>\n",
       "      <th>manufacturer</th>\n",
       "      <th>model</th>\n",
       "      <th>type</th>\n",
       "      <th>price</th>\n",
       "    </tr>\n",
       "  </thead>\n",
       "  <tbody>\n",
       "    <tr>\n",
       "      <th>0</th>\n",
       "      <td>Chevrolet</td>\n",
       "      <td>Cavalier</td>\n",
       "      <td>Compact</td>\n",
       "      <td>13.4</td>\n",
       "    </tr>\n",
       "    <tr>\n",
       "      <th>1</th>\n",
       "      <td>Chevrolet</td>\n",
       "      <td>Corsica</td>\n",
       "      <td>Compact</td>\n",
       "      <td>11.4</td>\n",
       "    </tr>\n",
       "    <tr>\n",
       "      <th>2</th>\n",
       "      <td>Chevrolet</td>\n",
       "      <td>Camaro</td>\n",
       "      <td>Sporty</td>\n",
       "      <td>15.1</td>\n",
       "    </tr>\n",
       "    <tr>\n",
       "      <th>3</th>\n",
       "      <td>Chevrolet</td>\n",
       "      <td>Lumina</td>\n",
       "      <td>Midsize</td>\n",
       "      <td>15.9</td>\n",
       "    </tr>\n",
       "    <tr>\n",
       "      <th>4</th>\n",
       "      <td>Chevrolet</td>\n",
       "      <td>Lumina_APV</td>\n",
       "      <td>Van</td>\n",
       "      <td>16.3</td>\n",
       "    </tr>\n",
       "  </tbody>\n",
       "</table>\n",
       "</div>"
      ],
      "text/plain": [
       "  manufacturer       model     type  price\n",
       "0    Chevrolet    Cavalier  Compact   13.4\n",
       "1    Chevrolet     Corsica  Compact   11.4\n",
       "2    Chevrolet      Camaro   Sporty   15.1\n",
       "3    Chevrolet      Lumina  Midsize   15.9\n",
       "4    Chevrolet  Lumina_APV      Van   16.3"
      ]
     },
     "execution_count": 19,
     "metadata": {},
     "output_type": "execute_result"
    }
   ],
   "source": [
    "columns = ['manufacturer', 'model', 'type', 'price', ]\n",
    "df_car = pd.read_csv('../data/cars.csv', usecols=columns)\n",
    "df_car.head()"
   ]
  },
  {
   "cell_type": "code",
   "execution_count": 20,
   "metadata": {
    "execution": {
     "iopub.execute_input": "2023-01-23T16:58:15.619167Z",
     "iopub.status.busy": "2023-01-23T16:58:15.618764Z",
     "iopub.status.idle": "2023-01-23T16:58:15.660702Z",
     "shell.execute_reply": "2023-01-23T16:58:15.659948Z",
     "shell.execute_reply.started": "2023-01-23T16:58:15.619139Z"
    },
    "tags": []
   },
   "outputs": [
    {
     "data": {
      "text/html": [
       "<div>\n",
       "<style scoped>\n",
       "    .dataframe tbody tr th:only-of-type {\n",
       "        vertical-align: middle;\n",
       "    }\n",
       "\n",
       "    .dataframe tbody tr th {\n",
       "        vertical-align: top;\n",
       "    }\n",
       "\n",
       "    .dataframe thead th {\n",
       "        text-align: right;\n",
       "    }\n",
       "</style>\n",
       "<table border=\"1\" class=\"dataframe\">\n",
       "  <thead>\n",
       "    <tr style=\"text-align: right;\">\n",
       "      <th></th>\n",
       "      <th>manufacturer</th>\n",
       "      <th>price</th>\n",
       "      <th>rank</th>\n",
       "      <th>dense_rank</th>\n",
       "      <th>row_number</th>\n",
       "    </tr>\n",
       "  </thead>\n",
       "  <tbody>\n",
       "    <tr>\n",
       "      <th>21</th>\n",
       "      <td>Hyundai</td>\n",
       "      <td>8.0</td>\n",
       "      <td>1</td>\n",
       "      <td>1</td>\n",
       "      <td>1</td>\n",
       "    </tr>\n",
       "    <tr>\n",
       "      <th>24</th>\n",
       "      <td>Hyundai</td>\n",
       "      <td>10.0</td>\n",
       "      <td>2</td>\n",
       "      <td>2</td>\n",
       "      <td>2</td>\n",
       "    </tr>\n",
       "    <tr>\n",
       "      <th>25</th>\n",
       "      <td>Hyundai</td>\n",
       "      <td>10.0</td>\n",
       "      <td>2</td>\n",
       "      <td>2</td>\n",
       "      <td>3</td>\n",
       "    </tr>\n",
       "    <tr>\n",
       "      <th>26</th>\n",
       "      <td>Hyundai</td>\n",
       "      <td>13.9</td>\n",
       "      <td>4</td>\n",
       "      <td>3</td>\n",
       "      <td>4</td>\n",
       "    </tr>\n",
       "    <tr>\n",
       "      <th>23</th>\n",
       "      <td>Hyundai</td>\n",
       "      <td>16.1</td>\n",
       "      <td>5</td>\n",
       "      <td>4</td>\n",
       "      <td>5</td>\n",
       "    </tr>\n",
       "    <tr>\n",
       "      <th>22</th>\n",
       "      <td>Hyundai</td>\n",
       "      <td>18.8</td>\n",
       "      <td>6</td>\n",
       "      <td>5</td>\n",
       "      <td>6</td>\n",
       "    </tr>\n",
       "  </tbody>\n",
       "</table>\n",
       "</div>"
      ],
      "text/plain": [
       "   manufacturer  price  rank  dense_rank  row_number\n",
       "21      Hyundai    8.0     1           1           1\n",
       "24      Hyundai   10.0     2           2           2\n",
       "25      Hyundai   10.0     2           2           3\n",
       "26      Hyundai   13.9     4           3           4\n",
       "23      Hyundai   16.1     5           4           5\n",
       "22      Hyundai   18.8     6           5           6"
      ]
     },
     "execution_count": 20,
     "metadata": {},
     "output_type": "execute_result"
    }
   ],
   "source": [
    "(\n",
    "    df_car\n",
    "    .select_columns('manufacturer', 'price')\n",
    "    .assign(rank=df_car.groupby('manufacturer')['price'].rank().astype(int))\n",
    "    .assign(dense_rank=df_car.groupby('manufacturer')['price'].rank(method='dense').astype(int))\n",
    "    .assign(row_number=df_car.groupby('manufacturer')['price'].rank(method='first').astype(int))\n",
    "    .sort_values(['manufacturer', 'price'])\n",
    "    .query(\"manufacturer=='Hyundai'\")\n",
    ")"
   ]
  },
  {
   "cell_type": "markdown",
   "metadata": {},
   "source": [
    "## 2. Pivot table"
   ]
  },
  {
   "cell_type": "markdown",
   "metadata": {},
   "source": [
    "### 2.1. Wide and long form\n",
    "\n",
    "#### Wide form table\n",
    "Wide form table divides a variable and places each part in a column. Therefore, it allows displaying more data, and is convenient for keeping tract of exactly one index (sales or profit, for example). However, wide form supports not very well storing two variables ore more.\n",
    "\n",
    "Color|2000 Q1|2000 Q2|2000 Q3|2000 Q4|\n",
    ":----|------:|------:|------:|------:|\n",
    "Red  |\\$ 1000|\\$ 1200|\\$ 1500|\\$ 1700|\n",
    "Green|\\$ 1500|\\$ 1500|\\$ 1575|\\$ 1800|\n",
    "Blue |\\$ 2000|\\$ 2200|\\$ 2000|\\$ 2800|\n",
    "\n",
    "#### Long form table\n",
    "Long form stores each variable in only one column, enables unlimited number of features. In data analysis, long form is considered tidy data and is used as standard tabular data format.\n",
    "\n",
    "Color|Quarter|Sales   |Quantity|Price|\n",
    ":----|:------|-------:|-------:|----:|\n",
    "Red  |2000 Q1|\\$ 1000 |50      |\\$ 20|\n",
    "Green|2000 Q1|\\$ 1500 |50      |\\$ 30|\n",
    "Blue |2000 Q1|\\$ 2000 |40      |\\$ 50|\n",
    "Red  |2000 Q2|\\$ 1200 |60      |\\$ 20|\n",
    "Green|2000 Q2|\\$ 1500 |50      |\\$ 30|\n",
    "Blue |2000 Q2|\\$ 2200 |40      |\\$ 55|\n",
    "Red  |2000 Q3|\\$ 1500 |75      |\\$ 20|\n",
    "Green|2000 Q3|\\$ 1575 |45      |\\$ 35|\n",
    "Blue |2000 Q3|\\$ 2000 |40      |\\$ 50|\n",
    "Red  |2000 Q4|\\$ 1700 |85      |\\$ 20|\n",
    "Green|2000 Q4|\\$ 1800 |20      |\\$ 60|\n",
    "Blue |2000 Q4|\\$ 2800 |70      |\\$ 40|"
   ]
  },
  {
   "cell_type": "markdown",
   "metadata": {},
   "source": [
    "### 2.2. Unpivoting\n",
    "Unpivoting is the process of transforming a table from wide form to long form. This technique is very useful in tidying up messy data."
   ]
  },
  {
   "cell_type": "code",
   "execution_count": 3,
   "metadata": {},
   "outputs": [],
   "source": [
    "from util import np, pd\n",
    "from util._data import df_sales"
   ]
  },
  {
   "cell_type": "code",
   "execution_count": 4,
   "metadata": {
    "execution": {
     "iopub.execute_input": "2022-08-07T18:13:41.145329Z",
     "iopub.status.busy": "2022-08-07T18:13:41.144895Z",
     "iopub.status.idle": "2022-08-07T18:13:41.170024Z",
     "shell.execute_reply": "2022-08-07T18:13:41.168842Z",
     "shell.execute_reply.started": "2022-08-07T18:13:41.145300Z"
    },
    "tags": []
   },
   "outputs": [
    {
     "data": {
      "text/html": [
       "<div>\n",
       "<style scoped>\n",
       "    .dataframe tbody tr th:only-of-type {\n",
       "        vertical-align: middle;\n",
       "    }\n",
       "\n",
       "    .dataframe tbody tr th {\n",
       "        vertical-align: top;\n",
       "    }\n",
       "\n",
       "    .dataframe thead th {\n",
       "        text-align: right;\n",
       "    }\n",
       "</style>\n",
       "<table border=\"1\" class=\"dataframe\">\n",
       "  <thead>\n",
       "    <tr style=\"text-align: right;\">\n",
       "      <th></th>\n",
       "      <th>color</th>\n",
       "      <th>2000 Q1</th>\n",
       "      <th>2000 Q2</th>\n",
       "      <th>2000 Q3</th>\n",
       "      <th>2000 Q4</th>\n",
       "    </tr>\n",
       "  </thead>\n",
       "  <tbody>\n",
       "    <tr>\n",
       "      <th>0</th>\n",
       "      <td>red</td>\n",
       "      <td>1000</td>\n",
       "      <td>1200</td>\n",
       "      <td>1500</td>\n",
       "      <td>1700</td>\n",
       "    </tr>\n",
       "    <tr>\n",
       "      <th>1</th>\n",
       "      <td>green</td>\n",
       "      <td>1500</td>\n",
       "      <td>1500</td>\n",
       "      <td>1575</td>\n",
       "      <td>1800</td>\n",
       "    </tr>\n",
       "    <tr>\n",
       "      <th>2</th>\n",
       "      <td>blue</td>\n",
       "      <td>2000</td>\n",
       "      <td>2200</td>\n",
       "      <td>2000</td>\n",
       "      <td>2800</td>\n",
       "    </tr>\n",
       "  </tbody>\n",
       "</table>\n",
       "</div>"
      ],
      "text/plain": [
       "   color  2000 Q1  2000 Q2  2000 Q3  2000 Q4\n",
       "0    red     1000     1200     1500     1700\n",
       "1  green     1500     1500     1575     1800\n",
       "2   blue     2000     2200     2000     2800"
      ]
     },
     "execution_count": 4,
     "metadata": {},
     "output_type": "execute_result"
    }
   ],
   "source": [
    "df_sales"
   ]
  },
  {
   "cell_type": "code",
   "execution_count": 4,
   "metadata": {
    "execution": {
     "iopub.execute_input": "2022-08-07T18:14:28.814526Z",
     "iopub.status.busy": "2022-08-07T18:14:28.814105Z",
     "iopub.status.idle": "2022-08-07T18:14:28.827617Z",
     "shell.execute_reply": "2022-08-07T18:14:28.826601Z",
     "shell.execute_reply.started": "2022-08-07T18:14:28.814495Z"
    },
    "tags": []
   },
   "outputs": [
    {
     "data": {
      "text/html": [
       "<div>\n",
       "<style scoped>\n",
       "    .dataframe tbody tr th:only-of-type {\n",
       "        vertical-align: middle;\n",
       "    }\n",
       "\n",
       "    .dataframe tbody tr th {\n",
       "        vertical-align: top;\n",
       "    }\n",
       "\n",
       "    .dataframe thead th {\n",
       "        text-align: right;\n",
       "    }\n",
       "</style>\n",
       "<table border=\"1\" class=\"dataframe\">\n",
       "  <thead>\n",
       "    <tr style=\"text-align: right;\">\n",
       "      <th></th>\n",
       "      <th>color</th>\n",
       "      <th>quarter</th>\n",
       "      <th>sales</th>\n",
       "    </tr>\n",
       "  </thead>\n",
       "  <tbody>\n",
       "    <tr>\n",
       "      <th>0</th>\n",
       "      <td>red</td>\n",
       "      <td>2000 Q1</td>\n",
       "      <td>1000</td>\n",
       "    </tr>\n",
       "    <tr>\n",
       "      <th>1</th>\n",
       "      <td>green</td>\n",
       "      <td>2000 Q1</td>\n",
       "      <td>1500</td>\n",
       "    </tr>\n",
       "    <tr>\n",
       "      <th>2</th>\n",
       "      <td>blue</td>\n",
       "      <td>2000 Q1</td>\n",
       "      <td>2000</td>\n",
       "    </tr>\n",
       "    <tr>\n",
       "      <th>3</th>\n",
       "      <td>red</td>\n",
       "      <td>2000 Q2</td>\n",
       "      <td>1200</td>\n",
       "    </tr>\n",
       "    <tr>\n",
       "      <th>4</th>\n",
       "      <td>green</td>\n",
       "      <td>2000 Q2</td>\n",
       "      <td>1500</td>\n",
       "    </tr>\n",
       "    <tr>\n",
       "      <th>5</th>\n",
       "      <td>blue</td>\n",
       "      <td>2000 Q2</td>\n",
       "      <td>2200</td>\n",
       "    </tr>\n",
       "    <tr>\n",
       "      <th>6</th>\n",
       "      <td>red</td>\n",
       "      <td>2000 Q3</td>\n",
       "      <td>1500</td>\n",
       "    </tr>\n",
       "    <tr>\n",
       "      <th>7</th>\n",
       "      <td>green</td>\n",
       "      <td>2000 Q3</td>\n",
       "      <td>1575</td>\n",
       "    </tr>\n",
       "    <tr>\n",
       "      <th>8</th>\n",
       "      <td>blue</td>\n",
       "      <td>2000 Q3</td>\n",
       "      <td>2000</td>\n",
       "    </tr>\n",
       "    <tr>\n",
       "      <th>9</th>\n",
       "      <td>red</td>\n",
       "      <td>2000 Q4</td>\n",
       "      <td>1700</td>\n",
       "    </tr>\n",
       "    <tr>\n",
       "      <th>10</th>\n",
       "      <td>green</td>\n",
       "      <td>2000 Q4</td>\n",
       "      <td>1800</td>\n",
       "    </tr>\n",
       "    <tr>\n",
       "      <th>11</th>\n",
       "      <td>blue</td>\n",
       "      <td>2000 Q4</td>\n",
       "      <td>2800</td>\n",
       "    </tr>\n",
       "  </tbody>\n",
       "</table>\n",
       "</div>"
      ],
      "text/plain": [
       "    color  quarter  sales\n",
       "0     red  2000 Q1   1000\n",
       "1   green  2000 Q1   1500\n",
       "2    blue  2000 Q1   2000\n",
       "3     red  2000 Q2   1200\n",
       "4   green  2000 Q2   1500\n",
       "5    blue  2000 Q2   2200\n",
       "6     red  2000 Q3   1500\n",
       "7   green  2000 Q3   1575\n",
       "8    blue  2000 Q3   2000\n",
       "9     red  2000 Q4   1700\n",
       "10  green  2000 Q4   1800\n",
       "11   blue  2000 Q4   2800"
      ]
     },
     "execution_count": 4,
     "metadata": {},
     "output_type": "execute_result"
    }
   ],
   "source": [
    "df_sales.melt(id_vars='color', var_name='quarter', value_name='sales')"
   ]
  },
  {
   "cell_type": "markdown",
   "metadata": {},
   "source": [
    "### 2.3. Pivot table\n",
    "Pivoting is the process of transforming a table from long form to wide form. Notice that the table in this case is already tidy, so pivot table mainly works as a tool to summarise data."
   ]
  },
  {
   "cell_type": "code",
   "execution_count": 5,
   "metadata": {},
   "outputs": [],
   "source": [
    "from util import np, pd\n",
    "from util._data import df_long"
   ]
  },
  {
   "cell_type": "code",
   "execution_count": 6,
   "metadata": {
    "tags": []
   },
   "outputs": [
    {
     "data": {
      "text/html": [
       "<div>\n",
       "<style scoped>\n",
       "    .dataframe tbody tr th:only-of-type {\n",
       "        vertical-align: middle;\n",
       "    }\n",
       "\n",
       "    .dataframe tbody tr th {\n",
       "        vertical-align: top;\n",
       "    }\n",
       "\n",
       "    .dataframe thead th {\n",
       "        text-align: right;\n",
       "    }\n",
       "</style>\n",
       "<table border=\"1\" class=\"dataframe\">\n",
       "  <thead>\n",
       "    <tr style=\"text-align: right;\">\n",
       "      <th></th>\n",
       "      <th>Market</th>\n",
       "      <th>Color</th>\n",
       "      <th>Size</th>\n",
       "      <th>Price</th>\n",
       "      <th>Sales</th>\n",
       "    </tr>\n",
       "  </thead>\n",
       "  <tbody>\n",
       "    <tr>\n",
       "      <th>0</th>\n",
       "      <td>Asian</td>\n",
       "      <td>Red</td>\n",
       "      <td>Large</td>\n",
       "      <td>17</td>\n",
       "      <td>68000</td>\n",
       "    </tr>\n",
       "    <tr>\n",
       "      <th>1</th>\n",
       "      <td>Asian</td>\n",
       "      <td>Red</td>\n",
       "      <td>Small</td>\n",
       "      <td>11</td>\n",
       "      <td>44000</td>\n",
       "    </tr>\n",
       "    <tr>\n",
       "      <th>2</th>\n",
       "      <td>Asian</td>\n",
       "      <td>Blue</td>\n",
       "      <td>Large</td>\n",
       "      <td>19</td>\n",
       "      <td>57000</td>\n",
       "    </tr>\n",
       "    <tr>\n",
       "      <th>3</th>\n",
       "      <td>Asian</td>\n",
       "      <td>Blue</td>\n",
       "      <td>Small</td>\n",
       "      <td>13</td>\n",
       "      <td>52000</td>\n",
       "    </tr>\n",
       "    <tr>\n",
       "      <th>4</th>\n",
       "      <td>Europe</td>\n",
       "      <td>Red</td>\n",
       "      <td>Large</td>\n",
       "      <td>18</td>\n",
       "      <td>81000</td>\n",
       "    </tr>\n",
       "    <tr>\n",
       "      <th>5</th>\n",
       "      <td>Europe</td>\n",
       "      <td>Red</td>\n",
       "      <td>Small</td>\n",
       "      <td>12</td>\n",
       "      <td>72000</td>\n",
       "    </tr>\n",
       "    <tr>\n",
       "      <th>6</th>\n",
       "      <td>Europe</td>\n",
       "      <td>Blue</td>\n",
       "      <td>Large</td>\n",
       "      <td>20</td>\n",
       "      <td>90000</td>\n",
       "    </tr>\n",
       "    <tr>\n",
       "      <th>7</th>\n",
       "      <td>Europe</td>\n",
       "      <td>Blue</td>\n",
       "      <td>Small</td>\n",
       "      <td>14</td>\n",
       "      <td>77000</td>\n",
       "    </tr>\n",
       "  </tbody>\n",
       "</table>\n",
       "</div>"
      ],
      "text/plain": [
       "   Market Color   Size  Price  Sales\n",
       "0   Asian   Red  Large     17  68000\n",
       "1   Asian   Red  Small     11  44000\n",
       "2   Asian  Blue  Large     19  57000\n",
       "3   Asian  Blue  Small     13  52000\n",
       "4  Europe   Red  Large     18  81000\n",
       "5  Europe   Red  Small     12  72000\n",
       "6  Europe  Blue  Large     20  90000\n",
       "7  Europe  Blue  Small     14  77000"
      ]
     },
     "execution_count": 6,
     "metadata": {},
     "output_type": "execute_result"
    }
   ],
   "source": [
    "df_long"
   ]
  },
  {
   "cell_type": "markdown",
   "metadata": {},
   "source": [
    "#### Basic pivoting\n",
    "Pivoting usually returns duplicated values, handling them requires an aggregate function. The default function used in the `pivot_table()` method is `np.mean()`. In this example, using `np.sum()` for `Sales` and `np.mean` for `Price` makes sense."
   ]
  },
  {
   "cell_type": "code",
   "execution_count": 20,
   "metadata": {},
   "outputs": [
    {
     "data": {
      "text/html": [
       "<div>\n",
       "<style scoped>\n",
       "    .dataframe tbody tr th:only-of-type {\n",
       "        vertical-align: middle;\n",
       "    }\n",
       "\n",
       "    .dataframe tbody tr th {\n",
       "        vertical-align: top;\n",
       "    }\n",
       "\n",
       "    .dataframe thead th {\n",
       "        text-align: right;\n",
       "    }\n",
       "</style>\n",
       "<table border=\"1\" class=\"dataframe\">\n",
       "  <thead>\n",
       "    <tr style=\"text-align: right;\">\n",
       "      <th></th>\n",
       "      <th>Market</th>\n",
       "      <th>Color</th>\n",
       "      <th>Large</th>\n",
       "      <th>Small</th>\n",
       "    </tr>\n",
       "  </thead>\n",
       "  <tbody>\n",
       "    <tr>\n",
       "      <th>0</th>\n",
       "      <td>Asian</td>\n",
       "      <td>Blue</td>\n",
       "      <td>57000</td>\n",
       "      <td>52000</td>\n",
       "    </tr>\n",
       "    <tr>\n",
       "      <th>1</th>\n",
       "      <td>Asian</td>\n",
       "      <td>Red</td>\n",
       "      <td>68000</td>\n",
       "      <td>44000</td>\n",
       "    </tr>\n",
       "    <tr>\n",
       "      <th>2</th>\n",
       "      <td>Europe</td>\n",
       "      <td>Blue</td>\n",
       "      <td>90000</td>\n",
       "      <td>77000</td>\n",
       "    </tr>\n",
       "    <tr>\n",
       "      <th>3</th>\n",
       "      <td>Europe</td>\n",
       "      <td>Red</td>\n",
       "      <td>81000</td>\n",
       "      <td>72000</td>\n",
       "    </tr>\n",
       "  </tbody>\n",
       "</table>\n",
       "</div>"
      ],
      "text/plain": [
       "   Market Color  Large  Small\n",
       "0   Asian  Blue  57000  52000\n",
       "1   Asian   Red  68000  44000\n",
       "2  Europe  Blue  90000  77000\n",
       "3  Europe   Red  81000  72000"
      ]
     },
     "execution_count": 20,
     "metadata": {},
     "output_type": "execute_result"
    }
   ],
   "source": [
    "(\n",
    "    df_long\n",
    "    .pivot_table(\n",
    "        index=['Market', 'Color'],\n",
    "        columns='Size',\n",
    "        values='Sales',\n",
    "        aggfunc=np.sum)\n",
    "    .reset_index()\n",
    "    .rename_axis(None, axis=1)\n",
    ")"
   ]
  },
  {
   "cell_type": "code",
   "execution_count": 21,
   "metadata": {},
   "outputs": [
    {
     "data": {
      "text/html": [
       "<div>\n",
       "<style scoped>\n",
       "    .dataframe tbody tr th:only-of-type {\n",
       "        vertical-align: middle;\n",
       "    }\n",
       "\n",
       "    .dataframe tbody tr th {\n",
       "        vertical-align: top;\n",
       "    }\n",
       "\n",
       "    .dataframe thead th {\n",
       "        text-align: right;\n",
       "    }\n",
       "</style>\n",
       "<table border=\"1\" class=\"dataframe\">\n",
       "  <thead>\n",
       "    <tr style=\"text-align: right;\">\n",
       "      <th></th>\n",
       "      <th>Market</th>\n",
       "      <th>Color</th>\n",
       "      <th>Large</th>\n",
       "      <th>Small</th>\n",
       "    </tr>\n",
       "  </thead>\n",
       "  <tbody>\n",
       "    <tr>\n",
       "      <th>0</th>\n",
       "      <td>Asian</td>\n",
       "      <td>Blue</td>\n",
       "      <td>19</td>\n",
       "      <td>13</td>\n",
       "    </tr>\n",
       "    <tr>\n",
       "      <th>1</th>\n",
       "      <td>Asian</td>\n",
       "      <td>Red</td>\n",
       "      <td>17</td>\n",
       "      <td>11</td>\n",
       "    </tr>\n",
       "    <tr>\n",
       "      <th>2</th>\n",
       "      <td>Europe</td>\n",
       "      <td>Blue</td>\n",
       "      <td>20</td>\n",
       "      <td>14</td>\n",
       "    </tr>\n",
       "    <tr>\n",
       "      <th>3</th>\n",
       "      <td>Europe</td>\n",
       "      <td>Red</td>\n",
       "      <td>18</td>\n",
       "      <td>12</td>\n",
       "    </tr>\n",
       "  </tbody>\n",
       "</table>\n",
       "</div>"
      ],
      "text/plain": [
       "   Market Color  Large  Small\n",
       "0   Asian  Blue     19     13\n",
       "1   Asian   Red     17     11\n",
       "2  Europe  Blue     20     14\n",
       "3  Europe   Red     18     12"
      ]
     },
     "execution_count": 21,
     "metadata": {},
     "output_type": "execute_result"
    }
   ],
   "source": [
    "(\n",
    "    df_long\n",
    "    .pivot_table(\n",
    "        index=['Market', 'Color'],\n",
    "        columns='Size',\n",
    "        values='Price',\n",
    "        aggfunc=np.mean)\n",
    "    .reset_index()\n",
    "    .rename_axis(None, axis=1)\n",
    ")"
   ]
  },
  {
   "cell_type": "markdown",
   "metadata": {},
   "source": [
    "#### Multivariate pivoting\n",
    "The more advanced the technique, the more complicated the tools are."
   ]
  },
  {
   "cell_type": "code",
   "execution_count": 22,
   "metadata": {
    "tags": []
   },
   "outputs": [
    {
     "data": {
      "text/html": [
       "<div>\n",
       "<style scoped>\n",
       "    .dataframe tbody tr th:only-of-type {\n",
       "        vertical-align: middle;\n",
       "    }\n",
       "\n",
       "    .dataframe tbody tr th {\n",
       "        vertical-align: top;\n",
       "    }\n",
       "\n",
       "    .dataframe thead tr th {\n",
       "        text-align: left;\n",
       "    }\n",
       "\n",
       "    .dataframe thead tr:last-of-type th {\n",
       "        text-align: right;\n",
       "    }\n",
       "</style>\n",
       "<table border=\"1\" class=\"dataframe\">\n",
       "  <thead>\n",
       "    <tr>\n",
       "      <th></th>\n",
       "      <th colspan=\"2\" halign=\"left\">Price</th>\n",
       "      <th colspan=\"2\" halign=\"left\">Sales</th>\n",
       "    </tr>\n",
       "    <tr>\n",
       "      <th>Color</th>\n",
       "      <th>Blue</th>\n",
       "      <th>Red</th>\n",
       "      <th>Blue</th>\n",
       "      <th>Red</th>\n",
       "    </tr>\n",
       "    <tr>\n",
       "      <th>Market</th>\n",
       "      <th></th>\n",
       "      <th></th>\n",
       "      <th></th>\n",
       "      <th></th>\n",
       "    </tr>\n",
       "  </thead>\n",
       "  <tbody>\n",
       "    <tr>\n",
       "      <th>Asian</th>\n",
       "      <td>16</td>\n",
       "      <td>14</td>\n",
       "      <td>109000</td>\n",
       "      <td>112000</td>\n",
       "    </tr>\n",
       "    <tr>\n",
       "      <th>Europe</th>\n",
       "      <td>17</td>\n",
       "      <td>15</td>\n",
       "      <td>167000</td>\n",
       "      <td>153000</td>\n",
       "    </tr>\n",
       "  </tbody>\n",
       "</table>\n",
       "</div>"
      ],
      "text/plain": [
       "       Price       Sales        \n",
       "Color   Blue Red    Blue     Red\n",
       "Market                          \n",
       "Asian     16  14  109000  112000\n",
       "Europe    17  15  167000  153000"
      ]
     },
     "execution_count": 22,
     "metadata": {},
     "output_type": "execute_result"
    }
   ],
   "source": [
    "df_wide = df_long.pivot_table(\n",
    "    index='Market',\n",
    "    columns='Color',\n",
    "    aggfunc={'Price': np.mean, 'Sales': np.sum}\n",
    ")\n",
    "df_wide"
   ]
  },
  {
   "cell_type": "markdown",
   "metadata": {},
   "source": [
    "&#9800;&nbsp;<b>Note</b><br>\n",
    "By passing a dictionary to the `aggfunc` parameter, the columns to be used as values are specified. Therefore, the `values` parameter can be skipped."
   ]
  },
  {
   "cell_type": "code",
   "execution_count": 23,
   "metadata": {
    "tags": []
   },
   "outputs": [
    {
     "data": {
      "text/html": [
       "<div>\n",
       "<style scoped>\n",
       "    .dataframe tbody tr th:only-of-type {\n",
       "        vertical-align: middle;\n",
       "    }\n",
       "\n",
       "    .dataframe tbody tr th {\n",
       "        vertical-align: top;\n",
       "    }\n",
       "\n",
       "    .dataframe thead th {\n",
       "        text-align: right;\n",
       "    }\n",
       "</style>\n",
       "<table border=\"1\" class=\"dataframe\">\n",
       "  <thead>\n",
       "    <tr style=\"text-align: right;\">\n",
       "      <th></th>\n",
       "      <th>Market</th>\n",
       "      <th>(Price, Blue)</th>\n",
       "      <th>(Price, Red)</th>\n",
       "      <th>(Sales, Blue)</th>\n",
       "      <th>(Sales, Red)</th>\n",
       "    </tr>\n",
       "  </thead>\n",
       "  <tbody>\n",
       "    <tr>\n",
       "      <th>0</th>\n",
       "      <td>Asian</td>\n",
       "      <td>16</td>\n",
       "      <td>14</td>\n",
       "      <td>109000</td>\n",
       "      <td>112000</td>\n",
       "    </tr>\n",
       "    <tr>\n",
       "      <th>1</th>\n",
       "      <td>Europe</td>\n",
       "      <td>17</td>\n",
       "      <td>15</td>\n",
       "      <td>167000</td>\n",
       "      <td>153000</td>\n",
       "    </tr>\n",
       "  </tbody>\n",
       "</table>\n",
       "</div>"
      ],
      "text/plain": [
       "   Market  (Price, Blue)  (Price, Red)  (Sales, Blue)  (Sales, Red)\n",
       "0   Asian             16            14         109000        112000\n",
       "1  Europe             17            15         167000        153000"
      ]
     },
     "execution_count": 23,
     "metadata": {},
     "output_type": "execute_result"
    }
   ],
   "source": [
    "df_wide.columns = df_wide.columns.values\n",
    "df_wide = df_wide.reset_index()\n",
    "df_wide"
   ]
  },
  {
   "cell_type": "markdown",
   "metadata": {},
   "source": [
    "#### Pivoting vs. grouping\n",
    "Skipping the `columns` parameter ends up returning the same result as the `groupby()` method."
   ]
  },
  {
   "cell_type": "code",
   "execution_count": 24,
   "metadata": {},
   "outputs": [
    {
     "data": {
      "text/html": [
       "<div>\n",
       "<style scoped>\n",
       "    .dataframe tbody tr th:only-of-type {\n",
       "        vertical-align: middle;\n",
       "    }\n",
       "\n",
       "    .dataframe tbody tr th {\n",
       "        vertical-align: top;\n",
       "    }\n",
       "\n",
       "    .dataframe thead th {\n",
       "        text-align: right;\n",
       "    }\n",
       "</style>\n",
       "<table border=\"1\" class=\"dataframe\">\n",
       "  <thead>\n",
       "    <tr style=\"text-align: right;\">\n",
       "      <th></th>\n",
       "      <th>Market</th>\n",
       "      <th>Color</th>\n",
       "      <th>Price</th>\n",
       "      <th>Sales</th>\n",
       "    </tr>\n",
       "  </thead>\n",
       "  <tbody>\n",
       "    <tr>\n",
       "      <th>0</th>\n",
       "      <td>Asian</td>\n",
       "      <td>Blue</td>\n",
       "      <td>16</td>\n",
       "      <td>109000</td>\n",
       "    </tr>\n",
       "    <tr>\n",
       "      <th>1</th>\n",
       "      <td>Asian</td>\n",
       "      <td>Red</td>\n",
       "      <td>14</td>\n",
       "      <td>112000</td>\n",
       "    </tr>\n",
       "    <tr>\n",
       "      <th>2</th>\n",
       "      <td>Europe</td>\n",
       "      <td>Blue</td>\n",
       "      <td>17</td>\n",
       "      <td>167000</td>\n",
       "    </tr>\n",
       "    <tr>\n",
       "      <th>3</th>\n",
       "      <td>Europe</td>\n",
       "      <td>Red</td>\n",
       "      <td>15</td>\n",
       "      <td>153000</td>\n",
       "    </tr>\n",
       "  </tbody>\n",
       "</table>\n",
       "</div>"
      ],
      "text/plain": [
       "   Market Color  Price   Sales\n",
       "0   Asian  Blue     16  109000\n",
       "1   Asian   Red     14  112000\n",
       "2  Europe  Blue     17  167000\n",
       "3  Europe   Red     15  153000"
      ]
     },
     "execution_count": 24,
     "metadata": {},
     "output_type": "execute_result"
    }
   ],
   "source": [
    "(\n",
    "    df_long\n",
    "    .pivot_table(\n",
    "        index=['Market', 'Color'],\n",
    "        aggfunc={'Price': np.mean, 'Sales': np.sum})\n",
    "    .reset_index()\n",
    ")"
   ]
  },
  {
   "cell_type": "code",
   "execution_count": 25,
   "metadata": {},
   "outputs": [
    {
     "data": {
      "text/html": [
       "<div>\n",
       "<style scoped>\n",
       "    .dataframe tbody tr th:only-of-type {\n",
       "        vertical-align: middle;\n",
       "    }\n",
       "\n",
       "    .dataframe tbody tr th {\n",
       "        vertical-align: top;\n",
       "    }\n",
       "\n",
       "    .dataframe thead th {\n",
       "        text-align: right;\n",
       "    }\n",
       "</style>\n",
       "<table border=\"1\" class=\"dataframe\">\n",
       "  <thead>\n",
       "    <tr style=\"text-align: right;\">\n",
       "      <th></th>\n",
       "      <th>Market</th>\n",
       "      <th>Color</th>\n",
       "      <th>Price</th>\n",
       "      <th>Sales</th>\n",
       "    </tr>\n",
       "  </thead>\n",
       "  <tbody>\n",
       "    <tr>\n",
       "      <th>0</th>\n",
       "      <td>Asian</td>\n",
       "      <td>Blue</td>\n",
       "      <td>16</td>\n",
       "      <td>109000</td>\n",
       "    </tr>\n",
       "    <tr>\n",
       "      <th>1</th>\n",
       "      <td>Asian</td>\n",
       "      <td>Red</td>\n",
       "      <td>14</td>\n",
       "      <td>112000</td>\n",
       "    </tr>\n",
       "    <tr>\n",
       "      <th>2</th>\n",
       "      <td>Europe</td>\n",
       "      <td>Blue</td>\n",
       "      <td>17</td>\n",
       "      <td>167000</td>\n",
       "    </tr>\n",
       "    <tr>\n",
       "      <th>3</th>\n",
       "      <td>Europe</td>\n",
       "      <td>Red</td>\n",
       "      <td>15</td>\n",
       "      <td>153000</td>\n",
       "    </tr>\n",
       "  </tbody>\n",
       "</table>\n",
       "</div>"
      ],
      "text/plain": [
       "   Market Color  Price   Sales\n",
       "0   Asian  Blue     16  109000\n",
       "1   Asian   Red     14  112000\n",
       "2  Europe  Blue     17  167000\n",
       "3  Europe   Red     15  153000"
      ]
     },
     "execution_count": 25,
     "metadata": {},
     "output_type": "execute_result"
    }
   ],
   "source": [
    "(\n",
    "    df_long\n",
    "    .groupby(['Market', 'Color'])\n",
    "    .agg({'Price': np.mean, 'Sales': np.sum})\n",
    "    .reset_index()\n",
    ")"
   ]
  },
  {
   "cell_type": "markdown",
   "metadata": {},
   "source": [
    "## 3. Combining datasets"
   ]
  },
  {
   "cell_type": "markdown",
   "metadata": {},
   "source": [
    "### 3.1. Concatenation\n",
    "The function\n",
    "<code style=\"font-size:13px\"><a href=\"https://pandas.pydata.org/docs/reference/api/pandas.concat.html\">pd.concat()</a></code>\n",
    "is equivalent to\n",
    "<code style=\"font-size:13px\">UNION ALL</code>\n",
    "statement in SQL, which combines data vertically based on matched columns. Pandas matches columns using column names rather than order."
   ]
  },
  {
   "cell_type": "code",
   "execution_count": 3,
   "metadata": {},
   "outputs": [],
   "source": [
    "import util\n",
    "from util import np, pd"
   ]
  },
  {
   "cell_type": "code",
   "execution_count": 10,
   "metadata": {},
   "outputs": [
    {
     "data": {
      "text/plain": [
       "dict_keys(['1960s', '1970s', '1980s', '1990s', '2000s', '2010s'])"
      ]
     },
     "execution_count": 10,
     "metadata": {},
     "output_type": "execute_result"
    }
   ],
   "source": [
    "db = pd.read_excel('../data/world_population.xlsx', sheet_name=None)\n",
    "db.keys()"
   ]
  },
  {
   "cell_type": "code",
   "execution_count": 11,
   "metadata": {},
   "outputs": [
    {
     "data": {
      "text/html": [
       "<div>\n",
       "<style scoped>\n",
       "    .dataframe tbody tr th:only-of-type {\n",
       "        vertical-align: middle;\n",
       "    }\n",
       "\n",
       "    .dataframe tbody tr th {\n",
       "        vertical-align: top;\n",
       "    }\n",
       "\n",
       "    .dataframe thead th {\n",
       "        text-align: right;\n",
       "    }\n",
       "</style>\n",
       "<table border=\"1\" class=\"dataframe\">\n",
       "  <thead>\n",
       "    <tr style=\"text-align: right;\">\n",
       "      <th></th>\n",
       "      <th>year</th>\n",
       "      <th>country</th>\n",
       "      <th>population</th>\n",
       "    </tr>\n",
       "  </thead>\n",
       "  <tbody>\n",
       "    <tr>\n",
       "      <th>0</th>\n",
       "      <td>1960</td>\n",
       "      <td>Afghanistan</td>\n",
       "      <td>8996351.0</td>\n",
       "    </tr>\n",
       "    <tr>\n",
       "      <th>1</th>\n",
       "      <td>1961</td>\n",
       "      <td>Afghanistan</td>\n",
       "      <td>9166764.0</td>\n",
       "    </tr>\n",
       "    <tr>\n",
       "      <th>2</th>\n",
       "      <td>1962</td>\n",
       "      <td>Afghanistan</td>\n",
       "      <td>9345868.0</td>\n",
       "    </tr>\n",
       "    <tr>\n",
       "      <th>3</th>\n",
       "      <td>1963</td>\n",
       "      <td>Afghanistan</td>\n",
       "      <td>9533954.0</td>\n",
       "    </tr>\n",
       "    <tr>\n",
       "      <th>4</th>\n",
       "      <td>1964</td>\n",
       "      <td>Afghanistan</td>\n",
       "      <td>9731361.0</td>\n",
       "    </tr>\n",
       "    <tr>\n",
       "      <th>...</th>\n",
       "      <td>...</td>\n",
       "      <td>...</td>\n",
       "      <td>...</td>\n",
       "    </tr>\n",
       "    <tr>\n",
       "      <th>1509</th>\n",
       "      <td>2012</td>\n",
       "      <td>Zimbabwe</td>\n",
       "      <td>14710826.0</td>\n",
       "    </tr>\n",
       "    <tr>\n",
       "      <th>1510</th>\n",
       "      <td>2013</td>\n",
       "      <td>Zimbabwe</td>\n",
       "      <td>15054506.0</td>\n",
       "    </tr>\n",
       "    <tr>\n",
       "      <th>1511</th>\n",
       "      <td>2014</td>\n",
       "      <td>Zimbabwe</td>\n",
       "      <td>15411675.0</td>\n",
       "    </tr>\n",
       "    <tr>\n",
       "      <th>1512</th>\n",
       "      <td>2015</td>\n",
       "      <td>Zimbabwe</td>\n",
       "      <td>15777451.0</td>\n",
       "    </tr>\n",
       "    <tr>\n",
       "      <th>1513</th>\n",
       "      <td>2016</td>\n",
       "      <td>Zimbabwe</td>\n",
       "      <td>16150362.0</td>\n",
       "    </tr>\n",
       "  </tbody>\n",
       "</table>\n",
       "<p>12263 rows × 3 columns</p>\n",
       "</div>"
      ],
      "text/plain": [
       "      year      country  population\n",
       "0     1960  Afghanistan   8996351.0\n",
       "1     1961  Afghanistan   9166764.0\n",
       "2     1962  Afghanistan   9345868.0\n",
       "3     1963  Afghanistan   9533954.0\n",
       "4     1964  Afghanistan   9731361.0\n",
       "...    ...          ...         ...\n",
       "1509  2012     Zimbabwe  14710826.0\n",
       "1510  2013     Zimbabwe  15054506.0\n",
       "1511  2014     Zimbabwe  15411675.0\n",
       "1512  2015     Zimbabwe  15777451.0\n",
       "1513  2016     Zimbabwe  16150362.0\n",
       "\n",
       "[12263 rows x 3 columns]"
      ]
     },
     "execution_count": 11,
     "metadata": {},
     "output_type": "execute_result"
    }
   ],
   "source": [
    "pd.concat(db.values())"
   ]
  },
  {
   "cell_type": "markdown",
   "metadata": {},
   "source": [
    "### 3.2. Merging\n",
    "The method \n",
    "<code style=\"font-size:13px\"><a href=\"https://pandas.pydata.org/pandas-docs/stable/reference/api/pandas.DataFrame.merge.html\">merge()</a></code>\n",
    "is equivalent to the\n",
    "<code style=\"font-size:13px\">JOIN</code>\n",
    "statement in SQL, which combines columns based on matched rows. Row matching is performed on *key columns*, and can be one of four types: *left*, *right*, *inner* and *outer*."
   ]
  },
  {
   "cell_type": "code",
   "execution_count": 13,
   "metadata": {
    "execution": {
     "iopub.execute_input": "2023-01-23T17:00:27.092380Z",
     "iopub.status.busy": "2023-01-23T17:00:27.091968Z",
     "iopub.status.idle": "2023-01-23T17:00:27.096450Z",
     "shell.execute_reply": "2023-01-23T17:00:27.094868Z",
     "shell.execute_reply.started": "2023-01-23T17:00:27.092350Z"
    }
   },
   "outputs": [],
   "source": [
    "from util import np, pd\n",
    "from util._data import df_income, df_tax"
   ]
  },
  {
   "cell_type": "code",
   "execution_count": 14,
   "metadata": {
    "execution": {
     "iopub.execute_input": "2023-01-23T17:00:29.385634Z",
     "iopub.status.busy": "2023-01-23T17:00:29.385230Z",
     "iopub.status.idle": "2023-01-23T17:00:29.392799Z",
     "shell.execute_reply": "2023-01-23T17:00:29.391738Z",
     "shell.execute_reply.started": "2023-01-23T17:00:29.385607Z"
    },
    "tags": []
   },
   "outputs": [
    {
     "data": {
      "text/html": [
       "<div>\n",
       "<style scoped>\n",
       "    .dataframe tbody tr th:only-of-type {\n",
       "        vertical-align: middle;\n",
       "    }\n",
       "\n",
       "    .dataframe tbody tr th {\n",
       "        vertical-align: top;\n",
       "    }\n",
       "\n",
       "    .dataframe thead th {\n",
       "        text-align: right;\n",
       "    }\n",
       "</style>\n",
       "<table border=\"1\" class=\"dataframe\">\n",
       "  <thead>\n",
       "    <tr style=\"text-align: right;\">\n",
       "      <th></th>\n",
       "      <th>name</th>\n",
       "      <th>income_before_tax</th>\n",
       "      <th>tax_band</th>\n",
       "    </tr>\n",
       "  </thead>\n",
       "  <tbody>\n",
       "    <tr>\n",
       "      <th>0</th>\n",
       "      <td>Hannah</td>\n",
       "      <td>12000</td>\n",
       "      <td>Allowance</td>\n",
       "    </tr>\n",
       "    <tr>\n",
       "      <th>1</th>\n",
       "      <td>James</td>\n",
       "      <td>30000</td>\n",
       "      <td>Basic</td>\n",
       "    </tr>\n",
       "    <tr>\n",
       "      <th>2</th>\n",
       "      <td>Gabriel</td>\n",
       "      <td>7000</td>\n",
       "      <td>Allowance</td>\n",
       "    </tr>\n",
       "    <tr>\n",
       "      <th>3</th>\n",
       "      <td>Smith</td>\n",
       "      <td>20000</td>\n",
       "      <td>Basic</td>\n",
       "    </tr>\n",
       "    <tr>\n",
       "      <th>4</th>\n",
       "      <td>Alex</td>\n",
       "      <td>100000</td>\n",
       "      <td>Higher</td>\n",
       "    </tr>\n",
       "  </tbody>\n",
       "</table>\n",
       "</div>"
      ],
      "text/plain": [
       "      name  income_before_tax   tax_band\n",
       "0   Hannah              12000  Allowance\n",
       "1    James              30000      Basic\n",
       "2  Gabriel               7000  Allowance\n",
       "3    Smith              20000      Basic\n",
       "4     Alex             100000     Higher"
      ]
     },
     "execution_count": 14,
     "metadata": {},
     "output_type": "execute_result"
    }
   ],
   "source": [
    "df_income"
   ]
  },
  {
   "cell_type": "code",
   "execution_count": 15,
   "metadata": {
    "execution": {
     "iopub.execute_input": "2023-01-23T17:00:50.810294Z",
     "iopub.status.busy": "2023-01-23T17:00:50.809929Z",
     "iopub.status.idle": "2023-01-23T17:00:50.818054Z",
     "shell.execute_reply": "2023-01-23T17:00:50.816948Z",
     "shell.execute_reply.started": "2023-01-23T17:00:50.810265Z"
    },
    "tags": []
   },
   "outputs": [
    {
     "data": {
      "text/html": [
       "<div>\n",
       "<style scoped>\n",
       "    .dataframe tbody tr th:only-of-type {\n",
       "        vertical-align: middle;\n",
       "    }\n",
       "\n",
       "    .dataframe tbody tr th {\n",
       "        vertical-align: top;\n",
       "    }\n",
       "\n",
       "    .dataframe thead th {\n",
       "        text-align: right;\n",
       "    }\n",
       "</style>\n",
       "<table border=\"1\" class=\"dataframe\">\n",
       "  <thead>\n",
       "    <tr style=\"text-align: right;\">\n",
       "      <th></th>\n",
       "      <th>band</th>\n",
       "      <th>income_range</th>\n",
       "      <th>tax_rate</th>\n",
       "    </tr>\n",
       "  </thead>\n",
       "  <tbody>\n",
       "    <tr>\n",
       "      <th>0</th>\n",
       "      <td>Allowance</td>\n",
       "      <td>Up to 12,500</td>\n",
       "      <td>0.00</td>\n",
       "    </tr>\n",
       "    <tr>\n",
       "      <th>1</th>\n",
       "      <td>Basic</td>\n",
       "      <td>12,501 to 50,000</td>\n",
       "      <td>0.20</td>\n",
       "    </tr>\n",
       "    <tr>\n",
       "      <th>2</th>\n",
       "      <td>Higher</td>\n",
       "      <td>50,001 to 150,000</td>\n",
       "      <td>0.40</td>\n",
       "    </tr>\n",
       "    <tr>\n",
       "      <th>3</th>\n",
       "      <td>Additional</td>\n",
       "      <td>Over 150,000</td>\n",
       "      <td>0.45</td>\n",
       "    </tr>\n",
       "  </tbody>\n",
       "</table>\n",
       "</div>"
      ],
      "text/plain": [
       "         band       income_range  tax_rate\n",
       "0   Allowance       Up to 12,500      0.00\n",
       "1       Basic   12,501 to 50,000      0.20\n",
       "2      Higher  50,001 to 150,000      0.40\n",
       "3  Additional       Over 150,000      0.45"
      ]
     },
     "execution_count": 15,
     "metadata": {},
     "output_type": "execute_result"
    }
   ],
   "source": [
    "df_tax"
   ]
  },
  {
   "cell_type": "code",
   "execution_count": 16,
   "metadata": {
    "execution": {
     "iopub.execute_input": "2023-01-23T17:00:55.075373Z",
     "iopub.status.busy": "2023-01-23T17:00:55.075011Z",
     "iopub.status.idle": "2023-01-23T17:00:55.093516Z",
     "shell.execute_reply": "2023-01-23T17:00:55.091877Z",
     "shell.execute_reply.started": "2023-01-23T17:00:55.075348Z"
    },
    "tags": []
   },
   "outputs": [
    {
     "data": {
      "text/html": [
       "<div>\n",
       "<style scoped>\n",
       "    .dataframe tbody tr th:only-of-type {\n",
       "        vertical-align: middle;\n",
       "    }\n",
       "\n",
       "    .dataframe tbody tr th {\n",
       "        vertical-align: top;\n",
       "    }\n",
       "\n",
       "    .dataframe thead th {\n",
       "        text-align: right;\n",
       "    }\n",
       "</style>\n",
       "<table border=\"1\" class=\"dataframe\">\n",
       "  <thead>\n",
       "    <tr style=\"text-align: right;\">\n",
       "      <th></th>\n",
       "      <th>name</th>\n",
       "      <th>income_before_tax</th>\n",
       "      <th>band</th>\n",
       "      <th>income_range</th>\n",
       "      <th>tax_rate</th>\n",
       "    </tr>\n",
       "  </thead>\n",
       "  <tbody>\n",
       "    <tr>\n",
       "      <th>0</th>\n",
       "      <td>Hannah</td>\n",
       "      <td>12000</td>\n",
       "      <td>Allowance</td>\n",
       "      <td>Up to 12,500</td>\n",
       "      <td>0.0</td>\n",
       "    </tr>\n",
       "    <tr>\n",
       "      <th>1</th>\n",
       "      <td>James</td>\n",
       "      <td>30000</td>\n",
       "      <td>Basic</td>\n",
       "      <td>12,501 to 50,000</td>\n",
       "      <td>0.2</td>\n",
       "    </tr>\n",
       "    <tr>\n",
       "      <th>2</th>\n",
       "      <td>Gabriel</td>\n",
       "      <td>7000</td>\n",
       "      <td>Allowance</td>\n",
       "      <td>Up to 12,500</td>\n",
       "      <td>0.0</td>\n",
       "    </tr>\n",
       "    <tr>\n",
       "      <th>3</th>\n",
       "      <td>Smith</td>\n",
       "      <td>20000</td>\n",
       "      <td>Basic</td>\n",
       "      <td>12,501 to 50,000</td>\n",
       "      <td>0.2</td>\n",
       "    </tr>\n",
       "    <tr>\n",
       "      <th>4</th>\n",
       "      <td>Alex</td>\n",
       "      <td>100000</td>\n",
       "      <td>Higher</td>\n",
       "      <td>50,001 to 150,000</td>\n",
       "      <td>0.4</td>\n",
       "    </tr>\n",
       "  </tbody>\n",
       "</table>\n",
       "</div>"
      ],
      "text/plain": [
       "      name  income_before_tax       band       income_range  tax_rate\n",
       "0   Hannah              12000  Allowance       Up to 12,500       0.0\n",
       "1    James              30000      Basic   12,501 to 50,000       0.2\n",
       "2  Gabriel               7000  Allowance       Up to 12,500       0.0\n",
       "3    Smith              20000      Basic   12,501 to 50,000       0.2\n",
       "4     Alex             100000     Higher  50,001 to 150,000       0.4"
      ]
     },
     "execution_count": 16,
     "metadata": {},
     "output_type": "execute_result"
    }
   ],
   "source": [
    "df_income.rename(columns={'tax_band': 'band'}).merge(df_tax, how='left')"
   ]
  }
 ],
 "metadata": {
  "colab": {
   "name": "lecture7.ipynb",
   "provenance": [],
   "version": "0.3.2"
  },
  "kernelspec": {
   "display_name": "Python 3 (ipykernel)",
   "language": "python",
   "name": "python3"
  },
  "language_info": {
   "codemirror_mode": {
    "name": "ipython",
    "version": 3
   },
   "file_extension": ".py",
   "mimetype": "text/x-python",
   "name": "python",
   "nbconvert_exporter": "python",
   "pygments_lexer": "ipython3",
   "version": "3.12.0"
  },
  "toc-autonumbering": false
 },
 "nbformat": 4,
 "nbformat_minor": 4
}
