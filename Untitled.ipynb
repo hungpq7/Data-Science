{
 "cells": [
  {
   "cell_type": "code",
   "execution_count": 1,
   "id": "f834892d-bdd9-49d2-861b-3f2fffdf71aa",
   "metadata": {
    "execution": {
     "iopub.execute_input": "2022-11-27T04:30:46.947187Z",
     "iopub.status.busy": "2022-11-27T04:30:46.946454Z",
     "iopub.status.idle": "2022-11-27T04:30:47.722028Z",
     "shell.execute_reply": "2022-11-27T04:30:47.721463Z",
     "shell.execute_reply.started": "2022-11-27T04:30:46.947063Z"
    },
    "tags": []
   },
   "outputs": [],
   "source": [
    "import sympy as sym"
   ]
  },
  {
   "cell_type": "code",
   "execution_count": null,
   "id": "8036ed32-84e0-424c-aa23-0517a3b874fe",
   "metadata": {},
   "outputs": [],
   "source": [
    "sym"
   ]
  }
 ],
 "metadata": {
  "kernelspec": {
   "display_name": "Python 3",
   "language": "python",
   "name": "python3"
  },
  "language_info": {
   "codemirror_mode": {
    "name": "ipython",
    "version": 3
   },
   "file_extension": ".py",
   "mimetype": "text/x-python",
   "name": "python",
   "nbconvert_exporter": "python",
   "pygments_lexer": "ipython3",
   "version": "3.8.8"
  }
 },
 "nbformat": 4,
 "nbformat_minor": 5
}
