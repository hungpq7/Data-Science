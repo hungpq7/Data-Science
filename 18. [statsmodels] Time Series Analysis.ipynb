{
 "cells": [
  {
   "cell_type": "markdown",
   "metadata": {},
   "source": [
    "# 1. Time series manipulation"
   ]
  },
  {
   "cell_type": "markdown",
   "metadata": {},
   "source": [
    "## 1.1. Datetime manipulation"
   ]
  },
  {
   "cell_type": "code",
   "execution_count": 1,
   "metadata": {},
   "outputs": [],
   "source": [
    "import numpy as np\n",
    "import pandas as pd"
   ]
  },
  {
   "cell_type": "markdown",
   "metadata": {},
   "source": [
    "### Standard format\n",
    "The complete datetime has the data type of <code style='font-size:13px;'>datetime64</code> and the format can be either <code style='font-size:13px;'>YYYY-MM-DD</code> or <code style='font-size:13px;'>YYYY-MM-DD hh:mm:ss</code>. This column can be used to detach year, quarter, month,... and the cyclic fields.\n",
    "\n",
    "To quickly create a date or time column, use the <code style='font-size:13px;'>pd.date_range()</code> function with the <code style='font-size:13px;'>freq</code> parameter indicating the frequency of the date. The <code style='font-size:13px;'>freq</code> parameter support a number of [aliases](https://pandas.pydata.org/pandas-docs/stable/user_guide/timeseries.html#timeseries-offset-aliases)."
   ]
  },
  {
   "cell_type": "code",
   "execution_count": 2,
   "metadata": {},
   "outputs": [
    {
     "data": {
      "text/html": [
       "<div>\n",
       "<style scoped>\n",
       "    .dataframe tbody tr th:only-of-type {\n",
       "        vertical-align: middle;\n",
       "    }\n",
       "\n",
       "    .dataframe tbody tr th {\n",
       "        vertical-align: top;\n",
       "    }\n",
       "\n",
       "    .dataframe thead th {\n",
       "        text-align: right;\n",
       "    }\n",
       "</style>\n",
       "<table border=\"1\" class=\"dataframe\">\n",
       "  <thead>\n",
       "    <tr style=\"text-align: right;\">\n",
       "      <th></th>\n",
       "      <th>date</th>\n",
       "    </tr>\n",
       "  </thead>\n",
       "  <tbody>\n",
       "    <tr>\n",
       "      <th>0</th>\n",
       "      <td>2020-01-01</td>\n",
       "    </tr>\n",
       "    <tr>\n",
       "      <th>1</th>\n",
       "      <td>2020-02-01</td>\n",
       "    </tr>\n",
       "    <tr>\n",
       "      <th>2</th>\n",
       "      <td>2020-03-01</td>\n",
       "    </tr>\n",
       "    <tr>\n",
       "      <th>3</th>\n",
       "      <td>2020-04-01</td>\n",
       "    </tr>\n",
       "    <tr>\n",
       "      <th>4</th>\n",
       "      <td>2020-05-01</td>\n",
       "    </tr>\n",
       "  </tbody>\n",
       "</table>\n",
       "</div>"
      ],
      "text/plain": [
       "        date\n",
       "0 2020-01-01\n",
       "1 2020-02-01\n",
       "2 2020-03-01\n",
       "3 2020-04-01\n",
       "4 2020-05-01"
      ]
     },
     "execution_count": 2,
     "metadata": {},
     "output_type": "execute_result"
    }
   ],
   "source": [
    "sequence = pd.date_range('2020-01-01', '2020-12-31', freq='MS')\n",
    "pd.DataFrame({'date': sequence}).head()"
   ]
  },
  {
   "cell_type": "code",
   "execution_count": 3,
   "metadata": {},
   "outputs": [
    {
     "data": {
      "text/html": [
       "<div>\n",
       "<style scoped>\n",
       "    .dataframe tbody tr th:only-of-type {\n",
       "        vertical-align: middle;\n",
       "    }\n",
       "\n",
       "    .dataframe tbody tr th {\n",
       "        vertical-align: top;\n",
       "    }\n",
       "\n",
       "    .dataframe thead th {\n",
       "        text-align: right;\n",
       "    }\n",
       "</style>\n",
       "<table border=\"1\" class=\"dataframe\">\n",
       "  <thead>\n",
       "    <tr style=\"text-align: right;\">\n",
       "      <th></th>\n",
       "      <th>time</th>\n",
       "    </tr>\n",
       "  </thead>\n",
       "  <tbody>\n",
       "    <tr>\n",
       "      <th>0</th>\n",
       "      <td>2020-01-01 00:00:00</td>\n",
       "    </tr>\n",
       "    <tr>\n",
       "      <th>1</th>\n",
       "      <td>2020-01-01 03:00:00</td>\n",
       "    </tr>\n",
       "    <tr>\n",
       "      <th>2</th>\n",
       "      <td>2020-01-01 06:00:00</td>\n",
       "    </tr>\n",
       "    <tr>\n",
       "      <th>3</th>\n",
       "      <td>2020-01-01 09:00:00</td>\n",
       "    </tr>\n",
       "    <tr>\n",
       "      <th>4</th>\n",
       "      <td>2020-01-01 12:00:00</td>\n",
       "    </tr>\n",
       "  </tbody>\n",
       "</table>\n",
       "</div>"
      ],
      "text/plain": [
       "                 time\n",
       "0 2020-01-01 00:00:00\n",
       "1 2020-01-01 03:00:00\n",
       "2 2020-01-01 06:00:00\n",
       "3 2020-01-01 09:00:00\n",
       "4 2020-01-01 12:00:00"
      ]
     },
     "execution_count": 3,
     "metadata": {},
     "output_type": "execute_result"
    }
   ],
   "source": [
    "sequence = pd.date_range('2020-01-01', '2020-12-31', freq='3h')\n",
    "pd.DataFrame({'time': sequence}).head()"
   ]
  },
  {
   "cell_type": "markdown",
   "metadata": {},
   "source": [
    "### Useful techniques"
   ]
  },
  {
   "cell_type": "code",
   "execution_count": 4,
   "metadata": {},
   "outputs": [
    {
     "data": {
      "text/html": [
       "<div>\n",
       "<style scoped>\n",
       "    .dataframe tbody tr th:only-of-type {\n",
       "        vertical-align: middle;\n",
       "    }\n",
       "\n",
       "    .dataframe tbody tr th {\n",
       "        vertical-align: top;\n",
       "    }\n",
       "\n",
       "    .dataframe thead th {\n",
       "        text-align: right;\n",
       "    }\n",
       "</style>\n",
       "<table border=\"1\" class=\"dataframe\">\n",
       "  <thead>\n",
       "    <tr style=\"text-align: right;\">\n",
       "      <th></th>\n",
       "      <th>day</th>\n",
       "      <th>month</th>\n",
       "      <th>year</th>\n",
       "      <th>date</th>\n",
       "    </tr>\n",
       "  </thead>\n",
       "  <tbody>\n",
       "    <tr>\n",
       "      <th>0</th>\n",
       "      <td>1</td>\n",
       "      <td>1</td>\n",
       "      <td>2020</td>\n",
       "      <td>2020-01-01</td>\n",
       "    </tr>\n",
       "    <tr>\n",
       "      <th>1</th>\n",
       "      <td>2</td>\n",
       "      <td>1</td>\n",
       "      <td>2020</td>\n",
       "      <td>2020-01-02</td>\n",
       "    </tr>\n",
       "    <tr>\n",
       "      <th>2</th>\n",
       "      <td>3</td>\n",
       "      <td>1</td>\n",
       "      <td>2020</td>\n",
       "      <td>2020-01-03</td>\n",
       "    </tr>\n",
       "  </tbody>\n",
       "</table>\n",
       "</div>"
      ],
      "text/plain": [
       "   day  month  year       date\n",
       "0    1      1  2020 2020-01-01\n",
       "1    2      1  2020 2020-01-02\n",
       "2    3      1  2020 2020-01-03"
      ]
     },
     "execution_count": 4,
     "metadata": {},
     "output_type": "execute_result"
    }
   ],
   "source": [
    "dfDate = pd.DataFrame({\n",
    "    'day': [1, 2, 3],\n",
    "    'month': [1, 1, 1],\n",
    "    'year': [2020, 2020, 2020]\n",
    "})\n",
    "\n",
    "# combine three columns \"day\", \"month\" and \"year\"\n",
    "dfDate.assign(date=pd.to_datetime(dfDate[['day', 'month', 'year']]))"
   ]
  },
  {
   "cell_type": "code",
   "execution_count": 5,
   "metadata": {},
   "outputs": [
    {
     "data": {
      "text/html": [
       "<div>\n",
       "<style scoped>\n",
       "    .dataframe tbody tr th:only-of-type {\n",
       "        vertical-align: middle;\n",
       "    }\n",
       "\n",
       "    .dataframe tbody tr th {\n",
       "        vertical-align: top;\n",
       "    }\n",
       "\n",
       "    .dataframe thead th {\n",
       "        text-align: right;\n",
       "    }\n",
       "</style>\n",
       "<table border=\"1\" class=\"dataframe\">\n",
       "  <thead>\n",
       "    <tr style=\"text-align: right;\">\n",
       "      <th></th>\n",
       "      <th>time</th>\n",
       "      <th>date</th>\n",
       "    </tr>\n",
       "  </thead>\n",
       "  <tbody>\n",
       "    <tr>\n",
       "      <th>0</th>\n",
       "      <td>2020-01-01 00:00:00</td>\n",
       "      <td>2020-01-01</td>\n",
       "    </tr>\n",
       "    <tr>\n",
       "      <th>1</th>\n",
       "      <td>2020-01-01 17:36:43</td>\n",
       "      <td>2020-01-01</td>\n",
       "    </tr>\n",
       "    <tr>\n",
       "      <th>2</th>\n",
       "      <td>2020-01-02 11:13:26</td>\n",
       "      <td>2020-01-02</td>\n",
       "    </tr>\n",
       "    <tr>\n",
       "      <th>3</th>\n",
       "      <td>2020-01-03 04:50:09</td>\n",
       "      <td>2020-01-03</td>\n",
       "    </tr>\n",
       "    <tr>\n",
       "      <th>4</th>\n",
       "      <td>2020-01-03 22:26:52</td>\n",
       "      <td>2020-01-03</td>\n",
       "    </tr>\n",
       "  </tbody>\n",
       "</table>\n",
       "</div>"
      ],
      "text/plain": [
       "                 time        date\n",
       "0 2020-01-01 00:00:00  2020-01-01\n",
       "1 2020-01-01 17:36:43  2020-01-01\n",
       "2 2020-01-02 11:13:26  2020-01-02\n",
       "3 2020-01-03 04:50:09  2020-01-03\n",
       "4 2020-01-03 22:26:52  2020-01-03"
      ]
     },
     "execution_count": 5,
     "metadata": {},
     "output_type": "execute_result"
    }
   ],
   "source": [
    "sequence = pd.date_range('2020-01-01', '2020-12-31', freq='17h 36t 43s')\n",
    "dfDate = pd.DataFrame({'time': sequence}).head()\n",
    "dfDate.assign(date=dfDate.time.dt.date)"
   ]
  },
  {
   "cell_type": "markdown",
   "metadata": {},
   "source": [
    "### Formatting date"
   ]
  },
  {
   "cell_type": "code",
   "execution_count": 6,
   "metadata": {},
   "outputs": [
    {
     "data": {
      "text/html": [
       "<div>\n",
       "<style scoped>\n",
       "    .dataframe tbody tr th:only-of-type {\n",
       "        vertical-align: middle;\n",
       "    }\n",
       "\n",
       "    .dataframe tbody tr th {\n",
       "        vertical-align: top;\n",
       "    }\n",
       "\n",
       "    .dataframe thead th {\n",
       "        text-align: right;\n",
       "    }\n",
       "</style>\n",
       "<table border=\"1\" class=\"dataframe\">\n",
       "  <thead>\n",
       "    <tr style=\"text-align: right;\">\n",
       "      <th></th>\n",
       "      <th>date</th>\n",
       "      <th>date_print</th>\n",
       "    </tr>\n",
       "  </thead>\n",
       "  <tbody>\n",
       "    <tr>\n",
       "      <th>0</th>\n",
       "      <td>2020-01-01</td>\n",
       "      <td>01/01/20</td>\n",
       "    </tr>\n",
       "    <tr>\n",
       "      <th>1</th>\n",
       "      <td>2020-01-26</td>\n",
       "      <td>26/01/20</td>\n",
       "    </tr>\n",
       "    <tr>\n",
       "      <th>2</th>\n",
       "      <td>2020-02-20</td>\n",
       "      <td>20/02/20</td>\n",
       "    </tr>\n",
       "    <tr>\n",
       "      <th>3</th>\n",
       "      <td>2020-03-16</td>\n",
       "      <td>16/03/20</td>\n",
       "    </tr>\n",
       "    <tr>\n",
       "      <th>4</th>\n",
       "      <td>2020-04-10</td>\n",
       "      <td>10/04/20</td>\n",
       "    </tr>\n",
       "  </tbody>\n",
       "</table>\n",
       "</div>"
      ],
      "text/plain": [
       "        date date_print\n",
       "0 2020-01-01   01/01/20\n",
       "1 2020-01-26   26/01/20\n",
       "2 2020-02-20   20/02/20\n",
       "3 2020-03-16   16/03/20\n",
       "4 2020-04-10   10/04/20"
      ]
     },
     "execution_count": 6,
     "metadata": {},
     "output_type": "execute_result"
    }
   ],
   "source": [
    "dfDate = pd.DataFrame({'date': pd.date_range('2020-01-01', '2020-12-31', freq='25D')})\n",
    "dfDate.assign(date_print=dfDate.date.dt.strftime('%d/%m/%y')).head()"
   ]
  },
  {
   "cell_type": "markdown",
   "metadata": {},
   "source": [
    "### Extracting date part"
   ]
  },
  {
   "cell_type": "code",
   "execution_count": 7,
   "metadata": {},
   "outputs": [
    {
     "data": {
      "text/html": [
       "<div>\n",
       "<style scoped>\n",
       "    .dataframe tbody tr th:only-of-type {\n",
       "        vertical-align: middle;\n",
       "    }\n",
       "\n",
       "    .dataframe tbody tr th {\n",
       "        vertical-align: top;\n",
       "    }\n",
       "\n",
       "    .dataframe thead th {\n",
       "        text-align: right;\n",
       "    }\n",
       "</style>\n",
       "<table border=\"1\" class=\"dataframe\">\n",
       "  <thead>\n",
       "    <tr style=\"text-align: right;\">\n",
       "      <th></th>\n",
       "      <th>date</th>\n",
       "      <th>year</th>\n",
       "      <th>quarter</th>\n",
       "      <th>month</th>\n",
       "      <th>week</th>\n",
       "    </tr>\n",
       "  </thead>\n",
       "  <tbody>\n",
       "    <tr>\n",
       "      <th>0</th>\n",
       "      <td>2020-01-01 00:00:00</td>\n",
       "      <td>2020</td>\n",
       "      <td>2020-1</td>\n",
       "      <td>2020-01</td>\n",
       "      <td>2020-00</td>\n",
       "    </tr>\n",
       "    <tr>\n",
       "      <th>1</th>\n",
       "      <td>2020-03-10 10:40:00</td>\n",
       "      <td>2020</td>\n",
       "      <td>2020-1</td>\n",
       "      <td>2020-03</td>\n",
       "      <td>2020-10</td>\n",
       "    </tr>\n",
       "    <tr>\n",
       "      <th>2</th>\n",
       "      <td>2020-05-18 21:20:00</td>\n",
       "      <td>2020</td>\n",
       "      <td>2020-2</td>\n",
       "      <td>2020-05</td>\n",
       "      <td>2020-20</td>\n",
       "    </tr>\n",
       "    <tr>\n",
       "      <th>3</th>\n",
       "      <td>2020-07-27 08:00:00</td>\n",
       "      <td>2020</td>\n",
       "      <td>2020-3</td>\n",
       "      <td>2020-07</td>\n",
       "      <td>2020-30</td>\n",
       "    </tr>\n",
       "    <tr>\n",
       "      <th>4</th>\n",
       "      <td>2020-10-04 18:40:00</td>\n",
       "      <td>2020</td>\n",
       "      <td>2020-4</td>\n",
       "      <td>2020-10</td>\n",
       "      <td>2020-40</td>\n",
       "    </tr>\n",
       "    <tr>\n",
       "      <th>5</th>\n",
       "      <td>2020-12-13 05:20:00</td>\n",
       "      <td>2020</td>\n",
       "      <td>2020-4</td>\n",
       "      <td>2020-12</td>\n",
       "      <td>2020-50</td>\n",
       "    </tr>\n",
       "  </tbody>\n",
       "</table>\n",
       "</div>"
      ],
      "text/plain": [
       "                 date  year quarter    month     week\n",
       "0 2020-01-01 00:00:00  2020  2020-1  2020-01  2020-00\n",
       "1 2020-03-10 10:40:00  2020  2020-1  2020-03  2020-10\n",
       "2 2020-05-18 21:20:00  2020  2020-2  2020-05  2020-20\n",
       "3 2020-07-27 08:00:00  2020  2020-3  2020-07  2020-30\n",
       "4 2020-10-04 18:40:00  2020  2020-4  2020-10  2020-40\n",
       "5 2020-12-13 05:20:00  2020  2020-4  2020-12  2020-50"
      ]
     },
     "execution_count": 7,
     "metadata": {},
     "output_type": "execute_result"
    }
   ],
   "source": [
    "dfDate = pd.DataFrame({'date': pd.date_range('2020-01-01', '2020-12-31', freq='100000 min')})\n",
    "\n",
    "dfDate\\\n",
    "    .assign(year=dfDate.date.dt.to_period('Y').astype(str))\\\n",
    "    .assign(quarter=dfDate.date.dt.to_period('Q').astype(str).str.replace('Q', '-'))\\\n",
    "    .assign(month=dfDate.date.dt.to_period('M').astype(str))\\\n",
    "    .assign(week=dfDate.date.dt.strftime('%Y-%U'))"
   ]
  },
  {
   "cell_type": "markdown",
   "metadata": {},
   "source": [
    "### Extracting cyclic attributes"
   ]
  },
  {
   "cell_type": "code",
   "execution_count": 8,
   "metadata": {},
   "outputs": [
    {
     "data": {
      "text/html": [
       "<div>\n",
       "<style scoped>\n",
       "    .dataframe tbody tr th:only-of-type {\n",
       "        vertical-align: middle;\n",
       "    }\n",
       "\n",
       "    .dataframe tbody tr th {\n",
       "        vertical-align: top;\n",
       "    }\n",
       "\n",
       "    .dataframe thead th {\n",
       "        text-align: right;\n",
       "    }\n",
       "</style>\n",
       "<table border=\"1\" class=\"dataframe\">\n",
       "  <thead>\n",
       "    <tr style=\"text-align: right;\">\n",
       "      <th></th>\n",
       "      <th>date</th>\n",
       "      <th>weekday</th>\n",
       "      <th>day_of_year</th>\n",
       "      <th>month_of_year</th>\n",
       "      <th>quarter_of_year</th>\n",
       "    </tr>\n",
       "  </thead>\n",
       "  <tbody>\n",
       "    <tr>\n",
       "      <th>0</th>\n",
       "      <td>2020-01-01 00:00:00</td>\n",
       "      <td>Wednesday</td>\n",
       "      <td>1</td>\n",
       "      <td>1</td>\n",
       "      <td>1</td>\n",
       "    </tr>\n",
       "    <tr>\n",
       "      <th>1</th>\n",
       "      <td>2020-03-10 10:40:00</td>\n",
       "      <td>Tuesday</td>\n",
       "      <td>70</td>\n",
       "      <td>3</td>\n",
       "      <td>1</td>\n",
       "    </tr>\n",
       "    <tr>\n",
       "      <th>2</th>\n",
       "      <td>2020-05-18 21:20:00</td>\n",
       "      <td>Monday</td>\n",
       "      <td>139</td>\n",
       "      <td>5</td>\n",
       "      <td>2</td>\n",
       "    </tr>\n",
       "    <tr>\n",
       "      <th>3</th>\n",
       "      <td>2020-07-27 08:00:00</td>\n",
       "      <td>Monday</td>\n",
       "      <td>209</td>\n",
       "      <td>7</td>\n",
       "      <td>3</td>\n",
       "    </tr>\n",
       "    <tr>\n",
       "      <th>4</th>\n",
       "      <td>2020-10-04 18:40:00</td>\n",
       "      <td>Sunday</td>\n",
       "      <td>278</td>\n",
       "      <td>10</td>\n",
       "      <td>4</td>\n",
       "    </tr>\n",
       "    <tr>\n",
       "      <th>5</th>\n",
       "      <td>2020-12-13 05:20:00</td>\n",
       "      <td>Sunday</td>\n",
       "      <td>348</td>\n",
       "      <td>12</td>\n",
       "      <td>4</td>\n",
       "    </tr>\n",
       "  </tbody>\n",
       "</table>\n",
       "</div>"
      ],
      "text/plain": [
       "                 date    weekday  day_of_year  month_of_year  quarter_of_year\n",
       "0 2020-01-01 00:00:00  Wednesday            1              1                1\n",
       "1 2020-03-10 10:40:00    Tuesday           70              3                1\n",
       "2 2020-05-18 21:20:00     Monday          139              5                2\n",
       "3 2020-07-27 08:00:00     Monday          209              7                3\n",
       "4 2020-10-04 18:40:00     Sunday          278             10                4\n",
       "5 2020-12-13 05:20:00     Sunday          348             12                4"
      ]
     },
     "execution_count": 8,
     "metadata": {},
     "output_type": "execute_result"
    }
   ],
   "source": [
    "dfDate = pd.DataFrame({'date': pd.date_range('2020-01-01', '2020-12-31', freq='100000 min')})\n",
    "\n",
    "dfDate\\\n",
    "    .assign(weekday=dfDate.date.dt.day_name())\\\n",
    "    .assign(day_of_year=dfDate.date.dt.dayofyear)\\\n",
    "    .assign(month_of_year=dfDate.date.dt.month)\\\n",
    "    .assign(quarter_of_year=dfDate.date.dt.quarter)"
   ]
  },
  {
   "cell_type": "markdown",
   "metadata": {},
   "source": [
    "### Rounding date\n",
    "The <code style='font-size:13px;'>freq</code> parameter of the <code style='font-size:13px;'>Series.dt.round()</code> method uses the same aliases mentioned earlier."
   ]
  },
  {
   "cell_type": "code",
   "execution_count": 9,
   "metadata": {},
   "outputs": [
    {
     "data": {
      "text/html": [
       "<div>\n",
       "<style scoped>\n",
       "    .dataframe tbody tr th:only-of-type {\n",
       "        vertical-align: middle;\n",
       "    }\n",
       "\n",
       "    .dataframe tbody tr th {\n",
       "        vertical-align: top;\n",
       "    }\n",
       "\n",
       "    .dataframe thead th {\n",
       "        text-align: right;\n",
       "    }\n",
       "</style>\n",
       "<table border=\"1\" class=\"dataframe\">\n",
       "  <thead>\n",
       "    <tr style=\"text-align: right;\">\n",
       "      <th></th>\n",
       "      <th>date</th>\n",
       "      <th>date_trunc</th>\n",
       "    </tr>\n",
       "  </thead>\n",
       "  <tbody>\n",
       "    <tr>\n",
       "      <th>0</th>\n",
       "      <td>2020-01-01 00:00:00</td>\n",
       "      <td>2020-01-01 00:00:00</td>\n",
       "    </tr>\n",
       "    <tr>\n",
       "      <th>1</th>\n",
       "      <td>2020-03-10 10:40:00</td>\n",
       "      <td>2020-03-10 11:00:00</td>\n",
       "    </tr>\n",
       "    <tr>\n",
       "      <th>2</th>\n",
       "      <td>2020-05-18 21:20:00</td>\n",
       "      <td>2020-05-18 21:00:00</td>\n",
       "    </tr>\n",
       "    <tr>\n",
       "      <th>3</th>\n",
       "      <td>2020-07-27 08:00:00</td>\n",
       "      <td>2020-07-27 08:00:00</td>\n",
       "    </tr>\n",
       "    <tr>\n",
       "      <th>4</th>\n",
       "      <td>2020-10-04 18:40:00</td>\n",
       "      <td>2020-10-04 19:00:00</td>\n",
       "    </tr>\n",
       "    <tr>\n",
       "      <th>5</th>\n",
       "      <td>2020-12-13 05:20:00</td>\n",
       "      <td>2020-12-13 05:00:00</td>\n",
       "    </tr>\n",
       "  </tbody>\n",
       "</table>\n",
       "</div>"
      ],
      "text/plain": [
       "                 date          date_trunc\n",
       "0 2020-01-01 00:00:00 2020-01-01 00:00:00\n",
       "1 2020-03-10 10:40:00 2020-03-10 11:00:00\n",
       "2 2020-05-18 21:20:00 2020-05-18 21:00:00\n",
       "3 2020-07-27 08:00:00 2020-07-27 08:00:00\n",
       "4 2020-10-04 18:40:00 2020-10-04 19:00:00\n",
       "5 2020-12-13 05:20:00 2020-12-13 05:00:00"
      ]
     },
     "execution_count": 9,
     "metadata": {},
     "output_type": "execute_result"
    }
   ],
   "source": [
    "dfDate = pd.DataFrame({'date': pd.date_range('2020-01-01', '2020-12-31', freq='100000 min')})\n",
    "dfDate.assign(date_trunc=dfDate.date.dt.round(freq='h'))"
   ]
  },
  {
   "cell_type": "code",
   "execution_count": 10,
   "metadata": {},
   "outputs": [
    {
     "data": {
      "text/html": [
       "<div>\n",
       "<style scoped>\n",
       "    .dataframe tbody tr th:only-of-type {\n",
       "        vertical-align: middle;\n",
       "    }\n",
       "\n",
       "    .dataframe tbody tr th {\n",
       "        vertical-align: top;\n",
       "    }\n",
       "\n",
       "    .dataframe thead th {\n",
       "        text-align: right;\n",
       "    }\n",
       "</style>\n",
       "<table border=\"1\" class=\"dataframe\">\n",
       "  <thead>\n",
       "    <tr style=\"text-align: right;\">\n",
       "      <th></th>\n",
       "      <th>date</th>\n",
       "      <th>date_trunc</th>\n",
       "    </tr>\n",
       "  </thead>\n",
       "  <tbody>\n",
       "    <tr>\n",
       "      <th>0</th>\n",
       "      <td>2020-01-01 00:00:00</td>\n",
       "      <td>2020-01-01 00:00:00</td>\n",
       "    </tr>\n",
       "    <tr>\n",
       "      <th>1</th>\n",
       "      <td>2020-03-10 10:40:00</td>\n",
       "      <td>2020-03-10 10:40:00</td>\n",
       "    </tr>\n",
       "    <tr>\n",
       "      <th>2</th>\n",
       "      <td>2020-05-18 21:20:00</td>\n",
       "      <td>2020-05-18 21:20:00</td>\n",
       "    </tr>\n",
       "    <tr>\n",
       "      <th>3</th>\n",
       "      <td>2020-07-27 08:00:00</td>\n",
       "      <td>2020-07-27 08:00:00</td>\n",
       "    </tr>\n",
       "    <tr>\n",
       "      <th>4</th>\n",
       "      <td>2020-10-04 18:40:00</td>\n",
       "      <td>2020-10-04 18:40:00</td>\n",
       "    </tr>\n",
       "    <tr>\n",
       "      <th>5</th>\n",
       "      <td>2020-12-13 05:20:00</td>\n",
       "      <td>2020-12-13 05:20:00</td>\n",
       "    </tr>\n",
       "  </tbody>\n",
       "</table>\n",
       "</div>"
      ],
      "text/plain": [
       "                 date          date_trunc\n",
       "0 2020-01-01 00:00:00 2020-01-01 00:00:00\n",
       "1 2020-03-10 10:40:00 2020-03-10 10:40:00\n",
       "2 2020-05-18 21:20:00 2020-05-18 21:20:00\n",
       "3 2020-07-27 08:00:00 2020-07-27 08:00:00\n",
       "4 2020-10-04 18:40:00 2020-10-04 18:40:00\n",
       "5 2020-12-13 05:20:00 2020-12-13 05:20:00"
      ]
     },
     "execution_count": 10,
     "metadata": {},
     "output_type": "execute_result"
    }
   ],
   "source": [
    "dfDate = pd.DataFrame({'date': pd.date_range('2020-01-01', '2020-12-31', freq='100000 min')})\n",
    "dfDate.assign(date_trunc=dfDate.date.dt.round(freq='T'))"
   ]
  },
  {
   "cell_type": "markdown",
   "metadata": {},
   "source": [
    "However, the <code style='font-size:13px;'>Series.dt.round()</code> method only works with fixed frequencies such as hour, minute, second. For rounding to date or month, use the <code style='font-size:13px;'>Series.dt.to_period()</code> method."
   ]
  },
  {
   "cell_type": "code",
   "execution_count": 11,
   "metadata": {},
   "outputs": [
    {
     "data": {
      "text/html": [
       "<div>\n",
       "<style scoped>\n",
       "    .dataframe tbody tr th:only-of-type {\n",
       "        vertical-align: middle;\n",
       "    }\n",
       "\n",
       "    .dataframe tbody tr th {\n",
       "        vertical-align: top;\n",
       "    }\n",
       "\n",
       "    .dataframe thead th {\n",
       "        text-align: right;\n",
       "    }\n",
       "</style>\n",
       "<table border=\"1\" class=\"dataframe\">\n",
       "  <thead>\n",
       "    <tr style=\"text-align: right;\">\n",
       "      <th></th>\n",
       "      <th>date</th>\n",
       "      <th>date_trunc</th>\n",
       "    </tr>\n",
       "  </thead>\n",
       "  <tbody>\n",
       "    <tr>\n",
       "      <th>0</th>\n",
       "      <td>2020-01-01 00:00:00</td>\n",
       "      <td>2020-01-01</td>\n",
       "    </tr>\n",
       "    <tr>\n",
       "      <th>1</th>\n",
       "      <td>2020-03-10 10:40:00</td>\n",
       "      <td>2020-03-01</td>\n",
       "    </tr>\n",
       "    <tr>\n",
       "      <th>2</th>\n",
       "      <td>2020-05-18 21:20:00</td>\n",
       "      <td>2020-05-01</td>\n",
       "    </tr>\n",
       "    <tr>\n",
       "      <th>3</th>\n",
       "      <td>2020-07-27 08:00:00</td>\n",
       "      <td>2020-07-01</td>\n",
       "    </tr>\n",
       "    <tr>\n",
       "      <th>4</th>\n",
       "      <td>2020-10-04 18:40:00</td>\n",
       "      <td>2020-10-01</td>\n",
       "    </tr>\n",
       "    <tr>\n",
       "      <th>5</th>\n",
       "      <td>2020-12-13 05:20:00</td>\n",
       "      <td>2020-12-01</td>\n",
       "    </tr>\n",
       "  </tbody>\n",
       "</table>\n",
       "</div>"
      ],
      "text/plain": [
       "                 date date_trunc\n",
       "0 2020-01-01 00:00:00 2020-01-01\n",
       "1 2020-03-10 10:40:00 2020-03-01\n",
       "2 2020-05-18 21:20:00 2020-05-01\n",
       "3 2020-07-27 08:00:00 2020-07-01\n",
       "4 2020-10-04 18:40:00 2020-10-01\n",
       "5 2020-12-13 05:20:00 2020-12-01"
      ]
     },
     "execution_count": 11,
     "metadata": {},
     "output_type": "execute_result"
    }
   ],
   "source": [
    "dfDate = pd.DataFrame({'date': pd.date_range('2020-01-01', '2020-12-31', freq='100000 min')})\n",
    "dfDate.assign(date_trunc=dfDate.date.dt.to_period('M').dt.to_timestamp())"
   ]
  },
  {
   "cell_type": "markdown",
   "metadata": {},
   "source": [
    "### Timedelta"
   ]
  },
  {
   "cell_type": "code",
   "execution_count": 12,
   "metadata": {},
   "outputs": [
    {
     "data": {
      "text/html": [
       "<div>\n",
       "<style scoped>\n",
       "    .dataframe tbody tr th:only-of-type {\n",
       "        vertical-align: middle;\n",
       "    }\n",
       "\n",
       "    .dataframe tbody tr th {\n",
       "        vertical-align: top;\n",
       "    }\n",
       "\n",
       "    .dataframe thead th {\n",
       "        text-align: right;\n",
       "    }\n",
       "</style>\n",
       "<table border=\"1\" class=\"dataframe\">\n",
       "  <thead>\n",
       "    <tr style=\"text-align: right;\">\n",
       "      <th></th>\n",
       "      <th>date1</th>\n",
       "      <th>date2</th>\n",
       "    </tr>\n",
       "  </thead>\n",
       "  <tbody>\n",
       "    <tr>\n",
       "      <th>0</th>\n",
       "      <td>2020-01-01</td>\n",
       "      <td>2020-01-05</td>\n",
       "    </tr>\n",
       "    <tr>\n",
       "      <th>1</th>\n",
       "      <td>2020-01-04</td>\n",
       "      <td>2020-01-12</td>\n",
       "    </tr>\n",
       "    <tr>\n",
       "      <th>2</th>\n",
       "      <td>2020-01-07</td>\n",
       "      <td>2020-01-19</td>\n",
       "    </tr>\n",
       "    <tr>\n",
       "      <th>3</th>\n",
       "      <td>2020-01-10</td>\n",
       "      <td>2020-01-26</td>\n",
       "    </tr>\n",
       "    <tr>\n",
       "      <th>4</th>\n",
       "      <td>2020-01-13</td>\n",
       "      <td>2020-02-02</td>\n",
       "    </tr>\n",
       "    <tr>\n",
       "      <th>5</th>\n",
       "      <td>2020-01-16</td>\n",
       "      <td>2020-02-09</td>\n",
       "    </tr>\n",
       "    <tr>\n",
       "      <th>6</th>\n",
       "      <td>2020-01-19</td>\n",
       "      <td>2020-02-16</td>\n",
       "    </tr>\n",
       "    <tr>\n",
       "      <th>7</th>\n",
       "      <td>2020-01-22</td>\n",
       "      <td>2020-02-23</td>\n",
       "    </tr>\n",
       "    <tr>\n",
       "      <th>8</th>\n",
       "      <td>2020-01-25</td>\n",
       "      <td>2020-03-01</td>\n",
       "    </tr>\n",
       "    <tr>\n",
       "      <th>9</th>\n",
       "      <td>2020-01-28</td>\n",
       "      <td>2020-03-08</td>\n",
       "    </tr>\n",
       "    <tr>\n",
       "      <th>10</th>\n",
       "      <td>2020-01-31</td>\n",
       "      <td>2020-03-15</td>\n",
       "    </tr>\n",
       "  </tbody>\n",
       "</table>\n",
       "</div>"
      ],
      "text/plain": [
       "        date1      date2\n",
       "0  2020-01-01 2020-01-05\n",
       "1  2020-01-04 2020-01-12\n",
       "2  2020-01-07 2020-01-19\n",
       "3  2020-01-10 2020-01-26\n",
       "4  2020-01-13 2020-02-02\n",
       "5  2020-01-16 2020-02-09\n",
       "6  2020-01-19 2020-02-16\n",
       "7  2020-01-22 2020-02-23\n",
       "8  2020-01-25 2020-03-01\n",
       "9  2020-01-28 2020-03-08\n",
       "10 2020-01-31 2020-03-15"
      ]
     },
     "execution_count": 12,
     "metadata": {},
     "output_type": "execute_result"
    }
   ],
   "source": [
    "dfDelta = pd.DataFrame({\n",
    "    'date1': pd.date_range('2020-01-01', '2020-01-31', freq='3D'),\n",
    "    'date2': pd.date_range('2020-01-02', '2020-03-15', freq='W')\n",
    "})\n",
    "dfDelta"
   ]
  },
  {
   "cell_type": "code",
   "execution_count": 13,
   "metadata": {},
   "outputs": [
    {
     "data": {
      "text/html": [
       "<div>\n",
       "<style scoped>\n",
       "    .dataframe tbody tr th:only-of-type {\n",
       "        vertical-align: middle;\n",
       "    }\n",
       "\n",
       "    .dataframe tbody tr th {\n",
       "        vertical-align: top;\n",
       "    }\n",
       "\n",
       "    .dataframe thead th {\n",
       "        text-align: right;\n",
       "    }\n",
       "</style>\n",
       "<table border=\"1\" class=\"dataframe\">\n",
       "  <thead>\n",
       "    <tr style=\"text-align: right;\">\n",
       "      <th></th>\n",
       "      <th>date1</th>\n",
       "      <th>date2</th>\n",
       "      <th>timedelta</th>\n",
       "    </tr>\n",
       "  </thead>\n",
       "  <tbody>\n",
       "    <tr>\n",
       "      <th>0</th>\n",
       "      <td>2020-01-01</td>\n",
       "      <td>2020-01-05</td>\n",
       "      <td>4 days</td>\n",
       "    </tr>\n",
       "    <tr>\n",
       "      <th>1</th>\n",
       "      <td>2020-01-04</td>\n",
       "      <td>2020-01-12</td>\n",
       "      <td>8 days</td>\n",
       "    </tr>\n",
       "    <tr>\n",
       "      <th>2</th>\n",
       "      <td>2020-01-07</td>\n",
       "      <td>2020-01-19</td>\n",
       "      <td>12 days</td>\n",
       "    </tr>\n",
       "    <tr>\n",
       "      <th>3</th>\n",
       "      <td>2020-01-10</td>\n",
       "      <td>2020-01-26</td>\n",
       "      <td>16 days</td>\n",
       "    </tr>\n",
       "    <tr>\n",
       "      <th>4</th>\n",
       "      <td>2020-01-13</td>\n",
       "      <td>2020-02-02</td>\n",
       "      <td>20 days</td>\n",
       "    </tr>\n",
       "    <tr>\n",
       "      <th>5</th>\n",
       "      <td>2020-01-16</td>\n",
       "      <td>2020-02-09</td>\n",
       "      <td>24 days</td>\n",
       "    </tr>\n",
       "    <tr>\n",
       "      <th>6</th>\n",
       "      <td>2020-01-19</td>\n",
       "      <td>2020-02-16</td>\n",
       "      <td>28 days</td>\n",
       "    </tr>\n",
       "    <tr>\n",
       "      <th>7</th>\n",
       "      <td>2020-01-22</td>\n",
       "      <td>2020-02-23</td>\n",
       "      <td>32 days</td>\n",
       "    </tr>\n",
       "    <tr>\n",
       "      <th>8</th>\n",
       "      <td>2020-01-25</td>\n",
       "      <td>2020-03-01</td>\n",
       "      <td>36 days</td>\n",
       "    </tr>\n",
       "    <tr>\n",
       "      <th>9</th>\n",
       "      <td>2020-01-28</td>\n",
       "      <td>2020-03-08</td>\n",
       "      <td>40 days</td>\n",
       "    </tr>\n",
       "    <tr>\n",
       "      <th>10</th>\n",
       "      <td>2020-01-31</td>\n",
       "      <td>2020-03-15</td>\n",
       "      <td>44 days</td>\n",
       "    </tr>\n",
       "  </tbody>\n",
       "</table>\n",
       "</div>"
      ],
      "text/plain": [
       "        date1      date2 timedelta\n",
       "0  2020-01-01 2020-01-05    4 days\n",
       "1  2020-01-04 2020-01-12    8 days\n",
       "2  2020-01-07 2020-01-19   12 days\n",
       "3  2020-01-10 2020-01-26   16 days\n",
       "4  2020-01-13 2020-02-02   20 days\n",
       "5  2020-01-16 2020-02-09   24 days\n",
       "6  2020-01-19 2020-02-16   28 days\n",
       "7  2020-01-22 2020-02-23   32 days\n",
       "8  2020-01-25 2020-03-01   36 days\n",
       "9  2020-01-28 2020-03-08   40 days\n",
       "10 2020-01-31 2020-03-15   44 days"
      ]
     },
     "execution_count": 13,
     "metadata": {},
     "output_type": "execute_result"
    }
   ],
   "source": [
    "dfDelta['timedelta'] = dfDelta.date2 - dfDelta.date1\n",
    "dfDelta"
   ]
  },
  {
   "cell_type": "code",
   "execution_count": 14,
   "metadata": {},
   "outputs": [
    {
     "data": {
      "text/html": [
       "<div>\n",
       "<style scoped>\n",
       "    .dataframe tbody tr th:only-of-type {\n",
       "        vertical-align: middle;\n",
       "    }\n",
       "\n",
       "    .dataframe tbody tr th {\n",
       "        vertical-align: top;\n",
       "    }\n",
       "\n",
       "    .dataframe thead th {\n",
       "        text-align: right;\n",
       "    }\n",
       "</style>\n",
       "<table border=\"1\" class=\"dataframe\">\n",
       "  <thead>\n",
       "    <tr style=\"text-align: right;\">\n",
       "      <th></th>\n",
       "      <th>date1</th>\n",
       "      <th>date2</th>\n",
       "      <th>timedelta</th>\n",
       "      <th>date3</th>\n",
       "    </tr>\n",
       "  </thead>\n",
       "  <tbody>\n",
       "    <tr>\n",
       "      <th>0</th>\n",
       "      <td>2020-01-01</td>\n",
       "      <td>2020-01-05</td>\n",
       "      <td>4 days</td>\n",
       "      <td>2020-01-16</td>\n",
       "    </tr>\n",
       "    <tr>\n",
       "      <th>1</th>\n",
       "      <td>2020-01-04</td>\n",
       "      <td>2020-01-12</td>\n",
       "      <td>8 days</td>\n",
       "      <td>2020-01-19</td>\n",
       "    </tr>\n",
       "    <tr>\n",
       "      <th>2</th>\n",
       "      <td>2020-01-07</td>\n",
       "      <td>2020-01-19</td>\n",
       "      <td>12 days</td>\n",
       "      <td>2020-01-22</td>\n",
       "    </tr>\n",
       "    <tr>\n",
       "      <th>3</th>\n",
       "      <td>2020-01-10</td>\n",
       "      <td>2020-01-26</td>\n",
       "      <td>16 days</td>\n",
       "      <td>2020-01-25</td>\n",
       "    </tr>\n",
       "    <tr>\n",
       "      <th>4</th>\n",
       "      <td>2020-01-13</td>\n",
       "      <td>2020-02-02</td>\n",
       "      <td>20 days</td>\n",
       "      <td>2020-01-28</td>\n",
       "    </tr>\n",
       "    <tr>\n",
       "      <th>5</th>\n",
       "      <td>2020-01-16</td>\n",
       "      <td>2020-02-09</td>\n",
       "      <td>24 days</td>\n",
       "      <td>2020-01-31</td>\n",
       "    </tr>\n",
       "    <tr>\n",
       "      <th>6</th>\n",
       "      <td>2020-01-19</td>\n",
       "      <td>2020-02-16</td>\n",
       "      <td>28 days</td>\n",
       "      <td>2020-02-03</td>\n",
       "    </tr>\n",
       "    <tr>\n",
       "      <th>7</th>\n",
       "      <td>2020-01-22</td>\n",
       "      <td>2020-02-23</td>\n",
       "      <td>32 days</td>\n",
       "      <td>2020-02-06</td>\n",
       "    </tr>\n",
       "    <tr>\n",
       "      <th>8</th>\n",
       "      <td>2020-01-25</td>\n",
       "      <td>2020-03-01</td>\n",
       "      <td>36 days</td>\n",
       "      <td>2020-02-09</td>\n",
       "    </tr>\n",
       "    <tr>\n",
       "      <th>9</th>\n",
       "      <td>2020-01-28</td>\n",
       "      <td>2020-03-08</td>\n",
       "      <td>40 days</td>\n",
       "      <td>2020-02-12</td>\n",
       "    </tr>\n",
       "    <tr>\n",
       "      <th>10</th>\n",
       "      <td>2020-01-31</td>\n",
       "      <td>2020-03-15</td>\n",
       "      <td>44 days</td>\n",
       "      <td>2020-02-15</td>\n",
       "    </tr>\n",
       "  </tbody>\n",
       "</table>\n",
       "</div>"
      ],
      "text/plain": [
       "        date1      date2 timedelta      date3\n",
       "0  2020-01-01 2020-01-05    4 days 2020-01-16\n",
       "1  2020-01-04 2020-01-12    8 days 2020-01-19\n",
       "2  2020-01-07 2020-01-19   12 days 2020-01-22\n",
       "3  2020-01-10 2020-01-26   16 days 2020-01-25\n",
       "4  2020-01-13 2020-02-02   20 days 2020-01-28\n",
       "5  2020-01-16 2020-02-09   24 days 2020-01-31\n",
       "6  2020-01-19 2020-02-16   28 days 2020-02-03\n",
       "7  2020-01-22 2020-02-23   32 days 2020-02-06\n",
       "8  2020-01-25 2020-03-01   36 days 2020-02-09\n",
       "9  2020-01-28 2020-03-08   40 days 2020-02-12\n",
       "10 2020-01-31 2020-03-15   44 days 2020-02-15"
      ]
     },
     "execution_count": 14,
     "metadata": {},
     "output_type": "execute_result"
    }
   ],
   "source": [
    "dfDelta['date3'] = dfDelta.date1 + pd.Timedelta('15 days')\n",
    "dfDelta"
   ]
  },
  {
   "cell_type": "markdown",
   "metadata": {},
   "source": [
    "## 1.2. Time series filling\n",
    "A time series may have no existing blank value, however, it doesn't mean that date column is completed. A completed time series requires all data points to be equally spaced. In other words, the date or time frequency should be a constant across the dataset. Interpolation (the process of inferring new values from given ones) is a great technique filling missing time series."
   ]
  },
  {
   "cell_type": "code",
   "execution_count": 1,
   "metadata": {
    "execution": {
     "iopub.execute_input": "2022-05-20T16:09:06.718874Z",
     "iopub.status.busy": "2022-05-20T16:09:06.718462Z",
     "iopub.status.idle": "2022-05-20T16:09:07.378872Z",
     "shell.execute_reply": "2022-05-20T16:09:07.378314Z",
     "shell.execute_reply.started": "2022-05-20T16:09:06.718804Z"
    },
    "tags": []
   },
   "outputs": [],
   "source": [
    "import numpy as np\n",
    "import pandas as pd"
   ]
  },
  {
   "cell_type": "code",
   "execution_count": 3,
   "metadata": {
    "execution": {
     "iopub.execute_input": "2022-05-20T16:09:21.251702Z",
     "iopub.status.busy": "2022-05-20T16:09:21.251369Z",
     "iopub.status.idle": "2022-05-20T16:09:21.256596Z",
     "shell.execute_reply": "2022-05-20T16:09:21.255494Z",
     "shell.execute_reply.started": "2022-05-20T16:09:21.251676Z"
    },
    "tags": []
   },
   "outputs": [],
   "source": [
    "dfPrice = pd.DataFrame({\n",
    "    'date': pd.to_datetime([\n",
    "        '2020-01-01', '2020-01-03', '2020-01-04', '2020-01-05',\n",
    "        '2020-01-06', '2020-01-07', '2020-01-09', '2020-01-10'\n",
    "    ]),\n",
    "    'price': [110, 113, 112, 115, 118, 120, 118, 116]\n",
    "})"
   ]
  },
  {
   "cell_type": "markdown",
   "metadata": {},
   "source": [
    "### Unhiding missing data"
   ]
  },
  {
   "cell_type": "code",
   "execution_count": 4,
   "metadata": {
    "execution": {
     "iopub.execute_input": "2022-05-20T16:09:26.106157Z",
     "iopub.status.busy": "2022-05-20T16:09:26.105565Z",
     "iopub.status.idle": "2022-05-20T16:09:26.122517Z",
     "shell.execute_reply": "2022-05-20T16:09:26.121769Z",
     "shell.execute_reply.started": "2022-05-20T16:09:26.106119Z"
    },
    "tags": []
   },
   "outputs": [
    {
     "data": {
      "text/html": [
       "<div>\n",
       "<style scoped>\n",
       "    .dataframe tbody tr th:only-of-type {\n",
       "        vertical-align: middle;\n",
       "    }\n",
       "\n",
       "    .dataframe tbody tr th {\n",
       "        vertical-align: top;\n",
       "    }\n",
       "\n",
       "    .dataframe thead th {\n",
       "        text-align: right;\n",
       "    }\n",
       "</style>\n",
       "<table border=\"1\" class=\"dataframe\">\n",
       "  <thead>\n",
       "    <tr style=\"text-align: right;\">\n",
       "      <th></th>\n",
       "      <th>date</th>\n",
       "      <th>price</th>\n",
       "    </tr>\n",
       "  </thead>\n",
       "  <tbody>\n",
       "    <tr>\n",
       "      <th>0</th>\n",
       "      <td>2020-01-01</td>\n",
       "      <td>110.0</td>\n",
       "    </tr>\n",
       "    <tr>\n",
       "      <th>1</th>\n",
       "      <td>2020-01-02</td>\n",
       "      <td>NaN</td>\n",
       "    </tr>\n",
       "    <tr>\n",
       "      <th>2</th>\n",
       "      <td>2020-01-03</td>\n",
       "      <td>113.0</td>\n",
       "    </tr>\n",
       "    <tr>\n",
       "      <th>3</th>\n",
       "      <td>2020-01-04</td>\n",
       "      <td>112.0</td>\n",
       "    </tr>\n",
       "    <tr>\n",
       "      <th>4</th>\n",
       "      <td>2020-01-05</td>\n",
       "      <td>115.0</td>\n",
       "    </tr>\n",
       "    <tr>\n",
       "      <th>5</th>\n",
       "      <td>2020-01-06</td>\n",
       "      <td>118.0</td>\n",
       "    </tr>\n",
       "    <tr>\n",
       "      <th>6</th>\n",
       "      <td>2020-01-07</td>\n",
       "      <td>120.0</td>\n",
       "    </tr>\n",
       "    <tr>\n",
       "      <th>7</th>\n",
       "      <td>2020-01-08</td>\n",
       "      <td>NaN</td>\n",
       "    </tr>\n",
       "    <tr>\n",
       "      <th>8</th>\n",
       "      <td>2020-01-09</td>\n",
       "      <td>118.0</td>\n",
       "    </tr>\n",
       "    <tr>\n",
       "      <th>9</th>\n",
       "      <td>2020-01-10</td>\n",
       "      <td>116.0</td>\n",
       "    </tr>\n",
       "  </tbody>\n",
       "</table>\n",
       "</div>"
      ],
      "text/plain": [
       "        date  price\n",
       "0 2020-01-01  110.0\n",
       "1 2020-01-02    NaN\n",
       "2 2020-01-03  113.0\n",
       "3 2020-01-04  112.0\n",
       "4 2020-01-05  115.0\n",
       "5 2020-01-06  118.0\n",
       "6 2020-01-07  120.0\n",
       "7 2020-01-08    NaN\n",
       "8 2020-01-09  118.0\n",
       "9 2020-01-10  116.0"
      ]
     },
     "execution_count": 4,
     "metadata": {},
     "output_type": "execute_result"
    }
   ],
   "source": [
    "dfPrice = dfPrice.set_index('date').asfreq('d').reset_index()\n",
    "dfPrice"
   ]
  },
  {
   "cell_type": "markdown",
   "metadata": {},
   "source": [
    "### Neighbor filling\n",
    "Includes: forward and backward filling."
   ]
  },
  {
   "cell_type": "code",
   "execution_count": 5,
   "metadata": {
    "execution": {
     "iopub.execute_input": "2022-05-20T16:10:32.941962Z",
     "iopub.status.busy": "2022-05-20T16:10:32.941572Z",
     "iopub.status.idle": "2022-05-20T16:10:32.954379Z",
     "shell.execute_reply": "2022-05-20T16:10:32.953673Z",
     "shell.execute_reply.started": "2022-05-20T16:10:32.941936Z"
    },
    "tags": []
   },
   "outputs": [
    {
     "data": {
      "text/html": [
       "<div>\n",
       "<style scoped>\n",
       "    .dataframe tbody tr th:only-of-type {\n",
       "        vertical-align: middle;\n",
       "    }\n",
       "\n",
       "    .dataframe tbody tr th {\n",
       "        vertical-align: top;\n",
       "    }\n",
       "\n",
       "    .dataframe thead th {\n",
       "        text-align: right;\n",
       "    }\n",
       "</style>\n",
       "<table border=\"1\" class=\"dataframe\">\n",
       "  <thead>\n",
       "    <tr style=\"text-align: right;\">\n",
       "      <th></th>\n",
       "      <th>date</th>\n",
       "      <th>price</th>\n",
       "      <th>forward</th>\n",
       "      <th>backward</th>\n",
       "    </tr>\n",
       "  </thead>\n",
       "  <tbody>\n",
       "    <tr>\n",
       "      <th>0</th>\n",
       "      <td>2020-01-01</td>\n",
       "      <td>110.0</td>\n",
       "      <td>110.0</td>\n",
       "      <td>110.0</td>\n",
       "    </tr>\n",
       "    <tr>\n",
       "      <th>1</th>\n",
       "      <td>2020-01-02</td>\n",
       "      <td>NaN</td>\n",
       "      <td>110.0</td>\n",
       "      <td>113.0</td>\n",
       "    </tr>\n",
       "    <tr>\n",
       "      <th>2</th>\n",
       "      <td>2020-01-03</td>\n",
       "      <td>113.0</td>\n",
       "      <td>113.0</td>\n",
       "      <td>113.0</td>\n",
       "    </tr>\n",
       "    <tr>\n",
       "      <th>3</th>\n",
       "      <td>2020-01-04</td>\n",
       "      <td>112.0</td>\n",
       "      <td>112.0</td>\n",
       "      <td>112.0</td>\n",
       "    </tr>\n",
       "    <tr>\n",
       "      <th>4</th>\n",
       "      <td>2020-01-05</td>\n",
       "      <td>115.0</td>\n",
       "      <td>115.0</td>\n",
       "      <td>115.0</td>\n",
       "    </tr>\n",
       "    <tr>\n",
       "      <th>5</th>\n",
       "      <td>2020-01-06</td>\n",
       "      <td>118.0</td>\n",
       "      <td>118.0</td>\n",
       "      <td>118.0</td>\n",
       "    </tr>\n",
       "    <tr>\n",
       "      <th>6</th>\n",
       "      <td>2020-01-07</td>\n",
       "      <td>120.0</td>\n",
       "      <td>120.0</td>\n",
       "      <td>120.0</td>\n",
       "    </tr>\n",
       "    <tr>\n",
       "      <th>7</th>\n",
       "      <td>2020-01-08</td>\n",
       "      <td>NaN</td>\n",
       "      <td>120.0</td>\n",
       "      <td>118.0</td>\n",
       "    </tr>\n",
       "    <tr>\n",
       "      <th>8</th>\n",
       "      <td>2020-01-09</td>\n",
       "      <td>118.0</td>\n",
       "      <td>118.0</td>\n",
       "      <td>118.0</td>\n",
       "    </tr>\n",
       "    <tr>\n",
       "      <th>9</th>\n",
       "      <td>2020-01-10</td>\n",
       "      <td>116.0</td>\n",
       "      <td>116.0</td>\n",
       "      <td>116.0</td>\n",
       "    </tr>\n",
       "  </tbody>\n",
       "</table>\n",
       "</div>"
      ],
      "text/plain": [
       "        date  price  forward  backward\n",
       "0 2020-01-01  110.0    110.0     110.0\n",
       "1 2020-01-02    NaN    110.0     113.0\n",
       "2 2020-01-03  113.0    113.0     113.0\n",
       "3 2020-01-04  112.0    112.0     112.0\n",
       "4 2020-01-05  115.0    115.0     115.0\n",
       "5 2020-01-06  118.0    118.0     118.0\n",
       "6 2020-01-07  120.0    120.0     120.0\n",
       "7 2020-01-08    NaN    120.0     118.0\n",
       "8 2020-01-09  118.0    118.0     118.0\n",
       "9 2020-01-10  116.0    116.0     116.0"
      ]
     },
     "execution_count": 5,
     "metadata": {},
     "output_type": "execute_result"
    }
   ],
   "source": [
    "forward = dfPrice.price.fillna(method='ffill')\n",
    "backward = dfPrice.price.fillna(method='bfill')\n",
    "dfPrice.assign(forward=forward, backward=backward)"
   ]
  },
  {
   "cell_type": "markdown",
   "metadata": {},
   "source": [
    "### Linear interpolating"
   ]
  },
  {
   "cell_type": "code",
   "execution_count": 20,
   "metadata": {},
   "outputs": [
    {
     "data": {
      "text/html": [
       "<div>\n",
       "<style scoped>\n",
       "    .dataframe tbody tr th:only-of-type {\n",
       "        vertical-align: middle;\n",
       "    }\n",
       "\n",
       "    .dataframe tbody tr th {\n",
       "        vertical-align: top;\n",
       "    }\n",
       "\n",
       "    .dataframe thead th {\n",
       "        text-align: right;\n",
       "    }\n",
       "</style>\n",
       "<table border=\"1\" class=\"dataframe\">\n",
       "  <thead>\n",
       "    <tr style=\"text-align: right;\">\n",
       "      <th></th>\n",
       "      <th>date</th>\n",
       "      <th>price</th>\n",
       "    </tr>\n",
       "  </thead>\n",
       "  <tbody>\n",
       "    <tr>\n",
       "      <th>0</th>\n",
       "      <td>2020-01-01</td>\n",
       "      <td>110.0</td>\n",
       "    </tr>\n",
       "    <tr>\n",
       "      <th>1</th>\n",
       "      <td>2020-01-02</td>\n",
       "      <td>111.5</td>\n",
       "    </tr>\n",
       "    <tr>\n",
       "      <th>2</th>\n",
       "      <td>2020-01-03</td>\n",
       "      <td>113.0</td>\n",
       "    </tr>\n",
       "    <tr>\n",
       "      <th>3</th>\n",
       "      <td>2020-01-04</td>\n",
       "      <td>112.0</td>\n",
       "    </tr>\n",
       "    <tr>\n",
       "      <th>4</th>\n",
       "      <td>2020-01-05</td>\n",
       "      <td>115.0</td>\n",
       "    </tr>\n",
       "    <tr>\n",
       "      <th>5</th>\n",
       "      <td>2020-01-06</td>\n",
       "      <td>118.0</td>\n",
       "    </tr>\n",
       "    <tr>\n",
       "      <th>6</th>\n",
       "      <td>2020-01-07</td>\n",
       "      <td>120.0</td>\n",
       "    </tr>\n",
       "    <tr>\n",
       "      <th>7</th>\n",
       "      <td>2020-01-08</td>\n",
       "      <td>119.0</td>\n",
       "    </tr>\n",
       "    <tr>\n",
       "      <th>8</th>\n",
       "      <td>2020-01-09</td>\n",
       "      <td>118.0</td>\n",
       "    </tr>\n",
       "    <tr>\n",
       "      <th>9</th>\n",
       "      <td>2020-01-10</td>\n",
       "      <td>116.0</td>\n",
       "    </tr>\n",
       "  </tbody>\n",
       "</table>\n",
       "</div>"
      ],
      "text/plain": [
       "        date  price\n",
       "0 2020-01-01  110.0\n",
       "1 2020-01-02  111.5\n",
       "2 2020-01-03  113.0\n",
       "3 2020-01-04  112.0\n",
       "4 2020-01-05  115.0\n",
       "5 2020-01-06  118.0\n",
       "6 2020-01-07  120.0\n",
       "7 2020-01-08  119.0\n",
       "8 2020-01-09  118.0\n",
       "9 2020-01-10  116.0"
      ]
     },
     "execution_count": 20,
     "metadata": {},
     "output_type": "execute_result"
    }
   ],
   "source": [
    "filled_values = dfPrice.price.interpolate(method='linear')\n",
    "dfPrice.assign(price=filled_values)"
   ]
  },
  {
   "cell_type": "markdown",
   "metadata": {},
   "source": [
    "## 1.3. Time series calculation"
   ]
  },
  {
   "cell_type": "code",
   "execution_count": 21,
   "metadata": {},
   "outputs": [],
   "source": [
    "import pandas as pd\n",
    "import numpy as np"
   ]
  },
  {
   "cell_type": "markdown",
   "metadata": {},
   "source": [
    "### Cumulative sum\n",
    "Cumulative sum is the discrete version of antiderivative."
   ]
  },
  {
   "cell_type": "code",
   "execution_count": 22,
   "metadata": {},
   "outputs": [
    {
     "data": {
      "text/html": [
       "<div>\n",
       "<style scoped>\n",
       "    .dataframe tbody tr th:only-of-type {\n",
       "        vertical-align: middle;\n",
       "    }\n",
       "\n",
       "    .dataframe tbody tr th {\n",
       "        vertical-align: top;\n",
       "    }\n",
       "\n",
       "    .dataframe thead th {\n",
       "        text-align: right;\n",
       "    }\n",
       "</style>\n",
       "<table border=\"1\" class=\"dataframe\">\n",
       "  <thead>\n",
       "    <tr style=\"text-align: right;\">\n",
       "      <th></th>\n",
       "      <th>date</th>\n",
       "      <th>quantity</th>\n",
       "      <th>quantity_cumulative</th>\n",
       "    </tr>\n",
       "  </thead>\n",
       "  <tbody>\n",
       "    <tr>\n",
       "      <th>0</th>\n",
       "      <td>2000-01-01</td>\n",
       "      <td>10</td>\n",
       "      <td>10</td>\n",
       "    </tr>\n",
       "    <tr>\n",
       "      <th>1</th>\n",
       "      <td>2000-01-02</td>\n",
       "      <td>13</td>\n",
       "      <td>23</td>\n",
       "    </tr>\n",
       "    <tr>\n",
       "      <th>2</th>\n",
       "      <td>2000-01-03</td>\n",
       "      <td>11</td>\n",
       "      <td>34</td>\n",
       "    </tr>\n",
       "    <tr>\n",
       "      <th>3</th>\n",
       "      <td>2000-01-04</td>\n",
       "      <td>12</td>\n",
       "      <td>46</td>\n",
       "    </tr>\n",
       "    <tr>\n",
       "      <th>4</th>\n",
       "      <td>2000-01-05</td>\n",
       "      <td>8</td>\n",
       "      <td>54</td>\n",
       "    </tr>\n",
       "    <tr>\n",
       "      <th>5</th>\n",
       "      <td>2000-01-06</td>\n",
       "      <td>9</td>\n",
       "      <td>63</td>\n",
       "    </tr>\n",
       "    <tr>\n",
       "      <th>6</th>\n",
       "      <td>2000-01-07</td>\n",
       "      <td>9</td>\n",
       "      <td>72</td>\n",
       "    </tr>\n",
       "    <tr>\n",
       "      <th>7</th>\n",
       "      <td>2000-01-08</td>\n",
       "      <td>11</td>\n",
       "      <td>83</td>\n",
       "    </tr>\n",
       "    <tr>\n",
       "      <th>8</th>\n",
       "      <td>2000-01-09</td>\n",
       "      <td>10</td>\n",
       "      <td>93</td>\n",
       "    </tr>\n",
       "    <tr>\n",
       "      <th>9</th>\n",
       "      <td>2000-01-10</td>\n",
       "      <td>11</td>\n",
       "      <td>104</td>\n",
       "    </tr>\n",
       "    <tr>\n",
       "      <th>10</th>\n",
       "      <td>2000-01-11</td>\n",
       "      <td>13</td>\n",
       "      <td>117</td>\n",
       "    </tr>\n",
       "    <tr>\n",
       "      <th>11</th>\n",
       "      <td>2000-01-12</td>\n",
       "      <td>14</td>\n",
       "      <td>131</td>\n",
       "    </tr>\n",
       "  </tbody>\n",
       "</table>\n",
       "</div>"
      ],
      "text/plain": [
       "         date  quantity  quantity_cumulative\n",
       "0  2000-01-01        10                   10\n",
       "1  2000-01-02        13                   23\n",
       "2  2000-01-03        11                   34\n",
       "3  2000-01-04        12                   46\n",
       "4  2000-01-05         8                   54\n",
       "5  2000-01-06         9                   63\n",
       "6  2000-01-07         9                   72\n",
       "7  2000-01-08        11                   83\n",
       "8  2000-01-09        10                   93\n",
       "9  2000-01-10        11                  104\n",
       "10 2000-01-11        13                  117\n",
       "11 2000-01-12        14                  131"
      ]
     },
     "execution_count": 22,
     "metadata": {},
     "output_type": "execute_result"
    }
   ],
   "source": [
    "dfPurchase = pd.DataFrame({\n",
    "    'date': pd.date_range(start='1/1/2000', periods=12),\n",
    "    'quantity': [10, 13, 11, 12, 8, 9, 9, 11, 10, 11, 13, 14]\n",
    "})\n",
    "\n",
    "dfPurchase['quantity_cumulative'] = dfPurchase.quantity.cumsum()\n",
    "dfPurchase"
   ]
  },
  {
   "cell_type": "markdown",
   "metadata": {},
   "source": [
    "### Differencing\n",
    "Differencing is the discrete version of derivative."
   ]
  },
  {
   "cell_type": "code",
   "execution_count": 6,
   "metadata": {
    "execution": {
     "iopub.execute_input": "2022-05-20T16:29:50.424072Z",
     "iopub.status.busy": "2022-05-20T16:29:50.423203Z",
     "iopub.status.idle": "2022-05-20T16:29:50.428481Z",
     "shell.execute_reply": "2022-05-20T16:29:50.427319Z",
     "shell.execute_reply.started": "2022-05-20T16:29:50.424016Z"
    },
    "tags": []
   },
   "outputs": [],
   "source": [
    "import numpy as np\n",
    "import pandas as pd"
   ]
  },
  {
   "cell_type": "code",
   "execution_count": 7,
   "metadata": {
    "execution": {
     "iopub.execute_input": "2022-05-22T06:35:26.787797Z",
     "iopub.status.busy": "2022-05-22T06:35:26.787494Z",
     "iopub.status.idle": "2022-05-22T06:35:26.799355Z",
     "shell.execute_reply": "2022-05-22T06:35:26.798472Z",
     "shell.execute_reply.started": "2022-05-22T06:35:26.787777Z"
    },
    "tags": []
   },
   "outputs": [
    {
     "data": {
      "text/html": [
       "<div>\n",
       "<style scoped>\n",
       "    .dataframe tbody tr th:only-of-type {\n",
       "        vertical-align: middle;\n",
       "    }\n",
       "\n",
       "    .dataframe tbody tr th {\n",
       "        vertical-align: top;\n",
       "    }\n",
       "\n",
       "    .dataframe thead th {\n",
       "        text-align: right;\n",
       "    }\n",
       "</style>\n",
       "<table border=\"1\" class=\"dataframe\">\n",
       "  <thead>\n",
       "    <tr style=\"text-align: right;\">\n",
       "      <th></th>\n",
       "      <th>date</th>\n",
       "      <th>quantity</th>\n",
       "      <th>quantity_difference</th>\n",
       "    </tr>\n",
       "  </thead>\n",
       "  <tbody>\n",
       "    <tr>\n",
       "      <th>0</th>\n",
       "      <td>2000-01-01</td>\n",
       "      <td>10</td>\n",
       "      <td>NaN</td>\n",
       "    </tr>\n",
       "    <tr>\n",
       "      <th>1</th>\n",
       "      <td>2000-01-02</td>\n",
       "      <td>13</td>\n",
       "      <td>NaN</td>\n",
       "    </tr>\n",
       "    <tr>\n",
       "      <th>2</th>\n",
       "      <td>2000-01-03</td>\n",
       "      <td>11</td>\n",
       "      <td>1.0</td>\n",
       "    </tr>\n",
       "    <tr>\n",
       "      <th>3</th>\n",
       "      <td>2000-01-04</td>\n",
       "      <td>12</td>\n",
       "      <td>-1.0</td>\n",
       "    </tr>\n",
       "    <tr>\n",
       "      <th>4</th>\n",
       "      <td>2000-01-05</td>\n",
       "      <td>8</td>\n",
       "      <td>-3.0</td>\n",
       "    </tr>\n",
       "    <tr>\n",
       "      <th>5</th>\n",
       "      <td>2000-01-06</td>\n",
       "      <td>9</td>\n",
       "      <td>-3.0</td>\n",
       "    </tr>\n",
       "    <tr>\n",
       "      <th>6</th>\n",
       "      <td>2000-01-07</td>\n",
       "      <td>9</td>\n",
       "      <td>1.0</td>\n",
       "    </tr>\n",
       "    <tr>\n",
       "      <th>7</th>\n",
       "      <td>2000-01-08</td>\n",
       "      <td>11</td>\n",
       "      <td>2.0</td>\n",
       "    </tr>\n",
       "    <tr>\n",
       "      <th>8</th>\n",
       "      <td>2000-01-09</td>\n",
       "      <td>10</td>\n",
       "      <td>1.0</td>\n",
       "    </tr>\n",
       "    <tr>\n",
       "      <th>9</th>\n",
       "      <td>2000-01-10</td>\n",
       "      <td>11</td>\n",
       "      <td>0.0</td>\n",
       "    </tr>\n",
       "  </tbody>\n",
       "</table>\n",
       "</div>"
      ],
      "text/plain": [
       "        date  quantity  quantity_difference\n",
       "0 2000-01-01        10                  NaN\n",
       "1 2000-01-02        13                  NaN\n",
       "2 2000-01-03        11                  1.0\n",
       "3 2000-01-04        12                 -1.0\n",
       "4 2000-01-05         8                 -3.0\n",
       "5 2000-01-06         9                 -3.0\n",
       "6 2000-01-07         9                  1.0\n",
       "7 2000-01-08        11                  2.0\n",
       "8 2000-01-09        10                  1.0\n",
       "9 2000-01-10        11                  0.0"
      ]
     },
     "execution_count": 7,
     "metadata": {},
     "output_type": "execute_result"
    }
   ],
   "source": [
    "dfPurchase = pd.DataFrame({\n",
    "    'date': pd.date_range(start='1/1/2000', periods=12),\n",
    "    'quantity': [10, 13, 11, 12, 8, 9, 9, 11, 10, 11, 13, 14]\n",
    "})\n",
    "\n",
    "dfPurchase['quantity_difference'] = dfPurchase.quantity.diff(periods=2)\n",
    "dfPurchase.head(10)"
   ]
  },
  {
   "cell_type": "markdown",
   "metadata": {},
   "source": [
    "### Moving average\n",
    "Given a series (which has $N$ observations), [moving average](https://en.wikipedia.org/wiki/Moving_average) or rolling mean calculate the average of each pre-selected size window. A window of size $K$ (which implies the order of moving average) means $K$ consecutive values is taken into calculating the mean. Rolling mean is used on time series data to smooth the short-term fluctuations and highlight long-term trends and cycles. Some examples of commonly used values of $K$:\n",
    "- For a date series, $K=7$ (weekly) or $K=30$ (monthly).\n",
    "- For a month series, $K=4$ (quarterly) or $K=12$ (annual)."
   ]
  },
  {
   "cell_type": "code",
   "execution_count": 1,
   "metadata": {
    "execution": {
     "iopub.execute_input": "2022-05-22T03:18:23.357707Z",
     "iopub.status.busy": "2022-05-22T03:18:23.357303Z",
     "iopub.status.idle": "2022-05-22T03:18:24.634078Z",
     "shell.execute_reply": "2022-05-22T03:18:24.633199Z",
     "shell.execute_reply.started": "2022-05-22T03:18:23.357631Z"
    },
    "tags": []
   },
   "outputs": [],
   "source": [
    "import numpy as np\n",
    "import pandas as pd"
   ]
  },
  {
   "cell_type": "code",
   "execution_count": 3,
   "metadata": {
    "execution": {
     "iopub.execute_input": "2022-05-22T03:18:49.637723Z",
     "iopub.status.busy": "2022-05-22T03:18:49.637412Z",
     "iopub.status.idle": "2022-05-22T03:18:49.650377Z",
     "shell.execute_reply": "2022-05-22T03:18:49.649449Z",
     "shell.execute_reply.started": "2022-05-22T03:18:49.637701Z"
    },
    "tags": []
   },
   "outputs": [
    {
     "data": {
      "text/html": [
       "<div>\n",
       "<style scoped>\n",
       "    .dataframe tbody tr th:only-of-type {\n",
       "        vertical-align: middle;\n",
       "    }\n",
       "\n",
       "    .dataframe tbody tr th {\n",
       "        vertical-align: top;\n",
       "    }\n",
       "\n",
       "    .dataframe thead th {\n",
       "        text-align: right;\n",
       "    }\n",
       "</style>\n",
       "<table border=\"1\" class=\"dataframe\">\n",
       "  <thead>\n",
       "    <tr style=\"text-align: right;\">\n",
       "      <th></th>\n",
       "      <th>date</th>\n",
       "      <th>rate</th>\n",
       "      <th>rate_smooth</th>\n",
       "    </tr>\n",
       "  </thead>\n",
       "  <tbody>\n",
       "    <tr>\n",
       "      <th>0</th>\n",
       "      <td>2020-02-28</td>\n",
       "      <td>23241.0</td>\n",
       "      <td>NaN</td>\n",
       "    </tr>\n",
       "    <tr>\n",
       "      <th>1</th>\n",
       "      <td>2020-02-27</td>\n",
       "      <td>23241.5</td>\n",
       "      <td>NaN</td>\n",
       "    </tr>\n",
       "    <tr>\n",
       "      <th>2</th>\n",
       "      <td>2020-02-26</td>\n",
       "      <td>23241.0</td>\n",
       "      <td>NaN</td>\n",
       "    </tr>\n",
       "    <tr>\n",
       "      <th>3</th>\n",
       "      <td>2020-02-25</td>\n",
       "      <td>23271.0</td>\n",
       "      <td>23246.285714</td>\n",
       "    </tr>\n",
       "    <tr>\n",
       "      <th>4</th>\n",
       "      <td>2020-02-24</td>\n",
       "      <td>23248.5</td>\n",
       "      <td>23244.428571</td>\n",
       "    </tr>\n",
       "    <tr>\n",
       "      <th>5</th>\n",
       "      <td>2020-02-23</td>\n",
       "      <td>23243.5</td>\n",
       "      <td>23244.714286</td>\n",
       "    </tr>\n",
       "    <tr>\n",
       "      <th>6</th>\n",
       "      <td>2020-02-22</td>\n",
       "      <td>23237.5</td>\n",
       "      <td>23243.071429</td>\n",
       "    </tr>\n",
       "    <tr>\n",
       "      <th>7</th>\n",
       "      <td>2020-02-21</td>\n",
       "      <td>23228.0</td>\n",
       "      <td>23239.500000</td>\n",
       "    </tr>\n",
       "    <tr>\n",
       "      <th>8</th>\n",
       "      <td>2020-02-20</td>\n",
       "      <td>23243.5</td>\n",
       "      <td>23238.285714</td>\n",
       "    </tr>\n",
       "    <tr>\n",
       "      <th>9</th>\n",
       "      <td>2020-02-19</td>\n",
       "      <td>23229.5</td>\n",
       "      <td>23239.928571</td>\n",
       "    </tr>\n",
       "  </tbody>\n",
       "</table>\n",
       "</div>"
      ],
      "text/plain": [
       "         date     rate   rate_smooth\n",
       "0  2020-02-28  23241.0           NaN\n",
       "1  2020-02-27  23241.5           NaN\n",
       "2  2020-02-26  23241.0           NaN\n",
       "3  2020-02-25  23271.0  23246.285714\n",
       "4  2020-02-24  23248.5  23244.428571\n",
       "5  2020-02-23  23243.5  23244.714286\n",
       "6  2020-02-22  23237.5  23243.071429\n",
       "7  2020-02-21  23228.0  23239.500000\n",
       "8  2020-02-20  23243.5  23238.285714\n",
       "9  2020-02-19  23229.5  23239.928571"
      ]
     },
     "execution_count": 3,
     "metadata": {},
     "output_type": "execute_result"
    }
   ],
   "source": [
    "dfRate = pd.read_csv('data/exchange_rate.csv')\n",
    "\n",
    "dfRate['rate_smooth'] = dfRate.rate.rolling(window=7, center=True).mean()\n",
    "dfRate.head(10)"
   ]
  },
  {
   "cell_type": "markdown",
   "metadata": {},
   "source": [
    "Notice that there will be $N-K+1$ rolling mean points and $K-1$ null values. Therefore, if $K$ is even, then the rolling mean cannot be centered. To avoid this problem, calculate the rolling mean once again with the order of 2."
   ]
  },
  {
   "cell_type": "code",
   "execution_count": 49,
   "metadata": {
    "execution": {
     "iopub.execute_input": "2022-05-22T09:50:51.104611Z",
     "iopub.status.busy": "2022-05-22T09:50:51.101511Z",
     "iopub.status.idle": "2022-05-22T09:50:51.164967Z",
     "shell.execute_reply": "2022-05-22T09:50:51.164033Z",
     "shell.execute_reply.started": "2022-05-22T09:50:51.104502Z"
    },
    "tags": []
   },
   "outputs": [
    {
     "data": {
      "text/html": [
       "<div>\n",
       "<style scoped>\n",
       "    .dataframe tbody tr th:only-of-type {\n",
       "        vertical-align: middle;\n",
       "    }\n",
       "\n",
       "    .dataframe tbody tr th {\n",
       "        vertical-align: top;\n",
       "    }\n",
       "\n",
       "    .dataframe thead th {\n",
       "        text-align: right;\n",
       "    }\n",
       "</style>\n",
       "<table border=\"1\" class=\"dataframe\">\n",
       "  <thead>\n",
       "    <tr style=\"text-align: right;\">\n",
       "      <th></th>\n",
       "      <th>date</th>\n",
       "      <th>rate</th>\n",
       "      <th>rate_smooth</th>\n",
       "    </tr>\n",
       "  </thead>\n",
       "  <tbody>\n",
       "    <tr>\n",
       "      <th>0</th>\n",
       "      <td>2020-02-28</td>\n",
       "      <td>23241.0</td>\n",
       "      <td>NaN</td>\n",
       "    </tr>\n",
       "    <tr>\n",
       "      <th>1</th>\n",
       "      <td>2020-02-27</td>\n",
       "      <td>23241.5</td>\n",
       "      <td>NaN</td>\n",
       "    </tr>\n",
       "    <tr>\n",
       "      <th>2</th>\n",
       "      <td>2020-02-26</td>\n",
       "      <td>23241.0</td>\n",
       "      <td>NaN</td>\n",
       "    </tr>\n",
       "    <tr>\n",
       "      <th>3</th>\n",
       "      <td>2020-02-25</td>\n",
       "      <td>23271.0</td>\n",
       "      <td>23247.458333</td>\n",
       "    </tr>\n",
       "    <tr>\n",
       "      <th>4</th>\n",
       "      <td>2020-02-24</td>\n",
       "      <td>23248.5</td>\n",
       "      <td>23246.041667</td>\n",
       "    </tr>\n",
       "    <tr>\n",
       "      <th>5</th>\n",
       "      <td>2020-02-23</td>\n",
       "      <td>23243.5</td>\n",
       "      <td>23245.125000</td>\n",
       "    </tr>\n",
       "    <tr>\n",
       "      <th>6</th>\n",
       "      <td>2020-02-22</td>\n",
       "      <td>23237.5</td>\n",
       "      <td>23241.875000</td>\n",
       "    </tr>\n",
       "    <tr>\n",
       "      <th>7</th>\n",
       "      <td>2020-02-21</td>\n",
       "      <td>23228.0</td>\n",
       "      <td>23238.208333</td>\n",
       "    </tr>\n",
       "    <tr>\n",
       "      <th>8</th>\n",
       "      <td>2020-02-20</td>\n",
       "      <td>23243.5</td>\n",
       "      <td>23237.708333</td>\n",
       "    </tr>\n",
       "    <tr>\n",
       "      <th>9</th>\n",
       "      <td>2020-02-19</td>\n",
       "      <td>23229.5</td>\n",
       "      <td>23238.875000</td>\n",
       "    </tr>\n",
       "  </tbody>\n",
       "</table>\n",
       "</div>"
      ],
      "text/plain": [
       "         date     rate   rate_smooth\n",
       "0  2020-02-28  23241.0           NaN\n",
       "1  2020-02-27  23241.5           NaN\n",
       "2  2020-02-26  23241.0           NaN\n",
       "3  2020-02-25  23271.0  23247.458333\n",
       "4  2020-02-24  23248.5  23246.041667\n",
       "5  2020-02-23  23243.5  23245.125000\n",
       "6  2020-02-22  23237.5  23241.875000\n",
       "7  2020-02-21  23228.0  23238.208333\n",
       "8  2020-02-20  23243.5  23237.708333\n",
       "9  2020-02-19  23229.5  23238.875000"
      ]
     },
     "execution_count": 49,
     "metadata": {},
     "output_type": "execute_result"
    }
   ],
   "source": [
    "dfRate = pd.read_csv('data/exchange_rate.csv')\n",
    "\n",
    "rate = dfRate.rate\n",
    "ma6 = rate.rolling(window=6, center=True).mean()\n",
    "ma6x2 = ma6.rolling(window=2).mean().shift(-1)\n",
    "\n",
    "dfRate['rate_smooth'] = ma6x2\n",
    "dfRate.head(10)"
   ]
  },
  {
   "cell_type": "markdown",
   "metadata": {},
   "source": [
    "### Growth rate"
   ]
  },
  {
   "cell_type": "code",
   "execution_count": 28,
   "metadata": {},
   "outputs": [],
   "source": [
    "import numpy as np\n",
    "import pandas as pd"
   ]
  },
  {
   "cell_type": "code",
   "execution_count": 29,
   "metadata": {},
   "outputs": [
    {
     "data": {
      "text/html": [
       "<div>\n",
       "<style scoped>\n",
       "    .dataframe tbody tr th:only-of-type {\n",
       "        vertical-align: middle;\n",
       "    }\n",
       "\n",
       "    .dataframe tbody tr th {\n",
       "        vertical-align: top;\n",
       "    }\n",
       "\n",
       "    .dataframe thead th {\n",
       "        text-align: right;\n",
       "    }\n",
       "</style>\n",
       "<table border=\"1\" class=\"dataframe\">\n",
       "  <thead>\n",
       "    <tr style=\"text-align: right;\">\n",
       "      <th></th>\n",
       "      <th>quarter</th>\n",
       "      <th>cost</th>\n",
       "      <th>growth_over_last_period</th>\n",
       "      <th>growth_over_same_period_last_year</th>\n",
       "    </tr>\n",
       "  </thead>\n",
       "  <tbody>\n",
       "    <tr>\n",
       "      <th>0</th>\n",
       "      <td>2017 Q1</td>\n",
       "      <td>111.63</td>\n",
       "      <td>nan%</td>\n",
       "      <td>nan%</td>\n",
       "    </tr>\n",
       "    <tr>\n",
       "      <th>1</th>\n",
       "      <td>2017 Q2</td>\n",
       "      <td>112.23</td>\n",
       "      <td>0.54%</td>\n",
       "      <td>nan%</td>\n",
       "    </tr>\n",
       "    <tr>\n",
       "      <th>2</th>\n",
       "      <td>2017 Q3</td>\n",
       "      <td>112.68</td>\n",
       "      <td>0.40%</td>\n",
       "      <td>nan%</td>\n",
       "    </tr>\n",
       "    <tr>\n",
       "      <th>3</th>\n",
       "      <td>2017 Q4</td>\n",
       "      <td>113.10</td>\n",
       "      <td>0.37%</td>\n",
       "      <td>nan%</td>\n",
       "    </tr>\n",
       "    <tr>\n",
       "      <th>4</th>\n",
       "      <td>2018 Q1</td>\n",
       "      <td>114.10</td>\n",
       "      <td>0.88%</td>\n",
       "      <td>2.21%</td>\n",
       "    </tr>\n",
       "    <tr>\n",
       "      <th>5</th>\n",
       "      <td>2018 Q2</td>\n",
       "      <td>115.28</td>\n",
       "      <td>1.03%</td>\n",
       "      <td>2.72%</td>\n",
       "    </tr>\n",
       "    <tr>\n",
       "      <th>6</th>\n",
       "      <td>2018 Q3</td>\n",
       "      <td>115.66</td>\n",
       "      <td>0.33%</td>\n",
       "      <td>2.64%</td>\n",
       "    </tr>\n",
       "    <tr>\n",
       "      <th>7</th>\n",
       "      <td>2018 Q4</td>\n",
       "      <td>115.59</td>\n",
       "      <td>-0.06%</td>\n",
       "      <td>2.20%</td>\n",
       "    </tr>\n",
       "    <tr>\n",
       "      <th>8</th>\n",
       "      <td>2019 Q1</td>\n",
       "      <td>115.98</td>\n",
       "      <td>0.34%</td>\n",
       "      <td>1.65%</td>\n",
       "    </tr>\n",
       "    <tr>\n",
       "      <th>9</th>\n",
       "      <td>2019 Q2</td>\n",
       "      <td>117.37</td>\n",
       "      <td>1.20%</td>\n",
       "      <td>1.81%</td>\n",
       "    </tr>\n",
       "    <tr>\n",
       "      <th>10</th>\n",
       "      <td>2019 Q3</td>\n",
       "      <td>117.69</td>\n",
       "      <td>0.27%</td>\n",
       "      <td>1.76%</td>\n",
       "    </tr>\n",
       "    <tr>\n",
       "      <th>11</th>\n",
       "      <td>2019 Q4</td>\n",
       "      <td>117.94</td>\n",
       "      <td>0.21%</td>\n",
       "      <td>2.03%</td>\n",
       "    </tr>\n",
       "  </tbody>\n",
       "</table>\n",
       "</div>"
      ],
      "text/plain": [
       "    quarter    cost growth_over_last_period growth_over_same_period_last_year\n",
       "0   2017 Q1  111.63                    nan%                              nan%\n",
       "1   2017 Q2  112.23                   0.54%                              nan%\n",
       "2   2017 Q3  112.68                   0.40%                              nan%\n",
       "3   2017 Q4  113.10                   0.37%                              nan%\n",
       "4   2018 Q1  114.10                   0.88%                             2.21%\n",
       "5   2018 Q2  115.28                   1.03%                             2.72%\n",
       "6   2018 Q3  115.66                   0.33%                             2.64%\n",
       "7   2018 Q4  115.59                  -0.06%                             2.20%\n",
       "8   2019 Q1  115.98                   0.34%                             1.65%\n",
       "9   2019 Q2  117.37                   1.20%                             1.81%\n",
       "10  2019 Q3  117.69                   0.27%                             1.76%\n",
       "11  2019 Q4  117.94                   0.21%                             2.03%"
      ]
     },
     "execution_count": 29,
     "metadata": {},
     "output_type": "execute_result"
    }
   ],
   "source": [
    "dfCpi = pd.DataFrame({\n",
    "    'quarter': [f'{year} Q{quarter}' for year in range(2017,2020) for quarter in range(1,5)],\n",
    "    'cost': [111.63, 112.23, 112.68, 113.10, 114.10, 115.28, 115.66, 115.59, 115.98, 117.37, 117.69, 117.94]\n",
    "})\n",
    "\n",
    "dfCpi['growth_over_last_period'] = dfCpi.cost.pct_change().map('{:.2%}'.format)\n",
    "dfCpi['growth_over_same_period_last_year'] = dfCpi.cost.pct_change(periods=4).map('{:.2%}'.format)\n",
    "dfCpi"
   ]
  },
  {
   "cell_type": "markdown",
   "metadata": {},
   "source": [
    "# 2. Time series analysis\n",
    "In this section, we discuss possible characteristics that can be observed from a time series:\n",
    "- *Trend*, the long-term change of data (increasing or decreasing) without looking at small fluctuations.\n",
    "- *Seasonality*, the pattern that repeats after a specific period.\n",
    "- *Cyclic*, very much like seasonality but the length of each cycle is not fixed."
   ]
  },
  {
   "cell_type": "code",
   "execution_count": 2,
   "metadata": {
    "execution": {
     "iopub.execute_input": "2022-05-23T13:58:22.867500Z",
     "iopub.status.busy": "2022-05-23T13:58:22.867042Z",
     "iopub.status.idle": "2022-05-23T13:58:26.784010Z",
     "shell.execute_reply": "2022-05-23T13:58:26.783162Z",
     "shell.execute_reply.started": "2022-05-23T13:58:22.867468Z"
    },
    "tags": []
   },
   "outputs": [],
   "source": [
    "import numpy as np\n",
    "import pandas as pd\n",
    "import matplotlib.pyplot as plt\n",
    "import seaborn as sns\n",
    "import warnings\n",
    "import pmdarima as pm\n",
    "\n",
    "from statsmodels.tsa.stattools import adfuller\n",
    "from statsmodels.graphics.tsaplots import plot_acf, plot_pacf\n",
    "from statsmodels.tsa.seasonal import seasonal_decompose\n",
    "\n",
    "from statsmodels.tsa.arima_model import ARIMA\n",
    "from statsmodels.tsa.statespace.sarimax import SARIMAX\n",
    "from statsmodels.tsa.api import VAR, SVAR, VARMAX\n",
    "from statsmodels.tsa.holtwinters import ExponentialSmoothing as ES\n",
    "from prophet import Prophet\n",
    "\n",
    "plt.style.use(['seaborn', 'seaborn-whitegrid'])\n",
    "warnings.filterwarnings('ignore')\n",
    "%config InlineBackend.figure_format = 'retina'"
   ]
  },
  {
   "cell_type": "markdown",
   "metadata": {},
   "source": [
    "## 2.1. Auto correlation\n",
    "When identifying possible relationship between historical data and the current moment, there are two useful charts:\n",
    "- ACF (**A**uto-**C**orrelation **F**unction) plots the Pearson's correlation coefficients $\\rho_1,\\rho_2,\\dots$ of a series $s_t$ against each of its lag versions $s_{t-1},s_{t-2},\\dots$\n",
    "- PACF (**P**artial **ACF**): it plots the coefficients $w_1,w_2,\\dots$ of the OLS regression function $s_t=w_0+w_1s_{t-1}+w_2s_{t-2}+\\dots$ PACF describes the direct effect made by previous data, since the later effects has been captured by the corresponding coefficients.\n",
    "\n",
    "Both include a $95\\%$ confidence band indicating the correlation coefficient is not significant if it falls into that band."
   ]
  },
  {
   "cell_type": "code",
   "execution_count": 1,
   "metadata": {
    "execution": {
     "iopub.execute_input": "2022-06-05T13:43:51.658334Z",
     "iopub.status.busy": "2022-06-05T13:43:51.657997Z",
     "iopub.status.idle": "2022-06-05T13:43:54.021075Z",
     "shell.execute_reply": "2022-06-05T13:43:54.019948Z",
     "shell.execute_reply.started": "2022-06-05T13:43:51.658279Z"
    },
    "tags": []
   },
   "outputs": [],
   "source": [
    "import numpy as np\n",
    "import pandas as pd\n",
    "import matplotlib.pyplot as plt\n",
    "from statsmodels.graphics.tsaplots import plot_acf, plot_pacf\n",
    "\n",
    "plt.style.use(['seaborn', 'seaborn-whitegrid'])\n",
    "%config InlineBackend.figure_format = 'retina'"
   ]
  },
  {
   "cell_type": "code",
   "execution_count": 2,
   "metadata": {
    "execution": {
     "iopub.execute_input": "2022-06-05T13:44:15.332225Z",
     "iopub.status.busy": "2022-06-05T13:44:15.331658Z",
     "iopub.status.idle": "2022-06-05T13:44:15.789907Z",
     "shell.execute_reply": "2022-06-05T13:44:15.789236Z",
     "shell.execute_reply.started": "2022-06-05T13:44:15.332190Z"
    },
    "tags": []
   },
   "outputs": [
    {
     "data": {
      "text/html": [
       "<div>\n",
       "<style scoped>\n",
       "    .dataframe tbody tr th:only-of-type {\n",
       "        vertical-align: middle;\n",
       "    }\n",
       "\n",
       "    .dataframe tbody tr th {\n",
       "        vertical-align: top;\n",
       "    }\n",
       "\n",
       "    .dataframe thead th {\n",
       "        text-align: right;\n",
       "    }\n",
       "</style>\n",
       "<table border=\"1\" class=\"dataframe\">\n",
       "  <thead>\n",
       "    <tr style=\"text-align: right;\">\n",
       "      <th></th>\n",
       "      <th>quantity</th>\n",
       "      <th>date</th>\n",
       "    </tr>\n",
       "  </thead>\n",
       "  <tbody>\n",
       "    <tr>\n",
       "      <th>0</th>\n",
       "      <td>379.490001</td>\n",
       "      <td>2019-10-28</td>\n",
       "    </tr>\n",
       "    <tr>\n",
       "      <th>1</th>\n",
       "      <td>669.510001</td>\n",
       "      <td>2019-10-29</td>\n",
       "    </tr>\n",
       "    <tr>\n",
       "      <th>2</th>\n",
       "      <td>337.170001</td>\n",
       "      <td>2019-10-30</td>\n",
       "    </tr>\n",
       "    <tr>\n",
       "      <th>3</th>\n",
       "      <td>603.740001</td>\n",
       "      <td>2019-10-31</td>\n",
       "    </tr>\n",
       "    <tr>\n",
       "      <th>4</th>\n",
       "      <td>189.820001</td>\n",
       "      <td>2019-11-01</td>\n",
       "    </tr>\n",
       "  </tbody>\n",
       "</table>\n",
       "</div>"
      ],
      "text/plain": [
       "     quantity       date\n",
       "0  379.490001 2019-10-28\n",
       "1  669.510001 2019-10-29\n",
       "2  337.170001 2019-10-30\n",
       "3  603.740001 2019-10-31\n",
       "4  189.820001 2019-11-01"
      ]
     },
     "execution_count": 2,
     "metadata": {},
     "output_type": "execute_result"
    }
   ],
   "source": [
    "dfQuantity = pd.read_csv('data/purchase_quantity.csv')\n",
    "dfQuantity = dfQuantity.assign(date=dfQuantity.date.astype('datetime64'))\n",
    "dfQuantity['quantity'] = dfQuantity.quantity.fillna(1e-6) + 1e-6\n",
    "dfQuantity.head()"
   ]
  },
  {
   "cell_type": "code",
   "execution_count": 4,
   "metadata": {
    "execution": {
     "iopub.execute_input": "2022-05-23T13:58:27.838828Z",
     "iopub.status.busy": "2022-05-23T13:58:27.838485Z",
     "iopub.status.idle": "2022-05-23T13:58:28.136766Z",
     "shell.execute_reply": "2022-05-23T13:58:28.135928Z",
     "shell.execute_reply.started": "2022-05-23T13:58:27.838801Z"
    },
    "tags": []
   },
   "outputs": [
    {
     "data": {
      "image/png": "[encoded data removed]",
      "text/plain": [
       "<Figure size 1080x360 with 2 Axes>"
      ]
     },
     "metadata": {
      "image/png": {
       "height": 317,
       "width": 878
      }
     },
     "output_type": "display_data"
    }
   ],
   "source": [
    "df = dfQuantity.copy()\n",
    "df = df.set_index('date')\n",
    "\n",
    "fig, ax = plt.subplots(figsize=(15,5), ncols=2)\n",
    "plot_acf(df, ax=ax[0])\n",
    "plot_pacf(df, ax=ax[1])\n",
    "plt.show()"
   ]
  },
  {
   "cell_type": "markdown",
   "metadata": {},
   "source": [
    "## 2.2. Seasonal decomposition\n",
    "Time series decompostion is a statistical technique that factorizes data into three components: trend, residual and noise. There are two approaches to achieve this, using an additive model or a multiplicative model, where the original data equals to the sum or the product of its componennts."
   ]
  },
  {
   "cell_type": "code",
   "execution_count": 1,
   "metadata": {
    "execution": {
     "iopub.execute_input": "2022-05-27T00:43:53.566035Z",
     "iopub.status.busy": "2022-05-27T00:43:53.565434Z",
     "iopub.status.idle": "2022-05-27T00:43:55.902994Z",
     "shell.execute_reply": "2022-05-27T00:43:55.902335Z",
     "shell.execute_reply.started": "2022-05-27T00:43:53.565934Z"
    },
    "tags": []
   },
   "outputs": [],
   "source": [
    "import numpy as np\n",
    "import pandas as pd\n",
    "import matplotlib.pyplot as plt\n",
    "from statsmodels.tsa.seasonal import seasonal_decompose\n",
    "\n",
    "plt.style.use(['seaborn', 'seaborn-whitegrid'])\n",
    "%config InlineBackend.figure_format = 'retina'"
   ]
  },
  {
   "cell_type": "code",
   "execution_count": 2,
   "metadata": {
    "execution": {
     "iopub.execute_input": "2022-05-27T00:43:55.904619Z",
     "iopub.status.busy": "2022-05-27T00:43:55.904215Z",
     "iopub.status.idle": "2022-05-27T00:43:56.067000Z",
     "shell.execute_reply": "2022-05-27T00:43:56.066310Z",
     "shell.execute_reply.started": "2022-05-27T00:43:55.904592Z"
    },
    "tags": []
   },
   "outputs": [
    {
     "data": {
      "text/html": [
       "<div>\n",
       "<style scoped>\n",
       "    .dataframe tbody tr th:only-of-type {\n",
       "        vertical-align: middle;\n",
       "    }\n",
       "\n",
       "    .dataframe tbody tr th {\n",
       "        vertical-align: top;\n",
       "    }\n",
       "\n",
       "    .dataframe thead th {\n",
       "        text-align: right;\n",
       "    }\n",
       "</style>\n",
       "<table border=\"1\" class=\"dataframe\">\n",
       "  <thead>\n",
       "    <tr style=\"text-align: right;\">\n",
       "      <th></th>\n",
       "      <th>quantity</th>\n",
       "      <th>date</th>\n",
       "    </tr>\n",
       "  </thead>\n",
       "  <tbody>\n",
       "    <tr>\n",
       "      <th>0</th>\n",
       "      <td>379.490001</td>\n",
       "      <td>2019-10-28</td>\n",
       "    </tr>\n",
       "    <tr>\n",
       "      <th>1</th>\n",
       "      <td>669.510001</td>\n",
       "      <td>2019-10-29</td>\n",
       "    </tr>\n",
       "    <tr>\n",
       "      <th>2</th>\n",
       "      <td>337.170001</td>\n",
       "      <td>2019-10-30</td>\n",
       "    </tr>\n",
       "    <tr>\n",
       "      <th>3</th>\n",
       "      <td>603.740001</td>\n",
       "      <td>2019-10-31</td>\n",
       "    </tr>\n",
       "    <tr>\n",
       "      <th>4</th>\n",
       "      <td>189.820001</td>\n",
       "      <td>2019-11-01</td>\n",
       "    </tr>\n",
       "  </tbody>\n",
       "</table>\n",
       "</div>"
      ],
      "text/plain": [
       "     quantity       date\n",
       "0  379.490001 2019-10-28\n",
       "1  669.510001 2019-10-29\n",
       "2  337.170001 2019-10-30\n",
       "3  603.740001 2019-10-31\n",
       "4  189.820001 2019-11-01"
      ]
     },
     "execution_count": 2,
     "metadata": {},
     "output_type": "execute_result"
    }
   ],
   "source": [
    "dfQuantity = pd.read_csv('data/purchase_quantity.csv')\n",
    "dfQuantity = dfQuantity.assign(date=dfQuantity.date.astype('datetime64'))\n",
    "dfQuantity['quantity'] = dfQuantity.quantity.fillna(1e-6) + 1e-6\n",
    "dfQuantity.head()"
   ]
  },
  {
   "cell_type": "code",
   "execution_count": 3,
   "metadata": {
    "execution": {
     "iopub.execute_input": "2022-05-27T00:43:57.059118Z",
     "iopub.status.busy": "2022-05-27T00:43:57.058731Z",
     "iopub.status.idle": "2022-05-27T00:43:57.578427Z",
     "shell.execute_reply": "2022-05-27T00:43:57.577774Z",
     "shell.execute_reply.started": "2022-05-27T00:43:57.059091Z"
    },
    "tags": []
   },
   "outputs": [
    {
     "data": {
      "image/png": "[encoded data removed]",
      "text/plain": [
       "<Figure size 576x396 with 4 Axes>"
      ]
     },
     "metadata": {
      "image/png": {
       "height": 389,
       "width": 568
      }
     },
     "output_type": "display_data"
    }
   ],
   "source": [
    "df = dfQuantity.copy()\n",
    "df = df.set_index('date')\n",
    "decomposer = seasonal_decompose(df, model='additive', period=7)\n",
    "decomposer.plot()\n",
    "plt.show()"
   ]
  },
  {
   "cell_type": "code",
   "execution_count": 7,
   "metadata": {
    "execution": {
     "iopub.execute_input": "2022-05-27T00:44:32.902089Z",
     "iopub.status.busy": "2022-05-27T00:44:32.901738Z",
     "iopub.status.idle": "2022-05-27T00:44:32.908282Z",
     "shell.execute_reply": "2022-05-27T00:44:32.906843Z",
     "shell.execute_reply.started": "2022-05-27T00:44:32.902063Z"
    },
    "tags": []
   },
   "outputs": [
    {
     "data": {
      "text/plain": [
       "date\n",
       "2019-10-28    29.471737\n",
       "2019-10-29    13.227030\n",
       "2019-10-30    -8.377718\n",
       "2019-10-31    21.559084\n",
       "2019-11-01    13.299370\n",
       "2019-11-02     4.106962\n",
       "2019-11-03   -73.286467\n",
       "Name: seasonal, dtype: float64"
      ]
     },
     "execution_count": 7,
     "metadata": {},
     "output_type": "execute_result"
    }
   ],
   "source": [
    "decomposer.seasonal.head(7)"
   ]
  },
  {
   "cell_type": "markdown",
   "metadata": {},
   "source": [
    "## 2.3. Stationarity\n",
    "Stationarity refers to a time series whose characteristics do not depends on which time period it is observed. If a time series violates one of these conditions, it is considered non-stationary:\n",
    "- Constant mean at every timeframe\n",
    "- Constant variance at every timeframe\n",
    "- No seasonality\n",
    "\n",
    "To check whether a time series is stationary, we can look at its line chart. Let's plot some examples:\n",
    "\n",
    "<img src='image/stationary.png' style='height:500px; margin:20px auto 20px;'>\n",
    "\n",
    "- Series (d), (h), (i) have seasonality\n",
    "- Series (a), (c), (e), (f), (i) have trends, thus their means at different periods are not constants\n",
    "- Series (i) has increasing variance over time\n",
    "- Ruling out all violated series above leaves only (b) and (g) stationary"
   ]
  },
  {
   "cell_type": "markdown",
   "metadata": {},
   "source": [
    "### Dickey-Fuller test\n",
    "Instead of looking at charts, [Agumented Dickey-Fuller](https://en.wikipedia.org/wiki/Augmented_Dickey%E2%80%93Fuller_test) test can be used to decide if a series is stationary. The hypotheses:\n",
    "- $H_0$: data is non-stationary\n",
    "- $H_1$: data is stationary\n",
    "\n",
    "The decision making process is: if either p-value < significance level or test statistic < critical value, we reject $H_0$ and conclude that our data is stationary."
   ]
  },
  {
   "cell_type": "code",
   "execution_count": 1,
   "metadata": {
    "execution": {
     "iopub.execute_input": "2022-05-29T06:22:31.827496Z",
     "iopub.status.busy": "2022-05-29T06:22:31.825939Z",
     "iopub.status.idle": "2022-05-29T06:22:34.265694Z",
     "shell.execute_reply": "2022-05-29T06:22:34.264958Z",
     "shell.execute_reply.started": "2022-05-29T06:22:31.827148Z"
    },
    "tags": []
   },
   "outputs": [],
   "source": [
    "import numpy as np\n",
    "import pandas as pd\n",
    "import matplotlib.pyplot as plt\n",
    "from statsmodels.tsa.seasonal import seasonal_decompose\n",
    "\n",
    "plt.style.use(['seaborn', 'seaborn-whitegrid'])\n",
    "%config InlineBackend.figure_format = 'retina'"
   ]
  },
  {
   "cell_type": "code",
   "execution_count": 7,
   "metadata": {
    "execution": {
     "iopub.execute_input": "2022-05-29T08:34:04.587561Z",
     "iopub.status.busy": "2022-05-29T08:34:04.587225Z",
     "iopub.status.idle": "2022-05-29T08:34:04.599771Z",
     "shell.execute_reply": "2022-05-29T08:34:04.599087Z",
     "shell.execute_reply.started": "2022-05-29T08:34:04.587537Z"
    },
    "tags": []
   },
   "outputs": [],
   "source": [
    "dfQuantity = pd.read_csv('data/purchase_quantity.csv')\n",
    "dfQuantity = dfQuantity.assign(date=dfQuantity.date.astype('datetime64'))\n",
    "dfQuantity['quantity'] = dfQuantity.quantity.fillna(1e-6) + 1e-6\n",
    "quantity = dfQuantity.set_index('date')"
   ]
  },
  {
   "cell_type": "code",
   "execution_count": 5,
   "metadata": {
    "execution": {
     "iopub.execute_input": "2022-05-29T08:33:32.684728Z",
     "iopub.status.busy": "2022-05-29T08:33:32.684274Z",
     "iopub.status.idle": "2022-05-29T08:33:32.689827Z",
     "shell.execute_reply": "2022-05-29T08:33:32.688970Z",
     "shell.execute_reply.started": "2022-05-29T08:33:32.684690Z"
    },
    "tags": []
   },
   "outputs": [],
   "source": [
    "def StationaryTest(s):\n",
    "    from statsmodels.tsa.stattools import adfuller\n",
    "    stat, pval, _, _, crits, _ = adfuller(s, regression='nc')\n",
    "    result = pval < 0.05\n",
    "    \n",
    "    conclusion = 'stationary' if result else 'non-stationary'\n",
    "    sign = '<' if result else '>'\n",
    "    \n",
    "    mess = f'p-value={pval:6f} {sign} 0.05 | data is {conclusion}'\n",
    "    print(mess)"
   ]
  },
  {
   "cell_type": "code",
   "execution_count": null,
   "metadata": {
    "execution": {
     "iopub.execute_input": "2022-05-29T08:34:21.478290Z",
     "iopub.status.busy": "2022-05-29T08:34:21.477961Z",
     "iopub.status.idle": "2022-05-29T08:34:21.496052Z",
     "shell.execute_reply": "2022-05-29T08:34:21.495110Z",
     "shell.execute_reply.started": "2022-05-29T08:34:21.478267Z"
    },
    "tags": []
   },
   "outputs": [
    {
     "name": "stdout",
     "output_type": "stream",
     "text": [
      "p-value=0.157594 > 0.05 | data is non-stationary\n"
     ]
    }
   ],
   "source": [
    "StationaryTest(quantity)"
   ]
  },
  {
   "cell_type": "code",
   "execution_count": null,
   "metadata": {
    "execution": {
     "iopub.execute_input": "2022-05-29T08:35:07.005232Z",
     "iopub.status.busy": "2022-05-29T08:35:07.004917Z",
     "iopub.status.idle": "2022-05-29T08:35:07.021333Z",
     "shell.execute_reply": "2022-05-29T08:35:07.020640Z",
     "shell.execute_reply.started": "2022-05-29T08:35:07.005208Z"
    },
    "tags": []
   },
   "outputs": [
    {
     "name": "stdout",
     "output_type": "stream",
     "text": [
      "p-value=0.000130 < 0.05 | data is stationary\n"
     ]
    }
   ],
   "source": [
    "StationaryTest(np.log(quantity))"
   ]
  },
  {
   "cell_type": "code",
   "execution_count": null,
   "metadata": {
    "execution": {
     "iopub.execute_input": "2022-05-29T08:34:43.393227Z",
     "iopub.status.busy": "2022-05-29T08:34:43.392857Z",
     "iopub.status.idle": "2022-05-29T08:34:43.411758Z",
     "shell.execute_reply": "2022-05-29T08:34:43.410786Z",
     "shell.execute_reply.started": "2022-05-29T08:34:43.393201Z"
    },
    "tags": []
   },
   "outputs": [
    {
     "name": "stdout",
     "output_type": "stream",
     "text": [
      "p-value=0.000000 < 0.05 | data is stationary\n"
     ]
    }
   ],
   "source": [
    "StationaryTest(quantity.diff(periods=1)[1:])"
   ]
  },
  {
   "cell_type": "markdown",
   "metadata": {},
   "source": [
    "## 2.4. Backshift notation\n",
    "Now we have walked through all important time series transformations: shifting, differencing and summing, let's introduce the *backshift* notation $B$ (defined as $Bs_t=s_{t-1}$). We are going to use $B$ to describe different transformation of a simple series $s_t=(10,12,15,16,20)$.\n",
    "\n",
    "*Shifting*\n",
    "- By definition, $Bs_t=s_{t-1}=(\\emptyset,10,12,15,16)$\n",
    "- $B^2s_t=B(Bs_t)=Bs_{t-1}=s_{t-2}=(\\emptyset,\\emptyset,10,12,15)$ represents 2-step lagged series\n",
    "- $B^ks_t=s_{t-k}$ represents $k$-step lagged series\n",
    "\n",
    "*Differencing*\n",
    "- $(1-B)s_t=s_t-Bs_t=(\\emptyset,2,3,1,4)$ represents 1-order differenced series\n",
    "- $(1-B)^2s_t=(s_t-Bs_t)-B(s_t-Bs_t)=(\\emptyset,\\emptyset,1,-2,3)$ represents 2-order differenced series\n",
    "- $(1-B)^ks_t$ represents $k$-order differenced series\n",
    "\n",
    "*Cumulative sum*\n",
    "- Denotes $u_t=(10,22,37,53,73)$ the cumulative sum, then $(1-B)u_t=(\\emptyset,12,15,16,20)=s_t$\n",
    "- Rewriting the above equation give us $(1-B)^{-1}s_t$ the representation of cumulative sum, can also be thought as the inverse of differencing"
   ]
  },
  {
   "cell_type": "markdown",
   "metadata": {},
   "source": [
    "# 3. ARIMA\n",
    "[ARIMA](https://en.wikipedia.org/wiki/Autoregressive_integrated_moving_average) (**A**uto**R**egressive **I**ntegrated **M**oving **A**verage) is an statistical model aiming to demonstrate the auto-correlations in time series data. The term *auto* means we are examining the relationship between our series with historical versions of itself (lagged series)."
   ]
  },
  {
   "cell_type": "markdown",
   "metadata": {},
   "source": [
    "## 3.1. ARIMA function\n",
    "In a nutshell, ARIMA is a combination of 3 separated processes:\n",
    "\n",
    "- Integration, $\\text{I}(d)$. In this process, the model keeps differencing a time series until it's stationary. The parameter $d$ is the order of differencing and is determined using ADF test. The term *integration* shares the same meaning as summing, which implies the reverse of differencing.\n",
    "\n",
    "- Auto-Regressive, $\\text{AR}(p)$. In this process, we perform a linear regression model where input variables are lagged versions of our data. The parameter $p$ indicates the maximum lag degree and is determined using PACF chart: when a coefficient suddenly drops to 0, then the corresponding lag is a possible value for $p$. The $\\text{AR}(p)$ function is:\n",
    "\n",
    "$$\\begin{align}\n",
    "\\hat{s}_t\n",
    "&= c+\\phi_1s_{t-1}+\\phi_2s_{t-2}+\\dots+\\phi_ps_{t-p} \\\\\n",
    "&= c+(\\phi_1B+\\phi_2B^2+\\dots+\\phi_pB^p)s_t \\\\\n",
    "\\end{align}$$\n",
    "\n",
    "- Moving Average model, $\\text{MA}(q)$. It models our time series as a linear combination of past error (denoted $\\epsilon$, where $\\epsilon_{t-i}=s_{t-i}-s_{t-i-1}$). The parameter $q$ indicates the maximum lag degree and is determined using ACF chart, in a similar decision-making process as for $p$. The $\\text{MA}(q)$ functions is:\n",
    "\n",
    "$$\\begin{align}\n",
    "\\hat{s}_t\n",
    "&= c+\\theta_1\\epsilon_{t-1}+\\theta_2\\epsilon_{t-2}+\\dots+\\theta_q\\epsilon_{t-q} \\\\\n",
    "&= c+(\\theta_1B+\\theta_2B^2+\\dots+\\theta_qB^q)\\epsilon_t \\\\\n",
    "\\end{align}$$\n",
    "\n",
    "The entire model $\\text{ARIMA}(p,d,q)$ is written as below:\n",
    "\n",
    "$$(1-B)^d\\hat{s}_t=c+(\\phi_1B+\\phi_2B^2+\\dots+\\phi_pB^p)(1-B)^ds_t+(\\theta_1B+\\theta_2B^2+\\dots+\\theta_qB^q)\\epsilon_t$$"
   ]
  },
  {
   "cell_type": "markdown",
   "metadata": {},
   "source": [
    "## 3.2. Variants"
   ]
  },
  {
   "cell_type": "markdown",
   "metadata": {},
   "source": [
    "### SARIMA\n",
    "SARIMA (**S**easonal **ARIMA**) is an extened version of ARIMA for sesonal time series data. The new model is written $\\text{ARIMA} (p,d,q) \\times (P,D,Q)_m$ where $m$ is sesonal period and $(P,Q,D)$ are seasonal parameters."
   ]
  },
  {
   "cell_type": "markdown",
   "metadata": {},
   "source": [
    "### ARIMAX\n",
    "ARIMAX (**ARIMA** with e**X**ogenous variable)"
   ]
  },
  {
   "cell_type": "markdown",
   "metadata": {},
   "source": [
    "### VAR\n",
    "[VAR](https://en.wikipedia.org/wiki/Vector_autoregression) (**V**ector **A**uto**R**egression)"
   ]
  },
  {
   "cell_type": "markdown",
   "metadata": {},
   "source": [
    "## 3.3. Implementation"
   ]
  },
  {
   "cell_type": "code",
   "execution_count": 32,
   "metadata": {
    "execution": {
     "iopub.execute_input": "2022-06-05T17:40:41.194639Z",
     "iopub.status.busy": "2022-06-05T17:40:41.194128Z",
     "iopub.status.idle": "2022-06-05T17:40:41.200819Z",
     "shell.execute_reply": "2022-06-05T17:40:41.199764Z",
     "shell.execute_reply.started": "2022-06-05T17:40:41.194599Z"
    },
    "tags": []
   },
   "outputs": [],
   "source": [
    "import numpy as np\n",
    "import pandas as pd\n",
    "\n",
    "from statsmodels.tsa.arima_model import ARIMA\n",
    "from statsmodels.tsa.statespace.sarimax import SARIMAX\n",
    "from statsmodels.tsa.api import VAR, SVAR, VARMAX\n",
    "from statsmodels.tsa.holtwinters import ExponentialSmoothing as HW\n",
    "from statsmodels.tsa.exponential_smoothing.ets import ETSModel as ETS\n",
    "\n",
    "from sklearn.metrics import mean_squared_error as MSE, mean_absolute_error as MAE, r2_score as R2\n",
    "\n",
    "import warnings; warnings.filterwarnings('ignore')"
   ]
  },
  {
   "cell_type": "code",
   "execution_count": 5,
   "metadata": {
    "execution": {
     "iopub.execute_input": "2022-06-05T17:30:44.709725Z",
     "iopub.status.busy": "2022-06-05T17:30:44.709382Z",
     "iopub.status.idle": "2022-06-05T17:30:44.733741Z",
     "shell.execute_reply": "2022-06-05T17:30:44.732964Z",
     "shell.execute_reply.started": "2022-06-05T17:30:44.709701Z"
    },
    "tags": []
   },
   "outputs": [
    {
     "data": {
      "text/html": [
       "<div>\n",
       "<style scoped>\n",
       "    .dataframe tbody tr th:only-of-type {\n",
       "        vertical-align: middle;\n",
       "    }\n",
       "\n",
       "    .dataframe tbody tr th {\n",
       "        vertical-align: top;\n",
       "    }\n",
       "\n",
       "    .dataframe thead th {\n",
       "        text-align: right;\n",
       "    }\n",
       "</style>\n",
       "<table border=\"1\" class=\"dataframe\">\n",
       "  <thead>\n",
       "    <tr style=\"text-align: right;\">\n",
       "      <th></th>\n",
       "      <th>quantity</th>\n",
       "    </tr>\n",
       "    <tr>\n",
       "      <th>date</th>\n",
       "      <th></th>\n",
       "    </tr>\n",
       "  </thead>\n",
       "  <tbody>\n",
       "    <tr>\n",
       "      <th>2019-10-28</th>\n",
       "      <td>379.49</td>\n",
       "    </tr>\n",
       "    <tr>\n",
       "      <th>2019-10-29</th>\n",
       "      <td>669.51</td>\n",
       "    </tr>\n",
       "    <tr>\n",
       "      <th>2019-10-30</th>\n",
       "      <td>337.17</td>\n",
       "    </tr>\n",
       "    <tr>\n",
       "      <th>2019-10-31</th>\n",
       "      <td>603.74</td>\n",
       "    </tr>\n",
       "    <tr>\n",
       "      <th>2019-11-01</th>\n",
       "      <td>189.82</td>\n",
       "    </tr>\n",
       "  </tbody>\n",
       "</table>\n",
       "</div>"
      ],
      "text/plain": [
       "            quantity\n",
       "date                \n",
       "2019-10-28    379.49\n",
       "2019-10-29    669.51\n",
       "2019-10-30    337.17\n",
       "2019-10-31    603.74\n",
       "2019-11-01    189.82"
      ]
     },
     "execution_count": 5,
     "metadata": {},
     "output_type": "execute_result"
    }
   ],
   "source": [
    "dfQuantity = pd.read_csv('data/purchase_quantity.csv')\n",
    "dfQuantity = dfQuantity.assign(date=dfQuantity.date.astype('datetime64'))\n",
    "dfQuantity = dfQuantity.set_index('date')\n",
    "dfQuantity.head()"
   ]
  },
  {
   "cell_type": "code",
   "execution_count": 11,
   "metadata": {
    "execution": {
     "iopub.execute_input": "2022-06-05T17:32:23.166170Z",
     "iopub.status.busy": "2022-06-05T17:32:23.165831Z",
     "iopub.status.idle": "2022-06-05T17:32:25.275948Z",
     "shell.execute_reply": "2022-06-05T17:32:25.275129Z",
     "shell.execute_reply.started": "2022-06-05T17:32:23.166147Z"
    },
    "tags": []
   },
   "outputs": [
    {
     "data": {
      "text/html": [
       "<table class=\"simpletable\">\n",
       "<caption>SARIMAX Results</caption>\n",
       "<tr>\n",
       "  <th>Dep. Variable:</th>               <td>quantity</td>             <th>  No. Observations:  </th>    <td>249</td>   \n",
       "</tr>\n",
       "<tr>\n",
       "  <th>Model:</th>           <td>SARIMAX(0, 1, 0)x(0, 1, [1], 30)</td> <th>  Log Likelihood     </th> <td>-1610.530</td>\n",
       "</tr>\n",
       "<tr>\n",
       "  <th>Date:</th>                    <td>Mon, 06 Jun 2022</td>         <th>  AIC                </th> <td>3227.061</td> \n",
       "</tr>\n",
       "<tr>\n",
       "  <th>Time:</th>                        <td>00:32:25</td>             <th>  BIC                </th> <td>3237.214</td> \n",
       "</tr>\n",
       "<tr>\n",
       "  <th>Sample:</th>                     <td>10-28-2019</td>            <th>  HQIC               </th> <td>3231.162</td> \n",
       "</tr>\n",
       "<tr>\n",
       "  <th></th>                           <td>- 07-02-2020</td>           <th>                     </th>     <td> </td>    \n",
       "</tr>\n",
       "<tr>\n",
       "  <th>Covariance Type:</th>                <td>opg</td>               <th>                     </th>     <td> </td>    \n",
       "</tr>\n",
       "</table>\n",
       "<table class=\"simpletable\">\n",
       "<tr>\n",
       "      <td></td>        <th>coef</th>     <th>std err</th>      <th>z</th>      <th>P>|z|</th>  <th>[0.025</th>    <th>0.975]</th>  \n",
       "</tr>\n",
       "<tr>\n",
       "  <th>drift</th>    <td>    0.0006</td> <td>    0.064</td> <td>    0.009</td> <td> 0.993</td> <td>   -0.125</td> <td>    0.126</td>\n",
       "</tr>\n",
       "<tr>\n",
       "  <th>ma.S.L30</th> <td>   -0.7142</td> <td>    0.060</td> <td>  -11.888</td> <td> 0.000</td> <td>   -0.832</td> <td>   -0.596</td>\n",
       "</tr>\n",
       "<tr>\n",
       "  <th>sigma2</th>   <td> 1.412e+05</td> <td> 8293.182</td> <td>   17.022</td> <td> 0.000</td> <td> 1.25e+05</td> <td> 1.57e+05</td>\n",
       "</tr>\n",
       "</table>\n",
       "<table class=\"simpletable\">\n",
       "<tr>\n",
       "  <th>Ljung-Box (L1) (Q):</th>     <td>22.11</td> <th>  Jarque-Bera (JB):  </th> <td>373.36</td>\n",
       "</tr>\n",
       "<tr>\n",
       "  <th>Prob(Q):</th>                <td>0.00</td>  <th>  Prob(JB):          </th>  <td>0.00</td> \n",
       "</tr>\n",
       "<tr>\n",
       "  <th>Heteroskedasticity (H):</th> <td>4.57</td>  <th>  Skew:              </th>  <td>-0.79</td>\n",
       "</tr>\n",
       "<tr>\n",
       "  <th>Prob(H) (two-sided):</th>    <td>0.00</td>  <th>  Kurtosis:          </th>  <td>9.21</td> \n",
       "</tr>\n",
       "</table><br/><br/>Warnings:<br/>[1] Covariance matrix calculated using the outer product of gradients (complex-step)."
      ],
      "text/plain": [
       "<class 'statsmodels.iolib.summary.Summary'>\n",
       "\"\"\"\n",
       "                                      SARIMAX Results                                       \n",
       "============================================================================================\n",
       "Dep. Variable:                             quantity   No. Observations:                  249\n",
       "Model:             SARIMAX(0, 1, 0)x(0, 1, [1], 30)   Log Likelihood               -1610.530\n",
       "Date:                              Mon, 06 Jun 2022   AIC                           3227.061\n",
       "Time:                                      00:32:25   BIC                           3237.214\n",
       "Sample:                                  10-28-2019   HQIC                          3231.162\n",
       "                                       - 07-02-2020                                         \n",
       "Covariance Type:                                opg                                         \n",
       "==============================================================================\n",
       "                 coef    std err          z      P>|z|      [0.025      0.975]\n",
       "------------------------------------------------------------------------------\n",
       "drift          0.0006      0.064      0.009      0.993      -0.125       0.126\n",
       "ma.S.L30      -0.7142      0.060    -11.888      0.000      -0.832      -0.596\n",
       "sigma2      1.412e+05   8293.182     17.022      0.000    1.25e+05    1.57e+05\n",
       "===================================================================================\n",
       "Ljung-Box (L1) (Q):                  22.11   Jarque-Bera (JB):               373.36\n",
       "Prob(Q):                              0.00   Prob(JB):                         0.00\n",
       "Heteroskedasticity (H):               4.57   Skew:                            -0.79\n",
       "Prob(H) (two-sided):                  0.00   Kurtosis:                         9.21\n",
       "===================================================================================\n",
       "\n",
       "Warnings:\n",
       "[1] Covariance matrix calculated using the outer product of gradients (complex-step).\n",
       "\"\"\""
      ]
     },
     "execution_count": 11,
     "metadata": {},
     "output_type": "execute_result"
    }
   ],
   "source": [
    "model = SARIMAX(dfQuantity, order=(0,1,0), seasonal_order=(0,1,1,30), trend='t').fit()\n",
    "model.summary()"
   ]
  },
  {
   "cell_type": "code",
   "execution_count": 30,
   "metadata": {
    "execution": {
     "iopub.execute_input": "2022-06-05T17:39:36.915158Z",
     "iopub.status.busy": "2022-06-05T17:39:36.914802Z",
     "iopub.status.idle": "2022-06-05T17:39:36.919298Z",
     "shell.execute_reply": "2022-06-05T17:39:36.918252Z",
     "shell.execute_reply.started": "2022-06-05T17:39:36.915133Z"
    },
    "tags": []
   },
   "outputs": [
    {
     "data": {
      "text/plain": [
       "\u001b[0;31mType:\u001b[0m            SARIMAXResultsWrapper\n",
       "\u001b[0;31mString form:\u001b[0m     <statsmodels.tsa.statespace.sarimax.SARIMAXResultsWrapper object at 0x7fe50db573d0>\n",
       "\u001b[0;31mFile:\u001b[0m            /opt/anaconda3/lib/python3.8/site-packages/statsmodels/tsa/statespace/sarimax.py\n",
       "\u001b[0;31mDocstring:\u001b[0m      \n",
       "Class to hold results from fitting an SARIMAX model.\n",
       "\n",
       "Parameters\n",
       "----------\n",
       "model : SARIMAX instance\n",
       "    The fitted model instance\n",
       "\n",
       "Attributes\n",
       "----------\n",
       "specification : dictionary\n",
       "    Dictionary including all attributes from the SARIMAX model instance.\n",
       "polynomial_ar : ndarray\n",
       "    Array containing autoregressive lag polynomial coefficients,\n",
       "    ordered from lowest degree to highest. Initialized with ones, unless\n",
       "    a coefficient is constrained to be zero (in which case it is zero).\n",
       "polynomial_ma : ndarray\n",
       "    Array containing moving average lag polynomial coefficients,\n",
       "    ordered from lowest degree to highest. Initialized with ones, unless\n",
       "    a coefficient is constrained to be zero (in which case it is zero).\n",
       "polynomial_seasonal_ar : ndarray\n",
       "    Array containing seasonal autoregressive lag polynomial coefficients,\n",
       "    ordered from lowest degree to highest. Initialized with ones, unless\n",
       "    a coefficient is constrained to be zero (in which case it is zero).\n",
       "polynomial_seasonal_ma : ndarray\n",
       "    Array containing seasonal moving average lag polynomial coefficients,\n",
       "    ordered from lowest degree to highest. Initialized with ones, unless\n",
       "    a coefficient is constrained to be zero (in which case it is zero).\n",
       "polynomial_trend : ndarray\n",
       "    Array containing trend polynomial coefficients, ordered from lowest\n",
       "    degree to highest. Initialized with ones, unless a coefficient is\n",
       "    constrained to be zero (in which case it is zero).\n",
       "model_orders : list of int\n",
       "    The orders of each of the polynomials in the model.\n",
       "param_terms : list of str\n",
       "    List of parameters actually included in the model, in sorted order.\n",
       "\n",
       "See Also\n",
       "--------\n",
       "statsmodels.tsa.statespace.kalman_filter.FilterResults\n",
       "statsmodels.tsa.statespace.mlemodel.MLEResults\n",
       "\u001b[0;31mClass docstring:\u001b[0m\n",
       "Class which wraps a statsmodels estimation Results class and steps in to\n",
       "reattach metadata to results (if available)\n"
      ]
     },
     "metadata": {},
     "output_type": "display_data"
    }
   ],
   "source": [
    "model?"
   ]
  },
  {
   "cell_type": "code",
   "execution_count": 26,
   "metadata": {
    "execution": {
     "iopub.execute_input": "2022-06-05T17:37:33.319845Z",
     "iopub.status.busy": "2022-06-05T17:37:33.319493Z",
     "iopub.status.idle": "2022-06-05T17:37:33.324424Z",
     "shell.execute_reply": "2022-06-05T17:37:33.323393Z",
     "shell.execute_reply.started": "2022-06-05T17:37:33.319820Z"
    },
    "tags": []
   },
   "outputs": [
    {
     "data": {
      "text/plain": [
       "(1, 249)"
      ]
     },
     "execution_count": 26,
     "metadata": {},
     "output_type": "execute_result"
    }
   ],
   "source": [
    "model.forecasts.shape"
   ]
  },
  {
   "cell_type": "code",
   "execution_count": 22,
   "metadata": {
    "execution": {
     "iopub.execute_input": "2022-06-05T17:36:53.149172Z",
     "iopub.status.busy": "2022-06-05T17:36:53.148741Z",
     "iopub.status.idle": "2022-06-05T17:36:53.162153Z",
     "shell.execute_reply": "2022-06-05T17:36:53.161461Z",
     "shell.execute_reply.started": "2022-06-05T17:36:53.149143Z"
    },
    "tags": []
   },
   "outputs": [
    {
     "data": {
      "text/plain": [
       "2020-07-03     689.905242\n",
       "2020-07-04     765.837010\n",
       "2020-07-05    1372.525866\n",
       "2020-07-06    1986.668212\n",
       "2020-07-07    2062.866393\n",
       "2020-07-08    2027.126344\n",
       "2020-07-09    1523.297046\n",
       "2020-07-10    1124.719406\n",
       "2020-07-11    1104.823150\n",
       "2020-07-12     775.917814\n",
       "2020-07-13     641.461434\n",
       "2020-07-14     504.243901\n",
       "Freq: D, Name: predicted_mean, dtype: float64"
      ]
     },
     "execution_count": 22,
     "metadata": {},
     "output_type": "execute_result"
    }
   ],
   "source": [
    "model.forecast(12)"
   ]
  },
  {
   "cell_type": "markdown",
   "metadata": {},
   "source": [
    "# 5. Exponetial smoothing"
   ]
  },
  {
   "cell_type": "markdown",
   "metadata": {
    "jupyter": {
     "source_hidden": true
    },
    "tags": []
   },
   "source": [
    "## Holt-Winter\n",
    "\n",
    "A method estimated time series based on weight average the past values\n",
    "\n",
    "**Smoothing level ($\\alpha$)**\n",
    "\n",
    "$\\alpha$ is the parameter which smooth the time series. $\\alpha$ is close to 1 means the smoothed series is more like orginal series and opposite\n",
    "\\begin{equation}\n",
    "  \\hat{y}_{T+1|T} = \\alpha y_T + \\alpha(1-\\alpha) y_{T-1} + \\alpha(1-\\alpha)^2 y_{T-2}+ \\cdots,   \n",
    "\\end{equation}\n",
    "\n",
    "Components form:\n",
    "\n",
    "\\begin{align*}\n",
    "  \\text{Forecast equation}  && \\hat{y}_{t+h|t} & = \\ell_{t}\\\\\n",
    "  \\text{Smoothing equation} && \\ell_{t}        & = \\alpha y_{t} + (1 - \\alpha)\\ell_{t-1},\n",
    "\\end{align*}\n",
    "\n",
    "In $\\ell_t$ equation, we need $\\alpha$ and $\\ell_{t-1}$ - called *initial value*. $\\alpha$ and $\\mbox{initial value}$ are estimated to minimum SSE.\n",
    "\n",
    "**Smoothing slope ($\\beta$)**\n",
    "\n",
    "\\begin{align*}\n",
    "  \\text{Forecast equation}&& \\hat{y}_{t+h|t} &= \\ell_{t} + hb_{t} \\\\\n",
    "  \\text{Level equation}   && \\ell_{t} &= \\alpha y_{t} + (1 - \\alpha)(\\ell_{t-1} + b_{t-1})\\\\\n",
    "  \\text{Trend equation}   && b_{t}    &= \\beta^*(\\ell_{t} - \\ell_{t-1}) + (1 -\\beta^*)b_{t-1},\n",
    "\\end{align*}\n",
    "\n",
    "- $\\ell_{t}$ : an estimate of the level of the series at time $t$\n",
    "- $b_{t}$ : an estimate of the trend (slope) of the series at time $t$\n",
    "- $\\beta^*$: smoothing parameter for the trend\n",
    "- $b_{t-1}$: initial value of trend\n",
    "\n",
    "**Damped Trend ($\\phi$)**\n",
    "\n",
    "Orginal trend will be linear shape but in some case, the trend is downward curve form and it called *damping*. Then we add $y_t$ - damping parameter into the model\n",
    "\n",
    "\\begin{align*}\n",
    "  \\hat{y}_{t+h|t} &= \\ell_{t} + (\\phi+\\phi^2 + \\dots + \\phi^{h})b_{t} \\\\\n",
    "  \\ell_{t} &= \\alpha y_{t} + (1 - \\alpha)(\\ell_{t-1} + \\phi b_{t-1})\\\\\n",
    "  b_{t} &= \\beta^*(\\ell_{t} - \\ell_{t-1}) + (1 -\\beta^*)\\phi b_{t-1}.\n",
    "\\end{align*}\n",
    "\n",
    "- If $\\phi$ = 1 then the trend is linear\n",
    "- 0<$\\phi$<1 then the trend is reduce to a constant in the future.\n",
    "\n",
    "**Smoothing seasonal ($\\gamma$)**\n",
    "\n",
    "- Holt-winter's additive method: The seasonal part is the difference between $y_t$ and $\\ell_t$\n",
    "\n",
    "\\begin{align*}\n",
    "  \\hat{y}_{t+h|t} &= \\ell_{t} + hb_{t} + s_{t+h-m(k+1)} \\\\\n",
    "  \\ell_{t} &= \\alpha(y_{t} - s_{t-m}) + (1 - \\alpha)(\\ell_{t-1} + b_{t-1})\\\\\n",
    "  b_{t} &= \\beta^*(\\ell_{t} - \\ell_{t-1}) + (1 - \\beta^*)b_{t-1}\\\\\n",
    "  s_{t} &= \\gamma (y_{t}-\\ell_{t-1}-b_{t-1}) + (1-\\gamma)s_{t-m},\n",
    "\\end{align*}\n",
    "\n",
    "- Holt-winter's multiplicative method: The seasonal part is  $\\ell_t$ didived by $y_t$\n",
    "\n",
    "\\begin{align*}\n",
    "  \\hat{y}_{t+h|t} &= (\\ell_{t} + hb_{t})s_{t+h-m(k+1)} \\\\\n",
    "  \\ell_{t} &= \\alpha \\frac{y_{t}}{s_{t-m}} + (1 - \\alpha)(\\ell_{t-1} + b_{t-1})\\\\\n",
    "  b_{t} &= \\beta^*(\\ell_{t}-\\ell_{t-1}) + (1 - \\beta^*)b_{t-1}                \\\\\n",
    "  s_{t} &= \\gamma \\frac{y_{t}}{(\\ell_{t-1} + b_{t-1})} + (1 - \\gamma)s_{t-m}\n",
    "\\end{align*}\n",
    "\n",
    "$s_{t}$ : Estimated of seasonal part at the times $t$\\\n",
    "$\\gamma$ : Smoothing seasonal. The less $\\gamma$ the less change in seasonal by the times.\\\n",
    "$s_{t-m}$ : Initial value of seasonal. The numbers of initial values depend on the numbers of seasonal."
   ]
  },
  {
   "cell_type": "code",
   "execution_count": null,
   "metadata": {},
   "outputs": [],
   "source": []
  },
  {
   "cell_type": "code",
   "execution_count": null,
   "metadata": {},
   "outputs": [],
   "source": []
  },
  {
   "cell_type": "code",
   "execution_count": null,
   "metadata": {},
   "outputs": [],
   "source": []
  },
  {
   "cell_type": "code",
   "execution_count": null,
   "metadata": {},
   "outputs": [],
   "source": []
  },
  {
   "cell_type": "code",
   "execution_count": 30,
   "metadata": {},
   "outputs": [],
   "source": [
    "import numpy as np\n",
    "import pandas as pd\n",
    "import matplotlib.pyplot as plt\n",
    "import seaborn as sns\n",
    "import warnings\n",
    "\n",
    "from statsmodels.tsa.stattools import adfuller\n",
    "from statsmodels.graphics.tsaplots import plot_acf, plot_pacf\n",
    "from statsmodels.tsa.statespace.sarimax import SARIMAX\n",
    "\n",
    "plt.style.use(['seaborn', 'seaborn-whitegrid'])\n",
    "warnings.filterwarnings('ignore')\n",
    "%config InlineBackend.figure_format = 'retina'"
   ]
  },
  {
   "cell_type": "code",
   "execution_count": 31,
   "metadata": {},
   "outputs": [
    {
     "data": {
      "text/html": [
       "<div>\n",
       "<style scoped>\n",
       "    .dataframe tbody tr th:only-of-type {\n",
       "        vertical-align: middle;\n",
       "    }\n",
       "\n",
       "    .dataframe tbody tr th {\n",
       "        vertical-align: top;\n",
       "    }\n",
       "\n",
       "    .dataframe thead th {\n",
       "        text-align: right;\n",
       "    }\n",
       "</style>\n",
       "<table border=\"1\" class=\"dataframe\">\n",
       "  <thead>\n",
       "    <tr style=\"text-align: right;\">\n",
       "      <th></th>\n",
       "      <th>quantity</th>\n",
       "      <th>date</th>\n",
       "    </tr>\n",
       "  </thead>\n",
       "  <tbody>\n",
       "    <tr>\n",
       "      <th>0</th>\n",
       "      <td>379.49</td>\n",
       "      <td>2019-10-28</td>\n",
       "    </tr>\n",
       "    <tr>\n",
       "      <th>1</th>\n",
       "      <td>669.51</td>\n",
       "      <td>2019-10-29</td>\n",
       "    </tr>\n",
       "    <tr>\n",
       "      <th>2</th>\n",
       "      <td>337.17</td>\n",
       "      <td>2019-10-30</td>\n",
       "    </tr>\n",
       "    <tr>\n",
       "      <th>3</th>\n",
       "      <td>603.74</td>\n",
       "      <td>2019-10-31</td>\n",
       "    </tr>\n",
       "    <tr>\n",
       "      <th>4</th>\n",
       "      <td>189.82</td>\n",
       "      <td>2019-11-01</td>\n",
       "    </tr>\n",
       "  </tbody>\n",
       "</table>\n",
       "</div>"
      ],
      "text/plain": [
       "   quantity       date\n",
       "0    379.49 2019-10-28\n",
       "1    669.51 2019-10-29\n",
       "2    337.17 2019-10-30\n",
       "3    603.74 2019-10-31\n",
       "4    189.82 2019-11-01"
      ]
     },
     "execution_count": 31,
     "metadata": {},
     "output_type": "execute_result"
    }
   ],
   "source": [
    "dfQuantity = pd.read_csv('data/purchase_quantity.csv')\n",
    "dfQuantity = dfQuantity.assign(date=dfQuantity.date.astype('datetime64'))\n",
    "dfQuantity.head()"
   ]
  },
  {
   "cell_type": "code",
   "execution_count": 32,
   "metadata": {},
   "outputs": [
    {
     "data": {
      "image/png": "[encoded data removed]",
      "text/plain": [
       "<Figure size 432x288 with 1 Axes>"
      ]
     },
     "metadata": {
      "image/png": {
       "height": 271,
       "width": 379
      }
     },
     "output_type": "display_data"
    }
   ],
   "source": [
    "dfQuantity = dfQuantity.set_index('date')\n",
    "\n",
    "dfQuantity.plot()\n",
    "plt.show()"
   ]
  },
  {
   "cell_type": "code",
   "execution_count": 33,
   "metadata": {},
   "outputs": [
    {
     "name": "stdout",
     "output_type": "stream",
     "text": [
      "ADF Statistic: -1.3734851055507962\n",
      "p-value: 0.15759354748986615\n"
     ]
    }
   ],
   "source": [
    "stationary1 = adfuller(dfQuantity['quantity'], regression='nc')\n",
    "print(f'ADF Statistic: {stationary1[0]}')\n",
    "print(f'p-value: {stationary1[1]}')"
   ]
  },
  {
   "cell_type": "code",
   "execution_count": 34,
   "metadata": {},
   "outputs": [],
   "source": [
    "dfQuantityDif = dfQuantity.diff().dropna()"
   ]
  },
  {
   "cell_type": "code",
   "execution_count": 35,
   "metadata": {},
   "outputs": [
    {
     "name": "stdout",
     "output_type": "stream",
     "text": [
      "ADF Statistic: -8.434541493283255\n",
      "p-value: 3.338718146564034e-14\n"
     ]
    }
   ],
   "source": [
    "stationary2 = adfuller(dfQuantityDif['quantity'], regression='nc')\n",
    "print(f'ADF Statistic: {stationary2[0]}')\n",
    "print(f'p-value: {stationary2[1]}')"
   ]
  },
  {
   "cell_type": "code",
   "execution_count": 36,
   "metadata": {},
   "outputs": [
    {
     "data": {
      "image/png": "[encoded data removed]",
      "text/plain": [
       "<Figure size 432x288 with 1 Axes>"
      ]
     },
     "metadata": {
      "image/png": {
       "height": 259,
       "width": 372
      }
     },
     "output_type": "display_data"
    }
   ],
   "source": [
    "plot_acf(dfQuantityDif)\n",
    "plt.show()"
   ]
  },
  {
   "cell_type": "code",
   "execution_count": 37,
   "metadata": {},
   "outputs": [
    {
     "data": {
      "image/png": "[encoded data removed]",
      "text/plain": [
       "<Figure size 432x288 with 1 Axes>"
      ]
     },
     "metadata": {
      "image/png": {
       "height": 259,
       "width": 372
      }
     },
     "output_type": "display_data"
    }
   ],
   "source": [
    "plot_pacf(dfQuantityDif)\n",
    "plt.show()"
   ]
  },
  {
   "cell_type": "code",
   "execution_count": 38,
   "metadata": {},
   "outputs": [
    {
     "name": "stdout",
     "output_type": "stream",
     "text": [
      "                                      SARIMAX Results                                       \n",
      "============================================================================================\n",
      "Dep. Variable:                             quantity   No. Observations:                  249\n",
      "Model:             SARIMAX(0, 1, 0)x(0, 1, [1], 30)   Log Likelihood               -1610.530\n",
      "Date:                              Mon, 26 Jul 2021   AIC                           3227.061\n",
      "Time:                                      21:51:11   BIC                           3237.214\n",
      "Sample:                                  10-28-2019   HQIC                          3231.162\n",
      "                                       - 07-02-2020                                         \n",
      "Covariance Type:                                opg                                         \n",
      "==============================================================================\n",
      "                 coef    std err          z      P>|z|      [0.025      0.975]\n",
      "------------------------------------------------------------------------------\n",
      "drift          0.0006      0.064      0.009      0.993      -0.125       0.126\n",
      "ma.S.L30      -0.7142      0.060    -11.888      0.000      -0.832      -0.596\n",
      "sigma2      1.412e+05   8293.182     17.022      0.000    1.25e+05    1.57e+05\n",
      "===================================================================================\n",
      "Ljung-Box (L1) (Q):                  22.11   Jarque-Bera (JB):               373.36\n",
      "Prob(Q):                              0.00   Prob(JB):                         0.00\n",
      "Heteroskedasticity (H):               4.57   Skew:                            -0.79\n",
      "Prob(H) (two-sided):                  0.00   Kurtosis:                         9.21\n",
      "===================================================================================\n",
      "\n",
      "Warnings:\n",
      "[1] Covariance matrix calculated using the outer product of gradients (complex-step).\n"
     ]
    }
   ],
   "source": [
    "sarima = SARIMAX(dfQuantity, order=(0,1,0), seasonal_order=(0,1,1,30), trend='t').fit()\n",
    "print(sarima.summary())"
   ]
  },
  {
   "cell_type": "code",
   "execution_count": 39,
   "metadata": {},
   "outputs": [
    {
     "data": {
      "text/plain": [
       "DatetimeIndex(['2019-10-28', '2019-10-29', '2019-10-30', '2019-10-31',\n",
       "               '2019-11-01', '2019-11-02', '2019-11-03', '2019-11-04',\n",
       "               '2019-11-05', '2019-11-06',\n",
       "               ...\n",
       "               '2020-06-23', '2020-06-24', '2020-06-25', '2020-06-26',\n",
       "               '2020-06-27', '2020-06-28', '2020-06-29', '2020-06-30',\n",
       "               '2020-07-01', '2020-07-02'],\n",
       "              dtype='datetime64[ns]', name='date', length=249, freq=None)"
      ]
     },
     "execution_count": 39,
     "metadata": {},
     "output_type": "execute_result"
    }
   ],
   "source": [
    "dfQuantity.index"
   ]
  },
  {
   "cell_type": "code",
   "execution_count": 40,
   "metadata": {},
   "outputs": [
    {
     "data": {
      "image/png": "[encoded data removed]",
      "text/plain": [
       "<Figure size 1152x432 with 1 Axes>"
      ]
     },
     "metadata": {
      "image/png": {
       "height": 353,
       "width": 932
      }
     },
     "output_type": "display_data"
    }
   ],
   "source": [
    "fitted = sarima.predict(n_periods=249)\n",
    "fitted_series = pd.Series(fitted.values, index=dfQuantity.index)\n",
    "\n",
    "plt.figure(figsize=(16,6))\n",
    "plt.plot(dfQuantity)\n",
    "plt.plot(fitted_series)\n",
    "plt.show()"
   ]
  },
  {
   "cell_type": "code",
   "execution_count": 41,
   "metadata": {},
   "outputs": [],
   "source": [
    "import numpy as np\n",
    "import pandas as pd\n",
    "import matplotlib.pyplot as plt\n",
    "import seaborn as sns\n",
    "import warnings\n",
    "\n",
    "from statsmodels.tsa.holtwinters import ExponentialSmoothing as es\n",
    "\n",
    "plt.style.use(['seaborn', 'seaborn-whitegrid'])\n",
    "warnings.filterwarnings('ignore')\n",
    "%config InlineBackend.figure_format = 'retina'"
   ]
  },
  {
   "cell_type": "code",
   "execution_count": 42,
   "metadata": {},
   "outputs": [
    {
     "data": {
      "text/html": [
       "<div>\n",
       "<style scoped>\n",
       "    .dataframe tbody tr th:only-of-type {\n",
       "        vertical-align: middle;\n",
       "    }\n",
       "\n",
       "    .dataframe tbody tr th {\n",
       "        vertical-align: top;\n",
       "    }\n",
       "\n",
       "    .dataframe thead th {\n",
       "        text-align: right;\n",
       "    }\n",
       "</style>\n",
       "<table border=\"1\" class=\"dataframe\">\n",
       "  <thead>\n",
       "    <tr style=\"text-align: right;\">\n",
       "      <th></th>\n",
       "      <th>quantity</th>\n",
       "      <th>date</th>\n",
       "    </tr>\n",
       "  </thead>\n",
       "  <tbody>\n",
       "    <tr>\n",
       "      <th>0</th>\n",
       "      <td>379.49</td>\n",
       "      <td>2019-10-28</td>\n",
       "    </tr>\n",
       "    <tr>\n",
       "      <th>1</th>\n",
       "      <td>669.51</td>\n",
       "      <td>2019-10-29</td>\n",
       "    </tr>\n",
       "    <tr>\n",
       "      <th>2</th>\n",
       "      <td>337.17</td>\n",
       "      <td>2019-10-30</td>\n",
       "    </tr>\n",
       "    <tr>\n",
       "      <th>3</th>\n",
       "      <td>603.74</td>\n",
       "      <td>2019-10-31</td>\n",
       "    </tr>\n",
       "    <tr>\n",
       "      <th>4</th>\n",
       "      <td>189.82</td>\n",
       "      <td>2019-11-01</td>\n",
       "    </tr>\n",
       "  </tbody>\n",
       "</table>\n",
       "</div>"
      ],
      "text/plain": [
       "   quantity       date\n",
       "0    379.49 2019-10-28\n",
       "1    669.51 2019-10-29\n",
       "2    337.17 2019-10-30\n",
       "3    603.74 2019-10-31\n",
       "4    189.82 2019-11-01"
      ]
     },
     "execution_count": 42,
     "metadata": {},
     "output_type": "execute_result"
    }
   ],
   "source": [
    "dfQuantity = pd.read_csv('data/purchase_quantity.csv')\n",
    "dfQuantity = dfQuantity.assign(date=dfQuantity.date.astype('datetime64'))\n",
    "dfQuantity.head()"
   ]
  },
  {
   "cell_type": "code",
   "execution_count": 43,
   "metadata": {},
   "outputs": [
    {
     "data": {
      "image/png": "[encoded data removed]",
      "text/plain": [
       "<Figure size 432x288 with 1 Axes>"
      ]
     },
     "metadata": {
      "image/png": {
       "height": 271,
       "width": 379
      }
     },
     "output_type": "display_data"
    }
   ],
   "source": [
    "dfQuantity = dfQuantity.set_index('date')\n",
    "dfQuantity.plot()\n",
    "plt.show()"
   ]
  },
  {
   "cell_type": "code",
   "execution_count": 44,
   "metadata": {},
   "outputs": [
    {
     "data": {
      "text/html": [
       "<table class=\"simpletable\">\n",
       "<caption>ExponentialSmoothing Model Results</caption>\n",
       "<tr>\n",
       "  <th>Dep. Variable:</th>          <td>quantity</td>       <th>  No. Observations:  </th>        <td>249</td>      \n",
       "</tr>\n",
       "<tr>\n",
       "  <th>Model:</th>            <td>ExponentialSmoothing</td> <th>  SSE                </th>   <td>27306278.102</td>  \n",
       "</tr>\n",
       "<tr>\n",
       "  <th>Optimized:</th>                <td>True</td>         <th>  AIC                </th>     <td>2959.688</td>    \n",
       "</tr>\n",
       "<tr>\n",
       "  <th>Trend:</th>                  <td>Additive</td>       <th>  BIC                </th>     <td>3082.799</td>    \n",
       "</tr>\n",
       "<tr>\n",
       "  <th>Seasonal:</th>               <td>Additive</td>       <th>  AICC               </th>     <td>2973.015</td>    \n",
       "</tr>\n",
       "<tr>\n",
       "  <th>Seasonal Periods:</th>          <td>30</td>          <th>  Date:              </th> <td>Mon, 26 Jul 2021</td>\n",
       "</tr>\n",
       "<tr>\n",
       "  <th>Box-Cox:</th>                  <td>False</td>        <th>  Time:              </th>     <td>21:51:12</td>    \n",
       "</tr>\n",
       "<tr>\n",
       "  <th>Box-Cox Coeff.:</th>           <td>None</td>         <th>                     </th>         <td> </td>       \n",
       "</tr>\n",
       "</table>\n",
       "<table class=\"simpletable\">\n",
       "<tr>\n",
       "           <td></td>                  <th>coeff</th>                <th>code</th>               <th>optimized</th>     \n",
       "</tr>\n",
       "<tr>\n",
       "  <th>smoothing_level</th>    <td>           0.1811360</td> <td>               alpha</td> <td>                True</td>\n",
       "</tr>\n",
       "<tr>\n",
       "  <th>smoothing_trend</th>    <td>           0.0002369</td> <td>                beta</td> <td>                True</td>\n",
       "</tr>\n",
       "<tr>\n",
       "  <th>smoothing_seasonal</th> <td>           0.7506280</td> <td>               gamma</td> <td>                True</td>\n",
       "</tr>\n",
       "<tr>\n",
       "  <th>initial_level</th>      <td>           581.20771</td> <td>                 l.0</td> <td>                True</td>\n",
       "</tr>\n",
       "<tr>\n",
       "  <th>initial_trend</th>      <td>          -0.0157343</td> <td>                 b.0</td> <td>                True</td>\n",
       "</tr>\n",
       "<tr>\n",
       "  <th>damping_trend</th>      <td>           0.9887781</td> <td>                 phi</td> <td>                True</td>\n",
       "</tr>\n",
       "<tr>\n",
       "  <th>initial_seasons.0</th>  <td>          -236.06910</td> <td>                 s.0</td> <td>                True</td>\n",
       "</tr>\n",
       "<tr>\n",
       "  <th>initial_seasons.1</th>  <td>           49.155702</td> <td>                 s.1</td> <td>                True</td>\n",
       "</tr>\n",
       "<tr>\n",
       "  <th>initial_seasons.2</th>  <td>          -285.42985</td> <td>                 s.2</td> <td>                True</td>\n",
       "</tr>\n",
       "<tr>\n",
       "  <th>initial_seasons.3</th>  <td>          -18.883236</td> <td>                 s.3</td> <td>                True</td>\n",
       "</tr>\n",
       "<tr>\n",
       "  <th>initial_seasons.4</th>  <td>          -428.80351</td> <td>                 s.4</td> <td>                True</td>\n",
       "</tr>\n",
       "<tr>\n",
       "  <th>initial_seasons.5</th>  <td>          -381.51969</td> <td>                 s.5</td> <td>                True</td>\n",
       "</tr>\n",
       "<tr>\n",
       "  <th>initial_seasons.6</th>  <td>          -457.74096</td> <td>                 s.6</td> <td>                True</td>\n",
       "</tr>\n",
       "<tr>\n",
       "  <th>initial_seasons.7</th>  <td>          -554.28952</td> <td>                 s.7</td> <td>                True</td>\n",
       "</tr>\n",
       "<tr>\n",
       "  <th>initial_seasons.8</th>  <td>          -556.91763</td> <td>                 s.8</td> <td>                True</td>\n",
       "</tr>\n",
       "<tr>\n",
       "  <th>initial_seasons.9</th>  <td>          -502.01840</td> <td>                 s.9</td> <td>                True</td>\n",
       "</tr>\n",
       "<tr>\n",
       "  <th>initial_seasons.10</th> <td>          -569.44752</td> <td>                s.10</td> <td>                True</td>\n",
       "</tr>\n",
       "<tr>\n",
       "  <th>initial_seasons.11</th> <td>          -494.74532</td> <td>                s.11</td> <td>                True</td>\n",
       "</tr>\n",
       "<tr>\n",
       "  <th>initial_seasons.12</th> <td>          -454.86184</td> <td>                s.12</td> <td>                True</td>\n",
       "</tr>\n",
       "<tr>\n",
       "  <th>initial_seasons.13</th> <td>          -440.01235</td> <td>                s.13</td> <td>                True</td>\n",
       "</tr>\n",
       "<tr>\n",
       "  <th>initial_seasons.14</th> <td>          -408.62127</td> <td>                s.14</td> <td>                True</td>\n",
       "</tr>\n",
       "<tr>\n",
       "  <th>initial_seasons.15</th> <td>          -395.82272</td> <td>                s.15</td> <td>                True</td>\n",
       "</tr>\n",
       "<tr>\n",
       "  <th>initial_seasons.16</th> <td>          -409.18268</td> <td>                s.16</td> <td>                True</td>\n",
       "</tr>\n",
       "<tr>\n",
       "  <th>initial_seasons.17</th> <td>          -244.34782</td> <td>                s.17</td> <td>                True</td>\n",
       "</tr>\n",
       "<tr>\n",
       "  <th>initial_seasons.18</th> <td>          -322.34110</td> <td>                s.18</td> <td>                True</td>\n",
       "</tr>\n",
       "<tr>\n",
       "  <th>initial_seasons.19</th> <td>          -275.87845</td> <td>                s.19</td> <td>                True</td>\n",
       "</tr>\n",
       "<tr>\n",
       "  <th>initial_seasons.20</th> <td>          -236.71770</td> <td>                s.20</td> <td>                True</td>\n",
       "</tr>\n",
       "<tr>\n",
       "  <th>initial_seasons.21</th> <td>          -382.73058</td> <td>                s.21</td> <td>                True</td>\n",
       "</tr>\n",
       "<tr>\n",
       "  <th>initial_seasons.22</th> <td>          -526.40811</td> <td>                s.22</td> <td>                True</td>\n",
       "</tr>\n",
       "<tr>\n",
       "  <th>initial_seasons.23</th> <td>          -320.42520</td> <td>                s.23</td> <td>                True</td>\n",
       "</tr>\n",
       "<tr>\n",
       "  <th>initial_seasons.24</th> <td>          -636.67050</td> <td>                s.24</td> <td>                True</td>\n",
       "</tr>\n",
       "<tr>\n",
       "  <th>initial_seasons.25</th> <td>          -454.53327</td> <td>                s.25</td> <td>                True</td>\n",
       "</tr>\n",
       "<tr>\n",
       "  <th>initial_seasons.26</th> <td>          -397.48992</td> <td>                s.26</td> <td>                True</td>\n",
       "</tr>\n",
       "<tr>\n",
       "  <th>initial_seasons.27</th> <td>          -242.53200</td> <td>                s.27</td> <td>                True</td>\n",
       "</tr>\n",
       "<tr>\n",
       "  <th>initial_seasons.28</th> <td>          -127.15885</td> <td>                s.28</td> <td>                True</td>\n",
       "</tr>\n",
       "<tr>\n",
       "  <th>initial_seasons.29</th> <td>           116.08123</td> <td>                s.29</td> <td>                True</td>\n",
       "</tr>\n",
       "</table>"
      ],
      "text/plain": [
       "<class 'statsmodels.iolib.summary.Summary'>\n",
       "\"\"\"\n",
       "                       ExponentialSmoothing Model Results                       \n",
       "================================================================================\n",
       "Dep. Variable:                 quantity   No. Observations:                  249\n",
       "Model:             ExponentialSmoothing   SSE                       27306278.102\n",
       "Optimized:                         True   AIC                           2959.688\n",
       "Trend:                         Additive   BIC                           3082.799\n",
       "Seasonal:                      Additive   AICC                          2973.015\n",
       "Seasonal Periods:                    30   Date:                 Mon, 26 Jul 2021\n",
       "Box-Cox:                          False   Time:                         21:51:12\n",
       "Box-Cox Coeff.:                    None                                         \n",
       "=================================================================================\n",
       "                          coeff                 code              optimized      \n",
       "---------------------------------------------------------------------------------\n",
       "smoothing_level               0.1811360                alpha                 True\n",
       "smoothing_trend               0.0002369                 beta                 True\n",
       "smoothing_seasonal            0.7506280                gamma                 True\n",
       "initial_level                 581.20771                  l.0                 True\n",
       "initial_trend                -0.0157343                  b.0                 True\n",
       "damping_trend                 0.9887781                  phi                 True\n",
       "initial_seasons.0            -236.06910                  s.0                 True\n",
       "initial_seasons.1             49.155702                  s.1                 True\n",
       "initial_seasons.2            -285.42985                  s.2                 True\n",
       "initial_seasons.3            -18.883236                  s.3                 True\n",
       "initial_seasons.4            -428.80351                  s.4                 True\n",
       "initial_seasons.5            -381.51969                  s.5                 True\n",
       "initial_seasons.6            -457.74096                  s.6                 True\n",
       "initial_seasons.7            -554.28952                  s.7                 True\n",
       "initial_seasons.8            -556.91763                  s.8                 True\n",
       "initial_seasons.9            -502.01840                  s.9                 True\n",
       "initial_seasons.10           -569.44752                 s.10                 True\n",
       "initial_seasons.11           -494.74532                 s.11                 True\n",
       "initial_seasons.12           -454.86184                 s.12                 True\n",
       "initial_seasons.13           -440.01235                 s.13                 True\n",
       "initial_seasons.14           -408.62127                 s.14                 True\n",
       "initial_seasons.15           -395.82272                 s.15                 True\n",
       "initial_seasons.16           -409.18268                 s.16                 True\n",
       "initial_seasons.17           -244.34782                 s.17                 True\n",
       "initial_seasons.18           -322.34110                 s.18                 True\n",
       "initial_seasons.19           -275.87845                 s.19                 True\n",
       "initial_seasons.20           -236.71770                 s.20                 True\n",
       "initial_seasons.21           -382.73058                 s.21                 True\n",
       "initial_seasons.22           -526.40811                 s.22                 True\n",
       "initial_seasons.23           -320.42520                 s.23                 True\n",
       "initial_seasons.24           -636.67050                 s.24                 True\n",
       "initial_seasons.25           -454.53327                 s.25                 True\n",
       "initial_seasons.26           -397.48992                 s.26                 True\n",
       "initial_seasons.27           -242.53200                 s.27                 True\n",
       "initial_seasons.28           -127.15885                 s.28                 True\n",
       "initial_seasons.29            116.08123                 s.29                 True\n",
       "---------------------------------------------------------------------------------\n",
       "\"\"\""
      ]
     },
     "execution_count": 44,
     "metadata": {},
     "output_type": "execute_result"
    }
   ],
   "source": [
    "model_hw = es(dfQuantity, trend='add', damped_trend=True, seasonal='add', seasonal_periods=30, freq='D').fit()\n",
    "model_hw.summary()"
   ]
  },
  {
   "cell_type": "markdown",
   "metadata": {},
   "source": [
    "## 2.3. VAR Model\n",
    "\n",
    "A VAR model is a generalisation of the univariate autoregression model for forcasting a vector of time series. In VAR model, all variables are treated symmetrically - all of them are `endogenous`. The structure of VAR is each variable is a linear function of past lags of itself and past lags of the other variables.\n",
    "\n",
    "*Explaination:*\n",
    "\n",
    "Example with 2 variables:\n",
    "$$a_t = c_1 + \\sum_{j=1}^{j=p} A_j a_{t-j} + \\sum_{j=1}^{j=p} B_j b_{t-j} + e_{1,t} \\\\\n",
    "  b_t = c_2 + \\sum_{j=1}^{j=p} D_j a_{t-j} + \\sum_{j=1}^{j=p} E_j b_{t-j} + e_{2,t}$$\n",
    "  \n",
    "- Two equations contains only its own lagged values and the lagged value of others variables - no current values of two variables on right-hand sides.\n",
    "- Although the number of lagged values of each variable can be different, in most cases we use the same number of lagged terms in each equation.\n",
    "- The model above is called $\\mbox{VAR(p)}$ because of $p$ lagged values of each variable. \n",
    "\n",
    "*The general form of VAR: The function of VAR is actually the OLS method with stationary time series*:\n",
    "\n",
    "$$y_t = c + A_1 y_{t-1} + A_2 y_{t-2}+\\cdots +A_p y_{t-p}+e_{t}$$\n",
    "\n",
    "$A_i$: Square matrix $m*m, i=1,2,\\dots,p$\\\n",
    "$y_t$: $m$ stationary variables $y_{1t}, y_{2t},\\dots, y_{mt}$\\\n",
    "$e_t$: vector of white noise\n",
    "\n",
    "*The work flow:*\n",
    "\n",
    "Step 1: Check the stationary of all time series. We have 2 possibilities:\n",
    "- If all variables are stationary, we can estimated VAR model by OLS\n",
    "- If all variables are I(1), make them stationary and move to step 2:\n",
    "\n",
    "Step 2: Find the lag $p$ for model. Depend on metric $\\mbox{AIC}$, $\\mbox{FPE}$, $\\mbox{SC}$ and $\\mbox{HQIC}$ - The lag reach the largest numbers of minimum metrics will be the lag for model.\n",
    "\n",
    "Step 3: Estimated the VAR model by OLS."
   ]
  },
  {
   "cell_type": "code",
   "execution_count": 45,
   "metadata": {},
   "outputs": [],
   "source": [
    "import numpy as np\n",
    "import pandas as pd\n",
    "import matplotlib.pyplot as plt\n",
    "import seaborn as sns\n",
    "import warnings\n",
    "\n",
    "from statsmodels.tsa.stattools import adfuller\n",
    "from statsmodels.tsa.api import VAR\n",
    "\n",
    "plt.style.use(['seaborn', 'seaborn-whitegrid'])\n",
    "warnings.filterwarnings('ignore')\n",
    "%config InlineBackend.figure_format = 'retina'"
   ]
  },
  {
   "cell_type": "code",
   "execution_count": 46,
   "metadata": {},
   "outputs": [
    {
     "data": {
      "text/html": [
       "<div>\n",
       "<style scoped>\n",
       "    .dataframe tbody tr th:only-of-type {\n",
       "        vertical-align: middle;\n",
       "    }\n",
       "\n",
       "    .dataframe tbody tr th {\n",
       "        vertical-align: top;\n",
       "    }\n",
       "\n",
       "    .dataframe thead th {\n",
       "        text-align: right;\n",
       "    }\n",
       "</style>\n",
       "<table border=\"1\" class=\"dataframe\">\n",
       "  <thead>\n",
       "    <tr style=\"text-align: right;\">\n",
       "      <th></th>\n",
       "      <th>ex_rate</th>\n",
       "      <th>money_supply</th>\n",
       "      <th>inf</th>\n",
       "    </tr>\n",
       "    <tr>\n",
       "      <th>month</th>\n",
       "      <th></th>\n",
       "      <th></th>\n",
       "      <th></th>\n",
       "    </tr>\n",
       "  </thead>\n",
       "  <tbody>\n",
       "    <tr>\n",
       "      <th>2009-01-01</th>\n",
       "      <td>16954</td>\n",
       "      <td>1.582872e+06</td>\n",
       "      <td>15.536579</td>\n",
       "    </tr>\n",
       "    <tr>\n",
       "      <th>2009-02-01</th>\n",
       "      <td>16953</td>\n",
       "      <td>1.722413e+06</td>\n",
       "      <td>6.701754</td>\n",
       "    </tr>\n",
       "    <tr>\n",
       "      <th>2009-03-01</th>\n",
       "      <td>16991</td>\n",
       "      <td>1.830077e+06</td>\n",
       "      <td>2.417558</td>\n",
       "    </tr>\n",
       "    <tr>\n",
       "      <th>2009-04-01</th>\n",
       "      <td>17941</td>\n",
       "      <td>1.914078e+06</td>\n",
       "      <td>4.602838</td>\n",
       "    </tr>\n",
       "    <tr>\n",
       "      <th>2009-05-01</th>\n",
       "      <td>18544</td>\n",
       "      <td>1.964660e+06</td>\n",
       "      <td>9.696635</td>\n",
       "    </tr>\n",
       "  </tbody>\n",
       "</table>\n",
       "</div>"
      ],
      "text/plain": [
       "            ex_rate  money_supply        inf\n",
       "month                                       \n",
       "2009-01-01    16954  1.582872e+06  15.536579\n",
       "2009-02-01    16953  1.722413e+06   6.701754\n",
       "2009-03-01    16991  1.830077e+06   2.417558\n",
       "2009-04-01    17941  1.914078e+06   4.602838\n",
       "2009-05-01    18544  1.964660e+06   9.696635"
      ]
     },
     "execution_count": 46,
     "metadata": {},
     "output_type": "execute_result"
    }
   ],
   "source": [
    "dfCpi = pd.read_csv('data/cpi.csv')\n",
    "dfCpi = dfCpi.astype({'month': 'datetime64'})\n",
    "dfCpi = dfCpi.set_index('month')\n",
    "dfCpi.head()"
   ]
  },
  {
   "cell_type": "code",
   "execution_count": 47,
   "metadata": {},
   "outputs": [
    {
     "name": "stdout",
     "output_type": "stream",
     "text": [
      "ADF of ex_rate: -2.6047933525515283\n",
      "p-value of ex_rate: 0.09201062038116359\n",
      "ADF of money_supply: 3.857985254022738\n",
      "p-value of money_supply: 1.0\n",
      "ADF of inf: -1.554106971814962\n",
      "p-value of inf: 0.5065960721917747\n"
     ]
    }
   ],
   "source": [
    "for i in dfCpi.columns:\n",
    "    test = adfuller(dfCpi[i])\n",
    "    print(f'ADF of {i}: {test[0]}')\n",
    "    print(f'p-value of {i}: {test[1]}')"
   ]
  },
  {
   "cell_type": "code",
   "execution_count": 48,
   "metadata": {},
   "outputs": [
    {
     "name": "stdout",
     "output_type": "stream",
     "text": [
      "ADF of ex_rate: -6.723311823514879\n",
      "p-value of ex_rate: 3.4392095149141533e-09\n",
      "ADF of money_supply: -4.971584105329942\n",
      "p-value of money_supply: 2.5253803145699296e-05\n",
      "ADF of inf: -5.33587795514765\n",
      "p-value of inf: 4.612428921750133e-06\n"
     ]
    }
   ],
   "source": [
    "dfCpiDif = dfCPI.diff().dropna()\n",
    "\n",
    "for i in dfCpiDif.columns:\n",
    "    test = adfuller(dfCpiDif[i])\n",
    "    print(f'ADF of {i}: {test[0]}')\n",
    "    print(f'p-value of {i}: {test[1]}')"
   ]
  },
  {
   "cell_type": "code",
   "execution_count": 49,
   "metadata": {},
   "outputs": [
    {
     "name": "stdout",
     "output_type": "stream",
     "text": [
      "<statsmodels.tsa.vector_ar.var_model.LagOrderResults object. Selected orders are: AIC -> 4, BIC -> 1, FPE -> 4, HQIC -> 1>\n",
      "Using 4 based on aic criterion\n"
     ]
    },
    {
     "data": {
      "text/plain": [
       "  Summary of Regression Results   \n",
       "==================================\n",
       "Model:                         VAR\n",
       "Method:                        OLS\n",
       "Date:           Mon, 26, Jul, 2021\n",
       "Time:                     21:51:12\n",
       "--------------------------------------------------------------------\n",
       "No. of Equations:         3.00000    BIC:                    37.1056\n",
       "Nobs:                     39.0000    HQIC:                   36.0390\n",
       "Log likelihood:          -818.136    FPE:                2.67178e+15\n",
       "AIC:                      35.4421    Det(Omega_mle):     1.12716e+15\n",
       "--------------------------------------------------------------------\n",
       "Results for equation ex_rate\n",
       "==================================================================================\n",
       "                     coefficient       std. error           t-stat            prob\n",
       "----------------------------------------------------------------------------------\n",
       "const                 171.053850       261.584879            0.654           0.513\n",
       "L1.ex_rate             -0.126433         0.163305           -0.774           0.439\n",
       "L1.money_supply        -0.000224         0.000543           -0.413           0.680\n",
       "L1.inf                -13.055819        34.599558           -0.377           0.706\n",
       "L2.ex_rate              0.141332         0.244276            0.579           0.563\n",
       "L2.money_supply         0.000510         0.000525            0.972           0.331\n",
       "L2.inf                 88.123262        35.063663            2.513           0.012\n",
       "L3.ex_rate             -0.279419         0.219094           -1.275           0.202\n",
       "L3.money_supply        -0.000537         0.000525           -1.022           0.307\n",
       "L3.inf                -92.099465        33.086559           -2.784           0.005\n",
       "L4.ex_rate              0.352717         0.215714            1.635           0.102\n",
       "L4.money_supply        -0.000055         0.000554           -0.100           0.921\n",
       "L4.inf                 62.100978        21.825986            2.845           0.004\n",
       "==================================================================================\n",
       "\n",
       "Results for equation money_supply\n",
       "==================================================================================\n",
       "                     coefficient       std. error           t-stat            prob\n",
       "----------------------------------------------------------------------------------\n",
       "const              239644.869574     85439.595035            2.805           0.005\n",
       "L1.ex_rate           -128.669560        53.339165           -2.412           0.016\n",
       "L1.money_supply        -0.061916         0.177294           -0.349           0.727\n",
       "L1.inf                 -2.064414     11301.005705           -0.000           1.000\n",
       "L2.ex_rate            -40.327389        79.785977           -0.505           0.613\n",
       "L2.money_supply        -0.143627         0.171482           -0.838           0.402\n",
       "L2.inf             -17526.075385     11452.593012           -1.530           0.126\n",
       "L3.ex_rate            -15.569321        71.561062           -0.218           0.828\n",
       "L3.money_supply         0.251898         0.171553            1.468           0.142\n",
       "L3.inf              19270.995017     10806.825770            1.783           0.075\n",
       "L4.ex_rate           -156.999465        70.457272           -2.228           0.026\n",
       "L4.money_supply         0.087252         0.180881            0.482           0.630\n",
       "L4.inf               3499.105338      7128.865510            0.491           0.624\n",
       "==================================================================================\n",
       "\n",
       "Results for equation inf\n",
       "==================================================================================\n",
       "                     coefficient       std. error           t-stat            prob\n",
       "----------------------------------------------------------------------------------\n",
       "const                  -4.391820         1.384776           -3.172           0.002\n",
       "L1.ex_rate              0.005103         0.000865            5.903           0.000\n",
       "L1.money_supply         0.000006         0.000003            2.131           0.033\n",
       "L1.inf                  0.484987         0.183163            2.648           0.008\n",
       "L2.ex_rate              0.000386         0.001293            0.298           0.765\n",
       "L2.money_supply         0.000005         0.000003            1.818           0.069\n",
       "L2.inf                 -0.512530         0.185620           -2.761           0.006\n",
       "L3.ex_rate              0.002987         0.001160            2.575           0.010\n",
       "L3.money_supply         0.000002         0.000003            0.608           0.543\n",
       "L3.inf                  0.235295         0.175153            1.343           0.179\n",
       "L4.ex_rate              0.000314         0.001142            0.275           0.783\n",
       "L4.money_supply         0.000002         0.000003            0.607           0.544\n",
       "L4.inf                 -0.210019         0.115542           -1.818           0.069\n",
       "==================================================================================\n",
       "\n",
       "Correlation matrix of residuals\n",
       "                 ex_rate  money_supply       inf\n",
       "ex_rate         1.000000     -0.080241  0.368021\n",
       "money_supply   -0.080241      1.000000 -0.169451\n",
       "inf             0.368021     -0.169451  1.000000\n",
       "\n"
      ]
     },
     "execution_count": 49,
     "metadata": {},
     "output_type": "execute_result"
    }
   ],
   "source": [
    "var = VAR(dfCpiDif)\n",
    "result = var.fit(maxlags=4, ic='aic', verbose=True)\n",
    "result.summary()"
   ]
  },
  {
   "cell_type": "code",
   "execution_count": 50,
   "metadata": {},
   "outputs": [
    {
     "data": {
      "text/plain": [
       "array([3.23590418, 3.29835561, 3.04879665, 3.49792176, 3.63751891,\n",
       "       3.59901505, 3.78114786, 3.67908554, 3.62580333, 3.81903495,\n",
       "       3.86660551, 3.88287442, 3.93823976, 3.89078186, 3.8963528 ])"
      ]
     },
     "execution_count": 50,
     "metadata": {},
     "output_type": "execute_result"
    }
   ],
   "source": [
    "lags = result.k_ar\n",
    "\n",
    "inf_pred = result.forecast(dfCpiDif[-lags:].values, steps=15)[:,2:3]\n",
    "inf_pred = dfCpiDif['inf'].iloc[-1] + inf_pred.cumsum()\n",
    "inf_pred"
   ]
  },
  {
   "cell_type": "code",
   "execution_count": 51,
   "metadata": {},
   "outputs": [
    {
     "data": {
      "image/png": "[encoded data removed]",
      "text/plain": [
       "<Figure size 432x288 with 1 Axes>"
      ]
     },
     "metadata": {
      "image/png": {
       "height": 244,
       "width": 366
      }
     },
     "output_type": "display_data"
    }
   ],
   "source": [
    "date = pd.date_range(start='2012-09-01', periods=15, freq='M')\n",
    "dfPred = pd.DataFrame(inf_pred, index=date, columns=['inf'])\n",
    "\n",
    "plt.plot(dfPred)\n",
    "plt.show()"
   ]
  },
  {
   "cell_type": "markdown",
   "metadata": {},
   "source": [
    "# References\n",
    "- [Forecasting: Principles and Practice](https://otexts.com/fpp3/)\n",
    "- https://online.stat.psu.edu/stat510/"
   ]
  },
  {
   "cell_type": "markdown",
   "metadata": {},
   "source": [
    "---\n",
    "*&#9829; By Quang Hung x Thuy Linh &#9829;*"
   ]
  }
 ],
 "metadata": {
  "kernelspec": {
   "display_name": "Python 3",
   "language": "python",
   "name": "python3"
  },
  "language_info": {
   "codemirror_mode": {
    "name": "ipython",
    "version": 3
   },
   "file_extension": ".py",
   "mimetype": "text/x-python",
   "name": "python",
   "nbconvert_exporter": "python",
   "pygments_lexer": "ipython3",
   "version": "3.8.8"
  },
  "toc-autonumbering": false
 },
 "nbformat": 4,
 "nbformat_minor": 4
}
