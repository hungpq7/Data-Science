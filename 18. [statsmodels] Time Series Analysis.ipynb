{
 "cells": [
  {
   "cell_type": "markdown",
   "metadata": {},
   "source": [
    "# 1. Time series manipulation"
   ]
  },
  {
   "cell_type": "markdown",
   "metadata": {},
   "source": [
    "## 1.1. Datetime manipulation"
   ]
  },
  {
   "cell_type": "code",
   "execution_count": 1,
   "metadata": {},
   "outputs": [],
   "source": [
    "import numpy as np\n",
    "import pandas as pd"
   ]
  },
  {
   "cell_type": "markdown",
   "metadata": {},
   "source": [
    "### Standard format\n",
    "The complete datetime has the data type of <code style='font-size:13px;'>datetime64</code> and the format can be either <code style='font-size:13px;'>YYYY-MM-DD</code> or <code style='font-size:13px;'>YYYY-MM-DD hh:mm:ss</code>. This column can be used to detach year, quarter, month,... and the cyclic fields.\n",
    "\n",
    "To quickly create a date or time column, use the <code style='font-size:13px;'>pd.date_range()</code> function with the <code style='font-size:13px;'>freq</code> parameter indicating the frequency of the date. The <code style='font-size:13px;'>freq</code> parameter support a number of [aliases](https://pandas.pydata.org/pandas-docs/stable/user_guide/timeseries.html#timeseries-offset-aliases)."
   ]
  },
  {
   "cell_type": "code",
   "execution_count": 8,
   "metadata": {},
   "outputs": [
    {
     "data": {
      "text/html": [
       "<div>\n",
       "<style scoped>\n",
       "    .dataframe tbody tr th:only-of-type {\n",
       "        vertical-align: middle;\n",
       "    }\n",
       "\n",
       "    .dataframe tbody tr th {\n",
       "        vertical-align: top;\n",
       "    }\n",
       "\n",
       "    .dataframe thead th {\n",
       "        text-align: right;\n",
       "    }\n",
       "</style>\n",
       "<table border=\"1\" class=\"dataframe\">\n",
       "  <thead>\n",
       "    <tr style=\"text-align: right;\">\n",
       "      <th></th>\n",
       "      <th>month_start</th>\n",
       "      <th>time_3h</th>\n",
       "    </tr>\n",
       "  </thead>\n",
       "  <tbody>\n",
       "    <tr>\n",
       "      <th>0</th>\n",
       "      <td>2020-01-01</td>\n",
       "      <td>2020-01-01 00:00:00</td>\n",
       "    </tr>\n",
       "    <tr>\n",
       "      <th>1</th>\n",
       "      <td>2020-02-01</td>\n",
       "      <td>2020-01-01 03:00:00</td>\n",
       "    </tr>\n",
       "    <tr>\n",
       "      <th>2</th>\n",
       "      <td>2020-03-01</td>\n",
       "      <td>2020-01-01 06:00:00</td>\n",
       "    </tr>\n",
       "    <tr>\n",
       "      <th>3</th>\n",
       "      <td>2020-04-01</td>\n",
       "      <td>2020-01-01 09:00:00</td>\n",
       "    </tr>\n",
       "    <tr>\n",
       "      <th>4</th>\n",
       "      <td>2020-05-01</td>\n",
       "      <td>2020-01-01 12:00:00</td>\n",
       "    </tr>\n",
       "  </tbody>\n",
       "</table>\n",
       "</div>"
      ],
      "text/plain": [
       "  month_start             time_3h\n",
       "0  2020-01-01 2020-01-01 00:00:00\n",
       "1  2020-02-01 2020-01-01 03:00:00\n",
       "2  2020-03-01 2020-01-01 06:00:00\n",
       "3  2020-04-01 2020-01-01 09:00:00\n",
       "4  2020-05-01 2020-01-01 12:00:00"
      ]
     },
     "execution_count": 8,
     "metadata": {},
     "output_type": "execute_result"
    }
   ],
   "source": [
    "seqMS = pd.date_range('2020-01-01', '2020-12-31', freq='MS')[:5]\n",
    "seq3h = pd.date_range('2020-01-01', '2020-12-31', freq='3h')[:5]\n",
    "pd.DataFrame({\n",
    "    'month_start': seqMS,\n",
    "    'time_3h': seq3h,\n",
    "})"
   ]
  },
  {
   "cell_type": "markdown",
   "metadata": {},
   "source": [
    "### Useful techniques"
   ]
  },
  {
   "cell_type": "code",
   "execution_count": 4,
   "metadata": {},
   "outputs": [
    {
     "data": {
      "text/html": [
       "<div>\n",
       "<style scoped>\n",
       "    .dataframe tbody tr th:only-of-type {\n",
       "        vertical-align: middle;\n",
       "    }\n",
       "\n",
       "    .dataframe tbody tr th {\n",
       "        vertical-align: top;\n",
       "    }\n",
       "\n",
       "    .dataframe thead th {\n",
       "        text-align: right;\n",
       "    }\n",
       "</style>\n",
       "<table border=\"1\" class=\"dataframe\">\n",
       "  <thead>\n",
       "    <tr style=\"text-align: right;\">\n",
       "      <th></th>\n",
       "      <th>day</th>\n",
       "      <th>month</th>\n",
       "      <th>year</th>\n",
       "      <th>date</th>\n",
       "    </tr>\n",
       "  </thead>\n",
       "  <tbody>\n",
       "    <tr>\n",
       "      <th>0</th>\n",
       "      <td>1</td>\n",
       "      <td>1</td>\n",
       "      <td>2020</td>\n",
       "      <td>2020-01-01</td>\n",
       "    </tr>\n",
       "    <tr>\n",
       "      <th>1</th>\n",
       "      <td>2</td>\n",
       "      <td>1</td>\n",
       "      <td>2020</td>\n",
       "      <td>2020-01-02</td>\n",
       "    </tr>\n",
       "    <tr>\n",
       "      <th>2</th>\n",
       "      <td>3</td>\n",
       "      <td>1</td>\n",
       "      <td>2020</td>\n",
       "      <td>2020-01-03</td>\n",
       "    </tr>\n",
       "  </tbody>\n",
       "</table>\n",
       "</div>"
      ],
      "text/plain": [
       "   day  month  year       date\n",
       "0    1      1  2020 2020-01-01\n",
       "1    2      1  2020 2020-01-02\n",
       "2    3      1  2020 2020-01-03"
      ]
     },
     "execution_count": 4,
     "metadata": {},
     "output_type": "execute_result"
    }
   ],
   "source": [
    "dfDate = pd.DataFrame({\n",
    "    'day': [1, 2, 3],\n",
    "    'month': [1, 1, 1],\n",
    "    'year': [2020, 2020, 2020]\n",
    "})\n",
    "\n",
    "# combine three columns \"day\", \"month\" and \"year\"\n",
    "dfDate.assign(date=pd.to_datetime(dfDate[['day', 'month', 'year']]))"
   ]
  },
  {
   "cell_type": "code",
   "execution_count": 5,
   "metadata": {},
   "outputs": [
    {
     "data": {
      "text/html": [
       "<div>\n",
       "<style scoped>\n",
       "    .dataframe tbody tr th:only-of-type {\n",
       "        vertical-align: middle;\n",
       "    }\n",
       "\n",
       "    .dataframe tbody tr th {\n",
       "        vertical-align: top;\n",
       "    }\n",
       "\n",
       "    .dataframe thead th {\n",
       "        text-align: right;\n",
       "    }\n",
       "</style>\n",
       "<table border=\"1\" class=\"dataframe\">\n",
       "  <thead>\n",
       "    <tr style=\"text-align: right;\">\n",
       "      <th></th>\n",
       "      <th>time</th>\n",
       "      <th>date</th>\n",
       "    </tr>\n",
       "  </thead>\n",
       "  <tbody>\n",
       "    <tr>\n",
       "      <th>0</th>\n",
       "      <td>2020-01-01 00:00:00</td>\n",
       "      <td>2020-01-01</td>\n",
       "    </tr>\n",
       "    <tr>\n",
       "      <th>1</th>\n",
       "      <td>2020-01-01 17:36:43</td>\n",
       "      <td>2020-01-01</td>\n",
       "    </tr>\n",
       "    <tr>\n",
       "      <th>2</th>\n",
       "      <td>2020-01-02 11:13:26</td>\n",
       "      <td>2020-01-02</td>\n",
       "    </tr>\n",
       "    <tr>\n",
       "      <th>3</th>\n",
       "      <td>2020-01-03 04:50:09</td>\n",
       "      <td>2020-01-03</td>\n",
       "    </tr>\n",
       "    <tr>\n",
       "      <th>4</th>\n",
       "      <td>2020-01-03 22:26:52</td>\n",
       "      <td>2020-01-03</td>\n",
       "    </tr>\n",
       "  </tbody>\n",
       "</table>\n",
       "</div>"
      ],
      "text/plain": [
       "                 time        date\n",
       "0 2020-01-01 00:00:00  2020-01-01\n",
       "1 2020-01-01 17:36:43  2020-01-01\n",
       "2 2020-01-02 11:13:26  2020-01-02\n",
       "3 2020-01-03 04:50:09  2020-01-03\n",
       "4 2020-01-03 22:26:52  2020-01-03"
      ]
     },
     "execution_count": 5,
     "metadata": {},
     "output_type": "execute_result"
    }
   ],
   "source": [
    "sequence = pd.date_range('2020-01-01', '2020-12-31', freq='17h 36t 43s')\n",
    "dfDate = pd.DataFrame({'time': sequence}).head()\n",
    "dfDate.assign(date=dfDate.time.dt.date)"
   ]
  },
  {
   "cell_type": "markdown",
   "metadata": {},
   "source": [
    "### Formatting date"
   ]
  },
  {
   "cell_type": "code",
   "execution_count": 6,
   "metadata": {},
   "outputs": [
    {
     "data": {
      "text/html": [
       "<div>\n",
       "<style scoped>\n",
       "    .dataframe tbody tr th:only-of-type {\n",
       "        vertical-align: middle;\n",
       "    }\n",
       "\n",
       "    .dataframe tbody tr th {\n",
       "        vertical-align: top;\n",
       "    }\n",
       "\n",
       "    .dataframe thead th {\n",
       "        text-align: right;\n",
       "    }\n",
       "</style>\n",
       "<table border=\"1\" class=\"dataframe\">\n",
       "  <thead>\n",
       "    <tr style=\"text-align: right;\">\n",
       "      <th></th>\n",
       "      <th>date</th>\n",
       "      <th>date_print</th>\n",
       "    </tr>\n",
       "  </thead>\n",
       "  <tbody>\n",
       "    <tr>\n",
       "      <th>0</th>\n",
       "      <td>2020-01-01</td>\n",
       "      <td>01/01/20</td>\n",
       "    </tr>\n",
       "    <tr>\n",
       "      <th>1</th>\n",
       "      <td>2020-01-26</td>\n",
       "      <td>26/01/20</td>\n",
       "    </tr>\n",
       "    <tr>\n",
       "      <th>2</th>\n",
       "      <td>2020-02-20</td>\n",
       "      <td>20/02/20</td>\n",
       "    </tr>\n",
       "    <tr>\n",
       "      <th>3</th>\n",
       "      <td>2020-03-16</td>\n",
       "      <td>16/03/20</td>\n",
       "    </tr>\n",
       "    <tr>\n",
       "      <th>4</th>\n",
       "      <td>2020-04-10</td>\n",
       "      <td>10/04/20</td>\n",
       "    </tr>\n",
       "  </tbody>\n",
       "</table>\n",
       "</div>"
      ],
      "text/plain": [
       "        date date_print\n",
       "0 2020-01-01   01/01/20\n",
       "1 2020-01-26   26/01/20\n",
       "2 2020-02-20   20/02/20\n",
       "3 2020-03-16   16/03/20\n",
       "4 2020-04-10   10/04/20"
      ]
     },
     "execution_count": 6,
     "metadata": {},
     "output_type": "execute_result"
    }
   ],
   "source": [
    "dfDate = pd.DataFrame({'date': pd.date_range('2020-01-01', '2020-12-31', freq='25D')})\n",
    "dfDate.assign(date_print=dfDate.date.dt.strftime('%d/%m/%y')).head()"
   ]
  },
  {
   "cell_type": "markdown",
   "metadata": {},
   "source": [
    "### Extracting date part"
   ]
  },
  {
   "cell_type": "code",
   "execution_count": 7,
   "metadata": {},
   "outputs": [
    {
     "data": {
      "text/html": [
       "<div>\n",
       "<style scoped>\n",
       "    .dataframe tbody tr th:only-of-type {\n",
       "        vertical-align: middle;\n",
       "    }\n",
       "\n",
       "    .dataframe tbody tr th {\n",
       "        vertical-align: top;\n",
       "    }\n",
       "\n",
       "    .dataframe thead th {\n",
       "        text-align: right;\n",
       "    }\n",
       "</style>\n",
       "<table border=\"1\" class=\"dataframe\">\n",
       "  <thead>\n",
       "    <tr style=\"text-align: right;\">\n",
       "      <th></th>\n",
       "      <th>date</th>\n",
       "      <th>year</th>\n",
       "      <th>quarter</th>\n",
       "      <th>month</th>\n",
       "      <th>week</th>\n",
       "    </tr>\n",
       "  </thead>\n",
       "  <tbody>\n",
       "    <tr>\n",
       "      <th>0</th>\n",
       "      <td>2020-01-01 00:00:00</td>\n",
       "      <td>2020</td>\n",
       "      <td>2020-1</td>\n",
       "      <td>2020-01</td>\n",
       "      <td>2020-00</td>\n",
       "    </tr>\n",
       "    <tr>\n",
       "      <th>1</th>\n",
       "      <td>2020-03-10 10:40:00</td>\n",
       "      <td>2020</td>\n",
       "      <td>2020-1</td>\n",
       "      <td>2020-03</td>\n",
       "      <td>2020-10</td>\n",
       "    </tr>\n",
       "    <tr>\n",
       "      <th>2</th>\n",
       "      <td>2020-05-18 21:20:00</td>\n",
       "      <td>2020</td>\n",
       "      <td>2020-2</td>\n",
       "      <td>2020-05</td>\n",
       "      <td>2020-20</td>\n",
       "    </tr>\n",
       "    <tr>\n",
       "      <th>3</th>\n",
       "      <td>2020-07-27 08:00:00</td>\n",
       "      <td>2020</td>\n",
       "      <td>2020-3</td>\n",
       "      <td>2020-07</td>\n",
       "      <td>2020-30</td>\n",
       "    </tr>\n",
       "    <tr>\n",
       "      <th>4</th>\n",
       "      <td>2020-10-04 18:40:00</td>\n",
       "      <td>2020</td>\n",
       "      <td>2020-4</td>\n",
       "      <td>2020-10</td>\n",
       "      <td>2020-40</td>\n",
       "    </tr>\n",
       "    <tr>\n",
       "      <th>5</th>\n",
       "      <td>2020-12-13 05:20:00</td>\n",
       "      <td>2020</td>\n",
       "      <td>2020-4</td>\n",
       "      <td>2020-12</td>\n",
       "      <td>2020-50</td>\n",
       "    </tr>\n",
       "  </tbody>\n",
       "</table>\n",
       "</div>"
      ],
      "text/plain": [
       "                 date  year quarter    month     week\n",
       "0 2020-01-01 00:00:00  2020  2020-1  2020-01  2020-00\n",
       "1 2020-03-10 10:40:00  2020  2020-1  2020-03  2020-10\n",
       "2 2020-05-18 21:20:00  2020  2020-2  2020-05  2020-20\n",
       "3 2020-07-27 08:00:00  2020  2020-3  2020-07  2020-30\n",
       "4 2020-10-04 18:40:00  2020  2020-4  2020-10  2020-40\n",
       "5 2020-12-13 05:20:00  2020  2020-4  2020-12  2020-50"
      ]
     },
     "execution_count": 7,
     "metadata": {},
     "output_type": "execute_result"
    }
   ],
   "source": [
    "dfDate = pd.DataFrame({'date': pd.date_range('2020-01-01', '2020-12-31', freq='100000 min')})\n",
    "\n",
    "dfDate\\\n",
    "    .assign(year=dfDate.date.dt.to_period('Y').astype(str))\\\n",
    "    .assign(quarter=dfDate.date.dt.to_period('Q').astype(str).str.replace('Q', '-'))\\\n",
    "    .assign(month=dfDate.date.dt.to_period('M').astype(str))\\\n",
    "    .assign(week=dfDate.date.dt.strftime('%Y-%U'))"
   ]
  },
  {
   "cell_type": "markdown",
   "metadata": {},
   "source": [
    "### Extracting cyclic attributes"
   ]
  },
  {
   "cell_type": "code",
   "execution_count": 8,
   "metadata": {},
   "outputs": [
    {
     "data": {
      "text/html": [
       "<div>\n",
       "<style scoped>\n",
       "    .dataframe tbody tr th:only-of-type {\n",
       "        vertical-align: middle;\n",
       "    }\n",
       "\n",
       "    .dataframe tbody tr th {\n",
       "        vertical-align: top;\n",
       "    }\n",
       "\n",
       "    .dataframe thead th {\n",
       "        text-align: right;\n",
       "    }\n",
       "</style>\n",
       "<table border=\"1\" class=\"dataframe\">\n",
       "  <thead>\n",
       "    <tr style=\"text-align: right;\">\n",
       "      <th></th>\n",
       "      <th>date</th>\n",
       "      <th>weekday</th>\n",
       "      <th>day_of_year</th>\n",
       "      <th>month_of_year</th>\n",
       "      <th>quarter_of_year</th>\n",
       "    </tr>\n",
       "  </thead>\n",
       "  <tbody>\n",
       "    <tr>\n",
       "      <th>0</th>\n",
       "      <td>2020-01-01 00:00:00</td>\n",
       "      <td>Wednesday</td>\n",
       "      <td>1</td>\n",
       "      <td>1</td>\n",
       "      <td>1</td>\n",
       "    </tr>\n",
       "    <tr>\n",
       "      <th>1</th>\n",
       "      <td>2020-03-10 10:40:00</td>\n",
       "      <td>Tuesday</td>\n",
       "      <td>70</td>\n",
       "      <td>3</td>\n",
       "      <td>1</td>\n",
       "    </tr>\n",
       "    <tr>\n",
       "      <th>2</th>\n",
       "      <td>2020-05-18 21:20:00</td>\n",
       "      <td>Monday</td>\n",
       "      <td>139</td>\n",
       "      <td>5</td>\n",
       "      <td>2</td>\n",
       "    </tr>\n",
       "    <tr>\n",
       "      <th>3</th>\n",
       "      <td>2020-07-27 08:00:00</td>\n",
       "      <td>Monday</td>\n",
       "      <td>209</td>\n",
       "      <td>7</td>\n",
       "      <td>3</td>\n",
       "    </tr>\n",
       "    <tr>\n",
       "      <th>4</th>\n",
       "      <td>2020-10-04 18:40:00</td>\n",
       "      <td>Sunday</td>\n",
       "      <td>278</td>\n",
       "      <td>10</td>\n",
       "      <td>4</td>\n",
       "    </tr>\n",
       "    <tr>\n",
       "      <th>5</th>\n",
       "      <td>2020-12-13 05:20:00</td>\n",
       "      <td>Sunday</td>\n",
       "      <td>348</td>\n",
       "      <td>12</td>\n",
       "      <td>4</td>\n",
       "    </tr>\n",
       "  </tbody>\n",
       "</table>\n",
       "</div>"
      ],
      "text/plain": [
       "                 date    weekday  day_of_year  month_of_year  quarter_of_year\n",
       "0 2020-01-01 00:00:00  Wednesday            1              1                1\n",
       "1 2020-03-10 10:40:00    Tuesday           70              3                1\n",
       "2 2020-05-18 21:20:00     Monday          139              5                2\n",
       "3 2020-07-27 08:00:00     Monday          209              7                3\n",
       "4 2020-10-04 18:40:00     Sunday          278             10                4\n",
       "5 2020-12-13 05:20:00     Sunday          348             12                4"
      ]
     },
     "execution_count": 8,
     "metadata": {},
     "output_type": "execute_result"
    }
   ],
   "source": [
    "dfDate = pd.DataFrame({'date': pd.date_range('2020-01-01', '2020-12-31', freq='100000 min')})\n",
    "\n",
    "dfDate\\\n",
    "    .assign(weekday=dfDate.date.dt.day_name())\\\n",
    "    .assign(day_of_year=dfDate.date.dt.dayofyear)\\\n",
    "    .assign(month_of_year=dfDate.date.dt.month)\\\n",
    "    .assign(quarter_of_year=dfDate.date.dt.quarter)"
   ]
  },
  {
   "cell_type": "markdown",
   "metadata": {},
   "source": [
    "### Rounding date\n",
    "The <code style='font-size:13px;'>freq</code> parameter of the <code style='font-size:13px;'>Series.dt.round()</code> method uses the same aliases mentioned earlier."
   ]
  },
  {
   "cell_type": "code",
   "execution_count": 9,
   "metadata": {},
   "outputs": [
    {
     "data": {
      "text/html": [
       "<div>\n",
       "<style scoped>\n",
       "    .dataframe tbody tr th:only-of-type {\n",
       "        vertical-align: middle;\n",
       "    }\n",
       "\n",
       "    .dataframe tbody tr th {\n",
       "        vertical-align: top;\n",
       "    }\n",
       "\n",
       "    .dataframe thead th {\n",
       "        text-align: right;\n",
       "    }\n",
       "</style>\n",
       "<table border=\"1\" class=\"dataframe\">\n",
       "  <thead>\n",
       "    <tr style=\"text-align: right;\">\n",
       "      <th></th>\n",
       "      <th>date</th>\n",
       "      <th>date_trunc</th>\n",
       "    </tr>\n",
       "  </thead>\n",
       "  <tbody>\n",
       "    <tr>\n",
       "      <th>0</th>\n",
       "      <td>2020-01-01 00:00:00</td>\n",
       "      <td>2020-01-01 00:00:00</td>\n",
       "    </tr>\n",
       "    <tr>\n",
       "      <th>1</th>\n",
       "      <td>2020-03-10 10:40:00</td>\n",
       "      <td>2020-03-10 11:00:00</td>\n",
       "    </tr>\n",
       "    <tr>\n",
       "      <th>2</th>\n",
       "      <td>2020-05-18 21:20:00</td>\n",
       "      <td>2020-05-18 21:00:00</td>\n",
       "    </tr>\n",
       "    <tr>\n",
       "      <th>3</th>\n",
       "      <td>2020-07-27 08:00:00</td>\n",
       "      <td>2020-07-27 08:00:00</td>\n",
       "    </tr>\n",
       "    <tr>\n",
       "      <th>4</th>\n",
       "      <td>2020-10-04 18:40:00</td>\n",
       "      <td>2020-10-04 19:00:00</td>\n",
       "    </tr>\n",
       "    <tr>\n",
       "      <th>5</th>\n",
       "      <td>2020-12-13 05:20:00</td>\n",
       "      <td>2020-12-13 05:00:00</td>\n",
       "    </tr>\n",
       "  </tbody>\n",
       "</table>\n",
       "</div>"
      ],
      "text/plain": [
       "                 date          date_trunc\n",
       "0 2020-01-01 00:00:00 2020-01-01 00:00:00\n",
       "1 2020-03-10 10:40:00 2020-03-10 11:00:00\n",
       "2 2020-05-18 21:20:00 2020-05-18 21:00:00\n",
       "3 2020-07-27 08:00:00 2020-07-27 08:00:00\n",
       "4 2020-10-04 18:40:00 2020-10-04 19:00:00\n",
       "5 2020-12-13 05:20:00 2020-12-13 05:00:00"
      ]
     },
     "execution_count": 9,
     "metadata": {},
     "output_type": "execute_result"
    }
   ],
   "source": [
    "dfDate = pd.DataFrame({'date': pd.date_range('2020-01-01', '2020-12-31', freq='100000 min')})\n",
    "dfDate.assign(date_trunc=dfDate.date.dt.round(freq='h'))"
   ]
  },
  {
   "cell_type": "markdown",
   "metadata": {},
   "source": [
    "However, the <code style='font-size:13px;'>Series.dt.round()</code> method only works with fixed frequencies such as hour, minute, second. For rounding to date or month, use the <code style='font-size:13px;'>Series.dt.to_period()</code> method."
   ]
  },
  {
   "cell_type": "code",
   "execution_count": 11,
   "metadata": {},
   "outputs": [
    {
     "data": {
      "text/html": [
       "<div>\n",
       "<style scoped>\n",
       "    .dataframe tbody tr th:only-of-type {\n",
       "        vertical-align: middle;\n",
       "    }\n",
       "\n",
       "    .dataframe tbody tr th {\n",
       "        vertical-align: top;\n",
       "    }\n",
       "\n",
       "    .dataframe thead th {\n",
       "        text-align: right;\n",
       "    }\n",
       "</style>\n",
       "<table border=\"1\" class=\"dataframe\">\n",
       "  <thead>\n",
       "    <tr style=\"text-align: right;\">\n",
       "      <th></th>\n",
       "      <th>date</th>\n",
       "      <th>date_trunc</th>\n",
       "    </tr>\n",
       "  </thead>\n",
       "  <tbody>\n",
       "    <tr>\n",
       "      <th>0</th>\n",
       "      <td>2020-01-01 00:00:00</td>\n",
       "      <td>2020-01-01</td>\n",
       "    </tr>\n",
       "    <tr>\n",
       "      <th>1</th>\n",
       "      <td>2020-03-10 10:40:00</td>\n",
       "      <td>2020-03-01</td>\n",
       "    </tr>\n",
       "    <tr>\n",
       "      <th>2</th>\n",
       "      <td>2020-05-18 21:20:00</td>\n",
       "      <td>2020-05-01</td>\n",
       "    </tr>\n",
       "    <tr>\n",
       "      <th>3</th>\n",
       "      <td>2020-07-27 08:00:00</td>\n",
       "      <td>2020-07-01</td>\n",
       "    </tr>\n",
       "    <tr>\n",
       "      <th>4</th>\n",
       "      <td>2020-10-04 18:40:00</td>\n",
       "      <td>2020-10-01</td>\n",
       "    </tr>\n",
       "    <tr>\n",
       "      <th>5</th>\n",
       "      <td>2020-12-13 05:20:00</td>\n",
       "      <td>2020-12-01</td>\n",
       "    </tr>\n",
       "  </tbody>\n",
       "</table>\n",
       "</div>"
      ],
      "text/plain": [
       "                 date date_trunc\n",
       "0 2020-01-01 00:00:00 2020-01-01\n",
       "1 2020-03-10 10:40:00 2020-03-01\n",
       "2 2020-05-18 21:20:00 2020-05-01\n",
       "3 2020-07-27 08:00:00 2020-07-01\n",
       "4 2020-10-04 18:40:00 2020-10-01\n",
       "5 2020-12-13 05:20:00 2020-12-01"
      ]
     },
     "execution_count": 11,
     "metadata": {},
     "output_type": "execute_result"
    }
   ],
   "source": [
    "dfDate = pd.DataFrame({'date': pd.date_range('2020-01-01', '2020-12-31', freq='100000 min')})\n",
    "dfDate.assign(date_trunc=dfDate.date.dt.to_period('M').dt.to_timestamp())"
   ]
  },
  {
   "cell_type": "markdown",
   "metadata": {},
   "source": [
    "### Timedelta"
   ]
  },
  {
   "cell_type": "code",
   "execution_count": 9,
   "metadata": {},
   "outputs": [
    {
     "data": {
      "text/html": [
       "<div>\n",
       "<style scoped>\n",
       "    .dataframe tbody tr th:only-of-type {\n",
       "        vertical-align: middle;\n",
       "    }\n",
       "\n",
       "    .dataframe tbody tr th {\n",
       "        vertical-align: top;\n",
       "    }\n",
       "\n",
       "    .dataframe thead th {\n",
       "        text-align: right;\n",
       "    }\n",
       "</style>\n",
       "<table border=\"1\" class=\"dataframe\">\n",
       "  <thead>\n",
       "    <tr style=\"text-align: right;\">\n",
       "      <th></th>\n",
       "      <th>date1</th>\n",
       "      <th>date2</th>\n",
       "      <th>timedelta</th>\n",
       "      <th>date3</th>\n",
       "    </tr>\n",
       "  </thead>\n",
       "  <tbody>\n",
       "    <tr>\n",
       "      <th>0</th>\n",
       "      <td>2020-01-01</td>\n",
       "      <td>2020-01-05</td>\n",
       "      <td>4 days</td>\n",
       "      <td>2020-01-16</td>\n",
       "    </tr>\n",
       "    <tr>\n",
       "      <th>1</th>\n",
       "      <td>2020-01-04</td>\n",
       "      <td>2020-01-12</td>\n",
       "      <td>8 days</td>\n",
       "      <td>2020-01-19</td>\n",
       "    </tr>\n",
       "    <tr>\n",
       "      <th>2</th>\n",
       "      <td>2020-01-07</td>\n",
       "      <td>2020-01-19</td>\n",
       "      <td>12 days</td>\n",
       "      <td>2020-01-22</td>\n",
       "    </tr>\n",
       "    <tr>\n",
       "      <th>3</th>\n",
       "      <td>2020-01-10</td>\n",
       "      <td>2020-01-26</td>\n",
       "      <td>16 days</td>\n",
       "      <td>2020-01-25</td>\n",
       "    </tr>\n",
       "    <tr>\n",
       "      <th>4</th>\n",
       "      <td>2020-01-13</td>\n",
       "      <td>2020-02-02</td>\n",
       "      <td>20 days</td>\n",
       "      <td>2020-01-28</td>\n",
       "    </tr>\n",
       "    <tr>\n",
       "      <th>5</th>\n",
       "      <td>2020-01-16</td>\n",
       "      <td>2020-02-09</td>\n",
       "      <td>24 days</td>\n",
       "      <td>2020-01-31</td>\n",
       "    </tr>\n",
       "    <tr>\n",
       "      <th>6</th>\n",
       "      <td>2020-01-19</td>\n",
       "      <td>2020-02-16</td>\n",
       "      <td>28 days</td>\n",
       "      <td>2020-02-03</td>\n",
       "    </tr>\n",
       "    <tr>\n",
       "      <th>7</th>\n",
       "      <td>2020-01-22</td>\n",
       "      <td>2020-02-23</td>\n",
       "      <td>32 days</td>\n",
       "      <td>2020-02-06</td>\n",
       "    </tr>\n",
       "    <tr>\n",
       "      <th>8</th>\n",
       "      <td>2020-01-25</td>\n",
       "      <td>2020-03-01</td>\n",
       "      <td>36 days</td>\n",
       "      <td>2020-02-09</td>\n",
       "    </tr>\n",
       "    <tr>\n",
       "      <th>9</th>\n",
       "      <td>2020-01-28</td>\n",
       "      <td>2020-03-08</td>\n",
       "      <td>40 days</td>\n",
       "      <td>2020-02-12</td>\n",
       "    </tr>\n",
       "    <tr>\n",
       "      <th>10</th>\n",
       "      <td>2020-01-31</td>\n",
       "      <td>2020-03-15</td>\n",
       "      <td>44 days</td>\n",
       "      <td>2020-02-15</td>\n",
       "    </tr>\n",
       "  </tbody>\n",
       "</table>\n",
       "</div>"
      ],
      "text/plain": [
       "        date1      date2 timedelta      date3\n",
       "0  2020-01-01 2020-01-05    4 days 2020-01-16\n",
       "1  2020-01-04 2020-01-12    8 days 2020-01-19\n",
       "2  2020-01-07 2020-01-19   12 days 2020-01-22\n",
       "3  2020-01-10 2020-01-26   16 days 2020-01-25\n",
       "4  2020-01-13 2020-02-02   20 days 2020-01-28\n",
       "5  2020-01-16 2020-02-09   24 days 2020-01-31\n",
       "6  2020-01-19 2020-02-16   28 days 2020-02-03\n",
       "7  2020-01-22 2020-02-23   32 days 2020-02-06\n",
       "8  2020-01-25 2020-03-01   36 days 2020-02-09\n",
       "9  2020-01-28 2020-03-08   40 days 2020-02-12\n",
       "10 2020-01-31 2020-03-15   44 days 2020-02-15"
      ]
     },
     "execution_count": 9,
     "metadata": {},
     "output_type": "execute_result"
    }
   ],
   "source": [
    "dfDelta = pd.DataFrame({\n",
    "    'date1': pd.date_range('2020-01-01', '2020-01-31', freq='3D'),\n",
    "    'date2': pd.date_range('2020-01-02', '2020-03-15', freq='W')\n",
    "})\n",
    "dfDelta['timedelta'] = dfDelta.date2 - dfDelta.date1\n",
    "dfDelta['date3'] = dfDelta.date1 + pd.Timedelta('15 days')\n",
    "dfDelta"
   ]
  },
  {
   "cell_type": "markdown",
   "metadata": {},
   "source": [
    "## 1.2. Time series filling\n",
    "A time series may have no existing blank value, however, it doesn't mean that date column is completed. A completed time series requires all data points to be equally spaced. In other words, the date or time frequency should be a constant across the dataset. Interpolation (the process of inferring new values from given ones) is a great technique filling missing time series."
   ]
  },
  {
   "cell_type": "code",
   "execution_count": 1,
   "metadata": {
    "execution": {
     "iopub.execute_input": "2022-05-20T16:09:06.718874Z",
     "iopub.status.busy": "2022-05-20T16:09:06.718462Z",
     "iopub.status.idle": "2022-05-20T16:09:07.378872Z",
     "shell.execute_reply": "2022-05-20T16:09:07.378314Z",
     "shell.execute_reply.started": "2022-05-20T16:09:06.718804Z"
    },
    "tags": []
   },
   "outputs": [],
   "source": [
    "import numpy as np\n",
    "import pandas as pd"
   ]
  },
  {
   "cell_type": "code",
   "execution_count": 3,
   "metadata": {
    "execution": {
     "iopub.execute_input": "2022-05-20T16:09:21.251702Z",
     "iopub.status.busy": "2022-05-20T16:09:21.251369Z",
     "iopub.status.idle": "2022-05-20T16:09:21.256596Z",
     "shell.execute_reply": "2022-05-20T16:09:21.255494Z",
     "shell.execute_reply.started": "2022-05-20T16:09:21.251676Z"
    },
    "tags": []
   },
   "outputs": [],
   "source": [
    "dfPrice = pd.DataFrame({\n",
    "    'date': pd.to_datetime([\n",
    "        '2020-01-01', '2020-01-03', '2020-01-04', '2020-01-05',\n",
    "        '2020-01-06', '2020-01-07', '2020-01-09', '2020-01-10'\n",
    "    ]),\n",
    "    'price': [110, 113, 112, 115, 118, 120, 118, 116]\n",
    "})"
   ]
  },
  {
   "cell_type": "markdown",
   "metadata": {},
   "source": [
    "### Unhiding missing data"
   ]
  },
  {
   "cell_type": "code",
   "execution_count": 4,
   "metadata": {
    "execution": {
     "iopub.execute_input": "2022-05-20T16:09:26.106157Z",
     "iopub.status.busy": "2022-05-20T16:09:26.105565Z",
     "iopub.status.idle": "2022-05-20T16:09:26.122517Z",
     "shell.execute_reply": "2022-05-20T16:09:26.121769Z",
     "shell.execute_reply.started": "2022-05-20T16:09:26.106119Z"
    },
    "tags": []
   },
   "outputs": [
    {
     "data": {
      "text/html": [
       "<div>\n",
       "<style scoped>\n",
       "    .dataframe tbody tr th:only-of-type {\n",
       "        vertical-align: middle;\n",
       "    }\n",
       "\n",
       "    .dataframe tbody tr th {\n",
       "        vertical-align: top;\n",
       "    }\n",
       "\n",
       "    .dataframe thead th {\n",
       "        text-align: right;\n",
       "    }\n",
       "</style>\n",
       "<table border=\"1\" class=\"dataframe\">\n",
       "  <thead>\n",
       "    <tr style=\"text-align: right;\">\n",
       "      <th></th>\n",
       "      <th>date</th>\n",
       "      <th>price</th>\n",
       "    </tr>\n",
       "  </thead>\n",
       "  <tbody>\n",
       "    <tr>\n",
       "      <th>0</th>\n",
       "      <td>2020-01-01</td>\n",
       "      <td>110.0</td>\n",
       "    </tr>\n",
       "    <tr>\n",
       "      <th>1</th>\n",
       "      <td>2020-01-02</td>\n",
       "      <td>NaN</td>\n",
       "    </tr>\n",
       "    <tr>\n",
       "      <th>2</th>\n",
       "      <td>2020-01-03</td>\n",
       "      <td>113.0</td>\n",
       "    </tr>\n",
       "    <tr>\n",
       "      <th>3</th>\n",
       "      <td>2020-01-04</td>\n",
       "      <td>112.0</td>\n",
       "    </tr>\n",
       "    <tr>\n",
       "      <th>4</th>\n",
       "      <td>2020-01-05</td>\n",
       "      <td>115.0</td>\n",
       "    </tr>\n",
       "    <tr>\n",
       "      <th>5</th>\n",
       "      <td>2020-01-06</td>\n",
       "      <td>118.0</td>\n",
       "    </tr>\n",
       "    <tr>\n",
       "      <th>6</th>\n",
       "      <td>2020-01-07</td>\n",
       "      <td>120.0</td>\n",
       "    </tr>\n",
       "    <tr>\n",
       "      <th>7</th>\n",
       "      <td>2020-01-08</td>\n",
       "      <td>NaN</td>\n",
       "    </tr>\n",
       "    <tr>\n",
       "      <th>8</th>\n",
       "      <td>2020-01-09</td>\n",
       "      <td>118.0</td>\n",
       "    </tr>\n",
       "    <tr>\n",
       "      <th>9</th>\n",
       "      <td>2020-01-10</td>\n",
       "      <td>116.0</td>\n",
       "    </tr>\n",
       "  </tbody>\n",
       "</table>\n",
       "</div>"
      ],
      "text/plain": [
       "        date  price\n",
       "0 2020-01-01  110.0\n",
       "1 2020-01-02    NaN\n",
       "2 2020-01-03  113.0\n",
       "3 2020-01-04  112.0\n",
       "4 2020-01-05  115.0\n",
       "5 2020-01-06  118.0\n",
       "6 2020-01-07  120.0\n",
       "7 2020-01-08    NaN\n",
       "8 2020-01-09  118.0\n",
       "9 2020-01-10  116.0"
      ]
     },
     "execution_count": 4,
     "metadata": {},
     "output_type": "execute_result"
    }
   ],
   "source": [
    "dfPrice = dfPrice.set_index('date').asfreq('d').reset_index()\n",
    "dfPrice"
   ]
  },
  {
   "cell_type": "markdown",
   "metadata": {},
   "source": [
    "### Neighbor filling\n",
    "Two approaches:\n",
    "- Foward filling: $s_t\\leftarrow s_{t-1}$\n",
    "- Backward filling: $s_t\\leftarrow s_{t+1}$"
   ]
  },
  {
   "cell_type": "code",
   "execution_count": 5,
   "metadata": {
    "execution": {
     "iopub.execute_input": "2022-05-20T16:10:32.941962Z",
     "iopub.status.busy": "2022-05-20T16:10:32.941572Z",
     "iopub.status.idle": "2022-05-20T16:10:32.954379Z",
     "shell.execute_reply": "2022-05-20T16:10:32.953673Z",
     "shell.execute_reply.started": "2022-05-20T16:10:32.941936Z"
    },
    "tags": []
   },
   "outputs": [
    {
     "data": {
      "text/html": [
       "<div>\n",
       "<style scoped>\n",
       "    .dataframe tbody tr th:only-of-type {\n",
       "        vertical-align: middle;\n",
       "    }\n",
       "\n",
       "    .dataframe tbody tr th {\n",
       "        vertical-align: top;\n",
       "    }\n",
       "\n",
       "    .dataframe thead th {\n",
       "        text-align: right;\n",
       "    }\n",
       "</style>\n",
       "<table border=\"1\" class=\"dataframe\">\n",
       "  <thead>\n",
       "    <tr style=\"text-align: right;\">\n",
       "      <th></th>\n",
       "      <th>date</th>\n",
       "      <th>price</th>\n",
       "      <th>forward</th>\n",
       "      <th>backward</th>\n",
       "    </tr>\n",
       "  </thead>\n",
       "  <tbody>\n",
       "    <tr>\n",
       "      <th>0</th>\n",
       "      <td>2020-01-01</td>\n",
       "      <td>110.0</td>\n",
       "      <td>110.0</td>\n",
       "      <td>110.0</td>\n",
       "    </tr>\n",
       "    <tr>\n",
       "      <th>1</th>\n",
       "      <td>2020-01-02</td>\n",
       "      <td>NaN</td>\n",
       "      <td>110.0</td>\n",
       "      <td>113.0</td>\n",
       "    </tr>\n",
       "    <tr>\n",
       "      <th>2</th>\n",
       "      <td>2020-01-03</td>\n",
       "      <td>113.0</td>\n",
       "      <td>113.0</td>\n",
       "      <td>113.0</td>\n",
       "    </tr>\n",
       "    <tr>\n",
       "      <th>3</th>\n",
       "      <td>2020-01-04</td>\n",
       "      <td>112.0</td>\n",
       "      <td>112.0</td>\n",
       "      <td>112.0</td>\n",
       "    </tr>\n",
       "    <tr>\n",
       "      <th>4</th>\n",
       "      <td>2020-01-05</td>\n",
       "      <td>115.0</td>\n",
       "      <td>115.0</td>\n",
       "      <td>115.0</td>\n",
       "    </tr>\n",
       "    <tr>\n",
       "      <th>5</th>\n",
       "      <td>2020-01-06</td>\n",
       "      <td>118.0</td>\n",
       "      <td>118.0</td>\n",
       "      <td>118.0</td>\n",
       "    </tr>\n",
       "    <tr>\n",
       "      <th>6</th>\n",
       "      <td>2020-01-07</td>\n",
       "      <td>120.0</td>\n",
       "      <td>120.0</td>\n",
       "      <td>120.0</td>\n",
       "    </tr>\n",
       "    <tr>\n",
       "      <th>7</th>\n",
       "      <td>2020-01-08</td>\n",
       "      <td>NaN</td>\n",
       "      <td>120.0</td>\n",
       "      <td>118.0</td>\n",
       "    </tr>\n",
       "    <tr>\n",
       "      <th>8</th>\n",
       "      <td>2020-01-09</td>\n",
       "      <td>118.0</td>\n",
       "      <td>118.0</td>\n",
       "      <td>118.0</td>\n",
       "    </tr>\n",
       "    <tr>\n",
       "      <th>9</th>\n",
       "      <td>2020-01-10</td>\n",
       "      <td>116.0</td>\n",
       "      <td>116.0</td>\n",
       "      <td>116.0</td>\n",
       "    </tr>\n",
       "  </tbody>\n",
       "</table>\n",
       "</div>"
      ],
      "text/plain": [
       "        date  price  forward  backward\n",
       "0 2020-01-01  110.0    110.0     110.0\n",
       "1 2020-01-02    NaN    110.0     113.0\n",
       "2 2020-01-03  113.0    113.0     113.0\n",
       "3 2020-01-04  112.0    112.0     112.0\n",
       "4 2020-01-05  115.0    115.0     115.0\n",
       "5 2020-01-06  118.0    118.0     118.0\n",
       "6 2020-01-07  120.0    120.0     120.0\n",
       "7 2020-01-08    NaN    120.0     118.0\n",
       "8 2020-01-09  118.0    118.0     118.0\n",
       "9 2020-01-10  116.0    116.0     116.0"
      ]
     },
     "execution_count": 5,
     "metadata": {},
     "output_type": "execute_result"
    }
   ],
   "source": [
    "forward = dfPrice.price.fillna(method='ffill')\n",
    "backward = dfPrice.price.fillna(method='bfill')\n",
    "dfPrice.assign(forward=forward, backward=backward)"
   ]
  },
  {
   "cell_type": "markdown",
   "metadata": {},
   "source": [
    "### Linear interpolating\n",
    "This is a family of interpolation, where the simplest strategy is:\n",
    "\n",
    "$$s_t\\leftarrow \\frac{s_{t-1}+s_{t+1}}{2}$$"
   ]
  },
  {
   "cell_type": "code",
   "execution_count": 20,
   "metadata": {},
   "outputs": [
    {
     "data": {
      "text/html": [
       "<div>\n",
       "<style scoped>\n",
       "    .dataframe tbody tr th:only-of-type {\n",
       "        vertical-align: middle;\n",
       "    }\n",
       "\n",
       "    .dataframe tbody tr th {\n",
       "        vertical-align: top;\n",
       "    }\n",
       "\n",
       "    .dataframe thead th {\n",
       "        text-align: right;\n",
       "    }\n",
       "</style>\n",
       "<table border=\"1\" class=\"dataframe\">\n",
       "  <thead>\n",
       "    <tr style=\"text-align: right;\">\n",
       "      <th></th>\n",
       "      <th>date</th>\n",
       "      <th>price</th>\n",
       "    </tr>\n",
       "  </thead>\n",
       "  <tbody>\n",
       "    <tr>\n",
       "      <th>0</th>\n",
       "      <td>2020-01-01</td>\n",
       "      <td>110.0</td>\n",
       "    </tr>\n",
       "    <tr>\n",
       "      <th>1</th>\n",
       "      <td>2020-01-02</td>\n",
       "      <td>111.5</td>\n",
       "    </tr>\n",
       "    <tr>\n",
       "      <th>2</th>\n",
       "      <td>2020-01-03</td>\n",
       "      <td>113.0</td>\n",
       "    </tr>\n",
       "    <tr>\n",
       "      <th>3</th>\n",
       "      <td>2020-01-04</td>\n",
       "      <td>112.0</td>\n",
       "    </tr>\n",
       "    <tr>\n",
       "      <th>4</th>\n",
       "      <td>2020-01-05</td>\n",
       "      <td>115.0</td>\n",
       "    </tr>\n",
       "    <tr>\n",
       "      <th>5</th>\n",
       "      <td>2020-01-06</td>\n",
       "      <td>118.0</td>\n",
       "    </tr>\n",
       "    <tr>\n",
       "      <th>6</th>\n",
       "      <td>2020-01-07</td>\n",
       "      <td>120.0</td>\n",
       "    </tr>\n",
       "    <tr>\n",
       "      <th>7</th>\n",
       "      <td>2020-01-08</td>\n",
       "      <td>119.0</td>\n",
       "    </tr>\n",
       "    <tr>\n",
       "      <th>8</th>\n",
       "      <td>2020-01-09</td>\n",
       "      <td>118.0</td>\n",
       "    </tr>\n",
       "    <tr>\n",
       "      <th>9</th>\n",
       "      <td>2020-01-10</td>\n",
       "      <td>116.0</td>\n",
       "    </tr>\n",
       "  </tbody>\n",
       "</table>\n",
       "</div>"
      ],
      "text/plain": [
       "        date  price\n",
       "0 2020-01-01  110.0\n",
       "1 2020-01-02  111.5\n",
       "2 2020-01-03  113.0\n",
       "3 2020-01-04  112.0\n",
       "4 2020-01-05  115.0\n",
       "5 2020-01-06  118.0\n",
       "6 2020-01-07  120.0\n",
       "7 2020-01-08  119.0\n",
       "8 2020-01-09  118.0\n",
       "9 2020-01-10  116.0"
      ]
     },
     "execution_count": 20,
     "metadata": {},
     "output_type": "execute_result"
    }
   ],
   "source": [
    "filled_values = dfPrice.price.interpolate(method='linear')\n",
    "dfPrice.assign(price=filled_values)"
   ]
  },
  {
   "cell_type": "markdown",
   "metadata": {},
   "source": [
    "## 1.3. Time series calculation"
   ]
  },
  {
   "cell_type": "code",
   "execution_count": 21,
   "metadata": {},
   "outputs": [],
   "source": [
    "import pandas as pd\n",
    "import numpy as np"
   ]
  },
  {
   "cell_type": "markdown",
   "metadata": {},
   "source": [
    "### Cumulative sum\n",
    "[Cumulative sum](https://en.wikipedia.org/wiki/Running_total) is the discrete version of [antiderivative](https://en.wikipedia.org/wiki/Antiderivative), the transformed series $\\mathbf{s}'$ satisfies:\n",
    "\n",
    "$$s'_t=s_1+s_2+\\dots+s_t$$"
   ]
  },
  {
   "cell_type": "code",
   "execution_count": 22,
   "metadata": {},
   "outputs": [
    {
     "data": {
      "text/html": [
       "<div>\n",
       "<style scoped>\n",
       "    .dataframe tbody tr th:only-of-type {\n",
       "        vertical-align: middle;\n",
       "    }\n",
       "\n",
       "    .dataframe tbody tr th {\n",
       "        vertical-align: top;\n",
       "    }\n",
       "\n",
       "    .dataframe thead th {\n",
       "        text-align: right;\n",
       "    }\n",
       "</style>\n",
       "<table border=\"1\" class=\"dataframe\">\n",
       "  <thead>\n",
       "    <tr style=\"text-align: right;\">\n",
       "      <th></th>\n",
       "      <th>date</th>\n",
       "      <th>quantity</th>\n",
       "      <th>quantity_cumulative</th>\n",
       "    </tr>\n",
       "  </thead>\n",
       "  <tbody>\n",
       "    <tr>\n",
       "      <th>0</th>\n",
       "      <td>2000-01-01</td>\n",
       "      <td>10</td>\n",
       "      <td>10</td>\n",
       "    </tr>\n",
       "    <tr>\n",
       "      <th>1</th>\n",
       "      <td>2000-01-02</td>\n",
       "      <td>13</td>\n",
       "      <td>23</td>\n",
       "    </tr>\n",
       "    <tr>\n",
       "      <th>2</th>\n",
       "      <td>2000-01-03</td>\n",
       "      <td>11</td>\n",
       "      <td>34</td>\n",
       "    </tr>\n",
       "    <tr>\n",
       "      <th>3</th>\n",
       "      <td>2000-01-04</td>\n",
       "      <td>12</td>\n",
       "      <td>46</td>\n",
       "    </tr>\n",
       "    <tr>\n",
       "      <th>4</th>\n",
       "      <td>2000-01-05</td>\n",
       "      <td>8</td>\n",
       "      <td>54</td>\n",
       "    </tr>\n",
       "    <tr>\n",
       "      <th>5</th>\n",
       "      <td>2000-01-06</td>\n",
       "      <td>9</td>\n",
       "      <td>63</td>\n",
       "    </tr>\n",
       "    <tr>\n",
       "      <th>6</th>\n",
       "      <td>2000-01-07</td>\n",
       "      <td>9</td>\n",
       "      <td>72</td>\n",
       "    </tr>\n",
       "    <tr>\n",
       "      <th>7</th>\n",
       "      <td>2000-01-08</td>\n",
       "      <td>11</td>\n",
       "      <td>83</td>\n",
       "    </tr>\n",
       "    <tr>\n",
       "      <th>8</th>\n",
       "      <td>2000-01-09</td>\n",
       "      <td>10</td>\n",
       "      <td>93</td>\n",
       "    </tr>\n",
       "    <tr>\n",
       "      <th>9</th>\n",
       "      <td>2000-01-10</td>\n",
       "      <td>11</td>\n",
       "      <td>104</td>\n",
       "    </tr>\n",
       "    <tr>\n",
       "      <th>10</th>\n",
       "      <td>2000-01-11</td>\n",
       "      <td>13</td>\n",
       "      <td>117</td>\n",
       "    </tr>\n",
       "    <tr>\n",
       "      <th>11</th>\n",
       "      <td>2000-01-12</td>\n",
       "      <td>14</td>\n",
       "      <td>131</td>\n",
       "    </tr>\n",
       "  </tbody>\n",
       "</table>\n",
       "</div>"
      ],
      "text/plain": [
       "         date  quantity  quantity_cumulative\n",
       "0  2000-01-01        10                   10\n",
       "1  2000-01-02        13                   23\n",
       "2  2000-01-03        11                   34\n",
       "3  2000-01-04        12                   46\n",
       "4  2000-01-05         8                   54\n",
       "5  2000-01-06         9                   63\n",
       "6  2000-01-07         9                   72\n",
       "7  2000-01-08        11                   83\n",
       "8  2000-01-09        10                   93\n",
       "9  2000-01-10        11                  104\n",
       "10 2000-01-11        13                  117\n",
       "11 2000-01-12        14                  131"
      ]
     },
     "execution_count": 22,
     "metadata": {},
     "output_type": "execute_result"
    }
   ],
   "source": [
    "dfPurchase = pd.DataFrame({\n",
    "    'date': pd.date_range(start='1/1/2000', periods=12),\n",
    "    'quantity': [10, 13, 11, 12, 8, 9, 9, 11, 10, 11, 13, 14]\n",
    "})\n",
    "\n",
    "dfPurchase['quantity_cumulative'] = dfPurchase.quantity.cumsum()\n",
    "dfPurchase"
   ]
  },
  {
   "cell_type": "markdown",
   "metadata": {},
   "source": [
    "### Differencing\n",
    "[Differencing](https://en.wikipedia.org/wiki/Autoregressive_integrated_moving_average#Differencing) is the discrete version of [derivative](https://en.wikipedia.org/wiki/Derivative), in which the transformed series $\\mathbf{x}'$ is given by:\n",
    "\n",
    "$$s_t'=s_t-s_{t-1}$$"
   ]
  },
  {
   "cell_type": "code",
   "execution_count": 6,
   "metadata": {
    "execution": {
     "iopub.execute_input": "2022-05-20T16:29:50.424072Z",
     "iopub.status.busy": "2022-05-20T16:29:50.423203Z",
     "iopub.status.idle": "2022-05-20T16:29:50.428481Z",
     "shell.execute_reply": "2022-05-20T16:29:50.427319Z",
     "shell.execute_reply.started": "2022-05-20T16:29:50.424016Z"
    },
    "tags": []
   },
   "outputs": [],
   "source": [
    "import numpy as np\n",
    "import pandas as pd"
   ]
  },
  {
   "cell_type": "code",
   "execution_count": 7,
   "metadata": {
    "execution": {
     "iopub.execute_input": "2022-05-22T06:35:26.787797Z",
     "iopub.status.busy": "2022-05-22T06:35:26.787494Z",
     "iopub.status.idle": "2022-05-22T06:35:26.799355Z",
     "shell.execute_reply": "2022-05-22T06:35:26.798472Z",
     "shell.execute_reply.started": "2022-05-22T06:35:26.787777Z"
    },
    "tags": []
   },
   "outputs": [
    {
     "data": {
      "text/html": [
       "<div>\n",
       "<style scoped>\n",
       "    .dataframe tbody tr th:only-of-type {\n",
       "        vertical-align: middle;\n",
       "    }\n",
       "\n",
       "    .dataframe tbody tr th {\n",
       "        vertical-align: top;\n",
       "    }\n",
       "\n",
       "    .dataframe thead th {\n",
       "        text-align: right;\n",
       "    }\n",
       "</style>\n",
       "<table border=\"1\" class=\"dataframe\">\n",
       "  <thead>\n",
       "    <tr style=\"text-align: right;\">\n",
       "      <th></th>\n",
       "      <th>date</th>\n",
       "      <th>quantity</th>\n",
       "      <th>quantity_difference</th>\n",
       "    </tr>\n",
       "  </thead>\n",
       "  <tbody>\n",
       "    <tr>\n",
       "      <th>0</th>\n",
       "      <td>2000-01-01</td>\n",
       "      <td>10</td>\n",
       "      <td>NaN</td>\n",
       "    </tr>\n",
       "    <tr>\n",
       "      <th>1</th>\n",
       "      <td>2000-01-02</td>\n",
       "      <td>13</td>\n",
       "      <td>NaN</td>\n",
       "    </tr>\n",
       "    <tr>\n",
       "      <th>2</th>\n",
       "      <td>2000-01-03</td>\n",
       "      <td>11</td>\n",
       "      <td>1.0</td>\n",
       "    </tr>\n",
       "    <tr>\n",
       "      <th>3</th>\n",
       "      <td>2000-01-04</td>\n",
       "      <td>12</td>\n",
       "      <td>-1.0</td>\n",
       "    </tr>\n",
       "    <tr>\n",
       "      <th>4</th>\n",
       "      <td>2000-01-05</td>\n",
       "      <td>8</td>\n",
       "      <td>-3.0</td>\n",
       "    </tr>\n",
       "    <tr>\n",
       "      <th>5</th>\n",
       "      <td>2000-01-06</td>\n",
       "      <td>9</td>\n",
       "      <td>-3.0</td>\n",
       "    </tr>\n",
       "    <tr>\n",
       "      <th>6</th>\n",
       "      <td>2000-01-07</td>\n",
       "      <td>9</td>\n",
       "      <td>1.0</td>\n",
       "    </tr>\n",
       "    <tr>\n",
       "      <th>7</th>\n",
       "      <td>2000-01-08</td>\n",
       "      <td>11</td>\n",
       "      <td>2.0</td>\n",
       "    </tr>\n",
       "    <tr>\n",
       "      <th>8</th>\n",
       "      <td>2000-01-09</td>\n",
       "      <td>10</td>\n",
       "      <td>1.0</td>\n",
       "    </tr>\n",
       "    <tr>\n",
       "      <th>9</th>\n",
       "      <td>2000-01-10</td>\n",
       "      <td>11</td>\n",
       "      <td>0.0</td>\n",
       "    </tr>\n",
       "  </tbody>\n",
       "</table>\n",
       "</div>"
      ],
      "text/plain": [
       "        date  quantity  quantity_difference\n",
       "0 2000-01-01        10                  NaN\n",
       "1 2000-01-02        13                  NaN\n",
       "2 2000-01-03        11                  1.0\n",
       "3 2000-01-04        12                 -1.0\n",
       "4 2000-01-05         8                 -3.0\n",
       "5 2000-01-06         9                 -3.0\n",
       "6 2000-01-07         9                  1.0\n",
       "7 2000-01-08        11                  2.0\n",
       "8 2000-01-09        10                  1.0\n",
       "9 2000-01-10        11                  0.0"
      ]
     },
     "execution_count": 7,
     "metadata": {},
     "output_type": "execute_result"
    }
   ],
   "source": [
    "dfPurchase = pd.DataFrame({\n",
    "    'date': pd.date_range(start='1/1/2000', periods=12),\n",
    "    'quantity': [10, 13, 11, 12, 8, 9, 9, 11, 10, 11, 13, 14]\n",
    "})\n",
    "\n",
    "dfPurchase['quantity_difference'] = dfPurchase.quantity.diff(periods=2)\n",
    "dfPurchase.head(10)"
   ]
  },
  {
   "cell_type": "markdown",
   "metadata": {},
   "source": [
    "### Moving average\n",
    "Given a series (which has $N$ observations), [moving average](https://en.wikipedia.org/wiki/Moving_average) or rolling mean calculate the average of each pre-selected size window. A window of size $K$ (which implies the order of moving average) means $K$ consecutive values is taken into calculating the mean. Rolling mean is used on time series data to smooth the short-term fluctuations and highlight long-term trends and cycles. Some examples of commonly used values of $K$:\n",
    "- For a date series, $K=7$ (weekly) or $K=30$ (monthly).\n",
    "- For a month series, $K=4$ (quarterly) or $K=12$ (annual)."
   ]
  },
  {
   "cell_type": "code",
   "execution_count": 1,
   "metadata": {
    "execution": {
     "iopub.execute_input": "2022-05-22T03:18:23.357707Z",
     "iopub.status.busy": "2022-05-22T03:18:23.357303Z",
     "iopub.status.idle": "2022-05-22T03:18:24.634078Z",
     "shell.execute_reply": "2022-05-22T03:18:24.633199Z",
     "shell.execute_reply.started": "2022-05-22T03:18:23.357631Z"
    },
    "tags": []
   },
   "outputs": [],
   "source": [
    "import numpy as np\n",
    "import pandas as pd"
   ]
  },
  {
   "cell_type": "code",
   "execution_count": 3,
   "metadata": {
    "execution": {
     "iopub.execute_input": "2022-05-22T03:18:49.637723Z",
     "iopub.status.busy": "2022-05-22T03:18:49.637412Z",
     "iopub.status.idle": "2022-05-22T03:18:49.650377Z",
     "shell.execute_reply": "2022-05-22T03:18:49.649449Z",
     "shell.execute_reply.started": "2022-05-22T03:18:49.637701Z"
    },
    "tags": []
   },
   "outputs": [
    {
     "data": {
      "text/html": [
       "<div>\n",
       "<style scoped>\n",
       "    .dataframe tbody tr th:only-of-type {\n",
       "        vertical-align: middle;\n",
       "    }\n",
       "\n",
       "    .dataframe tbody tr th {\n",
       "        vertical-align: top;\n",
       "    }\n",
       "\n",
       "    .dataframe thead th {\n",
       "        text-align: right;\n",
       "    }\n",
       "</style>\n",
       "<table border=\"1\" class=\"dataframe\">\n",
       "  <thead>\n",
       "    <tr style=\"text-align: right;\">\n",
       "      <th></th>\n",
       "      <th>date</th>\n",
       "      <th>rate</th>\n",
       "      <th>rate_smooth</th>\n",
       "    </tr>\n",
       "  </thead>\n",
       "  <tbody>\n",
       "    <tr>\n",
       "      <th>0</th>\n",
       "      <td>2020-02-28</td>\n",
       "      <td>23241.0</td>\n",
       "      <td>NaN</td>\n",
       "    </tr>\n",
       "    <tr>\n",
       "      <th>1</th>\n",
       "      <td>2020-02-27</td>\n",
       "      <td>23241.5</td>\n",
       "      <td>NaN</td>\n",
       "    </tr>\n",
       "    <tr>\n",
       "      <th>2</th>\n",
       "      <td>2020-02-26</td>\n",
       "      <td>23241.0</td>\n",
       "      <td>NaN</td>\n",
       "    </tr>\n",
       "    <tr>\n",
       "      <th>3</th>\n",
       "      <td>2020-02-25</td>\n",
       "      <td>23271.0</td>\n",
       "      <td>23246.285714</td>\n",
       "    </tr>\n",
       "    <tr>\n",
       "      <th>4</th>\n",
       "      <td>2020-02-24</td>\n",
       "      <td>23248.5</td>\n",
       "      <td>23244.428571</td>\n",
       "    </tr>\n",
       "    <tr>\n",
       "      <th>5</th>\n",
       "      <td>2020-02-23</td>\n",
       "      <td>23243.5</td>\n",
       "      <td>23244.714286</td>\n",
       "    </tr>\n",
       "    <tr>\n",
       "      <th>6</th>\n",
       "      <td>2020-02-22</td>\n",
       "      <td>23237.5</td>\n",
       "      <td>23243.071429</td>\n",
       "    </tr>\n",
       "    <tr>\n",
       "      <th>7</th>\n",
       "      <td>2020-02-21</td>\n",
       "      <td>23228.0</td>\n",
       "      <td>23239.500000</td>\n",
       "    </tr>\n",
       "    <tr>\n",
       "      <th>8</th>\n",
       "      <td>2020-02-20</td>\n",
       "      <td>23243.5</td>\n",
       "      <td>23238.285714</td>\n",
       "    </tr>\n",
       "    <tr>\n",
       "      <th>9</th>\n",
       "      <td>2020-02-19</td>\n",
       "      <td>23229.5</td>\n",
       "      <td>23239.928571</td>\n",
       "    </tr>\n",
       "  </tbody>\n",
       "</table>\n",
       "</div>"
      ],
      "text/plain": [
       "         date     rate   rate_smooth\n",
       "0  2020-02-28  23241.0           NaN\n",
       "1  2020-02-27  23241.5           NaN\n",
       "2  2020-02-26  23241.0           NaN\n",
       "3  2020-02-25  23271.0  23246.285714\n",
       "4  2020-02-24  23248.5  23244.428571\n",
       "5  2020-02-23  23243.5  23244.714286\n",
       "6  2020-02-22  23237.5  23243.071429\n",
       "7  2020-02-21  23228.0  23239.500000\n",
       "8  2020-02-20  23243.5  23238.285714\n",
       "9  2020-02-19  23229.5  23239.928571"
      ]
     },
     "execution_count": 3,
     "metadata": {},
     "output_type": "execute_result"
    }
   ],
   "source": [
    "dfRate = pd.read_csv('data/exchange_rate.csv')\n",
    "\n",
    "dfRate['rate_smooth'] = dfRate.rate.rolling(window=7, center=True).mean()\n",
    "dfRate.head(10)"
   ]
  },
  {
   "cell_type": "markdown",
   "metadata": {},
   "source": [
    "Notice that there will be $N-K+1$ rolling mean points and $K-1$ null values. Therefore, if $K$ is even, then the rolling mean cannot be centered. To avoid this problem, calculate the rolling mean once again with the order of 2."
   ]
  },
  {
   "cell_type": "code",
   "execution_count": 49,
   "metadata": {
    "execution": {
     "iopub.execute_input": "2022-05-22T09:50:51.104611Z",
     "iopub.status.busy": "2022-05-22T09:50:51.101511Z",
     "iopub.status.idle": "2022-05-22T09:50:51.164967Z",
     "shell.execute_reply": "2022-05-22T09:50:51.164033Z",
     "shell.execute_reply.started": "2022-05-22T09:50:51.104502Z"
    },
    "tags": []
   },
   "outputs": [
    {
     "data": {
      "text/html": [
       "<div>\n",
       "<style scoped>\n",
       "    .dataframe tbody tr th:only-of-type {\n",
       "        vertical-align: middle;\n",
       "    }\n",
       "\n",
       "    .dataframe tbody tr th {\n",
       "        vertical-align: top;\n",
       "    }\n",
       "\n",
       "    .dataframe thead th {\n",
       "        text-align: right;\n",
       "    }\n",
       "</style>\n",
       "<table border=\"1\" class=\"dataframe\">\n",
       "  <thead>\n",
       "    <tr style=\"text-align: right;\">\n",
       "      <th></th>\n",
       "      <th>date</th>\n",
       "      <th>rate</th>\n",
       "      <th>rate_smooth</th>\n",
       "    </tr>\n",
       "  </thead>\n",
       "  <tbody>\n",
       "    <tr>\n",
       "      <th>0</th>\n",
       "      <td>2020-02-28</td>\n",
       "      <td>23241.0</td>\n",
       "      <td>NaN</td>\n",
       "    </tr>\n",
       "    <tr>\n",
       "      <th>1</th>\n",
       "      <td>2020-02-27</td>\n",
       "      <td>23241.5</td>\n",
       "      <td>NaN</td>\n",
       "    </tr>\n",
       "    <tr>\n",
       "      <th>2</th>\n",
       "      <td>2020-02-26</td>\n",
       "      <td>23241.0</td>\n",
       "      <td>NaN</td>\n",
       "    </tr>\n",
       "    <tr>\n",
       "      <th>3</th>\n",
       "      <td>2020-02-25</td>\n",
       "      <td>23271.0</td>\n",
       "      <td>23247.458333</td>\n",
       "    </tr>\n",
       "    <tr>\n",
       "      <th>4</th>\n",
       "      <td>2020-02-24</td>\n",
       "      <td>23248.5</td>\n",
       "      <td>23246.041667</td>\n",
       "    </tr>\n",
       "    <tr>\n",
       "      <th>5</th>\n",
       "      <td>2020-02-23</td>\n",
       "      <td>23243.5</td>\n",
       "      <td>23245.125000</td>\n",
       "    </tr>\n",
       "    <tr>\n",
       "      <th>6</th>\n",
       "      <td>2020-02-22</td>\n",
       "      <td>23237.5</td>\n",
       "      <td>23241.875000</td>\n",
       "    </tr>\n",
       "    <tr>\n",
       "      <th>7</th>\n",
       "      <td>2020-02-21</td>\n",
       "      <td>23228.0</td>\n",
       "      <td>23238.208333</td>\n",
       "    </tr>\n",
       "    <tr>\n",
       "      <th>8</th>\n",
       "      <td>2020-02-20</td>\n",
       "      <td>23243.5</td>\n",
       "      <td>23237.708333</td>\n",
       "    </tr>\n",
       "    <tr>\n",
       "      <th>9</th>\n",
       "      <td>2020-02-19</td>\n",
       "      <td>23229.5</td>\n",
       "      <td>23238.875000</td>\n",
       "    </tr>\n",
       "  </tbody>\n",
       "</table>\n",
       "</div>"
      ],
      "text/plain": [
       "         date     rate   rate_smooth\n",
       "0  2020-02-28  23241.0           NaN\n",
       "1  2020-02-27  23241.5           NaN\n",
       "2  2020-02-26  23241.0           NaN\n",
       "3  2020-02-25  23271.0  23247.458333\n",
       "4  2020-02-24  23248.5  23246.041667\n",
       "5  2020-02-23  23243.5  23245.125000\n",
       "6  2020-02-22  23237.5  23241.875000\n",
       "7  2020-02-21  23228.0  23238.208333\n",
       "8  2020-02-20  23243.5  23237.708333\n",
       "9  2020-02-19  23229.5  23238.875000"
      ]
     },
     "execution_count": 49,
     "metadata": {},
     "output_type": "execute_result"
    }
   ],
   "source": [
    "dfRate = pd.read_csv('data/exchange_rate.csv')\n",
    "\n",
    "rate = dfRate.rate\n",
    "ma6 = rate.rolling(window=6, center=True).mean()\n",
    "ma6x2 = ma6.rolling(window=2).mean().shift(-1)\n",
    "\n",
    "dfRate['rate_smooth'] = ma6x2\n",
    "dfRate.head(10)"
   ]
  },
  {
   "cell_type": "markdown",
   "metadata": {},
   "source": [
    "### Growth rate\n",
    "The formula for growth rate is given by:\n",
    "\n",
    "$$r_t=\\frac{s_t-s_{t-1}}{s_{t-1}}$$"
   ]
  },
  {
   "cell_type": "code",
   "execution_count": 28,
   "metadata": {},
   "outputs": [],
   "source": [
    "import numpy as np\n",
    "import pandas as pd"
   ]
  },
  {
   "cell_type": "code",
   "execution_count": 29,
   "metadata": {},
   "outputs": [
    {
     "data": {
      "text/html": [
       "<div>\n",
       "<style scoped>\n",
       "    .dataframe tbody tr th:only-of-type {\n",
       "        vertical-align: middle;\n",
       "    }\n",
       "\n",
       "    .dataframe tbody tr th {\n",
       "        vertical-align: top;\n",
       "    }\n",
       "\n",
       "    .dataframe thead th {\n",
       "        text-align: right;\n",
       "    }\n",
       "</style>\n",
       "<table border=\"1\" class=\"dataframe\">\n",
       "  <thead>\n",
       "    <tr style=\"text-align: right;\">\n",
       "      <th></th>\n",
       "      <th>quarter</th>\n",
       "      <th>cost</th>\n",
       "      <th>growth_over_last_period</th>\n",
       "      <th>growth_over_same_period_last_year</th>\n",
       "    </tr>\n",
       "  </thead>\n",
       "  <tbody>\n",
       "    <tr>\n",
       "      <th>0</th>\n",
       "      <td>2017 Q1</td>\n",
       "      <td>111.63</td>\n",
       "      <td>nan%</td>\n",
       "      <td>nan%</td>\n",
       "    </tr>\n",
       "    <tr>\n",
       "      <th>1</th>\n",
       "      <td>2017 Q2</td>\n",
       "      <td>112.23</td>\n",
       "      <td>0.54%</td>\n",
       "      <td>nan%</td>\n",
       "    </tr>\n",
       "    <tr>\n",
       "      <th>2</th>\n",
       "      <td>2017 Q3</td>\n",
       "      <td>112.68</td>\n",
       "      <td>0.40%</td>\n",
       "      <td>nan%</td>\n",
       "    </tr>\n",
       "    <tr>\n",
       "      <th>3</th>\n",
       "      <td>2017 Q4</td>\n",
       "      <td>113.10</td>\n",
       "      <td>0.37%</td>\n",
       "      <td>nan%</td>\n",
       "    </tr>\n",
       "    <tr>\n",
       "      <th>4</th>\n",
       "      <td>2018 Q1</td>\n",
       "      <td>114.10</td>\n",
       "      <td>0.88%</td>\n",
       "      <td>2.21%</td>\n",
       "    </tr>\n",
       "    <tr>\n",
       "      <th>5</th>\n",
       "      <td>2018 Q2</td>\n",
       "      <td>115.28</td>\n",
       "      <td>1.03%</td>\n",
       "      <td>2.72%</td>\n",
       "    </tr>\n",
       "    <tr>\n",
       "      <th>6</th>\n",
       "      <td>2018 Q3</td>\n",
       "      <td>115.66</td>\n",
       "      <td>0.33%</td>\n",
       "      <td>2.64%</td>\n",
       "    </tr>\n",
       "    <tr>\n",
       "      <th>7</th>\n",
       "      <td>2018 Q4</td>\n",
       "      <td>115.59</td>\n",
       "      <td>-0.06%</td>\n",
       "      <td>2.20%</td>\n",
       "    </tr>\n",
       "    <tr>\n",
       "      <th>8</th>\n",
       "      <td>2019 Q1</td>\n",
       "      <td>115.98</td>\n",
       "      <td>0.34%</td>\n",
       "      <td>1.65%</td>\n",
       "    </tr>\n",
       "    <tr>\n",
       "      <th>9</th>\n",
       "      <td>2019 Q2</td>\n",
       "      <td>117.37</td>\n",
       "      <td>1.20%</td>\n",
       "      <td>1.81%</td>\n",
       "    </tr>\n",
       "    <tr>\n",
       "      <th>10</th>\n",
       "      <td>2019 Q3</td>\n",
       "      <td>117.69</td>\n",
       "      <td>0.27%</td>\n",
       "      <td>1.76%</td>\n",
       "    </tr>\n",
       "    <tr>\n",
       "      <th>11</th>\n",
       "      <td>2019 Q4</td>\n",
       "      <td>117.94</td>\n",
       "      <td>0.21%</td>\n",
       "      <td>2.03%</td>\n",
       "    </tr>\n",
       "  </tbody>\n",
       "</table>\n",
       "</div>"
      ],
      "text/plain": [
       "    quarter    cost growth_over_last_period growth_over_same_period_last_year\n",
       "0   2017 Q1  111.63                    nan%                              nan%\n",
       "1   2017 Q2  112.23                   0.54%                              nan%\n",
       "2   2017 Q3  112.68                   0.40%                              nan%\n",
       "3   2017 Q4  113.10                   0.37%                              nan%\n",
       "4   2018 Q1  114.10                   0.88%                             2.21%\n",
       "5   2018 Q2  115.28                   1.03%                             2.72%\n",
       "6   2018 Q3  115.66                   0.33%                             2.64%\n",
       "7   2018 Q4  115.59                  -0.06%                             2.20%\n",
       "8   2019 Q1  115.98                   0.34%                             1.65%\n",
       "9   2019 Q2  117.37                   1.20%                             1.81%\n",
       "10  2019 Q3  117.69                   0.27%                             1.76%\n",
       "11  2019 Q4  117.94                   0.21%                             2.03%"
      ]
     },
     "execution_count": 29,
     "metadata": {},
     "output_type": "execute_result"
    }
   ],
   "source": [
    "dfCpi = pd.DataFrame({\n",
    "    'quarter': [f'{year} Q{quarter}' for year in range(2017,2020) for quarter in range(1,5)],\n",
    "    'cost': [111.63, 112.23, 112.68, 113.10, 114.10, 115.28, 115.66, 115.59, 115.98, 117.37, 117.69, 117.94]\n",
    "})\n",
    "\n",
    "dfCpi['growth_over_last_period'] = dfCpi.cost.pct_change().map('{:.2%}'.format)\n",
    "dfCpi['growth_over_same_period_last_year'] = dfCpi.cost.pct_change(periods=4).map('{:.2%}'.format)\n",
    "dfCpi"
   ]
  },
  {
   "cell_type": "markdown",
   "metadata": {},
   "source": [
    "# 2. Time series analysis\n",
    "In this section, we discuss possible characteristics that can be observed from a [time series](https://en.wikipedia.org/wiki/Time_series):\n",
    "- *Trend*, the long-term change of data (increasing or decreasing) without looking at small fluctuations.\n",
    "- *Seasonality*, the pattern that repeats after a specific period.\n",
    "- *Cyclic*, very much like seasonality but the length of each cycle is not fixed.\n",
    "\n",
    "It's also important to introduce time series notations: $\\mathbf{s}=(s_1,s_2,\\dots,s_T)$ is for the entire series and $s_t\\,(t=1,2,\\dots,T)$ is an observation."
   ]
  },
  {
   "cell_type": "code",
   "execution_count": 2,
   "metadata": {
    "execution": {
     "iopub.execute_input": "2022-05-23T13:58:22.867500Z",
     "iopub.status.busy": "2022-05-23T13:58:22.867042Z",
     "iopub.status.idle": "2022-05-23T13:58:26.784010Z",
     "shell.execute_reply": "2022-05-23T13:58:26.783162Z",
     "shell.execute_reply.started": "2022-05-23T13:58:22.867468Z"
    },
    "tags": []
   },
   "outputs": [],
   "source": [
    "import numpy as np\n",
    "import pandas as pd\n",
    "import matplotlib.pyplot as plt\n",
    "import seaborn as sns\n",
    "import warnings\n",
    "import pmdarima as pm\n",
    "\n",
    "from statsmodels.tsa.stattools import adfuller\n",
    "from statsmodels.graphics.tsaplots import plot_acf, plot_pacf\n",
    "from statsmodels.tsa.seasonal import seasonal_decompose\n",
    "\n",
    "from statsmodels.tsa.arima_model import ARIMA\n",
    "from statsmodels.tsa.statespace.sarimax import SARIMAX\n",
    "from statsmodels.tsa.api import VAR, SVAR, VARMAX\n",
    "from statsmodels.tsa.holtwinters import ExponentialSmoothing as ES\n",
    "from prophet import Prophet\n",
    "\n",
    "plt.style.use(['seaborn', 'seaborn-whitegrid'])\n",
    "warnings.filterwarnings('ignore')\n",
    "%config InlineBackend.figure_format = 'retina'"
   ]
  },
  {
   "cell_type": "markdown",
   "metadata": {},
   "source": [
    "## 2.1. Auto correlation\n",
    "When identifying possible relationship between historical data and the current moment, there are two useful functions, each is plotted in a lollipop chart:\n",
    "- ACF (**A**uto-**C**orrelation **F**unction): plots the Pearson's correlation coefficients $\\rho_1,\\rho_2,\\dots$ of a series $\\mathbf{s}$ against each of its lagged versions. That is to say, $\\rho_1$ measures how $s_{t-1}$ affects $s_t$ and $\\rho_2$ measures the total effect of \n",
    "- PACF (**P**artial **ACF**): it plots the coefficients $w_1,w_2,\\dots$ of the OLS regression function $s_t=w_0+w_1s_{t-1}+w_2s_{t-2}+\\dots$ PACF describes the direct effect made by previous data, since the later effects has been captured by the corresponding coefficients.\n",
    "\n",
    "Both include a $95\\%$ confidence band indicating the correlation coefficient is not significant if it falls into that band."
   ]
  },
  {
   "cell_type": "code",
   "execution_count": 1,
   "metadata": {
    "execution": {
     "iopub.execute_input": "2022-06-05T13:43:51.658334Z",
     "iopub.status.busy": "2022-06-05T13:43:51.657997Z",
     "iopub.status.idle": "2022-06-05T13:43:54.021075Z",
     "shell.execute_reply": "2022-06-05T13:43:54.019948Z",
     "shell.execute_reply.started": "2022-06-05T13:43:51.658279Z"
    },
    "tags": []
   },
   "outputs": [],
   "source": [
    "import numpy as np\n",
    "import pandas as pd\n",
    "import matplotlib.pyplot as plt\n",
    "from statsmodels.graphics.tsaplots import plot_acf, plot_pacf\n",
    "\n",
    "plt.style.use(['seaborn', 'seaborn-whitegrid'])\n",
    "%config InlineBackend.figure_format = 'retina'"
   ]
  },
  {
   "cell_type": "code",
   "execution_count": 2,
   "metadata": {
    "execution": {
     "iopub.execute_input": "2022-06-05T13:44:15.332225Z",
     "iopub.status.busy": "2022-06-05T13:44:15.331658Z",
     "iopub.status.idle": "2022-06-05T13:44:15.789907Z",
     "shell.execute_reply": "2022-06-05T13:44:15.789236Z",
     "shell.execute_reply.started": "2022-06-05T13:44:15.332190Z"
    },
    "tags": []
   },
   "outputs": [
    {
     "data": {
      "text/html": [
       "<div>\n",
       "<style scoped>\n",
       "    .dataframe tbody tr th:only-of-type {\n",
       "        vertical-align: middle;\n",
       "    }\n",
       "\n",
       "    .dataframe tbody tr th {\n",
       "        vertical-align: top;\n",
       "    }\n",
       "\n",
       "    .dataframe thead th {\n",
       "        text-align: right;\n",
       "    }\n",
       "</style>\n",
       "<table border=\"1\" class=\"dataframe\">\n",
       "  <thead>\n",
       "    <tr style=\"text-align: right;\">\n",
       "      <th></th>\n",
       "      <th>quantity</th>\n",
       "      <th>date</th>\n",
       "    </tr>\n",
       "  </thead>\n",
       "  <tbody>\n",
       "    <tr>\n",
       "      <th>0</th>\n",
       "      <td>379.490001</td>\n",
       "      <td>2019-10-28</td>\n",
       "    </tr>\n",
       "    <tr>\n",
       "      <th>1</th>\n",
       "      <td>669.510001</td>\n",
       "      <td>2019-10-29</td>\n",
       "    </tr>\n",
       "    <tr>\n",
       "      <th>2</th>\n",
       "      <td>337.170001</td>\n",
       "      <td>2019-10-30</td>\n",
       "    </tr>\n",
       "    <tr>\n",
       "      <th>3</th>\n",
       "      <td>603.740001</td>\n",
       "      <td>2019-10-31</td>\n",
       "    </tr>\n",
       "    <tr>\n",
       "      <th>4</th>\n",
       "      <td>189.820001</td>\n",
       "      <td>2019-11-01</td>\n",
       "    </tr>\n",
       "  </tbody>\n",
       "</table>\n",
       "</div>"
      ],
      "text/plain": [
       "     quantity       date\n",
       "0  379.490001 2019-10-28\n",
       "1  669.510001 2019-10-29\n",
       "2  337.170001 2019-10-30\n",
       "3  603.740001 2019-10-31\n",
       "4  189.820001 2019-11-01"
      ]
     },
     "execution_count": 2,
     "metadata": {},
     "output_type": "execute_result"
    }
   ],
   "source": [
    "dfQuantity = pd.read_csv('data/purchase_quantity.csv')\n",
    "dfQuantity = dfQuantity.assign(date=dfQuantity.date.astype('datetime64'))\n",
    "dfQuantity['quantity'] = dfQuantity.quantity.fillna(1e-6) + 1e-6\n",
    "dfQuantity.head()"
   ]
  },
  {
   "cell_type": "code",
   "execution_count": 4,
   "metadata": {
    "execution": {
     "iopub.execute_input": "2022-05-23T13:58:27.838828Z",
     "iopub.status.busy": "2022-05-23T13:58:27.838485Z",
     "iopub.status.idle": "2022-05-23T13:58:28.136766Z",
     "shell.execute_reply": "2022-05-23T13:58:28.135928Z",
     "shell.execute_reply.started": "2022-05-23T13:58:27.838801Z"
    },
    "tags": []
   },
   "outputs": [
    {
     "data": {
      "image/png": "[encoded data removed]",
      "text/plain": [
       "<Figure size 1080x360 with 2 Axes>"
      ]
     },
     "metadata": {
      "image/png": {
       "height": 317,
       "width": 878
      }
     },
     "output_type": "display_data"
    }
   ],
   "source": [
    "df = dfQuantity.copy()\n",
    "df = df.set_index('date')\n",
    "\n",
    "fig, ax = plt.subplots(figsize=(15,5), ncols=2)\n",
    "plot_acf(df, ax=ax[0])\n",
    "plot_pacf(df, ax=ax[1])\n",
    "plt.show()"
   ]
  },
  {
   "cell_type": "markdown",
   "metadata": {},
   "source": [
    "## 2.2. Seasonal decomposition\n",
    "Time series decompostion is a statistical technique that factorizes data into three components: trend, residual and noise. There are two approaches to achieve this, using an additive model or a multiplicative model, where the original data equals to the sum or the product of its componennts."
   ]
  },
  {
   "cell_type": "code",
   "execution_count": 1,
   "metadata": {
    "execution": {
     "iopub.execute_input": "2022-05-27T00:43:53.566035Z",
     "iopub.status.busy": "2022-05-27T00:43:53.565434Z",
     "iopub.status.idle": "2022-05-27T00:43:55.902994Z",
     "shell.execute_reply": "2022-05-27T00:43:55.902335Z",
     "shell.execute_reply.started": "2022-05-27T00:43:53.565934Z"
    },
    "tags": []
   },
   "outputs": [],
   "source": [
    "import numpy as np\n",
    "import pandas as pd\n",
    "import matplotlib.pyplot as plt\n",
    "from statsmodels.tsa.seasonal import seasonal_decompose\n",
    "\n",
    "plt.style.use(['seaborn', 'seaborn-whitegrid'])\n",
    "%config InlineBackend.figure_format = 'retina'"
   ]
  },
  {
   "cell_type": "code",
   "execution_count": 2,
   "metadata": {
    "execution": {
     "iopub.execute_input": "2022-05-27T00:43:55.904619Z",
     "iopub.status.busy": "2022-05-27T00:43:55.904215Z",
     "iopub.status.idle": "2022-05-27T00:43:56.067000Z",
     "shell.execute_reply": "2022-05-27T00:43:56.066310Z",
     "shell.execute_reply.started": "2022-05-27T00:43:55.904592Z"
    },
    "tags": []
   },
   "outputs": [
    {
     "data": {
      "text/html": [
       "<div>\n",
       "<style scoped>\n",
       "    .dataframe tbody tr th:only-of-type {\n",
       "        vertical-align: middle;\n",
       "    }\n",
       "\n",
       "    .dataframe tbody tr th {\n",
       "        vertical-align: top;\n",
       "    }\n",
       "\n",
       "    .dataframe thead th {\n",
       "        text-align: right;\n",
       "    }\n",
       "</style>\n",
       "<table border=\"1\" class=\"dataframe\">\n",
       "  <thead>\n",
       "    <tr style=\"text-align: right;\">\n",
       "      <th></th>\n",
       "      <th>quantity</th>\n",
       "      <th>date</th>\n",
       "    </tr>\n",
       "  </thead>\n",
       "  <tbody>\n",
       "    <tr>\n",
       "      <th>0</th>\n",
       "      <td>379.490001</td>\n",
       "      <td>2019-10-28</td>\n",
       "    </tr>\n",
       "    <tr>\n",
       "      <th>1</th>\n",
       "      <td>669.510001</td>\n",
       "      <td>2019-10-29</td>\n",
       "    </tr>\n",
       "    <tr>\n",
       "      <th>2</th>\n",
       "      <td>337.170001</td>\n",
       "      <td>2019-10-30</td>\n",
       "    </tr>\n",
       "    <tr>\n",
       "      <th>3</th>\n",
       "      <td>603.740001</td>\n",
       "      <td>2019-10-31</td>\n",
       "    </tr>\n",
       "    <tr>\n",
       "      <th>4</th>\n",
       "      <td>189.820001</td>\n",
       "      <td>2019-11-01</td>\n",
       "    </tr>\n",
       "  </tbody>\n",
       "</table>\n",
       "</div>"
      ],
      "text/plain": [
       "     quantity       date\n",
       "0  379.490001 2019-10-28\n",
       "1  669.510001 2019-10-29\n",
       "2  337.170001 2019-10-30\n",
       "3  603.740001 2019-10-31\n",
       "4  189.820001 2019-11-01"
      ]
     },
     "execution_count": 2,
     "metadata": {},
     "output_type": "execute_result"
    }
   ],
   "source": [
    "dfQuantity = pd.read_csv('data/purchase_quantity.csv')\n",
    "dfQuantity = dfQuantity.assign(date=dfQuantity.date.astype('datetime64'))\n",
    "dfQuantity['quantity'] = dfQuantity.quantity.fillna(1e-6) + 1e-6\n",
    "dfQuantity.head()"
   ]
  },
  {
   "cell_type": "code",
   "execution_count": 3,
   "metadata": {
    "execution": {
     "iopub.execute_input": "2022-05-27T00:43:57.059118Z",
     "iopub.status.busy": "2022-05-27T00:43:57.058731Z",
     "iopub.status.idle": "2022-05-27T00:43:57.578427Z",
     "shell.execute_reply": "2022-05-27T00:43:57.577774Z",
     "shell.execute_reply.started": "2022-05-27T00:43:57.059091Z"
    },
    "tags": []
   },
   "outputs": [
    {
     "data": {
      "image/png": "[encoded data removed]",
      "text/plain": [
       "<Figure size 576x396 with 4 Axes>"
      ]
     },
     "metadata": {
      "image/png": {
       "height": 389,
       "width": 568
      }
     },
     "output_type": "display_data"
    }
   ],
   "source": [
    "df = dfQuantity.copy()\n",
    "df = df.set_index('date')\n",
    "decomposer = seasonal_decompose(df, model='additive', period=7)\n",
    "decomposer.plot()\n",
    "plt.show()"
   ]
  },
  {
   "cell_type": "code",
   "execution_count": 7,
   "metadata": {
    "execution": {
     "iopub.execute_input": "2022-05-27T00:44:32.902089Z",
     "iopub.status.busy": "2022-05-27T00:44:32.901738Z",
     "iopub.status.idle": "2022-05-27T00:44:32.908282Z",
     "shell.execute_reply": "2022-05-27T00:44:32.906843Z",
     "shell.execute_reply.started": "2022-05-27T00:44:32.902063Z"
    },
    "tags": []
   },
   "outputs": [
    {
     "data": {
      "text/plain": [
       "date\n",
       "2019-10-28    29.471737\n",
       "2019-10-29    13.227030\n",
       "2019-10-30    -8.377718\n",
       "2019-10-31    21.559084\n",
       "2019-11-01    13.299370\n",
       "2019-11-02     4.106962\n",
       "2019-11-03   -73.286467\n",
       "Name: seasonal, dtype: float64"
      ]
     },
     "execution_count": 7,
     "metadata": {},
     "output_type": "execute_result"
    }
   ],
   "source": [
    "decomposer.seasonal.head(7)"
   ]
  },
  {
   "cell_type": "markdown",
   "metadata": {},
   "source": [
    "## 2.3. Stationarity\n",
    "Stationarity refers to a time series whose characteristics do not depends on which time period it is observed. If a time series violates one of these conditions, it is considered non-stationary:\n",
    "- Constant mean at every timeframe\n",
    "- Constant variance at every timeframe\n",
    "- No seasonality\n",
    "\n",
    "To check whether a time series is stationary, we can look at its line chart. Let's plot some examples:\n",
    "\n",
    "<img src='image/stationary.png' style='height:500px; margin:20px auto 20px;'>\n",
    "\n",
    "- Series (d), (h), (i) have seasonality\n",
    "- Series (a), (c), (e), (f), (i) have trends, thus their means at different periods are not constants\n",
    "- Series (i) has increasing variance over time\n",
    "- Ruling out all violated series above leaves only (b) and (g) stationary"
   ]
  },
  {
   "cell_type": "markdown",
   "metadata": {},
   "source": [
    "### Dickey-Fuller test\n",
    "Instead of looking at charts, [Agumented Dickey-Fuller](https://en.wikipedia.org/wiki/Augmented_Dickey%E2%80%93Fuller_test) test can be used to decide if a series is stationary. The hypotheses:\n",
    "- $H_0$: data is non-stationary\n",
    "- $H_1$: data is stationary\n",
    "\n",
    "The decision making process is: if either p-value < significance level or test statistic < critical value, we reject $H_0$ and conclude that our data is stationary."
   ]
  },
  {
   "cell_type": "code",
   "execution_count": 1,
   "metadata": {
    "execution": {
     "iopub.execute_input": "2022-05-29T06:22:31.827496Z",
     "iopub.status.busy": "2022-05-29T06:22:31.825939Z",
     "iopub.status.idle": "2022-05-29T06:22:34.265694Z",
     "shell.execute_reply": "2022-05-29T06:22:34.264958Z",
     "shell.execute_reply.started": "2022-05-29T06:22:31.827148Z"
    },
    "tags": []
   },
   "outputs": [],
   "source": [
    "import numpy as np\n",
    "import pandas as pd\n",
    "import matplotlib.pyplot as plt\n",
    "from statsmodels.tsa.seasonal import seasonal_decompose\n",
    "\n",
    "plt.style.use(['seaborn', 'seaborn-whitegrid'])\n",
    "%config InlineBackend.figure_format = 'retina'"
   ]
  },
  {
   "cell_type": "code",
   "execution_count": 7,
   "metadata": {
    "execution": {
     "iopub.execute_input": "2022-05-29T08:34:04.587561Z",
     "iopub.status.busy": "2022-05-29T08:34:04.587225Z",
     "iopub.status.idle": "2022-05-29T08:34:04.599771Z",
     "shell.execute_reply": "2022-05-29T08:34:04.599087Z",
     "shell.execute_reply.started": "2022-05-29T08:34:04.587537Z"
    },
    "tags": []
   },
   "outputs": [],
   "source": [
    "dfQuantity = pd.read_csv('data/purchase_quantity.csv')\n",
    "dfQuantity = dfQuantity.assign(date=dfQuantity.date.astype('datetime64'))\n",
    "dfQuantity['quantity'] = dfQuantity.quantity.fillna(1e-6) + 1e-6\n",
    "quantity = dfQuantity.set_index('date')"
   ]
  },
  {
   "cell_type": "code",
   "execution_count": 5,
   "metadata": {
    "execution": {
     "iopub.execute_input": "2022-05-29T08:33:32.684728Z",
     "iopub.status.busy": "2022-05-29T08:33:32.684274Z",
     "iopub.status.idle": "2022-05-29T08:33:32.689827Z",
     "shell.execute_reply": "2022-05-29T08:33:32.688970Z",
     "shell.execute_reply.started": "2022-05-29T08:33:32.684690Z"
    },
    "tags": []
   },
   "outputs": [],
   "source": [
    "def StationaryTest(s):\n",
    "    from statsmodels.tsa.stattools import adfuller\n",
    "    stat, pval, _, _, crits, _ = adfuller(s, regression='nc')\n",
    "    result = pval < 0.05\n",
    "    \n",
    "    conclusion = 'stationary' if result else 'non-stationary'\n",
    "    sign = '<' if result else '>'\n",
    "    \n",
    "    mess = f'p-value={pval:6f} {sign} 0.05 | data is {conclusion}'\n",
    "    print(mess)"
   ]
  },
  {
   "cell_type": "code",
   "execution_count": null,
   "metadata": {
    "execution": {
     "iopub.execute_input": "2022-05-29T08:34:21.478290Z",
     "iopub.status.busy": "2022-05-29T08:34:21.477961Z",
     "iopub.status.idle": "2022-05-29T08:34:21.496052Z",
     "shell.execute_reply": "2022-05-29T08:34:21.495110Z",
     "shell.execute_reply.started": "2022-05-29T08:34:21.478267Z"
    },
    "tags": []
   },
   "outputs": [
    {
     "name": "stdout",
     "output_type": "stream",
     "text": [
      "p-value=0.157594 > 0.05 | data is non-stationary\n"
     ]
    }
   ],
   "source": [
    "StationaryTest(quantity)"
   ]
  },
  {
   "cell_type": "code",
   "execution_count": null,
   "metadata": {
    "execution": {
     "iopub.execute_input": "2022-05-29T08:35:07.005232Z",
     "iopub.status.busy": "2022-05-29T08:35:07.004917Z",
     "iopub.status.idle": "2022-05-29T08:35:07.021333Z",
     "shell.execute_reply": "2022-05-29T08:35:07.020640Z",
     "shell.execute_reply.started": "2022-05-29T08:35:07.005208Z"
    },
    "tags": []
   },
   "outputs": [
    {
     "name": "stdout",
     "output_type": "stream",
     "text": [
      "p-value=0.000130 < 0.05 | data is stationary\n"
     ]
    }
   ],
   "source": [
    "StationaryTest(np.log(quantity))"
   ]
  },
  {
   "cell_type": "code",
   "execution_count": null,
   "metadata": {
    "execution": {
     "iopub.execute_input": "2022-05-29T08:34:43.393227Z",
     "iopub.status.busy": "2022-05-29T08:34:43.392857Z",
     "iopub.status.idle": "2022-05-29T08:34:43.411758Z",
     "shell.execute_reply": "2022-05-29T08:34:43.410786Z",
     "shell.execute_reply.started": "2022-05-29T08:34:43.393201Z"
    },
    "tags": []
   },
   "outputs": [
    {
     "name": "stdout",
     "output_type": "stream",
     "text": [
      "p-value=0.000000 < 0.05 | data is stationary\n"
     ]
    }
   ],
   "source": [
    "StationaryTest(quantity.diff(periods=1)[1:])"
   ]
  },
  {
   "cell_type": "markdown",
   "metadata": {},
   "source": [
    "### Differencing estimation"
   ]
  },
  {
   "cell_type": "code",
   "execution_count": 5,
   "metadata": {
    "execution": {
     "iopub.execute_input": "2022-06-07T10:13:15.280276Z",
     "iopub.status.busy": "2022-06-07T10:13:15.279835Z",
     "iopub.status.idle": "2022-06-07T10:13:15.283919Z",
     "shell.execute_reply": "2022-06-07T10:13:15.282743Z",
     "shell.execute_reply.started": "2022-06-07T10:13:15.280243Z"
    },
    "tags": []
   },
   "outputs": [],
   "source": [
    "import numpy as np\n",
    "import pandas as pd\n",
    "from pmdarima.arima import ndiffs"
   ]
  },
  {
   "cell_type": "code",
   "execution_count": 4,
   "metadata": {
    "execution": {
     "iopub.execute_input": "2022-06-07T10:12:44.577737Z",
     "iopub.status.busy": "2022-06-07T10:12:44.577397Z",
     "iopub.status.idle": "2022-06-07T10:12:44.618403Z",
     "shell.execute_reply": "2022-06-07T10:12:44.617389Z",
     "shell.execute_reply.started": "2022-06-07T10:12:44.577715Z"
    },
    "tags": []
   },
   "outputs": [],
   "source": [
    "dfQuantity = pd.read_csv('data/purchase_quantity.csv')\n",
    "dfQuantity = dfQuantity.assign(date=dfQuantity.date.astype('datetime64'))\n",
    "dfQuantity['quantity'] = dfQuantity.quantity.fillna(1e-6) + 1e-6\n",
    "quantity = dfQuantity.set_index('date')"
   ]
  },
  {
   "cell_type": "code",
   "execution_count": 10,
   "metadata": {
    "execution": {
     "iopub.execute_input": "2022-06-07T10:14:36.568559Z",
     "iopub.status.busy": "2022-06-07T10:14:36.568211Z",
     "iopub.status.idle": "2022-06-07T10:14:36.576407Z",
     "shell.execute_reply": "2022-06-07T10:14:36.575572Z",
     "shell.execute_reply.started": "2022-06-07T10:14:36.568537Z"
    },
    "tags": []
   },
   "outputs": [
    {
     "data": {
      "text/plain": [
       "1"
      ]
     },
     "execution_count": 10,
     "metadata": {},
     "output_type": "execute_result"
    }
   ],
   "source": [
    "ndiffs(quantity, test='kpss') # other test: adf, pp"
   ]
  },
  {
   "cell_type": "markdown",
   "metadata": {},
   "source": [
    "## 2.4. Backshift notation\n",
    "Now we have walked through all important time series transformations: shifting, differencing and summing, let's introduce the *backshift* notation $B$ (defined as $Bs_t=s_{t-1}$). We are going to use $B$ to describe different transformation of a simple series $s_t=(10,12,15,16,20)$.\n",
    "\n",
    "*Shifting*\n",
    "- By definition, $Bs_t=s_{t-1}=(\\emptyset,10,12,15,16)$\n",
    "- $B^2s_t=B(Bs_t)=Bs_{t-1}=s_{t-2}=(\\emptyset,\\emptyset,10,12,15)$ represents 2-step lagged series\n",
    "- $B^ks_t=s_{t-k}$ represents $k$-step lagged series\n",
    "\n",
    "*Differencing*\n",
    "- $(1-B)s_t=s_t-Bs_t=(\\emptyset,2,3,1,4)$ represents 1-order differenced series\n",
    "- $(1-B)^2s_t=(s_t-Bs_t)-B(s_t-Bs_t)=(\\emptyset,\\emptyset,1,-2,3)$ represents 2-order differenced series\n",
    "- $(1-B)^ks_t$ represents $k$-order differenced series\n",
    "\n",
    "*Cumulative sum*\n",
    "- Denotes $u_t=(10,22,37,53,73)$ the cumulative sum, then $(1-B)u_t=(\\emptyset,12,15,16,20)=s_t$\n",
    "- Rewriting the above equation give us $(1-B)^{-1}s_t$ the representation of cumulative sum, can also be thought as the inverse of differencing"
   ]
  },
  {
   "cell_type": "markdown",
   "metadata": {},
   "source": [
    "# 3. ARIMA\n",
    "[ARIMA](https://en.wikipedia.org/wiki/Autoregressive_integrated_moving_average) (**A**uto**R**egressive **I**ntegrated **M**oving **A**verage) is an statistical model aiming to demonstrate the auto-correlations in time series data. The term *auto* means we are examining the relationship between our series with historical versions of itself (lagged series)."
   ]
  },
  {
   "cell_type": "markdown",
   "metadata": {},
   "source": [
    "## 3.1. ARIMA function\n",
    "In a nutshell, ARIMA is a combination of 3 separated processes:\n",
    "\n",
    "- Integration, $\\text{I}(d)$. In this process, the model keeps differencing a time series until it's stationary. The parameter $d$ is the order of differencing and is determined using ADF test. The term *integration* shares the same meaning as summing, which implies the reverse of differencing.\n",
    "\n",
    "- Auto-Regressive, $\\text{AR}(p)$. In this process, we perform a linear regression model where input variables are lagged versions of our data. The parameter $p$ indicates the maximum lag degree and is determined using PACF chart: when a coefficient suddenly drops to 0, then the corresponding lag is a possible value for $p$. The $\\text{AR}(p)$ function is:\n",
    "\n",
    "$$\\begin{align}\n",
    "\\hat{s}_t\n",
    "&= c+\\phi_1s_{t-1}+\\phi_2s_{t-2}+\\dots+\\phi_ps_{t-p} \\\\\n",
    "&= c+(\\phi_1B+\\phi_2B^2+\\dots+\\phi_pB^p)s_t \\\\\n",
    "\\end{align}$$\n",
    "\n",
    "- Moving Average model, $\\text{MA}(q)$. It models our time series as a linear combination of past error (denoted $\\epsilon$, where $\\epsilon_{t-k}=s_{t-k}-\\phi s_{t-k-1}$). The parameter $q$ indicates the maximum lag degree and is determined using ACF chart, in a similar decision-making process as for $p$. The $\\text{MA}(q)$ functions is:\n",
    "\n",
    "$$\\begin{align}\n",
    "\\hat{s}_t\n",
    "&= c+\\theta_1\\epsilon_{t-1}+\\theta_2\\epsilon_{t-2}+\\dots+\\theta_q\\epsilon_{t-q} \\\\\n",
    "&= c+(\\theta_1B+\\theta_2B^2+\\dots+\\theta_qB^q)\\epsilon_t \\\\\n",
    "\\end{align}$$\n",
    "\n",
    "The entire model $\\text{ARIMA}(p,d,q)$ is written as below:\n",
    "\n",
    "$$(1-B)^d\\hat{s}_t=c+(\\phi_1B+\\phi_2B^2+\\dots+\\phi_pB^p)(1-B)^ds_t+(\\theta_1B+\\theta_2B^2+\\dots+\\theta_qB^q)\\epsilon_t$$"
   ]
  },
  {
   "cell_type": "markdown",
   "metadata": {},
   "source": [
    "## 3.2. Variants\n",
    "- SARIMA (**S**easonal **ARIMA**) is an extened version of ARIMA for sesonal time series data. The new model is written $\\text{ARIMA} (p,d,q) \\times (P,D,Q)_m$ where $m$ is sesonal period and $(P,Q,D)$ are seasonal parameters.\n",
    "- ARIMAX (**ARIMA** with e**X**ogenous variable)"
   ]
  },
  {
   "cell_type": "markdown",
   "metadata": {},
   "source": [
    "## 3.3. Implementation"
   ]
  },
  {
   "cell_type": "code",
   "execution_count": 129,
   "metadata": {
    "execution": {
     "iopub.execute_input": "2022-06-07T09:38:50.136985Z",
     "iopub.status.busy": "2022-06-07T09:38:50.136627Z",
     "iopub.status.idle": "2022-06-07T09:38:50.152022Z",
     "shell.execute_reply": "2022-06-07T09:38:50.150968Z",
     "shell.execute_reply.started": "2022-06-07T09:38:50.136958Z"
    },
    "tags": []
   },
   "outputs": [],
   "source": [
    "import numpy as np\n",
    "import pandas as pd\n",
    "\n",
    "import numpy as np\n",
    "import matplotlib.pyplot as plt\n",
    "plt.style.use(['seaborn', 'seaborn-whitegrid'])\n",
    "%config InlineBackend.figure_format = 'retina'\n",
    "\n",
    "from statsmodels.tsa.arima_model import ARIMA\n",
    "from statsmodels.tsa.statespace.sarimax import SARIMAX\n",
    "from statsmodels.tsa.api import VAR, SVAR, VARMAX\n",
    "from statsmodels.tsa.holtwinters import ExponentialSmoothing as HW\n",
    "from statsmodels.tsa.exponential_smoothing.ets import ETSModel as ETS\n",
    "\n",
    "from sklearn.metrics import mean_squared_error as MSE, mean_absolute_error as MAE, r2_score as R2\n",
    "\n",
    "import warnings; warnings.filterwarnings('ignore')"
   ]
  },
  {
   "cell_type": "code",
   "execution_count": 130,
   "metadata": {
    "execution": {
     "iopub.execute_input": "2022-06-07T09:38:52.193570Z",
     "iopub.status.busy": "2022-06-07T09:38:52.193230Z",
     "iopub.status.idle": "2022-06-07T09:38:52.204514Z",
     "shell.execute_reply": "2022-06-07T09:38:52.203812Z",
     "shell.execute_reply.started": "2022-06-07T09:38:52.193547Z"
    },
    "tags": []
   },
   "outputs": [
    {
     "data": {
      "text/plain": [
       "date\n",
       "2019-10-28    379.49\n",
       "2019-10-29    669.51\n",
       "2019-10-30    337.17\n",
       "2019-10-31    603.74\n",
       "2019-11-01    189.82\n",
       "Name: quantity, dtype: float64"
      ]
     },
     "execution_count": 130,
     "metadata": {},
     "output_type": "execute_result"
    }
   ],
   "source": [
    "dfQuantity = pd.read_csv('data/purchase_quantity.csv')\n",
    "dfQuantity = dfQuantity.assign(date=dfQuantity.date.astype('datetime64'))\n",
    "s = dfQuantity.set_index('date').quantity\n",
    "s.head()"
   ]
  },
  {
   "cell_type": "code",
   "execution_count": 131,
   "metadata": {
    "execution": {
     "iopub.execute_input": "2022-06-07T09:39:01.222179Z",
     "iopub.status.busy": "2022-06-07T09:39:01.221808Z",
     "iopub.status.idle": "2022-06-07T09:39:01.227096Z",
     "shell.execute_reply": "2022-06-07T09:39:01.225595Z",
     "shell.execute_reply.started": "2022-06-07T09:39:01.222152Z"
    },
    "tags": []
   },
   "outputs": [],
   "source": [
    "nTest = 30\n",
    "\n",
    "cutEnd = dfQuantity.shape[0]\n",
    "cutTest = cutEnd - nTest\n",
    "\n",
    "xTest, yTest = s[:cutTest], s[cutTest:]"
   ]
  },
  {
   "cell_type": "code",
   "execution_count": 134,
   "metadata": {
    "execution": {
     "iopub.execute_input": "2022-06-07T09:39:36.326196Z",
     "iopub.status.busy": "2022-06-07T09:39:36.325819Z",
     "iopub.status.idle": "2022-06-07T09:39:38.061658Z",
     "shell.execute_reply": "2022-06-07T09:39:38.060756Z",
     "shell.execute_reply.started": "2022-06-07T09:39:36.326170Z"
    },
    "tags": []
   },
   "outputs": [
    {
     "data": {
      "text/html": [
       "<table class=\"simpletable\">\n",
       "<caption>SARIMAX Results</caption>\n",
       "<tr>\n",
       "  <th>Dep. Variable:</th>               <td>quantity</td>             <th>  No. Observations:  </th>    <td>219</td>   \n",
       "</tr>\n",
       "<tr>\n",
       "  <th>Model:</th>           <td>SARIMAX(0, 1, 0)x(0, 1, [1], 30)</td> <th>  Log Likelihood     </th> <td>-1362.931</td>\n",
       "</tr>\n",
       "<tr>\n",
       "  <th>Date:</th>                    <td>Tue, 07 Jun 2022</td>         <th>  AIC                </th> <td>2731.861</td> \n",
       "</tr>\n",
       "<tr>\n",
       "  <th>Time:</th>                        <td>16:39:38</td>             <th>  BIC                </th> <td>2741.571</td> \n",
       "</tr>\n",
       "<tr>\n",
       "  <th>Sample:</th>                     <td>10-28-2019</td>            <th>  HQIC               </th> <td>2735.795</td> \n",
       "</tr>\n",
       "<tr>\n",
       "  <th></th>                           <td>- 06-02-2020</td>           <th>                     </th>     <td> </td>    \n",
       "</tr>\n",
       "<tr>\n",
       "  <th>Covariance Type:</th>                <td>opg</td>               <th>                     </th>     <td> </td>    \n",
       "</tr>\n",
       "</table>\n",
       "<table class=\"simpletable\">\n",
       "<tr>\n",
       "      <td></td>        <th>coef</th>     <th>std err</th>      <th>z</th>      <th>P>|z|</th>  <th>[0.025</th>    <th>0.975]</th>  \n",
       "</tr>\n",
       "<tr>\n",
       "  <th>drift</th>    <td>    0.0044</td> <td>    0.091</td> <td>    0.048</td> <td> 0.961</td> <td>   -0.173</td> <td>    0.182</td>\n",
       "</tr>\n",
       "<tr>\n",
       "  <th>ma.S.L30</th> <td>   -0.6024</td> <td>    0.092</td> <td>   -6.527</td> <td> 0.000</td> <td>   -0.783</td> <td>   -0.422</td>\n",
       "</tr>\n",
       "<tr>\n",
       "  <th>sigma2</th>   <td> 1.094e+05</td> <td> 6473.300</td> <td>   16.899</td> <td> 0.000</td> <td> 9.67e+04</td> <td> 1.22e+05</td>\n",
       "</tr>\n",
       "</table>\n",
       "<table class=\"simpletable\">\n",
       "<tr>\n",
       "  <th>Ljung-Box (L1) (Q):</th>     <td>25.09</td> <th>  Jarque-Bera (JB):  </th> <td>303.91</td>\n",
       "</tr>\n",
       "<tr>\n",
       "  <th>Prob(Q):</th>                <td>0.00</td>  <th>  Prob(JB):          </th>  <td>0.00</td> \n",
       "</tr>\n",
       "<tr>\n",
       "  <th>Heteroskedasticity (H):</th> <td>2.74</td>  <th>  Skew:              </th>  <td>-1.02</td>\n",
       "</tr>\n",
       "<tr>\n",
       "  <th>Prob(H) (two-sided):</th>    <td>0.00</td>  <th>  Kurtosis:          </th>  <td>8.89</td> \n",
       "</tr>\n",
       "</table><br/><br/>Warnings:<br/>[1] Covariance matrix calculated using the outer product of gradients (complex-step)."
      ],
      "text/plain": [
       "<class 'statsmodels.iolib.summary.Summary'>\n",
       "\"\"\"\n",
       "                                      SARIMAX Results                                       \n",
       "============================================================================================\n",
       "Dep. Variable:                             quantity   No. Observations:                  219\n",
       "Model:             SARIMAX(0, 1, 0)x(0, 1, [1], 30)   Log Likelihood               -1362.931\n",
       "Date:                              Tue, 07 Jun 2022   AIC                           2731.861\n",
       "Time:                                      16:39:38   BIC                           2741.571\n",
       "Sample:                                  10-28-2019   HQIC                          2735.795\n",
       "                                       - 06-02-2020                                         \n",
       "Covariance Type:                                opg                                         \n",
       "==============================================================================\n",
       "                 coef    std err          z      P>|z|      [0.025      0.975]\n",
       "------------------------------------------------------------------------------\n",
       "drift          0.0044      0.091      0.048      0.961      -0.173       0.182\n",
       "ma.S.L30      -0.6024      0.092     -6.527      0.000      -0.783      -0.422\n",
       "sigma2      1.094e+05   6473.300     16.899      0.000    9.67e+04    1.22e+05\n",
       "===================================================================================\n",
       "Ljung-Box (L1) (Q):                  25.09   Jarque-Bera (JB):               303.91\n",
       "Prob(Q):                              0.00   Prob(JB):                         0.00\n",
       "Heteroskedasticity (H):               2.74   Skew:                            -1.02\n",
       "Prob(H) (two-sided):                  0.00   Kurtosis:                         8.89\n",
       "===================================================================================\n",
       "\n",
       "Warnings:\n",
       "[1] Covariance matrix calculated using the outer product of gradients (complex-step).\n",
       "\"\"\""
      ]
     },
     "execution_count": 134,
     "metadata": {},
     "output_type": "execute_result"
    }
   ],
   "source": [
    "model = SARIMAX(xTest, order=(0,1,0), seasonal_order=(0,1,1,30), trend='t').fit()\n",
    "model.summary()"
   ]
  },
  {
   "cell_type": "code",
   "execution_count": 136,
   "metadata": {
    "execution": {
     "iopub.execute_input": "2022-06-07T09:41:15.306219Z",
     "iopub.status.busy": "2022-06-07T09:41:15.305879Z",
     "iopub.status.idle": "2022-06-07T09:41:15.339142Z",
     "shell.execute_reply": "2022-06-07T09:41:15.338496Z",
     "shell.execute_reply.started": "2022-06-07T09:41:15.306194Z"
    },
    "tags": []
   },
   "outputs": [
    {
     "data": {
      "text/html": [
       "<div>\n",
       "<style scoped>\n",
       "    .dataframe tbody tr th:only-of-type {\n",
       "        vertical-align: middle;\n",
       "    }\n",
       "\n",
       "    .dataframe tbody tr th {\n",
       "        vertical-align: top;\n",
       "    }\n",
       "\n",
       "    .dataframe thead th {\n",
       "        text-align: right;\n",
       "    }\n",
       "</style>\n",
       "<table border=\"1\" class=\"dataframe\">\n",
       "  <thead>\n",
       "    <tr style=\"text-align: right;\">\n",
       "      <th></th>\n",
       "      <th>forecast</th>\n",
       "      <th>truth</th>\n",
       "      <th>ci_90_lower</th>\n",
       "      <th>ci_90_upper</th>\n",
       "      <th>ci_95_lower</th>\n",
       "      <th>ci_95_upper</th>\n",
       "      <th>ci_99_lower</th>\n",
       "      <th>ci_99_upper</th>\n",
       "    </tr>\n",
       "  </thead>\n",
       "  <tbody>\n",
       "    <tr>\n",
       "      <th>2020-06-28</th>\n",
       "      <td>579.380992</td>\n",
       "      <td>0.00</td>\n",
       "      <td>-2195.270502</td>\n",
       "      <td>3354.032485</td>\n",
       "      <td>-2726.820185</td>\n",
       "      <td>3885.582168</td>\n",
       "      <td>-3765.703888</td>\n",
       "      <td>4924.465871</td>\n",
       "    </tr>\n",
       "    <tr>\n",
       "      <th>2020-06-29</th>\n",
       "      <td>523.334258</td>\n",
       "      <td>304.24</td>\n",
       "      <td>-2304.158566</td>\n",
       "      <td>3350.827082</td>\n",
       "      <td>-2845.831247</td>\n",
       "      <td>3892.499763</td>\n",
       "      <td>-3904.499777</td>\n",
       "      <td>4951.168292</td>\n",
       "    </tr>\n",
       "    <tr>\n",
       "      <th>2020-06-30</th>\n",
       "      <td>610.140558</td>\n",
       "      <td>661.91</td>\n",
       "      <td>-2269.224030</td>\n",
       "      <td>3489.505145</td>\n",
       "      <td>-2820.833966</td>\n",
       "      <td>4041.115082</td>\n",
       "      <td>-3898.924297</td>\n",
       "      <td>5119.205412</td>\n",
       "    </tr>\n",
       "    <tr>\n",
       "      <th>2020-07-01</th>\n",
       "      <td>636.740589</td>\n",
       "      <td>729.94</td>\n",
       "      <td>-2293.577684</td>\n",
       "      <td>3567.058863</td>\n",
       "      <td>-2854.948997</td>\n",
       "      <td>4128.430176</td>\n",
       "      <td>-3952.117382</td>\n",
       "      <td>5225.598561</td>\n",
       "    </tr>\n",
       "    <tr>\n",
       "      <th>2020-07-02</th>\n",
       "      <td>748.354686</td>\n",
       "      <td>608.80</td>\n",
       "      <td>-2232.046284</td>\n",
       "      <td>3728.755657</td>\n",
       "      <td>-2803.012114</td>\n",
       "      <td>4299.721486</td>\n",
       "      <td>-3918.932439</td>\n",
       "      <td>5415.641811</td>\n",
       "    </tr>\n",
       "  </tbody>\n",
       "</table>\n",
       "</div>"
      ],
      "text/plain": [
       "              forecast   truth  ci_90_lower  ci_90_upper  ci_95_lower  \\\n",
       "2020-06-28  579.380992    0.00 -2195.270502  3354.032485 -2726.820185   \n",
       "2020-06-29  523.334258  304.24 -2304.158566  3350.827082 -2845.831247   \n",
       "2020-06-30  610.140558  661.91 -2269.224030  3489.505145 -2820.833966   \n",
       "2020-07-01  636.740589  729.94 -2293.577684  3567.058863 -2854.948997   \n",
       "2020-07-02  748.354686  608.80 -2232.046284  3728.755657 -2803.012114   \n",
       "\n",
       "            ci_95_upper  ci_99_lower  ci_99_upper  \n",
       "2020-06-28  3885.582168 -3765.703888  4924.465871  \n",
       "2020-06-29  3892.499763 -3904.499777  4951.168292  \n",
       "2020-06-30  4041.115082 -3898.924297  5119.205412  \n",
       "2020-07-01  4128.430176 -3952.117382  5225.598561  \n",
       "2020-07-02  4299.721486 -3918.932439  5415.641811  "
      ]
     },
     "execution_count": 136,
     "metadata": {},
     "output_type": "execute_result"
    }
   ],
   "source": [
    "forecaster = model.get_forecast(nTest)\n",
    "yTestPred = forecaster.predicted_mean.rename('forecast')\n",
    "dfForecast = yTestPred.to_frame()\n",
    "dfForecast['truth'] = yTest\n",
    "listCi = [0.9, 0.95, 0.99]\n",
    "for ci in listCi:\n",
    "    strCi = int(ci*100)\n",
    "    dfCi = forecaster.summary_frame(alpha=1-ci)\n",
    "    dfCi = dfCi.iloc[:, -2:]\n",
    "    dfForecast[[f'ci_{strCi}_lower', f'ci_{strCi}_upper']] = dfCi\n",
    "dfForecast.tail()"
   ]
  },
  {
   "cell_type": "code",
   "execution_count": 138,
   "metadata": {
    "execution": {
     "iopub.execute_input": "2022-06-07T09:41:48.676347Z",
     "iopub.status.busy": "2022-06-07T09:41:48.676011Z",
     "iopub.status.idle": "2022-06-07T09:41:48.950778Z",
     "shell.execute_reply": "2022-06-07T09:41:48.950072Z",
     "shell.execute_reply.started": "2022-06-07T09:41:48.676323Z"
    },
    "tags": []
   },
   "outputs": [
    {
     "data": {
      "image/png": "[encoded data removed]",
      "text/plain": [
       "<Figure size 1296x432 with 1 Axes>"
      ]
     },
     "metadata": {
      "image/png": {
       "height": 373,
       "width": 1145
      }
     },
     "output_type": "display_data"
    }
   ],
   "source": [
    "df = dfForecast.copy()\n",
    "df = df.clip(lower=0)\n",
    "\n",
    "rmse = MSE(yTest, yTestPred, squared=False)\n",
    "mae = MAE(yTest, yTestPred)\n",
    "r2 = R2(yTest, yTestPred)\n",
    "title = f'SARIMAX | RMSE={rmse:.2f} | MAE={mae:.2f} | R2={r2:.4f}'\n",
    "\n",
    "fig, ax = plt.subplots(figsize=(18,6))\n",
    "ax.plot(df.truth, color='teal', label='GroundTruth')\n",
    "ax.plot(df.forecast, '--', c='grey', label='Forecast')\n",
    "for ci in listCi:\n",
    "    alpha = 1 - ci + 0.05\n",
    "    strCi = int(ci*100)\n",
    "    lower, upper = df[f'ci_{strCi}_lower'], df[f'ci_{strCi}_upper']\n",
    "    ax.fill_between(df.index, lower, upper, color='grey', alpha=alpha, label=f'CI {strCi}%')\n",
    "ax.legend(bbox_to_anchor=(1, 0.5), loc='center left')\n",
    "ax.set_title(title, fontsize=14)\n",
    "plt.show()"
   ]
  },
  {
   "cell_type": "markdown",
   "metadata": {},
   "source": [
    "# 4. ETS\n",
    "ETS (**E**rror, **T**rend and **S**easonal) is the [state-space](https://www.statsmodels.org/dev/statespace.html) form of Holt-Winters' method, which adds seasonality and trend to the simple *exponetial smoothing* model. The naive method assumes that only most recent observations are the most important ones. Not like ARIMA, ETS forecast a future value using previous observations $y_{t-k}$ instead of using the lagged series $s_{t-k}$."
   ]
  },
  {
   "cell_type": "markdown",
   "metadata": {
    "tags": []
   },
   "source": [
    "## 4.1. ETS functions\n",
    "\n",
    "A method estimated time series based on weight average the past values\n",
    "\n",
    "**Smoothing level**\n",
    "\n",
    "$\\alpha$ is the parameter which smooth the time series. $\\alpha$ is close to 1 means the smoothed series is more like orginal series and opposite\n",
    "\n",
    "$$\\begin{equation}\n",
    "  \\hat{y}_{T+1|T} = \\alpha y_T + \\alpha(1-\\alpha) y_{T-1} + \\alpha(1-\\alpha)^2 y_{T-2}+ \\cdots,   \n",
    "\\end{equation}$$\n",
    "\n",
    "Components form:\n",
    "\n",
    "$$\\begin{align*}\n",
    "  \\text{Forecast equation}  && \\hat{y}_{t+h|t} & = \\ell_{t}\\\\\n",
    "  \\text{Smoothing equation} && \\ell_{t}        & = \\alpha y_{t} + (1 - \\alpha)\\ell_{t-1},\n",
    "\\end{align*}$$\n",
    "\n",
    "In $\\ell_t$ equation, we need $\\alpha$ and $\\ell_{t-1}$ - called *initial value*. $\\alpha$ and $\\mbox{initial value}$ are estimated to minimum SSE.\n",
    "\n",
    "**Smoothing slope**\n",
    "\n",
    "\\begin{align*}\n",
    "  \\text{Forecast equation}&& \\hat{y}_{t+h|t} &= \\ell_{t} + hb_{t} \\\\\n",
    "  \\text{Level equation}   && \\ell_{t} &= \\alpha y_{t} + (1 - \\alpha)(\\ell_{t-1} + b_{t-1})\\\\\n",
    "  \\text{Trend equation}   && b_{t}    &= \\beta^*(\\ell_{t} - \\ell_{t-1}) + (1 -\\beta^*)b_{t-1},\n",
    "\\end{align*}\n",
    "\n",
    "- $\\ell_{t}$ : an estimate of the level of the series at time $t$\n",
    "- $b_{t}$ : an estimate of the trend (slope) of the series at time $t$\n",
    "- $\\beta^*$: smoothing parameter for the trend\n",
    "- $b_{t-1}$: initial value of trend\n",
    "\n",
    "**Damped Trend**\n",
    "\n",
    "Orginal trend will be linear shape but in some case, the trend is downward curve form and it called *damping*. Then we add $y_t$ - damping parameter into the model\n",
    "\n",
    "\\begin{align*}\n",
    "  \\hat{y}_{t+h|t} &= \\ell_{t} + (\\phi+\\phi^2 + \\dots + \\phi^{h})b_{t} \\\\\n",
    "  \\ell_{t} &= \\alpha y_{t} + (1 - \\alpha)(\\ell_{t-1} + \\phi b_{t-1})\\\\\n",
    "  b_{t} &= \\beta^*(\\ell_{t} - \\ell_{t-1}) + (1 -\\beta^*)\\phi b_{t-1}.\n",
    "\\end{align*}\n",
    "\n",
    "- If $\\phi$ = 1 then the trend is linear\n",
    "- 0<$\\phi$<1 then the trend is reduce to a constant in the future.\n",
    "\n",
    "**Smoothing seasonal ($\\gamma$)**\n",
    "\n",
    "- Holt-winter's additive method: The seasonal part is the difference between $y_t$ and $\\ell_t$\n",
    "\n",
    "\\begin{align*}\n",
    "  \\hat{y}_{t+h|t} &= \\ell_{t} + hb_{t} + s_{t+h-m(k+1)} \\\\\n",
    "  \\ell_{t} &= \\alpha(y_{t} - s_{t-m}) + (1 - \\alpha)(\\ell_{t-1} + b_{t-1})\\\\\n",
    "  b_{t} &= \\beta^*(\\ell_{t} - \\ell_{t-1}) + (1 - \\beta^*)b_{t-1}\\\\\n",
    "  s_{t} &= \\gamma (y_{t}-\\ell_{t-1}-b_{t-1}) + (1-\\gamma)s_{t-m},\n",
    "\\end{align*}\n",
    "\n",
    "- Holt-winter's multiplicative method: The seasonal part is  $\\ell_t$ didived by $y_t$\n",
    "\n",
    "\\begin{align*}\n",
    "  \\hat{y}_{t+h|t} &= (\\ell_{t} + hb_{t})s_{t+h-m(k+1)} \\\\\n",
    "  \\ell_{t} &= \\alpha \\frac{y_{t}}{s_{t-m}} + (1 - \\alpha)(\\ell_{t-1} + b_{t-1})\\\\\n",
    "  b_{t} &= \\beta^*(\\ell_{t}-\\ell_{t-1}) + (1 - \\beta^*)b_{t-1}                \\\\\n",
    "  s_{t} &= \\gamma \\frac{y_{t}}{(\\ell_{t-1} + b_{t-1})} + (1 - \\gamma)s_{t-m}\n",
    "\\end{align*}\n",
    "\n",
    "$s_{t}$ : Estimated of seasonal part at the times $t$\\\n",
    "$\\gamma$ : Smoothing seasonal. The less $\\gamma$ the less change in seasonal by the times.\\\n",
    "$s_{t-m}$ : Initial value of seasonal. The numbers of initial values depend on the numbers of seasonal."
   ]
  },
  {
   "cell_type": "markdown",
   "metadata": {},
   "source": [
    "## 4.2. Implementation"
   ]
  },
  {
   "cell_type": "code",
   "execution_count": 103,
   "metadata": {
    "execution": {
     "iopub.execute_input": "2022-06-07T09:26:23.671124Z",
     "iopub.status.busy": "2022-06-07T09:26:23.670510Z",
     "iopub.status.idle": "2022-06-07T09:26:23.695795Z",
     "shell.execute_reply": "2022-06-07T09:26:23.694744Z",
     "shell.execute_reply.started": "2022-06-07T09:26:23.671092Z"
    },
    "tags": []
   },
   "outputs": [],
   "source": [
    "import numpy as np\n",
    "import pandas as pd\n",
    "\n",
    "import numpy as np\n",
    "import matplotlib.pyplot as plt\n",
    "plt.style.use(['seaborn', 'seaborn-whitegrid'])\n",
    "%config InlineBackend.figure_format = 'retina'\n",
    "\n",
    "from statsmodels.tsa.exponential_smoothing.ets import ETSModel as ETS\n",
    "\n",
    "from sklearn.metrics import mean_squared_error as MSE, mean_absolute_error as MAE, r2_score as R2\n",
    "\n",
    "import warnings; warnings.filterwarnings('ignore')"
   ]
  },
  {
   "cell_type": "code",
   "execution_count": 104,
   "metadata": {
    "execution": {
     "iopub.execute_input": "2022-06-07T09:26:26.070404Z",
     "iopub.status.busy": "2022-06-07T09:26:26.070001Z",
     "iopub.status.idle": "2022-06-07T09:26:26.103741Z",
     "shell.execute_reply": "2022-06-07T09:26:26.102618Z",
     "shell.execute_reply.started": "2022-06-07T09:26:26.070376Z"
    },
    "tags": []
   },
   "outputs": [
    {
     "data": {
      "text/plain": [
       "date\n",
       "2019-10-28    379.49\n",
       "2019-10-29    669.51\n",
       "2019-10-30    337.17\n",
       "2019-10-31    603.74\n",
       "2019-11-01    189.82\n",
       "Name: quantity, dtype: float64"
      ]
     },
     "execution_count": 104,
     "metadata": {},
     "output_type": "execute_result"
    }
   ],
   "source": [
    "dfQuantity = pd.read_csv('data/purchase_quantity.csv')\n",
    "dfQuantity = dfQuantity.assign(date=dfQuantity.date.astype('datetime64'))\n",
    "s = dfQuantity.set_index('date').quantity\n",
    "s.head()"
   ]
  },
  {
   "cell_type": "code",
   "execution_count": 140,
   "metadata": {
    "execution": {
     "iopub.execute_input": "2022-06-07T09:43:00.783960Z",
     "iopub.status.busy": "2022-06-07T09:43:00.783587Z",
     "iopub.status.idle": "2022-06-07T09:43:00.788315Z",
     "shell.execute_reply": "2022-06-07T09:43:00.787091Z",
     "shell.execute_reply.started": "2022-06-07T09:43:00.783933Z"
    },
    "tags": []
   },
   "outputs": [],
   "source": [
    "nTest = 30\n",
    "\n",
    "cutEnd = dfQuantity.shape[0]\n",
    "cutTest = cutEnd - nTest\n",
    "\n",
    "xTest, yTest = s[:cutTest], s[cutTest:]"
   ]
  },
  {
   "cell_type": "code",
   "execution_count": 153,
   "metadata": {
    "execution": {
     "iopub.execute_input": "2022-06-07T09:48:47.284968Z",
     "iopub.status.busy": "2022-06-07T09:48:47.284591Z",
     "iopub.status.idle": "2022-06-07T09:48:47.715232Z",
     "shell.execute_reply": "2022-06-07T09:48:47.714367Z",
     "shell.execute_reply.started": "2022-06-07T09:48:47.284941Z"
    },
    "tags": []
   },
   "outputs": [],
   "source": [
    "model = ETS(xTest, trend='add', damped_trend=True, seasonal='add', seasonal_periods=30, freq='D').fit()\n",
    "result = model.summary().tables"
   ]
  },
  {
   "cell_type": "code",
   "execution_count": 142,
   "metadata": {
    "execution": {
     "iopub.execute_input": "2022-06-07T09:43:04.370125Z",
     "iopub.status.busy": "2022-06-07T09:43:04.369682Z",
     "iopub.status.idle": "2022-06-07T09:43:04.376800Z",
     "shell.execute_reply": "2022-06-07T09:43:04.375941Z",
     "shell.execute_reply.started": "2022-06-07T09:43:04.370095Z"
    },
    "tags": []
   },
   "outputs": [
    {
     "data": {
      "text/html": [
       "<table class=\"simpletable\">\n",
       "<caption>ETS Results</caption>\n",
       "<tr>\n",
       "  <th>Dep. Variable:</th>       <td>quantity</td>     <th>  No. Observations:  </th>    <td>219</td>   \n",
       "</tr>\n",
       "<tr>\n",
       "  <th>Model:</th>               <td>ETS(AAdA)</td>    <th>  Log Likelihood     </th> <td>-1529.151</td>\n",
       "</tr>\n",
       "<tr>\n",
       "  <th>Date:</th>            <td>Tue, 07 Jun 2022</td> <th>  AIC                </th> <td>3132.302</td> \n",
       "</tr>\n",
       "<tr>\n",
       "  <th>Time:</th>                <td>16:43:02</td>     <th>  BIC                </th> <td>3257.698</td> \n",
       "</tr>\n",
       "<tr>\n",
       "  <th>Sample:</th>             <td>10-28-2019</td>    <th>  HQIC               </th> <td>3182.946</td> \n",
       "</tr>\n",
       "<tr>\n",
       "  <th></th>                   <td>- 06-02-2020</td>   <th>  Scale              </th> <td>67980.277</td>\n",
       "</tr>\n",
       "<tr>\n",
       "  <th>Covariance Type:</th>      <td>approx</td>      <th>                     </th>     <td> </td>    \n",
       "</tr>\n",
       "</table>"
      ],
      "text/plain": [
       "<class 'statsmodels.iolib.table.SimpleTable'>"
      ]
     },
     "execution_count": 142,
     "metadata": {},
     "output_type": "execute_result"
    }
   ],
   "source": [
    "result[0]"
   ]
  },
  {
   "cell_type": "code",
   "execution_count": 143,
   "metadata": {
    "execution": {
     "iopub.execute_input": "2022-06-07T09:43:05.252237Z",
     "iopub.status.busy": "2022-06-07T09:43:05.251844Z",
     "iopub.status.idle": "2022-06-07T09:43:05.257760Z",
     "shell.execute_reply": "2022-06-07T09:43:05.256823Z",
     "shell.execute_reply.started": "2022-06-07T09:43:05.252211Z"
    },
    "tags": []
   },
   "outputs": [
    {
     "data": {
      "text/html": [
       "<table class=\"simpletable\">\n",
       "<tr>\n",
       "  <th>Ljung-Box (Q):</th>          <td>70.89</td> <th>  Jarque-Bera (JB):  </th> <td>196.46</td>\n",
       "</tr>\n",
       "<tr>\n",
       "  <th>Prob(Q):</th>                <td>0.00</td>  <th>  Prob(JB):          </th>  <td>0.00</td> \n",
       "</tr>\n",
       "<tr>\n",
       "  <th>Heteroskedasticity (H):</th> <td>3.24</td>  <th>  Skew:              </th>  <td>-0.58</td>\n",
       "</tr>\n",
       "<tr>\n",
       "  <th>Prob(H) (two-sided):</th>    <td>0.00</td>  <th>  Kurtosis:          </th>  <td>7.49</td> \n",
       "</tr>\n",
       "</table>"
      ],
      "text/plain": [
       "<class 'statsmodels.iolib.table.SimpleTable'>"
      ]
     },
     "execution_count": 143,
     "metadata": {},
     "output_type": "execute_result"
    }
   ],
   "source": [
    "result[2]"
   ]
  },
  {
   "cell_type": "code",
   "execution_count": 147,
   "metadata": {
    "execution": {
     "iopub.execute_input": "2022-06-07T09:45:14.394582Z",
     "iopub.status.busy": "2022-06-07T09:45:14.394189Z",
     "iopub.status.idle": "2022-06-07T09:45:14.427404Z",
     "shell.execute_reply": "2022-06-07T09:45:14.426748Z",
     "shell.execute_reply.started": "2022-06-07T09:45:14.394554Z"
    },
    "tags": []
   },
   "outputs": [
    {
     "data": {
      "text/html": [
       "<div>\n",
       "<style scoped>\n",
       "    .dataframe tbody tr th:only-of-type {\n",
       "        vertical-align: middle;\n",
       "    }\n",
       "\n",
       "    .dataframe tbody tr th {\n",
       "        vertical-align: top;\n",
       "    }\n",
       "\n",
       "    .dataframe thead th {\n",
       "        text-align: right;\n",
       "    }\n",
       "</style>\n",
       "<table border=\"1\" class=\"dataframe\">\n",
       "  <thead>\n",
       "    <tr style=\"text-align: right;\">\n",
       "      <th></th>\n",
       "      <th>forecast</th>\n",
       "      <th>truth</th>\n",
       "      <th>ci_90_lower</th>\n",
       "      <th>ci_90_upper</th>\n",
       "      <th>ci_95_lower</th>\n",
       "      <th>ci_95_upper</th>\n",
       "      <th>ci_99_lower</th>\n",
       "      <th>ci_99_upper</th>\n",
       "    </tr>\n",
       "  </thead>\n",
       "  <tbody>\n",
       "    <tr>\n",
       "      <th>2020-06-28</th>\n",
       "      <td>505.658104</td>\n",
       "      <td>0.00</td>\n",
       "      <td>-934.301371</td>\n",
       "      <td>1945.617578</td>\n",
       "      <td>-1210.159440</td>\n",
       "      <td>2221.475647</td>\n",
       "      <td>-1749.308387</td>\n",
       "      <td>2760.624594</td>\n",
       "    </tr>\n",
       "    <tr>\n",
       "      <th>2020-06-29</th>\n",
       "      <td>415.254539</td>\n",
       "      <td>304.24</td>\n",
       "      <td>-1050.717878</td>\n",
       "      <td>1881.226956</td>\n",
       "      <td>-1331.559337</td>\n",
       "      <td>2162.068415</td>\n",
       "      <td>-1880.448038</td>\n",
       "      <td>2710.957116</td>\n",
       "    </tr>\n",
       "    <tr>\n",
       "      <th>2020-06-30</th>\n",
       "      <td>467.350354</td>\n",
       "      <td>661.91</td>\n",
       "      <td>-1024.181410</td>\n",
       "      <td>1958.882118</td>\n",
       "      <td>-1309.919363</td>\n",
       "      <td>2244.620071</td>\n",
       "      <td>-1868.377982</td>\n",
       "      <td>2803.078690</td>\n",
       "    </tr>\n",
       "    <tr>\n",
       "      <th>2020-07-01</th>\n",
       "      <td>409.722661</td>\n",
       "      <td>729.94</td>\n",
       "      <td>-1106.937785</td>\n",
       "      <td>1926.383108</td>\n",
       "      <td>-1397.489727</td>\n",
       "      <td>2216.935050</td>\n",
       "      <td>-1965.357015</td>\n",
       "      <td>2784.802338</td>\n",
       "    </tr>\n",
       "    <tr>\n",
       "      <th>2020-07-02</th>\n",
       "      <td>510.193281</td>\n",
       "      <td>608.80</td>\n",
       "      <td>-1031.186243</td>\n",
       "      <td>2051.572805</td>\n",
       "      <td>-1326.473705</td>\n",
       "      <td>2346.860268</td>\n",
       "      <td>-1903.596300</td>\n",
       "      <td>2923.982862</td>\n",
       "    </tr>\n",
       "  </tbody>\n",
       "</table>\n",
       "</div>"
      ],
      "text/plain": [
       "              forecast   truth  ci_90_lower  ci_90_upper  ci_95_lower  \\\n",
       "2020-06-28  505.658104    0.00  -934.301371  1945.617578 -1210.159440   \n",
       "2020-06-29  415.254539  304.24 -1050.717878  1881.226956 -1331.559337   \n",
       "2020-06-30  467.350354  661.91 -1024.181410  1958.882118 -1309.919363   \n",
       "2020-07-01  409.722661  729.94 -1106.937785  1926.383108 -1397.489727   \n",
       "2020-07-02  510.193281  608.80 -1031.186243  2051.572805 -1326.473705   \n",
       "\n",
       "            ci_95_upper  ci_99_lower  ci_99_upper  \n",
       "2020-06-28  2221.475647 -1749.308387  2760.624594  \n",
       "2020-06-29  2162.068415 -1880.448038  2710.957116  \n",
       "2020-06-30  2244.620071 -1868.377982  2803.078690  \n",
       "2020-07-01  2216.935050 -1965.357015  2784.802338  \n",
       "2020-07-02  2346.860268 -1903.596300  2923.982862  "
      ]
     },
     "execution_count": 147,
     "metadata": {},
     "output_type": "execute_result"
    }
   ],
   "source": [
    "forecaster = model.get_prediction(cutTest, cutEnd-1)\n",
    "yTestPred = forecaster.predicted_mean.rename('forecast')\n",
    "dfForecast = yTestPred.to_frame()\n",
    "dfForecast['truth'] = yTest\n",
    "listCi = [0.9, 0.95, 0.99]\n",
    "for ci in listCi:\n",
    "    strCi = int(ci*100)\n",
    "    dfCi = forecaster.summary_frame(alpha=1-ci)\n",
    "    dfCi = dfCi.iloc[:, -2:]\n",
    "    dfForecast[[f'ci_{strCi}_lower', f'ci_{strCi}_upper']] = dfCi\n",
    "dfForecast.tail()"
   ]
  },
  {
   "cell_type": "code",
   "execution_count": 150,
   "metadata": {
    "execution": {
     "iopub.execute_input": "2022-06-07T09:46:14.397633Z",
     "iopub.status.busy": "2022-06-07T09:46:14.397296Z",
     "iopub.status.idle": "2022-06-07T09:46:14.672700Z",
     "shell.execute_reply": "2022-06-07T09:46:14.672085Z",
     "shell.execute_reply.started": "2022-06-07T09:46:14.397610Z"
    },
    "tags": []
   },
   "outputs": [
    {
     "data": {
      "image/png": "[encoded data removed]",
      "text/plain": [
       "<Figure size 1296x432 with 1 Axes>"
      ]
     },
     "metadata": {
      "image/png": {
       "height": 373,
       "width": 1145
      }
     },
     "output_type": "display_data"
    }
   ],
   "source": [
    "df = dfForecast.copy()\n",
    "df = df.clip(lower=0)\n",
    "\n",
    "rmse = MSE(yTest, yTestPred, squared=False)\n",
    "mae = MAE(yTest, yTestPred)\n",
    "r2 = R2(yTest, yTestPred)\n",
    "title = f'ETS | RMSE={rmse:.2f} | MAE={mae:.2f} | R2={r2:.4f}'\n",
    "\n",
    "fig, ax = plt.subplots(figsize=(18,6))\n",
    "ax.plot(df.truth, color='teal', label='GroundTruth')\n",
    "ax.plot(df.forecast, '--', c='grey', label='Forecast')\n",
    "for ci in listCi:\n",
    "    alpha = 1 - ci + 0.05\n",
    "    strCi = int(ci*100)\n",
    "    lower, upper = df[f'ci_{strCi}_lower'], df[f'ci_{strCi}_upper']\n",
    "    ax.fill_between(df.index, lower, upper, color='grey', alpha=alpha, label=f'CI {strCi}%')\n",
    "ax.legend(bbox_to_anchor=(1, 0.5), loc='center left')\n",
    "ax.set_title(title, fontsize=14)\n",
    "plt.show()"
   ]
  },
  {
   "cell_type": "markdown",
   "metadata": {},
   "source": [
    "# 5. VAR\n",
    "[VAR](https://en.wikipedia.org/wiki/Vector_autoregression) (**V**ector **A**uto**R**egression)"
   ]
  },
  {
   "cell_type": "markdown",
   "metadata": {},
   "source": [
    "## 5.1. VAR Model\n",
    "\n",
    "A VAR model is a generalisation of the univariate autoregression model for forcasting a vector of time series. In VAR model, all variables are treated symmetrically - all of them are *endogenous*. The structure of VAR is each variable is a linear function of past lags of itself and past lags of the other variables.\n",
    "\n",
    "*Explaination:*\n",
    "\n",
    "Example with 2 variables:\n",
    "$$a_t = c_1 + \\sum_{j=1}^{j=p} A_j a_{t-j} + \\sum_{j=1}^{j=p} B_j b_{t-j} + e_{1,t} \\\\\n",
    "  b_t = c_2 + \\sum_{j=1}^{j=p} D_j a_{t-j} + \\sum_{j=1}^{j=p} E_j b_{t-j} + e_{2,t}$$\n",
    "  \n",
    "- Two equations contains only its own lagged values and the lagged value of others variables - no current values of two variables on right-hand sides.\n",
    "- Although the number of lagged values of each variable can be different, in most cases we use the same number of lagged terms in each equation.\n",
    "- The model above is called $\\mbox{VAR(p)}$ because of $p$ lagged values of each variable. \n",
    "\n",
    "*The general form of VAR: The function of VAR is actually the OLS method with stationary time series*:\n",
    "\n",
    "$$y_t = c + A_1 y_{t-1} + A_2 y_{t-2}+\\cdots +A_p y_{t-p}+e_{t}$$\n",
    "\n",
    "$A_i$: Square matrix $m*m, i=1,2,\\dots,p$\\\n",
    "$y_t$: $m$ stationary variables $y_{1t}, y_{2t},\\dots, y_{mt}$\\\n",
    "$e_t$: vector of white noise\n",
    "\n",
    "*The work flow:*\n",
    "\n",
    "Step 1: Check the stationary of all time series. We have 2 possibilities:\n",
    "- If all variables are stationary, we can estimated VAR model by OLS\n",
    "- If all variables are I(1), make them stationary and move to step 2:\n",
    "\n",
    "Step 2: Find the lag $p$ for model. Depend on metric $\\mbox{AIC}$, $\\mbox{FPE}$, $\\mbox{SC}$ and $\\mbox{HQIC}$ - The lag reach the largest numbers of minimum metrics will be the lag for model.\n",
    "\n",
    "Step 3: Estimated the VAR model by OLS."
   ]
  },
  {
   "cell_type": "code",
   "execution_count": 45,
   "metadata": {},
   "outputs": [],
   "source": [
    "import numpy as np\n",
    "import pandas as pd\n",
    "import matplotlib.pyplot as plt\n",
    "import seaborn as sns\n",
    "import warnings\n",
    "\n",
    "from statsmodels.tsa.stattools import adfuller\n",
    "from statsmodels.tsa.api import VAR\n",
    "\n",
    "plt.style.use(['seaborn', 'seaborn-whitegrid'])\n",
    "warnings.filterwarnings('ignore')\n",
    "%config InlineBackend.figure_format = 'retina'"
   ]
  },
  {
   "cell_type": "code",
   "execution_count": 46,
   "metadata": {},
   "outputs": [
    {
     "data": {
      "text/html": [
       "<div>\n",
       "<style scoped>\n",
       "    .dataframe tbody tr th:only-of-type {\n",
       "        vertical-align: middle;\n",
       "    }\n",
       "\n",
       "    .dataframe tbody tr th {\n",
       "        vertical-align: top;\n",
       "    }\n",
       "\n",
       "    .dataframe thead th {\n",
       "        text-align: right;\n",
       "    }\n",
       "</style>\n",
       "<table border=\"1\" class=\"dataframe\">\n",
       "  <thead>\n",
       "    <tr style=\"text-align: right;\">\n",
       "      <th></th>\n",
       "      <th>ex_rate</th>\n",
       "      <th>money_supply</th>\n",
       "      <th>inf</th>\n",
       "    </tr>\n",
       "    <tr>\n",
       "      <th>month</th>\n",
       "      <th></th>\n",
       "      <th></th>\n",
       "      <th></th>\n",
       "    </tr>\n",
       "  </thead>\n",
       "  <tbody>\n",
       "    <tr>\n",
       "      <th>2009-01-01</th>\n",
       "      <td>16954</td>\n",
       "      <td>1.582872e+06</td>\n",
       "      <td>15.536579</td>\n",
       "    </tr>\n",
       "    <tr>\n",
       "      <th>2009-02-01</th>\n",
       "      <td>16953</td>\n",
       "      <td>1.722413e+06</td>\n",
       "      <td>6.701754</td>\n",
       "    </tr>\n",
       "    <tr>\n",
       "      <th>2009-03-01</th>\n",
       "      <td>16991</td>\n",
       "      <td>1.830077e+06</td>\n",
       "      <td>2.417558</td>\n",
       "    </tr>\n",
       "    <tr>\n",
       "      <th>2009-04-01</th>\n",
       "      <td>17941</td>\n",
       "      <td>1.914078e+06</td>\n",
       "      <td>4.602838</td>\n",
       "    </tr>\n",
       "    <tr>\n",
       "      <th>2009-05-01</th>\n",
       "      <td>18544</td>\n",
       "      <td>1.964660e+06</td>\n",
       "      <td>9.696635</td>\n",
       "    </tr>\n",
       "  </tbody>\n",
       "</table>\n",
       "</div>"
      ],
      "text/plain": [
       "            ex_rate  money_supply        inf\n",
       "month                                       \n",
       "2009-01-01    16954  1.582872e+06  15.536579\n",
       "2009-02-01    16953  1.722413e+06   6.701754\n",
       "2009-03-01    16991  1.830077e+06   2.417558\n",
       "2009-04-01    17941  1.914078e+06   4.602838\n",
       "2009-05-01    18544  1.964660e+06   9.696635"
      ]
     },
     "execution_count": 46,
     "metadata": {},
     "output_type": "execute_result"
    }
   ],
   "source": [
    "dfCpi = pd.read_csv('data/cpi.csv')\n",
    "dfCpi = dfCpi.astype({'month': 'datetime64'})\n",
    "dfCpi = dfCpi.set_index('month')\n",
    "dfCpi.head()"
   ]
  },
  {
   "cell_type": "code",
   "execution_count": 47,
   "metadata": {},
   "outputs": [
    {
     "name": "stdout",
     "output_type": "stream",
     "text": [
      "ADF of ex_rate: -2.6047933525515283\n",
      "p-value of ex_rate: 0.09201062038116359\n",
      "ADF of money_supply: 3.857985254022738\n",
      "p-value of money_supply: 1.0\n",
      "ADF of inf: -1.554106971814962\n",
      "p-value of inf: 0.5065960721917747\n"
     ]
    }
   ],
   "source": [
    "for i in dfCpi.columns:\n",
    "    test = adfuller(dfCpi[i])\n",
    "    print(f'ADF of {i}: {test[0]}')\n",
    "    print(f'p-value of {i}: {test[1]}')"
   ]
  },
  {
   "cell_type": "code",
   "execution_count": 48,
   "metadata": {},
   "outputs": [
    {
     "name": "stdout",
     "output_type": "stream",
     "text": [
      "ADF of ex_rate: -6.723311823514879\n",
      "p-value of ex_rate: 3.4392095149141533e-09\n",
      "ADF of money_supply: -4.971584105329942\n",
      "p-value of money_supply: 2.5253803145699296e-05\n",
      "ADF of inf: -5.33587795514765\n",
      "p-value of inf: 4.612428921750133e-06\n"
     ]
    }
   ],
   "source": [
    "dfCpiDif = dfCPI.diff().dropna()\n",
    "\n",
    "for i in dfCpiDif.columns:\n",
    "    test = adfuller(dfCpiDif[i])\n",
    "    print(f'ADF of {i}: {test[0]}')\n",
    "    print(f'p-value of {i}: {test[1]}')"
   ]
  },
  {
   "cell_type": "code",
   "execution_count": 49,
   "metadata": {},
   "outputs": [
    {
     "name": "stdout",
     "output_type": "stream",
     "text": [
      "<statsmodels.tsa.vector_ar.var_model.LagOrderResults object. Selected orders are: AIC -> 4, BIC -> 1, FPE -> 4, HQIC -> 1>\n",
      "Using 4 based on aic criterion\n"
     ]
    },
    {
     "data": {
      "text/plain": [
       "  Summary of Regression Results   \n",
       "==================================\n",
       "Model:                         VAR\n",
       "Method:                        OLS\n",
       "Date:           Mon, 26, Jul, 2021\n",
       "Time:                     21:51:12\n",
       "--------------------------------------------------------------------\n",
       "No. of Equations:         3.00000    BIC:                    37.1056\n",
       "Nobs:                     39.0000    HQIC:                   36.0390\n",
       "Log likelihood:          -818.136    FPE:                2.67178e+15\n",
       "AIC:                      35.4421    Det(Omega_mle):     1.12716e+15\n",
       "--------------------------------------------------------------------\n",
       "Results for equation ex_rate\n",
       "==================================================================================\n",
       "                     coefficient       std. error           t-stat            prob\n",
       "----------------------------------------------------------------------------------\n",
       "const                 171.053850       261.584879            0.654           0.513\n",
       "L1.ex_rate             -0.126433         0.163305           -0.774           0.439\n",
       "L1.money_supply        -0.000224         0.000543           -0.413           0.680\n",
       "L1.inf                -13.055819        34.599558           -0.377           0.706\n",
       "L2.ex_rate              0.141332         0.244276            0.579           0.563\n",
       "L2.money_supply         0.000510         0.000525            0.972           0.331\n",
       "L2.inf                 88.123262        35.063663            2.513           0.012\n",
       "L3.ex_rate             -0.279419         0.219094           -1.275           0.202\n",
       "L3.money_supply        -0.000537         0.000525           -1.022           0.307\n",
       "L3.inf                -92.099465        33.086559           -2.784           0.005\n",
       "L4.ex_rate              0.352717         0.215714            1.635           0.102\n",
       "L4.money_supply        -0.000055         0.000554           -0.100           0.921\n",
       "L4.inf                 62.100978        21.825986            2.845           0.004\n",
       "==================================================================================\n",
       "\n",
       "Results for equation money_supply\n",
       "==================================================================================\n",
       "                     coefficient       std. error           t-stat            prob\n",
       "----------------------------------------------------------------------------------\n",
       "const              239644.869574     85439.595035            2.805           0.005\n",
       "L1.ex_rate           -128.669560        53.339165           -2.412           0.016\n",
       "L1.money_supply        -0.061916         0.177294           -0.349           0.727\n",
       "L1.inf                 -2.064414     11301.005705           -0.000           1.000\n",
       "L2.ex_rate            -40.327389        79.785977           -0.505           0.613\n",
       "L2.money_supply        -0.143627         0.171482           -0.838           0.402\n",
       "L2.inf             -17526.075385     11452.593012           -1.530           0.126\n",
       "L3.ex_rate            -15.569321        71.561062           -0.218           0.828\n",
       "L3.money_supply         0.251898         0.171553            1.468           0.142\n",
       "L3.inf              19270.995017     10806.825770            1.783           0.075\n",
       "L4.ex_rate           -156.999465        70.457272           -2.228           0.026\n",
       "L4.money_supply         0.087252         0.180881            0.482           0.630\n",
       "L4.inf               3499.105338      7128.865510            0.491           0.624\n",
       "==================================================================================\n",
       "\n",
       "Results for equation inf\n",
       "==================================================================================\n",
       "                     coefficient       std. error           t-stat            prob\n",
       "----------------------------------------------------------------------------------\n",
       "const                  -4.391820         1.384776           -3.172           0.002\n",
       "L1.ex_rate              0.005103         0.000865            5.903           0.000\n",
       "L1.money_supply         0.000006         0.000003            2.131           0.033\n",
       "L1.inf                  0.484987         0.183163            2.648           0.008\n",
       "L2.ex_rate              0.000386         0.001293            0.298           0.765\n",
       "L2.money_supply         0.000005         0.000003            1.818           0.069\n",
       "L2.inf                 -0.512530         0.185620           -2.761           0.006\n",
       "L3.ex_rate              0.002987         0.001160            2.575           0.010\n",
       "L3.money_supply         0.000002         0.000003            0.608           0.543\n",
       "L3.inf                  0.235295         0.175153            1.343           0.179\n",
       "L4.ex_rate              0.000314         0.001142            0.275           0.783\n",
       "L4.money_supply         0.000002         0.000003            0.607           0.544\n",
       "L4.inf                 -0.210019         0.115542           -1.818           0.069\n",
       "==================================================================================\n",
       "\n",
       "Correlation matrix of residuals\n",
       "                 ex_rate  money_supply       inf\n",
       "ex_rate         1.000000     -0.080241  0.368021\n",
       "money_supply   -0.080241      1.000000 -0.169451\n",
       "inf             0.368021     -0.169451  1.000000\n",
       "\n"
      ]
     },
     "execution_count": 49,
     "metadata": {},
     "output_type": "execute_result"
    }
   ],
   "source": [
    "var = VAR(dfCpiDif)\n",
    "result = var.fit(maxlags=4, ic='aic', verbose=True)\n",
    "result.summary()"
   ]
  },
  {
   "cell_type": "code",
   "execution_count": 50,
   "metadata": {},
   "outputs": [
    {
     "data": {
      "text/plain": [
       "array([3.23590418, 3.29835561, 3.04879665, 3.49792176, 3.63751891,\n",
       "       3.59901505, 3.78114786, 3.67908554, 3.62580333, 3.81903495,\n",
       "       3.86660551, 3.88287442, 3.93823976, 3.89078186, 3.8963528 ])"
      ]
     },
     "execution_count": 50,
     "metadata": {},
     "output_type": "execute_result"
    }
   ],
   "source": [
    "lags = result.k_ar\n",
    "\n",
    "inf_pred = result.forecast(dfCpiDif[-lags:].values, steps=15)[:,2:3]\n",
    "inf_pred = dfCpiDif['inf'].iloc[-1] + inf_pred.cumsum()\n",
    "inf_pred"
   ]
  },
  {
   "cell_type": "code",
   "execution_count": 51,
   "metadata": {},
   "outputs": [
    {
     "data": {
      "image/png": "[encoded data removed]",
      "text/plain": [
       "<Figure size 432x288 with 1 Axes>"
      ]
     },
     "metadata": {
      "image/png": {
       "height": 244,
       "width": 366
      }
     },
     "output_type": "display_data"
    }
   ],
   "source": [
    "date = pd.date_range(start='2012-09-01', periods=15, freq='M')\n",
    "dfPred = pd.DataFrame(inf_pred, index=date, columns=['inf'])\n",
    "\n",
    "plt.plot(dfPred)\n",
    "plt.show()"
   ]
  },
  {
   "cell_type": "markdown",
   "metadata": {},
   "source": [
    "# References\n",
    "- [Ebook] [Forecasting: Principles and Practice](https://otexts.com/fpp3/)\n",
    "- [Ebook] [Forecasting and Analytics with Adam](https://www.openforecast.org/adam/)\n",
    "- [Ebook] [STAT 510: Applied Time Series Analysis](https://online.stat.psu.edu/stat510/)"
   ]
  },
  {
   "cell_type": "markdown",
   "metadata": {},
   "source": [
    "---\n",
    "*&#9829; By Quang Hung x Thuy Linh &#9829;*"
   ]
  }
 ],
 "metadata": {
  "kernelspec": {
   "display_name": "Python 3 (ipykernel)",
   "language": "python",
   "name": "python3"
  },
  "language_info": {
   "codemirror_mode": {
    "name": "ipython",
    "version": 3
   },
   "file_extension": ".py",
   "mimetype": "text/x-python",
   "name": "python",
   "nbconvert_exporter": "python",
   "pygments_lexer": "ipython3",
   "version": "3.9.7"
  },
  "toc-autonumbering": false
 },
 "nbformat": 4,
 "nbformat_minor": 4
}
