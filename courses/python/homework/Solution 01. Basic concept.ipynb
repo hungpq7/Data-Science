{
 "cells": [
  {
   "cell_type": "markdown",
   "id": "5f991f18-a659-4623-8d56-056ebbd2f6a8",
   "metadata": {},
   "source": [
    "# Bài 1\n",
    "\n",
    "1. Cài đặt các thư viện sau: numpy, pandas, matplotlib, seaborn\n",
    "2. Tìm câu lệnh list toàn bộ các thư viện đã cài đặt"
   ]
  },
  {
   "cell_type": "code",
   "execution_count": null,
   "id": "c02bb059-4584-41b8-af99-1eed837fc805",
   "metadata": {},
   "outputs": [],
   "source": [
    "!pip install numpy"
   ]
  },
  {
   "cell_type": "code",
   "execution_count": null,
   "id": "a234078c-d9e6-40d0-bbc8-554652d10abb",
   "metadata": {},
   "outputs": [],
   "source": [
    "!pip freeze"
   ]
  },
  {
   "cell_type": "markdown",
   "id": "7fe37391-ae48-4d30-a41d-660e790cbbdc",
   "metadata": {},
   "source": [
    "# Bài 2\n",
    "Tự ôn lại kiến thức trong buổi 1 sau đó thực hành code theo bài giảng các phần: biến và đối tượng, các loại dấu, ký tự đặc biệt"
   ]
  }
 ],
 "metadata": {
  "kernelspec": {
   "display_name": "Python 3 (ipykernel)",
   "language": "python",
   "name": "python3"
  },
  "language_info": {
   "codemirror_mode": {
    "name": "ipython",
    "version": 3
   },
   "file_extension": ".py",
   "mimetype": "text/x-python",
   "name": "python",
   "nbconvert_exporter": "python",
   "pygments_lexer": "ipython3",
   "version": "3.9.7"
  }
 },
 "nbformat": 4,
 "nbformat_minor": 5
}
