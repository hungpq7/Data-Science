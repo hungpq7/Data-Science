{
 "cells": [
  {
   "cell_type": "markdown",
   "metadata": {
    "colab": {},
    "colab_type": "code",
    "id": "BBi3f7NkkxMs",
    "tags": []
   },
   "source": [
    "# Bài 1\n",
    "\n",
    "1. Cài đặt các thư viện sau: numpy, pandas, matplotlib, seaborn\n",
    "2. Tìm câu lệnh list toàn bộ các thư viện đã cài đặt"
   ]
  },
  {
   "cell_type": "code",
   "execution_count": null,
   "metadata": {},
   "outputs": [],
   "source": []
  },
  {
   "cell_type": "markdown",
   "metadata": {},
   "source": [
    "# Bài 2\n",
    "Tự ôn lại kiến thức trong buổi 1 sau đó thực hành code theo bài giảng các phần: biến và đối tượng, các loại dấu, ký tự đặc biệt"
   ]
  }
 ],
 "metadata": {
  "colab": {
   "name": "Homework 02.ipynb",
   "provenance": []
  },
  "kernelspec": {
   "display_name": "Python 3 (ipykernel)",
   "language": "python",
   "name": "python3"
  },
  "language_info": {
   "codemirror_mode": {
    "name": "ipython",
    "version": 3
   },
   "file_extension": ".py",
   "mimetype": "text/x-python",
   "name": "python",
   "nbconvert_exporter": "python",
   "pygments_lexer": "ipython3",
   "version": "3.9.7"
  }
 },
 "nbformat": 4,
 "nbformat_minor": 4
}
