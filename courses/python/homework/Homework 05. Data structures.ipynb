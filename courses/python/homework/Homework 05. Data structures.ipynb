{
 "cells": [
  {
   "cell_type": "markdown",
   "metadata": {},
   "source": [
    "## Bài 1\n",
    "Cho 1 list dưới đây:\\\n",
    "`[python, java, tableau, eviews, matlab, sql, excel, data, analytic, science]`\n",
    "\n",
    "Tìm tất cả các từ có số chữ cái lớn hơn 5 trong list trên và in ra dưới dạng 1 tuple"
   ]
  },
  {
   "cell_type": "code",
   "execution_count": null,
   "metadata": {},
   "outputs": [],
   "source": []
  },
  {
   "cell_type": "markdown",
   "metadata": {},
   "source": [
    "## Bài 2\n",
    "2 lần đánh giá kỹ năng của các chuyên viên Phân tích Dữ liệu thu được kết quả dưới dạng dictionary như dưới đây. Hãy tạo dictionary mới cập nhật tất cả kỹ năng mỗi người. Nếu một kỹ năng được test nhiều lần sẽ lấy kết quả sau cùng."
   ]
  },
  {
   "cell_type": "code",
   "execution_count": 1,
   "metadata": {},
   "outputs": [],
   "source": [
    "test1 = {\n",
    "    'Kevin': {'Statistics': 1, 'Python': 3, 'R': 1},\n",
    "    'Wayne': {'Statistics': 2, 'SQL': 4, 'Tableau': 3}\n",
    "}\n",
    "\n",
    "test2 = {\n",
    "    'Kevin': {'Statistics': 3, 'R': 2, 'SQL': 3},\n",
    "    'Wayne': {'R': 3},\n",
    "    'Aaron': {'Statistics': 4, 'Python': 5, 'SQL': 4, 'Machine Learning': 3}\n",
    "}"
   ]
  },
  {
   "cell_type": "code",
   "execution_count": null,
   "metadata": {},
   "outputs": [],
   "source": []
  },
  {
   "cell_type": "markdown",
   "metadata": {},
   "source": [
    "## Bài 3\n",
    "Cho dictionary `my_dict`. Hãy cập nhật thêm key cho `my_dict` từ `raw_dict` và `raw_list`. Sau đó sửa value của `my_dict` thành độ dài của key tương ứng."
   ]
  },
  {
   "cell_type": "code",
   "execution_count": 26,
   "metadata": {},
   "outputs": [],
   "source": [
    "my_dict = {\n",
    "    'Python': None,\n",
    "    'Anaconda': None,\n",
    "    'TabularData': None,\n",
    "    'PyCharm': None\n",
    "}\n",
    "\n",
    "raw_dict = {\n",
    "    'Statistics': None,\n",
    "    'LinearAlgebra': None,\n",
    "    'Tableau': None\n",
    "}\n",
    "\n",
    "raw_list = ['PowerBI', 'R', 'MachineLearning', 'DeepLearning']"
   ]
  },
  {
   "cell_type": "code",
   "execution_count": null,
   "metadata": {},
   "outputs": [],
   "source": []
  },
  {
   "cell_type": "markdown",
   "metadata": {},
   "source": [
    "## Bài 4\n",
    "Cho đoạn văn bản dưới đây. Hãy tạo ra một dictinary trong đó key là danh sách các từ (không viết hoa, sắp xếp theo alphabet), value là số lần xuất hiện của từ đó."
   ]
  },
  {
   "cell_type": "code",
   "execution_count": 24,
   "metadata": {},
   "outputs": [],
   "source": [
    "text = '''Python is an interpreted, high-level, general-purpose programming language. Created by Guido van Rossum and first released in 1991, Python is design philosophy emphasizes code readability with its notable use of significant whitespace. Its language constructs and object-oriented approach aim to help programmers write clear, logical code for small and large-scale projects.'''"
   ]
  },
  {
   "cell_type": "markdown",
   "metadata": {
    "jp-MarkdownHeadingCollapsed": true,
    "tags": []
   },
   "source": [
    "## Bài 5\n",
    "\n",
    "Viết chương trình tính tần suất của các phần tử trong list dưới đây, in ra kết quả dưới dạng dictionary.\\\n",
    "`[100, 30, 20, 100, 30, 200, 30, 20, 50, 600, 20, 20, 100, 50, 600, -15, -10]`"
   ]
  },
  {
   "cell_type": "code",
   "execution_count": null,
   "metadata": {},
   "outputs": [],
   "source": []
  },
  {
   "cell_type": "markdown",
   "metadata": {},
   "source": [
    "## Bài 6\n",
    "Viết một hàm nhận đầu vào là một số nguyên dương và trả về một list chứa các thừa số nguyên tố của nó.\\\n",
    "Ví dụ: `prime_decompose(12)` trả về `[2, 2, 3]`."
   ]
  },
  {
   "cell_type": "code",
   "execution_count": null,
   "metadata": {},
   "outputs": [],
   "source": []
  },
  {
   "cell_type": "markdown",
   "metadata": {},
   "source": [
    "## Bài 7\n",
    "a,b,c là các số nguyên nhỏ hơn 10 ; a + b/c = 10. In ra tất cả các lists `[a, b, c]` thỏa mãn điều kiện trên. Kết quả phải sắp xếp theo thứ tự a giảm dần, sau đó sắp xếp theo b tăng dần và c tăng dần."
   ]
  },
  {
   "cell_type": "code",
   "execution_count": null,
   "metadata": {},
   "outputs": [],
   "source": []
  },
  {
   "cell_type": "markdown",
   "metadata": {},
   "source": [
    "## Bài 8\n",
    "Viết một chương trình nhập vào 2 số nguyên `'x,y'` và tạo ra ma trận A có x dòng và y cột. Giá trị của mỗi phần tử trong ma trận được xác định bằng $A_{i, j}=i \\times j$ với $i \\in \\{1,2,3,...,x\\}$ và $j \\in \\{1,2,3,...,y\\}$."
   ]
  },
  {
   "cell_type": "code",
   "execution_count": null,
   "metadata": {},
   "outputs": [],
   "source": []
  }
 ],
 "metadata": {
  "kernelspec": {
   "display_name": "Python 3 (ipykernel)",
   "language": "python",
   "name": "python3"
  },
  "language_info": {
   "codemirror_mode": {
    "name": "ipython",
    "version": 3
   },
   "file_extension": ".py",
   "mimetype": "text/x-python",
   "name": "python",
   "nbconvert_exporter": "python",
   "pygments_lexer": "ipython3",
   "version": "3.9.7"
  }
 },
 "nbformat": 4,
 "nbformat_minor": 4
}
