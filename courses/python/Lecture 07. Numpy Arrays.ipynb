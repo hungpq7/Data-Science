{
 "cells": [
  {
   "cell_type": "markdown",
   "metadata": {
    "datalore": {
     "sheet_delimiter": false
    },
    "tags": [
     "DataChill"
    ]
   },
   "source": [
    "<img src=\"https://raw.githubusercontent.com/linhpt7/COURSE/main/datachilly_logo.png\" style=\"height:100px; margin:0 auto 20px;\">"
   ]
  },
  {
   "cell_type": "markdown",
   "metadata": {
    "tags": [
     "DataChill"
    ]
   },
   "source": [
    "# MỤC LỤC\n",
    "- [1. Giới thiệu Numpy](#1.-Giới-thiệu-Numpy)\n",
    "  * [1.1. Hằng số](#1.1.-Hằng-số)\n",
    "  * [1.2. Array (Mảng nhiều chiều)](#1.2.-Array-(Mảng-nhiều-chiều))\n",
    "    * [Dãy số cách đều](#Dãy-số-cách-đều)\n",
    "  * [1.3. Khái niệm tính toán từng phần tử](#1.3.-Khái-niệm-tính-toán-từng-phần-tử)\n",
    "  * [1.4. Các phép toán trong Numpy](#1.4.-Các-phép-toán-trong-Numpy)\n",
    "  * [1.5. Mảng ngẫu nhiên](#1.5.-Mảng-ngẫu-nhiên)\n",
    "    * [Số thực ngẫu nhiên](#Số-thực-ngẫu-nhiên)\n",
    "    * [Số nguyên ngẫu nhiên](#Số-nguyên-ngẫu-nhiên)\n",
    "    * [Seed](#Seed)\n",
    "- [2. Thao tác với Array](#2.-Thao-tác-với-Array)\n",
    "  * [2.1. Mô tả array](#2.1.-Mô-tả-array)\n",
    "  * [2.2. Slicing](#2.2.-Slicing)\n",
    "    * [Slicing cơ bản](#Slicing-cơ-bản)\n",
    "    * [Boolean slicing](#Boolean-slicing)\n",
    "  * [2.3. Tái cấu trúc array](#2.3.-Tái-cấu-trúc-array)\n",
    "    * [Làm phẳng array](#Làm-phẳng-array)\n",
    "- [Giải đáp tình huống](#Giải-đáp-tình-huống)\n"
   ]
  },
  {
   "cell_type": "markdown",
   "metadata": {
    "datalore": {
     "sheet_delimiter": false
    },
    "tags": [
     "DataChill"
    ]
   },
   "source": [
    "Numpy là thư viện chuyên sâu cho các lĩnh vực toán học như Xác suất Thống kê (Statistics) hay Đại số Tuyến tính (Linear Algebra), và là nền tảng của Học máy (Machine Learning). Numpy làm việc chủ yếu với đối tượng array (mảng).\\\n",
    "Theo quy ước, thư viện `numpy` luôn được import dưới tên gọi `np`."
   ]
  },
  {
   "cell_type": "code",
   "execution_count": null,
   "metadata": {
    "datalore": {
     "sheet_delimiter": false
    },
    "tags": [
     "DataChill"
    ]
   },
   "outputs": [],
   "source": [
    "import numpy as np"
   ]
  },
  {
   "cell_type": "markdown",
   "metadata": {
    "datalore": {
     "sheet_delimiter": false
    },
    "tags": [
     "DataChill"
    ]
   },
   "source": [
    "# 1. Giới thiệu Numpy\n",
    "![image](https://img.shields.io/badge/Data-Chilly-teal?logo=python)"
   ]
  },
  {
   "cell_type": "markdown",
   "metadata": {
    "datalore": {
     "sheet_delimiter": false
    },
    "tags": [
     "DataChill"
    ]
   },
   "source": [
    "## 1.1. Hằng số"
   ]
  },
  {
   "cell_type": "code",
   "execution_count": null,
   "metadata": {
    "datalore": {
     "sheet_delimiter": false
    },
    "tags": [
     "DataChill"
    ]
   },
   "outputs": [],
   "source": [
    "import numpy as np"
   ]
  },
  {
   "cell_type": "code",
   "execution_count": null,
   "metadata": {
    "datalore": {
     "sheet_delimiter": false
    },
    "tags": [
     "DataChill"
    ]
   },
   "outputs": [],
   "source": [
    "np.pi"
   ]
  },
  {
   "cell_type": "code",
   "execution_count": null,
   "metadata": {
    "datalore": {
     "sheet_delimiter": false
    },
    "tags": [
     "DataChill"
    ]
   },
   "outputs": [],
   "source": [
    "np.e"
   ]
  },
  {
   "cell_type": "code",
   "execution_count": null,
   "metadata": {
    "datalore": {
     "sheet_delimiter": false
    },
    "tags": [
     "DataChill"
    ]
   },
   "outputs": [],
   "source": [
    "# not a number (không phải số)\n",
    "np.nan"
   ]
  },
  {
   "cell_type": "markdown",
   "metadata": {
    "datalore": {
     "sheet_delimiter": false
    },
    "tags": [
     "DataChill"
    ]
   },
   "source": [
    "## 1.2. Array (Mảng nhiều chiều)\n",
    "Array là đối tượng làm việc chính của Numpy, có tên đầy đủ là n-dimensional array (ndarray). Array có thể là một đại lượng vô hướng (0 chiều), một vector (1 chiều) hay một ma trận (2 chiều)."
   ]
  },
  {
   "cell_type": "code",
   "execution_count": null,
   "metadata": {
    "datalore": {
     "sheet_delimiter": false
    },
    "tags": [
     "DataChill"
    ]
   },
   "outputs": [],
   "source": [
    "import numpy as np"
   ]
  },
  {
   "cell_type": "code",
   "execution_count": null,
   "metadata": {
    "datalore": {
     "sheet_delimiter": false
    },
    "tags": [
     "DataChill"
    ]
   },
   "outputs": [],
   "source": [
    "np.array(7)"
   ]
  },
  {
   "cell_type": "code",
   "execution_count": null,
   "metadata": {
    "datalore": {
     "sheet_delimiter": false
    },
    "tags": [
     "DataChill"
    ]
   },
   "outputs": [],
   "source": [
    "type(np.array([1, 2, 3]))"
   ]
  },
  {
   "cell_type": "code",
   "execution_count": null,
   "metadata": {
    "datalore": {
     "sheet_delimiter": false
    },
    "tags": [
     "DataChill"
    ]
   },
   "outputs": [],
   "source": [
    "np.array([[3, 4], [7, 8]])"
   ]
  },
  {
   "cell_type": "markdown",
   "metadata": {
    "datalore": {
     "sheet_delimiter": false
    },
    "tags": [
     "DataChill"
    ]
   },
   "source": [
    "**Chú ý:** Đối tượng array trong Numpy rất giống với list trong Python. Các điểm khác biệt lớn nhất giữa chúng:\n",
    "- Các phần tử trong một list có thể có nhiều kiểu dữ liệu khác nhau; nhưng để tối ưu hóa sức mạnh tính toán của array, các phần tử phải có cùng kiểu dữ liệu.\n",
    "- Array có hiệu năng tốt hơn nhiều so với list.\n",
    "- Array cho phép thực hiện thao tác với từng phần tử, vì thế rất phù hợp trong việc tính toán."
   ]
  },
  {
   "cell_type": "markdown",
   "metadata": {
    "datalore": {
     "sheet_delimiter": false
    },
    "tags": [
     "DataChill"
    ]
   },
   "source": [
    "#### Dãy số cách đều\n",
    "Hai hàm `numpy.arange()` và `numpy.linspace()` cùng tạo ra dãy số cách đều. Trong khi `numpy.arange()` cho phép lựa chọn khoảng cách thì `numpy.linspace()` cho phép lựa chọn số phần tử tạo ra."
   ]
  },
  {
   "cell_type": "code",
   "execution_count": null,
   "metadata": {
    "datalore": {
     "sheet_delimiter": false
    },
    "tags": [
     "DataChill"
    ]
   },
   "outputs": [],
   "source": [
    "# dãy số cách đều 0.5, từ -5 đến 4\n",
    "np.arange(-5, 4, 0.5)"
   ]
  },
  {
   "cell_type": "code",
   "execution_count": null,
   "metadata": {
    "datalore": {
     "sheet_delimiter": false
    },
    "tags": [
     "DataChill"
    ]
   },
   "outputs": [],
   "source": [
    "# dãy 20 số cách đều, từ 1 đến 5\n",
    "np.linspace(1, 5, 20)"
   ]
  },
  {
   "cell_type": "markdown",
   "metadata": {
    "datalore": {
     "sheet_delimiter": false
    },
    "tags": [
     "DataChill"
    ]
   },
   "source": [
    "**Tình huống 1:** Tạo ra dãy số nguyên nằm trong khoảng $[a,b]$ bất kỳ."
   ]
  },
  {
   "cell_type": "markdown",
   "metadata": {
    "datalore": {
     "sheet_delimiter": false
    },
    "tags": [
     "DataChill"
    ]
   },
   "source": [
    "## 1.3. Khái niệm tính toán từng phần tử\n",
    "Điểm nổi bật của Numpy là có thể thực hiện tính toán với từng phần tử (element-wise) của array."
   ]
  },
  {
   "cell_type": "code",
   "execution_count": null,
   "metadata": {
    "datalore": {
     "sheet_delimiter": false
    },
    "tags": [
     "DataChill"
    ]
   },
   "outputs": [],
   "source": [
    "import numpy as np"
   ]
  },
  {
   "cell_type": "code",
   "execution_count": null,
   "metadata": {
    "datalore": {
     "sheet_delimiter": false
    },
    "tags": [
     "DataChill"
    ]
   },
   "outputs": [],
   "source": [
    "# cộng 2 list với nhau, kết quả là nối 2 list\n",
    "[1, 2, 3] + [4, 5, 6]"
   ]
  },
  {
   "cell_type": "code",
   "execution_count": null,
   "metadata": {
    "datalore": {
     "sheet_delimiter": false
    },
    "tags": [
     "DataChill"
    ]
   },
   "outputs": [],
   "source": [
    "# cộng 2 array kết quả là cộng từng phần tử\n",
    "np.array([1, 2, 3]) + np.array([4, 5, 6])"
   ]
  },
  {
   "cell_type": "code",
   "execution_count": null,
   "metadata": {
    "datalore": {
     "sheet_delimiter": false
    },
    "tags": [
     "DataChill"
    ]
   },
   "outputs": [],
   "source": [
    "# cộng 1 array với 1 số, kết quả là cộng số đó với từng phần tử\n",
    "np.array([1, 2, 3]) + 7"
   ]
  },
  {
   "cell_type": "markdown",
   "metadata": {
    "datalore": {
     "sheet_delimiter": false
    },
    "tags": [
     "DataChill"
    ]
   },
   "source": [
    "Một số ví dụ tính toán từng phần tử với mảng 2 chiều."
   ]
  },
  {
   "cell_type": "code",
   "execution_count": null,
   "metadata": {
    "datalore": {
     "sheet_delimiter": false
    },
    "tags": [
     "DataChill"
    ]
   },
   "outputs": [],
   "source": [
    "a = np.array([[1, 1, 1],\n",
    "              [1, 1, 1],\n",
    "              [1, 1, 1]])\n",
    "b = np.array(7)\n",
    "a * b"
   ]
  },
  {
   "cell_type": "code",
   "execution_count": null,
   "metadata": {
    "datalore": {
     "sheet_delimiter": false
    },
    "tags": [
     "DataChill"
    ]
   },
   "outputs": [],
   "source": [
    "a = np.array([[1, 1, 1],\n",
    "              [1, 1, 1],\n",
    "              [1, 1, 1]])\n",
    "b = np.array([2, 3, 4])\n",
    "a * b"
   ]
  },
  {
   "cell_type": "code",
   "execution_count": null,
   "metadata": {
    "datalore": {
     "sheet_delimiter": false
    },
    "tags": [
     "DataChill"
    ]
   },
   "outputs": [],
   "source": [
    "a = np.array([[1, 1, 1],\n",
    "              [1, 1, 1],\n",
    "              [1, 1, 1]])\n",
    "b = np.array([[2], [3], [4]])\n",
    "a * b"
   ]
  },
  {
   "cell_type": "markdown",
   "metadata": {
    "datalore": {
     "sheet_delimiter": false
    },
    "tags": [
     "DataChill"
    ]
   },
   "source": [
    "**Tình huống 2:** Giải thích kết quả 3 phép nhân array trên."
   ]
  },
  {
   "cell_type": "markdown",
   "metadata": {
    "datalore": {
     "sheet_delimiter": false
    },
    "tags": [
     "DataChill"
    ]
   },
   "source": [
    "## 1.4. Các phép toán trong Numpy\n",
    "Numpy có rất nhiều hàm toán học và đều hoạt động \"element-wise\".\\\n",
    "[Documentation](https://docs.scipy.org/doc/numpy-1.17.0/reference/routines.math.html)  "
   ]
  },
  {
   "cell_type": "code",
   "execution_count": null,
   "metadata": {
    "datalore": {
     "sheet_delimiter": false
    },
    "tags": [
     "DataChill"
    ]
   },
   "outputs": [],
   "source": [
    "np.sin(np.pi/2)"
   ]
  },
  {
   "cell_type": "code",
   "execution_count": null,
   "metadata": {
    "datalore": {
     "sheet_delimiter": false
    },
    "tags": [
     "DataChill"
    ]
   },
   "outputs": [],
   "source": [
    "np.sqrt(-1)"
   ]
  },
  {
   "cell_type": "code",
   "execution_count": null,
   "metadata": {
    "datalore": {
     "sheet_delimiter": false
    },
    "tags": [
     "DataChill"
    ]
   },
   "outputs": [],
   "source": [
    "x = np.array([-4, 6, -7])\n",
    "np.abs(x)"
   ]
  },
  {
   "cell_type": "code",
   "execution_count": null,
   "metadata": {
    "datalore": {
     "sheet_delimiter": false
    },
    "tags": [
     "DataChill"
    ]
   },
   "outputs": [],
   "source": [
    "x = np.array([1, 2, 3])\n",
    "np.exp(x)"
   ]
  },
  {
   "cell_type": "code",
   "execution_count": null,
   "metadata": {
    "datalore": {
     "sheet_delimiter": false
    },
    "tags": [
     "DataChill"
    ]
   },
   "outputs": [],
   "source": [
    "x = np.array([10, 1000, 100000])\n",
    "np.log10(x)"
   ]
  },
  {
   "cell_type": "markdown",
   "metadata": {
    "datalore": {
     "sheet_delimiter": false
    },
    "tags": [
     "DataChill"
    ]
   },
   "source": [
    "## 1.5. Mảng ngẫu nhiên\n",
    "Việc tạo ra một array chứa các số ngẫu nhiên nhưng tuân theo một số tính chất (như số nguyên hay phân phối chuẩn) rất quan trọng để thử nghiệm các đặc tính của dữ liệu."
   ]
  },
  {
   "cell_type": "code",
   "execution_count": null,
   "metadata": {
    "datalore": {
     "sheet_delimiter": false
    },
    "tags": [
     "DataChill"
    ]
   },
   "outputs": [],
   "source": [
    "import numpy as np"
   ]
  },
  {
   "cell_type": "markdown",
   "metadata": {
    "datalore": {
     "sheet_delimiter": false
    },
    "tags": [
     "DataChill"
    ]
   },
   "source": [
    "#### Số thực ngẫu nhiên\n",
    "Hàm `numpy.random.random()` trả về các số thực ngẫu nhiên trong nửa khoảng `[0.0; 1.0)`."
   ]
  },
  {
   "cell_type": "code",
   "execution_count": null,
   "metadata": {
    "datalore": {
     "sheet_delimiter": false
    },
    "tags": [
     "DataChill"
    ]
   },
   "outputs": [],
   "source": [
    "np.random.random(size=(4,5))"
   ]
  },
  {
   "cell_type": "markdown",
   "metadata": {
    "datalore": {
     "sheet_delimiter": false
    },
    "tags": [
     "DataChill"
    ]
   },
   "source": [
    "**Tình huống 3:** Tạo ra các số thực ngẫu nhiên trong nửa khoảng `[a; b)`."
   ]
  },
  {
   "cell_type": "markdown",
   "metadata": {
    "datalore": {
     "sheet_delimiter": false
    },
    "tags": [
     "DataChill"
    ]
   },
   "source": [
    "#### Số nguyên ngẫu nhiên\n",
    "Hàm `numpy.random.randint()` trả về các số nguyên ngẫu nhiên trong nửa khoảng `[a; b)` hoặc `[0; a)`."
   ]
  },
  {
   "cell_type": "code",
   "execution_count": null,
   "metadata": {
    "datalore": {
     "sheet_delimiter": false
    },
    "tags": [
     "DataChill"
    ]
   },
   "outputs": [],
   "source": [
    "np.random.randint(10, 100, (4,5))"
   ]
  },
  {
   "cell_type": "code",
   "execution_count": null,
   "metadata": {
    "datalore": {
     "sheet_delimiter": false
    },
    "tags": [
     "DataChill"
    ]
   },
   "outputs": [],
   "source": [
    "np.random.randint(5, size=(4,5))"
   ]
  },
  {
   "cell_type": "markdown",
   "metadata": {
    "datalore": {
     "sheet_delimiter": false
    },
    "tags": [
     "DataChill"
    ]
   },
   "source": [
    "#### Seed\n",
    "Hàm `numpy.random.seed()` sẽ cố định kết quả ngẫu nhiên với mỗi số được truyền vào."
   ]
  },
  {
   "cell_type": "code",
   "execution_count": null,
   "metadata": {
    "datalore": {
     "sheet_delimiter": false
    },
    "tags": [
     "DataChill"
    ]
   },
   "outputs": [],
   "source": [
    "np.random.seed(0)\n",
    "np.random.randint(1, 9, 20)"
   ]
  },
  {
   "cell_type": "markdown",
   "metadata": {
    "datalore": {
     "sheet_delimiter": false
    },
    "tags": [
     "DataChill"
    ]
   },
   "source": [
    "# 2. Thao tác với Array\n",
    "![image](https://img.shields.io/badge/Data-Chilly-teal?logo=python)"
   ]
  },
  {
   "cell_type": "markdown",
   "metadata": {
    "datalore": {
     "sheet_delimiter": false
    },
    "tags": [
     "DataChill"
    ]
   },
   "source": [
    "## 2.1. Mô tả array"
   ]
  },
  {
   "cell_type": "code",
   "execution_count": null,
   "metadata": {
    "datalore": {
     "sheet_delimiter": false
    },
    "tags": [
     "DataChill"
    ]
   },
   "outputs": [],
   "source": [
    "import numpy as np"
   ]
  },
  {
   "cell_type": "code",
   "execution_count": null,
   "metadata": {
    "datalore": {
     "sheet_delimiter": false
    },
    "tags": [
     "DataChill"
    ]
   },
   "outputs": [],
   "source": [
    "a = np.array(\n",
    "    [[ 1,  2,  3,  4,  5,  6],\n",
    "     [ 7,  8,  9, 10, 11, 12],\n",
    "     [13, 14, 15, 16, 17, 18],\n",
    "     [19, 20, 21, 22, 23, 24]]\n",
    ")"
   ]
  },
  {
   "cell_type": "code",
   "execution_count": null,
   "metadata": {
    "datalore": {
     "sheet_delimiter": false
    },
    "tags": [
     "DataChill"
    ]
   },
   "outputs": [],
   "source": [
    "# số chiều\n",
    "a.ndim"
   ]
  },
  {
   "cell_type": "code",
   "execution_count": null,
   "metadata": {
    "datalore": {
     "sheet_delimiter": false
    },
    "tags": [
     "DataChill"
    ]
   },
   "outputs": [],
   "source": [
    "# kích thước mỗi chiều\n",
    "a.shape"
   ]
  },
  {
   "cell_type": "code",
   "execution_count": null,
   "metadata": {
    "datalore": {
     "sheet_delimiter": false
    },
    "tags": [
     "DataChill"
    ]
   },
   "outputs": [],
   "source": [
    "# số phần tử\n",
    "a.size"
   ]
  },
  {
   "cell_type": "markdown",
   "metadata": {
    "datalore": {
     "sheet_delimiter": false
    },
    "tags": [
     "DataChill"
    ]
   },
   "source": [
    "**Tình huống 4:** Sử dụng Numpy, kiểm tra:\n",
    "- Số phần tử thuộc tính `shape` trả về có bằng giá trị `ndim` hay không?\n",
    "- Kích thước array có bằng tích độ dài tất cả các chiều hay không?"
   ]
  },
  {
   "cell_type": "markdown",
   "metadata": {
    "datalore": {
     "sheet_delimiter": false
    },
    "tags": [
     "DataChill"
    ]
   },
   "source": [
    "**Chú ý:** Numpy xác định chiều của array dựa vào ngoặc vuông `[]`:\n",
    "- Array `a` được bắt đầu bằng 2 dấu ngoặc vuông, vì thế `a` có 2 chiều.\n",
    "- Chiều thứ nhất (axis 0) là chiều dọc, xác định bởi dấu ngoặc vuông đầu tiên. Bên trong dấu ngoặc này có 4 phần tử, vậy kích thước của chiều thứ nhất là 4.\n",
    "- Chiều thứ hai (axis 1) là chiều ngang, xác định bởi dấu ngoặc vuông thứ hai. Bên trong dấu ngoặc này có 6 phần tử, vậy kích thước của chiều thứ hai là 6.\n",
    "\n",
    "<img src=\"images\\array_axes_convention.png\">"
   ]
  },
  {
   "cell_type": "code",
   "execution_count": null,
   "metadata": {
    "datalore": {
     "sheet_delimiter": false
    },
    "tags": [
     "DataChill"
    ]
   },
   "outputs": [],
   "source": [
    "a = np.array(\n",
    "    [[ 1,  2,  3,  4,  5,  6],\n",
    "     [ 7,  8,  9, 10, 11, 12],\n",
    "     [13, 14, 15, 16, 17, 18],\n",
    "     [19, 20, 21, 22, 23, 24]]\n",
    ")"
   ]
  },
  {
   "cell_type": "code",
   "execution_count": null,
   "metadata": {
    "datalore": {
     "sheet_delimiter": false
    },
    "tags": [
     "DataChill"
    ]
   },
   "outputs": [],
   "source": [
    "# phần tử nhỏ nhất trong toàn bộ array\n",
    "a.min()"
   ]
  },
  {
   "cell_type": "markdown",
   "metadata": {
    "datalore": {
     "sheet_delimiter": false
    },
    "tags": [
     "DataChill"
    ]
   },
   "source": [
    "## 2.2. Slicing\n",
    "Giống với list, cũng có thể sử dụng kỹ thuật slicing đối với array nhưng đa dạng hơn rất nhiều."
   ]
  },
  {
   "cell_type": "code",
   "execution_count": null,
   "metadata": {
    "datalore": {
     "sheet_delimiter": false
    },
    "tags": [
     "DataChill"
    ]
   },
   "outputs": [],
   "source": [
    "import numpy as np"
   ]
  },
  {
   "cell_type": "markdown",
   "metadata": {
    "datalore": {
     "sheet_delimiter": false
    },
    "tags": [
     "DataChill"
    ]
   },
   "source": [
    "#### Slicing cơ bản\n",
    "Cú pháp: `[start:stop:step]`. Để slicing nhiều chiều: `[start0:stop0:step0, start1:stop1:step1,...]` trong đó các số 0, 1,... ám chỉ chiều 0, chiều 1,..."
   ]
  },
  {
   "cell_type": "code",
   "execution_count": null,
   "metadata": {
    "datalore": {
     "sheet_delimiter": false
    },
    "tags": [
     "DataChill"
    ]
   },
   "outputs": [],
   "source": [
    "a = np.array(\n",
    "    [[ 1,  2,  3,  4,  5,  6],\n",
    "     [ 7,  8,  9, 10, 11, 12],\n",
    "     [13, 14, 15, 16, 17, 18],\n",
    "     [19, 20, 21, 22, 23, 24]]\n",
    ")"
   ]
  },
  {
   "cell_type": "code",
   "execution_count": null,
   "metadata": {
    "datalore": {
     "sheet_delimiter": false
    },
    "tags": [
     "DataChill"
    ]
   },
   "outputs": [],
   "source": [
    "# cắt ra các phần tử thuộc dòng 1, 2\n",
    "a[1:3]"
   ]
  },
  {
   "cell_type": "code",
   "execution_count": null,
   "metadata": {
    "datalore": {
     "sheet_delimiter": false
    },
    "tags": [
     "DataChill"
    ]
   },
   "outputs": [],
   "source": [
    "# cắt ra các phần tử thuộc cột 0, 2, 4\n",
    "a[:, ::2]"
   ]
  },
  {
   "cell_type": "code",
   "execution_count": null,
   "metadata": {
    "datalore": {
     "sheet_delimiter": false
    },
    "tags": [
     "DataChill"
    ]
   },
   "outputs": [],
   "source": [
    "# kết hợp slicing trên 2 chiều\n",
    "a[1:3, 1::2]"
   ]
  },
  {
   "cell_type": "code",
   "execution_count": null,
   "metadata": {
    "datalore": {
     "sheet_delimiter": false
    },
    "tags": [
     "DataChill"
    ]
   },
   "outputs": [],
   "source": [
    "# lấy phần tử nằm ở hàng 2, cột 1\n",
    "a[2, 1]"
   ]
  },
  {
   "cell_type": "code",
   "execution_count": null,
   "metadata": {
    "datalore": {
     "sheet_delimiter": false
    },
    "tags": [
     "DataChill"
    ]
   },
   "outputs": [],
   "source": [
    "# phép gán giá trị\n",
    "a[::, ::2] = 0\n",
    "a"
   ]
  },
  {
   "cell_type": "markdown",
   "metadata": {
    "datalore": {
     "sheet_delimiter": false
    },
    "tags": [
     "DataChill"
    ]
   },
   "source": [
    "**Tình huống 5:** Tạo vector chứa các số tự nhiên từ 10 đến 99. Sau đó loại bỏ 10 số đầu tiên và 15 số cuối cùng."
   ]
  },
  {
   "cell_type": "markdown",
   "metadata": {
    "datalore": {
     "sheet_delimiter": false
    },
    "tags": [
     "DataChill"
    ]
   },
   "source": [
    "**Tình huống 6:** Sử dụng `np.zeros()` để tạo ra 1 ma trận 5x5 chứa các số 1 bao ngoài và số 0 nằm bên trong."
   ]
  },
  {
   "cell_type": "markdown",
   "metadata": {
    "datalore": {
     "sheet_delimiter": false
    },
    "tags": [
     "DataChill"
    ]
   },
   "source": [
    "#### Boolean slicing"
   ]
  },
  {
   "cell_type": "markdown",
   "metadata": {
    "datalore": {
     "sheet_delimiter": false
    },
    "tags": [
     "DataChill"
    ]
   },
   "source": [
    "Trước hết, hãy tìm hiểu về so sánh từng phần tử. Trong ví dụ dưới đây, kết quả trả về là một array chứa các giá trị Boolean (giá trị `True` nếu phần tử đó thỏa mãn x > 5)."
   ]
  },
  {
   "cell_type": "code",
   "execution_count": null,
   "metadata": {
    "datalore": {
     "sheet_delimiter": false
    },
    "tags": [
     "DataChill"
    ]
   },
   "outputs": [],
   "source": [
    "x = np.array([1, 3, 5, 7, 9])\n",
    "x > 5"
   ]
  },
  {
   "cell_type": "markdown",
   "metadata": {
    "datalore": {
     "sheet_delimiter": false
    },
    "tags": [
     "DataChill"
    ]
   },
   "source": [
    "Các toán tử `and` và `or` không có tính chất \"element-wise\". Nếu muốn so sánh từng phần tử, cần sử dụng toán tử `&` thay cho `and` và `|` thay cho `or`."
   ]
  },
  {
   "cell_type": "code",
   "execution_count": null,
   "metadata": {
    "datalore": {
     "sheet_delimiter": false
    },
    "tags": [
     "DataChill"
    ]
   },
   "outputs": [],
   "source": [
    "np.array([True, True, False, False]) & np.array([True, False, True, False])"
   ]
  },
  {
   "cell_type": "code",
   "execution_count": null,
   "metadata": {
    "datalore": {
     "sheet_delimiter": false
    },
    "tags": [
     "DataChill"
    ]
   },
   "outputs": [],
   "source": [
    "np.array([True, True, False, False]) | np.array([True, False, True, False])"
   ]
  },
  {
   "cell_type": "markdown",
   "metadata": {
    "datalore": {
     "sheet_delimiter": false
    },
    "tags": [
     "DataChill"
    ]
   },
   "source": [
    "Để kích hoạt Boolean slicing, cần truyền vào một list chứa các phần tử `True` và `False` hoặc một điều kiện."
   ]
  },
  {
   "cell_type": "code",
   "execution_count": null,
   "metadata": {
    "datalore": {
     "sheet_delimiter": false
    },
    "tags": [
     "DataChill"
    ]
   },
   "outputs": [],
   "source": [
    "x = np.array([1, 3, 5, 7, 9])\n",
    "x[[True, True, False, False, True]]"
   ]
  },
  {
   "cell_type": "code",
   "execution_count": null,
   "metadata": {
    "datalore": {
     "sheet_delimiter": false
    },
    "tags": [
     "DataChill"
    ]
   },
   "outputs": [],
   "source": [
    "x = np.array([1, 3, 5, 7, 9])\n",
    "x[(c>=5) & (c!=9)]"
   ]
  },
  {
   "cell_type": "markdown",
   "metadata": {
    "datalore": {
     "sheet_delimiter": false
    },
    "tags": [
     "DataChill"
    ]
   },
   "source": [
    "**Chú ý:** Dấu ngã `~` có tác dụng đảo ngược giá trị của một array chứa các phần tử Boolean (`True` thành `False`, `False` thành `True`). Cách viết này dùng để chỉ ra điều kiện loại bỏ phần tử."
   ]
  },
  {
   "cell_type": "code",
   "execution_count": null,
   "metadata": {
    "datalore": {
     "sheet_delimiter": false
    },
    "tags": [
     "DataChill"
    ]
   },
   "outputs": [],
   "source": [
    "~np.array([True, False, True])"
   ]
  },
  {
   "cell_type": "code",
   "execution_count": null,
   "metadata": {
    "datalore": {
     "sheet_delimiter": false
    },
    "tags": [
     "DataChill"
    ]
   },
   "outputs": [],
   "source": [
    "d = np.array([1, 2, 3, 4, 5, 6, 7, 100])\n",
    "d[~(d>10)]"
   ]
  },
  {
   "cell_type": "markdown",
   "metadata": {
    "datalore": {
     "sheet_delimiter": false
    },
    "tags": [
     "DataChill"
    ]
   },
   "source": [
    "**Tình huống 7:** Cho array dưới đây, hãy đổi dấu (dương thành âm) các số lớn hơn 3 và nhỏ hơn 8."
   ]
  },
  {
   "cell_type": "code",
   "execution_count": null,
   "metadata": {
    "datalore": {
     "sheet_delimiter": false
    },
    "tags": [
     "DataChill"
    ]
   },
   "outputs": [],
   "source": [
    "x = np.array([6, 1, 4, 4, 8, 4, 6, 3, 5, 8, 7, 9, 9, 2, 7, 8, 8, 9, 2, 6])"
   ]
  },
  {
   "cell_type": "markdown",
   "metadata": {
    "datalore": {
     "sheet_delimiter": false
    },
    "tags": [
     "DataChill"
    ]
   },
   "source": [
    "## 2.3. Tái cấu trúc array"
   ]
  },
  {
   "cell_type": "code",
   "execution_count": null,
   "metadata": {
    "datalore": {
     "sheet_delimiter": false
    },
    "tags": [
     "DataChill"
    ]
   },
   "outputs": [],
   "source": [
    "import numpy as np"
   ]
  },
  {
   "cell_type": "markdown",
   "metadata": {
    "datalore": {
     "sheet_delimiter": false
    },
    "tags": [
     "DataChill"
    ]
   },
   "source": [
    "Phương thức `reshape()` của array cho phép tái cấu trúc array sang một hình dạng khác (thay đổi số chiều, kích thước mỗi chiều). Dù thay đổi sang hình dạng nào, số phần tử và thứ tự của chúng vẫn luôn luôn không thay đổi."
   ]
  },
  {
   "cell_type": "code",
   "execution_count": null,
   "metadata": {
    "datalore": {
     "sheet_delimiter": false
    },
    "tags": [
     "DataChill"
    ]
   },
   "outputs": [],
   "source": [
    "a = np.array(\n",
    "    [[ 1,  2,  3,  4,  5,  6],\n",
    "     [ 7,  8,  9, 10, 11, 12],\n",
    "     [13, 14, 15, 16, 17, 18],\n",
    "     [19, 20, 21, 22, 23, 24]]\n",
    ")"
   ]
  },
  {
   "cell_type": "code",
   "execution_count": null,
   "metadata": {
    "datalore": {
     "sheet_delimiter": false
    },
    "tags": [
     "DataChill"
    ]
   },
   "outputs": [],
   "source": [
    "a.reshape(3, 8)"
   ]
  },
  {
   "cell_type": "markdown",
   "metadata": {
    "datalore": {
     "sheet_delimiter": false
    },
    "tags": [
     "DataChill"
    ]
   },
   "source": [
    "Phương thức `reshape()` cho phép đặt một chiều có kích thước bằng -1. Numpy sẽ tự tính toán kích thước của chiều này sao cho phù hợp với số phần tử của array."
   ]
  },
  {
   "cell_type": "code",
   "execution_count": null,
   "metadata": {
    "datalore": {
     "sheet_delimiter": false
    },
    "tags": [
     "DataChill"
    ]
   },
   "outputs": [],
   "source": [
    "a.reshape(2, -1)"
   ]
  },
  {
   "cell_type": "code",
   "execution_count": null,
   "metadata": {
    "datalore": {
     "sheet_delimiter": false
    },
    "tags": [
     "DataChill"
    ]
   },
   "outputs": [],
   "source": [
    "a.reshape(2, 3, 4)"
   ]
  },
  {
   "cell_type": "markdown",
   "metadata": {
    "datalore": {
     "sheet_delimiter": false
    },
    "tags": [
     "DataChill"
    ]
   },
   "source": [
    "#### Làm phẳng array\n",
    "Làm phẳng là quá trình biến đổi array nhiều chiều về vector 1 chiều."
   ]
  },
  {
   "cell_type": "code",
   "execution_count": null,
   "metadata": {
    "datalore": {
     "sheet_delimiter": false
    },
    "tags": [
     "DataChill"
    ]
   },
   "outputs": [],
   "source": [
    "a = np.array(\n",
    "    [[1,  2,  3],\n",
    "     [4,  5,  6]]\n",
    ")"
   ]
  },
  {
   "cell_type": "code",
   "execution_count": null,
   "metadata": {
    "datalore": {
     "sheet_delimiter": false
    },
    "tags": [
     "DataChill"
    ]
   },
   "outputs": [],
   "source": [
    "a.flatten()"
   ]
  },
  {
   "cell_type": "code",
   "execution_count": null,
   "metadata": {
    "datalore": {
     "sheet_delimiter": false
    },
    "tags": [
     "DataChill"
    ]
   },
   "outputs": [],
   "source": [
    "a.reshape(-1)"
   ]
  },
  {
   "cell_type": "markdown",
   "metadata": {
    "datalore": {
     "sheet_delimiter": false
    },
    "tags": [
     "DataChill"
    ]
   },
   "source": [
    "Nếu viết `reshape(-1, 1)` kết quả thu được là một vector cột, khác với `reshape(-1)` trả về một vector hàng. Vector cột trong Numpy là array 2 chiều."
   ]
  },
  {
   "cell_type": "code",
   "execution_count": null,
   "metadata": {
    "datalore": {
     "sheet_delimiter": false
    },
    "tags": [
     "DataChill"
    ]
   },
   "outputs": [],
   "source": [
    "a.reshape(-1, 1)"
   ]
  },
  {
   "cell_type": "code",
   "execution_count": null,
   "metadata": {
    "datalore": {
     "sheet_delimiter": false
    },
    "tags": [
     "DataChill"
    ]
   },
   "outputs": [],
   "source": [
    "from IPython.display import Image\n",
    "Image('https://raw.githubusercontent.com/linhpt7/COURSE/main/datachilly_logo.png', height=100)"
   ]
  },
  {
   "cell_type": "markdown",
   "metadata": {
    "datalore": {
     "sheet_delimiter": false
    },
    "tags": [
     "DataChill"
    ]
   },
   "source": [
    "# Giải đáp tình huống\n",
    "\n",
    "![image](https://img.shields.io/badge/Data-Chilly-teal?logo=python)"
   ]
  },
  {
   "cell_type": "markdown",
   "metadata": {
    "datalore": {
     "sheet_delimiter": false
    },
    "tags": [
     "DataChill"
    ]
   },
   "source": [
    "**Tình huống 1:** Tạo ra dãy số nguyên nằm trong khoảng $[a,b]$ bất kỳ."
   ]
  },
  {
   "cell_type": "code",
   "execution_count": null,
   "metadata": {
    "datalore": {
     "sheet_delimiter": false
    },
    "tags": [
     "DataChill"
    ]
   },
   "outputs": [],
   "source": [
    "import numpy as np\n",
    "a, b = -2.5, 6.5\n",
    "lower = np.ceil(a)\n",
    "upper = np.floor(b) + 1\n",
    "np.arange(lower, upper)"
   ]
  },
  {
   "cell_type": "markdown",
   "metadata": {
    "datalore": {
     "sheet_delimiter": false
    },
    "tags": [
     "DataChill"
    ]
   },
   "source": [
    "**Tình huống 2:** Giải thích kết quả 3 phép nhân array sau.\n",
    "- TH1: Tất cả phần tử đều nhân với 7\n",
    "- TH2: Mỗi vector nhỏ `[1, 1, 1]` được nhân với vector `[2, 3, 4]`\n",
    "- TH3: Mỗi vector nhỏ `[1, 1, 1]` nhân lần lượt với `[2]`, `[3]` và `[4]`"
   ]
  },
  {
   "cell_type": "code",
   "execution_count": null,
   "metadata": {
    "datalore": {
     "sheet_delimiter": false
    },
    "tags": [
     "DataChill"
    ]
   },
   "outputs": [],
   "source": [
    "a = np.array([[1, 1, 1],\n",
    "              [1, 1, 1],\n",
    "              [1, 1, 1]])\n",
    "b = np.array(7)\n",
    "a * b"
   ]
  },
  {
   "cell_type": "code",
   "execution_count": null,
   "metadata": {
    "datalore": {
     "sheet_delimiter": false
    },
    "tags": [
     "DataChill"
    ]
   },
   "outputs": [],
   "source": [
    "a = np.array([[1, 1, 1],\n",
    "              [1, 1, 1],\n",
    "              [1, 1, 1]])\n",
    "b = np.array([2, 3, 4])\n",
    "a * b"
   ]
  },
  {
   "cell_type": "code",
   "execution_count": null,
   "metadata": {
    "datalore": {
     "sheet_delimiter": false
    },
    "tags": [
     "DataChill"
    ]
   },
   "outputs": [],
   "source": [
    "a = np.array([[1, 1, 1],\n",
    "              [1, 1, 1],\n",
    "              [1, 1, 1]])\n",
    "b = np.array([[2], [3], [4]])\n",
    "a * b"
   ]
  },
  {
   "cell_type": "markdown",
   "metadata": {
    "datalore": {
     "sheet_delimiter": false
    },
    "tags": [
     "DataChill"
    ]
   },
   "source": [
    "**Tình huống 3:** Tạo ra các số thực ngẫu nhiên trong nửa khoảng `[a; b)`."
   ]
  },
  {
   "cell_type": "code",
   "execution_count": null,
   "metadata": {
    "datalore": {
     "sheet_delimiter": false
    },
    "tags": [
     "DataChill"
    ]
   },
   "outputs": [],
   "source": [
    "import numpy as np\n",
    "a = 10\n",
    "b = 100\n",
    "(b-a) * np.random.random(size=20) + a"
   ]
  },
  {
   "cell_type": "markdown",
   "metadata": {
    "datalore": {
     "sheet_delimiter": false
    },
    "tags": [
     "DataChill"
    ]
   },
   "source": [
    "**Tình huống 4:** Sử dụng Numpy, kiểm tra:\n",
    "- Số phần tử thuộc tính `shape` trả về có bằng giá trị `ndim` hay không?\n",
    "- Kích thước array có bằng tích độ dài tất cả các chiều hay không?"
   ]
  },
  {
   "cell_type": "code",
   "execution_count": null,
   "metadata": {
    "datalore": {
     "sheet_delimiter": false
    },
    "tags": [
     "DataChill"
    ]
   },
   "outputs": [],
   "source": [
    "import numpy as np\n",
    "a = np.array(\n",
    "    [[ 1,  2,  3,  4,  5,  6],\n",
    "     [ 7,  8,  9, 10, 11, 12],\n",
    "     [13, 14, 15, 16, 17, 18],\n",
    "     [19, 20, 21, 22, 23, 24]]\n",
    ")"
   ]
  },
  {
   "cell_type": "code",
   "execution_count": null,
   "metadata": {
    "datalore": {
     "sheet_delimiter": false
    },
    "tags": [
     "DataChill"
    ]
   },
   "outputs": [],
   "source": [
    "len(a.shape) == a.ndim"
   ]
  },
  {
   "cell_type": "code",
   "execution_count": null,
   "metadata": {
    "datalore": {
     "sheet_delimiter": false
    },
    "tags": [
     "DataChill"
    ]
   },
   "outputs": [],
   "source": [
    "a.size == np.product(a.shape)"
   ]
  },
  {
   "cell_type": "markdown",
   "metadata": {
    "datalore": {
     "sheet_delimiter": false
    },
    "tags": [
     "DataChill"
    ]
   },
   "source": [
    "**Tình huống 5:** Tạo vector chứa các số tự nhiên từ 10 đến 99. Sau đó loại bỏ 10 số đầu tiên và 15 số cuối cùng."
   ]
  },
  {
   "cell_type": "code",
   "execution_count": null,
   "metadata": {
    "datalore": {
     "sheet_delimiter": false
    },
    "tags": [
     "DataChill"
    ]
   },
   "outputs": [],
   "source": [
    "import numpy as np\n",
    "a = np.arange(10, 100)\n",
    "a[10:-15]"
   ]
  },
  {
   "cell_type": "markdown",
   "metadata": {
    "datalore": {
     "sheet_delimiter": false
    },
    "tags": [
     "DataChill"
    ]
   },
   "source": [
    "**Tình huống 6:** Sử dụng `np.zeros()` để tạo ra 1 ma trận 5x5 chứa các số 0 bao ngoài và số 1 nằm bên trong."
   ]
  },
  {
   "cell_type": "code",
   "execution_count": null,
   "metadata": {
    "datalore": {
     "sheet_delimiter": false
    },
    "tags": [
     "DataChill"
    ]
   },
   "outputs": [],
   "source": [
    "import numpy as np\n",
    "a = np.zeros((5,5), dtype=int)\n",
    "a[1:-1, 1:-1] = 1\n",
    "a"
   ]
  },
  {
   "cell_type": "markdown",
   "metadata": {
    "datalore": {
     "sheet_delimiter": false
    },
    "tags": [
     "DataChill"
    ]
   },
   "source": [
    "**Tình huống 7:** Tạo ra 1 vector có độ dài là 100, chứa các số nguyên ngẫu nhiên từ 0 đến 9. Hãy đổi dấu (dương thành âm) các số lớn hơn 3 và nhỏ hơn 8."
   ]
  },
  {
   "cell_type": "code",
   "execution_count": null,
   "metadata": {
    "datalore": {
     "sheet_delimiter": false
    },
    "tags": [
     "DataChill"
    ]
   },
   "outputs": [],
   "source": [
    "import numpy as np\n",
    "np.random.seed(0)\n",
    "x = np.random.randint(0, 9, size=100)\n",
    "x[(x>3) & (x<8)] *= -1\n",
    "x"
   ]
  },
  {
   "cell_type": "markdown",
   "metadata": {
    "datalore": {
     "sheet_delimiter": false
    },
    "tags": [
     "DataChill"
    ]
   },
   "source": [
    "Tài liệu dành cho các bạn đã mua khoá học của DataChilly. Vui lòng không sao chép, chia sẻ dưới mọi hình thức.\n",
    "\n",
    "![image](https://img.shields.io/badge/Data-Chilly-teal?logo=python)"
   ]
  }
 ],
 "metadata": {
  "kernelspec": {
   "display_name": "Python 3",
   "language": "python",
   "name": "python3"
  },
  "language_info": {
   "codemirror_mode": {
    "name": "ipython",
    "version": 3
   },
   "file_extension": ".py",
   "mimetype": "text/x-python",
   "name": "python",
   "nbconvert_exporter": "python",
   "pygments_lexer": "ipython3",
   "version": "3.8.8"
  }
 },
 "nbformat": 4,
 "nbformat_minor": 4
}
