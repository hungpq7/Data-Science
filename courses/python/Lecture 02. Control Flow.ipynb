{
 "cells": [
  {
   "cell_type": "markdown",
   "metadata": {
    "datalore": {
     "sheet_delimiter": false
    },
    "tags": [
     "DataChill"
    ]
   },
   "source": [
    "<img src=\"https://raw.githubusercontent.com/linhpt7/COURSE/main/datachilly_logo.png\" style=\"height:100px; margin:0 auto 20px;\">"
   ]
  },
  {
   "cell_type": "markdown",
   "metadata": {
    "datalore": {
     "sheet_delimiter": false
    },
    "tags": [
     "DataChill"
    ]
   },
   "source": [
    "# MỤC LỤC\n",
    "- [1. Điều kiện rẽ nhánh](#1.-Điều-kiện-rẽ-nhánh)\n",
    "- [2. Vòng lặp while](#2.-Vòng-lặp-while)\n",
    "- [3. Vòng lặp for](#3.-Vòng-lặp-for)\n",
    "- [4. Xử lý lỗi](#4.-Xử-lý-lỗi)\n",
    "- [Giải đáp các tình huống](#Giải-đáp-các-tình-huống)"
   ]
  },
  {
   "cell_type": "markdown",
   "metadata": {
    "datalore": {
     "sheet_delimiter": false
    },
    "tags": [
     "DataChill"
    ]
   },
   "source": [
    "# 1. Điều kiện rẽ nhánh\n",
    "Sử dụng `if`, `else`, `elif`.\n",
    "\n",
    "![image](https://img.shields.io/badge/Data-Chilly-teal?logo=python)"
   ]
  },
  {
   "cell_type": "markdown",
   "metadata": {
    "datalore": {
     "sheet_delimiter": false
    },
    "tags": [
     "DataChill"
    ]
   },
   "source": [
    "Nếu điều kiện nhận giá trị `True`, phần thân của lệnh `if` được thực hiện.\\\n",
    "Nếu điều kiện nhận giá trị `False`, phần thân của lệnh `else` được thực hiện."
   ]
  },
  {
   "cell_type": "code",
   "execution_count": null,
   "metadata": {
    "datalore": {
     "sheet_delimiter": false
    },
    "tags": [
     "DataChill"
    ]
   },
   "outputs": [],
   "source": [
    "x = 10\n",
    "if x > 0:\n",
    "    print('x is positive')\n",
    "else:\n",
    "    print('x is at most 0')"
   ]
  },
  {
   "cell_type": "markdown",
   "metadata": {
    "datalore": {
     "sheet_delimiter": false
    },
    "tags": [
     "DataChill"
    ]
   },
   "source": [
    "Dùng nhiều lệnh `if... else...` lồng nhau để tạo thêm nhánh."
   ]
  },
  {
   "cell_type": "code",
   "execution_count": null,
   "metadata": {
    "datalore": {
     "sheet_delimiter": false
    },
    "tags": [
     "DataChill"
    ]
   },
   "outputs": [],
   "source": [
    "x = 10\n",
    "if x > 0:\n",
    "    print('x is positive')\n",
    "else:\n",
    "    if x == 0:\n",
    "        print('x equals 0')\n",
    "    else:\n",
    "        print('x is negative')"
   ]
  },
  {
   "cell_type": "markdown",
   "metadata": {
    "datalore": {
     "sheet_delimiter": false
    },
    "tags": [
     "DataChill"
    ]
   },
   "source": [
    "Hoặc dùng `elif` thay thế."
   ]
  },
  {
   "cell_type": "code",
   "execution_count": null,
   "metadata": {
    "datalore": {
     "sheet_delimiter": false
    },
    "tags": [
     "DataChill"
    ]
   },
   "outputs": [],
   "source": [
    "x = 10\n",
    "if x > 0:\n",
    "    print('x is positive')\n",
    "elif x == 0:\n",
    "    print('x equals 0')\n",
    "else:\n",
    "    print('x is negative')"
   ]
  },
  {
   "cell_type": "markdown",
   "metadata": {
    "datalore": {
     "sheet_delimiter": false
    },
    "tags": [
     "DataChill"
    ]
   },
   "source": [
    "**Tình huống 1:** Viết công thức giải phương trình $ax + b = 0$."
   ]
  },
  {
   "cell_type": "markdown",
   "metadata": {
    "datalore": {
     "sheet_delimiter": false
    },
    "tags": [
     "DataChill"
    ]
   },
   "source": [
    "**Tình huống 2:** Cho số nguyên x:\n",
    "- In \"Ok\" nếu x chia hết cho 3\n",
    "- In \"Fine\" nếu x chia hết cho 7\n",
    "- In \"Ok fine\" nếu x chia hết cho cả 3 và 7\n",
    "- In \"Nope\" nếu x không chia hết cho cả 3 và 7"
   ]
  },
  {
   "cell_type": "markdown",
   "metadata": {
    "datalore": {
     "sheet_delimiter": false
    },
    "tags": [
     "DataChill"
    ]
   },
   "source": [
    "# 2. Vòng lặp while\n",
    "Vòng lặp `while` thực hiện phần thân lặp đi lặp lại cho đến khi điều kiện lặp có giá trị `False`.\n",
    "\n",
    "![image](https://img.shields.io/badge/Data-Chilly-teal?logo=python)"
   ]
  },
  {
   "cell_type": "code",
   "execution_count": null,
   "metadata": {
    "datalore": {
     "sheet_delimiter": false
    },
    "tags": [
     "DataChill"
    ]
   },
   "outputs": [],
   "source": [
    "x = 0\n",
    "while x < 10:\n",
    "    print(x)\n",
    "    x += 1"
   ]
  },
  {
   "cell_type": "markdown",
   "metadata": {
    "datalore": {
     "sheet_delimiter": false
    },
    "tags": [
     "DataChill"
    ]
   },
   "source": [
    "Thêm 1 ràng buộc cho điều kiện của `while`."
   ]
  },
  {
   "cell_type": "code",
   "execution_count": null,
   "metadata": {
    "datalore": {
     "sheet_delimiter": false
    },
    "tags": [
     "DataChill"
    ]
   },
   "outputs": [],
   "source": [
    "x = 0\n",
    "while x < 10 and x != 5:\n",
    "    print(x)\n",
    "    x += 1"
   ]
  },
  {
   "cell_type": "markdown",
   "metadata": {
    "datalore": {
     "sheet_delimiter": false
    },
    "tags": [
     "DataChill"
    ]
   },
   "source": [
    "Dùng lệnh `break` để ngừng vòng lặp."
   ]
  },
  {
   "cell_type": "code",
   "execution_count": null,
   "metadata": {
    "datalore": {
     "sheet_delimiter": false
    },
    "tags": [
     "DataChill"
    ]
   },
   "outputs": [],
   "source": [
    "x = 0\n",
    "while x < 10:\n",
    "    print(x)\n",
    "    x += 1\n",
    "    if x == 5:\n",
    "        break"
   ]
  },
  {
   "cell_type": "code",
   "execution_count": null,
   "metadata": {
    "datalore": {
     "sheet_delimiter": false
    },
    "tags": [
     "DataChill"
    ]
   },
   "outputs": [],
   "source": [
    "x = 0\n",
    "while True:\n",
    "    x += 1\n",
    "    print(x)\n",
    "    if x >= 10 or x == 5:\n",
    "        break"
   ]
  },
  {
   "cell_type": "markdown",
   "metadata": {
    "datalore": {
     "sheet_delimiter": false
    },
    "tags": [
     "DataChill"
    ]
   },
   "source": [
    "Dùng lệnh `continue` để kết thúc bước lặp hiện tại và chuyển sang bước tiếp theo."
   ]
  },
  {
   "cell_type": "code",
   "execution_count": null,
   "metadata": {
    "datalore": {
     "sheet_delimiter": false
    },
    "tags": [
     "DataChill"
    ]
   },
   "outputs": [],
   "source": [
    "x = 0\n",
    "while x < 10:\n",
    "    x += 1\n",
    "    if x == 5:\n",
    "        continue\n",
    "    print(x)"
   ]
  },
  {
   "cell_type": "markdown",
   "metadata": {
    "datalore": {
     "sheet_delimiter": false
    },
    "tags": [
     "DataChill"
    ]
   },
   "source": [
    "**Tình huống 3:** Viết chương trình tính giai thừa của một số tự nhiên.\n",
    "$$n!=1 \\times 2 \\times 3 \\times \\dots \\times n$$ "
   ]
  },
  {
   "cell_type": "markdown",
   "metadata": {
    "datalore": {
     "sheet_delimiter": false
    },
    "tags": [
     "DataChill"
    ]
   },
   "source": [
    "# 3. Vòng lặp for\n",
    "Vòng lặp `for` chạy qua mỗi phần tử trong một danh sách và thực hiện phần thân với mỗi giá trị đó.\n",
    "\n",
    "![image](https://img.shields.io/badge/Data-Chilly-teal?logo=python)"
   ]
  },
  {
   "cell_type": "code",
   "execution_count": null,
   "metadata": {
    "datalore": {
     "sheet_delimiter": false
    },
    "tags": [
     "DataChill"
    ]
   },
   "outputs": [],
   "source": [
    "for i in [1, 2, 3, None, 5]:\n",
    "    print(i)"
   ]
  },
  {
   "cell_type": "markdown",
   "metadata": {
    "datalore": {
     "sheet_delimiter": false
    },
    "tags": [
     "DataChill"
    ]
   },
   "source": [
    "Lệnh `break` và `continue` cũng dùng được với vòng lặp `for`."
   ]
  },
  {
   "cell_type": "code",
   "execution_count": null,
   "metadata": {
    "datalore": {
     "sheet_delimiter": false
    },
    "tags": [
     "DataChill"
    ]
   },
   "outputs": [],
   "source": [
    "for i in [1, 2, 3, 4, 5]:\n",
    "    if i == 4:\n",
    "        break\n",
    "    print(i)"
   ]
  },
  {
   "cell_type": "code",
   "execution_count": null,
   "metadata": {
    "datalore": {
     "sheet_delimiter": false
    },
    "tags": [
     "DataChill"
    ]
   },
   "outputs": [],
   "source": [
    "total = 0\n",
    "for i in [1, 2, 3, None, 5]:\n",
    "    if i == None:\n",
    "        continue\n",
    "    total += i\n",
    "total"
   ]
  },
  {
   "cell_type": "markdown",
   "metadata": {
    "datalore": {
     "sheet_delimiter": false
    },
    "tags": [
     "DataChill"
    ]
   },
   "source": [
    "**Tình huống 4:** Tìm số lớn nhất trong một danh sách, sử dụng vòng lặp `for`."
   ]
  },
  {
   "cell_type": "markdown",
   "metadata": {
    "datalore": {
     "sheet_delimiter": false
    },
    "tags": [
     "DataChill"
    ]
   },
   "source": [
    "**Tình huống 5:** In ra các số tự nhiên nhỏ hơn 100 chia hết cho cả 3 và 5. Sử dụng 2 cách: `while` và `for`."
   ]
  },
  {
   "cell_type": "markdown",
   "metadata": {
    "datalore": {
     "sheet_delimiter": false
    },
    "tags": [
     "DataChill"
    ]
   },
   "source": [
    "# 4. Xử lý lỗi\n",
    "**Các loại lỗi trong Python**\n",
    "- Lỗi cú pháp (syntax error) - lỗi do viết code sai, thường gặp bởi những người mới học\n",
    "- Lỗi logic (logical error) - lỗi xảy ra trong quá trình thực thi code\n",
    "  \n",
    "*Tham khảo thêm:* [Errors documentation](https://docs.python.org/3/tutorial/errors.html).\n",
    "\n",
    "![image](https://img.shields.io/badge/Data-Chilly-teal?logo=python)"
   ]
  },
  {
   "cell_type": "markdown",
   "metadata": {
    "datalore": {
     "sheet_delimiter": false
    },
    "tags": [
     "DataChill"
    ]
   },
   "source": [
    "Lỗi cú pháp: thiếu dấu hai chấm `:`."
   ]
  },
  {
   "cell_type": "code",
   "execution_count": null,
   "metadata": {
    "datalore": {
     "sheet_delimiter": false
    },
    "tags": [
     "DataChill"
    ]
   },
   "outputs": [],
   "source": [
    "if 1 > 0\n",
    "    print(True)"
   ]
  },
  {
   "cell_type": "markdown",
   "metadata": {
    "datalore": {
     "sheet_delimiter": false
    },
    "tags": [
     "DataChill"
    ]
   },
   "source": [
    "Lỗi logic: chia cho 0."
   ]
  },
  {
   "cell_type": "code",
   "execution_count": null,
   "metadata": {
    "datalore": {
     "sheet_delimiter": false
    },
    "tags": [
     "DataChill"
    ]
   },
   "outputs": [],
   "source": [
    "1/0"
   ]
  },
  {
   "cell_type": "markdown",
   "metadata": {
    "datalore": {
     "sheet_delimiter": false
    },
    "tags": [
     "DataChill"
    ]
   },
   "source": [
    "Lỗi logic: chưa gán giá trị cho biến."
   ]
  },
  {
   "cell_type": "code",
   "execution_count": null,
   "metadata": {
    "datalore": {
     "sheet_delimiter": false
    },
    "tags": [
     "DataChill"
    ]
   },
   "outputs": [],
   "source": [
    "print(no_name)"
   ]
  },
  {
   "cell_type": "markdown",
   "metadata": {
    "datalore": {
     "sheet_delimiter": false
    },
    "tags": [
     "DataChill"
    ]
   },
   "source": [
    "**Xử lý lỗi**\\\n",
    "Đoạn code có thể phát sinh lỗi sẽ được đặt trong lệnh `try`. Phương án xử lý lỗi được viết trong lệnh `except`."
   ]
  },
  {
   "cell_type": "code",
   "execution_count": null,
   "metadata": {
    "datalore": {
     "sheet_delimiter": false
    },
    "tags": [
     "DataChill"
    ]
   },
   "outputs": [],
   "source": [
    "try:\n",
    "    print(1/0)\n",
    "except:\n",
    "    print('Cannot execute')"
   ]
  },
  {
   "cell_type": "code",
   "execution_count": null,
   "metadata": {
    "datalore": {
     "sheet_delimiter": false
    },
    "tags": [
     "DataChill"
    ]
   },
   "outputs": [],
   "source": [
    "from IPython.display import Image\n",
    "Image('https://raw.githubusercontent.com/linhpt7/COURSE/main/datachilly_logo.png', height=100)"
   ]
  },
  {
   "cell_type": "markdown",
   "metadata": {
    "datalore": {
     "sheet_delimiter": false
    },
    "tags": [
     "DataChill"
    ]
   },
   "source": [
    "***\n",
    "# Giải đáp các tình huống\n",
    "![image](https://img.shields.io/badge/Data-Chilly-teal?logo=python)"
   ]
  },
  {
   "cell_type": "markdown",
   "metadata": {
    "datalore": {
     "sheet_delimiter": false
    },
    "tags": [
     "DataChill"
    ]
   },
   "source": [
    "**Tình huống 1:** Viết công thức giải phương trình $ax + b = 0$. Nghiệm được làm tròn đến 2 chữ số thập phân."
   ]
  },
  {
   "cell_type": "code",
   "execution_count": null,
   "metadata": {
    "datalore": {
     "sheet_delimiter": false
    },
    "tags": [
     "DataChill"
    ]
   },
   "outputs": [],
   "source": [
    "a = 7\n",
    "b = -6\n",
    "\n",
    "print(f'The equation: {a}x + {b} = 0')\n",
    "if a == 0:\n",
    "    print('Inconsistant')\n",
    "elif a != 0:\n",
    "    x = -b/a\n",
    "    x = round(x, 2)\n",
    "    print(f'x = {x}')"
   ]
  },
  {
   "cell_type": "markdown",
   "metadata": {
    "datalore": {
     "sheet_delimiter": false
    },
    "tags": [
     "DataChill"
    ]
   },
   "source": [
    "**Tình huống 2:** Cho số nguyên x:\n",
    "- In \"Ok\" nếu x chia hết cho 3\n",
    "- In \"Fine\" nếu x chia hết cho 7\n",
    "- In \"Ok fine\" nếu x chia hết cho cả 3 và 7\n",
    "- In \"Nope\" nếu x không chia hết cho cả 3 và 7"
   ]
  },
  {
   "cell_type": "code",
   "execution_count": null,
   "metadata": {
    "datalore": {
     "sheet_delimiter": false
    },
    "tags": [
     "DataChill"
    ]
   },
   "outputs": [],
   "source": [
    "x = 100\n",
    "\n",
    "if x%3 == 0 and x%7 == 0:\n",
    "    print('Ok fine')\n",
    "elif x%3 == 0:\n",
    "    print('Ok')\n",
    "elif x%7 == 0:\n",
    "    print('Fine')\n",
    "else:\n",
    "    print('Nope')"
   ]
  },
  {
   "cell_type": "markdown",
   "metadata": {
    "datalore": {
     "sheet_delimiter": false
    },
    "tags": [
     "DataChill"
    ]
   },
   "source": [
    "**Tình huống 3:** Viết chương trình tính giai thừa của một số tự nhiên.\n",
    "$$n!=1 \\times 2 \\times 3 \\times \\dots \\times n$$ "
   ]
  },
  {
   "cell_type": "code",
   "execution_count": null,
   "metadata": {
    "datalore": {
     "sheet_delimiter": false
    },
    "tags": [
     "DataChill"
    ]
   },
   "outputs": [],
   "source": [
    "x = 10\n",
    "\n",
    "i = 1\n",
    "x_factorial = 1\n",
    "while True:\n",
    "    x_factorial *= i\n",
    "    i += 1\n",
    "    if i == 10:\n",
    "        break\n",
    "\n",
    "x_factorial"
   ]
  },
  {
   "cell_type": "markdown",
   "metadata": {
    "datalore": {
     "sheet_delimiter": false
    },
    "tags": [
     "DataChill"
    ]
   },
   "source": [
    "**Tình huống 4:** Tìm số lớn nhất trong một danh sách, sử dụng vòng lặp `for`."
   ]
  },
  {
   "cell_type": "code",
   "execution_count": null,
   "metadata": {
    "datalore": {
     "sheet_delimiter": false
    },
    "tags": [
     "DataChill"
    ]
   },
   "outputs": [],
   "source": [
    "# giải đáp\n",
    "data = [5, 10, -7, 4, -15, 1, 0]\n",
    "\n",
    "maximum = None\n",
    "for i in data:\n",
    "    if maximum == None:\n",
    "        maximum = i\n",
    "    if maximum < i:\n",
    "        maximum = i\n",
    "print(maximum)"
   ]
  },
  {
   "cell_type": "markdown",
   "metadata": {
    "datalore": {
     "sheet_delimiter": false
    },
    "tags": [
     "DataChill"
    ]
   },
   "source": [
    "**Tình huống 5:** In ra các số tự nhiên nhỏ hơn 100 chia hết cho cả 3 và 5. Sử dụng 2 cách: `while` và `for`."
   ]
  },
  {
   "cell_type": "code",
   "execution_count": null,
   "metadata": {
    "datalore": {
     "sheet_delimiter": false
    },
    "tags": [
     "DataChill"
    ]
   },
   "outputs": [],
   "source": [
    "for i in range(100):\n",
    "    if i%3 == 0 and i%5 == 0:\n",
    "        print(i)"
   ]
  },
  {
   "cell_type": "code",
   "execution_count": null,
   "metadata": {
    "datalore": {
     "sheet_delimiter": false
    },
    "tags": [
     "DataChill"
    ]
   },
   "outputs": [],
   "source": [
    "i = 0\n",
    "while i < 100:\n",
    "    if i%3 == 0 and i%5 == 0:\n",
    "        print(i)\n",
    "    i += 1"
   ]
  },
  {
   "cell_type": "markdown",
   "metadata": {
    "datalore": {
     "sheet_delimiter": false
    },
    "tags": [
     "DataChill"
    ]
   },
   "source": [
    "Tài liệu dành cho các bạn đã mua khoá học của DataChilly. Vui lòng không sao chép, chia sẻ dưới mọi hình thức.\n",
    "\n",
    "![image](https://img.shields.io/badge/Data-Chilly-teal?logo=python)"
   ]
  }
 ],
 "metadata": {
  "kernelspec": {
   "display_name": "Python 3",
   "language": "python",
   "name": "python3"
  },
  "language_info": {
   "codemirror_mode": {
    "name": "ipython",
    "version": 3
   },
   "file_extension": ".py",
   "mimetype": "text/x-python",
   "name": "python",
   "nbconvert_exporter": "python",
   "pygments_lexer": "ipython3",
   "version": "3.8.8"
  }
 },
 "nbformat": 4,
 "nbformat_minor": 4
}
