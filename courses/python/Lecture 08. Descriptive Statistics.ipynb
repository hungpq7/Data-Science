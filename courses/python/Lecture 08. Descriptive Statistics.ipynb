{
 "cells": [
  {
   "cell_type": "markdown",
   "metadata": {
    "datalore": {
     "sheet_delimiter": false
    },
    "tags": [
     "DataChill"
    ]
   },
   "source": [
    "<img src=\"https://raw.githubusercontent.com/linhpt7/COURSE/main/datachilly_logo.png\" style=\"height:100px; margin:0 auto 20px;\">"
   ]
  },
  {
   "cell_type": "markdown",
   "metadata": {
    "tags": [
     "DataChill"
    ]
   },
   "source": [
    "# MỤC LỤC\n",
    "- [1. Các đại lượng cơ bản](#1.-Các-đại-lượng-cơ-bản)\n",
    "- [2. Phương sai (Variance)](#2.-Phương-sai-(Variance))\n",
    "  * [Ý nghĩa của phương sai](#Ý-nghĩa-của-phương-sai)\n",
    "- [2. Tứ phân vị](#2.-Tứ-phân-vị)\n",
    "  * [Trung vị](#Trung-vị)\n",
    "- [3. Hệ số tương quan](#3.-Hệ-số-tương-quan)\n",
    "- [Giải đáp tình huống](#Giải-đáp-tình-huống)\n"
   ]
  },
  {
   "cell_type": "markdown",
   "metadata": {
    "datalore": {
     "sheet_delimiter": false
    },
    "tags": [
     "DataChill"
    ]
   },
   "source": [
    "# 1. Các đại lượng cơ bản\n",
    "Trong Thống kê, một array còn đượt gọi là một biến ngẫu nhiên. Các đại lượng thống kê cơ bản của một biến ngẫu nhiên gồm: tổng, trung bình, giá trị lớn nhất/nhỏ nhất.\n",
    "\n",
    "![image](https://img.shields.io/badge/Data-Chilly-teal?logo=python)"
   ]
  },
  {
   "cell_type": "code",
   "execution_count": null,
   "metadata": {
    "datalore": {
     "sheet_delimiter": false
    },
    "tags": [
     "DataChill"
    ]
   },
   "outputs": [],
   "source": [
    "import numpy as np"
   ]
  },
  {
   "cell_type": "code",
   "execution_count": null,
   "metadata": {
    "datalore": {
     "sheet_delimiter": false
    },
    "tags": [
     "DataChill"
    ]
   },
   "outputs": [],
   "source": [
    "np.random.seed(0)\n",
    "sample = np.random.randint(100, 1000, size=100)\n",
    "sample"
   ]
  },
  {
   "cell_type": "code",
   "execution_count": null,
   "metadata": {
    "datalore": {
     "sheet_delimiter": false
    },
    "tags": [
     "DataChill"
    ]
   },
   "outputs": [],
   "source": [
    "sample.min()"
   ]
  },
  {
   "cell_type": "code",
   "execution_count": null,
   "metadata": {
    "datalore": {
     "sheet_delimiter": false
    },
    "tags": [
     "DataChill"
    ]
   },
   "outputs": [],
   "source": [
    "sample.max()"
   ]
  },
  {
   "cell_type": "markdown",
   "metadata": {
    "datalore": {
     "sheet_delimiter": false
    },
    "tags": [
     "DataChill"
    ]
   },
   "source": [
    "Giá trị trung bình của một biến $\\mathbf{x}=(x_1,x_2,\\dots, x_n)$ được tính như sau:\n",
    "\n",
    "$$\\mu = \\frac{1}{n} \\sum_{i=1}^{n}{x_i}$$"
   ]
  },
  {
   "cell_type": "code",
   "execution_count": null,
   "metadata": {
    "datalore": {
     "sheet_delimiter": false
    },
    "tags": [
     "DataChill"
    ]
   },
   "outputs": [],
   "source": [
    "sample.sum()"
   ]
  },
  {
   "cell_type": "code",
   "execution_count": null,
   "metadata": {
    "datalore": {
     "sheet_delimiter": false
    },
    "tags": [
     "DataChill"
    ]
   },
   "outputs": [],
   "source": [
    "sample.mean()"
   ]
  },
  {
   "cell_type": "markdown",
   "metadata": {
    "datalore": {
     "sheet_delimiter": false
    },
    "tags": [
     "DataChill"
    ]
   },
   "source": [
    "# 2. Phương sai (Variance)\n",
    "Phương sai (variance) của biến ngẫu nhiên  $\\mathbf{x}$ được xác định bằng công thức:\n",
    "$$\\sigma^2 = \\frac{1}{n}\\sum_{i=1}^n{(x_i - \\mu)}^2$$\n",
    "Với:\n",
    "- $\\sigma$ là độ lệch chuẩn của $\\mathbf{x}$\n",
    "- $\\sigma^2$ là phương sai của $\\mathbf{x}$\n",
    "- $\\mu$ là trung bình của $\\mathbf{x}$\n",
    "- $n$ là số quan sát của $\\mathbf{x}$\n",
    "- $x_i$ là quan sát thứ $i$\n",
    "\n",
    "![image](https://img.shields.io/badge/Data-Chilly-teal?logo=python)"
   ]
  },
  {
   "cell_type": "code",
   "execution_count": null,
   "metadata": {
    "datalore": {
     "sheet_delimiter": false
    },
    "tags": [
     "DataChill"
    ]
   },
   "outputs": [],
   "source": [
    "import numpy as np"
   ]
  },
  {
   "cell_type": "code",
   "execution_count": null,
   "metadata": {
    "datalore": {
     "sheet_delimiter": false
    },
    "tags": [
     "DataChill"
    ]
   },
   "outputs": [],
   "source": [
    "np.random.seed(0)\n",
    "sample = np.random.randint(100, 1000, size=100)\n",
    "sample"
   ]
  },
  {
   "cell_type": "code",
   "execution_count": null,
   "metadata": {
    "datalore": {
     "sheet_delimiter": false
    },
    "tags": [
     "DataChill"
    ]
   },
   "outputs": [],
   "source": [
    "# standard deviation\n",
    "sample.std()"
   ]
  },
  {
   "cell_type": "code",
   "execution_count": null,
   "metadata": {
    "datalore": {
     "sheet_delimiter": false
    },
    "tags": [
     "DataChill"
    ]
   },
   "outputs": [],
   "source": [
    "# variance\n",
    "sample.var()"
   ]
  },
  {
   "cell_type": "markdown",
   "metadata": {
    "datalore": {
     "sheet_delimiter": false
    },
    "tags": [
     "DataChill"
    ]
   },
   "source": [
    "#### Ý nghĩa của phương sai\n",
    "Độ lệch chuẩn và phương sai thể hiện sự phân tán của dữ liệu so với trung bình. Sau đây chúng ta sẽ vẽ biểu đồ Histogram (sẽ được giới thiệu kỹ hơn trong bài \"Data Visualization\") để quan sát sự phân bố của dữ liệu, từ đó phân tích ý nghĩa của phương sai như sau: Biểu đồ thứ 2 có phương sai nhỏ hơn, vì vậy dữ liệu có xu hướng tập trung nhiều ở giữa, gần với giá trị trung bình. Trong khi ở biểu đồ 1, dữ liệu bớt tập trung ở giữa mà dàn trải bớt về 2 bên."
   ]
  },
  {
   "cell_type": "code",
   "execution_count": null,
   "metadata": {
    "datalore": {
     "sheet_delimiter": false
    },
    "tags": [
     "DataChill"
    ]
   },
   "outputs": [],
   "source": [
    "import numpy as np\n",
    "import matplotlib.pyplot as plt\n",
    "import seaborn as sns\n",
    "plt.style.use(['seaborn', 'seaborn-whitegrid'])\n",
    "%config InlineBackend.figure_format = 'retina'\n",
    "\n",
    "fig, ax = plt.subplots(nrows=2, sharex=True, figsize=(6,9))\n",
    "\n",
    "std_1 = 50\n",
    "sample_1 = np.random.normal(loc=0, scale=std_1, size=10000)\n",
    "sns.histplot(sample_1, bins=100, ax=ax[0], stat='count', edgecolor='w', color='indianred')\n",
    "ax[0].set_title(f'Standard deviation = {std_1}')\n",
    "\n",
    "std_2 = 20\n",
    "sample_2 = np.random.normal(loc=0, scale=std_2, size=10000)\n",
    "sns.histplot(sample_2, bins=100, ax=ax[1], stat='count', edgecolor='w')\n",
    "ax[1].set_title(f'Standard deviation = {std_2}')\n",
    "\n",
    "plt.show()"
   ]
  },
  {
   "cell_type": "markdown",
   "metadata": {
    "datalore": {
     "sheet_delimiter": false
    },
    "tags": [
     "DataChill"
    ]
   },
   "source": [
    "**Tình huống 1:** Viết lại công thức tính phương sai thông qua các đại lượng cơ bản như tổng hoặc trung bình.\n",
    "$$\\sigma^2 = \\frac{1}{n}\\sum_{i=1}^n{(x_i - \\mu)}^2$$"
   ]
  },
  {
   "cell_type": "markdown",
   "metadata": {
    "datalore": {
     "sheet_delimiter": false
    },
    "tags": [
     "DataChill"
    ]
   },
   "source": [
    "# 2. Tứ phân vị\n",
    "Tứ phân vị (quartiles) là bộ 3 giá trị $Q_1$, $Q_2$, $Q_3$ chia dữ liệu làm 3 phần có kích thước bằng nhau, mỗi phần chứa 25% số lượng giá trị. Cụ thể:\n",
    "- 25% số điểm dữ liệu nhỏ hơn $Q_1$\n",
    "- 25% số điểm dữ liệu lớn hơn $Q_1$ và nhỏ hơn $Q_2$\n",
    "- 25% số điểm dữ liệu lớn hơn $Q_2$ và nhỏ hơn $Q_3$\n",
    "- 25% số điểm dữ liệu lớn hơn $Q_3$\n",
    "\n",
    "Tứ phân vị là một kỹ thuật quan trọng giúp Data Analyst nắm được đặc tính dữ liệu và có được những góc nhìn toàn diện về dữ liệu. Ví dụ: liệu thu nhập của 1000 người có các điểm tứ phân vị là 7 triệu, 12 triệu và 30 triệu. Ta có thể đọc được một số thông tin quan trọng từ dữ liệu như sau:\n",
    "- Số lượng người thu nhập chưa đến 30 triệu lên đến 75%\n",
    "- Có khoảng 250 người thu nhập thấp, dưới 7 triệu\n",
    "- Có đến 500 người thu nhập trên 12 triệu\n",
    "\n",
    "![image](https://img.shields.io/badge/Data-Chilly-teal?logo=python)"
   ]
  },
  {
   "cell_type": "code",
   "execution_count": null,
   "metadata": {
    "datalore": {
     "sheet_delimiter": false
    },
    "tags": [
     "DataChill"
    ]
   },
   "outputs": [],
   "source": [
    "import numpy as np"
   ]
  },
  {
   "cell_type": "code",
   "execution_count": null,
   "metadata": {
    "datalore": {
     "sheet_delimiter": false
    },
    "tags": [
     "DataChill"
    ]
   },
   "outputs": [],
   "source": [
    "np.random.seed(0)\n",
    "sample = np.random.randint(100, 1000, size=100)\n",
    "sample"
   ]
  },
  {
   "cell_type": "markdown",
   "metadata": {
    "datalore": {
     "sheet_delimiter": false
    },
    "tags": [
     "DataChill"
    ]
   },
   "source": [
    "Khi tính toán quartile trong Numpy, chúng ta dùng phương thức `quantile` và truyền vào một list 3 giá trị (0.25, 0.5, 0.75) ứng với vị trí của 3 giá trị phân vị. Giá trị trả về dưới dạng tuple 3 phần tử, chúng ta thực hiện unpack các giá trị này (kỹ thuật unpacking tuple đã được giới thiệu ở bài \"Data Structures\")."
   ]
  },
  {
   "cell_type": "code",
   "execution_count": null,
   "metadata": {
    "datalore": {
     "sheet_delimiter": false
    },
    "tags": [
     "DataChill"
    ]
   },
   "outputs": [],
   "source": [
    "np.quantile(sample, [0.25, 0.5, 0.75])"
   ]
  },
  {
   "cell_type": "code",
   "execution_count": null,
   "metadata": {
    "datalore": {
     "sheet_delimiter": false
    },
    "tags": [
     "DataChill"
    ]
   },
   "outputs": [],
   "source": [
    "# unpacking quartiles\n",
    "q1, q2, q3 = np.quantile(sample, [0.25, 0.5, 0.75])"
   ]
  },
  {
   "cell_type": "markdown",
   "metadata": {
    "datalore": {
     "sheet_delimiter": false
    },
    "tags": [
     "DataChill"
    ]
   },
   "source": [
    "Một phương pháp rất phổ biến để trực quan hoá tứ phân vị là biểu đồ hộp (box plot). Các thành phần của boxplot gồm:\n",
    "\n",
    "<img src=\"images/boxplot.png\" style=\"height:300px; margin:0;\">\n",
    "\n",
    "Nguồn: https://biostats.w.uib.no/9-how-to-draw-a-boxplot-2/"
   ]
  },
  {
   "cell_type": "code",
   "execution_count": null,
   "metadata": {
    "datalore": {
     "sheet_delimiter": false
    },
    "tags": [
     "DataChill"
    ]
   },
   "outputs": [],
   "source": [
    "import numpy as np\n",
    "import matplotlib.pyplot as plt\n",
    "import seaborn as sns\n",
    "plt.style.use(['seaborn', 'seaborn-whitegrid'])\n",
    "%config InlineBackend.figure_format = 'retina'\n",
    "\n",
    "np.random.seed(0)\n",
    "sample = np.random.randint(100, 1000, size=100)\n",
    "q1, q2, q3 = np.quantile(sample, [0.25, 0.5, 0.75])\n",
    "\n",
    "sns.boxplot(x=sample)\n",
    "plt.show()"
   ]
  },
  {
   "cell_type": "markdown",
   "metadata": {
    "datalore": {
     "sheet_delimiter": false
    },
    "tags": [
     "DataChill"
    ]
   },
   "source": [
    "**Tình huống 2:** Dùng Numpy, hãy kiểm tra số điểm dữ liệu trong 4 khoảng tứ phân vị xem chúng có kích thước bằng nhau hay không."
   ]
  },
  {
   "cell_type": "markdown",
   "metadata": {
    "datalore": {
     "sheet_delimiter": false
    },
    "tags": [
     "DataChill"
    ]
   },
   "source": [
    "#### Trung vị\n",
    "Giá trị $Q_2$ trong các điểm tứ phân vị còn được gọi là trung vị. Chú ý phân biệt trung vị khác với trung bình. Trung vị sẽ ít bị ảnh hưởng bởi các giá trị ngoại biên hơn so với trung bình.\n",
    "\n",
    "Trong ví dụ minh hoạ dưới đây, có thể thấy 100 là giá trị ngoại biên, lớn bất thường so với phần còn. Sự xuất hiện của giá trị này khiến trung bình tăng lên rất nhiều và không còn phản ánh được đúng tính chất dữ liệu, trong khi trung vị hầu như không bị ảnh hưởng."
   ]
  },
  {
   "cell_type": "code",
   "execution_count": 6,
   "metadata": {
    "datalore": {
     "sheet_delimiter": false
    },
    "tags": [
     "DataChill"
    ]
   },
   "outputs": [
    {
     "name": "stdout",
     "output_type": "stream",
     "text": [
      "[0 1 2 3 4 5 6 7 8 9]\n",
      "Mean 4.5\n",
      "Median 4.5\n"
     ]
    }
   ],
   "source": [
    "import numpy as np\n",
    "x = np.arange(10)\n",
    "print(x)\n",
    "print('Mean', np.mean(x))\n",
    "print('Median', np.median(x))"
   ]
  },
  {
   "cell_type": "code",
   "execution_count": 9,
   "metadata": {
    "datalore": {
     "sheet_delimiter": false
    },
    "tags": [
     "DataChill"
    ]
   },
   "outputs": [
    {
     "name": "stdout",
     "output_type": "stream",
     "text": [
      "[  0   1   2   3   4   5   6 100   8   9]\n",
      "Mean 13.8\n",
      "Median 4.5\n"
     ]
    }
   ],
   "source": [
    "import numpy as np\n",
    "x = np.arange(10)\n",
    "x[7] = 100\n",
    "print(x)\n",
    "print('Mean', np.mean(x))\n",
    "print('Median', np.median(x))"
   ]
  },
  {
   "cell_type": "markdown",
   "metadata": {
    "datalore": {
     "sheet_delimiter": false
    },
    "tags": [
     "DataChill"
    ]
   },
   "source": [
    "# 3. Hệ số tương quan\n",
    "Ở các phần trước, các bạn đã được giới thiệu về các đại lượng thống kê của 1 biến đơn lẻ. Trong trường hợp muốn phân tích mối quan hệ giữa 2 biến, chúng ta sẽ sử dụng hệ số tương quan. Đây là một đại lượng thống kê (ký hiệu là $r$) có giá trị từ -1 đến 1.\n",
    "\n",
    "<img src=\"images/correlation_coefficient.jpeg\" style=\"height:300px; margin:0;\">\n",
    "\n",
    "Nguồn: https://journals.lww.com/anesthesia-analgesia/Fulltext/2018/05000/Correlation_Coefficients__Appropriate_Use_and.50.aspx\n",
    "\n",
    "- Giá trị r âm thể hiện 2 biến tương quan ngược chiều nhau, nếu x tăng thì y giảm.\n",
    "- Giá trị r dương thể hiện 2 biến tương quan cùng chiều nhau, nếu x tăng thì y cũng tăng.\n",
    "- Nếu r dao động quanh 0 ($-0.1<r<0.1$) thì 2 biến x, y được gọi là tương quan thấp hoặc không tương quan. Hệ số tương quan càng gần -1 hoặc 1 ($|r|>0.9$) thì mức độ tương quan của 2 biến càng mạnh.\n",
    "\n",
    "![image](https://img.shields.io/badge/Data-Chilly-teal?logo=python)"
   ]
  },
  {
   "cell_type": "code",
   "execution_count": null,
   "metadata": {
    "datalore": {
     "sheet_delimiter": false
    },
    "tags": [
     "DataChill"
    ]
   },
   "outputs": [],
   "source": [
    "import numpy as np"
   ]
  },
  {
   "cell_type": "code",
   "execution_count": 12,
   "metadata": {
    "datalore": {
     "sheet_delimiter": false
    },
    "tags": [
     "DataChill"
    ]
   },
   "outputs": [],
   "source": [
    "np.random.seed(0)\n",
    "X = np.random.randint(10, 100, size=10)\n",
    "Y = np.random.randint(10, 100, size=10)"
   ]
  },
  {
   "cell_type": "code",
   "execution_count": 14,
   "metadata": {
    "datalore": {
     "sheet_delimiter": false
    },
    "tags": [
     "DataChill"
    ]
   },
   "outputs": [
    {
     "data": {
      "text/plain": [
       "-0.19361671769162936"
      ]
     },
     "metadata": {},
     "output_type": "display_data"
    }
   ],
   "source": [
    "np.corrcoef([X, Y])[0,1]"
   ]
  },
  {
   "cell_type": "code",
   "execution_count": null,
   "metadata": {
    "datalore": {
     "sheet_delimiter": false
    },
    "tags": [
     "DataChill"
    ]
   },
   "outputs": [],
   "source": [
    "from IPython.display import Image\n",
    "Image('https://raw.githubusercontent.com/linhpt7/COURSE/main/datachilly_logo.png', height=100)"
   ]
  },
  {
   "cell_type": "markdown",
   "metadata": {
    "datalore": {
     "sheet_delimiter": false
    },
    "tags": [
     "DataChill"
    ]
   },
   "source": [
    "***\n",
    "# Giải đáp tình huống\n",
    "![image](https://img.shields.io/badge/Data-Chilly-teal?logo=python)"
   ]
  },
  {
   "cell_type": "markdown",
   "metadata": {
    "datalore": {
     "sheet_delimiter": false
    },
    "tags": [
     "DataChill"
    ]
   },
   "source": [
    "**Tình huống 1:** Viết lại công thức tính phương sai thông qua các đại lượng cơ bản như tổng hoặc trung bình.\n",
    "$$\\sigma^2 = \\frac{1}{n}\\sum_{i=1}^n{(x_i - \\mu)}^2$$"
   ]
  },
  {
   "cell_type": "code",
   "execution_count": null,
   "metadata": {
    "datalore": {
     "sheet_delimiter": false
    },
    "tags": [
     "DataChill"
    ]
   },
   "outputs": [],
   "source": [
    "np.random.seed(0)\n",
    "x = np.random.randint(1000, size=100)\n",
    "\n",
    "variance = ((x - x.mean())**2).mean()\n",
    "variance"
   ]
  },
  {
   "cell_type": "markdown",
   "metadata": {
    "datalore": {
     "sheet_delimiter": false
    },
    "tags": [
     "DataChill"
    ]
   },
   "source": [
    "**Tình huống 2:** Dùng Numpy chứng minh 4 khoảng tứ phân vị chứa số lượng phần tử bằng nhau."
   ]
  },
  {
   "cell_type": "code",
   "execution_count": null,
   "metadata": {
    "datalore": {
     "sheet_delimiter": false
    },
    "tags": [
     "DataChill"
    ]
   },
   "outputs": [],
   "source": [
    "import numpy as np\n",
    "np.random.seed(0)\n",
    "x = np.random.randint(1000, size=100)\n",
    "Q1, Q2, Q3 = np.quantile(a, (0.25, 0.5, 0.75))"
   ]
  },
  {
   "cell_type": "code",
   "execution_count": null,
   "metadata": {
    "datalore": {
     "sheet_delimiter": false
    },
    "tags": [
     "DataChill"
    ]
   },
   "outputs": [],
   "source": [
    "# khoảng thứ nhất: từ min đến Q1\n",
    "x[x < Q1].shape"
   ]
  },
  {
   "cell_type": "code",
   "execution_count": null,
   "metadata": {
    "datalore": {
     "sheet_delimiter": false
    },
    "tags": [
     "DataChill"
    ]
   },
   "outputs": [],
   "source": [
    "# khoảng thứ hai: từ Q1 đến Q2\n",
    "x[(Q1 < x) & (x < Q2)].shape"
   ]
  },
  {
   "cell_type": "code",
   "execution_count": null,
   "metadata": {
    "datalore": {
     "sheet_delimiter": false
    },
    "tags": [
     "DataChill"
    ]
   },
   "outputs": [],
   "source": [
    "# khoảng thứ ba: từ Q2 đến Q3\n",
    "x[(Q2 < x) & (x < Q3)].shape"
   ]
  },
  {
   "cell_type": "code",
   "execution_count": null,
   "metadata": {
    "datalore": {
     "sheet_delimiter": false
    },
    "tags": [
     "DataChill"
    ]
   },
   "outputs": [],
   "source": [
    "# khoảng thứ tư: từ Q3 đến max\n",
    "x[x > Q3].shape"
   ]
  },
  {
   "cell_type": "markdown",
   "metadata": {
    "datalore": {
     "sheet_delimiter": false
    },
    "tags": [
     "DataChill"
    ]
   },
   "source": [
    "Tài liệu dành cho các bạn đã mua khoá học của DataChilly. Vui lòng không sao chép, chia sẻ dưới mọi hình thức.\n",
    "\n",
    "![image](https://img.shields.io/badge/Data-Chilly-teal?logo=python)"
   ]
  }
 ],
 "metadata": {
  "kernelspec": {
   "display_name": "Python 3",
   "language": "python",
   "name": "python3"
  },
  "language_info": {
   "codemirror_mode": {
    "name": "ipython",
    "version": 3
   },
   "file_extension": ".py",
   "mimetype": "text/x-python",
   "name": "python",
   "nbconvert_exporter": "python",
   "pygments_lexer": "ipython3",
   "version": "3.8.8"
  }
 },
 "nbformat": 4,
 "nbformat_minor": 4
}
