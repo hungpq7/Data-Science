{
 "cells": [
  {
   "cell_type": "markdown",
   "metadata": {
    "datalore": {
     "sheet_delimiter": false
    },
    "tags": [
     "DataChill"
    ]
   },
   "source": [
    "<img src=\"https://raw.githubusercontent.com/linhpt7/COURSE/main/datachilly_logo.png\" style=\"height:100px; margin:0 auto 20px;\">"
   ]
  },
  {
   "cell_type": "markdown",
   "metadata": {
    "tags": [
     "DataChill"
    ]
   },
   "source": [
    "# MỤC LỤC\n",
    "- [1. List](#1.-List)\n",
    "  * [1.1. Thêm và xóa phần tử](#1.1.-Thêm-và-xóa-phần-tử)\n",
    "  * [1.2. Kỹ thuật slicing](#1.2.-Kỹ-thuật-slicing)\n",
    "    * [Ôn lại slicing](#Ôn-lại-slicing)\n",
    "    * [Phép gán phần tử](#Phép-gán-phần-tử)\n",
    "  * [1.3. Các thao tác với list](#1.3.-Các-thao-tác-với-list)\n",
    "  * [1.4. Ứng dụng của vòng lặp for với list](#1.4.-Ứng-dụng-của-vòng-lặp-for-với-list)\n",
    "  * [1.5. List comprehension](#1.5.-List-comprehension)\n",
    "- [2. Tuple](#2.-Tuple)\n",
    "  * [2.1. Khởi tạo tuple](#2.1.-Khởi-tạo-tuple)\n",
    "  * [2.2. Kỹ thuật unpacking](#2.2.-Kỹ-thuật-unpacking)\n",
    "- [3. Dictionary](#3.-Dictionary)\n",
    "  * [3.1. Khởi tạo dictionary](#3.1.-Khởi-tạo-dictionary)\n",
    "  * [3.2. Thao tác với key và value](#3.2.-Thao-tác-với-key-và-value)\n",
    "  * [3.3. Phương thức update](#3.3.-Phương-thức-update)\n",
    "  * [3.4. Hàm zip](#3.4.-Hàm-zip)\n",
    "  * [3.5. Ứng dụng của vòng lặp for với dictionary](#3.5.-Ứng-dụng-của-vòng-lặp-for-với-dictionary)\n",
    "  * [3.6. Dictionary comprehension](#3.6.-Dictionary-comprehension)\n",
    "- [Tổng kết về các cấu trúc dữ liệu](#Tổng-kết-về-các-cấu-trúc-dữ-liệu)\n",
    "- [Giải đáp tình huống](#Giải-đáp-tình-huống)\n"
   ]
  },
  {
   "cell_type": "markdown",
   "metadata": {
    "datalore": {
     "sheet_delimiter": false
    },
    "tags": [
     "DataChill"
    ]
   },
   "source": [
    "Cấu trúc dữ liệu (data structures) là cách lưu trữ, tổ chức dữ liệu tùy vào mục đích để dữ liệu được sử dụng một cách có hiệu quả. Các loại cấu trúc dữ liệu trong python:\n",
    "1. List\n",
    "2. Tuple\n",
    "3. Dictionary"
   ]
  },
  {
   "cell_type": "markdown",
   "metadata": {
    "datalore": {
     "sheet_delimiter": false
    },
    "tags": [
     "DataChill"
    ]
   },
   "source": [
    "# 1. List\n",
    "![image](https://img.shields.io/badge/Data-Chilly-teal?logo=python)"
   ]
  },
  {
   "cell_type": "markdown",
   "metadata": {
    "datalore": {
     "sheet_delimiter": false
    },
    "tags": [
     "DataChill"
    ]
   },
   "source": [
    "`list` là cấu trúc dữ liệu chứa các phần tử có thứ tự. `list` có thể chỉnh sửa được (mutable).\\\n",
    "Có thể tạo ra `list` bằng dấu ngoặc vuông `[]` hoặc dùng hàm khởi tạo `list()`."
   ]
  },
  {
   "cell_type": "code",
   "execution_count": null,
   "metadata": {
    "datalore": {
     "sheet_delimiter": false
    },
    "tags": [
     "DataChill"
    ]
   },
   "outputs": [],
   "source": [
    "# chuyển string sang list\n",
    "list('python')"
   ]
  },
  {
   "cell_type": "code",
   "execution_count": null,
   "metadata": {
    "datalore": {
     "sheet_delimiter": false
    },
    "tags": [
     "DataChill"
    ]
   },
   "outputs": [],
   "source": [
    "# chứa nhiều kiểu dữ liệu khác nhau\n",
    "['python', 3.14, None]"
   ]
  },
  {
   "cell_type": "code",
   "execution_count": null,
   "metadata": {
    "datalore": {
     "sheet_delimiter": false
    },
    "tags": [
     "DataChill"
    ]
   },
   "outputs": [],
   "source": [
    "# xem tất cả thuộc tính và phương thức\n",
    "dir([])"
   ]
  },
  {
   "cell_type": "code",
   "execution_count": null,
   "metadata": {
    "datalore": {
     "sheet_delimiter": false
    },
    "tags": [
     "DataChill"
    ]
   },
   "outputs": [],
   "source": [
    "'a' in [1, 2, 3]"
   ]
  },
  {
   "cell_type": "markdown",
   "metadata": {
    "datalore": {
     "sheet_delimiter": false
    },
    "tags": [
     "DataChill"
    ]
   },
   "source": [
    "## 1.1. Thêm và xóa phần tử"
   ]
  },
  {
   "cell_type": "markdown",
   "metadata": {
    "datalore": {
     "sheet_delimiter": false
    },
    "tags": [
     "DataChill"
    ]
   },
   "source": [
    "Phương thức  `list.append()` thêm một phần tử vào cuối list."
   ]
  },
  {
   "cell_type": "code",
   "execution_count": null,
   "metadata": {
    "datalore": {
     "sheet_delimiter": false
    },
    "tags": [
     "DataChill"
    ]
   },
   "outputs": [],
   "source": [
    "cats = ['jaguar', 'tiger', 'lion', 'panther']\n",
    "cats.append('leopard')\n",
    "cats"
   ]
  },
  {
   "cell_type": "markdown",
   "metadata": {
    "datalore": {
     "sheet_delimiter": false
    },
    "tags": [
     "DataChill"
    ]
   },
   "source": [
    "**Tình huống 1:** Sử dụng list tạo ra danh sách 20 số Fibonacci đầu tiên."
   ]
  },
  {
   "cell_type": "markdown",
   "metadata": {
    "datalore": {
     "sheet_delimiter": false
    },
    "tags": [
     "DataChill"
    ]
   },
   "source": [
    "Phương thức `list.insert()` thêm một phần tử vào một vị trí cụ thể."
   ]
  },
  {
   "cell_type": "code",
   "execution_count": null,
   "metadata": {
    "datalore": {
     "sheet_delimiter": false
    },
    "tags": [
     "DataChill"
    ]
   },
   "outputs": [],
   "source": [
    "cats = ['jaguar', 'tiger', 'lion', 'panther']\n",
    "cats.insert(2, 'puma')\n",
    "cats"
   ]
  },
  {
   "cell_type": "code",
   "execution_count": null,
   "metadata": {
    "datalore": {
     "sheet_delimiter": false
    },
    "tags": [
     "DataChill"
    ]
   },
   "outputs": [],
   "source": [
    "cats = ['jaguar', 'tiger', 'lion', 'panther']\n",
    "cats.insert(2, ['cheetah', 'puma'])\n",
    "cats"
   ]
  },
  {
   "cell_type": "markdown",
   "metadata": {
    "datalore": {
     "sheet_delimiter": false
    },
    "tags": [
     "DataChill"
    ]
   },
   "source": [
    "Phương thức `list.extend()` thêm tất cả phần tử của một list khác vào list hiện tại."
   ]
  },
  {
   "cell_type": "code",
   "execution_count": null,
   "metadata": {
    "datalore": {
     "sheet_delimiter": false
    },
    "tags": [
     "DataChill"
    ]
   },
   "outputs": [],
   "source": [
    "cats = ['jaguar', 'tiger', 'lion', 'panther']\n",
    "cats.extend(['cheetah', 'puma'])\n",
    "cats"
   ]
  },
  {
   "cell_type": "markdown",
   "metadata": {
    "datalore": {
     "sheet_delimiter": false
    },
    "tags": [
     "DataChill"
    ]
   },
   "source": [
    "Phép cộng 2 list: trả về object mới."
   ]
  },
  {
   "cell_type": "code",
   "execution_count": null,
   "metadata": {
    "datalore": {
     "sheet_delimiter": false
    },
    "tags": [
     "DataChill"
    ]
   },
   "outputs": [],
   "source": [
    "cats = ['jaguar', 'tiger', 'lion', 'panther']\n",
    "cats + ['cheetah', 'puma']"
   ]
  },
  {
   "cell_type": "markdown",
   "metadata": {
    "datalore": {
     "sheet_delimiter": false
    },
    "tags": [
     "DataChill"
    ]
   },
   "source": [
    "**Tình huống 2:** Cho 2 list `X`, `Y`. Tạo ra các list sau:\n",
    "- List `A` chứa tất cả phần tử có trong cả `X` và `Y`\n",
    "- List `B` chứa các phần tử có trong `X` nhưng không có trong `Y`\n",
    "- List `C` chứa các phần tử là số chẵn trong `X` hoặc là số lẻ trong `Y`"
   ]
  },
  {
   "cell_type": "code",
   "execution_count": null,
   "metadata": {
    "datalore": {
     "sheet_delimiter": false
    },
    "tags": [
     "DataChill"
    ]
   },
   "outputs": [],
   "source": [
    "X = [1, 1, 1, 2, 3, 5, 8, 8, 13, 21, 21, 34, 55, 89]\n",
    "Y = [1, 2, 3, 4, 5, 6, 7, 8, 9, 10, 11, 12, 13, 13]"
   ]
  },
  {
   "cell_type": "markdown",
   "metadata": {
    "datalore": {
     "sheet_delimiter": false
    },
    "tags": [
     "DataChill"
    ]
   },
   "source": [
    "Phương thức `list.remove()` xóa một phần tử (chỉ xóa lần xuất hiện đầu tiên)."
   ]
  },
  {
   "cell_type": "code",
   "execution_count": null,
   "metadata": {
    "datalore": {
     "sheet_delimiter": false
    },
    "tags": [
     "DataChill"
    ]
   },
   "outputs": [],
   "source": [
    "cats = ['tiger', 'python', 'lion', 'leopard']\n",
    "cats.remove('python')\n",
    "cats"
   ]
  },
  {
   "cell_type": "markdown",
   "metadata": {
    "datalore": {
     "sheet_delimiter": false
    },
    "tags": [
     "DataChill"
    ]
   },
   "source": [
    "Phương thức `list.pop()` xóa phần tử tại vị trí được chỉ định, đồng thời trả về giá trị phần tử đó."
   ]
  },
  {
   "cell_type": "code",
   "execution_count": null,
   "metadata": {
    "datalore": {
     "sheet_delimiter": false
    },
    "tags": [
     "DataChill"
    ]
   },
   "outputs": [],
   "source": [
    "cats = ['tiger', 'python', 'lion', 'leopard']\n",
    "deleted = cats.pop(1)\n",
    "print(cats)\n",
    "print(deleted)"
   ]
  },
  {
   "cell_type": "markdown",
   "metadata": {
    "datalore": {
     "sheet_delimiter": false
    },
    "tags": [
     "DataChill"
    ]
   },
   "source": [
    "## 1.2. Kỹ thuật slicing\n",
    "Cú pháp giống như trong string: `[start:stop:step]`."
   ]
  },
  {
   "cell_type": "markdown",
   "metadata": {
    "datalore": {
     "sheet_delimiter": false
    },
    "tags": [
     "DataChill"
    ]
   },
   "source": [
    "#### Ôn lại slicing"
   ]
  },
  {
   "cell_type": "code",
   "execution_count": null,
   "metadata": {
    "datalore": {
     "sheet_delimiter": false
    },
    "tags": [
     "DataChill"
    ]
   },
   "outputs": [],
   "source": [
    "digits = [0, 1, 2, 3, 4, 5, 6, 7, 8, 9]\n",
    "digits[1:7:2]"
   ]
  },
  {
   "cell_type": "code",
   "execution_count": null,
   "metadata": {
    "datalore": {
     "sheet_delimiter": false
    },
    "tags": [
     "DataChill"
    ]
   },
   "outputs": [],
   "source": [
    "digits = [0, 1, 2, 3, 4, 5, 6, 7, 8, 9]\n",
    "digits[7]"
   ]
  },
  {
   "cell_type": "code",
   "execution_count": null,
   "metadata": {
    "datalore": {
     "sheet_delimiter": false
    },
    "tags": [
     "DataChill"
    ]
   },
   "outputs": [],
   "source": [
    "digits = [0, 1, 2, 3, 4, 5, 6, 7, 8, 9]\n",
    "digits[7:8]"
   ]
  },
  {
   "cell_type": "code",
   "execution_count": null,
   "metadata": {
    "datalore": {
     "sheet_delimiter": false
    },
    "tags": [
     "DataChill"
    ]
   },
   "outputs": [],
   "source": [
    "digits = [0, 1, 2, 3, 4, 5, 6, 7, 8, 9]\n",
    "digits[:7] + digits[7:]"
   ]
  },
  {
   "cell_type": "code",
   "execution_count": null,
   "metadata": {
    "datalore": {
     "sheet_delimiter": false
    },
    "tags": [
     "DataChill"
    ]
   },
   "outputs": [],
   "source": [
    "digits = [0, 1, 2, 3, 4, 5, 6, 7, 8, 9]\n",
    "digits[::-1]"
   ]
  },
  {
   "cell_type": "code",
   "execution_count": null,
   "metadata": {
    "datalore": {
     "sheet_delimiter": false
    },
    "tags": [
     "DataChill"
    ]
   },
   "outputs": [],
   "source": [
    "list(range(10))"
   ]
  },
  {
   "cell_type": "markdown",
   "metadata": {
    "datalore": {
     "sheet_delimiter": false
    },
    "tags": [
     "DataChill"
    ]
   },
   "source": [
    "**Chú ý:** Để tạo ra dãy số nguyên cách đều, có thể sử dụng hàm `range()` với các tham số `start`, `stop`, `step` giống với slicing."
   ]
  },
  {
   "cell_type": "markdown",
   "metadata": {
    "datalore": {
     "sheet_delimiter": false
    },
    "tags": [
     "DataChill"
    ]
   },
   "source": [
    "**Tình huống 3:** Cho list sau: `[[1, 2, 3, 4, 5], [True, True, False, True, False]]`. Hãy dùng slicing, lấy ra phần tử thứ 3 của list con thứ nhất."
   ]
  },
  {
   "cell_type": "markdown",
   "metadata": {
    "datalore": {
     "sheet_delimiter": false
    },
    "tags": [
     "DataChill"
    ]
   },
   "source": [
    "**Tình huống 4:** Cho list `data = ['aa', 'bb', 'cc', 'dd', 'ee']`. Hãy tạo ra list sau:\\\n",
    "`result = [[1, 'aa'], [2, 'bb'], [3, 'cc'], [4, 'dd'], [5, 'ee']]`"
   ]
  },
  {
   "cell_type": "markdown",
   "metadata": {
    "datalore": {
     "sheet_delimiter": false
    },
    "tags": [
     "DataChill"
    ]
   },
   "source": [
    "#### Phép gán phần tử\n",
    "Chỉ xuất hiện ở những đối tượng chỉnh sửa được."
   ]
  },
  {
   "cell_type": "code",
   "execution_count": null,
   "metadata": {
    "datalore": {
     "sheet_delimiter": false
    },
    "tags": [
     "DataChill"
    ]
   },
   "outputs": [],
   "source": [
    "digits = [0, 1, 2, 3, 4, 5, 6, 7, 8, 9]\n",
    "digits[7] = None\n",
    "digits"
   ]
  },
  {
   "cell_type": "code",
   "execution_count": null,
   "metadata": {
    "datalore": {
     "sheet_delimiter": false
    },
    "tags": [
     "DataChill"
    ]
   },
   "outputs": [],
   "source": [
    "digits = [0, 1, 2, 3, 4, 5, 6, 7, 8, 9]\n",
    "digits[1:6] = [True, False]\n",
    "digits"
   ]
  },
  {
   "cell_type": "markdown",
   "metadata": {
    "datalore": {
     "sheet_delimiter": false
    },
    "tags": [
     "DataChill"
    ]
   },
   "source": [
    "## 1.3. Các thao tác với list\n",
    "Một hàm/phương thức thường có một trong hai chức năng sau:\n",
    "- Trả về một đối tượng mới, không thay đổi đối tượng ban đầu\n",
    "- Sửa đối tượng ban đầu, nhưng trả về None"
   ]
  },
  {
   "cell_type": "markdown",
   "metadata": {
    "datalore": {
     "sheet_delimiter": false
    },
    "tags": [
     "DataChill"
    ]
   },
   "source": [
    "**Lặp qua các phần tử của list**"
   ]
  },
  {
   "cell_type": "code",
   "execution_count": null,
   "metadata": {
    "datalore": {
     "sheet_delimiter": false
    },
    "tags": [
     "DataChill"
    ]
   },
   "outputs": [],
   "source": [
    "felidae = ['tiger', 'lion', 'panther', 'leopard', 'jaguar', 'cheetah']\n",
    "for felid in felidae:\n",
    "    print(f'meow {felid}')"
   ]
  },
  {
   "cell_type": "markdown",
   "metadata": {
    "datalore": {
     "sheet_delimiter": false
    },
    "tags": [
     "DataChill"
    ]
   },
   "source": [
    "**Sắp xếp**"
   ]
  },
  {
   "cell_type": "code",
   "execution_count": null,
   "metadata": {
    "datalore": {
     "sheet_delimiter": false
    },
    "tags": [
     "DataChill"
    ]
   },
   "outputs": [],
   "source": [
    "# sắp xếp theo bảng chữ cái, tăng dần\n",
    "digits = [5, 2, 1, 6, 3, 0, 7, 9, 4, 8]\n",
    "digits.sort()\n",
    "digits"
   ]
  },
  {
   "cell_type": "code",
   "execution_count": null,
   "metadata": {
    "datalore": {
     "sheet_delimiter": false
    },
    "tags": [
     "DataChill"
    ]
   },
   "outputs": [],
   "source": [
    "# sắp xếp theo độ dài phần tử, giảm dần\n",
    "cats = ['tiger', 'lion', 'panther', 'leopard', 'jaguar', 'cheetah']\n",
    "cats.sort(key=len, reverse=True)\n",
    "cats"
   ]
  },
  {
   "cell_type": "code",
   "execution_count": null,
   "metadata": {
    "datalore": {
     "sheet_delimiter": false
    },
    "tags": [
     "DataChill"
    ]
   },
   "outputs": [],
   "source": [
    "# trả về list mới đã được sort, không thay đổi list cũ\n",
    "digits = [5, 2, 1, 6, 3, 0, 7, 9, 4, 8]\n",
    "sorted(digits)"
   ]
  },
  {
   "cell_type": "markdown",
   "metadata": {
    "datalore": {
     "sheet_delimiter": false
    },
    "tags": [
     "DataChill"
    ]
   },
   "source": [
    "**Một số hàm hoạt động với list**"
   ]
  },
  {
   "cell_type": "code",
   "execution_count": null,
   "metadata": {
    "datalore": {
     "sheet_delimiter": false
    },
    "tags": [
     "DataChill"
    ]
   },
   "outputs": [],
   "source": [
    "my_list = ['a', 'n', 'a', 'c', 'o', 'n', 'd', 'a']\n",
    "my_list.count('a')"
   ]
  },
  {
   "cell_type": "code",
   "execution_count": null,
   "metadata": {
    "datalore": {
     "sheet_delimiter": false
    },
    "tags": [
     "DataChill"
    ]
   },
   "outputs": [],
   "source": [
    "cats = ['tiger', 'lion', 'panther', 'leopard', 'jaguar', 'cheetah']\n",
    "cats.index('panther')"
   ]
  },
  {
   "cell_type": "code",
   "execution_count": null,
   "metadata": {
    "datalore": {
     "sheet_delimiter": false
    },
    "tags": [
     "DataChill"
    ]
   },
   "outputs": [],
   "source": [
    "cats = ['tiger', 'lion', 'panther', 'leopard', 'jaguar', 'cheetah']\n",
    "len(cats)"
   ]
  },
  {
   "cell_type": "code",
   "execution_count": null,
   "metadata": {
    "datalore": {
     "sheet_delimiter": false
    },
    "tags": [
     "DataChill"
    ]
   },
   "outputs": [],
   "source": [
    "cats = ['tiger', 'lion', 'panther', 'leopard', 'jaguar', 'cheetah']\n",
    "min(cats)"
   ]
  },
  {
   "cell_type": "code",
   "execution_count": null,
   "metadata": {
    "datalore": {
     "sheet_delimiter": false
    },
    "tags": [
     "DataChill"
    ]
   },
   "outputs": [],
   "source": [
    "cats = ['tiger', 'lion', 'panther', 'leopard', 'jaguar', 'cheetah']\n",
    "max(cats)"
   ]
  },
  {
   "cell_type": "code",
   "execution_count": null,
   "metadata": {
    "datalore": {
     "sheet_delimiter": false
    },
    "tags": [
     "DataChill"
    ]
   },
   "outputs": [],
   "source": [
    "digits = [0, 1, 2, 3, 4, 5, 6, 7, 8, 9]\n",
    "sum(digits)"
   ]
  },
  {
   "cell_type": "code",
   "execution_count": null,
   "metadata": {
    "datalore": {
     "sheet_delimiter": false
    },
    "tags": [
     "DataChill"
    ]
   },
   "outputs": [],
   "source": [
    "bool_list = [True, False, False, True, True]\n",
    "sum(bool_list)"
   ]
  },
  {
   "cell_type": "markdown",
   "metadata": {
    "datalore": {
     "sheet_delimiter": false
    },
    "tags": [
     "DataChill"
    ]
   },
   "source": [
    "## 1.4. Ứng dụng của vòng lặp for với list"
   ]
  },
  {
   "cell_type": "code",
   "execution_count": null,
   "metadata": {
    "datalore": {
     "sheet_delimiter": false
    },
    "tags": [
     "DataChill"
    ]
   },
   "outputs": [],
   "source": [
    "# lấy tất cả phần tử chỉ xuất hiện 1 lần\n",
    "golden_ball = [\n",
    "    'Nedved', 'Shevchenko', 'Ronaldinho', 'Cannavaro',\n",
    "    'Kaka', 'Ronaldo', 'Messi', 'Messi',\n",
    "    'Messi', 'Messi', 'Ronaldo', 'Ronaldo',\n",
    "    'Messi', 'Ronaldo', 'Ronaldo', 'Modric'\n",
    "]\n",
    "\n",
    "players = []\n",
    "for player in golden_ball:\n",
    "    if golden_ball.count(player) == 1:\n",
    "        players.append(player)\n",
    "\n",
    "players"
   ]
  },
  {
   "cell_type": "code",
   "execution_count": null,
   "metadata": {
    "datalore": {
     "sheet_delimiter": false
    },
    "tags": [
     "DataChill"
    ]
   },
   "outputs": [],
   "source": [
    "# làm phẳng list lồng nhau\n",
    "matrix = [\n",
    "    [1, 2, 3, 4],\n",
    "    [5, 6, 7, 8]\n",
    "]\n",
    "\n",
    "vector = []\n",
    "for row in matrix:\n",
    "    for entry in row:\n",
    "        vector.append(entry)\n",
    "        \n",
    "vector"
   ]
  },
  {
   "cell_type": "markdown",
   "metadata": {
    "datalore": {
     "sheet_delimiter": false
    },
    "tags": [
     "DataChill"
    ]
   },
   "source": [
    "**Tình huống 5:** Lấy ra tất cả các phần tử chứa `an/An` trong list dưới đây:\n",
    "\n",
    "`customer_name = [\n",
    "    'Anna Bella', 'Andre Fluit', 'Hallie Larmon',\n",
    "    'Kathyrn Deets', 'Aniee Luker', 'Mickie Stepp',\n",
    "    'Janinto Petteway', 'Blondell Walberg', 'Iona Mantos']`"
   ]
  },
  {
   "cell_type": "markdown",
   "metadata": {
    "datalore": {
     "sheet_delimiter": false
    },
    "tags": [
     "DataChill"
    ]
   },
   "source": [
    "## 1.5. List comprehension"
   ]
  },
  {
   "cell_type": "markdown",
   "metadata": {
    "datalore": {
     "sheet_delimiter": false
    },
    "tags": [
     "DataChill"
    ]
   },
   "source": [
    "**Vòng lặp so với list comprehension**\\\n",
    "Trong 2 đoạn code dưới đây, đoạn 2 (là một list comprehension) ngắn gọn và dễ hiểu hơn. Ngoài ra list comprehension còn nhanh hơn.\\\n",
    "Tuy nhiên không nên dùng list comprehension nếu vòng lặp quá phức tạp."
   ]
  },
  {
   "cell_type": "code",
   "execution_count": null,
   "metadata": {
    "datalore": {
     "sheet_delimiter": false
    },
    "tags": [
     "DataChill"
    ]
   },
   "outputs": [],
   "source": [
    "# script 1\n",
    "digits = []\n",
    "for i in range(10):\n",
    "    digits.append(i)\n",
    "digits"
   ]
  },
  {
   "cell_type": "code",
   "execution_count": null,
   "metadata": {
    "datalore": {
     "sheet_delimiter": false
    },
    "tags": [
     "DataChill"
    ]
   },
   "outputs": [],
   "source": [
    "# script 2\n",
    "digits = [i for i in range(10)]\n",
    "digits"
   ]
  },
  {
   "cell_type": "markdown",
   "metadata": {
    "datalore": {
     "sheet_delimiter": false
    },
    "tags": [
     "DataChill"
    ]
   },
   "source": [
    "**Tình huống 6:** Với mỗi số trong list_B, lấy số đó và vị trí của nó trong list_A thành 1 cặp số và in ra list chứa các cặp số đó. Sử dụng list comprehension.\n",
    "\n",
    "`list_A = [2, 5, 6, 9, 8, 4, 6, 7, 10, 1, 14]`\\\n",
    "`list_B = [9, 10, 1, 7, 9, 5, 10]`"
   ]
  },
  {
   "cell_type": "markdown",
   "metadata": {
    "datalore": {
     "sheet_delimiter": false
    },
    "tags": [
     "DataChill"
    ]
   },
   "source": [
    "**List comprehensions với nhiều điều kiện**\\\n",
    "Mỗi điều kiện phải đặt trong ngoặc tròn `()`."
   ]
  },
  {
   "cell_type": "code",
   "execution_count": null,
   "metadata": {
    "datalore": {
     "sheet_delimiter": false
    },
    "tags": [
     "DataChill"
    ]
   },
   "outputs": [],
   "source": [
    "golden_ball = [\n",
    "    'Figo', 'Owen', 'Nedved', 'Shevchenko', 'Ronaldinho',\n",
    "    'Cannavaro', 'Kaka', 'Ronaldo', 'Messi', 'Modric'\n",
    "]\n",
    "\n",
    "approach1 = [\n",
    "    i for i in golden_ball if\n",
    "    ('a' not in i) and\n",
    "    ('e' not in i)\n",
    "]\n",
    "approach1"
   ]
  },
  {
   "cell_type": "markdown",
   "metadata": {
    "datalore": {
     "sheet_delimiter": false
    },
    "tags": [
     "DataChill"
    ]
   },
   "source": [
    "**In ra các phần tử trong một danh sách**"
   ]
  },
  {
   "cell_type": "code",
   "execution_count": null,
   "metadata": {
    "datalore": {
     "sheet_delimiter": false
    },
    "tags": [
     "DataChill"
    ]
   },
   "outputs": [],
   "source": [
    "from datetime import date\n",
    "data = [\n",
    "    date(2020, 1, 1),\n",
    "    date(2020, 1, 2),\n",
    "    date(2020, 1, 3),\n",
    "    date(2020, 1, 4),\n",
    "    date(2020, 1, 5),\n",
    "    date(2020, 1, 6),\n",
    "    date(2020, 1, 7)\n",
    "]\n",
    "\n",
    "_ = [print(i) for i in data]"
   ]
  },
  {
   "cell_type": "markdown",
   "metadata": {
    "datalore": {
     "sheet_delimiter": false
    },
    "tags": [
     "DataChill"
    ]
   },
   "source": [
    "**List comprehensions đối với list lồng nhau**"
   ]
  },
  {
   "cell_type": "code",
   "execution_count": null,
   "metadata": {
    "datalore": {
     "sheet_delimiter": false
    },
    "tags": [
     "DataChill"
    ]
   },
   "outputs": [],
   "source": [
    "# làm phẳng ma trận\n",
    "matrix = [\n",
    "    [1, 2, 3, 4],\n",
    "    [5, 6, 7, 8]\n",
    "]\n",
    "\n",
    "vector = [entry for row in matrix for entry in row]\n",
    "        \n",
    "vector"
   ]
  },
  {
   "cell_type": "markdown",
   "metadata": {
    "datalore": {
     "sheet_delimiter": false
    },
    "tags": [
     "DataChill"
    ]
   },
   "source": [
    "**Tình huống 7:**  Cho 1 ma trận dưới đây, hãy tạo ra 1 list chứa các phần tử chia hết cho 2 trong ma trận đó, sử dụng list comprehension\\\n",
    "`matrix = [[1, 2, 3], [19, 20, 46], [-4, 10, 5], [8, 7, -9]]`"
   ]
  },
  {
   "cell_type": "markdown",
   "metadata": {
    "datalore": {
     "sheet_delimiter": false
    },
    "tags": [
     "DataChill"
    ]
   },
   "source": [
    "# 2. Tuple\n",
    "`tuple` là phiên bản không chỉnh sửa được của `list`. Vì vậy các phương thức chỉnh sửa list như `list.append()`, `list.remove()` không có trên tuple.\n",
    "\n",
    "![image](https://img.shields.io/badge/Data-Chilly-teal?logo=python)"
   ]
  },
  {
   "cell_type": "markdown",
   "metadata": {
    "datalore": {
     "sheet_delimiter": false
    },
    "tags": [
     "DataChill"
    ]
   },
   "source": [
    "## 2.1. Khởi tạo tuple\n",
    "Sử dụng ngoặc tròn `()` hoặc hàm khởi tạo `tuple()`."
   ]
  },
  {
   "cell_type": "code",
   "execution_count": null,
   "metadata": {
    "datalore": {
     "sheet_delimiter": false
    },
    "tags": [
     "DataChill"
    ]
   },
   "outputs": [],
   "source": [
    "cats = ('tiger', 'lion', 'jaguar')\n",
    "cats"
   ]
  },
  {
   "cell_type": "markdown",
   "metadata": {
    "datalore": {
     "sheet_delimiter": false
    },
    "tags": [
     "DataChill"
    ]
   },
   "source": [
    "**Tình huống 8:** Vì sao trong tình huống dưới, kết quả là `False`?"
   ]
  },
  {
   "cell_type": "code",
   "execution_count": null,
   "metadata": {
    "datalore": {
     "sheet_delimiter": false
    },
    "tags": [
     "DataChill"
    ]
   },
   "outputs": [],
   "source": [
    "tuple_1 = ('python')\n",
    "tuple_2 = ('python',)\n",
    "type(tuple_1) == type(tuple_2)"
   ]
  },
  {
   "cell_type": "code",
   "execution_count": null,
   "metadata": {
    "datalore": {
     "sheet_delimiter": false
    },
    "tags": [
     "DataChill"
    ]
   },
   "outputs": [],
   "source": [
    "tuple([2, 3, 5])"
   ]
  },
  {
   "cell_type": "code",
   "execution_count": null,
   "metadata": {
    "datalore": {
     "sheet_delimiter": false
    },
    "tags": [
     "DataChill"
    ]
   },
   "outputs": [],
   "source": [
    "tuple('235')"
   ]
  },
  {
   "cell_type": "markdown",
   "metadata": {
    "datalore": {
     "sheet_delimiter": false
    },
    "tags": [
     "DataChill"
    ]
   },
   "source": [
    "## 2.2. Kỹ thuật unpacking\n",
    "Một số hàm có thể trả về nhiều giá trị, thường được đặt trong 1 tuple. Unpacking giúp nhanh chóng lấy ra thông tin cần sử dụng."
   ]
  },
  {
   "cell_type": "code",
   "execution_count": null,
   "metadata": {
    "datalore": {
     "sheet_delimiter": false
    },
    "tags": [
     "DataChill"
    ]
   },
   "outputs": [],
   "source": [
    "rectangle = (5, 8, 40)\n",
    "width, length, area = rectangle # unpacking\n",
    "print(f'Area = Width * Length = {width} * {length} = {area}')"
   ]
  },
  {
   "cell_type": "markdown",
   "metadata": {
    "datalore": {
     "sheet_delimiter": false
    },
    "tags": [
     "DataChill"
    ]
   },
   "source": [
    "# 3. Dictionary\n",
    "![image](https://img.shields.io/badge/Data-Chilly-teal?logo=python)"
   ]
  },
  {
   "cell_type": "markdown",
   "metadata": {
    "datalore": {
     "sheet_delimiter": false
    },
    "tags": [
     "DataChill"
    ]
   },
   "source": [
    "Dictionary là cấu trúc dữ liệu 2 chiều, chứa các cặp **key-value**, trong đó key là độc nhất.\\\n",
    "Dictionary chỉnh sửa được."
   ]
  },
  {
   "cell_type": "markdown",
   "metadata": {
    "datalore": {
     "sheet_delimiter": false
    },
    "tags": [
     "DataChill"
    ]
   },
   "source": [
    "## 3.1. Khởi tạo dictionary\n",
    "Các đối tượng thuộc lớp `dict` được định nghĩa bởi dấu ngoặc nhọn `{}` và sử dụng dấu hai chấm `:` để chỉ định 1 cặp key-value. Ngoài ra có thể dùng hàm khởi tạo `dict()`.\\\n",
    "Nếu một key xuất hiện 2 lần trở lên, Python sẽ lấy giá trị sau cùng."
   ]
  },
  {
   "cell_type": "code",
   "execution_count": null,
   "metadata": {
    "datalore": {
     "sheet_delimiter": false
    },
    "tags": [
     "DataChill"
    ]
   },
   "outputs": [],
   "source": [
    "my_dict = {\n",
    "    'python': 6,\n",
    "    'jupyter': 0,\n",
    "    'jupyter': 7,\n",
    "    'kaggle': 6\n",
    "}\n",
    "my_dict"
   ]
  },
  {
   "cell_type": "code",
   "execution_count": null,
   "metadata": {
    "datalore": {
     "sheet_delimiter": false
    },
    "tags": [
     "DataChill"
    ]
   },
   "outputs": [],
   "source": [
    "dict([['python', 6], ['jupyter', 7], ['kaggle', 6]])"
   ]
  },
  {
   "cell_type": "code",
   "execution_count": null,
   "metadata": {
    "datalore": {
     "sheet_delimiter": false
    },
    "tags": [
     "DataChill"
    ]
   },
   "outputs": [],
   "source": [
    "dict(python=6, jupyter=7, kaggle=6)"
   ]
  },
  {
   "cell_type": "code",
   "execution_count": null,
   "metadata": {
    "datalore": {
     "sheet_delimiter": false
    },
    "tags": [
     "DataChill"
    ]
   },
   "outputs": [],
   "source": [
    "{1: 2, 3: 4} == {3: 4, 1: 2}"
   ]
  },
  {
   "cell_type": "markdown",
   "metadata": {
    "datalore": {
     "sheet_delimiter": false
    },
    "tags": [
     "DataChill"
    ]
   },
   "source": [
    "## 3.2. Thao tác với key và value"
   ]
  },
  {
   "cell_type": "markdown",
   "metadata": {
    "datalore": {
     "sheet_delimiter": false
    },
    "tags": [
     "DataChill"
    ]
   },
   "source": [
    "Lấy ra danh sách key và value."
   ]
  },
  {
   "cell_type": "code",
   "execution_count": null,
   "metadata": {
    "datalore": {
     "sheet_delimiter": false
    },
    "tags": [
     "DataChill"
    ]
   },
   "outputs": [],
   "source": [
    "my_dict = dict([['python', 6], ['jupyter', 7], ['kaggle', 6]])\n",
    "my_dict.keys()"
   ]
  },
  {
   "cell_type": "code",
   "execution_count": null,
   "metadata": {
    "datalore": {
     "sheet_delimiter": false
    },
    "tags": [
     "DataChill"
    ]
   },
   "outputs": [],
   "source": [
    "my_dict = dict([['python', 6], ['jupyter', 7], ['kaggle', 6]])\n",
    "my_dict.values()"
   ]
  },
  {
   "cell_type": "markdown",
   "metadata": {
    "datalore": {
     "sheet_delimiter": false
    },
    "tags": [
     "DataChill"
    ]
   },
   "source": [
    "Sử dụng từ khóa `in` để kiểm tra 1 key có thuộc dictionary đó hay không."
   ]
  },
  {
   "cell_type": "code",
   "execution_count": null,
   "metadata": {
    "datalore": {
     "sheet_delimiter": false
    },
    "tags": [
     "DataChill"
    ]
   },
   "outputs": [],
   "source": [
    "my_dict = dict([['python', 6], ['jupyter', 7], ['kaggle', 6]])\n",
    "'anaconda' in my_dict"
   ]
  },
  {
   "cell_type": "markdown",
   "metadata": {
    "datalore": {
     "sheet_delimiter": false
    },
    "tags": [
     "DataChill"
    ]
   },
   "source": [
    "Có thể truy cập value thông qua key. Đồng thời cho phép gán phần tử cho dictionary.\\\n",
    "Tuy có cú pháp gần giống nhau nhưng đây không phải slicing, bởi dictionary không có thứ tự phần tử."
   ]
  },
  {
   "cell_type": "code",
   "execution_count": null,
   "metadata": {
    "datalore": {
     "sheet_delimiter": false
    },
    "tags": [
     "DataChill"
    ]
   },
   "outputs": [],
   "source": [
    "# truy cập value ứng với key \"python\"\n",
    "my_dict = dict([['python', 6], ['jupyter', 7], ['kaggle', 6]])\n",
    "my_dict['python']"
   ]
  },
  {
   "cell_type": "code",
   "execution_count": null,
   "metadata": {
    "datalore": {
     "sheet_delimiter": false
    },
    "tags": [
     "DataChill"
    ]
   },
   "outputs": [],
   "source": [
    "# item assignment\n",
    "my_dict = {'python': 6, 'jupyter': 7, 'kaggle': 6}\n",
    "my_dict['anaconda'] = 8\n",
    "my_dict"
   ]
  },
  {
   "cell_type": "markdown",
   "metadata": {
    "datalore": {
     "sheet_delimiter": false
    },
    "tags": [
     "DataChill"
    ]
   },
   "source": [
    "**Tình huống 9:** Cho dictionary `my_dict = {'python': 1, 'jupyter': 7, 'kaggle': 6}`. Hãy sửa giá trị của key \"python\" thành độ dài chính key đó."
   ]
  },
  {
   "cell_type": "markdown",
   "metadata": {
    "datalore": {
     "sheet_delimiter": false
    },
    "tags": [
     "DataChill"
    ]
   },
   "source": [
    "Lệnh `del` xóa một cặp key-value."
   ]
  },
  {
   "cell_type": "code",
   "execution_count": null,
   "metadata": {
    "datalore": {
     "sheet_delimiter": false
    },
    "tags": [
     "DataChill"
    ]
   },
   "outputs": [],
   "source": [
    "my_dict = {'python': 6, 'jupyter': 7, 'kaggle': 6}\n",
    "del my_dict['kaggle']\n",
    "my_dict"
   ]
  },
  {
   "cell_type": "markdown",
   "metadata": {
    "datalore": {
     "sheet_delimiter": false
    },
    "tags": [
     "DataChill"
    ]
   },
   "source": [
    "Phương thức `dict.pop()` xóa key và trả về value."
   ]
  },
  {
   "cell_type": "code",
   "execution_count": null,
   "metadata": {
    "datalore": {
     "sheet_delimiter": false
    },
    "tags": [
     "DataChill"
    ]
   },
   "outputs": [],
   "source": [
    "my_dict = {'python': 6, 'jupyter': 7, 'kaggle': 6}\n",
    "print(my_dict.pop('python'))\n",
    "print(my_dict)"
   ]
  },
  {
   "cell_type": "markdown",
   "metadata": {
    "datalore": {
     "sheet_delimiter": false
    },
    "tags": [
     "DataChill"
    ]
   },
   "source": [
    "**Tình huống 10:** Cho dictionary `my_dict = {'kaggle': 6, 'jupyter': 7, 'anaconda': 8}`. Hãy sửa key \"kaggle\" thành \"python\"."
   ]
  },
  {
   "cell_type": "markdown",
   "metadata": {
    "datalore": {
     "sheet_delimiter": false
    },
    "tags": [
     "DataChill"
    ]
   },
   "source": [
    "## 3.3. Phương thức update\n",
    "Thêm key mới, cập nhật những key bị trùng và giữ nguyên những key sẵn có."
   ]
  },
  {
   "cell_type": "code",
   "execution_count": null,
   "metadata": {
    "datalore": {
     "sheet_delimiter": false
    },
    "tags": [
     "DataChill"
    ]
   },
   "outputs": [],
   "source": [
    "data1 = {\n",
    "    'name': ['Taylor', 'Patrick', 'Sam'],\n",
    "    'phone': ['0912345678', '01600000016']\n",
    "}\n",
    "\n",
    "data2 = {\n",
    "    'gender': ['female', 'male', 'male'],\n",
    "    'phone': ['0912345678', '0300000016', '0312345678']\n",
    "}"
   ]
  },
  {
   "cell_type": "code",
   "execution_count": null,
   "metadata": {
    "datalore": {
     "sheet_delimiter": false
    },
    "tags": [
     "DataChill"
    ]
   },
   "outputs": [],
   "source": [
    "data1.update(data2)\n",
    "data1"
   ]
  },
  {
   "cell_type": "markdown",
   "metadata": {
    "datalore": {
     "sheet_delimiter": false
    },
    "tags": [
     "DataChill"
    ]
   },
   "source": [
    "Trong ví dụ trên:\n",
    "- `'name'` là một key sẵn có, không thay đổi gì.\n",
    "- `'phone'` là một key bị trùng, nó sẽ nhất value từ `data2`.\n",
    "- `'gender'` là một key mới, cặp key-value này sẽ được thêm vào `data1`."
   ]
  },
  {
   "cell_type": "markdown",
   "metadata": {
    "datalore": {
     "sheet_delimiter": false
    },
    "tags": [
     "DataChill"
    ]
   },
   "source": [
    "## 3.4. Hàm zip\n",
    "Hàm `zip()` ghép 2 list cùng độ dài với nhau. Có thể dùng để tạo ra dictionary."
   ]
  },
  {
   "cell_type": "code",
   "execution_count": null,
   "metadata": {
    "datalore": {
     "sheet_delimiter": false
    },
    "tags": [
     "DataChill"
    ]
   },
   "outputs": [],
   "source": [
    "cats = ['tiger', 'lion', 'leopard']\n",
    "patterns = ['stripes', 'solid', 'dots']\n",
    "data = zip(cats, patterns)\n",
    "data = dict(data)\n",
    "data"
   ]
  },
  {
   "cell_type": "markdown",
   "metadata": {
    "datalore": {
     "sheet_delimiter": false
    },
    "tags": [
     "DataChill"
    ]
   },
   "source": [
    "## 3.5. Ứng dụng của vòng lặp for với dictionary"
   ]
  },
  {
   "cell_type": "code",
   "execution_count": null,
   "metadata": {
    "datalore": {
     "sheet_delimiter": false
    },
    "tags": [
     "DataChill"
    ]
   },
   "outputs": [],
   "source": [
    "# lọc dữ liệu đạt các tiêu chí nhất định\n",
    "data = {\n",
    "    'quarter': '2020-1',\n",
    "    'country': 'vietnam',\n",
    "    'export_quantity': '5000',\n",
    "    'export_value': '20000',\n",
    "    'import_quantity': '1000',\n",
    "    'import_value': '100000'\n",
    "}\n",
    "\n",
    "approach1 = {}\n",
    "for key, value in data.items():\n",
    "    if value.isnumeric():\n",
    "        approach1[key] = value\n",
    "\n",
    "approach1"
   ]
  },
  {
   "cell_type": "markdown",
   "metadata": {
    "datalore": {
     "sheet_delimiter": false
    },
    "tags": [
     "DataChill"
    ]
   },
   "source": [
    "**Lặp qua key**"
   ]
  },
  {
   "cell_type": "code",
   "execution_count": null,
   "metadata": {
    "datalore": {
     "sheet_delimiter": false
    },
    "tags": [
     "DataChill"
    ]
   },
   "outputs": [],
   "source": [
    "my_dict = {'kaggle': 6, 'jupyter': 7, 'anaconda': 8}\n",
    "for key in my_dict:\n",
    "    print(key)"
   ]
  },
  {
   "cell_type": "code",
   "execution_count": null,
   "metadata": {
    "datalore": {
     "sheet_delimiter": false
    },
    "tags": [
     "DataChill"
    ]
   },
   "outputs": [],
   "source": [
    "my_dict = {'kaggle': 6, 'jupyter': 7, 'anaconda': 8}\n",
    "for key in my_dict.keys():\n",
    "    print(key)"
   ]
  },
  {
   "cell_type": "markdown",
   "metadata": {
    "datalore": {
     "sheet_delimiter": false
    },
    "tags": [
     "DataChill"
    ]
   },
   "source": [
    "**Lặp qua value**"
   ]
  },
  {
   "cell_type": "code",
   "execution_count": null,
   "metadata": {
    "datalore": {
     "sheet_delimiter": false
    },
    "tags": [
     "DataChill"
    ]
   },
   "outputs": [],
   "source": [
    "my_dict = {'kaggle': 6, 'jupyter': 7, 'anaconda': 8}\n",
    "for value in my_dict.values():\n",
    "    print(value)"
   ]
  },
  {
   "cell_type": "code",
   "execution_count": null,
   "metadata": {
    "datalore": {
     "sheet_delimiter": false
    },
    "tags": [
     "DataChill"
    ]
   },
   "outputs": [],
   "source": [
    "my_dict = {'kaggle': 6, 'jupyter': 7, 'anaconda': 8}\n",
    "for key in my_dict:\n",
    "    print(my_dict[key])"
   ]
  },
  {
   "cell_type": "markdown",
   "metadata": {
    "datalore": {
     "sheet_delimiter": false
    },
    "tags": [
     "DataChill"
    ]
   },
   "source": [
    "**Lặp đồng thời qua danh sách key và value**"
   ]
  },
  {
   "cell_type": "code",
   "execution_count": null,
   "metadata": {
    "datalore": {
     "sheet_delimiter": false
    },
    "tags": [
     "DataChill"
    ]
   },
   "outputs": [],
   "source": [
    "my_dict = {'kaggle': 6, 'jupyter': 7, 'anaconda': 8}\n",
    "for key, value in my_dict.items():\n",
    "    print(f'The length of \"{key}\" is {value}')"
   ]
  },
  {
   "cell_type": "markdown",
   "metadata": {
    "datalore": {
     "sheet_delimiter": false
    },
    "tags": [
     "DataChill"
    ]
   },
   "source": [
    "**Tình huống 11:**  Lấy ra những phần tử trong dictionary có value lớn hơn 5 và in ra với format:\n",
    "`Score of {key} is {value}`\n",
    "\n",
    "`brands = {\n",
    "    'ostar': 6, 'poca': 7, 'oishi': 5,\n",
    "    'cheestos': 4, 'crimpy': 8, 'doritos': 3,\n",
    "    'fritos': 6, 'jumbo': 7.5, 'lays': 3.5}`"
   ]
  },
  {
   "cell_type": "markdown",
   "metadata": {
    "datalore": {
     "sheet_delimiter": false
    },
    "tags": [
     "DataChill"
    ]
   },
   "source": [
    "## 3.6. Dictionary comprehension"
   ]
  },
  {
   "cell_type": "code",
   "execution_count": null,
   "metadata": {
    "datalore": {
     "sheet_delimiter": false
    },
    "tags": [
     "DataChill"
    ]
   },
   "outputs": [],
   "source": [
    "cats = ['lion', 'tiger', 'leopard', 'jaguar', 'panther', 'cheetah', 'puma']\n",
    "{key: len(key) for key in felidae}"
   ]
  },
  {
   "cell_type": "code",
   "execution_count": null,
   "metadata": {
    "datalore": {
     "sheet_delimiter": false
    },
    "tags": [
     "DataChill"
    ]
   },
   "outputs": [],
   "source": [
    "digits = range(10)\n",
    "{\n",
    "    key: key**2 for key in digits\n",
    "    if key%2 == 1\n",
    "    if key**2 > 30\n",
    "}"
   ]
  },
  {
   "cell_type": "markdown",
   "metadata": {
    "datalore": {
     "sheet_delimiter": false
    },
    "tags": [
     "DataChill"
    ]
   },
   "source": [
    "**Tình huống 12:**\n",
    "Với một số nguyên n cho trước, viết một chương trình tạo ra 1 dictionary bao gồm `(i, log(i))` với i là số nguyên chạy từ 1 đến n (bao gồm cả 1 và n). Sau đó in ra dictionary."
   ]
  },
  {
   "cell_type": "markdown",
   "metadata": {
    "datalore": {
     "sheet_delimiter": false
    },
    "tags": [
     "DataChill"
    ]
   },
   "source": [
    "***\n",
    "# Tổng kết về các cấu trúc dữ liệu\n",
    "\n",
    "Đối tượng     |Cú pháp                    |Hàm khởi tạo  |Truy cập     |Slicing     |Tính độc nhất        |Chỉnh sửa |\n",
    ":---------    |:--------------------------|:-------------|:------------|:-----------|:--------------------|:---------|\n",
    "**String**    |`x = '123'`                |`str()`       |`x[0]`       |`x[0:2:1]`  |Không                |Không     |\n",
    "**List**      |`x = [1, 2, 3]`            |`list()`      |`x[0]`       |`x[0:2:1]`  |Không                |Có        |\n",
    "**Tuple**     |`x = (1, 2, 3)`            |`tuple()`     |`x[0]`       |`x[0:2:1]`  |Không                |Không     |\n",
    "**Dictionary**|`x = {'a':1, 'b':2, 'c':3}`|`dict()`      |`x['a']`     |            |Key: có, Value: không|Có        |\n",
    "\n",
    "![image](https://img.shields.io/badge/Data-Chilly-teal?logo=python)"
   ]
  },
  {
   "cell_type": "code",
   "execution_count": null,
   "metadata": {
    "datalore": {
     "sheet_delimiter": false
    },
    "tags": [
     "DataChill"
    ]
   },
   "outputs": [],
   "source": [
    "from IPython.display import Image\n",
    "Image('https://raw.githubusercontent.com/linhpt7/COURSE/main/datachilly_logo.png', height=100)"
   ]
  },
  {
   "cell_type": "markdown",
   "metadata": {
    "datalore": {
     "sheet_delimiter": false
    },
    "tags": [
     "DataChill"
    ]
   },
   "source": [
    "***\n",
    "# Giải đáp tình huống\n",
    "![image](https://img.shields.io/badge/Data-Chilly-teal?logo=python)"
   ]
  },
  {
   "cell_type": "markdown",
   "metadata": {
    "datalore": {
     "sheet_delimiter": false
    },
    "tags": [
     "DataChill"
    ]
   },
   "source": [
    "**Tình huống 1:** Sử dụng list tạo ra danh sách 20 số Fibonacci đầu tiên."
   ]
  },
  {
   "cell_type": "code",
   "execution_count": null,
   "metadata": {
    "datalore": {
     "sheet_delimiter": false
    },
    "tags": [
     "DataChill"
    ]
   },
   "outputs": [],
   "source": [
    "# sử dụng def\n",
    "def F(x):\n",
    "    if x == 1:\n",
    "        return 1\n",
    "    elif x == 2:\n",
    "        return 2\n",
    "    else:\n",
    "        print(1)\n",
    "        return F(x-1) + F(x-2)\n",
    "\n",
    "Fibo_sum = 0\n",
    "n = 20\n",
    "for i in range(1, n+1):\n",
    "    Fibo_sum += F(i)\n",
    "print('Sum = {}'.format(Fibo_sum))"
   ]
  },
  {
   "cell_type": "code",
   "execution_count": null,
   "metadata": {
    "datalore": {
     "sheet_delimiter": false
    },
    "tags": [
     "DataChill"
    ]
   },
   "outputs": [],
   "source": [
    "# sử dụng list\n",
    "n = 20\n",
    "fibo = [1, 2]\n",
    "\n",
    "for i in range(2, n):\n",
    "    fibo.append(fibo[i-1] + fibo[i-2])\n",
    "print(fibo)"
   ]
  },
  {
   "cell_type": "markdown",
   "metadata": {
    "datalore": {
     "sheet_delimiter": false
    },
    "tags": [
     "DataChill"
    ]
   },
   "source": [
    "**Tình huống 2:** Cho 2 list `X`, `Y`. Tạo ra các list sau:\n",
    "- List `A` chứa tất cả phần tử có trong cả `X` và `Y`\n",
    "- List `B` chứa các phần tử có trong `X` nhưng không có trong `Y`\n",
    "- List `C` chứa các phần tử là số chẵn trong `X` hoặc là số lẻ trong `Y`"
   ]
  },
  {
   "cell_type": "code",
   "execution_count": null,
   "metadata": {
    "datalore": {
     "sheet_delimiter": false
    },
    "tags": [
     "DataChill"
    ]
   },
   "outputs": [],
   "source": [
    "X = [1, 1, 1, 2, 3, 5, 8, 8, 13, 21, 21, 34, 55, 89]\n",
    "Y = [1, 2, 3, 4, 5, 6, 7, 8, 9, 10, 11, 12, 13, 13]"
   ]
  },
  {
   "cell_type": "code",
   "execution_count": null,
   "metadata": {
    "datalore": {
     "sheet_delimiter": false
    },
    "tags": [
     "DataChill"
    ]
   },
   "outputs": [],
   "source": [
    "A = X + Y\n",
    "print(A)"
   ]
  },
  {
   "cell_type": "code",
   "execution_count": null,
   "metadata": {
    "datalore": {
     "sheet_delimiter": false
    },
    "tags": [
     "DataChill"
    ]
   },
   "outputs": [],
   "source": [
    "B = []\n",
    "for i in X:\n",
    "    if i not in Y:\n",
    "        B.append(i)\n",
    "B"
   ]
  },
  {
   "cell_type": "markdown",
   "metadata": {
    "datalore": {
     "sheet_delimiter": false
    },
    "tags": [
     "DataChill"
    ]
   },
   "source": [
    "**Tình huống 3:** Cho list sau: `[[1, 2, 3, 4, 5], [True, True, False, True, False]]`. Hãy dùng slicing, lấy ra phần tử thứ 3 của list con thứ nhất."
   ]
  },
  {
   "cell_type": "code",
   "execution_count": null,
   "metadata": {
    "datalore": {
     "sheet_delimiter": false
    },
    "tags": [
     "DataChill"
    ]
   },
   "outputs": [],
   "source": [
    "nested_list = [[1, 2, 3, 4, 5], [True, True, False, True, False]]\n",
    "nested_list[0][2]"
   ]
  },
  {
   "cell_type": "markdown",
   "metadata": {
    "datalore": {
     "sheet_delimiter": false
    },
    "tags": [
     "DataChill"
    ]
   },
   "source": [
    "**Tình huống 4:** Cho list `data = ['aa', 'bb', 'cc', 'dd', 'ee']`. Hãy tạo ra list sau:\\\n",
    "`result = [[1, 'aa'], [2, 'bb'], [3, 'cc'], [4, 'dd'], [5, 'ee']]`"
   ]
  },
  {
   "cell_type": "code",
   "execution_count": null,
   "metadata": {
    "datalore": {
     "sheet_delimiter": false
    },
    "tags": [
     "DataChill"
    ]
   },
   "outputs": [],
   "source": [
    "data = ['aa', 'bb', 'cc', 'dd', 'ee']\n",
    "\n",
    "result = []\n",
    "for i in range(len(data)):\n",
    "    small_list = [i+1]\n",
    "    small_list.append(data[i])\n",
    "    result.append(small_list)\n",
    "result"
   ]
  },
  {
   "cell_type": "markdown",
   "metadata": {
    "datalore": {
     "sheet_delimiter": false
    },
    "tags": [
     "DataChill"
    ]
   },
   "source": [
    "**Tình huống 5:** Lấy ra tất cả các phần tử chứa `an/An` trong list dưới đây:\n",
    "\n",
    "`customer_name = [\n",
    "    'Anna Bella', 'Andre Fluit', 'Hallie Larmon',\n",
    "    'Kathyrn Deets', 'Aniee Luker','Mickie Stepp',\n",
    "    'Janinto Petteway', 'Blondell Walberg', 'Iona Mantos']`"
   ]
  },
  {
   "cell_type": "code",
   "execution_count": null,
   "metadata": {
    "datalore": {
     "sheet_delimiter": false
    },
    "tags": [
     "DataChill"
    ]
   },
   "outputs": [],
   "source": [
    "customer_name = [\n",
    "    'Anna Bella', 'Andre Fluit', 'Hallie Larmon',\n",
    "    'Kathyrn Deets', 'Aniee Luker','Mickie Stepp',\n",
    "    'Janinto Petteway', 'Blondell Walberg', 'Iona Mantos'\n",
    "]\n",
    "\n",
    "names=[]\n",
    "for name in customer_name:\n",
    "    if 'an' in name.lower():\n",
    "        names.append(name)\n",
    "names"
   ]
  },
  {
   "cell_type": "markdown",
   "metadata": {
    "datalore": {
     "sheet_delimiter": false
    },
    "tags": [
     "DataChill"
    ]
   },
   "source": [
    "**Tình huống 6:** Với mỗi số trong list_B, lấy số đó và vị trí của nó trong list_A thành 1 cặp số và in ra list chứa các cặp số đó. Sử dụng list comprehension.\n",
    "\n",
    "`list_A = [2, 5, 6, 9, 8, 4, 6, 7, 10, 1, 14]`\\\n",
    "`list_B = [9, 10, 1, 7, 9, 5, 10]`"
   ]
  },
  {
   "cell_type": "code",
   "execution_count": null,
   "metadata": {
    "datalore": {
     "sheet_delimiter": false
    },
    "tags": [
     "DataChill"
    ]
   },
   "outputs": [],
   "source": [
    "list_A = [2,5,6,9,8,4,6,7,10,1,14]\n",
    "list_B = [9,10,1,7,9,5,10]\n",
    "\n",
    "[(i, list_A.index(i)) for i in list_B]"
   ]
  },
  {
   "cell_type": "markdown",
   "metadata": {
    "datalore": {
     "sheet_delimiter": false
    },
    "tags": [
     "DataChill"
    ]
   },
   "source": [
    "**Tình huống 7:**  Cho 1 ma trận dưới đây, hãy tạo ra 1 list chứa các phần tử chia hết cho 2 trong ma trận đó, sử dụng list comprehension\\\n",
    "`matrix = [[1, 2, 3], [19, 20, 46], [-4, 10, 5], [8, 7, -9]]`"
   ]
  },
  {
   "cell_type": "code",
   "execution_count": null,
   "metadata": {
    "datalore": {
     "sheet_delimiter": false
    },
    "tags": [
     "DataChill"
    ]
   },
   "outputs": [],
   "source": [
    "matrix = [[1,2,3],[19,20,46],[-4,10,5],[8,7,-9]]\n",
    "\n",
    "result = [i for row in matrix for i in row if i%2==0]\n",
    "result"
   ]
  },
  {
   "cell_type": "markdown",
   "metadata": {
    "datalore": {
     "sheet_delimiter": false
    },
    "tags": [
     "DataChill"
    ]
   },
   "source": [
    "**Tình huống 8:** Vì sao trong tình huống dưới, kết quả là `False`?\\\n",
    "Vì dấu ngoặc đơn `()` được ưu tiên cho việc tính toán trước."
   ]
  },
  {
   "cell_type": "code",
   "execution_count": null,
   "metadata": {
    "datalore": {
     "sheet_delimiter": false
    },
    "tags": [
     "DataChill"
    ]
   },
   "outputs": [],
   "source": [
    "tuple_1 = ('python')\n",
    "tuple_2 = ('python',)\n",
    "type(tuple_1) == type(tuple_2)"
   ]
  },
  {
   "cell_type": "markdown",
   "metadata": {
    "datalore": {
     "sheet_delimiter": false
    },
    "tags": [
     "DataChill"
    ]
   },
   "source": [
    "**Tình huống 9:** Cho dictionary `my_dict = {'python': 1, 'jupyter': 7, 'kaggle': 6}`. Hãy sửa giá trị của key \"python\" thành độ dài chính key đó."
   ]
  },
  {
   "cell_type": "code",
   "execution_count": null,
   "metadata": {
    "datalore": {
     "sheet_delimiter": false
    },
    "tags": [
     "DataChill"
    ]
   },
   "outputs": [],
   "source": [
    "# thay đổi value của một key sẵn có\n",
    "my_dict = {'python': 1, 'jupyter': 7, 'kaggle': 6}\n",
    "my_dict['python'] = 6\n",
    "my_dict"
   ]
  },
  {
   "cell_type": "markdown",
   "metadata": {
    "datalore": {
     "sheet_delimiter": false
    },
    "tags": [
     "DataChill"
    ]
   },
   "source": [
    "**Tình huống 10:** Cho dictionary `my_dict = {'kaggle': 6, 'jupyter': 7, 'anaconda': 8}`. Hãy sửa key \"kaggle\" thành \"python\"."
   ]
  },
  {
   "cell_type": "code",
   "execution_count": null,
   "metadata": {
    "datalore": {
     "sheet_delimiter": false
    },
    "tags": [
     "DataChill"
    ]
   },
   "outputs": [],
   "source": [
    "my_dict = {'kaggle': 6, 'jupyter': 7, 'anaconda': 8}\n",
    "my_dict['python'] = my_dict['kaggle']\n",
    "del my_dict['kaggle']\n",
    "my_dict"
   ]
  },
  {
   "cell_type": "code",
   "execution_count": null,
   "metadata": {
    "datalore": {
     "sheet_delimiter": false
    },
    "tags": [
     "DataChill"
    ]
   },
   "outputs": [],
   "source": [
    "my_dict = {'kaggle': 6, 'jupyter': 7, 'anaconda': 8}\n",
    "my_dict['python'] = my_dict.pop('kaggle')\n",
    "my_dict"
   ]
  },
  {
   "cell_type": "markdown",
   "metadata": {
    "datalore": {
     "sheet_delimiter": false
    },
    "tags": [
     "DataChill"
    ]
   },
   "source": [
    "**Tình huống 11:**  Lấy ra những phần tử trong dictionary có value lớn hơn 5 và in ra với format:\n",
    "`Score of {key} is {value}`\n",
    "\n",
    "`brands = {\n",
    "    'ostar': 6, 'poca': 7, 'oishi': 5,\n",
    "    'cheestos': 4, 'crimpy': 8, 'doritos': 3,\n",
    "    'fritos': 6, 'jumbo': 7.5,'lays': 3.5}`"
   ]
  },
  {
   "cell_type": "code",
   "execution_count": null,
   "metadata": {
    "datalore": {
     "sheet_delimiter": false
    },
    "tags": [
     "DataChill"
    ]
   },
   "outputs": [],
   "source": [
    "brands = {\n",
    "    'ostar': 6, 'poca': 7, 'oishi': 5,\n",
    "    'cheestos': 4, 'crimpy': 8, 'doritos': 3,\n",
    "    'fritos': 6, 'jumbo': 7.5,'lays': 3.5\n",
    "}\n",
    "\n",
    "for key, value in brands.items():\n",
    "    if value > 5:\n",
    "        print(f'Score of {key} is {value}')"
   ]
  },
  {
   "cell_type": "markdown",
   "metadata": {
    "datalore": {
     "sheet_delimiter": false
    },
    "tags": [
     "DataChill"
    ]
   },
   "source": [
    "**Tình huống 12:**\n",
    "Với một số nguyên n cho trước, viết một chương trình tạo ra 1 dictionary bao gồm `(i, log(i))` với i là số nguyên chạy từ 1 đến n (bao gồm cả 1 và n) với n tùy người nhập. Sau đó in ra dictionary."
   ]
  },
  {
   "cell_type": "code",
   "execution_count": null,
   "metadata": {
    "datalore": {
     "sheet_delimiter": false
    },
    "tags": [
     "DataChill"
    ]
   },
   "outputs": [],
   "source": [
    "import math\n",
    "\n",
    "dic = {i: math.log(i) for i in range (1, 5)}\n",
    "dic"
   ]
  },
  {
   "cell_type": "markdown",
   "metadata": {
    "datalore": {
     "sheet_delimiter": false
    },
    "tags": [
     "DataChill"
    ]
   },
   "source": [
    "Tài liệu dành cho các bạn đã mua khoá học của DataChilly. Vui lòng không sao chép, chia sẻ dưới mọi hình thức.\n",
    "\n",
    "![image](https://img.shields.io/badge/Data-Chilly-teal?logo=python)"
   ]
  }
 ],
 "metadata": {
  "kernelspec": {
   "display_name": "Python 3",
   "language": "python",
   "name": "python3"
  },
  "language_info": {
   "codemirror_mode": {
    "name": "ipython",
    "version": 3
   },
   "file_extension": ".py",
   "mimetype": "text/x-python",
   "name": "python",
   "nbconvert_exporter": "python",
   "pygments_lexer": "ipython3",
   "version": "3.8.8"
  }
 },
 "nbformat": 4,
 "nbformat_minor": 4
}
