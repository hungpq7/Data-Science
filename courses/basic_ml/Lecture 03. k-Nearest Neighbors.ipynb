{
 "cells": [
  {
   "cell_type": "markdown",
   "metadata": {},
   "source": [
    "# 1. k-Nearest Neighbors"
   ]
  },
  {
   "cell_type": "markdown",
   "metadata": {},
   "source": [
    "## 1.1. Thuật toán\n",
    "[$k$-NN](https://scikit-learn.org/stable/modules/neighbors.html#classification) ($k$-Nearest Neighbors, tiếng Việt: $k$ láng giềng gần nhất) là một trong số các thuật toán cổ điển cơ bản của Machine Leanring. Thuật toán này sử dụng khoảng cách giữa các điểm dữ liệu trong không gian - là một khái niệm xuất hiện dày đặc trong lĩnh vực Data Science. Giải thuật kNN trong bài toán phân loại được trình bày như sau:\n",
    "\n",
    "Đầu vào:\n",
    "- $k$ - số điểm lân cận sẽ xét trong thuật toán\n",
    "- Độ đo khoảng cách, thường là Euclidean\n",
    "\n",
    "Thuật toán:\n",
    "- Với một điểm dữ liệu mới (query point) $\\mathbf{o}_q=\\begin{bmatrix}x_{1q}&x_{2q}&\\dots\\end{bmatrix}$, tìm khoảng cách từ query point đến tất cả các điểm trong tập train $\\mathbf{o}_n=\\begin{bmatrix}x_{1n}&x_{2i}&\\dots\\end{bmatrix}$\n",
    "- Sắp xếp các khoảng cách đã tìm được trong tập train theo thứ tự giảm dần\n",
    "- Lựa chọn $k$ điểm có khoảng cách gần nhất với query point, $k$ điểm này được gọi là neighbors, hay điểm lân cận.\n",
    "- Thực hiện *majority voting* (bình chọn đa số) hoặc *weighted voting* (bình chọn với trọng số là nghịch đảo khoảng cách) xem các neighbors rơi vào nhãn nào nhiều nhất, ta sẽ gán nhãn này cho query point.\n",
    "\n",
    "Có thể thấy kNN là một thuật toán rất đơn giản, thời gian training bằng 0 khi chỉ phải lưu lại dữ liệu chứ không cần tính toán và rất dễ giải thích."
   ]
  },
  {
   "cell_type": "markdown",
   "metadata": {},
   "source": [
    "## 1.2. Độ đo khoảng cách\n",
    "Độ đo khoảng cách là một thành phần quan trọng trong thuật toán kNN. Mỗi độ đo phát huy tối đa hiệu quả trong các trường hợp cụ thể. Sau đây là một số độ đo phổ biến:\n",
    "- [Manhattan distance](https://en.wikipedia.org/wiki/Taxicab_geometry): là tổng khoảng cách theo mỗi trục\n",
    "\n",
    "<img src='image/distance_manhattan.png' style='height:200px; margin: 0 auto 40px;'>\n",
    "\n",
    "- [Euclidean distance](https://en.wikipedia.org/wiki/Euclidean_distance): khoảng cách trực tiếp trong không gian\n",
    "\n",
    "<img src='image/distance_euclidean.png' style='height:200px; margin: 0 auto 40px;'>\n",
    "\n",
    "- [Cosine similarity](https://en.wikipedia.org/wiki/Cosine_similarity): cosine của góc giữa 2 vector\n",
    "\n",
    "<img src='image/distance_cosine.png' style='height:300px; margin: 0 auto 40px;'>\n",
    "\n",
    "Tuy nhiên, Euclidean distance vẫn là độ đo phổ biến nhất:\n",
    "\n",
    "$$d_i = \\sqrt{(x_{1i}-x_{1q})^2+(x_{2i}-x_{2q})^2+\\dots}$$"
   ]
  },
  {
   "cell_type": "markdown",
   "metadata": {},
   "source": [
    "## 1.3. Thực thi\n",
    "\n",
    "Trong phần này, chúng ta sẽ thực hành chạy thuật toán kNN trên tập dữ liệu hoa diên vĩ (iris). Có 3 loại hoa là Setosa, Versicolor và Virginica. Chúng ta sẽ dựa vào đặc điểm hình thái của hoa, bao gồm chiều dài, chiều rộng của cánh hoa (petal) và đài hoa (petal) để phân loại một bông hoa chưa biết vào một trong 3 loài. Các thông tin trường dữ liệu được mô tả trong hình sau:\n",
    "\n",
    "<img src='image/iris.png' style='height:300px; margin: 0 auto 40px;'>"
   ]
  },
  {
   "cell_type": "code",
   "execution_count": 1,
   "metadata": {
    "execution": {
     "iopub.execute_input": "2022-02-15T17:49:20.312888Z",
     "iopub.status.busy": "2022-02-15T17:49:20.312311Z",
     "iopub.status.idle": "2022-02-15T17:49:21.662262Z",
     "shell.execute_reply": "2022-02-15T17:49:21.661683Z",
     "shell.execute_reply.started": "2022-02-15T17:49:20.312760Z"
    }
   },
   "outputs": [],
   "source": [
    "import numpy as np\n",
    "import pandas as pd\n",
    "from sklearn.datasets import load_iris\n",
    "from sklearn.model_selection import train_test_split, GridSearchCV\n",
    "from sklearn.neighbors import KNeighborsClassifier\n",
    "from sklearn.metrics import accuracy_score, confusion_matrix, classification_report"
   ]
  },
  {
   "cell_type": "code",
   "execution_count": 2,
   "metadata": {
    "execution": {
     "iopub.execute_input": "2022-02-15T17:49:21.663727Z",
     "iopub.status.busy": "2022-02-15T17:49:21.663512Z",
     "iopub.status.idle": "2022-02-15T17:49:21.689439Z",
     "shell.execute_reply": "2022-02-15T17:49:21.688447Z",
     "shell.execute_reply.started": "2022-02-15T17:49:21.663707Z"
    }
   },
   "outputs": [
    {
     "data": {
      "text/html": [
       "<div>\n",
       "<style scoped>\n",
       "    .dataframe tbody tr th:only-of-type {\n",
       "        vertical-align: middle;\n",
       "    }\n",
       "\n",
       "    .dataframe tbody tr th {\n",
       "        vertical-align: top;\n",
       "    }\n",
       "\n",
       "    .dataframe thead th {\n",
       "        text-align: right;\n",
       "    }\n",
       "</style>\n",
       "<table border=\"1\" class=\"dataframe\">\n",
       "  <thead>\n",
       "    <tr style=\"text-align: right;\">\n",
       "      <th></th>\n",
       "      <th>sepal length (cm)</th>\n",
       "      <th>sepal width (cm)</th>\n",
       "      <th>petal length (cm)</th>\n",
       "      <th>petal width (cm)</th>\n",
       "      <th>species</th>\n",
       "    </tr>\n",
       "  </thead>\n",
       "  <tbody>\n",
       "    <tr>\n",
       "      <th>0</th>\n",
       "      <td>5.1</td>\n",
       "      <td>3.5</td>\n",
       "      <td>1.4</td>\n",
       "      <td>0.2</td>\n",
       "      <td>0</td>\n",
       "    </tr>\n",
       "    <tr>\n",
       "      <th>1</th>\n",
       "      <td>4.9</td>\n",
       "      <td>3.0</td>\n",
       "      <td>1.4</td>\n",
       "      <td>0.2</td>\n",
       "      <td>0</td>\n",
       "    </tr>\n",
       "    <tr>\n",
       "      <th>2</th>\n",
       "      <td>4.7</td>\n",
       "      <td>3.2</td>\n",
       "      <td>1.3</td>\n",
       "      <td>0.2</td>\n",
       "      <td>0</td>\n",
       "    </tr>\n",
       "    <tr>\n",
       "      <th>3</th>\n",
       "      <td>4.6</td>\n",
       "      <td>3.1</td>\n",
       "      <td>1.5</td>\n",
       "      <td>0.2</td>\n",
       "      <td>0</td>\n",
       "    </tr>\n",
       "    <tr>\n",
       "      <th>4</th>\n",
       "      <td>5.0</td>\n",
       "      <td>3.6</td>\n",
       "      <td>1.4</td>\n",
       "      <td>0.2</td>\n",
       "      <td>0</td>\n",
       "    </tr>\n",
       "  </tbody>\n",
       "</table>\n",
       "</div>"
      ],
      "text/plain": [
       "   sepal length (cm)  sepal width (cm)  petal length (cm)  petal width (cm)  \\\n",
       "0                5.1               3.5                1.4               0.2   \n",
       "1                4.9               3.0                1.4               0.2   \n",
       "2                4.7               3.2                1.3               0.2   \n",
       "3                4.6               3.1                1.5               0.2   \n",
       "4                5.0               3.6                1.4               0.2   \n",
       "\n",
       "   species  \n",
       "0        0  \n",
       "1        0  \n",
       "2        0  \n",
       "3        0  \n",
       "4        0  "
      ]
     },
     "execution_count": 2,
     "metadata": {},
     "output_type": "execute_result"
    }
   ],
   "source": [
    "iris = load_iris()\n",
    "df = pd.DataFrame(iris.data, columns=iris.feature_names)\n",
    "df = df.assign(species=iris.target)\n",
    "df.head()"
   ]
  },
  {
   "cell_type": "code",
   "execution_count": 3,
   "metadata": {
    "execution": {
     "iopub.execute_input": "2022-02-15T17:49:21.693078Z",
     "iopub.status.busy": "2022-02-15T17:49:21.692760Z",
     "iopub.status.idle": "2022-02-15T17:49:21.697597Z",
     "shell.execute_reply": "2022-02-15T17:49:21.696910Z",
     "shell.execute_reply.started": "2022-02-15T17:49:21.693051Z"
    }
   },
   "outputs": [
    {
     "data": {
      "text/plain": [
       "array(['setosa', 'versicolor', 'virginica'], dtype='<U10')"
      ]
     },
     "execution_count": 3,
     "metadata": {},
     "output_type": "execute_result"
    }
   ],
   "source": [
    "iris.target_names"
   ]
  },
  {
   "cell_type": "code",
   "execution_count": 4,
   "metadata": {
    "execution": {
     "iopub.execute_input": "2022-02-15T17:49:21.699426Z",
     "iopub.status.busy": "2022-02-15T17:49:21.699208Z",
     "iopub.status.idle": "2022-02-15T17:49:21.702762Z",
     "shell.execute_reply": "2022-02-15T17:49:21.701920Z",
     "shell.execute_reply.started": "2022-02-15T17:49:21.699404Z"
    }
   },
   "outputs": [],
   "source": [
    "X = iris.data\n",
    "y = iris.target"
   ]
  },
  {
   "cell_type": "code",
   "execution_count": 5,
   "metadata": {
    "execution": {
     "iopub.execute_input": "2022-02-15T17:49:21.703913Z",
     "iopub.status.busy": "2022-02-15T17:49:21.703707Z",
     "iopub.status.idle": "2022-02-15T17:49:21.708971Z",
     "shell.execute_reply": "2022-02-15T17:49:21.708383Z",
     "shell.execute_reply.started": "2022-02-15T17:49:21.703893Z"
    },
    "tags": []
   },
   "outputs": [],
   "source": [
    "XTrain, XTest, yTrain, yTest = train_test_split(X, y, test_size=0.2, random_state=1)\n",
    "XTrain, XValid, yTrain, yValid = train_test_split(XTrain, yTrain, test_size=0.25, random_state=1)"
   ]
  },
  {
   "cell_type": "code",
   "execution_count": 6,
   "metadata": {
    "execution": {
     "iopub.execute_input": "2022-02-15T17:49:21.710300Z",
     "iopub.status.busy": "2022-02-15T17:49:21.709987Z",
     "iopub.status.idle": "2022-02-15T17:49:21.731104Z",
     "shell.execute_reply": "2022-02-15T17:49:21.729956Z",
     "shell.execute_reply.started": "2022-02-15T17:49:21.710275Z"
    },
    "tags": []
   },
   "outputs": [
    {
     "name": "stdout",
     "output_type": "stream",
     "text": [
      "0.9666666666666667\n",
      "0.9333333333333333\n"
     ]
    }
   ],
   "source": [
    "# khoi tao thuat toan\n",
    "algo = KNeighborsClassifier(n_neighbors=5, weights='uniform', metric='euclidean')\n",
    "\n",
    "# huan luyen mo hinh\n",
    "model = algo.fit(XTrain, yTrain)\n",
    "\n",
    "# du doan tren tap train\n",
    "yTrainPred = model.predict(XTrain)\n",
    "print(accuracy_score(yTrain, yTrainPred))\n",
    "\n",
    "# du doan tren tap valid\n",
    "yValidPred = model.predict(XValid)\n",
    "print(accuracy_score(yValid, yValidPred))"
   ]
  },
  {
   "cell_type": "code",
   "execution_count": 7,
   "metadata": {
    "execution": {
     "iopub.execute_input": "2022-02-15T17:49:21.732980Z",
     "iopub.status.busy": "2022-02-15T17:49:21.732707Z",
     "iopub.status.idle": "2022-02-15T17:49:21.740595Z",
     "shell.execute_reply": "2022-02-15T17:49:21.739686Z",
     "shell.execute_reply.started": "2022-02-15T17:49:21.732956Z"
    },
    "tags": []
   },
   "outputs": [
    {
     "name": "stdout",
     "output_type": "stream",
     "text": [
      "1.0\n"
     ]
    }
   ],
   "source": [
    "# du doan tren tap test\n",
    "yTestPred = model.predict(XTest)\n",
    "print(accuracy_score(yTest, yTestPred))"
   ]
  },
  {
   "cell_type": "code",
   "execution_count": 27,
   "metadata": {
    "execution": {
     "iopub.execute_input": "2022-02-15T17:56:43.519265Z",
     "iopub.status.busy": "2022-02-15T17:56:43.519002Z",
     "iopub.status.idle": "2022-02-15T17:56:43.524435Z",
     "shell.execute_reply": "2022-02-15T17:56:43.523458Z",
     "shell.execute_reply.started": "2022-02-15T17:56:43.519242Z"
    },
    "tags": []
   },
   "outputs": [
    {
     "data": {
      "text/plain": [
       "(array([[0.47958315, 0.5       , 0.54772256, 0.55677644, 0.55677644]]),\n",
       " array([[34, 36, 10, 83, 69]]))"
      ]
     },
     "execution_count": 27,
     "metadata": {},
     "output_type": "execute_result"
    }
   ],
   "source": [
    "# hien thi 5 diem lan can\n",
    "# tham khao docs de hieu dau ra\n",
    "XQuery = np.array([[5, 4, 1.2, 0.4]])\n",
    "model.kneighbors(XQuery)"
   ]
  },
  {
   "cell_type": "code",
   "execution_count": 24,
   "metadata": {
    "execution": {
     "iopub.execute_input": "2022-02-15T17:54:10.825392Z",
     "iopub.status.busy": "2022-02-15T17:54:10.825082Z",
     "iopub.status.idle": "2022-02-15T17:54:10.831690Z",
     "shell.execute_reply": "2022-02-15T17:54:10.830793Z",
     "shell.execute_reply.started": "2022-02-15T17:54:10.825366Z"
    },
    "tags": []
   },
   "outputs": [
    {
     "data": {
      "text/plain": [
       "array([[1. , 0. , 0. ],\n",
       "       [0. , 1. , 0. ],\n",
       "       [0. , 1. , 0. ],\n",
       "       [1. , 0. , 0. ],\n",
       "       [0. , 0. , 1. ],\n",
       "       [0. , 0.8, 0.2],\n",
       "       [0. , 0. , 1. ],\n",
       "       [1. , 0. , 0. ],\n",
       "       [1. , 0. , 0. ],\n",
       "       [0. , 0. , 1. ]])"
      ]
     },
     "execution_count": 24,
     "metadata": {},
     "output_type": "execute_result"
    }
   ],
   "source": [
    "# du doan xac suat\n",
    "model.predict_proba(XTest)[0:10]"
   ]
  },
  {
   "cell_type": "markdown",
   "metadata": {},
   "source": [
    "## 1.4. Hyperparameters tuning\n",
    "Các hyperparameters của thuật toán [$k$-NN](https://scikit-learn.org/stable/modules/generated/sklearn.neighbors.KNeighborsClassifier.html):\n",
    "\n",
    "Hyperparameter|Ý nghĩa|Mặc định|Giá trị khả dĩ|\n",
    ":---|:---|:---|:---|\n",
    "`n_neighbors`|Số điểm lân cận|`5`||\n",
    "`weights`|Phương pháp voting là majority hay weighted|`uniform`|`uniform` `distance`|\n",
    "`metrics`|Độ đo khoảng cách|`euclidean`|`euclidean` `manhattan` `mahalanobis`|"
   ]
  },
  {
   "cell_type": "code",
   "execution_count": 65,
   "metadata": {
    "execution": {
     "iopub.execute_input": "2022-02-14T15:02:56.180546Z",
     "iopub.status.busy": "2022-02-14T15:02:56.180274Z",
     "iopub.status.idle": "2022-02-14T15:02:56.184274Z",
     "shell.execute_reply": "2022-02-14T15:02:56.183094Z",
     "shell.execute_reply.started": "2022-02-14T15:02:56.180524Z"
    },
    "tags": []
   },
   "outputs": [],
   "source": [
    "import numpy as np\n",
    "import pandas as pd\n",
    "from sklearn.datasets import load_iris\n",
    "from sklearn.model_selection import train_test_split, GridSearchCV, RandomizedSearchCV\n",
    "from sklearn.neighbors import KNeighborsClassifier\n",
    "from sklearn.metrics import accuracy_score, confusion_matrix, classification_report"
   ]
  },
  {
   "cell_type": "code",
   "execution_count": 38,
   "metadata": {
    "execution": {
     "iopub.execute_input": "2022-02-14T14:51:36.114535Z",
     "iopub.status.busy": "2022-02-14T14:51:36.114297Z",
     "iopub.status.idle": "2022-02-14T14:51:36.126543Z",
     "shell.execute_reply": "2022-02-14T14:51:36.125838Z",
     "shell.execute_reply.started": "2022-02-14T14:51:36.114511Z"
    }
   },
   "outputs": [
    {
     "data": {
      "text/html": [
       "<div>\n",
       "<style scoped>\n",
       "    .dataframe tbody tr th:only-of-type {\n",
       "        vertical-align: middle;\n",
       "    }\n",
       "\n",
       "    .dataframe tbody tr th {\n",
       "        vertical-align: top;\n",
       "    }\n",
       "\n",
       "    .dataframe thead th {\n",
       "        text-align: right;\n",
       "    }\n",
       "</style>\n",
       "<table border=\"1\" class=\"dataframe\">\n",
       "  <thead>\n",
       "    <tr style=\"text-align: right;\">\n",
       "      <th></th>\n",
       "      <th>sepal length (cm)</th>\n",
       "      <th>sepal width (cm)</th>\n",
       "      <th>petal length (cm)</th>\n",
       "      <th>petal width (cm)</th>\n",
       "      <th>species</th>\n",
       "    </tr>\n",
       "  </thead>\n",
       "  <tbody>\n",
       "    <tr>\n",
       "      <th>0</th>\n",
       "      <td>5.1</td>\n",
       "      <td>3.5</td>\n",
       "      <td>1.4</td>\n",
       "      <td>0.2</td>\n",
       "      <td>0</td>\n",
       "    </tr>\n",
       "    <tr>\n",
       "      <th>1</th>\n",
       "      <td>4.9</td>\n",
       "      <td>3.0</td>\n",
       "      <td>1.4</td>\n",
       "      <td>0.2</td>\n",
       "      <td>0</td>\n",
       "    </tr>\n",
       "    <tr>\n",
       "      <th>2</th>\n",
       "      <td>4.7</td>\n",
       "      <td>3.2</td>\n",
       "      <td>1.3</td>\n",
       "      <td>0.2</td>\n",
       "      <td>0</td>\n",
       "    </tr>\n",
       "    <tr>\n",
       "      <th>3</th>\n",
       "      <td>4.6</td>\n",
       "      <td>3.1</td>\n",
       "      <td>1.5</td>\n",
       "      <td>0.2</td>\n",
       "      <td>0</td>\n",
       "    </tr>\n",
       "    <tr>\n",
       "      <th>4</th>\n",
       "      <td>5.0</td>\n",
       "      <td>3.6</td>\n",
       "      <td>1.4</td>\n",
       "      <td>0.2</td>\n",
       "      <td>0</td>\n",
       "    </tr>\n",
       "  </tbody>\n",
       "</table>\n",
       "</div>"
      ],
      "text/plain": [
       "   sepal length (cm)  sepal width (cm)  petal length (cm)  petal width (cm)  \\\n",
       "0                5.1               3.5                1.4               0.2   \n",
       "1                4.9               3.0                1.4               0.2   \n",
       "2                4.7               3.2                1.3               0.2   \n",
       "3                4.6               3.1                1.5               0.2   \n",
       "4                5.0               3.6                1.4               0.2   \n",
       "\n",
       "   species  \n",
       "0        0  \n",
       "1        0  \n",
       "2        0  \n",
       "3        0  \n",
       "4        0  "
      ]
     },
     "execution_count": 38,
     "metadata": {},
     "output_type": "execute_result"
    }
   ],
   "source": [
    "iris = load_iris()\n",
    "df = pd.DataFrame(iris.data, columns=iris.feature_names)\n",
    "df = df.assign(species=iris.target)\n",
    "df.head()"
   ]
  },
  {
   "cell_type": "code",
   "execution_count": 39,
   "metadata": {
    "execution": {
     "iopub.execute_input": "2022-02-14T14:51:36.128201Z",
     "iopub.status.busy": "2022-02-14T14:51:36.127984Z",
     "iopub.status.idle": "2022-02-14T14:51:36.131125Z",
     "shell.execute_reply": "2022-02-14T14:51:36.130509Z",
     "shell.execute_reply.started": "2022-02-14T14:51:36.128179Z"
    }
   },
   "outputs": [],
   "source": [
    "X = iris.data\n",
    "y = iris.target"
   ]
  },
  {
   "cell_type": "code",
   "execution_count": 57,
   "metadata": {
    "execution": {
     "iopub.execute_input": "2022-02-14T14:57:17.870696Z",
     "iopub.status.busy": "2022-02-14T14:57:17.870224Z",
     "iopub.status.idle": "2022-02-14T14:57:17.876932Z",
     "shell.execute_reply": "2022-02-14T14:57:17.875743Z",
     "shell.execute_reply.started": "2022-02-14T14:57:17.870656Z"
    },
    "tags": []
   },
   "outputs": [],
   "source": [
    "XTrain, XTest, yTrain, yTest = train_test_split(X, y, test_size=0.3, random_state=1)"
   ]
  },
  {
   "cell_type": "markdown",
   "metadata": {},
   "source": [
    "### Grid Search"
   ]
  },
  {
   "cell_type": "code",
   "execution_count": 58,
   "metadata": {
    "execution": {
     "iopub.execute_input": "2022-02-14T14:57:18.719423Z",
     "iopub.status.busy": "2022-02-14T14:57:18.719184Z",
     "iopub.status.idle": "2022-02-14T14:57:19.410679Z",
     "shell.execute_reply": "2022-02-14T14:57:19.410036Z",
     "shell.execute_reply.started": "2022-02-14T14:57:18.719403Z"
    },
    "tags": []
   },
   "outputs": [
    {
     "data": {
      "text/plain": [
       "{'metric': 'manhattan', 'n_neighbors': 8, 'weights': 'uniform'}"
      ]
     },
     "execution_count": 58,
     "metadata": {},
     "output_type": "execute_result"
    }
   ],
   "source": [
    "params = {\n",
    "    'n_neighbors': np.arange(2, 22),\n",
    "    'weights': ['uniform', 'distance'],\n",
    "    'metric': ['manhattan', 'euclidean']\n",
    "}\n",
    "\n",
    "knn = KNeighborsClassifier()\n",
    "knn = GridSearchCV(knn, params, cv=5, scoring='accuracy')\n",
    "knn = knn.fit(XTrain, yTrain)\n",
    "\n",
    "knn.best_params_"
   ]
  },
  {
   "cell_type": "code",
   "execution_count": 60,
   "metadata": {
    "execution": {
     "iopub.execute_input": "2022-02-14T14:57:42.610446Z",
     "iopub.status.busy": "2022-02-14T14:57:42.610162Z",
     "iopub.status.idle": "2022-02-14T14:57:42.621307Z",
     "shell.execute_reply": "2022-02-14T14:57:42.620492Z",
     "shell.execute_reply.started": "2022-02-14T14:57:42.610422Z"
    },
    "tags": []
   },
   "outputs": [],
   "source": [
    "yTrainPred = knn.predict(XTrain)\n",
    "yTestPred = knn.predict(XTest)"
   ]
  },
  {
   "cell_type": "code",
   "execution_count": 62,
   "metadata": {
    "execution": {
     "iopub.execute_input": "2022-02-14T14:57:56.319018Z",
     "iopub.status.busy": "2022-02-14T14:57:56.318575Z",
     "iopub.status.idle": "2022-02-14T14:57:56.329064Z",
     "shell.execute_reply": "2022-02-14T14:57:56.328370Z",
     "shell.execute_reply.started": "2022-02-14T14:57:56.318980Z"
    },
    "tags": []
   },
   "outputs": [
    {
     "data": {
      "text/html": [
       "<div>\n",
       "<style scoped>\n",
       "    .dataframe tbody tr th:only-of-type {\n",
       "        vertical-align: middle;\n",
       "    }\n",
       "\n",
       "    .dataframe tbody tr th {\n",
       "        vertical-align: top;\n",
       "    }\n",
       "\n",
       "    .dataframe thead th {\n",
       "        text-align: right;\n",
       "    }\n",
       "</style>\n",
       "<table border=\"1\" class=\"dataframe\">\n",
       "  <thead>\n",
       "    <tr style=\"text-align: right;\">\n",
       "      <th></th>\n",
       "      <th>setosa</th>\n",
       "      <th>versicolor</th>\n",
       "      <th>virginica</th>\n",
       "    </tr>\n",
       "  </thead>\n",
       "  <tbody>\n",
       "    <tr>\n",
       "      <th>setosa</th>\n",
       "      <td>36</td>\n",
       "      <td>0</td>\n",
       "      <td>0</td>\n",
       "    </tr>\n",
       "    <tr>\n",
       "      <th>versicolor</th>\n",
       "      <td>0</td>\n",
       "      <td>30</td>\n",
       "      <td>2</td>\n",
       "    </tr>\n",
       "    <tr>\n",
       "      <th>virginica</th>\n",
       "      <td>0</td>\n",
       "      <td>1</td>\n",
       "      <td>36</td>\n",
       "    </tr>\n",
       "  </tbody>\n",
       "</table>\n",
       "</div>"
      ],
      "text/plain": [
       "            setosa  versicolor  virginica\n",
       "setosa          36           0          0\n",
       "versicolor       0          30          2\n",
       "virginica        0           1         36"
      ]
     },
     "execution_count": 62,
     "metadata": {},
     "output_type": "execute_result"
    }
   ],
   "source": [
    "matrix = confusion_matrix(yTrain, yTrainPred, labels=[0, 1, 2])\n",
    "pd.DataFrame(matrix, columns=iris.target_names, index=iris.target_names)"
   ]
  },
  {
   "cell_type": "code",
   "execution_count": 64,
   "metadata": {
    "execution": {
     "iopub.execute_input": "2022-02-14T14:58:22.151219Z",
     "iopub.status.busy": "2022-02-14T14:58:22.150924Z",
     "iopub.status.idle": "2022-02-14T14:58:22.160656Z",
     "shell.execute_reply": "2022-02-14T14:58:22.159725Z",
     "shell.execute_reply.started": "2022-02-14T14:58:22.151195Z"
    },
    "tags": []
   },
   "outputs": [
    {
     "name": "stdout",
     "output_type": "stream",
     "text": [
      "              precision    recall  f1-score   support\n",
      "\n",
      "           0       1.00      1.00      1.00        36\n",
      "           1       0.97      0.94      0.95        32\n",
      "           2       0.95      0.97      0.96        37\n",
      "\n",
      "    accuracy                           0.97       105\n",
      "   macro avg       0.97      0.97      0.97       105\n",
      "weighted avg       0.97      0.97      0.97       105\n",
      "\n"
     ]
    }
   ],
   "source": [
    "print(classification_report(yTrain, yTrainPred))"
   ]
  },
  {
   "cell_type": "code",
   "execution_count": 63,
   "metadata": {
    "execution": {
     "iopub.execute_input": "2022-02-14T14:58:21.063069Z",
     "iopub.status.busy": "2022-02-14T14:58:21.062789Z",
     "iopub.status.idle": "2022-02-14T14:58:21.073522Z",
     "shell.execute_reply": "2022-02-14T14:58:21.072657Z",
     "shell.execute_reply.started": "2022-02-14T14:58:21.063045Z"
    },
    "tags": []
   },
   "outputs": [
    {
     "name": "stdout",
     "output_type": "stream",
     "text": [
      "              precision    recall  f1-score   support\n",
      "\n",
      "           0       1.00      1.00      1.00        14\n",
      "           1       0.94      0.94      0.94        18\n",
      "           2       0.92      0.92      0.92        13\n",
      "\n",
      "    accuracy                           0.96        45\n",
      "   macro avg       0.96      0.96      0.96        45\n",
      "weighted avg       0.96      0.96      0.96        45\n",
      "\n"
     ]
    }
   ],
   "source": [
    "print(classification_report(yTest, yTestPred))"
   ]
  },
  {
   "cell_type": "markdown",
   "metadata": {},
   "source": [
    "### Randomized Search\n",
    "Bên cạnh Grid Search, một phương pháp cũng hay được dùng đó là Randomized Search, dựa trên việc lấy ngẫu nhiên các hyperparameters trong vùng được chỉ định thay vì tìm tất cả các trường hợp. Phương pháp này có các ưu điểm sau:\n",
    "- Đối với hyperparameters nhận giá trị continuous, ta chỉ cần đưa ra khoảng thay vì liệt kê các giá trị.\n",
    "- Không bị ảnh hưởng bởi các hyperparameter có ít ảnh hưởng đến hiệu năng mô hình.\n",
    "- Tiết kiệm số lần search hơn so với Grid Search.\n",
    "\n",
    "Hai phương pháp được so sánh trong hình dưới. Tuy nhiên, trong bài toán Iris này, chúng ta sẽ không so sánh kết quả của hai phương pháp do mẫu dữ liệu quá nhỏ, không đảm bảo ý nghĩa thống kê.\n",
    "\n",
    "<img src='image/grid_search_random_search.png' style='height:200px; margin: 0 auto 40px;'>"
   ]
  },
  {
   "cell_type": "code",
   "execution_count": 68,
   "metadata": {
    "execution": {
     "iopub.execute_input": "2022-02-14T15:08:07.082517Z",
     "iopub.status.busy": "2022-02-14T15:08:07.082240Z",
     "iopub.status.idle": "2022-02-14T15:08:07.291726Z",
     "shell.execute_reply": "2022-02-14T15:08:07.290974Z",
     "shell.execute_reply.started": "2022-02-14T15:08:07.082494Z"
    },
    "tags": []
   },
   "outputs": [
    {
     "data": {
      "text/plain": [
       "{'weights': 'distance', 'n_neighbors': 21, 'metric': 'manhattan'}"
      ]
     },
     "execution_count": 68,
     "metadata": {},
     "output_type": "execute_result"
    }
   ],
   "source": [
    "params = {\n",
    "    'n_neighbors': np.arange(2, 22),\n",
    "    'weights': ['uniform', 'distance'],\n",
    "    'metric': ['manhattan', 'euclidean']\n",
    "}\n",
    "\n",
    "knn = KNeighborsClassifier()\n",
    "knn = RandomizedSearchCV(knn, params, cv=5, scoring='accuracy', n_iter=20)\n",
    "knn = knn.fit(XTrain, yTrain)\n",
    "\n",
    "knn.best_params_"
   ]
  },
  {
   "cell_type": "code",
   "execution_count": 69,
   "metadata": {
    "execution": {
     "iopub.execute_input": "2022-02-14T15:08:16.714463Z",
     "iopub.status.busy": "2022-02-14T15:08:16.713984Z",
     "iopub.status.idle": "2022-02-14T15:08:16.723963Z",
     "shell.execute_reply": "2022-02-14T15:08:16.722652Z",
     "shell.execute_reply.started": "2022-02-14T15:08:16.714419Z"
    },
    "tags": []
   },
   "outputs": [],
   "source": [
    "yTrainPred = knn.predict(XTrain)\n",
    "yTestPred = knn.predict(XTest)"
   ]
  },
  {
   "cell_type": "code",
   "execution_count": 70,
   "metadata": {
    "execution": {
     "iopub.execute_input": "2022-02-14T15:08:16.726333Z",
     "iopub.status.busy": "2022-02-14T15:08:16.725924Z",
     "iopub.status.idle": "2022-02-14T15:08:16.736640Z",
     "shell.execute_reply": "2022-02-14T15:08:16.735888Z",
     "shell.execute_reply.started": "2022-02-14T15:08:16.726292Z"
    },
    "tags": []
   },
   "outputs": [
    {
     "data": {
      "text/html": [
       "<div>\n",
       "<style scoped>\n",
       "    .dataframe tbody tr th:only-of-type {\n",
       "        vertical-align: middle;\n",
       "    }\n",
       "\n",
       "    .dataframe tbody tr th {\n",
       "        vertical-align: top;\n",
       "    }\n",
       "\n",
       "    .dataframe thead th {\n",
       "        text-align: right;\n",
       "    }\n",
       "</style>\n",
       "<table border=\"1\" class=\"dataframe\">\n",
       "  <thead>\n",
       "    <tr style=\"text-align: right;\">\n",
       "      <th></th>\n",
       "      <th>setosa</th>\n",
       "      <th>versicolor</th>\n",
       "      <th>virginica</th>\n",
       "    </tr>\n",
       "  </thead>\n",
       "  <tbody>\n",
       "    <tr>\n",
       "      <th>setosa</th>\n",
       "      <td>36</td>\n",
       "      <td>0</td>\n",
       "      <td>0</td>\n",
       "    </tr>\n",
       "    <tr>\n",
       "      <th>versicolor</th>\n",
       "      <td>0</td>\n",
       "      <td>32</td>\n",
       "      <td>0</td>\n",
       "    </tr>\n",
       "    <tr>\n",
       "      <th>virginica</th>\n",
       "      <td>0</td>\n",
       "      <td>0</td>\n",
       "      <td>37</td>\n",
       "    </tr>\n",
       "  </tbody>\n",
       "</table>\n",
       "</div>"
      ],
      "text/plain": [
       "            setosa  versicolor  virginica\n",
       "setosa          36           0          0\n",
       "versicolor       0          32          0\n",
       "virginica        0           0         37"
      ]
     },
     "execution_count": 70,
     "metadata": {},
     "output_type": "execute_result"
    }
   ],
   "source": [
    "matrix = confusion_matrix(yTrain, yTrainPred, labels=[0, 1, 2])\n",
    "pd.DataFrame(matrix, columns=iris.target_names, index=iris.target_names)"
   ]
  },
  {
   "cell_type": "code",
   "execution_count": 71,
   "metadata": {
    "execution": {
     "iopub.execute_input": "2022-02-14T15:08:16.738663Z",
     "iopub.status.busy": "2022-02-14T15:08:16.738379Z",
     "iopub.status.idle": "2022-02-14T15:08:16.747511Z",
     "shell.execute_reply": "2022-02-14T15:08:16.746615Z",
     "shell.execute_reply.started": "2022-02-14T15:08:16.738632Z"
    },
    "tags": []
   },
   "outputs": [
    {
     "name": "stdout",
     "output_type": "stream",
     "text": [
      "              precision    recall  f1-score   support\n",
      "\n",
      "           0       1.00      1.00      1.00        36\n",
      "           1       1.00      1.00      1.00        32\n",
      "           2       1.00      1.00      1.00        37\n",
      "\n",
      "    accuracy                           1.00       105\n",
      "   macro avg       1.00      1.00      1.00       105\n",
      "weighted avg       1.00      1.00      1.00       105\n",
      "\n"
     ]
    }
   ],
   "source": [
    "print(classification_report(yTrain, yTrainPred))"
   ]
  },
  {
   "cell_type": "code",
   "execution_count": 72,
   "metadata": {
    "execution": {
     "iopub.execute_input": "2022-02-14T15:08:16.749963Z",
     "iopub.status.busy": "2022-02-14T15:08:16.749439Z",
     "iopub.status.idle": "2022-02-14T15:08:16.762288Z",
     "shell.execute_reply": "2022-02-14T15:08:16.761180Z",
     "shell.execute_reply.started": "2022-02-14T15:08:16.749924Z"
    },
    "tags": []
   },
   "outputs": [
    {
     "name": "stdout",
     "output_type": "stream",
     "text": [
      "              precision    recall  f1-score   support\n",
      "\n",
      "           0       1.00      1.00      1.00        14\n",
      "           1       1.00      0.94      0.97        18\n",
      "           2       0.93      1.00      0.96        13\n",
      "\n",
      "    accuracy                           0.98        45\n",
      "   macro avg       0.98      0.98      0.98        45\n",
      "weighted avg       0.98      0.98      0.98        45\n",
      "\n"
     ]
    }
   ],
   "source": [
    "print(classification_report(yTest, yTestPred))"
   ]
  },
  {
   "cell_type": "markdown",
   "metadata": {},
   "source": [
    "# 2. Các ứng dụng"
   ]
  },
  {
   "cell_type": "markdown",
   "metadata": {},
   "source": [
    "## 2.1. kNN cho bài toán regression\n",
    "Ý tưởng của kNN regression hoàn toàn giống kNN trong classification, chỉ khác là khi dự đoán điểm dữ liệu mới, ta sẽ lấy trung bình nhãn thay vì thực hiện voting. Việc tính trung bình cũng có thể sử dụng bình quân có trọng số."
   ]
  },
  {
   "cell_type": "code",
   "execution_count": 86,
   "metadata": {
    "execution": {
     "iopub.execute_input": "2022-02-14T15:32:12.221533Z",
     "iopub.status.busy": "2022-02-14T15:32:12.221159Z",
     "iopub.status.idle": "2022-02-14T15:32:12.274855Z",
     "shell.execute_reply": "2022-02-14T15:32:12.238628Z",
     "shell.execute_reply.started": "2022-02-14T15:32:12.221501Z"
    },
    "tags": []
   },
   "outputs": [],
   "source": [
    "import numpy as np\n",
    "import pandas as pd\n",
    "import matplotlib.pyplot as plt\n",
    "plt.style.use(['seaborn', 'seaborn-whitegrid'])\n",
    "%config InlineBackend.figure_format = 'retina'\n",
    "\n",
    "from sklearn.datasets import load_boston\n",
    "from sklearn.model_selection import train_test_split, GridSearchCV\n",
    "from sklearn.neighbors import KNeighborsRegressor\n",
    "from sklearn.metrics import mean_squared_error as MSE, mean_absolute_error as MAE, r2_score as R2"
   ]
  },
  {
   "cell_type": "code",
   "execution_count": 89,
   "metadata": {
    "execution": {
     "iopub.execute_input": "2022-02-14T15:33:24.417559Z",
     "iopub.status.busy": "2022-02-14T15:33:24.417162Z",
     "iopub.status.idle": "2022-02-14T15:33:24.450378Z",
     "shell.execute_reply": "2022-02-14T15:33:24.449626Z",
     "shell.execute_reply.started": "2022-02-14T15:33:24.417531Z"
    },
    "tags": []
   },
   "outputs": [
    {
     "data": {
      "text/html": [
       "<div>\n",
       "<style scoped>\n",
       "    .dataframe tbody tr th:only-of-type {\n",
       "        vertical-align: middle;\n",
       "    }\n",
       "\n",
       "    .dataframe tbody tr th {\n",
       "        vertical-align: top;\n",
       "    }\n",
       "\n",
       "    .dataframe thead th {\n",
       "        text-align: right;\n",
       "    }\n",
       "</style>\n",
       "<table border=\"1\" class=\"dataframe\">\n",
       "  <thead>\n",
       "    <tr style=\"text-align: right;\">\n",
       "      <th></th>\n",
       "      <th>crime_rate</th>\n",
       "      <th>land_rate</th>\n",
       "      <th>indus</th>\n",
       "      <th>chas</th>\n",
       "      <th>nox</th>\n",
       "      <th>room</th>\n",
       "      <th>age</th>\n",
       "      <th>distance</th>\n",
       "      <th>radial</th>\n",
       "      <th>tax</th>\n",
       "      <th>ptratio</th>\n",
       "      <th>black</th>\n",
       "      <th>lstat</th>\n",
       "      <th>price</th>\n",
       "    </tr>\n",
       "  </thead>\n",
       "  <tbody>\n",
       "    <tr>\n",
       "      <th>0</th>\n",
       "      <td>0.00632</td>\n",
       "      <td>18.0</td>\n",
       "      <td>2.31</td>\n",
       "      <td>0</td>\n",
       "      <td>0.538</td>\n",
       "      <td>6.575</td>\n",
       "      <td>65.2</td>\n",
       "      <td>4.0900</td>\n",
       "      <td>1</td>\n",
       "      <td>296</td>\n",
       "      <td>15.3</td>\n",
       "      <td>396.90</td>\n",
       "      <td>4.98</td>\n",
       "      <td>24.0</td>\n",
       "    </tr>\n",
       "    <tr>\n",
       "      <th>1</th>\n",
       "      <td>0.02731</td>\n",
       "      <td>0.0</td>\n",
       "      <td>7.07</td>\n",
       "      <td>0</td>\n",
       "      <td>0.469</td>\n",
       "      <td>6.421</td>\n",
       "      <td>78.9</td>\n",
       "      <td>4.9671</td>\n",
       "      <td>2</td>\n",
       "      <td>242</td>\n",
       "      <td>17.8</td>\n",
       "      <td>396.90</td>\n",
       "      <td>9.14</td>\n",
       "      <td>21.6</td>\n",
       "    </tr>\n",
       "    <tr>\n",
       "      <th>2</th>\n",
       "      <td>0.02729</td>\n",
       "      <td>0.0</td>\n",
       "      <td>7.07</td>\n",
       "      <td>0</td>\n",
       "      <td>0.469</td>\n",
       "      <td>7.185</td>\n",
       "      <td>61.1</td>\n",
       "      <td>4.9671</td>\n",
       "      <td>2</td>\n",
       "      <td>242</td>\n",
       "      <td>17.8</td>\n",
       "      <td>392.83</td>\n",
       "      <td>4.03</td>\n",
       "      <td>34.7</td>\n",
       "    </tr>\n",
       "    <tr>\n",
       "      <th>3</th>\n",
       "      <td>0.03237</td>\n",
       "      <td>0.0</td>\n",
       "      <td>2.18</td>\n",
       "      <td>0</td>\n",
       "      <td>0.458</td>\n",
       "      <td>6.998</td>\n",
       "      <td>45.8</td>\n",
       "      <td>6.0622</td>\n",
       "      <td>3</td>\n",
       "      <td>222</td>\n",
       "      <td>18.7</td>\n",
       "      <td>394.63</td>\n",
       "      <td>2.94</td>\n",
       "      <td>33.4</td>\n",
       "    </tr>\n",
       "    <tr>\n",
       "      <th>4</th>\n",
       "      <td>0.06905</td>\n",
       "      <td>0.0</td>\n",
       "      <td>2.18</td>\n",
       "      <td>0</td>\n",
       "      <td>0.458</td>\n",
       "      <td>7.147</td>\n",
       "      <td>54.2</td>\n",
       "      <td>6.0622</td>\n",
       "      <td>3</td>\n",
       "      <td>222</td>\n",
       "      <td>18.7</td>\n",
       "      <td>396.90</td>\n",
       "      <td>5.33</td>\n",
       "      <td>36.2</td>\n",
       "    </tr>\n",
       "    <tr>\n",
       "      <th>...</th>\n",
       "      <td>...</td>\n",
       "      <td>...</td>\n",
       "      <td>...</td>\n",
       "      <td>...</td>\n",
       "      <td>...</td>\n",
       "      <td>...</td>\n",
       "      <td>...</td>\n",
       "      <td>...</td>\n",
       "      <td>...</td>\n",
       "      <td>...</td>\n",
       "      <td>...</td>\n",
       "      <td>...</td>\n",
       "      <td>...</td>\n",
       "      <td>...</td>\n",
       "    </tr>\n",
       "    <tr>\n",
       "      <th>501</th>\n",
       "      <td>0.06263</td>\n",
       "      <td>0.0</td>\n",
       "      <td>11.93</td>\n",
       "      <td>0</td>\n",
       "      <td>0.573</td>\n",
       "      <td>6.593</td>\n",
       "      <td>69.1</td>\n",
       "      <td>2.4786</td>\n",
       "      <td>1</td>\n",
       "      <td>273</td>\n",
       "      <td>21.0</td>\n",
       "      <td>391.99</td>\n",
       "      <td>9.67</td>\n",
       "      <td>22.4</td>\n",
       "    </tr>\n",
       "    <tr>\n",
       "      <th>502</th>\n",
       "      <td>0.04527</td>\n",
       "      <td>0.0</td>\n",
       "      <td>11.93</td>\n",
       "      <td>0</td>\n",
       "      <td>0.573</td>\n",
       "      <td>6.120</td>\n",
       "      <td>76.7</td>\n",
       "      <td>2.2875</td>\n",
       "      <td>1</td>\n",
       "      <td>273</td>\n",
       "      <td>21.0</td>\n",
       "      <td>396.90</td>\n",
       "      <td>9.08</td>\n",
       "      <td>20.6</td>\n",
       "    </tr>\n",
       "    <tr>\n",
       "      <th>503</th>\n",
       "      <td>0.06076</td>\n",
       "      <td>0.0</td>\n",
       "      <td>11.93</td>\n",
       "      <td>0</td>\n",
       "      <td>0.573</td>\n",
       "      <td>6.976</td>\n",
       "      <td>91.0</td>\n",
       "      <td>2.1675</td>\n",
       "      <td>1</td>\n",
       "      <td>273</td>\n",
       "      <td>21.0</td>\n",
       "      <td>396.90</td>\n",
       "      <td>5.64</td>\n",
       "      <td>23.9</td>\n",
       "    </tr>\n",
       "    <tr>\n",
       "      <th>504</th>\n",
       "      <td>0.10959</td>\n",
       "      <td>0.0</td>\n",
       "      <td>11.93</td>\n",
       "      <td>0</td>\n",
       "      <td>0.573</td>\n",
       "      <td>6.794</td>\n",
       "      <td>89.3</td>\n",
       "      <td>2.3889</td>\n",
       "      <td>1</td>\n",
       "      <td>273</td>\n",
       "      <td>21.0</td>\n",
       "      <td>393.45</td>\n",
       "      <td>6.48</td>\n",
       "      <td>22.0</td>\n",
       "    </tr>\n",
       "    <tr>\n",
       "      <th>505</th>\n",
       "      <td>0.04741</td>\n",
       "      <td>0.0</td>\n",
       "      <td>11.93</td>\n",
       "      <td>0</td>\n",
       "      <td>0.573</td>\n",
       "      <td>6.030</td>\n",
       "      <td>80.8</td>\n",
       "      <td>2.5050</td>\n",
       "      <td>1</td>\n",
       "      <td>273</td>\n",
       "      <td>21.0</td>\n",
       "      <td>396.90</td>\n",
       "      <td>7.88</td>\n",
       "      <td>11.9</td>\n",
       "    </tr>\n",
       "  </tbody>\n",
       "</table>\n",
       "<p>506 rows × 14 columns</p>\n",
       "</div>"
      ],
      "text/plain": [
       "     crime_rate  land_rate  indus  chas    nox   room   age  distance  radial  \\\n",
       "0       0.00632       18.0   2.31     0  0.538  6.575  65.2    4.0900       1   \n",
       "1       0.02731        0.0   7.07     0  0.469  6.421  78.9    4.9671       2   \n",
       "2       0.02729        0.0   7.07     0  0.469  7.185  61.1    4.9671       2   \n",
       "3       0.03237        0.0   2.18     0  0.458  6.998  45.8    6.0622       3   \n",
       "4       0.06905        0.0   2.18     0  0.458  7.147  54.2    6.0622       3   \n",
       "..          ...        ...    ...   ...    ...    ...   ...       ...     ...   \n",
       "501     0.06263        0.0  11.93     0  0.573  6.593  69.1    2.4786       1   \n",
       "502     0.04527        0.0  11.93     0  0.573  6.120  76.7    2.2875       1   \n",
       "503     0.06076        0.0  11.93     0  0.573  6.976  91.0    2.1675       1   \n",
       "504     0.10959        0.0  11.93     0  0.573  6.794  89.3    2.3889       1   \n",
       "505     0.04741        0.0  11.93     0  0.573  6.030  80.8    2.5050       1   \n",
       "\n",
       "     tax  ptratio   black  lstat  price  \n",
       "0    296     15.3  396.90   4.98   24.0  \n",
       "1    242     17.8  396.90   9.14   21.6  \n",
       "2    242     17.8  392.83   4.03   34.7  \n",
       "3    222     18.7  394.63   2.94   33.4  \n",
       "4    222     18.7  396.90   5.33   36.2  \n",
       "..   ...      ...     ...    ...    ...  \n",
       "501  273     21.0  391.99   9.67   22.4  \n",
       "502  273     21.0  396.90   9.08   20.6  \n",
       "503  273     21.0  396.90   5.64   23.9  \n",
       "504  273     21.0  393.45   6.48   22.0  \n",
       "505  273     21.0  396.90   7.88   11.9  \n",
       "\n",
       "[506 rows x 14 columns]"
      ]
     },
     "execution_count": 89,
     "metadata": {},
     "output_type": "execute_result"
    }
   ],
   "source": [
    "df = pd.read_csv('data/boston.csv')\n",
    "df"
   ]
  },
  {
   "cell_type": "code",
   "execution_count": 90,
   "metadata": {
    "execution": {
     "iopub.execute_input": "2022-02-14T15:33:28.217847Z",
     "iopub.status.busy": "2022-02-14T15:33:28.217522Z",
     "iopub.status.idle": "2022-02-14T15:33:28.224061Z",
     "shell.execute_reply": "2022-02-14T15:33:28.223196Z",
     "shell.execute_reply.started": "2022-02-14T15:33:28.217819Z"
    },
    "tags": []
   },
   "outputs": [],
   "source": [
    "X = df.iloc[:, :-1]\n",
    "y = df.iloc[:, -1]\n",
    "\n",
    "XTrain, XTest, yTrain, yTest = train_test_split(X, y, test_size=0.2, random_state=7)"
   ]
  },
  {
   "cell_type": "code",
   "execution_count": 92,
   "metadata": {
    "execution": {
     "iopub.execute_input": "2022-02-14T15:33:41.407633Z",
     "iopub.status.busy": "2022-02-14T15:33:41.407263Z",
     "iopub.status.idle": "2022-02-14T15:33:41.412578Z",
     "shell.execute_reply": "2022-02-14T15:33:41.411772Z",
     "shell.execute_reply.started": "2022-02-14T15:33:41.407601Z"
    },
    "tags": []
   },
   "outputs": [
    {
     "data": {
      "text/plain": [
       "(404,)"
      ]
     },
     "execution_count": 92,
     "metadata": {},
     "output_type": "execute_result"
    }
   ],
   "source": [
    "yTrain.shape"
   ]
  },
  {
   "cell_type": "code",
   "execution_count": 93,
   "metadata": {
    "execution": {
     "iopub.execute_input": "2022-02-14T15:33:51.307672Z",
     "iopub.status.busy": "2022-02-14T15:33:51.307247Z",
     "iopub.status.idle": "2022-02-14T15:33:52.191257Z",
     "shell.execute_reply": "2022-02-14T15:33:52.190514Z",
     "shell.execute_reply.started": "2022-02-14T15:33:51.307638Z"
    },
    "tags": []
   },
   "outputs": [
    {
     "data": {
      "text/plain": [
       "{'metric': 'manhattan', 'n_neighbors': 6, 'weights': 'distance'}"
      ]
     },
     "execution_count": 93,
     "metadata": {},
     "output_type": "execute_result"
    }
   ],
   "source": [
    "params = {\n",
    "    'n_neighbors': np.arange(2, 22, 2),\n",
    "    'weights': ['uniform', 'distance'],\n",
    "    'metric': ['manhattan', 'euclidean']\n",
    "}\n",
    "\n",
    "knn = KNeighborsRegressor()\n",
    "knn = GridSearchCV(knn, params, cv=5)\n",
    "knn = knn.fit(XTrain, yTrain)\n",
    "\n",
    "knn.best_params_"
   ]
  },
  {
   "cell_type": "code",
   "execution_count": 94,
   "metadata": {
    "execution": {
     "iopub.execute_input": "2022-02-14T15:34:00.294728Z",
     "iopub.status.busy": "2022-02-14T15:34:00.294381Z",
     "iopub.status.idle": "2022-02-14T15:34:00.338111Z",
     "shell.execute_reply": "2022-02-14T15:34:00.323116Z",
     "shell.execute_reply.started": "2022-02-14T15:34:00.294697Z"
    },
    "tags": []
   },
   "outputs": [],
   "source": [
    "yTrainPred = knn.predict(XTrain)\n",
    "yTestPred = knn.predict(XTest)"
   ]
  },
  {
   "cell_type": "code",
   "execution_count": 96,
   "metadata": {
    "execution": {
     "iopub.execute_input": "2022-02-14T15:34:04.820898Z",
     "iopub.status.busy": "2022-02-14T15:34:04.820584Z",
     "iopub.status.idle": "2022-02-14T15:34:04.826050Z",
     "shell.execute_reply": "2022-02-14T15:34:04.825210Z",
     "shell.execute_reply.started": "2022-02-14T15:34:04.820867Z"
    },
    "tags": []
   },
   "outputs": [
    {
     "name": "stdout",
     "output_type": "stream",
     "text": [
      "1.0\n",
      "0.6420258072603173\n"
     ]
    }
   ],
   "source": [
    "print(R2(yTrain, yTrainPred))\n",
    "print(R2(yTest, yTestPred))"
   ]
  },
  {
   "cell_type": "markdown",
   "metadata": {},
   "source": [
    "## 2.2. Điền dữ liệu bị thiếu\n",
    "kNN cũng có thể dùng để điền dữ liệu thiếu bằng cách rất *bản năng* đó là lấy trung bình của $k$ giá trị gần nhất."
   ]
  },
  {
   "cell_type": "code",
   "execution_count": 97,
   "metadata": {
    "execution": {
     "iopub.execute_input": "2022-02-14T15:37:26.367311Z",
     "iopub.status.busy": "2022-02-14T15:37:26.366655Z",
     "iopub.status.idle": "2022-02-14T15:37:26.392633Z",
     "shell.execute_reply": "2022-02-14T15:37:26.391746Z",
     "shell.execute_reply.started": "2022-02-14T15:37:26.367206Z"
    },
    "tags": []
   },
   "outputs": [],
   "source": [
    "import numpy as np\n",
    "import pandas as pd\n",
    "import matplotlib.pyplot as plt\n",
    "plt.style.use(['seaborn', 'seaborn-whitegrid'])\n",
    "%config InlineBackend.figure_format = 'retina'\n",
    "\n",
    "from sklearn.impute import KNNImputer"
   ]
  },
  {
   "cell_type": "code",
   "execution_count": 110,
   "metadata": {
    "execution": {
     "iopub.execute_input": "2022-02-14T15:44:10.545043Z",
     "iopub.status.busy": "2022-02-14T15:44:10.544782Z",
     "iopub.status.idle": "2022-02-14T15:44:10.568368Z",
     "shell.execute_reply": "2022-02-14T15:44:10.567308Z",
     "shell.execute_reply.started": "2022-02-14T15:44:10.545021Z"
    },
    "tags": []
   },
   "outputs": [
    {
     "data": {
      "text/html": [
       "<div>\n",
       "<style scoped>\n",
       "    .dataframe tbody tr th:only-of-type {\n",
       "        vertical-align: middle;\n",
       "    }\n",
       "\n",
       "    .dataframe tbody tr th {\n",
       "        vertical-align: top;\n",
       "    }\n",
       "\n",
       "    .dataframe thead th {\n",
       "        text-align: right;\n",
       "    }\n",
       "</style>\n",
       "<table border=\"1\" class=\"dataframe\">\n",
       "  <thead>\n",
       "    <tr style=\"text-align: right;\">\n",
       "      <th></th>\n",
       "      <th>bad_customer</th>\n",
       "      <th>credit_balance_percent</th>\n",
       "      <th>age</th>\n",
       "      <th>num_of_group1_pastdue</th>\n",
       "      <th>debt_ratio</th>\n",
       "      <th>income</th>\n",
       "      <th>num_of_loans</th>\n",
       "      <th>num_of_times_late_90days</th>\n",
       "      <th>num_of_estate_loans</th>\n",
       "      <th>num_of_group2_pastdue</th>\n",
       "      <th>num_of_dependents</th>\n",
       "    </tr>\n",
       "  </thead>\n",
       "  <tbody>\n",
       "    <tr>\n",
       "      <th>6</th>\n",
       "      <td>0</td>\n",
       "      <td>0.305682</td>\n",
       "      <td>57</td>\n",
       "      <td>0</td>\n",
       "      <td>5710.0</td>\n",
       "      <td>NaN</td>\n",
       "      <td>8</td>\n",
       "      <td>0</td>\n",
       "      <td>3</td>\n",
       "      <td>0</td>\n",
       "      <td>0.0</td>\n",
       "    </tr>\n",
       "    <tr>\n",
       "      <th>8</th>\n",
       "      <td>0</td>\n",
       "      <td>0.116951</td>\n",
       "      <td>27</td>\n",
       "      <td>0</td>\n",
       "      <td>46.0</td>\n",
       "      <td>NaN</td>\n",
       "      <td>2</td>\n",
       "      <td>0</td>\n",
       "      <td>0</td>\n",
       "      <td>0</td>\n",
       "      <td>NaN</td>\n",
       "    </tr>\n",
       "    <tr>\n",
       "      <th>16</th>\n",
       "      <td>0</td>\n",
       "      <td>0.061086</td>\n",
       "      <td>78</td>\n",
       "      <td>0</td>\n",
       "      <td>2058.0</td>\n",
       "      <td>NaN</td>\n",
       "      <td>10</td>\n",
       "      <td>0</td>\n",
       "      <td>2</td>\n",
       "      <td>0</td>\n",
       "      <td>0.0</td>\n",
       "    </tr>\n",
       "    <tr>\n",
       "      <th>32</th>\n",
       "      <td>0</td>\n",
       "      <td>0.083418</td>\n",
       "      <td>62</td>\n",
       "      <td>0</td>\n",
       "      <td>977.0</td>\n",
       "      <td>NaN</td>\n",
       "      <td>6</td>\n",
       "      <td>0</td>\n",
       "      <td>1</td>\n",
       "      <td>0</td>\n",
       "      <td>0.0</td>\n",
       "    </tr>\n",
       "    <tr>\n",
       "      <th>41</th>\n",
       "      <td>0</td>\n",
       "      <td>0.072898</td>\n",
       "      <td>81</td>\n",
       "      <td>0</td>\n",
       "      <td>75.0</td>\n",
       "      <td>NaN</td>\n",
       "      <td>7</td>\n",
       "      <td>0</td>\n",
       "      <td>0</td>\n",
       "      <td>0</td>\n",
       "      <td>0.0</td>\n",
       "    </tr>\n",
       "  </tbody>\n",
       "</table>\n",
       "</div>"
      ],
      "text/plain": [
       "    bad_customer  credit_balance_percent  age  num_of_group1_pastdue  \\\n",
       "6              0                0.305682   57                      0   \n",
       "8              0                0.116951   27                      0   \n",
       "16             0                0.061086   78                      0   \n",
       "32             0                0.083418   62                      0   \n",
       "41             0                0.072898   81                      0   \n",
       "\n",
       "    debt_ratio  income  num_of_loans  num_of_times_late_90days  \\\n",
       "6       5710.0     NaN             8                         0   \n",
       "8         46.0     NaN             2                         0   \n",
       "16      2058.0     NaN            10                         0   \n",
       "32       977.0     NaN             6                         0   \n",
       "41        75.0     NaN             7                         0   \n",
       "\n",
       "    num_of_estate_loans  num_of_group2_pastdue  num_of_dependents  \n",
       "6                     3                      0                0.0  \n",
       "8                     0                      0                NaN  \n",
       "16                    2                      0                0.0  \n",
       "32                    1                      0                0.0  \n",
       "41                    0                      0                0.0  "
      ]
     },
     "execution_count": 110,
     "metadata": {},
     "output_type": "execute_result"
    }
   ],
   "source": [
    "dfCredit = pd.read_csv('data/credit_scoring.csv', nrows=2000)\n",
    "dfCredit[dfCredit.income.isna()].head()"
   ]
  },
  {
   "cell_type": "code",
   "execution_count": 109,
   "metadata": {
    "execution": {
     "iopub.execute_input": "2022-02-14T15:43:52.503449Z",
     "iopub.status.busy": "2022-02-14T15:43:52.503135Z",
     "iopub.status.idle": "2022-02-14T15:43:52.579990Z",
     "shell.execute_reply": "2022-02-14T15:43:52.579096Z",
     "shell.execute_reply.started": "2022-02-14T15:43:52.503404Z"
    },
    "tags": []
   },
   "outputs": [
    {
     "data": {
      "text/html": [
       "<div>\n",
       "<style scoped>\n",
       "    .dataframe tbody tr th:only-of-type {\n",
       "        vertical-align: middle;\n",
       "    }\n",
       "\n",
       "    .dataframe tbody tr th {\n",
       "        vertical-align: top;\n",
       "    }\n",
       "\n",
       "    .dataframe thead th {\n",
       "        text-align: right;\n",
       "    }\n",
       "</style>\n",
       "<table border=\"1\" class=\"dataframe\">\n",
       "  <thead>\n",
       "    <tr style=\"text-align: right;\">\n",
       "      <th></th>\n",
       "      <th>bad_customer</th>\n",
       "      <th>credit_balance_percent</th>\n",
       "      <th>age</th>\n",
       "      <th>num_of_group1_pastdue</th>\n",
       "      <th>debt_ratio</th>\n",
       "      <th>income</th>\n",
       "      <th>num_of_loans</th>\n",
       "      <th>num_of_times_late_90days</th>\n",
       "      <th>num_of_estate_loans</th>\n",
       "      <th>num_of_group2_pastdue</th>\n",
       "      <th>num_of_dependents</th>\n",
       "    </tr>\n",
       "  </thead>\n",
       "  <tbody>\n",
       "    <tr>\n",
       "      <th>6</th>\n",
       "      <td>0.0</td>\n",
       "      <td>0.305682</td>\n",
       "      <td>57.0</td>\n",
       "      <td>0.0</td>\n",
       "      <td>5710.0</td>\n",
       "      <td>0.0</td>\n",
       "      <td>8.0</td>\n",
       "      <td>0.0</td>\n",
       "      <td>3.0</td>\n",
       "      <td>0.0</td>\n",
       "      <td>0.0</td>\n",
       "    </tr>\n",
       "    <tr>\n",
       "      <th>8</th>\n",
       "      <td>0.0</td>\n",
       "      <td>0.116951</td>\n",
       "      <td>27.0</td>\n",
       "      <td>0.0</td>\n",
       "      <td>46.0</td>\n",
       "      <td>50.4</td>\n",
       "      <td>2.0</td>\n",
       "      <td>0.0</td>\n",
       "      <td>0.0</td>\n",
       "      <td>0.0</td>\n",
       "      <td>0.0</td>\n",
       "    </tr>\n",
       "    <tr>\n",
       "      <th>16</th>\n",
       "      <td>0.0</td>\n",
       "      <td>0.061086</td>\n",
       "      <td>78.0</td>\n",
       "      <td>0.0</td>\n",
       "      <td>2058.0</td>\n",
       "      <td>0.6</td>\n",
       "      <td>10.0</td>\n",
       "      <td>0.0</td>\n",
       "      <td>2.0</td>\n",
       "      <td>0.0</td>\n",
       "      <td>0.0</td>\n",
       "    </tr>\n",
       "    <tr>\n",
       "      <th>32</th>\n",
       "      <td>0.0</td>\n",
       "      <td>0.083418</td>\n",
       "      <td>62.0</td>\n",
       "      <td>0.0</td>\n",
       "      <td>977.0</td>\n",
       "      <td>0.4</td>\n",
       "      <td>6.0</td>\n",
       "      <td>0.0</td>\n",
       "      <td>1.0</td>\n",
       "      <td>0.0</td>\n",
       "      <td>0.0</td>\n",
       "    </tr>\n",
       "    <tr>\n",
       "      <th>41</th>\n",
       "      <td>0.0</td>\n",
       "      <td>0.072898</td>\n",
       "      <td>81.0</td>\n",
       "      <td>0.0</td>\n",
       "      <td>75.0</td>\n",
       "      <td>4.6</td>\n",
       "      <td>7.0</td>\n",
       "      <td>0.0</td>\n",
       "      <td>0.0</td>\n",
       "      <td>0.0</td>\n",
       "      <td>0.0</td>\n",
       "    </tr>\n",
       "  </tbody>\n",
       "</table>\n",
       "</div>"
      ],
      "text/plain": [
       "    bad_customer  credit_balance_percent   age  num_of_group1_pastdue  \\\n",
       "6            0.0                0.305682  57.0                    0.0   \n",
       "8            0.0                0.116951  27.0                    0.0   \n",
       "16           0.0                0.061086  78.0                    0.0   \n",
       "32           0.0                0.083418  62.0                    0.0   \n",
       "41           0.0                0.072898  81.0                    0.0   \n",
       "\n",
       "    debt_ratio  income  num_of_loans  num_of_times_late_90days  \\\n",
       "6       5710.0     0.0           8.0                       0.0   \n",
       "8         46.0    50.4           2.0                       0.0   \n",
       "16      2058.0     0.6          10.0                       0.0   \n",
       "32       977.0     0.4           6.0                       0.0   \n",
       "41        75.0     4.6           7.0                       0.0   \n",
       "\n",
       "    num_of_estate_loans  num_of_group2_pastdue  num_of_dependents  \n",
       "6                   3.0                    0.0                0.0  \n",
       "8                   0.0                    0.0                0.0  \n",
       "16                  2.0                    0.0                0.0  \n",
       "32                  1.0                    0.0                0.0  \n",
       "41                  0.0                    0.0                0.0  "
      ]
     },
     "execution_count": 109,
     "metadata": {},
     "output_type": "execute_result"
    }
   ],
   "source": [
    "imputer = KNNImputer()\n",
    "dfImputed = pd.DataFrame(imputer.fit_transform(dfCredit), columns=dfCredit.columns)\n",
    "dfImputed[dfCredit.income.isna()].head()"
   ]
  }
 ],
 "metadata": {
  "kernelspec": {
   "display_name": "Python 3",
   "language": "python",
   "name": "python3"
  },
  "language_info": {
   "codemirror_mode": {
    "name": "ipython",
    "version": 3
   },
   "file_extension": ".py",
   "mimetype": "text/x-python",
   "name": "python",
   "nbconvert_exporter": "python",
   "pygments_lexer": "ipython3",
   "version": "3.8.8"
  },
  "toc-autonumbering": false,
  "toc-showcode": false
 },
 "nbformat": 4,
 "nbformat_minor": 4
}
