{
 "cells": [
  {
   "cell_type": "markdown",
   "metadata": {},
   "source": [
    "# 1. Giới thiệu\n",
    "[Machine Learning](https://en.wikipedia.org/wiki/Machine_learning) là lĩnh vực nghiên cứu các thuật toán có thể *dạy* cho máy tính cách tự động *học* để tìm ra quy luật của dữ liệu. Đích đến cuối cùng của Machine Learning là tìm ra một [mô hình toán học](https://en.wikipedia.org/wiki/Mathematical_model) dựa trên dữ liệu đã biết để đưa ra dự đoán hoặc phân tích các mối quan hệ của dữ liệu. Trong phân tích dữ liệu, Machine Learning có 2 nhóm thuật toán chính:\n",
    "- *supervised*, thường được ứng dụng để dự đoán tương lai\n",
    "- *unsupervised*, thường dùng để tìm ra các quy luật ẩn bên trong dữ liệu"
   ]
  },
  {
   "cell_type": "markdown",
   "metadata": {},
   "source": [
    "### Supervised Machine Learning\n",
    "Supervised ML (học có giám sát) là các thuật toán *học* từ dữ liệu được gán nhãn để dự đoán dữ liệu mới, chưa gán nhãn. Sau khi cho thuật toán *học* ta sẽ thu được một *mô hình* hay có thể hiểu là một hàm số $f$ ánh xạ từ một tổ hợp các biến đầu vào $\\mathbf{X}$ ra nhãn $\\mathbf{y}$.\n",
    "\n",
    "$$f:\\mathbf{X}\\mapsto\\mathbf{y}$$\n",
    "\n",
    "VD: trong bài toán chấm điểm tín dụng, feature đầu vào là các đặc điểm của khách hàng như độ tuổi, giới tính, thu nhập,..., nhãn đầu ra là trạng thái có phải khách hàng tốt hay không.\n",
    "\n",
    "feature1|feature2|feature3|feature4|label\n",
    ":-:|:-:|:-:|:-:|:-:|\n",
    "21|0.82|A|0|0\n",
    "12|0.14|A|1|1\n",
    "19|0.27|B|0|0\n",
    "9|0.35|B|1|1\n",
    "14|0.21|C|0|0\n",
    "16|0.43|A|0|?\n",
    "20|0.27|B|1|?\n",
    "\n",
    "Hiện nay, hầu hết các thành tựu nổi trội của Machine Learning là các nghiên cứu về học có giám sát. Có 3 bài toán chính bao gồm:\n",
    "- *classification* (phân lớp)\n",
    "- *regression* (hồi quy)\n",
    "- *recommendation* (khuyến nghị)"
   ]
  },
  {
   "cell_type": "markdown",
   "metadata": {},
   "source": [
    "### Unsupervised Machine Learning\n",
    "Khác với supervised, nhóm thuật toán unsupervised không đòi hỏi dữ liệu phải có nhãn, chúng sẽ tự động tìm ra quy luật của dữ liệu. Việc không yêu cầu nhãn là ưu điểm nhưng cũng là nhược điểm, vì sẽ khó đánh giá chất lượng của mô hình. Các thuật toán supervised có 2 bài toán chính sau:\n",
    "- *clustering* (phân cụm)\n",
    "- *dimensionality reduction* (giảm chiều dữ liệu)"
   ]
  },
  {
   "cell_type": "markdown",
   "metadata": {},
   "source": [
    "# 2. Các thuật ngữ\n",
    "Một số khái niệm quan trọng trong supervised ML."
   ]
  },
  {
   "cell_type": "markdown",
   "metadata": {},
   "source": [
    "## 2.1. Training\n",
    "Training (huấn luyện) là quá trình sử dụng thuật toán như một chỉ dẫn để *dạy* cho máy *học*. Tập dữ liệu dùng để chạy thuật toán gọi là tập train."
   ]
  },
  {
   "cell_type": "markdown",
   "metadata": {},
   "source": [
    "### Model\n",
    "Model là đầu ra của một thuật toán ML sau khi đã học trên dữ liệu. VD: thuật toán Linear Regression sau khi train sẽ thu được một mô hình có dạng:\n",
    "\n",
    "$$y=w_0+w_1 x_1+w_2 x_2+\\dots$$\n",
    "\n",
    "Các trọng số $w_1,w_2,\\dots$ được gọi là tham số của mô hình và được tính ra hoặc ước lượng thông qua Calculus (Giải tích). Một mô hình sau khi huấn luyện xong có thể lưu lại thành file và dùng để dự đoán cho dữ liệu mới bằng cách truyền vào các giá trị của biến đầu vào.\n",
    "\n",
    "Trong thực tế, 2 khái niệm *model* và *algorithm* đôi khi được hiểu là từ đồng nghĩa."
   ]
  },
  {
   "cell_type": "markdown",
   "metadata": {},
   "source": [
    "### Loss function\n",
    "Một số thuật toán ML sử dụng một loss/cost function (hàm mất mát) hoặc reward function để tính toán tham số sao cho giá trị loss nhỏ nhất hoặc reward lớn nhất. Trên thực tế hàm loss phổ biến hơn hàm reward, thường đo đạc độ sai số giữa giá trị dự đoán và giá trị thực tế. Một cách tổng quát, nếu hàm loss trả về giá trị lớn sẽ phản ánh trạng thái mô hình đang chưa tốt, các tham số cần điều chỉnh sao cho giá trị này giảm đi nhỏ nhất có thể."
   ]
  },
  {
   "cell_type": "markdown",
   "metadata": {},
   "source": [
    "### Gradient descent\n",
    "Theo lý thuyết, việc tìm giá trị của tham số mô hình sao cho loss function đạt *global minimum* (giá trị nhỏ nhất) có thể thực hiện bằng việc tính nghiệm của *derivative* (đạo hàm). Tuy nhiên trong thực tế, hình dạng của đạo hàm thường khá phức tạp và số lượng biến quá nhiều khiến cho việc giải đạo hàm bằng 0 là bất khả thi. Khi này, ta sẽ hướng đến việc *ước lượng* giá trị *local minimum* (điểm cực tiểu).\n",
    "\n",
    "Trước hết, để làm quen với Multivariate Calculus (Giải tích đa biến), ta sử dụng *gradient* - khái niệm tương đương với *derivative* trong Calculus thông thường. *Gradient* của một phương trình đa biến $f(x_1,x_2,x_3,\\dots)$, ký hiệu là $\\nabla{f}$, được định nghĩa là một vector chứa tất cả các *partial derivative* (đạo hàm từng phần).\n",
    "\n",
    "$$\\nabla{f} =\n",
    "\\begin{bmatrix}\n",
    "\\frac{\\partial{f}}{\\partial{x_1}} &\n",
    "\\frac{\\partial{f}}{\\partial{x_2}} &\n",
    "\\frac{\\partial{f}}{\\partial{x_3}} &\n",
    "\\cdots &\n",
    "\\end{bmatrix}^T$$\n",
    "\n",
    "*Gradient Descent* là một thuật toán được tạo ra để ước lượng sấp sỉ giá trị $(x_1,x_2,x_3,\\dots)$ là *local minimum* của hàm $f$. Nhắc lại về ý nghĩa của *derivative*, đó là phản ánh độ dốc của hàm số tại một điểm: âm là dốc xuống, dương là dốc lên. Ngoài ra nếu điểm dữ liệu nằm càng xa cực tiểu, độ dốc càng lớn hay giá trị tuyệt đối của đạo hàm càng lớn. Vì vậy muốn điểm dữ liệu di chuyển về phía cực tiểu, phải thiết kế thuật toán sao cho độ dốc giảm dần cho đến khi tiệm cận 0, nghĩa là điểm dữ liệu gần chạm cực tiểu. Mấu chốt của thuật toán Gradient Descent là di chuyển ngược hướng đạo hàm, khi đó điểm dữ liệu khởi tạo *trượt dần* về phía cực tiểu giống như một quả bóng lăn xuống dốc."
   ]
  },
  {
   "cell_type": "markdown",
   "metadata": {},
   "source": [
    "## 2.2. Validation\n",
    "Validation là quá trình cho mô hình dự đoán trên tập valid, là một tập dữ liệu đã biết nhãn và độc lập với tập train. Việc dự đoán trên tập valid được thực hiện nhiều lần, mỗi lần với một thuật toán hoặc các hyperparameters (siêu tham số) khác nhau nhằm tìm ra thuật toán và bộ siêu tham số tốt nhất. Do tính chất gắn liền với việc tìm siêu tham số nên quá trình này còn được gọi là hyperparameters tuning."
   ]
  },
  {
   "cell_type": "markdown",
   "metadata": {},
   "source": [
    "### Hyperparameters\n",
    "Một hyperparameter (siêu tham số) là một giá trị cài đặt cho thuật toán, bắt buộc phải có trước khi sử dụng thuật toán đó để dạy máy học. Chẳng hạn trong thuật toán k-Nearest Neighbors (xét $k$ điểm dữ liệu lân cận để tiến hành dự đoán), $k$ được coi là 1 hyperparameter. Các hyperparameter được tối ưu thông qua thực nghiệm, thử sai. Một số phương pháp cụ thể: grid search, random search, Bayesian optimization."
   ]
  },
  {
   "cell_type": "markdown",
   "metadata": {},
   "source": [
    "### Metric\n",
    "Metric là một công thức đo đạc chất lượng của mô hình ML. Mỗi bài toán classfication, regression, clustering, recommendation đều có một vài metric đánh giá riêng. Trong bước validating, ta sẽ sử dụng một metric để tìm ra bộ hyperparameters tốt nhất."
   ]
  },
  {
   "cell_type": "markdown",
   "metadata": {},
   "source": [
    "### Hold-out validation\n",
    "Kỹ thuật hold-out validation được thực hiện như sau:\n",
    "- B1: Chia tập dữ liệu có nhãn thành 3 tập: train, validation và test. Tỉ lệ thường là 70:15:15 hoặc 80:10:10. Chọn metric đánh giá phù hợp cho bài toán.\n",
    "- B2: Lựa chọn 1 thuật toán và 1 bộ hyperparameters rồi fit (học) trên tập train. \n",
    "- B3: Sử dụng model thu được dự đoán cho tập validation và đo hiệu quả bằng metric đã chọn ở B1.\n",
    "- B4: Lặp lại B2 và B3 đến khi nào thu được metric có giá trị tốt nhất. Bộ hyperparameters tương ứng sẽ được coi là tối ưu.\n",
    "- B5: Sử dụng mô hình tốt nhất dự đoán trên tập test và đo đạc metric. Chú ý tập train và validation được dùng nhiều lần nhưng tập test chỉ được dùng 1 lần duy nhất ở bước này. Ý tưởng của tập test là *giả sử không biết nhãn* thì kết quả thu được thế nào - do vậy metric thu được trên tập test đảm bảo tính khách quan."
   ]
  },
  {
   "cell_type": "markdown",
   "metadata": {},
   "source": [
    "### Cross validation\n",
    "Là một kỹ thuật validation bên cạnh kỹ thuật hold-out đã giới thiệu ở trên. Nhược điểm của phương pháp hold out là nếu tập train và valid không có cùng phân phối, hay việc chia tập không đủ tính ngẫu nhiên thì quá trình validation sẽ không khách quan. Tuy nhiên nhược điểm của cross validation là phải thực hiện training nhiều lần hơn, vì vậy không phù hợp khi áp dụng cho dữ liệu lớn. Trong thực tế, nếu việc chia tập đảm bảo tính ngẫu nhiên thì sử dụng hold-out là đủ.\n",
    "- B1: Chia dữ liệu làm 2 tập: train và test, tỉ lệ cho tập test là khoảng 15-20%. Chọn metric đánh giá phù hợp với bài toán.\n",
    "- B2: Chọn 1 thuật toán và 1 bộ hyperparameters. Chia tập train làm $k$ fold như hình minh hoạ. Thực hiện vòng lặp $k$ bước ứng với $k$ fold, mỗi vòng lặp gồm các bước:\n",
    "    - Sử dụng fold hiện tại làm tập validation và ghép $k-1$ fold còn lại làm *tập train*\n",
    "    - Fit thuật toán đã chọn lên *tập train*\n",
    "    - Dự đoán trên tập valid và đo đạc metric\n",
    "    - Xoá model để giải phóng bộ nhớ\n",
    "- B3: Sau B2 ta thu được $k$ giá trị của metric ứng với $k$ fold. Tính trung bình của chúng làm hiệu năng chung trên *tập valid* cho thuật toán đã khởi tạo ở đầu B2. Ngoài ra, variance $k$ giá trị hiệu năng không nên lớn vì sẽ làm giảm độ tin cậy.\n",
    "- B4: Lặp lại B2 và B3 với các thuật toán và bộ hyperparameters khác nhau cho đến khi thu được hiệu năng tốt nhất. \n",
    "- B5: Chạy lại thuật toán với bộ hyperparameters đã tìm được ở B4 lên toàn bộ tập train (gồm tất cả $k$ fold) để thu được model cuối cùng.\n",
    "- B6: Sử dụng model ở B5 dự đoán cho tập test và đo đạc hiệu năng.\n",
    "\n",
    "<img src='image/cross_validation.png' style='height:300px; margin: 0 auto 20px;'>"
   ]
  },
  {
   "cell_type": "markdown",
   "metadata": {},
   "source": [
    "## 2.3. Testing\n",
    "Testing là quá trình dự đoán trên một tập dữ liệu có nhãn để đánh giá hiệu năng thực sự của mô hình khi chạy thực tế. Tập dữ liệu này gọi là tập test, tuy nhiên ta sẽ giả định việc dự đoán cho tập test là triển khai thực tế, do đó hoàn toàn không biết nhãn của tập này. Khác với tập train và valid có thể dùng để huấn luyện và dự đoán nhiều lần, tập test chỉ được sử dụng 1 lần duy nhất sau khi quá trình hyperparameter tuning đã hoàn thành.\n",
    "\n",
    "Quá trình testing sẽ giúp trả lời câu hỏi: *\"Nếu được triển khai, mô hình này sẽ có kết quả như thế nào?\"*. Trong thực tế, tập test và tập validation hay bị nhầm với nhau, điều này dẫn đến hệ quả là quá trình xây dựng mô hình cho ra kết quả tốt nhưng triển khai không được tốt như kỳ vọng."
   ]
  },
  {
   "cell_type": "markdown",
   "metadata": {},
   "source": [
    "### Goodness of fit\n",
    "Tính khái quát hoá của một mô hình thể hiện ở việc nó có thể dự đoán tốt khi gặp dữ liệu mới mà mô hình chưa từng được học. Tính khái quát hoá có thể xác định bằng việc đo đạc hiệu năng trên tập valid. Một mô hình thiếu độ chính xác có thể có 2 lý do: *overfit* và *underfit*.\n",
    "\n",
    "<img src='image/goodness_of_fit.png' style='height:300px; margin: 0 auto 20px;'>\n",
    "\n",
    "*Overfitting* là tình trạng khi hiệu năng của mô hình rất tốt trên tập train nhưng giảm đột ngột ở tập valid. Hiện tượng này đến từ việc mô hình đang quá *máy móc* đến mức học cả các yếu tố ngẫu nhiên và nhiễu ở tập train mà bỏ qua quy luật chung của dữ liệu. Hiển nhiên các yếu tố nhiễu sẽ không xuất hiện trên dữ liệu mới, lý giải khả năng dự đoán rất tệ trên tập valid. Một số kỹ thuật giúp giảm overfitting là: *regularization*, *complexity reduction* và *early stopping*.\n",
    "\n",
    "*Underfitting* có thể nhận ra khi hiệu năng ngay trên tập train đã rất kém, hệ quả hiển nhiên là hiệu năng trên tập valid cũng không tốt. Lý do là vì thuật toán quá đơn giản, không đủ độ phức tạp để bắt được quy luật của dữ liệu. Cách duy nhất để tránh underfitting là tăng độ phức tạp."
   ]
  },
  {
   "cell_type": "markdown",
   "metadata": {},
   "source": [
    "# 3. Đánh giá mô hình\n",
    "Ở phần này, chúng ta sẽ tìm hiểu các phương pháp đánh giá cho 2 bài toán phổ biến nhất trong kinh doanh có áp dụng Machine Learning: classification và regression. Chú ý rằng ML chỉ tác động đến chất lượng dự đoán chứ không làm thay đổi format đầu ra của hai bài toán này. Do vậy việc tìm hiểu cách hoạt động và bản chất của các công thức đánh giá không yêu cầu phải biết ML.\n",
    "\n",
    "*Tham khảo: [Scikit-Learn - Metrics](https://scikit-learn.org/stable/modules/classes.html#sklearn-metrics-metrics)*"
   ]
  },
  {
   "cell_type": "markdown",
   "metadata": {},
   "source": [
    "## 3.1. Classification\n",
    "Classification là bài toán dự đoán nhãn rời rạc, có 2 dạng là *binary classfication* (số class dự đoán = 2) và *multiclass classification* (số class dự đoán > 2). Để cho đơn giản, chúng ta sẽ tìm hiểu các công thức đánh giá bài toán binary trước, sau đó mở rộng ra bài toán multiclass. Đầu ra quan trọng nhất của một bài toán binary classification là xác suất dự đoán khả năng rơi vào một nhãn là bao nhiêu. Sau đó mới đưa ra quyết định phân loại bản ghi đó vào lớp 0 hay 1 dựa vào một *threshold*, thường là 0.5."
   ]
  },
  {
   "cell_type": "code",
   "execution_count": 1,
   "metadata": {
    "execution": {
     "iopub.execute_input": "2022-02-24T17:02:17.156421Z",
     "iopub.status.busy": "2022-02-24T17:02:17.155836Z",
     "iopub.status.idle": "2022-02-24T17:02:18.679645Z",
     "shell.execute_reply": "2022-02-24T17:02:18.678830Z",
     "shell.execute_reply.started": "2022-02-24T17:02:17.156316Z"
    },
    "tags": []
   },
   "outputs": [],
   "source": [
    "import numpy as np\n",
    "import pandas as pd\n",
    "from sklearn.metrics import RocCurveDisplay, ConfusionMatrixDisplay\n",
    "from sklearn.metrics import accuracy_score, fbeta_score, precision_score, recall_score, roc_auc_score\n",
    "\n",
    "import matplotlib.pyplot as plt\n",
    "import seaborn as sns\n",
    "plt.style.use(['seaborn', 'seaborn-whitegrid'])\n",
    "%config InlineBackend.figure_format = 'retina'"
   ]
  },
  {
   "cell_type": "code",
   "execution_count": 2,
   "metadata": {
    "execution": {
     "iopub.execute_input": "2022-02-24T17:02:18.681225Z",
     "iopub.status.busy": "2022-02-24T17:02:18.681001Z",
     "iopub.status.idle": "2022-02-24T17:02:18.687536Z",
     "shell.execute_reply": "2022-02-24T17:02:18.686777Z",
     "shell.execute_reply.started": "2022-02-24T17:02:18.681203Z"
    },
    "tags": []
   },
   "outputs": [],
   "source": [
    "np.random.seed(7)\n",
    "thres = 0.5\n",
    "\n",
    "yTrue = [0]*320 + [1]*80 + [0]*100 + [1]*500\n",
    "yProb = np.concatenate([\n",
    "    np.random.uniform(low=0, high=0.15, size=400),\n",
    "    np.random.uniform(low=0.85, high=1, size=600)\n",
    "])\n",
    "yPred = yProb.copy()\n",
    "yPred[yPred >= thres] = 1\n",
    "yPred[yPred < thres] = 0"
   ]
  },
  {
   "cell_type": "markdown",
   "metadata": {},
   "source": [
    "### Confusion matrix\n",
    "Như đã biết, một bài toán binary classificatin sẽ có 2 class dự đoán, quy ước gọi là positive ($y=1$) và negative ($y=0$). Các bài toán ứng dụng binary classification trong thực tế thường coi một trong 2 lớp quan trọng hơn lớp còn lại (postive), ví dụ: test COVID và fraud detection. Kết quả dự đoán của một mô hình binary classification được trình bày bằng một confusion matrix như hình dưới, thể hiện số bản ghi dự đoán rơi vào 1 trong 4 trường hợp: TP (True Positive), TN (True Negative), FP (False Positive) và FN (False Negative).\n",
    "\n",
    "Từ góc nhìn của postive class (chẳng hạn việc 1 bệnh nhân dương tính với COVID), trạng thái của một bản ghi được miêu tả như sau:\n",
    "- Là Positive nếu người đó được dự đoán là nhãn 1, là Negative nếu được dự đoán là nhãn 0\n",
    "- Là True nếu dự đoán đúng, là False nếu dự đoán sai\n",
    "\n",
    "<img src='image/confusion_matrix_binary.png' style='height:300px; margin: 0 auto 20px;'>\n",
    "\n",
    "Đối với bài toán multiclass classification, thuật ngữ Positive/Negative, True/False không còn được sử dụng. Confusion matrix của bài toán này như sau:\n",
    "\n",
    "<img src='image/confusion_matrix.png' style='height:300px; margin: 0 auto;'>"
   ]
  },
  {
   "cell_type": "code",
   "execution_count": 13,
   "metadata": {},
   "outputs": [
    {
     "data": {
      "image/png": "[encoded data removed]",
      "text/plain": [
       "<Figure size 576x396 with 2 Axes>"
      ]
     },
     "metadata": {
      "image/png": {
       "height": 347,
       "width": 400
      }
     },
     "output_type": "display_data"
    }
   ],
   "source": [
    "_ = ConfusionMatrixDisplay.from_predictions(yTrue, yPred)"
   ]
  },
  {
   "cell_type": "markdown",
   "metadata": {},
   "source": [
    "### Accuracy\n",
    "Accuracy coi tất cả các lớp bình đẳng với nhau, được tính bằng tỉ lệ giữa số bản ghi dự đoán đúng và tổng số bản ghi. Đây cũng là metric mặc định trong `sklearn`.\n",
    "\n",
    "$$\\mathrm{Accuracy} = \\frac{\\mathrm{T}}{\\mathrm{T}+\\mathrm{F}}$$\n",
    "\n",
    "Accuary có thể được dùng khi các lớp cân bằng, bình đẳng với nhau. Tuy nhiên khi có hiện tượng *imbalanced* - phần lớn bản ghi rơi vào một class hoặc khi ý nghĩa của từng class xét trên khía cạnh nghiệp vụ khác nhau thì ta không nên dùng Accuracy. Chẳng hạn, có 5 trong tổng số 100 người được kiểm tra nhiễm COVID. Ta chỉ cần dự đoán tất cả đều âm tính đã thu được Accuracy = 95%. Trong trường hợp này, một mô hình không thể sử dụng được nhưng lại có Accuray rất ấn tượng."
   ]
  },
  {
   "cell_type": "code",
   "execution_count": 14,
   "metadata": {},
   "outputs": [
    {
     "data": {
      "text/plain": [
       "0.82"
      ]
     },
     "execution_count": 14,
     "metadata": {},
     "output_type": "execute_result"
    }
   ],
   "source": [
    "accuracy_score(yTrue, yPred)"
   ]
  },
  {
   "cell_type": "markdown",
   "metadata": {},
   "source": [
    "### Precision\n",
    "Precision có cách tính gần giống như Accuracy, nhưng ta chỉ xét các bản ghi được dự đoán là Positive. Được tính bằng tỉ lệ giữa số bản ghi được dự đoán đúng là bằng 1 (TP) trên tổng số dự đoán bằng 1 (P = TP + FP).\n",
    "\n",
    "$$\\mathrm{Precision} = \\frac{\\mathrm{TP}}{\\mathrm{TP}+\\mathrm{FP}}$$\n",
    "\n",
    "Precision nên được dùng khi muốn tập trung hoàn toàn vào positive class. Ví dụ, phần gợi ý video tiếp theo của Youtube hiển thị 12 video ngay khi người dùng mới truy cập. Con số 12 này chính là các video được dự đoán là Positive (người dùng thích). Số video chúng ta thật sự thích trong 12 video gợi ý ra màn hình chính là giá trị TP. Như vậy trường hợp này cần có Precision càng cao càng tốt.\n",
    "\n",
    "Tổng quát hơn, Precision nên dùng khi ta muốn FP thấp nhất có thể. Ta có thể dễ dàng chứng minh được rằng Precision là hàm nghịch biến của FP."
   ]
  },
  {
   "cell_type": "code",
   "execution_count": 15,
   "metadata": {},
   "outputs": [
    {
     "data": {
      "text/plain": [
       "0.8333333333333334"
      ]
     },
     "execution_count": 15,
     "metadata": {},
     "output_type": "execute_result"
    }
   ],
   "source": [
    "precision_score(yTrue, yPred, pos_label=1)"
   ]
  },
  {
   "cell_type": "markdown",
   "metadata": {},
   "source": [
    "### Recall\n",
    "Recall, hay Sensitivity là tỉ lệ số bản ghi được dự đoán đúng là bằng 1 (TP) với tổng số bản ghi thực sự bằng 1 (TP + FN). Cả 2 công thức tính Precision và Recall được thiết kế cho bài toán binary classification trước. Trường hợp mở rộng cho multiclass sẽ được đề cập sau.\n",
    "\n",
    "$$\\mathrm{Recall} = \\frac{\\mathrm{TP}}{\\mathrm{TP}+\\mathrm{FN}}$$\n",
    "\n",
    "Ta cũng có thể dễ dàng chứng minh Recall là hàm nghịch biến của FN. Do đó Recall nên được sử dụng khi không muốn bỏ qua bất cứ trường hợp thực sự Positive nào. Ví dụ: một bộ thử COVID cần nhận diện được hết các trường hợp dương tính, vì vậy Recall sẽ là một chỉ số đo đạc phù hợp."
   ]
  },
  {
   "cell_type": "code",
   "execution_count": 16,
   "metadata": {},
   "outputs": [
    {
     "data": {
      "text/plain": [
       "0.8620689655172413"
      ]
     },
     "execution_count": 16,
     "metadata": {},
     "output_type": "execute_result"
    }
   ],
   "source": [
    "recall_score(yTrue, yPred, pos_label=1)"
   ]
  },
  {
   "cell_type": "markdown",
   "metadata": {},
   "source": [
    "### F-score\n",
    "Machine Learning luôn luôn tồn tại các sự đánh đổi, mà Precision và Recall là một ví dụ điển hình. Trong thực tế, một mô hình thường không thể đạt đạt cả Precision và Recall đều cao, và cũng hiếm khi một trong hai chỉ số này là đủ toàn diện để đánh giá mô hình. Chúng ta sẽ làm quen với F1 score, một chỉ số tổng hợp cả Precision và Recall, tính bằng harmonic mean (trung bình điều hoà):\n",
    "\n",
    "$$\n",
    "F_1 = \\left(\\frac{1}{2}\\cdot\\mathrm{Precision}^{-1}+\\frac{1}{2}\\cdot\\mathrm{Recall}^{-1}\\right)^{-1}\n",
    "$$\n",
    "\n",
    "Sở dĩ sử dụng harmonic mean thay vì arithmetic mean (trung bình cộng) hay geometric mean (trung bình nhân) vì harmonic mean phạt rất nặng nếu một trong 2 giá trị quá thấp so với giá trị còn lại. VD: một mô hình có Precision = 10% và Recall = 90%. Thử tính các loại trung bình khác nhau ta thu được:\n",
    "- arithmetic mean = 50%\n",
    "- geometric mean = 30%\n",
    "- harmonic mean = 18%\n",
    "\n",
    "Như vậy nếu F1 cao sẽ chứng tỏ Precision và Recall không chỉ cao mà còn *cách nhau không quá xa*.\n",
    "\n",
    "Điểm yếu của F1 score là công thức này coi Precision và Recall bình đẳng với nhau. Tuỳ thuộc và việc cần giảm FP hay FN nhiều hơn, ta sẽ cần đưa những *domain knowledge* dạng như vậy vào trong công thức. Để làm được điều này, một trọng số $\\beta$ sẽ được gán cho Recall. $\\beta$ sẽ thể hiện Recall có ảnh hưởng gấp bao nhiêu lần so với Precision. Việc gán trọng số được đưa vào công thức như sau:\n",
    "\n",
    "$$\n",
    "F_{\\beta} = \\left(\\frac{1}{1+\\beta^2}\\cdot\\mathrm{Precision}^{-1} + \\frac{\\beta^2}{1+\\beta^2}\\cdot\\mathrm{Recall}^{-1}\\right)^{-1}\n",
    "$$"
   ]
  },
  {
   "cell_type": "code",
   "execution_count": 17,
   "metadata": {},
   "outputs": [
    {
     "data": {
      "text/plain": [
       "0.8603238866396761"
      ]
     },
     "execution_count": 17,
     "metadata": {},
     "output_type": "execute_result"
    }
   ],
   "source": [
    "fbeta_score(yTrue, yPred, beta=4, pos_label=1)"
   ]
  },
  {
   "cell_type": "markdown",
   "metadata": {},
   "source": [
    "### ROC\n",
    "ROC (Receiver Operating Characteristics) là một đường cấu tạo bởi các cặp giá trị TPR (True Positive Rate) và FPR (False Positive Rate) tại các ngưỡng quyết định khác nhau. ROC cung cấp một góc nhìn tổng quát về khả năng phân biệt 2 lớp của một mô hình binary classification.\n",
    "\n",
    "$$\\mathrm{TPR}=\\mathrm{Recall}=\\mathrm{Sensitivity} = \n",
    "\\frac{\\mathrm{TP}}{\\mathrm{TP}+\\mathrm{FN}}$$\n",
    "\n",
    "\n",
    "$$\\mathrm{FPR}=1-\\mathrm{Specificity} = \n",
    "\\frac{\\mathrm{FP}}{\\mathrm{TN}+\\mathrm{FP}}$$\n",
    "\n",
    "Trên thực tế, ta luôn luôn phải đánh đổi giữa Sensitivity và Specificity: nếu giá trị này cao thì phải chấp nhận giảm giá trị còn lại xuống. Ngoài ra ROC còn cung cấp một số thông tin quan trọng khác của mô hình:\n",
    "- So sánh các mô hình khác nhau. Đường ROC càng cong lên thì càng có khả năng dự đoán tốt.\n",
    "- Tính toán AUC, là chỉ số rất quan trọng đánh giá hiệu năng model."
   ]
  },
  {
   "cell_type": "code",
   "execution_count": 3,
   "metadata": {
    "execution": {
     "iopub.execute_input": "2022-02-24T17:02:38.804748Z",
     "iopub.status.busy": "2022-02-24T17:02:38.804471Z",
     "iopub.status.idle": "2022-02-24T17:02:38.984052Z",
     "shell.execute_reply": "2022-02-24T17:02:38.983455Z",
     "shell.execute_reply.started": "2022-02-24T17:02:38.804723Z"
    },
    "tags": []
   },
   "outputs": [
    {
     "data": {
      "image/png": "[encoded data removed]",
      "text/plain": [
       "<Figure size 360x360 with 1 Axes>"
      ]
     },
     "metadata": {
      "image/png": {
       "height": 316,
       "width": 328
      }
     },
     "output_type": "display_data"
    }
   ],
   "source": [
    "fig, ax = plt.subplots(figsize=(5,5))\n",
    "ax.axis('equal')\n",
    "_ = RocCurveDisplay.from_predictions(yTrue, yProb, pos_label=1, ax=ax)"
   ]
  },
  {
   "cell_type": "code",
   "execution_count": 4,
   "metadata": {
    "execution": {
     "iopub.execute_input": "2022-02-24T17:02:48.514255Z",
     "iopub.status.busy": "2022-02-24T17:02:48.513962Z",
     "iopub.status.idle": "2022-02-24T17:02:48.522511Z",
     "shell.execute_reply": "2022-02-24T17:02:48.521532Z",
     "shell.execute_reply.started": "2022-02-24T17:02:48.514229Z"
    },
    "tags": []
   },
   "outputs": [
    {
     "data": {
      "text/plain": [
       "0.8080706075533661"
      ]
     },
     "execution_count": 4,
     "metadata": {},
     "output_type": "execute_result"
    }
   ],
   "source": [
    "roc_auc_score(yTrue, yProb)"
   ]
  },
  {
   "cell_type": "markdown",
   "metadata": {},
   "source": [
    "### Multi-class metrics\n",
    "Ngoại trừ Accuracy, các metric trên được định nghĩa cho bài toán binary classification. Để mở rộng ra tính toán cho bài toán multiclass, ta sẽ dùng chiến lược OVR (one-versus-rest) tính chỉ số cho từng class rồi tổng hợp kết quả. Sau đây là một số cách tổng hợp Precision cho bài toán multiclass classification, việc mở rộng các chỉ số khác được áp dụng tương tự.\n",
    "\n",
    "- Micro Precision: lần lượt coi mỗi class là positive class, tính trung bình TP và FPcho mỗi class, sau đó áp dụng lại công thức của bài toán binary.\n",
    "\n",
    "$$\\mathrm{MicroPrecision}=\\frac{\\sum{\\mathrm{TP}_i}}{\\sum{\\mathrm{TP}_i}+\\sum{\\mathrm{FP}_i}}$$\n",
    "\n",
    "- Macro Precision: cũng lần lượt coi mỗi class là positive class, ta tính Precision cho từng class trước rồi tính trung bình tất cả các per-class Precision ($n$ là số class của nhãn).\n",
    "\n",
    "$$\\mathrm{MacroPrecision}=\\frac{1}{n}\\sum{\\mathrm{Precision}_i}$$\n",
    "\n",
    "- Weighted Precision: tính trung bình có trọng số của tất cả per-class Precision, với $w_i$ là tỉ lệ số bản ghi rơi vào từng class.\n",
    "\n",
    "$$\\mathrm{WeightedPrecision}=\\sum{w_i\\cdot\\mathrm{Precision}_i}$$\n",
    "\n",
    "."
   ]
  },
  {
   "cell_type": "markdown",
   "metadata": {},
   "source": [
    "## 3.2. Regression metrics\n",
    "Bài toán regression khác so với bài classification ở điểm: nhãn là biến liên tục thay vì là biến rời rạc. Ký hiệu $\\mathbf{y}=(y_1,y_2,\\dots)$ là giá trị thực tế của nhãn và $\\hat{\\mathbf{y}}=(\\hat{y}_1,\\hat{y}_2,\\dots)$ giá trị dự đoán."
   ]
  },
  {
   "cell_type": "code",
   "execution_count": 2,
   "metadata": {
    "execution": {
     "iopub.execute_input": "2022-02-15T17:24:45.653435Z",
     "iopub.status.busy": "2022-02-15T17:24:45.653184Z",
     "iopub.status.idle": "2022-02-15T17:24:47.485841Z",
     "shell.execute_reply": "2022-02-15T17:24:47.485264Z",
     "shell.execute_reply.started": "2022-02-15T17:24:45.653414Z"
    },
    "tags": []
   },
   "outputs": [],
   "source": [
    "import numpy as np\n",
    "import pandas as pd\n",
    "from sklearn.metrics import r2_score, mean_absolute_error, mean_squared_error\n",
    "\n",
    "import matplotlib.pyplot as plt\n",
    "import seaborn as sns\n",
    "plt.style.use(['seaborn', 'seaborn-whitegrid'])\n",
    "%config InlineBackend.figure_format = 'retina'"
   ]
  },
  {
   "cell_type": "code",
   "execution_count": 52,
   "metadata": {
    "execution": {
     "iopub.execute_input": "2022-02-15T17:45:23.492467Z",
     "iopub.status.busy": "2022-02-15T17:45:23.492158Z",
     "iopub.status.idle": "2022-02-15T17:45:23.639138Z",
     "shell.execute_reply": "2022-02-15T17:45:23.638598Z",
     "shell.execute_reply.started": "2022-02-15T17:45:23.492439Z"
    },
    "tags": []
   },
   "outputs": [
    {
     "data": {
      "image/png": "[encoded data removed]",
      "text/plain": [
       "<Figure size 576x396 with 1 Axes>"
      ]
     },
     "metadata": {
      "image/png": {
       "height": 329,
       "width": 478
      }
     },
     "output_type": "display_data"
    }
   ],
   "source": [
    "np.random.seed(5)\n",
    "n = 100\n",
    "x = np.linspace(-3,10,n)\n",
    "y = x*2 + 7\n",
    "yTrue = y + np.random.rand(n)*4\n",
    "\n",
    "fig, ax = plt.subplots()\n",
    "ax.plot(x, yTrue, '.', label='Ground truth')\n",
    "ax.legend()\n",
    "plt.show()"
   ]
  },
  {
   "cell_type": "code",
   "execution_count": 55,
   "metadata": {
    "execution": {
     "iopub.execute_input": "2022-02-15T17:45:37.880864Z",
     "iopub.status.busy": "2022-02-15T17:45:37.880629Z",
     "iopub.status.idle": "2022-02-15T17:45:37.884030Z",
     "shell.execute_reply": "2022-02-15T17:45:37.883369Z",
     "shell.execute_reply.started": "2022-02-15T17:45:37.880843Z"
    },
    "tags": []
   },
   "outputs": [],
   "source": [
    "yPred = x*2 + 7\n",
    "yMean = np.array([yTrue.mean()] * n)\n",
    "yRand = np.random.uniform(0, 25, n)"
   ]
  },
  {
   "cell_type": "markdown",
   "metadata": {},
   "source": [
    "### Coefficient of Determination\n",
    "Coefficient of Determination, ký hiệu $R^2$ $(R^2 \\leq 1)$, đo đạc độ phân tán của dữ liệu xung quanh so với giá trị dự đoán.\n",
    "\n",
    "$$R^2\n",
    "=1-\\dfrac{\\mbox{SSE}}{\\mbox{SST}}\n",
    "=1-\\dfrac{\\sum(y_i-\\hat{y}_i)^2}{\\sum(y_i-\\bar{y})^2}$$\n",
    "\n",
    "Dễ thấy nếu chia cả tử và mẫu cho số bản ghi, phân số trong công thức tính $R^2$ chính là tỉ lệ giữa bình phương sai số bình quân và phương sai. Nếu phân số này nhỏ ($R^2$ gần bằng 1) nghĩa là giá trị dự đoán cách không quá xa so với giá trị thực tế, hay mô hình dự đoán tốt.\n",
    "\n",
    "Một cách hiểu khác về $R^2$ là coi việc sử dụng giá trị trung bình để dự đoán $\\mathbf{y}$ là một *baseline model* đơn giản. Khi đó phân số trên có tử là sai số của *ML model*, mẫu là sai số của *baseline model*. Nếu $R^2<0$ thì *ML model* thậm chí dự đoán kém hơn cả việc sử dụng giá trị trung bình."
   ]
  },
  {
   "cell_type": "code",
   "execution_count": 56,
   "metadata": {
    "execution": {
     "iopub.execute_input": "2022-02-15T17:45:40.458689Z",
     "iopub.status.busy": "2022-02-15T17:45:40.458418Z",
     "iopub.status.idle": "2022-02-15T17:45:40.463226Z",
     "shell.execute_reply": "2022-02-15T17:45:40.462457Z",
     "shell.execute_reply.started": "2022-02-15T17:45:40.458666Z"
    },
    "tags": []
   },
   "outputs": [
    {
     "data": {
      "text/plain": [
       "0.9106167464690134"
      ]
     },
     "execution_count": 56,
     "metadata": {},
     "output_type": "execute_result"
    }
   ],
   "source": [
    "r2_score(yTrue, yPred)"
   ]
  },
  {
   "cell_type": "code",
   "execution_count": 57,
   "metadata": {
    "execution": {
     "iopub.execute_input": "2022-02-15T17:45:42.507890Z",
     "iopub.status.busy": "2022-02-15T17:45:42.507615Z",
     "iopub.status.idle": "2022-02-15T17:45:42.512923Z",
     "shell.execute_reply": "2022-02-15T17:45:42.512101Z",
     "shell.execute_reply.started": "2022-02-15T17:45:42.507866Z"
    },
    "tags": []
   },
   "outputs": [
    {
     "data": {
      "text/plain": [
       "0.0"
      ]
     },
     "execution_count": 57,
     "metadata": {},
     "output_type": "execute_result"
    }
   ],
   "source": [
    "r2_score(yTrue, yMean)"
   ]
  },
  {
   "cell_type": "code",
   "execution_count": 58,
   "metadata": {
    "execution": {
     "iopub.execute_input": "2022-02-15T17:45:43.350521Z",
     "iopub.status.busy": "2022-02-15T17:45:43.350131Z",
     "iopub.status.idle": "2022-02-15T17:45:43.356601Z",
     "shell.execute_reply": "2022-02-15T17:45:43.355763Z",
     "shell.execute_reply.started": "2022-02-15T17:45:43.350487Z"
    },
    "tags": []
   },
   "outputs": [
    {
     "data": {
      "text/plain": [
       "-1.1864086334138784"
      ]
     },
     "execution_count": 58,
     "metadata": {},
     "output_type": "execute_result"
    }
   ],
   "source": [
    "r2_score(yTrue, yRand)"
   ]
  },
  {
   "cell_type": "markdown",
   "metadata": {},
   "source": [
    "### Mean Absolute Error\n",
    "MAE là trung bình khoảng cách giữa giá trị thực tế và giá trị dự đoán. Giá trị tuyệt đối được sử dụng trong công thức này để các giá trị âm/dương không khử lẫn nhau. MAE không rơi vào một khoảng giá trị cố định, vì vậy không có một ngưỡng cụ thể nào để kết luận rằng MAE bằng bao nhiêu là đủ tốt. MAE thường được sử dụng để so sánh giữa các model khác nhau nhằm tìm ra model tốt nhất.\n",
    "\n",
    "$${\\mbox{MAE}}={\\frac{1}{n}}\\sum|y_i-\\hat{y}_i|$$"
   ]
  },
  {
   "cell_type": "code",
   "execution_count": 59,
   "metadata": {
    "execution": {
     "iopub.execute_input": "2022-02-15T17:46:09.494602Z",
     "iopub.status.busy": "2022-02-15T17:46:09.494343Z",
     "iopub.status.idle": "2022-02-15T17:46:09.498923Z",
     "shell.execute_reply": "2022-02-15T17:46:09.498291Z",
     "shell.execute_reply.started": "2022-02-15T17:46:09.494579Z"
    },
    "tags": []
   },
   "outputs": [
    {
     "data": {
      "text/plain": [
       "1.9684409595388368"
      ]
     },
     "execution_count": 59,
     "metadata": {},
     "output_type": "execute_result"
    }
   ],
   "source": [
    "mean_absolute_error(yTrue, yPred)"
   ]
  },
  {
   "cell_type": "markdown",
   "metadata": {},
   "source": [
    "### Mean Squared Error\n",
    "Bên cạnh MAE, MSE là một công thức khác có mục đích sử dụng tương tự, nhưng phổ biến hơn MAE vì MSE có khả năng phạt nặng hơn các sai số lớn. Đôi khi RMSE cũng được sử dụng để đưa MSE về cùng đơn vị với MAE.\n",
    "\n",
    "$$\\mbox{MSE} = \\mbox{RMSE}^2 = {\\frac{1}{n}} \\sum(y_i-\\hat{y}_i)^{2}$$"
   ]
  },
  {
   "cell_type": "code",
   "execution_count": 63,
   "metadata": {
    "execution": {
     "iopub.execute_input": "2022-02-15T17:46:39.778019Z",
     "iopub.status.busy": "2022-02-15T17:46:39.777616Z",
     "iopub.status.idle": "2022-02-15T17:46:39.783560Z",
     "shell.execute_reply": "2022-02-15T17:46:39.782419Z",
     "shell.execute_reply.started": "2022-02-15T17:46:39.777983Z"
    },
    "tags": []
   },
   "outputs": [
    {
     "data": {
      "text/plain": [
       "5.340730579022286"
      ]
     },
     "execution_count": 63,
     "metadata": {},
     "output_type": "execute_result"
    }
   ],
   "source": [
    "mean_squared_error(yTrue, yPred)"
   ]
  },
  {
   "cell_type": "code",
   "execution_count": 62,
   "metadata": {
    "execution": {
     "iopub.execute_input": "2022-02-15T17:46:35.116465Z",
     "iopub.status.busy": "2022-02-15T17:46:35.116076Z",
     "iopub.status.idle": "2022-02-15T17:46:35.122972Z",
     "shell.execute_reply": "2022-02-15T17:46:35.121877Z",
     "shell.execute_reply.started": "2022-02-15T17:46:35.116430Z"
    },
    "tags": []
   },
   "outputs": [
    {
     "data": {
      "text/plain": [
       "2.3110020724833387"
      ]
     },
     "execution_count": 62,
     "metadata": {},
     "output_type": "execute_result"
    }
   ],
   "source": [
    "mean_squared_error(yTrue, yPred, squared=False)"
   ]
  }
 ],
 "metadata": {
  "kernelspec": {
   "display_name": "Python 3",
   "language": "python",
   "name": "python3"
  },
  "language_info": {
   "codemirror_mode": {
    "name": "ipython",
    "version": 3
   },
   "file_extension": ".py",
   "mimetype": "text/x-python",
   "name": "python",
   "nbconvert_exporter": "python",
   "pygments_lexer": "ipython3",
   "version": "3.8.8"
  },
  "toc-autonumbering": false,
  "toc-showcode": false,
  "toc-showmarkdowntxt": false,
  "toc-showtags": false
 },
 "nbformat": 4,
 "nbformat_minor": 4
}
