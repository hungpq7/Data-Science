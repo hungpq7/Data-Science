{
 "cells": [
  {
   "cell_type": "markdown",
   "id": "50d095d2-5bfd-4994-92cf-90c305c35dab",
   "metadata": {
    "tags": []
   },
   "source": [
    "# Overview\n",
    "The famous ARIMA model is basically a Linear Regression model on a time series' own lags. So what if we replace the simple Linear Regression with a state-of-the-art tabular learning algorithm? This (known under the term *reduction*) is one example of useful features in [Sktime]. In this topic, we are going to use this library to implement a lot of forecasting tasks such as reduction, forecasting, backtesting and evaluation, in an unified way.\n",
    "\n",
    "[Sktime]: https://www.sktime.org/en/stable/index.html"
   ]
  },
  {
   "cell_type": "markdown",
   "id": "e6f066a2-c35c-47dd-b5b5-b621d514acaf",
   "metadata": {},
   "source": [
    "# 1. Forecasting interface"
   ]
  },
  {
   "cell_type": "markdown",
   "id": "528dbc52-8deb-4554-9aa8-70d3732fa97f",
   "metadata": {},
   "source": [
    "## 1.1. Forecasting reduction\n",
    "In order to reduce a forecasting problem to a regression problem, we need to re-arrange the time series into a table so that itself ($\\mathbf{y}_t$) becomes the label and its lags ($\\mathbf{y}_{t-1},\\mathbf{y}_{t-2},\\dots$) become the features. There are three approaches to make prediction to multiple future time steps: recursive reduction, direct reduction and a hybrid between them, implemented in a single function,\n",
    "<code style='font-size:13px'><a href='https://www.sktime.org/en/stable/api_reference/auto_generated/sktime.forecasting.compose.make_reduction.html'>make_reduction()</a></code>."
   ]
  },
  {
   "cell_type": "code",
   "execution_count": null,
   "id": "77c33258-730e-42c3-886c-a368f5d3e9ad",
   "metadata": {
    "tags": []
   },
   "outputs": [],
   "source": [
    "import numpy as np\n",
    "import pandas as pd\n",
    "import janitor\n",
    "import sktime\n",
    "from sktime.forecasting.compose import make_reduction\n",
    "from sktime.utils.plotting import plot_series\n",
    "from xgboost import XGBRegressor\n",
    "from lightgbm import LGBMRegressor\n",
    "from catboost import CatBoostRegressor\n",
    "from sklearn.tree import DecisionTreeRegressor\n",
    "import warnings; warnings.filterwarnings('ignore')\n",
    "\n",
    "import matplotlib.pyplot as plt\n",
    "import seaborn as sns\n",
    "plt.style.use(['seaborn', 'seaborn-whitegrid'])\n",
    "%config InlineBackend.figure_format = 'retina'"
   ]
  },
  {
   "cell_type": "code",
   "execution_count": null,
   "id": "d00afef5-b9a5-4b56-8220-406650111a44",
   "metadata": {
    "tags": []
   },
   "outputs": [],
   "source": [
    "dfTemp = pd.read_csv('data/air_quality.csv')\n",
    "dfTemp = (\n",
    "    dfTemp\n",
    "    .to_datetime('time')\n",
    "    .select_columns(['time', 'temp'])\n",
    "    .also(lambda df: display(df.tail()))\n",
    "    .set_index('time')\n",
    "    .asfreq('h')\n",
    "    # .to_period('h')\n",
    ")"
   ]
  },
  {
   "cell_type": "markdown",
   "id": "9907ca47-0c7b-492b-9396-0fabc5bc1b14",
   "metadata": {},
   "source": [
    "### Recursive strategy\n",
    "This is the strategy used in traditional models such as ARIMA and ETS, it trains a model $f:\\mathbf{y}_{t-1},\\mathbf{y}_{t-2},\\ldots\\mapsto\\mathbf{y}_t$. Denote the last observed value $y_T$, the model first predicts $\\hat{y}_{T+1|T}$, then appends it to the original series to predict $\\hat{y}_{T+2|T+1}$. This behaviour is repeated until all future time steps have been forecasted. This strategy has a significant weakness, is that it accumulates error each time it makes prediction to a new time step. Hence, requesting forecasts for a large horizon using this strategy is not a good idea, as it can saturate/converge and is no longer accurate.\n",
    "\n",
    "<img src='image/forecast_reduction_recursive.png' style='height:300px; margin:20px auto 20px;'>"
   ]
  },
  {
   "cell_type": "code",
   "execution_count": null,
   "id": "3ffe5f02-96b2-4c09-9cd2-de724b38b01c",
   "metadata": {
    "tags": []
   },
   "outputs": [],
   "source": [
    "nLags = 5\n",
    "model = make_reduction(LGBMRegressor(), window_length=nLags, strategy='recursive')\n",
    "model.fit(dfTemp)\n",
    "model"
   ]
  },
  {
   "cell_type": "code",
   "execution_count": null,
   "id": "92f24d49-69f1-4cbd-af1f-89ac881515e1",
   "metadata": {
    "tags": []
   },
   "outputs": [],
   "source": [
    "model.predict(fh=[1,2,3])"
   ]
  },
  {
   "cell_type": "code",
   "execution_count": null,
   "id": "0d96a275-6b90-4f20-a5ce-b10a8bfa13e0",
   "metadata": {
    "execution": {
     "iopub.execute_input": "2022-10-28T17:30:50.794475Z",
     "iopub.status.busy": "2022-10-28T17:30:50.794122Z",
     "iopub.status.idle": "2022-10-28T17:30:50.804380Z",
     "shell.execute_reply": "2022-10-28T17:30:50.803480Z",
     "shell.execute_reply.started": "2022-10-28T17:30:50.794450Z"
    },
    "tags": []
   },
   "outputs": [],
   "source": [
    "pd.DataFrame({\n",
    "    'lag': [f'lag{i}' for i in range(5, 0, -1)],\n",
    "    'importance': model.estimator_.feature_importances_,\n",
    "}).sort_values('importance')"
   ]
  },
  {
   "cell_type": "code",
   "execution_count": null,
   "id": "f86f56b6-af7f-474c-a3c2-4954fdb04362",
   "metadata": {},
   "outputs": [],
   "source": [
    "nTop = 10\n",
    "\n",
    "df = pd.DataFrame({\n",
    "    'feature': [f'lag{i}' for i in range(nLags, 0, -1)],\n",
    "    'importance': model.estimator_.feature_importances_\n",
    "})\n",
    "df = df.sort_values('importance')\n",
    "df = df.query(\"importance > 0\")\n",
    "df = df.tail(nTop)\n",
    "\n",
    "fig, ax = plt.subplots(figsize=(5,1.5))\n",
    "sns.barplot(data=df, x='importance', y='feature', color='teal')\n",
    "plt.show()"
   ]
  },
  {
   "cell_type": "markdown",
   "id": "9816e03f-d0eb-449f-b7d0-2f7ebd9857e1",
   "metadata": {},
   "source": [
    "### Direct strategy\n",
    "This strategy, in the other hand, trains a separate model for each time step: $f_h:\\mathbf{y}_{t-h},\\mathbf{y}_{t-(h+1)},\\ldots\\mapsto\\mathbf{y}_t$. As the number of models need to be train equals to the length of the forecasting horizon, this method is more computationally expensive but more accurate than recursive reduction. Keep in mind that making forecast to a far time step prevents using recent lags ($y_{t-1},\\ldots,y_{t-(h-1)}$). In other the words, if $h$ is large then $f_h$ is trained on less features and thus has less prediction power. Also note that because this method is a combination of multiple models, we must specify the forecasting horizon when fitting it to the data.\n",
    "\n",
    "<img src='image/forecast_reduction_direct.png' style='height:300px; margin:20px auto 20px;'>"
   ]
  },
  {
   "cell_type": "code",
   "execution_count": null,
   "id": "3ad19d26-1610-4580-b07a-092110c9c8ed",
   "metadata": {
    "tags": []
   },
   "outputs": [],
   "source": [
    "nLags = 10\n",
    "model = make_reduction(LGBMRegressor(), window_length=nLags, strategy='direct', scitype='tabular-regressor')\n",
    "model.fit(dfTemp, fh=[1,2,3])\n",
    "model"
   ]
  },
  {
   "cell_type": "code",
   "execution_count": null,
   "id": "0b7c2576-a0de-4f3a-96cb-556c83391897",
   "metadata": {
    "execution": {
     "iopub.execute_input": "2022-10-28T17:31:25.725396Z",
     "iopub.status.busy": "2022-10-28T17:31:25.722698Z",
     "iopub.status.idle": "2022-10-28T17:31:25.739734Z",
     "shell.execute_reply": "2022-10-28T17:31:25.738945Z",
     "shell.execute_reply.started": "2022-10-28T17:31:25.725351Z"
    },
    "tags": []
   },
   "outputs": [],
   "source": [
    "model.predict()"
   ]
  },
  {
   "cell_type": "code",
   "execution_count": null,
   "id": "c3655adc-c211-4347-a1a4-0984003b7346",
   "metadata": {
    "execution": {
     "iopub.execute_input": "2022-10-28T17:31:58.190377Z",
     "iopub.status.busy": "2022-10-28T17:31:58.189997Z",
     "iopub.status.idle": "2022-10-28T17:31:58.196354Z",
     "shell.execute_reply": "2022-10-28T17:31:58.195469Z",
     "shell.execute_reply.started": "2022-10-28T17:31:58.190341Z"
    },
    "tags": []
   },
   "outputs": [],
   "source": [
    "model.estimators_[0].feature_importances_"
   ]
  },
  {
   "cell_type": "markdown",
   "id": "b16c690d-2a7c-471b-9781-8b892672e905",
   "metadata": {},
   "source": [
    "### Hybrid strategy\n",
    "Sktime also develops a hybrid method that combines two above strategies, call *dir-rec*. It also has a recursive behaviour, but after appending $\\hat{y}_{T+h|T+(h-1)}$, it trains a new model to predict the next step $\\hat{y}_{T+(h+1)|T+h}$. However, because both recursion reduction and direct reduction are not good at forecasting far horizons, *dir-rec* also suffers from this problem."
   ]
  },
  {
   "cell_type": "code",
   "execution_count": null,
   "id": "204186c5-b486-46e6-8027-4d6a99c54f9c",
   "metadata": {
    "tags": []
   },
   "outputs": [],
   "source": [
    "nLags = 10\n",
    "model = make_reduction(LGBMRegressor(), window_length=nLags, strategy='dirrec', scitype='tabular-regressor')\n",
    "model.fit(dfTemp, fh=[1,2,3])\n",
    "model"
   ]
  },
  {
   "cell_type": "markdown",
   "id": "7a60609b-0099-4fdd-aa0f-5944fe9263ec",
   "metadata": {
    "tags": []
   },
   "source": [
    "### Multivariate reducer\n",
    "As Sktime currently does not support forecasting reduction for multivariate time series (where multiple time series grow together), we are going to use Skforecast's [multivariate forecasting] instead. Its class\n",
    "<code style='font-size:13px'><a href='https://joaquinamatrodrigo.github.io/skforecast/0.5.1/api/ForecasterMultiSeries.html'>ForecasterAutoregMultiSeries</a></code>\n",
    "assumes multiple time series are independent but follow the same patterns (for example, the sales of different products in the same store).\n",
    "\n",
    "Another reducer being capable of modeling relationship between different time series are being developed. Its assumption is that, each time series depends not only on its own past values, but also on past values of other time series.\n",
    "\n",
    "[multivariate forecasting]: https://joaquinamatrodrigo.github.io/skforecast/0.5.1/user_guides/multi-time-series-forecasting.html"
   ]
  },
  {
   "cell_type": "code",
   "execution_count": null,
   "id": "56f74eda-df92-48a0-a529-48751127d592",
   "metadata": {
    "execution": {
     "iopub.execute_input": "2022-11-02T16:12:57.534309Z",
     "iopub.status.busy": "2022-11-02T16:12:57.533930Z",
     "iopub.status.idle": "2022-11-02T16:13:02.803299Z",
     "shell.execute_reply": "2022-11-02T16:13:02.802598Z",
     "shell.execute_reply.started": "2022-11-02T16:12:57.534235Z"
    },
    "tags": []
   },
   "outputs": [],
   "source": [
    "import numpy as np\n",
    "import pandas as pd\n",
    "import janitor\n",
    "\n",
    "import matplotlib.pyplot as plt\n",
    "plt.style.use(['seaborn', 'seaborn-whitegrid'])\n",
    "%config InlineBackend.figure_format = 'retina'\n",
    "\n",
    "from lightgbm import LGBMRegressor\n",
    "from sklearn.ensemble import RandomForestRegressor\n",
    "from sklearn.metrics import mean_squared_error\n",
    "from sklearn.pipeline import make_pipeline\n",
    "\n",
    "from skforecast.ForecasterAutoreg import ForecasterAutoreg\n",
    "from skforecast.ForecasterAutoregCustom import ForecasterAutoregCustom\n",
    "from skforecast.model_selection import grid_search_forecaster\n",
    "from skforecast.model_selection import backtesting_forecaster\n",
    "from skforecast.ForecasterAutoregMultiSeries import ForecasterAutoregMultiSeries\n",
    "\n",
    "import warnings; warnings.filterwarnings('ignore')"
   ]
  },
  {
   "cell_type": "code",
   "execution_count": null,
   "id": "5a150090-2422-4778-a00d-9be99489d373",
   "metadata": {
    "execution": {
     "iopub.execute_input": "2022-11-02T16:13:02.805152Z",
     "iopub.status.busy": "2022-11-02T16:13:02.804652Z",
     "iopub.status.idle": "2022-11-02T16:13:02.854199Z",
     "shell.execute_reply": "2022-11-02T16:13:02.853542Z",
     "shell.execute_reply.started": "2022-11-02T16:13:02.805125Z"
    },
    "tags": []
   },
   "outputs": [],
   "source": [
    "dfTemp = pd.read_csv('data/air_quality.csv')\n",
    "dfTemp = (\n",
    "    dfTemp\n",
    "    .to_datetime('time')\n",
    "    .select_columns(['time', 'temp', 'rel_humidity', 'abs_humidity'])\n",
    "    .set_index('time')\n",
    "    .asfreq('h')\n",
    ")\n",
    "dfTemp.tail()"
   ]
  },
  {
   "cell_type": "code",
   "execution_count": null,
   "id": "9567627b-e09b-4454-9da0-e34a59947194",
   "metadata": {
    "execution": {
     "iopub.execute_input": "2022-11-02T16:13:03.203337Z",
     "iopub.status.busy": "2022-11-02T16:13:03.202974Z",
     "iopub.status.idle": "2022-11-02T16:13:04.219024Z",
     "shell.execute_reply": "2022-11-02T16:13:04.218161Z",
     "shell.execute_reply.started": "2022-11-02T16:13:03.203313Z"
    },
    "tags": []
   },
   "outputs": [],
   "source": [
    "model = ForecasterAutoregMultiSeries(\n",
    "    LGBMRegressor(max_depth=3), lags=5,\n",
    ")\n",
    "model.fit(dfTemp)\n",
    "model.predict_interval(steps=7, level='temp')"
   ]
  },
  {
   "cell_type": "code",
   "execution_count": null,
   "id": "62479c69-1bc1-4182-84d3-06042100f3a0",
   "metadata": {
    "execution": {
     "iopub.execute_input": "2022-11-02T16:13:04.950746Z",
     "iopub.status.busy": "2022-11-02T16:13:04.950384Z",
     "iopub.status.idle": "2022-11-02T16:13:04.958452Z",
     "shell.execute_reply": "2022-11-02T16:13:04.957516Z",
     "shell.execute_reply.started": "2022-11-02T16:13:04.950718Z"
    },
    "tags": []
   },
   "outputs": [],
   "source": [
    "model.get_feature_importance()"
   ]
  },
  {
   "cell_type": "markdown",
   "id": "f936ae70-1207-4e9f-b2a0-dabcda0943b8",
   "metadata": {},
   "source": [
    "## 1.2. Basic workflow"
   ]
  },
  {
   "cell_type": "code",
   "execution_count": 24,
   "id": "e86d9804-18df-48e5-8afe-ca59963c8d4e",
   "metadata": {
    "tags": []
   },
   "outputs": [],
   "source": [
    "import datetime as dt\n",
    "from sspipe import p, px\n",
    "import warnings\n",
    "warnings.filterwarnings('ignore')\n",
    "\n",
    "import numpy as np\n",
    "import pandas as pd\n",
    "import janitor\n",
    "from sktime.forecasting.base import ForecastingHorizon as FH\n",
    "from sktime.forecasting.arima import AutoARIMA\n",
    "from sktime.forecasting.ets import AutoETS\n",
    "\n",
    "from sktime.utils.plotting import plot_series\n",
    "import matplotlib.pyplot as plt\n",
    "import seaborn as sns\n",
    "plt.style.use(['seaborn', 'seaborn-whitegrid'])\n",
    "%config InlineBackend.figure_format = 'retina'"
   ]
  },
  {
   "cell_type": "markdown",
   "id": "e0f36c9d-b709-4563-af73-60d529bed3bb",
   "metadata": {},
   "source": [
    "### Input format\n",
    "The appropriate format of input data for Sktime is a Pandas Series or DataFrame with\n",
    "<code style='font-size:13px'><a href=https://pandas.pydata.org/pandas-docs/stable/reference/api/pandas.DatetimeIndex.html>DatetimeIndex</a></code> and\n",
    "<code style='font-size:13px'><a href=https://pandas.pydata.org/pandas-docs/stable/reference/api/pandas.PeriodIndex.html>PeriodIndex</a></code>.\n",
    "There are different date and time [frequencies] available, but in this section we will demonstrate with a practical use case: business day frequency.\n",
    "For non-time-series sequential data, Sktime also accepts integer index.\n",
    "\n",
    "[frequencies]: https://pandas.pydata.org/pandas-docs/stable/user_guide/timeseries.html#dateoffset-objects"
   ]
  },
  {
   "cell_type": "code",
   "execution_count": 3,
   "id": "e7e763cd-74fd-4b72-b0f9-6ee7d1488828",
   "metadata": {
    "tags": []
   },
   "outputs": [
    {
     "data": {
      "text/html": [
       "<div>\n",
       "<style scoped>\n",
       "    .dataframe tbody tr th:only-of-type {\n",
       "        vertical-align: middle;\n",
       "    }\n",
       "\n",
       "    .dataframe tbody tr th {\n",
       "        vertical-align: top;\n",
       "    }\n",
       "\n",
       "    .dataframe thead th {\n",
       "        text-align: right;\n",
       "    }\n",
       "</style>\n",
       "<table border=\"1\" class=\"dataframe\">\n",
       "  <thead>\n",
       "    <tr style=\"text-align: right;\">\n",
       "      <th></th>\n",
       "      <th>quantity</th>\n",
       "    </tr>\n",
       "  </thead>\n",
       "  <tbody>\n",
       "    <tr>\n",
       "      <th>2015-06-26</th>\n",
       "      <td>58.07</td>\n",
       "    </tr>\n",
       "    <tr>\n",
       "      <th>2015-06-29</th>\n",
       "      <td>59.83</td>\n",
       "    </tr>\n",
       "    <tr>\n",
       "      <th>2015-06-30</th>\n",
       "      <td>47.84</td>\n",
       "    </tr>\n",
       "    <tr>\n",
       "      <th>2015-07-01</th>\n",
       "      <td>52.20</td>\n",
       "    </tr>\n",
       "    <tr>\n",
       "      <th>2015-07-02</th>\n",
       "      <td>44.57</td>\n",
       "    </tr>\n",
       "  </tbody>\n",
       "</table>\n",
       "</div>"
      ],
      "text/plain": [
       "            quantity\n",
       "2015-06-26     58.07\n",
       "2015-06-29     59.83\n",
       "2015-06-30     47.84\n",
       "2015-07-01     52.20\n",
       "2015-07-02     44.57"
      ]
     },
     "execution_count": 3,
     "metadata": {},
     "output_type": "execute_result"
    }
   ],
   "source": [
    "dfQty = (\n",
    "    pd.read_csv('data/weekly_quantity.csv')\n",
    "    .eval(\"date = date.astype('datetime64')\", engine='python')\n",
    "    .set_index('date')\n",
    "    .rename_axis(index=None)\n",
    "    .asfreq('B')\n",
    "    .fillna(1e-3)\n",
    "    .to_period('B')\n",
    ")\n",
    "dfQty.tail()"
   ]
  },
  {
   "cell_type": "markdown",
   "id": "e1694d8a-4832-4059-902b-3f9c8e8810b5",
   "metadata": {},
   "source": [
    "### Forecasters\n",
    "A pain point occurs in forecasting tasks is that different Python packages such as Statsmodels, PmdArima and Prophet use different fit and predict syntaxes. Sktime serves the role of an unified framework that wraps popular forecasting models so that Data Scientists can try different models with ease. Sktime supports all popular models, some with an automated version:\n",
    "<code style='font-size:13px'><a href=https://www.sktime.org/en/stable/api_reference/auto_generated/sktime.forecasting.arima.AutoARIMA.html>AutoARIMA</a></code>\n",
    "<code style='font-size:13px'><a href=https://www.sktime.org/en/stable/api_reference/auto_generated/sktime.forecasting.ets.AutoETS.html>AutoETS</a></code>\n",
    "<code style='font-size:13px'><a href=https://www.sktime.org/en/stable/api_reference/auto_generated/sktime.forecasting.tbats.TBATS.html>TBATS</a></code>\n",
    "<code style='font-size:13px'><a href=https://www.sktime.org/en/stable/api_reference/auto_generated/sktime.forecasting.fbprophet.Prophet.html>Prophet</a></code>.\n",
    "Alongside with reducers introduced earlier, there a lot of options for Data Scientists to try."
   ]
  },
  {
   "cell_type": "code",
   "execution_count": 88,
   "id": "ed6ba6c8-bdc6-4c05-be72-826176058e5d",
   "metadata": {
    "tags": []
   },
   "outputs": [
    {
     "data": {
      "text/html": [
       "<style>#sk-container-id-14 {color: black;background-color: white;}#sk-container-id-14 pre{padding: 0;}#sk-container-id-14 div.sk-toggleable {background-color: white;}#sk-container-id-14 label.sk-toggleable__label {cursor: pointer;display: block;width: 100%;margin-bottom: 0;padding: 0.3em;box-sizing: border-box;text-align: center;}#sk-container-id-14 label.sk-toggleable__label-arrow:before {content: \"▸\";float: left;margin-right: 0.25em;color: #696969;}#sk-container-id-14 label.sk-toggleable__label-arrow:hover:before {color: black;}#sk-container-id-14 div.sk-estimator:hover label.sk-toggleable__label-arrow:before {color: black;}#sk-container-id-14 div.sk-toggleable__content {max-height: 0;max-width: 0;overflow: hidden;text-align: left;background-color: #f0f8ff;}#sk-container-id-14 div.sk-toggleable__content pre {margin: 0.2em;color: black;border-radius: 0.25em;background-color: #f0f8ff;}#sk-container-id-14 input.sk-toggleable__control:checked~div.sk-toggleable__content {max-height: 200px;max-width: 100%;overflow: auto;}#sk-container-id-14 input.sk-toggleable__control:checked~label.sk-toggleable__label-arrow:before {content: \"▾\";}#sk-container-id-14 div.sk-estimator input.sk-toggleable__control:checked~label.sk-toggleable__label {background-color: #d4ebff;}#sk-container-id-14 div.sk-label input.sk-toggleable__control:checked~label.sk-toggleable__label {background-color: #d4ebff;}#sk-container-id-14 input.sk-hidden--visually {border: 0;clip: rect(1px 1px 1px 1px);clip: rect(1px, 1px, 1px, 1px);height: 1px;margin: -1px;overflow: hidden;padding: 0;position: absolute;width: 1px;}#sk-container-id-14 div.sk-estimator {font-family: monospace;background-color: #f0f8ff;border: 1px dotted black;border-radius: 0.25em;box-sizing: border-box;margin-bottom: 0.5em;}#sk-container-id-14 div.sk-estimator:hover {background-color: #d4ebff;}#sk-container-id-14 div.sk-parallel-item::after {content: \"\";width: 100%;border-bottom: 1px solid gray;flex-grow: 1;}#sk-container-id-14 div.sk-label:hover label.sk-toggleable__label {background-color: #d4ebff;}#sk-container-id-14 div.sk-serial::before {content: \"\";position: absolute;border-left: 1px solid gray;box-sizing: border-box;top: 0;bottom: 0;left: 50%;z-index: 0;}#sk-container-id-14 div.sk-serial {display: flex;flex-direction: column;align-items: center;background-color: white;padding-right: 0.2em;padding-left: 0.2em;position: relative;}#sk-container-id-14 div.sk-item {position: relative;z-index: 1;}#sk-container-id-14 div.sk-parallel {display: flex;align-items: stretch;justify-content: center;background-color: white;position: relative;}#sk-container-id-14 div.sk-item::before, #sk-container-id-14 div.sk-parallel-item::before {content: \"\";position: absolute;border-left: 1px solid gray;box-sizing: border-box;top: 0;bottom: 0;left: 50%;z-index: -1;}#sk-container-id-14 div.sk-parallel-item {display: flex;flex-direction: column;z-index: 1;position: relative;background-color: white;}#sk-container-id-14 div.sk-parallel-item:first-child::after {align-self: flex-end;width: 50%;}#sk-container-id-14 div.sk-parallel-item:last-child::after {align-self: flex-start;width: 50%;}#sk-container-id-14 div.sk-parallel-item:only-child::after {width: 0;}#sk-container-id-14 div.sk-dashed-wrapped {border: 1px dashed gray;margin: 0 0.4em 0.5em 0.4em;box-sizing: border-box;padding-bottom: 0.4em;background-color: white;}#sk-container-id-14 div.sk-label label {font-family: monospace;font-weight: bold;display: inline-block;line-height: 1.2em;}#sk-container-id-14 div.sk-label-container {text-align: center;}#sk-container-id-14 div.sk-container {/* jupyter's `normalize.less` sets `[hidden] { display: none; }` but bootstrap.min.css set `[hidden] { display: none !important; }` so we also need the `!important` here to be able to override the default hidden behavior on the sphinx rendered scikit-learn.org. See: https://github.com/scikit-learn/scikit-learn/issues/21755 */display: inline-block !important;position: relative;}#sk-container-id-14 div.sk-text-repr-fallback {display: none;}</style><div id=\"sk-container-id-14\" class=\"sk-top-container\"><div class=\"sk-text-repr-fallback\"><pre>AutoARIMA(sp=5)</pre><b>In a Jupyter environment, please rerun this cell to show the HTML representation or trust the notebook. <br />On GitHub, the HTML representation is unable to render, please try loading this page with nbviewer.org.</b></div><div class=\"sk-container\" hidden><div class=\"sk-item\"><div class=\"sk-estimator sk-toggleable\"><input class=\"sk-toggleable__control sk-hidden--visually\" id=\"sk-estimator-id-14\" type=\"checkbox\" checked><label for=\"sk-estimator-id-14\" class=\"sk-toggleable__label sk-toggleable__label-arrow\">AutoARIMA</label><div class=\"sk-toggleable__content\"><pre>AutoARIMA(sp=5)</pre></div></div></div></div></div>"
      ],
      "text/plain": [
       "AutoARIMA(sp=5)"
      ]
     },
     "execution_count": 88,
     "metadata": {},
     "output_type": "execute_result"
    }
   ],
   "source": [
    "model = AutoARIMA(sp=5)\n",
    "model.fit(dfQty)"
   ]
  },
  {
   "cell_type": "code",
   "execution_count": 89,
   "id": "8f810061-7fa1-4436-b77c-97ef42b47884",
   "metadata": {},
   "outputs": [
    {
     "data": {
      "text/plain": [
       "Period('2015-07-02', 'B')"
      ]
     },
     "execution_count": 89,
     "metadata": {},
     "output_type": "execute_result"
    }
   ],
   "source": [
    "model.cutoff"
   ]
  },
  {
   "cell_type": "markdown",
   "id": "81e0d100-360d-4198-9efa-fffb930507a1",
   "metadata": {},
   "source": [
    "<b style='color:navy'><i class=\"fa fa-info-circle\"></i>&nbsp; Note</b><br>\n",
    "- Once the model is fitted, the last observed value is call the *offset*, indexed 0. It can be thought as the *now* state of the time series.\n",
    "- We can either request future forecasts (*out-of-sample forecasting*) with the indices start from 1, or request historical fitted values (*in-sample prediction*) with negative indices. However, some models will return NA for in-sample prediction."
   ]
  },
  {
   "cell_type": "code",
   "execution_count": 129,
   "id": "246568b8-e1fa-4d70-b55f-2684312074f7",
   "metadata": {
    "tags": []
   },
   "outputs": [
    {
     "data": {
      "text/html": [
       "<div>\n",
       "<style scoped>\n",
       "    .dataframe tbody tr th:only-of-type {\n",
       "        vertical-align: middle;\n",
       "    }\n",
       "\n",
       "    .dataframe tbody tr th {\n",
       "        vertical-align: top;\n",
       "    }\n",
       "\n",
       "    .dataframe thead th {\n",
       "        text-align: right;\n",
       "    }\n",
       "</style>\n",
       "<table border=\"1\" class=\"dataframe\">\n",
       "  <thead>\n",
       "    <tr style=\"text-align: right;\">\n",
       "      <th></th>\n",
       "      <th>quantity</th>\n",
       "    </tr>\n",
       "  </thead>\n",
       "  <tbody>\n",
       "    <tr>\n",
       "      <th>2015-07-01</th>\n",
       "      <td>NaN</td>\n",
       "    </tr>\n",
       "    <tr>\n",
       "      <th>2015-07-02</th>\n",
       "      <td>NaN</td>\n",
       "    </tr>\n",
       "    <tr>\n",
       "      <th>2015-07-03</th>\n",
       "      <td>45.301294</td>\n",
       "    </tr>\n",
       "    <tr>\n",
       "      <th>2015-07-06</th>\n",
       "      <td>53.462003</td>\n",
       "    </tr>\n",
       "  </tbody>\n",
       "</table>\n",
       "</div>"
      ],
      "text/plain": [
       "             quantity\n",
       "2015-07-01        NaN\n",
       "2015-07-02        NaN\n",
       "2015-07-03  45.301294\n",
       "2015-07-06  53.462003"
      ]
     },
     "execution_count": 129,
     "metadata": {},
     "output_type": "execute_result"
    }
   ],
   "source": [
    "fh = np.arange(-1, 3)\n",
    "model.predict(fh)"
   ]
  },
  {
   "cell_type": "markdown",
   "id": "04457838-b146-43d4-a86a-4f7fc2980ce7",
   "metadata": {},
   "source": [
    "### Forecasting horizon\n",
    "The most simple way to request forecasts is using integer indices as above, but sometimes, we need a more pwerful tool. Sktime has a\n",
    "<code style='font-size:13px'><a href=1>ForecastingHorizon</a></code>\n",
    "class allowing us to specifiy either relative or absolute horizon.\n",
    "\n",
    "[1]: https://www.sktime.org/en/stable/api_reference/auto_generated/sktime.forecasting.base.ForecastingHorizon.html"
   ]
  },
  {
   "cell_type": "code",
   "execution_count": 130,
   "id": "a0278321-13b9-4432-94f4-74f73ee52c07",
   "metadata": {},
   "outputs": [
    {
     "data": {
      "text/plain": [
       "ForecastingHorizon([-1, 0, 1, 2], dtype='int64', is_relative=True)"
      ]
     },
     "metadata": {},
     "output_type": "display_data"
    },
    {
     "data": {
      "text/html": [
       "<div>\n",
       "<style scoped>\n",
       "    .dataframe tbody tr th:only-of-type {\n",
       "        vertical-align: middle;\n",
       "    }\n",
       "\n",
       "    .dataframe tbody tr th {\n",
       "        vertical-align: top;\n",
       "    }\n",
       "\n",
       "    .dataframe thead th {\n",
       "        text-align: right;\n",
       "    }\n",
       "</style>\n",
       "<table border=\"1\" class=\"dataframe\">\n",
       "  <thead>\n",
       "    <tr style=\"text-align: right;\">\n",
       "      <th></th>\n",
       "      <th>quantity</th>\n",
       "    </tr>\n",
       "  </thead>\n",
       "  <tbody>\n",
       "    <tr>\n",
       "      <th>2015-07-01</th>\n",
       "      <td>NaN</td>\n",
       "    </tr>\n",
       "    <tr>\n",
       "      <th>2015-07-02</th>\n",
       "      <td>NaN</td>\n",
       "    </tr>\n",
       "    <tr>\n",
       "      <th>2015-07-03</th>\n",
       "      <td>45.301294</td>\n",
       "    </tr>\n",
       "    <tr>\n",
       "      <th>2015-07-06</th>\n",
       "      <td>53.462003</td>\n",
       "    </tr>\n",
       "  </tbody>\n",
       "</table>\n",
       "</div>"
      ],
      "text/plain": [
       "             quantity\n",
       "2015-07-01        NaN\n",
       "2015-07-02        NaN\n",
       "2015-07-03  45.301294\n",
       "2015-07-06  53.462003"
      ]
     },
     "execution_count": 130,
     "metadata": {},
     "output_type": "execute_result"
    }
   ],
   "source": [
    "fhRel = np.arange(-1, 3) | p(FH)\n",
    "display(fhRel)\n",
    "model.predict(fhRel)"
   ]
  },
  {
   "cell_type": "code",
   "execution_count": 131,
   "id": "3dc89125-8431-40ca-821e-cde07b20bfa7",
   "metadata": {},
   "outputs": [
    {
     "data": {
      "text/html": [
       "<div>\n",
       "<style scoped>\n",
       "    .dataframe tbody tr th:only-of-type {\n",
       "        vertical-align: middle;\n",
       "    }\n",
       "\n",
       "    .dataframe tbody tr th {\n",
       "        vertical-align: top;\n",
       "    }\n",
       "\n",
       "    .dataframe thead th {\n",
       "        text-align: right;\n",
       "    }\n",
       "</style>\n",
       "<table border=\"1\" class=\"dataframe\">\n",
       "  <thead>\n",
       "    <tr style=\"text-align: right;\">\n",
       "      <th></th>\n",
       "      <th>quantity</th>\n",
       "    </tr>\n",
       "  </thead>\n",
       "  <tbody>\n",
       "    <tr>\n",
       "      <th>2015-07-01</th>\n",
       "      <td>NaN</td>\n",
       "    </tr>\n",
       "    <tr>\n",
       "      <th>2015-07-02</th>\n",
       "      <td>NaN</td>\n",
       "    </tr>\n",
       "    <tr>\n",
       "      <th>2015-07-03</th>\n",
       "      <td>45.301294</td>\n",
       "    </tr>\n",
       "    <tr>\n",
       "      <th>2015-07-06</th>\n",
       "      <td>53.462003</td>\n",
       "    </tr>\n",
       "  </tbody>\n",
       "</table>\n",
       "</div>"
      ],
      "text/plain": [
       "             quantity\n",
       "2015-07-01        NaN\n",
       "2015-07-02        NaN\n",
       "2015-07-03  45.301294\n",
       "2015-07-06  53.462003"
      ]
     },
     "execution_count": 131,
     "metadata": {},
     "output_type": "execute_result"
    }
   ],
   "source": [
    "fhAbs = pd.period_range('2015-07-01', '2015-07-06', freq='B') | p(FH, is_relative=False)\n",
    "model.predict(fhAbs)"
   ]
  },
  {
   "cell_type": "code",
   "execution_count": 136,
   "id": "5f4b7f9b-a8a1-4b49-a1ba-f5abf723c15a",
   "metadata": {},
   "outputs": [
    {
     "data": {
      "text/plain": [
       "ForecastingHorizon(['2015-07-01', '2015-07-02', '2015-07-03', '2015-07-06'], dtype='period[B]', is_relative=False)"
      ]
     },
     "metadata": {},
     "output_type": "display_data"
    }
   ],
   "source": [
    "cutoff = pd.Period('2015-07-02', freq='B')\n",
    "fhRel.to_absolute(cutoff) | p(display)"
   ]
  },
  {
   "cell_type": "markdown",
   "id": "9fb25259-7cf8-4a56-928c-6db3c319d7cc",
   "metadata": {},
   "source": [
    "### Update and predict\n",
    "We have already known forecasting for far future points is not very accurate, as forecasting errors keep stacking up. For example, if we have daily data, then the forecast for this day next month $\\hat{y}_{t+30|t}$ is not likely to have high quality, no matter how strong the algorithm we are using is. In this case, the approach to solve the problem is more important. A simple but good solution is re-training the model more frequently, like weekly or even daily. This strategy makes the cutoff closer to the query point: $\\hat{y}_{t+7|t}$ (weekly) and $\\hat{y}_{t+1|t}$ (daily).\n",
    "\n",
    "The downside of frequent re-training is computation cost. Sktime offers a solution with lower training time but does not hurt the quality very much, that is updating. When calling the <code style='font-size:13px'>update()</code> method, the fitted model ingests new data and updates the cutoff to the last observed point. Let's see the behaviour of this method in action."
   ]
  },
  {
   "cell_type": "code",
   "execution_count": 8,
   "id": "6087d052-10d8-4013-97c9-c16691490cad",
   "metadata": {},
   "outputs": [
    {
     "data": {
      "text/plain": [
       "Period('2015-06-25', 'B')"
      ]
     },
     "execution_count": 8,
     "metadata": {},
     "output_type": "execute_result"
    }
   ],
   "source": [
    "model = AutoARIMA()\n",
    "model.fit(dfQty[:-5])\n",
    "model.cutoff"
   ]
  },
  {
   "cell_type": "code",
   "execution_count": 9,
   "id": "d81c07f6-bec0-41f5-aa19-1e5dd0a1e3d2",
   "metadata": {},
   "outputs": [
    {
     "data": {
      "text/plain": [
       "Period('2015-07-02', 'B')"
      ]
     },
     "execution_count": 9,
     "metadata": {},
     "output_type": "execute_result"
    }
   ],
   "source": [
    "# after updating new 5 observations, the cutoff moves\n",
    "model.update(dfQty[-5:])\n",
    "model.cutoff"
   ]
  },
  {
   "cell_type": "code",
   "execution_count": 10,
   "id": "3ac5951c-a284-4f4e-9926-350cc6895ead",
   "metadata": {},
   "outputs": [
    {
     "data": {
      "text/html": [
       "<div>\n",
       "<style scoped>\n",
       "    .dataframe tbody tr th:only-of-type {\n",
       "        vertical-align: middle;\n",
       "    }\n",
       "\n",
       "    .dataframe tbody tr th {\n",
       "        vertical-align: top;\n",
       "    }\n",
       "\n",
       "    .dataframe thead th {\n",
       "        text-align: right;\n",
       "    }\n",
       "</style>\n",
       "<table border=\"1\" class=\"dataframe\">\n",
       "  <thead>\n",
       "    <tr style=\"text-align: right;\">\n",
       "      <th></th>\n",
       "      <th>quantity</th>\n",
       "    </tr>\n",
       "  </thead>\n",
       "  <tbody>\n",
       "    <tr>\n",
       "      <th>2015-07-03</th>\n",
       "      <td>50.533391</td>\n",
       "    </tr>\n",
       "    <tr>\n",
       "      <th>2015-07-06</th>\n",
       "      <td>53.435979</td>\n",
       "    </tr>\n",
       "    <tr>\n",
       "      <th>2015-07-07</th>\n",
       "      <td>52.105592</td>\n",
       "    </tr>\n",
       "  </tbody>\n",
       "</table>\n",
       "</div>"
      ],
      "text/plain": [
       "             quantity\n",
       "2015-07-03  50.533391\n",
       "2015-07-06  53.435979\n",
       "2015-07-07  52.105592"
      ]
     },
     "execution_count": 10,
     "metadata": {},
     "output_type": "execute_result"
    }
   ],
   "source": [
    "fh = FH([1,2,3])\n",
    "model.predict(fh)"
   ]
  },
  {
   "cell_type": "markdown",
   "id": "7cc656bc-0687-43ef-a380-a2113996f960",
   "metadata": {},
   "source": [
    "### Probabilistic prediction\n",
    "Some Sktime forecasters have the ability to perform probabilistic prediction. Two common options are confidence interval (the user specifies a coverage) and distribution quantiles (the user specifies quantiles)."
   ]
  },
  {
   "cell_type": "code",
   "execution_count": 23,
   "id": "1fdff403-c916-4273-beaf-a5fec5a1e2a1",
   "metadata": {},
   "outputs": [
    {
     "data": {
      "text/html": [
       "<div>\n",
       "<style scoped>\n",
       "    .dataframe tbody tr th:only-of-type {\n",
       "        vertical-align: middle;\n",
       "    }\n",
       "\n",
       "    .dataframe tbody tr th {\n",
       "        vertical-align: top;\n",
       "    }\n",
       "\n",
       "    .dataframe thead tr th {\n",
       "        text-align: left;\n",
       "    }\n",
       "</style>\n",
       "<table border=\"1\" class=\"dataframe\">\n",
       "  <thead>\n",
       "    <tr>\n",
       "      <th></th>\n",
       "      <th colspan=\"2\" halign=\"left\">Coverage</th>\n",
       "    </tr>\n",
       "    <tr>\n",
       "      <th></th>\n",
       "      <th colspan=\"2\" halign=\"left\">0.9</th>\n",
       "    </tr>\n",
       "    <tr>\n",
       "      <th></th>\n",
       "      <th>lower</th>\n",
       "      <th>upper</th>\n",
       "    </tr>\n",
       "  </thead>\n",
       "  <tbody>\n",
       "    <tr>\n",
       "      <th>2015-07-03</th>\n",
       "      <td>34.881345</td>\n",
       "      <td>66.185437</td>\n",
       "    </tr>\n",
       "    <tr>\n",
       "      <th>2015-07-06</th>\n",
       "      <td>37.330719</td>\n",
       "      <td>69.541240</td>\n",
       "    </tr>\n",
       "    <tr>\n",
       "      <th>2015-07-07</th>\n",
       "      <td>35.862179</td>\n",
       "      <td>68.349005</td>\n",
       "    </tr>\n",
       "  </tbody>\n",
       "</table>\n",
       "</div>"
      ],
      "text/plain": [
       "             Coverage           \n",
       "                  0.9           \n",
       "                lower      upper\n",
       "2015-07-03  34.881345  66.185437\n",
       "2015-07-06  37.330719  69.541240\n",
       "2015-07-07  35.862179  68.349005"
      ]
     },
     "execution_count": 23,
     "metadata": {},
     "output_type": "execute_result"
    }
   ],
   "source": [
    "model.predict_interval(fh, coverage=0.9)"
   ]
  },
  {
   "cell_type": "code",
   "execution_count": null,
   "id": "fd730230-dcd9-44c4-b1c4-6378aec275b1",
   "metadata": {},
   "outputs": [
    {
     "data": {
      "text/html": [
       "<div>\n",
       "<style scoped>\n",
       "    .dataframe tbody tr th:only-of-type {\n",
       "        vertical-align: middle;\n",
       "    }\n",
       "\n",
       "    .dataframe tbody tr th {\n",
       "        vertical-align: top;\n",
       "    }\n",
       "\n",
       "    .dataframe thead tr th {\n",
       "        text-align: left;\n",
       "    }\n",
       "</style>\n",
       "<table border=\"1\" class=\"dataframe\">\n",
       "  <thead>\n",
       "    <tr>\n",
       "      <th></th>\n",
       "      <th colspan=\"2\" halign=\"left\">Quantiles</th>\n",
       "    </tr>\n",
       "    <tr>\n",
       "      <th></th>\n",
       "      <th>0.05</th>\n",
       "      <th>0.95</th>\n",
       "    </tr>\n",
       "  </thead>\n",
       "  <tbody>\n",
       "    <tr>\n",
       "      <th>2015-07-03</th>\n",
       "      <td>34.881345</td>\n",
       "      <td>66.185437</td>\n",
       "    </tr>\n",
       "    <tr>\n",
       "      <th>2015-07-06</th>\n",
       "      <td>37.330719</td>\n",
       "      <td>69.541240</td>\n",
       "    </tr>\n",
       "    <tr>\n",
       "      <th>2015-07-07</th>\n",
       "      <td>35.862179</td>\n",
       "      <td>68.349005</td>\n",
       "    </tr>\n",
       "  </tbody>\n",
       "</table>\n",
       "</div>"
      ],
      "text/plain": [
       "            Quantiles           \n",
       "                 0.05       0.95\n",
       "2015-07-03  34.881345  66.185437\n",
       "2015-07-06  37.330719  69.541240\n",
       "2015-07-07  35.862179  68.349005"
      ]
     },
     "execution_count": 14,
     "metadata": {},
     "output_type": "execute_result"
    }
   ],
   "source": [
    "model.predict_quantiles(fh, alpha=[.05, .95])"
   ]
  },
  {
   "cell_type": "markdown",
   "id": "2c35ca56-2f3b-4bc5-b5b3-7967fa8899a2",
   "metadata": {},
   "source": [
    "### Exogeneous variables\n",
    "Traditional statistical models, especially SARIMAX, have considered independent variables that potentially have a strong relationship with our time series. In terms of forecasting, the time series we want to make forecasts is called the *endogeneous* variable $\\mathbf{y}$ and other independent time series are called *exogeneous* variables $\\mathbf{x}_1,\\mathbf{x}_2,\\ldots$. When exogeneous variables are included in the forecaster, then the model becomes: $f:\\mathbf{y}_{t-1},\\mathbf{y}_{t-2},\\ldots\\mathbf{x}_1,\\mathbf{x}_2,\\ldots\\mapsto\\mathbf{y}$.\n",
    "\n",
    "However, in the inference phase, it requres values of the exogeneous variables at future time steps that we are requesting forecast. This makes only special variables with appointed time (such as holidays and special events) a viable option. There is a workaround solution to involve economical data (which is much more useful), which is using their lags. For example, to forecast a variable $\\mathbf{y}$ for the next 7 days, we can use $\\mathbf{x}_{t-7}$ for training and leave $7$ latest values of $\\mathbf{x}$ for inference."
   ]
  },
  {
   "cell_type": "code",
   "execution_count": 106,
   "id": "86497d26-cefe-4b38-a0fe-96d6adf5f1de",
   "metadata": {
    "tags": []
   },
   "outputs": [
    {
     "data": {
      "text/html": [
       "<div>\n",
       "<style scoped>\n",
       "    .dataframe tbody tr th:only-of-type {\n",
       "        vertical-align: middle;\n",
       "    }\n",
       "\n",
       "    .dataframe tbody tr th {\n",
       "        vertical-align: top;\n",
       "    }\n",
       "\n",
       "    .dataframe thead th {\n",
       "        text-align: right;\n",
       "    }\n",
       "</style>\n",
       "<table border=\"1\" class=\"dataframe\">\n",
       "  <thead>\n",
       "    <tr style=\"text-align: right;\">\n",
       "      <th></th>\n",
       "      <th>temp</th>\n",
       "      <th>rel_humidity</th>\n",
       "      <th>abs_humidity</th>\n",
       "    </tr>\n",
       "  </thead>\n",
       "  <tbody>\n",
       "    <tr>\n",
       "      <th>2005-03-15 19:00:00</th>\n",
       "      <td>18.0</td>\n",
       "      <td>36.0</td>\n",
       "      <td>0.7345</td>\n",
       "    </tr>\n",
       "    <tr>\n",
       "      <th>2005-03-15 20:00:00</th>\n",
       "      <td>16.4</td>\n",
       "      <td>41.9</td>\n",
       "      <td>0.7759</td>\n",
       "    </tr>\n",
       "    <tr>\n",
       "      <th>2005-03-15 21:00:00</th>\n",
       "      <td>14.9</td>\n",
       "      <td>47.6</td>\n",
       "      <td>0.8003</td>\n",
       "    </tr>\n",
       "    <tr>\n",
       "      <th>2005-03-15 22:00:00</th>\n",
       "      <td>13.8</td>\n",
       "      <td>49.6</td>\n",
       "      <td>0.7793</td>\n",
       "    </tr>\n",
       "    <tr>\n",
       "      <th>2005-03-15 23:00:00</th>\n",
       "      <td>13.2</td>\n",
       "      <td>51.6</td>\n",
       "      <td>0.7765</td>\n",
       "    </tr>\n",
       "  </tbody>\n",
       "</table>\n",
       "</div>"
      ],
      "text/plain": [
       "                     temp  rel_humidity  abs_humidity\n",
       "2005-03-15 19:00:00  18.0          36.0        0.7345\n",
       "2005-03-15 20:00:00  16.4          41.9        0.7759\n",
       "2005-03-15 21:00:00  14.9          47.6        0.8003\n",
       "2005-03-15 22:00:00  13.8          49.6        0.7793\n",
       "2005-03-15 23:00:00  13.2          51.6        0.7765"
      ]
     },
     "execution_count": 106,
     "metadata": {},
     "output_type": "execute_result"
    }
   ],
   "source": [
    "dfTemp = pd.read_csv('data/air_quality.csv')\n",
    "dfTemp = (\n",
    "    dfTemp\n",
    "    .to_datetime('time')\n",
    "    .select_columns(['time', 'temp', '*humidity'])\n",
    "    .set_index('time')\n",
    "    .asfreq('h')\n",
    "    .rename_axis(index=None)\n",
    "    .loc['2005-01-15': '2005-03-15']\n",
    ")\n",
    "dfTemp.tail()"
   ]
  },
  {
   "cell_type": "code",
   "execution_count": 90,
   "id": "61467735-489b-4a50-8862-263f6cf010f1",
   "metadata": {},
   "outputs": [],
   "source": [
    "nForecast = 24\n",
    "\n",
    "x = dfTemp.select_columns('*humidity')\n",
    "x.index = x.index.shift(nForecast) # 16/01 to 16/03\n",
    "xTrain = x[:-nForecast] # 16/01 to 15/03\n",
    "xQuery = x[-nForecast:] # 16/03\n",
    "\n",
    "y = dfTemp.select_columns('temp')\n",
    "yTrain = y[nForecast:] # 16/01 to 15/03"
   ]
  },
  {
   "cell_type": "code",
   "execution_count": 92,
   "id": "25ee4f0f-b13a-455a-91ba-8da54c8f6858",
   "metadata": {},
   "outputs": [
    {
     "data": {
      "text/html": [
       "<style>#sk-container-id-3 {color: black;background-color: white;}#sk-container-id-3 pre{padding: 0;}#sk-container-id-3 div.sk-toggleable {background-color: white;}#sk-container-id-3 label.sk-toggleable__label {cursor: pointer;display: block;width: 100%;margin-bottom: 0;padding: 0.3em;box-sizing: border-box;text-align: center;}#sk-container-id-3 label.sk-toggleable__label-arrow:before {content: \"▸\";float: left;margin-right: 0.25em;color: #696969;}#sk-container-id-3 label.sk-toggleable__label-arrow:hover:before {color: black;}#sk-container-id-3 div.sk-estimator:hover label.sk-toggleable__label-arrow:before {color: black;}#sk-container-id-3 div.sk-toggleable__content {max-height: 0;max-width: 0;overflow: hidden;text-align: left;background-color: #f0f8ff;}#sk-container-id-3 div.sk-toggleable__content pre {margin: 0.2em;color: black;border-radius: 0.25em;background-color: #f0f8ff;}#sk-container-id-3 input.sk-toggleable__control:checked~div.sk-toggleable__content {max-height: 200px;max-width: 100%;overflow: auto;}#sk-container-id-3 input.sk-toggleable__control:checked~label.sk-toggleable__label-arrow:before {content: \"▾\";}#sk-container-id-3 div.sk-estimator input.sk-toggleable__control:checked~label.sk-toggleable__label {background-color: #d4ebff;}#sk-container-id-3 div.sk-label input.sk-toggleable__control:checked~label.sk-toggleable__label {background-color: #d4ebff;}#sk-container-id-3 input.sk-hidden--visually {border: 0;clip: rect(1px 1px 1px 1px);clip: rect(1px, 1px, 1px, 1px);height: 1px;margin: -1px;overflow: hidden;padding: 0;position: absolute;width: 1px;}#sk-container-id-3 div.sk-estimator {font-family: monospace;background-color: #f0f8ff;border: 1px dotted black;border-radius: 0.25em;box-sizing: border-box;margin-bottom: 0.5em;}#sk-container-id-3 div.sk-estimator:hover {background-color: #d4ebff;}#sk-container-id-3 div.sk-parallel-item::after {content: \"\";width: 100%;border-bottom: 1px solid gray;flex-grow: 1;}#sk-container-id-3 div.sk-label:hover label.sk-toggleable__label {background-color: #d4ebff;}#sk-container-id-3 div.sk-serial::before {content: \"\";position: absolute;border-left: 1px solid gray;box-sizing: border-box;top: 0;bottom: 0;left: 50%;z-index: 0;}#sk-container-id-3 div.sk-serial {display: flex;flex-direction: column;align-items: center;background-color: white;padding-right: 0.2em;padding-left: 0.2em;position: relative;}#sk-container-id-3 div.sk-item {position: relative;z-index: 1;}#sk-container-id-3 div.sk-parallel {display: flex;align-items: stretch;justify-content: center;background-color: white;position: relative;}#sk-container-id-3 div.sk-item::before, #sk-container-id-3 div.sk-parallel-item::before {content: \"\";position: absolute;border-left: 1px solid gray;box-sizing: border-box;top: 0;bottom: 0;left: 50%;z-index: -1;}#sk-container-id-3 div.sk-parallel-item {display: flex;flex-direction: column;z-index: 1;position: relative;background-color: white;}#sk-container-id-3 div.sk-parallel-item:first-child::after {align-self: flex-end;width: 50%;}#sk-container-id-3 div.sk-parallel-item:last-child::after {align-self: flex-start;width: 50%;}#sk-container-id-3 div.sk-parallel-item:only-child::after {width: 0;}#sk-container-id-3 div.sk-dashed-wrapped {border: 1px dashed gray;margin: 0 0.4em 0.5em 0.4em;box-sizing: border-box;padding-bottom: 0.4em;background-color: white;}#sk-container-id-3 div.sk-label label {font-family: monospace;font-weight: bold;display: inline-block;line-height: 1.2em;}#sk-container-id-3 div.sk-label-container {text-align: center;}#sk-container-id-3 div.sk-container {/* jupyter's `normalize.less` sets `[hidden] { display: none; }` but bootstrap.min.css set `[hidden] { display: none !important; }` so we also need the `!important` here to be able to override the default hidden behavior on the sphinx rendered scikit-learn.org. See: https://github.com/scikit-learn/scikit-learn/issues/21755 */display: inline-block !important;position: relative;}#sk-container-id-3 div.sk-text-repr-fallback {display: none;}</style><div id=\"sk-container-id-3\" class=\"sk-top-container\"><div class=\"sk-text-repr-fallback\"><pre>AutoARIMA()</pre><b>In a Jupyter environment, please rerun this cell to show the HTML representation or trust the notebook. <br />On GitHub, the HTML representation is unable to render, please try loading this page with nbviewer.org.</b></div><div class=\"sk-container\" hidden><div class=\"sk-item\"><div class=\"sk-estimator sk-toggleable\"><input class=\"sk-toggleable__control sk-hidden--visually\" id=\"sk-estimator-id-3\" type=\"checkbox\" checked><label for=\"sk-estimator-id-3\" class=\"sk-toggleable__label sk-toggleable__label-arrow\">AutoARIMA</label><div class=\"sk-toggleable__content\"><pre>AutoARIMA()</pre></div></div></div></div></div>"
      ],
      "text/plain": [
       "AutoARIMA()"
      ]
     },
     "execution_count": 92,
     "metadata": {},
     "output_type": "execute_result"
    }
   ],
   "source": [
    "model = AutoARIMA()\n",
    "model.fit(yTrain, xTrain)"
   ]
  },
  {
   "cell_type": "code",
   "execution_count": 104,
   "id": "472f3d29-6f75-4e00-8c7f-82b8fcc1179a",
   "metadata": {
    "tags": []
   },
   "outputs": [
    {
     "data": {
      "text/html": [
       "<div>\n",
       "<style scoped>\n",
       "    .dataframe tbody tr th:only-of-type {\n",
       "        vertical-align: middle;\n",
       "    }\n",
       "\n",
       "    .dataframe tbody tr th {\n",
       "        vertical-align: top;\n",
       "    }\n",
       "\n",
       "    .dataframe thead th {\n",
       "        text-align: right;\n",
       "    }\n",
       "</style>\n",
       "<table border=\"1\" class=\"dataframe\">\n",
       "  <thead>\n",
       "    <tr style=\"text-align: right;\">\n",
       "      <th></th>\n",
       "      <th>temp</th>\n",
       "    </tr>\n",
       "  </thead>\n",
       "  <tbody>\n",
       "    <tr>\n",
       "      <th>2005-03-16 00:00:00</th>\n",
       "      <td>12.424923</td>\n",
       "    </tr>\n",
       "    <tr>\n",
       "      <th>2005-03-16 01:00:00</th>\n",
       "      <td>12.301092</td>\n",
       "    </tr>\n",
       "    <tr>\n",
       "      <th>2005-03-16 02:00:00</th>\n",
       "      <td>11.337493</td>\n",
       "    </tr>\n",
       "    <tr>\n",
       "      <th>2005-03-16 21:00:00</th>\n",
       "      <td>6.075261</td>\n",
       "    </tr>\n",
       "    <tr>\n",
       "      <th>2005-03-16 22:00:00</th>\n",
       "      <td>5.596284</td>\n",
       "    </tr>\n",
       "    <tr>\n",
       "      <th>2005-03-16 23:00:00</th>\n",
       "      <td>5.127052</td>\n",
       "    </tr>\n",
       "  </tbody>\n",
       "</table>\n",
       "</div>"
      ],
      "text/plain": [
       "                          temp\n",
       "2005-03-16 00:00:00  12.424923\n",
       "2005-03-16 01:00:00  12.301092\n",
       "2005-03-16 02:00:00  11.337493\n",
       "2005-03-16 21:00:00   6.075261\n",
       "2005-03-16 22:00:00   5.596284\n",
       "2005-03-16 23:00:00   5.127052"
      ]
     },
     "execution_count": 104,
     "metadata": {},
     "output_type": "execute_result"
    }
   ],
   "source": [
    "fh = np.arange(1, nForecast+1)\n",
    "yPred = model.predict(fh, xQuery)\n",
    "yPred.iloc[[0,1,2,-3,-2,-1]]"
   ]
  },
  {
   "cell_type": "markdown",
   "id": "f544ff36-f744-4bad-a01b-ef6d7cd0182a",
   "metadata": {
    "execution": {
     "iopub.execute_input": "2022-10-02T13:18:08.813459Z",
     "iopub.status.busy": "2022-10-02T13:18:08.811212Z",
     "iopub.status.idle": "2022-10-02T13:18:08.827656Z",
     "shell.execute_reply": "2022-10-02T13:18:08.826280Z",
     "shell.execute_reply.started": "2022-10-02T13:18:08.813388Z"
    },
    "tags": []
   },
   "source": [
    "# 2. Forecasting validation"
   ]
  },
  {
   "cell_type": "markdown",
   "id": "1493928e-3386-49d7-974c-f1199931356d",
   "metadata": {},
   "source": [
    "## 2.1. Scoring metrics\n",
    "Sktime supports a lot of [performance metrics] for time series forecasting. To better understand all of them, let's first break down each metric into three parts: *error* function, *squared* flag and *aggregation* strategy. We illustrate the break down process using a familiar metric, mean squared error.\n",
    "- The type of error refers to how error is calculated for each observation. This is the centre of the metric and will be discussed later. In the case of MSE, the error is simply the difference between the true and forecasting values.\n",
    "- Errors calculated in any way can be positive or negative, so they can eliminate each other. We can either take the *absolute* value or *squared* value to make the errors always positive. The choice of square function penalizes large errors.\n",
    "- Two above functions give us the error for each observation, so we need a function to aggregate the result for the entire target variable. Most popular options are (arithmetic) *mean* and *median*, but people also use *geometric mean*.\n",
    "\n",
    "[performance metrics]: https://www.sktime.org/en/stable/api_reference/performance_metrics.html"
   ]
  },
  {
   "cell_type": "markdown",
   "id": "a31fc847-f3d9-41d7-af51-e11fa030a3f1",
   "metadata": {},
   "source": [
    "### Baseline forecasters\n",
    "Many evaluation metrics for time series forecasting involve a [baseline model] (also known as benchmark model) in its calculation. The reason is very simple: because these baseline forecasters really make sense. Sktime implements all three strategies via the class\n",
    "<code style='font-size:13px'><a href=https://www.sktime.org/en/stable/api_reference/auto_generated/sktime.forecasting.naive.NaiveForecaster.html>NaiveForecaster</a></code>.\n",
    "\n",
    "- *Average model*: the forecast for all future values are equal to the average of observed values:\n",
    "\n",
    "$$\\hat{y}_t=\\frac{y_1+y_2+\\ldots+y_T}{T}$$\n",
    "\n",
    "- *Drift model*: we draw a line from the first to the last observed point, then extrapolate it into the future:\n",
    "\n",
    "$$\\hat{y}_t=y_1+t\\left(\\frac{y_T-y_1}{T-1}\\right)$$\n",
    "\n",
    "- *Naive model*: we take the last observed value of the same season (time step $t-m$, with $m$ the seasonal period) as the forecast at a time step. If data has no seasonality then $m=1$. The formulation is:\n",
    "\n",
    "$$\\hat{y}_t=y_{t-m} $$\n",
    "\n",
    "[baseline model]: https://en.wikipedia.org/wiki/Forecasting#Categories_of_forecasting_methods"
   ]
  },
  {
   "cell_type": "markdown",
   "id": "ddce3e0d-afb6-4832-8f7e-542f552fc36f",
   "metadata": {},
   "source": [
    "### Difference error\n",
    "$$e_t=y_t-\\hat{y}_t$$\n",
    "\n",
    "Two popular metrics of this type are [MSE] and [MAE], also have been seen in evaluating regression problems. These two metrics are scale-dependent, so that they can express in the same unit as the time series. Scale-dependence is also a disadvantage, as we cannot use these metrics to decide if a model is good enough, since its range is $(0,\\infty)$.\n",
    "\n",
    "An approach to solve this is to take the ratio between the metric of our Machine Learning model (like $\\text{MSE}$) and the metric of a naive baseline forecaster ($\\text{MSE}^*$). This metric is called *Relative Loss*, computed as:\n",
    "\n",
    "$$\\text{RelativeMSE}=\\frac{\\text{MSE}}{\\text{MSE}^*} $$\n",
    "\n",
    "[MSE]: https://en.wikipedia.org/wiki/Mean_squared_error\n",
    "[MAE]: https://en.wikipedia.org/wiki/Mean_absolute_error"
   ]
  },
  {
   "cell_type": "markdown",
   "id": "ef261cb7-cfd4-4de3-87ae-d54185b766a0",
   "metadata": {},
   "source": [
    "### Percentage error\n",
    "$$e_t=\\frac{y_t-\\hat{y}_t}{y_t}$$\n",
    "\n",
    "[MAPE] is the most popular metric for this type of error. It is *scale-independent* and *high-interpretable*, so it can be considered the standard metric for forecasting tasks. However, percentage error suffers from many known issues:\n",
    "- It cannot be used when $y_t=0$ and tends towards infinity when $y_t\\approx0$.\n",
    "- It is meaningless for data in [interval scale] (for example, temperatures), in which the ratio is not defined.\n",
    "- An controversial issue that percentage error is said to have, is its asymmetry. The symmetric counterpart is given by:\n",
    "\n",
    "$$e_t=\\frac{2(y_t-\\hat{y}_t)}{|y_t|+|\\hat{y}_t|} $$\n",
    "\n",
    "In this formula, the nominator is multiplied by $2$ as a compensation for larger denominator. The symmetric variant of MAPE is called [sMAPE]. When we switch the position of $y_t$ and $\\hat{y}_t$, sMAPE does not change like MAPE. We can see their behaviors in action:\n",
    "\n",
    "|Actual|Forecast|Difference|MAPE|sMAPE|\n",
    "|:-:|:-:|:-:|:-:|:-:|\n",
    "|100|80|20|20%|22%|\n",
    "|80|100|-20|25%|22%|\n",
    "\n",
    "However, the above case is not quite a problem of MAPE because we would never compare values that way. In fact, sMAPE symmetrizes one case but makes another case asymmetric:\n",
    "\n",
    "|Actual|Forecast|Difference|MAPE|sMAPE|\n",
    "|:-:|:-:|:-:|:-:|:-:|\n",
    "|100|80|20|20%|22%|\n",
    "|100|120|-20|20%|18%|\n",
    "\n",
    "The later case, in the other hand, shows a critical issue of sMAPE: it penalizes forecasts that are lower than ground truth. So that it's likely to encourages higher forecasts and can lead to biases. Overall, MAPE is still the better metric in my opinion.\n",
    "\n",
    "[MAPE]: https://en.wikipedia.org/wiki/Mean_absolute_percentage_error\n",
    "[sMAPE]: https://en.wikipedia.org/wiki/Symmetric_mean_absolute_percentage_error\n",
    "[interval scale]: https://en.wikipedia.org/wiki/Level_of_measurement#Interval_scale"
   ]
  },
  {
   "cell_type": "markdown",
   "id": "6365e106-3f06-4760-a1c5-f772a4a63a0e",
   "metadata": {},
   "source": [
    "### Relative error\n",
    "$$e_t=\\frac{y_t-\\hat{y}_t}{y_t-\\hat{y}_t^*} $$\n",
    "\n",
    "As the name states, this metric expresses the relative error between our forecaster and a benchmark model. Due to the scale-free property, it is recommended to take the absolute value of relative error rather than squared value. In addition, geometric mean and median is prefered to arithmetic mean, making GMRAE and MdRAE two most popular metrics using this type of error."
   ]
  },
  {
   "cell_type": "markdown",
   "id": "e3758400-eee3-43e2-ad9f-8db494384bb3",
   "metadata": {},
   "source": [
    "### Scaled error\n",
    "$$e_t=\\frac{y_t-\\hat{y}_t}{\\text{MAE}^*}$$\n",
    "\n",
    "This is another error type makes use of a benchmark model. Specifically, it computes $\\text{MAE}^*$ on the naive forecaster (forecast using last observed value, or using value of the same season in the last period). The most common metric of this type, [MASE], a along with MAPE are considered the best metrics for forecasting problems. MASE has the following desired properties:\n",
    "- It is scale-free, so can be used for different data with different scales\n",
    "- It is symmetric, covers both cases that either MAPE or sMAPE suffers from\n",
    "- It is stable when $y_t\\approx0$\n",
    "- It is easy to interpret\n",
    "\n",
    "[MASE]: https://en.wikipedia.org/wiki/Mean_absolute_scaled_error"
   ]
  },
  {
   "cell_type": "markdown",
   "id": "e1acedee-d9d1-49e4-93c6-dcf79217e231",
   "metadata": {},
   "source": [
    "### Implementation\n",
    "Sktime provides two APIs to compute metrics, function interface and class interface. There are some notes when implementing evaluation metrics in Sktime:\n",
    "- For metrics with different variants and settings (such as sMAPE, RMSE and RelMSE), it is recommended to use the class interface. Otherwise, the function interface will be more convenient.\n",
    "- Metrics using *relative error* (such as MdRAE and GMRAE) require the forecasted values of the baseline model to be provided via the parameter\n",
    "<code style='font-size:13px'>y_pred_benchmark</code>.\n",
    "This could make the forecasting solution more complicated.\n",
    "- Metrics using *scaled error* (such as MASE) require the training values to be provided via the parameter\n",
    "<code style='font-size:13px'>y_train</code>.\n",
    "Same as the case of relative error, this behaviour can make the validation phase more complicated."
   ]
  },
  {
   "cell_type": "code",
   "execution_count": null,
   "id": "39c943c8-9d43-4aa4-8c3a-681ced27257e",
   "metadata": {},
   "outputs": [],
   "source": [
    "from sktime.performance_metrics.forecasting import (\n",
    "    mean_absolute_error as MAE,\n",
    "    mean_squared_error as MSE,\n",
    "    mean_absolute_percentage_error as MAPE,\n",
    "    median_absolute_percentage_error as MdAPE,\n",
    "    median_relative_absolute_error as MdRAE,\n",
    "    geometric_mean_relative_absolute_error as GMRAE,\n",
    "    mean_absolute_scaled_error as MASE,\n",
    "    \n",
    "    RelativeLoss,\n",
    "    MeanSquaredError,\n",
    "    MeanAbsolutePercentageError,\n",
    ")\n",
    "\n",
    "MSE = MeanSquaredError()\n",
    "RMSE = MeanSquaredError(square_root=True)\n",
    "MAPE = MeanAbsolutePercentageError()\n",
    "sMAPE = MeanAbsolutePercentageError(symmetric=True)\n",
    "RelMSE = RelativeLoss(relative_loss_function=MSE)\n",
    "\n",
    "RelMSE.greater_is_better"
   ]
  },
  {
   "cell_type": "markdown",
   "id": "9d622f26-14cd-440b-a15f-8701546dbf3b",
   "metadata": {},
   "source": [
    "## 2.2. Backtesting\n",
    "[Backtesting](https://en.wikipedia.org/wiki/Backtesting) is the validation strategy dedicated for time series forecasting. The idea is to go back to the past, try different forecasters to decide which one best fits to our data. Backtesting can be either holdout validation or cross validation, but holdout validation is significantly biased for time series becasue data changes over time, so we highly recommend using cross validation."
   ]
  },
  {
   "cell_type": "code",
   "execution_count": null,
   "id": "13c285d9-7e11-49ac-aac8-c49fe5de4be4",
   "metadata": {
    "tags": []
   },
   "outputs": [],
   "source": [
    "from sspipe import p, px\n",
    "import numpy as np\n",
    "import pandas as pd\n",
    "import janitor\n",
    "import sktime\n",
    "from sktime.forecasting.compose import make_reduction\n",
    "from sktime.forecasting.model_selection import CutoffSplitter, SlidingWindowSplitter, ExpandingWindowSplitter\n",
    "from sktime.forecasting.model_selection import ForecastingGridSearchCV, ForecastingRandomizedSearchCV\n",
    "from sktime.forecasting.model_selection import temporal_train_test_split\n",
    "from sktime.forecasting.model_evaluation import evaluate\n",
    "\n",
    "import warnings; warnings.filterwarnings('ignore')\n",
    "\n",
    "import matplotlib.pyplot as plt\n",
    "import seaborn as sns\n",
    "plt.style.use(['seaborn', 'seaborn-whitegrid'])\n",
    "%config InlineBackend.figure_format = 'retina'"
   ]
  },
  {
   "cell_type": "code",
   "execution_count": null,
   "id": "0402c8a6-9715-4a3f-89b6-a8aa11baad92",
   "metadata": {
    "tags": []
   },
   "outputs": [],
   "source": [
    "dfTemp = pd.read_csv('data/air_quality.csv')\n",
    "dfTemp = (\n",
    "    dfTemp\n",
    "    .to_datetime('time')\n",
    "    .select_columns(['time', 'temp'])\n",
    "    .set_index('time')\n",
    "    .asfreq('h')\n",
    ")\n",
    "dfTemp.tail()"
   ]
  },
  {
   "cell_type": "markdown",
   "id": "079f1fac-0c27-48e2-b6ff-e801e048db66",
   "metadata": {},
   "source": [
    "### Cross validation\n",
    "Currently, Sktime supports three splitting strategies for rolling backtesting:\n",
    "- <code style='font-size:13px'><a href=https://www.sktime.org/en/stable/api_reference/auto_generated/sktime.forecasting.model_selection.CutoffSplitter.html>CutoffSplitter</a></code>\n",
    "splits the time series at provided cutoff points with a fixed training window length.\n",
    "- <code style='font-size:13px'><a href=https://www.sktime.org/en/stable/api_reference/auto_generated/sktime.forecasting.model_selection.SlidingWindowSplitter.html>SlidingWindowSplitter</a></code>\n",
    "is very much like cutoff splitter, but it uses all possible cutoffs rather than requires users to explicitly specify the locations. Visually, we can think about this strategy as *sliding* the observed window incrementally. There can be a large number of splits returned by this strategy, we can easily reduce it by setting a high sliding velocity.\n",
    "- <code style='font-size:13px'><a href=https://www.sktime.org/en/stable/api_reference/auto_generated/sktime.forecasting.model_selection.ExpandingWindowSplitter.html>ExpandingWindowSplitter</a></code>\n",
    "is like sliding window strategy, but the origin of the training window is fixed rather than its length. So, the training window is more likely of *expanding* rather than *sliding*, thus the name of the strategy."
   ]
  },
  {
   "cell_type": "code",
   "execution_count": null,
   "id": "2d469244-d814-4792-8ace-fd0f6081d821",
   "metadata": {},
   "outputs": [],
   "source": [
    "def printSplitIndex(splitter, limit=5):\n",
    "    splitter = list(splitter)[:limit]\n",
    "    for i, split in enumerate(splitter):\n",
    "        trainStart, trainEnd = split[0][[0,-1]]\n",
    "        validStart, validEnd = split[1][[0,-1]]\n",
    "        print(\n",
    "            f'Split #{i+1}' ': '\n",
    "            f'train [{trainStart}, {trainEnd}]' ', '\n",
    "            f'valid [{validStart}, {validEnd}]'\n",
    "        )"
   ]
  },
  {
   "cell_type": "code",
   "execution_count": null,
   "id": "b4e965e8-b787-4bc1-894c-4da6bcd8abf9",
   "metadata": {},
   "outputs": [],
   "source": [
    "splitter = CutoffSplitter(fh=[1,2,3], window_length=10, cutoffs=np.array([100,200]))\n",
    "splitter.split(dfTemp) | p(list) | p(printSplitIndex)"
   ]
  },
  {
   "cell_type": "code",
   "execution_count": null,
   "id": "065885a6-00db-41f4-b86d-ca858f2ede2a",
   "metadata": {},
   "outputs": [],
   "source": [
    "splitter = SlidingWindowSplitter(fh=[1,2,3,4,5], window_length=10, initial_window=100, step_length=50)\n",
    "splitter.split(dfTemp) | p(list) | p(printSplitIndex)"
   ]
  },
  {
   "cell_type": "code",
   "execution_count": null,
   "id": "a2f4256a-e1bf-4c9d-bafe-6c329f1c6402",
   "metadata": {},
   "outputs": [],
   "source": [
    "splitter = ExpandingWindowSplitter(fh=[1,2,3,4,5], initial_window=100, step_length=50)\n",
    "splitter.split(dfTemp) | p(list) | p(printSplitIndex)"
   ]
  },
  {
   "cell_type": "markdown",
   "id": "488f8768-931e-4163-a2e0-d79ec1c354f7",
   "metadata": {},
   "source": [
    "### Hyperparameter tuning\n",
    "Like in Scikit-learn, Sktime provides two convinient classes that combine hyperparameter tuning with cross validation, \n",
    "<code style='font-size:13px'><a href=https://www.sktime.org/en/stable/api_reference/auto_generated/sktime.forecasting.model_selection.ForecastingRandomizedSearchCV.html>ForecastingRandomizedSearchCV</a></code> and\n",
    "<code style='font-size:13px'><a href=https://www.sktime.org/en/stable/api_reference/auto_generated/sktime.forecasting.model_selection.ForecastingGridSearchCV.html>ForecastingGridSearchCV</a></code>.\n",
    "When implementing, there are two points to notice:\n",
    "- Before performing validation splitting, we need to define a test set first. This is supported in Sktime using\n",
    "<code style='font-size:13px'><a href=https://www.sktime.org/en/stable/api_reference/auto_generated/sktime.forecasting.model_selection.temporal_train_test_split.html>temporal_train_test_split()</a></code>, a wrapper function of Sklearn's counterpart without shuffling.\n",
    "- As time series data will be quickly outdated, it is necessary to perform either refitting (more accurate) or updating (faster) after each time moving to a new training window. Implemented in both validators via the paramter <code style='font-size:13px'>strategy</code>."
   ]
  },
  {
   "cell_type": "code",
   "execution_count": null,
   "id": "40d2ebbd-c0bb-4f3d-8f9e-568135264a30",
   "metadata": {},
   "outputs": [],
   "source": []
  },
  {
   "cell_type": "code",
   "execution_count": null,
   "id": "86b454d5-523e-4bbf-b087-c830bf33927b",
   "metadata": {},
   "outputs": [],
   "source": []
  },
  {
   "cell_type": "code",
   "execution_count": null,
   "id": "e13d33c2-ad94-4046-be0a-c48183ea955b",
   "metadata": {},
   "outputs": [],
   "source": []
  },
  {
   "cell_type": "code",
   "execution_count": null,
   "id": "25cc2ed8-0079-400c-978d-aa750581bcb7",
   "metadata": {},
   "outputs": [],
   "source": [
    "yTrain, yTest = temporal_train_test_split(dfTemp, fh=[1,2,3])"
   ]
  },
  {
   "cell_type": "markdown",
   "id": "4f8f7b2e-8794-4e25-95a8-b8a466bab285",
   "metadata": {},
   "source": [
    "is a special type of cross-validation which involves moving backward in time step-by-step. Function <code style='font-size:13px'><a href='https://joaquinamatrodrigo.github.io/skforecast/0.5.0/api/model_selection.html#skforecast.model_selection.model_selection.backtesting_forecaster'>backtesting_forecaster</a></code> wrapped 3 types of backtest through 2 params  `fixed_train_size` and `refit`:\n",
    "- Backtesting with refit and increasing training size (fixed origin): The model is trained each time before making predictions, the test size is fixed and the training set increases sequentially. \n",
    "- Backtesting with refit and fixed training size (rolling origin): Both the training and testing set rolls forward, therefore, the size of training remains constant. \n",
    "- Backtesting without refit: The model is trained only once and not updating sequentially.Thus, this strategy has the advantage of being much faster. However, the model does not incorporate the latest information available, so it may lose predictive capacity over time."
   ]
  },
  {
   "cell_type": "markdown",
   "id": "03fd91ff-4f5a-49d5-b9e5-66433d39279d",
   "metadata": {},
   "source": [
    "## 2.3. Hyperparameter tuning"
   ]
  },
  {
   "cell_type": "markdown",
   "id": "3f17021e-5d28-43e3-b06e-c0185bd489e4",
   "metadata": {},
   "source": [
    "### Grid search  \n",
    "\n",
    "[GridSearch](https://joaquinamatrodrigo.github.io/skforecast/0.5.0/api/model_selection.html#skforecast.model_selection.model_selection.grid_search_forecaster) and [RandomSearch](https://joaquinamatrodrigo.github.io/skforecast/0.5.0/api/model_selection.html#skforecast.model_selection.model_selection.random_search_forecaster) has similar syntax"
   ]
  },
  {
   "cell_type": "markdown",
   "id": "7afe07cf-f698-4dc0-bf78-324194e8d93b",
   "metadata": {},
   "source": [
    "### Bayesian search \n",
    "\n",
    "<code style='font-size:13px'><a href='https://joaquinamatrodrigo.github.io/skforecast/0.5.0/api/model_selection.html#skforecast.model_selection.model_selection.bayesian_search_forecaster'>bayesian_search_forecaster</a></code> supports *optuna* and *skpot* engine\n"
   ]
  },
  {
   "cell_type": "markdown",
   "id": "e2cde8d8-3ce8-446f-b739-f12fc4235289",
   "metadata": {},
   "source": [
    "# References\n",
    "- *sktime.org - [Forecasting with Sktime](https://nbviewer.org/github/sktime/sktime/blob/4194aacaa105ef59807ea56c1bb3497b37eb1613/examples/01_forecasting.ipynb)*\n",
    "- *typethepipe.com - [Symmetric MAPE is not symmetric](https://typethepipe.com/post/symmetric-mape-is-not-symmetric/)*\n",
    "- https://nbviewer.org/github/sktime/sktime/blob/4194aacaa105ef59807ea56c1bb3497b37eb1613/examples/01_forecasting.ipynb\n",
    "- https://sites.google.com/site/nttrungmtwiki/home/it/data-mining/time-series-analysis/time-series-forecasting-performance-metrics-comparison\n",
    "- https://www.sktime.org/en/stable/api_reference/performance_metrics.html\n",
    "- https://towardsdatascience.com/time-series-forecast-error-metrics-you-should-know-cc88b8c67f27\n",
    "- https://www.relexsolutions.com/resources/measuring-forecast-accuracy/\n",
    "- https://www.sktime.org/en/stable/api_reference/auto_generated/sktime.performance_metrics.forecasting.mean_absolute_percentage_error.html\n",
    "- https://www.sktime.org/en/stable/api_reference/auto_generated/sktime.performance_metrics.forecasting.mean_absolute_scaled_error.html#\n",
    "- https://arxiv.org/pdf/1909.07872.pdf\n",
    "- https://arxiv.org/pdf/2005.08067.pdf"
   ]
  },
  {
   "cell_type": "markdown",
   "id": "4c4b9918-8737-44a0-a2e6-578b9fd413a1",
   "metadata": {},
   "source": [
    "---\n",
    "*&#9829; By Quang Hung x Thuy Linh &#9829;*"
   ]
  }
 ],
 "metadata": {
  "kernelspec": {
   "display_name": "Python 3 (ipykernel)",
   "language": "python",
   "name": "python3"
  },
  "language_info": {
   "codemirror_mode": {
    "name": "ipython",
    "version": 3
   },
   "file_extension": ".py",
   "mimetype": "text/x-python",
   "name": "python",
   "nbconvert_exporter": "python",
   "pygments_lexer": "ipython3",
   "version": "3.9.7"
  }
 },
 "nbformat": 4,
 "nbformat_minor": 5
}
