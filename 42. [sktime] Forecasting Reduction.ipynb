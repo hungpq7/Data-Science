{
 "cells": [
  {
   "cell_type": "markdown",
   "id": "50d095d2-5bfd-4994-92cf-90c305c35dab",
   "metadata": {
    "tags": []
   },
   "source": [
    "# Overview\n",
    "The famous ARIMA model is basically a Linear Regression model on lags. So what if we replace naive Linear Regression with a state-of-the-art tabular learning algorithm? This is exactly what being implemented in [Sktime], known under the term *reduction*, which refers to the process of aligning the methodologies so that regression solutions can solve forecasting problems. Sktime accepts any regression algorithm that uses Scikit-learn interface, which is a big advantage.\n",
    "\n",
    "Another pain point in forecasting tasks is that different Python packages such as Statsmodels and Prophet use different fit and predict syntaxes. Sktime serves the role of an unified framework that wraps popular forecasting models such as ARIMA, Holt-Winters and Prophet so that Data Scientists can try different models with ease.\n",
    "\n",
    "Last but not least, Sktime supports forecasting validation with backtesting and a wide range of metrics.\n",
    "\n",
    "[Sktime]: https://www.sktime.org/en/stable/index.html"
   ]
  },
  {
   "cell_type": "markdown",
   "id": "e6f066a2-c35c-47dd-b5b5-b621d514acaf",
   "metadata": {},
   "source": [
    "# 1. Forecasting interface"
   ]
  },
  {
   "cell_type": "markdown",
   "id": "528dbc52-8deb-4554-9aa8-70d3732fa97f",
   "metadata": {},
   "source": [
    "## 1.1. Univariate reduction\n",
    "In order to reduce a forecasting problem to a regression problem, we need to re-arrange the time series into a table so that itself ($y_t$) becomes the label and its lags ($y_{t-1},y_{t-2},\\dots$) become the features. There are three approaches to make prediction to multiple future time steps: recursive reduction, direct reduction and a hybrid between them, implemented in a single function,\n",
    "<code style='font-size:13px'><a href='https://www.sktime.org/en/stable/api_reference/auto_generated/sktime.forecasting.compose.make_reduction.html'>make_reduction()</a></code>."
   ]
  },
  {
   "cell_type": "code",
   "execution_count": 2,
   "id": "77c33258-730e-42c3-886c-a368f5d3e9ad",
   "metadata": {
    "execution": {
     "iopub.execute_input": "2022-10-31T15:30:32.205319Z",
     "iopub.status.busy": "2022-10-31T15:30:32.204722Z",
     "iopub.status.idle": "2022-10-31T15:30:32.216567Z",
     "shell.execute_reply": "2022-10-31T15:30:32.215479Z",
     "shell.execute_reply.started": "2022-10-31T15:30:32.205295Z"
    },
    "tags": []
   },
   "outputs": [],
   "source": [
    "import numpy as np\n",
    "import pandas as pd\n",
    "import janitor\n",
    "import sktime\n",
    "from sktime.forecasting.compose import make_reduction\n",
    "from xgboost import XGBRegressor\n",
    "from lightgbm import LGBMRegressor\n",
    "from catboost import CatBoostRegressor\n",
    "from sklearn.tree import DecisionTreeRegressor\n",
    "import warnings; warnings.filterwarnings('ignore')\n",
    "\n",
    "import matplotlib.pyplot as plt\n",
    "import seaborn as sns\n",
    "plt.style.use(['seaborn', 'seaborn-whitegrid'])\n",
    "%config InlineBackend.figure_format = 'retina'"
   ]
  },
  {
   "cell_type": "code",
   "execution_count": 2,
   "id": "d00afef5-b9a5-4b56-8220-406650111a44",
   "metadata": {
    "tags": []
   },
   "outputs": [
    {
     "data": {
      "text/html": [
       "<div>\n",
       "<style scoped>\n",
       "    .dataframe tbody tr th:only-of-type {\n",
       "        vertical-align: middle;\n",
       "    }\n",
       "\n",
       "    .dataframe tbody tr th {\n",
       "        vertical-align: top;\n",
       "    }\n",
       "\n",
       "    .dataframe thead th {\n",
       "        text-align: right;\n",
       "    }\n",
       "</style>\n",
       "<table border=\"1\" class=\"dataframe\">\n",
       "  <thead>\n",
       "    <tr style=\"text-align: right;\">\n",
       "      <th></th>\n",
       "      <th>time</th>\n",
       "      <th>temp</th>\n",
       "    </tr>\n",
       "  </thead>\n",
       "  <tbody>\n",
       "    <tr>\n",
       "      <th>9352</th>\n",
       "      <td>2005-04-04 10:00:00</td>\n",
       "      <td>21.9</td>\n",
       "    </tr>\n",
       "    <tr>\n",
       "      <th>9353</th>\n",
       "      <td>2005-04-04 11:00:00</td>\n",
       "      <td>24.3</td>\n",
       "    </tr>\n",
       "    <tr>\n",
       "      <th>9354</th>\n",
       "      <td>2005-04-04 12:00:00</td>\n",
       "      <td>26.9</td>\n",
       "    </tr>\n",
       "    <tr>\n",
       "      <th>9355</th>\n",
       "      <td>2005-04-04 13:00:00</td>\n",
       "      <td>28.3</td>\n",
       "    </tr>\n",
       "    <tr>\n",
       "      <th>9356</th>\n",
       "      <td>2005-04-04 14:00:00</td>\n",
       "      <td>28.5</td>\n",
       "    </tr>\n",
       "  </tbody>\n",
       "</table>\n",
       "</div>"
      ],
      "text/plain": [
       "                    time  temp\n",
       "9352 2005-04-04 10:00:00  21.9\n",
       "9353 2005-04-04 11:00:00  24.3\n",
       "9354 2005-04-04 12:00:00  26.9\n",
       "9355 2005-04-04 13:00:00  28.3\n",
       "9356 2005-04-04 14:00:00  28.5"
      ]
     },
     "metadata": {},
     "output_type": "display_data"
    }
   ],
   "source": [
    "dfTemp = pd.read_csv('data/air_quality.csv')\n",
    "dfTemp = (\n",
    "    dfTemp\n",
    "    .to_datetime('time')\n",
    "    .select_columns(['time', 'temp'])\n",
    "    .also(lambda df: display(df.tail()))\n",
    "    .set_index('time')\n",
    "    .asfreq('h')\n",
    "    # .to_period('h')\n",
    ")"
   ]
  },
  {
   "cell_type": "markdown",
   "id": "9907ca47-0c7b-492b-9396-0fabc5bc1b14",
   "metadata": {},
   "source": [
    "### Recursive strategy\n",
    "This is the strategy used in traditional models such as ARIMA and ETS, it trains a model $f:y_{t-1},y_{t-2},\\ldots\\mapsto y_t$. Denote the last observed value $y_T$, the model first predicts $\\hat{y}_{T+1|T}$, then appends it to the original series to predict $\\hat{y}_{T+2|T+1}$. This behaviour is repeated until all future time steps have been forecasted. This strategy has a significant weakness, is that it accumulates error each time it makes prediction to a new time step. Hence, requesting forecasts for a large horizon using this strategy is not a good idea, as it can saturate/converge and is no longer accurate.\n",
    "\n",
    "<img src='image/forecast_reduction_recursive.png' style='height:300px; margin:20px auto 20px;'>"
   ]
  },
  {
   "cell_type": "code",
   "execution_count": 6,
   "id": "3ffe5f02-96b2-4c09-9cd2-de724b38b01c",
   "metadata": {
    "tags": []
   },
   "outputs": [
    {
     "data": {
      "text/html": [
       "<style>#sk-container-id-2 {color: black;background-color: white;}#sk-container-id-2 pre{padding: 0;}#sk-container-id-2 div.sk-toggleable {background-color: white;}#sk-container-id-2 label.sk-toggleable__label {cursor: pointer;display: block;width: 100%;margin-bottom: 0;padding: 0.3em;box-sizing: border-box;text-align: center;}#sk-container-id-2 label.sk-toggleable__label-arrow:before {content: \"▸\";float: left;margin-right: 0.25em;color: #696969;}#sk-container-id-2 label.sk-toggleable__label-arrow:hover:before {color: black;}#sk-container-id-2 div.sk-estimator:hover label.sk-toggleable__label-arrow:before {color: black;}#sk-container-id-2 div.sk-toggleable__content {max-height: 0;max-width: 0;overflow: hidden;text-align: left;background-color: #f0f8ff;}#sk-container-id-2 div.sk-toggleable__content pre {margin: 0.2em;color: black;border-radius: 0.25em;background-color: #f0f8ff;}#sk-container-id-2 input.sk-toggleable__control:checked~div.sk-toggleable__content {max-height: 200px;max-width: 100%;overflow: auto;}#sk-container-id-2 input.sk-toggleable__control:checked~label.sk-toggleable__label-arrow:before {content: \"▾\";}#sk-container-id-2 div.sk-estimator input.sk-toggleable__control:checked~label.sk-toggleable__label {background-color: #d4ebff;}#sk-container-id-2 div.sk-label input.sk-toggleable__control:checked~label.sk-toggleable__label {background-color: #d4ebff;}#sk-container-id-2 input.sk-hidden--visually {border: 0;clip: rect(1px 1px 1px 1px);clip: rect(1px, 1px, 1px, 1px);height: 1px;margin: -1px;overflow: hidden;padding: 0;position: absolute;width: 1px;}#sk-container-id-2 div.sk-estimator {font-family: monospace;background-color: #f0f8ff;border: 1px dotted black;border-radius: 0.25em;box-sizing: border-box;margin-bottom: 0.5em;}#sk-container-id-2 div.sk-estimator:hover {background-color: #d4ebff;}#sk-container-id-2 div.sk-parallel-item::after {content: \"\";width: 100%;border-bottom: 1px solid gray;flex-grow: 1;}#sk-container-id-2 div.sk-label:hover label.sk-toggleable__label {background-color: #d4ebff;}#sk-container-id-2 div.sk-serial::before {content: \"\";position: absolute;border-left: 1px solid gray;box-sizing: border-box;top: 0;bottom: 0;left: 50%;z-index: 0;}#sk-container-id-2 div.sk-serial {display: flex;flex-direction: column;align-items: center;background-color: white;padding-right: 0.2em;padding-left: 0.2em;position: relative;}#sk-container-id-2 div.sk-item {position: relative;z-index: 1;}#sk-container-id-2 div.sk-parallel {display: flex;align-items: stretch;justify-content: center;background-color: white;position: relative;}#sk-container-id-2 div.sk-item::before, #sk-container-id-2 div.sk-parallel-item::before {content: \"\";position: absolute;border-left: 1px solid gray;box-sizing: border-box;top: 0;bottom: 0;left: 50%;z-index: -1;}#sk-container-id-2 div.sk-parallel-item {display: flex;flex-direction: column;z-index: 1;position: relative;background-color: white;}#sk-container-id-2 div.sk-parallel-item:first-child::after {align-self: flex-end;width: 50%;}#sk-container-id-2 div.sk-parallel-item:last-child::after {align-self: flex-start;width: 50%;}#sk-container-id-2 div.sk-parallel-item:only-child::after {width: 0;}#sk-container-id-2 div.sk-dashed-wrapped {border: 1px dashed gray;margin: 0 0.4em 0.5em 0.4em;box-sizing: border-box;padding-bottom: 0.4em;background-color: white;}#sk-container-id-2 div.sk-label label {font-family: monospace;font-weight: bold;display: inline-block;line-height: 1.2em;}#sk-container-id-2 div.sk-label-container {text-align: center;}#sk-container-id-2 div.sk-container {/* jupyter's `normalize.less` sets `[hidden] { display: none; }` but bootstrap.min.css set `[hidden] { display: none !important; }` so we also need the `!important` here to be able to override the default hidden behavior on the sphinx rendered scikit-learn.org. See: https://github.com/scikit-learn/scikit-learn/issues/21755 */display: inline-block !important;position: relative;}#sk-container-id-2 div.sk-text-repr-fallback {display: none;}</style><div id=\"sk-container-id-2\" class=\"sk-top-container\"><div class=\"sk-text-repr-fallback\"><pre>RecursiveTabularRegressionForecaster(estimator=LGBMRegressor(), window_length=5)</pre><b>In a Jupyter environment, please rerun this cell to show the HTML representation or trust the notebook. <br />On GitHub, the HTML representation is unable to render, please try loading this page with nbviewer.org.</b></div><div class=\"sk-container\" hidden><div class=\"sk-item sk-dashed-wrapped\"><div class=\"sk-label-container\"><div class=\"sk-label sk-toggleable\"><input class=\"sk-toggleable__control sk-hidden--visually\" id=\"sk-estimator-id-4\" type=\"checkbox\" ><label for=\"sk-estimator-id-4\" class=\"sk-toggleable__label sk-toggleable__label-arrow\">RecursiveTabularRegressionForecaster</label><div class=\"sk-toggleable__content\"><pre>RecursiveTabularRegressionForecaster(estimator=LGBMRegressor(), window_length=5)</pre></div></div></div><div class=\"sk-parallel\"><div class=\"sk-parallel-item\"><div class=\"sk-item\"><div class=\"sk-label-container\"><div class=\"sk-label sk-toggleable\"><input class=\"sk-toggleable__control sk-hidden--visually\" id=\"sk-estimator-id-5\" type=\"checkbox\" ><label for=\"sk-estimator-id-5\" class=\"sk-toggleable__label sk-toggleable__label-arrow\">estimator: LGBMRegressor</label><div class=\"sk-toggleable__content\"><pre>LGBMRegressor()</pre></div></div></div><div class=\"sk-serial\"><div class=\"sk-item\"><div class=\"sk-estimator sk-toggleable\"><input class=\"sk-toggleable__control sk-hidden--visually\" id=\"sk-estimator-id-6\" type=\"checkbox\" ><label for=\"sk-estimator-id-6\" class=\"sk-toggleable__label sk-toggleable__label-arrow\">LGBMRegressor</label><div class=\"sk-toggleable__content\"><pre>LGBMRegressor()</pre></div></div></div></div></div></div></div></div></div></div>"
      ],
      "text/plain": [
       "RecursiveTabularRegressionForecaster(estimator=LGBMRegressor(), window_length=5)"
      ]
     },
     "execution_count": 6,
     "metadata": {},
     "output_type": "execute_result"
    }
   ],
   "source": [
    "nLags = 5\n",
    "model = make_reduction(LGBMRegressor(), window_length=nLags, strategy='recursive')\n",
    "model.fit(dfTemp)\n",
    "model"
   ]
  },
  {
   "cell_type": "code",
   "execution_count": 5,
   "id": "92f24d49-69f1-4cbd-af1f-89ac881515e1",
   "metadata": {
    "tags": []
   },
   "outputs": [
    {
     "data": {
      "text/html": [
       "<div>\n",
       "<style scoped>\n",
       "    .dataframe tbody tr th:only-of-type {\n",
       "        vertical-align: middle;\n",
       "    }\n",
       "\n",
       "    .dataframe tbody tr th {\n",
       "        vertical-align: top;\n",
       "    }\n",
       "\n",
       "    .dataframe thead th {\n",
       "        text-align: right;\n",
       "    }\n",
       "</style>\n",
       "<table border=\"1\" class=\"dataframe\">\n",
       "  <thead>\n",
       "    <tr style=\"text-align: right;\">\n",
       "      <th></th>\n",
       "      <th>temp</th>\n",
       "    </tr>\n",
       "  </thead>\n",
       "  <tbody>\n",
       "    <tr>\n",
       "      <th>2005-04-04 15:00:00</th>\n",
       "      <td>29.035542</td>\n",
       "    </tr>\n",
       "    <tr>\n",
       "      <th>2005-04-04 16:00:00</th>\n",
       "      <td>29.745802</td>\n",
       "    </tr>\n",
       "    <tr>\n",
       "      <th>2005-04-04 17:00:00</th>\n",
       "      <td>26.263584</td>\n",
       "    </tr>\n",
       "  </tbody>\n",
       "</table>\n",
       "</div>"
      ],
      "text/plain": [
       "                          temp\n",
       "2005-04-04 15:00:00  29.035542\n",
       "2005-04-04 16:00:00  29.745802\n",
       "2005-04-04 17:00:00  26.263584"
      ]
     },
     "execution_count": 5,
     "metadata": {},
     "output_type": "execute_result"
    }
   ],
   "source": [
    "model.predict(fh=[1,2,3])"
   ]
  },
  {
   "cell_type": "code",
   "execution_count": 19,
   "id": "0d96a275-6b90-4f20-a5ce-b10a8bfa13e0",
   "metadata": {
    "execution": {
     "iopub.execute_input": "2022-10-28T17:30:50.794475Z",
     "iopub.status.busy": "2022-10-28T17:30:50.794122Z",
     "iopub.status.idle": "2022-10-28T17:30:50.804380Z",
     "shell.execute_reply": "2022-10-28T17:30:50.803480Z",
     "shell.execute_reply.started": "2022-10-28T17:30:50.794450Z"
    },
    "tags": []
   },
   "outputs": [
    {
     "data": {
      "text/html": [
       "<div>\n",
       "<style scoped>\n",
       "    .dataframe tbody tr th:only-of-type {\n",
       "        vertical-align: middle;\n",
       "    }\n",
       "\n",
       "    .dataframe tbody tr th {\n",
       "        vertical-align: top;\n",
       "    }\n",
       "\n",
       "    .dataframe thead th {\n",
       "        text-align: right;\n",
       "    }\n",
       "</style>\n",
       "<table border=\"1\" class=\"dataframe\">\n",
       "  <thead>\n",
       "    <tr style=\"text-align: right;\">\n",
       "      <th></th>\n",
       "      <th>lag</th>\n",
       "      <th>importance</th>\n",
       "    </tr>\n",
       "  </thead>\n",
       "  <tbody>\n",
       "    <tr>\n",
       "      <th>2</th>\n",
       "      <td>lag3</td>\n",
       "      <td>411</td>\n",
       "    </tr>\n",
       "    <tr>\n",
       "      <th>3</th>\n",
       "      <td>lag2</td>\n",
       "      <td>437</td>\n",
       "    </tr>\n",
       "    <tr>\n",
       "      <th>1</th>\n",
       "      <td>lag4</td>\n",
       "      <td>470</td>\n",
       "    </tr>\n",
       "    <tr>\n",
       "      <th>0</th>\n",
       "      <td>lag5</td>\n",
       "      <td>735</td>\n",
       "    </tr>\n",
       "    <tr>\n",
       "      <th>4</th>\n",
       "      <td>lag1</td>\n",
       "      <td>947</td>\n",
       "    </tr>\n",
       "  </tbody>\n",
       "</table>\n",
       "</div>"
      ],
      "text/plain": [
       "    lag  importance\n",
       "2  lag3         411\n",
       "3  lag2         437\n",
       "1  lag4         470\n",
       "0  lag5         735\n",
       "4  lag1         947"
      ]
     },
     "execution_count": 19,
     "metadata": {},
     "output_type": "execute_result"
    }
   ],
   "source": [
    "pd.DataFrame({\n",
    "    'lag': [f'lag{i}' for i in range(5, 0, -1)],\n",
    "    'importance': model.estimator_.feature_importances_,\n",
    "}).sort_values('importance')"
   ]
  },
  {
   "cell_type": "code",
   "execution_count": 16,
   "id": "f86f56b6-af7f-474c-a3c2-4954fdb04362",
   "metadata": {},
   "outputs": [
    {
     "data": {
      "image/png": "[encoded data removed]",
      "text/plain": [
       "<Figure size 360x108 with 1 Axes>"
      ]
     },
     "metadata": {
      "image/png": {
       "height": 126,
       "width": 333
      }
     },
     "output_type": "display_data"
    }
   ],
   "source": [
    "nTop = 10\n",
    "\n",
    "df = pd.DataFrame({\n",
    "    'feature': [f'lag{i}' for i in range(nLags, 0, -1)],\n",
    "    'importance': model.estimator_.feature_importances_\n",
    "})\n",
    "df = df.sort_values('importance')\n",
    "df = df.query(\"importance > 0\")\n",
    "df = df.tail(nTop)\n",
    "\n",
    "fig, ax = plt.subplots(figsize=(5,1.5))\n",
    "sns.barplot(data=df, x='importance', y='feature', color='teal')\n",
    "plt.show()"
   ]
  },
  {
   "cell_type": "markdown",
   "id": "9816e03f-d0eb-449f-b7d0-2f7ebd9857e1",
   "metadata": {},
   "source": [
    "### Direct strategy\n",
    "This strategy, in the other hand, trains a separate model for each time step: $f_h:y_{t-h},y_{t-(h+1)},\\ldots\\mapsto y_t$. As the number of models need to be train equals to the length of the forecasting horizon, this method is more computationally expensive but more accurate than recursive reduction. Keep in mind that making forecast to a far time step prevents using recent lags ($y_{t-1},\\ldots,y_{t-(h-1)}$). In other the words, if $h$ is large then $f_h$ is trained on less features and thus has less prediction power. Also note that because this method is a combination of multiple models, we must specify the future horizon when fitting it to the data.\n",
    "\n",
    "<img src='image/forecast_reduction_direct.png' style='height:300px; margin:20px auto 20px;'>"
   ]
  },
  {
   "cell_type": "code",
   "execution_count": null,
   "id": "3ad19d26-1610-4580-b07a-092110c9c8ed",
   "metadata": {
    "tags": []
   },
   "outputs": [
    {
     "data": {
      "text/html": [
       "<style>#sk-container-id-3 {color: black;background-color: white;}#sk-container-id-3 pre{padding: 0;}#sk-container-id-3 div.sk-toggleable {background-color: white;}#sk-container-id-3 label.sk-toggleable__label {cursor: pointer;display: block;width: 100%;margin-bottom: 0;padding: 0.3em;box-sizing: border-box;text-align: center;}#sk-container-id-3 label.sk-toggleable__label-arrow:before {content: \"▸\";float: left;margin-right: 0.25em;color: #696969;}#sk-container-id-3 label.sk-toggleable__label-arrow:hover:before {color: black;}#sk-container-id-3 div.sk-estimator:hover label.sk-toggleable__label-arrow:before {color: black;}#sk-container-id-3 div.sk-toggleable__content {max-height: 0;max-width: 0;overflow: hidden;text-align: left;background-color: #f0f8ff;}#sk-container-id-3 div.sk-toggleable__content pre {margin: 0.2em;color: black;border-radius: 0.25em;background-color: #f0f8ff;}#sk-container-id-3 input.sk-toggleable__control:checked~div.sk-toggleable__content {max-height: 200px;max-width: 100%;overflow: auto;}#sk-container-id-3 input.sk-toggleable__control:checked~label.sk-toggleable__label-arrow:before {content: \"▾\";}#sk-container-id-3 div.sk-estimator input.sk-toggleable__control:checked~label.sk-toggleable__label {background-color: #d4ebff;}#sk-container-id-3 div.sk-label input.sk-toggleable__control:checked~label.sk-toggleable__label {background-color: #d4ebff;}#sk-container-id-3 input.sk-hidden--visually {border: 0;clip: rect(1px 1px 1px 1px);clip: rect(1px, 1px, 1px, 1px);height: 1px;margin: -1px;overflow: hidden;padding: 0;position: absolute;width: 1px;}#sk-container-id-3 div.sk-estimator {font-family: monospace;background-color: #f0f8ff;border: 1px dotted black;border-radius: 0.25em;box-sizing: border-box;margin-bottom: 0.5em;}#sk-container-id-3 div.sk-estimator:hover {background-color: #d4ebff;}#sk-container-id-3 div.sk-parallel-item::after {content: \"\";width: 100%;border-bottom: 1px solid gray;flex-grow: 1;}#sk-container-id-3 div.sk-label:hover label.sk-toggleable__label {background-color: #d4ebff;}#sk-container-id-3 div.sk-serial::before {content: \"\";position: absolute;border-left: 1px solid gray;box-sizing: border-box;top: 0;bottom: 0;left: 50%;z-index: 0;}#sk-container-id-3 div.sk-serial {display: flex;flex-direction: column;align-items: center;background-color: white;padding-right: 0.2em;padding-left: 0.2em;position: relative;}#sk-container-id-3 div.sk-item {position: relative;z-index: 1;}#sk-container-id-3 div.sk-parallel {display: flex;align-items: stretch;justify-content: center;background-color: white;position: relative;}#sk-container-id-3 div.sk-item::before, #sk-container-id-3 div.sk-parallel-item::before {content: \"\";position: absolute;border-left: 1px solid gray;box-sizing: border-box;top: 0;bottom: 0;left: 50%;z-index: -1;}#sk-container-id-3 div.sk-parallel-item {display: flex;flex-direction: column;z-index: 1;position: relative;background-color: white;}#sk-container-id-3 div.sk-parallel-item:first-child::after {align-self: flex-end;width: 50%;}#sk-container-id-3 div.sk-parallel-item:last-child::after {align-self: flex-start;width: 50%;}#sk-container-id-3 div.sk-parallel-item:only-child::after {width: 0;}#sk-container-id-3 div.sk-dashed-wrapped {border: 1px dashed gray;margin: 0 0.4em 0.5em 0.4em;box-sizing: border-box;padding-bottom: 0.4em;background-color: white;}#sk-container-id-3 div.sk-label label {font-family: monospace;font-weight: bold;display: inline-block;line-height: 1.2em;}#sk-container-id-3 div.sk-label-container {text-align: center;}#sk-container-id-3 div.sk-container {/* jupyter's `normalize.less` sets `[hidden] { display: none; }` but bootstrap.min.css set `[hidden] { display: none !important; }` so we also need the `!important` here to be able to override the default hidden behavior on the sphinx rendered scikit-learn.org. See: https://github.com/scikit-learn/scikit-learn/issues/21755 */display: inline-block !important;position: relative;}#sk-container-id-3 div.sk-text-repr-fallback {display: none;}</style><div id=\"sk-container-id-3\" class=\"sk-top-container\"><div class=\"sk-text-repr-fallback\"><pre>DirectTabularRegressionForecaster(estimator=LGBMRegressor())</pre><b>In a Jupyter environment, please rerun this cell to show the HTML representation or trust the notebook. <br />On GitHub, the HTML representation is unable to render, please try loading this page with nbviewer.org.</b></div><div class=\"sk-container\" hidden><div class=\"sk-item sk-dashed-wrapped\"><div class=\"sk-label-container\"><div class=\"sk-label sk-toggleable\"><input class=\"sk-toggleable__control sk-hidden--visually\" id=\"sk-estimator-id-7\" type=\"checkbox\" ><label for=\"sk-estimator-id-7\" class=\"sk-toggleable__label sk-toggleable__label-arrow\">DirectTabularRegressionForecaster</label><div class=\"sk-toggleable__content\"><pre>DirectTabularRegressionForecaster(estimator=LGBMRegressor())</pre></div></div></div><div class=\"sk-parallel\"><div class=\"sk-parallel-item\"><div class=\"sk-item\"><div class=\"sk-label-container\"><div class=\"sk-label sk-toggleable\"><input class=\"sk-toggleable__control sk-hidden--visually\" id=\"sk-estimator-id-8\" type=\"checkbox\" ><label for=\"sk-estimator-id-8\" class=\"sk-toggleable__label sk-toggleable__label-arrow\">estimator: LGBMRegressor</label><div class=\"sk-toggleable__content\"><pre>LGBMRegressor()</pre></div></div></div><div class=\"sk-serial\"><div class=\"sk-item\"><div class=\"sk-estimator sk-toggleable\"><input class=\"sk-toggleable__control sk-hidden--visually\" id=\"sk-estimator-id-9\" type=\"checkbox\" ><label for=\"sk-estimator-id-9\" class=\"sk-toggleable__label sk-toggleable__label-arrow\">LGBMRegressor</label><div class=\"sk-toggleable__content\"><pre>LGBMRegressor()</pre></div></div></div></div></div></div></div></div></div></div>"
      ],
      "text/plain": [
       "DirectTabularRegressionForecaster(estimator=LGBMRegressor())"
      ]
     },
     "execution_count": 17,
     "metadata": {},
     "output_type": "execute_result"
    }
   ],
   "source": [
    "nLags = 10\n",
    "model = make_reduction(LGBMRegressor(), window_length=nLags, strategy='direct', scitype='tabular-regressor')\n",
    "model.fit(dfTemp, fh=[1,2,3])\n",
    "model"
   ]
  },
  {
   "cell_type": "code",
   "execution_count": 21,
   "id": "0b7c2576-a0de-4f3a-96cb-556c83391897",
   "metadata": {
    "execution": {
     "iopub.execute_input": "2022-10-28T17:31:25.725396Z",
     "iopub.status.busy": "2022-10-28T17:31:25.722698Z",
     "iopub.status.idle": "2022-10-28T17:31:25.739734Z",
     "shell.execute_reply": "2022-10-28T17:31:25.738945Z",
     "shell.execute_reply.started": "2022-10-28T17:31:25.725351Z"
    },
    "tags": []
   },
   "outputs": [
    {
     "data": {
      "text/html": [
       "<div>\n",
       "<style scoped>\n",
       "    .dataframe tbody tr th:only-of-type {\n",
       "        vertical-align: middle;\n",
       "    }\n",
       "\n",
       "    .dataframe tbody tr th {\n",
       "        vertical-align: top;\n",
       "    }\n",
       "\n",
       "    .dataframe thead th {\n",
       "        text-align: right;\n",
       "    }\n",
       "</style>\n",
       "<table border=\"1\" class=\"dataframe\">\n",
       "  <thead>\n",
       "    <tr style=\"text-align: right;\">\n",
       "      <th></th>\n",
       "      <th>temp</th>\n",
       "    </tr>\n",
       "  </thead>\n",
       "  <tbody>\n",
       "    <tr>\n",
       "      <th>2005-04-04 15:00:00</th>\n",
       "      <td>26.332280</td>\n",
       "    </tr>\n",
       "    <tr>\n",
       "      <th>2005-04-04 16:00:00</th>\n",
       "      <td>29.458241</td>\n",
       "    </tr>\n",
       "    <tr>\n",
       "      <th>2005-04-04 17:00:00</th>\n",
       "      <td>25.562921</td>\n",
       "    </tr>\n",
       "  </tbody>\n",
       "</table>\n",
       "</div>"
      ],
      "text/plain": [
       "                          temp\n",
       "2005-04-04 15:00:00  26.332280\n",
       "2005-04-04 16:00:00  29.458241\n",
       "2005-04-04 17:00:00  25.562921"
      ]
     },
     "execution_count": 21,
     "metadata": {},
     "output_type": "execute_result"
    }
   ],
   "source": [
    "model.predict()"
   ]
  },
  {
   "cell_type": "code",
   "execution_count": 24,
   "id": "c3655adc-c211-4347-a1a4-0984003b7346",
   "metadata": {
    "execution": {
     "iopub.execute_input": "2022-10-28T17:31:58.190377Z",
     "iopub.status.busy": "2022-10-28T17:31:58.189997Z",
     "iopub.status.idle": "2022-10-28T17:31:58.196354Z",
     "shell.execute_reply": "2022-10-28T17:31:58.195469Z",
     "shell.execute_reply.started": "2022-10-28T17:31:58.190341Z"
    },
    "tags": []
   },
   "outputs": [
    {
     "data": {
      "text/plain": [
       "array([393, 332, 205, 242, 265, 283, 170, 166, 261, 683], dtype=int32)"
      ]
     },
     "execution_count": 24,
     "metadata": {},
     "output_type": "execute_result"
    }
   ],
   "source": [
    "model.estimators_[0].feature_importances_"
   ]
  },
  {
   "cell_type": "markdown",
   "id": "b16c690d-2a7c-471b-9781-8b892672e905",
   "metadata": {},
   "source": [
    "### Hybrid strategy\n",
    "Sktime also develops a hybrid method that combines two above strategies, call *dir-rec*. It also has a recursive behaviour, but after appending $\\hat{y}_{T+h|T+(h-1)}$, it trains a new model to predict the next step $\\hat{y}_{T+(h+1)|T+h}$. However, because both recursion reduction and direct reduction are not good at forecasting far horizons, *dir-rec* also suffers from this problem."
   ]
  },
  {
   "cell_type": "code",
   "execution_count": 4,
   "id": "204186c5-b486-46e6-8027-4d6a99c54f9c",
   "metadata": {
    "tags": []
   },
   "outputs": [
    {
     "data": {
      "text/html": [
       "<style>#sk-container-id-1 {color: black;background-color: white;}#sk-container-id-1 pre{padding: 0;}#sk-container-id-1 div.sk-toggleable {background-color: white;}#sk-container-id-1 label.sk-toggleable__label {cursor: pointer;display: block;width: 100%;margin-bottom: 0;padding: 0.3em;box-sizing: border-box;text-align: center;}#sk-container-id-1 label.sk-toggleable__label-arrow:before {content: \"▸\";float: left;margin-right: 0.25em;color: #696969;}#sk-container-id-1 label.sk-toggleable__label-arrow:hover:before {color: black;}#sk-container-id-1 div.sk-estimator:hover label.sk-toggleable__label-arrow:before {color: black;}#sk-container-id-1 div.sk-toggleable__content {max-height: 0;max-width: 0;overflow: hidden;text-align: left;background-color: #f0f8ff;}#sk-container-id-1 div.sk-toggleable__content pre {margin: 0.2em;color: black;border-radius: 0.25em;background-color: #f0f8ff;}#sk-container-id-1 input.sk-toggleable__control:checked~div.sk-toggleable__content {max-height: 200px;max-width: 100%;overflow: auto;}#sk-container-id-1 input.sk-toggleable__control:checked~label.sk-toggleable__label-arrow:before {content: \"▾\";}#sk-container-id-1 div.sk-estimator input.sk-toggleable__control:checked~label.sk-toggleable__label {background-color: #d4ebff;}#sk-container-id-1 div.sk-label input.sk-toggleable__control:checked~label.sk-toggleable__label {background-color: #d4ebff;}#sk-container-id-1 input.sk-hidden--visually {border: 0;clip: rect(1px 1px 1px 1px);clip: rect(1px, 1px, 1px, 1px);height: 1px;margin: -1px;overflow: hidden;padding: 0;position: absolute;width: 1px;}#sk-container-id-1 div.sk-estimator {font-family: monospace;background-color: #f0f8ff;border: 1px dotted black;border-radius: 0.25em;box-sizing: border-box;margin-bottom: 0.5em;}#sk-container-id-1 div.sk-estimator:hover {background-color: #d4ebff;}#sk-container-id-1 div.sk-parallel-item::after {content: \"\";width: 100%;border-bottom: 1px solid gray;flex-grow: 1;}#sk-container-id-1 div.sk-label:hover label.sk-toggleable__label {background-color: #d4ebff;}#sk-container-id-1 div.sk-serial::before {content: \"\";position: absolute;border-left: 1px solid gray;box-sizing: border-box;top: 0;bottom: 0;left: 50%;z-index: 0;}#sk-container-id-1 div.sk-serial {display: flex;flex-direction: column;align-items: center;background-color: white;padding-right: 0.2em;padding-left: 0.2em;position: relative;}#sk-container-id-1 div.sk-item {position: relative;z-index: 1;}#sk-container-id-1 div.sk-parallel {display: flex;align-items: stretch;justify-content: center;background-color: white;position: relative;}#sk-container-id-1 div.sk-item::before, #sk-container-id-1 div.sk-parallel-item::before {content: \"\";position: absolute;border-left: 1px solid gray;box-sizing: border-box;top: 0;bottom: 0;left: 50%;z-index: -1;}#sk-container-id-1 div.sk-parallel-item {display: flex;flex-direction: column;z-index: 1;position: relative;background-color: white;}#sk-container-id-1 div.sk-parallel-item:first-child::after {align-self: flex-end;width: 50%;}#sk-container-id-1 div.sk-parallel-item:last-child::after {align-self: flex-start;width: 50%;}#sk-container-id-1 div.sk-parallel-item:only-child::after {width: 0;}#sk-container-id-1 div.sk-dashed-wrapped {border: 1px dashed gray;margin: 0 0.4em 0.5em 0.4em;box-sizing: border-box;padding-bottom: 0.4em;background-color: white;}#sk-container-id-1 div.sk-label label {font-family: monospace;font-weight: bold;display: inline-block;line-height: 1.2em;}#sk-container-id-1 div.sk-label-container {text-align: center;}#sk-container-id-1 div.sk-container {/* jupyter's `normalize.less` sets `[hidden] { display: none; }` but bootstrap.min.css set `[hidden] { display: none !important; }` so we also need the `!important` here to be able to override the default hidden behavior on the sphinx rendered scikit-learn.org. See: https://github.com/scikit-learn/scikit-learn/issues/21755 */display: inline-block !important;position: relative;}#sk-container-id-1 div.sk-text-repr-fallback {display: none;}</style><div id=\"sk-container-id-1\" class=\"sk-top-container\"><div class=\"sk-text-repr-fallback\"><pre>DirRecTabularRegressionForecaster(estimator=LGBMRegressor())</pre><b>In a Jupyter environment, please rerun this cell to show the HTML representation or trust the notebook. <br />On GitHub, the HTML representation is unable to render, please try loading this page with nbviewer.org.</b></div><div class=\"sk-container\" hidden><div class=\"sk-item sk-dashed-wrapped\"><div class=\"sk-label-container\"><div class=\"sk-label sk-toggleable\"><input class=\"sk-toggleable__control sk-hidden--visually\" id=\"sk-estimator-id-1\" type=\"checkbox\" ><label for=\"sk-estimator-id-1\" class=\"sk-toggleable__label sk-toggleable__label-arrow\">DirRecTabularRegressionForecaster</label><div class=\"sk-toggleable__content\"><pre>DirRecTabularRegressionForecaster(estimator=LGBMRegressor())</pre></div></div></div><div class=\"sk-parallel\"><div class=\"sk-parallel-item\"><div class=\"sk-item\"><div class=\"sk-label-container\"><div class=\"sk-label sk-toggleable\"><input class=\"sk-toggleable__control sk-hidden--visually\" id=\"sk-estimator-id-2\" type=\"checkbox\" ><label for=\"sk-estimator-id-2\" class=\"sk-toggleable__label sk-toggleable__label-arrow\">estimator: LGBMRegressor</label><div class=\"sk-toggleable__content\"><pre>LGBMRegressor()</pre></div></div></div><div class=\"sk-serial\"><div class=\"sk-item\"><div class=\"sk-estimator sk-toggleable\"><input class=\"sk-toggleable__control sk-hidden--visually\" id=\"sk-estimator-id-3\" type=\"checkbox\" ><label for=\"sk-estimator-id-3\" class=\"sk-toggleable__label sk-toggleable__label-arrow\">LGBMRegressor</label><div class=\"sk-toggleable__content\"><pre>LGBMRegressor()</pre></div></div></div></div></div></div></div></div></div></div>"
      ],
      "text/plain": [
       "DirRecTabularRegressionForecaster(estimator=LGBMRegressor())"
      ]
     },
     "execution_count": 4,
     "metadata": {},
     "output_type": "execute_result"
    }
   ],
   "source": [
    "nLags = 10\n",
    "model = make_reduction(LGBMRegressor(), window_length=nLags, strategy='dirrec', scitype='tabular-regressor')\n",
    "model.fit(dfTemp, fh=[1,2,3])\n",
    "model"
   ]
  },
  {
   "cell_type": "markdown",
   "id": "7a60609b-0099-4fdd-aa0f-5944fe9263ec",
   "metadata": {
    "tags": []
   },
   "source": [
    "## 1.2. Multivariate reducer\n",
    "As Sktime currently does not support forecasting reduction for multivariate time series (where multiple time series grow together), we are going to use Skforecast's [multivariate forecasting] instead. Its class\n",
    "<code style='font-size:13px'><a href='https://joaquinamatrodrigo.github.io/skforecast/0.5.1/api/ForecasterMultiSeries.html'>ForecasterAutoregMultiSeries</a></code>\n",
    "assumes multiple time series are independent but follow the same patterns (for example, the sales of different products in the same store).\n",
    "\n",
    "Another reducer being capable of modeling relationship between different time series are being developed. Its assumption is that, each time series depends not only on its own past values, but also on past values of other time series.\n",
    "\n",
    "[multivariate forecasting]: https://joaquinamatrodrigo.github.io/skforecast/0.5.1/user_guides/multi-time-series-forecasting.html"
   ]
  },
  {
   "cell_type": "code",
   "execution_count": 72,
   "id": "56f74eda-df92-48a0-a529-48751127d592",
   "metadata": {
    "execution": {
     "iopub.execute_input": "2022-10-30T14:43:43.808356Z",
     "iopub.status.busy": "2022-10-30T14:43:43.807984Z",
     "iopub.status.idle": "2022-10-30T14:43:43.821047Z",
     "shell.execute_reply": "2022-10-30T14:43:43.820017Z",
     "shell.execute_reply.started": "2022-10-30T14:43:43.808332Z"
    },
    "tags": []
   },
   "outputs": [],
   "source": [
    "import numpy as np\n",
    "import pandas as pd\n",
    "import janitor\n",
    "\n",
    "import matplotlib.pyplot as plt\n",
    "plt.style.use(['seaborn', 'seaborn-whitegrid'])\n",
    "%config InlineBackend.figure_format = 'retina'\n",
    "\n",
    "from lightgbm import LGBMRegressor\n",
    "from sklearn.ensemble import RandomForestRegressor\n",
    "from sklearn.metrics import mean_squared_error\n",
    "from sklearn.pipeline import make_pipeline\n",
    "\n",
    "from skforecast.ForecasterAutoreg import ForecasterAutoreg\n",
    "from skforecast.ForecasterAutoregCustom import ForecasterAutoregCustom\n",
    "from skforecast.model_selection import grid_search_forecaster\n",
    "from skforecast.model_selection import backtesting_forecaster\n",
    "from skforecast.ForecasterAutoregMultiSeries import ForecasterAutoregMultiSeries\n",
    "\n",
    "import warnings; warnings.filterwarnings('ignore')"
   ]
  },
  {
   "cell_type": "code",
   "execution_count": 66,
   "id": "5a150090-2422-4778-a00d-9be99489d373",
   "metadata": {
    "execution": {
     "iopub.execute_input": "2022-10-30T14:21:57.876697Z",
     "iopub.status.busy": "2022-10-30T14:21:57.876353Z",
     "iopub.status.idle": "2022-10-30T14:21:57.910764Z",
     "shell.execute_reply": "2022-10-30T14:21:57.909779Z",
     "shell.execute_reply.started": "2022-10-30T14:21:57.876673Z"
    },
    "tags": []
   },
   "outputs": [
    {
     "data": {
      "text/html": [
       "<div>\n",
       "<style scoped>\n",
       "    .dataframe tbody tr th:only-of-type {\n",
       "        vertical-align: middle;\n",
       "    }\n",
       "\n",
       "    .dataframe tbody tr th {\n",
       "        vertical-align: top;\n",
       "    }\n",
       "\n",
       "    .dataframe thead th {\n",
       "        text-align: right;\n",
       "    }\n",
       "</style>\n",
       "<table border=\"1\" class=\"dataframe\">\n",
       "  <thead>\n",
       "    <tr style=\"text-align: right;\">\n",
       "      <th></th>\n",
       "      <th>temp</th>\n",
       "      <th>rel_humidity</th>\n",
       "      <th>abs_humidity</th>\n",
       "    </tr>\n",
       "    <tr>\n",
       "      <th>time</th>\n",
       "      <th></th>\n",
       "      <th></th>\n",
       "      <th></th>\n",
       "    </tr>\n",
       "  </thead>\n",
       "  <tbody>\n",
       "    <tr>\n",
       "      <th>2005-04-04 10:00:00</th>\n",
       "      <td>21.9</td>\n",
       "      <td>29.3</td>\n",
       "      <td>0.7568</td>\n",
       "    </tr>\n",
       "    <tr>\n",
       "      <th>2005-04-04 11:00:00</th>\n",
       "      <td>24.3</td>\n",
       "      <td>23.7</td>\n",
       "      <td>0.7119</td>\n",
       "    </tr>\n",
       "    <tr>\n",
       "      <th>2005-04-04 12:00:00</th>\n",
       "      <td>26.9</td>\n",
       "      <td>18.3</td>\n",
       "      <td>0.6406</td>\n",
       "    </tr>\n",
       "    <tr>\n",
       "      <th>2005-04-04 13:00:00</th>\n",
       "      <td>28.3</td>\n",
       "      <td>13.5</td>\n",
       "      <td>0.5139</td>\n",
       "    </tr>\n",
       "    <tr>\n",
       "      <th>2005-04-04 14:00:00</th>\n",
       "      <td>28.5</td>\n",
       "      <td>13.1</td>\n",
       "      <td>0.5028</td>\n",
       "    </tr>\n",
       "  </tbody>\n",
       "</table>\n",
       "</div>"
      ],
      "text/plain": [
       "                     temp  rel_humidity  abs_humidity\n",
       "time                                                 \n",
       "2005-04-04 10:00:00  21.9          29.3        0.7568\n",
       "2005-04-04 11:00:00  24.3          23.7        0.7119\n",
       "2005-04-04 12:00:00  26.9          18.3        0.6406\n",
       "2005-04-04 13:00:00  28.3          13.5        0.5139\n",
       "2005-04-04 14:00:00  28.5          13.1        0.5028"
      ]
     },
     "execution_count": 66,
     "metadata": {},
     "output_type": "execute_result"
    }
   ],
   "source": [
    "dfTemp = pd.read_csv('data/air_quality.csv')\n",
    "dfTemp = (\n",
    "    dfTemp\n",
    "    .to_datetime('time')\n",
    "    .select_columns(['time', 'temp', 'rel_humidity', 'abs_humidity'])\n",
    "    .set_index('time')\n",
    "    .asfreq('h')\n",
    ")\n",
    "dfTemp.tail()"
   ]
  },
  {
   "cell_type": "code",
   "execution_count": 67,
   "id": "9567627b-e09b-4454-9da0-e34a59947194",
   "metadata": {
    "execution": {
     "iopub.execute_input": "2022-10-30T14:39:19.156074Z",
     "iopub.status.busy": "2022-10-30T14:39:19.155722Z",
     "iopub.status.idle": "2022-10-30T14:39:20.338798Z",
     "shell.execute_reply": "2022-10-30T14:39:20.337882Z",
     "shell.execute_reply.started": "2022-10-30T14:39:19.156050Z"
    },
    "tags": []
   },
   "outputs": [
    {
     "data": {
      "text/html": [
       "<div>\n",
       "<style scoped>\n",
       "    .dataframe tbody tr th:only-of-type {\n",
       "        vertical-align: middle;\n",
       "    }\n",
       "\n",
       "    .dataframe tbody tr th {\n",
       "        vertical-align: top;\n",
       "    }\n",
       "\n",
       "    .dataframe thead th {\n",
       "        text-align: right;\n",
       "    }\n",
       "</style>\n",
       "<table border=\"1\" class=\"dataframe\">\n",
       "  <thead>\n",
       "    <tr style=\"text-align: right;\">\n",
       "      <th></th>\n",
       "      <th>pred</th>\n",
       "      <th>lower_bound</th>\n",
       "      <th>upper_bound</th>\n",
       "    </tr>\n",
       "  </thead>\n",
       "  <tbody>\n",
       "    <tr>\n",
       "      <th>2005-04-04 15:00:00</th>\n",
       "      <td>28.141947</td>\n",
       "      <td>25.614435</td>\n",
       "      <td>31.126980</td>\n",
       "    </tr>\n",
       "    <tr>\n",
       "      <th>2005-04-04 16:00:00</th>\n",
       "      <td>28.610966</td>\n",
       "      <td>21.052267</td>\n",
       "      <td>32.312756</td>\n",
       "    </tr>\n",
       "    <tr>\n",
       "      <th>2005-04-04 17:00:00</th>\n",
       "      <td>28.744962</td>\n",
       "      <td>18.968138</td>\n",
       "      <td>33.600421</td>\n",
       "    </tr>\n",
       "    <tr>\n",
       "      <th>2005-04-04 18:00:00</th>\n",
       "      <td>28.744962</td>\n",
       "      <td>16.011985</td>\n",
       "      <td>34.170201</td>\n",
       "    </tr>\n",
       "    <tr>\n",
       "      <th>2005-04-04 19:00:00</th>\n",
       "      <td>28.744962</td>\n",
       "      <td>13.875177</td>\n",
       "      <td>34.836653</td>\n",
       "    </tr>\n",
       "    <tr>\n",
       "      <th>2005-04-04 20:00:00</th>\n",
       "      <td>28.798401</td>\n",
       "      <td>12.627747</td>\n",
       "      <td>35.356452</td>\n",
       "    </tr>\n",
       "    <tr>\n",
       "      <th>2005-04-04 21:00:00</th>\n",
       "      <td>29.233508</td>\n",
       "      <td>8.914352</td>\n",
       "      <td>36.077551</td>\n",
       "    </tr>\n",
       "  </tbody>\n",
       "</table>\n",
       "</div>"
      ],
      "text/plain": [
       "                          pred  lower_bound  upper_bound\n",
       "2005-04-04 15:00:00  28.141947    25.614435    31.126980\n",
       "2005-04-04 16:00:00  28.610966    21.052267    32.312756\n",
       "2005-04-04 17:00:00  28.744962    18.968138    33.600421\n",
       "2005-04-04 18:00:00  28.744962    16.011985    34.170201\n",
       "2005-04-04 19:00:00  28.744962    13.875177    34.836653\n",
       "2005-04-04 20:00:00  28.798401    12.627747    35.356452\n",
       "2005-04-04 21:00:00  29.233508     8.914352    36.077551"
      ]
     },
     "execution_count": 67,
     "metadata": {},
     "output_type": "execute_result"
    }
   ],
   "source": [
    "model = ForecasterAutoregMultiSeries(\n",
    "    LGBMRegressor(max_depth=4), lags=10,\n",
    ")\n",
    "model.fit(dfTemp)\n",
    "model.predict_interval(steps=7, level='temp')"
   ]
  },
  {
   "cell_type": "code",
   "execution_count": 74,
   "id": "62479c69-1bc1-4182-84d3-06042100f3a0",
   "metadata": {
    "execution": {
     "iopub.execute_input": "2022-10-30T14:45:45.600582Z",
     "iopub.status.busy": "2022-10-30T14:45:45.600243Z",
     "iopub.status.idle": "2022-10-30T14:45:45.608751Z",
     "shell.execute_reply": "2022-10-30T14:45:45.607878Z",
     "shell.execute_reply.started": "2022-10-30T14:45:45.600558Z"
    },
    "tags": []
   },
   "outputs": [
    {
     "data": {
      "text/html": [
       "<div>\n",
       "<style scoped>\n",
       "    .dataframe tbody tr th:only-of-type {\n",
       "        vertical-align: middle;\n",
       "    }\n",
       "\n",
       "    .dataframe tbody tr th {\n",
       "        vertical-align: top;\n",
       "    }\n",
       "\n",
       "    .dataframe thead th {\n",
       "        text-align: right;\n",
       "    }\n",
       "</style>\n",
       "<table border=\"1\" class=\"dataframe\">\n",
       "  <thead>\n",
       "    <tr style=\"text-align: right;\">\n",
       "      <th></th>\n",
       "      <th>feature</th>\n",
       "      <th>importance</th>\n",
       "    </tr>\n",
       "  </thead>\n",
       "  <tbody>\n",
       "    <tr>\n",
       "      <th>0</th>\n",
       "      <td>lag_1</td>\n",
       "      <td>376</td>\n",
       "    </tr>\n",
       "    <tr>\n",
       "      <th>1</th>\n",
       "      <td>lag_2</td>\n",
       "      <td>139</td>\n",
       "    </tr>\n",
       "    <tr>\n",
       "      <th>2</th>\n",
       "      <td>lag_3</td>\n",
       "      <td>76</td>\n",
       "    </tr>\n",
       "    <tr>\n",
       "      <th>3</th>\n",
       "      <td>lag_4</td>\n",
       "      <td>48</td>\n",
       "    </tr>\n",
       "    <tr>\n",
       "      <th>4</th>\n",
       "      <td>lag_5</td>\n",
       "      <td>58</td>\n",
       "    </tr>\n",
       "    <tr>\n",
       "      <th>5</th>\n",
       "      <td>lag_6</td>\n",
       "      <td>90</td>\n",
       "    </tr>\n",
       "    <tr>\n",
       "      <th>6</th>\n",
       "      <td>lag_7</td>\n",
       "      <td>35</td>\n",
       "    </tr>\n",
       "    <tr>\n",
       "      <th>7</th>\n",
       "      <td>lag_8</td>\n",
       "      <td>47</td>\n",
       "    </tr>\n",
       "    <tr>\n",
       "      <th>8</th>\n",
       "      <td>lag_9</td>\n",
       "      <td>76</td>\n",
       "    </tr>\n",
       "    <tr>\n",
       "      <th>9</th>\n",
       "      <td>lag_10</td>\n",
       "      <td>185</td>\n",
       "    </tr>\n",
       "    <tr>\n",
       "      <th>10</th>\n",
       "      <td>abs_humidity</td>\n",
       "      <td>0</td>\n",
       "    </tr>\n",
       "    <tr>\n",
       "      <th>11</th>\n",
       "      <td>rel_humidity</td>\n",
       "      <td>8</td>\n",
       "    </tr>\n",
       "    <tr>\n",
       "      <th>12</th>\n",
       "      <td>temp</td>\n",
       "      <td>0</td>\n",
       "    </tr>\n",
       "  </tbody>\n",
       "</table>\n",
       "</div>"
      ],
      "text/plain": [
       "         feature  importance\n",
       "0          lag_1         376\n",
       "1          lag_2         139\n",
       "2          lag_3          76\n",
       "3          lag_4          48\n",
       "4          lag_5          58\n",
       "5          lag_6          90\n",
       "6          lag_7          35\n",
       "7          lag_8          47\n",
       "8          lag_9          76\n",
       "9         lag_10         185\n",
       "10  abs_humidity           0\n",
       "11  rel_humidity           8\n",
       "12          temp           0"
      ]
     },
     "execution_count": 74,
     "metadata": {},
     "output_type": "execute_result"
    }
   ],
   "source": [
    "model.get_feature_importance()"
   ]
  },
  {
   "cell_type": "markdown",
   "id": "f936ae70-1207-4e9f-b2a0-dabcda0943b8",
   "metadata": {},
   "source": [
    "## 1.3. Model wrapper"
   ]
  },
  {
   "cell_type": "markdown",
   "id": "f544ff36-f744-4bad-a01b-ef6d7cd0182a",
   "metadata": {
    "execution": {
     "iopub.execute_input": "2022-10-02T13:18:08.813459Z",
     "iopub.status.busy": "2022-10-02T13:18:08.811212Z",
     "iopub.status.idle": "2022-10-02T13:18:08.827656Z",
     "shell.execute_reply": "2022-10-02T13:18:08.826280Z",
     "shell.execute_reply.started": "2022-10-02T13:18:08.813388Z"
    },
    "tags": []
   },
   "source": [
    "# 2. Forecasting validation"
   ]
  },
  {
   "cell_type": "markdown",
   "id": "1493928e-3386-49d7-974c-f1199931356d",
   "metadata": {},
   "source": [
    "## 2.1. Scoring metrics\n",
    "Sktime supports a lot of [performance metrics] for time series forecasting. To better understand all of them, let's first break down each metric into three parts: *error* function, *squared* flag and *aggregation* strategy. We illustrate the break down process using a familiar metric, mean squared error.\n",
    "- The type of error refers to how error is calculated for each observation. This is the centre of the metric and will be discussed later. In the case of MSE, the error is simply the difference between the true and forecasting values.\n",
    "- Errors calculated in any way can be positive or negative, so they can eliminate each other. We can either take the *absolute* value or *squared* value to make the errors always positive. The choice of square function penalizes large errors.\n",
    "- Two above functions give us the error for each observation, so we need a function to aggregate the result for the entire target variable. Most popular options are (arithmetic) *mean* and *median*, but people also use *geometric mean*.\n",
    "\n",
    "[performance metrics]: https://www.sktime.org/en/stable/api_reference/performance_metrics.html"
   ]
  },
  {
   "cell_type": "markdown",
   "id": "a31fc847-f3d9-41d7-af51-e11fa030a3f1",
   "metadata": {},
   "source": [
    "### Baseline forecasters\n",
    "Many evaluation metrics for time series forecasting involve a [baseline model] (also known as benchmark model) in its calculation. The reason is very simple: because these baseline forecasters really make sense. Sktime implements all three strategies via the class\n",
    "<code style='font-size:13px'><a href='https://www.sktime.org/en/stable/api_reference/auto_generated/sktime.forecasting.naive.NaiveForecaster.html'>NaiveForecaster</a></code>.\n",
    "\n",
    "- *Average model*: the forecast for all future values are equal to the average of observed values:\n",
    "\n",
    "$$\\hat{y}_t=\\frac{y_1+y_2+\\ldots+y_T}{T}$$\n",
    "\n",
    "- *Drift model*: we draw a line from the first to the last observed point, then extrapolate it into the future:\n",
    "\n",
    "$$\\hat{y}_t=y_1+t\\left(\\frac{y_T-y_1}{T-1}\\right)$$\n",
    "\n",
    "- *Naive model*: we take the last observed value of the same season (time step $t-m$, with $m$ the seasonal period) as the forecast at a time step. If data has no seasonality then $m=1$. The formulation is:\n",
    "\n",
    "$$\\hat{y}_t=y_{t-m} $$\n",
    "\n",
    "[baseline model]: https://en.wikipedia.org/wiki/Forecasting#Categories_of_forecasting_methods"
   ]
  },
  {
   "cell_type": "markdown",
   "id": "ddce3e0d-afb6-4832-8f7e-542f552fc36f",
   "metadata": {},
   "source": [
    "### Difference error\n",
    "$$e_t=y_t-\\hat{y}_t$$\n",
    "\n",
    "Two popular metrics of this type are [MSE] and [MAE], also have been seen in evaluating regression problems. These two metrics are scale-dependent, so that they can express in the same unit as the time series. Scale-dependence is also a disadvantage, as we cannot use these metrics to decide if a model is good enough, since its range is $(0,\\infty)$.\n",
    "\n",
    "An approach to solve this is to take the ratio between the metric of our Machine Learning model (like $\\text{MSE}$) and the metric of a naive baseline forecaster ($\\text{MSE}^*$). This metric is called *Relative Loss*, computed as:\n",
    "\n",
    "$$\\text{RelativeMSE}=\\frac{\\text{MSE}}{\\text{MSE}^*} $$\n",
    "\n",
    "[MSE]: https://en.wikipedia.org/wiki/Mean_squared_error\n",
    "[MAE]: https://en.wikipedia.org/wiki/Mean_absolute_error"
   ]
  },
  {
   "cell_type": "markdown",
   "id": "ef261cb7-cfd4-4de3-87ae-d54185b766a0",
   "metadata": {},
   "source": [
    "### Percentage error\n",
    "$$e_t=\\frac{y_t-\\hat{y}_t}{y_t}$$\n",
    "\n",
    "[MAPE] is the most popular metric for this type of error. It is *scale-independent* and *high-interpretable*, so it can be considered the standard metric for forecasting tasks. However, percentage error suffers from many known issues:\n",
    "- It cannot be used when $y_t=0$ and tends towards infinity when $y_t\\approx0$.\n",
    "- It is meaningless for data in [interval scale] (for example, temperatures), in which the ratio is not defined.\n",
    "- An controversial issue that percentage error is said to have, is its asymmetry. The symmetric counterpart is given by:\n",
    "\n",
    "$$e_t=\\frac{2(y_t-\\hat{y}_t)}{|y_t|+|\\hat{y}_t|} $$\n",
    "\n",
    "In this formula, the nominator is multiplied by $2$ as a compensation for larger denominator. The symmetric variant of MAPE is called [sMAPE]. When we switch the position of $y_t$ and $\\hat{y}_t$, sMAPE does not change like MAPE. We can see their behaviors in action:\n",
    "\n",
    "|Actual|Forecast|Difference|MAPE|sMAPE|\n",
    "|:-:|:-:|:-:|:-:|:-:|\n",
    "|100|80|20|20%|22%|\n",
    "|80|100|-20|25%|22%|\n",
    "\n",
    "However, the above case is not quite a problem of MAPE because we would never compare values that way. In fact, sMAPE symmetrizes one case but makes another case asymmetric:\n",
    "\n",
    "|Actual|Forecast|Difference|MAPE|sMAPE|\n",
    "|:-:|:-:|:-:|:-:|:-:|\n",
    "|100|80|20|20%|22%|\n",
    "|100|120|-20|20%|18%|\n",
    "\n",
    "The later case, in the other hand, shows a critical issue of sMAPE: it penalizes forecasts that are lower than ground truth. So that it's likely to encourages higher forecasts and can lead to biases. Overall, MAPE is still the better metric in my opinion.\n",
    "\n",
    "[MAPE]: https://en.wikipedia.org/wiki/Mean_absolute_percentage_error\n",
    "[sMAPE]: https://en.wikipedia.org/wiki/Symmetric_mean_absolute_percentage_error\n",
    "[interval scale]: https://en.wikipedia.org/wiki/Level_of_measurement#Interval_scale"
   ]
  },
  {
   "cell_type": "markdown",
   "id": "6365e106-3f06-4760-a1c5-f772a4a63a0e",
   "metadata": {},
   "source": [
    "### Relative error\n",
    "$$e_t=\\frac{y_t-\\hat{y}_t}{y_t-\\hat{y}_t^*} $$\n",
    "\n",
    "As the name states, this metric expresses the relative error between our forecaster and a benchmark model. Due to the scale-free property, it is recommended to take the absolute value of relative error rather than squared value. In addition, geometric mean and median is prefered to arithmetic mean, making GMRAE and MdRAE two most popular metrics using this type of error."
   ]
  },
  {
   "cell_type": "markdown",
   "id": "e3758400-eee3-43e2-ad9f-8db494384bb3",
   "metadata": {},
   "source": [
    "### Scaled error\n",
    "$$e_t=\\frac{y_t-\\hat{y}_t}{\\text{MAE}^*}$$\n",
    "\n",
    "This is another error type makes use of a benchmark model. Specifically, it computes $\\text{MAE}^*$ on the naive forecaster (forecast using last observed value, or using value of the same season in the last period). The most common metric of this type, [MASE], a along with MAPE are considered the best metrics for forecasting problems. MASE has the following desired properties:\n",
    "- It is scale-free, so can be used for different data with different scales\n",
    "- It is symmetric, covers both cases that either MAPE or sMAPE suffers from\n",
    "- It is stable when $y_t\\approx0$\n",
    "- It is easy to interpret\n",
    "\n",
    "[MASE]: https://en.wikipedia.org/wiki/Mean_absolute_scaled_error"
   ]
  },
  {
   "cell_type": "markdown",
   "id": "e1acedee-d9d1-49e4-93c6-dcf79217e231",
   "metadata": {},
   "source": [
    "### Implementation\n",
    "Sktime provides two APIs to compute metrics, function interface and class interface. There are some notes when implementing evaluation metrics in Sktime:\n",
    "- For metrics with different variants and settings (such as sMAPE, RMSE and RelMSE), it is recommended to use the class interface. Otherwise, the function interface will be more convenient.\n",
    "- Metrics using *relative error* (such as MdRAE and GMRAE) require the forecasted values of the baseline model to be provided via the parameter\n",
    "<code style='font-size:13px'>y_pred_benchmark</code>.\n",
    "This could make the forecasting solution more complicated.\n",
    "- Metrics using *scaled error* (such as MASE) require the training values to be provided via the parameter\n",
    "<code style='font-size:13px'>y_train</code>.\n",
    "Same as the case of relative error, this behaviour can make the validation phase more complicated."
   ]
  },
  {
   "cell_type": "code",
   "execution_count": 9,
   "id": "122cd9c3-99a9-46c0-97c3-7b9dce20a84e",
   "metadata": {},
   "outputs": [],
   "source": [
    "from sktime.performance_metrics.forecasting import (\n",
    "    mean_absolute_error as MAE,\n",
    "    mean_squared_error as MSE,\n",
    "    mean_absolute_percentage_error as MAPE,\n",
    "    median_absolute_percentage_error as MdAPE,\n",
    "    median_relative_absolute_error as MdRAE,\n",
    "    geometric_mean_relative_absolute_error as GMRAE,\n",
    "    mean_absolute_scaled_error as MASE,\n",
    "    \n",
    "    RelativeLoss,\n",
    "    MeanSquaredError,\n",
    "    MeanAbsolutePercentageError,\n",
    ")\n",
    "\n",
    "MSE = MeanSquaredError()\n",
    "RMSE = MeanSquaredError(square_root=True)\n",
    "MAPE = MeanAbsolutePercentageError()\n",
    "sMAPE = MeanAbsolutePercentageError(symmetric=True)\n",
    "RelMSE = RelativeLoss(relative_loss_function=MSE)"
   ]
  },
  {
   "cell_type": "markdown",
   "id": "c618382e-1366-4b24-84f3-a75e759d69cb",
   "metadata": {},
   "source": [
    "## 2.2. Backtesting \n",
    "[Backtesting](https://en.wikipedia.org/wiki/Backtesting) is the validation strategy dedicated to time series forecasting. It can be either holdout validation or cross validation, but holdout validation will be significantly biased, so we highly recommend using cross validation. Currently, Sktime supports three splitting strategies:\n",
    "- <code style='font-size:13px'><a href=CutoffSplitter>CutoffSplitter</a></code>\n",
    "splits the time series at provided cutoff points with a fixed training window length.\n",
    "- <code style='font-size:13px'><a href=SlidingWindowSplitter>SlidingWindowSplitter</a></code>\n",
    "returns the same output as \n",
    "- <code style='font-size:13px'><a href=ExpandingWindowSplitter>ExpandingWindowSplitter</a></code>\n",
    "\n",
    "[CutoffSplitter]: https://www.sktime.org/en/stable/api_reference/auto_generated/sktime.forecasting.model_selection.CutoffSplitter.html\n",
    "[SlidingWindowSplitter]: https://www.sktime.org/en/stable/api_reference/auto_generated/sktime.forecasting.model_selection.SlidingWindowSplitter.html\n",
    "[ExpandingWindowSplitter]: https://www.sktime.org/en/stable/api_reference/auto_generated/sktime.forecasting.model_selection.ExpandingWindowSplitter.html"
   ]
  },
  {
   "cell_type": "markdown",
   "id": "6f5f1c57-1b49-4bd7-9d56-1695619965c3",
   "metadata": {},
   "source": [
    "is a special type of cross-validation which involves moving backward in time step-by-step. Function <code style='font-size:13px'><a href='https://joaquinamatrodrigo.github.io/skforecast/0.5.0/api/model_selection.html#skforecast.model_selection.model_selection.backtesting_forecaster'>backtesting_forecaster</a></code> wrapped 3 types of backtest through 2 params  `fixed_train_size` and `refit`:\n",
    "- Backtesting with refit and increasing training size (fixed origin): The model is trained each time before making predictions, the test size is fixed and the training set increases sequentially. \n",
    "- Backtesting with refit and fixed training size (rolling origin): Both the training and testing set rolls forward, therefore, the size of training remains constant. \n",
    "- Backtesting without refit: The model is trained only once and not updating sequentially.Thus, this strategy has the advantage of being much faster. However, the model does not incorporate the latest information available, so it may lose predictive capacity over time."
   ]
  },
  {
   "cell_type": "code",
   "execution_count": 13,
   "id": "13c285d9-7e11-49ac-aac8-c49fe5de4be4",
   "metadata": {
    "tags": []
   },
   "outputs": [],
   "source": [
    "import numpy as np\n",
    "import pandas as pd\n",
    "import janitor\n",
    "import sktime\n",
    "from sktime.forecasting.compose import make_reduction\n",
    "import warnings; warnings.filterwarnings('ignore')\n",
    "\n",
    "import matplotlib.pyplot as plt\n",
    "import seaborn as sns\n",
    "plt.style.use(['seaborn', 'seaborn-whitegrid'])\n",
    "%config InlineBackend.figure_format = 'retina'"
   ]
  },
  {
   "cell_type": "code",
   "execution_count": 49,
   "id": "0402c8a6-9715-4a3f-89b6-a8aa11baad92",
   "metadata": {
    "tags": []
   },
   "outputs": [
    {
     "data": {
      "text/html": [
       "<div>\n",
       "<style scoped>\n",
       "    .dataframe tbody tr th:only-of-type {\n",
       "        vertical-align: middle;\n",
       "    }\n",
       "\n",
       "    .dataframe tbody tr th {\n",
       "        vertical-align: top;\n",
       "    }\n",
       "\n",
       "    .dataframe thead th {\n",
       "        text-align: right;\n",
       "    }\n",
       "</style>\n",
       "<table border=\"1\" class=\"dataframe\">\n",
       "  <thead>\n",
       "    <tr style=\"text-align: right;\">\n",
       "      <th></th>\n",
       "      <th>temp</th>\n",
       "    </tr>\n",
       "    <tr>\n",
       "      <th>time</th>\n",
       "      <th></th>\n",
       "    </tr>\n",
       "  </thead>\n",
       "  <tbody>\n",
       "    <tr>\n",
       "      <th>2005-04-04 10:00:00</th>\n",
       "      <td>21.9</td>\n",
       "    </tr>\n",
       "    <tr>\n",
       "      <th>2005-04-04 11:00:00</th>\n",
       "      <td>24.3</td>\n",
       "    </tr>\n",
       "    <tr>\n",
       "      <th>2005-04-04 12:00:00</th>\n",
       "      <td>26.9</td>\n",
       "    </tr>\n",
       "    <tr>\n",
       "      <th>2005-04-04 13:00:00</th>\n",
       "      <td>28.3</td>\n",
       "    </tr>\n",
       "    <tr>\n",
       "      <th>2005-04-04 14:00:00</th>\n",
       "      <td>28.5</td>\n",
       "    </tr>\n",
       "  </tbody>\n",
       "</table>\n",
       "</div>"
      ],
      "text/plain": [
       "                     temp\n",
       "time                     \n",
       "2005-04-04 10:00:00  21.9\n",
       "2005-04-04 11:00:00  24.3\n",
       "2005-04-04 12:00:00  26.9\n",
       "2005-04-04 13:00:00  28.3\n",
       "2005-04-04 14:00:00  28.5"
      ]
     },
     "execution_count": 49,
     "metadata": {},
     "output_type": "execute_result"
    }
   ],
   "source": [
    "dfTemp = pd.read_csv('data/air_quality.csv')\n",
    "dfTemp = (\n",
    "    dfTemp\n",
    "    .to_datetime('time')\n",
    "    .select_columns(['time', 'temp'])\n",
    "    .set_index('time')\n",
    "    .asfreq('h')\n",
    ")\n",
    "dfTemp.tail()"
   ]
  },
  {
   "cell_type": "code",
   "execution_count": 51,
   "id": "a2405c65-66bb-4728-b687-605c1a1f8261",
   "metadata": {},
   "outputs": [],
   "source": [
    "from sktime.forecasting.model_selection import (\n",
    "    CutoffSplitter,\n",
    "    SlidingWindowSplitter,\n",
    "    ExpandingWindowSplitter,\n",
    "    temporal_train_test_split,\n",
    ")"
   ]
  },
  {
   "cell_type": "code",
   "execution_count": 44,
   "id": "b4e965e8-b787-4bc1-894c-4da6bcd8abf9",
   "metadata": {},
   "outputs": [
    {
     "data": {
      "text/plain": [
       "[(array([ 81,  82,  83,  84,  85,  86,  87,  88,  89,  90,  91,  92,  93,\n",
       "          94,  95,  96,  97,  98,  99, 100], dtype=int64),\n",
       "  array([101, 102, 103], dtype=int64)),\n",
       " (array([181, 182, 183, 184, 185, 186, 187, 188, 189, 190, 191, 192, 193,\n",
       "         194, 195, 196, 197, 198, 199, 200], dtype=int64),\n",
       "  array([201, 202, 203], dtype=int64))]"
      ]
     },
     "execution_count": 44,
     "metadata": {},
     "output_type": "execute_result"
    }
   ],
   "source": [
    "splitter = CutoffSplitter(fh=[1,2,3], window_length=20, cutoffs=np.array([100,200]))\n",
    "list(splitter.split(dfTemp))"
   ]
  },
  {
   "cell_type": "code",
   "execution_count": 40,
   "id": "9d3ea26f-7dac-4a26-9444-6e48b1620783",
   "metadata": {},
   "outputs": [
    {
     "data": {
      "text/plain": [
       "(array([114, 115, 116, 117, 118, 119, 120, 121, 122, 123], dtype=int64),\n",
       " array([124, 125, 126], dtype=int64))"
      ]
     },
     "execution_count": 40,
     "metadata": {},
     "output_type": "execute_result"
    }
   ],
   "source": [
    "splitter = SlidingWindowSplitter(fh=[1,2,3], initial_window=20, step_length=24)\n",
    "list(splitter.split(dfTemp))[1]"
   ]
  },
  {
   "cell_type": "code",
   "execution_count": 33,
   "id": "66c7c1c8-b92a-41e7-8786-a37a1067d5fa",
   "metadata": {},
   "outputs": [
    {
     "name": "stdout",
     "output_type": "stream",
     "text": [
      "Object `send` not found.\n"
     ]
    }
   ],
   "source": [
    "splitter.split(dfTemp).sen"
   ]
  },
  {
   "cell_type": "code",
   "execution_count": 33,
   "id": "41e67ed4-fbfd-4c2a-b675-0d8aaed84ac3",
   "metadata": {},
   "outputs": [
    {
     "name": "stdout",
     "output_type": "stream",
     "text": [
      "Object `send` not found.\n"
     ]
    }
   ],
   "source": [
    "splitter.split(dfTemp).sen"
   ]
  },
  {
   "cell_type": "code",
   "execution_count": null,
   "id": "c682c73f-8995-43b5-987a-9afdd31e0009",
   "metadata": {},
   "outputs": [],
   "source": [
    "splitter.split(dfTemp).send"
   ]
  },
  {
   "cell_type": "code",
   "execution_count": 22,
   "id": "cc782263-c543-47af-a3a3-8785391406ba",
   "metadata": {},
   "outputs": [
    {
     "data": {
      "text/plain": [
       "56"
      ]
     },
     "execution_count": 22,
     "metadata": {},
     "output_type": "execute_result"
    }
   ],
   "source": [
    "splitter.get_n_splits(dfTemp)"
   ]
  },
  {
   "cell_type": "markdown",
   "id": "03fd91ff-4f5a-49d5-b9e5-66433d39279d",
   "metadata": {},
   "source": [
    "## 2.3. Hyperparameter tuning"
   ]
  },
  {
   "cell_type": "markdown",
   "id": "3f17021e-5d28-43e3-b06e-c0185bd489e4",
   "metadata": {},
   "source": [
    "### Grid search  \n",
    "\n",
    "[GridSearch](https://joaquinamatrodrigo.github.io/skforecast/0.5.0/api/model_selection.html#skforecast.model_selection.model_selection.grid_search_forecaster) and [RandomSearch](https://joaquinamatrodrigo.github.io/skforecast/0.5.0/api/model_selection.html#skforecast.model_selection.model_selection.random_search_forecaster) has similar syntax"
   ]
  },
  {
   "cell_type": "markdown",
   "id": "7afe07cf-f698-4dc0-bf78-324194e8d93b",
   "metadata": {},
   "source": [
    "### Bayesian search \n",
    "\n",
    "<code style='font-size:13px'><a href='https://joaquinamatrodrigo.github.io/skforecast/0.5.0/api/model_selection.html#skforecast.model_selection.model_selection.bayesian_search_forecaster'>bayesian_search_forecaster</a></code> supports *optuna* and *skpot* engine\n"
   ]
  },
  {
   "cell_type": "markdown",
   "id": "e2cde8d8-3ce8-446f-b739-f12fc4235289",
   "metadata": {},
   "source": [
    "# References\n",
    "- *sktime.org - [Forecasting with Sktime](https://nbviewer.org/github/sktime/sktime/blob/4194aacaa105ef59807ea56c1bb3497b37eb1613/examples/01_forecasting.ipynb)*\n",
    "- *typethepipe.com - [Symmetric MAPE is not symmetric](https://typethepipe.com/post/symmetric-mape-is-not-symmetric/)*\n",
    "- https://nbviewer.org/github/sktime/sktime/blob/4194aacaa105ef59807ea56c1bb3497b37eb1613/examples/01_forecasting.ipynb\n",
    "- https://sites.google.com/site/nttrungmtwiki/home/it/data-mining/time-series-analysis/time-series-forecasting-performance-metrics-comparison\n",
    "- https://www.sktime.org/en/stable/api_reference/performance_metrics.html\n",
    "- https://towardsdatascience.com/time-series-forecast-error-metrics-you-should-know-cc88b8c67f27\n",
    "- https://www.relexsolutions.com/resources/measuring-forecast-accuracy/\n",
    "- https://www.sktime.org/en/stable/api_reference/auto_generated/sktime.performance_metrics.forecasting.mean_absolute_percentage_error.html\n",
    "- https://www.sktime.org/en/stable/api_reference/auto_generated/sktime.performance_metrics.forecasting.mean_absolute_scaled_error.html#\n",
    "- https://arxiv.org/pdf/1909.07872.pdf\n",
    "- https://arxiv.org/pdf/2005.08067.pdf"
   ]
  },
  {
   "cell_type": "markdown",
   "id": "4c4b9918-8737-44a0-a2e6-578b9fd413a1",
   "metadata": {},
   "source": [
    "---\n",
    "*&#9829; By Quang Hung x Thuy Linh &#9829;*"
   ]
  }
 ],
 "metadata": {
  "kernelspec": {
   "display_name": "Python 3 (ipykernel)",
   "language": "python",
   "name": "python3"
  },
  "language_info": {
   "codemirror_mode": {
    "name": "ipython",
    "version": 3
   },
   "file_extension": ".py",
   "mimetype": "text/x-python",
   "name": "python",
   "nbconvert_exporter": "python",
   "pygments_lexer": "ipython3",
   "version": "3.9.7"
  }
 },
 "nbformat": 4,
 "nbformat_minor": 5
}
