{
 "cells": [
  {
   "cell_type": "markdown",
   "metadata": {},
   "source": [
    "# 1. Methodology"
   ]
  },
  {
   "cell_type": "markdown",
   "metadata": {},
   "source": [
    "## 1.1. Data quality\n",
    "Clean data needs to pass some quality criteria. They are logical rules or constraints that base on business knowledge. These constraints fall into the following categories:\n",
    "- Data-type constraints: Each column must be of a particular data type such as numeric, date or text.\n",
    "- Accuracy: You have to verify that the data is close to the true values, sometimes by using external sources.\n",
    "- Range constraints: Typically, numbers or dates should fall within a certain range.\n",
    "- Set-membership constraints: Values of a column must come from a pre-defined set.\n",
    "- Pattern constraints: Certain text fields have to match regular expression patterns.\n",
    "- Cross-field validation: For example, in a dataset of sales contracts, the delivery date cannot be earlier than the signature date.\n",
    "- Uniqueness: A field or a combination of fields must be unique across the dataset. For example, two customers cannot have the same ID.\n",
    "- Consistancy: For example, a customer is recoreded in two different tables with two different address.\n",
    "- Completeness: Certain columns cannot be empty.\n",
    "- Uniformity: Each field can only has one unit of measure such as kg or lb, USD or EUR.\n",
    "\n",
    "*Reference: [Wikipedia - Data Cleansing](https://en.wikipedia.org/wiki/Data_cleansing)*"
   ]
  },
  {
   "cell_type": "markdown",
   "metadata": {},
   "source": [
    "## 1.2. The workflow\n",
    "\n",
    "#### Inspecting\n",
    "The inspection can be done in the data exploration step. Here are the two most important methods to inspect your dataset:\n",
    "- Data profiling: Calculating summary statistics is really helpful to give a general idea about the quality of the data. You will have to answer the questions such as *How many values is missing?*, *Is this field has a constraint with another?* and *Which data type should this column be of?*.\n",
    "- Data visualization: Visualization, especially when combined with statistical methods helps you answer *How the data is distributed?* and *Which point is an outlier?*.\n",
    "\n",
    "#### Cleaning\n",
    "In this step, we take into account all the criteria mentioned above. Overall, incorrect data will be either removed, corrected or imputed. For the rest of this topic, we mainly discuss how to apply cleaning techniques using Pandas.\n",
    "\n",
    "*Reference: [Towards Data Science](https://towardsdatascience.com/the-ultimate-guide-to-data-cleaning-3969843991d4)*"
   ]
  },
  {
   "cell_type": "markdown",
   "metadata": {},
   "source": [
    "# 2. Basic data cleaning"
   ]
  },
  {
   "cell_type": "markdown",
   "metadata": {},
   "source": [
    "## 2.1. Common techniques"
   ]
  },
  {
   "cell_type": "code",
   "execution_count": null,
   "metadata": {},
   "outputs": [],
   "source": [
    "import numpy as np\n",
    "import pandas as pd"
   ]
  },
  {
   "cell_type": "markdown",
   "metadata": {},
   "source": [
    "#### Selecting columns\n",
    "You can do selecting the columns you want to use or removing unnecessary ones."
   ]
  },
  {
   "cell_type": "code",
   "execution_count": null,
   "metadata": {},
   "outputs": [],
   "source": [
    "aqua = pd.DataFrame({\n",
    "    'year': pd.Series([2020, 2020, 2020, 2020, 2020, 2020]),\n",
    "    'month_name': pd.Series(['Jan', 'Jan', 'Jun', 'Jun', 'Jul', 'Jul']),\n",
    "    'month_number': pd.Series([1, 1, 6, 6, 7, 7]),\n",
    "    'commodity': pd.Series(['Fish', 'Shrimp', 'Fish', 'Shrimp', 'Fish', 'Shrimp']),\n",
    "    'profit': pd.Series([7415, 3239, 7280, 2007, 3574, 9285]),\n",
    "    'company': pd.Series(['Pandas', 'Pandas', 'Pandas', 'Pandas', 'Pandas', 'Pandas'])\n",
    "})\n",
    "aqua"
   ]
  },
  {
   "cell_type": "code",
   "execution_count": null,
   "metadata": {},
   "outputs": [],
   "source": [
    "aqua[['year', 'month_number', 'commodity', 'profit']]"
   ]
  },
  {
   "cell_type": "code",
   "execution_count": null,
   "metadata": {},
   "outputs": [],
   "source": [
    "aqua.drop(columns=['month_name', 'company'])"
   ]
  },
  {
   "cell_type": "markdown",
   "metadata": {},
   "source": [
    "#### Renaming columns\n",
    "Column names should follow either `PascalCase` or `snake_case`."
   ]
  },
  {
   "cell_type": "code",
   "execution_count": 7,
   "metadata": {},
   "outputs": [
    {
     "data": {
      "text/html": [
       "<div>\n",
       "<style scoped>\n",
       "    .dataframe tbody tr th:only-of-type {\n",
       "        vertical-align: middle;\n",
       "    }\n",
       "\n",
       "    .dataframe tbody tr th {\n",
       "        vertical-align: top;\n",
       "    }\n",
       "\n",
       "    .dataframe thead th {\n",
       "        text-align: right;\n",
       "    }\n",
       "</style>\n",
       "<table border=\"1\" class=\"dataframe\">\n",
       "  <thead>\n",
       "    <tr style=\"text-align: right;\">\n",
       "      <th></th>\n",
       "      <th>Year</th>\n",
       "      <th>Month name</th>\n",
       "      <th>Month number</th>\n",
       "      <th>Product name</th>\n",
       "      <th>Profit</th>\n",
       "      <th>Company name</th>\n",
       "    </tr>\n",
       "  </thead>\n",
       "  <tbody>\n",
       "    <tr>\n",
       "      <th>0</th>\n",
       "      <td>2020</td>\n",
       "      <td>Jan</td>\n",
       "      <td>1</td>\n",
       "      <td>Fish</td>\n",
       "      <td>7415</td>\n",
       "      <td>Pandas</td>\n",
       "    </tr>\n",
       "    <tr>\n",
       "      <th>1</th>\n",
       "      <td>2020</td>\n",
       "      <td>Jan</td>\n",
       "      <td>1</td>\n",
       "      <td>Shrimp</td>\n",
       "      <td>3239</td>\n",
       "      <td>Pandas</td>\n",
       "    </tr>\n",
       "    <tr>\n",
       "      <th>2</th>\n",
       "      <td>2020</td>\n",
       "      <td>Jun</td>\n",
       "      <td>6</td>\n",
       "      <td>Fish</td>\n",
       "      <td>7280</td>\n",
       "      <td>Pandas</td>\n",
       "    </tr>\n",
       "    <tr>\n",
       "      <th>3</th>\n",
       "      <td>2020</td>\n",
       "      <td>Jun</td>\n",
       "      <td>6</td>\n",
       "      <td>Shrimp</td>\n",
       "      <td>2007</td>\n",
       "      <td>Pandas</td>\n",
       "    </tr>\n",
       "    <tr>\n",
       "      <th>4</th>\n",
       "      <td>2020</td>\n",
       "      <td>Jul</td>\n",
       "      <td>7</td>\n",
       "      <td>Fish</td>\n",
       "      <td>3574</td>\n",
       "      <td>Pandas</td>\n",
       "    </tr>\n",
       "    <tr>\n",
       "      <th>5</th>\n",
       "      <td>2020</td>\n",
       "      <td>Jul</td>\n",
       "      <td>7</td>\n",
       "      <td>Shrimp</td>\n",
       "      <td>9285</td>\n",
       "      <td>Pandas</td>\n",
       "    </tr>\n",
       "  </tbody>\n",
       "</table>\n",
       "</div>"
      ],
      "text/plain": [
       "   Year Month name  Month number Product name  Profit Company name\n",
       "0  2020        Jan             1         Fish    7415       Pandas\n",
       "1  2020        Jan             1       Shrimp    3239       Pandas\n",
       "2  2020        Jun             6         Fish    7280       Pandas\n",
       "3  2020        Jun             6       Shrimp    2007       Pandas\n",
       "4  2020        Jul             7         Fish    3574       Pandas\n",
       "5  2020        Jul             7       Shrimp    9285       Pandas"
      ]
     },
     "execution_count": 7,
     "metadata": {},
     "output_type": "execute_result"
    }
   ],
   "source": [
    "aqua = pd.DataFrame({\n",
    "    'Year': pd.Series([2020, 2020, 2020, 2020, 2020, 2020]),\n",
    "    'Month name': pd.Series(['Jan', 'Jan', 'Jun', 'Jun', 'Jul', 'Jul']),\n",
    "    'Month number': pd.Series([1, 1, 6, 6, 7, 7]),\n",
    "    'Product name': pd.Series(['Fish', 'Shrimp', 'Fish', 'Shrimp', 'Fish', 'Shrimp']),\n",
    "    'Profit': pd.Series([7415, 3239, 7280, 2007, 3574, 9285]),\n",
    "    'Company name': pd.Series(['Pandas', 'Pandas', 'Pandas', 'Pandas', 'Pandas', 'Pandas'])\n",
    "})\n",
    "aqua"
   ]
  },
  {
   "cell_type": "code",
   "execution_count": 8,
   "metadata": {},
   "outputs": [
    {
     "data": {
      "text/html": [
       "<div>\n",
       "<style scoped>\n",
       "    .dataframe tbody tr th:only-of-type {\n",
       "        vertical-align: middle;\n",
       "    }\n",
       "\n",
       "    .dataframe tbody tr th {\n",
       "        vertical-align: top;\n",
       "    }\n",
       "\n",
       "    .dataframe thead th {\n",
       "        text-align: right;\n",
       "    }\n",
       "</style>\n",
       "<table border=\"1\" class=\"dataframe\">\n",
       "  <thead>\n",
       "    <tr style=\"text-align: right;\">\n",
       "      <th></th>\n",
       "      <th>Year</th>\n",
       "      <th>MonthName</th>\n",
       "      <th>MonthNumber</th>\n",
       "      <th>ProductName</th>\n",
       "      <th>Profit</th>\n",
       "      <th>CompanyName</th>\n",
       "    </tr>\n",
       "  </thead>\n",
       "  <tbody>\n",
       "    <tr>\n",
       "      <th>0</th>\n",
       "      <td>2020</td>\n",
       "      <td>Jan</td>\n",
       "      <td>1</td>\n",
       "      <td>Fish</td>\n",
       "      <td>7415</td>\n",
       "      <td>Pandas</td>\n",
       "    </tr>\n",
       "    <tr>\n",
       "      <th>1</th>\n",
       "      <td>2020</td>\n",
       "      <td>Jan</td>\n",
       "      <td>1</td>\n",
       "      <td>Shrimp</td>\n",
       "      <td>3239</td>\n",
       "      <td>Pandas</td>\n",
       "    </tr>\n",
       "    <tr>\n",
       "      <th>2</th>\n",
       "      <td>2020</td>\n",
       "      <td>Jun</td>\n",
       "      <td>6</td>\n",
       "      <td>Fish</td>\n",
       "      <td>7280</td>\n",
       "      <td>Pandas</td>\n",
       "    </tr>\n",
       "    <tr>\n",
       "      <th>3</th>\n",
       "      <td>2020</td>\n",
       "      <td>Jun</td>\n",
       "      <td>6</td>\n",
       "      <td>Shrimp</td>\n",
       "      <td>2007</td>\n",
       "      <td>Pandas</td>\n",
       "    </tr>\n",
       "    <tr>\n",
       "      <th>4</th>\n",
       "      <td>2020</td>\n",
       "      <td>Jul</td>\n",
       "      <td>7</td>\n",
       "      <td>Fish</td>\n",
       "      <td>3574</td>\n",
       "      <td>Pandas</td>\n",
       "    </tr>\n",
       "    <tr>\n",
       "      <th>5</th>\n",
       "      <td>2020</td>\n",
       "      <td>Jul</td>\n",
       "      <td>7</td>\n",
       "      <td>Shrimp</td>\n",
       "      <td>9285</td>\n",
       "      <td>Pandas</td>\n",
       "    </tr>\n",
       "  </tbody>\n",
       "</table>\n",
       "</div>"
      ],
      "text/plain": [
       "   Year MonthName  MonthNumber ProductName  Profit CompanyName\n",
       "0  2020       Jan            1        Fish    7415      Pandas\n",
       "1  2020       Jan            1      Shrimp    3239      Pandas\n",
       "2  2020       Jun            6        Fish    7280      Pandas\n",
       "3  2020       Jun            6      Shrimp    2007      Pandas\n",
       "4  2020       Jul            7        Fish    3574      Pandas\n",
       "5  2020       Jul            7      Shrimp    9285      Pandas"
      ]
     },
     "execution_count": 8,
     "metadata": {},
     "output_type": "execute_result"
    }
   ],
   "source": [
    "# PascalCase\n",
    "aqua_pascal = aqua.copy()\n",
    "\n",
    "aqua_pascal.columns = aqua.columns.str.title().str.replace(' ', '')\n",
    "aqua_pascal"
   ]
  },
  {
   "cell_type": "code",
   "execution_count": 9,
   "metadata": {},
   "outputs": [
    {
     "data": {
      "text/html": [
       "<div>\n",
       "<style scoped>\n",
       "    .dataframe tbody tr th:only-of-type {\n",
       "        vertical-align: middle;\n",
       "    }\n",
       "\n",
       "    .dataframe tbody tr th {\n",
       "        vertical-align: top;\n",
       "    }\n",
       "\n",
       "    .dataframe thead th {\n",
       "        text-align: right;\n",
       "    }\n",
       "</style>\n",
       "<table border=\"1\" class=\"dataframe\">\n",
       "  <thead>\n",
       "    <tr style=\"text-align: right;\">\n",
       "      <th></th>\n",
       "      <th>year</th>\n",
       "      <th>month_name</th>\n",
       "      <th>month_number</th>\n",
       "      <th>product_name</th>\n",
       "      <th>profit</th>\n",
       "      <th>company_name</th>\n",
       "    </tr>\n",
       "  </thead>\n",
       "  <tbody>\n",
       "    <tr>\n",
       "      <th>0</th>\n",
       "      <td>2020</td>\n",
       "      <td>Jan</td>\n",
       "      <td>1</td>\n",
       "      <td>Fish</td>\n",
       "      <td>7415</td>\n",
       "      <td>Pandas</td>\n",
       "    </tr>\n",
       "    <tr>\n",
       "      <th>1</th>\n",
       "      <td>2020</td>\n",
       "      <td>Jan</td>\n",
       "      <td>1</td>\n",
       "      <td>Shrimp</td>\n",
       "      <td>3239</td>\n",
       "      <td>Pandas</td>\n",
       "    </tr>\n",
       "    <tr>\n",
       "      <th>2</th>\n",
       "      <td>2020</td>\n",
       "      <td>Jun</td>\n",
       "      <td>6</td>\n",
       "      <td>Fish</td>\n",
       "      <td>7280</td>\n",
       "      <td>Pandas</td>\n",
       "    </tr>\n",
       "    <tr>\n",
       "      <th>3</th>\n",
       "      <td>2020</td>\n",
       "      <td>Jun</td>\n",
       "      <td>6</td>\n",
       "      <td>Shrimp</td>\n",
       "      <td>2007</td>\n",
       "      <td>Pandas</td>\n",
       "    </tr>\n",
       "    <tr>\n",
       "      <th>4</th>\n",
       "      <td>2020</td>\n",
       "      <td>Jul</td>\n",
       "      <td>7</td>\n",
       "      <td>Fish</td>\n",
       "      <td>3574</td>\n",
       "      <td>Pandas</td>\n",
       "    </tr>\n",
       "    <tr>\n",
       "      <th>5</th>\n",
       "      <td>2020</td>\n",
       "      <td>Jul</td>\n",
       "      <td>7</td>\n",
       "      <td>Shrimp</td>\n",
       "      <td>9285</td>\n",
       "      <td>Pandas</td>\n",
       "    </tr>\n",
       "  </tbody>\n",
       "</table>\n",
       "</div>"
      ],
      "text/plain": [
       "   year month_name  month_number product_name  profit company_name\n",
       "0  2020        Jan             1         Fish    7415       Pandas\n",
       "1  2020        Jan             1       Shrimp    3239       Pandas\n",
       "2  2020        Jun             6         Fish    7280       Pandas\n",
       "3  2020        Jun             6       Shrimp    2007       Pandas\n",
       "4  2020        Jul             7         Fish    3574       Pandas\n",
       "5  2020        Jul             7       Shrimp    9285       Pandas"
      ]
     },
     "execution_count": 9,
     "metadata": {},
     "output_type": "execute_result"
    }
   ],
   "source": [
    "# snake_case\n",
    "aqua_snake = aqua.copy()\n",
    "\n",
    "aqua_snake.columns = aqua.columns.str.lower().str.replace(' ', '_')\n",
    "aqua_snake"
   ]
  },
  {
   "cell_type": "markdown",
   "metadata": {},
   "source": [
    "The `rename()` method allows renaming specific columns."
   ]
  },
  {
   "cell_type": "code",
   "execution_count": null,
   "metadata": {},
   "outputs": [],
   "source": [
    "aqua_snake.rename(columns={\n",
    "    'product_name': 'commodity',\n",
    "    'company_name': 'company'\n",
    "})"
   ]
  },
  {
   "cell_type": "markdown",
   "metadata": {},
   "source": [
    "#### Correcting data types"
   ]
  },
  {
   "cell_type": "code",
   "execution_count": 41,
   "metadata": {},
   "outputs": [
    {
     "data": {
      "text/html": [
       "<div>\n",
       "<style scoped>\n",
       "    .dataframe tbody tr th:only-of-type {\n",
       "        vertical-align: middle;\n",
       "    }\n",
       "\n",
       "    .dataframe tbody tr th {\n",
       "        vertical-align: top;\n",
       "    }\n",
       "\n",
       "    .dataframe thead th {\n",
       "        text-align: right;\n",
       "    }\n",
       "</style>\n",
       "<table border=\"1\" class=\"dataframe\">\n",
       "  <thead>\n",
       "    <tr style=\"text-align: right;\">\n",
       "      <th></th>\n",
       "      <th>year</th>\n",
       "      <th>date</th>\n",
       "      <th>time</th>\n",
       "      <th>medal</th>\n",
       "      <th>name</th>\n",
       "      <th>left_handed</th>\n",
       "    </tr>\n",
       "  </thead>\n",
       "  <tbody>\n",
       "    <tr>\n",
       "      <th>0</th>\n",
       "      <td>2019.0</td>\n",
       "      <td>20191103</td>\n",
       "      <td>145509</td>\n",
       "      <td>Gold</td>\n",
       "      <td>Wayne</td>\n",
       "      <td>1</td>\n",
       "    </tr>\n",
       "    <tr>\n",
       "      <th>1</th>\n",
       "      <td>2019.0</td>\n",
       "      <td>20190812</td>\n",
       "      <td>135433</td>\n",
       "      <td>Bronze</td>\n",
       "      <td>Robert</td>\n",
       "      <td>0</td>\n",
       "    </tr>\n",
       "    <tr>\n",
       "      <th>2</th>\n",
       "      <td>2020.0</td>\n",
       "      <td>20200125</td>\n",
       "      <td>214412</td>\n",
       "      <td>Silver</td>\n",
       "      <td>Ashley</td>\n",
       "      <td>0</td>\n",
       "    </tr>\n",
       "    <tr>\n",
       "      <th>3</th>\n",
       "      <td>2020.0</td>\n",
       "      <td>20200129</td>\n",
       "      <td>124254</td>\n",
       "      <td>Bronze</td>\n",
       "      <td>Jamie</td>\n",
       "      <td>0</td>\n",
       "    </tr>\n",
       "    <tr>\n",
       "      <th>4</th>\n",
       "      <td>2020.0</td>\n",
       "      <td>20200412</td>\n",
       "      <td>123349</td>\n",
       "      <td>Silver</td>\n",
       "      <td>Jessie</td>\n",
       "      <td>1</td>\n",
       "    </tr>\n",
       "    <tr>\n",
       "      <th>5</th>\n",
       "      <td>2020.0</td>\n",
       "      <td>20200220</td>\n",
       "      <td>233517</td>\n",
       "      <td>Silver</td>\n",
       "      <td>Sergio</td>\n",
       "      <td>0</td>\n",
       "    </tr>\n",
       "  </tbody>\n",
       "</table>\n",
       "</div>"
      ],
      "text/plain": [
       "     year      date    time   medal    name  left_handed\n",
       "0  2019.0  20191103  145509    Gold   Wayne            1\n",
       "1  2019.0  20190812  135433  Bronze  Robert            0\n",
       "2  2020.0  20200125  214412  Silver  Ashley            0\n",
       "3  2020.0  20200129  124254  Bronze   Jamie            0\n",
       "4  2020.0  20200412  123349  Silver  Jessie            1\n",
       "5  2020.0  20200220  233517  Silver  Sergio            0"
      ]
     },
     "execution_count": 41,
     "metadata": {},
     "output_type": "execute_result"
    }
   ],
   "source": [
    "athletes = pd.DataFrame({\n",
    "    'year': [2019, 2019, 2020., 2020, 2020, 2020],\n",
    "    'date': ['20191103', '20190812', '20200125', '20200129', '20200412', '20200220'],\n",
    "    'time': ['145509', '135433', '214412', '124254', '123349', '233517'],\n",
    "    'medal': ['Gold', 'Bronze', 'Silver', 'Bronze', 'Silver', 'Silver'],\n",
    "    'name': ['Wayne', 'Robert', 'Ashley', 'Jamie', 'Jessie', 'Sergio'],\n",
    "    'left_handed': [1, 0, 0, 0, 1, 0]\n",
    "})\n",
    "athletes"
   ]
  },
  {
   "cell_type": "code",
   "execution_count": 43,
   "metadata": {},
   "outputs": [
    {
     "data": {
      "text/plain": [
       "year           float64\n",
       "date            object\n",
       "time            object\n",
       "medal           object\n",
       "name            object\n",
       "left_handed      int64\n",
       "dtype: object"
      ]
     },
     "execution_count": 43,
     "metadata": {},
     "output_type": "execute_result"
    }
   ],
   "source": [
    "athletes.dtypes"
   ]
  },
  {
   "cell_type": "markdown",
   "metadata": {},
   "source": [
    "Simple data types (string or numeric) can easily be corrected using the `astype()` method."
   ]
  },
  {
   "cell_type": "code",
   "execution_count": null,
   "metadata": {},
   "outputs": [],
   "source": [
    "athletes = athletes.astype({\n",
    "    'year': int,\n",
    "    'left_handed': bool\n",
    "})\n",
    "athletes"
   ]
  },
  {
   "cell_type": "markdown",
   "metadata": {},
   "source": [
    "For more complex data types (date or categorical), the corresponding function have to be used."
   ]
  },
  {
   "cell_type": "code",
   "execution_count": null,
   "metadata": {},
   "outputs": [],
   "source": [
    "pd.to_datetime(athletes.date, format='%Y%m%d')"
   ]
  },
  {
   "cell_type": "code",
   "execution_count": 42,
   "metadata": {},
   "outputs": [
    {
     "data": {
      "text/plain": [
       "0   2019-11-03 14:55:09\n",
       "1   2019-08-12 13:54:33\n",
       "2   2020-01-25 21:44:12\n",
       "3   2020-01-29 12:42:54\n",
       "4   2020-04-12 12:33:49\n",
       "5   2020-02-20 23:35:17\n",
       "dtype: datetime64[ns]"
      ]
     },
     "execution_count": 42,
     "metadata": {},
     "output_type": "execute_result"
    }
   ],
   "source": [
    "pd.to_datetime(athletes.date + ' ' + athletes.time, format='%Y%m%d %H%M%S')"
   ]
  },
  {
   "cell_type": "code",
   "execution_count": null,
   "metadata": {},
   "outputs": [],
   "source": [
    "pd.Categorical(athletes.medal, categories=['Bronze', 'Silver', 'Gold'])"
   ]
  },
  {
   "cell_type": "code",
   "execution_count": null,
   "metadata": {},
   "outputs": [],
   "source": [
    "athletes.date = pd.to_datetime(athletes.date, format='%Y%m%d')\n",
    "athletes.medal = pd.Categorical(athletes.medal, categories=['Bronze', 'Silver', 'Gold'])\n",
    "athletes"
   ]
  },
  {
   "cell_type": "code",
   "execution_count": null,
   "metadata": {},
   "outputs": [],
   "source": [
    "athletes.sort_values(by='medal')"
   ]
  },
  {
   "cell_type": "markdown",
   "metadata": {},
   "source": [
    "#### Filtering"
   ]
  },
  {
   "cell_type": "code",
   "execution_count": 2,
   "metadata": {},
   "outputs": [
    {
     "data": {
      "text/html": [
       "<div>\n",
       "<style scoped>\n",
       "    .dataframe tbody tr th:only-of-type {\n",
       "        vertical-align: middle;\n",
       "    }\n",
       "\n",
       "    .dataframe tbody tr th {\n",
       "        vertical-align: top;\n",
       "    }\n",
       "\n",
       "    .dataframe thead th {\n",
       "        text-align: right;\n",
       "    }\n",
       "</style>\n",
       "<table border=\"1\" class=\"dataframe\">\n",
       "  <thead>\n",
       "    <tr style=\"text-align: right;\">\n",
       "      <th></th>\n",
       "      <th>worker</th>\n",
       "      <th>age</th>\n",
       "      <th>job</th>\n",
       "      <th>years_on_job</th>\n",
       "    </tr>\n",
       "  </thead>\n",
       "  <tbody>\n",
       "    <tr>\n",
       "      <th>0</th>\n",
       "      <td>Wayne</td>\n",
       "      <td>8</td>\n",
       "      <td>Student</td>\n",
       "      <td>0</td>\n",
       "    </tr>\n",
       "    <tr>\n",
       "      <th>1</th>\n",
       "      <td>Robert</td>\n",
       "      <td>37</td>\n",
       "      <td>Data Scientist</td>\n",
       "      <td>12</td>\n",
       "    </tr>\n",
       "    <tr>\n",
       "      <th>2</th>\n",
       "      <td>Ashley</td>\n",
       "      <td>25</td>\n",
       "      <td>DATA ANALYST</td>\n",
       "      <td>2</td>\n",
       "    </tr>\n",
       "    <tr>\n",
       "      <th>3</th>\n",
       "      <td>Jamie</td>\n",
       "      <td>26</td>\n",
       "      <td>data engineer</td>\n",
       "      <td>6</td>\n",
       "    </tr>\n",
       "    <tr>\n",
       "      <th>4</th>\n",
       "      <td>Jessie</td>\n",
       "      <td>80</td>\n",
       "      <td>Retired</td>\n",
       "      <td>0</td>\n",
       "    </tr>\n",
       "    <tr>\n",
       "      <th>5</th>\n",
       "      <td>Sergio</td>\n",
       "      <td>30</td>\n",
       "      <td>Business Intelligence</td>\n",
       "      <td>18</td>\n",
       "    </tr>\n",
       "    <tr>\n",
       "      <th>6</th>\n",
       "      <td>Harry</td>\n",
       "      <td>20</td>\n",
       "      <td>Student</td>\n",
       "      <td>12</td>\n",
       "    </tr>\n",
       "    <tr>\n",
       "      <th>7</th>\n",
       "      <td>Johnny</td>\n",
       "      <td>31</td>\n",
       "      <td>Data Analyst</td>\n",
       "      <td>2</td>\n",
       "    </tr>\n",
       "    <tr>\n",
       "      <th>8</th>\n",
       "      <td>Aaron</td>\n",
       "      <td>28</td>\n",
       "      <td>AI Engineer</td>\n",
       "      <td>8</td>\n",
       "    </tr>\n",
       "  </tbody>\n",
       "</table>\n",
       "</div>"
      ],
      "text/plain": [
       "   worker  age                    job  years_on_job\n",
       "0   Wayne    8                Student             0\n",
       "1  Robert   37         Data Scientist            12\n",
       "2  Ashley   25           DATA ANALYST             2\n",
       "3   Jamie   26          data engineer             6\n",
       "4  Jessie   80                Retired             0\n",
       "5  Sergio   30  Business Intelligence            18\n",
       "6   Harry   20                Student            12\n",
       "7  Johnny   31           Data Analyst             2\n",
       "8   Aaron   28            AI Engineer             8"
      ]
     },
     "execution_count": 2,
     "metadata": {},
     "output_type": "execute_result"
    }
   ],
   "source": [
    "ds = pd.DataFrame({\n",
    "    'worker': [\n",
    "        'Wayne', 'Robert', 'Ashley',\n",
    "        'Jamie', 'Jessie', 'Sergio',\n",
    "        'Harry', 'Johnny', 'Aaron'\n",
    "    ],\n",
    "    'age': [8, 37, 25, 26, 80, 30, 20, 31, 28],\n",
    "    'job': [\n",
    "        'Student', 'Data Scientist', 'DATA ANALYST',\n",
    "        'data engineer', 'Retired', 'Business Intelligence',\n",
    "        'Student', 'Data Analyst', 'AI Engineer'\n",
    "    ],\n",
    "    'years_on_job': [0, 12, 2, 6, 0, 18, 12, 2, 8]\n",
    "})\n",
    "ds"
   ]
  },
  {
   "cell_type": "markdown",
   "metadata": {},
   "source": [
    "In the dataset above, we only consider people who are in legal working age (15 to 60) and are working in the data industry. Notice that `age` minus `years_on_job` (which calculates how old did he/she starts working) cannot be smaller than 15."
   ]
  },
  {
   "cell_type": "code",
   "execution_count": 3,
   "metadata": {},
   "outputs": [
    {
     "data": {
      "text/html": [
       "<div>\n",
       "<style scoped>\n",
       "    .dataframe tbody tr th:only-of-type {\n",
       "        vertical-align: middle;\n",
       "    }\n",
       "\n",
       "    .dataframe tbody tr th {\n",
       "        vertical-align: top;\n",
       "    }\n",
       "\n",
       "    .dataframe thead th {\n",
       "        text-align: right;\n",
       "    }\n",
       "</style>\n",
       "<table border=\"1\" class=\"dataframe\">\n",
       "  <thead>\n",
       "    <tr style=\"text-align: right;\">\n",
       "      <th></th>\n",
       "      <th>worker</th>\n",
       "      <th>age</th>\n",
       "      <th>job</th>\n",
       "      <th>years_on_job</th>\n",
       "    </tr>\n",
       "  </thead>\n",
       "  <tbody>\n",
       "    <tr>\n",
       "      <th>1</th>\n",
       "      <td>Robert</td>\n",
       "      <td>37</td>\n",
       "      <td>Data Scientist</td>\n",
       "      <td>12</td>\n",
       "    </tr>\n",
       "    <tr>\n",
       "      <th>2</th>\n",
       "      <td>Ashley</td>\n",
       "      <td>25</td>\n",
       "      <td>DATA ANALYST</td>\n",
       "      <td>2</td>\n",
       "    </tr>\n",
       "    <tr>\n",
       "      <th>3</th>\n",
       "      <td>Jamie</td>\n",
       "      <td>26</td>\n",
       "      <td>data engineer</td>\n",
       "      <td>6</td>\n",
       "    </tr>\n",
       "    <tr>\n",
       "      <th>7</th>\n",
       "      <td>Johnny</td>\n",
       "      <td>31</td>\n",
       "      <td>Data Analyst</td>\n",
       "      <td>2</td>\n",
       "    </tr>\n",
       "  </tbody>\n",
       "</table>\n",
       "</div>"
      ],
      "text/plain": [
       "   worker  age             job  years_on_job\n",
       "1  Robert   37  Data Scientist            12\n",
       "2  Ashley   25    DATA ANALYST             2\n",
       "3   Jamie   26   data engineer             6\n",
       "7  Johnny   31    Data Analyst             2"
      ]
     },
     "execution_count": 3,
     "metadata": {},
     "output_type": "execute_result"
    }
   ],
   "source": [
    "ds[\n",
    "    (ds.job.str.lower().str.contains('data')) &\n",
    "    (ds.age >= 15) &\n",
    "    (ds.age <= 60) &\n",
    "    (ds.age - ds.years_on_job >= 15)\n",
    "]"
   ]
  },
  {
   "cell_type": "markdown",
   "metadata": {},
   "source": [
    "## 2.2. Text cleaning"
   ]
  },
  {
   "cell_type": "code",
   "execution_count": null,
   "metadata": {},
   "outputs": [],
   "source": [
    "import numpy as np\n",
    "import pandas as pd"
   ]
  },
  {
   "cell_type": "markdown",
   "metadata": {},
   "source": [
    "#### Trimming\n",
    "Space and newline characters usually appear in text columns, because of user's habit."
   ]
  },
  {
   "cell_type": "code",
   "execution_count": null,
   "metadata": {},
   "outputs": [],
   "source": [
    "trade = pd.DataFrame({\n",
    "    'year': pd.Series([2017, 2018, 2019, 2020]),\n",
    "    'country': pd.Series([\n",
    "        'United\\nKingdom  ',\n",
    "        '  United\\nKingdom',\n",
    "        'United    Kingdom',\n",
    "        ' United Kingdom\\n']),\n",
    "    'export': pd.Series([5466, 8558, 8435, 8435]),\n",
    "    'import': pd.Series([1546, 3546, 2007, 3574])\n",
    "})\n",
    "trade"
   ]
  },
  {
   "cell_type": "code",
   "execution_count": null,
   "metadata": {},
   "outputs": [],
   "source": [
    "trade.country.unique()"
   ]
  },
  {
   "cell_type": "code",
   "execution_count": null,
   "metadata": {},
   "outputs": [],
   "source": [
    "trade.country.str.split().str.join(' ')"
   ]
  },
  {
   "cell_type": "code",
   "execution_count": null,
   "metadata": {},
   "outputs": [],
   "source": [
    "trade.country = trade.country.str.split().str.join(' ')\n",
    "trade.country.unique()"
   ]
  },
  {
   "cell_type": "markdown",
   "metadata": {},
   "source": [
    "#### Standardization\n",
    "The approach is to translate different naming convention, abbreviations or formats into one unique value."
   ]
  },
  {
   "cell_type": "code",
   "execution_count": null,
   "metadata": {},
   "outputs": [],
   "source": [
    "shrimp = pd.DataFrame({\n",
    "    'date': ['2020-01-01', '2020-01-02', '2020-01-03'],\n",
    "    'commodity': ['Shrimp, frozen, chem free', 'Shrimp, frz, chemical-free', 'Prawn, frz, chemical-free'],\n",
    "    'price': [10, 13, 14],\n",
    "    'unit': ['usd/kg', 'USD/KG', 'USD/kg']\n",
    "})\n",
    "shrimp"
   ]
  },
  {
   "cell_type": "code",
   "execution_count": null,
   "metadata": {},
   "outputs": [],
   "source": [
    "shrimp.commodity = shrimp.commodity.str.replace('Prawn', 'Shrimp')\n",
    "shrimp.commodity = shrimp.commodity.str.replace('frz', 'frozen')\n",
    "shrimp.commodity = shrimp.commodity.str.replace('chem free', 'chemical-free')\n",
    "shrimp.unit = shrimp.unit.str.replace('usd', 'USD')\n",
    "shrimp.unit = shrimp.unit.str.replace('KG', 'kg')"
   ]
  },
  {
   "cell_type": "code",
   "execution_count": null,
   "metadata": {},
   "outputs": [],
   "source": [
    "shrimp"
   ]
  },
  {
   "cell_type": "markdown",
   "metadata": {},
   "source": [
    "#### Padding numbers"
   ]
  },
  {
   "cell_type": "code",
   "execution_count": null,
   "metadata": {},
   "outputs": [],
   "source": [
    "info = pd.DataFrame({\n",
    "    'customer_id': [3, 423, 5464],\n",
    "    'phone': [363334444, 913334444, 123334444],\n",
    "    'name': ['Jack', 'James', 'Gabriel'],\n",
    "    'information': ['England Male', 'Colombia Male', 'France Female']\n",
    "})\n",
    "info"
   ]
  },
  {
   "cell_type": "code",
   "execution_count": null,
   "metadata": {},
   "outputs": [],
   "source": [
    "info = info.astype(str)\n",
    "info.dtypes"
   ]
  },
  {
   "cell_type": "code",
   "execution_count": null,
   "metadata": {},
   "outputs": [],
   "source": [
    "info.customer_id = info.customer_id.str.pad(width=4, fillchar='0')\n",
    "info.phone = info.phone.str.pad(width=10, fillchar='0')"
   ]
  },
  {
   "cell_type": "code",
   "execution_count": null,
   "metadata": {},
   "outputs": [],
   "source": [
    "info"
   ]
  },
  {
   "cell_type": "markdown",
   "metadata": {},
   "source": [
    "#### Spliting a column"
   ]
  },
  {
   "cell_type": "code",
   "execution_count": 4,
   "metadata": {},
   "outputs": [
    {
     "data": {
      "text/html": [
       "<div>\n",
       "<style scoped>\n",
       "    .dataframe tbody tr th:only-of-type {\n",
       "        vertical-align: middle;\n",
       "    }\n",
       "\n",
       "    .dataframe tbody tr th {\n",
       "        vertical-align: top;\n",
       "    }\n",
       "\n",
       "    .dataframe thead th {\n",
       "        text-align: right;\n",
       "    }\n",
       "</style>\n",
       "<table border=\"1\" class=\"dataframe\">\n",
       "  <thead>\n",
       "    <tr style=\"text-align: right;\">\n",
       "      <th></th>\n",
       "      <th>customer_id</th>\n",
       "      <th>phone</th>\n",
       "      <th>name</th>\n",
       "      <th>information</th>\n",
       "    </tr>\n",
       "  </thead>\n",
       "  <tbody>\n",
       "    <tr>\n",
       "      <th>0</th>\n",
       "      <td>3</td>\n",
       "      <td>363334444</td>\n",
       "      <td>Jack</td>\n",
       "      <td>England Male</td>\n",
       "    </tr>\n",
       "    <tr>\n",
       "      <th>1</th>\n",
       "      <td>423</td>\n",
       "      <td>913334444</td>\n",
       "      <td>James</td>\n",
       "      <td>Colombia Male</td>\n",
       "    </tr>\n",
       "    <tr>\n",
       "      <th>2</th>\n",
       "      <td>5464</td>\n",
       "      <td>123334444</td>\n",
       "      <td>Gabriel</td>\n",
       "      <td>France Female</td>\n",
       "    </tr>\n",
       "  </tbody>\n",
       "</table>\n",
       "</div>"
      ],
      "text/plain": [
       "   customer_id      phone     name    information\n",
       "0            3  363334444     Jack   England Male\n",
       "1          423  913334444    James  Colombia Male\n",
       "2         5464  123334444  Gabriel  France Female"
      ]
     },
     "execution_count": 4,
     "metadata": {},
     "output_type": "execute_result"
    }
   ],
   "source": [
    "info = pd.DataFrame({\n",
    "    'customer_id': [3, 423, 5464],\n",
    "    'phone': [363334444, 913334444, 123334444],\n",
    "    'name': ['Jack', 'James', 'Gabriel'],\n",
    "    'information': ['England Male', 'Colombia Male', 'France Female']\n",
    "})\n",
    "info"
   ]
  },
  {
   "cell_type": "code",
   "execution_count": 8,
   "metadata": {},
   "outputs": [
    {
     "data": {
      "text/plain": [
       "0     [England, Male]\n",
       "1    [Colombia, Male]\n",
       "2    [France, Female]\n",
       "Name: information, dtype: object"
      ]
     },
     "execution_count": 8,
     "metadata": {},
     "output_type": "execute_result"
    }
   ],
   "source": [
    "info['information'].str.split()"
   ]
  },
  {
   "cell_type": "code",
   "execution_count": 6,
   "metadata": {},
   "outputs": [
    {
     "data": {
      "text/html": [
       "<div>\n",
       "<style scoped>\n",
       "    .dataframe tbody tr th:only-of-type {\n",
       "        vertical-align: middle;\n",
       "    }\n",
       "\n",
       "    .dataframe tbody tr th {\n",
       "        vertical-align: top;\n",
       "    }\n",
       "\n",
       "    .dataframe thead th {\n",
       "        text-align: right;\n",
       "    }\n",
       "</style>\n",
       "<table border=\"1\" class=\"dataframe\">\n",
       "  <thead>\n",
       "    <tr style=\"text-align: right;\">\n",
       "      <th></th>\n",
       "      <th>customer_id</th>\n",
       "      <th>phone</th>\n",
       "      <th>name</th>\n",
       "      <th>nationality</th>\n",
       "      <th>gender</th>\n",
       "    </tr>\n",
       "  </thead>\n",
       "  <tbody>\n",
       "    <tr>\n",
       "      <th>0</th>\n",
       "      <td>3</td>\n",
       "      <td>363334444</td>\n",
       "      <td>Jack</td>\n",
       "      <td>England</td>\n",
       "      <td>Male</td>\n",
       "    </tr>\n",
       "    <tr>\n",
       "      <th>1</th>\n",
       "      <td>423</td>\n",
       "      <td>913334444</td>\n",
       "      <td>James</td>\n",
       "      <td>Colombia</td>\n",
       "      <td>Male</td>\n",
       "    </tr>\n",
       "    <tr>\n",
       "      <th>2</th>\n",
       "      <td>5464</td>\n",
       "      <td>123334444</td>\n",
       "      <td>Gabriel</td>\n",
       "      <td>France</td>\n",
       "      <td>Female</td>\n",
       "    </tr>\n",
       "  </tbody>\n",
       "</table>\n",
       "</div>"
      ],
      "text/plain": [
       "   customer_id      phone     name nationality  gender\n",
       "0            3  363334444     Jack     England    Male\n",
       "1          423  913334444    James    Colombia    Male\n",
       "2         5464  123334444  Gabriel      France  Female"
      ]
     },
     "execution_count": 6,
     "metadata": {},
     "output_type": "execute_result"
    }
   ],
   "source": [
    "# unpacking\n",
    "info['nationality'], info['gender'] = info['information'].str.split().str\n",
    "\n",
    "info.drop(columns=['information'])"
   ]
  },
  {
   "cell_type": "markdown",
   "metadata": {},
   "source": [
    "#### Concatenating columns"
   ]
  },
  {
   "cell_type": "code",
   "execution_count": null,
   "metadata": {},
   "outputs": [],
   "source": [
    "football = pd.DataFrame({\n",
    "    'first_name': ['Wayne', 'Cristiano', 'Lionel'],\n",
    "    'last_name': ['Rooney', 'Ronaldo', 'Messi'],\n",
    "    'position': ['Second Striker', 'Left Winger', 'Right Winger']\n",
    "})\n",
    "football"
   ]
  },
  {
   "cell_type": "code",
   "execution_count": null,
   "metadata": {},
   "outputs": [],
   "source": [
    "football['player'] = football.first_name + ' ' + football.last_name"
   ]
  },
  {
   "cell_type": "code",
   "execution_count": null,
   "metadata": {},
   "outputs": [],
   "source": [
    "football"
   ]
  },
  {
   "cell_type": "markdown",
   "metadata": {},
   "source": [
    "# 3. Handling missing data"
   ]
  },
  {
   "cell_type": "markdown",
   "metadata": {},
   "source": [
    "## 3.1. Why is data missing?"
   ]
  },
  {
   "cell_type": "code",
   "execution_count": 2,
   "metadata": {},
   "outputs": [],
   "source": [
    "import numpy as np\n",
    "import pandas as pd"
   ]
  },
  {
   "cell_type": "markdown",
   "metadata": {},
   "source": [
    "<script src=\"https://cdn.plot.ly/plotly-latest.min.js\"></script>\n",
    "<div id=\"myChart\"></div>\n",
    "<script type=\"text/javascript\">\n",
    "    let chartDiv = document.getElementById('myChart');\n",
    "    Plotly.newPlot(chartDiv, {\n",
    "        x: [1, 2],\n",
    "        y: [3, 4],\n",
    "        margin: { t: 0 }\n",
    "    });\n",
    "</script>"
   ]
  },
  {
   "cell_type": "markdown",
   "metadata": {},
   "source": [
    "<table border=\"0\">\n",
    "    <tr>\n",
    "        <td style=\"width:33%; text-align:center\">\n",
    "            <b>Missing Completely At Random (MCAR)</b>\n",
    "        </td>\n",
    "        <td style=\"width:33%; text-align:center\">\n",
    "            <b>Missing At Random (MAR)</b>\n",
    "        </td>\n",
    "        <td style=\"width:34%; text-align:center\">\n",
    "            <b>Missing Not At Random (MNAR)</b>\n",
    "        </td>\n",
    "    </tr>\n",
    "    <tr>\n",
    "        <td style=\"text-align:justify\">\n",
    "            The name says it all. There's no actual reason behind the missing values.\n",
    "            This type of missing does not lead to bias, therefore\n",
    "            deletion and imputation are both suitable solutions.\n",
    "        </td>\n",
    "        <td style=\"text-align:justify\">\n",
    "            The missing values in a feature relate to another feature.\n",
    "            For example, under 25 years old people miss their IQ score.\n",
    "            Deleting these records causes bias, that makes imputing the best choice.\n",
    "        </td>\n",
    "        <td style=\"text-align:justify\"> \n",
    "            Assume people with IQ score of 100 or less tend to refuse to answer the survey.\n",
    "            There is no way missing data can be infered only by looking at collected data.\n",
    "            Either deletion or imputation makes data biased, and Data Scientist may not even realize it's MNAR.\n",
    "        </td>\n",
    "    </tr>\n",
    "    <tr>\n",
    "        <td>\n",
    "            <table>\n",
    "                <tr><th>Complete data</th><th>Real data</th></tr>\n",
    "<tr><td>\n",
    "    \n",
    "Age |IQ Score|\n",
    ":---|:-------|\n",
    "20  |120     |\n",
    "22  |112     |\n",
    "24  |127     |\n",
    "29  |97      |\n",
    "30  |103     |\n",
    "40  |95      |\n",
    "45  |141     |\n",
    "47  |92      |\n",
    "52  |115     |\n",
    "\n",
    "</td><td>\n",
    "\n",
    "Age |IQ Score|\n",
    ":---|:-------|\n",
    "20  |120     |\n",
    "22  |        |\n",
    "24  |127     |\n",
    "29  |        |\n",
    "30  |103     |\n",
    "40  |95      |\n",
    "45  |        |\n",
    "47  |92      |\n",
    "52  |115     |\n",
    "\n",
    "</td></tr>\n",
    "            </table>\n",
    "        </td>\n",
    "        <td>\n",
    "            <table>\n",
    "                <tr><th>Complete data</th><th>Real data</th></tr>\n",
    "<tr><td>\n",
    "    \n",
    "Age |IQ Score|\n",
    ":---|:-------|\n",
    "20  |120     |\n",
    "22  |112     |\n",
    "24  |127     |\n",
    "29  |97      |\n",
    "30  |103     |\n",
    "40  |95      |\n",
    "45  |141     |\n",
    "47  |92      |\n",
    "52  |115     |\n",
    "\n",
    "</td><td>\n",
    "\n",
    "Age |IQ Score|\n",
    ":---|:-------|\n",
    "20  |        |\n",
    "22  |        |\n",
    "24  |        |\n",
    "29  |97      |\n",
    "30  |103     |\n",
    "40  |95      |\n",
    "45  |141     |\n",
    "47  |92      |\n",
    "52  |115     |\n",
    "\n",
    "</td></tr>\n",
    "            </table>\n",
    "        </td>\n",
    "        <td>\n",
    "            <table>\n",
    "                <tr><th>Complete data</th><th>Real data</th></tr>\n",
    "<tr><td>\n",
    "    \n",
    "Age |IQ Score|\n",
    ":---|:-------|\n",
    "20  |120     |\n",
    "22  |112     |\n",
    "24  |127     |\n",
    "29  |97      |\n",
    "30  |103     |\n",
    "40  |95      |\n",
    "45  |141     |\n",
    "47  |92      |\n",
    "52  |115     |\n",
    "\n",
    "</td><td>\n",
    "\n",
    "Age |IQ Score|\n",
    ":---|:-------|\n",
    "20  |120     |\n",
    "22  |112     |\n",
    "24  |127     |\n",
    "29  |        |\n",
    "30  |103     |\n",
    "40  |        |\n",
    "45  |141     |\n",
    "47  |        |\n",
    "52  |115     |\n",
    "\n",
    "</td></tr>\n",
    "            </table>\n",
    "        </td>\n",
    "    </tr>\n",
    "</table>"
   ]
  },
  {
   "cell_type": "code",
   "execution_count": null,
   "metadata": {},
   "outputs": [],
   "source": [
    "# COVID-19 data\n",
    "country = ['USA', 'Brazil', 'India', 'Russia', 'South Africa',\n",
    "           'Peru', 'Mexico', 'Chile', 'Iran', 'Italy']\n",
    "cases = [4169991, 2289951, 1288130, 795038, 408052, 371096, 370712, 338759, 284034, 245338]\n",
    "deaths = [147333, 84207, 30645, 12892, 6093, 17645, 41908, 8838, 15074, 35029]\n",
    "recovered = [1979617, 1570237, 817593, 580330, 236260, 255945, 236209, 311431, 247230, 197842]\n",
    "area = ['North America', 'South America', 'Asia', 'Europe', 'Africa',\n",
    "        'South America', 'North America', 'South America', 'Asia', 'Europe']\n",
    "\n",
    "pd.DataFrame({\n",
    "    'country': country,\n",
    "    'cases': cases,\n",
    "    'deaths': deaths,\n",
    "    'recovered': recovered,\n",
    "    'area': area\n",
    "})"
   ]
  },
  {
   "cell_type": "markdown",
   "metadata": {},
   "source": [
    "## 3.2. Deleting"
   ]
  },
  {
   "cell_type": "code",
   "execution_count": 2,
   "metadata": {},
   "outputs": [],
   "source": [
    "import numpy as np\n",
    "import pandas as pd"
   ]
  },
  {
   "cell_type": "markdown",
   "metadata": {},
   "source": [
    "#### Columns deleting\n",
    "A column having more than 50% of missing data can be drop."
   ]
  },
  {
   "cell_type": "code",
   "execution_count": 3,
   "metadata": {},
   "outputs": [
    {
     "data": {
      "text/html": [
       "<div>\n",
       "<style scoped>\n",
       "    .dataframe tbody tr th:only-of-type {\n",
       "        vertical-align: middle;\n",
       "    }\n",
       "\n",
       "    .dataframe tbody tr th {\n",
       "        vertical-align: top;\n",
       "    }\n",
       "\n",
       "    .dataframe thead th {\n",
       "        text-align: right;\n",
       "    }\n",
       "</style>\n",
       "<table border=\"1\" class=\"dataframe\">\n",
       "  <thead>\n",
       "    <tr style=\"text-align: right;\">\n",
       "      <th></th>\n",
       "      <th>country</th>\n",
       "      <th>cases</th>\n",
       "      <th>deaths</th>\n",
       "      <th>recovered</th>\n",
       "    </tr>\n",
       "  </thead>\n",
       "  <tbody>\n",
       "    <tr>\n",
       "      <th>0</th>\n",
       "      <td>USA</td>\n",
       "      <td>4169991</td>\n",
       "      <td>147333</td>\n",
       "      <td>1979617.0</td>\n",
       "    </tr>\n",
       "    <tr>\n",
       "      <th>1</th>\n",
       "      <td>Brazil</td>\n",
       "      <td>2289951</td>\n",
       "      <td>84207</td>\n",
       "      <td>NaN</td>\n",
       "    </tr>\n",
       "    <tr>\n",
       "      <th>2</th>\n",
       "      <td>India</td>\n",
       "      <td>1288130</td>\n",
       "      <td>30645</td>\n",
       "      <td>NaN</td>\n",
       "    </tr>\n",
       "    <tr>\n",
       "      <th>3</th>\n",
       "      <td>Russia</td>\n",
       "      <td>795038</td>\n",
       "      <td>12892</td>\n",
       "      <td>580330.0</td>\n",
       "    </tr>\n",
       "    <tr>\n",
       "      <th>4</th>\n",
       "      <td>South Africa</td>\n",
       "      <td>408052</td>\n",
       "      <td>6093</td>\n",
       "      <td>NaN</td>\n",
       "    </tr>\n",
       "    <tr>\n",
       "      <th>5</th>\n",
       "      <td>Peru</td>\n",
       "      <td>371096</td>\n",
       "      <td>17645</td>\n",
       "      <td>NaN</td>\n",
       "    </tr>\n",
       "    <tr>\n",
       "      <th>6</th>\n",
       "      <td>Mexico</td>\n",
       "      <td>370712</td>\n",
       "      <td>41908</td>\n",
       "      <td>236209.0</td>\n",
       "    </tr>\n",
       "    <tr>\n",
       "      <th>7</th>\n",
       "      <td>Chile</td>\n",
       "      <td>338759</td>\n",
       "      <td>8838</td>\n",
       "      <td>NaN</td>\n",
       "    </tr>\n",
       "    <tr>\n",
       "      <th>8</th>\n",
       "      <td>Iran</td>\n",
       "      <td>284034</td>\n",
       "      <td>15074</td>\n",
       "      <td>247230.0</td>\n",
       "    </tr>\n",
       "    <tr>\n",
       "      <th>9</th>\n",
       "      <td>Italy</td>\n",
       "      <td>245338</td>\n",
       "      <td>35029</td>\n",
       "      <td>NaN</td>\n",
       "    </tr>\n",
       "  </tbody>\n",
       "</table>\n",
       "</div>"
      ],
      "text/plain": [
       "        country    cases  deaths  recovered\n",
       "0           USA  4169991  147333  1979617.0\n",
       "1        Brazil  2289951   84207        NaN\n",
       "2         India  1288130   30645        NaN\n",
       "3        Russia   795038   12892   580330.0\n",
       "4  South Africa   408052    6093        NaN\n",
       "5          Peru   371096   17645        NaN\n",
       "6        Mexico   370712   41908   236209.0\n",
       "7         Chile   338759    8838        NaN\n",
       "8          Iran   284034   15074   247230.0\n",
       "9         Italy   245338   35029        NaN"
      ]
     },
     "execution_count": 3,
     "metadata": {},
     "output_type": "execute_result"
    }
   ],
   "source": [
    "country = ['USA', 'Brazil', 'India', 'Russia', 'South Africa', 'Peru', 'Mexico', 'Chile', 'Iran', 'Italy']\n",
    "cases = [4169991, 2289951, 1288130, 795038, 408052, 371096, 370712, 338759, 284034, 245338]\n",
    "deaths = [147333, 84207, 30645, 12892, 6093, 17645, 41908, 8838, 15074, 35029]\n",
    "recovered = [1979617, None, None, 580330, None, None, 236209, None, 247230, None]\n",
    "\n",
    "covid = pd.DataFrame({\n",
    "    'country': country,\n",
    "    'cases': cases,\n",
    "    'deaths': deaths,\n",
    "    'recovered': recovered\n",
    "})\n",
    "covid"
   ]
  },
  {
   "cell_type": "code",
   "execution_count": 5,
   "metadata": {},
   "outputs": [
    {
     "data": {
      "text/plain": [
       "country      0.0\n",
       "cases        0.0\n",
       "deaths       0.0\n",
       "recovered    0.6\n",
       "dtype: float64"
      ]
     },
     "execution_count": 5,
     "metadata": {},
     "output_type": "execute_result"
    }
   ],
   "source": [
    "covid.isna().mean().map('{:.0%}'.format)"
   ]
  },
  {
   "cell_type": "code",
   "execution_count": null,
   "metadata": {},
   "outputs": [],
   "source": [
    "covid.drop(columns='recovered')"
   ]
  },
  {
   "cell_type": "markdown",
   "metadata": {},
   "source": [
    "#### Rows deleting"
   ]
  },
  {
   "cell_type": "code",
   "execution_count": null,
   "metadata": {},
   "outputs": [],
   "source": [
    "country = ['USA', 'Brazil', 'India', 'Russia', 'South Africa', 'Peru', 'Mexico', 'Chile', 'Iran', 'Italy']\n",
    "cases = [4169991, 2289951, 1288130, 795038, 408052, 371096, 370712, 338759, 284034, 245338]\n",
    "deaths = [147333, 84207, 30645, 12892, 6093, 17645, 41908, 8838, 15074, 35029]\n",
    "recovered = [1979617, None, 817593, None, 236260, 255945, 236209, 311431, 247230, 197842]\n",
    "\n",
    "covid = pd.DataFrame({\n",
    "    'country': country,\n",
    "    'cases': cases,\n",
    "    'deaths': deaths,\n",
    "    'recovered': recovered\n",
    "})\n",
    "covid"
   ]
  },
  {
   "cell_type": "code",
   "execution_count": null,
   "metadata": {},
   "outputs": [],
   "source": [
    "covid.dropna(subset=['recovered'])"
   ]
  },
  {
   "cell_type": "markdown",
   "metadata": {},
   "source": [
    "## 3.3. Filling\n",
    "Some values may be used to fill missing date are mean, median, mode and zero."
   ]
  },
  {
   "cell_type": "code",
   "execution_count": null,
   "metadata": {},
   "outputs": [],
   "source": [
    "import numpy as np\n",
    "import pandas as pd"
   ]
  },
  {
   "cell_type": "code",
   "execution_count": null,
   "metadata": {},
   "outputs": [],
   "source": [
    "country = ['USA', 'Brazil', 'India', 'Russia', 'South Africa',\n",
    "           'Peru', 'Mexico', 'Chile', 'Iran', 'Italy']\n",
    "cases = [4169991, 2289951, 1288130, 795038, 408052, 371096, 370712, 338759, 284034, 245338]\n",
    "deaths = [147333, 84207, 30645, 12892, 6093, 17645, 41908, 8838, 15074, 35029]\n",
    "recovered = [1979617, None, 817593, None, 236260, 255945, 236209, 311431, 247230, 197842]\n",
    "area = ['North America', 'South America', 'Asia', np.nan, 'Africa',\n",
    "        'South America', 'North America', 'South America', np.nan, 'Europe']\n",
    "\n",
    "covid = pd.DataFrame({\n",
    "    'country': country,\n",
    "    'cases': cases,\n",
    "    'deaths': deaths,\n",
    "    'recovered': recovered,\n",
    "    'area': area\n",
    "})\n",
    "covid"
   ]
  },
  {
   "cell_type": "code",
   "execution_count": null,
   "metadata": {},
   "outputs": [],
   "source": [
    "recovered_mean = covid.recovered.mean()\n",
    "recovered_mean"
   ]
  },
  {
   "cell_type": "code",
   "execution_count": null,
   "metadata": {},
   "outputs": [],
   "source": [
    "area_mode = covid.area.mode()[0]\n",
    "area_mode"
   ]
  },
  {
   "cell_type": "code",
   "execution_count": null,
   "metadata": {},
   "outputs": [],
   "source": [
    "covid.recovered = covid.recovered.fillna(recovered_mean)\n",
    "covid.area = covid.area.fillna(continent_mode)\n",
    "covid"
   ]
  },
  {
   "cell_type": "markdown",
   "metadata": {},
   "source": [
    "## 3.4. Imputing\n",
    "k-NN (k-Nearest Neighbors) is one of the machine learning algorithms can be used in imputing missing values. This algorithm considers $k$ nearest observations (according to some distance metrics) to predict missing values."
   ]
  },
  {
   "cell_type": "code",
   "execution_count": 14,
   "metadata": {},
   "outputs": [],
   "source": [
    "import numpy as np\n",
    "import pandas as pd"
   ]
  },
  {
   "cell_type": "code",
   "execution_count": 15,
   "metadata": {},
   "outputs": [
    {
     "data": {
      "text/html": [
       "<div>\n",
       "<style scoped>\n",
       "    .dataframe tbody tr th:only-of-type {\n",
       "        vertical-align: middle;\n",
       "    }\n",
       "\n",
       "    .dataframe tbody tr th {\n",
       "        vertical-align: top;\n",
       "    }\n",
       "\n",
       "    .dataframe thead th {\n",
       "        text-align: right;\n",
       "    }\n",
       "</style>\n",
       "<table border=\"1\" class=\"dataframe\">\n",
       "  <thead>\n",
       "    <tr style=\"text-align: right;\">\n",
       "      <th></th>\n",
       "      <th>country</th>\n",
       "      <th>cases</th>\n",
       "      <th>deaths</th>\n",
       "      <th>recovered</th>\n",
       "      <th>area</th>\n",
       "    </tr>\n",
       "  </thead>\n",
       "  <tbody>\n",
       "    <tr>\n",
       "      <th>0</th>\n",
       "      <td>USA</td>\n",
       "      <td>4169991</td>\n",
       "      <td>147333</td>\n",
       "      <td>1979617</td>\n",
       "      <td>America</td>\n",
       "    </tr>\n",
       "    <tr>\n",
       "      <th>1</th>\n",
       "      <td>Brazil</td>\n",
       "      <td>2289951</td>\n",
       "      <td>84207</td>\n",
       "      <td>1570237</td>\n",
       "      <td>America</td>\n",
       "    </tr>\n",
       "    <tr>\n",
       "      <th>2</th>\n",
       "      <td>India</td>\n",
       "      <td>1288130</td>\n",
       "      <td>30645</td>\n",
       "      <td>817593</td>\n",
       "      <td>Asia</td>\n",
       "    </tr>\n",
       "    <tr>\n",
       "      <th>3</th>\n",
       "      <td>Russia</td>\n",
       "      <td>795038</td>\n",
       "      <td>12892</td>\n",
       "      <td>580330</td>\n",
       "      <td>NaN</td>\n",
       "    </tr>\n",
       "    <tr>\n",
       "      <th>4</th>\n",
       "      <td>South Africa</td>\n",
       "      <td>408052</td>\n",
       "      <td>6093</td>\n",
       "      <td>236260</td>\n",
       "      <td>Africa</td>\n",
       "    </tr>\n",
       "    <tr>\n",
       "      <th>5</th>\n",
       "      <td>Peru</td>\n",
       "      <td>371096</td>\n",
       "      <td>17645</td>\n",
       "      <td>255945</td>\n",
       "      <td>America</td>\n",
       "    </tr>\n",
       "    <tr>\n",
       "      <th>6</th>\n",
       "      <td>Mexico</td>\n",
       "      <td>370712</td>\n",
       "      <td>41908</td>\n",
       "      <td>236209</td>\n",
       "      <td>America</td>\n",
       "    </tr>\n",
       "    <tr>\n",
       "      <th>7</th>\n",
       "      <td>Chile</td>\n",
       "      <td>338759</td>\n",
       "      <td>8838</td>\n",
       "      <td>311431</td>\n",
       "      <td>NaN</td>\n",
       "    </tr>\n",
       "    <tr>\n",
       "      <th>8</th>\n",
       "      <td>Iran</td>\n",
       "      <td>284034</td>\n",
       "      <td>15074</td>\n",
       "      <td>247230</td>\n",
       "      <td>Asia</td>\n",
       "    </tr>\n",
       "    <tr>\n",
       "      <th>9</th>\n",
       "      <td>Italy</td>\n",
       "      <td>245338</td>\n",
       "      <td>35029</td>\n",
       "      <td>197842</td>\n",
       "      <td>Europe</td>\n",
       "    </tr>\n",
       "  </tbody>\n",
       "</table>\n",
       "</div>"
      ],
      "text/plain": [
       "        country    cases  deaths  recovered     area\n",
       "0           USA  4169991  147333    1979617  America\n",
       "1        Brazil  2289951   84207    1570237  America\n",
       "2         India  1288130   30645     817593     Asia\n",
       "3        Russia   795038   12892     580330      NaN\n",
       "4  South Africa   408052    6093     236260   Africa\n",
       "5          Peru   371096   17645     255945  America\n",
       "6        Mexico   370712   41908     236209  America\n",
       "7         Chile   338759    8838     311431      NaN\n",
       "8          Iran   284034   15074     247230     Asia\n",
       "9         Italy   245338   35029     197842   Europe"
      ]
     },
     "execution_count": 15,
     "metadata": {},
     "output_type": "execute_result"
    }
   ],
   "source": [
    "country = ['USA', 'Brazil', 'India', 'Russia', 'South Africa',\n",
    "           'Peru', 'Mexico', 'Chile', 'Iran', 'Italy']\n",
    "cases = [4169991, 2289951, 1288130, 795038, 408052, 371096, 370712, 338759, 284034, 245338]\n",
    "deaths = [147333, 84207, 30645, 12892, 6093, 17645, 41908, 8838, 15074, 35029]\n",
    "recovered = [1979617, 1570237, 817593, 580330, 236260, 255945, 236209, 311431, 247230, 197842]\n",
    "area = ['America', 'America', 'Asia', np.nan, 'Africa',\n",
    "        'America', 'America', np.nan, 'Asia', 'Europe']\n",
    "\n",
    "covid = pd.DataFrame({\n",
    "    'country': country,\n",
    "    'cases': cases,\n",
    "    'deaths': deaths,\n",
    "    'recovered': recovered,\n",
    "    'area': area\n",
    "})\n",
    "covid"
   ]
  },
  {
   "cell_type": "code",
   "execution_count": 16,
   "metadata": {},
   "outputs": [],
   "source": [
    "train = covid[~covid.area.isna()]\n",
    "x_train = train[['cases', 'deaths', 'recovered']]\n",
    "y_train = train.area\n",
    "\n",
    "predict = covid[covid.area.isna()]\n",
    "x_predict = predict[['cases', 'deaths', 'recovered']]"
   ]
  },
  {
   "cell_type": "code",
   "execution_count": 17,
   "metadata": {},
   "outputs": [
    {
     "data": {
      "text/plain": [
       "array(['America', 'America'], dtype=object)"
      ]
     },
     "execution_count": 17,
     "metadata": {},
     "output_type": "execute_result"
    }
   ],
   "source": [
    "from sklearn.neighbors import KNeighborsClassifier as kNN\n",
    "clf = kNN(3, weights='distance').fit(x_train, y_train)\n",
    "y_predict = clf.predict(x_predict)\n",
    "y_predict"
   ]
  },
  {
   "cell_type": "code",
   "execution_count": 18,
   "metadata": {},
   "outputs": [
    {
     "data": {
      "text/html": [
       "<div>\n",
       "<style scoped>\n",
       "    .dataframe tbody tr th:only-of-type {\n",
       "        vertical-align: middle;\n",
       "    }\n",
       "\n",
       "    .dataframe tbody tr th {\n",
       "        vertical-align: top;\n",
       "    }\n",
       "\n",
       "    .dataframe thead th {\n",
       "        text-align: right;\n",
       "    }\n",
       "</style>\n",
       "<table border=\"1\" class=\"dataframe\">\n",
       "  <thead>\n",
       "    <tr style=\"text-align: right;\">\n",
       "      <th></th>\n",
       "      <th>country</th>\n",
       "      <th>cases</th>\n",
       "      <th>deaths</th>\n",
       "      <th>recovered</th>\n",
       "      <th>area</th>\n",
       "    </tr>\n",
       "  </thead>\n",
       "  <tbody>\n",
       "    <tr>\n",
       "      <th>9</th>\n",
       "      <td>Italy</td>\n",
       "      <td>245338</td>\n",
       "      <td>35029</td>\n",
       "      <td>197842</td>\n",
       "      <td>Europe</td>\n",
       "    </tr>\n",
       "    <tr>\n",
       "      <th>8</th>\n",
       "      <td>Iran</td>\n",
       "      <td>284034</td>\n",
       "      <td>15074</td>\n",
       "      <td>247230</td>\n",
       "      <td>Asia</td>\n",
       "    </tr>\n",
       "    <tr>\n",
       "      <th>7</th>\n",
       "      <td>Chile</td>\n",
       "      <td>338759</td>\n",
       "      <td>8838</td>\n",
       "      <td>311431</td>\n",
       "      <td>America</td>\n",
       "    </tr>\n",
       "    <tr>\n",
       "      <th>6</th>\n",
       "      <td>Mexico</td>\n",
       "      <td>370712</td>\n",
       "      <td>41908</td>\n",
       "      <td>236209</td>\n",
       "      <td>America</td>\n",
       "    </tr>\n",
       "    <tr>\n",
       "      <th>5</th>\n",
       "      <td>Peru</td>\n",
       "      <td>371096</td>\n",
       "      <td>17645</td>\n",
       "      <td>255945</td>\n",
       "      <td>America</td>\n",
       "    </tr>\n",
       "    <tr>\n",
       "      <th>4</th>\n",
       "      <td>South Africa</td>\n",
       "      <td>408052</td>\n",
       "      <td>6093</td>\n",
       "      <td>236260</td>\n",
       "      <td>Africa</td>\n",
       "    </tr>\n",
       "    <tr>\n",
       "      <th>3</th>\n",
       "      <td>Russia</td>\n",
       "      <td>795038</td>\n",
       "      <td>12892</td>\n",
       "      <td>580330</td>\n",
       "      <td>America</td>\n",
       "    </tr>\n",
       "    <tr>\n",
       "      <th>2</th>\n",
       "      <td>India</td>\n",
       "      <td>1288130</td>\n",
       "      <td>30645</td>\n",
       "      <td>817593</td>\n",
       "      <td>Asia</td>\n",
       "    </tr>\n",
       "    <tr>\n",
       "      <th>1</th>\n",
       "      <td>Brazil</td>\n",
       "      <td>2289951</td>\n",
       "      <td>84207</td>\n",
       "      <td>1570237</td>\n",
       "      <td>America</td>\n",
       "    </tr>\n",
       "    <tr>\n",
       "      <th>0</th>\n",
       "      <td>USA</td>\n",
       "      <td>4169991</td>\n",
       "      <td>147333</td>\n",
       "      <td>1979617</td>\n",
       "      <td>America</td>\n",
       "    </tr>\n",
       "  </tbody>\n",
       "</table>\n",
       "</div>"
      ],
      "text/plain": [
       "        country    cases  deaths  recovered     area\n",
       "9         Italy   245338   35029     197842   Europe\n",
       "8          Iran   284034   15074     247230     Asia\n",
       "7         Chile   338759    8838     311431  America\n",
       "6        Mexico   370712   41908     236209  America\n",
       "5          Peru   371096   17645     255945  America\n",
       "4  South Africa   408052    6093     236260   Africa\n",
       "3        Russia   795038   12892     580330  America\n",
       "2         India  1288130   30645     817593     Asia\n",
       "1        Brazil  2289951   84207    1570237  America\n",
       "0           USA  4169991  147333    1979617  America"
      ]
     },
     "execution_count": 18,
     "metadata": {},
     "output_type": "execute_result"
    }
   ],
   "source": [
    "train.append(predict.assign(area=y_predict)).sort_values('cases')"
   ]
  },
  {
   "cell_type": "markdown",
   "metadata": {},
   "source": [
    "# 4. Handling abnormal data"
   ]
  },
  {
   "cell_type": "markdown",
   "metadata": {},
   "source": [
    "## 4.1. Duplicated values\n",
    "Duplicated values caused by unique contraint of a column or a combination of columns. If duplicated values occur, there can only be no more than 1 true value.\n",
    "\n",
    "Depend on the context, you have many options to handle duplicated values:\n",
    "- List and sort all duplicated values, then manually remove incorrect records.\n",
    "- Remove duplicated values based on a specific criteria, such as keep the greatest value only.\n",
    "- Calculate a value such as sum or mean representing all duplicated records."
   ]
  },
  {
   "cell_type": "code",
   "execution_count": null,
   "metadata": {},
   "outputs": [],
   "source": [
    "import numpy as np\n",
    "import pandas as pd"
   ]
  },
  {
   "cell_type": "code",
   "execution_count": null,
   "metadata": {},
   "outputs": [],
   "source": [
    "report = pd.DataFrame({\n",
    "    'year': pd.Series([2019, 2019, 2020, 2020, 2020, 2020]),\n",
    "    'company': pd.Series(['Pandas', 'Numpy', 'Pandas', 'Numpy', 'Numpy', 'Pandas']),\n",
    "    'sales': pd.Series([5466, 8558, 8435, 7280, 9285, 6650]),\n",
    "    'profit': pd.Series([1546, 3546, 3574, 3352, 4678, 2007])\n",
    "})\n",
    "report"
   ]
  },
  {
   "cell_type": "markdown",
   "metadata": {},
   "source": [
    "In this example, the combination of `year` and `company` create a unique constraint. This means in each year, a company cannot have two values of sales and profit."
   ]
  },
  {
   "cell_type": "code",
   "execution_count": null,
   "metadata": {},
   "outputs": [],
   "source": [
    "subset = ['year', 'company']"
   ]
  },
  {
   "cell_type": "markdown",
   "metadata": {},
   "source": [
    "#### Removing manually"
   ]
  },
  {
   "cell_type": "code",
   "execution_count": null,
   "metadata": {},
   "outputs": [],
   "source": [
    "report[report.duplicated(subset, keep=False)].sort_values(subset)"
   ]
  },
  {
   "cell_type": "code",
   "execution_count": null,
   "metadata": {},
   "outputs": [],
   "source": [
    "report.drop(index=[4, 2])"
   ]
  },
  {
   "cell_type": "markdown",
   "metadata": {},
   "source": [
    "#### Removing based on a criteria"
   ]
  },
  {
   "cell_type": "code",
   "execution_count": null,
   "metadata": {},
   "outputs": [],
   "source": [
    "# keep the biggest sales values only\n",
    "report\\\n",
    "    .sort_values(by=['year', 'company', 'sales'])\\\n",
    "    .drop_duplicates(subset=subset, keep='last')"
   ]
  },
  {
   "cell_type": "markdown",
   "metadata": {},
   "source": [
    "#### Aggregating"
   ]
  },
  {
   "cell_type": "code",
   "execution_count": null,
   "metadata": {},
   "outputs": [],
   "source": [
    "report.groupby(by=['year', 'company']).sum().reset_index()"
   ]
  },
  {
   "cell_type": "markdown",
   "metadata": {},
   "source": [
    "## 4.2. Outliers\n",
    "An outlier is a data point that differs significantly from other observations. Outliers can cause serious problems in statistical analysis. Detecting outliers is more likely be an art rather than a science, therefore you need both quantitative and qualitative methods to identify outliers.\n",
    "\n",
    "However, there's no best rule for handling outliers. You need to ask yourself *Why are they outliers?* and *How can they affect your analysis?*. In this section, we discuss how to detect and handle outliers using Pandas."
   ]
  },
  {
   "cell_type": "code",
   "execution_count": null,
   "metadata": {},
   "outputs": [],
   "source": [
    "import numpy as np\n",
    "import pandas as pd"
   ]
  },
  {
   "cell_type": "markdown",
   "metadata": {},
   "source": [
    "#### Using z-score\n",
    "Given a vector, $x$, we calculate z-score (denoted $z$) with the following formula:\n",
    "\n",
    "$$z = \\frac{x-\\mu}{\\sigma}$$\n",
    "\n",
    "where $\\mu$ is the mean and $\\sigma$ is the standard deviation.\n",
    "\n",
    "The approach of this method is to eliminate values of $z<-3$ and $z>3$. You can also remove $x<\\mu-3\\sigma$ and $x>\\mu+3\\sigma$ which gives the same result. Notice that the coefficient can be changed to 2.5 or 3.5 depends on the problem."
   ]
  },
  {
   "cell_type": "code",
   "execution_count": null,
   "metadata": {},
   "outputs": [],
   "source": [
    "def outliers_zscore(array, z):\n",
    "    'Return a new array has the outliers being replaced with NaN.'\n",
    "    import numpy as np\n",
    "    array = np.array(array, dtype=float)\n",
    "    mean = array.mean()\n",
    "    std = array.std()\n",
    "    lower = mean - z*std\n",
    "    upper = mean + z*std\n",
    "    array[(array < lower) | (array > upper)] = np.nan\n",
    "    return array"
   ]
  },
  {
   "cell_type": "code",
   "execution_count": null,
   "metadata": {},
   "outputs": [],
   "source": [
    "wine = pd.read_excel(r'data\\wine_quality.xlsx')\n",
    "wine.head()"
   ]
  },
  {
   "cell_type": "code",
   "execution_count": null,
   "metadata": {},
   "outputs": [],
   "source": [
    "# handling outliers for all columns\n",
    "for i in wine.columns:\n",
    "    wine[i] = outliers_zscore(wine[i], z=3)"
   ]
  },
  {
   "cell_type": "code",
   "execution_count": null,
   "metadata": {},
   "outputs": [],
   "source": [
    "pd.DataFrame({\n",
    "    'removed_count': wine.isna().sum(),\n",
    "    'removed_rate': (wine.isna().sum() / wine.shape[0]).apply(lambda x: f'{x:.2%}')\n",
    "})"
   ]
  },
  {
   "cell_type": "markdown",
   "metadata": {},
   "source": [
    "#### Using interquartile range\n",
    "This method considers eliminating values that is lower than $Q_1-1.5\\times \\mbox{IQR}$ or higher than $Q_3+1.5\\times \\mbox{IQR}$, where: $Q_1$, $Q_2$ and $Q_3$ are the quartiles; $\\mbox{IQR}=Q_3-Q_1$ is the interquartile range."
   ]
  },
  {
   "cell_type": "code",
   "execution_count": null,
   "metadata": {},
   "outputs": [],
   "source": [
    "def outliers_iqr(array):\n",
    "    import numpy as np\n",
    "    array = np.array(array, dtype=float)\n",
    "    Q1, Q3 = np.quantile(array, [0.25, 0.75])\n",
    "    IQR = Q3 - Q1\n",
    "    lower = Q1 - 1.5*IQR\n",
    "    upper = Q3 + 1.5*IQR\n",
    "    array[(array < lower) | (array > upper)] = np.nan\n",
    "    return array"
   ]
  },
  {
   "cell_type": "code",
   "execution_count": null,
   "metadata": {},
   "outputs": [],
   "source": [
    "wine = pd.read_excel(r'data\\wine_quality.xlsx')\n",
    "wine.head()"
   ]
  },
  {
   "cell_type": "code",
   "execution_count": null,
   "metadata": {},
   "outputs": [],
   "source": [
    "# handling outliers for all columns\n",
    "for i in wine.columns:\n",
    "    wine[i] = outliers_iqr(wine[i])"
   ]
  },
  {
   "cell_type": "code",
   "execution_count": null,
   "metadata": {},
   "outputs": [],
   "source": [
    "pd.DataFrame({\n",
    "    'removed_count': wine.isna().sum(),\n",
    "    'removed_rate': (wine.isna().sum() / wine.shape[0]).apply(lambda x: f'{x:.2%}')\n",
    "})"
   ]
  },
  {
   "cell_type": "markdown",
   "metadata": {},
   "source": [
    "#### Logarithmic transforming\n",
    "Another strategy to handling outliers is to perform a log transformation on the data, which dampens the effect of outliers."
   ]
  },
  {
   "cell_type": "code",
   "execution_count": null,
   "metadata": {},
   "outputs": [],
   "source": [
    "x = [10, 8, 13, 9, 11, 14, 6, 4, 12, 7, 5]\n",
    "y = [7.46, 6.77, 10, 7.11, 7.81, 8.84, 6.08, 5.39, 8.15, 6.42, 5.73]"
   ]
  },
  {
   "cell_type": "code",
   "execution_count": null,
   "metadata": {},
   "outputs": [],
   "source": [
    "import matplotlib.pyplot as plt\n",
    "import seaborn as sns; sns.set(style='whitegrid')\n",
    "\n",
    "fig, ax = plt.subplots(ncols=2, sharex=True, figsize=(15,4))\n",
    "sns.regplot(x=x, y=y, ax=ax[0]).set_title('Effect of ouliers')\n",
    "sns.regplot(x=x, y=np.log(y), ax=ax[1]).set_title('Effect of log transformed outliers')\n",
    "plt.axis('equal')\n",
    "plt.show()"
   ]
  }
 ],
 "metadata": {
  "colab": {
   "name": "lecture7.ipynb",
   "provenance": [],
   "version": "0.3.2"
  },
  "kernelspec": {
   "display_name": "Python 3",
   "language": "python",
   "name": "python3"
  },
  "language_info": {
   "codemirror_mode": {
    "name": "ipython",
    "version": 3
   },
   "file_extension": ".py",
   "mimetype": "text/x-python",
   "name": "python",
   "nbconvert_exporter": "python",
   "pygments_lexer": "ipython3",
   "version": "3.8.3"
  },
  "toc-autonumbering": false,
  "toc-showcode": false,
  "toc-showmarkdowntxt": false,
  "toc-showtags": false
 },
 "nbformat": 4,
 "nbformat_minor": 4
}
