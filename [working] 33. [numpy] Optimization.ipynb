{
 "cells": [
  {
   "cell_type": "markdown",
   "id": "d305989d-75c3-4290-a9ce-474f0690fdf0",
   "metadata": {},
   "source": [
    "# 1. Optimization problem"
   ]
  },
  {
   "cell_type": "markdown",
   "id": "534108f1-9dd3-4cb3-b96b-4cd1ece68716",
   "metadata": {},
   "source": [
    "## 1.1. Problem statement\n",
    "Optimization is the problem of finding minimum or maximum of a function."
   ]
  },
  {
   "cell_type": "markdown",
   "id": "adeec38e-6fc8-419d-9caf-5ebc39596383",
   "metadata": {},
   "source": [
    "## 1.2. First-derivative test"
   ]
  },
  {
   "cell_type": "markdown",
   "id": "aa3106fa-dd94-4ae4-a8c5-ada353dceecf",
   "metadata": {},
   "source": [
    "## 1.3. Second-derivative test"
   ]
  },
  {
   "cell_type": "markdown",
   "id": "e261a314-816e-42d8-b550-7463d1da983a",
   "metadata": {},
   "source": [
    "# 2. Gradient Descent\n",
    "Function to minimize: $f({\\theta})$"
   ]
  },
  {
   "cell_type": "markdown",
   "id": "1f9dacfe-5ce1-42d7-a66f-e3253946fc22",
   "metadata": {},
   "source": [
    "## 2.1. The basic algorithm\n",
    "\n",
    "$$\\mathbf{x}\\leftarrow\\mathbf{x}-\\eta\\nabla f(\\mathbf{x})$$\n",
    "\n",
    "$$\\mathbf{x}^{(t+1)}=\\mathbf{x}^{(t)}-\\eta\\nabla f(\\mathbf{x}^{(t)})$$\n",
    "\n",
    "$$\\mathbf{x}_{t+1}=\\mathbf{x}_t-\\eta\\nabla f(\\mathbf{x}_t)$$"
   ]
  },
  {
   "cell_type": "code",
   "execution_count": null,
   "id": "408ccbea-ee79-45d7-86cd-73279fff0e85",
   "metadata": {},
   "outputs": [],
   "source": []
  },
  {
   "cell_type": "code",
   "execution_count": null,
   "id": "4e8f9102-a13a-4322-9b8f-fb6b0ccde396",
   "metadata": {},
   "outputs": [],
   "source": []
  },
  {
   "cell_type": "code",
   "execution_count": null,
   "id": "e3ffa10d-859e-4f6a-947f-3f74eaac5ba0",
   "metadata": {},
   "outputs": [],
   "source": []
  },
  {
   "cell_type": "markdown",
   "id": "25033abf-2181-4f54-a7aa-3ab25f8303bc",
   "metadata": {},
   "source": [
    "## 2.2. Batch and epoch"
   ]
  },
  {
   "cell_type": "markdown",
   "id": "5718ef71-f4ad-4050-9994-53ca9f84827d",
   "metadata": {},
   "source": [
    "## 2.3. Evolutionary map"
   ]
  },
  {
   "cell_type": "markdown",
   "id": "a2d14d64-0c03-457c-ac69-2eeed004fc9f",
   "metadata": {
    "execution": {
     "iopub.execute_input": "2022-04-17T17:39:26.551771Z",
     "iopub.status.busy": "2022-04-17T17:39:26.549567Z",
     "iopub.status.idle": "2022-04-17T17:39:26.702863Z",
     "shell.execute_reply": "2022-04-17T17:39:26.701242Z",
     "shell.execute_reply.started": "2022-04-17T17:39:26.551376Z"
    },
    "tags": []
   },
   "source": [
    "## 2.4. Momentum"
   ]
  },
  {
   "cell_type": "markdown",
   "id": "c63fc90f-22ed-405a-a6bd-3299e3084cdd",
   "metadata": {
    "execution": {
     "iopub.execute_input": "2022-04-17T17:39:26.551771Z",
     "iopub.status.busy": "2022-04-17T17:39:26.549567Z",
     "iopub.status.idle": "2022-04-17T17:39:26.702863Z",
     "shell.execute_reply": "2022-04-17T17:39:26.701242Z",
     "shell.execute_reply.started": "2022-04-17T17:39:26.551376Z"
    },
    "tags": []
   },
   "source": [
    "## 2.5. Nesterov accelerated"
   ]
  },
  {
   "cell_type": "markdown",
   "id": "81e9aa22-4b88-49e6-922d-ac624369ddd3",
   "metadata": {
    "execution": {
     "iopub.execute_input": "2022-04-17T17:39:26.551771Z",
     "iopub.status.busy": "2022-04-17T17:39:26.549567Z",
     "iopub.status.idle": "2022-04-17T17:39:26.702863Z",
     "shell.execute_reply": "2022-04-17T17:39:26.701242Z",
     "shell.execute_reply.started": "2022-04-17T17:39:26.551376Z"
    },
    "tags": []
   },
   "source": [
    "## 2.6. AdaGrad"
   ]
  },
  {
   "cell_type": "markdown",
   "id": "292c7515-e1d7-4305-bdc6-ef13c5f50944",
   "metadata": {
    "execution": {
     "iopub.execute_input": "2022-04-17T17:39:26.551771Z",
     "iopub.status.busy": "2022-04-17T17:39:26.549567Z",
     "iopub.status.idle": "2022-04-17T17:39:26.702863Z",
     "shell.execute_reply": "2022-04-17T17:39:26.701242Z",
     "shell.execute_reply.started": "2022-04-17T17:39:26.551376Z"
    },
    "tags": []
   },
   "source": [
    "## 2.7. AdaDelta"
   ]
  },
  {
   "cell_type": "markdown",
   "id": "2df34f02-8fbe-42e4-83c3-ef28d2f63025",
   "metadata": {
    "execution": {
     "iopub.execute_input": "2022-04-17T17:39:26.551771Z",
     "iopub.status.busy": "2022-04-17T17:39:26.549567Z",
     "iopub.status.idle": "2022-04-17T17:39:26.702863Z",
     "shell.execute_reply": "2022-04-17T17:39:26.701242Z",
     "shell.execute_reply.started": "2022-04-17T17:39:26.551376Z"
    },
    "tags": []
   },
   "source": [
    "## 2.8. RMSprop"
   ]
  },
  {
   "cell_type": "markdown",
   "id": "e91218c4-e07d-46b9-9d10-5c0aaa30c113",
   "metadata": {
    "execution": {
     "iopub.execute_input": "2022-04-17T17:39:26.551771Z",
     "iopub.status.busy": "2022-04-17T17:39:26.549567Z",
     "iopub.status.idle": "2022-04-17T17:39:26.702863Z",
     "shell.execute_reply": "2022-04-17T17:39:26.701242Z",
     "shell.execute_reply.started": "2022-04-17T17:39:26.551376Z"
    },
    "tags": []
   },
   "source": [
    "## 2.9. Adam"
   ]
  },
  {
   "cell_type": "markdown",
   "id": "bb6b1557-02a1-4868-825c-d1ac32cf9554",
   "metadata": {},
   "source": [
    "## 2.10. Nadam"
   ]
  },
  {
   "cell_type": "markdown",
   "id": "e116bd17-0668-453b-bed1-829919fa1d4c",
   "metadata": {},
   "source": [
    "## 2.11. AdaMax"
   ]
  },
  {
   "cell_type": "markdown",
   "id": "e0c1a70c-75d8-4977-a2ca-2c18df3b80b9",
   "metadata": {},
   "source": [
    "## 2.12. AMSGrad"
   ]
  },
  {
   "cell_type": "markdown",
   "id": "0479101a-88f4-4b80-aa38-4b3eb58104e9",
   "metadata": {},
   "source": [
    "# 3. Bayesian Optimization"
   ]
  },
  {
   "cell_type": "markdown",
   "id": "60fc6c5d-75ac-4464-986e-a352b0ba5e17",
   "metadata": {},
   "source": [
    "## 3.1. Gaussian Process"
   ]
  },
  {
   "cell_type": "markdown",
   "id": "ed01a47a-4954-4daa-bfd1-efa4f906be5e",
   "metadata": {},
   "source": [
    "## 3.2. Bayesian Optimization"
   ]
  },
  {
   "cell_type": "markdown",
   "id": "fe378195-e96f-4f65-9644-9feff44e7a50",
   "metadata": {},
   "source": [
    "## 3.3. Hyperopt implementation"
   ]
  },
  {
   "cell_type": "markdown",
   "id": "a81b31f8-c003-4721-9ccf-9ed0fe7d94b1",
   "metadata": {},
   "source": [
    "## 3.4. Optuna implementation"
   ]
  }
 ],
 "metadata": {
  "kernelspec": {
   "display_name": "Python 3",
   "language": "python",
   "name": "python3"
  },
  "language_info": {
   "codemirror_mode": {
    "name": "ipython",
    "version": 3
   },
   "file_extension": ".py",
   "mimetype": "text/x-python",
   "name": "python",
   "nbconvert_exporter": "python",
   "pygments_lexer": "ipython3",
   "version": "3.8.8"
  }
 },
 "nbformat": 4,
 "nbformat_minor": 5
}
