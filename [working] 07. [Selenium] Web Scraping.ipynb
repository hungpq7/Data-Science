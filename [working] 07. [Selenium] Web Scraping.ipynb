{
 "cells": [
  {
   "cell_type": "markdown",
   "id": "8660274b-f6e1-4c45-b334-94abc56bb8d7",
   "metadata": {},
   "source": [
    "# 1. Basic HTML"
   ]
  },
  {
   "cell_type": "markdown",
   "id": "7410b0b8-c6d1-4e43-b8b2-d5f4a79ca4a5",
   "metadata": {},
   "source": [
    "## 1.1. HTML concepts\n",
    "\n",
    "```html\n",
    "<html>\n",
    "<head>...</head>\n",
    "<body>\n",
    "...\n",
    "<form id=\"loginForm\">\n",
    "<input name=\"name\" type=\"text\" value=\"First Name\" />\n",
    "<input name=\"name\" type=\"text\" value=\"Last Name\" />\n",
    "<input name=\"email\" type=\"text\" value=\"Business Email\" />\n",
    "<input name=\"password\" type=\"password\" />\n",
    "<input name=\"continue\" type=\"submit\" value=\"Sign Me Up\" />\n",
    "</form>\n",
    "</body>\n",
    "</html>\n",
    "```"
   ]
  },
  {
   "cell_type": "markdown",
   "id": "fcaa7de4-a57c-471a-82ab-b4021bedd32f",
   "metadata": {},
   "source": [
    "## 1.2. Element locating"
   ]
  },
  {
   "cell_type": "markdown",
   "id": "5a9e5868-cc32-4a9a-a9b6-f9afa461968f",
   "metadata": {},
   "source": [
    "### ID and class"
   ]
  },
  {
   "cell_type": "markdown",
   "id": "91b13e6d-08f5-4a2d-83e4-36dee2ff48e9",
   "metadata": {},
   "source": [
    "### XPath"
   ]
  },
  {
   "cell_type": "markdown",
   "id": "cf01cb51-f89f-47b8-822a-4d200b19ffa0",
   "metadata": {},
   "source": [
    "### CSS selector"
   ]
  },
  {
   "cell_type": "markdown",
   "id": "5d79f863-31ef-4993-943e-20523f24d3ec",
   "metadata": {},
   "source": [
    "# 2. HTML parser"
   ]
  },
  {
   "cell_type": "markdown",
   "id": "4b862c62-fd56-45bd-bca2-9bb98a32fc6c",
   "metadata": {},
   "source": [
    "# 3. Web driver"
   ]
  },
  {
   "cell_type": "markdown",
   "id": "fdb93a2f-98dc-4650-a336-dd4ce824fd55",
   "metadata": {},
   "source": [
    "---\n",
    "*&#9829; By Quang Hung x Thuy Linh &#9829;*"
   ]
  }
 ],
 "metadata": {
  "kernelspec": {
   "display_name": "Python 3 (ipykernel)",
   "language": "python",
   "name": "python3"
  },
  "language_info": {
   "codemirror_mode": {
    "name": "ipython",
    "version": 3
   },
   "file_extension": ".py",
   "mimetype": "text/x-python",
   "name": "python",
   "nbconvert_exporter": "python",
   "pygments_lexer": "ipython3",
   "version": "3.9.7"
  }
 },
 "nbformat": 4,
 "nbformat_minor": 5
}
