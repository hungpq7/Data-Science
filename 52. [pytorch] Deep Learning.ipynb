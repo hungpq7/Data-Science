{
 "cells": [
  {
   "cell_type": "markdown",
   "metadata": {},
   "source": [
    "# Introduction\n",
    "[PyTorch] is one of the two most popular Deep Learning frameworks in Python, besides TensorFlow. Here is some key points when comparing the two:\n",
    "- In terms of low or high level, PyTorch falls somewhere in between TensorFlow and Keras. No fit-and-predict interface, must be done by hand.\n",
    "- PyTorch is prefered by research community with more customizations, as we normally see newly published architectures written in PyTorch.\n",
    "- TensorFlow/Keras is better for production due to high-level interface and large deployment ecosystem.\n",
    "\n",
    "[PyTorch]: https://github.com/pytorch/pytorch"
   ]
  },
  {
   "cell_type": "markdown",
   "metadata": {},
   "source": [
    "# 1. Data manipulation"
   ]
  },
  {
   "cell_type": "markdown",
   "metadata": {},
   "source": [
    "## 1.1. Computation"
   ]
  },
  {
   "cell_type": "code",
   "execution_count": 1,
   "metadata": {
    "execution": {
     "iopub.execute_input": "2022-12-28T16:04:57.148625Z",
     "iopub.status.busy": "2022-12-28T16:04:57.148215Z",
     "iopub.status.idle": "2022-12-28T16:05:00.753154Z",
     "shell.execute_reply": "2022-12-28T16:05:00.752140Z",
     "shell.execute_reply.started": "2022-12-28T16:04:57.148553Z"
    },
    "tags": []
   },
   "outputs": [],
   "source": [
    "import numpy as np\n",
    "import pandas as pd\n",
    "import janitor\n",
    "import torch\n",
    "import torch.nn as nn\n",
    "import torch.nn.functional as F"
   ]
  },
  {
   "cell_type": "markdown",
   "metadata": {},
   "source": [
    "### Tensor\n",
    "In PyTorch, we work most of the time with\n",
    "<code style='font-size:13px'><a href=https://pytorch.org/docs/stable/tensors.html>Tensor</a></code>\n",
    "whose operations are very much like NumPy's array. Being very natural to PyTorch, tensor operations are provided directly in the [mother package]. One thing to notice is that PyTorch requires tensors to be of the same data type so mathematical computation can be performed on them. When error occurs, simply call the <code style='font-size:13px'>double()</code> method to convert the tensor to float type.\n",
    "\n",
    "[mother package]: https://pytorch.org/docs/stable/torch.html"
   ]
  },
  {
   "cell_type": "code",
   "execution_count": 40,
   "metadata": {},
   "outputs": [],
   "source": [
    "a = torch.tensor([\n",
    "    [1., 2., 3.],\n",
    "    [4., 5., 6.]\n",
    "])"
   ]
  },
  {
   "cell_type": "code",
   "execution_count": 41,
   "metadata": {},
   "outputs": [
    {
     "data": {
      "text/plain": [
       "tensor([[0.1039, 0.6032, 0.2776],\n",
       "        [0.3127, 0.8976, 0.3040]], dtype=torch.float64)"
      ]
     },
     "execution_count": 41,
     "metadata": {},
     "output_type": "execute_result"
    }
   ],
   "source": [
    "torch.rand_like(a).double()"
   ]
  },
  {
   "cell_type": "markdown",
   "metadata": {},
   "source": [
    "### Autograd\n",
    "PyTorch provides automatic differentiation via the sub-module\n",
    "<code style='font-size:13px'><a href=https://pytorch.org/docs/stable/autograd.html>autograd</a></code>,\n",
    "with functions implemented as\n",
    "<code style='font-size:13px'>Tensor</code>\n",
    "methods. Being a mathematical module, it distinguishes two types of tensor, *constant* and *variable*, indicated via the flag <code style='font-size:13px'>requires_grad</code>. All tensors are constants by default, and become variables when this flag is enabled. Autograd is designed to work on a computational graph, where:\n",
    "- The *foward* pass requires inputs to be tensors and output to be a scalar. This pass is done using normal tensor operations.\n",
    "- During *backward* pass (by calling the <code style='font-size:13px'>backward()</code> method on the output), PyTorch will compute and accumulate partial derivatives for leaf nodes. This information can be accessed via the <code style='font-size:13px'>grad</code> attribute of input variables."
   ]
  },
  {
   "cell_type": "code",
   "execution_count": 2,
   "metadata": {
    "execution": {
     "iopub.execute_input": "2022-12-28T16:05:01.548983Z",
     "iopub.status.busy": "2022-12-28T16:05:01.548389Z",
     "iopub.status.idle": "2022-12-28T16:05:01.554651Z",
     "shell.execute_reply": "2022-12-28T16:05:01.553322Z",
     "shell.execute_reply.started": "2022-12-28T16:05:01.548940Z"
    },
    "tags": []
   },
   "outputs": [],
   "source": [
    "def f(x1, x2):\n",
    "    y = (x1 - 0.3)**2 + (x2 - 0.7)**2 + 1\n",
    "    return y.mean()"
   ]
  },
  {
   "cell_type": "code",
   "execution_count": 3,
   "metadata": {
    "execution": {
     "iopub.execute_input": "2022-12-28T16:05:02.503311Z",
     "iopub.status.busy": "2022-12-28T16:05:02.502943Z",
     "iopub.status.idle": "2022-12-28T16:05:02.507583Z",
     "shell.execute_reply": "2022-12-28T16:05:02.506751Z",
     "shell.execute_reply.started": "2022-12-28T16:05:02.503283Z"
    },
    "tags": []
   },
   "outputs": [],
   "source": [
    "x1 = torch.rand(8, requires_grad=True)\n",
    "x2 = torch.rand(8, requires_grad=True)"
   ]
  },
  {
   "cell_type": "code",
   "execution_count": 4,
   "metadata": {
    "execution": {
     "iopub.execute_input": "2022-12-28T16:05:03.349221Z",
     "iopub.status.busy": "2022-12-28T16:05:03.348794Z",
     "iopub.status.idle": "2022-12-28T16:05:03.368533Z",
     "shell.execute_reply": "2022-12-28T16:05:03.367377Z",
     "shell.execute_reply.started": "2022-12-28T16:05:03.349190Z"
    },
    "tags": []
   },
   "outputs": [
    {
     "data": {
      "text/plain": [
       "tensor([ 0.0980,  0.0163,  0.0375,  0.0945, -0.0603, -0.0421,  0.0848,  0.0035])"
      ]
     },
     "execution_count": 4,
     "metadata": {},
     "output_type": "execute_result"
    }
   ],
   "source": [
    "y = f(x1, x2)\n",
    "y.backward()\n",
    "x1.grad"
   ]
  },
  {
   "cell_type": "markdown",
   "metadata": {},
   "source": [
    "### Optimization\n",
    "The sub-module <code style='font-size:13px'><a href=https://pytorch.org/docs/stable/optim.html>optim</a></code>\n",
    "implements various optimization algorithms from the basic SGD to the standard Adam. We are going to demonstrate\n",
    "<code style='font-size:13px'>autograd</code> and <code style='font-size:13px'>optim</code>\n",
    "combining together using a simple problem, finding $\\min\\bar{\\mathbf{y}}$ where $\\mathbf{y}=(\\mathbf{x}_1-0.3)^2+(\\mathbf{x}_2-0.7)^2+1$. Recall that all gradient descent algorithms share three components:\n",
    "- (1) configurations such as learning rate $\\eta$, momentum $\\gamma$ and weight decay $\\rho$\n",
    "- (2) the variable $x_t$ and its gradient $g_t$ at each iteration $t$\n",
    "- (3) intermediate variables such as exponential moving averages $m$ and $v$\n",
    "\n",
    "PyTorch implements its optimization algorithms in a low-level interface. During initialization, we set component (1) and register component (2) to our optimizer. Then, when we call the\n",
    "<code style='font-size:13px'>step()</code>\n",
    "method, PyTorch will compute everything needed in component (3) and perform update in-place to $x$.\n",
    "\n",
    "The registration step surprisingly makes sense, as we realize that gradient descent actually only cares about $x$ and never touches $y$. The optimization process is very clearly here: Autograd handles computational graphs to updates $g_t$, then Optim uses $g_t$ to perform a gradient descent step and passes the updated $x_t$ back to Autograd. We can see how smartly PyTorch is designed, each sub-module is account for a specific task, they alternately do their jobs and pass the output to the other. Learning optimization in PyTorch makes understanding about gradient descent much deeper."
   ]
  },
  {
   "cell_type": "code",
   "execution_count": 5,
   "metadata": {
    "execution": {
     "iopub.execute_input": "2022-12-28T16:05:06.052173Z",
     "iopub.status.busy": "2022-12-28T16:05:06.051828Z",
     "iopub.status.idle": "2022-12-28T16:05:06.055720Z",
     "shell.execute_reply": "2022-12-28T16:05:06.054819Z",
     "shell.execute_reply.started": "2022-12-28T16:05:06.052149Z"
    },
    "tags": []
   },
   "outputs": [],
   "source": [
    "def f(x1, x2):\n",
    "    y = (x1 - 0.3)**2 + (x2 - 0.7)**2 + 1\n",
    "    return y.mean()"
   ]
  },
  {
   "cell_type": "code",
   "execution_count": 31,
   "metadata": {
    "execution": {
     "iopub.execute_input": "2022-12-28T17:28:43.917807Z",
     "iopub.status.busy": "2022-12-28T17:28:43.917193Z",
     "iopub.status.idle": "2022-12-28T17:28:43.923456Z",
     "shell.execute_reply": "2022-12-28T17:28:43.922596Z",
     "shell.execute_reply.started": "2022-12-28T17:28:43.917783Z"
    },
    "tags": []
   },
   "outputs": [],
   "source": [
    "x1 = torch.rand(8, requires_grad=True)\n",
    "x2 = torch.rand(8, requires_grad=True)\n",
    "params = (x1, x2)\n",
    "optimizer = torch.optim.Adam(params)"
   ]
  },
  {
   "cell_type": "code",
   "execution_count": 32,
   "metadata": {
    "execution": {
     "iopub.execute_input": "2022-12-28T17:28:56.628602Z",
     "iopub.status.busy": "2022-12-28T17:28:56.627972Z",
     "iopub.status.idle": "2022-12-28T17:28:56.634843Z",
     "shell.execute_reply": "2022-12-28T17:28:56.634015Z",
     "shell.execute_reply.started": "2022-12-28T17:28:56.628572Z"
    },
    "tags": []
   },
   "outputs": [
    {
     "data": {
      "text/plain": [
       "{}"
      ]
     },
     "execution_count": 32,
     "metadata": {},
     "output_type": "execute_result"
    }
   ],
   "source": [
    "optimizer.state_dict()['state']"
   ]
  },
  {
   "cell_type": "code",
   "execution_count": 30,
   "metadata": {
    "execution": {
     "iopub.execute_input": "2022-12-28T16:28:20.640161Z",
     "iopub.status.busy": "2022-12-28T16:28:20.639782Z",
     "iopub.status.idle": "2022-12-28T16:28:20.661931Z",
     "shell.execute_reply": "2022-12-28T16:28:20.660731Z",
     "shell.execute_reply.started": "2022-12-28T16:28:20.640122Z"
    },
    "tags": []
   },
   "outputs": [
    {
     "data": {
      "text/plain": [
       "{0: {'step': tensor(1.),\n",
       "  'exp_avg': tensor([0.0128, 0.0034, 0.0069, 0.0109, 0.0157, 0.0140, 0.0157, 0.0117]),\n",
       "  'exp_avg_sq': tensor([1.6259e-05, 1.1660e-06, 4.7038e-06, 1.1785e-05, 2.4588e-05, 1.9502e-05,\n",
       "          2.4645e-05, 1.3725e-05])},\n",
       " 1: {'step': tensor(1.),\n",
       "  'exp_avg': tensor([ 0.0041, -0.0049, -0.0042, -0.0075,  0.0022, -0.0111,  0.0006, -0.0064]),\n",
       "  'exp_avg_sq': tensor([1.6493e-06, 2.4000e-06, 1.7603e-06, 5.6875e-06, 4.8614e-07, 1.2309e-05,\n",
       "          3.5359e-08, 4.0557e-06])}}"
      ]
     },
     "execution_count": 30,
     "metadata": {},
     "output_type": "execute_result"
    }
   ],
   "source": [
    "optimizer.zero_grad()\n",
    "y = f(x1, x2)\n",
    "y.backward()\n",
    "optimizer.step()\n",
    "optimizer.state_dict()['state']"
   ]
  },
  {
   "cell_type": "code",
   "execution_count": 20,
   "metadata": {
    "execution": {
     "iopub.execute_input": "2022-12-28T16:22:36.617784Z",
     "iopub.status.busy": "2022-12-28T16:22:36.617216Z",
     "iopub.status.idle": "2022-12-28T16:22:36.624033Z",
     "shell.execute_reply": "2022-12-28T16:22:36.623104Z",
     "shell.execute_reply.started": "2022-12-28T16:22:36.617731Z"
    },
    "tags": []
   },
   "outputs": [
    {
     "data": {
      "text/plain": [
       "tensor([ 0.0971,  0.0389,  0.0405, -0.0444,  0.1366,  0.0634, -0.0026,  0.0251])"
      ]
     },
     "execution_count": 20,
     "metadata": {},
     "output_type": "execute_result"
    }
   ],
   "source": [
    "x1.grad"
   ]
  },
  {
   "cell_type": "code",
   "execution_count": 18,
   "metadata": {
    "execution": {
     "iopub.execute_input": "2022-12-28T16:21:18.505444Z",
     "iopub.status.busy": "2022-12-28T16:21:18.504886Z",
     "iopub.status.idle": "2022-12-28T16:21:18.516112Z",
     "shell.execute_reply": "2022-12-28T16:21:18.515105Z",
     "shell.execute_reply.started": "2022-12-28T16:21:18.505402Z"
    },
    "tags": []
   },
   "outputs": [
    {
     "data": {
      "text/plain": [
       "{0: {'momentum_buffer': tensor([ 0.1916,  0.0767,  0.0799, -0.0876,  0.2695,  0.1250, -0.0051,  0.0495])},\n",
       " 1: {'momentum_buffer': tensor([ 0.0007, -0.2121,  0.0425,  0.0691, -0.0214, -0.0744,  0.0686, -0.1629])}}"
      ]
     },
     "execution_count": 18,
     "metadata": {},
     "output_type": "execute_result"
    }
   ],
   "source": [
    "optimizer.zero_grad()\n",
    "y = f(x1, x2)\n",
    "y.backward()\n",
    "optimizer.step()\n",
    "optimizer.state_dict()['state']"
   ]
  },
  {
   "cell_type": "code",
   "execution_count": 21,
   "metadata": {
    "execution": {
     "iopub.execute_input": "2022-12-28T16:22:54.347160Z",
     "iopub.status.busy": "2022-12-28T16:22:54.346790Z",
     "iopub.status.idle": "2022-12-28T16:22:54.353547Z",
     "shell.execute_reply": "2022-12-28T16:22:54.352873Z",
     "shell.execute_reply.started": "2022-12-28T16:22:54.347133Z"
    },
    "tags": []
   },
   "outputs": [
    {
     "data": {
      "text/plain": [
       "{0: {'momentum_buffer': tensor([ 0.2552,  0.1022,  0.1065, -0.1167,  0.3590,  0.1665, -0.0068,  0.0659])},\n",
       " 1: {'momentum_buffer': tensor([ 0.0009, -0.2826,  0.0566,  0.0921, -0.0285, -0.0991,  0.0913, -0.2170])}}"
      ]
     },
     "execution_count": 21,
     "metadata": {},
     "output_type": "execute_result"
    }
   ],
   "source": [
    "optimizer.zero_grad()\n",
    "y = f(x1, x2)\n",
    "y.backward()\n",
    "optimizer.step()\n",
    "optimizer.state_dict()['state']"
   ]
  },
  {
   "cell_type": "code",
   "execution_count": 25,
   "metadata": {
    "execution": {
     "iopub.execute_input": "2022-12-28T16:24:21.119116Z",
     "iopub.status.busy": "2022-12-28T16:24:21.118799Z",
     "iopub.status.idle": "2022-12-28T16:24:21.124768Z",
     "shell.execute_reply": "2022-12-28T16:24:21.123798Z",
     "shell.execute_reply.started": "2022-12-28T16:24:21.119095Z"
    },
    "tags": []
   },
   "outputs": [
    {
     "data": {
      "text/plain": [
       "tensor([ 0.0828,  0.0331,  0.0345, -0.0378,  0.1164,  0.0540, -0.0022,  0.0214])"
      ]
     },
     "execution_count": 25,
     "metadata": {},
     "output_type": "execute_result"
    }
   ],
   "source": [
    "x1.grad"
   ]
  },
  {
   "cell_type": "code",
   "execution_count": 27,
   "metadata": {
    "execution": {
     "iopub.execute_input": "2022-12-28T16:25:05.233379Z",
     "iopub.status.busy": "2022-12-28T16:25:05.233013Z",
     "iopub.status.idle": "2022-12-28T16:25:05.238388Z",
     "shell.execute_reply": "2022-12-28T16:25:05.237398Z",
     "shell.execute_reply.started": "2022-12-28T16:25:05.233354Z"
    },
    "tags": []
   },
   "outputs": [
    {
     "data": {
      "text/plain": [
       "0.08275999999999997"
      ]
     },
     "execution_count": 27,
     "metadata": {},
     "output_type": "execute_result"
    }
   ],
   "source": [
    "0.2552 - 0.9*0.1916"
   ]
  },
  {
   "cell_type": "code",
   "execution_count": null,
   "metadata": {},
   "outputs": [],
   "source": []
  },
  {
   "cell_type": "code",
   "execution_count": null,
   "metadata": {},
   "outputs": [],
   "source": []
  },
  {
   "cell_type": "code",
   "execution_count": null,
   "metadata": {},
   "outputs": [],
   "source": []
  },
  {
   "cell_type": "code",
   "execution_count": 7,
   "metadata": {
    "execution": {
     "iopub.execute_input": "2022-12-28T16:05:08.342184Z",
     "iopub.status.busy": "2022-12-28T16:05:08.341873Z",
     "iopub.status.idle": "2022-12-28T16:05:08.359464Z",
     "shell.execute_reply": "2022-12-28T16:05:08.358809Z",
     "shell.execute_reply.started": "2022-12-28T16:05:08.342164Z"
    },
    "tags": []
   },
   "outputs": [],
   "source": [
    "nIter = 50\n",
    "for _ in range(nIter):\n",
    "    optimizer.zero_grad()\n",
    "    y = f(x1, x2)\n",
    "    y.backward()\n",
    "    optimizer.step()"
   ]
  },
  {
   "cell_type": "code",
   "execution_count": 8,
   "metadata": {
    "execution": {
     "iopub.execute_input": "2022-12-28T16:05:10.282578Z",
     "iopub.status.busy": "2022-12-28T16:05:10.282056Z",
     "iopub.status.idle": "2022-12-28T16:05:10.289461Z",
     "shell.execute_reply": "2022-12-28T16:05:10.288666Z",
     "shell.execute_reply.started": "2022-12-28T16:05:10.282543Z"
    },
    "tags": []
   },
   "outputs": [
    {
     "data": {
      "text/plain": [
       "tensor(1.0001, grad_fn=<MeanBackward0>)"
      ]
     },
     "execution_count": 8,
     "metadata": {},
     "output_type": "execute_result"
    }
   ],
   "source": [
    "y"
   ]
  },
  {
   "cell_type": "code",
   "execution_count": 9,
   "metadata": {
    "execution": {
     "iopub.execute_input": "2022-12-28T16:05:11.269962Z",
     "iopub.status.busy": "2022-12-28T16:05:11.269620Z",
     "iopub.status.idle": "2022-12-28T16:05:11.275556Z",
     "shell.execute_reply": "2022-12-28T16:05:11.274490Z",
     "shell.execute_reply.started": "2022-12-28T16:05:11.269938Z"
    },
    "tags": []
   },
   "outputs": [
    {
     "data": {
      "text/plain": [
       "tensor([0.3092, 0.2988, 0.3117, 0.2961, 0.3081, 0.2995, 0.3086, 0.3084],\n",
       "       requires_grad=True)"
      ]
     },
     "execution_count": 9,
     "metadata": {},
     "output_type": "execute_result"
    }
   ],
   "source": [
    "x1"
   ]
  },
  {
   "cell_type": "code",
   "execution_count": 10,
   "metadata": {
    "execution": {
     "iopub.execute_input": "2022-12-28T16:05:12.311569Z",
     "iopub.status.busy": "2022-12-28T16:05:12.311200Z",
     "iopub.status.idle": "2022-12-28T16:05:12.316948Z",
     "shell.execute_reply": "2022-12-28T16:05:12.315980Z",
     "shell.execute_reply.started": "2022-12-28T16:05:12.311535Z"
    },
    "tags": []
   },
   "outputs": [
    {
     "data": {
      "text/plain": [
       "tensor([0.6960, 0.7005, 0.6860, 0.6932, 0.6972, 0.6889, 0.7025, 0.7025],\n",
       "       requires_grad=True)"
      ]
     },
     "execution_count": 10,
     "metadata": {},
     "output_type": "execute_result"
    }
   ],
   "source": [
    "x2"
   ]
  },
  {
   "cell_type": "code",
   "execution_count": 11,
   "metadata": {
    "execution": {
     "iopub.execute_input": "2022-12-28T16:05:30.682644Z",
     "iopub.status.busy": "2022-12-28T16:05:30.682239Z",
     "iopub.status.idle": "2022-12-28T16:05:30.688681Z",
     "shell.execute_reply": "2022-12-28T16:05:30.687762Z",
     "shell.execute_reply.started": "2022-12-28T16:05:30.682615Z"
    },
    "tags": []
   },
   "outputs": [
    {
     "data": {
      "text/plain": [
       "{'state': {0: {'momentum_buffer': None}, 1: {'momentum_buffer': None}},\n",
       " 'param_groups': [{'lr': 0.3,\n",
       "   'momentum': 0,\n",
       "   'dampening': 0,\n",
       "   'weight_decay': 0,\n",
       "   'nesterov': False,\n",
       "   'maximize': False,\n",
       "   'foreach': None,\n",
       "   'params': [0, 1]}]}"
      ]
     },
     "execution_count": 11,
     "metadata": {},
     "output_type": "execute_result"
    }
   ],
   "source": [
    "optimizer.state_dict()"
   ]
  },
  {
   "cell_type": "code",
   "execution_count": null,
   "metadata": {},
   "outputs": [],
   "source": []
  },
  {
   "cell_type": "code",
   "execution_count": null,
   "metadata": {},
   "outputs": [],
   "source": []
  },
  {
   "cell_type": "code",
   "execution_count": null,
   "metadata": {},
   "outputs": [],
   "source": []
  },
  {
   "cell_type": "code",
   "execution_count": 101,
   "metadata": {
    "tags": []
   },
   "outputs": [
    {
     "data": {
      "text/plain": [
       "torch.Size([506, 13])"
      ]
     },
     "execution_count": 101,
     "metadata": {},
     "output_type": "execute_result"
    }
   ],
   "source": [
    "# constants\n",
    "df = pd.read_csv('data/boston.csv')\n",
    "x = torch.tensor(df.drop(columns='price').values, dtype=torch.float32)\n",
    "yTrue = torch.tensor(df.price, dtype=torch.float32).reshape(-1, 1)\n",
    "x.shape"
   ]
  },
  {
   "cell_type": "code",
   "execution_count": 118,
   "metadata": {
    "tags": []
   },
   "outputs": [],
   "source": [
    "# variables\n",
    "w = torch.rand(13, 1, requires_grad=True)\n",
    "b = torch.rand(1, requires_grad=True)"
   ]
  },
  {
   "cell_type": "code",
   "execution_count": 8,
   "metadata": {
    "tags": []
   },
   "outputs": [],
   "source": [
    "# foward pass\n",
    "yPred = torch.matmul(x, w) + b\n",
    "loss = F.mse_loss(yPred, yTrue)"
   ]
  },
  {
   "cell_type": "code",
   "execution_count": 5,
   "metadata": {
    "tags": []
   },
   "outputs": [
    {
     "data": {
      "text/plain": [
       "tensor([[4.0881e+03],\n",
       "        [8.9216e+03],\n",
       "        [1.1059e+04],\n",
       "        [6.2815e+01],\n",
       "        [5.2048e+02],\n",
       "        [5.6970e+03],\n",
       "        [6.5683e+04],\n",
       "        [3.2624e+03],\n",
       "        [9.9968e+03],\n",
       "        [4.0062e+05],\n",
       "        [1.7052e+04],\n",
       "        [3.2636e+05],\n",
       "        [1.2301e+04]])"
      ]
     },
     "execution_count": 5,
     "metadata": {},
     "output_type": "execute_result"
    }
   ],
   "source": [
    "# backward pass\n",
    "loss.backward()\n",
    "w.grad"
   ]
  },
  {
   "cell_type": "code",
   "execution_count": 119,
   "metadata": {},
   "outputs": [],
   "source": [
    "params = w, b\n",
    "optimizer = torch.optim.SGD(params, lr=0.1, momentum=0.9)"
   ]
  },
  {
   "cell_type": "code",
   "execution_count": 122,
   "metadata": {},
   "outputs": [
    {
     "data": {
      "text/plain": [
       "tensor(4.0422e+24, grad_fn=<MseLossBackward0>)"
      ]
     },
     "execution_count": 122,
     "metadata": {},
     "output_type": "execute_result"
    }
   ],
   "source": [
    "optimizer.zero_grad()\n",
    "yPred = torch.matmul(x, w) + b\n",
    "loss = F.mse_loss(yTrue, yPred)\n",
    "\n",
    "loss.backward()\n",
    "optimizer.step()\n",
    "\n",
    "loss"
   ]
  },
  {
   "cell_type": "code",
   "execution_count": 34,
   "metadata": {},
   "outputs": [
    {
     "data": {
      "text/plain": [
       "tensor([-38109960.])"
      ]
     },
     "execution_count": 34,
     "metadata": {},
     "output_type": "execute_result"
    }
   ],
   "source": [
    "b.grad"
   ]
  },
  {
   "cell_type": "code",
   "execution_count": null,
   "metadata": {},
   "outputs": [],
   "source": []
  },
  {
   "cell_type": "code",
   "execution_count": null,
   "metadata": {},
   "outputs": [],
   "source": [
    "nIter = 100\n",
    "for epoch in range(nIter):\n",
    "    optimizer.zero_grad()\n",
    "    yPred = "
   ]
  },
  {
   "cell_type": "code",
   "execution_count": 37,
   "metadata": {},
   "outputs": [],
   "source": [
    "from torch.utils.data import Dataset, DataLoader"
   ]
  },
  {
   "cell_type": "code",
   "execution_count": null,
   "metadata": {},
   "outputs": [],
   "source": []
  },
  {
   "cell_type": "code",
   "execution_count": null,
   "metadata": {},
   "outputs": [],
   "source": []
  },
  {
   "cell_type": "code",
   "execution_count": null,
   "metadata": {},
   "outputs": [],
   "source": []
  },
  {
   "cell_type": "code",
   "execution_count": 43,
   "metadata": {},
   "outputs": [
    {
     "data": {
      "text/plain": [
       "506"
      ]
     },
     "execution_count": 43,
     "metadata": {},
     "output_type": "execute_result"
    }
   ],
   "source": [
    "len(y)"
   ]
  },
  {
   "cell_type": "code",
   "execution_count": 50,
   "metadata": {},
   "outputs": [
    {
     "data": {
      "text/plain": [
       "tensor([2.7290e-02, 0.0000e+00, 7.0700e+00, 0.0000e+00, 4.6900e-01, 7.1850e+00,\n",
       "        6.1100e+01, 4.9671e+00, 2.0000e+00, 2.4200e+02, 1.7800e+01, 3.9283e+02,\n",
       "        4.0300e+00], dtype=torch.float64)"
      ]
     },
     "execution_count": 50,
     "metadata": {},
     "output_type": "execute_result"
    }
   ],
   "source": [
    "x[2]"
   ]
  },
  {
   "cell_type": "code",
   "execution_count": 51,
   "metadata": {},
   "outputs": [
    {
     "data": {
      "text/plain": [
       "tensor([34.7000], dtype=torch.float64)"
      ]
     },
     "execution_count": 51,
     "metadata": {},
     "output_type": "execute_result"
    }
   ],
   "source": [
    "y[2]"
   ]
  },
  {
   "cell_type": "code",
   "execution_count": 52,
   "metadata": {},
   "outputs": [],
   "source": [
    "class TabularData(Dataset):\n",
    "    def __init__(self, df, labelName):\n",
    "        self.features = df.drop(columns=labelName)\n",
    "        self.label = df[labelName]\n",
    "    \n",
    "    def __len__(self):\n",
    "        return len(self.label)\n",
    "    \n",
    "    def __getitem__(self, idx):\n",
    "        return self.features[idx], self.label[idx]"
   ]
  },
  {
   "cell_type": "code",
   "execution_count": 55,
   "metadata": {},
   "outputs": [
    {
     "data": {
      "text/plain": [
       "<__main__.TabularData at 0x1a72763b550>"
      ]
     },
     "execution_count": 55,
     "metadata": {},
     "output_type": "execute_result"
    }
   ],
   "source": [
    "TabularData(df, 'price')"
   ]
  },
  {
   "cell_type": "code",
   "execution_count": null,
   "metadata": {},
   "outputs": [],
   "source": []
  },
  {
   "cell_type": "code",
   "execution_count": null,
   "metadata": {},
   "outputs": [],
   "source": []
  },
  {
   "cell_type": "code",
   "execution_count": 66,
   "metadata": {},
   "outputs": [],
   "source": [
    "size = 7\n",
    "x = torch.rand(size, requires_grad=True)\n",
    "# y = (x-0.5)**2\n",
    "\n",
    "optimizer = torch.optim.SGD([x], lr=0.1)"
   ]
  },
  {
   "cell_type": "code",
   "execution_count": 85,
   "metadata": {},
   "outputs": [
    {
     "data": {
      "text/plain": [
       "tensor(8.1594e-05, grad_fn=<SumBackward0>)"
      ]
     },
     "execution_count": 85,
     "metadata": {},
     "output_type": "execute_result"
    }
   ],
   "source": [
    "optimizer.zero_grad()\n",
    "y = ((x-0.5)**2).sum()\n",
    "y.backward()\n",
    "optimizer.step()\n",
    "y"
   ]
  },
  {
   "cell_type": "code",
   "execution_count": null,
   "metadata": {},
   "outputs": [],
   "source": []
  },
  {
   "cell_type": "markdown",
   "metadata": {},
   "source": [
    "## (w) Data loader"
   ]
  },
  {
   "cell_type": "markdown",
   "metadata": {},
   "source": [
    "## (w) Gradient accumulation"
   ]
  },
  {
   "cell_type": "markdown",
   "metadata": {},
   "source": [
    "## (w) Language processing\n",
    "<code style='font-size:13px'><a href=https://pytorch.org/text/stable/index.html>torchtext</a></code>"
   ]
  },
  {
   "cell_type": "markdown",
   "metadata": {},
   "source": [
    "## (w) Image processing\n",
    "<code style='font-size:13px'><a href=https://pytorch.org/vision/stable/index.html>torchvision</a></code>"
   ]
  },
  {
   "cell_type": "markdown",
   "metadata": {},
   "source": [
    "# (w) Neural networks"
   ]
  },
  {
   "cell_type": "markdown",
   "metadata": {},
   "source": [
    "PyTorch has two APIs for creating layers,\n",
    "<code style='font-size:13px'><a href=https://pytorch.org/docs/stable/nn.html>nn</a></code>\n",
    "(abbreviated for *neural network*) and\n",
    "<code style='font-size:13px'><a href=https://pytorch.org/docs/stable/nn.functional.html>nn.functional</a></code>.\n",
    "The first module provides object interface (that supports auto differentiation) and the second module provides function interface (easier to use). So, the best practice is using object interface for layers with trainable parameters such as recurrent or convolutional, and using function interface for loss functions or activation functions."
   ]
  },
  {
   "cell_type": "markdown",
   "metadata": {},
   "source": [
    "PyTorch has two APIs for creating models, where the recommended one is\n",
    "<code style='font-size:13px'><a href=https://pytorch.org/docs/stable/generated/torch.nn.Module.html>nn.Module</a></code>,\n",
    "being equivalent to functional API in Keras. To create a model, we inherit this class, define building blocks inside the <code style='font-size:13px'>\\_\\_init__()</code> method and design the neural network architecture with the <code style='font-size:13px'>foward()</code> method. We don't need to to specify the backward pass, as the submodule\n",
    "<code style='font-size:13px'><a href=https://pytorch.org/docs/stable/autograd.html>autograd</a></code>\n",
    "will handle it for us. The second API,\n",
    "<code style='font-size:13px'><a href=https://pytorch.org/docs/stable/generated/torch.nn.Sequential.html>nn.Sequential</a></code>,\n",
    "is good for simple architectures as well as small blocks of large networks, inception block of GooLeNet for example."
   ]
  },
  {
   "cell_type": "code",
   "execution_count": 1,
   "metadata": {},
   "outputs": [],
   "source": [
    "import torch\n",
    "from torch import nn\n",
    "from torch.autograd import Variable"
   ]
  },
  {
   "cell_type": "code",
   "execution_count": 2,
   "metadata": {},
   "outputs": [
    {
     "data": {
      "text/plain": [
       "False"
      ]
     },
     "execution_count": 2,
     "metadata": {},
     "output_type": "execute_result"
    }
   ],
   "source": [
    "torch.cuda.is_available()"
   ]
  },
  {
   "cell_type": "code",
   "execution_count": 56,
   "metadata": {},
   "outputs": [
    {
     "data": {
      "text/plain": [
       "tensor([[ 2.,  4.,  6.,  8., 10.]])"
      ]
     },
     "execution_count": 56,
     "metadata": {},
     "output_type": "execute_result"
    }
   ],
   "source": [
    "x = torch.autograd.Variable(torch.Tensor([[1,2,3,4,5]]), requires_grad=True)\n",
    "y = torch.sum(x**2)\n",
    "y.backward() \n",
    "x.grad"
   ]
  },
  {
   "cell_type": "code",
   "execution_count": 57,
   "metadata": {},
   "outputs": [],
   "source": [
    "class TwoLayerNet(nn.Module):\n",
    "    def __init__(self, D_in, H, D_out):\n",
    "        \"\"\"\n",
    "        In the constructor we instantiate two nn.Linear modules and assign them as\n",
    "        member variables.\n",
    "\n",
    "        D_in: input dimension\n",
    "        H: dimension of hidden layer\n",
    "        D_out: output dimension\n",
    "        \"\"\"\n",
    "        super(TwoLayerNet, self).__init__()\n",
    "        self.linear1 = nn.Linear(D_in, H) \n",
    "        self.linear2 = nn.Linear(H, D_out)\n",
    "\n",
    "def forward(self, x):\n",
    "        \"\"\"\n",
    "        In the forward function we accept a Variable of input data and we must \n",
    "        return a Variable of output data. We can use Modules defined in the \n",
    "        constructor as well as arbitrary operators on Variables.\n",
    "        \"\"\"\n",
    "        h_relu = nn.functional.relu(self.linear1(x))\n",
    "        y_pred = self.linear2(h_relu)\n",
    "        return y_pred"
   ]
  },
  {
   "cell_type": "code",
   "execution_count": 72,
   "metadata": {},
   "outputs": [],
   "source": [
    "class Rectangle:\n",
    "    def __init__(self, length, width):\n",
    "        self.length = length\n",
    "        self.width = width\n",
    "\n",
    "    def area(self):\n",
    "        return self.length * self.width\n",
    "\n",
    "    def perimeter(self):\n",
    "        return 2 * self.length + 2 * self.width\n",
    "\n",
    "class Square(Rectangle):\n",
    "    def __init__(self, length):\n",
    "        super().__init__(length, length)\n",
    "        \n",
    "class Cube(Square):\n",
    "    def surface_area(self):\n",
    "        face_area = super().area()\n",
    "        return face_area * 6\n",
    "\n",
    "    def volume(self):\n",
    "        face_area = super().area()\n",
    "        return face_area * self.length"
   ]
  },
  {
   "cell_type": "markdown",
   "metadata": {},
   "source": [
    "# References\n",
    "- *pytorch.org - [Autograd mechanics](https://pytorch.org/docs/stable/notes/autograd.html)*\n",
    "- *pytorch.org - [Automatic differentiation with Torch.Autograd](https://pytorch.org/tutorials/beginner/basics/autogradqs_tutorial.html)*\n",
    "- *pytorch.org - [Deep Learning with PyTorch: A 60-minute blitz](https://pytorch.org/tutorials/beginner/deep_learning_60min_blitz.html)*\n",
    "- *towardsdatascience.com - [Understanding PyTorch with an example: a step-by-step tutorial](https://towardsdatascience.com/understanding-pytorch-with-an-example-a-step-by-step-tutorial-81fc5f8c4e8e)*\n",
    "- *towardsdatascience.com - [PyTorch vs TensorFlow - spotting the difference](https://towardsdatascience.com/pytorch-vs-tensorflow-spotting-the-difference-25c75777377b)*\n",
    "- *blog.paperspace.com - [PyTorch 101 advanced](https://blog.paperspace.com/pytorch-101-advanced/)*\n",
    "- *poloclub.github.io - [CNN explainer](https://poloclub.github.io/cnn-explainer/)*\n",
    "- https://cs230.stanford.edu/blog/pytorch/"
   ]
  },
  {
   "cell_type": "code",
   "execution_count": null,
   "metadata": {},
   "outputs": [],
   "source": [
    "conda install pytorch torchvision torchaudio cpuonly -c pytorch"
   ]
  },
  {
   "cell_type": "code",
   "execution_count": null,
   "metadata": {},
   "outputs": [],
   "source": [
    "!pip3 install torch torchvision torchaudio --user"
   ]
  },
  {
   "cell_type": "markdown",
   "metadata": {},
   "source": [
    "---\n",
    "*&#9829; By Quang Hung x Thuy Linh &#9829;*"
   ]
  }
 ],
 "metadata": {
  "kernelspec": {
   "display_name": "Python 3",
   "language": "python",
   "name": "python3"
  },
  "language_info": {
   "codemirror_mode": {
    "name": "ipython",
    "version": 3
   },
   "file_extension": ".py",
   "mimetype": "text/x-python",
   "name": "python",
   "nbconvert_exporter": "python",
   "pygments_lexer": "ipython3",
   "version": "3.8.8"
  }
 },
 "nbformat": 4,
 "nbformat_minor": 4
}
