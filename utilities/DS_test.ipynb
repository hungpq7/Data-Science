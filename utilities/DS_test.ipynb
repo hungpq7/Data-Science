{
 "cells": [
  {
   "cell_type": "markdown",
   "metadata": {},
   "source": [
    "# A. Data Science overview"
   ]
  },
  {
   "cell_type": "markdown",
   "metadata": {},
   "source": [
    "**A01**. *Nhận định nào sau đây là đúng về data science*\n",
    "- [ ] Data science xây dựng trên nền tảng bigdata\n",
    "- [ ] Data science tương đương statistics\n",
    "- [ ] Data science và AI có chung mục tiêu xuất phát điểm\n",
    "- [x] Không có khái niệm thống nhất duy nhất về Data science"
   ]
  },
  {
   "cell_type": "markdown",
   "metadata": {},
   "source": [
    "**A02**. Theo quan điểm của Jim Gray, mô hình (paradigm) nào sau đây không phải mô hình khoa học\n",
    "- [ ] Mô hình thí nghiệm\n",
    "- [ ] Mô hình suy luận lý thuyết\n",
    "- [ ] Mô hình định hướng dựa trên dữ liệu\n",
    "- [x] Mô hình xác suất"
   ]
  },
  {
   "cell_type": "markdown",
   "metadata": {},
   "source": [
    "**A03**. Các sản phẩm nào sau đây là **không** đúng về sản phẩm DS của các hãng công nghệ lớn\n",
    "- [ ] Google phát triển Alphafold\n",
    "- [ ] Microsoft phát triển ResNet\n",
    "- [ ] Google phát triển InceptionNet\n",
    "- [x] Facebook phát triển MobileNet"
   ]
  },
  {
   "cell_type": "markdown",
   "metadata": {},
   "source": [
    "**A04**. Thuật ngữ \"data science\" được sử dụng lần đầu tiên:\n",
    "- [ ] Bởi Jeff Wu, sử dụng như lý thyết xác suất\n",
    "- [x] Vào những năm 80s, sử dụng như thống kê\n",
    "- [ ] Sử dụng như giới thiệu hướng tiếp cận mới cho AI\n",
    "- [ ] Vào những năm 40s của thế ký 20, bởi Alan Turing"
   ]
  },
  {
   "cell_type": "markdown",
   "metadata": {},
   "source": [
    "**A05**. Map reduce được giới thiệu lần đầu bởi công ty nào\n",
    "- [ ] Facebook\n",
    "- [ ] Data Bricks\n",
    "- [x] Google\n",
    "- [ ] Yahoo"
   ]
  },
  {
   "cell_type": "markdown",
   "metadata": {},
   "source": [
    "**A06**. Hadoop được phát hàng lần đầu bởi công ty nào\n",
    "- [x] Yahoo\n",
    "- [ ] Facebook\n",
    "- [ ] Data Bricks\n",
    "- [ ] Google"
   ]
  },
  {
   "cell_type": "markdown",
   "metadata": {},
   "source": [
    "**A07**. Hadoop được giới thiệu lần đầu vào năm nào\n",
    "- [ ] 2014\n",
    "- [ ] 2000\n",
    "- [ ] 2008\n",
    "- [x] 2006"
   ]
  },
  {
   "cell_type": "markdown",
   "metadata": {},
   "source": [
    "**A08**. Ai được xem là cha đẻ của Deep learning\n",
    "- [ ] Andrew Ng\n",
    "- [ ] Ian Goodfellow\n",
    "- [x] Geoffrey Hinton\n",
    "- [ ] Alan Turing"
   ]
  },
  {
   "cell_type": "markdown",
   "metadata": {},
   "source": [
    "**A09**. Nhận định nào sau đây là **không** đúng\n",
    "- [x] Pandas, Numpy, Sklearn cùng được phát triển bởi NumFocus\n",
    "- [ ] Dask được thiết kế trên nền tảng Pandas\n",
    "- [ ] Pandas được xây dựng trên nền tảng Numpy\n",
    "- [ ] Sklearn là ám chỉ Sciy Toolkit, là một phần mở rộng cho Scipy"
   ]
  },
  {
   "cell_type": "markdown",
   "metadata": {},
   "source": [
    "**A10**. Tensorflow version 2 được nâng cấp gì so với version 1\n",
    "- [ ] Keras execution\n",
    "- [x] Eager execution\n",
    "- [ ] Parallel execution\n",
    "- [ ] Graph execution"
   ]
  },
  {
   "cell_type": "markdown",
   "metadata": {},
   "source": [
    "**A11**. *Nhận định nào là đúng về artifitial neural networks (ANN)*\n",
    "- [ ] ANN được phát triển và mở rộng từ những năm 2006\n",
    "- [ ] ANN là deep learning\n",
    "- [ ] ANN chỉ hoạt động với big data\n",
    "- [x] ANN là một dạng representation learning"
   ]
  },
  {
   "cell_type": "markdown",
   "metadata": {},
   "source": [
    "**A12**. Năm 2017, phần mềm Alpha Go đánh bại kiện tướng nào\n",
    "- [x] Ke Jie\n",
    "- [ ] Lee Se-dol\n",
    "- [ ] Greg Kohs\n",
    "- [ ] Fan Hui"
   ]
  },
  {
   "cell_type": "markdown",
   "metadata": {},
   "source": [
    "**A13**. *Đâu không phải là một trong các nguyên nhân dẫn đến mùa đông AI*\n",
    "- [ ] Thiếu hụt phương pháp luận\n",
    "- [ ] Khả năng tính toán máy móc yếu\n",
    "- [ ] Suy thoái kinh tế\n",
    "- [x] Lo ngại mối đe dọa của AI với con người"
   ]
  },
  {
   "cell_type": "markdown",
   "metadata": {},
   "source": [
    "**A14**. *Nhận định nào là đúng về AutoML*\n",
    "- [ ] Xoay quanh việc tự động hóa tối ưu tham số mô hình\n",
    "- [ ] Hướng đến cho phép Domain expert có thể triển khai học máy cho đa đạng các bài toán của mình\n",
    "- [ ] Được sinh ra nhằm thay thế đội ngũ Data scientist\n",
    "- [x] Là một hệ sinh thái no-code, các domain expert có thể sử dụng để thực hiện ML"
   ]
  },
  {
   "cell_type": "markdown",
   "metadata": {},
   "source": [
    "**A15**. *Các xu hướng nào sau đây là không đúng trong DS*\n",
    "- [ ] Xu hướng mở rộng ứng dụng dữ liệu lớn\n",
    "- [ ] Xu hướng mở rộng ứng dụng thuật toán học sâu\n",
    "- [x] Xu hướng thay thế con người trong xây dựng mô hình\n",
    "- [ ] Xu hướng tính toán chính xác sang tính toán xấp xỉ"
   ]
  },
  {
   "cell_type": "markdown",
   "metadata": {},
   "source": [
    "# B. Data at Viettel"
   ]
  },
  {
   "cell_type": "markdown",
   "metadata": {},
   "source": [
    "**B01**. Bạn thấy đồng nghiệp A của mình sử dụng dữ liệu để kiểm tra hành vi di chuyển của một khách hàng do KH đó có khiếu nại liên quan, đơn vị CSKH có PYC kiểm tra dữ liệu. Bạn nên làm gì?\n",
    "- [ ] Đề nghị A mã hóa số liệu\n",
    "- [x] Để A thực hiện công việc của mình\n",
    "- [ ] Báo cáo A vi phạm ATTT với trưởng đơn vị\n",
    "- [ ] Báo cáo A vi phạm ATTT với phòng ATTT"
   ]
  },
  {
   "cell_type": "markdown",
   "metadata": {},
   "source": [
    "**B02**. Biểu mẫu BM06b trong quy trình PTDL có nội dùng gì?\n",
    "- [ ] Kết quả xây dựng mô hình\n",
    "- [ ] Xác định các mô hình học máy cần triển khai\n",
    "- [x] Kết quả tối ưu tham số\n",
    "- [ ] Xác định giải pháp xây dựng mô hình"
   ]
  },
  {
   "cell_type": "markdown",
   "metadata": {},
   "source": [
    "**B03**. Bạn nghi ngờ người yêu của mình ngoại tình và muốn kiểm tra lịch sử cuộc gọi của người yêu mình, bạn nên làm thế nào?\n",
    "- [ ] Báo cáo trưởng đơn vị xin cấp quyền\n",
    "- [ ] Nhờ team BI report kiểm tra\n",
    "- [ ] Kiểm tra dữ liệu nhưng cần mã hóa\n",
    "- [x] Không thực hiện kiểm tra trên dữ liệu Viettel"
   ]
  },
  {
   "cell_type": "markdown",
   "metadata": {},
   "source": [
    "**B04**. Bảng `r_c360_interact` chứa thông tin về\n",
    "- [ ] Tương tác của TB với nhau\n",
    "- [x] Tương tác của TB với ussd và MyViettel\n",
    "- [ ] Tương tác của TB với My Viettel\n",
    "- [ ] Tương tác của TB với SMS"
   ]
  },
  {
   "cell_type": "markdown",
   "metadata": {},
   "source": [
    "**B05**. Bảng `f_vas_mps_package_daily` chứa dữ liệu về\n",
    "- [x] Đăng ký gói VAS trên hệ thống MPS của thuê bao trả trước và trả sau\n",
    "- [ ] Đăng ký gói MPS trên hệ thống VAS của thuê bao trả trước và trả sau\n",
    "- [ ] Tiêu dùng gói VAS trên hệ thống MPS của thuê bao trả trước và trả sau\n",
    "- [ ] Tiêu dùng gói VAS trên hệ thống MPS của thuê bao trả trước"
   ]
  },
  {
   "cell_type": "markdown",
   "metadata": {},
   "source": [
    "**B06**. Dữ liệu quét kết nối từ trạm BTS đến máy điện thoại, nếu máy mở thì trả về một số thông tin gọi là dữ liệu gì?\n",
    "- [x] Register\n",
    "- [ ] Checking\n",
    "- [ ] Roaming\n",
    "- [ ] Connecting"
   ]
  },
  {
   "cell_type": "markdown",
   "metadata": {},
   "source": [
    "**B07**. Bạn cần dữ liệu người dùng đang sử dụng các gói cước nào, bảng nào sau đây chưa thông tin bạn cần?\n",
    "- [x] f_cp360_rel_sub_product\n",
    "- [ ] f_vas_mps_package_daily\n",
    "- [ ] f_sub_info_d\n",
    "- [ ] f_profile_c360_full"
   ]
  },
  {
   "cell_type": "markdown",
   "metadata": {},
   "source": [
    "**B08**. Thông tin nào sau đây là đúng\n",
    "- [ ] Dữ liệu location phát sinh thoại là không đáng tin cậy\n",
    "- [x] Dữ liệu location phát sinh SMS là không đáng tin cậy\n",
    "- [ ] Dữ liệu location phát sinh data là không đáng tin cậy\n",
    "- [ ] Dữ liệu location register ngoài 2 khung giờ 9h và 21h là không đáng tin cậy"
   ]
  },
  {
   "cell_type": "markdown",
   "metadata": {},
   "source": [
    "**B09**. Bảng nào chứa thông tin chặn khách hàng quảng cáo\n",
    "- [x] f_cus360_sms_deny_197_199\n",
    "- [ ] f_profile_c360_full\n",
    "- [ ] f_c360_tuong_tac_vien_thog\n",
    "- [ ] f_customer_complain"
   ]
  },
  {
   "cell_type": "markdown",
   "metadata": {},
   "source": [
    "**B10**. Bạn cần tìm kiếm lịch sử người dùng truy cập internet theo phiên, bảng dữ liệu nào có dữ liệu này cho bạn?\n",
    "- [ ] f037_url_detail_day\n",
    "- [ ] f_data_package_daily\n",
    "- [x] f003_mpre_data\n",
    "- [ ] f_detail_url_https"
   ]
  },
  {
   "cell_type": "markdown",
   "metadata": {},
   "source": [
    "**B11**. Bảng nào chứa thông tin lịch sử nghe, gọi, nhắn tin của các thuê bao với nhau\n",
    "- [ ] f_ipcc_call_d\n",
    "- [ ] f_profile_c360_full\n",
    "- [x] f_c360_tuong_tac_vien_thog\n",
    "- [ ] f_call_out_d"
   ]
  },
  {
   "cell_type": "markdown",
   "metadata": {},
   "source": [
    "**B12**. Khả năng xác định vị trí của người dùng bằng dữ liệu viễn thông như thế nào?\n",
    "- [x] ~150m nội thành đến ~500m ngoại thành\n",
    "- [ ] ~10m nội thành đến 150m ngoại thành\n",
    "- [ ] Lưu trữ toàn bộ thông tin vị trí khi người dùng có mở máy\n",
    "- [ ] Các cell có phạm vi ~10m, trạm BTS có phạm vi ~150m"
   ]
  },
  {
   "cell_type": "markdown",
   "metadata": {},
   "source": [
    "# C. Statistics and Probability"
   ]
  },
  {
   "cell_type": "markdown",
   "metadata": {},
   "source": [
    "**C01**. X và Y là 2 biến ngẫu nhiên. X có giá trị trung bình là 5, phương sai là 4. Y có giá trị trung bình là 7, phương sai là 9. Hãy cho biến giá trị trung bình của biến ngẫu nhiên Z với Z = X+Y\n",
    "- [ ] 5\n",
    "- [ ] 4.833\n",
    "- [ ] 2\n",
    "- [x] 12"
   ]
  },
  {
   "cell_type": "markdown",
   "metadata": {},
   "source": [
    "**C02**. Các số đếm thường tuân theo quy luật phân phối Poisson. Tuy nhiên trong nhiều trường hợp ta kỳ vọng phân phối ở dạng phân phối chuẩn để tiện tính toán và phân tích.\n",
    "Biến ngẫu nhiên X đang ở phân phối Poisson, giải pháp nào sau đây có thể chuyển hóa phân phối này thành sấp xỉ phân phối chuẩn?\n",
    "- [x] Lấy căn bậc 2 của X\n",
    "- [ ] Lấy bình phương của X\n",
    "- [ ] Lấy sai phân của X\n",
    "- [ ] Cộng X với một giá trị số lớn hơn 0"
   ]
  },
  {
   "cell_type": "markdown",
   "metadata": {},
   "source": [
    "**C03**. Để xác định sản lượng cá trong hồ, người ta bắt lên 1000 con cá, sau đó đánh dấu và thả lại chúng xuống hồ. Sau một thời gian đánh lên 400 con cá thì thấy 80 con có đánh dấu. Với độ tin cậy 95%, xác định số cá tối thiểu có trong hồ.\n",
    "- [ ] 200.8\n",
    "- [ ] 180.0\n",
    "- [x] 160.8\n",
    "- [ ] 120.6"
   ]
  },
  {
   "cell_type": "markdown",
   "metadata": {},
   "source": [
    "**C04**. Cho biến ngẫu nhiên X, có phân phối lệch trái. Nhận định nào sau đây là đúng về các chỉ số thống kê của X?\n",
    "- [ ] mean = median\n",
    "- [x] mean < median\n",
    "- [ ] mean > median\n",
    "- [ ] mean > 0"
   ]
  },
  {
   "cell_type": "markdown",
   "metadata": {},
   "source": [
    "**C05**. Trước tổng tuyển cử, phỏng vấn ngẫu nhiên 3000 cử tri thì 1630 cử tri nói sẽ bầu cho ứng viên X. Với độ tin cậy 95%, ứng viên X sẽ dành được tỷ lệ khoảng bao nhiêu % phiếu bầu?\n",
    "- [x] 0.5255083851904552\n",
    "- [ ] 0.528373108999132\n",
    "- [ ] 0.5316743621500835\n",
    "- [ ] 0.5191511727828596"
   ]
  },
  {
   "cell_type": "markdown",
   "metadata": {},
   "source": [
    "**C06**. *Các trạm bơm A, B, C làm việc độc lập với nhau để bơm nước từ E đến F. Xác suất để mỗi trạm gặp sự cố sau một thời gian hoạt động là 1%, 2%, 3%.Xác suất để vùng F mất nước là bao nhiêu?*\n",
    "\n",
    "<img src='https://lh5.googleusercontent.com/ezgdu1wzZid137l7XpioCk4WSbYRpdvZY4WXpizMx5vRnMQ1kufs9rcRGRwzAx2N6jqsjvhYLHfb040G8ioiH1HWLecsJCdWjQ2N5tC1cwMx8VwcwRCu7Mi8NEwLlqzOYA=w800' style='height:100px'>\n",
    "\n",
    "- [ ] 0.030199999999999998\n",
    "- [ ] 0.010194\n",
    "- [x] 0.030194\n",
    "- [ ] 0.0102"
   ]
  },
  {
   "cell_type": "markdown",
   "metadata": {},
   "source": [
    "# D. Programming"
   ]
  },
  {
   "cell_type": "markdown",
   "metadata": {},
   "source": [
    "**D01**. Cho các list: A = `[1,2,3]` và B = `['a','b','c']`. Hãy cho biết lệnh nào sau đây trả về C = `[1,'a',2,'b',3,'c']`\n",
    "- [ ] C = [i, j for i in A for j in B]\n",
    "- [ ] C = [A[i] if j==1 else B[i] for i in range(3) for j in range(2)]\n",
    "- [x] C = [A[i] if j==0 else B[i] for i in range(3) for j in range(2)]\n",
    "- [ ] C = [i, j for i in B for j in A]"
   ]
  },
  {
   "cell_type": "markdown",
   "metadata": {},
   "source": [
    "**D02**. Hãy lựa chọn nhận định đúng trong số các nhận định sau về global interpreter lock (GIL)\n",
    "- [x] GIL tạo ra rào cản cho việc chạy song song các tiến trình của python, vì nó yêu cầu chỉ 1 thread được chạy tại mỗi thời điểm\n",
    "- [x] GIL đảm bảo kết quả thực hiện các tiến trình cho ra kết quả đúng, đặc biệt với các phép toán có phụ thuộc thứ tự\n",
    "- [ ] GIL chỉ có ảnh hưởng với Cython, PyPy-STM, Jython interpreter, với các interpreter khác như IronPython thì không bị ảnh hưởng\n",
    "- [ ] Các python threads sử dụng chung một memory, vì vậy không thể bỏ qua GIL trong mọi hoàn cảnh để đảm bảo việc truy xuất và thay đổi dữ liệu trong memory là thread-safed"
   ]
  },
  {
   "cell_type": "markdown",
   "metadata": {},
   "source": [
    "**D03**. Biết rằng, shape của các array đã có là: A<sub>(1,10)</sub>, B<sub>(1,5)</sub>, C<sub>(10,1)</sub>, D<sub>(5,10)</sub>, E<sub>(10,5)</sub>. Hãy cho biết phép tính nào sẽ cho ra kết quả là một array, có số chiều là 10x10\n",
    "- [x] A+C\n",
    "- [ ] B+D\n",
    "- [ ] D+E\n",
    "- [ ] Không có mảng nào"
   ]
  },
  {
   "cell_type": "markdown",
   "metadata": {},
   "source": [
    "# E. Data manipulation"
   ]
  },
  {
   "cell_type": "markdown",
   "metadata": {},
   "source": [
    "**E01**. Câu lệnh nào dưới đây trả về tên của nhân viên (employee) có lương cao nhất trong mỗi phòng\n",
    "(department)\n",
    "- [ ] SELECT Emp_Name,Dep_Code,Salary FROM Employee WHERE Employee.Salary = (Select Max(Salary) from Employee GROUP BY Dep_Code);\n",
    "- [ ] SELECT Emp_Name,Dep_Code,Salary FROM Employee WHERE Employee.Salary In (Select Max(Salary) from Employee GROUP BY Dep_Code HAVING Max(Salary));\n",
    "- [x] SELECT Emp_Name,Dep_Code,Salary FROM Employee WHERE Employee.Salary In (Select Max(Salary) from Employee GROUP BY Dep_Code);\n",
    "- [ ] SELECT Emp_Name,Dep_Code,Salary FROM Employee WHERE Employee.Salary In (Select Salary from Employee GROUP BY Dep_Code HAVING Max(Salary));"
   ]
  },
  {
   "cell_type": "markdown",
   "metadata": {},
   "source": [
    "**E02**. Câu lệnh đúng để xem các bản ghi về khách hàng có số điện thoại\n",
    "- [x] SELECT * from customer where phone IS NOT NULL\n",
    "- [ ] SELECT * from customer where phone = NOT NULL\n",
    "- [ ] SELECT * from customer where phone NOT NULL\n",
    "- [ ] SELECT * from customer where HAVING phone NOT NULL"
   ]
  },
  {
   "cell_type": "markdown",
   "metadata": {},
   "source": [
    "**E03**. Ngoài sử dụng distinct để lọc trùng dữ liệu thì còn cách nào khác?\n",
    "- [ ] Sử dụng Union\n",
    "- [ ] Sử dụng Minus\n",
    "- [ ] Sử dụng Having by\n",
    "- [x] Sử dụng Group by"
   ]
  },
  {
   "cell_type": "markdown",
   "metadata": {},
   "source": [
    "**E04**. Trước khi drop 1 table trên Spark Thrift, ta cần thực hiện lệnh\n",
    "`alter table <table_name> set tblproperties('EXTERNAL'='FALSE')`\n",
    "Mục đích của lệnh này để làm gì?\n",
    "- [ ] Để chuyển về mode writable, mới có thể drop được table\n",
    "- [ ] Để chuyển về mode readonly, chỉ đọc, không chó phép ghi, mới có thể drop được table\n",
    "- [ ] Để di chuyển dữ liệu table về thư mục quản lý của Hive/Thrift thì mới drop được table\n",
    "- [x] Để khi drop table, dữ liệu được xóa trên HDFS"
   ]
  },
  {
   "cell_type": "markdown",
   "metadata": {},
   "source": [
    "**E05**. Phân biệt UNION và UNION ALL\n",
    "- [ ] UNION ghép các bảng theo chiều dọc UNION ALL ghép các bảng theo chiều ngang\n",
    "- [ ] UNION giữ lại các bản ghi trùng lặp, UNION ALL bỏ đi các bản ghi lặp\n",
    "- [x] UNION ALL giữ lại các bản ghi trùng lặp, UNION bỏ đi các bản ghi lặp\n",
    "- [ ] UNION ALL ghép các bảng theo chiều dọc UNION ghép các bảng theo chiều ngang"
   ]
  },
  {
   "cell_type": "markdown",
   "metadata": {},
   "source": [
    "**E06**. Xác định câu lệnh truy vấn mà trả về tất cả tên trong bảng Accounts chứa ký tự 'e', nhưng không phải là ký tự đầu tiên\n",
    "- [ ] SELECT * FROM Accounts WHERE Names LIKE ‘%e’\n",
    "- [ ] SELECT Name FROM Accounts WHERE Name RLIKE '[^e]'\n",
    "- [ ] SELECT Name FROM Accounts WHERE Name RLIKE 'e[^e]'\n",
    "- [x] SELECT Name FROM Accounts WHERE Name RLIKE '[^e]e'"
   ]
  },
  {
   "cell_type": "markdown",
   "metadata": {},
   "source": [
    "**E07**. Cho bảng \"table\" như hình vẽ,\n",
    "Lệnh nào sau đây lấy được sản phẩm tốt nhất tương ứng từng thuê bao?\n",
    "\n",
    "<img src='https://lh6.googleusercontent.com/Q1UbBl3RPRd6s-qRPB1LGrkxFWlTORvfRZkAOXPmV_TjfoK6Ll7r9TJtYv9xIn_RdiBe8wqp0SuVfehDyyjWBSA8FP5_eDb1XdL81ooJg_A-cLanDqHZhOGctzAsvip-Cg=w800' style='height:150px'>\n",
    "\n",
    "- [ ] SELECT isdn FROM table WHERE score IN (SELECT MAX(score) FROM A)\n",
    "- [x] SELECT * FROM ( SELECT isdn, product, ROW_NUMBER() OVER (PARTITION BY isdn ORDER BY score DESC) AS row_num FROM table ) WHERE row_num = 1\n",
    "- [ ] SELECT isdn FROM table WHERE product IN (SELECT MAX(product) FROM A)\n",
    "- [ ] SELECT isdn, product, ROW_NUMBER() OVER (PARTITION BY isdn ORDER BY score DESC) AS row_num FROM table WHERE row_num = 1"
   ]
  },
  {
   "cell_type": "markdown",
   "metadata": {},
   "source": [
    "**E08**. Cho 2 bảng A, B như hình.\n",
    "Thực thi câu lệnh sau\n",
    "\n",
    "```sql\n",
    "insert overwrite table X\n",
    "select A.*, B.*\n",
    "from A left join B\n",
    "on A.key = B.key\n",
    "```\n",
    "\n",
    "Bảng X có bao nhiêu row?\n",
    "\n",
    "<img src='https://lh3.googleusercontent.com/UoSa9QrPkRBa1GWBAeTyFjmskdtQXQO1chn6ISgjC2ek9ytYUbkwByvxBqJ4_xm7uTXRBwxt7gtItYhSqDAdrpdK5-vEbV7sMnLHlh6VxtYmz9VvDO43t6rUe5Vpw_b8NQ=w800' style='height:150px'>\n",
    "\n",
    "- [ ] 10\n",
    "- [ ] 24\n",
    "- [x] 25\n",
    "- [ ] 80"
   ]
  },
  {
   "cell_type": "markdown",
   "metadata": {},
   "source": [
    "# F. Data visualization"
   ]
  },
  {
   "cell_type": "markdown",
   "metadata": {},
   "source": [
    "**F01**. Error bar trên biểu đồ bar chart chứa những ý nghĩa nào?\n",
    "- [ ] Biểu diễn độ phân tán của dữ liệu xung quanh giá trị trung bình\n",
    "- [ ] Sự tin cậy của giá trị trung bình làm giá trị đại diện cho bộ dữ liệu\n",
    "- [ ] Chỉ ra khả năng có sự khác biệt giữa các bộ dữ liệu\n",
    "- [x] Tất cả đáp án trên"
   ]
  },
  {
   "cell_type": "markdown",
   "metadata": {},
   "source": [
    "**F02**. Dữ liệu có thể trực quan hóa bằng những cách nào\n",
    "- [ ] Biểu đồ\n",
    "- [ ] Đồ thị\n",
    "- [ ] Bản đồ\n",
    "- [x] Tất cả các ý trên"
   ]
  },
  {
   "cell_type": "markdown",
   "metadata": {},
   "source": [
    "**F03**. Đồ thị nào không phù hợp?\n",
    "\n",
    "<img src='https://lh4.googleusercontent.com/NiSQ4NLgLajV9KaL-qHwZsbGy6SBxLZdVOEK15lSwI6695KzFH6Wm7oYDaXYJ6Q0DBz-VuzvfBA2n3MXStcIRFu7FppPuEDy6ztC8qQXZoYZmOrGvw3kOR0Lh0CaaAJTTA=w800' style='height:150px'>\n",
    "\n",
    "- [ ] Đồ thị dạng cột (bar)\n",
    "- [ ] Đồ thị dạng điểm (point)\n",
    "- [x] Đồ thị dạng đường (line)\n",
    "- [ ] Đồ thị nào cũng phù hợp"
   ]
  },
  {
   "cell_type": "markdown",
   "metadata": {},
   "source": [
    "**F04**. Phương pháp tạo bảng màu như nào là tốt\n",
    "- [x] Giảm thiểu tối đa sự chồng chéo và tính không rõ ràng của màu sắc, chọn màu sắc có tính gợi ý nghĩa (như màu đỏ cho Viettel)\n",
    "- [ ] Màu nào thấy đẹp thì dùng miễn là có chú thích rõ ràng\n",
    "- [ ] Sử dụng các tông màu đẹp đã được sử dụng hiệu quả trong các bài trực quan hóa dữ liệu khác\n",
    "- [ ] Bảng màu càng nhiều mầu đa dạng thì càng có nhiều ý nghĩa."
   ]
  },
  {
   "cell_type": "markdown",
   "metadata": {},
   "source": [
    "**F05**. Biểu đồ nào sau đây ít phù hợp nhát để biểu diễn tổng doanh thu viễn thông cho 5 thành phố lớn trong 5 năm gần đây?\n",
    "- [ ] Bar chart\n",
    "- [ ] Line chart\n",
    "- [ ] Column chart\n",
    "- [x] Pie chart"
   ]
  },
  {
   "cell_type": "markdown",
   "metadata": {},
   "source": [
    "**F06**. Những chữ cái trong box plot dưới đây biểu thị điều gì?\n",
    "\n",
    "<img src='https://lh4.googleusercontent.com/ROmgVyaXOwYyxT5dsP2Hu8KW0M5cO0_CNZMZJ_PMUnT8VF1dGYvHHUa0PUNEo7V3m9bCqlU0lMNldXTr7odZPiMvugoHWbXOjo3eSqUCIbVze_YqpX08XkNiDmzgOOcAvQ=w800' style='height:300px'>\n",
    "\n",
    "- [ ] A = Mean, B = Upper Mean Quartile, C = Lower Mean Quartile, D = Inter Quartile Range, E = Minimum, and F = Outliers\n",
    "- [ ] A = Mean, B = Third Quartile, C = First Quartile, D = Inter Quartile Range, E = Minimum, and F = Outliers\n",
    "- [x] A = Median, B = Third Quartile, C = First Quartile, D = Inter Quartile Range, E = Minimum, and F = Outliers\n",
    "- [ ] A = Median, B = Third Quartile, C = Mean, D = Inter Quartile Range, E = Lower Quartile, and F = Outliers"
   ]
  },
  {
   "cell_type": "markdown",
   "metadata": {},
   "source": [
    "# G. Machine Learning"
   ]
  },
  {
   "cell_type": "markdown",
   "metadata": {},
   "source": [
    "**G01**. Quá khớp (overfit) là một hiện tượng hay gặp khi xây dựng mô hình học máy. Giải pháp nào sau đây không khắc phục được hiện tượng này?\n",
    "- [ ] Kết hợp (ensemble) nhiều mô hình\n",
    "- [ ] Bổ sung thêm dữ liệu training\n",
    "- [ ] Bổ sung thêm regularization vào mô hình\n",
    "- [x] Bổ sung thêm dữ liệu validation"
   ]
  },
  {
   "cell_type": "markdown",
   "metadata": {},
   "source": [
    "**G02**. Cho biết hàm Focal loss cho mô hình binary classification có dạng như sau: $\\text{FL}(p_t) = -\\log(p_t)\\,(1 - p_t)^\\gamma$. So sánh với (balanced) cross entropy: $\\text{CE}(p_t) = -\\log⁡(p_t)$.\n",
    "Hãy cho biết Focal loss thường được sử dụng khi nào, vì sao?\n",
    "- [x] So với CE, đạo hàm của FL nhạy cảm hơn với các quan sát dễ dự báo, nên phù hợp hơn với các tập dữ liệu mất cân bằng\n",
    "- [ ] Giá trị của FL nhỏ hơn CE, và sấp xỉ bằng CE tại các cực xác suất p_t (0 và 1), nên FL phù hợp với các tập dữ liệu có outlier\n",
    "- [ ] Đạo hàm của FL nhạy cảm hơn với các quan sát dễ đự báo, nên phù hợp với các tập dữ liệu có outlier, vì outlier không tác động nhiều đến đạo hàm\n",
    "- [ ] So với CE, FL tập trung hơn vào các trường hợp khó dự báo nên phù hợp cho các tập dữ liệu mất cân bằng"
   ]
  },
  {
   "cell_type": "markdown",
   "metadata": {},
   "source": [
    "**G03**. Khi xây dựng mô hình học máy, với bộ dữ liệu 700k quan sát. Bạn chia tập dữ liệu này thành tập train và validation với tỷ lệ 70:30 và huấn luyện trên tập train. Khi đánh giá theo phương pháp hold-out, bạn nhận thấy giá trị hàm mất mát trong quá trình validation nhỏ hơn so với giá trị hàm mất mát trong quá trình train.\n",
    "Nguyên nhân nào sau đây là một giải thích hợp lý?\n",
    "- [ ] Vì dữ liệu tập validation là unseen data, trong quá trình huấn luyện mô hình chưa từng được huấn luyện với dữ liệu này, nên giá trị hàm mất mát trên tập validation nhỏ hơn\n",
    "- [ ] Việc chia tập huấn luyện lớn hơn tập validation, dẫn đến giá trị hàm mất mát lớn hơn\n",
    "- [x] Mô hình đang áp dụng một số regularization chỉ có ảnh hưởng trong quá trình train nhưng không có ảnh hưởng trong quá trình validation (như dropout,...)\n",
    "- [ ] Phương pháp hold-out dẫn đến đánh giá không chính xác, cần thay thế phương pháp đánh giá bằng cross-validation"
   ]
  },
  {
   "cell_type": "markdown",
   "metadata": {},
   "source": [
    "**G04**. Để mô hình học máy đạt hiệu quả cao, người ta cần tối ưu siêu tham số (hyperparameters) của mô hình. Làm sao để thực hiện được điều đó?\n",
    "- [ ] Trên miền tìm kiếm (searching space), tìm kiếm siêu tham số cho mô hình có giá trị hàm mất mát tối ưu nhỏ nhất trên tập train\n",
    "- [x] Trên miền tìm kiếm (searching space), tìm kiếm siêu tham số cho mô hình có giá trị hàm mất mát tối ưu nhỏ nhất trên tập validation\n",
    "- [ ] Trên miền tìm kiếm (searching space), tìm kiếm siêu tham số cho mô hình có giá trị hàm mất mát tối ưu nhỏ nhất trên tập test\n",
    "- [ ] Trên miền tìm kiếm (searching space), tìm kiếm siêu tham số cho mô hình có chênh lệch giá trị hàm mất mát tối ưu giữa tập train và tập validation nhỏ nhất"
   ]
  },
  {
   "cell_type": "markdown",
   "metadata": {},
   "source": [
    "**G05**. Bạn đang xây dựng mô hình học máy để bất thường trong tiêu dùng của người dùng. Trong đó, mức độ bất thường của người dùng sẽ được đánh giá dựa trên quan sát và học hỏi hành vi của đa số người dùng, và xác định các người dùng có hành vi bất thường so với những người dùng khác.\n",
    "Đây là một bài toán gì?\n",
    "- [ ] Suppervised learning\n",
    "- [x] Unsupervised learning\n",
    "- [ ] Self learning\n",
    "- [ ] Semi-supervised learning"
   ]
  },
  {
   "cell_type": "markdown",
   "metadata": {},
   "source": [
    "**G06**. Định lý không có bữa trưa miễn phí (No Free Lunch Theorem, Wolpert, 1996) trong học máy có ý nghĩa gì?\n",
    "- [x] Không có thuật toán học máy nào là luôn tốt hơn so với các thuật toán khác\n",
    "- [ ] Không có mô hình học máy nào có thể vượt qua năng lực con người\n",
    "- [ ] Không có bữa trưa nào là miễn phí\n",
    "- [ ] Không có mô hình học máy nào có thể học chính xác tuyệt đối dữ liệu"
   ]
  },
  {
   "cell_type": "markdown",
   "metadata": {},
   "source": [
    "**G07**. Bạn đang xây dựng một mô hình dự đoán điểm số của sinh viên. Trong đó, các sinh viên sẽ được chấm các điểm theo tứ tự giảm dần là A, B, C, D. Các sinh viên có điểm số A sẽ được đánh giá cao hơn so với cá sinh viên có điểm B, điểm B cao hơn C,...\n",
    "Giải pháp xây dựng mô hình nào sau đây là hợp lý cho bài toán của bạn?\n",
    "- [ ] Vì đầu ra là có thứ tự, xây dựng mô hình regression với các nhãn A, B, C, D\n",
    "- [x] Xây dựng mô hình classification, với các nhãn A, B, C, D\n",
    "- [ ] Xây dựng mô hình clustering tìm kiếm cụm A, B, C, D\n",
    "- [ ] Xây dựng mô hình reinforcement learning với các state A, B, C, D"
   ]
  },
  {
   "cell_type": "markdown",
   "metadata": {},
   "source": [
    "**G08**. TF-IDF giải quyết vấn đề gì của Bag of Word?\n",
    "- [ ] Loại bỏ các common words không đặc trưng cho văn bản\n",
    "- [ ] Nhận diện tốt hơn các common words đặc trưng cho văn bản\n",
    "- [ ] Loại bỏ các rare words không đặc trưng cho văn bản\n",
    "- [x] Nhận diện tốt hơn các rare words đặc trưng cho văn bản"
   ]
  },
  {
   "cell_type": "markdown",
   "metadata": {},
   "source": [
    "**G09**. Nhận định nào sau đây về local learning và boostrap aggregating (bagging) là đúng?\n",
    "- [x] Khi dự đoán, bagging kết hợp kết quả dự đoán của nhiều mô hình thành phần, còn local learning thì không\n",
    "- [ ] Local learning và bagging cùng có các model thành phần học trên một phần sample của tập dữ liệu, nhưng local learning cho phép nhiều model học cùng trên 1 tập, còn bagging thì không\n",
    "- [ ] Local learning là tên gọi chung cho phương pháp chia nhỏ dữ liệu và cho nhiều mô hình học trên một phần dữ liệu. Local learning chia làm 2 nhóm lấy mẫu có hoàn lại (Bagging) và lấy mẫu không hoàn lại (Pasting)\n",
    "- [ ] Local learning không có tính khái quát trên tổng thể dữ liệu, không triển khai được trên môi trường dữ liệu lớn. Bagging khắc phục được nhược điểm này"
   ]
  },
  {
   "cell_type": "markdown",
   "metadata": {},
   "source": [
    "**G10**. Xây dựng 3 mô hình k-NN: mô hình M1 với $k=1$, mô hình M2 với $k=2$, mô hình M3 với $k=3$.\n",
    "Thời gian training 3 mô hình lần lượt là $t_1$, $t_2$, $t_3$.\n",
    "Nhận định nào sau đây là đúng\n",
    "- [ ] $t_1 > t_2 > t_3$\n",
    "- [ ] $t_1 > t_2 = t_3$\n",
    "- [ ] $t_1 < t_2 < t_3$\n",
    "- [x] $t_1 \\sim t_2 \\sim t_3$"
   ]
  },
  {
   "cell_type": "markdown",
   "metadata": {},
   "source": [
    "**G11**. Đâu là nhận định đúng về boosting model\n",
    "- [ ] Các mô hình boosting luôn cho hiệu quả tốt hơn các mô hình bagging\n",
    "- [x] Các mô hình boosting nhằm giảm bias của một mô hình có bias cao, chấp nhận việc tăng thêm của variance nhưng có thể gia tăng hiệu quả tổng thể của mô hinh\n",
    "- [ ] Các mô hình boosting cần có các weeklearner là các mô hình ổn định, hội tụ, vì vậy decision tree và các biến thể là weeklearner phù hợp duy nhất\n",
    "- [ ] Khi triển khai mô hình boosting, các mô hình sau sẽ hiệu chỉnh lại mô hình trước, mô hình sau cùng là mô hình có năng lực khái quát khóa cao nhất và được sử dụng để đưa ra dự đoán"
   ]
  },
  {
   "cell_type": "markdown",
   "metadata": {},
   "source": [
    "**G12**. Trong số các thuật toán sau, thuật toán nào thuộc nhóm Online learning\n",
    "- [ ] C4.5 decision tree\n",
    "- [ ] Kernel PCA\n",
    "- [ ] Kmeans\n",
    "- [x] Multilayer Perceptron"
   ]
  },
  {
   "cell_type": "markdown",
   "metadata": {},
   "source": [
    "# H. Deep Learning"
   ]
  },
  {
   "cell_type": "markdown",
   "metadata": {},
   "source": [
    "**H01**. Cho mạng fully connected như hình trên, các note đều có bias. Hãy cho biết số lượng tham số có thể huấn luyện (trainable parameters) của mô hình\n",
    "\n",
    "<img src='https://lh6.googleusercontent.com/JL8xguKNb70Fhik7a6611Et5P91tLAe0jGetqpZekkBMLaOE3k1AiEgfFKCKjzfMWFYgc3a7fVl8pDaZdesx2zgTuc2BCiYpKHPfW07urDe7vVxkpw1wLv6lWu5JMrkpjg=w800' style='height:250px'>\n",
    "\n",
    "- [ ] 33792\n",
    "- [ ] 25344\n",
    "- [ ] 25480\n",
    "- [x] 33928"
   ]
  },
  {
   "cell_type": "markdown",
   "metadata": {},
   "source": [
    "**H02**. Đâu là là giải pháp để hạn chế hiện tượng gradient vanishing trong một mạng Neural networks?\n",
    "- [ ] Tăng số lượng note trên mỗi layer\n",
    "- [x] Thay đổi khởi tạo tham số của mạng phù hợp\n",
    "- [ ] Giảm số lượng note trên mỗi layer\n",
    "- [ ] Thay đổi hàm kích hoạt của layer cuối cùng"
   ]
  },
  {
   "cell_type": "markdown",
   "metadata": {},
   "source": [
    "**H03**. Nhận định nào sau đây là đúng về mạng AutoEncoder?\n",
    "- [x] Cấu trúc decoder trong AutoEncoder sẽ không cần sử dụng nữa sau khi hoàn tất huấn luyện\n",
    "- [ ] AutoEncoder là mô hình cần có nhãn để hoạt động\n",
    "- [ ] AutoEncoder sử dụng SGD là optimizer tối ưu hàm mất mát\n",
    "- [ ] AutoEncoder giúp tự động hóa việc huấn luyện mô hình học sâu"
   ]
  },
  {
   "cell_type": "markdown",
   "metadata": {},
   "source": [
    "# I. Big Data"
   ]
  },
  {
   "cell_type": "markdown",
   "metadata": {},
   "source": [
    "**I01**. Trên Spark UI, khi các job đang thực thi, bạn nhìn thấy có phần màu xanh nhạt bên cạnh màu xanh đậm. Ý nghĩa của phần xanh nhạt này chỉ gì?\n",
    "\n",
    "<img src='https://lh3.googleusercontent.com/x_Kc79lfcPOuvdJzBwA9W-t7cS96lPej8kUKakWPTrPkaYDI7eUroPsXLq4xghXVlDzVNoCzOdWypkWht0AKr4CEaTCDHpYa16JgMzORkzlSbcK_5anDvZQitHueTG8Mcw=w800' style='height:150px'>\n",
    "\n",
    "- [x] Các task đang thực hiện\n",
    "- [ ] Các job ETL đang thực hiện\n",
    "- [ ] Các relation ETL đang thực hiện\n",
    "- [ ] Các step ETL đang thực hiện"
   ]
  },
  {
   "cell_type": "markdown",
   "metadata": {},
   "source": [
    "**I02**. Một block dữ liệu lưu trên HDFS, với block size mặc định là 128MB, replication = 3, dữ liệu thực tế đã lưu vào block này là 50MB. Hỏi, dung lượng bộ nhớ vật lý thực tế dùng để lưu block dữ liệu này là bao nhiêu?\n",
    "- [ ] 150\n",
    "- [x] 384\n",
    "- [ ] 267\n",
    "- [ ] 50"
   ]
  },
  {
   "cell_type": "markdown",
   "metadata": {},
   "source": [
    "**I03**. Trong cơ chế MapReduce, quá trình Map stage có chức năng là gì\n",
    "- [ ] Chia nhỏ dữ liệu và lưu trữ phân tán\n",
    "- [ ] Ghép các dữ liệu theo cơ chế key - function, tìm kiếm các dữ liệu thỏa mãn điều kiện và áp dụng function lên chúng\n",
    "- [ ] Là giai đoạn lưu trữ dữ liệu\n",
    "- [x] Chia nhỏ dữ liệu và thực thi các phép biến đổi trên các phần dữ liệu đã chia"
   ]
  },
  {
   "cell_type": "markdown",
   "metadata": {},
   "source": [
    "**I04**. Bốn đối tượng chính của dữ liệu quan hệ là?\n",
    "- [x] form, table, query, report\n",
    "- [ ] form, table, database, query, report\n",
    "- [ ] form, sort, table, query\n",
    "- [ ] form, column, row, report"
   ]
  },
  {
   "cell_type": "markdown",
   "metadata": {},
   "source": [
    "# K. Mathematics"
   ]
  },
  {
   "cell_type": "markdown",
   "metadata": {},
   "source": [
    "**K01**. Cho vector v = [0, 1, 2, 2], giá trị norm bậc 1 của vector trên là bao nhiêu?\n",
    "- [x] 5\n",
    "- [ ] 9\n",
    "- [ ] -9\n",
    "- [ ] 12"
   ]
  },
  {
   "cell_type": "markdown",
   "metadata": {},
   "source": [
    "**K02**. Cho ma trận A có các eigenvector hợp thành ma trận V, tương ứng với mỗi eigenvector là một eigenvalue hợp thành vector lambda.\n",
    "Phân tích nào trong hình trên là phân tích ma trận A đúng?\n",
    "- [x] $A=V\\cdot\\text{diag}(\\lambda)\\cdot V^{-1}$\n",
    "- [ ] $A=V^{-1}\\cdot\\text{diag}{}(\\lambda)\\cdot V$\n",
    "- [ ] $A=\\lambda^{-1}\\cdot V\\cdot\\lambda$\n",
    "- [ ] $A=V^{-1}\\cdot V\\cdot\\text{diag}(\\lambda)$"
   ]
  },
  {
   "cell_type": "markdown",
   "metadata": {},
   "source": [
    "**K03**. Nhận định nào sau đây là đúng về khai triển Taylor\n",
    "- [x] Ứng dụng tính tích phân và xác định nguyên hàm\n",
    "- [ ] Xác định tính liên tục của hàm số\n",
    "- [x] Được ứng dụng tính giới hạn hàm số\n",
    "- [ ] Sử dụng các hàm tuyến tính để xấp sỉ mọi dạng hàm phức tạp hơn"
   ]
  }
 ],
 "metadata": {
  "kernelspec": {
   "display_name": "Python 3",
   "language": "python",
   "name": "python3"
  },
  "language_info": {
   "codemirror_mode": {
    "name": "ipython",
    "version": 3
   },
   "file_extension": ".py",
   "mimetype": "text/x-python",
   "name": "python",
   "nbconvert_exporter": "python",
   "pygments_lexer": "ipython3",
   "version": "3.8.8"
  }
 },
 "nbformat": 4,
 "nbformat_minor": 4
}
