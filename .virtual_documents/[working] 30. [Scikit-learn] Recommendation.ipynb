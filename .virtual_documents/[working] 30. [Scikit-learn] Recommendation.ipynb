import pandas as pd
import numpy as np


df_user = pd.read_csv('data/movielens/u.user', sep='|', names=['user_id', 'age', 'sex', 'occupation', 'zip_code'])
df_user.head()


df_user.drop(columns=['zip_code']).to_csv('data/movielens/user.csv', index=False)


df_user.


df_rating_base = pd.read_csv('data/movielens/ua.base', sep='\t', names=['user_id', 'movie_id', 'rating', 'unix_timestamp'], encoding='latin-1')
df_rating_test = pd.read_csv('data/movielens/ua.test', sep='\t', names=['user_id', 'movie_id', 'rating', 'unix_timestamp'], encoding='latin-1')

df_rating_base.head()


df_rating_test.drop(columns=['unix_timestamp']).to_csv('data/movielens/ratings_test.csv', index=False)





item_cols = ['movie id', 'movie title' ,'release date','video release date', 'IMDb URL', 'unknown', 'Action', 'Adventure',
 'Animation', 'Children\'s', 'Comedy', 'Crime', 'Documentary', 'Drama', 'Fantasy',
 'Film-Noir', 'Horror', 'Musical', 'Mystery', 'Romance', 'Sci-Fi', 'Thriller', 'War', 'Western']

df_item = pd.read_csv('data/movielens/u.item', sep='|', names=item_cols, encoding='latin-1').drop(columns=['IMDb URL'])
df_item.head()




















import pandas as pd
import numpy as np


df_user = pd.read_csv('ml-100k/u.user', sep='|', names=['user_id', 'age', 'sex', 'occupation', 'zip_code'])
df_user.head()


df_rating_base = pd.read_csv('ml-100k/ua.base', sep='\t', names=['user_id', 'movie_id', 'rating', 'unix_timestamp'], encoding='latin-1')
df_rating_test = pd.read_csv('ml-100k/ua.test', sep='\t', names=['user_id', 'movie_id', 'rating', 'unix_timestamp'], encoding='latin-1')

df_rating_base.head()


item_cols = ['movie id', 'movie title' ,'release date','video release date', 'IMDb URL', 'unknown', 'Action', 'Adventure',
 'Animation', 'Children\'s', 'Comedy', 'Crime', 'Documentary', 'Drama', 'Fantasy',
 'Film-Noir', 'Horror', 'Musical', 'Mystery', 'Romance', 'Sci-Fi', 'Thriller', 'War', 'Western']

df_item = pd.read_csv('ml-100k/u.item', sep='|', names=item_cols, encoding='latin-1').drop(columns=['IMDb URL'])
df_item.head()





users = df_user.values
ratings = df_rating_base.values
items = df_item.values[:, -19:]


from sklearn.feature_extraction.text import TfidfTransformer
transformer = TfidfTransformer(smooth_idf=True, norm ='l2')


tfidf = transformer.fit_transform(items).toarray()


import numpy as np
import networkx as nx
import matplotlib.pyplot as plt
get_ipython().run_line_magic("config", " InlineBackend.figure_format = 'retina'")


G = nx.DiGraph()
G.add_nodes_from(['A', 'B', 'C', 'D', 'E', 'F'])
G.add_edges_from([
    ('A', 'B'), ('A', 'D'), ('A', 'E'), ('A', 'F'),
    ('B', 'C'), ('B', 'D'),
    ('C', 'E'),
    ('D', 'E'),
    ('E', 'A'), ('E', 'D'),
    ('F', 'E')
])
pos = pos=nx.spring_layout(G, seed=19)
nx.draw(G, node_color='dimgrey', font_color='w', with_labels=True, node_size=500, pos=pos)


A = np.array([
    [   0,   0,   0,   0, 0.5,   0],
    [0.25,   0,   0,   0,   0,   0],
    [   0, 0.5,   0,   0,   0,   0],
    [0.25, 0.5,   0,   0, 0.5,   0],
    [0.25,   0,   1,   1,   0,   1],
    [0.25,   0,   0,   0,   0,   0]
])

eigenvalues, eigenvectors = np.linalg.eig(A)


eigenvalues


r = eigenvectors[:, 0]
r = np.real(r)
r = r / r.sum()
r


A = np.array([
    [   0,   0,   0,   0, 0.5,   0],
    [0.25,   0,   0,   0,   0,   0],
    [   0, 0.5,   0,   0,   0,   0],
    [0.25, 0.5,   0,   0, 0.5,   0],
    [0.25,   0,   1,   1,   0,   1],
    [0.25,   0,   0,   0,   0,   0]
])

n = A.shape[0]
alpha = 0.4
d = (1-alpha)/n

M = d + alpha*A

eigenvalues, eigenvectors = np.linalg.eig(M)
eigenvalues


r = eigenvectors[:, 0]
r = np.real(r)
r = r / r.sum()
r


A = np.array([
    [   0,   0,   0,   0, 0.5,   0],
    [0.25,   0,   0,   0,   0,   0],
    [   0, 0.5,   0,   0,   0,   0],
    [0.25, 0.5,   0,   0, 0.5,   0],
    [0.25,   0,   1,   1,   0,   1],
    [0.25,   0,   0,   0,   0,   0]
])

n = A.shape[0]
alpha = 0.4
d = (1-alpha)/n

M = d + alpha*A


r = np.ones([6,1]) / n
r = np.linalg.matrix_power(M, 7) @ r
r = r / r.sum()
r


import numpy as np
import networkx as nx
import matplotlib.pyplot as plt
get_ipython().run_line_magic("config", " InlineBackend.figure_format = 'retina'")


G = nx.DiGraph()
G.add_nodes_from(['A', 'B', 'C', 'D', 'E', 'F'])
G.add_edges_from([
    ('A', 'B'), ('A', 'D'), ('A', 'E'), ('A', 'F'),
    ('B', 'C'), ('B', 'D'),
    ('C', 'E'),
    ('D', 'E'),
    ('E', 'A'), ('E', 'D'),
    ('F', 'E')
])
pos = pos=nx.spring_layout(G, seed=19)

pr = nx.pagerank(G)
n_node = len(G.nodes)
node_sizes = list(map(lambda x: x*500*n_node, list(pr.values())))

fig, ax = plt.subplots(ncols=2, figsize=(15,5))
nx.draw(G, node_color='dimgrey', font_color='w', with_labels=True, node_size=500, pos=pos, ax=ax[0])
nx.draw(G, node_color='indianred', node_size=node_sizes, pos=pos, ax=ax[1])
plt.show()


A = nx.adjacency_matrix(G).toarray().T
A = A / A.sum(axis=0)
A


G = nx.read_edgelist('data/network.txt', delimiter=',', create_using=nx.DiGraph())
pos = pos=nx.spring_layout(G, seed=13)

pr = nx.pagerank(G)
n_node = len(G.nodes)
node_sizes = list(map(lambda x: x*500*n_node, list(pr.values())))

fig, ax = plt.subplots(ncols=2, figsize=(15,5))
nx.draw(G, node_color='dimgrey', font_color='w', with_labels=True, node_size=500, pos=pos, ax=ax[0])
nx.draw(G, node_color='indianred', node_size=node_sizes, pos=pos, ax=ax[1])
plt.show()


G = nx.path_graph(5, create_using=nx.DiGraph())
pos = pos=nx.spring_layout(G, seed=11)

pr = nx.pagerank(G)
n_node = len(G.nodes)
node_sizes = list(map(lambda x: x*500*n_node, list(pr.values())))

fig, ax = plt.subplots(ncols=2, figsize=(15,5))
nx.draw(G, node_color='dimgrey', font_color='w', with_labels=True, node_size=500, pos=pos, ax=ax[0])
nx.draw(G, node_color='indianred', node_size=node_sizes, pos=pos, ax=ax[1])
plt.show()
