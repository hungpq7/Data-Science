{
 "cells": [
  {
   "cell_type": "markdown",
   "id": "ae8e44f1-7b88-49ca-b4ab-f08732e9b081",
   "metadata": {},
   "source": [
    "# 1. SymPy\n",
    "[SymPy] is a exclusive and native library to Python, designed for [symbolic computation]. This mean mathematical expressions will be left in their symbolic forms and represented exactly, not approximately. SymPy can do this for all kinds of computations such as simplication, limits, derivatives and solving equations.\n",
    "\n",
    "[SymPy]: https://github.com/sympy/sympy\n",
    "[symbolic computation]: https://docs.sympy.org/latest/tutorials/intro-tutorial/intro.html#what-is-symbolic-computation"
   ]
  },
  {
   "cell_type": "markdown",
   "id": "f8d1e760-90c2-47ff-82d2-8d32399d9a4a",
   "metadata": {},
   "source": [
    "## 1.1. Expression\n",
    "Expression is the most basic concept in Mathematics. We are going to use SymPy to create symbolic variables (distiguish them with Python variables), write expressions and substitute numbers to make ealuation."
   ]
  },
  {
   "cell_type": "code",
   "execution_count": 52,
   "id": "7922ac4f-53e2-4c79-a4be-d021bf5c7c77",
   "metadata": {},
   "outputs": [],
   "source": [
    "import sympy as sym\n",
    "from sspipe import p, px"
   ]
  },
  {
   "cell_type": "code",
   "execution_count": 50,
   "id": "6476ab69-e0e8-4648-859e-b1ba93d1bcde",
   "metadata": {},
   "outputs": [],
   "source": [
    "# create some variables\n",
    "x, y, z = sym.symbols('x,y,z')"
   ]
  },
  {
   "cell_type": "code",
   "execution_count": 21,
   "id": "9e220e6e-037e-49f7-92c8-22df916573ce",
   "metadata": {},
   "outputs": [
    {
     "data": {
      "text/latex": [
       "$\\displaystyle x^{2} + 3 y + \\cos{\\left(z \\right)}$"
      ],
      "text/plain": [
       "x**2 + 3*y + cos(z)"
      ]
     },
     "execution_count": 21,
     "metadata": {},
     "output_type": "execute_result"
    }
   ],
   "source": [
    "# write an expression\n",
    "expr = x**2 + 3*y + sym.cos(z)\n",
    "expr"
   ]
  },
  {
   "cell_type": "code",
   "execution_count": 42,
   "id": "890940b0-ea6e-41e0-8ede-2d9cc84b77c4",
   "metadata": {},
   "outputs": [
    {
     "data": {
      "text/latex": [
       "$\\displaystyle \\cos{\\left(z \\right)} + 7$"
      ],
      "text/plain": [
       "cos(z) + 7"
      ]
     },
     "execution_count": 42,
     "metadata": {},
     "output_type": "execute_result"
    }
   ],
   "source": [
    "# substitute numbers, partially or fully\n",
    "expr.subs({x: 2, y: 1})"
   ]
  },
  {
   "cell_type": "code",
   "execution_count": 41,
   "id": "22615874-87ad-4b3d-9965-058622e569e4",
   "metadata": {},
   "outputs": [
    {
     "data": {
      "text/latex": [
       "$\\displaystyle 3.14159265358979$"
      ],
      "text/plain": [
       "3.14159265358979"
      ]
     },
     "execution_count": 41,
     "metadata": {},
     "output_type": "execute_result"
    }
   ],
   "source": [
    "# by default, sympy will only evaluate non-decimal numbers once calling evalf()\n",
    "sym.pi.evalf()"
   ]
  },
  {
   "cell_type": "markdown",
   "id": "3445c5d5-b2f2-40e6-b065-0bba9829d55b",
   "metadata": {},
   "source": [
    "## 1.2. Simplification\n",
    "[Simplification] is one of the most interesting parts in Mathematics. SymPy provides\n",
    "<code style='font-size:13px'>simplify()</code>, a general but slow simplifier and a number of faster simplifiers dedicated to specific cases.\n",
    "\n",
    "[Simplification]: https://docs.sympy.org/latest/tutorials/intro-tutorial/simplification.html#"
   ]
  },
  {
   "cell_type": "code",
   "execution_count": 1,
   "id": "02473911-133e-484c-8adb-4b4e1d7793b5",
   "metadata": {
    "tags": []
   },
   "outputs": [],
   "source": [
    "import sympy as sym\n",
    "from sspipe import p, px"
   ]
  },
  {
   "cell_type": "code",
   "execution_count": 2,
   "id": "6c2e11df-81ba-43dd-8e44-dee660e498b0",
   "metadata": {
    "tags": []
   },
   "outputs": [],
   "source": [
    "x, y, z = sym.symbols('x:z')"
   ]
  },
  {
   "cell_type": "code",
   "execution_count": 28,
   "id": "9c0baa48-3d6b-4864-b758-cf915067c4b9",
   "metadata": {
    "tags": []
   },
   "outputs": [
    {
     "data": {
      "text/latex": [
       "$\\displaystyle \\frac{\\Gamma\\left(x\\right)}{\\Gamma\\left(x - 2\\right)} = \\left(x - 2\\right) \\left(x - 1\\right)$"
      ],
      "text/plain": [
       "Eq(gamma(x)/gamma(x - 2), (x - 2)*(x - 1))"
      ]
     },
     "execution_count": 28,
     "metadata": {},
     "output_type": "execute_result"
    }
   ],
   "source": [
    "lhs = sym.gamma(x) / sym.gamma(x-2)\n",
    "rhs = sym.simplify(lhs)\n",
    "sym.Eq(lhs, rhs)"
   ]
  },
  {
   "cell_type": "markdown",
   "id": "fc6827f4-28a7-46be-a6fe-1c2fa41887b4",
   "metadata": {},
   "source": [
    "### Polynomials\n",
    "In polynomials, expansion and factorization are two opposite tasks, one prefers sum form of monomials and the other prefer product form of irreducible factors. Sometimes, we also want to collect monomials with the same degree."
   ]
  },
  {
   "cell_type": "code",
   "execution_count": 29,
   "id": "92a558fb-7c1c-41dd-800c-55494d71be43",
   "metadata": {
    "tags": []
   },
   "outputs": [
    {
     "data": {
      "text/latex": [
       "$\\displaystyle \\left(x + 1\\right) \\left(x + 2\\right) \\left(x + 3\\right) = x^{3} + 6 x^{2} + 11 x + 6$"
      ],
      "text/plain": [
       "Eq((x + 1)*(x + 2)*(x + 3), x**3 + 6*x**2 + 11*x + 6)"
      ]
     },
     "execution_count": 29,
     "metadata": {},
     "output_type": "execute_result"
    }
   ],
   "source": [
    "lhs = (x+1) * (x+2) * (x+3)\n",
    "rhs = sym.expand(lhs)\n",
    "sym.Eq(lhs, rhs)"
   ]
  },
  {
   "cell_type": "code",
   "execution_count": 30,
   "id": "475a0f48-af1f-4177-a42c-b5dd4a5b350d",
   "metadata": {
    "tags": []
   },
   "outputs": [
    {
     "data": {
      "text/latex": [
       "$\\displaystyle x^{10} + x^{2} + 1 = \\left(x^{2} - x + 1\\right) \\left(x^{2} + x + 1\\right) \\left(x^{6} - x^{4} + 1\\right)$"
      ],
      "text/plain": [
       "Eq(x**10 + x**2 + 1, (x**2 - x + 1)*(x**2 + x + 1)*(x**6 - x**4 + 1))"
      ]
     },
     "execution_count": 30,
     "metadata": {},
     "output_type": "execute_result"
    }
   ],
   "source": [
    "lhs = x**10 + x**2 + 1\n",
    "rhs = sym.factor(lhs)\n",
    "sym.Eq(lhs, rhs)"
   ]
  },
  {
   "cell_type": "code",
   "execution_count": 31,
   "id": "6975221c-d59b-4008-9218-e5f3afb7cb56",
   "metadata": {
    "tags": []
   },
   "outputs": [
    {
     "data": {
      "text/latex": [
       "$\\displaystyle x^{2} z + 4 x y z + 4 y^{2} z = z \\left(x + 2 y\\right)^{2}$"
      ],
      "text/plain": [
       "Eq(x**2*z + 4*x*y*z + 4*y**2*z, z*(x + 2*y)**2)"
      ]
     },
     "execution_count": 31,
     "metadata": {},
     "output_type": "execute_result"
    }
   ],
   "source": [
    "lhs = x**2*z + 4*x*y*z + 4*y**2*z\n",
    "rhs = sym.factor(lhs)\n",
    "sym.Eq(lhs, rhs)"
   ]
  },
  {
   "cell_type": "code",
   "execution_count": 34,
   "id": "31857c1a-7847-48af-8fe7-3b0e74228fc4",
   "metadata": {
    "tags": []
   },
   "outputs": [
    {
     "data": {
      "text/latex": [
       "$\\displaystyle x^{2} z + 2 x^{2} + x y + x + 3 = x^{2} \\left(z + 2\\right) + x \\left(y + 1\\right) + 3$"
      ],
      "text/plain": [
       "Eq(x**2*z + 2*x**2 + x*y + x + 3, x**2*(z + 2) + x*(y + 1) + 3)"
      ]
     },
     "execution_count": 34,
     "metadata": {},
     "output_type": "execute_result"
    }
   ],
   "source": [
    "lhs = x*y + x + 3 + 2*x**2 + z*x**2\n",
    "rhs = sym.collect(lhs, x)\n",
    "sym.Eq(lhs, rhs)"
   ]
  },
  {
   "cell_type": "markdown",
   "id": "3803843a-f61c-40e9-ae4f-2c89c0ca950e",
   "metadata": {},
   "source": [
    "### Trigonimetric functions"
   ]
  },
  {
   "cell_type": "code",
   "execution_count": 11,
   "id": "8d5895bc-ffd3-4aa2-bf39-af6a155e65aa",
   "metadata": {
    "tags": []
   },
   "outputs": [
    {
     "data": {
      "text/latex": [
       "$\\displaystyle \\sin^{2}{\\left(x \\right)} + \\cos^{2}{\\left(x \\right)} = 1$"
      ],
      "text/plain": [
       "Eq(sin(x)**2 + cos(x)**2, 1)"
      ]
     },
     "execution_count": 11,
     "metadata": {},
     "output_type": "execute_result"
    }
   ],
   "source": [
    "expr = sym.sin(x)**2 + sym.cos(x)**2\n",
    "result = sym.trigsimp(expr)\n",
    "sym.Eq(expr, result)"
   ]
  },
  {
   "cell_type": "code",
   "execution_count": 9,
   "id": "d4a25168-13da-4894-b172-c8187215fd92",
   "metadata": {
    "tags": []
   },
   "outputs": [
    {
     "data": {
      "text/latex": [
       "$\\displaystyle \\sin{\\left(2 x \\right)} = 2 \\sin{\\left(x \\right)} \\cos{\\left(x \\right)}$"
      ],
      "text/plain": [
       "Eq(sin(2*x), 2*sin(x)*cos(x))"
      ]
     },
     "execution_count": 9,
     "metadata": {},
     "output_type": "execute_result"
    }
   ],
   "source": [
    "expr = sym.sin(2*x)\n",
    "result = sym.expand_trig(expr)\n",
    "sym.Eq(expr, result)"
   ]
  },
  {
   "cell_type": "markdown",
   "id": "1be3e781-ab78-443f-84f3-0e13342c5abd",
   "metadata": {},
   "source": [
    "### Rewrite\n",
    "A common way to deal with special functions is to *rewrite* them in terms of one another."
   ]
  },
  {
   "cell_type": "code",
   "execution_count": 21,
   "id": "dcc741fe-4e96-476f-9c8d-d59c07570370",
   "metadata": {},
   "outputs": [
    {
     "data": {
      "text/latex": [
       "$\\displaystyle \\tan{\\left(x \\right)} = \\frac{\\cos{\\left(x - \\frac{\\pi}{2} \\right)}}{\\cos{\\left(x \\right)}}$"
      ],
      "text/plain": [
       "Eq(tan(x), cos(x - pi/2)/cos(x))"
      ]
     },
     "execution_count": 21,
     "metadata": {},
     "output_type": "execute_result"
    }
   ],
   "source": [
    "expr = sym.tan(x)\n",
    "result = expr.rewrite(sym.cos)\n",
    "sym.Eq(expr, result)"
   ]
  },
  {
   "cell_type": "code",
   "execution_count": 25,
   "id": "553af9ed-fdc0-4d96-b297-4c62eb3233ff",
   "metadata": {},
   "outputs": [
    {
     "data": {
      "text/latex": [
       "$\\displaystyle \\Gamma\\left(x\\right) = \\left(x - 1\\right)!$"
      ],
      "text/plain": [
       "Eq(gamma(x), factorial(x - 1))"
      ]
     },
     "execution_count": 25,
     "metadata": {},
     "output_type": "execute_result"
    }
   ],
   "source": [
    "lhs = sym.gamma(x)\n",
    "rhs = lhs.rewrite(sym.factorial)\n",
    "sym.Eq(lhs, rhs)"
   ]
  },
  {
   "cell_type": "markdown",
   "id": "14ae8980-1fcb-4081-821e-b850051d46e8",
   "metadata": {},
   "source": [
    "## 1.3. Solvers\n",
    "A quick review of number sets in Mathematics: $\\mathbb{N}$ (naturals), $\\mathbb{Z}$ (integers), $\\mathbb{Q}$ (rationals), $\\mathbb{R}$ (reals) and $\\mathbb{C}$ (complexes). They serve an important role of defining scope of the input."
   ]
  },
  {
   "cell_type": "code",
   "execution_count": 21,
   "id": "32d95679-f5c0-485c-840d-7761da63ba76",
   "metadata": {
    "execution": {
     "iopub.execute_input": "2022-10-07T15:05:32.707437Z",
     "iopub.status.busy": "2022-10-07T15:05:32.706984Z",
     "iopub.status.idle": "2022-10-07T15:05:32.711205Z",
     "shell.execute_reply": "2022-10-07T15:05:32.709941Z",
     "shell.execute_reply.started": "2022-10-07T15:05:32.707403Z"
    },
    "tags": []
   },
   "outputs": [],
   "source": [
    "import sympy as sym\n",
    "from sspipe import p, px"
   ]
  },
  {
   "cell_type": "code",
   "execution_count": 22,
   "id": "fcdae8bb-bb68-473c-9702-cd8ff35f113d",
   "metadata": {
    "execution": {
     "iopub.execute_input": "2022-10-07T15:05:33.407075Z",
     "iopub.status.busy": "2022-10-07T15:05:33.406639Z",
     "iopub.status.idle": "2022-10-07T15:05:33.412144Z",
     "shell.execute_reply": "2022-10-07T15:05:33.411259Z",
     "shell.execute_reply.started": "2022-10-07T15:05:33.407045Z"
    },
    "tags": []
   },
   "outputs": [],
   "source": [
    "x, y, z = sym.symbols('x:z')"
   ]
  },
  {
   "cell_type": "markdown",
   "id": "719a5670-8e51-4e9d-965c-0614a6a624a7",
   "metadata": {},
   "source": [
    "### Equation solver\n",
    "The function\n",
    "<code style='font-size:13px'><a href='https://docs.sympy.org/latest/modules/solvers/solveset.html'>solveset()</a></code>\n",
    "solves an equation for one variable and returns a set of solutions. When an expression is passed in, it is automatically assumed to equal $0$. We can also change the equation domain to get appropriate solutions."
   ]
  },
  {
   "cell_type": "code",
   "execution_count": 71,
   "id": "06659180-a81a-4f1f-a3d5-95454c12eb9e",
   "metadata": {},
   "outputs": [
    {
     "data": {
      "text/latex": [
       "$\\displaystyle \\left\\{-1, 1\\right\\}$"
      ],
      "text/plain": [
       "{-1, 1}"
      ]
     },
     "execution_count": 71,
     "metadata": {},
     "output_type": "execute_result"
    }
   ],
   "source": [
    "sym.Eq(x**2, 1) | p(sym.solveset, x)"
   ]
  },
  {
   "cell_type": "code",
   "execution_count": 85,
   "id": "3ae7b13b-ed03-4e9c-9b3e-cb868f6633ad",
   "metadata": {},
   "outputs": [
    {
     "data": {
      "text/latex": [
       "$\\displaystyle \\left\\{-1 - 2 i, -1 + 2 i\\right\\}$"
      ],
      "text/plain": [
       "{-1 - 2*I, -1 + 2*I}"
      ]
     },
     "execution_count": 85,
     "metadata": {},
     "output_type": "execute_result"
    }
   ],
   "source": [
    "'x^2 + 2*x + 5' | p(sym.solveset, x)"
   ]
  },
  {
   "cell_type": "code",
   "execution_count": 86,
   "id": "da367565-2b9f-4e3e-a9bc-00212f4bde7f",
   "metadata": {},
   "outputs": [
    {
     "data": {
      "text/latex": [
       "$\\displaystyle \\emptyset$"
      ],
      "text/plain": [
       "EmptySet"
      ]
     },
     "execution_count": 86,
     "metadata": {},
     "output_type": "execute_result"
    }
   ],
   "source": [
    "'x^2 + 2*x + 5' | p(sym.solveset, x, domain=sym.S.Reals)"
   ]
  },
  {
   "cell_type": "markdown",
   "id": "ec0dab23-c9b5-46c9-82ec-11e4ab930b9f",
   "metadata": {},
   "source": [
    "### Linear system solver\n",
    "We can solve systems of equations by specifying each equation explicitly or using agumented matrix."
   ]
  },
  {
   "cell_type": "code",
   "execution_count": 88,
   "id": "77a4aacc-dc99-4226-9c83-963d0c1cd9c9",
   "metadata": {},
   "outputs": [
    {
     "data": {
      "text/latex": [
       "$\\displaystyle \\left\\{\\left( 1, \\  2, \\  3\\right)\\right\\}$"
      ],
      "text/plain": [
       "{(1, 2, 3)}"
      ]
     },
     "execution_count": 88,
     "metadata": {},
     "output_type": "execute_result"
    }
   ],
   "source": [
    "eqSys = [\n",
    "    sym.Eq(x + y + z, 6),\n",
    "    sym.Eq(x + 2*y + z, 8),\n",
    "    sym.Eq(x + y + 2*z, 9)\n",
    "]\n",
    "\n",
    "sym.linsolve(eqSys, [x, y, z])"
   ]
  },
  {
   "cell_type": "code",
   "execution_count": 89,
   "id": "7c0e4c97-104b-408f-8863-f0f779ea19d9",
   "metadata": {},
   "outputs": [
    {
     "data": {
      "text/latex": [
       "$\\displaystyle \\left\\{\\left( 1, \\  2, \\  3\\right)\\right\\}$"
      ],
      "text/plain": [
       "{(1, 2, 3)}"
      ]
     },
     "execution_count": 89,
     "metadata": {},
     "output_type": "execute_result"
    }
   ],
   "source": [
    "matAgumented = sym.Matrix([\n",
    "    [1, 1, 1, 6],\n",
    "    [1, 2, 1, 8],\n",
    "    [1, 1, 2, 9]\n",
    "])\n",
    "\n",
    "sym.linsolve(eqSys, [x, y, z])"
   ]
  },
  {
   "cell_type": "markdown",
   "id": "d38b99fb-3d3e-4c87-82b8-e051d49db277",
   "metadata": {},
   "source": [
    "### Inequality solver\n",
    "SymPy [solves inequalities] via a number of functions adapt to various cases.\n",
    "\n",
    "[solves inequalities]: https://docs.sympy.org/latest/modules/solvers/inequalities.html"
   ]
  },
  {
   "cell_type": "code",
   "execution_count": 33,
   "id": "148f6889-328d-48d8-829b-9654b9ad6c13",
   "metadata": {
    "execution": {
     "iopub.execute_input": "2022-10-07T15:19:01.057098Z",
     "iopub.status.busy": "2022-10-07T15:19:01.056725Z",
     "iopub.status.idle": "2022-10-07T15:19:01.114072Z",
     "shell.execute_reply": "2022-10-07T15:19:01.113173Z",
     "shell.execute_reply.started": "2022-10-07T15:19:01.057072Z"
    },
    "tags": []
   },
   "outputs": [
    {
     "data": {
      "text/latex": [
       "$\\displaystyle \\left(2 \\leq x \\wedge x < \\infty\\right) \\vee \\left(x \\leq -2 \\wedge -\\infty < x\\right)$"
      ],
      "text/plain": [
       "((2 <= x) & (x < oo)) | ((x <= -2) & (-oo < x))"
      ]
     },
     "execution_count": 33,
     "metadata": {},
     "output_type": "execute_result"
    }
   ],
   "source": [
    "ineq = x**2 >= 4\n",
    "sym.solve_univariate_inequality(ineq, x)"
   ]
  },
  {
   "cell_type": "markdown",
   "id": "9309587e-3785-4fc9-a981-993a040e1e2e",
   "metadata": {},
   "source": [
    "# 2. Limits"
   ]
  },
  {
   "cell_type": "markdown",
   "id": "b0d03b58-fe5d-42e1-a785-d62c44c378aa",
   "metadata": {},
   "source": [
    "## 2.1. Preview"
   ]
  },
  {
   "cell_type": "code",
   "execution_count": 1,
   "id": "ced685bc-a754-45d1-b045-9d7bc94fdc88",
   "metadata": {
    "execution": {
     "iopub.execute_input": "2022-10-02T16:16:07.945284Z",
     "iopub.status.busy": "2022-10-02T16:16:07.944842Z",
     "iopub.status.idle": "2022-10-02T16:16:08.803311Z",
     "shell.execute_reply": "2022-10-02T16:16:08.802651Z",
     "shell.execute_reply.started": "2022-10-02T16:16:07.945209Z"
    },
    "tags": []
   },
   "outputs": [],
   "source": [
    "import numpy as np\n",
    "import matplotlib.pyplot as plt\n",
    "plt.style.use(['seaborn', 'seaborn-whitegrid'])\n",
    "%config InlineBackend.figure_format = 'retina'"
   ]
  },
  {
   "cell_type": "markdown",
   "id": "67f0da81-2070-45ae-add2-57f796438775",
   "metadata": {},
   "source": [
    "### The velocity problem\n",
    "[Rate of change] or instantaneous [velocity] is an important concept in Data Science and Machine Learning. It is expressed as the [slope] $m$ of a line $y=mx+c$. However, in a non-linear function (which is very popular), the velocity changes as $x$ changes. To measure the instantaneous velocity at any given point, an visual approach is trying to draw a [tangent] then find its slope by computing $\\Delta{y}/\\Delta{x}$.\n",
    "\n",
    "<img src='image/velocity_problem.png' style='height:200px; margin:20px auto 20px;'>\n",
    "\n",
    "Let's an this example, we want to draw the tangent of the parabola at the blue point, $a$. It is the blue line, but we will have a hard time finding it. It would be more reasonale for us to approximate the tangent by drawing a [secant], like the red one.\n",
    "\n",
    "$$m_a\\approx\\frac{f(x)-f(a)}{x-a}$$\n",
    "\n",
    "We also observe that the orange secant is less accurate, as the orange $x$ is further from the $a$, compared to red $x$. In other words, we would want to move $x$ as close to $a$ as possible, but never let them overlap to make sure the secant can always be drawn. We say that $x$ approaches $a$, denoted $x\\rightarrow a$. Such a process is mathematically written as:\n",
    "\n",
    "$$m_a=\\lim_{x\\rightarrow a}\\frac{f(x)-f(a)}{x-a}$$\n",
    "\n",
    "[Rate of change]: https://en.wikipedia.org/wiki/Time_derivative\n",
    "[velocity]: https://en.wikipedia.org/wiki/Velocity\n",
    "[slope]: https://en.wikipedia.org/wiki/Slope\n",
    "[tangent]: https://en.wikipedia.org/wiki/Tangent\n",
    "[secant]: https://en.wikipedia.org/wiki/Secant_line"
   ]
  },
  {
   "cell_type": "markdown",
   "id": "c4344ad8-273c-41e3-8c78-c4b1b7598c7b",
   "metadata": {},
   "source": [
    "### The area problem\n",
    "Another popular problem in Calculus is evaluating the area under a curve over an interval. Same as the velocity problem, we cannot compute it exactly, but can try to approximate it.\n",
    "\n",
    "<img src='image/area_problem.png' style='height:350px; margin:20px auto 20px;'>\n",
    "\n",
    "One way to do this is dividing up the interval $[a,b]$ into $N$ small bins, each has a width of $h$ and is represented by a point $x_n$. This point is usually placed at the center or at one of the two boundaries of a bin. For each bin $n$, draw a rectangular having width of $h$ and height of $f(x_n)$. The area can be approximated by summing up the areas of all rectangulars:\n",
    "\n",
    "$$S\\approx\\sum_{n=1}^{N}{hf(x_n)}$$\n",
    "\n",
    "It's obvious that, the smaller $h$ is, the more accurate of our approximation. So we would want to reduce $h$ to be as close to $0$ as possible, but never equal to $0$ because at this point we cannot *draw* rectangulars. This is formally written as:\n",
    "\n",
    "$$S=\\lim_{h\\rightarrow0}\\sum_{n=1}^{N}{hf(x_n)}$$"
   ]
  },
  {
   "cell_type": "markdown",
   "id": "772c4699-3ed4-4c1f-9892-7a504fbf74fd",
   "metadata": {},
   "source": [
    "## 2.2. Limits\n",
    "[Limit] (of a function) is an essential building block in Calculus. This section will takes a deeper look at function limits to explain what limits are, but avoid the Mathematical definition. We also discuss of how to estimate them using SymPy instead of Mathematical approaches.\n",
    "\n",
    "[Limit]: https://en.wikipedia.org/wiki/Limit_of_a_function"
   ]
  },
  {
   "cell_type": "markdown",
   "id": "30ac9e76-94ab-43af-92f1-8333cc49de05",
   "metadata": {},
   "source": [
    "### Cases of limit\n",
    "<img src='image/limit_types.png' style='height:250px; margin:20px auto 20px;'>\n",
    "\n",
    "The images above show the behaviours of different functions around $x=2$. It summrizes most popular cases you may face when finding a limit:\n",
    "- *Constant limits*. This is the easiest one to understand, shown in the first image. Even the function is not defined at $x=2$, it still has a limit:\n",
    "\n",
    "$$\\lim_{x\\rightarrow2}\\frac{x^2-4}{x-2}=4$$\n",
    "\n",
    "- *One-sided limits*. In the second image, $y$ approaches different values when $x$ comes in different directions. The previous function in fact is a special case of one-sided limits, where limits of a function from both sides are equal. In this case:\n",
    "\n",
    "$$\\lim_{x\\rightarrow2^-}\\frac{|x-2|}{x-2}=-1;\\qquad\\lim_{x\\rightarrow2^+}\\frac{|x-2|}{x-2}=1$$\n",
    "\n",
    "- *Infinite limits*. Limits are not constrained to be a number. If $f(x)$ increases or decrease without bound as $x\\rightarrow a$, then the limit is said to be positive/negative infinite.\n",
    "\n",
    "$$\\lim_{x\\rightarrow2}\\frac{1}{(x-2)^2}=+\\infty$$\n",
    "\n",
    "- *Non-existant limits*. Sometimes, limits don't exist. For example, consider the function $y=\\sin(x)$. When $x\\rightarrow+\\infty$, $y$ oscillates between $-1$ and $1$ and never converges. Limit in this case does not exist."
   ]
  },
  {
   "cell_type": "markdown",
   "id": "5cfa71b2-c8a2-4ebb-bf9f-c4a7a7b22d5f",
   "metadata": {},
   "source": [
    "### Limits evaluation\n",
    "Limits can be evaluated by looking at graphs or by constructing tables of function values. For more complex function, we cannot rely on these methods. Using a number of basic laws, here are some techniques we can use to evaluate limits: direct substitution, factorization, rationalization, conjugate multiplication, [L'Hospital's rule](https://en.wikipedia.org/wiki/L%27H%C3%B4pital%27s_rule) and [squeeze theorem](https://en.wikipedia.org/wiki/Squeeze_theorem).\n",
    "\n",
    "However, this topic is not a Calculus textbook, so instead of diving into these techniques, we are going to use SymPy. It provides us the function <code style='font-size:13px'>limit()</code> evaluates the limit and the <code style='font-size:13px'>Limit</code> class to store the unevaluated expression. Both take following arguments, in that order:\n",
    "- The function you want to evaluate limit\n",
    "- The variable in the limit\n",
    "- The value which the variable tends towards\n",
    "- The direction of the limit"
   ]
  },
  {
   "cell_type": "code",
   "execution_count": 2,
   "id": "98b17947-afd4-4f03-998e-1b340d79928b",
   "metadata": {
    "execution": {
     "iopub.execute_input": "2022-10-07T14:15:57.570325Z",
     "iopub.status.busy": "2022-10-07T14:15:57.569948Z",
     "iopub.status.idle": "2022-10-07T14:16:00.439516Z",
     "shell.execute_reply": "2022-10-07T14:16:00.438901Z",
     "shell.execute_reply.started": "2022-10-07T14:15:57.570298Z"
    },
    "tags": []
   },
   "outputs": [],
   "source": [
    "import sympy as sym\n",
    "from sspipe import p, px"
   ]
  },
  {
   "cell_type": "code",
   "execution_count": 43,
   "id": "2628d1cc-5268-46bb-a009-855ee5f2bc2d",
   "metadata": {
    "execution": {
     "iopub.execute_input": "2022-10-07T16:43:44.748539Z",
     "iopub.status.busy": "2022-10-07T16:43:44.748147Z",
     "iopub.status.idle": "2022-10-07T16:43:44.756781Z",
     "shell.execute_reply": "2022-10-07T16:43:44.755924Z",
     "shell.execute_reply.started": "2022-10-07T16:43:44.748513Z"
    },
    "tags": []
   },
   "outputs": [
    {
     "data": {
      "text/latex": [
       "$\\displaystyle \\lim_{x \\to 2}\\left(\\frac{x^{2} - 4}{x - 2}\\right) = 4$"
      ],
      "text/plain": [
       "Eq(Limit((x**2 - 4)/(x - 2), x, 2, dir='+-'), 4)"
      ]
     },
     "execution_count": 43,
     "metadata": {},
     "output_type": "execute_result"
    }
   ],
   "source": [
    "x = sym.Symbol('x')\n",
    "y = (x**2 - 4) / (x -2)\n",
    "\n",
    "lim = sym.Limit(y, x, 2, dir='+-')\n",
    "sym.Eq(lim, lim.doit())"
   ]
  },
  {
   "cell_type": "code",
   "execution_count": 44,
   "id": "244dc822-544b-4b72-b081-8e625e35d694",
   "metadata": {
    "execution": {
     "iopub.execute_input": "2022-10-07T16:44:39.690962Z",
     "iopub.status.busy": "2022-10-07T16:44:39.690605Z",
     "iopub.status.idle": "2022-10-07T16:44:39.701701Z",
     "shell.execute_reply": "2022-10-07T16:44:39.700830Z",
     "shell.execute_reply.started": "2022-10-07T16:44:39.690938Z"
    },
    "tags": []
   },
   "outputs": [
    {
     "data": {
      "text/latex": [
       "$\\displaystyle \\lim_{x \\to 2} \\frac{1}{\\left(x - 2\\right)^{2}} = \\infty$"
      ],
      "text/plain": [
       "Eq(Limit((x - 2)**(-2), x, 2, dir='+-'), oo)"
      ]
     },
     "execution_count": 44,
     "metadata": {},
     "output_type": "execute_result"
    }
   ],
   "source": [
    "x = sym.Symbol('x')\n",
    "y = 1 / (x -2)**2\n",
    "\n",
    "lim = sym.Limit(y, x, 2, dir='+-')\n",
    "sym.Eq(lim, lim.doit())"
   ]
  },
  {
   "cell_type": "code",
   "execution_count": 20,
   "id": "0bd5b0de-07bb-4657-a667-45206c332516",
   "metadata": {
    "execution": {
     "iopub.execute_input": "2022-10-07T15:03:51.348961Z",
     "iopub.status.busy": "2022-10-07T15:03:51.348339Z",
     "iopub.status.idle": "2022-10-07T15:03:51.369376Z",
     "shell.execute_reply": "2022-10-07T15:03:51.367510Z",
     "shell.execute_reply.started": "2022-10-07T15:03:51.348912Z"
    },
    "tags": []
   },
   "outputs": [
    {
     "data": {
      "text/latex": [
       "$\\displaystyle \\left\\langle -1, 1\\right\\rangle$"
      ],
      "text/plain": [
       "AccumBounds(-1, 1)"
      ]
     },
     "execution_count": 20,
     "metadata": {},
     "output_type": "execute_result"
    }
   ],
   "source": [
    "x = sym.Symbol('x')\n",
    "y = sym.sin(1/x)\n",
    "\n",
    "sym.limit(y, x, 0, dir='+')"
   ]
  },
  {
   "cell_type": "markdown",
   "id": "aca3f07d-7e7d-4091-8d1b-36b3433f33bb",
   "metadata": {},
   "source": [
    "# 3. Derivatives\n",
    "The [derivative] of a function $f$ is a function $f'$ describes velocities at different points. The process of finding a derivative is called [differentiation]. In Data Science, the most recognizable application of Differential Calculus is solving optimization problems.\n",
    "\n",
    "[derivative]: https://en.wikipedia.org/wiki/Derivative\n",
    "[differentiation]: https://en.wikipedia.org/wiki/Differential_calculus"
   ]
  },
  {
   "cell_type": "markdown",
   "id": "770b4b77-1124-4c0b-9eaf-aef2a1a48d19",
   "metadata": {},
   "source": [
    "## Definition\n",
    "Let's $y=f(x)$ be a function. The *derivative function*, denoted $f'(x)$, is a set of points that the following limit exists:\n",
    "\n",
    "$$f'(x)=\\lim_{h\\rightarrow0}\\frac{f(x+h)-f(x)}{h} $$\n",
    "\n",
    "The derivative can also be defined at a point $x=a$. [Leibniz's notation](https://en.wikipedia.org/wiki/Leibniz's_notation) can also be used to express the derivative function and can be used as an operator:\n",
    "\n",
    "$$f'(x)=\\frac{dy}{dx}=\\frac{d}{dx}y$$"
   ]
  },
  {
   "cell_type": "markdown",
   "id": "4ad254e3-d8e7-4038-a55b-3e7fd8724353",
   "metadata": {},
   "source": [
    "## Differentiability"
   ]
  },
  {
   "cell_type": "markdown",
   "id": "50b00aef-e39e-4856-84f1-ddb1f0117adb",
   "metadata": {},
   "source": [
    "## Differentiation rules"
   ]
  },
  {
   "cell_type": "markdown",
   "id": "1efa8334-ad80-4c5c-adeb-7995e2ac2fa2",
   "metadata": {},
   "source": [
    "## Implementation"
   ]
  },
  {
   "cell_type": "markdown",
   "id": "fea3136a-27de-4eef-afd5-b62340bafa67",
   "metadata": {},
   "source": [
    "## Gradient"
   ]
  },
  {
   "cell_type": "markdown",
   "id": "3ad4ce36-b6b8-4009-ad5c-48f941974790",
   "metadata": {},
   "source": [
    "## Vector derivatives"
   ]
  },
  {
   "cell_type": "markdown",
   "id": "cf61bc2d-7270-466b-ac08-5bf358c46110",
   "metadata": {},
   "source": [
    "## Applications"
   ]
  },
  {
   "cell_type": "markdown",
   "id": "0f9e3327-faa0-435c-b842-024a4bad67f9",
   "metadata": {},
   "source": [
    "# 4. Integrals\n",
    "The [integral] of a function $f$ is a function $F$ describes areas under the curve up to different points. The process of finding an integral is call [integration]. In Data Science, the most recognizable application of Integral Calculus is defining probabilities.\n",
    "\n",
    "[integral]: https://en.wikipedia.org/wiki/Antiderivative\n",
    "[integration]: https://en.wikipedia.org/wiki/Integral"
   ]
  },
  {
   "cell_type": "markdown",
   "id": "f6eeb802-a7cf-486a-8dcc-35214c2bbc92",
   "metadata": {},
   "source": [
    "## Definition"
   ]
  },
  {
   "cell_type": "markdown",
   "id": "5b693355-addc-447d-a81c-0b865ffb5965",
   "metadata": {},
   "source": [
    "## Integration rules"
   ]
  },
  {
   "cell_type": "markdown",
   "id": "9755330e-9176-4fbb-8865-9e06a4cbecaf",
   "metadata": {},
   "source": [
    "## Implementation"
   ]
  },
  {
   "cell_type": "markdown",
   "id": "ba9884e0-c62b-4807-9623-1300fa2c8e48",
   "metadata": {},
   "source": [
    "# References\n",
    "- *openstax.org - [Calculus Volume 1](https://openstax.org/books/calculus-volume-1/pages/1-introduction)*\n",
    "- *openstax.org - [Calculus Volume 2](https://openstax.org/books/calculus-volume-2/pages/1-introduction)*\n",
    "- *openstax.org - [Calculus Volume 3](https://openstax.org/books/calculus-volume-3/pages/1-introduction)*\n",
    "- *rodrigopacios.github.io - [Thomas' Calculus](https://rodrigopacios.github.io/mrpacios/download/Thomas_Calculus.pdf)*"
   ]
  }
 ],
 "metadata": {
  "kernelspec": {
   "display_name": "Python 3 (ipykernel)",
   "language": "python",
   "name": "python3"
  },
  "language_info": {
   "codemirror_mode": {
    "name": "ipython",
    "version": 3
   },
   "file_extension": ".py",
   "mimetype": "text/x-python",
   "name": "python",
   "nbconvert_exporter": "python",
   "pygments_lexer": "ipython3",
   "version": "3.9.7"
  }
 },
 "nbformat": 4,
 "nbformat_minor": 5
}
