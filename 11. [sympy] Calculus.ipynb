{
 "cells": [
  {
   "cell_type": "markdown",
   "id": "ae8e44f1-7b88-49ca-b4ab-f08732e9b081",
   "metadata": {},
   "source": [
    "# 1. SymPy"
   ]
  },
  {
   "cell_type": "code",
   "execution_count": 24,
   "id": "2ba8d1bc-502a-4dbf-8e49-3af7e15c6a76",
   "metadata": {
    "execution": {
     "iopub.execute_input": "2022-09-29T17:00:52.451043Z",
     "iopub.status.busy": "2022-09-29T17:00:52.450653Z",
     "iopub.status.idle": "2022-09-29T17:00:57.535131Z",
     "shell.execute_reply": "2022-09-29T17:00:57.534489Z",
     "shell.execute_reply.started": "2022-09-29T17:00:52.451014Z"
    },
    "tags": []
   },
   "outputs": [],
   "source": [
    "import sympy as sym\n",
    "from sspipe import p, px"
   ]
  },
  {
   "cell_type": "code",
   "execution_count": 2,
   "id": "21e439bf-7ad7-4c2f-ac38-e4abc65c32f5",
   "metadata": {
    "execution": {
     "iopub.execute_input": "2022-09-29T16:46:51.935332Z",
     "iopub.status.busy": "2022-09-29T16:46:51.934818Z",
     "iopub.status.idle": "2022-09-29T16:46:51.939904Z",
     "shell.execute_reply": "2022-09-29T16:46:51.938631Z",
     "shell.execute_reply.started": "2022-09-29T16:46:51.935297Z"
    },
    "tags": []
   },
   "outputs": [],
   "source": [
    "x, y, z = sym.symbols('x,y,z')"
   ]
  },
  {
   "cell_type": "code",
   "execution_count": 6,
   "id": "687b7ca5-9fd5-471c-a2d5-9e04a67823e7",
   "metadata": {
    "execution": {
     "iopub.execute_input": "2022-09-29T16:50:22.294272Z",
     "iopub.status.busy": "2022-09-29T16:50:22.293869Z",
     "iopub.status.idle": "2022-09-29T16:50:22.307123Z",
     "shell.execute_reply": "2022-09-29T16:50:22.306188Z",
     "shell.execute_reply.started": "2022-09-29T16:50:22.294245Z"
    },
    "tags": []
   },
   "outputs": [
    {
     "data": {
      "text/latex": [
       "$\\displaystyle 0$"
      ],
      "text/plain": [
       "0"
      ]
     },
     "execution_count": 6,
     "metadata": {},
     "output_type": "execute_result"
    }
   ],
   "source": [
    "expr = sym.cos(x) + 1\n",
    "expr.subs(x, 'pi')"
   ]
  },
  {
   "cell_type": "code",
   "execution_count": 9,
   "id": "b1fade3d-61bd-41fc-b069-5a6126385fce",
   "metadata": {
    "execution": {
     "iopub.execute_input": "2022-09-29T16:51:08.760443Z",
     "iopub.status.busy": "2022-09-29T16:51:08.759991Z",
     "iopub.status.idle": "2022-09-29T16:51:08.766688Z",
     "shell.execute_reply": "2022-09-29T16:51:08.765507Z",
     "shell.execute_reply.started": "2022-09-29T16:51:08.760413Z"
    },
    "tags": []
   },
   "outputs": [
    {
     "data": {
      "text/latex": [
       "$\\displaystyle \\cos{\\left(5 \\right)} + 1$"
      ],
      "text/plain": [
       "cos(5) + 1"
      ]
     },
     "execution_count": 9,
     "metadata": {},
     "output_type": "execute_result"
    }
   ],
   "source": [
    "expr = sym.cos(x) + 1\n",
    "expr.subs(x, 5)"
   ]
  },
  {
   "cell_type": "code",
   "execution_count": null,
   "id": "9c64d317-764a-4d4f-8805-964ef89e838e",
   "metadata": {
    "execution": {
     "iopub.execute_input": "2022-09-29T16:51:15.250480Z",
     "iopub.status.busy": "2022-09-29T16:51:15.250000Z",
     "iopub.status.idle": "2022-09-29T16:51:15.256471Z",
     "shell.execute_reply": "2022-09-29T16:51:15.255418Z",
     "shell.execute_reply.started": "2022-09-29T16:51:15.250442Z"
    },
    "tags": []
   },
   "outputs": [
    {
     "data": {
      "text/latex": [
       "$\\displaystyle 1.28366218546323$"
      ],
      "text/plain": [
       "1.28366218546323"
      ]
     },
     "execution_count": 10,
     "metadata": {},
     "output_type": "execute_result"
    }
   ],
   "source": [
    "expr = sym.cos(x) + 1\n",
    "expr.subs(x, 5).evalf()"
   ]
  },
  {
   "cell_type": "code",
   "execution_count": 12,
   "id": "7629a823-d93a-4737-95c5-0ad30b986bb3",
   "metadata": {
    "execution": {
     "iopub.execute_input": "2022-09-29T16:53:56.592120Z",
     "iopub.status.busy": "2022-09-29T16:53:56.591751Z",
     "iopub.status.idle": "2022-09-29T16:53:56.599007Z",
     "shell.execute_reply": "2022-09-29T16:53:56.597734Z",
     "shell.execute_reply.started": "2022-09-29T16:53:56.592094Z"
    },
    "tags": []
   },
   "outputs": [
    {
     "data": {
      "text/latex": [
       "$\\displaystyle 10$"
      ],
      "text/plain": [
       "10"
      ]
     },
     "execution_count": 12,
     "metadata": {},
     "output_type": "execute_result"
    }
   ],
   "source": [
    "expr = x * y + z\n",
    "expr.subs([(x, 2), (y, 3), (z, 4)])"
   ]
  },
  {
   "cell_type": "code",
   "execution_count": 16,
   "id": "8d5895bc-ffd3-4aa2-bf39-af6a155e65aa",
   "metadata": {
    "execution": {
     "iopub.execute_input": "2022-09-29T16:55:12.112084Z",
     "iopub.status.busy": "2022-09-29T16:55:12.111594Z",
     "iopub.status.idle": "2022-09-29T16:55:12.121324Z",
     "shell.execute_reply": "2022-09-29T16:55:12.120008Z",
     "shell.execute_reply.started": "2022-09-29T16:55:12.112046Z"
    },
    "tags": []
   },
   "outputs": [
    {
     "data": {
      "text/latex": [
       "$\\displaystyle 2 \\sin{\\left(x \\right)} \\cos{\\left(x \\right)}$"
      ],
      "text/plain": [
       "2*sin(x)*cos(x)"
      ]
     },
     "execution_count": 16,
     "metadata": {},
     "output_type": "execute_result"
    }
   ],
   "source": [
    "expr = sym.sin(2*x)\n",
    "sym.expand_trig(expr)"
   ]
  },
  {
   "cell_type": "code",
   "execution_count": 25,
   "id": "8846e24c-ce80-4ab8-8691-8add4c3a6e4b",
   "metadata": {
    "execution": {
     "iopub.execute_input": "2022-09-29T17:01:16.946818Z",
     "iopub.status.busy": "2022-09-29T17:01:16.946297Z",
     "iopub.status.idle": "2022-09-29T17:01:16.953739Z",
     "shell.execute_reply": "2022-09-29T17:01:16.952181Z",
     "shell.execute_reply.started": "2022-09-29T17:01:16.946777Z"
    },
    "tags": []
   },
   "outputs": [
    {
     "data": {
      "text/latex": [
       "$\\displaystyle \\int x^{2} \\log{\\left(x \\right)}\\, dx$"
      ],
      "text/plain": [
       "Integral(x**2*log(x), x)"
      ]
     },
     "execution_count": 25,
     "metadata": {},
     "output_type": "execute_result"
    }
   ],
   "source": [
    "sym.log(x)*x**2 | p(sym.Integral)"
   ]
  },
  {
   "cell_type": "code",
   "execution_count": 23,
   "id": "1971592f-7493-4805-bf05-50768fdaf2ff",
   "metadata": {
    "execution": {
     "iopub.execute_input": "2022-09-29T17:00:28.893180Z",
     "iopub.status.busy": "2022-09-29T17:00:28.892772Z",
     "iopub.status.idle": "2022-09-29T17:00:28.898487Z",
     "shell.execute_reply": "2022-09-29T17:00:28.897388Z",
     "shell.execute_reply.started": "2022-09-29T17:00:28.893148Z"
    },
    "tags": []
   },
   "outputs": [
    {
     "data": {
      "text/latex": [
       "$\\displaystyle \\Gamma\\left(x\\right)$"
      ],
      "text/plain": [
       "gamma(x)"
      ]
     },
     "execution_count": 23,
     "metadata": {},
     "output_type": "execute_result"
    }
   ],
   "source": [
    "sym.gamma(x)"
   ]
  },
  {
   "cell_type": "code",
   "execution_count": 21,
   "id": "afda98b8-71ab-4e89-b0f2-76428ae3dabb",
   "metadata": {
    "execution": {
     "iopub.execute_input": "2022-09-29T17:00:10.279652Z",
     "iopub.status.busy": "2022-09-29T17:00:10.279216Z",
     "iopub.status.idle": "2022-09-29T17:00:10.292779Z",
     "shell.execute_reply": "2022-09-29T17:00:10.291029Z",
     "shell.execute_reply.started": "2022-09-29T17:00:10.279610Z"
    },
    "tags": []
   },
   "outputs": [
    {
     "data": {
      "text/latex": [
       "$\\displaystyle \\left(x - 3\\right) \\left(x - 1\\right)$"
      ],
      "text/plain": [
       "(x - 3)*(x - 1)"
      ]
     },
     "execution_count": 21,
     "metadata": {},
     "output_type": "execute_result"
    }
   ],
   "source": [
    "sym.factor(x**2 - 4*x + 3)"
   ]
  },
  {
   "cell_type": "markdown",
   "id": "9309587e-3785-4fc9-a981-993a040e1e2e",
   "metadata": {},
   "source": [
    "# 1. Limits"
   ]
  },
  {
   "cell_type": "markdown",
   "id": "b0d03b58-fe5d-42e1-a785-d62c44c378aa",
   "metadata": {},
   "source": [
    "## 1.1. Preview"
   ]
  },
  {
   "cell_type": "code",
   "execution_count": 1,
   "id": "ced685bc-a754-45d1-b045-9d7bc94fdc88",
   "metadata": {
    "execution": {
     "iopub.execute_input": "2022-10-02T03:16:33.059243Z",
     "iopub.status.busy": "2022-10-02T03:16:33.058581Z",
     "iopub.status.idle": "2022-10-02T03:16:34.079764Z",
     "shell.execute_reply": "2022-10-02T03:16:34.078853Z",
     "shell.execute_reply.started": "2022-10-02T03:16:33.059013Z"
    },
    "tags": []
   },
   "outputs": [],
   "source": [
    "import numpy as np\n",
    "import matplotlib.pyplot as plt\n",
    "plt.style.use(['seaborn', 'seaborn-whitegrid'])\n",
    "%config InlineBackend.figure_format = 'retina'"
   ]
  },
  {
   "cell_type": "markdown",
   "id": "986ad000-808f-442e-884c-692b996a585b",
   "metadata": {},
   "source": [
    "### The velocity problem"
   ]
  },
  {
   "cell_type": "markdown",
   "id": "2efb5100-0936-46df-9d34-e0b5ac9e7c6c",
   "metadata": {},
   "source": [
    "### The area problem"
   ]
  },
  {
   "cell_type": "markdown",
   "id": "aca3f07d-7e7d-4091-8d1b-36b3433f33bb",
   "metadata": {},
   "source": [
    "# Derivatives"
   ]
  },
  {
   "cell_type": "markdown",
   "id": "0f9e3327-faa0-435c-b842-024a4bad67f9",
   "metadata": {},
   "source": [
    "# Integrals"
   ]
  },
  {
   "cell_type": "markdown",
   "id": "ba9884e0-c62b-4807-9623-1300fa2c8e48",
   "metadata": {},
   "source": [
    "# References\n",
    "- *openstax.org - [Calculus Volume 1](https://openstax.org/books/calculus-volume-1/pages/1-introduction)*\n",
    "- *openstax.org - [Calculus Volume 2](https://openstax.org/books/calculus-volume-2/pages/1-introduction)*\n",
    "- *openstax.org - [Calculus Volume 3](https://openstax.org/books/calculus-volume-3/pages/1-introduction)*\n",
    "- *rodrigopacios.github.io - [Thomas' Calculus](https://rodrigopacios.github.io/mrpacios/download/Thomas_Calculus.pdf)*"
   ]
  }
 ],
 "metadata": {
  "kernelspec": {
   "display_name": "Python 3",
   "language": "python",
   "name": "python3"
  },
  "language_info": {
   "codemirror_mode": {
    "name": "ipython",
    "version": 3
   },
   "file_extension": ".py",
   "mimetype": "text/x-python",
   "name": "python",
   "nbconvert_exporter": "python",
   "pygments_lexer": "ipython3",
   "version": "3.8.8"
  }
 },
 "nbformat": 4,
 "nbformat_minor": 5
}
