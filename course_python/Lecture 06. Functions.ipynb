{
 "cells": [
  {
   "cell_type": "markdown",
   "metadata": {
    "datalore": {
     "sheet_delimiter": false
    },
    "tags": [
     "DataChill"
    ]
   },
   "source": [
    "<img src=\"https://raw.githubusercontent.com/linhpt7/COURSE/main/datachilly_logo.png\" style=\"height:100px; margin:0 auto 20px;\">"
   ]
  },
  {
   "cell_type": "markdown",
   "metadata": {
    "tags": [
     "DataChill"
    ]
   },
   "source": [
    "# MỤC LỤC\n",
    "- [1. Hàm (functions)](#1.-Hàm-(functions))\n",
    "  * [1.1. Built-in function](#1.1.-Built-in-function)\n",
    "  * [1.2. Hàm người dùng định nghĩa](#1.2.-Hàm-người-dùng-định-nghĩa)\n",
    "  * [1.3. Sử dụng hàm làm đối số](#1.3.-Sử-dụng-hàm-làm-đối-số)\n",
    "  * [Tổng kết về hàm, phương thức, hằng số và thuộc tính](#Tổng-kết-về-hàm,-phương-thức,-hằng-số-và-thuộc-tính)\n",
    "- [Giải đáp tình huống](#Giải-đáp-tình-huống)\n"
   ]
  },
  {
   "cell_type": "markdown",
   "metadata": {
    "datalore": {
     "sheet_delimiter": false
    },
    "tags": [
     "DataChill"
    ]
   },
   "source": [
    "# 1. Hàm (functions)\n",
    "\n",
    "Python có 2 loại hàm:\n",
    "- Hàm sẵn có (built-in functions): các hàm được tạo ra sẵn và luôn khả dụng. Đọc thêm: [Documentation](https://docs.python.org/3/library/functions.html).   \n",
    "- Hàm người dùng định nghĩa (user-defined functions): hàm do chính bạn tự tạo ra để dùng cho nhiều trường hợp.\n",
    "\n",
    "![image](https://img.shields.io/badge/Data-Chilly-teal?logo=python)"
   ]
  },
  {
   "cell_type": "markdown",
   "metadata": {
    "datalore": {
     "sheet_delimiter": false
    },
    "tags": [
     "DataChill"
    ]
   },
   "source": [
    "## 1.1. Built-in function"
   ]
  },
  {
   "cell_type": "code",
   "execution_count": null,
   "metadata": {
    "datalore": {
     "sheet_delimiter": false
    },
    "tags": [
     "DataChill"
    ]
   },
   "outputs": [],
   "source": [
    "print(\"Hello World!\")"
   ]
  },
  {
   "cell_type": "markdown",
   "metadata": {
    "datalore": {
     "sheet_delimiter": false
    },
    "tags": [
     "DataChill"
    ]
   },
   "source": [
    "`print()` là một **hàm** (function) của Python. Lệnh `?` được dùng để hiển thị phần hướng dẫn của hàm đó (docstring)."
   ]
  },
  {
   "cell_type": "code",
   "execution_count": null,
   "metadata": {
    "datalore": {
     "sheet_delimiter": false
    },
    "tags": [
     "DataChill"
    ]
   },
   "outputs": [],
   "source": [
    "print?"
   ]
  },
  {
   "cell_type": "code",
   "execution_count": null,
   "metadata": {
    "datalore": {
     "sheet_delimiter": false
    },
    "tags": [
     "DataChill"
    ]
   },
   "outputs": [],
   "source": [
    "print(1, 2, 3, sep='-', end='*')"
   ]
  },
  {
   "cell_type": "markdown",
   "metadata": {
    "datalore": {
     "sheet_delimiter": false
    },
    "tags": [
     "DataChill"
    ]
   },
   "source": [
    "`sep` và `end` là các **tham số** (parameter) của hàm `print()`. Các **đối số** (argument) `'*'` và `'-'` lần lượt là các giá trị thực tế của tham số."
   ]
  },
  {
   "cell_type": "markdown",
   "metadata": {
    "datalore": {
     "sheet_delimiter": false
    },
    "tags": [
     "DataChill"
    ]
   },
   "source": [
    "**Tình huống 1:** Vì sao khi ghi tham số `end`, kết quả in không xuống dòng?"
   ]
  },
  {
   "cell_type": "code",
   "execution_count": null,
   "metadata": {
    "datalore": {
     "sheet_delimiter": false
    },
    "tags": [
     "DataChill"
    ]
   },
   "outputs": [],
   "source": [
    "print('abcd')\n",
    "print('1234')"
   ]
  },
  {
   "cell_type": "code",
   "execution_count": null,
   "metadata": {
    "datalore": {
     "sheet_delimiter": false
    },
    "tags": [
     "DataChill"
    ]
   },
   "outputs": [],
   "source": [
    "print('abc', end='d')\n",
    "print('123', end='4')"
   ]
  },
  {
   "cell_type": "markdown",
   "metadata": {
    "datalore": {
     "sheet_delimiter": false
    },
    "tags": [
     "DataChill"
    ]
   },
   "source": [
    "**Tình huống 2:** Làm thế nào để in ra nhiều dòng, chỉ dùng một hàm `print()`?"
   ]
  },
  {
   "cell_type": "markdown",
   "metadata": {
    "datalore": {
     "sheet_delimiter": false
    },
    "tags": [
     "DataChill"
    ]
   },
   "source": [
    "## 1.2. Hàm người dùng định nghĩa\n",
    "\n",
    "Bạn có thể tạo một hàm mới thông qua lệnh `def`. Đầu vào của hàm là các đối số (argument), đầu ra của hàm được đặt trọng lệnh `return`."
   ]
  },
  {
   "cell_type": "markdown",
   "metadata": {
    "datalore": {
     "sheet_delimiter": false
    },
    "tags": [
     "DataChill"
    ]
   },
   "source": [
    "**Định nghĩa một số hàm cơ bản**"
   ]
  },
  {
   "cell_type": "code",
   "execution_count": null,
   "metadata": {
    "datalore": {
     "sheet_delimiter": false
    },
    "tags": [
     "DataChill"
    ]
   },
   "outputs": [],
   "source": [
    "# hàm bình phương\n",
    "def square(base):\n",
    "    return base**2\n",
    "square(4)"
   ]
  },
  {
   "cell_type": "code",
   "execution_count": null,
   "metadata": {
    "datalore": {
     "sheet_delimiter": false
    },
    "tags": [
     "DataChill"
    ]
   },
   "outputs": [],
   "source": [
    "# hàm lập phương\n",
    "def cube(base):\n",
    "    print(base**3)\n",
    "cube(base=5)"
   ]
  },
  {
   "cell_type": "markdown",
   "metadata": {
    "datalore": {
     "sheet_delimiter": false
    },
    "tags": [
     "DataChill"
    ]
   },
   "source": [
    "**Chú ý:** Hàm `cube()` chỉ thực hiện in ra giá trị và trả về `None`, bởi hàm `cube()` được định nghĩa mà không có từ khóa `return`."
   ]
  },
  {
   "cell_type": "markdown",
   "metadata": {
    "datalore": {
     "sheet_delimiter": false
    },
    "tags": [
     "DataChill"
    ]
   },
   "source": [
    "**Giá trị mặc định của tham số**"
   ]
  },
  {
   "cell_type": "code",
   "execution_count": null,
   "metadata": {
    "datalore": {
     "sheet_delimiter": false
    },
    "tags": [
     "DataChill"
    ]
   },
   "outputs": [],
   "source": [
    "# hàm lũy thừa\n",
    "def exp(base, power=2):\n",
    "    return base**power\n",
    "exp(base=3, power=4)"
   ]
  },
  {
   "cell_type": "code",
   "execution_count": null,
   "metadata": {
    "datalore": {
     "sheet_delimiter": false
    },
    "tags": [
     "DataChill"
    ]
   },
   "outputs": [],
   "source": [
    "# hàm lũy thừa\n",
    "def exp(base, power=2):\n",
    "    return base**power\n",
    "exp(base=3)"
   ]
  },
  {
   "cell_type": "markdown",
   "metadata": {
    "datalore": {
     "sheet_delimiter": false
    },
    "tags": [
     "DataChill"
    ]
   },
   "source": [
    "Trong hàm `exp()` trên đây, tham số `power` (số mũ) nhận giá trị mặc định là 2. Giá trị mặc định này chỉ được dùng khi không truyền giá trị nào cho tham số `power`."
   ]
  },
  {
   "cell_type": "markdown",
   "metadata": {
    "datalore": {
     "sheet_delimiter": false
    },
    "tags": [
     "DataChill"
    ]
   },
   "source": [
    "**Hàm trả về nhiều giá trị**"
   ]
  },
  {
   "cell_type": "code",
   "execution_count": null,
   "metadata": {
    "datalore": {
     "sheet_delimiter": false
    },
    "tags": [
     "DataChill"
    ]
   },
   "outputs": [],
   "source": [
    "# hàm tính chu vi, diện tích hình chữ nhật\n",
    "def rectangle(width, length):\n",
    "    perimeter = 2 * (width + length)\n",
    "    area = width * length\n",
    "    return perimeter, area\n",
    "\n",
    "# unpacking the output\n",
    "perimeter, area = rectangle(10, 15)\n",
    "print(f'The perimeter is {perimeter}')\n",
    "print(f'The area is {area}')"
   ]
  },
  {
   "cell_type": "markdown",
   "metadata": {
    "datalore": {
     "sheet_delimiter": false
    },
    "tags": [
     "DataChill"
    ]
   },
   "source": [
    "**Hàm có nhiều đối số**\n",
    "\n",
    "Để hàm nhận nhiều đối số đầu vào, cần sử dụng `*args` (viết tắt của arguments). Bản chất từ khóa `*args` tạo ra một tuple có kích thước tùy thích, các phần tử của tuple này được dùng làm đối số cho hàm."
   ]
  },
  {
   "cell_type": "code",
   "execution_count": null,
   "metadata": {
    "datalore": {
     "sheet_delimiter": false
    },
    "tags": [
     "DataChill"
    ]
   },
   "outputs": [],
   "source": [
    "# hàm tính trung bình\n",
    "def mean(*args):\n",
    "    mean = sum(args) / len(args)\n",
    "    return mean\n",
    "mean(1, 3, 5, 7)"
   ]
  },
  {
   "cell_type": "markdown",
   "metadata": {
    "datalore": {
     "sheet_delimiter": false
    },
    "tags": [
     "DataChill"
    ]
   },
   "source": [
    "**Tình huống 3:** Định nghĩa hàm `f()` nhận đầu vào là các số `-7, -3, 0, 5, 8, 18, 30`. Hàm này cần có các chức năng sau:\n",
    "- Trả về bình phương nếu số đó chia hết cho 3.\n",
    "- Trả về lập phương nếu số đó chia hết cho 5.\n",
    "- Trả về chính số đó nếu nó chia hết cho cả 3 và 5.\n",
    "- Còn lại, trả về None."
   ]
  },
  {
   "cell_type": "markdown",
   "metadata": {
    "datalore": {
     "sheet_delimiter": false
    },
    "tags": [
     "DataChill"
    ]
   },
   "source": [
    "**Hàm lambda**\n",
    "\n",
    "Ngoài cách dùng từ khóa `def` còn có thể dùng từ khóa `lambda` để định nghĩa hàm. Cách này thường được dùng để tạo hàm nhanh do không phải đặt tên hàm và dễ dàng viết hàm trên cùng một dòng."
   ]
  },
  {
   "cell_type": "code",
   "execution_count": null,
   "metadata": {
    "datalore": {
     "sheet_delimiter": false
    },
    "tags": [
     "DataChill"
    ]
   },
   "outputs": [],
   "source": [
    "lambda x: x*x"
   ]
  },
  {
   "cell_type": "code",
   "execution_count": null,
   "metadata": {
    "datalore": {
     "sheet_delimiter": false
    },
    "tags": [
     "DataChill"
    ]
   },
   "outputs": [],
   "source": [
    "def square(x):\n",
    "    return x*x"
   ]
  },
  {
   "cell_type": "markdown",
   "metadata": {
    "datalore": {
     "sheet_delimiter": false
    },
    "tags": [
     "DataChill"
    ]
   },
   "source": [
    "Hai hàm trên có chức năng giống nhau, nhưng theo mặc định hàm lambda không có tên."
   ]
  },
  {
   "cell_type": "code",
   "execution_count": null,
   "metadata": {
    "datalore": {
     "sheet_delimiter": false
    },
    "tags": [
     "DataChill"
    ]
   },
   "outputs": [],
   "source": [
    "# đặt tên cho hàm lambda\n",
    "square = lambda x: x*x\n",
    "square(5)"
   ]
  },
  {
   "cell_type": "code",
   "execution_count": null,
   "metadata": {
    "datalore": {
     "sheet_delimiter": false
    },
    "tags": [
     "DataChill"
    ]
   },
   "outputs": [],
   "source": [
    "# hàm lambda với 2 đối số\n",
    "product = lambda a, b: a*b\n",
    "product(5, 6)"
   ]
  },
  {
   "cell_type": "markdown",
   "metadata": {
    "datalore": {
     "sheet_delimiter": false
    },
    "tags": [
     "DataChill"
    ]
   },
   "source": [
    "**Tình huống 4:** Sử dụng `lambda` tìm những từ bắt đầu bằng `d` trong list dưới đây:\n",
    "\n",
    "`[python, data, desk, tableau, destination, code, visual, dashboard, intelligent]`"
   ]
  },
  {
   "cell_type": "markdown",
   "metadata": {
    "datalore": {
     "sheet_delimiter": false
    },
    "tags": [
     "DataChill"
    ]
   },
   "source": [
    "## 1.3. Sử dụng hàm làm đối số\n",
    "Một số hàm như `map()`, `sorted()` and `filter()` nhận một hàm khác làm đối số."
   ]
  },
  {
   "cell_type": "markdown",
   "metadata": {
    "datalore": {
     "sheet_delimiter": false
    },
    "tags": [
     "DataChill"
    ]
   },
   "source": [
    "Hàm `sorted()` dùng hàm `len()` (trả về độ dài) làm điều kiện sắp xếp một list."
   ]
  },
  {
   "cell_type": "code",
   "execution_count": null,
   "metadata": {
    "datalore": {
     "sheet_delimiter": false
    },
    "tags": [
     "DataChill"
    ]
   },
   "outputs": [],
   "source": [
    "cats = ['tiger', 'lion', 'panther', 'cheetah', 'puma']\n",
    "sorted(cats, key=len)"
   ]
  },
  {
   "cell_type": "markdown",
   "metadata": {
    "datalore": {
     "sheet_delimiter": false
    },
    "tags": [
     "DataChill"
    ]
   },
   "source": [
    "Định nghĩa hàm `factorial()` để tính giai thừa các số trong một list."
   ]
  },
  {
   "cell_type": "code",
   "execution_count": null,
   "metadata": {
    "datalore": {
     "sheet_delimiter": false
    },
    "tags": [
     "DataChill"
    ]
   },
   "outputs": [],
   "source": [
    "def factorial(x):\n",
    "    y = 1\n",
    "    if x == 0:\n",
    "        y = 1\n",
    "    else:\n",
    "        for i in range(1, x+1):\n",
    "            y *= i\n",
    "    return y\n",
    "\n",
    "numbers = [0, 1, 2, 3, 4, 5]\n",
    "list(map(factorial, numbers))"
   ]
  },
  {
   "cell_type": "markdown",
   "metadata": {
    "datalore": {
     "sheet_delimiter": false
    },
    "tags": [
     "DataChill"
    ]
   },
   "source": [
    "Định nghĩa hàm `is_odd()` rồi dùng làm đối số cho hàm `filter()`."
   ]
  },
  {
   "cell_type": "code",
   "execution_count": null,
   "metadata": {
    "datalore": {
     "sheet_delimiter": false
    },
    "tags": [
     "DataChill"
    ]
   },
   "outputs": [],
   "source": [
    "def is_odd(x):\n",
    "    return x%2 != 0\n",
    "\n",
    "numbers = [-13, -4, -1, 1, 5, 6, 12]\n",
    "list(filter(is_odd, numbers))"
   ]
  },
  {
   "cell_type": "markdown",
   "metadata": {
    "datalore": {
     "sheet_delimiter": false
    },
    "tags": [
     "DataChill"
    ]
   },
   "source": [
    "Trong trường hợp các hàm làm đối số rất đơn giản, có thể sử dụng hàm lambda."
   ]
  },
  {
   "cell_type": "code",
   "execution_count": null,
   "metadata": {
    "datalore": {
     "sheet_delimiter": false
    },
    "tags": [
     "DataChill"
    ]
   },
   "outputs": [],
   "source": [
    "# lọc ra các số lẻ\n",
    "numbers = [-13, -4, -1, 1, 5, 6, 12]\n",
    "list(filter(lambda x: x%2 != 0, numbers))"
   ]
  },
  {
   "cell_type": "code",
   "execution_count": null,
   "metadata": {
    "datalore": {
     "sheet_delimiter": false
    },
    "tags": [
     "DataChill"
    ]
   },
   "outputs": [],
   "source": [
    "# sắp xếp theo chữ cái kết thúc\n",
    "cats = ['tiger', 'lion', 'panther', 'cheetah', 'puma']\n",
    "sorted(cats, key=lambda x: x[-1].lower())"
   ]
  },
  {
   "cell_type": "code",
   "execution_count": null,
   "metadata": {
    "datalore": {
     "sheet_delimiter": false
    },
    "tags": [
     "DataChill"
    ]
   },
   "outputs": [],
   "source": [
    "# sắp xếp theo giá trị nghịch đảo\n",
    "numbers = [-13, -4, -1, 1, 5, 6, 12]\n",
    "sorted(numbers, key=lambda x: 1/x)"
   ]
  },
  {
   "cell_type": "code",
   "execution_count": null,
   "metadata": {
    "datalore": {
     "sheet_delimiter": false
    },
    "tags": [
     "DataChill"
    ]
   },
   "outputs": [],
   "source": [
    "# tính bình phương\n",
    "numbers = [-5, 1, 4, -7, 8]\n",
    "list(map(lambda x: x*x, numbers))"
   ]
  },
  {
   "cell_type": "markdown",
   "metadata": {
    "datalore": {
     "sheet_delimiter": false
    },
    "tags": [
     "DataChill"
    ]
   },
   "source": [
    "## Tổng kết về hàm, phương thức, hằng số và thuộc tính\n",
    "\n",
    "Đối tượng  |Thuật ngữ tiếng Anh|Chức năng              |Phạm vi              |Cú pháp                            |\n",
    ":----------|:------------------|:----------------------|:--------------------|:----------------------------------|\n",
    "Hàm        |**Function**       |Thực hiện một hành động|Độc lập              |`function(parameter=argument)`     |\n",
    "Phương thức|**Method**         |Thực hiện một hành động|Gắn với một đối tượng|`object.method(parameter=argument)`|\n",
    "Hằng số    |**Constant**       |Trả về một giá trị     |Độc lập              |`constant`                         |\n",
    "Thuộc tính |**Attribute**      |Trả về một giá trị     |Gắn với một đối tượng|`object.attribute`                 |"
   ]
  },
  {
   "cell_type": "code",
   "execution_count": null,
   "metadata": {
    "datalore": {
     "sheet_delimiter": false
    },
    "tags": [
     "DataChill"
    ]
   },
   "outputs": [],
   "source": [
    "from IPython.display import Image\n",
    "Image('https://raw.githubusercontent.com/linhpt7/COURSE/main/datachilly_logo.png', height=100)"
   ]
  },
  {
   "cell_type": "markdown",
   "metadata": {
    "datalore": {
     "sheet_delimiter": false
    },
    "tags": [
     "DataChill"
    ]
   },
   "source": [
    "***\n",
    "# Giải đáp tình huống\n",
    "![image](https://img.shields.io/badge/Data-Chilly-teal?logo=python)"
   ]
  },
  {
   "cell_type": "markdown",
   "metadata": {
    "datalore": {
     "sheet_delimiter": false
    },
    "tags": [
     "DataChill"
    ]
   },
   "source": [
    "**Tình huống 1:** Vì sao khi ghi tham số `end`, kết quả in không xuống dòng?"
   ]
  },
  {
   "cell_type": "code",
   "execution_count": null,
   "metadata": {
    "datalore": {
     "sheet_delimiter": false
    },
    "tags": [
     "DataChill"
    ]
   },
   "outputs": [],
   "source": [
    "print('abcd')\n",
    "print('1234')"
   ]
  },
  {
   "cell_type": "code",
   "execution_count": null,
   "metadata": {
    "datalore": {
     "sheet_delimiter": false
    },
    "tags": [
     "DataChill"
    ]
   },
   "outputs": [],
   "source": [
    "print('abc', end='d')\n",
    "print('123', end='4')"
   ]
  },
  {
   "cell_type": "markdown",
   "metadata": {
    "datalore": {
     "sheet_delimiter": false
    },
    "tags": [
     "DataChill"
    ]
   },
   "source": [
    "Giá trị mặc định của tham số `end` là `'\\n'` mang ý nghĩa \"new line\". Khi giá trị này bị thay đổi, hàm `print()` không xuống dòng nữa."
   ]
  },
  {
   "cell_type": "markdown",
   "metadata": {
    "datalore": {
     "sheet_delimiter": false
    },
    "tags": [
     "DataChill"
    ]
   },
   "source": [
    "**Tình huống 2:** Làm thế nào để in ra nhiều dòng, chỉ dùng một hàm `print()`?"
   ]
  },
  {
   "cell_type": "code",
   "execution_count": null,
   "metadata": {
    "datalore": {
     "sheet_delimiter": false
    },
    "tags": [
     "DataChill"
    ]
   },
   "outputs": [],
   "source": [
    "print('python', 'anaconda', 'jupyter', sep='\\n')"
   ]
  },
  {
   "cell_type": "markdown",
   "metadata": {
    "datalore": {
     "sheet_delimiter": false
    },
    "tags": [
     "DataChill"
    ]
   },
   "source": [
    "**Tình huống 3:** Định nghĩa hàm `f()` nhận đầu vào là các số `-7, -3, 0, 5, 8, 18, 30`. Hàm này cần có các chức năng sau:\n",
    "- Trả về bình phương nếu số đó chia hết cho 3.\n",
    "- Trả về lập phương nếu số đó chia hết cho 5.\n",
    "- Trả về chính số đó nếu nó chia hết cho cả 3 và 5.\n",
    "- Còn lại, trả về None."
   ]
  },
  {
   "cell_type": "code",
   "execution_count": null,
   "metadata": {
    "datalore": {
     "sheet_delimiter": false
    },
    "tags": [
     "DataChill"
    ]
   },
   "outputs": [],
   "source": [
    "def f(*args):\n",
    "    y = []\n",
    "    for x in args:\n",
    "        if x%3 == 0 and x%5 == 0:\n",
    "            y.append(x)\n",
    "        elif x%3 == 0:\n",
    "            y.append(x**2)\n",
    "        elif x%5 == 0:\n",
    "            y.append(x**3)\n",
    "        else:\n",
    "            y.append(None)\n",
    "    return y\n",
    "\n",
    "f(-7, -3, 0, 5, 8, 18, 30)"
   ]
  },
  {
   "cell_type": "markdown",
   "metadata": {
    "datalore": {
     "sheet_delimiter": false
    },
    "tags": [
     "DataChill"
    ]
   },
   "source": [
    "**Tình huống 4:** Sử dụng `lambda` tìm những từ bắt đầu bằng `d` trong list dưới đây:\n",
    "\n",
    "`[python, data, desk, tableau, destination, code, visual, dashboard, intelligent]`"
   ]
  },
  {
   "cell_type": "code",
   "execution_count": null,
   "metadata": {
    "datalore": {
     "sheet_delimiter": false
    },
    "tags": [
     "DataChill"
    ]
   },
   "outputs": [],
   "source": [
    "data=['python', 'data', 'math', 'tableau', 'destination', 'code', 'visual', 'dashboard', 'deep']\n",
    "list(filter(lambda x: x.startswith('d'), data))"
   ]
  },
  {
   "cell_type": "markdown",
   "metadata": {
    "datalore": {
     "sheet_delimiter": false
    },
    "tags": [
     "DataChill"
    ]
   },
   "source": [
    "Tài liệu dành cho các bạn đã mua khoá học của DataChilly. Vui lòng không sao chép, chia sẻ dưới mọi hình thức.\n",
    "\n",
    "![image](https://img.shields.io/badge/Data-Chilly-teal?logo=python)"
   ]
  }
 ],
 "metadata": {
  "kernelspec": {
   "display_name": "Python 3",
   "language": "python",
   "name": "python3"
  },
  "language_info": {
   "codemirror_mode": {
    "name": "ipython",
    "version": 3
   },
   "file_extension": ".py",
   "mimetype": "text/x-python",
   "name": "python",
   "nbconvert_exporter": "python",
   "pygments_lexer": "ipython3",
   "version": "3.8.8"
  }
 },
 "nbformat": 4,
 "nbformat_minor": 4
}
