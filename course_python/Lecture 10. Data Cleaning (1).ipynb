{
 "cells": [
  {
   "cell_type": "markdown",
   "metadata": {
    "datalore": {
     "sheet_delimiter": false
    },
    "tags": [
     "DataChill"
    ]
   },
   "source": [
    "<img src=\"https://raw.githubusercontent.com/linhpt7/COURSE/main/datachilly_logo.png\" style=\"height:100px; margin:0 auto 20px;\">"
   ]
  },
  {
   "cell_type": "markdown",
   "metadata": {
    "tags": [
     "DataChill"
    ]
   },
   "source": [
    "# MỤC LỤC\n",
    "- [1. Làm sạch sơ bộ dữ liệu](#1.-Làm-sạch-sơ-bộ-dữ-liệu)\n",
    "  * [1.1. Xóa cột và hàng thừa](#1.1.-Xóa-cột-và-hàng-thừa)\n",
    "  * [1.2. Đổi tên cột](#1.2.-Đổi-tên-cột)\n",
    "  * [1.3. Chuẩn hóa kiểu dữ liệu](#1.3.-Chuẩn-hóa-kiểu-dữ-liệu)\n",
    "  * [1.4. Xử lý giá trị trùng lặp (duplicates)](#1.4.-Xử-lý-giá-trị-trùng-lặp-(duplicates))\n",
    "  * [1.5. Lọc dữ liệu](#1.5.-Lọc-dữ-liệu)\n",
    "  * [1.6. Ánh xạ (Mapping)](#1.6.-Ánh-xạ-(Mapping))\n",
    "    * [Ánh xạ bằng dictionary](#Ánh-xạ-bằng-dictionary)\n",
    "    * [Ánh xạ bằng function](#Ánh-xạ-bằng-function)\n",
    "- [2. Xử lý dữ liệu văn bản](#2.-Xử-lý-dữ-liệu-văn-bản)\n",
    "  * [2.1. Xử lý dấu cách và xuống dòng](#2.1.-Xử-lý-dấu-cách-và-xuống-dòng)\n",
    "  * [2.2. Sửa lỗi chính tả](#2.2.-Sửa-lỗi-chính-tả)\n",
    "  * [2.3. Xử lý số điện thoại và mã số](#2.3.-Xử-lý-số-điện-thoại-và-mã-số)\n",
    "  * [2.4. Ghép cột](#2.4.-Ghép-cột)\n",
    "- [3. Xử lý dữ liệu ngày tháng](#3.-Xử-lý-dữ-liệu-ngày-tháng)\n",
    "  * [Các ký hiệu định dạng ngày tháng](#Các-ký-hiệu-định-dạng-ngày-tháng)\n",
    "  * [3.1. Thuộc tính ngày tháng gốc](#3.1.-Thuộc-tính-ngày-tháng-gốc)\n",
    "  * [3.2. Thay đổi định dạng ngày tháng (Optional)](#3.2.-Thay-đổi-định-dạng-ngày-tháng-(Optional))\n",
    "  * [3.3. Trích xuất thuộc tính năm, quý, tháng, tuần](#3.3.-Trích-xuất-thuộc-tính-năm,-quý,-tháng,-tuần)\n",
    "  * [3.4. Trích xuất các thuộc tính chu kỳ](#3.4.-Trích-xuất-các-thuộc-tính-chu-kỳ)\n",
    "  * [3.5. Khoảng thời gian (Timedelta)](#3.5.-Khoảng-thời-gian-(Timedelta))\n",
    "    * [Chênh lệnh giữa 2 thời điểm](#Chênh-lệnh-giữa-2-thời-điểm)\n",
    "    * [Tính toán bằng timedelta](#Tính-toán-bằng-timedelta)\n",
    "- [Giải đáp tình huống](#Giải-đáp-tình-huống)\n"
   ]
  },
  {
   "cell_type": "markdown",
   "metadata": {
    "datalore": {
     "sheet_delimiter": false
    },
    "tags": [
     "DataChill"
    ]
   },
   "source": [
    "# 1. Làm sạch sơ bộ dữ liệu\n",
    "![image](https://img.shields.io/badge/Data-Chilly-teal?logo=python)"
   ]
  },
  {
   "cell_type": "markdown",
   "metadata": {
    "datalore": {
     "sheet_delimiter": false
    },
    "tags": [
     "DataChill"
    ]
   },
   "source": [
    "## 1.1. Xóa cột và hàng thừa"
   ]
  },
  {
   "cell_type": "code",
   "execution_count": null,
   "metadata": {
    "datalore": {
     "sheet_delimiter": false
    },
    "tags": [
     "DataChill"
    ]
   },
   "outputs": [],
   "source": [
    "import numpy as np\n",
    "import pandas as pd"
   ]
  },
  {
   "cell_type": "code",
   "execution_count": null,
   "metadata": {
    "datalore": {
     "sheet_delimiter": false
    },
    "tags": [
     "DataChill"
    ]
   },
   "outputs": [],
   "source": [
    "aqua = pd.DataFrame({\n",
    "    'year': pd.Series([2020, 2020, 2020, 2020, 2020, 2020]),\n",
    "    'month_name': pd.Series(['Jan', 'Jan', 'Jun', 'Jun', 'Jul', 'Jul']),\n",
    "    'month_number': pd.Series([1, 1, 6, 6, 7, 7]),\n",
    "    'commodity': pd.Series(['Fish', 'Shrimp', 'Fish', 'Shrimp', 'Fish', 'Shrimp']),\n",
    "    'profit': pd.Series([7415, 3239, 7280, 2007, 3574, 9285]),\n",
    "    'company': pd.Series(['Pandas', 'Pandas', 'Pandas', 'Pandas', 'Pandas', 'Pandas'])\n",
    "})\n",
    "aqua"
   ]
  },
  {
   "cell_type": "code",
   "execution_count": null,
   "metadata": {
    "datalore": {
     "sheet_delimiter": false
    },
    "tags": [
     "DataChill"
    ]
   },
   "outputs": [],
   "source": [
    "# xóa cột month_name và company\n",
    "aqua.drop(columns=['month_name', 'company'], index=[0, 1])"
   ]
  },
  {
   "cell_type": "code",
   "execution_count": null,
   "metadata": {
    "datalore": {
     "sheet_delimiter": false
    },
    "tags": [
     "DataChill"
    ]
   },
   "outputs": [],
   "source": [
    "# ghi đè lên dataframe gốc\n",
    "aqua = aqua.drop(columns=['month_name', 'company'], index=[0, 1])\n",
    "aqua"
   ]
  },
  {
   "cell_type": "code",
   "execution_count": null,
   "metadata": {
    "datalore": {
     "sheet_delimiter": false
    },
    "tags": [
     "DataChill"
    ]
   },
   "outputs": [],
   "source": [
    "aqua = aqua.reset_index(drop=True)\n",
    "aqua"
   ]
  },
  {
   "cell_type": "markdown",
   "metadata": {
    "datalore": {
     "sheet_delimiter": false
    },
    "tags": [
     "DataChill"
    ]
   },
   "source": [
    "## 1.2. Đổi tên cột\n",
    "Tên cột nên đổi về dạng không chứa dấu cách và không trùng nhau."
   ]
  },
  {
   "cell_type": "code",
   "execution_count": null,
   "metadata": {
    "datalore": {
     "sheet_delimiter": false
    },
    "tags": [
     "DataChill"
    ]
   },
   "outputs": [],
   "source": [
    "import numpy as np\n",
    "import pandas as pd"
   ]
  },
  {
   "cell_type": "code",
   "execution_count": null,
   "metadata": {
    "datalore": {
     "sheet_delimiter": false
    },
    "tags": [
     "DataChill"
    ]
   },
   "outputs": [],
   "source": [
    "aqua = pd.DataFrame({\n",
    "    'Year': pd.Series([2020, 2020, 2020, 2020, 2020, 2020]),\n",
    "    'Month Name': pd.Series(['Jan', 'Jan', 'Jun', 'Jun', 'Jul', 'Jul']),\n",
    "    'Month Number': pd.Series([1, 1, 6, 6, 7, 7]),\n",
    "    'Product Name': pd.Series(['Fish', 'Shrimp', 'Fish', 'Shrimp', 'Fish', 'Shrimp']),\n",
    "    'Profit': pd.Series([7415, 3239, 7280, 2007, 3574, 9285]),\n",
    "    'Company Name': pd.Series(['Pandas', 'Pandas', 'Pandas', 'Pandas', 'Pandas', 'Pandas'])\n",
    "})\n",
    "aqua"
   ]
  },
  {
   "cell_type": "code",
   "execution_count": null,
   "metadata": {
    "datalore": {
     "sheet_delimiter": false
    },
    "tags": [
     "DataChill"
    ]
   },
   "outputs": [],
   "source": [
    "# lấy ra danh sách tên cột\n",
    "aqua.columns"
   ]
  },
  {
   "cell_type": "markdown",
   "metadata": {
    "datalore": {
     "sheet_delimiter": false
    },
    "tags": [
     "DataChill"
    ]
   },
   "source": [
    "Sử dụng `.str` để truy cập các phương thức dành cho string "
   ]
  },
  {
   "cell_type": "code",
   "execution_count": null,
   "metadata": {
    "datalore": {
     "sheet_delimiter": false
    },
    "tags": [
     "DataChill"
    ]
   },
   "outputs": [],
   "source": [
    "# chuyển hết về chữ viết thường\n",
    "aqua.columns.str.lower()"
   ]
  },
  {
   "cell_type": "code",
   "execution_count": null,
   "metadata": {
    "datalore": {
     "sheet_delimiter": false
    },
    "tags": [
     "DataChill"
    ]
   },
   "outputs": [],
   "source": [
    "# thay dấu cách bằng dấu gạch dưới\n",
    "aqua.columns.str.lower().str.replace(' ', '_')"
   ]
  },
  {
   "cell_type": "code",
   "execution_count": null,
   "metadata": {
    "datalore": {
     "sheet_delimiter": false
    },
    "tags": [
     "DataChill"
    ]
   },
   "outputs": [],
   "source": [
    "# ghi đè lên tên cột cũ\n",
    "aqua.columns = aqua.columns.str.lower().str.replace(' ', '_')"
   ]
  },
  {
   "cell_type": "code",
   "execution_count": null,
   "metadata": {
    "datalore": {
     "sheet_delimiter": false
    },
    "tags": [
     "DataChill"
    ]
   },
   "outputs": [],
   "source": [
    "aqua"
   ]
  },
  {
   "cell_type": "code",
   "execution_count": null,
   "metadata": {
    "datalore": {
     "sheet_delimiter": false
    },
    "tags": [
     "DataChill"
    ]
   },
   "outputs": [],
   "source": [
    "# dùng phương thức rename để đổi tên các cột cụ thể\n",
    "aqua = aqua.rename(columns={\n",
    "    'product_name': 'commodity',\n",
    "    'company_name': 'company'\n",
    "})"
   ]
  },
  {
   "cell_type": "code",
   "execution_count": null,
   "metadata": {
    "datalore": {
     "sheet_delimiter": false
    },
    "tags": [
     "DataChill"
    ]
   },
   "outputs": [],
   "source": [
    "aqua"
   ]
  },
  {
   "cell_type": "markdown",
   "metadata": {
    "datalore": {
     "sheet_delimiter": false
    },
    "tags": [
     "DataChill"
    ]
   },
   "source": [
    "## 1.3. Chuẩn hóa kiểu dữ liệu\n",
    "Mỗi cột của dataframe cần được chọn đúng kiểu dữ liệu để hoạt động tốt nhất."
   ]
  },
  {
   "cell_type": "code",
   "execution_count": null,
   "metadata": {
    "datalore": {
     "sheet_delimiter": false
    },
    "tags": [
     "DataChill"
    ]
   },
   "outputs": [],
   "source": [
    "import numpy as np\n",
    "import pandas as pd"
   ]
  },
  {
   "cell_type": "code",
   "execution_count": null,
   "metadata": {
    "datalore": {
     "sheet_delimiter": false
    },
    "tags": [
     "DataChill"
    ]
   },
   "outputs": [],
   "source": [
    "athletes = pd.DataFrame({\n",
    "    'year': [2019, 2019, 2020., 2020, 2020, 2020],\n",
    "    'date': [20191103, 20190812, 20200125, 20200129, 20200412, 20200220],\n",
    "    'medal': ['Gold', 'Bronze', 'Silver', 'Bronze', 'Silver', 'Silver'],\n",
    "    'name': ['Wayne', 'Robert', 'Ashley', 'Jamie', 'Jessie', 'Sergio'],\n",
    "    'left_handed': [1, 0, 0, 0, 1, 0]\n",
    "})\n",
    "athletes"
   ]
  },
  {
   "cell_type": "code",
   "execution_count": null,
   "metadata": {
    "datalore": {
     "sheet_delimiter": false
    },
    "tags": [
     "DataChill"
    ]
   },
   "outputs": [],
   "source": [
    "athletes.dtypes"
   ]
  },
  {
   "cell_type": "code",
   "execution_count": null,
   "metadata": {
    "datalore": {
     "sheet_delimiter": false
    },
    "tags": [
     "DataChill"
    ]
   },
   "outputs": [],
   "source": [
    "# đổi kiểu dữ liệu 2 cột bằng cách truyền 1 dictionary vào phương thức astype\n",
    "athletes = athletes.astype({\n",
    "    'year': int,\n",
    "    'left_handed': bool\n",
    "})\n",
    "athletes"
   ]
  },
  {
   "cell_type": "code",
   "execution_count": null,
   "metadata": {
    "datalore": {
     "sheet_delimiter": false
    },
    "tags": [
     "DataChill"
    ]
   },
   "outputs": [],
   "source": [
    "pd.to_datetime(athletes.date, format='%Y%m%d')"
   ]
  },
  {
   "cell_type": "code",
   "execution_count": null,
   "metadata": {
    "datalore": {
     "sheet_delimiter": false
    },
    "tags": [
     "DataChill"
    ]
   },
   "outputs": [],
   "source": [
    "athletes.date = pd.to_datetime(athletes.date, format='%Y%m%d')\n",
    "athletes"
   ]
  },
  {
   "cell_type": "code",
   "execution_count": null,
   "metadata": {
    "datalore": {
     "sheet_delimiter": false
    },
    "tags": [
     "DataChill"
    ]
   },
   "outputs": [],
   "source": [
    "athletes.sort_values(by='medal')"
   ]
  },
  {
   "cell_type": "markdown",
   "metadata": {
    "datalore": {
     "sheet_delimiter": false
    },
    "tags": [
     "DataChill"
    ]
   },
   "source": [
    "## 1.4. Xử lý giá trị trùng lặp (duplicates)\n",
    "Khi xuất hiện nhiều giá trị trùng lặp: hoặc chỉ có 1 giá trị đúng, hoặc tất cả đều sai."
   ]
  },
  {
   "cell_type": "code",
   "execution_count": null,
   "metadata": {
    "datalore": {
     "sheet_delimiter": false
    },
    "tags": [
     "DataChill"
    ]
   },
   "outputs": [],
   "source": [
    "import numpy as np\n",
    "import pandas as pd"
   ]
  },
  {
   "cell_type": "code",
   "execution_count": null,
   "metadata": {
    "datalore": {
     "sheet_delimiter": false
    },
    "tags": [
     "DataChill"
    ]
   },
   "outputs": [],
   "source": [
    "report = pd.DataFrame({\n",
    "    'year': pd.Series([2019, 2019, 2020, 2020, 2020, 2020]),\n",
    "    'company': pd.Series(['Pandas', 'Numpy', 'Pandas', 'Numpy', 'Numpy', 'Pandas']),\n",
    "    'sales': pd.Series([5466, 8558, 8435, 7280, 9285, 6650]),\n",
    "    'profit': pd.Series([1546, 3546, 3574, 3352, 4678, 2007])\n",
    "})\n",
    "report"
   ]
  },
  {
   "cell_type": "code",
   "execution_count": null,
   "metadata": {
    "datalore": {
     "sheet_delimiter": false
    },
    "tags": [
     "DataChill"
    ]
   },
   "outputs": [],
   "source": [
    "# xóa các bản ghi trùng lặp dựa vào cột company\n",
    "report.drop_duplicates(subset=['company'])"
   ]
  },
  {
   "cell_type": "markdown",
   "metadata": {
    "datalore": {
     "sheet_delimiter": false
    },
    "tags": [
     "DataChill"
    ]
   },
   "source": [
    "Tùy vào nguyên nhân gây ra hiện tượng trùng lặp, bạn cần có các phương án xử lý khác nhau:\n",
    "1. Liệt kê tất cả bản ghi trùng lặp và chọn xóa thủ công để giữ lại bản ghi đúng\n",
    "2. Căn cứ vào dấu hiệu nhận biết, chẳng hạn giữ lại bản ghi có thời gian gần nhất hay có giá trị lớn nhất\n",
    "3. Tính tổng hay trung bình tất cả bản ghi trùng lặp"
   ]
  },
  {
   "cell_type": "markdown",
   "metadata": {
    "datalore": {
     "sheet_delimiter": false
    },
    "tags": [
     "DataChill"
    ]
   },
   "source": [
    "**Tình huống 1:** Dữ liệu `report` chứa các bản ghi trùng lặp trong 2 cột `year` và `company`. Hãy sử dụng các phương thức của dataframe để thực hiện 3 phương án sau:\n",
    "1. Liệt kê tất cả bản ghi trùng lặp và chọn xóa thủ công, sử dụng phương thức `duplicated()`\n",
    "2. Giữ lại bản ghi có giá trị sales lớn nhất, sử dụng phương thức `drop_duplicates()`\n",
    "3. Tính tổng tất cả bản ghi trùng lặp, sử dụng phương thức `groupby()`"
   ]
  },
  {
   "cell_type": "markdown",
   "metadata": {
    "datalore": {
     "sheet_delimiter": false
    },
    "tags": [
     "DataChill"
    ]
   },
   "source": [
    "## 1.5. Lọc dữ liệu"
   ]
  },
  {
   "cell_type": "code",
   "execution_count": null,
   "metadata": {
    "datalore": {
     "sheet_delimiter": false
    },
    "tags": [
     "DataChill"
    ]
   },
   "outputs": [],
   "source": [
    "import numpy as np\n",
    "import pandas as pd"
   ]
  },
  {
   "cell_type": "code",
   "execution_count": null,
   "metadata": {
    "datalore": {
     "sheet_delimiter": false
    },
    "tags": [
     "DataChill"
    ]
   },
   "outputs": [],
   "source": [
    "ds = pd.DataFrame({\n",
    "    'worker': [\n",
    "        'Wayne', 'Robert', 'Ashley',\n",
    "        'Jamie', 'Jessie', 'Sergio',\n",
    "        'Harry', 'Johnny', 'Aaron'\n",
    "    ],\n",
    "    'age': [8, 37, 25, 26, 80, 30, 20, 31, 28],\n",
    "    'job': [\n",
    "        'Student', 'Data Scientist', 'DATA Analyst',\n",
    "        'data Engineer', 'Retired', 'Business Intelligence',\n",
    "        'Student', 'Data Analyst', 'AI Engineer'\n",
    "    ]\n",
    "})\n",
    "ds"
   ]
  },
  {
   "cell_type": "code",
   "execution_count": null,
   "metadata": {
    "datalore": {
     "sheet_delimiter": false
    },
    "tags": [
     "DataChill"
    ]
   },
   "outputs": [],
   "source": [
    "# lọc giá trị age trong khoảng từ 15-60\n",
    "ds[(ds.age >= 15) & (ds.age <= 60)]"
   ]
  },
  {
   "cell_type": "code",
   "execution_count": null,
   "metadata": {
    "datalore": {
     "sheet_delimiter": false
    },
    "tags": [
     "DataChill"
    ]
   },
   "outputs": [],
   "source": [
    "# lọc các giá trị trong cột job có chứa từ data\n",
    "ds[ds.job.str.lower().str.contains('data')]"
   ]
  },
  {
   "cell_type": "markdown",
   "metadata": {
    "datalore": {
     "sheet_delimiter": false
    },
    "tags": [
     "DataChill"
    ]
   },
   "source": [
    "**Tình huống 2:** Trong dữ liệu `ds` hãy lọc ra những người mà nghề nghiệp không chứa \"data\" và từ 18 đến 50 tuổi."
   ]
  },
  {
   "cell_type": "markdown",
   "metadata": {
    "datalore": {
     "sheet_delimiter": false
    },
    "tags": [
     "DataChill"
    ]
   },
   "source": [
    "## 1.6. Ánh xạ (Mapping)\n",
    "\n",
    "Sử dụng phương thức `map()` của series"
   ]
  },
  {
   "cell_type": "code",
   "execution_count": null,
   "metadata": {
    "datalore": {
     "sheet_delimiter": false
    },
    "tags": [
     "DataChill"
    ]
   },
   "outputs": [],
   "source": [
    "import numpy as np\n",
    "import pandas as pd"
   ]
  },
  {
   "cell_type": "code",
   "execution_count": null,
   "metadata": {
    "datalore": {
     "sheet_delimiter": false
    },
    "tags": [
     "DataChill"
    ]
   },
   "outputs": [],
   "source": [
    "students = pd.DataFrame({\n",
    "    'student_id': ['010001', '030001', '070001', '080001', '110001', '120001'],\n",
    "    'grade': [1, 3, 7, 8, 11, 12],\n",
    "    'gender': ['Male', 'Female', 'female', 'Female', 'male', 'female']\n",
    "})\n",
    "students"
   ]
  },
  {
   "cell_type": "markdown",
   "metadata": {
    "datalore": {
     "sheet_delimiter": false
    },
    "tags": [
     "DataChill"
    ]
   },
   "source": [
    "#### Ánh xạ bằng dictionary"
   ]
  },
  {
   "cell_type": "code",
   "execution_count": null,
   "metadata": {
    "datalore": {
     "sheet_delimiter": false
    },
    "tags": [
     "DataChill"
    ]
   },
   "outputs": [],
   "source": [
    "# map giá trị female ứng với 0 và male ứng với 1\n",
    "gender_map = {'female': 0, 'male': 1}"
   ]
  },
  {
   "cell_type": "code",
   "execution_count": null,
   "metadata": {
    "datalore": {
     "sheet_delimiter": false
    },
    "tags": [
     "DataChill"
    ]
   },
   "outputs": [],
   "source": [
    "students['is_male'] = students.gender.str.lower().map(gender_map)\n",
    "students"
   ]
  },
  {
   "cell_type": "markdown",
   "metadata": {
    "datalore": {
     "sheet_delimiter": false
    },
    "tags": [
     "DataChill"
    ]
   },
   "source": [
    "#### Ánh xạ bằng function"
   ]
  },
  {
   "cell_type": "code",
   "execution_count": null,
   "metadata": {
    "datalore": {
     "sheet_delimiter": false
    },
    "tags": [
     "DataChill"
    ]
   },
   "outputs": [],
   "source": [
    "def stage_map(grade):\n",
    "    if grade in range(1, 6):\n",
    "        stage = 'Primary'\n",
    "    if grade in range(6, 10):\n",
    "        stage = 'Secondary'\n",
    "    if grade in range(10, 13):\n",
    "        stage = 'High'\n",
    "    return stage"
   ]
  },
  {
   "cell_type": "code",
   "execution_count": null,
   "metadata": {
    "datalore": {
     "sheet_delimiter": false
    },
    "tags": [
     "DataChill"
    ]
   },
   "outputs": [],
   "source": [
    "students['stage'] = students.grade.map(stage_map)\n",
    "students"
   ]
  },
  {
   "cell_type": "markdown",
   "metadata": {
    "datalore": {
     "sheet_delimiter": false
    },
    "tags": [
     "DataChill"
    ]
   },
   "source": [
    "# 2. Xử lý dữ liệu văn bản\n",
    "\n",
    "Tiếp tục sử dụng các phương thức trong accessor `.str` để xử lí các lỗi có trong cột string\n",
    "\n",
    "![image](https://img.shields.io/badge/Data-Chilly-teal?logo=python)"
   ]
  },
  {
   "cell_type": "markdown",
   "metadata": {
    "datalore": {
     "sheet_delimiter": false
    },
    "tags": [
     "DataChill"
    ]
   },
   "source": [
    "## 2.1. Xử lý dấu cách và xuống dòng\n",
    "Do thói quen người nhập, các cột văn bản (text) có thể:\n",
    "- Có dấu cách ở đầu hoặc cuối\n",
    "- Dùng nhiều dấu cách giữa các từ\n",
    "- Xuống dòng"
   ]
  },
  {
   "cell_type": "code",
   "execution_count": null,
   "metadata": {
    "datalore": {
     "sheet_delimiter": false
    },
    "tags": [
     "DataChill"
    ]
   },
   "outputs": [],
   "source": [
    "import numpy as np\n",
    "import pandas as pd"
   ]
  },
  {
   "cell_type": "code",
   "execution_count": null,
   "metadata": {
    "datalore": {
     "sheet_delimiter": false
    },
    "tags": [
     "DataChill"
    ]
   },
   "outputs": [],
   "source": [
    "trade = pd.DataFrame({\n",
    "    'year': pd.Series([2017, 2018, 2019, 2020]),\n",
    "    'country': pd.Series([\n",
    "        'United\\nKingdom_',\n",
    "        '___  United Kingdom',\n",
    "        '_United     Kingdom',\n",
    "        'United Kingdom ____']),\n",
    "    'export': pd.Series([5466, 8558, 8435, 8435]),\n",
    "    'import': pd.Series([1546, 3546, 2007, 3574])\n",
    "})\n",
    "trade"
   ]
  },
  {
   "cell_type": "code",
   "execution_count": null,
   "metadata": {
    "datalore": {
     "sheet_delimiter": false
    },
    "tags": [
     "DataChill"
    ]
   },
   "outputs": [],
   "source": [
    "# show các giá trị unique trong cột country\n",
    "trade.country.unique()"
   ]
  },
  {
   "cell_type": "code",
   "execution_count": null,
   "metadata": {
    "datalore": {
     "sheet_delimiter": false
    },
    "tags": [
     "DataChill"
    ]
   },
   "outputs": [],
   "source": [
    "# loại bỏ dấu _ bằng phương thức strip\n",
    "trade.country = trade.country.str.strip('_')\n",
    "trade.country.unique()"
   ]
  },
  {
   "cell_type": "code",
   "execution_count": null,
   "metadata": {
    "datalore": {
     "sheet_delimiter": false
    },
    "tags": [
     "DataChill"
    ]
   },
   "outputs": [],
   "source": [
    "# dùng split và join để loại bỏ các dấu cách bị thừa\n",
    "trade.country = trade.country.str.split().str.join(' ')\n",
    "trade.country.unique()"
   ]
  },
  {
   "cell_type": "markdown",
   "metadata": {
    "datalore": {
     "sheet_delimiter": false
    },
    "tags": [
     "DataChill"
    ]
   },
   "source": [
    "## 2.2. Sửa lỗi chính tả"
   ]
  },
  {
   "cell_type": "code",
   "execution_count": null,
   "metadata": {
    "datalore": {
     "sheet_delimiter": false
    },
    "tags": [
     "DataChill"
    ]
   },
   "outputs": [],
   "source": [
    "import numpy as np\n",
    "import pandas as pd"
   ]
  },
  {
   "cell_type": "code",
   "execution_count": null,
   "metadata": {
    "datalore": {
     "sheet_delimiter": false
    },
    "tags": [
     "DataChill"
    ]
   },
   "outputs": [],
   "source": [
    "shrimp = pd.DataFrame({\n",
    "    'date': ['2020-01-01', '2020-01-02', '2020-01-03'],\n",
    "    'commodity': ['Shrimp, frozen, chem free', 'Shrimp, frz, chemical-free', 'Prawn, frz, chemical-free'],\n",
    "    'price': [10, 13, 14],\n",
    "    'unit': ['usd/kg', 'USD/KG', 'USD/kg']\n",
    "})\n",
    "shrimp"
   ]
  },
  {
   "cell_type": "code",
   "execution_count": null,
   "metadata": {
    "datalore": {
     "sheet_delimiter": false
    },
    "tags": [
     "DataChill"
    ]
   },
   "outputs": [],
   "source": [
    "# sử dụng phương thức replace để thay thế các từ bị sai chính tả\n",
    "shrimp.commodity = shrimp.commodity.str.replace('Prawn', 'Shrimp')\n",
    "shrimp.commodity = shrimp.commodity.str.replace('frz', 'frozen')\n",
    "shrimp.commodity = shrimp.commodity.str.replace('chem free', 'chemical-free')\n",
    "shrimp.unit = shrimp.unit.str.replace('usd', 'USD')\n",
    "shrimp.unit = shrimp.unit.str.replace('KG', 'kg')"
   ]
  },
  {
   "cell_type": "code",
   "execution_count": null,
   "metadata": {
    "datalore": {
     "sheet_delimiter": false
    },
    "tags": [
     "DataChill"
    ]
   },
   "outputs": [],
   "source": [
    "shrimp"
   ]
  },
  {
   "cell_type": "markdown",
   "metadata": {
    "datalore": {
     "sheet_delimiter": false
    },
    "tags": [
     "DataChill"
    ]
   },
   "source": [
    "## 2.3. Xử lý số điện thoại và mã số"
   ]
  },
  {
   "cell_type": "code",
   "execution_count": null,
   "metadata": {
    "datalore": {
     "sheet_delimiter": false
    },
    "tags": [
     "DataChill"
    ]
   },
   "outputs": [],
   "source": [
    "import numpy as np\n",
    "import pandas as pd"
   ]
  },
  {
   "cell_type": "code",
   "execution_count": null,
   "metadata": {
    "datalore": {
     "sheet_delimiter": false
    },
    "tags": [
     "DataChill"
    ]
   },
   "outputs": [],
   "source": [
    "info = pd.DataFrame({\n",
    "    'customer_id': [3, 423, 5464],\n",
    "    'phone': [363334444, 913334444, 123334444],\n",
    "    'name': ['Jack', 'James', 'Gabriel'],\n",
    "    'information': ['England Male', 'Colombia Male', 'France Female']\n",
    "})\n",
    "info"
   ]
  },
  {
   "cell_type": "code",
   "execution_count": null,
   "metadata": {
    "datalore": {
     "sheet_delimiter": false
    },
    "tags": [
     "DataChill"
    ]
   },
   "outputs": [],
   "source": [
    "info = info.astype(str)"
   ]
  },
  {
   "cell_type": "code",
   "execution_count": null,
   "metadata": {
    "datalore": {
     "sheet_delimiter": false
    },
    "tags": [
     "DataChill"
    ]
   },
   "outputs": [],
   "source": [
    "# sử dụng phương thức pad để điền thêm số 0 với những trường hợp thiếu\n",
    "info.customer_id = info.customer_id.str.pad(width=4, fillchar='0')"
   ]
  },
  {
   "cell_type": "code",
   "execution_count": null,
   "metadata": {
    "datalore": {
     "sheet_delimiter": false
    },
    "tags": [
     "DataChill"
    ]
   },
   "outputs": [],
   "source": [
    "info"
   ]
  },
  {
   "cell_type": "markdown",
   "metadata": {
    "datalore": {
     "sheet_delimiter": false
    },
    "tags": [
     "DataChill"
    ]
   },
   "source": [
    "**Tình huống 3:** Thêm số \"0\" vào đầu cột số điện thoại của dữ liệu `info`."
   ]
  },
  {
   "cell_type": "markdown",
   "metadata": {
    "datalore": {
     "sheet_delimiter": false
    },
    "tags": [
     "DataChill"
    ]
   },
   "source": [
    "## 2.4. Ghép cột"
   ]
  },
  {
   "cell_type": "code",
   "execution_count": null,
   "metadata": {
    "datalore": {
     "sheet_delimiter": false
    },
    "tags": [
     "DataChill"
    ]
   },
   "outputs": [],
   "source": [
    "football = pd.DataFrame({\n",
    "    'first_name': ['Wayne', 'Cristiano', 'Lionel'],\n",
    "    'last_name': ['Rooney', 'Ronaldo', 'Messi'],\n",
    "    'position': ['Second Striker', 'Left Winger', 'Right Winger']\n",
    "})\n",
    "football"
   ]
  },
  {
   "cell_type": "code",
   "execution_count": null,
   "metadata": {
    "datalore": {
     "sheet_delimiter": false
    },
    "tags": [
     "DataChill"
    ]
   },
   "outputs": [],
   "source": [
    "# ghép 2 cột thành 1 cột với phép cộng string\n",
    "football['player'] = football.first_name + ' ' + football.last_name"
   ]
  },
  {
   "cell_type": "code",
   "execution_count": null,
   "metadata": {
    "datalore": {
     "sheet_delimiter": false
    },
    "tags": [
     "DataChill"
    ]
   },
   "outputs": [],
   "source": [
    "football"
   ]
  },
  {
   "cell_type": "markdown",
   "metadata": {
    "datalore": {
     "sheet_delimiter": false
    },
    "tags": [
     "DataChill"
    ]
   },
   "source": [
    "**Tình huống 4:** Ghép 2 cột `prefix` và `suffix` để tạo ra cột `id` cho dữ liệu dưới đây. Chú ý cột `suffix` có 4 chữ số, nếu có ít hơn cần được lấp đầy bằng ký tự 0."
   ]
  },
  {
   "cell_type": "code",
   "execution_count": null,
   "metadata": {
    "datalore": {
     "sheet_delimiter": false
    },
    "tags": [
     "DataChill"
    ]
   },
   "outputs": [],
   "source": [
    "customer_id = pd.DataFrame({\n",
    "    'prefix': ['VN', 'UK', 'US', 'VN', 'JP', 'RU'],\n",
    "    'suffix': [4686, 3336, 553, 6564, 864, 63]\n",
    "})"
   ]
  },
  {
   "cell_type": "markdown",
   "metadata": {
    "datalore": {
     "sheet_delimiter": false
    },
    "tags": [
     "DataChill"
    ]
   },
   "source": [
    "# 3. Xử lý dữ liệu ngày tháng\n",
    "\n",
    "![image](https://img.shields.io/badge/Data-Chilly-teal?logo=python)"
   ]
  },
  {
   "cell_type": "markdown",
   "metadata": {
    "datalore": {
     "sheet_delimiter": false
    },
    "tags": [
     "DataChill"
    ]
   },
   "source": [
    "#### Các ký hiệu định dạng ngày tháng\n",
    "Ký hiệu|Ý nghĩa                         |Ví dụ                               |\n",
    ":------|:-------------------------------|:-----------------------------------|\n",
    "`%a`   |Tên ngày trong tuần, viết tắt   |Mon, Tue, Wed,...                   |\n",
    "`%A`   |Tên ngày trong tuần, viết đầy đủ|Monday, Tuesday, Wednesday,...      |\n",
    "`%b`   |Tên tháng, viết tắt             |Jan, Feb, Mar,...                   |\n",
    "`%B`   |Tên tháng, viết đầy đủ          |January, February, March,...        |\n",
    "`%d`   |Ngày trong tháng, 2 chữ số      |01, 02, 03,..., 31                  |\n",
    "`%m`   |Tháng, 2 chữ số                 |01, 02, 03,..., 12                  |\n",
    "`%y`   |Năm, 2 chữ số                   |00, 01, 02,..., 99                  |\n",
    "`%Y`   |Năm, 4 chữ số                   |0001, 0002,..., 2019, 2020,..., 9999|\n",
    "`%W`   |Tuần trong năm, 2 chữ số        |00, 01, 02,..., 53                  |\n",
    "`%H`   |Giờ, hệ 24h, 2 chữ số           |00, 01, 02,..., 23                  |\n",
    "`%I`   |Giờ, hệ 12h, 2 chữ số           |01, 02, 03,..., 12                  |\n",
    "`%p`   |Buổi (sáng/chiều)               |AM, PM                              |\n",
    "`%M`   |Phút, 2 chữ số                  |00, 01, 02,..., 59                  |\n",
    "`%S`   |Giây, 2 chữ số                  |00, 01, 02,..., 59                  |"
   ]
  },
  {
   "cell_type": "markdown",
   "metadata": {
    "datalore": {
     "sheet_delimiter": false
    },
    "tags": [
     "DataChill"
    ]
   },
   "source": [
    "## 3.1. Thuộc tính ngày tháng gốc\n",
    "Cột ngày tháng gốc có kiểu dữ liệu `datetime64` với định dạng `YYYY-MM-DD`. Đây là rất thông tin rất quan trọng, được dùng để tạo ra các cột khác như: năm, quý, tháng, tuần, ngày,..."
   ]
  },
  {
   "cell_type": "code",
   "execution_count": null,
   "metadata": {
    "datalore": {
     "sheet_delimiter": false
    },
    "tags": [
     "DataChill"
    ]
   },
   "outputs": [],
   "source": [
    "import numpy as np\n",
    "import pandas as pd"
   ]
  },
  {
   "cell_type": "code",
   "execution_count": null,
   "metadata": {
    "datalore": {
     "sheet_delimiter": false
    },
    "tags": [
     "DataChill"
    ]
   },
   "outputs": [],
   "source": [
    "sales = pd.DataFrame({\n",
    "    'date': ['2020.01.01', '2020.01.02', '2020.01.03'],\n",
    "    'profit': [134, 185, 206]\n",
    "})\n",
    "sales"
   ]
  },
  {
   "cell_type": "code",
   "execution_count": null,
   "metadata": {
    "datalore": {
     "sheet_delimiter": false
    },
    "tags": [
     "DataChill"
    ]
   },
   "outputs": [],
   "source": [
    "# chuyển cột date về đúng định dạng với format mặc định yyyy-mm-dd\n",
    "sales.date = pd.to_datetime(sales.date)\n",
    "sales"
   ]
  },
  {
   "cell_type": "code",
   "execution_count": null,
   "metadata": {
    "datalore": {
     "sheet_delimiter": false
    },
    "tags": [
     "DataChill"
    ]
   },
   "outputs": [],
   "source": [
    "# truyền thêm format trong hàm to_datetime\n",
    "sales = pd.DataFrame({\n",
    "    'date': ['2020.01.01', '2020.01.02', '2020.01.03'],\n",
    "    'profit': [134, 185, 206]\n",
    "})\n",
    "sales.date = pd.to_datetime(sales.date, format='%Y.%d.%m') # chỉ rõ vị trí năm, tháng, ngày\n",
    "sales"
   ]
  },
  {
   "cell_type": "code",
   "execution_count": null,
   "metadata": {
    "datalore": {
     "sheet_delimiter": false
    },
    "tags": [
     "DataChill"
    ]
   },
   "outputs": [],
   "source": [
    "sales = pd.DataFrame({\n",
    "    'day': [1, 2, 3],\n",
    "    'month': [1, 1, 1],\n",
    "    'year': [2020, 2020, 2020],\n",
    "    'profit': [134, 185, 206]\n",
    "})\n",
    "sales['date'] = pd.to_datetime(sales[['day', 'month', 'year']]) # gộp 3 cột day, month, year thành 1 cột date\n",
    "sales[['date', 'profit']]"
   ]
  },
  {
   "cell_type": "markdown",
   "metadata": {
    "datalore": {
     "sheet_delimiter": false
    },
    "tags": [
     "DataChill"
    ]
   },
   "source": [
    "## 3.2. Thay đổi định dạng ngày tháng (Optional)\n",
    "\n",
    "Tương tự accessor `.str`, trong datetime chúng ta sử dụng `.dt` để truy cập các phương thức đối với datetime. "
   ]
  },
  {
   "cell_type": "code",
   "execution_count": null,
   "metadata": {
    "datalore": {
     "sheet_delimiter": false
    },
    "tags": [
     "DataChill"
    ]
   },
   "outputs": [],
   "source": [
    "import numpy as np\n",
    "import pandas as pd"
   ]
  },
  {
   "cell_type": "code",
   "execution_count": null,
   "metadata": {
    "datalore": {
     "sheet_delimiter": false
    },
    "tags": [
     "DataChill"
    ]
   },
   "outputs": [],
   "source": [
    "sales = pd.DataFrame({\n",
    "    'date': pd.date_range(start='2020-01-01', end='2020-01-03', freq='D'),\n",
    "    'profit': [134, 185, 206]\n",
    "})\n",
    "sales "
   ]
  },
  {
   "cell_type": "code",
   "execution_count": null,
   "metadata": {
    "datalore": {
     "sheet_delimiter": false
    },
    "tags": [
     "DataChill"
    ]
   },
   "outputs": [],
   "source": [
    "sales['date_print'] = sales.date.dt.strftime('%b %d, %Y')\n",
    "sales"
   ]
  },
  {
   "cell_type": "code",
   "execution_count": null,
   "metadata": {
    "datalore": {
     "sheet_delimiter": false
    },
    "tags": [
     "DataChill"
    ]
   },
   "outputs": [],
   "source": [
    "sales.dtypes"
   ]
  },
  {
   "cell_type": "markdown",
   "metadata": {
    "datalore": {
     "sheet_delimiter": false
    },
    "tags": [
     "DataChill"
    ]
   },
   "source": [
    "**Chú ý:** Cột ngày tháng gốc `date` được dùng để tính toán, cột `date_print` chỉ mang ý nghĩa hiển thị."
   ]
  },
  {
   "cell_type": "markdown",
   "metadata": {
    "datalore": {
     "sheet_delimiter": false
    },
    "tags": [
     "DataChill"
    ]
   },
   "source": [
    "## 3.3. Trích xuất thuộc tính năm, quý, tháng, tuần"
   ]
  },
  {
   "cell_type": "code",
   "execution_count": null,
   "metadata": {
    "datalore": {
     "sheet_delimiter": false
    },
    "tags": [
     "DataChill"
    ]
   },
   "outputs": [],
   "source": [
    "import numpy as np\n",
    "import pandas as pd"
   ]
  },
  {
   "cell_type": "code",
   "execution_count": null,
   "metadata": {
    "datalore": {
     "sheet_delimiter": false
    },
    "tags": [
     "DataChill"
    ]
   },
   "outputs": [],
   "source": [
    "calendar = pd.DataFrame({\n",
    "    'date': pd.date_range('2020-01-01', '2020-12-31')\n",
    "})\n",
    "calendar"
   ]
  },
  {
   "cell_type": "code",
   "execution_count": null,
   "metadata": {
    "datalore": {
     "sheet_delimiter": false
    },
    "tags": [
     "DataChill"
    ]
   },
   "outputs": [],
   "source": [
    "# tách năm\n",
    "calendar.date.dt.to_period('Y')"
   ]
  },
  {
   "cell_type": "code",
   "execution_count": null,
   "metadata": {
    "datalore": {
     "sheet_delimiter": false
    },
    "tags": [
     "DataChill"
    ]
   },
   "outputs": [],
   "source": [
    "# tách quý\n",
    "calendar.date.dt.to_period('Q')"
   ]
  },
  {
   "cell_type": "code",
   "execution_count": null,
   "metadata": {
    "datalore": {
     "sheet_delimiter": false
    },
    "tags": [
     "DataChill"
    ]
   },
   "outputs": [],
   "source": [
    "# tách tháng\n",
    "calendar.date.dt.to_period('M')"
   ]
  },
  {
   "cell_type": "code",
   "execution_count": null,
   "metadata": {
    "datalore": {
     "sheet_delimiter": false
    },
    "tags": [
     "DataChill"
    ]
   },
   "outputs": [],
   "source": [
    "# tách tuần\n",
    "calendar.date.dt.strftime('%Y-%U')"
   ]
  },
  {
   "cell_type": "code",
   "execution_count": null,
   "metadata": {
    "datalore": {
     "sheet_delimiter": false
    },
    "tags": [
     "DataChill"
    ]
   },
   "outputs": [],
   "source": [
    "calendar['year'] = calendar.date.dt.to_period('Y').astype(int)\n",
    "calendar['quarter'] = calendar.date.dt.to_period('Q').astype(str).str.replace('Q', '-')\n",
    "calendar['month'] = calendar.date.dt.to_period('M').astype(str)\n",
    "calendar['week'] = calendar.date.dt.strftime('%Y-%U')\n",
    "calendar"
   ]
  },
  {
   "cell_type": "markdown",
   "metadata": {
    "datalore": {
     "sheet_delimiter": false
    },
    "tags": [
     "DataChill"
    ]
   },
   "source": [
    "## 3.4. Trích xuất các thuộc tính chu kỳ"
   ]
  },
  {
   "cell_type": "code",
   "execution_count": null,
   "metadata": {
    "datalore": {
     "sheet_delimiter": false
    },
    "tags": [
     "DataChill"
    ]
   },
   "outputs": [],
   "source": [
    "import numpy as np\n",
    "import pandas as pd"
   ]
  },
  {
   "cell_type": "code",
   "execution_count": null,
   "metadata": {
    "datalore": {
     "sheet_delimiter": false
    },
    "tags": [
     "DataChill"
    ]
   },
   "outputs": [],
   "source": [
    "calendar = pd.DataFrame({\n",
    "    'date': pd.date_range('2020-01-01', '2020-12-31')\n",
    "})\n",
    "calendar"
   ]
  },
  {
   "cell_type": "code",
   "execution_count": null,
   "metadata": {
    "datalore": {
     "sheet_delimiter": false
    },
    "tags": [
     "DataChill"
    ]
   },
   "outputs": [],
   "source": [
    "calendar['weekday'] = calendar.date.dt.weekday_name    # tên ngày trong tuần\n",
    "calendar['day_of_year'] = calendar.date.dt.dayofyear   # ngày trong năm\n",
    "calendar['month_of_year'] = calendar.date.dt.month     # tháng trong năm\n",
    "calendar['quarter_of_year'] = calendar.date.dt.quarter # quý trong năm\n",
    "calendar"
   ]
  },
  {
   "cell_type": "markdown",
   "metadata": {
    "datalore": {
     "sheet_delimiter": false
    },
    "tags": [
     "DataChill"
    ]
   },
   "source": [
    "## 3.5. Khoảng thời gian (Timedelta)"
   ]
  },
  {
   "cell_type": "code",
   "execution_count": null,
   "metadata": {
    "datalore": {
     "sheet_delimiter": false
    },
    "tags": [
     "DataChill"
    ]
   },
   "outputs": [],
   "source": [
    "import numpy as np\n",
    "import pandas as pd"
   ]
  },
  {
   "cell_type": "markdown",
   "metadata": {
    "datalore": {
     "sheet_delimiter": false
    },
    "tags": [
     "DataChill"
    ]
   },
   "source": [
    "#### Chênh lệnh giữa 2 thời điểm"
   ]
  },
  {
   "cell_type": "code",
   "execution_count": null,
   "metadata": {
    "datalore": {
     "sheet_delimiter": false
    },
    "tags": [
     "DataChill"
    ]
   },
   "outputs": [],
   "source": [
    "pd.date_range('2020-01-02', '2020-02-29', freq='W')"
   ]
  },
  {
   "cell_type": "code",
   "execution_count": null,
   "metadata": {
    "datalore": {
     "sheet_delimiter": false
    },
    "tags": [
     "DataChill"
    ]
   },
   "outputs": [],
   "source": [
    "delta = pd.DataFrame({\n",
    "    'date1': pd.date_range('2020-01-01', '2020-01-31', freq='3D'),\n",
    "    'date2': pd.date_range('2020-01-02', '2020-03-15', freq='W')\n",
    "})\n",
    "delta"
   ]
  },
  {
   "cell_type": "code",
   "execution_count": null,
   "metadata": {
    "datalore": {
     "sheet_delimiter": false
    },
    "tags": [
     "DataChill"
    ]
   },
   "outputs": [],
   "source": [
    "delta['timedelta'] = delta.date2 - delta.date1\n",
    "delta"
   ]
  },
  {
   "cell_type": "markdown",
   "metadata": {
    "datalore": {
     "sheet_delimiter": false
    },
    "tags": [
     "DataChill"
    ]
   },
   "source": [
    "#### Tính toán bằng timedelta"
   ]
  },
  {
   "cell_type": "code",
   "execution_count": null,
   "metadata": {
    "datalore": {
     "sheet_delimiter": false
    },
    "tags": [
     "DataChill"
    ]
   },
   "outputs": [],
   "source": [
    "import numpy as np\n",
    "import pandas as pd"
   ]
  },
  {
   "cell_type": "code",
   "execution_count": null,
   "metadata": {
    "datalore": {
     "sheet_delimiter": false
    },
    "tags": [
     "DataChill"
    ]
   },
   "outputs": [],
   "source": [
    "delta = pd.DataFrame({\n",
    "    'date1': pd.date_range('2020-01-01', '2020-01-31', freq='3D'),\n",
    "    'date2': pd.date_range('2020-01-02', '2020-03-15', freq='W')\n",
    "})"
   ]
  },
  {
   "cell_type": "code",
   "execution_count": null,
   "metadata": {
    "datalore": {
     "sheet_delimiter": false
    },
    "tags": [
     "DataChill"
    ]
   },
   "outputs": [],
   "source": [
    "delta['date3'] = delta.date1 + pd.Timedelta('15 days')\n",
    "delta"
   ]
  },
  {
   "cell_type": "code",
   "execution_count": null,
   "metadata": {
    "datalore": {
     "sheet_delimiter": false
    },
    "tags": [
     "DataChill"
    ]
   },
   "outputs": [],
   "source": [
    "from IPython.display import Image\n",
    "Image('https://raw.githubusercontent.com/linhpt7/COURSE/main/datachilly_logo.png', height=100)"
   ]
  },
  {
   "cell_type": "markdown",
   "metadata": {
    "datalore": {
     "sheet_delimiter": false
    },
    "tags": [
     "DataChill"
    ]
   },
   "source": [
    "# Giải đáp tình huống\n",
    "![image](https://img.shields.io/badge/Data-Chilly-teal?logo=python)"
   ]
  },
  {
   "cell_type": "markdown",
   "metadata": {
    "datalore": {
     "sheet_delimiter": false
    },
    "tags": [
     "DataChill"
    ]
   },
   "source": [
    "**Tình huống 1:** Dữ liệu `report` chứa các bản ghi trùng lặp trong 2 cột `year` và `company`. Hãy sử dụng các phương thức của dataframe để thực hiện 3 phương án sau:\n",
    "1. Liệt kê tất cả bản ghi trùng lặp và chọn xóa thủ công, sử dụng phương thức `duplicated()`\n",
    "2. Giữ lại bản ghi có giá trị sales lớn nhất, sử dụng phương thức `drop_duplicates()`\n",
    "3. Tính tổng tất cả bản ghi trùng lặp, sử dụng phương thức `groupby()`"
   ]
  },
  {
   "cell_type": "code",
   "execution_count": null,
   "metadata": {
    "datalore": {
     "sheet_delimiter": false
    },
    "tags": [
     "DataChill"
    ]
   },
   "outputs": [],
   "source": [
    "import numpy as np\n",
    "import pandas as pd"
   ]
  },
  {
   "cell_type": "code",
   "execution_count": null,
   "metadata": {
    "datalore": {
     "sheet_delimiter": false
    },
    "tags": [
     "DataChill"
    ]
   },
   "outputs": [],
   "source": [
    "report = pd.DataFrame({\n",
    "    'year': pd.Series([2019, 2019, 2020, 2020, 2020, 2020]),\n",
    "    'company': pd.Series(['Pandas', 'Numpy', 'Pandas', 'Numpy', 'Numpy', 'Pandas']),\n",
    "    'sales': pd.Series([5466, 8558, 8435, 7280, 9285, 6650]),\n",
    "    'profit': pd.Series([1546, 3546, 3574, 3352, 4678, 2007])\n",
    "})\n",
    "report"
   ]
  },
  {
   "cell_type": "code",
   "execution_count": null,
   "metadata": {
    "datalore": {
     "sheet_delimiter": false
    },
    "tags": [
     "DataChill"
    ]
   },
   "outputs": [],
   "source": [
    "# tạo biến subset là các cột để xác định giá trị trùng lặp\n",
    "subset = ['year', 'company']"
   ]
  },
  {
   "cell_type": "markdown",
   "metadata": {
    "datalore": {
     "sheet_delimiter": false
    },
    "tags": [
     "DataChill"
    ]
   },
   "source": [
    "Phương án 1: Liệt kê tất cả bản ghi trùng lặp và chọn xóa thủ công"
   ]
  },
  {
   "cell_type": "code",
   "execution_count": null,
   "metadata": {
    "datalore": {
     "sheet_delimiter": false
    },
    "tags": [
     "DataChill"
    ]
   },
   "outputs": [],
   "source": [
    "# liệt kê các bản ghi trùng lặp\n",
    "report[report.duplicated(subset, keep=False)].sort_values(subset)"
   ]
  },
  {
   "cell_type": "code",
   "execution_count": null,
   "metadata": {
    "datalore": {
     "sheet_delimiter": false
    },
    "tags": [
     "DataChill"
    ]
   },
   "outputs": [],
   "source": [
    "# xóa các dòng 2, 4 hoặc các dòng khác tùy ý\n",
    "report.drop(index=[4, 2])"
   ]
  },
  {
   "cell_type": "markdown",
   "metadata": {
    "datalore": {
     "sheet_delimiter": false
    },
    "tags": [
     "DataChill"
    ]
   },
   "source": [
    "Phương án 2: Chỉ giữ lại bản ghi có giá trị sales lớn nhất"
   ]
  },
  {
   "cell_type": "code",
   "execution_count": null,
   "metadata": {
    "datalore": {
     "sheet_delimiter": false
    },
    "tags": [
     "DataChill"
    ]
   },
   "outputs": [],
   "source": [
    "report\\\n",
    "    .sort_values(by=['year', 'company', 'sales'])\\\n",
    "    .drop_duplicates(subset=subset, keep='last')"
   ]
  },
  {
   "cell_type": "markdown",
   "metadata": {
    "datalore": {
     "sheet_delimiter": false
    },
    "tags": [
     "DataChill"
    ]
   },
   "source": [
    "Phương án 3: Tính tổng các bản ghi trùng lặp"
   ]
  },
  {
   "cell_type": "code",
   "execution_count": null,
   "metadata": {
    "datalore": {
     "sheet_delimiter": false
    },
    "tags": [
     "DataChill"
    ]
   },
   "outputs": [],
   "source": [
    "report.groupby(by=['year', 'company']).sum().reset_index()"
   ]
  },
  {
   "cell_type": "markdown",
   "metadata": {
    "datalore": {
     "sheet_delimiter": false
    },
    "tags": [
     "DataChill"
    ]
   },
   "source": [
    "**Tình huống 2:** Trong dữ liệu `ds` hãy lọc ra những người mà nghề nghiệp không chứa \"data\" và từ 18 đến 50 tuổi."
   ]
  },
  {
   "cell_type": "code",
   "execution_count": null,
   "metadata": {
    "datalore": {
     "sheet_delimiter": false
    },
    "tags": [
     "DataChill"
    ]
   },
   "outputs": [],
   "source": [
    "import numpy as np\n",
    "import pandas as pd"
   ]
  },
  {
   "cell_type": "code",
   "execution_count": null,
   "metadata": {
    "datalore": {
     "sheet_delimiter": false
    },
    "tags": [
     "DataChill"
    ]
   },
   "outputs": [],
   "source": [
    "ds = pd.DataFrame({\n",
    "    'worker': [\n",
    "        'Wayne', 'Robert', 'Ashley',\n",
    "        'Jamie', 'Jessie', 'Sergio',\n",
    "        'Harry', 'Johnny', 'Aaron'\n",
    "    ],\n",
    "    'age': [8, 37, 25, 26, 80, 30, 20, 31, 28],\n",
    "    'job': [\n",
    "        'Student', 'Data Scientist', 'DATA Analyst',\n",
    "        'data Engineer', 'Retired', 'Business Intelligence',\n",
    "        'Student', 'Data Analyst', 'AI Engineer'\n",
    "    ]\n",
    "})\n",
    "ds"
   ]
  },
  {
   "cell_type": "code",
   "execution_count": null,
   "metadata": {
    "datalore": {
     "sheet_delimiter": false
    },
    "tags": [
     "DataChill"
    ]
   },
   "outputs": [],
   "source": [
    "ds[~ds.job.str.lower().str.contains('data')]"
   ]
  },
  {
   "cell_type": "markdown",
   "metadata": {
    "datalore": {
     "sheet_delimiter": false
    },
    "tags": [
     "DataChill"
    ]
   },
   "source": [
    "**Tình huống 3:** Thêm số \"0\" vào đầu cột số điện thoại của dữ liệu `info`."
   ]
  },
  {
   "cell_type": "code",
   "execution_count": null,
   "metadata": {
    "datalore": {
     "sheet_delimiter": false
    },
    "tags": [
     "DataChill"
    ]
   },
   "outputs": [],
   "source": [
    "import numpy as np\n",
    "import pandas as pd"
   ]
  },
  {
   "cell_type": "code",
   "execution_count": null,
   "metadata": {
    "datalore": {
     "sheet_delimiter": false
    },
    "tags": [
     "DataChill"
    ]
   },
   "outputs": [],
   "source": [
    "info = pd.DataFrame({\n",
    "    'customer_id': [3, 423, 5464],\n",
    "    'phone': [363334444, 913334444, 123334444],\n",
    "    'name': ['Jack', 'James', 'Gabriel'],\n",
    "    'information': ['England Male', 'Colombia Male', 'France Female']\n",
    "})\n",
    "info"
   ]
  },
  {
   "cell_type": "code",
   "execution_count": null,
   "metadata": {
    "datalore": {
     "sheet_delimiter": false
    },
    "tags": [
     "DataChill"
    ]
   },
   "outputs": [],
   "source": [
    "info.phone = info.astype(str).phone.str.pad(width=10, fillchar='0')\n",
    "info"
   ]
  },
  {
   "cell_type": "markdown",
   "metadata": {
    "datalore": {
     "sheet_delimiter": false
    },
    "tags": [
     "DataChill"
    ]
   },
   "source": [
    "**Tình huống 4:** Ghép 2 cột `prefix` và `suffix` để tạo ra cột `id` cho dữ liệu dưới đây. Chú ý cột `suffix` có 4 chữ số, nếu có ít hơn cần được lấp đầy bằng ký tự 0."
   ]
  },
  {
   "cell_type": "code",
   "execution_count": null,
   "metadata": {
    "datalore": {
     "sheet_delimiter": false
    },
    "tags": [
     "DataChill"
    ]
   },
   "outputs": [],
   "source": [
    "customer_id = pd.DataFrame({\n",
    "    'prefix': ['VN', 'UK', 'US', 'VN', 'JP', 'RU'],\n",
    "    'suffix': [4686, 3336, 553, 6564, 864, 63]\n",
    "})\n",
    "customer_id"
   ]
  },
  {
   "cell_type": "code",
   "execution_count": null,
   "metadata": {
    "datalore": {
     "sheet_delimiter": false
    },
    "tags": [
     "DataChill"
    ]
   },
   "outputs": [],
   "source": [
    "customer_id.suffix.astype(str).str.pad(width=4, fillchar='0')"
   ]
  },
  {
   "cell_type": "code",
   "execution_count": null,
   "metadata": {
    "datalore": {
     "sheet_delimiter": false
    },
    "tags": [
     "DataChill"
    ]
   },
   "outputs": [],
   "source": [
    "customer_id['id'] = customer_id.prefix + customer_id.suffix.astype(str).str.pad(width=4, fillchar='0')\n",
    "customer_id"
   ]
  },
  {
   "cell_type": "markdown",
   "metadata": {
    "datalore": {
     "sheet_delimiter": false
    },
    "tags": [
     "DataChill"
    ]
   },
   "source": [
    "Tài liệu dành cho các bạn đã mua khoá học của DataChilly. Vui lòng không sao chép, chia sẻ dưới mọi hình thức.\n",
    "\n",
    "![image](https://img.shields.io/badge/Data-Chilly-teal?logo=python)"
   ]
  }
 ],
 "metadata": {
  "kernelspec": {
   "display_name": "Python 3",
   "language": "python",
   "name": "python3"
  },
  "language_info": {
   "codemirror_mode": {
    "name": "ipython",
    "version": 3
   },
   "file_extension": ".py",
   "mimetype": "text/x-python",
   "name": "python",
   "nbconvert_exporter": "python",
   "pygments_lexer": "ipython3",
   "version": "3.8.8"
  }
 },
 "nbformat": 4,
 "nbformat_minor": 4
}
