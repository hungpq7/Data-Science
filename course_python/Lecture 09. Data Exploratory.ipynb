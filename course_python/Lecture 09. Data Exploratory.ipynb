{
 "cells": [
  {
   "cell_type": "markdown",
   "metadata": {
    "datalore": {
     "sheet_delimiter": false
    },
    "tags": [
     "DataChill"
    ]
   },
   "source": [
    "<img src=\"https://raw.githubusercontent.com/linhpt7/COURSE/main/datachilly_logo.png\" style=\"height:100px; margin:0 auto 20px;\">"
   ]
  },
  {
   "cell_type": "markdown",
   "metadata": {
    "tags": [
     "DataChill"
    ]
   },
   "source": [
    "# MỤC LỤC\n",
    "- [1. Giới thiệu chung](#1.-Giới-thiệu-chung)\n",
    "  * [1.1. Series](#1.1.-Series)\n",
    "    * [Khởi tạo series](#Khởi-tạo-series)\n",
    "    * [Kiểu dữ liệu string](#Kiểu-dữ-liệu-string)\n",
    "    * [Kiểu dữ liệu số](#Kiểu-dữ-liệu-số)\n",
    "    * [Kiểu dữ liệu ngày tháng](#Kiểu-dữ-liệu-ngày-tháng)\n",
    "    * [Kiểu dữ liệu Boolean](#Kiểu-dữ-liệu-Boolean)\n",
    "  * [1.2. Dataframe](#1.2.-Dataframe)\n",
    "    * [Tạo dataframe từ dictionary](#Tạo-dataframe-từ-dictionary)\n",
    "    * [Đọc tệp excel, csv, json vào dataframe](#Đọc-tệp-excel,-csv,-json-vào-dataframe)\n",
    "  * [1.3. Quy trình phân tích dữ liệu](#1.3.-Quy-trình-phân-tích-dữ-liệu)\n",
    "  * [1.4. Một số cài đặt thông dụng cho Pandas](#1.4.-Một-số-cài-đặt-thông-dụng-cho-Pandas)\n",
    "- [2. Data Exploratory](#2.-Data-Exploratory)\n",
    "  * [2.1. Overview](#2.1.-Overview)\n",
    "    * [Một số thuộc tính của dataframe](#Một-số-thuộc-tính-của-dataframe)\n",
    "    * [Các đại lượng thống kê](#Các-đại-lượng-thống-kê)\n",
    "    * [Tỉ lệ dữ liệu thiếu](#Tỉ-lệ-dữ-liệu-thiếu)\n",
    "  * [2.2. Tìm hiểu chi tiết dữ liệu](#2.2.-Tìm-hiểu-chi-tiết-dữ-liệu)\n",
    "    * [Truy cập cột và hàng](#Truy-cập-cột-và-hàng)\n",
    "    * [Sắp xếp dữ liệu](#Sắp-xếp-dữ-liệu)\n",
    "    * [Lọc dữ liệu](#Lọc-dữ-liệu)\n",
    "    * [Các giá trị phân biệt (unique) trong cột](#Các-giá-trị-phân-biệt-(unique)-trong-cột)\n",
    "    * [Phân nhóm dữ liệu](#Phân-nhóm-dữ-liệu)\n",
    "- [Giải đáp tình huống](#Giải-đáp-tình-huống)\n"
   ]
  },
  {
   "cell_type": "markdown",
   "metadata": {
    "datalore": {
     "sheet_delimiter": false
    },
    "tags": [
     "DataChill"
    ]
   },
   "source": [
    "# 1. Giới thiệu chung\n",
    "![image](https://img.shields.io/badge/Data-Chilly-teal?logo=python)"
   ]
  },
  {
   "cell_type": "markdown",
   "metadata": {
    "datalore": {
     "sheet_delimiter": false
    },
    "tags": [
     "DataChill"
    ]
   },
   "source": [
    "Pandas là thư viện chuyên cho xử lý dữ liệu dạng bảng (tabular) thông qua 2 kiểu dữ liệu chính là **series** và **dataframe**, chúng giống như cột và bảng trong Excel.\\\n",
    "Thư viện Pandas thường được sử dụng cùng với Numpy."
   ]
  },
  {
   "cell_type": "code",
   "execution_count": null,
   "metadata": {
    "datalore": {
     "sheet_delimiter": false
    },
    "tags": [
     "DataChill"
    ]
   },
   "outputs": [],
   "source": [
    "import numpy as np\n",
    "import pandas as pd"
   ]
  },
  {
   "cell_type": "markdown",
   "metadata": {
    "datalore": {
     "sheet_delimiter": false
    },
    "tags": [
     "DataChill"
    ]
   },
   "source": [
    "## 1.1. Series\n",
    "Series là cấu trúc dữ liệu 1 chiều, chứa các phần tử cùng kiểu dữ liệu. Series giống như vector có thêm index."
   ]
  },
  {
   "cell_type": "markdown",
   "metadata": {
    "datalore": {
     "sheet_delimiter": false
    },
    "tags": [
     "DataChill"
    ]
   },
   "source": [
    "#### Khởi tạo series"
   ]
  },
  {
   "cell_type": "markdown",
   "metadata": {
    "datalore": {
     "sheet_delimiter": false
    },
    "tags": [
     "DataChill"
    ]
   },
   "source": [
    "Series có thể được tạo ra từ hàm `pandas.Series()` và truyền vào một `dict` hoặc một đối tượng giống `list` (như `tuple`, `set`, `numpy.array`)."
   ]
  },
  {
   "cell_type": "code",
   "execution_count": null,
   "metadata": {
    "datalore": {
     "sheet_delimiter": false
    },
    "tags": [
     "DataChill"
    ]
   },
   "outputs": [],
   "source": [
    "import numpy as np\n",
    "import pandas as pd"
   ]
  },
  {
   "cell_type": "code",
   "execution_count": null,
   "metadata": {
    "datalore": {
     "sheet_delimiter": false
    },
    "tags": [
     "DataChill"
    ]
   },
   "outputs": [],
   "source": [
    "# khởi tạo series từ 1 list\n",
    "pd.Series(['a', 'b', 'c', 'd', 'e'])"
   ]
  },
  {
   "cell_type": "code",
   "execution_count": null,
   "metadata": {
    "datalore": {
     "sheet_delimiter": false
    },
    "tags": [
     "DataChill"
    ]
   },
   "outputs": [],
   "source": [
    "pd.Series(np.linspace(1, 60, 5))"
   ]
  },
  {
   "cell_type": "code",
   "execution_count": null,
   "metadata": {
    "datalore": {
     "sheet_delimiter": false
    },
    "tags": [
     "DataChill"
    ]
   },
   "outputs": [],
   "source": [
    "pd.Series(np.arange(10))"
   ]
  },
  {
   "cell_type": "markdown",
   "metadata": {
    "datalore": {
     "sheet_delimiter": false
    },
    "tags": [
     "DataChill"
    ]
   },
   "source": [
    "**Chú ý:** Mỗi series đều có 1 `dtype` (kiểu dữ liệu) riêng. Trên đây là 3 ví dụ về các kiểu dữ liệu phổ biến của series: `object`, `float64` và `int64` - tương đương với `str`, `float` và `int` trong Python."
   ]
  },
  {
   "cell_type": "markdown",
   "metadata": {
    "datalore": {
     "sheet_delimiter": false
    },
    "tags": [
     "DataChill"
    ]
   },
   "source": [
    "Do tính chất của series hoạt động giống như cột trong bảng, ta cần đặt tên cột. Tên của series được đặt thông qua tham số `name`."
   ]
  },
  {
   "cell_type": "code",
   "execution_count": null,
   "metadata": {
    "datalore": {
     "sheet_delimiter": false
    },
    "tags": [
     "DataChill"
    ]
   },
   "outputs": [],
   "source": [
    "s = pd.Series(['a', 'b', 'c'], name='letter')"
   ]
  },
  {
   "cell_type": "code",
   "execution_count": null,
   "metadata": {
    "datalore": {
     "sheet_delimiter": false
    },
    "tags": [
     "DataChill"
    ]
   },
   "outputs": [],
   "source": [
    "import numpy as np\n",
    "import pandas as pd"
   ]
  },
  {
   "cell_type": "markdown",
   "metadata": {
    "datalore": {
     "sheet_delimiter": false
    },
    "tags": [
     "DataChill"
    ]
   },
   "source": [
    "#### Kiểu dữ liệu string\n",
    "\n",
    "Sử dụng phương thức `astype` để đổi kiểu dữ liệu trong 1 series"
   ]
  },
  {
   "cell_type": "code",
   "execution_count": null,
   "metadata": {
    "datalore": {
     "sheet_delimiter": false
    },
    "tags": [
     "DataChill"
    ]
   },
   "outputs": [],
   "source": [
    "pd.Series(['a', 'b', 'c'])"
   ]
  },
  {
   "cell_type": "code",
   "execution_count": null,
   "metadata": {
    "datalore": {
     "sheet_delimiter": false
    },
    "tags": [
     "DataChill"
    ]
   },
   "outputs": [],
   "source": [
    "# đổi kiểu dữ liệu từ int sang string\n",
    "pd.Series([1, 2, 3]).astype(str)"
   ]
  },
  {
   "cell_type": "markdown",
   "metadata": {
    "datalore": {
     "sheet_delimiter": false
    },
    "tags": [
     "DataChill"
    ]
   },
   "source": [
    "#### Kiểu dữ liệu số"
   ]
  },
  {
   "cell_type": "code",
   "execution_count": null,
   "metadata": {
    "datalore": {
     "sheet_delimiter": false
    },
    "tags": [
     "DataChill"
    ]
   },
   "outputs": [],
   "source": [
    "# đổi kiểu dữ liệu từ string sang int\n",
    "pd.Series(['01', '02', '03']).astype(int)"
   ]
  },
  {
   "cell_type": "code",
   "execution_count": null,
   "metadata": {
    "datalore": {
     "sheet_delimiter": false
    },
    "tags": [
     "DataChill"
    ]
   },
   "outputs": [],
   "source": [
    "# đổi kiểu dữ liệu từ string sang float\n",
    "pd.Series(['01', '02', '03']).astype(float)"
   ]
  },
  {
   "cell_type": "markdown",
   "metadata": {
    "datalore": {
     "sheet_delimiter": false
    },
    "tags": [
     "DataChill"
    ]
   },
   "source": [
    "#### Kiểu dữ liệu ngày tháng\n",
    "Sử dụng đối số `'datetime64'`với phương thức `astype` hoặc hàm `to_datetime`"
   ]
  },
  {
   "cell_type": "code",
   "execution_count": null,
   "metadata": {
    "datalore": {
     "sheet_delimiter": false
    },
    "tags": [
     "DataChill"
    ]
   },
   "outputs": [],
   "source": [
    "pd.Series(['2020/01/01', '2020/01/02']).astype('datetime64')"
   ]
  },
  {
   "cell_type": "code",
   "execution_count": null,
   "metadata": {
    "datalore": {
     "sheet_delimiter": false
    },
    "tags": [
     "DataChill"
    ]
   },
   "outputs": [],
   "source": [
    "# đổi kiểu dữ liệu từ string sang datetime\n",
    "pd.to_datetime(pd.Series(['Jan.01-2020', '20200102']))"
   ]
  },
  {
   "cell_type": "markdown",
   "metadata": {
    "datalore": {
     "sheet_delimiter": false
    },
    "tags": [
     "DataChill"
    ]
   },
   "source": [
    "#### Kiểu dữ liệu Boolean\n",
    "Truyền vào phương thức `astype()` giá trị `bool`."
   ]
  },
  {
   "cell_type": "code",
   "execution_count": null,
   "metadata": {
    "datalore": {
     "sheet_delimiter": false
    },
    "tags": [
     "DataChill"
    ]
   },
   "outputs": [],
   "source": [
    "pd.Series([1, 0, 0, 1, 1]).astype(bool)"
   ]
  },
  {
   "cell_type": "markdown",
   "metadata": {
    "datalore": {
     "sheet_delimiter": false
    },
    "tags": [
     "DataChill"
    ]
   },
   "source": [
    "## 1.2. Dataframe\n",
    "Dataframe là kiểu dữ liệu 2 chiều, được cấu tạo từ nhiều series ghép với nhau.\\\n",
    "**Chiều 0** (axis 0) là chiều dọc, chứa index của các hàng. Mỗi hàng còn được gọi là một bản ghi (record) hay một quan sát (observation).\\\n",
    "**Chiều 1** (axis 1) là chiều ngang, chứa tên các cột. Cột còn được gọi là thuộc tính (feature), trường thông tin (field), biến (variable) hay chiều (dimension)."
   ]
  },
  {
   "cell_type": "code",
   "execution_count": null,
   "metadata": {
    "datalore": {
     "sheet_delimiter": false
    },
    "tags": [
     "DataChill"
    ]
   },
   "outputs": [],
   "source": [
    "import numpy as np\n",
    "import pandas as pd"
   ]
  },
  {
   "cell_type": "markdown",
   "metadata": {
    "datalore": {
     "sheet_delimiter": false
    },
    "tags": [
     "DataChill"
    ]
   },
   "source": [
    "#### Tạo dataframe từ dictionary\n",
    "Các key của dictionary được dùng làm tên cột, value là list các bản ghi."
   ]
  },
  {
   "cell_type": "code",
   "execution_count": null,
   "metadata": {
    "datalore": {
     "sheet_delimiter": false
    },
    "tags": [
     "DataChill"
    ]
   },
   "outputs": [],
   "source": [
    "data = {\n",
    "    'product': pd.Series(['Laptop', 'Mouse', 'Headphone', 'USB']),\n",
    "    'price': pd.Series(['$1000', '$20', '$50']),\n",
    "    'stock': pd.Series([15, 100, 50, 100])\n",
    "}\n",
    "pd.DataFrame(data)"
   ]
  },
  {
   "cell_type": "markdown",
   "metadata": {
    "datalore": {
     "sheet_delimiter": false
    },
    "tags": [
     "DataChill"
    ]
   },
   "source": [
    "#### Đọc tệp excel, csv, json vào dataframe\n",
    "Pandas có các hàm `read_excel()`, `read_csv()` và `read_json()` để đọc các định dạng file tương ứng.\\\n",
    "Các hàm `to_excel()`, `to_csv()` và `to_json()` cho phép xuất ra một tệp từ dataframe."
   ]
  },
  {
   "cell_type": "code",
   "execution_count": null,
   "metadata": {
    "datalore": {
     "sheet_delimiter": false
    },
    "tags": [
     "DataChill"
    ]
   },
   "outputs": [],
   "source": [
    "pd.read_excel(r'data\\electronic.xlsx')"
   ]
  },
  {
   "cell_type": "code",
   "execution_count": null,
   "metadata": {
    "datalore": {
     "sheet_delimiter": false
    },
    "tags": [
     "DataChill"
    ]
   },
   "outputs": [],
   "source": [
    "pd.read_csv(r'data\\electronic.csv')"
   ]
  },
  {
   "cell_type": "code",
   "execution_count": null,
   "metadata": {
    "datalore": {
     "sheet_delimiter": false
    },
    "tags": [
     "DataChill"
    ]
   },
   "outputs": [],
   "source": [
    "pd.read_json(r'data\\electronic.json')"
   ]
  },
  {
   "cell_type": "markdown",
   "metadata": {
    "datalore": {
     "sheet_delimiter": false
    },
    "tags": [
     "DataChill"
    ]
   },
   "source": [
    "## 1.3. Quy trình phân tích dữ liệu"
   ]
  },
  {
   "cell_type": "markdown",
   "metadata": {
    "datalore": {
     "sheet_delimiter": false
    },
    "tags": [
     "DataChill"
    ]
   },
   "source": [
    "Một quy trình phân tích dữ liệu (data analytics) bắt đầu sau khi đã định nghĩa bài toán kinh doanh (business problem), có thể được tóm gọn trong 4 bước sau:\n",
    "\n",
    "<img src=\"images\\data_analytics_process.png\">"
   ]
  },
  {
   "cell_type": "markdown",
   "metadata": {
    "datalore": {
     "sheet_delimiter": false
    },
    "tags": [
     "DataChill"
    ]
   },
   "source": [
    "Trong đó, data wrangling có thể chiếm đến 80% thời gian làm việc. Dưới đây là các thao tác cụ thể hơn của data wrangling:\n",
    "- Data exploring: khám phá tổng quan tập dữ liệu\n",
    "- Data cleaning: làm sạch dữ liệu\n",
    "- Data tidying: biến đổi cấu trúc của dữ liệu để trở nên \"ngăn nắp\" hơn\n",
    "- Data standardizing: chuẩn hóa dữ liệu"
   ]
  },
  {
   "cell_type": "markdown",
   "metadata": {
    "datalore": {
     "sheet_delimiter": false
    },
    "tags": [
     "DataChill"
    ]
   },
   "source": [
    "## 1.4. Một số cài đặt thông dụng cho Pandas"
   ]
  },
  {
   "cell_type": "code",
   "execution_count": null,
   "metadata": {
    "datalore": {
     "sheet_delimiter": false
    },
    "tags": [
     "DataChill"
    ]
   },
   "outputs": [],
   "source": [
    "# hiển thị tất cả số thập phân với 2 chữ số sau dấu phẩy (không ảnh hưởng đến số nguyên)\n",
    "pd.options.display.float_format = '{:,.2f}'.format"
   ]
  },
  {
   "cell_type": "code",
   "execution_count": null,
   "metadata": {
    "datalore": {
     "sheet_delimiter": false
    },
    "tags": [
     "DataChill"
    ]
   },
   "outputs": [],
   "source": [
    "# hiển thị lên đến 1000 ký tự trong mỗi cột\n",
    "pd.options.display.max_colwidth = 1000"
   ]
  },
  {
   "cell_type": "code",
   "execution_count": null,
   "metadata": {
    "datalore": {
     "sheet_delimiter": false
    },
    "tags": [
     "DataChill"
    ]
   },
   "outputs": [],
   "source": [
    "# hiển thị lên đến 500 cột\n",
    "pd.options.display.max_columns = 500"
   ]
  },
  {
   "cell_type": "code",
   "execution_count": null,
   "metadata": {
    "datalore": {
     "sheet_delimiter": false
    },
    "tags": [
     "DataChill"
    ]
   },
   "outputs": [],
   "source": [
    "# hiển thị lên đến 1000 dòng\n",
    "pd.options.display.max_rows = 1000"
   ]
  },
  {
   "cell_type": "markdown",
   "metadata": {
    "datalore": {
     "sheet_delimiter": false
    },
    "tags": [
     "DataChill"
    ]
   },
   "source": [
    "# 2. Data Exploratory\n",
    "![image](https://img.shields.io/badge/Data-Chilly-teal?logo=python)"
   ]
  },
  {
   "cell_type": "markdown",
   "metadata": {
    "datalore": {
     "sheet_delimiter": false
    },
    "tags": [
     "DataChill"
    ]
   },
   "source": [
    "## 2.1. Overview\n",
    "Quan sát một số bản ghi\\\n",
    "Phương thức `head()` và `tail()` cho phép bạn quan sát 5 bản ghi đầu tiên/cuối cùng. Đây thường là thao tác thực hiện đầu tiên khi nhận được tập dữ liệu."
   ]
  },
  {
   "cell_type": "code",
   "execution_count": null,
   "metadata": {
    "datalore": {
     "sheet_delimiter": false
    },
    "tags": [
     "DataChill"
    ]
   },
   "outputs": [],
   "source": [
    "import numpy as np\n",
    "import pandas as pd"
   ]
  },
  {
   "cell_type": "code",
   "execution_count": null,
   "metadata": {
    "datalore": {
     "sheet_delimiter": false
    },
    "tags": [
     "DataChill"
    ]
   },
   "outputs": [],
   "source": [
    "fish = pd.read_excel(r'data\\us_fishery_foreign_trade.xlsx')"
   ]
  },
  {
   "cell_type": "code",
   "execution_count": null,
   "metadata": {
    "datalore": {
     "sheet_delimiter": false
    },
    "tags": [
     "DataChill"
    ]
   },
   "outputs": [],
   "source": [
    "fish.head()"
   ]
  },
  {
   "cell_type": "code",
   "execution_count": null,
   "metadata": {
    "datalore": {
     "sheet_delimiter": false
    },
    "tags": [
     "DataChill"
    ]
   },
   "outputs": [],
   "source": [
    "fish.tail(10)"
   ]
  },
  {
   "cell_type": "markdown",
   "metadata": {
    "datalore": {
     "sheet_delimiter": false
    },
    "tags": [
     "DataChill"
    ]
   },
   "source": [
    "Phương thức `nlargest()` và `nsmallest()` trả về các giá trị lớn nhất và nhỏ nhất trong cột."
   ]
  },
  {
   "cell_type": "code",
   "execution_count": null,
   "metadata": {
    "datalore": {
     "sheet_delimiter": false
    },
    "tags": [
     "DataChill"
    ]
   },
   "outputs": [],
   "source": [
    "fish.nlargest(n=5, columns='Value')"
   ]
  },
  {
   "cell_type": "code",
   "execution_count": null,
   "metadata": {
    "datalore": {
     "sheet_delimiter": false
    },
    "tags": [
     "DataChill"
    ]
   },
   "outputs": [],
   "source": [
    "fish.nsmallest(n=5, columns='Year')"
   ]
  },
  {
   "cell_type": "markdown",
   "metadata": {
    "datalore": {
     "sheet_delimiter": false
    },
    "tags": [
     "DataChill"
    ]
   },
   "source": [
    "#### Một số thuộc tính của dataframe"
   ]
  },
  {
   "cell_type": "code",
   "execution_count": null,
   "metadata": {
    "datalore": {
     "sheet_delimiter": false
    },
    "tags": [
     "DataChill"
    ]
   },
   "outputs": [],
   "source": [
    "# số hàng, số cột của df\n",
    "fish.shape"
   ]
  },
  {
   "cell_type": "code",
   "execution_count": null,
   "metadata": {
    "datalore": {
     "sheet_delimiter": false
    },
    "tags": [
     "DataChill"
    ]
   },
   "outputs": [],
   "source": [
    "# list ra tên các cột của df\n",
    "fish.columns"
   ]
  },
  {
   "cell_type": "markdown",
   "metadata": {
    "datalore": {
     "sheet_delimiter": false
    },
    "tags": [
     "DataChill"
    ]
   },
   "source": [
    "Thuộc tính `dtypes` trả về kiểu dữ liệu của tất cả các cột (Pandas tự động xác định)."
   ]
  },
  {
   "cell_type": "code",
   "execution_count": null,
   "metadata": {
    "datalore": {
     "sheet_delimiter": false
    },
    "tags": [
     "DataChill"
    ]
   },
   "outputs": [],
   "source": [
    "fish.dtypes"
   ]
  },
  {
   "cell_type": "markdown",
   "metadata": {
    "datalore": {
     "sheet_delimiter": false
    },
    "tags": [
     "DataChill"
    ]
   },
   "source": [
    "#### Các đại lượng thống kê"
   ]
  },
  {
   "cell_type": "code",
   "execution_count": null,
   "metadata": {
    "datalore": {
     "sheet_delimiter": false
    },
    "tags": [
     "DataChill"
    ]
   },
   "outputs": [],
   "source": [
    "fish.describe()"
   ]
  },
  {
   "cell_type": "code",
   "execution_count": null,
   "metadata": {
    "datalore": {
     "sheet_delimiter": false
    },
    "tags": [
     "DataChill"
    ]
   },
   "outputs": [],
   "source": [
    "# ma trận tương quan giữa các trường định lượng\n",
    "fish.corr()"
   ]
  },
  {
   "cell_type": "markdown",
   "metadata": {
    "datalore": {
     "sheet_delimiter": false
    },
    "tags": [
     "DataChill"
    ]
   },
   "source": [
    "#### Tỉ lệ dữ liệu thiếu\n",
    "Phương thức `isnull()` hoặc `isna()` kiểm tra các dữ liệu thiếu (missing data) trong dataframe. Kết hợp với các phương thức `sum()` và `mean()` ta tính toán được có bao nhiêu % dữ liệu trống. Nếu một cột có trên 50% dữ liệu thiếu, bạn có thể loại bỏ nó."
   ]
  },
  {
   "cell_type": "code",
   "execution_count": null,
   "metadata": {
    "datalore": {
     "sheet_delimiter": false
    },
    "tags": [
     "DataChill"
    ]
   },
   "outputs": [],
   "source": [
    "fish.isnull()"
   ]
  },
  {
   "cell_type": "code",
   "execution_count": null,
   "metadata": {
    "datalore": {
     "sheet_delimiter": false
    },
    "tags": [
     "DataChill"
    ]
   },
   "outputs": [],
   "source": [
    "# Tổng số dữ liệu thiếu của các cột\n",
    "fish.isnull().sum()"
   ]
  },
  {
   "cell_type": "code",
   "execution_count": null,
   "metadata": {
    "datalore": {
     "sheet_delimiter": false
    },
    "tags": [
     "DataChill"
    ]
   },
   "outputs": [],
   "source": [
    "# Tỷ lệ dữ liệu thiếu của các cột\n",
    "fish.isna().mean()"
   ]
  },
  {
   "cell_type": "markdown",
   "metadata": {
    "datalore": {
     "sheet_delimiter": false
    },
    "tags": [
     "DataChill"
    ]
   },
   "source": [
    "## 2.2. Tìm hiểu chi tiết dữ liệu"
   ]
  },
  {
   "cell_type": "code",
   "execution_count": null,
   "metadata": {
    "datalore": {
     "sheet_delimiter": false
    },
    "tags": [
     "DataChill"
    ]
   },
   "outputs": [],
   "source": [
    "import numpy as np\n",
    "import pandas as pd"
   ]
  },
  {
   "cell_type": "code",
   "execution_count": null,
   "metadata": {
    "datalore": {
     "sheet_delimiter": false
    },
    "tags": [
     "DataChill"
    ]
   },
   "outputs": [],
   "source": [
    "fish = pd.read_excel(r'data\\us_fishery_foreign_trade.xlsx')"
   ]
  },
  {
   "cell_type": "code",
   "execution_count": null,
   "metadata": {
    "datalore": {
     "sheet_delimiter": false
    },
    "tags": [
     "DataChill"
    ]
   },
   "outputs": [],
   "source": [
    "fish.head()"
   ]
  },
  {
   "cell_type": "markdown",
   "metadata": {
    "datalore": {
     "sheet_delimiter": false
    },
    "tags": [
     "DataChill"
    ]
   },
   "source": [
    "#### Truy cập cột và hàng"
   ]
  },
  {
   "cell_type": "code",
   "execution_count": null,
   "metadata": {
    "datalore": {
     "sheet_delimiter": false
    },
    "tags": [
     "DataChill"
    ]
   },
   "outputs": [],
   "source": [
    "fish.Feature"
   ]
  },
  {
   "cell_type": "code",
   "execution_count": null,
   "metadata": {
    "datalore": {
     "sheet_delimiter": false
    },
    "tags": [
     "DataChill"
    ]
   },
   "outputs": [],
   "source": [
    "# Show 1 cột\n",
    "fish['Product Name']"
   ]
  },
  {
   "cell_type": "code",
   "execution_count": null,
   "metadata": {
    "datalore": {
     "sheet_delimiter": false
    },
    "tags": [
     "DataChill"
    ]
   },
   "outputs": [],
   "source": [
    "# tách ra các cột dưới dạng dataframe\n",
    "fish[['Feature', 'Value', 'Unit']]"
   ]
  },
  {
   "cell_type": "markdown",
   "metadata": {
    "datalore": {
     "sheet_delimiter": false
    },
    "tags": [
     "DataChill"
    ]
   },
   "source": [
    "Phương thức `iloc[]` biến dataframe thành một array 2 chiều để có thể áp dụng slicing. Giống với array trong Numpy, dataframe có axis 0 là chiều dọc và axis 1 là chiều ngang."
   ]
  },
  {
   "cell_type": "code",
   "execution_count": null,
   "metadata": {
    "datalore": {
     "sheet_delimiter": false
    },
    "tags": [
     "DataChill"
    ]
   },
   "outputs": [],
   "source": [
    "fish.head()"
   ]
  },
  {
   "cell_type": "code",
   "execution_count": null,
   "metadata": {
    "datalore": {
     "sheet_delimiter": false
    },
    "tags": [
     "DataChill"
    ]
   },
   "outputs": [],
   "source": [
    "fish.iloc[2, 3]"
   ]
  },
  {
   "cell_type": "code",
   "execution_count": null,
   "metadata": {
    "datalore": {
     "sheet_delimiter": false
    },
    "tags": [
     "DataChill"
    ]
   },
   "outputs": [],
   "source": [
    "fish.iloc[2:7, :4]"
   ]
  },
  {
   "cell_type": "markdown",
   "metadata": {
    "datalore": {
     "sheet_delimiter": false
    },
    "tags": [
     "DataChill"
    ]
   },
   "source": [
    "#### Sắp xếp dữ liệu"
   ]
  },
  {
   "cell_type": "code",
   "execution_count": null,
   "metadata": {
    "datalore": {
     "sheet_delimiter": false
    },
    "tags": [
     "DataChill"
    ]
   },
   "outputs": [],
   "source": [
    "# sắp xếp bảng theo Country Name tăng dần rồi theo Feature giảm dần\n",
    "fish.sort_values(by=['Country Name', 'Feature'], ascending=[True, False])"
   ]
  },
  {
   "cell_type": "markdown",
   "metadata": {
    "datalore": {
     "sheet_delimiter": false
    },
    "tags": [
     "DataChill"
    ]
   },
   "source": [
    "#### Lọc dữ liệu\n",
    "Lọc dữ liệu trong dataframe dựa trên nền tảng là Boolean slicing của Numpy (xem lại Bài \"Numpy array\"). Đối với lọc nhiều điều kiện, dùng ký tự `&` (và) và `|` (hoặc)."
   ]
  },
  {
   "cell_type": "code",
   "execution_count": null,
   "metadata": {
    "datalore": {
     "sheet_delimiter": false
    },
    "tags": [
     "DataChill"
    ]
   },
   "outputs": [],
   "source": [
    "# lọc 1 điều kiện\n",
    "fish[fish['Country Name']=='VIETNAM']"
   ]
  },
  {
   "cell_type": "code",
   "execution_count": null,
   "metadata": {
    "datalore": {
     "sheet_delimiter": false
    },
    "tags": [
     "DataChill"
    ]
   },
   "outputs": [],
   "source": [
    "fish[fish['Product Name'].str.contains('FRESH')]"
   ]
  },
  {
   "cell_type": "code",
   "execution_count": null,
   "metadata": {
    "datalore": {
     "sheet_delimiter": false
    },
    "tags": [
     "DataChill"
    ]
   },
   "outputs": [],
   "source": [
    "# lọc nhiều điều kiện\n",
    "fish[\n",
    "    (fish['Country Name']=='VIETNAM') &\n",
    "    (fish['Feature']=='EXP Value') &\n",
    "    (fish['Value']>10000)\n",
    "]"
   ]
  },
  {
   "cell_type": "markdown",
   "metadata": {
    "datalore": {
     "sheet_delimiter": false
    },
    "tags": [
     "DataChill"
    ]
   },
   "source": [
    "**Tình huống 1:** Lọc ra thông tin khối lượng nhập khẩu (\"IMP Quantity\") của Việt Nam (\"VIETNAM\"). Sau đó dùng 3 cách khác nhau để xem 5 tháng gần nhất."
   ]
  },
  {
   "cell_type": "markdown",
   "metadata": {
    "datalore": {
     "sheet_delimiter": false
    },
    "tags": [
     "DataChill"
    ]
   },
   "source": [
    "#### Các giá trị phân biệt (unique) trong cột"
   ]
  },
  {
   "cell_type": "code",
   "execution_count": null,
   "metadata": {
    "datalore": {
     "sheet_delimiter": false
    },
    "tags": [
     "DataChill"
    ]
   },
   "outputs": [],
   "source": [
    "fish['Product Name'].unique()"
   ]
  },
  {
   "cell_type": "code",
   "execution_count": null,
   "metadata": {
    "datalore": {
     "sheet_delimiter": false
    },
    "tags": [
     "DataChill"
    ]
   },
   "outputs": [],
   "source": [
    "# loại bỏ giá trị trùng lặp\n",
    "fish[['Feature', 'Unit']].drop_duplicates()"
   ]
  },
  {
   "cell_type": "markdown",
   "metadata": {
    "datalore": {
     "sheet_delimiter": false
    },
    "tags": [
     "DataChill"
    ]
   },
   "source": [
    "#### Phân nhóm dữ liệu\n",
    "Phương thức `groupby()` chia tập dữ liệu thành các nhóm nhỏ rồi tính toán trên từng nhóm đó."
   ]
  },
  {
   "cell_type": "code",
   "execution_count": null,
   "metadata": {
    "datalore": {
     "sheet_delimiter": false
    },
    "tags": [
     "DataChill"
    ]
   },
   "outputs": [],
   "source": [
    "fish.head()"
   ]
  },
  {
   "cell_type": "code",
   "execution_count": null,
   "metadata": {
    "datalore": {
     "sheet_delimiter": false
    },
    "tags": [
     "DataChill"
    ]
   },
   "outputs": [],
   "source": [
    "# đếm số bản ghi mỗi mặt hàng\n",
    "fish.groupby('Product Name').size()"
   ]
  },
  {
   "cell_type": "code",
   "execution_count": null,
   "metadata": {
    "datalore": {
     "sheet_delimiter": false
    },
    "tags": [
     "DataChill"
    ]
   },
   "outputs": [],
   "source": [
    "# tính các chỉ số xuất nhập khẩu theo từng năm\n",
    "fish.groupby(['Feature', 'Year', 'Unit']).sum()['Value'].reset_index()"
   ]
  },
  {
   "cell_type": "markdown",
   "metadata": {
    "datalore": {
     "sheet_delimiter": false
    },
    "tags": [
     "DataChill"
    ]
   },
   "source": [
    "**Tình huống 2:** Đếm số bản ghi từng tháng."
   ]
  },
  {
   "cell_type": "markdown",
   "metadata": {
    "datalore": {
     "sheet_delimiter": false
    },
    "tags": [
     "DataChill"
    ]
   },
   "source": [
    "**Tình huống 3:** Tính kim ngạch xuất nhập khẩu trung bình từng tháng qua các năm."
   ]
  },
  {
   "cell_type": "code",
   "execution_count": null,
   "metadata": {
    "datalore": {
     "sheet_delimiter": false
    },
    "tags": [
     "DataChill"
    ]
   },
   "outputs": [],
   "source": [
    "from IPython.display import Image\n",
    "Image('https://raw.githubusercontent.com/linhpt7/COURSE/main/datachilly_logo.png', height=100)"
   ]
  },
  {
   "cell_type": "markdown",
   "metadata": {
    "datalore": {
     "sheet_delimiter": false
    },
    "tags": [
     "DataChill"
    ]
   },
   "source": [
    "# Giải đáp tình huống\n",
    "![image](https://img.shields.io/badge/Data-Chilly-teal?logo=python)"
   ]
  },
  {
   "cell_type": "markdown",
   "metadata": {
    "datalore": {
     "sheet_delimiter": false
    },
    "tags": [
     "DataChill"
    ]
   },
   "source": [
    "**Tình huống 1:** Lọc ra thông tin khối lượng nhập khẩu (\"IMP Quantity\") của Việt Nam (\"VIETNAM\"). Sau đó dùng 3 cách khác nhau để xem 5 tháng gần nhất."
   ]
  },
  {
   "cell_type": "code",
   "execution_count": null,
   "metadata": {
    "datalore": {
     "sheet_delimiter": false
    },
    "tags": [
     "DataChill"
    ]
   },
   "outputs": [],
   "source": [
    "import numpy as np\n",
    "import pandas as pd\n",
    "fish = pd.read_excel(r'data\\us_fishery_foreign_trade.xlsx')\n",
    "fish.head()"
   ]
  },
  {
   "cell_type": "code",
   "execution_count": null,
   "metadata": {
    "datalore": {
     "sheet_delimiter": false
    },
    "tags": [
     "DataChill"
    ]
   },
   "outputs": [],
   "source": [
    "fish[\n",
    "    (fish['Country Name'] == 'VIETNAM') &\n",
    "    (fish['Feature'] == 'IMP Quantity')\n",
    "].nlargest(n=5, columns=['Year', 'Month number'])"
   ]
  },
  {
   "cell_type": "code",
   "execution_count": null,
   "metadata": {
    "datalore": {
     "sheet_delimiter": false
    },
    "tags": [
     "DataChill"
    ]
   },
   "outputs": [],
   "source": [
    "fish[\n",
    "    (fish['Country Name'] == 'VIETNAM') &\n",
    "    (fish['Feature'] == 'IMP Quantity')\n",
    "].sort_values(by=['Year', 'Month number']).tail(5)"
   ]
  },
  {
   "cell_type": "code",
   "execution_count": null,
   "metadata": {
    "datalore": {
     "sheet_delimiter": false
    },
    "tags": [
     "DataChill"
    ]
   },
   "outputs": [],
   "source": [
    "fish[\n",
    "    (fish['Country Name'] == 'VIETNAM') &\n",
    "    (fish['Feature'] == 'IMP Quantity')\n",
    "].sort_values(by=['Year', 'Month number']).iloc[:-5]"
   ]
  },
  {
   "cell_type": "markdown",
   "metadata": {
    "datalore": {
     "sheet_delimiter": false
    },
    "tags": [
     "DataChill"
    ]
   },
   "source": [
    "**Tình huống 2:** Đếm số bản ghi từng tháng."
   ]
  },
  {
   "cell_type": "code",
   "execution_count": null,
   "metadata": {
    "datalore": {
     "sheet_delimiter": false
    },
    "tags": [
     "DataChill"
    ]
   },
   "outputs": [],
   "source": [
    "import numpy as np\n",
    "import pandas as pd\n",
    "fish = pd.read_excel(r'data\\us_fishery_foreign_trade.xlsx')\n",
    "fish.head()"
   ]
  },
  {
   "cell_type": "code",
   "execution_count": null,
   "metadata": {
    "datalore": {
     "sheet_delimiter": false
    },
    "tags": [
     "DataChill"
    ]
   },
   "outputs": [],
   "source": [
    "fish.groupby(['Year', 'Month']).size()"
   ]
  },
  {
   "cell_type": "markdown",
   "metadata": {
    "datalore": {
     "sheet_delimiter": false
    },
    "tags": [
     "DataChill"
    ]
   },
   "source": [
    "**Tình huống 3:** Tính kim ngạch xuất nhập khẩu trung bình từng tháng của tất cả các năm."
   ]
  },
  {
   "cell_type": "code",
   "execution_count": null,
   "metadata": {
    "datalore": {
     "sheet_delimiter": false
    },
    "tags": [
     "DataChill"
    ]
   },
   "outputs": [],
   "source": [
    "import numpy as np\n",
    "import pandas as pd\n",
    "fish = pd.read_excel(r'data\\us_fishery_foreign_trade.xlsx')\n",
    "fish.head()"
   ]
  },
  {
   "cell_type": "code",
   "execution_count": null,
   "metadata": {
    "datalore": {
     "sheet_delimiter": false
    },
    "tags": [
     "DataChill"
    ]
   },
   "outputs": [],
   "source": [
    "fish[fish.Feature.str.contains('Value')]\\\n",
    "    .groupby(['Feature', 'Year', 'Month number']).sum().reset_index()\\\n",
    "    .groupby(['Feature', 'Month number']).mean()['Value'].reset_index()"
   ]
  },
  {
   "cell_type": "markdown",
   "metadata": {
    "datalore": {
     "sheet_delimiter": false
    },
    "tags": [
     "DataChill"
    ]
   },
   "source": [
    "Tài liệu dành cho các bạn đã mua khoá học của DataChilly. Vui lòng không sao chép, chia sẻ dưới mọi hình thức.\n",
    "\n",
    "![image](https://img.shields.io/badge/Data-Chilly-teal?logo=python)"
   ]
  }
 ],
 "metadata": {
  "kernelspec": {
   "display_name": "Python 3",
   "language": "python",
   "name": "python3"
  },
  "language_info": {
   "codemirror_mode": {
    "name": "ipython",
    "version": 3
   },
   "file_extension": ".py",
   "mimetype": "text/x-python",
   "name": "python",
   "nbconvert_exporter": "python",
   "pygments_lexer": "ipython3",
   "version": "3.8.8"
  }
 },
 "nbformat": 4,
 "nbformat_minor": 4
}
