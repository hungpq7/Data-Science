{
 "cells": [
  {
   "cell_type": "markdown",
   "metadata": {
    "datalore": {
     "sheet_delimiter": false
    },
    "tags": [
     "DataChill"
    ]
   },
   "source": [
    "<img src=\"https://raw.githubusercontent.com/linhpt7/COURSE/main/datachilly_logo.png\" style=\"height:100px; margin:0 auto 20px;\">"
   ]
  },
  {
   "cell_type": "markdown",
   "metadata": {
    "tags": [
     "DataChill"
    ]
   },
   "source": [
    "# MỤC LỤC\n",
    "- [1. Xử lý missing data](#1.-Xử-lý-missing-data)\n",
    "  * [1.1. Nguyên nhân gây thiếu dữ liệu](#1.1.-Nguyên-nhân-gây-thiếu-dữ-liệu)\n",
    "  * [1.2. Nhận dạng dữ liệu trống](#1.2.-Nhận-dạng-dữ-liệu-trống)\n",
    "  * [1.3. Xóa cột](#1.3.-Xóa-cột)\n",
    "  * [1.4. Xóa dòng](#1.4.-Xóa-dòng)\n",
    "  * [1.5. Điền một giá trị cụ thể](#1.5.-Điền-một-giá-trị-cụ-thể)\n",
    "  * [1.6. Nội suy](#1.6.-Nội-suy)\n",
    "    * [Missing trong chuỗi thời gian](#Missing-trong-chuỗi-thời-gian)\n",
    "    * [Thay thế bằng giá trị liền trước (foward fill)](#Thay-thế-bằng-giá-trị-liền-trước-(foward-fill))\n",
    "    * [Thay thế bằng giá trị liền sau (backward fill)](#Thay-thế-bằng-giá-trị-liền-sau-(backward-fill))\n",
    "    * [Thay thế bằng trung bình 2 giá trị liền kề](#Thay-thế-bằng-trung-bình-2-giá-trị-liền-kề)\n",
    "- [2. Loại bỏ giá trị ngoại biên](#2.-Loại-bỏ-giá-trị-ngoại-biên)\n",
    "  * [2.1. Sử dụng trung bình và độ lệch chuẩn](#2.1.-Sử-dụng-trung-bình-và-độ-lệch-chuẩn)\n",
    "  * [2.2. Sử dụng khoảng tứ phân vị](#2.2.-Sử-dụng-khoảng-tứ-phân-vị)\n"
   ]
  },
  {
   "cell_type": "markdown",
   "metadata": {
    "datalore": {
     "sheet_delimiter": false
    },
    "tags": [
     "DataChill"
    ]
   },
   "source": [
    "# 1. Xử lý missing data\n",
    "\n",
    "![image](https://img.shields.io/badge/Data-Chilly-teal?logo=python)"
   ]
  },
  {
   "cell_type": "markdown",
   "metadata": {
    "datalore": {
     "sheet_delimiter": false
    },
    "tags": [
     "DataChill"
    ]
   },
   "source": [
    "## 1.1. Nguyên nhân gây thiếu dữ liệu"
   ]
  },
  {
   "cell_type": "markdown",
   "metadata": {
    "datalore": {
     "sheet_delimiter": false
    },
    "tags": [
     "DataChill"
    ]
   },
   "source": [
    "<table border=\"0\">\n",
    "    <tr>\n",
    "        <td style=\"width:33%; text-align:center\">\n",
    "            <b>Missing Completely At Random (MCAR)</b>\n",
    "        </td>\n",
    "        <td style=\"width:33%; text-align:center\">\n",
    "            <b>Missing At Random (MAR)</b>\n",
    "        </td>\n",
    "        <td style=\"width:33%; text-align:center\">\n",
    "            <b>Missing Not At Random (MNAR)</b>\n",
    "        </td>\n",
    "    </tr>\n",
    "    <tr>\n",
    "        <td style=\"text-align:justify\">\n",
    "            Các giá trị thiếu loại MCAR không tuân theo bất cứ quy luật nào,\n",
    "            do đó không gây mất cân bằng dữ liệu. Có thể xóa (deletion)\n",
    "            hoặc giả lập dữ liệu (imputation).\n",
    "        </td>\n",
    "        <td style=\"text-align:justify\">\n",
    "            Các giá trị trống của IQ Score xuất hiện ở những người dưới 25 tuổi.\n",
    "            Việc xóa missing data sẽ làm thuộc tính Age mất cân bằng,\n",
    "            do đó cách xử lý tốt nhất là imputation.\n",
    "        </td>\n",
    "        <td style=\"text-align:justify\"> \n",
    "            Những người có IQ dưới 100 không điền khảo sát về chỉ số IQ.\n",
    "            Những giá trị bị khuyết khác hoàn toàn phần dữ liệu quan sát được.\n",
    "            Các kỹ thuật deletion và imputation đều gây mất cân bằng dữ liệu.\n",
    "        </td>\n",
    "    </tr>\n",
    "    <tr>\n",
    "        <td>\n",
    "            <table>\n",
    "                <tr><th>Dữ liệu hoàn chỉnh</th><th>Dữ liệu thực tế</th></tr>\n",
    "<tr><td>\n",
    "    \n",
    "Age |IQ Score|\n",
    ":---|:-------|\n",
    "20  |120     |\n",
    "22  |112     |\n",
    "24  |127     |\n",
    "29  |97      |\n",
    "30  |103     |\n",
    "40  |95      |\n",
    "45  |141     |\n",
    "47  |92      |\n",
    "52  |115     |\n",
    "\n",
    "</td><td>\n",
    "\n",
    "Age |IQ Score|\n",
    ":---|:-------|\n",
    "20  |120     |\n",
    "22  |        |\n",
    "24  |127     |\n",
    "29  |        |\n",
    "30  |103     |\n",
    "40  |95      |\n",
    "45  |        |\n",
    "47  |92      |\n",
    "52  |115     |\n",
    "\n",
    "</td></tr>\n",
    "            </table>\n",
    "        </td>\n",
    "        <td>\n",
    "            <table>\n",
    "                <tr><th>Dữ liệu hoàn chỉnh</th><th>Dữ liệu thực tế</th></tr>\n",
    "<tr><td>\n",
    "    \n",
    "Age |IQ Score|\n",
    ":---|:-------|\n",
    "20  |120     |\n",
    "22  |112     |\n",
    "24  |127     |\n",
    "29  |97      |\n",
    "30  |103     |\n",
    "40  |95      |\n",
    "45  |141     |\n",
    "47  |92      |\n",
    "52  |115     |\n",
    "\n",
    "</td><td>\n",
    "\n",
    "Age |IQ Score|\n",
    ":---|:-------|\n",
    "20  |        |\n",
    "22  |        |\n",
    "24  |        |\n",
    "29  |97      |\n",
    "30  |103     |\n",
    "40  |95      |\n",
    "45  |141     |\n",
    "47  |92      |\n",
    "52  |115     |\n",
    "\n",
    "</td></tr>\n",
    "            </table>\n",
    "        </td>\n",
    "        <td>\n",
    "            <table>\n",
    "                <tr><th>Dữ liệu hoàn chỉnh</th><th>Dữ liệu thực tế</th></tr>\n",
    "<tr><td>\n",
    "    \n",
    "Age |IQ Score|\n",
    ":---|:-------|\n",
    "20  |120     |\n",
    "22  |112     |\n",
    "24  |127     |\n",
    "29  |97      |\n",
    "30  |103     |\n",
    "40  |95      |\n",
    "45  |141     |\n",
    "47  |92      |\n",
    "52  |115     |\n",
    "\n",
    "</td><td>\n",
    "\n",
    "Age |IQ Score|\n",
    ":---|:-------|\n",
    "20  |120     |\n",
    "22  |112     |\n",
    "24  |127     |\n",
    "29  |        |\n",
    "30  |103     |\n",
    "40  |        |\n",
    "45  |141     |\n",
    "47  |        |\n",
    "52  |115     |\n",
    "\n",
    "</td></tr>\n",
    "            </table>\n",
    "        </td>\n",
    "    </tr>\n",
    "</table>"
   ]
  },
  {
   "cell_type": "markdown",
   "metadata": {
    "datalore": {
     "sheet_delimiter": false
    },
    "tags": [
     "DataChill"
    ]
   },
   "source": [
    "## 1.2. Nhận dạng dữ liệu trống\n",
    "Trên thực tế, dữ liệu trống có thể tồn tại dưới nhiều dạng như `None`, `N/A` (not available), `-` hay `NaN` (not a number).\\\n",
    "Trong Pandas, hằng số `np.nan` và các dữ liệu trống đều được hiển thị là `NaN`."
   ]
  },
  {
   "cell_type": "code",
   "execution_count": null,
   "metadata": {
    "datalore": {
     "sheet_delimiter": false
    },
    "tags": [
     "DataChill"
    ]
   },
   "outputs": [],
   "source": [
    "import numpy as np\n",
    "import pandas as pd"
   ]
  },
  {
   "cell_type": "code",
   "execution_count": null,
   "metadata": {
    "datalore": {
     "sheet_delimiter": false
    },
    "tags": [
     "DataChill"
    ]
   },
   "outputs": [],
   "source": [
    "pd.DataFrame({\n",
    "    'age': pd.Series([22, 24, 29, 30, 37]),\n",
    "    'iq': pd.Series([np.nan, 127, 112, np.nan])\n",
    "})"
   ]
  },
  {
   "cell_type": "markdown",
   "metadata": {
    "datalore": {
     "sheet_delimiter": false
    },
    "tags": [
     "DataChill"
    ]
   },
   "source": [
    "## 1.3. Xóa cột\n",
    "Nếu một thuộc tính chứa trên 50% giá trị trống, có thể xóa cả cột này."
   ]
  },
  {
   "cell_type": "code",
   "execution_count": null,
   "metadata": {
    "datalore": {
     "sheet_delimiter": false
    },
    "tags": [
     "DataChill"
    ]
   },
   "outputs": [],
   "source": [
    "import numpy as np\n",
    "import pandas as pd"
   ]
  },
  {
   "cell_type": "code",
   "execution_count": null,
   "metadata": {
    "datalore": {
     "sheet_delimiter": false
    },
    "tags": [
     "DataChill"
    ]
   },
   "outputs": [],
   "source": [
    "covid = pd.DataFrame({\n",
    "    'country': ['US', 'Russia', 'Brazil', 'UK', 'Spain', 'Italy', 'France', 'Germany', 'Turkey', 'Iran'],\n",
    "    'comfirmed': [1576, 317, 310, 252, 233, 228, 181, 179, 153, 129],\n",
    "    'deaths': [94, 3, 20, 36, 27, 32, 28, 8, 4, 7],\n",
    "    'recovered': [298, None, 125, None, 150, 134, None, None, None, None]\n",
    "})\n",
    "covid"
   ]
  },
  {
   "cell_type": "code",
   "execution_count": null,
   "metadata": {
    "datalore": {
     "sheet_delimiter": false
    },
    "tags": [
     "DataChill"
    ]
   },
   "outputs": [],
   "source": [
    "# tỷ lệ missing ở các cột\n",
    "covid.isna().mean()"
   ]
  },
  {
   "cell_type": "code",
   "execution_count": null,
   "metadata": {
    "datalore": {
     "sheet_delimiter": false
    },
    "tags": [
     "DataChill"
    ]
   },
   "outputs": [],
   "source": [
    "covid.drop(columns='recovered')"
   ]
  },
  {
   "cell_type": "markdown",
   "metadata": {
    "datalore": {
     "sheet_delimiter": false
    },
    "tags": [
     "DataChill"
    ]
   },
   "source": [
    "## 1.4. Xóa dòng"
   ]
  },
  {
   "cell_type": "code",
   "execution_count": null,
   "metadata": {
    "datalore": {
     "sheet_delimiter": false
    },
    "tags": [
     "DataChill"
    ]
   },
   "outputs": [],
   "source": [
    "import numpy as np\n",
    "import pandas as pd"
   ]
  },
  {
   "cell_type": "code",
   "execution_count": null,
   "metadata": {
    "datalore": {
     "sheet_delimiter": false
    },
    "tags": [
     "DataChill"
    ]
   },
   "outputs": [],
   "source": [
    "covid = pd.DataFrame({\n",
    "    'country': ['US', 'Russia', 'Brazil', 'UK', 'Spain', 'Italy', 'France', 'Germany', 'Turkey', 'Iran'],\n",
    "    'comfirmed': [1576, 317, 310, 252, 233, 228, 181, 179, 153, 129],\n",
    "    'deaths': [94, 3, 20, 36, 27, 32, 28, 8, 4, 7],\n",
    "    'recovered': [298, None, 125, None, 150, 134, 63, 158, 114, 100]\n",
    "})\n",
    "covid"
   ]
  },
  {
   "cell_type": "code",
   "execution_count": null,
   "metadata": {
    "datalore": {
     "sheet_delimiter": false
    },
    "tags": [
     "DataChill"
    ]
   },
   "outputs": [],
   "source": [
    "# xóa những hàng chứa giá trị trống trong cột recovered\n",
    "covid.dropna(subset=['recovered'])"
   ]
  },
  {
   "cell_type": "markdown",
   "metadata": {
    "datalore": {
     "sheet_delimiter": false
    },
    "tags": [
     "DataChill"
    ]
   },
   "source": [
    "## 1.5. Điền một giá trị cụ thể"
   ]
  },
  {
   "cell_type": "code",
   "execution_count": null,
   "metadata": {
    "datalore": {
     "sheet_delimiter": false
    },
    "tags": [
     "DataChill"
    ]
   },
   "outputs": [],
   "source": [
    "import numpy as np\n",
    "import pandas as pd"
   ]
  },
  {
   "cell_type": "code",
   "execution_count": null,
   "metadata": {
    "datalore": {
     "sheet_delimiter": false
    },
    "tags": [
     "DataChill"
    ]
   },
   "outputs": [],
   "source": [
    "covid = pd.DataFrame({\n",
    "    'country': ['US', 'Russia', 'Brazil', 'UK', 'Spain', 'Italy', 'France', 'Germany', 'Turkey', 'Iran'],\n",
    "    'comfirmed': [1576, 317, 310, 252, 233, 228, 181, 179, 153, 129],\n",
    "    'deaths': [94, 3, 20, 36, 27, 32, 28, 8, 4, 7],\n",
    "    'recovered': [298, None, 125, None, 150, 134, 63, 158, 114, 100],\n",
    "    'continent': ['America', np.nan, 'America', 'Europe', 'Europe', 'Europe', 'Europe', np.nan, 'Europe', 'Asia']\n",
    "})\n",
    "covid"
   ]
  },
  {
   "cell_type": "markdown",
   "metadata": {
    "datalore": {
     "sheet_delimiter": false
    },
    "tags": [
     "DataChill"
    ]
   },
   "source": [
    "Trong ví dụ trên:\n",
    "- `recovered` là thuộc tính định lượng, có thể impute bằng cách sử dụng mean hoặc median.\n",
    "- `continent` là thông tin định tính nên sẽ được impute bằng mode (giá trị xuất hiện nhiều nhất)."
   ]
  },
  {
   "cell_type": "code",
   "execution_count": null,
   "metadata": {
    "datalore": {
     "sheet_delimiter": false
    },
    "tags": [
     "DataChill"
    ]
   },
   "outputs": [],
   "source": [
    "recovered_fill_value = covid.recovered.mean()\n",
    "recovered_fill_value"
   ]
  },
  {
   "cell_type": "code",
   "execution_count": null,
   "metadata": {
    "datalore": {
     "sheet_delimiter": false
    },
    "tags": [
     "DataChill"
    ]
   },
   "outputs": [],
   "source": [
    "continent_fill_value = covid.continent.mode()[0]\n",
    "continent_fill_value"
   ]
  },
  {
   "cell_type": "code",
   "execution_count": null,
   "metadata": {
    "datalore": {
     "sheet_delimiter": false
    },
    "tags": [
     "DataChill"
    ]
   },
   "outputs": [],
   "source": [
    "covid.recovered = covid.recovered.fillna(recovered_fill_value)\n",
    "covid.continent = covid.continent.fillna(continent_fill_value)\n",
    "covid"
   ]
  },
  {
   "cell_type": "markdown",
   "metadata": {
    "datalore": {
     "sheet_delimiter": false
    },
    "tags": [
     "DataChill"
    ]
   },
   "source": [
    "**Chú ý:** Việc sử dụng mean, median hay mode để điền vị trí thiếu dữ liệu có nhược điểm là làm giảm phương sai."
   ]
  },
  {
   "cell_type": "markdown",
   "metadata": {
    "datalore": {
     "sheet_delimiter": false
    },
    "tags": [
     "DataChill"
    ]
   },
   "source": [
    "## 1.6. Nội suy\n",
    "Nội suy (interpolation) là kỹ thuật tạo ra giá trị mới một tập dữ liệu có sẵn. Phương pháp nội suy thường được dùng để giả lập giá trị thiếu cho thuộc tính có liên quan đến chuỗi thời gian (time series)."
   ]
  },
  {
   "cell_type": "code",
   "execution_count": null,
   "metadata": {
    "datalore": {
     "sheet_delimiter": false
    },
    "tags": [
     "DataChill"
    ]
   },
   "outputs": [],
   "source": [
    "import numpy as np\n",
    "import pandas as pd"
   ]
  },
  {
   "cell_type": "code",
   "execution_count": null,
   "metadata": {
    "datalore": {
     "sheet_delimiter": false
    },
    "tags": [
     "DataChill"
    ]
   },
   "outputs": [],
   "source": [
    "# cột date hiện không liên tục theo ngày\n",
    "df = pd.DataFrame({\n",
    "    'date': pd.to_datetime([\n",
    "        '2020-01-01', '2020-01-03', '2020-01-04', '2020-01-05',\n",
    "        '2020-01-06', '2020-01-07', '2020-01-09', '2020-01-10'\n",
    "    ]),\n",
    "    'price': [110, 113, 112, 115, 118, 120, 118, 116]\n",
    "})\n",
    "df"
   ]
  },
  {
   "cell_type": "markdown",
   "metadata": {
    "datalore": {
     "sheet_delimiter": false
    },
    "tags": [
     "DataChill"
    ]
   },
   "source": [
    "#### Missing trong chuỗi thời gian"
   ]
  },
  {
   "cell_type": "code",
   "execution_count": null,
   "metadata": {
    "datalore": {
     "sheet_delimiter": false
    },
    "tags": [
     "DataChill"
    ]
   },
   "outputs": [],
   "source": [
    "# tạo một chuỗi thời gian liên tiếp theo ngày\n",
    "df = df.set_index('date').asfreq('d').reset_index()\n",
    "df"
   ]
  },
  {
   "cell_type": "markdown",
   "metadata": {
    "datalore": {
     "sheet_delimiter": false
    },
    "tags": [
     "DataChill"
    ]
   },
   "source": [
    "#### Thay thế bằng giá trị liền trước (foward fill)"
   ]
  },
  {
   "cell_type": "code",
   "execution_count": null,
   "metadata": {
    "datalore": {
     "sheet_delimiter": false
    },
    "tags": [
     "DataChill"
    ]
   },
   "outputs": [],
   "source": [
    "df.price.fillna(method='ffill')"
   ]
  },
  {
   "cell_type": "markdown",
   "metadata": {
    "datalore": {
     "sheet_delimiter": false
    },
    "tags": [
     "DataChill"
    ]
   },
   "source": [
    "#### Thay thế bằng giá trị liền sau (backward fill)"
   ]
  },
  {
   "cell_type": "code",
   "execution_count": null,
   "metadata": {
    "datalore": {
     "sheet_delimiter": false
    },
    "tags": [
     "DataChill"
    ]
   },
   "outputs": [],
   "source": [
    "df.price.fillna(method='bfill')"
   ]
  },
  {
   "cell_type": "markdown",
   "metadata": {
    "datalore": {
     "sheet_delimiter": false
    },
    "tags": [
     "DataChill"
    ]
   },
   "source": [
    "#### Thay thế bằng trung bình 2 giá trị liền kề"
   ]
  },
  {
   "cell_type": "code",
   "execution_count": null,
   "metadata": {
    "datalore": {
     "sheet_delimiter": false
    },
    "tags": [
     "DataChill"
    ]
   },
   "outputs": [],
   "source": [
    "df.price.interpolate(method='linear')"
   ]
  },
  {
   "cell_type": "markdown",
   "metadata": {
    "datalore": {
     "sheet_delimiter": false
    },
    "tags": [
     "DataChill"
    ]
   },
   "source": [
    "# 2. Loại bỏ giá trị ngoại biên\n",
    "![image](https://img.shields.io/badge/Data-Chilly-teal?logo=python)"
   ]
  },
  {
   "cell_type": "markdown",
   "metadata": {
    "datalore": {
     "sheet_delimiter": false
    },
    "tags": [
     "DataChill"
    ]
   },
   "source": [
    "Giá trị ngoại biên (outlier) là những điểm nằm cách xa phần lớn dữ liệu, chúng sẽ gây ra sai số đáng kể trong phân tích thống kê. Để loại bỏ outlier có thể sử dụng cả kỹ thuật định tính và định lượng."
   ]
  },
  {
   "cell_type": "markdown",
   "metadata": {
    "datalore": {
     "sheet_delimiter": false
    },
    "tags": [
     "DataChill"
    ]
   },
   "source": [
    "## 2.1. Sử dụng trung bình và độ lệch chuẩn\n",
    "Cách tiếp cận: loại bỏ các điểm dữ liệu nhỏ hơn $\\mu-2\\sigma$ hoặc lớn hơn $\\mu+2\\sigma$, trong đó: $\\mu$ là trung bình, $\\sigma$ là độ lệch chuẩn.\\\n",
    "Bạn có thể điều chỉnh khoảng trên thành $2.5\\sigma$ hay $3\\sigma$ tùy từng bài toán cụ thể. Hệ số 2, 2.5 hay 3 nhân với $\\sigma$ có tên gọi là z-score.\n",
    "\n",
    "Cụ thể hơn, nếu số liệu có phân phối chuẩn:\n",
    "- Khoảng [$\\mu-2\\sigma$; $\\mu+2\\sigma$] loại bỏ 4.56% dữ liệu\n",
    "- Khoảng [$\\mu-2.5\\sigma$; $\\mu+2.5\\sigma$] loại bỏ 1.24% dữ liệu\n",
    "- Khoảng [$\\mu-3\\sigma$; $\\mu+3\\sigma$] loại bỏ 0.28% dữ liệu\n",
    "\n",
    "<img src=\"images\\z_score.png\">\\\n",
    "*Nguồn: [Wikipedia](https://en.wikipedia.org/wiki/Outlier)*"
   ]
  },
  {
   "cell_type": "code",
   "execution_count": null,
   "metadata": {
    "datalore": {
     "sheet_delimiter": false
    },
    "tags": [
     "DataChill"
    ]
   },
   "outputs": [],
   "source": [
    "import numpy as np\n",
    "import pandas as pd"
   ]
  },
  {
   "cell_type": "code",
   "execution_count": null,
   "metadata": {
    "datalore": {
     "sheet_delimiter": false
    },
    "tags": [
     "DataChill"
    ]
   },
   "outputs": [],
   "source": [
    "# hàm xử lý outlier bằng z-score\n",
    "def outliers_zscore(array, z):\n",
    "    'Nhận tham số đầu vào là một array, trả về array mới đã thay các outlier bởi None.'\n",
    "    import numpy as np\n",
    "    array = np.array(array, dtype=float)\n",
    "    mean = array.mean()\n",
    "    std = array.std()\n",
    "    lower = mean - z*std # ngưỡng dưới\n",
    "    upper = mean + z*std # ngưỡng trên\n",
    "    array[(array < lower) | (array > upper)] = np.nan # thay outlier bởi None\n",
    "    return array"
   ]
  },
  {
   "cell_type": "code",
   "execution_count": null,
   "metadata": {
    "datalore": {
     "sheet_delimiter": false
    },
    "tags": [
     "DataChill"
    ]
   },
   "outputs": [],
   "source": [
    "# dataset về chất lượng rượu\n",
    "wine = pd.read_excel(r'data\\wine_quality.xlsx')"
   ]
  },
  {
   "cell_type": "code",
   "execution_count": null,
   "metadata": {
    "datalore": {
     "sheet_delimiter": false
    },
    "tags": [
     "DataChill"
    ]
   },
   "outputs": [],
   "source": [
    "wine.head()"
   ]
  },
  {
   "cell_type": "code",
   "execution_count": null,
   "metadata": {
    "datalore": {
     "sheet_delimiter": false
    },
    "tags": [
     "DataChill"
    ]
   },
   "outputs": [],
   "source": [
    "# xử lý outliers từ cột fixed_acidity đến cột alcohol\n",
    "for i in range(12):\n",
    "    column_name = wine.columns[i]\n",
    "    wine[column_name] = outliers_zscore(wine[column_name], z=3)"
   ]
  },
  {
   "cell_type": "code",
   "execution_count": null,
   "metadata": {
    "datalore": {
     "sheet_delimiter": false
    },
    "tags": [
     "DataChill"
    ]
   },
   "outputs": [],
   "source": [
    "pd.DataFrame({\n",
    "    'removed_count': wine.isna().sum(),\n",
    "    'removed_rate': (wine.isna().sum() / wine.shape[0] * 100).apply(lambda x: f'{x:.2f}%')\n",
    "})"
   ]
  },
  {
   "cell_type": "markdown",
   "metadata": {
    "datalore": {
     "sheet_delimiter": false
    },
    "tags": [
     "DataChill"
    ]
   },
   "source": [
    "## 2.2. Sử dụng khoảng tứ phân vị\n",
    "Cách tiếp cận: loại bỏ các điểm dữ liệu nhỏ hơn $Q_1-1.5\\times IQR$ hoặc lớn hơn $Q_3+1.5\\times IQR$, trong đó: $Q_1$ và $Q_3$ là các điểm tứ phân vị thứ nhất và thứ ba, $IQR=Q_3-Q_1$ là khoảng tứ phân vị (interquartile range).\n",
    "\n",
    "<img src=\"images\\interquartile_range.png\">\\\n",
    "*Nguồn: [Wikipedia](https://en.wikipedia.org/wiki/Interquartile_range)*"
   ]
  },
  {
   "cell_type": "code",
   "execution_count": null,
   "metadata": {
    "datalore": {
     "sheet_delimiter": false
    },
    "tags": [
     "DataChill"
    ]
   },
   "outputs": [],
   "source": [
    "import numpy as np\n",
    "import pandas as pd"
   ]
  },
  {
   "cell_type": "code",
   "execution_count": null,
   "metadata": {
    "datalore": {
     "sheet_delimiter": false
    },
    "tags": [
     "DataChill"
    ]
   },
   "outputs": [],
   "source": [
    "def outliers_iqr(array):\n",
    "    import numpy as np\n",
    "    array = np.array(array, dtype=float)\n",
    "    Q1, Q3 = np.quantile(array, [0.25, 0.75])\n",
    "    IQR = Q3 - Q1\n",
    "    lower = Q1 - 1.5*IQR # ngưỡng dưới\n",
    "    upper = Q3 + 1.5*IQR # ngưỡng trên\n",
    "    array[(array < lower) | (array > upper)] = np.nan # thay outlier bởi None\n",
    "    return array"
   ]
  },
  {
   "cell_type": "code",
   "execution_count": null,
   "metadata": {
    "datalore": {
     "sheet_delimiter": false
    },
    "tags": [
     "DataChill"
    ]
   },
   "outputs": [],
   "source": [
    "# dataset về chất lượng rượu\n",
    "wine = pd.read_excel(r'data\\wine_quality.xlsx')"
   ]
  },
  {
   "cell_type": "code",
   "execution_count": null,
   "metadata": {
    "datalore": {
     "sheet_delimiter": false
    },
    "tags": [
     "DataChill"
    ]
   },
   "outputs": [],
   "source": [
    "wine.head()"
   ]
  },
  {
   "cell_type": "code",
   "execution_count": null,
   "metadata": {
    "datalore": {
     "sheet_delimiter": false
    },
    "tags": [
     "DataChill"
    ]
   },
   "outputs": [],
   "source": [
    "# xử lý outliers từ cột fixed_acidity đến cột alcohol\n",
    "for i in range(12):\n",
    "    column_name = wine.columns[i]\n",
    "    wine[column_name] = outliers_iqr(wine[column_name])"
   ]
  },
  {
   "cell_type": "code",
   "execution_count": null,
   "metadata": {
    "datalore": {
     "sheet_delimiter": false
    },
    "tags": [
     "DataChill"
    ]
   },
   "outputs": [],
   "source": [
    "pd.DataFrame({\n",
    "    'removed_count': wine.isna().sum(),\n",
    "    'removed_rate': (wine.isna().sum() / wine.shape[0] * 100).apply(lambda x: f'{x:.2f}%')\n",
    "})"
   ]
  },
  {
   "cell_type": "code",
   "execution_count": null,
   "metadata": {
    "datalore": {
     "sheet_delimiter": false
    },
    "tags": [
     "DataChill"
    ]
   },
   "outputs": [],
   "source": [
    "from IPython.display import Image\n",
    "Image('https://raw.githubusercontent.com/linhpt7/COURSE/main/datachilly_logo.png', height=100)"
   ]
  },
  {
   "cell_type": "markdown",
   "metadata": {
    "datalore": {
     "sheet_delimiter": false
    },
    "tags": [
     "DataChill"
    ]
   },
   "source": [
    "Tài liệu dành cho các bạn đã mua khoá học của DataChilly. Vui lòng không sao chép, chia sẻ dưới mọi hình thức.\n",
    "\n",
    "![image](https://img.shields.io/badge/Data-Chilly-teal?logo=python)"
   ]
  }
 ],
 "metadata": {
  "kernelspec": {
   "display_name": "Python 3",
   "language": "python",
   "name": "python3"
  },
  "language_info": {
   "codemirror_mode": {
    "name": "ipython",
    "version": 3
   },
   "file_extension": ".py",
   "mimetype": "text/x-python",
   "name": "python",
   "nbconvert_exporter": "python",
   "pygments_lexer": "ipython3",
   "version": "3.8.8"
  }
 },
 "nbformat": 4,
 "nbformat_minor": 4
}
