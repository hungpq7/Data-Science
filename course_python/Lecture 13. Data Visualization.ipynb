{
 "cells": [
  {
   "cell_type": "markdown",
   "metadata": {
    "datalore": {
     "sheet_delimiter": false
    },
    "tags": [
     "DataChill"
    ]
   },
   "source": [
    "<img src=\"https://raw.githubusercontent.com/linhpt7/COURSE/main/datachilly_logo.png\" style=\"height:100px; margin:0 auto 20px;\">"
   ]
  },
  {
   "cell_type": "markdown",
   "metadata": {
    "tags": [
     "DataChill"
    ]
   },
   "source": [
    "# MỤC LỤC\n",
    "- [1. Giới thiệu trực quan hoá dữ liệu](#1.-Giới-thiệu-trực-quan-hoá-dữ-liệu)\n",
    "  * [1.1. Tại sao cần trực quan hoá dữ liệu](#1.1.-Tại-sao-cần-trực-quan-hoá-dữ-liệu)\n",
    "  * [1.2. Các thành phần của biểu đồ](#1.2.-Các-thành-phần-của-biểu-đồ)\n",
    "    * [Giao diện](#Giao-diện)\n",
    "    * [Figure và axes](#Figure-và-axes)\n",
    "  * [1.3. Bảng màu Matplotlib và Seaborn](#1.3.-Bảng-màu-Matplotlib-và-Seaborn)\n",
    "  * [1.4. Ba kiểu dữ liệu phổ biến trong Visualization](#1.4.-Ba-kiểu-dữ-liệu-phổ-biến-trong-Visualization)\n",
    "- [2. Biểu đồ cơ bản](#2.-Biểu-đồ-cơ-bản)\n",
    "  * [2.1. Pie chart](#2.1.-Pie-chart)\n",
    "  * [2.2. Line chart](#2.2.-Line-chart)\n",
    "  * [2.3. Bar chart](#2.3.-Bar-chart)\n",
    "  * [2.4. Heatmap](#2.4.-Heatmap)\n",
    "- [3. Biểu đồ chuyên sâu](#3.-Biểu-đồ-chuyên-sâu)\n",
    "  * [3.1. Histogram](#3.1.-Histogram)\n",
    "    * [Histogram cơ bản](#Histogram-cơ-bản)\n",
    "    * [Histogram với 2 chiều thông tin](#Histogram-với-2-chiều-thông-tin)\n",
    "  * [3.2. Box plot](#3.2.-Box-plot)\n",
    "    * [Boxplot đơn với 1 thuộc tính](#Boxplot-đơn-với-1-thuộc-tính)\n",
    "    * [Boxplot với 3 hoặc 4 chiều thông tin](#Boxplot-với-3-hoặc-4-chiều-thông-tin)\n",
    "  * [3.3. Scatter plot](#3.3.-Scatter-plot)\n",
    "    * [Scatter plot cơ bản](#Scatter-plot-cơ-bản)\n",
    "    * [Scatter plot với 2 thuộc tính định lượng](#Scatter-plot-với-2-thuộc-tính-định-lượng)\n",
    "    * [Scatter plot với 3 và 4 thuộc tính](#Scatter-plot-với-3-và-4-thuộc-tính)\n",
    "    * [Swarm plot - biến thể của Scatter plot](#Swarm-plot---biến-thể-của-Scatter-plot)\n",
    "- [4. Plotly - thư viện vẽ biểu đồ tương tác](#4.-Plotly---thư-viện-vẽ-biểu-đồ-tương-tác)\n",
    "  * [4.1. Interactive Scatter Plot with slider](#4.1.-Interactive-Scatter-Plot-with-slider)\n",
    "  * [4.2. Interactive 3D Scatter Plot](#4.2.-Interactive-3D-Scatter-Plot)\n",
    "  * [4.3. Xuất ra HTML](#4.3.-Xuất-ra-HTML)\n",
    "- [Giải đáp tình huống](#Giải-đáp-tình-huống)\n"
   ]
  },
  {
   "cell_type": "markdown",
   "metadata": {
    "datalore": {
     "sheet_delimiter": false
    },
    "tags": [
     "DataChill"
    ]
   },
   "source": [
    "# 1. Giới thiệu trực quan hoá dữ liệu\n",
    "![image](https://img.shields.io/badge/Data-Chilly-teal?logo=python)"
   ]
  },
  {
   "cell_type": "markdown",
   "metadata": {
    "datalore": {
     "sheet_delimiter": false
    },
    "tags": [
     "DataChill"
    ]
   },
   "source": [
    "## 1.1. Tại sao cần trực quan hoá dữ liệu"
   ]
  },
  {
   "cell_type": "code",
   "execution_count": null,
   "metadata": {
    "datalore": {
     "sheet_delimiter": false
    },
    "tags": [
     "DataChill"
    ]
   },
   "outputs": [],
   "source": [
    "import numpy as np\n",
    "import pandas as pd\n",
    "import matplotlib.pyplot as plt\n",
    "import seaborn as sns\n",
    "sns.set_style('whitegrid'); sns.set_palette('deep')"
   ]
  },
  {
   "cell_type": "markdown",
   "metadata": {
    "datalore": {
     "sheet_delimiter": false
    },
    "tags": [
     "DataChill"
    ]
   },
   "source": [
    "Bộ tứ Anscombe gồm 4 cặp số liệu (x, y) có các đại lượng thống kê mô tả bằng nhau.\\\n",
    "Chúng thậm chí có cùng phương trình hồi quy tuyến tính: $y = 0.5x + 3$.\n",
    "\n",
    "*Tham khảo: [Wikipedia](https://en.wikipedia.org/wiki/Anscombe%27s_quartet)*"
   ]
  },
  {
   "cell_type": "code",
   "execution_count": null,
   "metadata": {
    "datalore": {
     "sheet_delimiter": false
    },
    "tags": [
     "DataChill"
    ]
   },
   "outputs": [],
   "source": [
    "anscombe = pd.read_excel('data/anscombe.xlsx')\n",
    "anscombe"
   ]
  },
  {
   "cell_type": "markdown",
   "metadata": {
    "datalore": {
     "sheet_delimiter": false
    },
    "tags": [
     "DataChill"
    ]
   },
   "source": [
    "**Tình huống 1:** Tính và nhận xét:\n",
    "- Mean và Standard Deviation của x1, x2, x3, x4\n",
    "- Mean và Standard Deviation của y1, y2, y3, y4\n",
    "- Correlation của 4 cặp x-y"
   ]
  },
  {
   "cell_type": "code",
   "execution_count": null,
   "metadata": {
    "datalore": {
     "sheet_delimiter": false
    },
    "tags": [
     "DataChill"
    ]
   },
   "outputs": [],
   "source": [
    "anscombe = sns.load_dataset('anscombe')\n",
    "\n",
    "_ = sns.lmplot(\n",
    "    data=anscombe,\n",
    "    x='x', y='y',\n",
    "    col='dataset', hue='dataset',\n",
    "    ci=False,\n",
    "    col_wrap=2, height=4,\n",
    "    scatter_kws={'s': 50, 'alpha': 1})"
   ]
  },
  {
   "cell_type": "markdown",
   "metadata": {
    "datalore": {
     "sheet_delimiter": false
    },
    "tags": [
     "DataChill"
    ]
   },
   "source": [
    "Có thể nhận thấy 4 bộ số khác nhau nhưng có cùng trung bình, phương sai và cả phương trình hồi quy tuyến tính, tuy nhiên khi vẽ lên thì tương quan của chúng hoàn toàn khác nhau. Đó chính là lí do cần trực quan hóa dữ liệu"
   ]
  },
  {
   "cell_type": "markdown",
   "metadata": {
    "datalore": {
     "sheet_delimiter": false
    },
    "tags": [
     "DataChill"
    ]
   },
   "source": [
    "## 1.2. Các thành phần của biểu đồ"
   ]
  },
  {
   "cell_type": "markdown",
   "metadata": {
    "datalore": {
     "sheet_delimiter": false
    },
    "tags": [
     "DataChill"
    ]
   },
   "source": [
    "#### Giao diện"
   ]
  },
  {
   "cell_type": "code",
   "execution_count": null,
   "metadata": {
    "datalore": {
     "sheet_delimiter": false
    },
    "tags": [
     "DataChill"
    ]
   },
   "outputs": [],
   "source": [
    "import numpy as np\n",
    "import pandas as pd\n",
    "import matplotlib.pyplot as plt\n",
    "import seaborn as sns\n",
    "sns.set_style('whitegrid'); sns.set_palette('deep')"
   ]
  },
  {
   "cell_type": "code",
   "execution_count": null,
   "metadata": {
    "datalore": {
     "sheet_delimiter": false
    },
    "tags": [
     "DataChill"
    ]
   },
   "outputs": [],
   "source": [
    "# tạo dữ liệu\n",
    "x1 = np.arange(-100, 100)\n",
    "y1 = x1**2\n",
    "x2 = np.arange(-100, 100)\n",
    "y2 = 10*x2 + 5000\n",
    "\n",
    "# vẽ biểu đồ\n",
    "plt.plot(x1, y1, label='Parabol')\n",
    "plt.plot(x2, y2, label='Line')\n",
    "\n",
    "# tên trục x, y\n",
    "plt.xlabel('x label')\n",
    "plt.ylabel('y label')\n",
    "\n",
    "# tên biểu đồ\n",
    "plt.title('My graph')\n",
    "\n",
    "# legend\n",
    "plt.legend()\n",
    "\n",
    "plt.show()"
   ]
  },
  {
   "cell_type": "markdown",
   "metadata": {
    "datalore": {
     "sheet_delimiter": false
    },
    "tags": [
     "DataChill"
    ]
   },
   "source": [
    "#### Figure và axes"
   ]
  },
  {
   "cell_type": "code",
   "execution_count": null,
   "metadata": {
    "datalore": {
     "sheet_delimiter": false
    },
    "tags": [
     "DataChill"
    ]
   },
   "outputs": [],
   "source": [
    "import numpy as np\n",
    "import pandas as pd\n",
    "import matplotlib.pyplot as plt\n",
    "import seaborn as sns\n",
    "sns.set_style('whitegrid'); sns.set_palette('deep')"
   ]
  },
  {
   "cell_type": "code",
   "execution_count": null,
   "metadata": {
    "datalore": {
     "sheet_delimiter": false
    },
    "tags": [
     "DataChill"
    ]
   },
   "outputs": [],
   "source": [
    "fig, ax = plt.subplots()"
   ]
  },
  {
   "cell_type": "code",
   "execution_count": null,
   "metadata": {
    "datalore": {
     "sheet_delimiter": false
    },
    "tags": [
     "DataChill"
    ]
   },
   "outputs": [],
   "source": [
    "fig, ax = plt.subplots(nrows=1, ncols=2, figsize=(15,5))"
   ]
  },
  {
   "cell_type": "code",
   "execution_count": null,
   "metadata": {
    "datalore": {
     "sheet_delimiter": false
    },
    "tags": [
     "DataChill"
    ]
   },
   "outputs": [],
   "source": [
    "x1 = np.arange(-100, 100)\n",
    "y1 = x1**2\n",
    "x2 = np.arange(-100, 100)\n",
    "y2 = 10*x2 + 5000\n",
    "\n",
    "fig, ax = plt.subplots(nrows=1, ncols=2, figsize=(15,5))\n",
    "\n",
    "sns.lineplot(x1, y1, ax=ax[0], color='steelblue', linewidth=3)\n",
    "sns.lineplot(x2, y2, ax=ax[1], color='indianred', linewidth=3)\n",
    "\n",
    "plt.show()"
   ]
  },
  {
   "cell_type": "markdown",
   "metadata": {
    "datalore": {
     "sheet_delimiter": false
    },
    "tags": [
     "DataChill"
    ]
   },
   "source": [
    "## 1.3. Bảng màu Matplotlib và Seaborn\n",
    "<img src=\"images\\matplotlib_color_names.png\">\\\n",
    "*Nguồn: [Matplotlib](https://matplotlib.org/3.2.1/gallery/color/named_colors.html)*"
   ]
  },
  {
   "cell_type": "markdown",
   "metadata": {
    "datalore": {
     "sheet_delimiter": false
    },
    "tags": [
     "DataChill"
    ]
   },
   "source": [
    "## 1.4. Ba kiểu dữ liệu phổ biến trong Visualization\n",
    "Data type    |Equivalent measurements|\n",
    ":-----------:|:---------------------:|\n",
    "**Category** |Nominal & Ordinal      |\n",
    "**Date/Time**|Interval               |\n",
    "**Value**    |Ratio                  |"
   ]
  },
  {
   "cell_type": "markdown",
   "metadata": {
    "datalore": {
     "sheet_delimiter": false
    },
    "tags": [
     "DataChill"
    ]
   },
   "source": [
    "# 2. Biểu đồ cơ bản\n",
    "Các loại biểu đồ đơn giản, trực quan, dễ sử dụng, thường dùng để tạo dashboard, báo cáo và trình bày cho các đơn vị kinh doanh, không có nghiệp vụ Phân tích dữ liệu.\n",
    "\n",
    "![image](https://img.shields.io/badge/Data-Chilly-teal?logo=python)"
   ]
  },
  {
   "cell_type": "markdown",
   "metadata": {
    "datalore": {
     "sheet_delimiter": false
    },
    "tags": [
     "DataChill"
    ]
   },
   "source": [
    "## 2.1. Pie chart\n",
    "Pie chart (biểu đồ tròn) được sử dụng để biểu diễn tỷ trọng trong tổng thể. Pie chart thể hiện 2 chiều thông tin:\n",
    "- **Kích thước:** thuộc tính Value\n",
    "- **Màu sắc:** thuộc tính Category"
   ]
  },
  {
   "cell_type": "code",
   "execution_count": null,
   "metadata": {
    "datalore": {
     "sheet_delimiter": false
    },
    "tags": [
     "DataChill"
    ]
   },
   "outputs": [],
   "source": [
    "import numpy as np\n",
    "import pandas as pd\n",
    "import matplotlib.pyplot as plt\n",
    "import seaborn as sns\n",
    "sns.set_style('whitegrid'); sns.set_palette('deep')"
   ]
  },
  {
   "cell_type": "code",
   "execution_count": null,
   "metadata": {
    "datalore": {
     "sheet_delimiter": false
    },
    "tags": [
     "DataChill"
    ]
   },
   "outputs": [],
   "source": [
    "df = pd.DataFrame({\n",
    "    'mass': [100, 200, 400],\n",
    "    'planet': ['Mercury', 'Venus', 'Earth']\n",
    "})\n",
    "\n",
    "plt.figure(figsize=(5,5))\n",
    "plt.style.use('seaborn-whitegrid')\n",
    "plt.pie(df.mass, labels=df.planet, autopct='%1.2f%%')\n",
    "plt.show()"
   ]
  },
  {
   "cell_type": "markdown",
   "metadata": {
    "datalore": {
     "sheet_delimiter": false
    },
    "tags": [
     "DataChill"
    ]
   },
   "source": [
    "## 2.2. Line chart\n",
    "Line chart (biểu đồ đường) thường dùng để biểu diễn xu thế của dữ liệu theo thời gian. Line chart thể hiện được 3 chiều thông tin:\n",
    "- **Trục x:** thuộc tính Datetime hoặc Value\n",
    "- **Trục y:** thuộc tính Value\n",
    "- **Màu sắc:** thuộc tính Category"
   ]
  },
  {
   "cell_type": "code",
   "execution_count": null,
   "metadata": {
    "datalore": {
     "sheet_delimiter": false
    },
    "tags": [
     "DataChill"
    ]
   },
   "outputs": [],
   "source": [
    "import numpy as np\n",
    "import pandas as pd\n",
    "import matplotlib.pyplot as plt\n",
    "import seaborn as sns\n",
    "sns.set_style('whitegrid'); sns.set_palette('deep')"
   ]
  },
  {
   "cell_type": "code",
   "execution_count": null,
   "metadata": {
    "datalore": {
     "sheet_delimiter": false
    },
    "tags": [
     "DataChill"
    ]
   },
   "outputs": [],
   "source": [
    "temp = pd.read_excel(r'data\\temperatures.xlsx')\n",
    "temp.head()"
   ]
  },
  {
   "cell_type": "code",
   "execution_count": null,
   "metadata": {
    "datalore": {
     "sheet_delimiter": false
    },
    "tags": [
     "DataChill"
    ]
   },
   "outputs": [],
   "source": [
    "plt.figure(figsize=(15,5))\n",
    "_ = sns.lineplot(data=temp, x='date', y='temperature', hue='city')"
   ]
  },
  {
   "cell_type": "markdown",
   "metadata": {
    "datalore": {
     "sheet_delimiter": false
    },
    "tags": [
     "DataChill"
    ]
   },
   "source": [
    "**Tình huống 2:** Vẽ biểu đồ biểu diễn dân số của 3 nước: United States, China, India qua các năm với dữ liệu trong file `world_population.xlsx`"
   ]
  },
  {
   "cell_type": "markdown",
   "metadata": {
    "datalore": {
     "sheet_delimiter": false
    },
    "tags": [
     "DataChill"
    ]
   },
   "source": [
    "## 2.3. Bar chart\n",
    "Bar chart (biểu đồ cột) là loại biểu đồ phổ biến dùng để so sánh giá trị của từng phân khúc. Bar chart thể hiện được 3 chiều thông tin:\n",
    "- **Trục x:** thuộc tính Category\n",
    "- **Trục y:** thuộc tính Value\n",
    "- **Màu sắc:** thuộc tính Category"
   ]
  },
  {
   "cell_type": "code",
   "execution_count": null,
   "metadata": {
    "datalore": {
     "sheet_delimiter": false
    },
    "tags": [
     "DataChill"
    ]
   },
   "outputs": [],
   "source": [
    "import numpy as np\n",
    "import pandas as pd\n",
    "import matplotlib.pyplot as plt\n",
    "import seaborn as sns\n",
    "sns.set_style('whitegrid'); sns.set_palette('deep')"
   ]
  },
  {
   "cell_type": "code",
   "execution_count": null,
   "metadata": {
    "datalore": {
     "sheet_delimiter": false
    },
    "tags": [
     "DataChill"
    ]
   },
   "outputs": [],
   "source": [
    "car = pd.read_excel(r'data\\cars.xlsx')\n",
    "car.head()"
   ]
  },
  {
   "cell_type": "code",
   "execution_count": null,
   "metadata": {
    "datalore": {
     "sheet_delimiter": false
    },
    "tags": [
     "DataChill"
    ]
   },
   "outputs": [],
   "source": [
    "_ = sns.barplot(data=car, x='manufacturer', y='price', color='steelblue', ci=False)"
   ]
  },
  {
   "cell_type": "markdown",
   "metadata": {
    "datalore": {
     "sheet_delimiter": false
    },
    "tags": [
     "DataChill"
    ]
   },
   "source": [
    "Sử dụng thêm chiều thông tin về màu sắc (optional) sẽ thu được biến thể Group bar chart."
   ]
  },
  {
   "cell_type": "code",
   "execution_count": null,
   "metadata": {
    "datalore": {
     "sheet_delimiter": false
    },
    "tags": [
     "DataChill"
    ]
   },
   "outputs": [],
   "source": [
    "plt.figure(figsize=(9,6))\n",
    "_ = sns.barplot(data=car, x='manufacturer', y='price', hue='airbags', ci=False)"
   ]
  },
  {
   "cell_type": "markdown",
   "metadata": {
    "datalore": {
     "sheet_delimiter": false
    },
    "tags": [
     "DataChill"
    ]
   },
   "source": [
    "**Tình huống 3:** Sử dụng dữ liệu trong file `supermarket_sales.csv` thực hiện các yêu cầu sau:\n",
    "1. Tính ra doanh thu của 3 nhãn hàng (brand) với công thức: $sales = unit price * quantity + tax$\n",
    "2. Dùng biểu đồ cột để so sánh tổng doanh thu giữa các nhãn hàng.\n",
    "3. So sánh tổng doanh thu giữa khách hàng nam và nữ của các nhãn hàng."
   ]
  },
  {
   "cell_type": "markdown",
   "metadata": {
    "datalore": {
     "sheet_delimiter": false
    },
    "tags": [
     "DataChill"
    ]
   },
   "source": [
    "## 2.4. Heatmap\n",
    "Heatmap (biểu đồ nhiệt) dùng để biểu diễn cường độ/mức độ tương quan của các biến định lượng."
   ]
  },
  {
   "cell_type": "code",
   "execution_count": null,
   "metadata": {
    "datalore": {
     "sheet_delimiter": false
    },
    "tags": [
     "DataChill"
    ]
   },
   "outputs": [],
   "source": [
    "import numpy as np\n",
    "import pandas as pd\n",
    "import matplotlib.pyplot as plt\n",
    "import seaborn as sns\n",
    "sns.set_style('whitegrid'); sns.set_palette('deep')"
   ]
  },
  {
   "cell_type": "code",
   "execution_count": null,
   "metadata": {
    "datalore": {
     "sheet_delimiter": false
    },
    "tags": [
     "DataChill"
    ]
   },
   "outputs": [],
   "source": [
    "car = pd.read_excel(r'data\\cars.xlsx')\n",
    "car.head()"
   ]
  },
  {
   "cell_type": "code",
   "execution_count": null,
   "metadata": {
    "datalore": {
     "sheet_delimiter": false
    },
    "tags": [
     "DataChill"
    ]
   },
   "outputs": [],
   "source": [
    "car.corr()"
   ]
  },
  {
   "cell_type": "code",
   "execution_count": null,
   "metadata": {
    "datalore": {
     "sheet_delimiter": false
    },
    "tags": [
     "DataChill"
    ]
   },
   "outputs": [],
   "source": [
    "plt.figure(figsize=(10,10))\n",
    "_ = sns.heatmap(car.corr(), cmap=sns.color_palette('RdBu', 9), square=True)"
   ]
  },
  {
   "cell_type": "code",
   "execution_count": null,
   "metadata": {
    "datalore": {
     "sheet_delimiter": false
    },
    "tags": [
     "DataChill"
    ]
   },
   "outputs": [],
   "source": [
    "subset = [\n",
    "    'fuel_tank_capacity', 'passengers', 'length', 'wheelbase', 'width',\n",
    "    'turn_circle', 'rear_seat_room', 'luggage_room', 'weight'\n",
    "]\n",
    "\n",
    "plt.figure(figsize=(5,5))\n",
    "_ = sns.heatmap(car[subset].corr(), cmap=sns.color_palette('BuGn'), square=True)"
   ]
  },
  {
   "cell_type": "markdown",
   "metadata": {
    "datalore": {
     "sheet_delimiter": false
    },
    "tags": [
     "DataChill"
    ]
   },
   "source": [
    "**Tình huống 4:** Tính hệ số tương quan giữa các biến định lượng trong file `supermarket_sales.csv`. Sau đó vẽ biểu đồ biểu thị mức độ tương quan giữa các biến đó."
   ]
  },
  {
   "cell_type": "markdown",
   "metadata": {
    "datalore": {
     "sheet_delimiter": false
    },
    "tags": [
     "DataChill"
    ]
   },
   "source": [
    "# 3. Biểu đồ chuyên sâu\n",
    "Các loại biểu đồ đòi hỏi có chuyên môn Phân tích dữ liệu để đọc được, được sử dụng để phân tích, nhìn ra các mối quan hệ ẩn bên trong dữ liệu.\n",
    "\n",
    "![image](https://img.shields.io/badge/Data-Chilly-teal?logo=python)"
   ]
  },
  {
   "cell_type": "markdown",
   "metadata": {
    "datalore": {
     "sheet_delimiter": false
    },
    "tags": [
     "DataChill"
    ]
   },
   "source": [
    "## 3.1. Histogram\n",
    "Histogram là biểu đồ thống kê biểu diễn phân bố tần suất của 1 thuộc tính định lượng. Histogram thường dễ bị nhầm lẫn với Bar plot, nhưng thực tế chúng khác nhau hoàn toàn, bởi trục x của Histogram biểu diễn một thuộc tính định lượng. Tác dụng của histogram:\n",
    "- Quan sát phân bố của tập dữ liệu lớn\n",
    "- Xem tính đối xứng và độ rộng dữ liệu\n",
    "- Đường KDE (Kernel Density Estimator) cho biết hình dạng phân phối của dữ liệu"
   ]
  },
  {
   "cell_type": "code",
   "execution_count": null,
   "metadata": {
    "datalore": {
     "sheet_delimiter": false
    },
    "tags": [
     "DataChill"
    ]
   },
   "outputs": [],
   "source": [
    "import numpy as np\n",
    "import pandas as pd\n",
    "import matplotlib.pyplot as plt\n",
    "import seaborn as sns\n",
    "sns.set_style('whitegrid'); sns.set_palette('deep')"
   ]
  },
  {
   "cell_type": "markdown",
   "metadata": {
    "datalore": {
     "sheet_delimiter": false
    },
    "tags": [
     "DataChill"
    ]
   },
   "source": [
    "#### Histogram cơ bản"
   ]
  },
  {
   "cell_type": "code",
   "execution_count": null,
   "metadata": {
    "datalore": {
     "sheet_delimiter": false
    },
    "tags": [
     "DataChill"
    ]
   },
   "outputs": [],
   "source": [
    "np.random.seed(0)\n",
    "x = np.random.normal(size=1000)\n",
    "\n",
    "plt.figure(figsize = (10,5))\n",
    "_ = sns.distplot(x, color='darkred')"
   ]
  },
  {
   "cell_type": "code",
   "execution_count": null,
   "metadata": {
    "datalore": {
     "sheet_delimiter": false
    },
    "tags": [
     "DataChill"
    ]
   },
   "outputs": [],
   "source": [
    "np.random.seed(0)\n",
    "x = np.random.normal(size=1000)\n",
    "\n",
    "plt.figure(figsize = (10,5))\n",
    "_ = sns.distplot(x, color='darkred', bins=10)"
   ]
  },
  {
   "cell_type": "markdown",
   "metadata": {
    "datalore": {
     "sheet_delimiter": false
    },
    "tags": [
     "DataChill"
    ]
   },
   "source": [
    "#### Histogram với 2 chiều thông tin"
   ]
  },
  {
   "cell_type": "code",
   "execution_count": null,
   "metadata": {
    "datalore": {
     "sheet_delimiter": false
    },
    "tags": [
     "DataChill"
    ]
   },
   "outputs": [],
   "source": [
    "tips = sns.load_dataset('tips')\n",
    "tips"
   ]
  },
  {
   "cell_type": "code",
   "execution_count": null,
   "metadata": {
    "datalore": {
     "sheet_delimiter": false
    },
    "tags": [
     "DataChill"
    ]
   },
   "outputs": [],
   "source": [
    "_ = sns.jointplot(data=tips, x='total_bill', y='tip', kind='reg', color='steelblue')"
   ]
  },
  {
   "cell_type": "code",
   "execution_count": null,
   "metadata": {
    "datalore": {
     "sheet_delimiter": false
    },
    "tags": [
     "DataChill"
    ]
   },
   "outputs": [],
   "source": [
    "_ = sns.jointplot(data=tips, x='total_bill', y='tip', kind='hex', color='steelblue')"
   ]
  },
  {
   "cell_type": "code",
   "execution_count": null,
   "metadata": {
    "datalore": {
     "sheet_delimiter": false
    },
    "tags": [
     "DataChill"
    ]
   },
   "outputs": [],
   "source": [
    "_ = sns.jointplot(data=tips, x='total_bill', y='tip', kind='kde', color='steelblue')"
   ]
  },
  {
   "cell_type": "markdown",
   "metadata": {
    "datalore": {
     "sheet_delimiter": false
    },
    "tags": [
     "DataChill"
    ]
   },
   "source": [
    "**Tình huống 5:** Với dữ liệu trong file `cars.xlsx`, vẽ histogram thể hiện sự phân bổ các giá trị mã lực (horsepower) của tất cả ô tô."
   ]
  },
  {
   "cell_type": "markdown",
   "metadata": {
    "datalore": {
     "sheet_delimiter": false
    },
    "tags": [
     "DataChill"
    ]
   },
   "source": [
    "## 3.2. Box plot\n",
    "Box plot (biểu đồ hộp) là cách biểu diễn dữ liệu với 3 điểm tứ phân vị (chia tập dữ liệu thành 4 phần bằng nhau). Boxplot cho biết:\n",
    "- Nhận biết vị trí của dữ liệu dựa vào trung vị và sự dàn trải của dữ liệu\n",
    "- Nhận biết độ lệch phân phối của dữ liệu\n",
    "- Nhận biết các giá trị ngoại biên trong tập dữ liệu\n",
    "\n",
    "Box plot thể hiển được 3 chiều thông tin:\n",
    "- **Trục x:** thuộc tính Category\n",
    "- **Trục y:** thuộc tính Value\n",
    "- **Màu sắc:** thuộc tính Category"
   ]
  },
  {
   "cell_type": "code",
   "execution_count": null,
   "metadata": {
    "datalore": {
     "sheet_delimiter": false
    },
    "tags": [
     "DataChill"
    ]
   },
   "outputs": [],
   "source": [
    "import numpy as np\n",
    "import pandas as pd\n",
    "import matplotlib.pyplot as plt\n",
    "import seaborn as sns\n",
    "sns.set_style('whitegrid'); sns.set_palette('deep')"
   ]
  },
  {
   "cell_type": "code",
   "execution_count": null,
   "metadata": {
    "datalore": {
     "sheet_delimiter": false
    },
    "tags": [
     "DataChill"
    ]
   },
   "outputs": [],
   "source": [
    "tips = sns.load_dataset('tips')\n",
    "tips.head()"
   ]
  },
  {
   "cell_type": "markdown",
   "metadata": {
    "datalore": {
     "sheet_delimiter": false
    },
    "tags": [
     "DataChill"
    ]
   },
   "source": [
    "#### Boxplot đơn với 1 thuộc tính"
   ]
  },
  {
   "cell_type": "code",
   "execution_count": null,
   "metadata": {
    "datalore": {
     "sheet_delimiter": false
    },
    "tags": [
     "DataChill"
    ]
   },
   "outputs": [],
   "source": [
    "_ = sns.boxplot(tips.total_bill)"
   ]
  },
  {
   "cell_type": "markdown",
   "metadata": {
    "datalore": {
     "sheet_delimiter": false
    },
    "tags": [
     "DataChill"
    ]
   },
   "source": [
    "#### Boxplot với 3 hoặc 4 chiều thông tin"
   ]
  },
  {
   "cell_type": "code",
   "execution_count": null,
   "metadata": {
    "datalore": {
     "sheet_delimiter": false
    },
    "tags": [
     "DataChill"
    ]
   },
   "outputs": [],
   "source": [
    "plt.figure(figsize=(9,6))\n",
    "_ = sns.boxplot( data=tips, x='day', y='total_bill', hue='smoker')"
   ]
  },
  {
   "cell_type": "code",
   "execution_count": null,
   "metadata": {
    "datalore": {
     "sheet_delimiter": false
    },
    "tags": [
     "DataChill"
    ]
   },
   "outputs": [],
   "source": [
    "_ = sns.catplot(data=tips, x='day', y='total_bill', hue='smoker', col='sex', kind='box', height=4)"
   ]
  },
  {
   "cell_type": "markdown",
   "metadata": {
    "datalore": {
     "sheet_delimiter": false
    },
    "tags": [
     "DataChill"
    ]
   },
   "source": [
    "**Tình huống 6:** Vẽ biểu đồ biểu diễn phân phối lợi nhuận của 3 nhãn hàng với dữ liệu trong file `supermarket_sales.csv`"
   ]
  },
  {
   "cell_type": "markdown",
   "metadata": {
    "datalore": {
     "sheet_delimiter": false
    },
    "tags": [
     "DataChill"
    ]
   },
   "source": [
    "## 3.3. Scatter plot\n",
    "Scatter plot (biểu đồ phân tán) biểu diễn các mật độ phân bố các điểm dữ liệu trên biểu đồ; và rất mạnh trong việc biểu thị mối tương quan giữa 2 biến định lượng. Scatter plot thể hiện được từ 3-5 chiều thông tin của dữ liệu:\n",
    "- **Trục x:** thuộc tính Value hoặc Category\n",
    "- **Trục y:** thuộc tính Value hoặc Category\n",
    "- **Màu sắc:** thuộc tính Category\n",
    "- **Kích thước:** thuộc tính Value hoặc Category (có thứ tự)\n",
    "- **Slicer** thuộc tính Datetime"
   ]
  },
  {
   "cell_type": "markdown",
   "metadata": {
    "datalore": {
     "sheet_delimiter": false
    },
    "tags": [
     "DataChill"
    ]
   },
   "source": [
    "#### Scatter plot cơ bản"
   ]
  },
  {
   "cell_type": "code",
   "execution_count": null,
   "metadata": {
    "datalore": {
     "sheet_delimiter": false
    },
    "tags": [
     "DataChill"
    ]
   },
   "outputs": [],
   "source": [
    "import numpy as np\n",
    "import pandas as pd\n",
    "import matplotlib.pyplot as plt\n",
    "import seaborn as sns\n",
    "sns.set_style('whitegrid'); sns.set_palette('deep')"
   ]
  },
  {
   "cell_type": "code",
   "execution_count": null,
   "metadata": {
    "datalore": {
     "sheet_delimiter": false
    },
    "tags": [
     "DataChill"
    ]
   },
   "outputs": [],
   "source": [
    "car = pd.read_excel(r'data\\cars.xlsx')\n",
    "car.head()"
   ]
  },
  {
   "cell_type": "markdown",
   "metadata": {
    "datalore": {
     "sheet_delimiter": false
    },
    "tags": [
     "DataChill"
    ]
   },
   "source": [
    "#### Scatter plot với 2 thuộc tính định lượng"
   ]
  },
  {
   "cell_type": "code",
   "execution_count": null,
   "metadata": {
    "datalore": {
     "sheet_delimiter": false
    },
    "tags": [
     "DataChill"
    ]
   },
   "outputs": [],
   "source": [
    "_ = sns.scatterplot(data=car, x='price', y='horsepower', s=200, alpha=0.8)"
   ]
  },
  {
   "cell_type": "markdown",
   "metadata": {
    "datalore": {
     "sheet_delimiter": false
    },
    "tags": [
     "DataChill"
    ]
   },
   "source": [
    "#### Scatter plot với 3 và 4 thuộc tính"
   ]
  },
  {
   "cell_type": "code",
   "execution_count": null,
   "metadata": {
    "datalore": {
     "sheet_delimiter": false
    },
    "tags": [
     "DataChill"
    ]
   },
   "outputs": [],
   "source": [
    "plt.figure(figsize=(10,5))\n",
    "_ = sns.scatterplot(data=car, x='price', y='horsepower', hue='type', s=200)"
   ]
  },
  {
   "cell_type": "code",
   "execution_count": null,
   "metadata": {
    "datalore": {
     "sheet_delimiter": false
    },
    "tags": [
     "DataChill"
    ]
   },
   "outputs": [],
   "source": [
    "plt.figure(figsize=(10,5))\n",
    "scatter2 = sns.scatterplot(data=car, x='price', y='horsepower', hue='type', size='engine_size', sizes=(100,600))"
   ]
  },
  {
   "cell_type": "code",
   "execution_count": null,
   "metadata": {
    "datalore": {
     "sheet_delimiter": false
    },
    "tags": [
     "DataChill"
    ]
   },
   "outputs": [],
   "source": [
    "plt.figure(figsize=(10,5))\n",
    "scatter2 = sns.scatterplot(data=car, x='price', y='horsepower', hue='engine_size', size='engine_size', sizes=(100,600))"
   ]
  },
  {
   "cell_type": "markdown",
   "metadata": {
    "datalore": {
     "sheet_delimiter": false
    },
    "tags": [
     "DataChill"
    ]
   },
   "source": [
    "**Tình huống 7:** Sử dụng dữ liệu trong file `gapminder.xlsx`\n",
    "1. Vẽ biểu đồ biểu thị mối quan hệ giữa tuổi thọ bình quân và GDP/người trong năm 2007\n",
    "2. Vẽ biểu đồ biểu thị mối quan hệ giữa tuổi thọ bình quân và GDP/người trong năm 2007 của từng châu lục cùng với quy mô dân số của mỗi châu lục"
   ]
  },
  {
   "cell_type": "markdown",
   "metadata": {
    "datalore": {
     "sheet_delimiter": false
    },
    "tags": [
     "DataChill"
    ]
   },
   "source": [
    "#### Swarm plot - biến thể của Scatter plot"
   ]
  },
  {
   "cell_type": "code",
   "execution_count": null,
   "metadata": {
    "datalore": {
     "sheet_delimiter": false
    },
    "tags": [
     "DataChill"
    ]
   },
   "outputs": [],
   "source": [
    "iris = sns.load_dataset('iris')\n",
    "iris = pd.melt(iris, 'species', var_name='measurement')\n",
    "iris"
   ]
  },
  {
   "cell_type": "code",
   "execution_count": null,
   "metadata": {
    "datalore": {
     "sheet_delimiter": false
    },
    "tags": [
     "DataChill"
    ]
   },
   "outputs": [],
   "source": [
    "plt.figure(figsize=(10,7))\n",
    "_ = sns.swarmplot(data=iris, x='measurement', y='value', hue='species')"
   ]
  },
  {
   "cell_type": "markdown",
   "metadata": {
    "datalore": {
     "sheet_delimiter": false
    },
    "tags": [
     "DataChill"
    ]
   },
   "source": [
    "# 4. Plotly - thư viện vẽ biểu đồ tương tác\n",
    "\n",
    "Một số biểu đồ tương tác để bạn học tham khảo\n",
    "\n",
    "![image](https://img.shields.io/badge/Data-Chilly-teal?logo=python)"
   ]
  },
  {
   "cell_type": "code",
   "execution_count": null,
   "metadata": {
    "datalore": {
     "sheet_delimiter": false
    },
    "tags": [
     "DataChill"
    ]
   },
   "outputs": [],
   "source": [
    "import pandas as pd\n",
    "import numpy as np\n",
    "import plotly.express as px\n",
    "import plotly.graph_objects as go"
   ]
  },
  {
   "cell_type": "markdown",
   "metadata": {
    "datalore": {
     "sheet_delimiter": false
    },
    "tags": [
     "DataChill"
    ]
   },
   "source": [
    "## 4.1. Interactive Scatter Plot with slider"
   ]
  },
  {
   "cell_type": "code",
   "execution_count": null,
   "metadata": {
    "datalore": {
     "sheet_delimiter": false
    },
    "tags": [
     "DataChill"
    ]
   },
   "outputs": [],
   "source": [
    "fig1 = px.scatter(\n",
    "     px.data.gapminder(), \n",
    "     x='gdpPercap', y='lifeExp',\n",
    "     size='pop', color='continent',\n",
    "     animation_frame='year',\n",
    "     animation_group='country',\n",
    "     hover_name='country', log_x=True,\n",
    "     size_max=100, range_x=[100,100000], range_y=[25,90],\n",
    "     template='none'\n",
    ")\n",
    "\n",
    "fig1.show()"
   ]
  },
  {
   "cell_type": "markdown",
   "metadata": {
    "datalore": {
     "sheet_delimiter": false
    },
    "tags": [
     "DataChill"
    ]
   },
   "source": [
    "## 4.2. Interactive 3D Scatter Plot"
   ]
  },
  {
   "cell_type": "code",
   "execution_count": null,
   "metadata": {
    "datalore": {
     "sheet_delimiter": false
    },
    "tags": [
     "DataChill"
    ]
   },
   "outputs": [],
   "source": [
    "df = px.data.iris()\n",
    "fig2 = px.scatter_3d(\n",
    "    df,\n",
    "    x='sepal_length',\n",
    "    y='sepal_width',\n",
    "    z='petal_width',\n",
    "    color='species')\n",
    "fig2.update_layout(margin=dict(l=0, r=0, b=0, t=0))\n",
    "fig2.show()"
   ]
  },
  {
   "cell_type": "markdown",
   "metadata": {
    "datalore": {
     "sheet_delimiter": false
    },
    "tags": [
     "DataChill"
    ]
   },
   "source": [
    "## 4.3. Xuất ra HTML"
   ]
  },
  {
   "cell_type": "code",
   "execution_count": null,
   "metadata": {
    "datalore": {
     "sheet_delimiter": false
    },
    "tags": [
     "DataChill"
    ]
   },
   "outputs": [],
   "source": [
    "import plotly\n",
    "plotly.offline.plot(fig1, filename='Fig 1 - Interactive Scatter Plot with slider.html')"
   ]
  },
  {
   "cell_type": "code",
   "execution_count": null,
   "metadata": {
    "datalore": {
     "sheet_delimiter": false
    },
    "tags": [
     "DataChill"
    ]
   },
   "outputs": [],
   "source": [
    "import plotly\n",
    "plotly.offline.plot(fig2, filename='Fig 2 - Interactive 3D Scatter Plot.html')"
   ]
  },
  {
   "cell_type": "code",
   "execution_count": null,
   "metadata": {
    "datalore": {
     "sheet_delimiter": false
    },
    "tags": [
     "DataChill"
    ]
   },
   "outputs": [],
   "source": [
    "from IPython.display import Image\n",
    "Image('https://raw.githubusercontent.com/linhpt7/COURSE/main/datachilly_logo.png', height=100)"
   ]
  },
  {
   "cell_type": "code",
   "execution_count": null,
   "metadata": {
    "datalore": {
     "sheet_delimiter": false
    },
    "tags": [
     "DataChill"
    ]
   },
   "outputs": [],
   "source": [
    "plt.figure(figsize = (14,7))\n",
    "_ = sns.scatterplot(data=world1, x='lifeExp', y='gdpPercap', hue='continent', size='pop', sizes=(50,1000))"
   ]
  },
  {
   "cell_type": "markdown",
   "metadata": {
    "datalore": {
     "sheet_delimiter": false
    },
    "tags": [
     "DataChill"
    ]
   },
   "source": [
    "# Giải đáp tình huống\n",
    "![image](https://img.shields.io/badge/Data-Chilly-teal?logo=python)"
   ]
  },
  {
   "cell_type": "markdown",
   "metadata": {
    "datalore": {
     "sheet_delimiter": false
    },
    "tags": [
     "DataChill"
    ]
   },
   "source": [
    "**Tình huống 1:** Tính và nhận xét:\n",
    "- Mean và Variance của x1, x2, x3, x4\n",
    "- Mean và Variance của y1, y2, y3, y4\n",
    "- Correlation của 4 cặp x-y"
   ]
  },
  {
   "cell_type": "code",
   "execution_count": null,
   "metadata": {
    "datalore": {
     "sheet_delimiter": false
    },
    "tags": [
     "DataChill"
    ]
   },
   "outputs": [],
   "source": [
    "anscombe = pd.read_excel('data/anscombe.xlsx')"
   ]
  },
  {
   "cell_type": "code",
   "execution_count": null,
   "metadata": {
    "datalore": {
     "sheet_delimiter": false
    },
    "tags": [
     "DataChill"
    ]
   },
   "outputs": [],
   "source": [
    "anscombe.describe().loc[['mean', 'std']]"
   ]
  },
  {
   "cell_type": "code",
   "execution_count": null,
   "metadata": {
    "datalore": {
     "sheet_delimiter": false
    },
    "tags": [
     "DataChill"
    ]
   },
   "outputs": [],
   "source": [
    "for i in range(1,5):\n",
    "    x = anscombe[f'x{i}']\n",
    "    y = anscombe[f'y{i}']\n",
    "    corr = x.corr(y)\n",
    "    print(f'Correlation between x{i} and y{i} = {corr}')"
   ]
  },
  {
   "cell_type": "markdown",
   "metadata": {
    "datalore": {
     "sheet_delimiter": false
    },
    "tags": [
     "DataChill"
    ]
   },
   "source": [
    "**Tình huống 2:** Vẽ biểu đồ biểu diễn dân số của 3 nước: United States, China, India  qua các năm với dữ liệu trong file `world_population.xlsx`."
   ]
  },
  {
   "cell_type": "code",
   "execution_count": null,
   "metadata": {
    "datalore": {
     "sheet_delimiter": false
    },
    "tags": [
     "DataChill"
    ]
   },
   "outputs": [],
   "source": [
    "pop = pd.read_excel(r'data/world_population.xlsx')\n",
    "pop.head()"
   ]
  },
  {
   "cell_type": "code",
   "execution_count": null,
   "metadata": {
    "datalore": {
     "sheet_delimiter": false
    },
    "tags": [
     "DataChill"
    ]
   },
   "outputs": [],
   "source": [
    "pop1 = pop[\n",
    "    (pop['country'] == 'United States') |\n",
    "    (pop['country'] == 'China') |\n",
    "    (pop['country'] == 'India')\n",
    "]\n",
    "\n",
    "pop1.head()"
   ]
  },
  {
   "cell_type": "code",
   "execution_count": null,
   "metadata": {
    "datalore": {
     "sheet_delimiter": false
    },
    "tags": [
     "DataChill"
    ]
   },
   "outputs": [],
   "source": [
    "sns.lineplot(\n",
    "    x='year', \n",
    "    y='population', \n",
    "    hue='country',\n",
    "    data=pop1\n",
    ")\n",
    "plt.show()"
   ]
  },
  {
   "cell_type": "markdown",
   "metadata": {
    "datalore": {
     "sheet_delimiter": false
    },
    "tags": [
     "DataChill"
    ]
   },
   "source": [
    "**Tình huống 3:** Sử dụng dữ liệu trong file `supermarket_sales.csv` thực hiện các yêu cầu sau:\n",
    "1. Tính ra doanh thu của 3 nhãn hàng (brand) với công thức: $sales = unit price * quantity + tax$\n",
    "2. Dùng biểu đồ cột để so sánh tổng doanh thu giữa các nhãn hàng.\n",
    "3. So sánh tổng doanh thu giữa khách hàng nam và nữ của các nhãn hàng."
   ]
  },
  {
   "cell_type": "code",
   "execution_count": null,
   "metadata": {
    "datalore": {
     "sheet_delimiter": false
    },
    "tags": [
     "DataChill"
    ]
   },
   "outputs": [],
   "source": [
    "sales = pd.read_csv(r'data/supermarket_sales.csv')\n",
    "sales.head()"
   ]
  },
  {
   "cell_type": "code",
   "execution_count": null,
   "metadata": {
    "datalore": {
     "sheet_delimiter": false
    },
    "tags": [
     "DataChill"
    ]
   },
   "outputs": [],
   "source": [
    "sales['sales'] = sales['unit_price'] * sales['quantity'] + sales['tax']\n",
    "sales.head()"
   ]
  },
  {
   "cell_type": "code",
   "execution_count": null,
   "metadata": {
    "datalore": {
     "sheet_delimiter": false
    },
    "tags": [
     "DataChill"
    ]
   },
   "outputs": [],
   "source": [
    "_ = sns.barplot(data=sales, x='brand', y='sales', color='teal', ci=False, estimator=np.sum)"
   ]
  },
  {
   "cell_type": "code",
   "execution_count": null,
   "metadata": {
    "datalore": {
     "sheet_delimiter": false
    },
    "tags": [
     "DataChill"
    ]
   },
   "outputs": [],
   "source": [
    "_ = sns.barplot(data=sales, x='brand', y='sales', hue='gender', ci=False, estimator=np.sum)"
   ]
  },
  {
   "cell_type": "markdown",
   "metadata": {
    "datalore": {
     "sheet_delimiter": false
    },
    "tags": [
     "DataChill"
    ]
   },
   "source": [
    "**Tình huống 4:** Tính hệ số tương quan giữa các biến định lượng trong file `supermarket_sales.csv`. Sau đó vẽ biểu đồ biểu thị mức độ tương quan giữa các biến đó."
   ]
  },
  {
   "cell_type": "code",
   "execution_count": null,
   "metadata": {
    "datalore": {
     "sheet_delimiter": false
    },
    "tags": [
     "DataChill"
    ]
   },
   "outputs": [],
   "source": [
    "sales = pd.read_csv(r'data/supermarket_sales.csv')\n",
    "sales.head()"
   ]
  },
  {
   "cell_type": "code",
   "execution_count": null,
   "metadata": {
    "datalore": {
     "sheet_delimiter": false
    },
    "tags": [
     "DataChill"
    ]
   },
   "outputs": [],
   "source": [
    "corr = sales.corr()\n",
    "corr"
   ]
  },
  {
   "cell_type": "code",
   "execution_count": null,
   "metadata": {
    "datalore": {
     "sheet_delimiter": false
    },
    "tags": [
     "DataChill"
    ]
   },
   "outputs": [],
   "source": [
    "_ = sns.heatmap(corr, \n",
    "    vmin=-1, vmax=1, center=0,\n",
    "    cmap=sns.color_palette('RdBu', 7),\n",
    "    square=True\n",
    ")"
   ]
  },
  {
   "cell_type": "markdown",
   "metadata": {
    "datalore": {
     "sheet_delimiter": false
    },
    "tags": [
     "DataChill"
    ]
   },
   "source": [
    "**Tình huống 5:** Với dữ liệu trong file `cars.xlsx`, vẽ histogram thể hiện sự phân bổ các giá trị mã lực (horsepower) của tất cả ô tô."
   ]
  },
  {
   "cell_type": "code",
   "execution_count": null,
   "metadata": {
    "datalore": {
     "sheet_delimiter": false
    },
    "tags": [
     "DataChill"
    ]
   },
   "outputs": [],
   "source": [
    "car = pd.read_excel(r'data\\cars.xlsx')\n",
    "car.head()"
   ]
  },
  {
   "cell_type": "code",
   "execution_count": null,
   "metadata": {
    "datalore": {
     "sheet_delimiter": false
    },
    "tags": [
     "DataChill"
    ]
   },
   "outputs": [],
   "source": [
    "plt.figure(figsize = (10,5))\n",
    "_ = sns.distplot(car['horsepower'], bins=8, color='indianred', kde_kws={'linewidth':3})"
   ]
  },
  {
   "cell_type": "markdown",
   "metadata": {
    "datalore": {
     "sheet_delimiter": false
    },
    "tags": [
     "DataChill"
    ]
   },
   "source": [
    "**Tình huống 6:** Vẽ biểu đồ biểu diễn phân phối lợi nhuận của 3 nhãn hàng với dữ liệu trong file `supermarket_sales.csv`"
   ]
  },
  {
   "cell_type": "code",
   "execution_count": null,
   "metadata": {
    "datalore": {
     "sheet_delimiter": false
    },
    "tags": [
     "DataChill"
    ]
   },
   "outputs": [],
   "source": [
    "sales = pd.read_csv(r'data\\supermarket_sales.csv')\n",
    "sales.head()"
   ]
  },
  {
   "cell_type": "code",
   "execution_count": null,
   "metadata": {
    "datalore": {
     "sheet_delimiter": false
    },
    "tags": [
     "DataChill"
    ]
   },
   "outputs": [],
   "source": [
    "_ = sns.boxplot(data=sales, x='brand', y='profit')"
   ]
  },
  {
   "cell_type": "markdown",
   "metadata": {
    "datalore": {
     "sheet_delimiter": false
    },
    "tags": [
     "DataChill"
    ]
   },
   "source": [
    "**Tình huống 7:** Sử dụng dữ liệu trong file `gapminder.xlsx`\n",
    "1. Vẽ biểu đồ biểu thị mối quan hệ giữa tuổi thọ bình quân và GDP/người trong năm 2007\n",
    "2. Vẽ biểu đồ biểu thị mối quan hệ giữa tuổi thọ bình quân và GDP/người trong năm 2007 của từng châu lục cùng với quy mô dân số của mỗi châu lục"
   ]
  },
  {
   "cell_type": "code",
   "execution_count": null,
   "metadata": {
    "datalore": {
     "sheet_delimiter": false
    },
    "tags": [
     "DataChill"
    ]
   },
   "outputs": [],
   "source": [
    "world = pd.read_excel(r'data/gapminder.xlsx')\n",
    "world.head()"
   ]
  },
  {
   "cell_type": "code",
   "execution_count": null,
   "metadata": {
    "datalore": {
     "sheet_delimiter": false
    },
    "tags": [
     "DataChill"
    ]
   },
   "outputs": [],
   "source": [
    "world1 = world[world['year'] == 2007]\n",
    "world1.head()"
   ]
  },
  {
   "cell_type": "code",
   "execution_count": null,
   "metadata": {
    "datalore": {
     "sheet_delimiter": false
    },
    "tags": [
     "DataChill"
    ]
   },
   "outputs": [],
   "source": [
    "_ = sns.scatterplot(data=world1, x='lifeExp', y='gdpPercap')"
   ]
  },
  {
   "cell_type": "markdown",
   "metadata": {
    "datalore": {
     "sheet_delimiter": false
    },
    "tags": [
     "DataChill"
    ]
   },
   "source": [
    "Tài liệu dành cho các bạn đã mua khoá học của DataChilly. Vui lòng không sao chép, chia sẻ dưới mọi hình thức.\n",
    "\n",
    "![image](https://img.shields.io/badge/Data-Chilly-teal?logo=python)"
   ]
  }
 ],
 "metadata": {
  "kernelspec": {
   "display_name": "Python 3",
   "language": "python",
   "name": "python3"
  },
  "language_info": {
   "codemirror_mode": {
    "name": "ipython",
    "version": 3
   },
   "file_extension": ".py",
   "mimetype": "text/x-python",
   "name": "python",
   "nbconvert_exporter": "python",
   "pygments_lexer": "ipython3",
   "version": "3.8.8"
  }
 },
 "nbformat": 4,
 "nbformat_minor": 4
}
