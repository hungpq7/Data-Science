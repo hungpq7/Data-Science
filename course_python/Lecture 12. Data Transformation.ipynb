{
 "cells": [
  {
   "cell_type": "markdown",
   "metadata": {
    "datalore": {
     "sheet_delimiter": false
    },
    "tags": [
     "DataChill"
    ]
   },
   "source": [
    "<img src=\"https://raw.githubusercontent.com/linhpt7/COURSE/main/datachilly_logo.png\" style=\"height:100px; margin:0 auto 20px;\">"
   ]
  },
  {
   "cell_type": "markdown",
   "metadata": {
    "tags": [
     "DataChill"
    ]
   },
   "source": [
    "# MỤC LỤC\n",
    "- [1. Pivot và Unpivot](#1.-Pivot-và-Unpivot)\n",
    "  * [1.1. Bảng dài và bảng rộng](#1.1.-Bảng-dài-và-bảng-rộng)\n",
    "    * [Bảng rộng](#Bảng-rộng)\n",
    "    * [Bảng dài](#Bảng-dài)\n",
    "  * [1.2. Unpivot](#1.2.-Unpivot)\n",
    "  * [1.3. Pivot](#1.3.-Pivot)\n",
    "    * [Pivot cơ bản](#Pivot-cơ-bản)\n",
    "    * [Pivot với một phần dữ liệu](#Pivot-với-một-phần-dữ-liệu)\n",
    "    * [Pivot với 2 value](#Pivot-với-2-value)\n",
    "- [2. Liên kết dữ liệu](#2.-Liên-kết-dữ-liệu)\n",
    "  * [2.1. Append](#2.1.-Append)\n",
    "    * [Quy tắc hoạt động](#Quy-tắc-hoạt-động)\n",
    "  * [2.2. Merge](#2.2.-Merge)\n",
    "    * [Quy tắc hoạt động](#Quy-tắc-hoạt-động)\n",
    "- [3. Tính toán dữ liệu](#3.-Tính-toán-dữ-liệu)\n",
    "  * [3.1. Lũy tiến](#3.1.-Lũy-tiến)\n",
    "  * [3.2. Tính toán trên các cột](#3.2.-Tính-toán-trên-các-cột)\n",
    "  * [3.3. Mức độ tăng trưởng](#3.3.-Mức-độ-tăng-trưởng)\n",
    "- [Giải đáp tình huống](#Giải-đáp-tình-huống)\n"
   ]
  },
  {
   "cell_type": "markdown",
   "metadata": {
    "datalore": {
     "sheet_delimiter": false
    },
    "tags": [
     "DataChill"
    ]
   },
   "source": [
    "# 1. Pivot và Unpivot\n",
    "\n",
    "Xoay chiều dữ liệu\n",
    "\n",
    "![image](https://img.shields.io/badge/Data-Chilly-teal?logo=python)"
   ]
  },
  {
   "cell_type": "markdown",
   "metadata": {
    "datalore": {
     "sheet_delimiter": false
    },
    "tags": [
     "DataChill"
    ]
   },
   "source": [
    "## 1.1. Bảng dài và bảng rộng"
   ]
  },
  {
   "cell_type": "markdown",
   "metadata": {
    "datalore": {
     "sheet_delimiter": false
    },
    "tags": [
     "DataChill"
    ]
   },
   "source": [
    "#### Bảng rộng\n",
    "Bảng rộng cho phép xem cùng lúc nhiều dữ liệu, rất thuận tiện để theo dõi 1 chỉ số (chẳng hạn doanh thu). Tuy nhiên bảng rộng không hoạt động tốt khi xuất hiện nhiều chiều thông tin.\n",
    "\n",
    "Color|2000 Q1|2000 Q2|2000 Q3|2000 Q4|\n",
    ":----|------:|------:|------:|------:|\n",
    "Red  |\\$ 1000|\\$ 1200|\\$ 1500|\\$ 1700|\n",
    "Green|\\$ 1500|\\$ 1500|\\$ 1575|\\$ 1800|\n",
    "Blue |\\$ 2000|\\$ 2200|\\$ 2000|\\$ 2800|"
   ]
  },
  {
   "cell_type": "markdown",
   "metadata": {
    "datalore": {
     "sheet_delimiter": false
    },
    "tags": [
     "DataChill"
    ]
   },
   "source": [
    "#### Bảng dài\n",
    "Bảng dài lưu mỗi chỉ số/thông tin/thuộc tính trong 1 cột, vì thế có thể biểu diễn được rất nhiều thuộc tính. Trong phân tích dữ liệu, bảng dài được coi là \"tidy data\" và là định dạng dữ liệu chuẩn.\n",
    "\n",
    "Color|Quarter|Sales   |Quantity|Price|\n",
    ":----|:------|-------:|-------:|----:|\n",
    "Red  |2000 Q1|\\$ 1000 |50      |\\$ 20|\n",
    "Green|2000 Q1|\\$ 1500 |50      |\\$ 30|\n",
    "Blue |2000 Q1|\\$ 2000 |40      |\\$ 50|\n",
    "Red  |2000 Q2|\\$ 1200 |60      |\\$ 20|\n",
    "Green|2000 Q2|\\$ 1500 |50      |\\$ 30|\n",
    "Blue |2000 Q2|\\$ 2200 |40      |\\$ 55|\n",
    "Red  |2000 Q3|\\$ 1500 |75      |\\$ 20|\n",
    "Green|2000 Q3|\\$ 1575 |45      |\\$ 35|\n",
    "Blue |2000 Q3|\\$ 2000 |40      |\\$ 50|\n",
    "Red  |2000 Q4|\\$ 1700 |85      |\\$ 20|\n",
    "Green|2000 Q4|\\$ 1800 |20      |\\$ 60|\n",
    "Blue |2000 Q4|\\$ 2800 |70      |\\$ 40|"
   ]
  },
  {
   "cell_type": "markdown",
   "metadata": {
    "datalore": {
     "sheet_delimiter": false
    },
    "tags": [
     "DataChill"
    ]
   },
   "source": [
    "## 1.2. Unpivot\n",
    "Unpivot là kỹ thuật biến đổi từ bảng rộng thành bảng dài.\\\n",
    "Trong Pandas, phương thức `melt()` cho phép unpivot dữ liệu."
   ]
  },
  {
   "cell_type": "code",
   "execution_count": null,
   "metadata": {
    "datalore": {
     "sheet_delimiter": false
    },
    "tags": [
     "DataChill"
    ]
   },
   "outputs": [],
   "source": [
    "import pandas as pd\n",
    "import numpy as np"
   ]
  },
  {
   "cell_type": "code",
   "execution_count": null,
   "metadata": {
    "datalore": {
     "sheet_delimiter": false
    },
    "tags": [
     "DataChill"
    ]
   },
   "outputs": [],
   "source": [
    "wide = pd.DataFrame({\n",
    "    'Color': ['Red', 'Green', 'Blue'],\n",
    "    '2020 Q1': [1000, 1500, 2000],\n",
    "    '2020 Q2': [1200, 1500, 2200],\n",
    "    '2020 Q3': [1500, 1575, 2000],\n",
    "    '2020 Q4': [1700, 1800, 2800]\n",
    "})\n",
    "wide"
   ]
  },
  {
   "cell_type": "code",
   "execution_count": null,
   "metadata": {
    "datalore": {
     "sheet_delimiter": false
    },
    "tags": [
     "DataChill"
    ]
   },
   "outputs": [],
   "source": [
    "# unpivot giữ nguyên cột color, xoay các cột quý về thành 1 cột và các giá trị sales tương ứng\n",
    "wide.melt(\n",
    "    id_vars='Color',\n",
    "    var_name='Quarter',\n",
    "    value_name='Sales'\n",
    ")"
   ]
  },
  {
   "cell_type": "markdown",
   "metadata": {
    "datalore": {
     "sheet_delimiter": false
    },
    "tags": [
     "DataChill"
    ]
   },
   "source": [
    "**Tình huống 1:** Đọc file `z_score.xlsx` rồi biến đổi dữ liệu về dạng sau:\n",
    "\n",
    "right_area|z_score|\n",
    "---------:|------:|\n",
    "0.00005   |3.9    |\n",
    "0.00007   |3.8    |\n",
    "0.00011   |3.7    |\n",
    "0.00016   |3.6    |\n",
    "0.00023   |3.5    |\n",
    "...       |...    |\n",
    "0.31207   |0.49   |\n",
    "0.34827   |0.39   |\n",
    "0.38591   |0.29   |\n",
    "0.42465   |0.19   |\n",
    "0.46414   |0.09   |"
   ]
  },
  {
   "cell_type": "markdown",
   "metadata": {
    "datalore": {
     "sheet_delimiter": false
    },
    "tags": [
     "DataChill"
    ]
   },
   "source": [
    "## 1.3. Pivot\n",
    "Pivot là kỹ thuật biến đổi từ bảng dài về bảng rộng.\\\n",
    "Để pivot dữ liệu, sử dụng phương thức `pivot_table()` hoặc phương thức `pivot()` - đối với dữ liệu đã được aggregate"
   ]
  },
  {
   "cell_type": "code",
   "execution_count": null,
   "metadata": {
    "datalore": {
     "sheet_delimiter": false
    },
    "tags": [
     "DataChill"
    ]
   },
   "outputs": [],
   "source": [
    "import pandas as pd\n",
    "import numpy as np"
   ]
  },
  {
   "cell_type": "code",
   "execution_count": null,
   "metadata": {
    "datalore": {
     "sheet_delimiter": false
    },
    "tags": [
     "DataChill"
    ]
   },
   "outputs": [],
   "source": [
    "long = pd.DataFrame({\n",
    "    'Market': ['Asian', 'Asian', 'Asian', 'Asian', 'Europe', 'Europe', 'Europe', 'Europe'],\n",
    "    'Color': ['Red', 'Red', 'Blue', 'Blue', 'Red', 'Red', 'Blue', 'Blue'],\n",
    "    'Size': ['Large', 'Small', 'Large', 'Small','Large', 'Small', 'Large', 'Small'],\n",
    "    'Price': [17, 11, 19, 13, 18, 12, 20, 14],\n",
    "    'Sales': [68000, 44000, 57000, 52000, 81000, 72000, 90000, 77000]\n",
    "})\n",
    "long"
   ]
  },
  {
   "cell_type": "markdown",
   "metadata": {
    "datalore": {
     "sheet_delimiter": false
    },
    "tags": [
     "DataChill"
    ]
   },
   "source": [
    "#### Pivot cơ bản\n",
    "\n",
    "Trong hàm `pivot_table` có 3 tham số chính:\n",
    "- index: Cột giữ nguyên khi xoay bảng\n",
    "- columns: Sử dụng các giá trị trong cột này để xoay thành các cột mới\n",
    "- values: Giá trị trong các cột mới"
   ]
  },
  {
   "cell_type": "code",
   "execution_count": null,
   "metadata": {
    "datalore": {
     "sheet_delimiter": false
    },
    "tags": [
     "DataChill"
    ]
   },
   "outputs": [],
   "source": [
    "long\\\n",
    "    .pivot_table(index='Market', columns='Color', values='Sales')\\\n",
    "    .reset_index()\\\n",
    "    .rename_axis(None, axis=1)"
   ]
  },
  {
   "cell_type": "markdown",
   "metadata": {
    "datalore": {
     "sheet_delimiter": false
    },
    "tags": [
     "DataChill"
    ]
   },
   "source": [
    "#### Pivot với một phần dữ liệu\n",
    "Trường hợp này thường xuất hiện các bản ghi trùng lặp, cần sử dụng 1 aggregate function để xử lý (chẳng hạn tính tổng đối với `Sales` và tính trung bình đối với `Price`). Hoặc sử dụng `groupby` trước khi pivot"
   ]
  },
  {
   "cell_type": "code",
   "execution_count": null,
   "metadata": {
    "datalore": {
     "sheet_delimiter": false
    },
    "tags": [
     "DataChill"
    ]
   },
   "outputs": [],
   "source": [
    "long\\\n",
    "    .pivot_table(index='Market', columns='Color', values='Sales', aggfunc=sum)\\\n",
    "    .reset_index()\\\n",
    "    .rename_axis(None, axis=1)"
   ]
  },
  {
   "cell_type": "code",
   "execution_count": null,
   "metadata": {
    "datalore": {
     "sheet_delimiter": false
    },
    "tags": [
     "DataChill"
    ]
   },
   "outputs": [],
   "source": [
    "long\\\n",
    "    .groupby(['Market','Color']).sum()[['Sales']]\\\n",
    "    .reset_index()\\\n",
    "    .pivot(index='Market', columns='Color',values='Sales')\\\n",
    "    .reset_index()"
   ]
  },
  {
   "cell_type": "code",
   "execution_count": null,
   "metadata": {
    "datalore": {
     "sheet_delimiter": false
    },
    "tags": [
     "DataChill"
    ]
   },
   "outputs": [],
   "source": [
    "(\n",
    "    long\n",
    "    .pivot_table(index='Market', columns='Color', values='Price', aggfunc=np.mean)\n",
    "    .reset_index()\n",
    "    .rename_axis(None, axis=1)\n",
    ")"
   ]
  },
  {
   "cell_type": "markdown",
   "metadata": {
    "datalore": {
     "sheet_delimiter": false
    },
    "tags": [
     "DataChill"
    ]
   },
   "source": [
    "#### Pivot với 2 value\n",
    "\n",
    "Truyền vào 1 list values cần tính với tham số values và các hàm tính toán tương ứng với từng giá trị trong tham số aggfunc"
   ]
  },
  {
   "cell_type": "code",
   "execution_count": null,
   "metadata": {
    "datalore": {
     "sheet_delimiter": false
    },
    "tags": [
     "DataChill"
    ]
   },
   "outputs": [],
   "source": [
    "wide = long.pivot_table(\n",
    "    index='Market',\n",
    "    columns='Color',\n",
    "    values=['Price', 'Sales'],\n",
    "    aggfunc={'Price': np.mean, 'Sales': np.sum}\n",
    ")\n",
    "wide"
   ]
  },
  {
   "cell_type": "markdown",
   "metadata": {
    "datalore": {
     "sheet_delimiter": false
    },
    "tags": [
     "DataChill"
    ]
   },
   "source": [
    "Kết quả pivot trả về tên cột ở dạng hierrachy index. Sử dụng phương thức `ravel()` để làm phẳng tên cột."
   ]
  },
  {
   "cell_type": "code",
   "execution_count": null,
   "metadata": {
    "datalore": {
     "sheet_delimiter": false
    },
    "tags": [
     "DataChill"
    ]
   },
   "outputs": [],
   "source": [
    "wide.columns = wide.columns.ravel()\n",
    "wide"
   ]
  },
  {
   "cell_type": "code",
   "execution_count": null,
   "metadata": {
    "datalore": {
     "sheet_delimiter": false
    },
    "tags": [
     "DataChill"
    ]
   },
   "outputs": [],
   "source": [
    "wide = wide.reset_index()\n",
    "wide"
   ]
  },
  {
   "cell_type": "markdown",
   "metadata": {
    "datalore": {
     "sheet_delimiter": false
    },
    "tags": [
     "DataChill"
    ]
   },
   "source": [
    "Kết quả sau cùng giống với `groupby` nhưng ở dạng bảng khác nhau."
   ]
  },
  {
   "cell_type": "code",
   "execution_count": null,
   "metadata": {
    "datalore": {
     "sheet_delimiter": false
    },
    "tags": [
     "DataChill"
    ]
   },
   "outputs": [],
   "source": [
    "long.groupby(['Market', 'Color']).agg({'Price': [np.mean], 'Sales': [np.sum]}).reset_index()"
   ]
  },
  {
   "cell_type": "markdown",
   "metadata": {
    "datalore": {
     "sheet_delimiter": false
    },
    "tags": [
     "DataChill"
    ]
   },
   "source": [
    "# 2. Liên kết dữ liệu\n",
    "\n",
    "![image](https://img.shields.io/badge/Data-Chilly-teal?logo=python)"
   ]
  },
  {
   "cell_type": "markdown",
   "metadata": {
    "datalore": {
     "sheet_delimiter": false
    },
    "tags": [
     "DataChill"
    ]
   },
   "source": [
    "## 2.1. Append\n",
    "Appending (tạm dịch: nối bảng) là kỹ thuật ghép hai bảng theo chiều dọc.\\\n",
    "Phương thức `append()` của Dataframe tương đương với mệnh đề `UNION ALL` trong SQL.\n",
    "\n",
    "Kỹ thuật appending nên được áp dụng khi cần tăng số lượng quan sát và giữ nguyên số thuộc tính."
   ]
  },
  {
   "cell_type": "code",
   "execution_count": null,
   "metadata": {
    "datalore": {
     "sheet_delimiter": false
    },
    "tags": [
     "DataChill"
    ]
   },
   "outputs": [],
   "source": [
    "import numpy as np\n",
    "import pandas as pd"
   ]
  },
  {
   "cell_type": "code",
   "execution_count": null,
   "metadata": {
    "datalore": {
     "sheet_delimiter": false
    },
    "tags": [
     "DataChill"
    ]
   },
   "outputs": [],
   "source": [
    "sales1 = pd.DataFrame({\n",
    "    'year': [2000, 2000, 2000, 2000],\n",
    "    'quarter': [1, 2, 3, 4],\n",
    "    'target': [40000, 50000, 70000, 85000],\n",
    "    'sales': [35000, 38000, 78000, 90000]\n",
    "})\n",
    "sales1"
   ]
  },
  {
   "cell_type": "code",
   "execution_count": null,
   "metadata": {
    "datalore": {
     "sheet_delimiter": false
    },
    "tags": [
     "DataChill"
    ]
   },
   "outputs": [],
   "source": [
    "sales2 = pd.DataFrame({\n",
    "    'year': [2001, 2001, 2001, 2001],\n",
    "    'quarter': [1, 2, 3, 4],\n",
    "    'target': [50000, 60000, 70000, 85000],\n",
    "    'sales': [60000, 65000, 82000, 94000],\n",
    "    'profit': [20000, 21000, 27000, 35000]\n",
    "})\n",
    "sales2"
   ]
  },
  {
   "cell_type": "markdown",
   "metadata": {
    "datalore": {
     "sheet_delimiter": false
    },
    "tags": [
     "DataChill"
    ]
   },
   "source": [
    "#### Quy tắc hoạt động\n",
    "Phương thức `df1.append(df2)` hoạt động như sau:\n",
    "- Căn cứ vào tên các cột chung giữa 2 bảng\n",
    "- Giữ nguyên các bản ghi trùng lặp (nếu có)\n",
    "- Sử dụng cả các cột thừa trong `df2`"
   ]
  },
  {
   "cell_type": "code",
   "execution_count": null,
   "metadata": {
    "datalore": {
     "sheet_delimiter": false
    },
    "tags": [
     "DataChill"
    ]
   },
   "outputs": [],
   "source": [
    "sales1.append(sales2[['year', 'quarter', 'target', 'sales']])"
   ]
  },
  {
   "cell_type": "markdown",
   "metadata": {
    "datalore": {
     "sheet_delimiter": false
    },
    "tags": [
     "DataChill"
    ]
   },
   "source": [
    "**Chú ý:** Để phương thức `append()` hoạt động tốt nhất, cần chuẩn hóa tên cột và loại bỏ các cột thừa."
   ]
  },
  {
   "cell_type": "code",
   "execution_count": null,
   "metadata": {
    "datalore": {
     "sheet_delimiter": false
    },
    "tags": [
     "DataChill"
    ]
   },
   "outputs": [],
   "source": [
    "sales1[['quarter', 'target']]\\\n",
    "    .append(sales2[['quarter', 'target']])\\\n",
    "    .reset_index(drop=True)"
   ]
  },
  {
   "cell_type": "code",
   "execution_count": null,
   "metadata": {
    "datalore": {
     "sheet_delimiter": false
    },
    "tags": [
     "DataChill"
    ]
   },
   "outputs": [],
   "source": [
    "sales1[['quarter', 'target']]\\\n",
    "    .append(sales2[['quarter', 'target']])\\\n",
    "    .drop_duplicates()\\\n",
    "    .reset_index(drop=True)"
   ]
  },
  {
   "cell_type": "markdown",
   "metadata": {
    "datalore": {
     "sheet_delimiter": false
    },
    "tags": [
     "DataChill"
    ]
   },
   "source": [
    "## 2.2. Merge\n",
    "Merging (tạm dịch: hợp nhất bảng) là kỹ thuật ghép hai bảng theo chiều ngang.\\\n",
    "Phương thức `merge()` của Dataframe tương đương với mệnh đề `JOIN` trong SQL.\n",
    "\n",
    "Kỹ thuật merging nên được áp dụng khi bạn muốn bổ sung thêm các thuộc tính mới vào dataset hiện tại."
   ]
  },
  {
   "cell_type": "code",
   "execution_count": null,
   "metadata": {
    "datalore": {
     "sheet_delimiter": false
    },
    "tags": [
     "DataChill"
    ]
   },
   "outputs": [],
   "source": [
    "import numpy as np\n",
    "import pandas as pd"
   ]
  },
  {
   "cell_type": "code",
   "execution_count": null,
   "metadata": {
    "datalore": {
     "sheet_delimiter": false
    },
    "tags": [
     "DataChill"
    ]
   },
   "outputs": [],
   "source": [
    "income = pd.DataFrame({\n",
    "    'name': ['Hannah', 'James', 'Gabriel', 'Smith', 'Alex'],\n",
    "    'income_before_tax': [12000, 30000, 7000, 20000, 100000],\n",
    "    'tax_band': ['Allowance', 'Basic', 'Allowance', 'Basic', 'Higher']\n",
    "})\n",
    "income"
   ]
  },
  {
   "cell_type": "code",
   "execution_count": null,
   "metadata": {
    "datalore": {
     "sheet_delimiter": false
    },
    "tags": [
     "DataChill"
    ]
   },
   "outputs": [],
   "source": [
    "tax = pd.DataFrame({\n",
    "    'band': ['Allowance', 'Basic', 'Higher', 'Additional'],\n",
    "    'income_range': ['Up to $12,500', '\\$12,501 to $50,000', '\\$50,001 to $150,000', 'Over $150,000'],\n",
    "    'tax_rate_%': [0, 0.2, 0.4, 0.45]\n",
    "})\n",
    "tax"
   ]
  },
  {
   "cell_type": "markdown",
   "metadata": {
    "datalore": {
     "sheet_delimiter": false
    },
    "tags": [
     "DataChill"
    ]
   },
   "source": [
    "#### Quy tắc hoạt động\n",
    "Phương thức `df1.merge(df2)` có các đặc điểm sau:\n",
    "- Sử dụng một số cột làm key (xác định thông qua tham số `on` hoặc cặp tham số `left_on` - `right_on`). Theo mặc định: dùng tất cả cột chung làm key.\n",
    "- Chia thành 4 loại: left, right, inner, outer; trong đó left và inner được sử dụng nhiều hơn cả.\n",
    "\n",
    "<img src=\"images\\dataframe_merges.png\" width=\"800\">"
   ]
  },
  {
   "cell_type": "code",
   "execution_count": null,
   "metadata": {
    "datalore": {
     "sheet_delimiter": false
    },
    "tags": [
     "DataChill"
    ]
   },
   "outputs": [],
   "source": [
    "income.merge(tax, how='left', left_on='tax_band', right_on='band')"
   ]
  },
  {
   "cell_type": "markdown",
   "metadata": {
    "datalore": {
     "sheet_delimiter": false
    },
    "tags": [
     "DataChill"
    ]
   },
   "source": [
    "**Chú ý:** Phương thức `merge` hoạt động tốt nhất khi tên cột đã được chuẩn hóa."
   ]
  },
  {
   "cell_type": "code",
   "execution_count": null,
   "metadata": {
    "datalore": {
     "sheet_delimiter": false
    },
    "tags": [
     "DataChill"
    ]
   },
   "outputs": [],
   "source": [
    "income.rename(columns={'tax_band': 'band'})"
   ]
  },
  {
   "cell_type": "code",
   "execution_count": null,
   "metadata": {
    "datalore": {
     "sheet_delimiter": false
    },
    "tags": [
     "DataChill"
    ]
   },
   "outputs": [],
   "source": [
    "income\\\n",
    "    .rename(columns={'tax_band': 'band'})\\\n",
    "    .merge(tax, how='left')"
   ]
  },
  {
   "cell_type": "markdown",
   "metadata": {
    "datalore": {
     "sheet_delimiter": false
    },
    "tags": [
     "DataChill"
    ]
   },
   "source": [
    "**Tình huống 2:** Đọc file `us_youtube_trending.xlsx` (có 2 sheet), sau đó merge 2 bảng dựa trên cột `category`."
   ]
  },
  {
   "cell_type": "markdown",
   "metadata": {
    "datalore": {
     "sheet_delimiter": false
    },
    "tags": [
     "DataChill"
    ]
   },
   "source": [
    "# 3. Tính toán dữ liệu\n",
    "\n",
    "![image](https://img.shields.io/badge/Data-Chilly-teal?logo=python)"
   ]
  },
  {
   "cell_type": "markdown",
   "metadata": {
    "datalore": {
     "sheet_delimiter": false
    },
    "tags": [
     "DataChill"
    ]
   },
   "source": [
    "## 3.1. Lũy tiến"
   ]
  },
  {
   "cell_type": "code",
   "execution_count": null,
   "metadata": {
    "datalore": {
     "sheet_delimiter": false
    },
    "tags": [
     "DataChill"
    ]
   },
   "outputs": [],
   "source": [
    "import pandas as pd\n",
    "import numpy as np\n",
    "import matplotlib.pyplot as plt\n",
    "plt.style.use('seaborn')"
   ]
  },
  {
   "cell_type": "code",
   "execution_count": null,
   "metadata": {
    "datalore": {
     "sheet_delimiter": false
    },
    "tags": [
     "DataChill"
    ]
   },
   "outputs": [],
   "source": [
    "np.random.seed(0)\n",
    "purchase = pd.DataFrame({\n",
    "    'date': pd.date_range(start='1/1/2000', periods=12),\n",
    "    'quantity': np.random.randint(100, 1000, size=12)\n",
    "})\n",
    "purchase"
   ]
  },
  {
   "cell_type": "code",
   "execution_count": null,
   "metadata": {
    "datalore": {
     "sheet_delimiter": false
    },
    "tags": [
     "DataChill"
    ]
   },
   "outputs": [],
   "source": [
    "purchase['quantity_cumulative'] = purchase.quantity.cumsum()\n",
    "purchase"
   ]
  },
  {
   "cell_type": "code",
   "execution_count": null,
   "metadata": {
    "datalore": {
     "sheet_delimiter": false
    },
    "tags": [
     "DataChill"
    ]
   },
   "outputs": [],
   "source": [
    "purchase.set_index('date').plot()\n",
    "plt.show()"
   ]
  },
  {
   "cell_type": "markdown",
   "metadata": {
    "datalore": {
     "sheet_delimiter": false
    },
    "tags": [
     "DataChill"
    ]
   },
   "source": [
    "## 3.2. Tính toán trên các cột"
   ]
  },
  {
   "cell_type": "code",
   "execution_count": null,
   "metadata": {
    "datalore": {
     "sheet_delimiter": false
    },
    "tags": [
     "DataChill"
    ]
   },
   "outputs": [],
   "source": [
    "df_sale = pd.DataFrame({\n",
    "    'product':['A','B','C','D','E'],\n",
    "    'sale':[100,300,124,643,269],\n",
    "    'price':[2.5,1.5,4.3,1,4]})"
   ]
  },
  {
   "cell_type": "code",
   "execution_count": null,
   "metadata": {
    "datalore": {
     "sheet_delimiter": false
    },
    "tags": [
     "DataChill"
    ]
   },
   "outputs": [],
   "source": [
    "df_sale['profit'] = df_sale.sale * df_sale.price\n",
    "df_sale['tax'] = df_sale.profit * 0.1\n",
    "df_sale"
   ]
  },
  {
   "cell_type": "markdown",
   "metadata": {
    "datalore": {
     "sheet_delimiter": false
    },
    "tags": [
     "DataChill"
    ]
   },
   "source": [
    "## 3.3. Mức độ tăng trưởng"
   ]
  },
  {
   "cell_type": "code",
   "execution_count": null,
   "metadata": {
    "datalore": {
     "sheet_delimiter": false
    },
    "tags": [
     "DataChill"
    ]
   },
   "outputs": [],
   "source": [
    "import numpy as np\n",
    "import pandas as pd"
   ]
  },
  {
   "cell_type": "code",
   "execution_count": null,
   "metadata": {
    "datalore": {
     "sheet_delimiter": false
    },
    "tags": [
     "DataChill"
    ]
   },
   "outputs": [],
   "source": [
    "cpi = pd.DataFrame({\n",
    "    'quarter': [f'{year} Q{quarter}' for year in range(2017,2020) for quarter in range(1,5)],\n",
    "    'cost': [111.63, 112.23, 112.68, 113.10, 114.10, 115.28, 115.66, 115.59, 115.98, 117.37, 117.69, 117.94]\n",
    "})\n",
    "cpi"
   ]
  },
  {
   "cell_type": "code",
   "execution_count": null,
   "metadata": {
    "datalore": {
     "sheet_delimiter": false
    },
    "tags": [
     "DataChill"
    ]
   },
   "outputs": [],
   "source": [
    "# tỷ lệ tăng trưởng so với quý trước\n",
    "cpi.cost.pct_change()*100"
   ]
  },
  {
   "cell_type": "markdown",
   "metadata": {
    "datalore": {
     "sheet_delimiter": false
    },
    "tags": [
     "DataChill"
    ]
   },
   "source": [
    "**Tình huống 3:** Sử dụng phương thức `pct_change()`, tính CPI theo 2 cách:\n",
    "1. Bằng tỉ lệ tăng trưởng so với quý trước\n",
    "2. Bằng tỉ lệ tăng trưởng so với cùng kỳ năm trước"
   ]
  },
  {
   "cell_type": "code",
   "execution_count": null,
   "metadata": {
    "datalore": {
     "sheet_delimiter": false
    },
    "tags": [
     "DataChill"
    ]
   },
   "outputs": [],
   "source": [
    "from IPython.display import Image\n",
    "Image('https://raw.githubusercontent.com/linhpt7/COURSE/main/datachilly_logo.png', height=100)"
   ]
  },
  {
   "cell_type": "markdown",
   "metadata": {
    "datalore": {
     "sheet_delimiter": false
    },
    "tags": [
     "DataChill"
    ]
   },
   "source": [
    "# Giải đáp tình huống\n",
    "![image](https://img.shields.io/badge/Data-Chilly-teal?logo=python)"
   ]
  },
  {
   "cell_type": "markdown",
   "metadata": {
    "datalore": {
     "sheet_delimiter": false
    },
    "tags": [
     "DataChill"
    ]
   },
   "source": [
    "**Tình huống 1:** Đọc file `z_score.xlsx` rồi biến đổi dữ liệu về dạng sau:\n",
    "\n",
    "right_area|z_score|\n",
    "---------:|------:|\n",
    "0.00005   |3.9    |\n",
    "0.00007   |3.8    |\n",
    "0.00011   |3.7    |\n",
    "0.00016   |3.6    |\n",
    "0.00023   |3.5    |\n",
    "...       |...    |\n",
    "0.31207   |0.49   |\n",
    "0.34827   |0.39   |\n",
    "0.38591   |0.29   |\n",
    "0.42465   |0.19   |\n",
    "0.46414   |0.09   |"
   ]
  },
  {
   "cell_type": "code",
   "execution_count": null,
   "metadata": {
    "datalore": {
     "sheet_delimiter": false
    },
    "tags": [
     "DataChill"
    ]
   },
   "outputs": [],
   "source": [
    "import numpy as np\n",
    "import pandas as pd"
   ]
  },
  {
   "cell_type": "code",
   "execution_count": null,
   "metadata": {
    "datalore": {
     "sheet_delimiter": false
    },
    "tags": [
     "DataChill"
    ]
   },
   "outputs": [],
   "source": [
    "z = pd.read_excel(r'data\\z_score.xlsx')\n",
    "z"
   ]
  },
  {
   "cell_type": "code",
   "execution_count": null,
   "metadata": {
    "datalore": {
     "sheet_delimiter": false
    },
    "tags": [
     "DataChill"
    ]
   },
   "outputs": [],
   "source": [
    "z = z.melt(id_vars='Z', var_name='Z2', value_name='right_area')\n",
    "z"
   ]
  },
  {
   "cell_type": "code",
   "execution_count": null,
   "metadata": {
    "datalore": {
     "sheet_delimiter": false
    },
    "tags": [
     "DataChill"
    ]
   },
   "outputs": [],
   "source": [
    "z['z_score'] = z.Z + z.Z2\n",
    "z.drop(columns=['Z', 'Z2'])"
   ]
  },
  {
   "cell_type": "markdown",
   "metadata": {
    "datalore": {
     "sheet_delimiter": false
    },
    "tags": [
     "DataChill"
    ]
   },
   "source": [
    "**Tình huống 2:** Đọc file `us_youtube_trending.xlsx` (có 2 sheet), sau đó merge 2 bảng dựa trên cột `category_id`."
   ]
  },
  {
   "cell_type": "code",
   "execution_count": null,
   "metadata": {
    "datalore": {
     "sheet_delimiter": false
    },
    "tags": [
     "DataChill"
    ]
   },
   "outputs": [],
   "source": [
    "import numpy as np\n",
    "import pandas as pd"
   ]
  },
  {
   "cell_type": "code",
   "execution_count": null,
   "metadata": {
    "datalore": {
     "sheet_delimiter": false
    },
    "tags": [
     "DataChill"
    ]
   },
   "outputs": [],
   "source": [
    "video = pd.read_excel(r'us_youtube_trending.xlsx', sheet_name='Sheet1')\n",
    "video.head()"
   ]
  },
  {
   "cell_type": "code",
   "execution_count": null,
   "metadata": {
    "datalore": {
     "sheet_delimiter": false
    },
    "tags": [
     "DataChill"
    ]
   },
   "outputs": [],
   "source": [
    "category = pd.read_excel(r'data\\us_youtube_trending.xlsx', sheet_name='Sheet2')\n",
    "category.head()"
   ]
  },
  {
   "cell_type": "code",
   "execution_count": null,
   "metadata": {
    "datalore": {
     "sheet_delimiter": false
    },
    "tags": [
     "DataChill"
    ]
   },
   "outputs": [],
   "source": [
    "category = category.rename(columns={'id': 'category_id', 'category_name': 'category'})"
   ]
  },
  {
   "cell_type": "code",
   "execution_count": null,
   "metadata": {
    "datalore": {
     "sheet_delimiter": false
    },
    "tags": [
     "DataChill"
    ]
   },
   "outputs": [],
   "source": [
    "video.merge(category, how='left')"
   ]
  },
  {
   "cell_type": "markdown",
   "metadata": {
    "datalore": {
     "sheet_delimiter": false
    },
    "tags": [
     "DataChill"
    ]
   },
   "source": [
    "**Tình huống 3:** Sử dụng phương thức `pct_change()`, tính CPI theo 2 cách:\n",
    "1. Bằng tỉ lệ tăng trưởng so với quý trước\n",
    "2. Bằng tỉ lệ tăng trưởng so với cùng kỳ năm trước"
   ]
  },
  {
   "cell_type": "code",
   "execution_count": null,
   "metadata": {
    "datalore": {
     "sheet_delimiter": false
    },
    "tags": [
     "DataChill"
    ]
   },
   "outputs": [],
   "source": [
    "import numpy as np\n",
    "import pandas as pd"
   ]
  },
  {
   "cell_type": "code",
   "execution_count": null,
   "metadata": {
    "datalore": {
     "sheet_delimiter": false
    },
    "tags": [
     "DataChill"
    ]
   },
   "outputs": [],
   "source": [
    "cpi = pd.DataFrame({\n",
    "    'quarter': [f'{year} Q{quarter}' for year in range(2017,2020) for quarter in range(1,5)],\n",
    "    'cost': [111.63, 112.23, 112.68, 113.10, 114.10, 115.28, 115.66, 115.59, 115.98, 117.37, 117.69, 117.94]\n",
    "})\n",
    "cpi"
   ]
  },
  {
   "cell_type": "code",
   "execution_count": null,
   "metadata": {
    "datalore": {
     "sheet_delimiter": false
    },
    "tags": [
     "DataChill"
    ]
   },
   "outputs": [],
   "source": [
    "cpi.cost.pct_change()*100"
   ]
  },
  {
   "cell_type": "code",
   "execution_count": null,
   "metadata": {
    "datalore": {
     "sheet_delimiter": false
    },
    "tags": [
     "DataChill"
    ]
   },
   "outputs": [],
   "source": [
    "cpi.cost.pct_change(periods=4) * 100"
   ]
  },
  {
   "cell_type": "markdown",
   "metadata": {
    "datalore": {
     "sheet_delimiter": false
    },
    "tags": [
     "DataChill"
    ]
   },
   "source": [
    "Tài liệu dành cho các bạn đã mua khoá học của DataChilly. Vui lòng không sao chép, chia sẻ dưới mọi hình thức.\n",
    "\n",
    "![image](https://img.shields.io/badge/Data-Chilly-teal?logo=python)"
   ]
  }
 ],
 "metadata": {
  "kernelspec": {
   "display_name": "Python 3",
   "language": "python",
   "name": "python3"
  },
  "language_info": {
   "codemirror_mode": {
    "name": "ipython",
    "version": 3
   },
   "file_extension": ".py",
   "mimetype": "text/x-python",
   "name": "python",
   "nbconvert_exporter": "python",
   "pygments_lexer": "ipython3",
   "version": "3.8.8"
  }
 },
 "nbformat": 4,
 "nbformat_minor": 4
}
