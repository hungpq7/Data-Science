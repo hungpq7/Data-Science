{
 "cells": [
  {
   "cell_type": "markdown",
   "metadata": {
    "colab_type": "text",
    "id": "gyNLPl4FOh01"
   },
   "source": [
    "# 1. List\n",
    "A `list` object stores a set of ordered items, each item can be of any data type. Lists are mutable. A list can be defined using square brackets `[]` or using the `list` function."
   ]
  },
  {
   "cell_type": "code",
   "execution_count": 1,
   "metadata": {
    "execution": {
     "iopub.execute_input": "2021-06-27T15:45:21.858479Z",
     "iopub.status.busy": "2021-06-27T15:45:21.857519Z",
     "iopub.status.idle": "2021-06-27T15:45:21.886357Z",
     "shell.execute_reply": "2021-06-27T15:45:21.885359Z",
     "shell.execute_reply.started": "2021-06-27T15:45:21.858479Z"
    }
   },
   "outputs": [
    {
     "data": {
      "text/plain": [
       "['p', 'y', 't', 'h', 'o', 'n']"
      ]
     },
     "execution_count": 1,
     "metadata": {},
     "output_type": "execute_result"
    }
   ],
   "source": [
    "# convert a string to a list\n",
    "list('python')"
   ]
  },
  {
   "cell_type": "code",
   "execution_count": 2,
   "metadata": {
    "execution": {
     "iopub.execute_input": "2021-06-27T15:45:21.890346Z",
     "iopub.status.busy": "2021-06-27T15:45:21.889349Z",
     "iopub.status.idle": "2021-06-27T15:45:21.918274Z",
     "shell.execute_reply": "2021-06-27T15:45:21.917277Z",
     "shell.execute_reply.started": "2021-06-27T15:45:21.890346Z"
    }
   },
   "outputs": [
    {
     "data": {
      "text/plain": [
       "['python', 3.14, None]"
      ]
     },
     "execution_count": 2,
     "metadata": {},
     "output_type": "execute_result"
    }
   ],
   "source": [
    "# storing different data types\n",
    "['python', 3.14, None]"
   ]
  },
  {
   "cell_type": "code",
   "execution_count": 3,
   "metadata": {
    "execution": {
     "iopub.execute_input": "2021-06-27T15:45:21.922261Z",
     "iopub.status.busy": "2021-06-27T15:45:21.922261Z",
     "iopub.status.idle": "2021-06-27T15:45:21.934229Z",
     "shell.execute_reply": "2021-06-27T15:45:21.933231Z",
     "shell.execute_reply.started": "2021-06-27T15:45:21.922261Z"
    }
   },
   "outputs": [
    {
     "data": {
      "text/plain": [
       "['__add__',\n",
       " '__class__',\n",
       " '__contains__',\n",
       " '__delattr__',\n",
       " '__delitem__',\n",
       " '__dir__',\n",
       " '__doc__',\n",
       " '__eq__',\n",
       " '__format__',\n",
       " '__ge__',\n",
       " '__getattribute__',\n",
       " '__getitem__',\n",
       " '__gt__',\n",
       " '__hash__',\n",
       " '__iadd__',\n",
       " '__imul__',\n",
       " '__init__',\n",
       " '__init_subclass__',\n",
       " '__iter__',\n",
       " '__le__',\n",
       " '__len__',\n",
       " '__lt__',\n",
       " '__mul__',\n",
       " '__ne__',\n",
       " '__new__',\n",
       " '__reduce__',\n",
       " '__reduce_ex__',\n",
       " '__repr__',\n",
       " '__reversed__',\n",
       " '__rmul__',\n",
       " '__setattr__',\n",
       " '__setitem__',\n",
       " '__sizeof__',\n",
       " '__str__',\n",
       " '__subclasshook__',\n",
       " 'append',\n",
       " 'clear',\n",
       " 'copy',\n",
       " 'count',\n",
       " 'extend',\n",
       " 'index',\n",
       " 'insert',\n",
       " 'pop',\n",
       " 'remove',\n",
       " 'reverse',\n",
       " 'sort']"
      ]
     },
     "execution_count": 3,
     "metadata": {},
     "output_type": "execute_result"
    }
   ],
   "source": [
    "# show all methods and attributes\n",
    "dir([])"
   ]
  },
  {
   "cell_type": "markdown",
   "metadata": {},
   "source": [
    "## 1.1. Adding and removing items"
   ]
  },
  {
   "cell_type": "markdown",
   "metadata": {},
   "source": [
    "The `list.append` method adds a single object to the end of the list."
   ]
  },
  {
   "cell_type": "code",
   "execution_count": 4,
   "metadata": {
    "execution": {
     "iopub.execute_input": "2021-06-27T15:45:21.936224Z",
     "iopub.status.busy": "2021-06-27T15:45:21.935226Z",
     "iopub.status.idle": "2021-06-27T15:45:21.966021Z",
     "shell.execute_reply": "2021-06-27T15:45:21.964026Z",
     "shell.execute_reply.started": "2021-06-27T15:45:21.936224Z"
    }
   },
   "outputs": [
    {
     "data": {
      "text/plain": [
       "['jaguar', 'tiger', 'lion', 'panther', 'leopard']"
      ]
     },
     "execution_count": 4,
     "metadata": {},
     "output_type": "execute_result"
    }
   ],
   "source": [
    "cats = ['jaguar', 'tiger', 'lion', 'panther']\n",
    "cats.append('leopard')\n",
    "cats"
   ]
  },
  {
   "cell_type": "markdown",
   "metadata": {},
   "source": [
    "The `list.insert` method inserts a single object to the list at a given index."
   ]
  },
  {
   "cell_type": "code",
   "execution_count": 5,
   "metadata": {
    "execution": {
     "iopub.execute_input": "2021-06-27T15:45:21.975993Z",
     "iopub.status.busy": "2021-06-27T15:45:21.973002Z",
     "iopub.status.idle": "2021-06-27T15:45:22.012905Z",
     "shell.execute_reply": "2021-06-27T15:45:22.011906Z",
     "shell.execute_reply.started": "2021-06-27T15:45:21.975993Z"
    }
   },
   "outputs": [
    {
     "data": {
      "text/plain": [
       "['jaguar', 'tiger', 'puma', 'lion', 'panther']"
      ]
     },
     "execution_count": 5,
     "metadata": {},
     "output_type": "execute_result"
    }
   ],
   "source": [
    "cats = ['jaguar', 'tiger', 'lion', 'panther']\n",
    "cats.insert(2, 'puma')\n",
    "cats"
   ]
  },
  {
   "cell_type": "code",
   "execution_count": 6,
   "metadata": {
    "execution": {
     "iopub.execute_input": "2021-06-27T15:45:22.014900Z",
     "iopub.status.busy": "2021-06-27T15:45:22.014900Z",
     "iopub.status.idle": "2021-06-27T15:45:22.031859Z",
     "shell.execute_reply": "2021-06-27T15:45:22.027868Z",
     "shell.execute_reply.started": "2021-06-27T15:45:22.014900Z"
    }
   },
   "outputs": [
    {
     "data": {
      "text/plain": [
       "['jaguar', 'tiger', ['cheetah', 'puma'], 'lion', 'panther']"
      ]
     },
     "execution_count": 6,
     "metadata": {},
     "output_type": "execute_result"
    }
   ],
   "source": [
    "cats = ['jaguar', 'tiger', 'lion', 'panther']\n",
    "cats.insert(2, ['cheetah', 'puma'])\n",
    "cats"
   ]
  },
  {
   "cell_type": "markdown",
   "metadata": {},
   "source": [
    "The `list.extend` methods add elements from the given iterable to the end of the list."
   ]
  },
  {
   "cell_type": "code",
   "execution_count": 7,
   "metadata": {
    "execution": {
     "iopub.execute_input": "2021-06-27T15:45:22.039839Z",
     "iopub.status.busy": "2021-06-27T15:45:22.033852Z",
     "iopub.status.idle": "2021-06-27T15:45:22.076609Z",
     "shell.execute_reply": "2021-06-27T15:45:22.075612Z",
     "shell.execute_reply.started": "2021-06-27T15:45:22.039839Z"
    }
   },
   "outputs": [
    {
     "data": {
      "text/plain": [
       "['jaguar', 'tiger', 'lion', 'panther', 'p', 'u', 'm', 'a']"
      ]
     },
     "execution_count": 7,
     "metadata": {},
     "output_type": "execute_result"
    }
   ],
   "source": [
    "cats = ['jaguar', 'tiger', 'lion', 'panther']\n",
    "cats.extend('puma')\n",
    "cats"
   ]
  },
  {
   "cell_type": "code",
   "execution_count": 8,
   "metadata": {
    "execution": {
     "iopub.execute_input": "2021-06-27T15:45:22.081558Z",
     "iopub.status.busy": "2021-06-27T15:45:22.080560Z",
     "iopub.status.idle": "2021-06-27T15:45:22.095519Z",
     "shell.execute_reply": "2021-06-27T15:45:22.091531Z",
     "shell.execute_reply.started": "2021-06-27T15:45:22.080560Z"
    }
   },
   "outputs": [
    {
     "data": {
      "text/plain": [
       "['jaguar', 'tiger', 'lion', 'panther', 'cheetah', 'puma']"
      ]
     },
     "execution_count": 8,
     "metadata": {},
     "output_type": "execute_result"
    }
   ],
   "source": [
    "cats = ['jaguar', 'tiger', 'lion', 'panther']\n",
    "cats.extend(['cheetah', 'puma'])\n",
    "cats"
   ]
  },
  {
   "cell_type": "markdown",
   "metadata": {},
   "source": [
    "Python supports concatenating lists using the plus sign `+`."
   ]
  },
  {
   "cell_type": "code",
   "execution_count": 9,
   "metadata": {
    "execution": {
     "iopub.execute_input": "2021-06-27T15:45:22.104499Z",
     "iopub.status.busy": "2021-06-27T15:45:22.102503Z",
     "iopub.status.idle": "2021-06-27T15:45:22.124442Z",
     "shell.execute_reply": "2021-06-27T15:45:22.123446Z",
     "shell.execute_reply.started": "2021-06-27T15:45:22.104499Z"
    }
   },
   "outputs": [
    {
     "data": {
      "text/plain": [
       "['jaguar', 'tiger', 'lion', 'panther', 'cheetah', 'puma']"
      ]
     },
     "execution_count": 9,
     "metadata": {},
     "output_type": "execute_result"
    }
   ],
   "source": [
    "cats = ['jaguar', 'tiger', 'lion', 'panther']\n",
    "cats + ['cheetah', 'puma']"
   ]
  },
  {
   "cell_type": "code",
   "execution_count": 10,
   "metadata": {
    "execution": {
     "iopub.execute_input": "2021-06-27T15:45:22.127438Z",
     "iopub.status.busy": "2021-06-27T15:45:22.126438Z",
     "iopub.status.idle": "2021-06-27T15:45:22.140403Z",
     "shell.execute_reply": "2021-06-27T15:45:22.139403Z",
     "shell.execute_reply.started": "2021-06-27T15:45:22.127438Z"
    }
   },
   "outputs": [
    {
     "data": {
      "text/plain": [
       "['jaguar', 'tiger', 'lion', 'panther', 'cheetah', 'puma']"
      ]
     },
     "execution_count": 10,
     "metadata": {},
     "output_type": "execute_result"
    }
   ],
   "source": [
    "['jaguar', 'tiger', 'lion', 'panther'] + ['cheetah', 'puma']"
   ]
  },
  {
   "cell_type": "markdown",
   "metadata": {},
   "source": [
    "The `list.remove` method deletes the first occurance of the given item."
   ]
  },
  {
   "cell_type": "code",
   "execution_count": 11,
   "metadata": {
    "execution": {
     "iopub.execute_input": "2021-06-27T15:45:22.142395Z",
     "iopub.status.busy": "2021-06-27T15:45:22.141402Z",
     "iopub.status.idle": "2021-06-27T15:45:22.156358Z",
     "shell.execute_reply": "2021-06-27T15:45:22.155359Z",
     "shell.execute_reply.started": "2021-06-27T15:45:22.142395Z"
    }
   },
   "outputs": [
    {
     "data": {
      "text/plain": [
       "['tiger', 'lion', 'leopard']"
      ]
     },
     "execution_count": 11,
     "metadata": {},
     "output_type": "execute_result"
    }
   ],
   "source": [
    "cats = ['tiger', 'python', 'lion', 'leopard']\n",
    "cats.remove('python')\n",
    "cats"
   ]
  },
  {
   "cell_type": "markdown",
   "metadata": {},
   "source": [
    "The `list.pop` method deletes an item at the given index, and returns that deleted item."
   ]
  },
  {
   "cell_type": "code",
   "execution_count": 12,
   "metadata": {
    "execution": {
     "iopub.execute_input": "2021-06-27T15:45:22.158370Z",
     "iopub.status.busy": "2021-06-27T15:45:22.157355Z",
     "iopub.status.idle": "2021-06-27T15:45:22.172323Z",
     "shell.execute_reply": "2021-06-27T15:45:22.171327Z",
     "shell.execute_reply.started": "2021-06-27T15:45:22.158370Z"
    }
   },
   "outputs": [
    {
     "name": "stdout",
     "output_type": "stream",
     "text": [
      "['tiger', 'lion', 'leopard']\n",
      "python\n"
     ]
    }
   ],
   "source": [
    "cats = ['tiger', 'python', 'lion', 'leopard']\n",
    "deleted = cats.pop(1)\n",
    "print(cats)\n",
    "print(deleted)"
   ]
  },
  {
   "cell_type": "markdown",
   "metadata": {},
   "source": [
    "Python also supports using the `del` statement to detele items at specified index."
   ]
  },
  {
   "cell_type": "code",
   "execution_count": 13,
   "metadata": {
    "execution": {
     "iopub.execute_input": "2021-06-27T15:45:22.174318Z",
     "iopub.status.busy": "2021-06-27T15:45:22.174318Z",
     "iopub.status.idle": "2021-06-27T15:45:22.235021Z",
     "shell.execute_reply": "2021-06-27T15:45:22.234024Z",
     "shell.execute_reply.started": "2021-06-27T15:45:22.174318Z"
    }
   },
   "outputs": [
    {
     "data": {
      "text/plain": [
       "['python', 'leopard']"
      ]
     },
     "execution_count": 13,
     "metadata": {},
     "output_type": "execute_result"
    }
   ],
   "source": [
    "cats = ['tiger', 'python', 'lion', 'leopard']\n",
    "del cats[::2]\n",
    "cats"
   ]
  },
  {
   "cell_type": "markdown",
   "metadata": {},
   "source": [
    "## 1.2. List slicing\n",
    "List slicing works the same as string slicing: `[start:stop:step]`."
   ]
  },
  {
   "cell_type": "markdown",
   "metadata": {},
   "source": [
    "#### Slicing review"
   ]
  },
  {
   "cell_type": "code",
   "execution_count": 14,
   "metadata": {
    "execution": {
     "iopub.execute_input": "2021-06-27T15:45:22.237018Z",
     "iopub.status.busy": "2021-06-27T15:45:22.236019Z",
     "iopub.status.idle": "2021-06-27T15:45:22.250979Z",
     "shell.execute_reply": "2021-06-27T15:45:22.249981Z",
     "shell.execute_reply.started": "2021-06-27T15:45:22.237018Z"
    }
   },
   "outputs": [
    {
     "data": {
      "text/plain": [
       "[1, 3, 5]"
      ]
     },
     "execution_count": 14,
     "metadata": {},
     "output_type": "execute_result"
    }
   ],
   "source": [
    "digits = [0, 1, 2, 3, 4, 5, 6, 7, 8, 9]\n",
    "digits[1:7:2]"
   ]
  },
  {
   "cell_type": "code",
   "execution_count": 15,
   "metadata": {
    "execution": {
     "iopub.execute_input": "2021-06-27T15:45:22.252974Z",
     "iopub.status.busy": "2021-06-27T15:45:22.252974Z",
     "iopub.status.idle": "2021-06-27T15:45:22.266937Z",
     "shell.execute_reply": "2021-06-27T15:45:22.265938Z",
     "shell.execute_reply.started": "2021-06-27T15:45:22.252974Z"
    }
   },
   "outputs": [
    {
     "data": {
      "text/plain": [
       "7"
      ]
     },
     "execution_count": 15,
     "metadata": {},
     "output_type": "execute_result"
    }
   ],
   "source": [
    "digits = [0, 1, 2, 3, 4, 5, 6, 7, 8, 9]\n",
    "digits[7]"
   ]
  },
  {
   "cell_type": "code",
   "execution_count": 16,
   "metadata": {
    "execution": {
     "iopub.execute_input": "2021-06-27T15:45:22.269929Z",
     "iopub.status.busy": "2021-06-27T15:45:22.268932Z",
     "iopub.status.idle": "2021-06-27T15:45:22.282895Z",
     "shell.execute_reply": "2021-06-27T15:45:22.281902Z",
     "shell.execute_reply.started": "2021-06-27T15:45:22.268932Z"
    }
   },
   "outputs": [
    {
     "data": {
      "text/plain": [
       "[7]"
      ]
     },
     "execution_count": 16,
     "metadata": {},
     "output_type": "execute_result"
    }
   ],
   "source": [
    "digits = [0, 1, 2, 3, 4, 5, 6, 7, 8, 9]\n",
    "digits[7:8]"
   ]
  },
  {
   "cell_type": "code",
   "execution_count": 17,
   "metadata": {
    "execution": {
     "iopub.execute_input": "2021-06-27T15:45:22.285887Z",
     "iopub.status.busy": "2021-06-27T15:45:22.285887Z",
     "iopub.status.idle": "2021-06-27T15:45:22.315807Z",
     "shell.execute_reply": "2021-06-27T15:45:22.313977Z",
     "shell.execute_reply.started": "2021-06-27T15:45:22.285887Z"
    }
   },
   "outputs": [
    {
     "data": {
      "text/plain": [
       "[0, 1, 2, 3, 4, 5, 6, 7, 8, 9]"
      ]
     },
     "execution_count": 17,
     "metadata": {},
     "output_type": "execute_result"
    }
   ],
   "source": [
    "digits = [0, 1, 2, 3, 4, 5, 6, 7, 8, 9]\n",
    "digits[:7] + digits[7:]"
   ]
  },
  {
   "cell_type": "code",
   "execution_count": 18,
   "metadata": {
    "execution": {
     "iopub.execute_input": "2021-06-27T15:45:22.318907Z",
     "iopub.status.busy": "2021-06-27T15:45:22.317801Z",
     "iopub.status.idle": "2021-06-27T15:45:22.343732Z",
     "shell.execute_reply": "2021-06-27T15:45:22.341737Z",
     "shell.execute_reply.started": "2021-06-27T15:45:22.318907Z"
    }
   },
   "outputs": [
    {
     "data": {
      "text/plain": [
       "[9, 8, 7, 6, 5, 4, 3, 2, 1, 0]"
      ]
     },
     "execution_count": 18,
     "metadata": {},
     "output_type": "execute_result"
    }
   ],
   "source": [
    "digits = [0, 1, 2, 3, 4, 5, 6, 7, 8, 9]\n",
    "digits[::-1]"
   ]
  },
  {
   "cell_type": "code",
   "execution_count": 19,
   "metadata": {
    "execution": {
     "iopub.execute_input": "2021-06-27T15:45:22.348719Z",
     "iopub.status.busy": "2021-06-27T15:45:22.347733Z",
     "iopub.status.idle": "2021-06-27T15:45:22.373653Z",
     "shell.execute_reply": "2021-06-27T15:45:22.372654Z",
     "shell.execute_reply.started": "2021-06-27T15:45:22.348719Z"
    }
   },
   "outputs": [
    {
     "data": {
      "text/plain": [
       "'lion'"
      ]
     },
     "execution_count": 19,
     "metadata": {},
     "output_type": "execute_result"
    }
   ],
   "source": [
    "nested_list = [['tiger', 5], ['lion', 4], ['jaguar', 6]]\n",
    "nested_list[1][0]"
   ]
  },
  {
   "cell_type": "markdown",
   "metadata": {},
   "source": [
    "#### Item assignment\n",
    "A techinque works only on mutable sequences."
   ]
  },
  {
   "cell_type": "code",
   "execution_count": 20,
   "metadata": {
    "execution": {
     "iopub.execute_input": "2021-06-27T15:45:22.375648Z",
     "iopub.status.busy": "2021-06-27T15:45:22.375648Z",
     "iopub.status.idle": "2021-06-27T15:45:22.404573Z",
     "shell.execute_reply": "2021-06-27T15:45:22.403576Z",
     "shell.execute_reply.started": "2021-06-27T15:45:22.375648Z"
    }
   },
   "outputs": [
    {
     "data": {
      "text/plain": [
       "[0, 1, 2, 3, 4, 5, 6, None, 8, 9]"
      ]
     },
     "execution_count": 20,
     "metadata": {},
     "output_type": "execute_result"
    }
   ],
   "source": [
    "digits = [0, 1, 2, 3, 4, 5, 6, 7, 8, 9]\n",
    "digits[7] = None\n",
    "digits"
   ]
  },
  {
   "cell_type": "code",
   "execution_count": 21,
   "metadata": {
    "execution": {
     "iopub.execute_input": "2021-06-27T15:45:22.406569Z",
     "iopub.status.busy": "2021-06-27T15:45:22.406569Z",
     "iopub.status.idle": "2021-06-27T15:45:22.420117Z",
     "shell.execute_reply": "2021-06-27T15:45:22.419121Z",
     "shell.execute_reply.started": "2021-06-27T15:45:22.406569Z"
    }
   },
   "outputs": [
    {
     "data": {
      "text/plain": [
       "[0, True, False, 6, 7, 8, 9]"
      ]
     },
     "execution_count": 21,
     "metadata": {},
     "output_type": "execute_result"
    }
   ],
   "source": [
    "digits = [0, 1, 2, 3, 4, 5, 6, 7, 8, 9]\n",
    "digits[1:6] = [True, False]\n",
    "digits"
   ]
  },
  {
   "cell_type": "markdown",
   "metadata": {
    "colab_type": "text",
    "id": "-C6ldsDzOh21"
   },
   "source": [
    "## 1.3. List manipulation <a id='1.3'></a>\n",
    "A function/method usually does only one of these:\n",
    "- Returning the output as a new object.\n",
    "- Alter the input data in-place."
   ]
  },
  {
   "cell_type": "code",
   "execution_count": 22,
   "metadata": {
    "colab": {},
    "colab_type": "code",
    "execution": {
     "iopub.execute_input": "2021-06-27T15:45:22.423111Z",
     "iopub.status.busy": "2021-06-27T15:45:22.423111Z",
     "iopub.status.idle": "2021-06-27T15:45:22.436075Z",
     "shell.execute_reply": "2021-06-27T15:45:22.435077Z",
     "shell.execute_reply.started": "2021-06-27T15:45:22.423111Z"
    },
    "id": "iJXQNd8BOh22"
   },
   "outputs": [
    {
     "data": {
      "text/plain": [
       "[0, 1, 2, 3, 4, 5, 6, 7, 8, 9]"
      ]
     },
     "execution_count": 22,
     "metadata": {},
     "output_type": "execute_result"
    }
   ],
   "source": [
    "# sort alphabetically, icreasingly\n",
    "digits = [5, 2, 1, 6, 3, 0, 7, 9, 4, 8]\n",
    "digits.sort()\n",
    "digits"
   ]
  },
  {
   "cell_type": "code",
   "execution_count": 23,
   "metadata": {
    "colab": {},
    "colab_type": "code",
    "execution": {
     "iopub.execute_input": "2021-06-27T15:45:22.439068Z",
     "iopub.status.busy": "2021-06-27T15:45:22.438069Z",
     "iopub.status.idle": "2021-06-27T15:45:22.472978Z",
     "shell.execute_reply": "2021-06-27T15:45:22.469986Z",
     "shell.execute_reply.started": "2021-06-27T15:45:22.439068Z"
    },
    "id": "ZX9uJDqqOh3P"
   },
   "outputs": [
    {
     "data": {
      "text/plain": [
       "['panther', 'leopard', 'cheetah', 'jaguar', 'tiger', 'lion']"
      ]
     },
     "execution_count": 23,
     "metadata": {},
     "output_type": "execute_result"
    }
   ],
   "source": [
    "# sort by item length, decreasingly\n",
    "cats = ['tiger', 'lion', 'panther', 'leopard', 'jaguar', 'cheetah']\n",
    "cats.sort(key=len, reverse=True)\n",
    "cats"
   ]
  },
  {
   "cell_type": "code",
   "execution_count": 24,
   "metadata": {
    "execution": {
     "iopub.execute_input": "2021-06-27T15:45:22.481954Z",
     "iopub.status.busy": "2021-06-27T15:45:22.475971Z",
     "iopub.status.idle": "2021-06-27T15:45:22.498908Z",
     "shell.execute_reply": "2021-06-27T15:45:22.497909Z",
     "shell.execute_reply.started": "2021-06-27T15:45:22.481954Z"
    }
   },
   "outputs": [
    {
     "data": {
      "text/plain": [
       "3"
      ]
     },
     "execution_count": 24,
     "metadata": {},
     "output_type": "execute_result"
    }
   ],
   "source": [
    "my_list = ['a', 'n', 'a', 'c', 'o', 'n', 'd', 'a']\n",
    "my_list.count('a')"
   ]
  },
  {
   "cell_type": "code",
   "execution_count": 25,
   "metadata": {
    "execution": {
     "iopub.execute_input": "2021-06-27T15:45:22.503898Z",
     "iopub.status.busy": "2021-06-27T15:45:22.502898Z",
     "iopub.status.idle": "2021-06-27T15:45:22.532896Z",
     "shell.execute_reply": "2021-06-27T15:45:22.529824Z",
     "shell.execute_reply.started": "2021-06-27T15:45:22.503898Z"
    }
   },
   "outputs": [
    {
     "data": {
      "text/plain": [
       "2"
      ]
     },
     "execution_count": 25,
     "metadata": {},
     "output_type": "execute_result"
    }
   ],
   "source": [
    "cats = ['tiger', 'lion', 'panther', 'leopard', 'jaguar', 'cheetah']\n",
    "cats.index('panther')"
   ]
  },
  {
   "cell_type": "code",
   "execution_count": 26,
   "metadata": {
    "execution": {
     "iopub.execute_input": "2021-06-27T15:45:22.543787Z",
     "iopub.status.busy": "2021-06-27T15:45:22.542790Z",
     "iopub.status.idle": "2021-06-27T15:45:22.561738Z",
     "shell.execute_reply": "2021-06-27T15:45:22.560742Z",
     "shell.execute_reply.started": "2021-06-27T15:45:22.543787Z"
    }
   },
   "outputs": [
    {
     "data": {
      "text/plain": [
       "6"
      ]
     },
     "execution_count": 26,
     "metadata": {},
     "output_type": "execute_result"
    }
   ],
   "source": [
    "cats = ['tiger', 'lion', 'panther', 'leopard', 'jaguar', 'cheetah']\n",
    "len(cats)"
   ]
  },
  {
   "cell_type": "code",
   "execution_count": 27,
   "metadata": {
    "execution": {
     "iopub.execute_input": "2021-06-27T15:45:22.568744Z",
     "iopub.status.busy": "2021-06-27T15:45:22.568744Z",
     "iopub.status.idle": "2021-06-27T15:45:22.578669Z",
     "shell.execute_reply": "2021-06-27T15:45:22.576675Z",
     "shell.execute_reply.started": "2021-06-27T15:45:22.568744Z"
    }
   },
   "outputs": [
    {
     "data": {
      "text/plain": [
       "'cheetah'"
      ]
     },
     "execution_count": 27,
     "metadata": {},
     "output_type": "execute_result"
    }
   ],
   "source": [
    "cats = ['tiger', 'lion', 'panther', 'leopard', 'jaguar', 'cheetah']\n",
    "min(cats)"
   ]
  },
  {
   "cell_type": "code",
   "execution_count": 28,
   "metadata": {
    "execution": {
     "iopub.execute_input": "2021-06-27T15:45:22.582659Z",
     "iopub.status.busy": "2021-06-27T15:45:22.581666Z",
     "iopub.status.idle": "2021-06-27T15:45:22.592631Z",
     "shell.execute_reply": "2021-06-27T15:45:22.591633Z",
     "shell.execute_reply.started": "2021-06-27T15:45:22.581666Z"
    }
   },
   "outputs": [
    {
     "data": {
      "text/plain": [
       "'tiger'"
      ]
     },
     "execution_count": 28,
     "metadata": {},
     "output_type": "execute_result"
    }
   ],
   "source": [
    "cats = ['tiger', 'lion', 'panther', 'leopard', 'jaguar', 'cheetah']\n",
    "max(cats)"
   ]
  },
  {
   "cell_type": "code",
   "execution_count": 29,
   "metadata": {
    "execution": {
     "iopub.execute_input": "2021-06-27T15:45:22.597627Z",
     "iopub.status.busy": "2021-06-27T15:45:22.596620Z",
     "iopub.status.idle": "2021-06-27T15:45:22.608589Z",
     "shell.execute_reply": "2021-06-27T15:45:22.607591Z",
     "shell.execute_reply.started": "2021-06-27T15:45:22.597627Z"
    }
   },
   "outputs": [
    {
     "data": {
      "text/plain": [
       "45"
      ]
     },
     "execution_count": 29,
     "metadata": {},
     "output_type": "execute_result"
    }
   ],
   "source": [
    "digits = [0, 1, 2, 3, 4, 5, 6, 7, 8, 9]\n",
    "sum(digits)"
   ]
  },
  {
   "cell_type": "markdown",
   "metadata": {},
   "source": [
    "## 1.4. Tuple\n",
    "`tuple` is the immutable version of `list`. Therefore, the in-place methods of `list` cannot be apply to `tuple`."
   ]
  },
  {
   "cell_type": "markdown",
   "metadata": {},
   "source": [
    "#### Creating tuples\n",
    "Either the parentheses `()` or the `tuple` constructor can be used to create `tuple` objects."
   ]
  },
  {
   "cell_type": "code",
   "execution_count": 30,
   "metadata": {
    "execution": {
     "iopub.execute_input": "2021-06-27T15:45:22.612582Z",
     "iopub.status.busy": "2021-06-27T15:45:22.610583Z",
     "iopub.status.idle": "2021-06-27T15:45:22.638867Z",
     "shell.execute_reply": "2021-06-27T15:45:22.637470Z",
     "shell.execute_reply.started": "2021-06-27T15:45:22.612582Z"
    }
   },
   "outputs": [
    {
     "data": {
      "text/plain": [
       "('tiger', 'lion', 'jaguar')"
      ]
     },
     "execution_count": 30,
     "metadata": {},
     "output_type": "execute_result"
    }
   ],
   "source": [
    "('tiger', 'lion', 'jaguar')"
   ]
  },
  {
   "cell_type": "code",
   "execution_count": 31,
   "metadata": {
    "colab": {},
    "colab_type": "code",
    "execution": {
     "iopub.execute_input": "2021-06-27T15:45:22.640855Z",
     "iopub.status.busy": "2021-06-27T15:45:22.639856Z",
     "iopub.status.idle": "2021-06-27T15:45:22.668779Z",
     "shell.execute_reply": "2021-06-27T15:45:22.664791Z",
     "shell.execute_reply.started": "2021-06-27T15:45:22.640855Z"
    },
    "id": "jvDoKQx9Ohy_"
   },
   "outputs": [
    {
     "data": {
      "text/plain": [
       "('tiger', 'lion', 'jaguar')"
      ]
     },
     "execution_count": 31,
     "metadata": {},
     "output_type": "execute_result"
    }
   ],
   "source": [
    "cats = ('tiger', 'lion', 'jaguar')\n",
    "cats"
   ]
  },
  {
   "cell_type": "code",
   "execution_count": 32,
   "metadata": {
    "execution": {
     "iopub.execute_input": "2021-06-27T15:45:22.677756Z",
     "iopub.status.busy": "2021-06-27T15:45:22.674765Z",
     "iopub.status.idle": "2021-06-27T15:45:22.699696Z",
     "shell.execute_reply": "2021-06-27T15:45:22.698700Z",
     "shell.execute_reply.started": "2021-06-27T15:45:22.677756Z"
    }
   },
   "outputs": [
    {
     "data": {
      "text/plain": [
       "False"
      ]
     },
     "execution_count": 32,
     "metadata": {},
     "output_type": "execute_result"
    }
   ],
   "source": [
    "tuple_1 = ('python')\n",
    "tuple_2 = ('python',)\n",
    "type(tuple_1) == type(tuple_2)"
   ]
  },
  {
   "cell_type": "code",
   "execution_count": 33,
   "metadata": {
    "colab": {},
    "colab_type": "code",
    "execution": {
     "iopub.execute_input": "2021-06-27T15:45:22.701703Z",
     "iopub.status.busy": "2021-06-27T15:45:22.701703Z",
     "iopub.status.idle": "2021-06-27T15:45:22.715654Z",
     "shell.execute_reply": "2021-06-27T15:45:22.714658Z",
     "shell.execute_reply.started": "2021-06-27T15:45:22.701703Z"
    },
    "id": "PdsLx1kgOhzc",
    "outputId": "c3e07b60-685a-480c-a02b-54c3d71e81fe"
   },
   "outputs": [
    {
     "data": {
      "text/plain": [
       "(2, 3, 5)"
      ]
     },
     "execution_count": 33,
     "metadata": {},
     "output_type": "execute_result"
    }
   ],
   "source": [
    "tuple([2, 3, 5])"
   ]
  },
  {
   "cell_type": "code",
   "execution_count": 34,
   "metadata": {
    "execution": {
     "iopub.execute_input": "2021-06-27T15:45:22.717649Z",
     "iopub.status.busy": "2021-06-27T15:45:22.717649Z",
     "iopub.status.idle": "2021-06-27T15:45:22.732609Z",
     "shell.execute_reply": "2021-06-27T15:45:22.730615Z",
     "shell.execute_reply.started": "2021-06-27T15:45:22.717649Z"
    }
   },
   "outputs": [
    {
     "data": {
      "text/plain": [
       "('2', '3', '5')"
      ]
     },
     "execution_count": 34,
     "metadata": {},
     "output_type": "execute_result"
    }
   ],
   "source": [
    "tuple('235')"
   ]
  },
  {
   "cell_type": "markdown",
   "metadata": {},
   "source": [
    "#### Packing and unpacking\n",
    "Packing is the exclusive techinque of `tuple`. Unpacking works on all list-like objects."
   ]
  },
  {
   "cell_type": "code",
   "execution_count": 35,
   "metadata": {
    "execution": {
     "iopub.execute_input": "2021-06-27T15:45:22.734605Z",
     "iopub.status.busy": "2021-06-27T15:45:22.734605Z",
     "iopub.status.idle": "2021-06-27T15:45:22.748567Z",
     "shell.execute_reply": "2021-06-27T15:45:22.746571Z",
     "shell.execute_reply.started": "2021-06-27T15:45:22.734605Z"
    }
   },
   "outputs": [
    {
     "data": {
      "text/plain": [
       "(5, 8, 40)"
      ]
     },
     "execution_count": 35,
     "metadata": {},
     "output_type": "execute_result"
    }
   ],
   "source": [
    "# packing\n",
    "rectangle = 5, 8, 40\n",
    "rectangle"
   ]
  },
  {
   "cell_type": "code",
   "execution_count": 36,
   "metadata": {
    "execution": {
     "iopub.execute_input": "2021-06-27T15:45:22.750562Z",
     "iopub.status.busy": "2021-06-27T15:45:22.749564Z",
     "iopub.status.idle": "2021-06-27T15:45:22.764524Z",
     "shell.execute_reply": "2021-06-27T15:45:22.762537Z",
     "shell.execute_reply.started": "2021-06-27T15:45:22.750562Z"
    }
   },
   "outputs": [
    {
     "name": "stdout",
     "output_type": "stream",
     "text": [
      "Area = Width * Length = 5 * 8 = 40\n"
     ]
    }
   ],
   "source": [
    "# packing\n",
    "rectangle = 5, 8, 40\n",
    "\n",
    "# unpacking\n",
    "width, length, area = rectangle\n",
    "\n",
    "print(f'Area = Width * Length = {width} * {length} = {area}')"
   ]
  },
  {
   "cell_type": "markdown",
   "metadata": {},
   "source": [
    "## 1.5. Range\n",
    "The `range` function generates a list of equally spaced integers."
   ]
  },
  {
   "cell_type": "code",
   "execution_count": 37,
   "metadata": {
    "execution": {
     "iopub.execute_input": "2021-06-27T15:45:22.766518Z",
     "iopub.status.busy": "2021-06-27T15:45:22.765520Z",
     "iopub.status.idle": "2021-06-27T15:45:22.780106Z",
     "shell.execute_reply": "2021-06-27T15:45:22.778133Z",
     "shell.execute_reply.started": "2021-06-27T15:45:22.766518Z"
    }
   },
   "outputs": [
    {
     "data": {
      "text/plain": [
       "range(0, 10)"
      ]
     },
     "execution_count": 37,
     "metadata": {},
     "output_type": "execute_result"
    }
   ],
   "source": [
    "digits = range(10)\n",
    "digits"
   ]
  },
  {
   "cell_type": "code",
   "execution_count": 38,
   "metadata": {
    "execution": {
     "iopub.execute_input": "2021-06-27T15:45:22.783100Z",
     "iopub.status.busy": "2021-06-27T15:45:22.783100Z",
     "iopub.status.idle": "2021-06-27T15:45:22.797063Z",
     "shell.execute_reply": "2021-06-27T15:45:22.794069Z",
     "shell.execute_reply.started": "2021-06-27T15:45:22.783100Z"
    }
   },
   "outputs": [
    {
     "data": {
      "text/plain": [
       "range(4, 16, 2)"
      ]
     },
     "execution_count": 38,
     "metadata": {},
     "output_type": "execute_result"
    }
   ],
   "source": [
    "range(4, 16, 2)"
   ]
  },
  {
   "cell_type": "code",
   "execution_count": 39,
   "metadata": {
    "execution": {
     "iopub.execute_input": "2021-06-27T15:45:22.800054Z",
     "iopub.status.busy": "2021-06-27T15:45:22.799056Z",
     "iopub.status.idle": "2021-06-27T15:45:22.812024Z",
     "shell.execute_reply": "2021-06-27T15:45:22.810026Z",
     "shell.execute_reply.started": "2021-06-27T15:45:22.800054Z"
    }
   },
   "outputs": [
    {
     "data": {
      "text/plain": [
       "2"
      ]
     },
     "execution_count": 39,
     "metadata": {},
     "output_type": "execute_result"
    }
   ],
   "source": [
    "# range slicing\n",
    "digits = range(10)\n",
    "digits[2]"
   ]
  },
  {
   "cell_type": "markdown",
   "metadata": {},
   "source": [
    "Converting a `range` object to `list` shows its elements."
   ]
  },
  {
   "cell_type": "code",
   "execution_count": 40,
   "metadata": {
    "execution": {
     "iopub.execute_input": "2021-06-27T15:45:22.815013Z",
     "iopub.status.busy": "2021-06-27T15:45:22.814016Z",
     "iopub.status.idle": "2021-06-27T15:45:22.826982Z",
     "shell.execute_reply": "2021-06-27T15:45:22.825985Z",
     "shell.execute_reply.started": "2021-06-27T15:45:22.815013Z"
    }
   },
   "outputs": [
    {
     "data": {
      "text/plain": [
       "[0, 1, 2, 3, 4, 5, 6, 7, 8, 9]"
      ]
     },
     "execution_count": 40,
     "metadata": {},
     "output_type": "execute_result"
    }
   ],
   "source": [
    "list(range(10))"
   ]
  },
  {
   "cell_type": "markdown",
   "metadata": {
    "colab_type": "text",
    "id": "tKtOpBw8Oh5Y"
   },
   "source": [
    "# 2. Set\n",
    "`set` can be thought of `list` with no duplicates. `set` objects can be defined using braces `{}` or the `set` constructor."
   ]
  },
  {
   "cell_type": "markdown",
   "metadata": {},
   "source": [
    "## 2.1. Creating sets"
   ]
  },
  {
   "cell_type": "code",
   "execution_count": 41,
   "metadata": {
    "execution": {
     "iopub.execute_input": "2021-06-27T15:45:22.831969Z",
     "iopub.status.busy": "2021-06-27T15:45:22.830973Z",
     "iopub.status.idle": "2021-06-27T15:45:22.842947Z",
     "shell.execute_reply": "2021-06-27T15:45:22.841940Z",
     "shell.execute_reply.started": "2021-06-27T15:45:22.831969Z"
    }
   },
   "outputs": [
    {
     "data": {
      "text/plain": [
       "{1, 2, 3}"
      ]
     },
     "execution_count": 41,
     "metadata": {},
     "output_type": "execute_result"
    }
   ],
   "source": [
    "{1, 1, 2, 2, 2, 3}"
   ]
  },
  {
   "cell_type": "code",
   "execution_count": 42,
   "metadata": {
    "execution": {
     "iopub.execute_input": "2021-06-27T15:45:22.846957Z",
     "iopub.status.busy": "2021-06-27T15:45:22.845935Z",
     "iopub.status.idle": "2021-06-27T15:45:22.860890Z",
     "shell.execute_reply": "2021-06-27T15:45:22.857899Z",
     "shell.execute_reply.started": "2021-06-27T15:45:22.846957Z"
    }
   },
   "outputs": [
    {
     "data": {
      "text/plain": [
       "{1, 2, 3}"
      ]
     },
     "execution_count": 42,
     "metadata": {},
     "output_type": "execute_result"
    }
   ],
   "source": [
    "set([1, 3, 2, 3, 1, 1])"
   ]
  },
  {
   "cell_type": "code",
   "execution_count": 43,
   "metadata": {
    "execution": {
     "iopub.execute_input": "2021-06-27T15:45:22.864881Z",
     "iopub.status.busy": "2021-06-27T15:45:22.863888Z",
     "iopub.status.idle": "2021-06-27T15:45:22.874853Z",
     "shell.execute_reply": "2021-06-27T15:45:22.873856Z",
     "shell.execute_reply.started": "2021-06-27T15:45:22.864881Z"
    }
   },
   "outputs": [
    {
     "data": {
      "text/plain": [
       "True"
      ]
     },
     "execution_count": 43,
     "metadata": {},
     "output_type": "execute_result"
    }
   ],
   "source": [
    "{1, 2, 3} == {3, 2, 1}"
   ]
  },
  {
   "cell_type": "markdown",
   "metadata": {},
   "source": [
    "## 2.2. Set manipulation"
   ]
  },
  {
   "cell_type": "markdown",
   "metadata": {},
   "source": [
    "#### Working with a single set"
   ]
  },
  {
   "cell_type": "code",
   "execution_count": 44,
   "metadata": {
    "execution": {
     "iopub.execute_input": "2021-06-27T15:45:22.877847Z",
     "iopub.status.busy": "2021-06-27T15:45:22.876851Z",
     "iopub.status.idle": "2021-06-27T15:45:22.890811Z",
     "shell.execute_reply": "2021-06-27T15:45:22.889813Z",
     "shell.execute_reply.started": "2021-06-27T15:45:22.877847Z"
    }
   },
   "outputs": [
    {
     "data": {
      "text/plain": [
       "set()"
      ]
     },
     "execution_count": 44,
     "metadata": {},
     "output_type": "execute_result"
    }
   ],
   "source": [
    "my_set = {1, 2, 3, 4, 5}\n",
    "my_set.clear()\n",
    "my_set"
   ]
  },
  {
   "cell_type": "code",
   "execution_count": 45,
   "metadata": {
    "execution": {
     "iopub.execute_input": "2021-06-27T15:45:22.892807Z",
     "iopub.status.busy": "2021-06-27T15:45:22.892807Z",
     "iopub.status.idle": "2021-06-27T15:45:22.906770Z",
     "shell.execute_reply": "2021-06-27T15:45:22.905774Z",
     "shell.execute_reply.started": "2021-06-27T15:45:22.892807Z"
    }
   },
   "outputs": [
    {
     "data": {
      "text/plain": [
       "{1, 2, 3, 4, 5, 6}"
      ]
     },
     "execution_count": 45,
     "metadata": {},
     "output_type": "execute_result"
    }
   ],
   "source": [
    "my_set = {1, 2, 3, 4, 5}\n",
    "my_set.add(6)\n",
    "my_set"
   ]
  },
  {
   "cell_type": "code",
   "execution_count": 46,
   "metadata": {
    "colab": {},
    "colab_type": "code",
    "execution": {
     "iopub.execute_input": "2021-06-27T15:45:22.908763Z",
     "iopub.status.busy": "2021-06-27T15:45:22.908763Z",
     "iopub.status.idle": "2021-06-27T15:45:22.922170Z",
     "shell.execute_reply": "2021-06-27T15:45:22.921174Z",
     "shell.execute_reply.started": "2021-06-27T15:45:22.908763Z"
    },
    "id": "2HswS05oOh5j"
   },
   "outputs": [
    {
     "data": {
      "text/plain": [
       "{1, 2, 3, 4}"
      ]
     },
     "execution_count": 46,
     "metadata": {},
     "output_type": "execute_result"
    }
   ],
   "source": [
    "my_set = {1, 2, 3, 4, 5}\n",
    "my_set.discard(5)\n",
    "my_set"
   ]
  },
  {
   "cell_type": "markdown",
   "metadata": {},
   "source": [
    "**Note:** `set.remove` & `set.discard` is a pair of methods share the same functionality but one method raises error (the given item is not in the set), the other tries to legalize that error (doing nothing)."
   ]
  },
  {
   "cell_type": "code",
   "execution_count": 47,
   "metadata": {
    "execution": {
     "iopub.execute_input": "2021-06-27T15:45:22.924164Z",
     "iopub.status.busy": "2021-06-27T15:45:22.924164Z",
     "iopub.status.idle": "2021-06-27T15:45:22.938128Z",
     "shell.execute_reply": "2021-06-27T15:45:22.937131Z",
     "shell.execute_reply.started": "2021-06-27T15:45:22.924164Z"
    }
   },
   "outputs": [
    {
     "data": {
      "text/plain": [
       "15"
      ]
     },
     "execution_count": 47,
     "metadata": {},
     "output_type": "execute_result"
    }
   ],
   "source": [
    "sum({1, 2, 3, 4, 5})"
   ]
  },
  {
   "cell_type": "code",
   "execution_count": 48,
   "metadata": {
    "execution": {
     "iopub.execute_input": "2021-06-27T15:45:22.940124Z",
     "iopub.status.busy": "2021-06-27T15:45:22.940124Z",
     "iopub.status.idle": "2021-06-27T15:45:22.954085Z",
     "shell.execute_reply": "2021-06-27T15:45:22.953088Z",
     "shell.execute_reply.started": "2021-06-27T15:45:22.940124Z"
    }
   },
   "outputs": [
    {
     "data": {
      "text/plain": [
       "1"
      ]
     },
     "execution_count": 48,
     "metadata": {},
     "output_type": "execute_result"
    }
   ],
   "source": [
    "min({1, 2, 3, 4, 5})"
   ]
  },
  {
   "cell_type": "code",
   "execution_count": 49,
   "metadata": {
    "execution": {
     "iopub.execute_input": "2021-06-27T15:45:22.956081Z",
     "iopub.status.busy": "2021-06-27T15:45:22.956081Z",
     "iopub.status.idle": "2021-06-27T15:45:22.970043Z",
     "shell.execute_reply": "2021-06-27T15:45:22.969046Z",
     "shell.execute_reply.started": "2021-06-27T15:45:22.956081Z"
    }
   },
   "outputs": [
    {
     "data": {
      "text/plain": [
       "5"
      ]
     },
     "execution_count": 49,
     "metadata": {},
     "output_type": "execute_result"
    }
   ],
   "source": [
    "len({1, 2, 3, 4, 5})"
   ]
  },
  {
   "cell_type": "markdown",
   "metadata": {},
   "source": [
    "#### Working with two sets"
   ]
  },
  {
   "cell_type": "code",
   "execution_count": 50,
   "metadata": {
    "colab": {},
    "colab_type": "code",
    "execution": {
     "iopub.execute_input": "2021-06-27T15:45:22.973034Z",
     "iopub.status.busy": "2021-06-27T15:45:22.972038Z",
     "iopub.status.idle": "2021-06-27T15:45:23.001956Z",
     "shell.execute_reply": "2021-06-27T15:45:23.000959Z",
     "shell.execute_reply.started": "2021-06-27T15:45:22.973034Z"
    },
    "id": "IbDyjVP-Oh5c"
   },
   "outputs": [
    {
     "data": {
      "text/plain": [
       "{0, 1, 2, 3, 4, 5, 6, 7, 8, 9}"
      ]
     },
     "execution_count": 50,
     "metadata": {},
     "output_type": "execute_result"
    }
   ],
   "source": [
    "a = {0, 1, 2, 3, 4, 5}\n",
    "b = {3, 4, 5, 6, 7, 8, 9}\n",
    "a.union(b)"
   ]
  },
  {
   "cell_type": "code",
   "execution_count": 51,
   "metadata": {
    "colab": {},
    "colab_type": "code",
    "execution": {
     "iopub.execute_input": "2021-06-27T15:45:23.004949Z",
     "iopub.status.busy": "2021-06-27T15:45:23.003952Z",
     "iopub.status.idle": "2021-06-27T15:45:23.033872Z",
     "shell.execute_reply": "2021-06-27T15:45:23.032874Z",
     "shell.execute_reply.started": "2021-06-27T15:45:23.004949Z"
    },
    "id": "IbDyjVP-Oh5c"
   },
   "outputs": [
    {
     "data": {
      "text/plain": [
       "{3, 4, 5}"
      ]
     },
     "execution_count": 51,
     "metadata": {},
     "output_type": "execute_result"
    }
   ],
   "source": [
    "a = {0, 1, 2, 3, 4, 5}\n",
    "b = {3, 4, 5, 6, 7, 8, 9}\n",
    "a.intersection(b)"
   ]
  },
  {
   "cell_type": "code",
   "execution_count": 52,
   "metadata": {
    "colab": {},
    "colab_type": "code",
    "execution": {
     "iopub.execute_input": "2021-06-27T15:45:23.035866Z",
     "iopub.status.busy": "2021-06-27T15:45:23.035866Z",
     "iopub.status.idle": "2021-06-27T15:45:23.049829Z",
     "shell.execute_reply": "2021-06-27T15:45:23.048831Z",
     "shell.execute_reply.started": "2021-06-27T15:45:23.035866Z"
    },
    "id": "IbDyjVP-Oh5c"
   },
   "outputs": [
    {
     "data": {
      "text/plain": [
       "{0, 1, 2}"
      ]
     },
     "execution_count": 52,
     "metadata": {},
     "output_type": "execute_result"
    }
   ],
   "source": [
    "a = {0, 1, 2, 3, 4, 5}\n",
    "b = {3, 4, 5, 6, 7, 8, 9}\n",
    "a.difference(b)"
   ]
  },
  {
   "cell_type": "code",
   "execution_count": 53,
   "metadata": {
    "colab": {},
    "colab_type": "code",
    "execution": {
     "iopub.execute_input": "2021-06-27T15:45:23.051823Z",
     "iopub.status.busy": "2021-06-27T15:45:23.051823Z",
     "iopub.status.idle": "2021-06-27T15:45:23.065786Z",
     "shell.execute_reply": "2021-06-27T15:45:23.064789Z",
     "shell.execute_reply.started": "2021-06-27T15:45:23.051823Z"
    },
    "id": "IbDyjVP-Oh5c"
   },
   "outputs": [
    {
     "data": {
      "text/plain": [
       "{0, 1, 2, 6, 7, 8, 9}"
      ]
     },
     "execution_count": 53,
     "metadata": {},
     "output_type": "execute_result"
    }
   ],
   "source": [
    "a = {0, 1, 2, 3, 4, 5}\n",
    "b = {3, 4, 5, 6, 7, 8, 9}\n",
    "a.symmetric_difference(b)"
   ]
  },
  {
   "cell_type": "code",
   "execution_count": 54,
   "metadata": {
    "execution": {
     "iopub.execute_input": "2021-06-27T15:45:23.071771Z",
     "iopub.status.busy": "2021-06-27T15:45:23.067781Z",
     "iopub.status.idle": "2021-06-27T15:45:23.097007Z",
     "shell.execute_reply": "2021-06-27T15:45:23.096011Z",
     "shell.execute_reply.started": "2021-06-27T15:45:23.071771Z"
    }
   },
   "outputs": [
    {
     "data": {
      "text/plain": [
       "True"
      ]
     },
     "execution_count": 54,
     "metadata": {},
     "output_type": "execute_result"
    }
   ],
   "source": [
    "a = {1, 2, 3}\n",
    "b = {0, 1, 2, 3, 4, 5, 6, 7, 8, 9}\n",
    "a.issubset(b)"
   ]
  },
  {
   "cell_type": "code",
   "execution_count": 55,
   "metadata": {
    "execution": {
     "iopub.execute_input": "2021-06-27T15:45:23.099999Z",
     "iopub.status.busy": "2021-06-27T15:45:23.099002Z",
     "iopub.status.idle": "2021-06-27T15:45:23.112965Z",
     "shell.execute_reply": "2021-06-27T15:45:23.111967Z",
     "shell.execute_reply.started": "2021-06-27T15:45:23.099999Z"
    }
   },
   "outputs": [
    {
     "data": {
      "text/plain": [
       "True"
      ]
     },
     "execution_count": 55,
     "metadata": {},
     "output_type": "execute_result"
    }
   ],
   "source": [
    "a = {1, 2, 3}\n",
    "b = {0, 1, 2, 3, 4, 5, 6, 7, 8, 9}\n",
    "b.issuperset(a)"
   ]
  },
  {
   "cell_type": "markdown",
   "metadata": {
    "colab_type": "text",
    "id": "J6uDYPnSOh4f"
   },
   "source": [
    "# 3. Dictionary\n",
    "Dictionary is a mutable 2-dimentional obejct containing key-value pairs, where keys are unique."
   ]
  },
  {
   "cell_type": "markdown",
   "metadata": {},
   "source": [
    "## 3.1. Creating dictionaries\n",
    "`dict` objects are defined using braces `{}` and use colons `:` on spliting key-value pairs or using the `dict` constructor."
   ]
  },
  {
   "cell_type": "code",
   "execution_count": 56,
   "metadata": {
    "colab": {},
    "colab_type": "code",
    "execution": {
     "iopub.execute_input": "2021-06-27T15:45:23.114959Z",
     "iopub.status.busy": "2021-06-27T15:45:23.114959Z",
     "iopub.status.idle": "2021-06-27T15:45:23.128960Z",
     "shell.execute_reply": "2021-06-27T15:45:23.127925Z",
     "shell.execute_reply.started": "2021-06-27T15:45:23.114959Z"
    },
    "id": "ilHJcxGYOh4g"
   },
   "outputs": [
    {
     "data": {
      "text/plain": [
       "{'python': 6, 'jupyter': 7, 'kaggle': 6}"
      ]
     },
     "execution_count": 56,
     "metadata": {},
     "output_type": "execute_result"
    }
   ],
   "source": [
    "{'python': 6, 'jupyter': 0, 'jupyter': 7, 'kaggle': 6}"
   ]
  },
  {
   "cell_type": "code",
   "execution_count": 57,
   "metadata": {
    "execution": {
     "iopub.execute_input": "2021-06-27T15:45:23.130917Z",
     "iopub.status.busy": "2021-06-27T15:45:23.130917Z",
     "iopub.status.idle": "2021-06-27T15:45:23.144880Z",
     "shell.execute_reply": "2021-06-27T15:45:23.143883Z",
     "shell.execute_reply.started": "2021-06-27T15:45:23.130917Z"
    }
   },
   "outputs": [
    {
     "data": {
      "text/plain": [
       "{'python': 6, 'jupyter': 7, 'kaggle': 6}"
      ]
     },
     "execution_count": 57,
     "metadata": {},
     "output_type": "execute_result"
    }
   ],
   "source": [
    "dict(python=6, jupyter=7, kaggle=6)"
   ]
  },
  {
   "cell_type": "code",
   "execution_count": 58,
   "metadata": {
    "execution": {
     "iopub.execute_input": "2021-06-27T15:45:23.149843Z",
     "iopub.status.busy": "2021-06-27T15:45:23.148869Z",
     "iopub.status.idle": "2021-06-27T15:45:23.161805Z",
     "shell.execute_reply": "2021-06-27T15:45:23.159810Z",
     "shell.execute_reply.started": "2021-06-27T15:45:23.149843Z"
    }
   },
   "outputs": [
    {
     "data": {
      "text/plain": [
       "{'python': 6, 'jupyter': 7, 'kaggle': 6}"
      ]
     },
     "execution_count": 58,
     "metadata": {},
     "output_type": "execute_result"
    }
   ],
   "source": [
    "dict([['python', 6], ['jupyter', 7], ['kaggle', 6]])"
   ]
  },
  {
   "cell_type": "code",
   "execution_count": 59,
   "metadata": {
    "execution": {
     "iopub.execute_input": "2021-06-27T15:45:23.164796Z",
     "iopub.status.busy": "2021-06-27T15:45:23.163800Z",
     "iopub.status.idle": "2021-06-27T15:45:23.176765Z",
     "shell.execute_reply": "2021-06-27T15:45:23.175766Z",
     "shell.execute_reply.started": "2021-06-27T15:45:23.164796Z"
    }
   },
   "outputs": [
    {
     "data": {
      "text/plain": [
       "True"
      ]
     },
     "execution_count": 59,
     "metadata": {},
     "output_type": "execute_result"
    }
   ],
   "source": [
    "{1: 2, 3: 4} == {3: 4, 1: 2}"
   ]
  },
  {
   "cell_type": "markdown",
   "metadata": {},
   "source": [
    "#### Zipping\n",
    "The `zip` function creates a nested tuple from the given iterables where their items come in pairs."
   ]
  },
  {
   "cell_type": "code",
   "execution_count": 60,
   "metadata": {
    "execution": {
     "iopub.execute_input": "2021-06-27T15:45:23.179757Z",
     "iopub.status.busy": "2021-06-27T15:45:23.178760Z",
     "iopub.status.idle": "2021-06-27T15:45:23.192722Z",
     "shell.execute_reply": "2021-06-27T15:45:23.191724Z",
     "shell.execute_reply.started": "2021-06-27T15:45:23.179757Z"
    }
   },
   "outputs": [
    {
     "data": {
      "text/plain": [
       "[('a', 1), ('b', 2), ('c', 3)]"
      ]
     },
     "execution_count": 60,
     "metadata": {},
     "output_type": "execute_result"
    }
   ],
   "source": [
    "zipped = zip(['a', 'b', 'c'], [1, 2, 3])\n",
    "list(zipped)"
   ]
  },
  {
   "cell_type": "code",
   "execution_count": 61,
   "metadata": {
    "execution": {
     "iopub.execute_input": "2021-06-27T15:45:23.195714Z",
     "iopub.status.busy": "2021-06-27T15:45:23.194717Z",
     "iopub.status.idle": "2021-06-27T15:45:23.208786Z",
     "shell.execute_reply": "2021-06-27T15:45:23.207790Z",
     "shell.execute_reply.started": "2021-06-27T15:45:23.194717Z"
    }
   },
   "outputs": [
    {
     "data": {
      "text/plain": [
       "{'a': 1, 'b': 2, 'c': 3}"
      ]
     },
     "execution_count": 61,
     "metadata": {},
     "output_type": "execute_result"
    }
   ],
   "source": [
    "zipped = zip(['a', 'b', 'c'], [1, 2, 3])\n",
    "dict(zipped)"
   ]
  },
  {
   "cell_type": "markdown",
   "metadata": {},
   "source": [
    "## 3.2. Dictionary manipulation"
   ]
  },
  {
   "cell_type": "markdown",
   "metadata": {},
   "source": [
    "#### Keys and values"
   ]
  },
  {
   "cell_type": "code",
   "execution_count": 62,
   "metadata": {
    "execution": {
     "iopub.execute_input": "2021-06-27T15:45:23.214770Z",
     "iopub.status.busy": "2021-06-27T15:45:23.213774Z",
     "iopub.status.idle": "2021-06-27T15:45:23.224745Z",
     "shell.execute_reply": "2021-06-27T15:45:23.223747Z",
     "shell.execute_reply.started": "2021-06-27T15:45:23.214770Z"
    }
   },
   "outputs": [],
   "source": [
    "my_dict = dict([['python', 6], ['jupyter', 7], ['kaggle', 6]])"
   ]
  },
  {
   "cell_type": "markdown",
   "metadata": {},
   "source": [
    "Extracting keys and values."
   ]
  },
  {
   "cell_type": "code",
   "execution_count": 63,
   "metadata": {
    "execution": {
     "iopub.execute_input": "2021-06-27T15:45:23.226739Z",
     "iopub.status.busy": "2021-06-27T15:45:23.226739Z",
     "iopub.status.idle": "2021-06-27T15:45:23.240638Z",
     "shell.execute_reply": "2021-06-27T15:45:23.239669Z",
     "shell.execute_reply.started": "2021-06-27T15:45:23.226739Z"
    }
   },
   "outputs": [
    {
     "data": {
      "text/plain": [
       "dict_keys(['python', 'jupyter', 'kaggle'])"
      ]
     },
     "execution_count": 63,
     "metadata": {},
     "output_type": "execute_result"
    }
   ],
   "source": [
    "my_dict.keys()"
   ]
  },
  {
   "cell_type": "code",
   "execution_count": 64,
   "metadata": {
    "execution": {
     "iopub.execute_input": "2021-06-27T15:45:23.242632Z",
     "iopub.status.busy": "2021-06-27T15:45:23.242632Z",
     "iopub.status.idle": "2021-06-27T15:45:23.256594Z",
     "shell.execute_reply": "2021-06-27T15:45:23.255598Z",
     "shell.execute_reply.started": "2021-06-27T15:45:23.242632Z"
    }
   },
   "outputs": [
    {
     "data": {
      "text/plain": [
       "dict_values([6, 7, 6])"
      ]
     },
     "execution_count": 64,
     "metadata": {},
     "output_type": "execute_result"
    }
   ],
   "source": [
    "my_dict.values()"
   ]
  },
  {
   "cell_type": "code",
   "execution_count": 65,
   "metadata": {
    "execution": {
     "iopub.execute_input": "2021-06-27T15:45:23.258590Z",
     "iopub.status.busy": "2021-06-27T15:45:23.258590Z",
     "iopub.status.idle": "2021-06-27T15:45:23.272553Z",
     "shell.execute_reply": "2021-06-27T15:45:23.271555Z",
     "shell.execute_reply.started": "2021-06-27T15:45:23.258590Z"
    }
   },
   "outputs": [
    {
     "data": {
      "text/plain": [
       "dict_items([('python', 6), ('jupyter', 7), ('kaggle', 6)])"
      ]
     },
     "execution_count": 65,
     "metadata": {},
     "output_type": "execute_result"
    }
   ],
   "source": [
    "my_dict.items()"
   ]
  },
  {
   "cell_type": "markdown",
   "metadata": {},
   "source": [
    "The `in` statement checks whether an object is a dictionary's items or not."
   ]
  },
  {
   "cell_type": "code",
   "execution_count": 66,
   "metadata": {
    "execution": {
     "iopub.execute_input": "2021-06-27T15:45:23.275544Z",
     "iopub.status.busy": "2021-06-27T15:45:23.274546Z",
     "iopub.status.idle": "2021-06-27T15:45:23.289524Z",
     "shell.execute_reply": "2021-06-27T15:45:23.287512Z",
     "shell.execute_reply.started": "2021-06-27T15:45:23.275544Z"
    }
   },
   "outputs": [
    {
     "data": {
      "text/plain": [
       "True"
      ]
     },
     "execution_count": 66,
     "metadata": {},
     "output_type": "execute_result"
    }
   ],
   "source": [
    "'python' in my_dict"
   ]
  },
  {
   "cell_type": "markdown",
   "metadata": {},
   "source": [
    "#### Value accessing\n",
    "Each key can be used to access the corresponding value and execute value assignment. Note that this is not slicing."
   ]
  },
  {
   "cell_type": "code",
   "execution_count": 67,
   "metadata": {
    "execution": {
     "iopub.execute_input": "2021-06-27T15:45:23.304468Z",
     "iopub.status.busy": "2021-06-27T15:45:23.303469Z",
     "iopub.status.idle": "2021-06-27T15:45:23.319840Z",
     "shell.execute_reply": "2021-06-27T15:45:23.318864Z",
     "shell.execute_reply.started": "2021-06-27T15:45:23.304468Z"
    }
   },
   "outputs": [
    {
     "data": {
      "text/plain": [
       "6"
      ]
     },
     "execution_count": 67,
     "metadata": {},
     "output_type": "execute_result"
    }
   ],
   "source": [
    "# access value using key\n",
    "my_dict = dict([['python', 6], ['jupyter', 7], ['kaggle', 6]])\n",
    "my_dict['python']"
   ]
  },
  {
   "cell_type": "code",
   "execution_count": 68,
   "metadata": {
    "execution": {
     "iopub.execute_input": "2021-06-27T15:45:23.322831Z",
     "iopub.status.busy": "2021-06-27T15:45:23.321834Z",
     "iopub.status.idle": "2021-06-27T15:45:23.335796Z",
     "shell.execute_reply": "2021-06-27T15:45:23.334799Z",
     "shell.execute_reply.started": "2021-06-27T15:45:23.322831Z"
    }
   },
   "outputs": [
    {
     "data": {
      "text/plain": [
       "{'python': 6, 'jupyter': 7, 'kaggle': 6, 'anaconda': 8}"
      ]
     },
     "execution_count": 68,
     "metadata": {},
     "output_type": "execute_result"
    }
   ],
   "source": [
    "# add a new key-value pair\n",
    "my_dict = {'python': 6, 'jupyter': 7, 'kaggle': 6}\n",
    "my_dict['anaconda'] = 8\n",
    "my_dict"
   ]
  },
  {
   "cell_type": "code",
   "execution_count": 69,
   "metadata": {
    "execution": {
     "iopub.execute_input": "2021-06-27T15:45:23.337792Z",
     "iopub.status.busy": "2021-06-27T15:45:23.336794Z",
     "iopub.status.idle": "2021-06-27T15:45:23.351526Z",
     "shell.execute_reply": "2021-06-27T15:45:23.350529Z",
     "shell.execute_reply.started": "2021-06-27T15:45:23.337792Z"
    }
   },
   "outputs": [
    {
     "data": {
      "text/plain": [
       "{'python': 6, 'jupyter': 7, 'kaggle': 6}"
      ]
     },
     "execution_count": 69,
     "metadata": {},
     "output_type": "execute_result"
    }
   ],
   "source": [
    "# change the value of an existing key\n",
    "my_dict = {'python': 1, 'jupyter': 7, 'kaggle': 6}\n",
    "my_dict['python'] = 6\n",
    "my_dict"
   ]
  },
  {
   "cell_type": "markdown",
   "metadata": {},
   "source": [
    "The `del` statement deletes an existing key-value pair."
   ]
  },
  {
   "cell_type": "code",
   "execution_count": 70,
   "metadata": {
    "execution": {
     "iopub.execute_input": "2021-06-27T15:45:23.353522Z",
     "iopub.status.busy": "2021-06-27T15:45:23.352523Z",
     "iopub.status.idle": "2021-06-27T15:45:23.369477Z",
     "shell.execute_reply": "2021-06-27T15:45:23.368481Z",
     "shell.execute_reply.started": "2021-06-27T15:45:23.353522Z"
    }
   },
   "outputs": [
    {
     "data": {
      "text/plain": [
       "{'python': 6, 'jupyter': 7}"
      ]
     },
     "execution_count": 70,
     "metadata": {},
     "output_type": "execute_result"
    }
   ],
   "source": [
    "my_dict = {'python': 6, 'jupyter': 7, 'kaggle': 6}\n",
    "del my_dict['kaggle']\n",
    "my_dict"
   ]
  },
  {
   "cell_type": "markdown",
   "metadata": {},
   "source": [
    "#### Modifying keys\n",
    "Dictionaries do not allow modifying keys. However, this can be done indirectly the `dict.pop` method, which delete a key an return the corresponding value."
   ]
  },
  {
   "cell_type": "code",
   "execution_count": 71,
   "metadata": {
    "execution": {
     "iopub.execute_input": "2021-06-27T15:45:23.371472Z",
     "iopub.status.busy": "2021-06-27T15:45:23.370475Z",
     "iopub.status.idle": "2021-06-27T15:45:23.382833Z",
     "shell.execute_reply": "2021-06-27T15:45:23.381836Z",
     "shell.execute_reply.started": "2021-06-27T15:45:23.371472Z"
    }
   },
   "outputs": [
    {
     "data": {
      "text/plain": [
       "{'jupyter': 7, 'anaconda': 8, 'python': 6}"
      ]
     },
     "execution_count": 71,
     "metadata": {},
     "output_type": "execute_result"
    }
   ],
   "source": [
    "my_dict = {'kaggle': 6, 'jupyter': 7, 'anaconda': 8}\n",
    "my_dict['python'] = my_dict.pop('kaggle')\n",
    "my_dict"
   ]
  },
  {
   "cell_type": "markdown",
   "metadata": {},
   "source": [
    "#### Updating\n",
    "The `dict.update` method adds new, updates duplicated and keeps existing keys."
   ]
  },
  {
   "cell_type": "code",
   "execution_count": 72,
   "metadata": {
    "execution": {
     "iopub.execute_input": "2021-06-27T15:45:23.384828Z",
     "iopub.status.busy": "2021-06-27T15:45:23.383829Z",
     "iopub.status.idle": "2021-06-27T15:45:23.398792Z",
     "shell.execute_reply": "2021-06-27T15:45:23.397792Z",
     "shell.execute_reply.started": "2021-06-27T15:45:23.384828Z"
    }
   },
   "outputs": [
    {
     "data": {
      "text/plain": [
       "{'name': ['Taylor', 'Patrick', 'Sam'],\n",
       " 'phone': ['0912345678', '0300000016', '0312345678'],\n",
       " 'gender': ['female', 'male', 'male']}"
      ]
     },
     "execution_count": 72,
     "metadata": {},
     "output_type": "execute_result"
    }
   ],
   "source": [
    "data1 = {\n",
    "    'name': ['Taylor', 'Patrick', 'Sam'],\n",
    "    'phone': ['0912345678', '01600000016']}\n",
    "data2 = {\n",
    "    'gender': ['female', 'male', 'male'],\n",
    "    'phone': ['0912345678', '0300000016', '0312345678']}\n",
    "data1.update(data2)\n",
    "data1"
   ]
  },
  {
   "cell_type": "markdown",
   "metadata": {},
   "source": [
    "## 3.3. Looping over a dictionary"
   ]
  },
  {
   "cell_type": "code",
   "execution_count": 73,
   "metadata": {
    "execution": {
     "iopub.execute_input": "2021-06-27T15:45:23.401782Z",
     "iopub.status.busy": "2021-06-27T15:45:23.400784Z",
     "iopub.status.idle": "2021-06-27T15:45:23.413750Z",
     "shell.execute_reply": "2021-06-27T15:45:23.412752Z",
     "shell.execute_reply.started": "2021-06-27T15:45:23.401782Z"
    }
   },
   "outputs": [
    {
     "name": "stdout",
     "output_type": "stream",
     "text": [
      "kaggle\n",
      "jupyter\n",
      "anaconda\n"
     ]
    }
   ],
   "source": [
    "my_dict = {'kaggle': 6, 'jupyter': 7, 'anaconda': 8}\n",
    "for key in my_dict:\n",
    "    print(key)"
   ]
  },
  {
   "cell_type": "code",
   "execution_count": 74,
   "metadata": {
    "execution": {
     "iopub.execute_input": "2021-06-27T15:45:23.415744Z",
     "iopub.status.busy": "2021-06-27T15:45:23.415744Z",
     "iopub.status.idle": "2021-06-27T15:45:23.430540Z",
     "shell.execute_reply": "2021-06-27T15:45:23.428558Z",
     "shell.execute_reply.started": "2021-06-27T15:45:23.415744Z"
    }
   },
   "outputs": [
    {
     "name": "stdout",
     "output_type": "stream",
     "text": [
      "kaggle\n",
      "jupyter\n",
      "anaconda\n"
     ]
    }
   ],
   "source": [
    "my_dict = {'kaggle': 6, 'jupyter': 7, 'anaconda': 8}\n",
    "for key in my_dict.keys():\n",
    "    print(key)"
   ]
  },
  {
   "cell_type": "code",
   "execution_count": 75,
   "metadata": {
    "execution": {
     "iopub.execute_input": "2021-06-27T15:45:23.434529Z",
     "iopub.status.busy": "2021-06-27T15:45:23.433535Z",
     "iopub.status.idle": "2021-06-27T15:45:23.494370Z",
     "shell.execute_reply": "2021-06-27T15:45:23.492378Z",
     "shell.execute_reply.started": "2021-06-27T15:45:23.434529Z"
    }
   },
   "outputs": [
    {
     "name": "stdout",
     "output_type": "stream",
     "text": [
      "6\n",
      "7\n",
      "8\n"
     ]
    }
   ],
   "source": [
    "my_dict = {'kaggle': 6, 'jupyter': 7, 'anaconda': 8}\n",
    "for value in my_dict.values():\n",
    "    print(value)"
   ]
  },
  {
   "cell_type": "code",
   "execution_count": 76,
   "metadata": {
    "execution": {
     "iopub.execute_input": "2021-06-27T15:45:23.497362Z",
     "iopub.status.busy": "2021-06-27T15:45:23.496364Z",
     "iopub.status.idle": "2021-06-27T15:45:23.509363Z",
     "shell.execute_reply": "2021-06-27T15:45:23.508332Z",
     "shell.execute_reply.started": "2021-06-27T15:45:23.497362Z"
    }
   },
   "outputs": [
    {
     "name": "stdout",
     "output_type": "stream",
     "text": [
      "The length of \"kaggle\" is 6\n",
      "The length of \"jupyter\" is 7\n",
      "The length of \"anaconda\" is 8\n"
     ]
    }
   ],
   "source": [
    "my_dict = {'kaggle': 6, 'jupyter': 7, 'anaconda': 8}\n",
    "for key, value in my_dict.items():\n",
    "    print(f'The length of \"{key}\" is {value}')"
   ]
  },
  {
   "cell_type": "markdown",
   "metadata": {},
   "source": [
    "# Recap of data structures\n",
    "Object        |Defining syntax     |Constructor  |Accessibility|Sliceability|Uniqueness|Mutability|\n",
    ":------------:|:-------------------|:------------|:------------|:-----------|:--------:|:--------:|\n",
    "**String**    |`x = '123'`         |`str()`      |`x[0]`       |`x[0:2:1]`  |          |          |\n",
    "**List**      |`x = [1, 2, 3]`     |`list()`     |`x[0]`       |`x[0:2:1]`  |          |&#128504; |\n",
    "**Tuple**     |`x = (1, 2, 3)`     |`tuple()`    |`x[0]`       |`x[0:2:1]`  |          |          |\n",
    "**Set**       |`x = {1, 2, 3}`     |`set()`      |             |            |&#128504; |&#128504; |\n",
    "**Frozen set**|                    |`frozenset()`|             |            |&#128504; |          |\n",
    "**Dictionary**|`x = {'a':1, 'b':2}`|`dict()`     |`x['a']`     |            |&#128504; |&#128504; |\n",
    "\n",
    "The data structures above are also called *iterables* (an object can be looped over using a `for` loop). The iterables having ordered items are called *sequences*."
   ]
  },
  {
   "cell_type": "markdown",
   "metadata": {
    "colab_type": "text",
    "id": "JJp-RgQbOh50"
   },
   "source": [
    "# 4. Iterable comprehensions\n",
    "A short and clear way creating lists and dictionaries."
   ]
  },
  {
   "cell_type": "markdown",
   "metadata": {},
   "source": [
    "## 4.1. List comprehension"
   ]
  },
  {
   "cell_type": "markdown",
   "metadata": {},
   "source": [
    "#### Basic list comprehension"
   ]
  },
  {
   "cell_type": "code",
   "execution_count": 77,
   "metadata": {
    "execution": {
     "iopub.execute_input": "2021-06-27T15:45:23.512322Z",
     "iopub.status.busy": "2021-06-27T15:45:23.511325Z",
     "iopub.status.idle": "2021-06-27T15:45:23.525287Z",
     "shell.execute_reply": "2021-06-27T15:45:23.524289Z",
     "shell.execute_reply.started": "2021-06-27T15:45:23.512322Z"
    }
   },
   "outputs": [
    {
     "data": {
      "text/plain": [
       "[0, 1, 4, 9, 16, 25, 36, 49, 64, 81]"
      ]
     },
     "execution_count": 77,
     "metadata": {},
     "output_type": "execute_result"
    }
   ],
   "source": [
    "digits = []\n",
    "for i in range(10):\n",
    "    digits.append(i**2)\n",
    "digits"
   ]
  },
  {
   "cell_type": "code",
   "execution_count": 78,
   "metadata": {
    "execution": {
     "iopub.execute_input": "2021-06-27T15:45:23.527282Z",
     "iopub.status.busy": "2021-06-27T15:45:23.527282Z",
     "iopub.status.idle": "2021-06-27T15:45:23.557229Z",
     "shell.execute_reply": "2021-06-27T15:45:23.556233Z",
     "shell.execute_reply.started": "2021-06-27T15:45:23.527282Z"
    }
   },
   "outputs": [
    {
     "data": {
      "text/plain": [
       "[0, 1, 4, 9, 16, 25, 36, 49, 64, 81]"
      ]
     },
     "execution_count": 78,
     "metadata": {},
     "output_type": "execute_result"
    }
   ],
   "source": [
    "[i*i for i in range(10)]"
   ]
  },
  {
   "cell_type": "code",
   "execution_count": 79,
   "metadata": {
    "execution": {
     "iopub.execute_input": "2021-06-27T15:45:23.560221Z",
     "iopub.status.busy": "2021-06-27T15:45:23.559223Z",
     "iopub.status.idle": "2021-06-27T15:45:23.573192Z",
     "shell.execute_reply": "2021-06-27T15:45:23.572198Z",
     "shell.execute_reply.started": "2021-06-27T15:45:23.560221Z"
    }
   },
   "outputs": [
    {
     "data": {
      "text/plain": [
       "[3, 12, 14]"
      ]
     },
     "execution_count": 79,
     "metadata": {},
     "output_type": "execute_result"
    }
   ],
   "source": [
    "list1 = [1, 8, 5]\n",
    "list2 = [2, 4, 9]\n",
    "\n",
    "[x+y for x, y in zip(list1, list2)]"
   ]
  },
  {
   "cell_type": "markdown",
   "metadata": {},
   "source": [
    "#### Printing elements"
   ]
  },
  {
   "cell_type": "code",
   "execution_count": 80,
   "metadata": {
    "execution": {
     "iopub.execute_input": "2021-06-27T15:45:23.575187Z",
     "iopub.status.busy": "2021-06-27T15:45:23.574190Z",
     "iopub.status.idle": "2021-06-27T15:45:23.589150Z",
     "shell.execute_reply": "2021-06-27T15:45:23.588155Z",
     "shell.execute_reply.started": "2021-06-27T15:45:23.575187Z"
    }
   },
   "outputs": [
    {
     "name": "stdout",
     "output_type": "stream",
     "text": [
      "2020-01-01\n",
      "2020-01-02\n",
      "2020-01-03\n",
      "2020-01-04\n",
      "2020-01-05\n",
      "2020-01-06\n",
      "2020-01-07\n"
     ]
    }
   ],
   "source": [
    "from datetime import date\n",
    "data = [\n",
    "    date(2020, 1, 1),\n",
    "    date(2020, 1, 2),\n",
    "    date(2020, 1, 3),\n",
    "    date(2020, 1, 4),\n",
    "    date(2020, 1, 5),\n",
    "    date(2020, 1, 6),\n",
    "    date(2020, 1, 7)\n",
    "]\n",
    "\n",
    "_ = [print(i) for i in data]"
   ]
  },
  {
   "cell_type": "markdown",
   "metadata": {},
   "source": [
    "#### List comprehension with conditions"
   ]
  },
  {
   "cell_type": "code",
   "execution_count": 81,
   "metadata": {
    "execution": {
     "iopub.execute_input": "2021-06-27T15:45:23.591146Z",
     "iopub.status.busy": "2021-06-27T15:45:23.591146Z",
     "iopub.status.idle": "2021-06-27T15:45:23.605107Z",
     "shell.execute_reply": "2021-06-27T15:45:23.604109Z",
     "shell.execute_reply.started": "2021-06-27T15:45:23.591146Z"
    }
   },
   "outputs": [
    {
     "data": {
      "text/plain": [
       "[0, 4, 16, 36, 64]"
      ]
     },
     "execution_count": 81,
     "metadata": {},
     "output_type": "execute_result"
    }
   ],
   "source": [
    "[i*i for i in range(10) if i%2 == 0]"
   ]
  },
  {
   "cell_type": "code",
   "execution_count": 82,
   "metadata": {
    "execution": {
     "iopub.execute_input": "2021-06-27T15:45:23.607102Z",
     "iopub.status.busy": "2021-06-27T15:45:23.607102Z",
     "iopub.status.idle": "2021-06-27T15:45:23.620067Z",
     "shell.execute_reply": "2021-06-27T15:45:23.619069Z",
     "shell.execute_reply.started": "2021-06-27T15:45:23.607102Z"
    }
   },
   "outputs": [
    {
     "data": {
      "text/plain": [
       "[0, 1, 4, 81]"
      ]
     },
     "execution_count": 82,
     "metadata": {},
     "output_type": "execute_result"
    }
   ],
   "source": [
    "[i*i for i in range(10) if (i < 3) or (i > 8)]"
   ]
  },
  {
   "cell_type": "markdown",
   "metadata": {},
   "source": [
    "#### Nested list comprehension"
   ]
  },
  {
   "cell_type": "code",
   "execution_count": 83,
   "metadata": {
    "execution": {
     "iopub.execute_input": "2021-06-27T15:45:23.623059Z",
     "iopub.status.busy": "2021-06-27T15:45:23.622062Z",
     "iopub.status.idle": "2021-06-27T15:45:23.635028Z",
     "shell.execute_reply": "2021-06-27T15:45:23.634029Z",
     "shell.execute_reply.started": "2021-06-27T15:45:23.622062Z"
    }
   },
   "outputs": [
    {
     "data": {
      "text/plain": [
       "[1, 2, 3, 4, 5, 6, 7, 8]"
      ]
     },
     "execution_count": 83,
     "metadata": {},
     "output_type": "execute_result"
    }
   ],
   "source": [
    "# flatten a nested list\n",
    "matrix = [\n",
    "    [1, 2, 3, 4],\n",
    "    [5, 6, 7, 8]\n",
    "]\n",
    "\n",
    "[entry for row in matrix for entry in row]"
   ]
  },
  {
   "cell_type": "code",
   "execution_count": 84,
   "metadata": {
    "execution": {
     "iopub.execute_input": "2021-06-27T15:45:23.637021Z",
     "iopub.status.busy": "2021-06-27T15:45:23.637021Z",
     "iopub.status.idle": "2021-06-27T15:45:23.650984Z",
     "shell.execute_reply": "2021-06-27T15:45:23.649996Z",
     "shell.execute_reply.started": "2021-06-27T15:45:23.637021Z"
    }
   },
   "outputs": [
    {
     "data": {
      "text/plain": [
       "[[1, 5], [2, 6], [3, 7], [4, 8]]"
      ]
     },
     "execution_count": 84,
     "metadata": {},
     "output_type": "execute_result"
    }
   ],
   "source": [
    "# create the transpose\n",
    "matrix = [\n",
    "    [1, 2, 3, 4],\n",
    "    [5, 6, 7, 8]\n",
    "]\n",
    "\n",
    "[[row[i] for row in matrix] for i in range(4)]"
   ]
  },
  {
   "cell_type": "markdown",
   "metadata": {},
   "source": [
    "## 4.2. Dictionary comprehensions"
   ]
  },
  {
   "cell_type": "code",
   "execution_count": 85,
   "metadata": {
    "execution": {
     "iopub.execute_input": "2021-06-27T15:45:23.652979Z",
     "iopub.status.busy": "2021-06-27T15:45:23.651982Z",
     "iopub.status.idle": "2021-06-27T15:45:23.666941Z",
     "shell.execute_reply": "2021-06-27T15:45:23.665944Z",
     "shell.execute_reply.started": "2021-06-27T15:45:23.652979Z"
    }
   },
   "outputs": [
    {
     "data": {
      "text/plain": [
       "{'lion': 4,\n",
       " 'tiger': 5,\n",
       " 'leopard': 7,\n",
       " 'jaguar': 6,\n",
       " 'panther': 7,\n",
       " 'cheetah': 7,\n",
       " 'puma': 4}"
      ]
     },
     "execution_count": 85,
     "metadata": {},
     "output_type": "execute_result"
    }
   ],
   "source": [
    "felidae = ['lion', 'tiger', 'leopard', 'jaguar', 'panther', 'cheetah', 'puma']\n",
    "{key: len(key) for key in felidae}"
   ]
  },
  {
   "cell_type": "code",
   "execution_count": 86,
   "metadata": {
    "execution": {
     "iopub.execute_input": "2021-06-27T15:45:23.668936Z",
     "iopub.status.busy": "2021-06-27T15:45:23.668936Z",
     "iopub.status.idle": "2021-06-27T15:45:23.682900Z",
     "shell.execute_reply": "2021-06-27T15:45:23.681902Z",
     "shell.execute_reply.started": "2021-06-27T15:45:23.668936Z"
    }
   },
   "outputs": [
    {
     "data": {
      "text/plain": [
       "{0: 0, 1: 1, 2: 4, 3: 9, 4: 16, 5: 25, 6: 36, 7: 49, 8: 64, 9: 81}"
      ]
     },
     "execution_count": 86,
     "metadata": {},
     "output_type": "execute_result"
    }
   ],
   "source": [
    "{i: i**2 for i in range(10)}"
   ]
  },
  {
   "cell_type": "markdown",
   "metadata": {},
   "source": [
    "---\n",
    "*&#9829; By Quang Hung x Thuy Linh &#9829;*"
   ]
  }
 ],
 "metadata": {
  "colab": {
   "name": "Lecture 3.ipynb",
   "provenance": [],
   "version": "0.3.2"
  },
  "kernelspec": {
   "display_name": "Python 3",
   "language": "python",
   "name": "python3"
  },
  "language_info": {
   "codemirror_mode": {
    "name": "ipython",
    "version": 3
   },
   "file_extension": ".py",
   "mimetype": "text/x-python",
   "name": "python",
   "nbconvert_exporter": "python",
   "pygments_lexer": "ipython3",
   "version": "3.8.3"
  }
 },
 "nbformat": 4,
 "nbformat_minor": 4
}
