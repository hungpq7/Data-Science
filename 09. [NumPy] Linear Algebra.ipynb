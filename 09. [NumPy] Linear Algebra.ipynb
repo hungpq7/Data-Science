{
 "cells": [
  {
   "cell_type": "markdown",
   "metadata": {},
   "source": [
    "# 2. Linear Algebra\n",
    "Convention:\n",
    "- Regular, lowercase letters are used for scalars.\n",
    "- Bold, lowercase letters are used for column vectors. For row vectors, add a transpose operator.\n",
    "- Bold, uppercase letters are used for matrices.\n",
    "\n",
    "For example:\n",
    "$x=5$, $\\alpha=8$, $\\mathbf{x}=\\begin{bmatrix}1\\\\2\\\\3\\end{bmatrix}$,\n",
    "$\\mathbf{0}=\\begin{bmatrix}0\\\\0\\\\0\\end{bmatrix}$,\n",
    "$\\mathbf{A}=\\begin{bmatrix}1&2&3\\\\4&5&6\\\\7&8&9\\end{bmatrix}$"
   ]
  },
  {
   "cell_type": "markdown",
   "metadata": {},
   "source": [
    "## 2.1. Special matrices"
   ]
  },
  {
   "cell_type": "code",
   "execution_count": 19,
   "metadata": {
    "execution": {
     "iopub.execute_input": "2021-07-11T16:30:03.660739Z",
     "iopub.status.busy": "2021-07-11T16:30:03.659742Z",
     "iopub.status.idle": "2021-07-11T16:30:03.674702Z",
     "shell.execute_reply": "2021-07-11T16:30:03.673703Z",
     "shell.execute_reply.started": "2021-07-11T16:30:03.660739Z"
    }
   },
   "outputs": [],
   "source": [
    "import numpy as np"
   ]
  },
  {
   "cell_type": "markdown",
   "metadata": {},
   "source": [
    "#### Zero matrix\n",
    "The matrix where every element is equal to 0."
   ]
  },
  {
   "cell_type": "code",
   "execution_count": 20,
   "metadata": {
    "execution": {
     "iopub.execute_input": "2021-07-11T16:30:03.676697Z",
     "iopub.status.busy": "2021-07-11T16:30:03.676697Z",
     "iopub.status.idle": "2021-07-11T16:30:03.690659Z",
     "shell.execute_reply": "2021-07-11T16:30:03.689661Z",
     "shell.execute_reply.started": "2021-07-11T16:30:03.676697Z"
    }
   },
   "outputs": [
    {
     "data": {
      "text/plain": [
       "array([[0, 0, 0, 0],\n",
       "       [0, 0, 0, 0],\n",
       "       [0, 0, 0, 0]])"
      ]
     },
     "execution_count": 20,
     "metadata": {},
     "output_type": "execute_result"
    }
   ],
   "source": [
    "np.zeros((3,4), dtype=int)"
   ]
  },
  {
   "cell_type": "markdown",
   "metadata": {},
   "source": [
    "#### Matrix of ones"
   ]
  },
  {
   "cell_type": "code",
   "execution_count": 21,
   "metadata": {
    "execution": {
     "iopub.execute_input": "2021-07-11T16:30:03.692654Z",
     "iopub.status.busy": "2021-07-11T16:30:03.692654Z",
     "iopub.status.idle": "2021-07-11T16:30:03.706624Z",
     "shell.execute_reply": "2021-07-11T16:30:03.705650Z",
     "shell.execute_reply.started": "2021-07-11T16:30:03.692654Z"
    }
   },
   "outputs": [
    {
     "data": {
      "text/plain": [
       "array([[1, 1, 1, 1, 1, 1],\n",
       "       [1, 1, 1, 1, 1, 1],\n",
       "       [1, 1, 1, 1, 1, 1],\n",
       "       [1, 1, 1, 1, 1, 1]])"
      ]
     },
     "execution_count": 21,
     "metadata": {},
     "output_type": "execute_result"
    }
   ],
   "source": [
    "np.ones((4,6), dtype=int)"
   ]
  },
  {
   "cell_type": "markdown",
   "metadata": {},
   "source": [
    "#### Square matrix\n",
    "A matrix with the same number of rows and columns."
   ]
  },
  {
   "cell_type": "code",
   "execution_count": 22,
   "metadata": {
    "execution": {
     "iopub.execute_input": "2021-07-11T16:30:03.708612Z",
     "iopub.status.busy": "2021-07-11T16:30:03.707614Z",
     "iopub.status.idle": "2021-07-11T16:30:03.738531Z",
     "shell.execute_reply": "2021-07-11T16:30:03.737533Z",
     "shell.execute_reply.started": "2021-07-11T16:30:03.708612Z"
    }
   },
   "outputs": [
    {
     "data": {
      "text/plain": [
       "array([[0.38529777, 0.07549772, 0.63302334],\n",
       "       [0.08452351, 0.73029613, 0.73041879],\n",
       "       [0.96179727, 0.2935378 , 0.67329225]])"
      ]
     },
     "execution_count": 22,
     "metadata": {},
     "output_type": "execute_result"
    }
   ],
   "source": [
    "np.random.random((3,3))"
   ]
  },
  {
   "cell_type": "code",
   "execution_count": 23,
   "metadata": {
    "execution": {
     "iopub.execute_input": "2021-07-11T16:30:03.740527Z",
     "iopub.status.busy": "2021-07-11T16:30:03.739528Z",
     "iopub.status.idle": "2021-07-11T16:30:03.754489Z",
     "shell.execute_reply": "2021-07-11T16:30:03.753491Z",
     "shell.execute_reply.started": "2021-07-11T16:30:03.740527Z"
    }
   },
   "outputs": [
    {
     "data": {
      "text/plain": [
       "array([[0, 1, 2],\n",
       "       [3, 4, 5],\n",
       "       [6, 7, 8]])"
      ]
     },
     "execution_count": 23,
     "metadata": {},
     "output_type": "execute_result"
    }
   ],
   "source": [
    "np.arange(9).reshape(3,3)"
   ]
  },
  {
   "cell_type": "markdown",
   "metadata": {},
   "source": [
    "#### Unit/Identity matrix\n",
    "A square matrix with ones on the main diagonal and zeros elsewhere, denoted by $\\mathbf{I}_n$ where $n$ is the length of each size."
   ]
  },
  {
   "cell_type": "code",
   "execution_count": 24,
   "metadata": {
    "execution": {
     "iopub.execute_input": "2021-07-11T16:30:03.756483Z",
     "iopub.status.busy": "2021-07-11T16:30:03.755486Z",
     "iopub.status.idle": "2021-07-11T16:30:03.770447Z",
     "shell.execute_reply": "2021-07-11T16:30:03.769450Z",
     "shell.execute_reply.started": "2021-07-11T16:30:03.756483Z"
    }
   },
   "outputs": [
    {
     "data": {
      "text/plain": [
       "array([[1, 0, 0, 0, 0],\n",
       "       [0, 1, 0, 0, 0],\n",
       "       [0, 0, 1, 0, 0],\n",
       "       [0, 0, 0, 1, 0],\n",
       "       [0, 0, 0, 0, 1]])"
      ]
     },
     "execution_count": 24,
     "metadata": {},
     "output_type": "execute_result"
    }
   ],
   "source": [
    "np.eye(N=5, dtype=int)"
   ]
  },
  {
   "cell_type": "markdown",
   "metadata": {},
   "source": [
    "#### Diagonal matrix\n",
    "A square matrix in which the elements outside the main diagonal are all zero."
   ]
  },
  {
   "cell_type": "code",
   "execution_count": 25,
   "metadata": {
    "execution": {
     "iopub.execute_input": "2021-07-11T16:30:03.773438Z",
     "iopub.status.busy": "2021-07-11T16:30:03.772443Z",
     "iopub.status.idle": "2021-07-11T16:30:03.786403Z",
     "shell.execute_reply": "2021-07-11T16:30:03.785406Z",
     "shell.execute_reply.started": "2021-07-11T16:30:03.773438Z"
    }
   },
   "outputs": [
    {
     "data": {
      "text/plain": [
       "array([[9, 0, 0, 0],\n",
       "       [0, 8, 0, 0],\n",
       "       [0, 0, 2, 0],\n",
       "       [0, 0, 0, 8]])"
      ]
     },
     "execution_count": 25,
     "metadata": {},
     "output_type": "execute_result"
    }
   ],
   "source": [
    "array = np.random.randint(10, size=(4,4))\n",
    "np.diag(np.diag(array))"
   ]
  },
  {
   "cell_type": "markdown",
   "metadata": {},
   "source": [
    "#### Triangular matrix\n",
    "Two types of triangular matrix: lower and upper."
   ]
  },
  {
   "cell_type": "code",
   "execution_count": 26,
   "metadata": {
    "execution": {
     "iopub.execute_input": "2021-07-11T16:30:03.789395Z",
     "iopub.status.busy": "2021-07-11T16:30:03.788398Z",
     "iopub.status.idle": "2021-07-11T16:30:03.802361Z",
     "shell.execute_reply": "2021-07-11T16:30:03.801364Z",
     "shell.execute_reply.started": "2021-07-11T16:30:03.789395Z"
    }
   },
   "outputs": [
    {
     "data": {
      "text/plain": [
       "array([[9, 0, 0, 0],\n",
       "       [9, 5, 0, 0],\n",
       "       [1, 2, 2, 0],\n",
       "       [1, 5, 4, 7]])"
      ]
     },
     "execution_count": 26,
     "metadata": {},
     "output_type": "execute_result"
    }
   ],
   "source": [
    "array = np.random.randint(10, size=(4,4))\n",
    "np.tril(array)"
   ]
  },
  {
   "cell_type": "code",
   "execution_count": 27,
   "metadata": {
    "execution": {
     "iopub.execute_input": "2021-07-11T16:30:03.805353Z",
     "iopub.status.busy": "2021-07-11T16:30:03.804357Z",
     "iopub.status.idle": "2021-07-11T16:30:03.818318Z",
     "shell.execute_reply": "2021-07-11T16:30:03.817321Z",
     "shell.execute_reply.started": "2021-07-11T16:30:03.805353Z"
    }
   },
   "outputs": [
    {
     "data": {
      "text/plain": [
       "array([[9, 4, 3, 0],\n",
       "       [0, 0, 6, 7],\n",
       "       [0, 0, 1, 9],\n",
       "       [0, 0, 0, 1]])"
      ]
     },
     "execution_count": 27,
     "metadata": {},
     "output_type": "execute_result"
    }
   ],
   "source": [
    "array = np.random.randint(10, size=(4,4))\n",
    "np.triu(array)"
   ]
  },
  {
   "cell_type": "markdown",
   "metadata": {},
   "source": [
    "#### Sparse matrix\n",
    "Sparse matrix is a large matrix that most of its elements are zero. Our approach is to compress the sparse matrix to storing the non-zero values only (compressed sparse row (CSR) matrix). This lead to significant computational saving.\n",
    "\n",
    "For example, imagine a matrix where every column is a Netflix movie and each row is a Netflix user, the values are how many times an user has watched a particular movie. That matrix would have thousands of columns and milions of rows. However, since most users have not watched most movies, the vast majority of the matrix values would be zero."
   ]
  },
  {
   "cell_type": "code",
   "execution_count": 28,
   "metadata": {
    "execution": {
     "iopub.execute_input": "2021-07-11T16:30:03.820314Z",
     "iopub.status.busy": "2021-07-11T16:30:03.820314Z",
     "iopub.status.idle": "2021-07-11T16:30:03.834274Z",
     "shell.execute_reply": "2021-07-11T16:30:03.833277Z",
     "shell.execute_reply.started": "2021-07-11T16:30:03.820314Z"
    }
   },
   "outputs": [],
   "source": [
    "from scipy import sparse"
   ]
  },
  {
   "cell_type": "code",
   "execution_count": 29,
   "metadata": {
    "execution": {
     "iopub.execute_input": "2021-07-11T16:30:03.836269Z",
     "iopub.status.busy": "2021-07-11T16:30:03.835272Z",
     "iopub.status.idle": "2021-07-11T16:30:03.850233Z",
     "shell.execute_reply": "2021-07-11T16:30:03.849235Z",
     "shell.execute_reply.started": "2021-07-11T16:30:03.836269Z"
    }
   },
   "outputs": [
    {
     "data": {
      "text/plain": [
       "array([[0, 0, 0, 0, 0, 4, 0, 0, 7, 0],\n",
       "       [0, 1, 0, 0, 0, 0, 0, 0, 0, 0],\n",
       "       [3, 0, 0, 0, 0, 0, 0, 0, 8, 0]])"
      ]
     },
     "execution_count": 29,
     "metadata": {},
     "output_type": "execute_result"
    }
   ],
   "source": [
    "large_matrix = np.array(\n",
    "    [[0, 0, 0, 0, 0, 4, 0, 0, 7, 0],\n",
    "     [0, 1, 0, 0, 0, 0, 0, 0, 0, 0],\n",
    "     [3, 0, 0, 0, 0, 0, 0, 0, 8, 0]]\n",
    ")\n",
    "large_matrix"
   ]
  },
  {
   "cell_type": "code",
   "execution_count": 30,
   "metadata": {
    "execution": {
     "iopub.execute_input": "2021-07-11T16:30:03.851230Z",
     "iopub.status.busy": "2021-07-11T16:30:03.851230Z",
     "iopub.status.idle": "2021-07-11T16:30:03.866199Z",
     "shell.execute_reply": "2021-07-11T16:30:03.865191Z",
     "shell.execute_reply.started": "2021-07-11T16:30:03.851230Z"
    }
   },
   "outputs": [
    {
     "data": {
      "text/plain": [
       "(array([0, 0, 1, 2, 2], dtype=int64), array([5, 8, 1, 0, 8], dtype=int64))"
      ]
     },
     "execution_count": 30,
     "metadata": {},
     "output_type": "execute_result"
    }
   ],
   "source": [
    "np.nonzero(large_matrix)"
   ]
  },
  {
   "cell_type": "code",
   "execution_count": 31,
   "metadata": {
    "execution": {
     "iopub.execute_input": "2021-07-11T16:30:03.868184Z",
     "iopub.status.busy": "2021-07-11T16:30:03.867187Z",
     "iopub.status.idle": "2021-07-11T16:30:03.882147Z",
     "shell.execute_reply": "2021-07-11T16:30:03.881151Z",
     "shell.execute_reply.started": "2021-07-11T16:30:03.868184Z"
    }
   },
   "outputs": [],
   "source": [
    "compressed_matrix = sparse.csr_matrix(large_matrix)"
   ]
  },
  {
   "cell_type": "code",
   "execution_count": 32,
   "metadata": {
    "execution": {
     "iopub.execute_input": "2021-07-11T16:30:03.886137Z",
     "iopub.status.busy": "2021-07-11T16:30:03.884142Z",
     "iopub.status.idle": "2021-07-11T16:30:03.913258Z",
     "shell.execute_reply": "2021-07-11T16:30:03.912259Z",
     "shell.execute_reply.started": "2021-07-11T16:30:03.886137Z"
    }
   },
   "outputs": [
    {
     "name": "stdout",
     "output_type": "stream",
     "text": [
      "  (0, 5)\t4\n",
      "  (0, 8)\t7\n",
      "  (1, 1)\t1\n",
      "  (2, 0)\t3\n",
      "  (2, 8)\t8\n"
     ]
    }
   ],
   "source": [
    "print(compressed_matrix)"
   ]
  },
  {
   "cell_type": "markdown",
   "metadata": {},
   "source": [
    "## 2.2. Matrix operations"
   ]
  },
  {
   "cell_type": "code",
   "execution_count": 33,
   "metadata": {
    "execution": {
     "iopub.execute_input": "2021-07-11T16:30:03.915252Z",
     "iopub.status.busy": "2021-07-11T16:30:03.915252Z",
     "iopub.status.idle": "2021-07-11T16:30:03.929215Z",
     "shell.execute_reply": "2021-07-11T16:30:03.928216Z",
     "shell.execute_reply.started": "2021-07-11T16:30:03.915252Z"
    }
   },
   "outputs": [],
   "source": [
    "import numpy as np"
   ]
  },
  {
   "cell_type": "markdown",
   "metadata": {},
   "source": [
    "#### Addition\n",
    "The matrices to be used in addition or subtraction must be of the same shape. The sum of $\\mathbf{A}$ $(m \\times n)$ and $\\mathbf{B}$ $(m \\times n)$ is calculated:\n",
    "\n",
    "$$(\\mathbf{A}+\\mathbf{B})_{ij} = \\mathbf{A}_{ij} + \\mathbf{B}_{ij}$$\n",
    "\n",
    "where $i \\in \\{1, 2, 3,\\dots, m\\}$ and $j \\in \\{1, 2, 3,\\dots, n\\}$"
   ]
  },
  {
   "cell_type": "code",
   "execution_count": 34,
   "metadata": {
    "execution": {
     "iopub.execute_input": "2021-07-11T16:30:03.931208Z",
     "iopub.status.busy": "2021-07-11T16:30:03.930210Z",
     "iopub.status.idle": "2021-07-11T16:30:03.945172Z",
     "shell.execute_reply": "2021-07-11T16:30:03.944172Z",
     "shell.execute_reply.started": "2021-07-11T16:30:03.931208Z"
    }
   },
   "outputs": [],
   "source": [
    "A = np.array([[1, 2, 3],\n",
    "              [4, 5, 6]])"
   ]
  },
  {
   "cell_type": "code",
   "execution_count": 35,
   "metadata": {
    "execution": {
     "iopub.execute_input": "2021-07-11T16:30:03.946168Z",
     "iopub.status.busy": "2021-07-11T16:30:03.946168Z",
     "iopub.status.idle": "2021-07-11T16:30:03.961143Z",
     "shell.execute_reply": "2021-07-11T16:30:03.960130Z",
     "shell.execute_reply.started": "2021-07-11T16:30:03.946168Z"
    }
   },
   "outputs": [],
   "source": [
    "B = np.array([[7, 5, 8],\n",
    "              [2, 0, 7]])"
   ]
  },
  {
   "cell_type": "code",
   "execution_count": 36,
   "metadata": {
    "execution": {
     "iopub.execute_input": "2021-07-11T16:30:03.963122Z",
     "iopub.status.busy": "2021-07-11T16:30:03.962125Z",
     "iopub.status.idle": "2021-07-11T16:30:03.977095Z",
     "shell.execute_reply": "2021-07-11T16:30:03.976088Z",
     "shell.execute_reply.started": "2021-07-11T16:30:03.963122Z"
    }
   },
   "outputs": [
    {
     "data": {
      "text/plain": [
       "array([[ 8,  7, 11],\n",
       "       [ 6,  5, 13]])"
      ]
     },
     "execution_count": 36,
     "metadata": {},
     "output_type": "execute_result"
    }
   ],
   "source": [
    "A + B"
   ]
  },
  {
   "cell_type": "code",
   "execution_count": 37,
   "metadata": {
    "execution": {
     "iopub.execute_input": "2021-07-11T16:30:03.979084Z",
     "iopub.status.busy": "2021-07-11T16:30:03.978083Z",
     "iopub.status.idle": "2021-07-11T16:30:03.993043Z",
     "shell.execute_reply": "2021-07-11T16:30:03.992045Z",
     "shell.execute_reply.started": "2021-07-11T16:30:03.979084Z"
    }
   },
   "outputs": [
    {
     "data": {
      "text/plain": [
       "array([[ 6,  3,  5],\n",
       "       [-2, -5,  1]])"
      ]
     },
     "execution_count": 37,
     "metadata": {},
     "output_type": "execute_result"
    }
   ],
   "source": [
    "B - A"
   ]
  },
  {
   "cell_type": "markdown",
   "metadata": {},
   "source": [
    "Alternatively, you can use `numpy.add()`."
   ]
  },
  {
   "cell_type": "code",
   "execution_count": 38,
   "metadata": {
    "execution": {
     "iopub.execute_input": "2021-07-11T16:30:03.997034Z",
     "iopub.status.busy": "2021-07-11T16:30:03.995039Z",
     "iopub.status.idle": "2021-07-11T16:30:04.009000Z",
     "shell.execute_reply": "2021-07-11T16:30:04.008003Z",
     "shell.execute_reply.started": "2021-07-11T16:30:03.997034Z"
    }
   },
   "outputs": [
    {
     "data": {
      "text/plain": [
       "array([[ 8,  7, 11],\n",
       "       [ 6,  5, 13]])"
      ]
     },
     "execution_count": 38,
     "metadata": {},
     "output_type": "execute_result"
    }
   ],
   "source": [
    "np.add(A, B)"
   ]
  },
  {
   "cell_type": "markdown",
   "metadata": {},
   "source": [
    "#### Scalar multiplication\n",
    "For a scalar $c$ and a matrix $\\mathbf{A}$ $(m\\times n)$, the multiplication can be computed: $(c\\mathbf{A})_{ij} = c\\cdot \\mathbf{A}_{ij}$"
   ]
  },
  {
   "cell_type": "code",
   "execution_count": 39,
   "metadata": {
    "execution": {
     "iopub.execute_input": "2021-07-11T16:30:04.011992Z",
     "iopub.status.busy": "2021-07-11T16:30:04.010994Z",
     "iopub.status.idle": "2021-07-11T16:30:04.024958Z",
     "shell.execute_reply": "2021-07-11T16:30:04.023960Z",
     "shell.execute_reply.started": "2021-07-11T16:30:04.011992Z"
    }
   },
   "outputs": [],
   "source": [
    "A = np.array([[1, 2, 3],\n",
    "              [4, 5, 6]])"
   ]
  },
  {
   "cell_type": "code",
   "execution_count": 40,
   "metadata": {
    "execution": {
     "iopub.execute_input": "2021-07-11T16:30:04.027950Z",
     "iopub.status.busy": "2021-07-11T16:30:04.026953Z",
     "iopub.status.idle": "2021-07-11T16:30:04.040916Z",
     "shell.execute_reply": "2021-07-11T16:30:04.039917Z",
     "shell.execute_reply.started": "2021-07-11T16:30:04.026953Z"
    }
   },
   "outputs": [
    {
     "data": {
      "text/plain": [
       "array([[ 2,  4,  6],\n",
       "       [ 8, 10, 12]])"
      ]
     },
     "execution_count": 40,
     "metadata": {},
     "output_type": "execute_result"
    }
   ],
   "source": [
    "A * 2"
   ]
  },
  {
   "cell_type": "markdown",
   "metadata": {},
   "source": [
    "#### Matrix multiplication\n",
    "The dot product of $\\mathbf{A}$ $(m\\times n)$ and $\\mathbf{B}$ $(n\\times p)$ is a matrix $\\mathbf{C}$ $(m\\times p)$ where the element of $\\mathbf{C}$ in the row $x^{th}$ and column $y^{th}$ is calculated by the formula:\n",
    "$$\\mathbf{C}_{xy} = \\sum_{i=1}^n {\\mathbf{A}_{xi}\\mathbf{B}_{iy}}$$"
   ]
  },
  {
   "cell_type": "code",
   "execution_count": 41,
   "metadata": {
    "execution": {
     "iopub.execute_input": "2021-07-11T16:30:04.042911Z",
     "iopub.status.busy": "2021-07-11T16:30:04.041912Z",
     "iopub.status.idle": "2021-07-11T16:30:04.056873Z",
     "shell.execute_reply": "2021-07-11T16:30:04.055873Z",
     "shell.execute_reply.started": "2021-07-11T16:30:04.042911Z"
    }
   },
   "outputs": [],
   "source": [
    "A = np.linspace(1, 6, 6, dtype=int).reshape(2, 3)\n",
    "B = np.linspace(1, 12, 12, dtype=int).reshape(3, 4)"
   ]
  },
  {
   "cell_type": "code",
   "execution_count": 42,
   "metadata": {
    "execution": {
     "iopub.execute_input": "2021-07-11T16:30:04.058870Z",
     "iopub.status.busy": "2021-07-11T16:30:04.057869Z",
     "iopub.status.idle": "2021-07-11T16:30:04.072829Z",
     "shell.execute_reply": "2021-07-11T16:30:04.071831Z",
     "shell.execute_reply.started": "2021-07-11T16:30:04.058870Z"
    }
   },
   "outputs": [
    {
     "data": {
      "text/plain": [
       "array([[1, 2, 3],\n",
       "       [4, 5, 6]])"
      ]
     },
     "execution_count": 42,
     "metadata": {},
     "output_type": "execute_result"
    }
   ],
   "source": [
    "A"
   ]
  },
  {
   "cell_type": "code",
   "execution_count": 43,
   "metadata": {
    "execution": {
     "iopub.execute_input": "2021-07-11T16:30:04.074824Z",
     "iopub.status.busy": "2021-07-11T16:30:04.073828Z",
     "iopub.status.idle": "2021-07-11T16:30:04.088785Z",
     "shell.execute_reply": "2021-07-11T16:30:04.087791Z",
     "shell.execute_reply.started": "2021-07-11T16:30:04.073828Z"
    }
   },
   "outputs": [
    {
     "data": {
      "text/plain": [
       "array([[ 1,  2,  3,  4],\n",
       "       [ 5,  6,  7,  8],\n",
       "       [ 9, 10, 11, 12]])"
      ]
     },
     "execution_count": 43,
     "metadata": {},
     "output_type": "execute_result"
    }
   ],
   "source": [
    "B"
   ]
  },
  {
   "cell_type": "code",
   "execution_count": 44,
   "metadata": {
    "execution": {
     "iopub.execute_input": "2021-07-11T16:30:04.090781Z",
     "iopub.status.busy": "2021-07-11T16:30:04.089784Z",
     "iopub.status.idle": "2021-07-11T16:30:04.105745Z",
     "shell.execute_reply": "2021-07-11T16:30:04.103748Z",
     "shell.execute_reply.started": "2021-07-11T16:30:04.090781Z"
    }
   },
   "outputs": [
    {
     "data": {
      "text/plain": [
       "array([[ 38,  44,  50,  56],\n",
       "       [ 83,  98, 113, 128]])"
      ]
     },
     "execution_count": 44,
     "metadata": {},
     "output_type": "execute_result"
    }
   ],
   "source": [
    "np.dot(A, B)"
   ]
  },
  {
   "cell_type": "code",
   "execution_count": 45,
   "metadata": {
    "execution": {
     "iopub.execute_input": "2021-07-11T16:30:04.109732Z",
     "iopub.status.busy": "2021-07-11T16:30:04.107737Z",
     "iopub.status.idle": "2021-07-11T16:30:04.120703Z",
     "shell.execute_reply": "2021-07-11T16:30:04.119704Z",
     "shell.execute_reply.started": "2021-07-11T16:30:04.108734Z"
    }
   },
   "outputs": [
    {
     "data": {
      "text/plain": [
       "array([[ 38,  44,  50,  56],\n",
       "       [ 83,  98, 113, 128]])"
      ]
     },
     "execution_count": 45,
     "metadata": {},
     "output_type": "execute_result"
    }
   ],
   "source": [
    "A @ B"
   ]
  },
  {
   "cell_type": "markdown",
   "metadata": {},
   "source": [
    "#### Transposition\n",
    "Transposition is a  operator where the matrix is flipped over its diagonal. The transpose of the matrix $\\mathbf{A}$ ($m\\times n$) is denoted $\\mathbf{A}^T$ ($n\\times m$) and satisfies $\\mathbf{A}_{ij}$ = $(\\mathbf{A}^T)_{ji}$ where $i\\in \\{1,2,3,\\dots,m\\}$ and $j \\in \\{1,2,3,\\dots,n\\}$."
   ]
  },
  {
   "cell_type": "code",
   "execution_count": 46,
   "metadata": {
    "execution": {
     "iopub.execute_input": "2021-07-11T16:30:04.123695Z",
     "iopub.status.busy": "2021-07-11T16:30:04.122696Z",
     "iopub.status.idle": "2021-07-11T16:30:04.136660Z",
     "shell.execute_reply": "2021-07-11T16:30:04.135662Z",
     "shell.execute_reply.started": "2021-07-11T16:30:04.123695Z"
    }
   },
   "outputs": [
    {
     "data": {
      "text/plain": [
       "array([[ 0,  1,  2,  3,  4,  5,  6,  7],\n",
       "       [ 8,  9, 10, 11, 12, 13, 14, 15],\n",
       "       [16, 17, 18, 19, 20, 21, 22, 23]])"
      ]
     },
     "execution_count": 46,
     "metadata": {},
     "output_type": "execute_result"
    }
   ],
   "source": [
    "A = np.arange(24).reshape(3,8)\n",
    "A"
   ]
  },
  {
   "cell_type": "code",
   "execution_count": 47,
   "metadata": {
    "execution": {
     "iopub.execute_input": "2021-07-11T16:30:04.138654Z",
     "iopub.status.busy": "2021-07-11T16:30:04.137656Z",
     "iopub.status.idle": "2021-07-11T16:30:04.151620Z",
     "shell.execute_reply": "2021-07-11T16:30:04.150621Z",
     "shell.execute_reply.started": "2021-07-11T16:30:04.138654Z"
    }
   },
   "outputs": [
    {
     "data": {
      "text/plain": [
       "array([[ 0,  8, 16],\n",
       "       [ 1,  9, 17],\n",
       "       [ 2, 10, 18],\n",
       "       [ 3, 11, 19],\n",
       "       [ 4, 12, 20],\n",
       "       [ 5, 13, 21],\n",
       "       [ 6, 14, 22],\n",
       "       [ 7, 15, 23]])"
      ]
     },
     "execution_count": 47,
     "metadata": {},
     "output_type": "execute_result"
    }
   ],
   "source": [
    "A.T"
   ]
  },
  {
   "cell_type": "code",
   "execution_count": 48,
   "metadata": {
    "execution": {
     "iopub.execute_input": "2021-07-11T16:30:04.153614Z",
     "iopub.status.busy": "2021-07-11T16:30:04.153614Z",
     "iopub.status.idle": "2021-07-11T16:30:04.166578Z",
     "shell.execute_reply": "2021-07-11T16:30:04.166578Z",
     "shell.execute_reply.started": "2021-07-11T16:30:04.153614Z"
    }
   },
   "outputs": [
    {
     "data": {
      "text/plain": [
       "array([ True,  True,  True])"
      ]
     },
     "execution_count": 48,
     "metadata": {},
     "output_type": "execute_result"
    }
   ],
   "source": [
    "np.diag(A) == np.diag(A.T)"
   ]
  },
  {
   "cell_type": "markdown",
   "metadata": {},
   "source": [
    "#### Properties\n",
    "Here are some properties of matrix operations:\n",
    "- $\\mathbf{A}+\\mathbf{B} = \\mathbf{B}+\\mathbf{A}$ (commutativity)\n",
    "- $(c\\mathbf{A})^T = c \\cdot \\mathbf{A}^T$\n",
    "- $(\\mathbf{A}+\\mathbf{B})^T = \\mathbf{A}^T + \\mathbf{B}^T$\n",
    "- $(\\mathbf{A}^T)^T = \\mathbf{A}$\n",
    "- $(\\mathbf{A}\\mathbf{B})\\mathbf{C} = \\mathbf{A}(\\mathbf{B}\\mathbf{C}) = \\mathbf{A}\\mathbf{B}\\mathbf{C}$ (associativity)\n",
    "- $(\\mathbf{A}+\\mathbf{B})\\mathbf{C} = \\mathbf{A}\\mathbf{C} + \\mathbf{B}\\mathbf{C}$ (distributivity)\n",
    "- $\\mathbf{A}\\mathbf{B} \\neq \\mathbf{B}\\mathbf{A}$"
   ]
  },
  {
   "cell_type": "markdown",
   "metadata": {},
   "source": [
    "## 2.3. Diagonal and trace"
   ]
  },
  {
   "cell_type": "markdown",
   "metadata": {},
   "source": [
    "#### The diagonal\n",
    "To get the main diagonal of the matrix, use the `numpy.diag()` function. The `k` parameter moves the diagonal up $k$ steps (if `k` is negative then the diagonal moves down)."
   ]
  },
  {
   "cell_type": "code",
   "execution_count": 49,
   "metadata": {
    "execution": {
     "iopub.execute_input": "2021-07-11T16:30:04.169571Z",
     "iopub.status.busy": "2021-07-11T16:30:04.168574Z",
     "iopub.status.idle": "2021-07-11T16:30:04.183534Z",
     "shell.execute_reply": "2021-07-11T16:30:04.182535Z",
     "shell.execute_reply.started": "2021-07-11T16:30:04.168574Z"
    }
   },
   "outputs": [],
   "source": [
    "import numpy as np"
   ]
  },
  {
   "cell_type": "code",
   "execution_count": 50,
   "metadata": {
    "execution": {
     "iopub.execute_input": "2021-07-11T16:30:04.185530Z",
     "iopub.status.busy": "2021-07-11T16:30:04.184531Z",
     "iopub.status.idle": "2021-07-11T16:30:04.199492Z",
     "shell.execute_reply": "2021-07-11T16:30:04.198494Z",
     "shell.execute_reply.started": "2021-07-11T16:30:04.185530Z"
    }
   },
   "outputs": [
    {
     "data": {
      "text/plain": [
       "array([[ 0,  1,  2,  3],\n",
       "       [ 4,  5,  6,  7],\n",
       "       [ 8,  9, 10, 11]])"
      ]
     },
     "execution_count": 50,
     "metadata": {},
     "output_type": "execute_result"
    }
   ],
   "source": [
    "A = np.arange(12).reshape(3,4)\n",
    "A"
   ]
  },
  {
   "cell_type": "code",
   "execution_count": 51,
   "metadata": {
    "execution": {
     "iopub.execute_input": "2021-07-11T16:30:04.201485Z",
     "iopub.status.busy": "2021-07-11T16:30:04.200487Z",
     "iopub.status.idle": "2021-07-11T16:30:04.216448Z",
     "shell.execute_reply": "2021-07-11T16:30:04.214452Z",
     "shell.execute_reply.started": "2021-07-11T16:30:04.201485Z"
    }
   },
   "outputs": [
    {
     "data": {
      "text/plain": [
       "array([ 0,  5, 10])"
      ]
     },
     "execution_count": 51,
     "metadata": {},
     "output_type": "execute_result"
    }
   ],
   "source": [
    "np.diag(A)"
   ]
  },
  {
   "cell_type": "code",
   "execution_count": 52,
   "metadata": {
    "execution": {
     "iopub.execute_input": "2021-07-11T16:30:04.219438Z",
     "iopub.status.busy": "2021-07-11T16:30:04.218440Z",
     "iopub.status.idle": "2021-07-11T16:30:04.231406Z",
     "shell.execute_reply": "2021-07-11T16:30:04.230408Z",
     "shell.execute_reply.started": "2021-07-11T16:30:04.219438Z"
    }
   },
   "outputs": [
    {
     "data": {
      "text/plain": [
       "array([ 1,  6, 11])"
      ]
     },
     "execution_count": 52,
     "metadata": {},
     "output_type": "execute_result"
    }
   ],
   "source": [
    "np.diag(A, k=1)"
   ]
  },
  {
   "cell_type": "markdown",
   "metadata": {},
   "source": [
    "#### The trace\n",
    "The trace of a square matrix is the sum of the main diagonal elements. Despite that NumPy supports calculating the trace for any type of matrix, Mathematics define the trace for square matrices only."
   ]
  },
  {
   "cell_type": "code",
   "execution_count": 53,
   "metadata": {
    "execution": {
     "iopub.execute_input": "2021-07-11T16:30:04.233400Z",
     "iopub.status.busy": "2021-07-11T16:30:04.233400Z",
     "iopub.status.idle": "2021-07-11T16:30:04.247362Z",
     "shell.execute_reply": "2021-07-11T16:30:04.246365Z",
     "shell.execute_reply.started": "2021-07-11T16:30:04.233400Z"
    }
   },
   "outputs": [
    {
     "data": {
      "text/plain": [
       "array([[ 0,  1,  2,  3],\n",
       "       [ 4,  5,  6,  7],\n",
       "       [ 8,  9, 10, 11]])"
      ]
     },
     "execution_count": 53,
     "metadata": {},
     "output_type": "execute_result"
    }
   ],
   "source": [
    "A = np.arange(12).reshape(3,4)\n",
    "A"
   ]
  },
  {
   "cell_type": "code",
   "execution_count": 54,
   "metadata": {
    "execution": {
     "iopub.execute_input": "2021-07-11T16:30:04.249358Z",
     "iopub.status.busy": "2021-07-11T16:30:04.249358Z",
     "iopub.status.idle": "2021-07-11T16:30:04.263320Z",
     "shell.execute_reply": "2021-07-11T16:30:04.262323Z",
     "shell.execute_reply.started": "2021-07-11T16:30:04.249358Z"
    }
   },
   "outputs": [
    {
     "data": {
      "text/plain": [
       "15"
      ]
     },
     "execution_count": 54,
     "metadata": {},
     "output_type": "execute_result"
    }
   ],
   "source": [
    "A.trace()"
   ]
  },
  {
   "cell_type": "code",
   "execution_count": 55,
   "metadata": {
    "execution": {
     "iopub.execute_input": "2021-07-11T16:30:04.265314Z",
     "iopub.status.busy": "2021-07-11T16:30:04.264318Z",
     "iopub.status.idle": "2021-07-11T16:30:04.278279Z",
     "shell.execute_reply": "2021-07-11T16:30:04.277282Z",
     "shell.execute_reply.started": "2021-07-11T16:30:04.265314Z"
    }
   },
   "outputs": [
    {
     "data": {
      "text/plain": [
       "15"
      ]
     },
     "execution_count": 55,
     "metadata": {},
     "output_type": "execute_result"
    }
   ],
   "source": [
    "np.diag(A).sum()"
   ]
  },
  {
   "cell_type": "markdown",
   "metadata": {},
   "source": [
    "## 2.4. Echelon form and rank"
   ]
  },
  {
   "cell_type": "code",
   "execution_count": 56,
   "metadata": {
    "execution": {
     "iopub.execute_input": "2021-07-11T16:30:04.280274Z",
     "iopub.status.busy": "2021-07-11T16:30:04.279277Z",
     "iopub.status.idle": "2021-07-11T16:30:04.294237Z",
     "shell.execute_reply": "2021-07-11T16:30:04.293238Z",
     "shell.execute_reply.started": "2021-07-11T16:30:04.280274Z"
    }
   },
   "outputs": [],
   "source": [
    "import numpy as np"
   ]
  },
  {
   "cell_type": "markdown",
   "metadata": {},
   "source": [
    "#### Gaussian elimination\n",
    "Gaussian elimination (also known as row reduction) is a linear algebra algorithm for solving a system of linear equations; finding the rank, the determinant and the inverse of matrices. There are three types of elementary matrix operations:\n",
    "- Interchanging two rows\n",
    "- Multiplying a row by a non-zero number\n",
    "- Adding a multiple of a row to another row"
   ]
  },
  {
   "cell_type": "markdown",
   "metadata": {},
   "source": [
    "#### Echelon form\n",
    "Using Gaussian elimination, you can transform any matrix to the row echelon or column echelon form. However, only row echelon form is considered in this topic.\n",
    "\n",
    "$$\n",
    "\\begin{bmatrix}\n",
    "a & * & * & * & * & * & * & * & * \\\\\n",
    "0 & 0 & b & * & * & * & * & * & * \\\\\n",
    "0 & 0 & 0 & c & * & * & * & * & * \\\\\n",
    "0 & 0 & 0 & 0 & 0 & 0 & d & * & * \\\\\n",
    "0 & 0 & 0 & 0 & 0 & 0 & 0 & e & * \\\\\n",
    "0 & 0 & 0 & 0 & 0 & 0 & 0 & 0 & 0 \\\\\n",
    "\\end{bmatrix}\n",
    "$$\n",
    "\n",
    "A matrix is in echelon form when it satisfies the following conditions:\n",
    "- All zero rows (rows with all zero elements) are at the bottom.\n",
    "- Each pivot (or leading entry) - the leftmost non-zero element of each row is always to the right of the pivot of the rows above. In the example above, $a$, $b$, $c$, $d$ and $e$ are pivots.\n",
    "\n",
    "To transform a matrix to echelon form, use the `scipy.linalg.lu()` function."
   ]
  },
  {
   "cell_type": "code",
   "execution_count": 57,
   "metadata": {
    "execution": {
     "iopub.execute_input": "2021-07-11T16:30:04.296234Z",
     "iopub.status.busy": "2021-07-11T16:30:04.295234Z",
     "iopub.status.idle": "2021-07-11T16:30:04.310195Z",
     "shell.execute_reply": "2021-07-11T16:30:04.309198Z",
     "shell.execute_reply.started": "2021-07-11T16:30:04.296234Z"
    }
   },
   "outputs": [
    {
     "data": {
      "text/plain": [
       "array([[ 2. ,  7. ,  8. ],\n",
       "       [ 0. , -1.5, -3. ],\n",
       "       [ 0. ,  0. ,  0. ]])"
      ]
     },
     "execution_count": 57,
     "metadata": {},
     "output_type": "execute_result"
    }
   ],
   "source": [
    "A = np.array(\n",
    "    [[0, 1, 2],\n",
    "     [1, 2, 1],\n",
    "     [2, 7, 8]]\n",
    ")\n",
    "import scipy.linalg\n",
    "_, _, echelon = scipy.linalg.lu(A)\n",
    "echelon"
   ]
  },
  {
   "cell_type": "code",
   "execution_count": 58,
   "metadata": {
    "execution": {
     "iopub.execute_input": "2021-07-11T16:30:04.313188Z",
     "iopub.status.busy": "2021-07-11T16:30:04.312189Z",
     "iopub.status.idle": "2021-07-11T16:30:04.327149Z",
     "shell.execute_reply": "2021-07-11T16:30:04.325154Z",
     "shell.execute_reply.started": "2021-07-11T16:30:04.313188Z"
    }
   },
   "outputs": [
    {
     "data": {
      "text/plain": [
       "array([[ 2,  7,  8],\n",
       "       [ 0, -1, -3],\n",
       "       [ 0,  0,  0]])"
      ]
     },
     "execution_count": 58,
     "metadata": {},
     "output_type": "execute_result"
    }
   ],
   "source": [
    "echelon.astype(int)"
   ]
  },
  {
   "cell_type": "markdown",
   "metadata": {},
   "source": [
    "#### Rank\n",
    "The rank of a matrix is the highest number of linear independent rows in the matrix. A vector linear dependent if it equals to the sum of scalar multiples of other vectors. The maximum rank of the matrix $\\mathbf{A}$ $(m\\times n)$ is $\\min(m,n)$. $\\mathbf{A}$ is said to be full rank if its rank reachs the maximum value and to be rank deficient otherwise.\n",
    "\n",
    "To find the rank of a matrix, use the `numpy.linalg.matrix_rank()` function."
   ]
  },
  {
   "cell_type": "code",
   "execution_count": 59,
   "metadata": {
    "execution": {
     "iopub.execute_input": "2021-07-11T16:30:04.329145Z",
     "iopub.status.busy": "2021-07-11T16:30:04.328147Z",
     "iopub.status.idle": "2021-07-11T16:30:04.359065Z",
     "shell.execute_reply": "2021-07-11T16:30:04.357069Z",
     "shell.execute_reply.started": "2021-07-11T16:30:04.329145Z"
    }
   },
   "outputs": [
    {
     "data": {
      "text/plain": [
       "2"
      ]
     },
     "execution_count": 59,
     "metadata": {},
     "output_type": "execute_result"
    }
   ],
   "source": [
    "np.linalg.matrix_rank(A)"
   ]
  },
  {
   "cell_type": "markdown",
   "metadata": {},
   "source": [
    "## 2.5. The determinant and the inverse\n",
    "These attributes are defined only for square matrices."
   ]
  },
  {
   "cell_type": "code",
   "execution_count": 60,
   "metadata": {
    "execution": {
     "iopub.execute_input": "2021-07-11T16:30:04.361060Z",
     "iopub.status.busy": "2021-07-11T16:30:04.360061Z",
     "iopub.status.idle": "2021-07-11T16:30:04.374024Z",
     "shell.execute_reply": "2021-07-11T16:30:04.373025Z",
     "shell.execute_reply.started": "2021-07-11T16:30:04.361060Z"
    }
   },
   "outputs": [],
   "source": [
    "import numpy as np"
   ]
  },
  {
   "cell_type": "markdown",
   "metadata": {},
   "source": [
    "#### Minors and cofactors\n",
    "The minor and the cofactor are required to calculate the determinant and the inverse of square matrices. Given a square matrix $\\mathbf{A}$ $(n\\times n)$:\n",
    "- The minor of $\\mathbf{A}_{ij}$ is the determinant of the $(n-1)\\cdot (n-1)$ submatrix formed by deleting the $i^{th}$ row and the $j^{th}$ column, denoted $M_{ij}$.\n",
    "- The corresponding cofactor is $\\mathbf{C}_{ij}=(-1)^{i+j}M_{ij}$.\n",
    "\n",
    "From the calculated cofactors, we have the matrix of cofactors (adjugate matrix):\n",
    "\n",
    "$$\n",
    "\\mathbf{C} =\n",
    "\\begin{bmatrix}\n",
    "C_{11} & C_{12} & \\dots  & C_{1n}\\\\\n",
    "C_{21} & C_{22} & \\dots  & C_{2n}\\\\\n",
    "\\vdots  & \\vdots  & \\ddots & \\vdots \\\\\n",
    "C_{n1} & C_{n2} & \\dots  & C_{nn}\n",
    "\\end{bmatrix}\n",
    "$$"
   ]
  },
  {
   "cell_type": "markdown",
   "metadata": {},
   "source": [
    "#### Determinant\n",
    "The determinant of a $2\\times 2$ matrix is:\n",
    "$\n",
    "\\begin{vmatrix}\n",
    "a_{11} & a_{12}\\\\\n",
    "a_{21} & a_{22}\n",
    "\\end{vmatrix}\n",
    "= a_{11}a_{22} - a_{12}a_{21}.\n",
    "$\n",
    "\n",
    "To calculate the determinant of the matrix $\\mathbf{A}$ $(n\\times n)$ (denoted $|\\mathbf{A}|$), use the Laplace formula (a recursion with the base case of $n=2$):\n",
    "\n",
    "$$\\det(\\mathbf{A}) = |\\mathbf{A}| = \\sum_{i=1}^n a_{ij}(-1)^{i+j}M_{ij} = \\sum_{i=1}^n a_{ij}C_{ij}$$\n",
    "where: $i, j \\in \\{1,2,3,...,n\\}$.\n",
    "\n",
    "To calculate the determinant of a square matrix, use the `numpy.linalg.det()` function."
   ]
  },
  {
   "cell_type": "code",
   "execution_count": 61,
   "metadata": {
    "execution": {
     "iopub.execute_input": "2021-07-11T16:30:04.375020Z",
     "iopub.status.busy": "2021-07-11T16:30:04.375020Z",
     "iopub.status.idle": "2021-07-11T16:30:04.389980Z",
     "shell.execute_reply": "2021-07-11T16:30:04.388984Z",
     "shell.execute_reply.started": "2021-07-11T16:30:04.375020Z"
    }
   },
   "outputs": [],
   "source": [
    "import numpy as np"
   ]
  },
  {
   "cell_type": "code",
   "execution_count": 62,
   "metadata": {
    "execution": {
     "iopub.execute_input": "2021-07-11T16:30:04.391975Z",
     "iopub.status.busy": "2021-07-11T16:30:04.390978Z",
     "iopub.status.idle": "2021-07-11T16:30:04.405938Z",
     "shell.execute_reply": "2021-07-11T16:30:04.404942Z",
     "shell.execute_reply.started": "2021-07-11T16:30:04.391975Z"
    }
   },
   "outputs": [
    {
     "data": {
      "text/plain": [
       "array([[6, 1, 4, 4, 8],\n",
       "       [4, 6, 3, 5, 8],\n",
       "       [7, 9, 9, 2, 7],\n",
       "       [8, 8, 9, 2, 6],\n",
       "       [9, 5, 4, 1, 4]])"
      ]
     },
     "execution_count": 62,
     "metadata": {},
     "output_type": "execute_result"
    }
   ],
   "source": [
    "np.random.seed(0)\n",
    "A = np.random.randint(1, 10, (5,5))\n",
    "A"
   ]
  },
  {
   "cell_type": "code",
   "execution_count": 63,
   "metadata": {
    "execution": {
     "iopub.execute_input": "2021-07-11T16:30:04.407932Z",
     "iopub.status.busy": "2021-07-11T16:30:04.406937Z",
     "iopub.status.idle": "2021-07-11T16:30:04.436856Z",
     "shell.execute_reply": "2021-07-11T16:30:04.435858Z",
     "shell.execute_reply.started": "2021-07-11T16:30:04.407932Z"
    }
   },
   "outputs": [
    {
     "data": {
      "text/plain": [
       "-1553.0000000000011"
      ]
     },
     "execution_count": 63,
     "metadata": {},
     "output_type": "execute_result"
    }
   ],
   "source": [
    "np.linalg.det(A)"
   ]
  },
  {
   "cell_type": "markdown",
   "metadata": {},
   "source": [
    "#### Inverse\n",
    "The inverse of the square matrix $\\mathbf{A}$ $(n\\times n)$ is denoted $\\mathbf{A}^{-1}$ and satisfies $\\mathbf{A} \\cdot \\mathbf{A}^{-1} = \\mathbf{I}_n$ where $\\mathbf{I}_n$ is the unit matrix. $\\mathbf{A}$ is invertible only if $|\\mathbf{A}| \\ne 0$. The formula for inversion is:\n",
    "\n",
    "$$\\mathbf{A}^{-1} = \\frac{1}{|\\mathbf{A}|}C^T$$\n",
    "\n",
    "To calcualate the inverse of a square matrix, use the `numpy.linalg.inv()` function."
   ]
  },
  {
   "cell_type": "code",
   "execution_count": 64,
   "metadata": {
    "execution": {
     "iopub.execute_input": "2021-07-11T16:30:04.438850Z",
     "iopub.status.busy": "2021-07-11T16:30:04.438850Z",
     "iopub.status.idle": "2021-07-11T16:30:04.451816Z",
     "shell.execute_reply": "2021-07-11T16:30:04.450819Z",
     "shell.execute_reply.started": "2021-07-11T16:30:04.438850Z"
    }
   },
   "outputs": [
    {
     "data": {
      "text/plain": [
       "array([[-24.,  18.,   5.],\n",
       "       [ 20., -15.,  -4.],\n",
       "       [ -5.,   4.,   1.]])"
      ]
     },
     "execution_count": 64,
     "metadata": {},
     "output_type": "execute_result"
    }
   ],
   "source": [
    "A = np.array([[1, 2, 3],\n",
    "              [0, 1, 4],\n",
    "              [5, 6, 0]])\n",
    "np.linalg.inv(A)"
   ]
  },
  {
   "cell_type": "markdown",
   "metadata": {},
   "source": [
    "Let's check if the dot product of $\\mathbf{A}$ and $\\mathbf{A}^{-1}$ is an identity matrix."
   ]
  },
  {
   "cell_type": "code",
   "execution_count": 65,
   "metadata": {
    "execution": {
     "iopub.execute_input": "2021-07-11T16:30:04.452812Z",
     "iopub.status.busy": "2021-07-11T16:30:04.452812Z",
     "iopub.status.idle": "2021-07-11T16:30:04.467787Z",
     "shell.execute_reply": "2021-07-11T16:30:04.466775Z",
     "shell.execute_reply.started": "2021-07-11T16:30:04.452812Z"
    }
   },
   "outputs": [
    {
     "data": {
      "text/plain": [
       "array([[1, 0, 0],\n",
       "       [0, 1, 0],\n",
       "       [0, 0, 1]])"
      ]
     },
     "execution_count": 65,
     "metadata": {},
     "output_type": "execute_result"
    }
   ],
   "source": [
    "A @ np.linalg.inv(A).astype(int)"
   ]
  },
  {
   "cell_type": "markdown",
   "metadata": {},
   "source": [
    "## 2.6. Eigenvalues and eigenvectors"
   ]
  },
  {
   "cell_type": "markdown",
   "metadata": {},
   "source": [
    "#### Calculating\n",
    "Eigenvalues and eigenvectors are defined only for square matrices. Each eigenvalue $(\\lambda)$ and a corresponding eigenvector $(\\mathbf{x})$ of the square matrix $\\mathbf{A}$ satisfies: $\\mathbf{A}\\mathbf{x} = \\lambda \\mathbf{x}$. To find eigenvalues and eigenvectors:\n",
    "- Solve the equation: $|\\mathbf{A} - \\lambda \\mathbf{I}| = \\mathbf{0}$ (called the characteristic equation) for $\\lambda$.\n",
    "- For each value of $\\lambda$ found, you can either solve the equation $(\\mathbf{A}-\\lambda)\\mathbf{x}=\\mathbf{0}$ or use Gaussian elimination to convert the augmented matrix $(\\mathbf{A} - \\lambda \\mathbf{I}|0)$ to echelon form then solve it as a system of linear equations.  \n",
    "Note that there are an infinite number of linear dependent eigenvectors associated with a single eigenvalue.\n",
    "\n",
    "To find eigenvalues and eigenvectors of a matrix, use the `numpy.linalg.eig()` function."
   ]
  },
  {
   "cell_type": "code",
   "execution_count": 66,
   "metadata": {
    "execution": {
     "iopub.execute_input": "2021-07-11T16:30:04.469767Z",
     "iopub.status.busy": "2021-07-11T16:30:04.468770Z",
     "iopub.status.idle": "2021-07-11T16:30:04.482733Z",
     "shell.execute_reply": "2021-07-11T16:30:04.481735Z",
     "shell.execute_reply.started": "2021-07-11T16:30:04.469767Z"
    }
   },
   "outputs": [],
   "source": [
    "import numpy as np"
   ]
  },
  {
   "cell_type": "code",
   "execution_count": 67,
   "metadata": {
    "execution": {
     "iopub.execute_input": "2021-07-11T16:30:04.484729Z",
     "iopub.status.busy": "2021-07-11T16:30:04.483729Z",
     "iopub.status.idle": "2021-07-11T16:30:04.514648Z",
     "shell.execute_reply": "2021-07-11T16:30:04.513650Z",
     "shell.execute_reply.started": "2021-07-11T16:30:04.484729Z"
    }
   },
   "outputs": [],
   "source": [
    "A = np.array([[1, -1, 3],\n",
    "              [1, 2, 6],\n",
    "              [3, 8, 9]])\n",
    "eigenvalues, eigenvectors = np.linalg.eig(A)"
   ]
  },
  {
   "cell_type": "code",
   "execution_count": 68,
   "metadata": {
    "execution": {
     "iopub.execute_input": "2021-07-11T16:30:04.516643Z",
     "iopub.status.busy": "2021-07-11T16:30:04.516643Z",
     "iopub.status.idle": "2021-07-11T16:30:04.530604Z",
     "shell.execute_reply": "2021-07-11T16:30:04.529608Z",
     "shell.execute_reply.started": "2021-07-11T16:30:04.516643Z"
    }
   },
   "outputs": [
    {
     "data": {
      "text/plain": [
       "array([13.78499146,  0.89368918, -2.67868064])"
      ]
     },
     "execution_count": 68,
     "metadata": {},
     "output_type": "execute_result"
    }
   ],
   "source": [
    "eigenvalues"
   ]
  },
  {
   "cell_type": "code",
   "execution_count": 69,
   "metadata": {
    "execution": {
     "iopub.execute_input": "2021-07-11T16:30:04.532600Z",
     "iopub.status.busy": "2021-07-11T16:30:04.531602Z",
     "iopub.status.idle": "2021-07-11T16:30:04.546562Z",
     "shell.execute_reply": "2021-07-11T16:30:04.545565Z",
     "shell.execute_reply.started": "2021-07-11T16:30:04.532600Z"
    }
   },
   "outputs": [
    {
     "data": {
      "text/plain": [
       "12.000000000000002"
      ]
     },
     "execution_count": 69,
     "metadata": {},
     "output_type": "execute_result"
    }
   ],
   "source": [
    "sum(eigenvalues)"
   ]
  },
  {
   "cell_type": "code",
   "execution_count": 70,
   "metadata": {
    "execution": {
     "iopub.execute_input": "2021-07-11T16:30:04.548556Z",
     "iopub.status.busy": "2021-07-11T16:30:04.547559Z",
     "iopub.status.idle": "2021-07-11T16:30:04.562519Z",
     "shell.execute_reply": "2021-07-11T16:30:04.561521Z",
     "shell.execute_reply.started": "2021-07-11T16:30:04.547559Z"
    }
   },
   "outputs": [
    {
     "data": {
      "text/plain": [
       "array([[-0.16886442, -0.96285973, -0.6049786 ],\n",
       "       [-0.4585313 ,  0.2440628 , -0.57587235],\n",
       "       [-0.87248717,  0.11547507,  0.54988357]])"
      ]
     },
     "execution_count": 70,
     "metadata": {},
     "output_type": "execute_result"
    }
   ],
   "source": [
    "eigenvectors\n",
    "# each column is an eigenvector"
   ]
  },
  {
   "cell_type": "code",
   "execution_count": 71,
   "metadata": {
    "execution": {
     "iopub.execute_input": "2021-07-11T16:30:04.564516Z",
     "iopub.status.busy": "2021-07-11T16:30:04.563516Z",
     "iopub.status.idle": "2021-07-11T16:30:04.578476Z",
     "shell.execute_reply": "2021-07-11T16:30:04.577480Z",
     "shell.execute_reply.started": "2021-07-11T16:30:04.564516Z"
    }
   },
   "outputs": [
    {
     "data": {
      "text/plain": [
       "array([-0.16886442, -0.4585313 , -0.87248717])"
      ]
     },
     "execution_count": 71,
     "metadata": {},
     "output_type": "execute_result"
    }
   ],
   "source": [
    "eigenvectors[:, 0]"
   ]
  },
  {
   "cell_type": "markdown",
   "metadata": {},
   "source": [
    "Now calculate the value of $\\mathbf{A}\\mathbf{x}$ and $\\lambda \\mathbf{x}$ and check if they are equal."
   ]
  },
  {
   "cell_type": "code",
   "execution_count": 72,
   "metadata": {
    "execution": {
     "iopub.execute_input": "2021-07-11T16:30:04.581470Z",
     "iopub.status.busy": "2021-07-11T16:30:04.580472Z",
     "iopub.status.idle": "2021-07-11T16:30:04.594435Z",
     "shell.execute_reply": "2021-07-11T16:30:04.593443Z",
     "shell.execute_reply.started": "2021-07-11T16:30:04.581470Z"
    }
   },
   "outputs": [
    {
     "data": {
      "text/plain": [
       "array([ -2.32779463,  -6.32085002, -12.02722815])"
      ]
     },
     "execution_count": 72,
     "metadata": {},
     "output_type": "execute_result"
    }
   ],
   "source": [
    "A @ eigenvectors[:,0]"
   ]
  },
  {
   "cell_type": "code",
   "execution_count": 73,
   "metadata": {
    "execution": {
     "iopub.execute_input": "2021-07-11T16:30:04.596430Z",
     "iopub.status.busy": "2021-07-11T16:30:04.596430Z",
     "iopub.status.idle": "2021-07-11T16:30:04.610392Z",
     "shell.execute_reply": "2021-07-11T16:30:04.609394Z",
     "shell.execute_reply.started": "2021-07-11T16:30:04.596430Z"
    }
   },
   "outputs": [
    {
     "data": {
      "text/plain": [
       "array([ -2.32779463,  -6.32085002, -12.02722815])"
      ]
     },
     "execution_count": 73,
     "metadata": {},
     "output_type": "execute_result"
    }
   ],
   "source": [
    "eigenvalues[0] * eigenvectors[:,0]"
   ]
  },
  {
   "cell_type": "markdown",
   "metadata": {},
   "source": [
    "#### Propreties\n",
    "Here are some properties of eigenvalues, you can check them using NumPy:\n",
    "- The sum of all eigenvalues is the same as the trace of $\\mathbf{A}$.\n",
    "- The product of all eigenvalues is the same as the determinant of $\\mathbf{A}$.\n",
    "- The number of eigenvalues equals to the rank of $\\mathbf{A}$.\n",
    "- $\\mathbf{A}$ and $\\mathbf{A}^T$ have the same set of eigenvalues."
   ]
  },
  {
   "cell_type": "markdown",
   "metadata": {},
   "source": [
    "---\n",
    "*&#9829; By Quang Hung x Thuy Linh &#9829;*"
   ]
  }
 ],
 "metadata": {
  "colab": {
   "name": "lecture6.ipynb",
   "provenance": [],
   "version": "0.3.2"
  },
  "kernelspec": {
   "display_name": "Python 3",
   "language": "python",
   "name": "python3"
  },
  "language_info": {
   "codemirror_mode": {
    "name": "ipython",
    "version": 3
   },
   "file_extension": ".py",
   "mimetype": "text/x-python",
   "name": "python",
   "nbconvert_exporter": "python",
   "pygments_lexer": "ipython3",
   "version": "3.8.3"
  },
  "toc-autonumbering": false
 },
 "nbformat": 4,
 "nbformat_minor": 4
}
