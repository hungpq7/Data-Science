{
 "cells": [
  {
   "cell_type": "markdown",
   "metadata": {},
   "source": [
    "# 1. Descriptive statisics"
   ]
  },
  {
   "cell_type": "markdown",
   "metadata": {},
   "source": [
    "## 1.1. Basic statistics"
   ]
  },
  {
   "cell_type": "code",
   "execution_count": 1,
   "metadata": {
    "execution": {
     "iopub.execute_input": "2021-07-11T16:30:36.335270Z",
     "iopub.status.busy": "2021-07-11T16:30:36.334269Z",
     "iopub.status.idle": "2021-07-11T16:30:36.567373Z",
     "shell.execute_reply": "2021-07-11T16:30:36.566374Z",
     "shell.execute_reply.started": "2021-07-11T16:30:36.335270Z"
    }
   },
   "outputs": [],
   "source": [
    "import numpy as np"
   ]
  },
  {
   "cell_type": "code",
   "execution_count": 2,
   "metadata": {
    "execution": {
     "iopub.execute_input": "2021-07-11T16:30:36.569365Z",
     "iopub.status.busy": "2021-07-11T16:30:36.569365Z",
     "iopub.status.idle": "2021-07-11T16:30:36.599286Z",
     "shell.execute_reply": "2021-07-11T16:30:36.598287Z",
     "shell.execute_reply.started": "2021-07-11T16:30:36.569365Z"
    }
   },
   "outputs": [
    {
     "data": {
      "text/plain": [
       "array([784, 659, 729, 292, 935, 863, 807, 459, 109, 823, 377, 854, 904,\n",
       "       699, 170, 572, 700, 496, 414, 805, 586, 651, 187, 274, 700, 949,\n",
       "       777, 637, 945, 172, 877, 215, 855, 809, 947, 531, 548, 950, 199,\n",
       "       277, 855, 897, 759, 247, 523, 388, 365, 797, 739, 644, 643, 814,\n",
       "       344, 251, 775, 610, 559, 982, 283, 128, 902, 228, 228, 153, 650,\n",
       "       588, 856, 373, 435, 488, 717, 142, 542, 643, 988, 357, 421, 157,\n",
       "       391, 970, 219, 879, 530, 182, 191, 996, 498, 711, 665, 733, 184,\n",
       "       303, 424, 874, 147, 739, 231, 968, 280, 946])"
      ]
     },
     "execution_count": 2,
     "metadata": {},
     "output_type": "execute_result"
    }
   ],
   "source": [
    "np.random.seed(0)\n",
    "sample = np.random.randint(100, 1000, size=100)\n",
    "sample"
   ]
  },
  {
   "cell_type": "code",
   "execution_count": 3,
   "metadata": {
    "execution": {
     "iopub.execute_input": "2021-07-11T16:30:36.603275Z",
     "iopub.status.busy": "2021-07-11T16:30:36.603275Z",
     "iopub.status.idle": "2021-07-11T16:30:36.614247Z",
     "shell.execute_reply": "2021-07-11T16:30:36.613249Z",
     "shell.execute_reply.started": "2021-07-11T16:30:36.603275Z"
    }
   },
   "outputs": [
    {
     "data": {
      "text/plain": [
       "109"
      ]
     },
     "execution_count": 3,
     "metadata": {},
     "output_type": "execute_result"
    }
   ],
   "source": [
    "sample.min()"
   ]
  },
  {
   "cell_type": "code",
   "execution_count": 4,
   "metadata": {
    "execution": {
     "iopub.execute_input": "2021-07-11T16:30:36.618236Z",
     "iopub.status.busy": "2021-07-11T16:30:36.617238Z",
     "iopub.status.idle": "2021-07-11T16:30:36.630202Z",
     "shell.execute_reply": "2021-07-11T16:30:36.629205Z",
     "shell.execute_reply.started": "2021-07-11T16:30:36.618236Z"
    }
   },
   "outputs": [
    {
     "data": {
      "text/plain": [
       "996"
      ]
     },
     "execution_count": 4,
     "metadata": {},
     "output_type": "execute_result"
    }
   ],
   "source": [
    "sample.max()"
   ]
  },
  {
   "cell_type": "markdown",
   "metadata": {},
   "source": [
    "The mean (denoted $\\mu$) or the expected value (denoted $E[\\mathbf{x}]$) of a variable $\\mathbf{x}=(x_1,x_2,\\dots, x_n)$ is calculated by the formula:\n",
    "\n",
    "$$\\mu = \\frac{1}{n} \\sum_{i=1}^{n}{x_i}$$"
   ]
  },
  {
   "cell_type": "code",
   "execution_count": 5,
   "metadata": {
    "execution": {
     "iopub.execute_input": "2021-07-11T16:30:36.632198Z",
     "iopub.status.busy": "2021-07-11T16:30:36.632198Z",
     "iopub.status.idle": "2021-07-11T16:30:36.645163Z",
     "shell.execute_reply": "2021-07-11T16:30:36.644166Z",
     "shell.execute_reply.started": "2021-07-11T16:30:36.632198Z"
    }
   },
   "outputs": [
    {
     "data": {
      "text/plain": [
       "57069"
      ]
     },
     "execution_count": 5,
     "metadata": {},
     "output_type": "execute_result"
    }
   ],
   "source": [
    "sample.sum()"
   ]
  },
  {
   "cell_type": "code",
   "execution_count": 6,
   "metadata": {
    "execution": {
     "iopub.execute_input": "2021-07-11T16:30:36.647157Z",
     "iopub.status.busy": "2021-07-11T16:30:36.647157Z",
     "iopub.status.idle": "2021-07-11T16:30:36.661118Z",
     "shell.execute_reply": "2021-07-11T16:30:36.660122Z",
     "shell.execute_reply.started": "2021-07-11T16:30:36.647157Z"
    }
   },
   "outputs": [
    {
     "data": {
      "text/plain": [
       "570.69"
      ]
     },
     "execution_count": 6,
     "metadata": {},
     "output_type": "execute_result"
    }
   ],
   "source": [
    "sample.mean()"
   ]
  },
  {
   "cell_type": "markdown",
   "metadata": {},
   "source": [
    "## 1.2. Variance\n",
    "$$\\sigma^2 = \\frac{1}{n}\\sum_{i=1}^n{(x_i - \\mu)}^2$$\n",
    "where:\n",
    "- $\\sigma$: standard deviation\n",
    "- $\\sigma^2$: variance\n",
    "- $\\mu$: mean\n",
    "- $n$: sample size\n",
    "- $x_i$: observation number $i$"
   ]
  },
  {
   "cell_type": "code",
   "execution_count": 7,
   "metadata": {
    "execution": {
     "iopub.execute_input": "2021-07-11T16:30:36.662117Z",
     "iopub.status.busy": "2021-07-11T16:30:36.662117Z",
     "iopub.status.idle": "2021-07-11T16:30:36.678075Z",
     "shell.execute_reply": "2021-07-11T16:30:36.676080Z",
     "shell.execute_reply.started": "2021-07-11T16:30:36.662117Z"
    }
   },
   "outputs": [],
   "source": [
    "import numpy as np"
   ]
  },
  {
   "cell_type": "code",
   "execution_count": 8,
   "metadata": {
    "execution": {
     "iopub.execute_input": "2021-07-11T16:30:36.685056Z",
     "iopub.status.busy": "2021-07-11T16:30:36.684059Z",
     "iopub.status.idle": "2021-07-11T16:30:36.709003Z",
     "shell.execute_reply": "2021-07-11T16:30:36.707994Z",
     "shell.execute_reply.started": "2021-07-11T16:30:36.685056Z"
    }
   },
   "outputs": [
    {
     "data": {
      "text/plain": [
       "array([784, 659, 729, 292, 935, 863, 807, 459, 109, 823, 377, 854, 904,\n",
       "       699, 170, 572, 700, 496, 414, 805, 586, 651, 187, 274, 700, 949,\n",
       "       777, 637, 945, 172, 877, 215, 855, 809, 947, 531, 548, 950, 199,\n",
       "       277, 855, 897, 759, 247, 523, 388, 365, 797, 739, 644, 643, 814,\n",
       "       344, 251, 775, 610, 559, 982, 283, 128, 902, 228, 228, 153, 650,\n",
       "       588, 856, 373, 435, 488, 717, 142, 542, 643, 988, 357, 421, 157,\n",
       "       391, 970, 219, 879, 530, 182, 191, 996, 498, 711, 665, 733, 184,\n",
       "       303, 424, 874, 147, 739, 231, 968, 280, 946])"
      ]
     },
     "execution_count": 8,
     "metadata": {},
     "output_type": "execute_result"
    }
   ],
   "source": [
    "np.random.seed(0)\n",
    "sample = np.random.randint(100, 1000, size=100)\n",
    "sample"
   ]
  },
  {
   "cell_type": "code",
   "execution_count": 9,
   "metadata": {
    "execution": {
     "iopub.execute_input": "2021-07-11T16:30:36.711988Z",
     "iopub.status.busy": "2021-07-11T16:30:36.710987Z",
     "iopub.status.idle": "2021-07-11T16:30:36.724949Z",
     "shell.execute_reply": "2021-07-11T16:30:36.723952Z",
     "shell.execute_reply.started": "2021-07-11T16:30:36.711988Z"
    }
   },
   "outputs": [
    {
     "data": {
      "text/plain": [
       "270.7422647094465"
      ]
     },
     "execution_count": 9,
     "metadata": {},
     "output_type": "execute_result"
    }
   ],
   "source": [
    "# standard deviation\n",
    "sample.std()"
   ]
  },
  {
   "cell_type": "code",
   "execution_count": 10,
   "metadata": {
    "execution": {
     "iopub.execute_input": "2021-07-11T16:30:36.726944Z",
     "iopub.status.busy": "2021-07-11T16:30:36.726944Z",
     "iopub.status.idle": "2021-07-11T16:30:36.740908Z",
     "shell.execute_reply": "2021-07-11T16:30:36.739908Z",
     "shell.execute_reply.started": "2021-07-11T16:30:36.726944Z"
    }
   },
   "outputs": [
    {
     "data": {
      "text/plain": [
       "73301.37389999999"
      ]
     },
     "execution_count": 10,
     "metadata": {},
     "output_type": "execute_result"
    }
   ],
   "source": [
    "# variance\n",
    "sample.var()"
   ]
  },
  {
   "cell_type": "markdown",
   "metadata": {},
   "source": [
    "#### Variance and mean\n",
    "You can calculate the variance using the mean:\n",
    "$$\\sigma^2 = E[(\\mathbf{x} - E[\\mathbf{x}])^2] = E[\\mathbf{x}^2] - E[\\mathbf{x}]^2$$"
   ]
  },
  {
   "cell_type": "code",
   "execution_count": 11,
   "metadata": {
    "execution": {
     "iopub.execute_input": "2021-07-11T16:30:36.742903Z",
     "iopub.status.busy": "2021-07-11T16:30:36.741905Z",
     "iopub.status.idle": "2021-07-11T16:30:36.773819Z",
     "shell.execute_reply": "2021-07-11T16:30:36.771824Z",
     "shell.execute_reply.started": "2021-07-11T16:30:36.742903Z"
    }
   },
   "outputs": [
    {
     "data": {
      "text/plain": [
       "73301.37389999995"
      ]
     },
     "execution_count": 11,
     "metadata": {},
     "output_type": "execute_result"
    }
   ],
   "source": [
    "np.mean(sample**2) - np.mean(sample)**2"
   ]
  },
  {
   "cell_type": "markdown",
   "metadata": {},
   "source": [
    "#### Visualization of variance\n",
    "Standard deviation and variance show how spread out numbers are."
   ]
  },
  {
   "cell_type": "code",
   "execution_count": 12,
   "metadata": {
    "execution": {
     "iopub.execute_input": "2021-07-11T16:30:36.775814Z",
     "iopub.status.busy": "2021-07-11T16:30:36.775814Z",
     "iopub.status.idle": "2021-07-11T16:30:39.773781Z",
     "shell.execute_reply": "2021-07-11T16:30:39.772791Z",
     "shell.execute_reply.started": "2021-07-11T16:30:36.775814Z"
    }
   },
   "outputs": [
    {
     "data": {
      "image/png": "[encoded data removed]",
      "text/plain": [
       "<Figure size 576x864 with 2 Axes>"
      ]
     },
     "metadata": {},
     "output_type": "display_data"
    }
   ],
   "source": [
    "import numpy as np\n",
    "import matplotlib.pyplot as plt\n",
    "import seaborn as sns; sns.set_style('whitegrid')\n",
    "\n",
    "fig, ax = plt.subplots(nrows=2, sharex=True, figsize=(8,12))\n",
    "\n",
    "std_1 = 50\n",
    "sample_1 = np.random.normal(loc=0, scale=std_1, size=10000)\n",
    "sns.distplot(sample_1, bins=100, ax=ax[0], color='darkred')\n",
    "ax[0].set_title(f'Standard deviation = {std_1}')\n",
    "\n",
    "std_2 = 10\n",
    "sample_2 = np.random.normal(loc=0, scale=std_2, size=10000)\n",
    "sns.distplot(sample_2, bins=100, ax=ax[1])\n",
    "ax[1].set_title(f'Standard deviation = {std_2}')\n",
    "\n",
    "plt.show()"
   ]
  },
  {
   "cell_type": "markdown",
   "metadata": {},
   "source": [
    "## 1.3. Skewness and kurtosis"
   ]
  },
  {
   "cell_type": "code",
   "execution_count": 13,
   "metadata": {
    "execution": {
     "iopub.execute_input": "2021-07-11T16:30:39.775776Z",
     "iopub.status.busy": "2021-07-11T16:30:39.775776Z",
     "iopub.status.idle": "2021-07-11T16:30:39.789737Z",
     "shell.execute_reply": "2021-07-11T16:30:39.788773Z",
     "shell.execute_reply.started": "2021-07-11T16:30:39.775776Z"
    }
   },
   "outputs": [],
   "source": [
    "import numpy as np"
   ]
  },
  {
   "cell_type": "code",
   "execution_count": 14,
   "metadata": {
    "execution": {
     "iopub.execute_input": "2021-07-11T16:30:39.791734Z",
     "iopub.status.busy": "2021-07-11T16:30:39.790735Z",
     "iopub.status.idle": "2021-07-11T16:30:39.805696Z",
     "shell.execute_reply": "2021-07-11T16:30:39.804700Z",
     "shell.execute_reply.started": "2021-07-11T16:30:39.791734Z"
    }
   },
   "outputs": [
    {
     "data": {
      "text/plain": [
       "array([784, 659, 729, 292, 935, 863, 807, 459, 109, 823, 377, 854, 904,\n",
       "       699, 170, 572, 700, 496, 414, 805, 586, 651, 187, 274, 700, 949,\n",
       "       777, 637, 945, 172, 877, 215, 855, 809, 947, 531, 548, 950, 199,\n",
       "       277, 855, 897, 759, 247, 523, 388, 365, 797, 739, 644, 643, 814,\n",
       "       344, 251, 775, 610, 559, 982, 283, 128, 902, 228, 228, 153, 650,\n",
       "       588, 856, 373, 435, 488, 717, 142, 542, 643, 988, 357, 421, 157,\n",
       "       391, 970, 219, 879, 530, 182, 191, 996, 498, 711, 665, 733, 184,\n",
       "       303, 424, 874, 147, 739, 231, 968, 280, 946])"
      ]
     },
     "execution_count": 14,
     "metadata": {},
     "output_type": "execute_result"
    }
   ],
   "source": [
    "np.random.seed(0)\n",
    "sample = np.random.randint(100, 1000, size=100)\n",
    "sample"
   ]
  },
  {
   "cell_type": "code",
   "execution_count": 15,
   "metadata": {
    "execution": {
     "iopub.execute_input": "2021-07-11T16:30:39.809686Z",
     "iopub.status.busy": "2021-07-11T16:30:39.808688Z",
     "iopub.status.idle": "2021-07-11T16:30:39.837610Z",
     "shell.execute_reply": "2021-07-11T16:30:39.836613Z",
     "shell.execute_reply.started": "2021-07-11T16:30:39.809686Z"
    }
   },
   "outputs": [],
   "source": [
    "from scipy.stats import skew, kurtosis"
   ]
  },
  {
   "cell_type": "code",
   "execution_count": 16,
   "metadata": {
    "execution": {
     "iopub.execute_input": "2021-07-11T16:30:39.839605Z",
     "iopub.status.busy": "2021-07-11T16:30:39.838607Z",
     "iopub.status.idle": "2021-07-11T16:30:39.853567Z",
     "shell.execute_reply": "2021-07-11T16:30:39.852571Z",
     "shell.execute_reply.started": "2021-07-11T16:30:39.839605Z"
    }
   },
   "outputs": [
    {
     "data": {
      "text/plain": [
       "-0.12953305970290993"
      ]
     },
     "execution_count": 16,
     "metadata": {},
     "output_type": "execute_result"
    }
   ],
   "source": [
    "skew(sample)"
   ]
  },
  {
   "cell_type": "code",
   "execution_count": 17,
   "metadata": {
    "execution": {
     "iopub.execute_input": "2021-07-11T16:30:39.855562Z",
     "iopub.status.busy": "2021-07-11T16:30:39.854564Z",
     "iopub.status.idle": "2021-07-11T16:30:39.884484Z",
     "shell.execute_reply": "2021-07-11T16:30:39.883487Z",
     "shell.execute_reply.started": "2021-07-11T16:30:39.855562Z"
    }
   },
   "outputs": [
    {
     "data": {
      "text/plain": [
       "-1.3208069262436632"
      ]
     },
     "execution_count": 17,
     "metadata": {},
     "output_type": "execute_result"
    }
   ],
   "source": [
    "kurtosis(sample)"
   ]
  },
  {
   "cell_type": "markdown",
   "metadata": {},
   "source": [
    "For a normal distribution sample, skewness and kurtosis equals 0."
   ]
  },
  {
   "cell_type": "code",
   "execution_count": 18,
   "metadata": {
    "execution": {
     "iopub.execute_input": "2021-07-11T16:30:39.886480Z",
     "iopub.status.busy": "2021-07-11T16:30:39.885482Z",
     "iopub.status.idle": "2021-07-11T16:30:39.995187Z",
     "shell.execute_reply": "2021-07-11T16:30:39.995187Z",
     "shell.execute_reply.started": "2021-07-11T16:30:39.886480Z"
    }
   },
   "outputs": [
    {
     "name": "stdout",
     "output_type": "stream",
     "text": [
      "Skewness = -0.001361127398332973\n",
      "Kurtosis = -0.0001276636003777476\n"
     ]
    }
   ],
   "source": [
    "np.random.seed(0)\n",
    "normal = np.random.normal(0, 1, 1000000)\n",
    "print(f'Skewness = {skew(normal)}')\n",
    "print(f'Kurtosis = {kurtosis(normal)}')"
   ]
  },
  {
   "cell_type": "markdown",
   "metadata": {},
   "source": [
    "## 1.4. Quantiles\n",
    "Quantiles are the $q-1$ cut points dividing a set of values into $q$ subsets of equal probability. Some common $q$-quantiles are median (2-quantile), quartiles (4-quantiles), deciles (10-quantiles) and percentiles (100-quantiles)."
   ]
  },
  {
   "cell_type": "code",
   "execution_count": 19,
   "metadata": {
    "execution": {
     "iopub.execute_input": "2021-07-11T16:30:39.998180Z",
     "iopub.status.busy": "2021-07-11T16:30:39.997183Z",
     "iopub.status.idle": "2021-07-11T16:30:40.012143Z",
     "shell.execute_reply": "2021-07-11T16:30:40.011146Z",
     "shell.execute_reply.started": "2021-07-11T16:30:39.998180Z"
    }
   },
   "outputs": [],
   "source": [
    "import numpy as np"
   ]
  },
  {
   "cell_type": "code",
   "execution_count": 20,
   "metadata": {
    "execution": {
     "iopub.execute_input": "2021-07-11T16:30:40.015135Z",
     "iopub.status.busy": "2021-07-11T16:30:40.014139Z",
     "iopub.status.idle": "2021-07-11T16:30:40.028103Z",
     "shell.execute_reply": "2021-07-11T16:30:40.027103Z",
     "shell.execute_reply.started": "2021-07-11T16:30:40.015135Z"
    }
   },
   "outputs": [
    {
     "data": {
      "text/plain": [
       "array([784, 659, 729, 292, 935, 863, 807, 459, 109, 823, 377, 854, 904,\n",
       "       699, 170, 572, 700, 496, 414, 805, 586, 651, 187, 274, 700, 949,\n",
       "       777, 637, 945, 172, 877, 215, 855, 809, 947, 531, 548, 950, 199,\n",
       "       277, 855, 897, 759, 247, 523, 388, 365, 797, 739, 644, 643, 814,\n",
       "       344, 251, 775, 610, 559, 982, 283, 128, 902, 228, 228, 153, 650,\n",
       "       588, 856, 373, 435, 488, 717, 142, 542, 643, 988, 357, 421, 157,\n",
       "       391, 970, 219, 879, 530, 182, 191, 996, 498, 711, 665, 733, 184,\n",
       "       303, 424, 874, 147, 739, 231, 968, 280, 946])"
      ]
     },
     "execution_count": 20,
     "metadata": {},
     "output_type": "execute_result"
    }
   ],
   "source": [
    "np.random.seed(0)\n",
    "sample = np.random.randint(100, 1000, size=100)\n",
    "sample"
   ]
  },
  {
   "cell_type": "markdown",
   "metadata": {},
   "source": [
    "#### Median\n",
    "There are 50% of data points smaller the median and 50% of data point greater than the median."
   ]
  },
  {
   "cell_type": "code",
   "execution_count": 21,
   "metadata": {
    "execution": {
     "iopub.execute_input": "2021-07-11T16:30:40.030096Z",
     "iopub.status.busy": "2021-07-11T16:30:40.029100Z",
     "iopub.status.idle": "2021-07-11T16:30:40.044059Z",
     "shell.execute_reply": "2021-07-11T16:30:40.043063Z",
     "shell.execute_reply.started": "2021-07-11T16:30:40.030096Z"
    }
   },
   "outputs": [
    {
     "data": {
      "text/plain": [
       "599.0"
      ]
     },
     "execution_count": 21,
     "metadata": {},
     "output_type": "execute_result"
    }
   ],
   "source": [
    "np.median(sample)"
   ]
  },
  {
   "cell_type": "markdown",
   "metadata": {},
   "source": [
    "#### Quartiles\n",
    "$Q_1$, $Q_2$, $Q_3$ are the 3 quartiles that split our sample into 4 equal parts. There 25% of data points smaller than $Q_1$, 50% of the points smaller than $Q_2$ and 75% points smaller than $Q_3$. Notice that $Q_2$ is also known as the median."
   ]
  },
  {
   "cell_type": "code",
   "execution_count": 22,
   "metadata": {
    "execution": {
     "iopub.execute_input": "2021-07-11T16:30:40.049047Z",
     "iopub.status.busy": "2021-07-11T16:30:40.048055Z",
     "iopub.status.idle": "2021-07-11T16:30:40.074994Z",
     "shell.execute_reply": "2021-07-11T16:30:40.074014Z",
     "shell.execute_reply.started": "2021-07-11T16:30:40.049047Z"
    }
   },
   "outputs": [
    {
     "data": {
      "text/plain": [
       "array([300.25, 599.  , 807.5 ])"
      ]
     },
     "execution_count": 22,
     "metadata": {},
     "output_type": "execute_result"
    }
   ],
   "source": [
    "np.quantile(sample, [0.25, 0.5, 0.75])"
   ]
  },
  {
   "cell_type": "code",
   "execution_count": 23,
   "metadata": {
    "execution": {
     "iopub.execute_input": "2021-07-11T16:30:40.076970Z",
     "iopub.status.busy": "2021-07-11T16:30:40.075972Z",
     "iopub.status.idle": "2021-07-11T16:30:40.090933Z",
     "shell.execute_reply": "2021-07-11T16:30:40.089936Z",
     "shell.execute_reply.started": "2021-07-11T16:30:40.076970Z"
    }
   },
   "outputs": [],
   "source": [
    "# unpacking quartiles\n",
    "q1, q2, q3 = np.quantile(sample, [0.25, 0.5, 0.75])"
   ]
  },
  {
   "cell_type": "markdown",
   "metadata": {},
   "source": [
    "A box plot is used to visualize quartiles."
   ]
  },
  {
   "cell_type": "code",
   "execution_count": 24,
   "metadata": {
    "execution": {
     "iopub.execute_input": "2021-07-11T16:30:40.094923Z",
     "iopub.status.busy": "2021-07-11T16:30:40.093925Z",
     "iopub.status.idle": "2021-07-11T16:30:40.326138Z",
     "shell.execute_reply": "2021-07-11T16:30:40.326138Z",
     "shell.execute_reply.started": "2021-07-11T16:30:40.094923Z"
    }
   },
   "outputs": [
    {
     "data": {
      "image/png": "[encoded data removed]",
      "text/plain": [
       "<Figure size 432x288 with 1 Axes>"
      ]
     },
     "metadata": {},
     "output_type": "display_data"
    }
   ],
   "source": [
    "import matplotlib.pyplot as plt\n",
    "import seaborn as sns; sns.set_style('whitegrid')\n",
    "\n",
    "np.random.seed(0)\n",
    "sample = np.random.randint(100, 1000, size=100)\n",
    "q1, q2, q3 = np.quantile(sample, [0.25, 0.5, 0.75])\n",
    "\n",
    "_ = sns.boxplot(sample)"
   ]
  },
  {
   "cell_type": "markdown",
   "metadata": {},
   "source": [
    "#### Popular quantiles"
   ]
  },
  {
   "cell_type": "code",
   "execution_count": 25,
   "metadata": {
    "execution": {
     "iopub.execute_input": "2021-07-11T16:30:40.326138Z",
     "iopub.status.busy": "2021-07-11T16:30:40.326138Z",
     "iopub.status.idle": "2021-07-11T16:30:40.343389Z",
     "shell.execute_reply": "2021-07-11T16:30:40.341395Z",
     "shell.execute_reply.started": "2021-07-11T16:30:40.326138Z"
    }
   },
   "outputs": [
    {
     "data": {
      "text/plain": [
       "array([156.8, 186.7, 269.4, 855. , 936. , 950.9])"
      ]
     },
     "execution_count": 25,
     "metadata": {},
     "output_type": "execute_result"
    }
   ],
   "source": [
    "np.quantile(sample, [0.05, 0.1, 0.2, 0.8, 0.9, 0.95])"
   ]
  },
  {
   "cell_type": "markdown",
   "metadata": {},
   "source": [
    "## 1.5. Correlation coefficient"
   ]
  },
  {
   "cell_type": "markdown",
   "metadata": {},
   "source": [
    "#### Covariance\n",
    "First, we calculate the covariance (denoted $\\sigma_{\\mathbf{x},\\mathbf{y}}$) of bivariate data, which is a measure of joint variability.\n",
    "\n",
    "$$\\sigma_{\\mathbf{x},\\mathbf{y}} =\n",
    "\\frac{1}{n} \\sum_{i=1}^{n} {(x_i-\\mu_\\mathbf{x})\\cdot (y_i-\\mu_\\mathbf{y})} =\n",
    "E[(\\mathbf{x}-E[\\mathbf{x}])\\cdot(\\mathbf{y}-E[\\mathbf{y}])]\n",
    "$$\n",
    "\n",
    "where $E[\\mathbf{x}]$ or $E[\\mathbf{y}]$ is the expected value of the corresponding variable.\n",
    "\n",
    "The `numpy.cov()` function returns the covariance matrix of $n$ variables: $\\mathbf{x}_1,\\mathbf{x}_2,\\dots,\\mathbf{x}_n$."
   ]
  },
  {
   "cell_type": "code",
   "execution_count": 26,
   "metadata": {
    "execution": {
     "iopub.execute_input": "2021-07-11T16:30:40.351367Z",
     "iopub.status.busy": "2021-07-11T16:30:40.350371Z",
     "iopub.status.idle": "2021-07-11T16:30:40.360345Z",
     "shell.execute_reply": "2021-07-11T16:30:40.358352Z",
     "shell.execute_reply.started": "2021-07-11T16:30:40.351367Z"
    }
   },
   "outputs": [],
   "source": [
    "import numpy as np"
   ]
  },
  {
   "cell_type": "code",
   "execution_count": 27,
   "metadata": {
    "execution": {
     "iopub.execute_input": "2021-07-11T16:30:40.366328Z",
     "iopub.status.busy": "2021-07-11T16:30:40.366328Z",
     "iopub.status.idle": "2021-07-11T16:30:40.390264Z",
     "shell.execute_reply": "2021-07-11T16:30:40.389265Z",
     "shell.execute_reply.started": "2021-07-11T16:30:40.366328Z"
    }
   },
   "outputs": [],
   "source": [
    "np.random.seed(0)\n",
    "X = np.random.randint(10, 100, size=10)\n",
    "Y = np.random.randint(10, 100, size=10)\n",
    "Z = np.random.randint(10, 100, size=10)"
   ]
  },
  {
   "cell_type": "code",
   "execution_count": 28,
   "metadata": {
    "execution": {
     "iopub.execute_input": "2021-07-11T16:30:40.396249Z",
     "iopub.status.busy": "2021-07-11T16:30:40.395252Z",
     "iopub.status.idle": "2021-07-11T16:30:40.422179Z",
     "shell.execute_reply": "2021-07-11T16:30:40.421181Z",
     "shell.execute_reply.started": "2021-07-11T16:30:40.396249Z"
    }
   },
   "outputs": [
    {
     "data": {
      "text/plain": [
       "array([[ 659.16666667, -128.16666667,   93.5       ],\n",
       "       [-128.16666667,  664.76666667,  -57.1       ],\n",
       "       [  93.5       ,  -57.1       ,  823.43333333]])"
      ]
     },
     "execution_count": 28,
     "metadata": {},
     "output_type": "execute_result"
    }
   ],
   "source": [
    "np.cov([X, Y, Z])"
   ]
  },
  {
   "cell_type": "markdown",
   "metadata": {},
   "source": [
    "#### Correlation coefficient\n",
    "Correlation coefficient (denoted $\\rho_{\\mathbf{x},\\mathbf{y}}$) is the normalized version of covariance. You can easily use the Cauchy-Schwarz inequality to proof that $\\rho_{\\mathbf{x},\\mathbf{y}} \\in [-1; 1]$. The closer the coefficient is to either -1 or 1, the stronger the correlation between the two variables.\n",
    "\n",
    "$$\\rho_{\\mathbf{x},\\mathbf{y}} = \\frac{\\sigma_{\\mathbf{x},\\mathbf{y}}}{\\sigma_\\mathbf{x} \\sigma_\\mathbf{y}}$$\n",
    "\n",
    "The `numpy.corrcoef()` function returns the correlation coefficient matrix of $n$ variables: $\\mathbf{x}_1,\\mathbf{x}_2,\\dots,\\mathbf{x}_n$."
   ]
  },
  {
   "cell_type": "code",
   "execution_count": 29,
   "metadata": {
    "execution": {
     "iopub.execute_input": "2021-07-11T16:30:40.426168Z",
     "iopub.status.busy": "2021-07-11T16:30:40.425170Z",
     "iopub.status.idle": "2021-07-11T16:30:40.437138Z",
     "shell.execute_reply": "2021-07-11T16:30:40.436141Z",
     "shell.execute_reply.started": "2021-07-11T16:30:40.426168Z"
    }
   },
   "outputs": [],
   "source": [
    "np.random.seed(0)\n",
    "X = np.random.randint(10, 100, size=10)\n",
    "Y = np.random.randint(10, 100, size=10)\n",
    "Z = np.random.randint(10, 100, size=10)"
   ]
  },
  {
   "cell_type": "code",
   "execution_count": 30,
   "metadata": {
    "execution": {
     "iopub.execute_input": "2021-07-11T16:30:40.441128Z",
     "iopub.status.busy": "2021-07-11T16:30:40.440131Z",
     "iopub.status.idle": "2021-07-11T16:30:40.468060Z",
     "shell.execute_reply": "2021-07-11T16:30:40.467060Z",
     "shell.execute_reply.started": "2021-07-11T16:30:40.441128Z"
    }
   },
   "outputs": [
    {
     "data": {
      "text/plain": [
       "array([[ 1.        , -0.19361672,  0.12691115],\n",
       "       [-0.19361672,  1.        , -0.07717689],\n",
       "       [ 0.12691115, -0.07717689,  1.        ]])"
      ]
     },
     "execution_count": 30,
     "metadata": {},
     "output_type": "execute_result"
    }
   ],
   "source": [
    "np.corrcoef([X, Y, Z])"
   ]
  },
  {
   "cell_type": "markdown",
   "metadata": {},
   "source": [
    "## 1.6. Probability plots\n",
    "\n",
    "Probability plots are used to compare distribution of 2 datasets. The possible scenarios involve comparing:\n",
    "- Two empirical sets\n",
    "- One empirical and one theoretical set\n",
    "- Two theoretical set\n",
    "\n",
    "The most common use probability plots is the middle one - when we compare observed data to data coming from a specified distribution."
   ]
  },
  {
   "cell_type": "code",
   "execution_count": 31,
   "metadata": {
    "execution": {
     "iopub.execute_input": "2021-07-11T16:30:40.471048Z",
     "iopub.status.busy": "2021-07-11T16:30:40.470051Z",
     "iopub.status.idle": "2021-07-11T16:30:40.484013Z",
     "shell.execute_reply": "2021-07-11T16:30:40.482019Z",
     "shell.execute_reply.started": "2021-07-11T16:30:40.471048Z"
    },
    "tags": []
   },
   "outputs": [],
   "source": [
    "import scipy.stats as stats\n",
    "import numpy as np\n",
    "import pandas as pd\n",
    "import matplotlib.pyplot as plt\n",
    "import seaborn as sns\n",
    "sns.set_style('whitegrid')"
   ]
  },
  {
   "cell_type": "markdown",
   "metadata": {},
   "source": [
    "#### P-P Plot\n",
    "\n",
    "P-P Plot (probability-probability) is a visualization plots CDFs of two distribution against each other. If points are on the line ($x=y$) then 2 CDF are the same and observe values is under expected distribution. P-P plot is suitable for comparing probability distributions that have a nearby location because it require the loc and scale parameters of theoretical distribution.\n",
    "\n",
    "- In $x$ axis: Estimated cummulative proportions of empirical distribution\n",
    "\n",
    "$$PE = \\frac{R_i-1/2}{N}$$\n",
    "\n",
    "where $R_i$ is rank of observe values\n",
    "\n",
    "- In $y$ axis: Expected cummulative probabilities of theoretical distribution (CDF corresponding to observe values)"
   ]
  },
  {
   "cell_type": "code",
   "execution_count": 32,
   "metadata": {
    "execution": {
     "iopub.execute_input": "2021-07-11T16:30:40.487006Z",
     "iopub.status.busy": "2021-07-11T16:30:40.486008Z",
     "iopub.status.idle": "2021-07-11T16:30:41.412917Z",
     "shell.execute_reply": "2021-07-11T16:30:41.411903Z",
     "shell.execute_reply.started": "2021-07-11T16:30:40.487006Z"
    },
    "tags": []
   },
   "outputs": [
    {
     "data": {
      "image/png": "[encoded data removed]",
      "text/plain": [
       "<Figure size 864x360 with 2 Axes>"
      ]
     },
     "metadata": {},
     "output_type": "display_data"
    }
   ],
   "source": [
    "fig, ax = plt.subplots(nrows=1, ncols=2, figsize=(12,5))\n",
    "x = np.random.normal(size=100)\n",
    "n = len(x)\n",
    "pe = (np.arange(1, n+1)-0.5)/n\n",
    "pp = np.sort(stats.norm(0,1).cdf(x))\n",
    "\n",
    "# pp plot \n",
    "ax[0].plot(pe, pp, 'o', color='steelblue')\n",
    "ax[0].plot(np.linspace(0,1), np.linspace(0,1), 'darkred')\n",
    "ax[0].axis('scaled')\n",
    "ax[0].set_title(\"P-P plot\")\n",
    "ax[0].set_xlabel(\"Theoretical prob\")\n",
    "ax[0].set_ylabel(\"Observe prob\")\n",
    "\n",
    "# histogram\n",
    "ax[1] = sns.distplot(x)\n",
    "ax[1].set_title(\"Histogram\")\n",
    "\n",
    "plt.show()"
   ]
  },
  {
   "cell_type": "code",
   "execution_count": 33,
   "metadata": {
    "execution": {
     "iopub.execute_input": "2021-07-11T16:30:41.414897Z",
     "iopub.status.busy": "2021-07-11T16:30:41.413899Z",
     "iopub.status.idle": "2021-07-11T16:30:42.104131Z",
     "shell.execute_reply": "2021-07-11T16:30:42.103135Z",
     "shell.execute_reply.started": "2021-07-11T16:30:41.414897Z"
    },
    "tags": []
   },
   "outputs": [
    {
     "data": {
      "image/png": "[encoded data removed]",
      "text/plain": [
       "<Figure size 864x360 with 2 Axes>"
      ]
     },
     "metadata": {},
     "output_type": "display_data"
    }
   ],
   "source": [
    "# change the loc parameter\n",
    "fig, ax = plt.subplots(nrows=1, ncols=2,figsize=(12,5))\n",
    "x = np.random.normal(size=200, loc=2)\n",
    "n = len(x)\n",
    "pe = (np.arange(1, n+1)-0.5)/n\n",
    "pp = np.sort(stats.norm(0,1).cdf(x))\n",
    "\n",
    "# pp plot \n",
    "ax[0].plot(pe,pp,'o',color='steelblue')\n",
    "ax[0].plot(np.linspace(0,1),np.linspace(0,1),'brown')\n",
    "ax[0].axis('scaled')\n",
    "ax[0].set_title(\"P-P plot with loc = 2\")\n",
    "ax[0].set_xlabel(\"Theoretical prob\")\n",
    "ax[0].set_ylabel(\"Observe prob\")\n",
    "\n",
    "# histogram\n",
    "ax[1] = sns.distplot(x, color='darkred')\n",
    "ax[1].set_title(\"Histogram\")\n",
    "\n",
    "plt.show()"
   ]
  },
  {
   "cell_type": "markdown",
   "metadata": {},
   "source": [
    "#### Q-Q plot \n",
    "\n",
    "Similarity to P-P plot, Q-Q plot (quantile-quantile) is used to compare distribution by plotting their quantile agains each other. But Q-Q plot doesn't require loc and scale parameter and the reference line is based on location and scale of theoretical distribution. QQ plot is suitable for tails of distribution (when probabilty density is low)"
   ]
  },
  {
   "cell_type": "code",
   "execution_count": 34,
   "metadata": {
    "execution": {
     "iopub.execute_input": "2021-07-11T16:30:42.106126Z",
     "iopub.status.busy": "2021-07-11T16:30:42.105128Z",
     "iopub.status.idle": "2021-07-11T16:30:42.725469Z",
     "shell.execute_reply": "2021-07-11T16:30:42.724472Z",
     "shell.execute_reply.started": "2021-07-11T16:30:42.106126Z"
    },
    "tags": []
   },
   "outputs": [
    {
     "data": {
      "image/png": "[encoded data removed]",
      "text/plain": [
       "<Figure size 864x360 with 2 Axes>"
      ]
     },
     "metadata": {},
     "output_type": "display_data"
    }
   ],
   "source": [
    "fig,ax = plt.subplots(nrows=1, ncols=2, figsize=(12,5))\n",
    "x = sorted(np.random.normal(size=200))\n",
    "n = len(x)\n",
    "\n",
    "quantiles_percent = np.linspace(0,1,n-1)\n",
    "obs_quantile = np.quantile(x, q=quantiles_percent)\n",
    "theore_quantile = [stats.norm.ppf(q) for q in quantiles_percent]\n",
    "# qq plot\n",
    "ax[0].plot(obs_quantile,theore_quantile,'o',color='royalblue')\n",
    "ax[0].plot(theore_quantile,theore_quantile,'darkred')\n",
    "ax[0].axis('scaled')\n",
    "ax[0].set_title(\"Q-Q plot with normal\")\n",
    "ax[0].set_xlabel(\"Theoretical quantile\")\n",
    "ax[0].set_ylabel(\"Observe quantile\")\n",
    "\n",
    "#histogram\n",
    "ax[1] = sns.distplot(x)\n",
    "ax[1].set_title(\"Histogram\")\n",
    "\n",
    "plt.show()"
   ]
  },
  {
   "cell_type": "code",
   "execution_count": 35,
   "metadata": {
    "execution": {
     "iopub.execute_input": "2021-07-11T16:30:42.727463Z",
     "iopub.status.busy": "2021-07-11T16:30:42.727463Z",
     "iopub.status.idle": "2021-07-11T16:30:43.677680Z",
     "shell.execute_reply": "2021-07-11T16:30:43.676695Z",
     "shell.execute_reply.started": "2021-07-11T16:30:42.727463Z"
    },
    "tags": []
   },
   "outputs": [
    {
     "data": {
      "image/png": "[encoded data removed]",
      "text/plain": [
       "<Figure size 864x432 with 2 Axes>"
      ]
     },
     "metadata": {},
     "output_type": "display_data"
    }
   ],
   "source": [
    "from scipy.stats import skewnorm\n",
    "\n",
    "fig,ax = plt.subplots(nrows=1, ncols=2, figsize=(12,6))\n",
    "x = sorted(skewnorm.rvs(size=1000, a=5))\n",
    "n = len(x)\n",
    "\n",
    "quantiles_percent = np.linspace(0,1,n-1)\n",
    "obs_quantile = np.quantile(x, q=quantiles_percent)\n",
    "theore_quantile = [stats.norm.ppf(q) for q in quantiles_percent]\n",
    "# qq plot\n",
    "ax[0].plot(obs_quantile,theore_quantile,'o',color='royalblue')\n",
    "ax[0].plot(theore_quantile,theore_quantile,'maroon')\n",
    "ax[0].axis('scaled')\n",
    "ax[0].set_title(\"Q-Q plot with skew normal\")\n",
    "ax[0].set_xlabel(\"Theoretical quantile\")\n",
    "ax[0].set_ylabel(\"Observe quantile\")\n",
    "\n",
    "#histogram\n",
    "ax[1] = sns.distplot(x)\n",
    "ax[1].set_title(\"Histogram\")\n",
    "\n",
    "plt.show()"
   ]
  },
  {
   "cell_type": "markdown",
   "metadata": {},
   "source": [
    "# 2. Statistical models"
   ]
  },
  {
   "cell_type": "markdown",
   "metadata": {},
   "source": [
    "## 2.1. Regression with binary dependent variable\n",
    "If we use linear function with probability is dependent variable, this will not restrict $P$ to lie between 0 and 1. Then we need to use a *nonlinear function* to model the conditional probability function of a binary dependent variable. Commonly used methods are Probit and Logit regression."
   ]
  },
  {
   "cell_type": "markdown",
   "metadata": {},
   "source": [
    "#### Logit model\n",
    "\n",
    "Logistic model is used to describe the probability of a certain class such as true/false, good/bad,.... The difference between logistic and linear regression is the output of logistic is limited in $(0,1)$.\n",
    "\n",
    "*Logistic function is the CDF of logistically distribution:*\n",
    "\n",
    "$$P = \\frac{1}{1+e^{-(\\beta_0+\\beta_1.x)}}$$ \n",
    "\n",
    "- $P$: probability of 1 class\n",
    "- $\\beta_0, \\beta_1$,..: parameters\n",
    "\n",
    "Logistic function can be rewrited to *logit function*:\n",
    "$$ln(\\frac{p}{1-p}) = \\beta_0+\\beta_1.x$$\n",
    "\n",
    "with $\\frac{p}{1-p}$ is `Odds ratio`\n",
    "\n",
    "Logit model in statistic doesn't show the effect of independent variable $x$ on $y$, it considers the influence of $x$ on the probability to $y$ get the values 1 (expected value of $y$)"
   ]
  },
  {
   "cell_type": "markdown",
   "metadata": {},
   "source": [
    "#### Probit model\n",
    "\n",
    "In probit model, the *CDF of standard normal distribution* is used to model the regression:\n",
    "\n",
    "$$P(Y=1\\vert X) = \\Phi(\\beta_0 + \\beta_1 X_1 + \\dots + \\beta_k X_k)$$\n",
    "\n",
    "- $\\Phi$: The CDF of standard normal distribution\n",
    "- $\\beta_0 + \\beta_1 X + \\dots + \\beta_k X_k$: quantile $z^*$ with $\\Phi(z^*) = P(Z \\leq z^*) \\ , \\ Z \\sim \\mathcal{N}(0,1)$\n",
    "\n",
    "\n",
    "The coefficient $\\beta_j$ of probit model have the same meaning with logit model."
   ]
  },
  {
   "cell_type": "code",
   "execution_count": 36,
   "metadata": {
    "execution": {
     "iopub.execute_input": "2021-07-11T16:30:43.679675Z",
     "iopub.status.busy": "2021-07-11T16:30:43.679675Z",
     "iopub.status.idle": "2021-07-11T16:30:43.866157Z",
     "shell.execute_reply": "2021-07-11T16:30:43.865153Z",
     "shell.execute_reply.started": "2021-07-11T16:30:43.679675Z"
    }
   },
   "outputs": [],
   "source": [
    "import numpy as np\n",
    "import pandas as pd\n",
    "import matplotlib.pyplot as plt\n",
    "import seaborn as sns; sns.set_style('whitegrid')\n",
    "import statsmodels.tools as sm\n",
    "from statsmodels.discrete.discrete_model import Logit\n",
    "from statsmodels.discrete.discrete_model import Probit"
   ]
  },
  {
   "cell_type": "code",
   "execution_count": 37,
   "metadata": {
    "execution": {
     "iopub.execute_input": "2021-07-11T16:30:43.867155Z",
     "iopub.status.busy": "2021-07-11T16:30:43.867155Z",
     "iopub.status.idle": "2021-07-11T16:30:45.186175Z",
     "shell.execute_reply": "2021-07-11T16:30:45.185163Z",
     "shell.execute_reply.started": "2021-07-11T16:30:43.867155Z"
    }
   },
   "outputs": [
    {
     "data": {
      "text/html": [
       "<div>\n",
       "<style scoped>\n",
       "    .dataframe tbody tr th:only-of-type {\n",
       "        vertical-align: middle;\n",
       "    }\n",
       "\n",
       "    .dataframe tbody tr th {\n",
       "        vertical-align: top;\n",
       "    }\n",
       "\n",
       "    .dataframe thead th {\n",
       "        text-align: right;\n",
       "    }\n",
       "</style>\n",
       "<table border=\"1\" class=\"dataframe\">\n",
       "  <thead>\n",
       "    <tr style=\"text-align: right;\">\n",
       "      <th></th>\n",
       "      <th>labor_join</th>\n",
       "      <th>chil5</th>\n",
       "      <th>chil618</th>\n",
       "      <th>age</th>\n",
       "      <th>wif_college</th>\n",
       "      <th>hus_college</th>\n",
       "      <th>log_wage</th>\n",
       "      <th>fam_income</th>\n",
       "    </tr>\n",
       "  </thead>\n",
       "  <tbody>\n",
       "    <tr>\n",
       "      <th>0</th>\n",
       "      <td>1</td>\n",
       "      <td>1</td>\n",
       "      <td>0</td>\n",
       "      <td>32</td>\n",
       "      <td>0</td>\n",
       "      <td>0</td>\n",
       "      <td>1.210165</td>\n",
       "      <td>10.910001</td>\n",
       "    </tr>\n",
       "    <tr>\n",
       "      <th>1</th>\n",
       "      <td>1</td>\n",
       "      <td>0</td>\n",
       "      <td>2</td>\n",
       "      <td>30</td>\n",
       "      <td>0</td>\n",
       "      <td>0</td>\n",
       "      <td>0.328504</td>\n",
       "      <td>19.500000</td>\n",
       "    </tr>\n",
       "    <tr>\n",
       "      <th>2</th>\n",
       "      <td>1</td>\n",
       "      <td>1</td>\n",
       "      <td>3</td>\n",
       "      <td>35</td>\n",
       "      <td>0</td>\n",
       "      <td>0</td>\n",
       "      <td>1.514128</td>\n",
       "      <td>12.039999</td>\n",
       "    </tr>\n",
       "    <tr>\n",
       "      <th>3</th>\n",
       "      <td>1</td>\n",
       "      <td>0</td>\n",
       "      <td>3</td>\n",
       "      <td>34</td>\n",
       "      <td>0</td>\n",
       "      <td>0</td>\n",
       "      <td>0.092115</td>\n",
       "      <td>6.800000</td>\n",
       "    </tr>\n",
       "    <tr>\n",
       "      <th>4</th>\n",
       "      <td>1</td>\n",
       "      <td>1</td>\n",
       "      <td>2</td>\n",
       "      <td>31</td>\n",
       "      <td>1</td>\n",
       "      <td>0</td>\n",
       "      <td>1.524280</td>\n",
       "      <td>20.100000</td>\n",
       "    </tr>\n",
       "  </tbody>\n",
       "</table>\n",
       "</div>"
      ],
      "text/plain": [
       "   labor_join  chil5  chil618  age  wif_college  hus_college  log_wage  \\\n",
       "0           1      1        0   32            0            0  1.210165   \n",
       "1           1      0        2   30            0            0  0.328504   \n",
       "2           1      1        3   35            0            0  1.514128   \n",
       "3           1      0        3   34            0            0  0.092115   \n",
       "4           1      1        2   31            1            0  1.524280   \n",
       "\n",
       "   fam_income  \n",
       "0   10.910001  \n",
       "1   19.500000  \n",
       "2   12.039999  \n",
       "3    6.800000  \n",
       "4   20.100000  "
      ]
     },
     "execution_count": 37,
     "metadata": {},
     "output_type": "execute_result"
    }
   ],
   "source": [
    "df = pd.read_excel('data/logit_dataset.xlsx')\n",
    "df.head()"
   ]
  },
  {
   "cell_type": "code",
   "execution_count": 38,
   "metadata": {
    "execution": {
     "iopub.execute_input": "2021-07-11T16:30:45.187162Z",
     "iopub.status.busy": "2021-07-11T16:30:45.187162Z",
     "iopub.status.idle": "2021-07-11T16:30:45.202124Z",
     "shell.execute_reply": "2021-07-11T16:30:45.201125Z",
     "shell.execute_reply.started": "2021-07-11T16:30:45.187162Z"
    }
   },
   "outputs": [],
   "source": [
    "y = df['labor_join']\n",
    "x = df.drop(columns=['labor_join'])"
   ]
  },
  {
   "cell_type": "code",
   "execution_count": 39,
   "metadata": {
    "execution": {
     "iopub.execute_input": "2021-07-11T16:30:45.204116Z",
     "iopub.status.busy": "2021-07-11T16:30:45.203121Z",
     "iopub.status.idle": "2021-07-11T16:30:45.280911Z",
     "shell.execute_reply": "2021-07-11T16:30:45.279912Z",
     "shell.execute_reply.started": "2021-07-11T16:30:45.204116Z"
    }
   },
   "outputs": [
    {
     "name": "stdout",
     "output_type": "stream",
     "text": [
      "Optimization terminated successfully.\n",
      "         Current function value: 0.601106\n",
      "         Iterations 6\n"
     ]
    },
    {
     "data": {
      "text/html": [
       "<table class=\"simpletable\">\n",
       "<caption>Logit Regression Results</caption>\n",
       "<tr>\n",
       "  <th>Dep. Variable:</th>      <td>labor_join</td>    <th>  No. Observations:  </th>  <td>   753</td>  \n",
       "</tr>\n",
       "<tr>\n",
       "  <th>Model:</th>                 <td>Logit</td>      <th>  Df Residuals:      </th>  <td>   745</td>  \n",
       "</tr>\n",
       "<tr>\n",
       "  <th>Method:</th>                 <td>MLE</td>       <th>  Df Model:          </th>  <td>     7</td>  \n",
       "</tr>\n",
       "<tr>\n",
       "  <th>Date:</th>            <td>Sun, 11 Jul 2021</td> <th>  Pseudo R-squ.:     </th>  <td>0.1209</td>  \n",
       "</tr>\n",
       "<tr>\n",
       "  <th>Time:</th>                <td>23:30:45</td>     <th>  Log-Likelihood:    </th> <td> -452.63</td> \n",
       "</tr>\n",
       "<tr>\n",
       "  <th>converged:</th>             <td>True</td>       <th>  LL-Null:           </th> <td> -514.87</td> \n",
       "</tr>\n",
       "<tr>\n",
       "  <th>Covariance Type:</th>     <td>nonrobust</td>    <th>  LLR p-value:       </th> <td>8.923e-24</td>\n",
       "</tr>\n",
       "</table>\n",
       "<table class=\"simpletable\">\n",
       "<tr>\n",
       "       <td></td>          <th>coef</th>     <th>std err</th>      <th>z</th>      <th>P>|z|</th>  <th>[0.025</th>    <th>0.975]</th>  \n",
       "</tr>\n",
       "<tr>\n",
       "  <th>const</th>       <td>    3.1821</td> <td>    0.644</td> <td>    4.938</td> <td> 0.000</td> <td>    1.919</td> <td>    4.445</td>\n",
       "</tr>\n",
       "<tr>\n",
       "  <th>chil5</th>       <td>   -1.4629</td> <td>    0.197</td> <td>   -7.426</td> <td> 0.000</td> <td>   -1.849</td> <td>   -1.077</td>\n",
       "</tr>\n",
       "<tr>\n",
       "  <th>chil618</th>     <td>   -0.0646</td> <td>    0.068</td> <td>   -0.950</td> <td> 0.342</td> <td>   -0.198</td> <td>    0.069</td>\n",
       "</tr>\n",
       "<tr>\n",
       "  <th>age</th>         <td>   -0.0629</td> <td>    0.013</td> <td>   -4.918</td> <td> 0.000</td> <td>   -0.088</td> <td>   -0.038</td>\n",
       "</tr>\n",
       "<tr>\n",
       "  <th>wif_college</th> <td>    0.8073</td> <td>    0.230</td> <td>    3.510</td> <td> 0.000</td> <td>    0.357</td> <td>    1.258</td>\n",
       "</tr>\n",
       "<tr>\n",
       "  <th>hus_college</th> <td>    0.1117</td> <td>    0.206</td> <td>    0.542</td> <td> 0.588</td> <td>   -0.292</td> <td>    0.516</td>\n",
       "</tr>\n",
       "<tr>\n",
       "  <th>log_wage</th>    <td>    0.6047</td> <td>    0.151</td> <td>    4.009</td> <td> 0.000</td> <td>    0.309</td> <td>    0.900</td>\n",
       "</tr>\n",
       "<tr>\n",
       "  <th>fam_income</th>  <td>   -0.0344</td> <td>    0.008</td> <td>   -4.196</td> <td> 0.000</td> <td>   -0.051</td> <td>   -0.018</td>\n",
       "</tr>\n",
       "</table>"
      ],
      "text/plain": [
       "<class 'statsmodels.iolib.summary.Summary'>\n",
       "\"\"\"\n",
       "                           Logit Regression Results                           \n",
       "==============================================================================\n",
       "Dep. Variable:             labor_join   No. Observations:                  753\n",
       "Model:                          Logit   Df Residuals:                      745\n",
       "Method:                           MLE   Df Model:                            7\n",
       "Date:                Sun, 11 Jul 2021   Pseudo R-squ.:                  0.1209\n",
       "Time:                        23:30:45   Log-Likelihood:                -452.63\n",
       "converged:                       True   LL-Null:                       -514.87\n",
       "Covariance Type:            nonrobust   LLR p-value:                 8.923e-24\n",
       "===============================================================================\n",
       "                  coef    std err          z      P>|z|      [0.025      0.975]\n",
       "-------------------------------------------------------------------------------\n",
       "const           3.1821      0.644      4.938      0.000       1.919       4.445\n",
       "chil5          -1.4629      0.197     -7.426      0.000      -1.849      -1.077\n",
       "chil618        -0.0646      0.068     -0.950      0.342      -0.198       0.069\n",
       "age            -0.0629      0.013     -4.918      0.000      -0.088      -0.038\n",
       "wif_college     0.8073      0.230      3.510      0.000       0.357       1.258\n",
       "hus_college     0.1117      0.206      0.542      0.588      -0.292       0.516\n",
       "log_wage        0.6047      0.151      4.009      0.000       0.309       0.900\n",
       "fam_income     -0.0344      0.008     -4.196      0.000      -0.051      -0.018\n",
       "===============================================================================\n",
       "\"\"\""
      ]
     },
     "execution_count": 39,
     "metadata": {},
     "output_type": "execute_result"
    }
   ],
   "source": [
    "x = sm.add_constant(x)\n",
    "logit = Logit(y, x)\n",
    "\n",
    "logit.fit().summary()"
   ]
  },
  {
   "cell_type": "code",
   "execution_count": 40,
   "metadata": {
    "execution": {
     "iopub.execute_input": "2021-07-11T16:30:45.282905Z",
     "iopub.status.busy": "2021-07-11T16:30:45.281908Z",
     "iopub.status.idle": "2021-07-11T16:30:45.728260Z",
     "shell.execute_reply": "2021-07-11T16:30:45.727260Z",
     "shell.execute_reply.started": "2021-07-11T16:30:45.281908Z"
    }
   },
   "outputs": [
    {
     "name": "stdout",
     "output_type": "stream",
     "text": [
      "Optimization terminated successfully.\n",
      "         Current function value: 0.601106\n",
      "         Iterations 6\n"
     ]
    },
    {
     "data": {
      "text/plain": [
       "<matplotlib.collections.PathCollection at 0x21960cb4be0>"
      ]
     },
     "execution_count": 40,
     "metadata": {},
     "output_type": "execute_result"
    },
    {
     "data": {
      "image/png": "[encoded data removed]",
      "text/plain": [
       "<Figure size 720x360 with 1 Axes>"
      ]
     },
     "metadata": {},
     "output_type": "display_data"
    }
   ],
   "source": [
    "y_pred = logit.fit().predict(x)\n",
    "plt.figure(figsize=(10,5))\n",
    "plt.plot(sorted(y_pred))\n",
    "plt.scatter(np.linspace(0,753,753),y)"
   ]
  },
  {
   "cell_type": "code",
   "execution_count": 41,
   "metadata": {
    "execution": {
     "iopub.execute_input": "2021-07-11T16:30:45.731252Z",
     "iopub.status.busy": "2021-07-11T16:30:45.730255Z",
     "iopub.status.idle": "2021-07-11T16:30:45.793086Z",
     "shell.execute_reply": "2021-07-11T16:30:45.791091Z",
     "shell.execute_reply.started": "2021-07-11T16:30:45.731252Z"
    }
   },
   "outputs": [
    {
     "name": "stdout",
     "output_type": "stream",
     "text": [
      "Optimization terminated successfully.\n",
      "         Current function value: 0.601189\n",
      "         Iterations 5\n"
     ]
    },
    {
     "data": {
      "text/html": [
       "<table class=\"simpletable\">\n",
       "<caption>Probit Regression Results</caption>\n",
       "<tr>\n",
       "  <th>Dep. Variable:</th>      <td>labor_join</td>    <th>  No. Observations:  </th>  <td>   753</td>  \n",
       "</tr>\n",
       "<tr>\n",
       "  <th>Model:</th>                <td>Probit</td>      <th>  Df Residuals:      </th>  <td>   745</td>  \n",
       "</tr>\n",
       "<tr>\n",
       "  <th>Method:</th>                 <td>MLE</td>       <th>  Df Model:          </th>  <td>     7</td>  \n",
       "</tr>\n",
       "<tr>\n",
       "  <th>Date:</th>            <td>Sun, 11 Jul 2021</td> <th>  Pseudo R-squ.:     </th>  <td>0.1208</td>  \n",
       "</tr>\n",
       "<tr>\n",
       "  <th>Time:</th>                <td>23:30:45</td>     <th>  Log-Likelihood:    </th> <td> -452.69</td> \n",
       "</tr>\n",
       "<tr>\n",
       "  <th>converged:</th>             <td>True</td>       <th>  LL-Null:           </th> <td> -514.87</td> \n",
       "</tr>\n",
       "<tr>\n",
       "  <th>Covariance Type:</th>     <td>nonrobust</td>    <th>  LLR p-value:       </th> <td>9.471e-24</td>\n",
       "</tr>\n",
       "</table>\n",
       "<table class=\"simpletable\">\n",
       "<tr>\n",
       "       <td></td>          <th>coef</th>     <th>std err</th>      <th>z</th>      <th>P>|z|</th>  <th>[0.025</th>    <th>0.975]</th>  \n",
       "</tr>\n",
       "<tr>\n",
       "  <th>const</th>       <td>    1.9184</td> <td>    0.381</td> <td>    5.040</td> <td> 0.000</td> <td>    1.172</td> <td>    2.664</td>\n",
       "</tr>\n",
       "<tr>\n",
       "  <th>chil5</th>       <td>   -0.8747</td> <td>    0.114</td> <td>   -7.703</td> <td> 0.000</td> <td>   -1.097</td> <td>   -0.652</td>\n",
       "</tr>\n",
       "<tr>\n",
       "  <th>chil618</th>     <td>   -0.0386</td> <td>    0.040</td> <td>   -0.953</td> <td> 0.340</td> <td>   -0.118</td> <td>    0.041</td>\n",
       "</tr>\n",
       "<tr>\n",
       "  <th>age</th>         <td>   -0.0378</td> <td>    0.008</td> <td>   -4.971</td> <td> 0.000</td> <td>   -0.053</td> <td>   -0.023</td>\n",
       "</tr>\n",
       "<tr>\n",
       "  <th>wif_college</th> <td>    0.4883</td> <td>    0.135</td> <td>    3.604</td> <td> 0.000</td> <td>    0.223</td> <td>    0.754</td>\n",
       "</tr>\n",
       "<tr>\n",
       "  <th>hus_college</th> <td>    0.0572</td> <td>    0.124</td> <td>    0.461</td> <td> 0.645</td> <td>   -0.186</td> <td>    0.300</td>\n",
       "</tr>\n",
       "<tr>\n",
       "  <th>log_wage</th>    <td>    0.3656</td> <td>    0.088</td> <td>    4.165</td> <td> 0.000</td> <td>    0.194</td> <td>    0.538</td>\n",
       "</tr>\n",
       "<tr>\n",
       "  <th>fam_income</th>  <td>   -0.0205</td> <td>    0.005</td> <td>   -4.297</td> <td> 0.000</td> <td>   -0.030</td> <td>   -0.011</td>\n",
       "</tr>\n",
       "</table>"
      ],
      "text/plain": [
       "<class 'statsmodels.iolib.summary.Summary'>\n",
       "\"\"\"\n",
       "                          Probit Regression Results                           \n",
       "==============================================================================\n",
       "Dep. Variable:             labor_join   No. Observations:                  753\n",
       "Model:                         Probit   Df Residuals:                      745\n",
       "Method:                           MLE   Df Model:                            7\n",
       "Date:                Sun, 11 Jul 2021   Pseudo R-squ.:                  0.1208\n",
       "Time:                        23:30:45   Log-Likelihood:                -452.69\n",
       "converged:                       True   LL-Null:                       -514.87\n",
       "Covariance Type:            nonrobust   LLR p-value:                 9.471e-24\n",
       "===============================================================================\n",
       "                  coef    std err          z      P>|z|      [0.025      0.975]\n",
       "-------------------------------------------------------------------------------\n",
       "const           1.9184      0.381      5.040      0.000       1.172       2.664\n",
       "chil5          -0.8747      0.114     -7.703      0.000      -1.097      -0.652\n",
       "chil618        -0.0386      0.040     -0.953      0.340      -0.118       0.041\n",
       "age            -0.0378      0.008     -4.971      0.000      -0.053      -0.023\n",
       "wif_college     0.4883      0.135      3.604      0.000       0.223       0.754\n",
       "hus_college     0.0572      0.124      0.461      0.645      -0.186       0.300\n",
       "log_wage        0.3656      0.088      4.165      0.000       0.194       0.538\n",
       "fam_income     -0.0205      0.005     -4.297      0.000      -0.030      -0.011\n",
       "===============================================================================\n",
       "\"\"\""
      ]
     },
     "execution_count": 41,
     "metadata": {},
     "output_type": "execute_result"
    }
   ],
   "source": [
    "probit = Probit(y, x)\n",
    "probit.fit().summary()"
   ]
  },
  {
   "cell_type": "code",
   "execution_count": 42,
   "metadata": {
    "execution": {
     "iopub.execute_input": "2021-07-11T16:30:45.797076Z",
     "iopub.status.busy": "2021-07-11T16:30:45.796077Z",
     "iopub.status.idle": "2021-07-11T16:30:45.856914Z",
     "shell.execute_reply": "2021-07-11T16:30:45.854921Z",
     "shell.execute_reply.started": "2021-07-11T16:30:45.797076Z"
    }
   },
   "outputs": [
    {
     "name": "stdout",
     "output_type": "stream",
     "text": [
      "Optimization terminated successfully.\n",
      "         Current function value: 0.601189\n",
      "         Iterations 5\n"
     ]
    },
    {
     "data": {
      "text/plain": [
       "0      0.520697\n",
       "1      0.665092\n",
       "2      0.464379\n",
       "3      0.659372\n",
       "4      0.665338\n",
       "         ...   \n",
       "748    0.755185\n",
       "749    0.183754\n",
       "750    0.660005\n",
       "751    0.338742\n",
       "752    0.522859\n",
       "Length: 753, dtype: float64"
      ]
     },
     "execution_count": 42,
     "metadata": {},
     "output_type": "execute_result"
    }
   ],
   "source": [
    "probit.fit().predict(x)"
   ]
  },
  {
   "cell_type": "markdown",
   "metadata": {},
   "source": [
    "## 2.5. Regression with panel data (reference)\n",
    "\n",
    "Panel data is the combination of time-series and cross-section data. Panel data is required when we want to analyse the unobserved variables which effects to dependent variable. There are 2 models to analyse panel data: *fixed effects regression* and *random effects regression*"
   ]
  },
  {
   "cell_type": "markdown",
   "metadata": {},
   "source": [
    "#### Fixed effects model (FEM)\n",
    "\n",
    "Fix effects regression:\n",
    "\n",
    "$$Y_{it} = \\beta_0 + \\beta_1 X_{it} + \\beta_2 Z_i +  u_{it}$$\n",
    "\n",
    "- $Y_{it}$: dependent variable\n",
    "- $X_{it}$: independent variable\n",
    "- $Z_i$: unobserved variable - which different between objects but unchange across the time. \n",
    "\n",
    "Set $\\alpha_i = \\beta_0 + \\beta_2 Z_i$ \n",
    "\n",
    "=> $$Y_{it} = \\beta_1 X_{1,it} + \\cdots + \\beta_k X_{k,it} + \\alpha_i + u_{it}$$\n"
   ]
  },
  {
   "cell_type": "markdown",
   "metadata": {},
   "source": [
    "#### Random effects model (REM)\n",
    "\n",
    "Random effects model is a special case of fixed effects model. The function is the same as fixed effects model but the unobserved variable is difference.\n",
    "$$Y_{it} = \\beta_1 X_{1,it} + \\cdots + \\beta_k X_{k,it} + \\alpha_i + u_{it}$$\n",
    "\n",
    "With $\\alpha_i$ is representative for the factors which unobserved and change between objects but unchange across the time."
   ]
  },
  {
   "cell_type": "markdown",
   "metadata": {},
   "source": [
    "---\n",
    "*&#9829; By Quang Hung x Thuy Linh &#9829;*"
   ]
  }
 ],
 "metadata": {
  "colab": {
   "name": "lecture6.ipynb",
   "provenance": [],
   "version": "0.3.2"
  },
  "kernelspec": {
   "display_name": "Python 3",
   "language": "python",
   "name": "python3"
  },
  "language_info": {
   "codemirror_mode": {
    "name": "ipython",
    "version": 3
   },
   "file_extension": ".py",
   "mimetype": "text/x-python",
   "name": "python",
   "nbconvert_exporter": "python",
   "pygments_lexer": "ipython3",
   "version": "3.8.3"
  },
  "toc-autonumbering": false
 },
 "nbformat": 4,
 "nbformat_minor": 4
}
