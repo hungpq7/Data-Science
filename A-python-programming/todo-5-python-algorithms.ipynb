{
 "cells": [
  {
   "cell_type": "markdown",
   "id": "a9c64e2e",
   "metadata": {},
   "source": [
    "# Python: Algorithms"
   ]
  },
  {
   "cell_type": "markdown",
   "id": "06abe05d",
   "metadata": {},
   "source": [
    "First image:\n",
    "\n",
    "<img src='../_image/rest_api_response.png' style='height:300px'>\n",
    "\n",
    "Some text"
   ]
  },
  {
   "cell_type": "markdown",
   "id": "fbcddcc8",
   "metadata": {},
   "source": [
    "Second image:\n",
    "\n",
    "<center><img src='../_image/rest_api_response.png' style='height:300px; margin:20px auto 20px;'></center>\n",
    "\n",
    "Some text"
   ]
  },
  {
   "cell_type": "markdown",
   "id": "f5a9c7e9",
   "metadata": {},
   "source": [
    "Third image\n",
    "\n",
    "<center><img src='../_image/rest_api_response.png' style='height:300px'></center>\n",
    "\n",
    "Hi"
   ]
  }
 ],
 "metadata": {
  "kernelspec": {
   "display_name": "Python 3 (ipykernel)",
   "language": "python",
   "name": "python3"
  },
  "language_info": {
   "codemirror_mode": {
    "name": "ipython",
    "version": 3
   },
   "file_extension": ".py",
   "mimetype": "text/x-python",
   "name": "python",
   "nbconvert_exporter": "python",
   "pygments_lexer": "ipython3",
   "version": "3.9.13 (main, May 24 2022, 21:28:12) \n[Clang 12.0.0 (clang-1200.0.32.29)]"
  },
  "vscode": {
   "interpreter": {
    "hash": "aee8b7b246df8f9039afb4144a1f6fd8d2ca17a180786b69acc140d282b71a49"
   }
  }
 },
 "nbformat": 4,
 "nbformat_minor": 5
}
