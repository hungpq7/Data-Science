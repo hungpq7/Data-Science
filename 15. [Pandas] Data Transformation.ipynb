{
 "cells": [
  {
   "cell_type": "markdown",
   "metadata": {},
   "source": [
    "# 1. Miscellaneous techniques"
   ]
  },
  {
   "cell_type": "markdown",
   "metadata": {
    "colab_type": "text",
    "id": "Q_G6ZQAk5bID"
   },
   "source": [
    "## 1.1. Mapping\n",
    "Map is the generalization of function."
   ]
  },
  {
   "cell_type": "code",
   "execution_count": 1,
   "metadata": {
    "execution": {
     "iopub.execute_input": "2021-07-11T16:34:07.782593Z",
     "iopub.status.busy": "2021-07-11T16:34:07.781597Z",
     "iopub.status.idle": "2021-07-11T16:34:08.411379Z",
     "shell.execute_reply": "2021-07-11T16:34:08.411379Z",
     "shell.execute_reply.started": "2021-07-11T16:34:07.782593Z"
    }
   },
   "outputs": [],
   "source": [
    "import numpy as np\n",
    "import pandas as pd"
   ]
  },
  {
   "cell_type": "code",
   "execution_count": 2,
   "metadata": {
    "execution": {
     "iopub.execute_input": "2021-07-11T16:34:08.411379Z",
     "iopub.status.busy": "2021-07-11T16:34:08.411379Z",
     "iopub.status.idle": "2021-07-11T16:34:08.458555Z",
     "shell.execute_reply": "2021-07-11T16:34:08.457589Z",
     "shell.execute_reply.started": "2021-07-11T16:34:08.411379Z"
    }
   },
   "outputs": [
    {
     "data": {
      "text/html": [
       "<div>\n",
       "<style scoped>\n",
       "    .dataframe tbody tr th:only-of-type {\n",
       "        vertical-align: middle;\n",
       "    }\n",
       "\n",
       "    .dataframe tbody tr th {\n",
       "        vertical-align: top;\n",
       "    }\n",
       "\n",
       "    .dataframe thead th {\n",
       "        text-align: right;\n",
       "    }\n",
       "</style>\n",
       "<table border=\"1\" class=\"dataframe\">\n",
       "  <thead>\n",
       "    <tr style=\"text-align: right;\">\n",
       "      <th></th>\n",
       "      <th>student_id</th>\n",
       "      <th>gender</th>\n",
       "    </tr>\n",
       "  </thead>\n",
       "  <tbody>\n",
       "    <tr>\n",
       "      <th>0</th>\n",
       "      <td>010001</td>\n",
       "      <td>Male</td>\n",
       "    </tr>\n",
       "    <tr>\n",
       "      <th>1</th>\n",
       "      <td>030001</td>\n",
       "      <td>Female</td>\n",
       "    </tr>\n",
       "    <tr>\n",
       "      <th>2</th>\n",
       "      <td>070001</td>\n",
       "      <td>Female</td>\n",
       "    </tr>\n",
       "    <tr>\n",
       "      <th>3</th>\n",
       "      <td>080001</td>\n",
       "      <td>Female</td>\n",
       "    </tr>\n",
       "    <tr>\n",
       "      <th>4</th>\n",
       "      <td>110001</td>\n",
       "      <td>Male</td>\n",
       "    </tr>\n",
       "    <tr>\n",
       "      <th>5</th>\n",
       "      <td>120001</td>\n",
       "      <td>Female</td>\n",
       "    </tr>\n",
       "  </tbody>\n",
       "</table>\n",
       "</div>"
      ],
      "text/plain": [
       "  student_id  gender\n",
       "0     010001    Male\n",
       "1     030001  Female\n",
       "2     070001  Female\n",
       "3     080001  Female\n",
       "4     110001    Male\n",
       "5     120001  Female"
      ]
     },
     "execution_count": 2,
     "metadata": {},
     "output_type": "execute_result"
    }
   ],
   "source": [
    "student = pd.DataFrame({\n",
    "    'student_id': ['010001', '030001', '070001', '080001', '110001', '120001'],\n",
    "    'gender': ['Male', 'Female', 'Female', 'Female', 'Male', 'Female']\n",
    "})\n",
    "student"
   ]
  },
  {
   "cell_type": "markdown",
   "metadata": {},
   "source": [
    "#### Mapping with a dictionary"
   ]
  },
  {
   "cell_type": "code",
   "execution_count": 3,
   "metadata": {
    "execution": {
     "iopub.execute_input": "2021-07-11T16:34:08.461547Z",
     "iopub.status.busy": "2021-07-11T16:34:08.460553Z",
     "iopub.status.idle": "2021-07-11T16:34:08.474512Z",
     "shell.execute_reply": "2021-07-11T16:34:08.473515Z",
     "shell.execute_reply.started": "2021-07-11T16:34:08.461547Z"
    }
   },
   "outputs": [
    {
     "data": {
      "text/plain": [
       "0    1\n",
       "1    0\n",
       "2    0\n",
       "3    0\n",
       "4    1\n",
       "5    0\n",
       "Name: gender, dtype: int64"
      ]
     },
     "execution_count": 3,
     "metadata": {},
     "output_type": "execute_result"
    }
   ],
   "source": [
    "gender_map = {'Female': 0, 'Male': 1}\n",
    "student.gender.map(gender_map)"
   ]
  },
  {
   "cell_type": "markdown",
   "metadata": {},
   "source": [
    "#### Mapping with a function"
   ]
  },
  {
   "cell_type": "code",
   "execution_count": 4,
   "metadata": {
    "execution": {
     "iopub.execute_input": "2021-07-11T16:34:08.476507Z",
     "iopub.status.busy": "2021-07-11T16:34:08.475509Z",
     "iopub.status.idle": "2021-07-11T16:34:08.506426Z",
     "shell.execute_reply": "2021-07-11T16:34:08.505429Z",
     "shell.execute_reply.started": "2021-07-11T16:34:08.476507Z"
    }
   },
   "outputs": [
    {
     "data": {
      "text/html": [
       "<div>\n",
       "<style scoped>\n",
       "    .dataframe tbody tr th:only-of-type {\n",
       "        vertical-align: middle;\n",
       "    }\n",
       "\n",
       "    .dataframe tbody tr th {\n",
       "        vertical-align: top;\n",
       "    }\n",
       "\n",
       "    .dataframe thead th {\n",
       "        text-align: right;\n",
       "    }\n",
       "</style>\n",
       "<table border=\"1\" class=\"dataframe\">\n",
       "  <thead>\n",
       "    <tr style=\"text-align: right;\">\n",
       "      <th></th>\n",
       "      <th>student_id</th>\n",
       "      <th>gender</th>\n",
       "      <th>grade</th>\n",
       "    </tr>\n",
       "  </thead>\n",
       "  <tbody>\n",
       "    <tr>\n",
       "      <th>0</th>\n",
       "      <td>010001</td>\n",
       "      <td>Male</td>\n",
       "      <td>1</td>\n",
       "    </tr>\n",
       "    <tr>\n",
       "      <th>1</th>\n",
       "      <td>030001</td>\n",
       "      <td>Female</td>\n",
       "      <td>3</td>\n",
       "    </tr>\n",
       "    <tr>\n",
       "      <th>2</th>\n",
       "      <td>070001</td>\n",
       "      <td>Female</td>\n",
       "      <td>7</td>\n",
       "    </tr>\n",
       "    <tr>\n",
       "      <th>3</th>\n",
       "      <td>080001</td>\n",
       "      <td>Female</td>\n",
       "      <td>8</td>\n",
       "    </tr>\n",
       "    <tr>\n",
       "      <th>4</th>\n",
       "      <td>110001</td>\n",
       "      <td>Male</td>\n",
       "      <td>11</td>\n",
       "    </tr>\n",
       "    <tr>\n",
       "      <th>5</th>\n",
       "      <td>120001</td>\n",
       "      <td>Female</td>\n",
       "      <td>12</td>\n",
       "    </tr>\n",
       "  </tbody>\n",
       "</table>\n",
       "</div>"
      ],
      "text/plain": [
       "  student_id  gender  grade\n",
       "0     010001    Male      1\n",
       "1     030001  Female      3\n",
       "2     070001  Female      7\n",
       "3     080001  Female      8\n",
       "4     110001    Male     11\n",
       "5     120001  Female     12"
      ]
     },
     "execution_count": 4,
     "metadata": {},
     "output_type": "execute_result"
    }
   ],
   "source": [
    "student['grade'] = student.student_id.map(lambda x: int(x[:2]))\n",
    "student"
   ]
  },
  {
   "cell_type": "code",
   "execution_count": 5,
   "metadata": {
    "execution": {
     "iopub.execute_input": "2021-07-11T16:34:08.508422Z",
     "iopub.status.busy": "2021-07-11T16:34:08.507424Z",
     "iopub.status.idle": "2021-07-11T16:34:08.538341Z",
     "shell.execute_reply": "2021-07-11T16:34:08.537343Z",
     "shell.execute_reply.started": "2021-07-11T16:34:08.508422Z"
    }
   },
   "outputs": [
    {
     "data": {
      "text/html": [
       "<div>\n",
       "<style scoped>\n",
       "    .dataframe tbody tr th:only-of-type {\n",
       "        vertical-align: middle;\n",
       "    }\n",
       "\n",
       "    .dataframe tbody tr th {\n",
       "        vertical-align: top;\n",
       "    }\n",
       "\n",
       "    .dataframe thead th {\n",
       "        text-align: right;\n",
       "    }\n",
       "</style>\n",
       "<table border=\"1\" class=\"dataframe\">\n",
       "  <thead>\n",
       "    <tr style=\"text-align: right;\">\n",
       "      <th></th>\n",
       "      <th>student_id</th>\n",
       "      <th>gender</th>\n",
       "      <th>grade</th>\n",
       "      <th>stage</th>\n",
       "    </tr>\n",
       "  </thead>\n",
       "  <tbody>\n",
       "    <tr>\n",
       "      <th>0</th>\n",
       "      <td>010001</td>\n",
       "      <td>Male</td>\n",
       "      <td>1</td>\n",
       "      <td>Primary</td>\n",
       "    </tr>\n",
       "    <tr>\n",
       "      <th>1</th>\n",
       "      <td>030001</td>\n",
       "      <td>Female</td>\n",
       "      <td>3</td>\n",
       "      <td>Primary</td>\n",
       "    </tr>\n",
       "    <tr>\n",
       "      <th>2</th>\n",
       "      <td>070001</td>\n",
       "      <td>Female</td>\n",
       "      <td>7</td>\n",
       "      <td>Secondary</td>\n",
       "    </tr>\n",
       "    <tr>\n",
       "      <th>3</th>\n",
       "      <td>080001</td>\n",
       "      <td>Female</td>\n",
       "      <td>8</td>\n",
       "      <td>Secondary</td>\n",
       "    </tr>\n",
       "    <tr>\n",
       "      <th>4</th>\n",
       "      <td>110001</td>\n",
       "      <td>Male</td>\n",
       "      <td>11</td>\n",
       "      <td>High</td>\n",
       "    </tr>\n",
       "    <tr>\n",
       "      <th>5</th>\n",
       "      <td>120001</td>\n",
       "      <td>Female</td>\n",
       "      <td>12</td>\n",
       "      <td>High</td>\n",
       "    </tr>\n",
       "  </tbody>\n",
       "</table>\n",
       "</div>"
      ],
      "text/plain": [
       "  student_id  gender  grade      stage\n",
       "0     010001    Male      1    Primary\n",
       "1     030001  Female      3    Primary\n",
       "2     070001  Female      7  Secondary\n",
       "3     080001  Female      8  Secondary\n",
       "4     110001    Male     11       High\n",
       "5     120001  Female     12       High"
      ]
     },
     "execution_count": 5,
     "metadata": {},
     "output_type": "execute_result"
    }
   ],
   "source": [
    "def stage_map(grade):\n",
    "    if grade in range(1, 6):\n",
    "        stage = 'Primary'\n",
    "    if grade in range(6, 10):\n",
    "        stage = 'Secondary'\n",
    "    if grade in range(10, 13):\n",
    "        stage = 'High'\n",
    "    return stage\n",
    "\n",
    "student['stage'] = student.grade.map(stage_map)\n",
    "student"
   ]
  },
  {
   "cell_type": "markdown",
   "metadata": {},
   "source": [
    "## 1.2. Window functions"
   ]
  },
  {
   "cell_type": "code",
   "execution_count": 6,
   "metadata": {
    "colab": {},
    "colab_type": "code",
    "execution": {
     "iopub.execute_input": "2021-07-11T16:34:08.539339Z",
     "iopub.status.busy": "2021-07-11T16:34:08.539339Z",
     "iopub.status.idle": "2021-07-11T16:34:08.554301Z",
     "shell.execute_reply": "2021-07-11T16:34:08.553304Z",
     "shell.execute_reply.started": "2021-07-11T16:34:08.539339Z"
    },
    "id": "FAYNfGlR5bHN"
   },
   "outputs": [],
   "source": [
    "import pandas as pd\n",
    "import numpy as np"
   ]
  },
  {
   "cell_type": "code",
   "execution_count": 7,
   "metadata": {
    "execution": {
     "iopub.execute_input": "2021-07-11T16:34:08.558290Z",
     "iopub.status.busy": "2021-07-11T16:34:08.557296Z",
     "iopub.status.idle": "2021-07-11T16:34:09.389767Z",
     "shell.execute_reply": "2021-07-11T16:34:09.388771Z",
     "shell.execute_reply.started": "2021-07-11T16:34:08.558290Z"
    }
   },
   "outputs": [
    {
     "data": {
      "text/html": [
       "<div>\n",
       "<style scoped>\n",
       "    .dataframe tbody tr th:only-of-type {\n",
       "        vertical-align: middle;\n",
       "    }\n",
       "\n",
       "    .dataframe tbody tr th {\n",
       "        vertical-align: top;\n",
       "    }\n",
       "\n",
       "    .dataframe thead th {\n",
       "        text-align: right;\n",
       "    }\n",
       "</style>\n",
       "<table border=\"1\" class=\"dataframe\">\n",
       "  <thead>\n",
       "    <tr style=\"text-align: right;\">\n",
       "      <th></th>\n",
       "      <th>manufacturer</th>\n",
       "      <th>model</th>\n",
       "      <th>type</th>\n",
       "      <th>min_price</th>\n",
       "      <th>price</th>\n",
       "      <th>max_price</th>\n",
       "      <th>mpg_city</th>\n",
       "      <th>mpg_highway</th>\n",
       "      <th>airbags</th>\n",
       "      <th>drive_train</th>\n",
       "      <th>...</th>\n",
       "      <th>passengers</th>\n",
       "      <th>length</th>\n",
       "      <th>wheelbase</th>\n",
       "      <th>width</th>\n",
       "      <th>turn_circle</th>\n",
       "      <th>rear_seat_room</th>\n",
       "      <th>luggage_room</th>\n",
       "      <th>weight</th>\n",
       "      <th>origin</th>\n",
       "      <th>make</th>\n",
       "    </tr>\n",
       "  </thead>\n",
       "  <tbody>\n",
       "    <tr>\n",
       "      <th>0</th>\n",
       "      <td>Chevrolet</td>\n",
       "      <td>Cavalier</td>\n",
       "      <td>Compact</td>\n",
       "      <td>8.5</td>\n",
       "      <td>13.4</td>\n",
       "      <td>18.3</td>\n",
       "      <td>25</td>\n",
       "      <td>36</td>\n",
       "      <td>None</td>\n",
       "      <td>Front</td>\n",
       "      <td>...</td>\n",
       "      <td>5</td>\n",
       "      <td>182</td>\n",
       "      <td>101</td>\n",
       "      <td>66</td>\n",
       "      <td>38</td>\n",
       "      <td>25.0</td>\n",
       "      <td>13.0</td>\n",
       "      <td>2490</td>\n",
       "      <td>USA</td>\n",
       "      <td>Chevrolet Cavalier</td>\n",
       "    </tr>\n",
       "    <tr>\n",
       "      <th>1</th>\n",
       "      <td>Chevrolet</td>\n",
       "      <td>Corsica</td>\n",
       "      <td>Compact</td>\n",
       "      <td>11.4</td>\n",
       "      <td>11.4</td>\n",
       "      <td>11.4</td>\n",
       "      <td>25</td>\n",
       "      <td>34</td>\n",
       "      <td>Driver only</td>\n",
       "      <td>Front</td>\n",
       "      <td>...</td>\n",
       "      <td>5</td>\n",
       "      <td>184</td>\n",
       "      <td>103</td>\n",
       "      <td>68</td>\n",
       "      <td>39</td>\n",
       "      <td>26.0</td>\n",
       "      <td>14.0</td>\n",
       "      <td>2785</td>\n",
       "      <td>USA</td>\n",
       "      <td>Chevrolet Corsica</td>\n",
       "    </tr>\n",
       "    <tr>\n",
       "      <th>2</th>\n",
       "      <td>Chevrolet</td>\n",
       "      <td>Camaro</td>\n",
       "      <td>Sporty</td>\n",
       "      <td>13.4</td>\n",
       "      <td>15.1</td>\n",
       "      <td>16.8</td>\n",
       "      <td>19</td>\n",
       "      <td>28</td>\n",
       "      <td>Driver &amp; Passenger</td>\n",
       "      <td>Rear</td>\n",
       "      <td>...</td>\n",
       "      <td>4</td>\n",
       "      <td>193</td>\n",
       "      <td>101</td>\n",
       "      <td>74</td>\n",
       "      <td>43</td>\n",
       "      <td>25.0</td>\n",
       "      <td>13.0</td>\n",
       "      <td>3240</td>\n",
       "      <td>USA</td>\n",
       "      <td>Chevrolet Camaro</td>\n",
       "    </tr>\n",
       "    <tr>\n",
       "      <th>3</th>\n",
       "      <td>Chevrolet</td>\n",
       "      <td>Lumina</td>\n",
       "      <td>Midsize</td>\n",
       "      <td>13.4</td>\n",
       "      <td>15.9</td>\n",
       "      <td>18.4</td>\n",
       "      <td>21</td>\n",
       "      <td>29</td>\n",
       "      <td>None</td>\n",
       "      <td>Front</td>\n",
       "      <td>...</td>\n",
       "      <td>6</td>\n",
       "      <td>198</td>\n",
       "      <td>108</td>\n",
       "      <td>71</td>\n",
       "      <td>40</td>\n",
       "      <td>28.5</td>\n",
       "      <td>16.0</td>\n",
       "      <td>3195</td>\n",
       "      <td>USA</td>\n",
       "      <td>Chevrolet Lumina</td>\n",
       "    </tr>\n",
       "    <tr>\n",
       "      <th>4</th>\n",
       "      <td>Chevrolet</td>\n",
       "      <td>Lumina_APV</td>\n",
       "      <td>Van</td>\n",
       "      <td>14.7</td>\n",
       "      <td>16.3</td>\n",
       "      <td>18.0</td>\n",
       "      <td>18</td>\n",
       "      <td>23</td>\n",
       "      <td>None</td>\n",
       "      <td>Front</td>\n",
       "      <td>...</td>\n",
       "      <td>7</td>\n",
       "      <td>178</td>\n",
       "      <td>110</td>\n",
       "      <td>74</td>\n",
       "      <td>44</td>\n",
       "      <td>30.5</td>\n",
       "      <td>NaN</td>\n",
       "      <td>3715</td>\n",
       "      <td>USA</td>\n",
       "      <td>Chevrolet Lumina_APV</td>\n",
       "    </tr>\n",
       "  </tbody>\n",
       "</table>\n",
       "<p>5 rows × 27 columns</p>\n",
       "</div>"
      ],
      "text/plain": [
       "  manufacturer       model     type  min_price  price  max_price  mpg_city  \\\n",
       "0    Chevrolet    Cavalier  Compact        8.5   13.4       18.3        25   \n",
       "1    Chevrolet     Corsica  Compact       11.4   11.4       11.4        25   \n",
       "2    Chevrolet      Camaro   Sporty       13.4   15.1       16.8        19   \n",
       "3    Chevrolet      Lumina  Midsize       13.4   15.9       18.4        21   \n",
       "4    Chevrolet  Lumina_APV      Van       14.7   16.3       18.0        18   \n",
       "\n",
       "   mpg_highway             airbags drive_train  ...  passengers  length  \\\n",
       "0           36                None       Front  ...           5     182   \n",
       "1           34         Driver only       Front  ...           5     184   \n",
       "2           28  Driver & Passenger        Rear  ...           4     193   \n",
       "3           29                None       Front  ...           6     198   \n",
       "4           23                None       Front  ...           7     178   \n",
       "\n",
       "   wheelbase  width  turn_circle rear_seat_room  luggage_room  weight  origin  \\\n",
       "0        101     66           38           25.0          13.0    2490     USA   \n",
       "1        103     68           39           26.0          14.0    2785     USA   \n",
       "2        101     74           43           25.0          13.0    3240     USA   \n",
       "3        108     71           40           28.5          16.0    3195     USA   \n",
       "4        110     74           44           30.5           NaN    3715     USA   \n",
       "\n",
       "                   make  \n",
       "0    Chevrolet Cavalier  \n",
       "1     Chevrolet Corsica  \n",
       "2      Chevrolet Camaro  \n",
       "3      Chevrolet Lumina  \n",
       "4  Chevrolet Lumina_APV  \n",
       "\n",
       "[5 rows x 27 columns]"
      ]
     },
     "execution_count": 7,
     "metadata": {},
     "output_type": "execute_result"
    }
   ],
   "source": [
    "cars = pd.read_excel(r'data\\cars.xlsx')\n",
    "cars.head()"
   ]
  },
  {
   "cell_type": "code",
   "execution_count": 8,
   "metadata": {
    "execution": {
     "iopub.execute_input": "2021-07-11T16:34:09.395753Z",
     "iopub.status.busy": "2021-07-11T16:34:09.395753Z",
     "iopub.status.idle": "2021-07-11T16:34:09.486508Z",
     "shell.execute_reply": "2021-07-11T16:34:09.484516Z",
     "shell.execute_reply.started": "2021-07-11T16:34:09.395753Z"
    }
   },
   "outputs": [
    {
     "data": {
      "text/html": [
       "<div>\n",
       "<style scoped>\n",
       "    .dataframe tbody tr th:only-of-type {\n",
       "        vertical-align: middle;\n",
       "    }\n",
       "\n",
       "    .dataframe tbody tr th {\n",
       "        vertical-align: top;\n",
       "    }\n",
       "\n",
       "    .dataframe thead th {\n",
       "        text-align: right;\n",
       "    }\n",
       "</style>\n",
       "<table border=\"1\" class=\"dataframe\">\n",
       "  <thead>\n",
       "    <tr style=\"text-align: right;\">\n",
       "      <th></th>\n",
       "      <th>manufacturer</th>\n",
       "      <th>price</th>\n",
       "      <th>rank</th>\n",
       "      <th>dense_rank</th>\n",
       "      <th>row_number</th>\n",
       "    </tr>\n",
       "  </thead>\n",
       "  <tbody>\n",
       "    <tr>\n",
       "      <th>21</th>\n",
       "      <td>Hyundai</td>\n",
       "      <td>8.0</td>\n",
       "      <td>1</td>\n",
       "      <td>1</td>\n",
       "      <td>1</td>\n",
       "    </tr>\n",
       "    <tr>\n",
       "      <th>24</th>\n",
       "      <td>Hyundai</td>\n",
       "      <td>10.0</td>\n",
       "      <td>2</td>\n",
       "      <td>2</td>\n",
       "      <td>2</td>\n",
       "    </tr>\n",
       "    <tr>\n",
       "      <th>25</th>\n",
       "      <td>Hyundai</td>\n",
       "      <td>10.0</td>\n",
       "      <td>2</td>\n",
       "      <td>2</td>\n",
       "      <td>3</td>\n",
       "    </tr>\n",
       "    <tr>\n",
       "      <th>26</th>\n",
       "      <td>Hyundai</td>\n",
       "      <td>13.9</td>\n",
       "      <td>4</td>\n",
       "      <td>3</td>\n",
       "      <td>4</td>\n",
       "    </tr>\n",
       "    <tr>\n",
       "      <th>23</th>\n",
       "      <td>Hyundai</td>\n",
       "      <td>16.1</td>\n",
       "      <td>5</td>\n",
       "      <td>4</td>\n",
       "      <td>5</td>\n",
       "    </tr>\n",
       "    <tr>\n",
       "      <th>22</th>\n",
       "      <td>Hyundai</td>\n",
       "      <td>18.8</td>\n",
       "      <td>6</td>\n",
       "      <td>5</td>\n",
       "      <td>6</td>\n",
       "    </tr>\n",
       "  </tbody>\n",
       "</table>\n",
       "</div>"
      ],
      "text/plain": [
       "   manufacturer  price  rank  dense_rank  row_number\n",
       "21      Hyundai    8.0     1           1           1\n",
       "24      Hyundai   10.0     2           2           2\n",
       "25      Hyundai   10.0     2           2           3\n",
       "26      Hyundai   13.9     4           3           4\n",
       "23      Hyundai   16.1     5           4           5\n",
       "22      Hyundai   18.8     6           5           6"
      ]
     },
     "execution_count": 8,
     "metadata": {},
     "output_type": "execute_result"
    }
   ],
   "source": [
    "cars[['manufacturer', 'price']]\\\n",
    "    .assign(rank=cars.groupby('manufacturer').price.rank().astype(int))\\\n",
    "    .assign(dense_rank=cars.groupby('manufacturer').price.rank(method='dense').astype(int))\\\n",
    "    .assign(row_number=cars.groupby('manufacturer').price.rank(method='first').astype(int))\\\n",
    "    .sort_values(['manufacturer', 'price'])\\\n",
    "    .loc[cars.manufacturer=='Hyundai']"
   ]
  },
  {
   "cell_type": "markdown",
   "metadata": {},
   "source": [
    "## 1.3. Mathematical transformation\n",
    "Sometimes real world data distribute not very nice, while most transformation techiniques do not affect the distribution. Imagine the label in a regression problem is mostly small values, then Machine Learning algorithms will have a hard time *learning* higher values. By taking advantage of mathematical functions, Data Scientists can control the distribution of data to make them more *nature*.\n",
    "\n",
    "This section covers the most notable transformations. Some other basic and popular ones are:\n",
    "- *Reciprocal* transformation: $\\mathbf{x}=\\mathbf{x}^{-1}$\n",
    "- *Square root* transformation: $\\mathbf{x}=\\sqrt{\\mathbf{x}}$\n",
    "- *Exponential* transformation: $\\mathbf{x}=e^{\\mathbf{x}}$"
   ]
  },
  {
   "cell_type": "code",
   "execution_count": 9,
   "metadata": {
    "execution": {
     "iopub.execute_input": "2021-07-11T16:34:09.490499Z",
     "iopub.status.busy": "2021-07-11T16:34:09.489501Z",
     "iopub.status.idle": "2021-07-11T16:34:10.627565Z",
     "shell.execute_reply": "2021-07-11T16:34:10.627565Z",
     "shell.execute_reply.started": "2021-07-11T16:34:09.490499Z"
    },
    "tags": []
   },
   "outputs": [],
   "source": [
    "import numpy as np\n",
    "import pandas as pd\n",
    "from scipy.stats import skewnorm, boxcox, yeojohnson\n",
    "import matplotlib.pyplot as plt\n",
    "import seaborn as sns\n",
    "plt.style.use('seaborn-deep')\n",
    "sns.set_style('whitegrid')"
   ]
  },
  {
   "cell_type": "markdown",
   "metadata": {},
   "source": [
    "#### Logarithmic transformation\n",
    "This popular technique has the ability to make right skewed data to distribute normally. The formula of the transformation is:\n",
    "\n",
    "$$\\mathbf{x}\\leftarrow\\log_b{(\\mathbf{x}+1)}$$\n",
    "\n",
    "Some notable tips when using log transformation:\n",
    "- It works only on features contain all postive values.\n",
    "- Different base values $b$ can be used, the most common ones are: $e$, $2$ and $10$.\n",
    "- The quantity $1$ is added to $\\mathbf{x}$ to make sure the values after the transformation are all positive, since $\\log{(x+1)}>\\log1=0$."
   ]
  },
  {
   "cell_type": "code",
   "execution_count": 10,
   "metadata": {
    "execution": {
     "iopub.execute_input": "2021-07-11T16:34:10.627565Z",
     "iopub.status.busy": "2021-07-11T16:34:10.627565Z",
     "iopub.status.idle": "2021-07-11T16:34:11.465999Z",
     "shell.execute_reply": "2021-07-11T16:34:11.465009Z",
     "shell.execute_reply.started": "2021-07-11T16:34:10.627565Z"
    },
    "tags": []
   },
   "outputs": [
    {
     "data": {
      "image/png": "[encoded data removed]",
      "text/plain": [
       "<Figure size 1080x360 with 2 Axes>"
      ]
     },
     "metadata": {},
     "output_type": "display_data"
    }
   ],
   "source": [
    "df = pd.DataFrame({'x': skewnorm.rvs(a=4, loc=1, size=10000)})\n",
    "df = df.assign(x_scaled=np.log10(df.x+1))\n",
    "\n",
    "fig, ax = plt.subplots(1, 2, figsize=(15,5))\n",
    "sns.distplot(df.x, ax=ax[0])\n",
    "sns.distplot(df.x_scaled, ax=ax[1])\n",
    "plt.show()"
   ]
  },
  {
   "cell_type": "markdown",
   "metadata": {},
   "source": [
    "#### Box-Cox transformation\n",
    "Box-Cox function is a member of power functions family. It has the effect of making data more normal distribution-like. The transformation is given by:\n",
    "\n",
    "$$\\mathbf{x}\\leftarrow\n",
    "\\begin{cases}\n",
    "    {\\dfrac {\\mathbf{x}^{\\lambda}-1}{\\lambda}}&{\\text{if }}\\lambda\\neq 0\\\\\n",
    "    \\ln\\mathbf{x}&{\\text{if }}\\lambda=0\n",
    "\\end{cases}\n",
    "$$\n",
    "\n",
    "By default, the `scipy.stats.boxcox` function estimates the value of $\\lambda$ that maximizes the log-likelihood function."
   ]
  },
  {
   "cell_type": "code",
   "execution_count": 11,
   "metadata": {
    "execution": {
     "iopub.execute_input": "2021-07-11T16:34:11.469988Z",
     "iopub.status.busy": "2021-07-11T16:34:11.467994Z",
     "iopub.status.idle": "2021-07-11T16:34:12.236994Z",
     "shell.execute_reply": "2021-07-11T16:34:12.235999Z",
     "shell.execute_reply.started": "2021-07-11T16:34:11.469988Z"
    }
   },
   "outputs": [
    {
     "data": {
      "image/png": "[encoded data removed]",
      "text/plain": [
       "<Figure size 1080x360 with 2 Axes>"
      ]
     },
     "metadata": {},
     "output_type": "display_data"
    }
   ],
   "source": [
    "df = pd.DataFrame({'x': skewnorm.rvs(a=4, loc=1, size=10000)})\n",
    "df = df.assign(x_scaled=boxcox(df.x)[0])\n",
    "\n",
    "fig, ax = plt.subplots(1, 2, figsize=(15,5))\n",
    "sns.distplot(df.x, ax=ax[0])\n",
    "sns.distplot(df.x_scaled, ax=ax[1])\n",
    "plt.show()"
   ]
  },
  {
   "cell_type": "code",
   "execution_count": 12,
   "metadata": {
    "execution": {
     "iopub.execute_input": "2021-07-11T16:34:12.238990Z",
     "iopub.status.busy": "2021-07-11T16:34:12.237991Z",
     "iopub.status.idle": "2021-07-11T16:34:12.254947Z",
     "shell.execute_reply": "2021-07-11T16:34:12.250958Z",
     "shell.execute_reply.started": "2021-07-11T16:34:12.238990Z"
    }
   },
   "outputs": [
    {
     "data": {
      "text/plain": [
       "(array([0.        , 0.87906495, 1.61395204, 2.26850639]), 0.660463361413373)"
      ]
     },
     "execution_count": 12,
     "metadata": {},
     "output_type": "execute_result"
    }
   ],
   "source": [
    "x = np.array([1, 2, 3, 4])\n",
    "boxcox(x)"
   ]
  },
  {
   "cell_type": "code",
   "execution_count": 13,
   "metadata": {
    "execution": {
     "iopub.execute_input": "2021-07-11T16:34:12.258939Z",
     "iopub.status.busy": "2021-07-11T16:34:12.257939Z",
     "iopub.status.idle": "2021-07-11T16:34:12.267912Z",
     "shell.execute_reply": "2021-07-11T16:34:12.266915Z",
     "shell.execute_reply.started": "2021-07-11T16:34:12.258939Z"
    }
   },
   "outputs": [
    {
     "data": {
      "text/plain": [
       "0.8790648325641579"
      ]
     },
     "execution_count": 13,
     "metadata": {},
     "output_type": "execute_result"
    }
   ],
   "source": [
    "x = 2\n",
    "ld = 0.660463\n",
    "\n",
    "(x**ld - 1)/ld"
   ]
  },
  {
   "cell_type": "code",
   "execution_count": null,
   "metadata": {},
   "outputs": [],
   "source": []
  },
  {
   "cell_type": "markdown",
   "metadata": {},
   "source": [
    "#### Yeo-Johnson transformation"
   ]
  },
  {
   "cell_type": "markdown",
   "metadata": {},
   "source": [
    "# 2. Pivot table"
   ]
  },
  {
   "cell_type": "markdown",
   "metadata": {},
   "source": [
    "## 2.1. Wide and long form\n",
    "\n",
    "#### Wide form table\n",
    "Wide form table divides a variable and place each part in a column. Therefore, it allows displaying more data, and is convenient for keeping tract of exactly one index (sales or profit for example). However, wide form supports not very well storing two variables ore more.\n",
    "\n",
    "Color|2000 Q1|2000 Q2|2000 Q3|2000 Q4|\n",
    ":----|------:|------:|------:|------:|\n",
    "Red  |\\$ 1000|\\$ 1200|\\$ 1500|\\$ 1700|\n",
    "Green|\\$ 1500|\\$ 1500|\\$ 1575|\\$ 1800|\n",
    "Blue |\\$ 2000|\\$ 2200|\\$ 2000|\\$ 2800|\n",
    "\n",
    "#### Long form table\n",
    "Long form stores each variable in only one column, allowing you to have unlimited number of features. In data analysis, long form is considered tidy data and is used as standard tabular data format.\n",
    "\n",
    "Color|Quarter|Sales   |Quantity|Price|\n",
    ":----|:------|-------:|-------:|----:|\n",
    "Red  |2000 Q1|\\$ 1000 |50      |\\$ 20|\n",
    "Green|2000 Q1|\\$ 1500 |50      |\\$ 30|\n",
    "Blue |2000 Q1|\\$ 2000 |40      |\\$ 50|\n",
    "Red  |2000 Q2|\\$ 1200 |60      |\\$ 20|\n",
    "Green|2000 Q2|\\$ 1500 |50      |\\$ 30|\n",
    "Blue |2000 Q2|\\$ 2200 |40      |\\$ 55|\n",
    "Red  |2000 Q3|\\$ 1500 |75      |\\$ 20|\n",
    "Green|2000 Q3|\\$ 1575 |45      |\\$ 35|\n",
    "Blue |2000 Q3|\\$ 2000 |40      |\\$ 50|\n",
    "Red  |2000 Q4|\\$ 1700 |85      |\\$ 20|\n",
    "Green|2000 Q4|\\$ 1800 |20      |\\$ 60|\n",
    "Blue |2000 Q4|\\$ 2800 |70      |\\$ 40|"
   ]
  },
  {
   "cell_type": "markdown",
   "metadata": {},
   "source": [
    "## 2.2. Unpivoting\n",
    "Unpivoting is the process of transforming a table from wide form to long form. This technique is very useful in tidying up messy data."
   ]
  },
  {
   "cell_type": "code",
   "execution_count": 14,
   "metadata": {
    "colab": {},
    "colab_type": "code",
    "execution": {
     "iopub.execute_input": "2021-07-11T16:34:12.269910Z",
     "iopub.status.busy": "2021-07-11T16:34:12.269910Z",
     "iopub.status.idle": "2021-07-11T16:34:12.284867Z",
     "shell.execute_reply": "2021-07-11T16:34:12.282871Z",
     "shell.execute_reply.started": "2021-07-11T16:34:12.269910Z"
    },
    "id": "FAYNfGlR5bHN"
   },
   "outputs": [],
   "source": [
    "import pandas as pd\n",
    "import numpy as np"
   ]
  },
  {
   "cell_type": "code",
   "execution_count": 15,
   "metadata": {
    "execution": {
     "iopub.execute_input": "2021-07-11T16:34:12.293849Z",
     "iopub.status.busy": "2021-07-11T16:34:12.286863Z",
     "iopub.status.idle": "2021-07-11T16:34:12.411179Z",
     "shell.execute_reply": "2021-07-11T16:34:12.410182Z",
     "shell.execute_reply.started": "2021-07-11T16:34:12.293849Z"
    }
   },
   "outputs": [
    {
     "data": {
      "text/html": [
       "<div>\n",
       "<style scoped>\n",
       "    .dataframe tbody tr th:only-of-type {\n",
       "        vertical-align: middle;\n",
       "    }\n",
       "\n",
       "    .dataframe tbody tr th {\n",
       "        vertical-align: top;\n",
       "    }\n",
       "\n",
       "    .dataframe thead th {\n",
       "        text-align: right;\n",
       "    }\n",
       "</style>\n",
       "<table border=\"1\" class=\"dataframe\">\n",
       "  <thead>\n",
       "    <tr style=\"text-align: right;\">\n",
       "      <th></th>\n",
       "      <th>Z</th>\n",
       "      <th>0</th>\n",
       "      <th>0.01</th>\n",
       "      <th>0.02</th>\n",
       "      <th>0.03</th>\n",
       "      <th>0.04</th>\n",
       "      <th>0.05</th>\n",
       "      <th>0.06</th>\n",
       "      <th>0.07</th>\n",
       "      <th>0.08</th>\n",
       "      <th>0.09</th>\n",
       "    </tr>\n",
       "  </thead>\n",
       "  <tbody>\n",
       "    <tr>\n",
       "      <th>0</th>\n",
       "      <td>0.0</td>\n",
       "      <td>0.5000</td>\n",
       "      <td>0.4960</td>\n",
       "      <td>0.4920</td>\n",
       "      <td>0.9880</td>\n",
       "      <td>0.9840</td>\n",
       "      <td>0.9801</td>\n",
       "      <td>0.4761</td>\n",
       "      <td>0.9721</td>\n",
       "      <td>0.9681</td>\n",
       "      <td>0.9641</td>\n",
       "    </tr>\n",
       "    <tr>\n",
       "      <th>1</th>\n",
       "      <td>0.1</td>\n",
       "      <td>0.4602</td>\n",
       "      <td>0.4562</td>\n",
       "      <td>0.4522</td>\n",
       "      <td>0.4483</td>\n",
       "      <td>0.4443</td>\n",
       "      <td>0.4404</td>\n",
       "      <td>0.4364</td>\n",
       "      <td>0.4325</td>\n",
       "      <td>0.4286</td>\n",
       "      <td>0.4247</td>\n",
       "    </tr>\n",
       "    <tr>\n",
       "      <th>2</th>\n",
       "      <td>0.2</td>\n",
       "      <td>0.4207</td>\n",
       "      <td>0.4168</td>\n",
       "      <td>0.4129</td>\n",
       "      <td>0.4090</td>\n",
       "      <td>0.4052</td>\n",
       "      <td>0.4013</td>\n",
       "      <td>0.3936</td>\n",
       "      <td>0.8936</td>\n",
       "      <td>0.3897</td>\n",
       "      <td>0.3859</td>\n",
       "    </tr>\n",
       "    <tr>\n",
       "      <th>3</th>\n",
       "      <td>0.3</td>\n",
       "      <td>0.3821</td>\n",
       "      <td>0.3783</td>\n",
       "      <td>0.3745</td>\n",
       "      <td>0.3707</td>\n",
       "      <td>0.3669</td>\n",
       "      <td>0.3632</td>\n",
       "      <td>0.3594</td>\n",
       "      <td>0.3557</td>\n",
       "      <td>0.3520</td>\n",
       "      <td>0.3483</td>\n",
       "    </tr>\n",
       "    <tr>\n",
       "      <th>4</th>\n",
       "      <td>0.4</td>\n",
       "      <td>0.3446</td>\n",
       "      <td>0.3409</td>\n",
       "      <td>0.3372</td>\n",
       "      <td>0.3336</td>\n",
       "      <td>0.3300</td>\n",
       "      <td>0.3264</td>\n",
       "      <td>0.3228</td>\n",
       "      <td>0.3192</td>\n",
       "      <td>0.3156</td>\n",
       "      <td>0.3121</td>\n",
       "    </tr>\n",
       "  </tbody>\n",
       "</table>\n",
       "</div>"
      ],
      "text/plain": [
       "     Z       0    0.01    0.02    0.03    0.04    0.05    0.06    0.07  \\\n",
       "0  0.0  0.5000  0.4960  0.4920  0.9880  0.9840  0.9801  0.4761  0.9721   \n",
       "1  0.1  0.4602  0.4562  0.4522  0.4483  0.4443  0.4404  0.4364  0.4325   \n",
       "2  0.2  0.4207  0.4168  0.4129  0.4090  0.4052  0.4013  0.3936  0.8936   \n",
       "3  0.3  0.3821  0.3783  0.3745  0.3707  0.3669  0.3632  0.3594  0.3557   \n",
       "4  0.4  0.3446  0.3409  0.3372  0.3336  0.3300  0.3264  0.3228  0.3192   \n",
       "\n",
       "     0.08    0.09  \n",
       "0  0.9681  0.9641  \n",
       "1  0.4286  0.4247  \n",
       "2  0.3897  0.3859  \n",
       "3  0.3520  0.3483  \n",
       "4  0.3156  0.3121  "
      ]
     },
     "execution_count": 15,
     "metadata": {},
     "output_type": "execute_result"
    }
   ],
   "source": [
    "z_score = pd.read_excel(r'data\\z_score.xlsx')\n",
    "z_score.head()"
   ]
  },
  {
   "cell_type": "code",
   "execution_count": 16,
   "metadata": {
    "execution": {
     "iopub.execute_input": "2021-07-11T16:34:12.413173Z",
     "iopub.status.busy": "2021-07-11T16:34:12.412178Z",
     "iopub.status.idle": "2021-07-11T16:34:12.443095Z",
     "shell.execute_reply": "2021-07-11T16:34:12.442096Z",
     "shell.execute_reply.started": "2021-07-11T16:34:12.413173Z"
    },
    "tags": []
   },
   "outputs": [
    {
     "data": {
      "text/html": [
       "<div>\n",
       "<style scoped>\n",
       "    .dataframe tbody tr th:only-of-type {\n",
       "        vertical-align: middle;\n",
       "    }\n",
       "\n",
       "    .dataframe tbody tr th {\n",
       "        vertical-align: top;\n",
       "    }\n",
       "\n",
       "    .dataframe thead th {\n",
       "        text-align: right;\n",
       "    }\n",
       "</style>\n",
       "<table border=\"1\" class=\"dataframe\">\n",
       "  <thead>\n",
       "    <tr style=\"text-align: right;\">\n",
       "      <th></th>\n",
       "      <th>Z</th>\n",
       "      <th>z2</th>\n",
       "      <th>right_area</th>\n",
       "    </tr>\n",
       "  </thead>\n",
       "  <tbody>\n",
       "    <tr>\n",
       "      <th>0</th>\n",
       "      <td>0.0</td>\n",
       "      <td>0</td>\n",
       "      <td>0.5000</td>\n",
       "    </tr>\n",
       "    <tr>\n",
       "      <th>1</th>\n",
       "      <td>0.1</td>\n",
       "      <td>0</td>\n",
       "      <td>0.4602</td>\n",
       "    </tr>\n",
       "    <tr>\n",
       "      <th>2</th>\n",
       "      <td>0.2</td>\n",
       "      <td>0</td>\n",
       "      <td>0.4207</td>\n",
       "    </tr>\n",
       "    <tr>\n",
       "      <th>3</th>\n",
       "      <td>0.3</td>\n",
       "      <td>0</td>\n",
       "      <td>0.3821</td>\n",
       "    </tr>\n",
       "    <tr>\n",
       "      <th>4</th>\n",
       "      <td>0.4</td>\n",
       "      <td>0</td>\n",
       "      <td>0.3446</td>\n",
       "    </tr>\n",
       "  </tbody>\n",
       "</table>\n",
       "</div>"
      ],
      "text/plain": [
       "     Z z2  right_area\n",
       "0  0.0  0      0.5000\n",
       "1  0.1  0      0.4602\n",
       "2  0.2  0      0.4207\n",
       "3  0.3  0      0.3821\n",
       "4  0.4  0      0.3446"
      ]
     },
     "execution_count": 16,
     "metadata": {},
     "output_type": "execute_result"
    }
   ],
   "source": [
    "z_score = z_score.melt(id_vars='Z', var_name='z2', value_name='right_area')\n",
    "z_score.head()"
   ]
  },
  {
   "cell_type": "code",
   "execution_count": 17,
   "metadata": {
    "execution": {
     "iopub.execute_input": "2021-07-11T16:34:12.445090Z",
     "iopub.status.busy": "2021-07-11T16:34:12.445090Z",
     "iopub.status.idle": "2021-07-11T16:34:12.475008Z",
     "shell.execute_reply": "2021-07-11T16:34:12.474010Z",
     "shell.execute_reply.started": "2021-07-11T16:34:12.445090Z"
    },
    "tags": []
   },
   "outputs": [
    {
     "data": {
      "text/html": [
       "<div>\n",
       "<style scoped>\n",
       "    .dataframe tbody tr th:only-of-type {\n",
       "        vertical-align: middle;\n",
       "    }\n",
       "\n",
       "    .dataframe tbody tr th {\n",
       "        vertical-align: top;\n",
       "    }\n",
       "\n",
       "    .dataframe thead th {\n",
       "        text-align: right;\n",
       "    }\n",
       "</style>\n",
       "<table border=\"1\" class=\"dataframe\">\n",
       "  <thead>\n",
       "    <tr style=\"text-align: right;\">\n",
       "      <th></th>\n",
       "      <th>z_score</th>\n",
       "      <th>right_area</th>\n",
       "    </tr>\n",
       "  </thead>\n",
       "  <tbody>\n",
       "    <tr>\n",
       "      <th>0</th>\n",
       "      <td>0.0</td>\n",
       "      <td>0.5000</td>\n",
       "    </tr>\n",
       "    <tr>\n",
       "      <th>1</th>\n",
       "      <td>0.1</td>\n",
       "      <td>0.4602</td>\n",
       "    </tr>\n",
       "    <tr>\n",
       "      <th>2</th>\n",
       "      <td>0.2</td>\n",
       "      <td>0.4207</td>\n",
       "    </tr>\n",
       "    <tr>\n",
       "      <th>3</th>\n",
       "      <td>0.3</td>\n",
       "      <td>0.3821</td>\n",
       "    </tr>\n",
       "    <tr>\n",
       "      <th>4</th>\n",
       "      <td>0.4</td>\n",
       "      <td>0.3446</td>\n",
       "    </tr>\n",
       "    <tr>\n",
       "      <th>...</th>\n",
       "      <td>...</td>\n",
       "      <td>...</td>\n",
       "    </tr>\n",
       "    <tr>\n",
       "      <th>305</th>\n",
       "      <td>2.69</td>\n",
       "      <td>0.0036</td>\n",
       "    </tr>\n",
       "    <tr>\n",
       "      <th>306</th>\n",
       "      <td>2.79</td>\n",
       "      <td>0.0026</td>\n",
       "    </tr>\n",
       "    <tr>\n",
       "      <th>307</th>\n",
       "      <td>2.89</td>\n",
       "      <td>0.0019</td>\n",
       "    </tr>\n",
       "    <tr>\n",
       "      <th>308</th>\n",
       "      <td>2.99</td>\n",
       "      <td>0.0014</td>\n",
       "    </tr>\n",
       "    <tr>\n",
       "      <th>309</th>\n",
       "      <td>3.09</td>\n",
       "      <td>0.0010</td>\n",
       "    </tr>\n",
       "  </tbody>\n",
       "</table>\n",
       "<p>310 rows × 2 columns</p>\n",
       "</div>"
      ],
      "text/plain": [
       "    z_score  right_area\n",
       "0       0.0      0.5000\n",
       "1       0.1      0.4602\n",
       "2       0.2      0.4207\n",
       "3       0.3      0.3821\n",
       "4       0.4      0.3446\n",
       "..      ...         ...\n",
       "305    2.69      0.0036\n",
       "306    2.79      0.0026\n",
       "307    2.89      0.0019\n",
       "308    2.99      0.0014\n",
       "309    3.09      0.0010\n",
       "\n",
       "[310 rows x 2 columns]"
      ]
     },
     "execution_count": 17,
     "metadata": {},
     "output_type": "execute_result"
    }
   ],
   "source": [
    "z_score['z_score'] = z_score.Z + z_score.z2\n",
    "z_score = z_score[['z_score', 'right_area']]\n",
    "z_score"
   ]
  },
  {
   "cell_type": "markdown",
   "metadata": {},
   "source": [
    "## 2.3. Pivot table\n",
    "Pivoting is the process of transforming a table from long form to wide form. Notice that your table is already tidy, so pivot table mainly works as a tool to summarise your data."
   ]
  },
  {
   "cell_type": "code",
   "execution_count": 18,
   "metadata": {
    "colab": {},
    "colab_type": "code",
    "execution": {
     "iopub.execute_input": "2021-07-11T16:34:12.477002Z",
     "iopub.status.busy": "2021-07-11T16:34:12.476006Z",
     "iopub.status.idle": "2021-07-11T16:34:12.506926Z",
     "shell.execute_reply": "2021-07-11T16:34:12.505925Z",
     "shell.execute_reply.started": "2021-07-11T16:34:12.477002Z"
    },
    "id": "FAYNfGlR5bHN"
   },
   "outputs": [],
   "source": [
    "import pandas as pd\n",
    "import numpy as np"
   ]
  },
  {
   "cell_type": "code",
   "execution_count": 19,
   "metadata": {
    "execution": {
     "iopub.execute_input": "2021-07-11T16:34:12.508918Z",
     "iopub.status.busy": "2021-07-11T16:34:12.507921Z",
     "iopub.status.idle": "2021-07-11T16:34:12.538838Z",
     "shell.execute_reply": "2021-07-11T16:34:12.537839Z",
     "shell.execute_reply.started": "2021-07-11T16:34:12.508918Z"
    }
   },
   "outputs": [
    {
     "data": {
      "text/html": [
       "<div>\n",
       "<style scoped>\n",
       "    .dataframe tbody tr th:only-of-type {\n",
       "        vertical-align: middle;\n",
       "    }\n",
       "\n",
       "    .dataframe tbody tr th {\n",
       "        vertical-align: top;\n",
       "    }\n",
       "\n",
       "    .dataframe thead th {\n",
       "        text-align: right;\n",
       "    }\n",
       "</style>\n",
       "<table border=\"1\" class=\"dataframe\">\n",
       "  <thead>\n",
       "    <tr style=\"text-align: right;\">\n",
       "      <th></th>\n",
       "      <th>Market</th>\n",
       "      <th>Color</th>\n",
       "      <th>Size</th>\n",
       "      <th>Price</th>\n",
       "      <th>Sales</th>\n",
       "    </tr>\n",
       "  </thead>\n",
       "  <tbody>\n",
       "    <tr>\n",
       "      <th>0</th>\n",
       "      <td>Asian</td>\n",
       "      <td>Red</td>\n",
       "      <td>Large</td>\n",
       "      <td>17</td>\n",
       "      <td>68000</td>\n",
       "    </tr>\n",
       "    <tr>\n",
       "      <th>1</th>\n",
       "      <td>Asian</td>\n",
       "      <td>Red</td>\n",
       "      <td>Small</td>\n",
       "      <td>11</td>\n",
       "      <td>44000</td>\n",
       "    </tr>\n",
       "    <tr>\n",
       "      <th>2</th>\n",
       "      <td>Asian</td>\n",
       "      <td>Blue</td>\n",
       "      <td>Large</td>\n",
       "      <td>19</td>\n",
       "      <td>57000</td>\n",
       "    </tr>\n",
       "    <tr>\n",
       "      <th>3</th>\n",
       "      <td>Asian</td>\n",
       "      <td>Blue</td>\n",
       "      <td>Small</td>\n",
       "      <td>13</td>\n",
       "      <td>52000</td>\n",
       "    </tr>\n",
       "    <tr>\n",
       "      <th>4</th>\n",
       "      <td>Europe</td>\n",
       "      <td>Red</td>\n",
       "      <td>Large</td>\n",
       "      <td>18</td>\n",
       "      <td>81000</td>\n",
       "    </tr>\n",
       "    <tr>\n",
       "      <th>5</th>\n",
       "      <td>Europe</td>\n",
       "      <td>Red</td>\n",
       "      <td>Small</td>\n",
       "      <td>12</td>\n",
       "      <td>72000</td>\n",
       "    </tr>\n",
       "    <tr>\n",
       "      <th>6</th>\n",
       "      <td>Europe</td>\n",
       "      <td>Blue</td>\n",
       "      <td>Large</td>\n",
       "      <td>20</td>\n",
       "      <td>90000</td>\n",
       "    </tr>\n",
       "    <tr>\n",
       "      <th>7</th>\n",
       "      <td>Europe</td>\n",
       "      <td>Blue</td>\n",
       "      <td>Small</td>\n",
       "      <td>14</td>\n",
       "      <td>77000</td>\n",
       "    </tr>\n",
       "  </tbody>\n",
       "</table>\n",
       "</div>"
      ],
      "text/plain": [
       "   Market Color   Size  Price  Sales\n",
       "0   Asian   Red  Large     17  68000\n",
       "1   Asian   Red  Small     11  44000\n",
       "2   Asian  Blue  Large     19  57000\n",
       "3   Asian  Blue  Small     13  52000\n",
       "4  Europe   Red  Large     18  81000\n",
       "5  Europe   Red  Small     12  72000\n",
       "6  Europe  Blue  Large     20  90000\n",
       "7  Europe  Blue  Small     14  77000"
      ]
     },
     "execution_count": 19,
     "metadata": {},
     "output_type": "execute_result"
    }
   ],
   "source": [
    "long = pd.DataFrame({\n",
    "    'Market': ['Asian', 'Asian', 'Asian', 'Asian', 'Europe', 'Europe', 'Europe', 'Europe'],\n",
    "    'Color': ['Red', 'Red', 'Blue', 'Blue', 'Red', 'Red', 'Blue', 'Blue'],\n",
    "    'Size': ['Large', 'Small', 'Large', 'Small','Large', 'Small', 'Large', 'Small'],\n",
    "    'Price': [17, 11, 19, 13, 18, 12, 20, 14],\n",
    "    'Sales': [68000, 44000, 57000, 52000, 81000, 72000, 90000, 77000]\n",
    "})\n",
    "long"
   ]
  },
  {
   "cell_type": "markdown",
   "metadata": {},
   "source": [
    "#### Basic pivoting\n",
    "Pivoting usually returns duplicated values, handling them requires an aggregate function. The default function used in the `pivot_table()` method is `np.mean`. In this example, we should use `np.sum` for `Sales` and `np.mean` for `Price`."
   ]
  },
  {
   "cell_type": "code",
   "execution_count": 20,
   "metadata": {
    "execution": {
     "iopub.execute_input": "2021-07-11T16:34:12.540833Z",
     "iopub.status.busy": "2021-07-11T16:34:12.539835Z",
     "iopub.status.idle": "2021-07-11T16:34:12.586709Z",
     "shell.execute_reply": "2021-07-11T16:34:12.585712Z",
     "shell.execute_reply.started": "2021-07-11T16:34:12.540833Z"
    }
   },
   "outputs": [
    {
     "data": {
      "text/html": [
       "<div>\n",
       "<style scoped>\n",
       "    .dataframe tbody tr th:only-of-type {\n",
       "        vertical-align: middle;\n",
       "    }\n",
       "\n",
       "    .dataframe tbody tr th {\n",
       "        vertical-align: top;\n",
       "    }\n",
       "\n",
       "    .dataframe thead th {\n",
       "        text-align: right;\n",
       "    }\n",
       "</style>\n",
       "<table border=\"1\" class=\"dataframe\">\n",
       "  <thead>\n",
       "    <tr style=\"text-align: right;\">\n",
       "      <th></th>\n",
       "      <th>Market</th>\n",
       "      <th>Color</th>\n",
       "      <th>Large</th>\n",
       "      <th>Small</th>\n",
       "    </tr>\n",
       "  </thead>\n",
       "  <tbody>\n",
       "    <tr>\n",
       "      <th>0</th>\n",
       "      <td>Asian</td>\n",
       "      <td>Blue</td>\n",
       "      <td>57000</td>\n",
       "      <td>52000</td>\n",
       "    </tr>\n",
       "    <tr>\n",
       "      <th>1</th>\n",
       "      <td>Asian</td>\n",
       "      <td>Red</td>\n",
       "      <td>68000</td>\n",
       "      <td>44000</td>\n",
       "    </tr>\n",
       "    <tr>\n",
       "      <th>2</th>\n",
       "      <td>Europe</td>\n",
       "      <td>Blue</td>\n",
       "      <td>90000</td>\n",
       "      <td>77000</td>\n",
       "    </tr>\n",
       "    <tr>\n",
       "      <th>3</th>\n",
       "      <td>Europe</td>\n",
       "      <td>Red</td>\n",
       "      <td>81000</td>\n",
       "      <td>72000</td>\n",
       "    </tr>\n",
       "  </tbody>\n",
       "</table>\n",
       "</div>"
      ],
      "text/plain": [
       "   Market Color  Large  Small\n",
       "0   Asian  Blue  57000  52000\n",
       "1   Asian   Red  68000  44000\n",
       "2  Europe  Blue  90000  77000\n",
       "3  Europe   Red  81000  72000"
      ]
     },
     "execution_count": 20,
     "metadata": {},
     "output_type": "execute_result"
    }
   ],
   "source": [
    "long\\\n",
    "    .pivot_table(\n",
    "        index=['Market', 'Color'],\n",
    "        columns='Size',\n",
    "        values='Sales',\n",
    "        aggfunc=np.sum)\\\n",
    "    .reset_index()\\\n",
    "    .rename_axis(None, axis=1)"
   ]
  },
  {
   "cell_type": "code",
   "execution_count": 21,
   "metadata": {
    "execution": {
     "iopub.execute_input": "2021-07-11T16:34:12.590700Z",
     "iopub.status.busy": "2021-07-11T16:34:12.588706Z",
     "iopub.status.idle": "2021-07-11T16:34:12.634587Z",
     "shell.execute_reply": "2021-07-11T16:34:12.633583Z",
     "shell.execute_reply.started": "2021-07-11T16:34:12.590700Z"
    }
   },
   "outputs": [
    {
     "data": {
      "text/html": [
       "<div>\n",
       "<style scoped>\n",
       "    .dataframe tbody tr th:only-of-type {\n",
       "        vertical-align: middle;\n",
       "    }\n",
       "\n",
       "    .dataframe tbody tr th {\n",
       "        vertical-align: top;\n",
       "    }\n",
       "\n",
       "    .dataframe thead th {\n",
       "        text-align: right;\n",
       "    }\n",
       "</style>\n",
       "<table border=\"1\" class=\"dataframe\">\n",
       "  <thead>\n",
       "    <tr style=\"text-align: right;\">\n",
       "      <th></th>\n",
       "      <th>Market</th>\n",
       "      <th>Color</th>\n",
       "      <th>Large</th>\n",
       "      <th>Small</th>\n",
       "    </tr>\n",
       "  </thead>\n",
       "  <tbody>\n",
       "    <tr>\n",
       "      <th>0</th>\n",
       "      <td>Asian</td>\n",
       "      <td>Blue</td>\n",
       "      <td>19</td>\n",
       "      <td>13</td>\n",
       "    </tr>\n",
       "    <tr>\n",
       "      <th>1</th>\n",
       "      <td>Asian</td>\n",
       "      <td>Red</td>\n",
       "      <td>17</td>\n",
       "      <td>11</td>\n",
       "    </tr>\n",
       "    <tr>\n",
       "      <th>2</th>\n",
       "      <td>Europe</td>\n",
       "      <td>Blue</td>\n",
       "      <td>20</td>\n",
       "      <td>14</td>\n",
       "    </tr>\n",
       "    <tr>\n",
       "      <th>3</th>\n",
       "      <td>Europe</td>\n",
       "      <td>Red</td>\n",
       "      <td>18</td>\n",
       "      <td>12</td>\n",
       "    </tr>\n",
       "  </tbody>\n",
       "</table>\n",
       "</div>"
      ],
      "text/plain": [
       "   Market Color  Large  Small\n",
       "0   Asian  Blue     19     13\n",
       "1   Asian   Red     17     11\n",
       "2  Europe  Blue     20     14\n",
       "3  Europe   Red     18     12"
      ]
     },
     "execution_count": 21,
     "metadata": {},
     "output_type": "execute_result"
    }
   ],
   "source": [
    "long\\\n",
    "    .pivot_table(\n",
    "        index=['Market', 'Color'],\n",
    "        columns='Size',\n",
    "        values='Price',\n",
    "        aggfunc=np.mean)\\\n",
    "    .reset_index()\\\n",
    "    .rename_axis(None, axis=1)"
   ]
  },
  {
   "cell_type": "markdown",
   "metadata": {},
   "source": [
    "#### Multivariable pivoting\n",
    "The more advanced the technique, the more complicated the tools are."
   ]
  },
  {
   "cell_type": "code",
   "execution_count": 22,
   "metadata": {
    "execution": {
     "iopub.execute_input": "2021-07-11T16:34:12.636577Z",
     "iopub.status.busy": "2021-07-11T16:34:12.635580Z",
     "iopub.status.idle": "2021-07-11T16:34:12.682453Z",
     "shell.execute_reply": "2021-07-11T16:34:12.681457Z",
     "shell.execute_reply.started": "2021-07-11T16:34:12.636577Z"
    }
   },
   "outputs": [
    {
     "data": {
      "text/html": [
       "<div>\n",
       "<style scoped>\n",
       "    .dataframe tbody tr th:only-of-type {\n",
       "        vertical-align: middle;\n",
       "    }\n",
       "\n",
       "    .dataframe tbody tr th {\n",
       "        vertical-align: top;\n",
       "    }\n",
       "\n",
       "    .dataframe thead tr th {\n",
       "        text-align: left;\n",
       "    }\n",
       "\n",
       "    .dataframe thead tr:last-of-type th {\n",
       "        text-align: right;\n",
       "    }\n",
       "</style>\n",
       "<table border=\"1\" class=\"dataframe\">\n",
       "  <thead>\n",
       "    <tr>\n",
       "      <th></th>\n",
       "      <th colspan=\"2\" halign=\"left\">Price</th>\n",
       "      <th colspan=\"2\" halign=\"left\">Sales</th>\n",
       "    </tr>\n",
       "    <tr>\n",
       "      <th>Color</th>\n",
       "      <th>Blue</th>\n",
       "      <th>Red</th>\n",
       "      <th>Blue</th>\n",
       "      <th>Red</th>\n",
       "    </tr>\n",
       "    <tr>\n",
       "      <th>Market</th>\n",
       "      <th></th>\n",
       "      <th></th>\n",
       "      <th></th>\n",
       "      <th></th>\n",
       "    </tr>\n",
       "  </thead>\n",
       "  <tbody>\n",
       "    <tr>\n",
       "      <th>Asian</th>\n",
       "      <td>16</td>\n",
       "      <td>14</td>\n",
       "      <td>109000</td>\n",
       "      <td>112000</td>\n",
       "    </tr>\n",
       "    <tr>\n",
       "      <th>Europe</th>\n",
       "      <td>17</td>\n",
       "      <td>15</td>\n",
       "      <td>167000</td>\n",
       "      <td>153000</td>\n",
       "    </tr>\n",
       "  </tbody>\n",
       "</table>\n",
       "</div>"
      ],
      "text/plain": [
       "       Price       Sales        \n",
       "Color   Blue Red    Blue     Red\n",
       "Market                          \n",
       "Asian     16  14  109000  112000\n",
       "Europe    17  15  167000  153000"
      ]
     },
     "execution_count": 22,
     "metadata": {},
     "output_type": "execute_result"
    }
   ],
   "source": [
    "wide = long.pivot_table(\n",
    "    index='Market',\n",
    "    columns='Color',\n",
    "    aggfunc={'Price': np.mean, 'Sales': np.sum}\n",
    ")\n",
    "wide"
   ]
  },
  {
   "cell_type": "markdown",
   "metadata": {},
   "source": [
    "**Note:** By using passing a dictionary to the `aggfunc` parameter, we have specified the columns to be used as values. Therefore, the `values` parameter can be skipped."
   ]
  },
  {
   "cell_type": "code",
   "execution_count": 23,
   "metadata": {
    "execution": {
     "iopub.execute_input": "2021-07-11T16:34:12.684450Z",
     "iopub.status.busy": "2021-07-11T16:34:12.684450Z",
     "iopub.status.idle": "2021-07-11T16:34:12.714369Z",
     "shell.execute_reply": "2021-07-11T16:34:12.713371Z",
     "shell.execute_reply.started": "2021-07-11T16:34:12.684450Z"
    }
   },
   "outputs": [
    {
     "name": "stderr",
     "output_type": "stream",
     "text": [
      "<ipython-input-23-b9edb0197d0d>:1: FutureWarning: Index.ravel returning ndarray is deprecated; in a future version this will return a view on self.\n",
      "  wide.columns = wide.columns.ravel()\n"
     ]
    },
    {
     "data": {
      "text/html": [
       "<div>\n",
       "<style scoped>\n",
       "    .dataframe tbody tr th:only-of-type {\n",
       "        vertical-align: middle;\n",
       "    }\n",
       "\n",
       "    .dataframe tbody tr th {\n",
       "        vertical-align: top;\n",
       "    }\n",
       "\n",
       "    .dataframe thead th {\n",
       "        text-align: right;\n",
       "    }\n",
       "</style>\n",
       "<table border=\"1\" class=\"dataframe\">\n",
       "  <thead>\n",
       "    <tr style=\"text-align: right;\">\n",
       "      <th></th>\n",
       "      <th>Market</th>\n",
       "      <th>(Price, Blue)</th>\n",
       "      <th>(Price, Red)</th>\n",
       "      <th>(Sales, Blue)</th>\n",
       "      <th>(Sales, Red)</th>\n",
       "    </tr>\n",
       "  </thead>\n",
       "  <tbody>\n",
       "    <tr>\n",
       "      <th>0</th>\n",
       "      <td>Asian</td>\n",
       "      <td>16</td>\n",
       "      <td>14</td>\n",
       "      <td>109000</td>\n",
       "      <td>112000</td>\n",
       "    </tr>\n",
       "    <tr>\n",
       "      <th>1</th>\n",
       "      <td>Europe</td>\n",
       "      <td>17</td>\n",
       "      <td>15</td>\n",
       "      <td>167000</td>\n",
       "      <td>153000</td>\n",
       "    </tr>\n",
       "  </tbody>\n",
       "</table>\n",
       "</div>"
      ],
      "text/plain": [
       "   Market  (Price, Blue)  (Price, Red)  (Sales, Blue)  (Sales, Red)\n",
       "0   Asian             16            14         109000        112000\n",
       "1  Europe             17            15         167000        153000"
      ]
     },
     "execution_count": 23,
     "metadata": {},
     "output_type": "execute_result"
    }
   ],
   "source": [
    "wide.columns = wide.columns.ravel()\n",
    "wide = wide.reset_index()\n",
    "wide"
   ]
  },
  {
   "cell_type": "markdown",
   "metadata": {},
   "source": [
    "#### Pivoting vs. Grouping\n",
    "Skipping the `columns` parameter ends up returning them same result as the `groupby()` method."
   ]
  },
  {
   "cell_type": "code",
   "execution_count": 24,
   "metadata": {
    "execution": {
     "iopub.execute_input": "2021-07-11T16:34:12.718357Z",
     "iopub.status.busy": "2021-07-11T16:34:12.717363Z",
     "iopub.status.idle": "2021-07-11T16:34:12.746282Z",
     "shell.execute_reply": "2021-07-11T16:34:12.745285Z",
     "shell.execute_reply.started": "2021-07-11T16:34:12.718357Z"
    }
   },
   "outputs": [
    {
     "data": {
      "text/html": [
       "<div>\n",
       "<style scoped>\n",
       "    .dataframe tbody tr th:only-of-type {\n",
       "        vertical-align: middle;\n",
       "    }\n",
       "\n",
       "    .dataframe tbody tr th {\n",
       "        vertical-align: top;\n",
       "    }\n",
       "\n",
       "    .dataframe thead th {\n",
       "        text-align: right;\n",
       "    }\n",
       "</style>\n",
       "<table border=\"1\" class=\"dataframe\">\n",
       "  <thead>\n",
       "    <tr style=\"text-align: right;\">\n",
       "      <th></th>\n",
       "      <th>Market</th>\n",
       "      <th>Color</th>\n",
       "      <th>Price</th>\n",
       "      <th>Sales</th>\n",
       "    </tr>\n",
       "  </thead>\n",
       "  <tbody>\n",
       "    <tr>\n",
       "      <th>0</th>\n",
       "      <td>Asian</td>\n",
       "      <td>Blue</td>\n",
       "      <td>16</td>\n",
       "      <td>109000</td>\n",
       "    </tr>\n",
       "    <tr>\n",
       "      <th>1</th>\n",
       "      <td>Asian</td>\n",
       "      <td>Red</td>\n",
       "      <td>14</td>\n",
       "      <td>112000</td>\n",
       "    </tr>\n",
       "    <tr>\n",
       "      <th>2</th>\n",
       "      <td>Europe</td>\n",
       "      <td>Blue</td>\n",
       "      <td>17</td>\n",
       "      <td>167000</td>\n",
       "    </tr>\n",
       "    <tr>\n",
       "      <th>3</th>\n",
       "      <td>Europe</td>\n",
       "      <td>Red</td>\n",
       "      <td>15</td>\n",
       "      <td>153000</td>\n",
       "    </tr>\n",
       "  </tbody>\n",
       "</table>\n",
       "</div>"
      ],
      "text/plain": [
       "   Market Color  Price   Sales\n",
       "0   Asian  Blue     16  109000\n",
       "1   Asian   Red     14  112000\n",
       "2  Europe  Blue     17  167000\n",
       "3  Europe   Red     15  153000"
      ]
     },
     "execution_count": 24,
     "metadata": {},
     "output_type": "execute_result"
    }
   ],
   "source": [
    "long\\\n",
    "    .pivot_table(\n",
    "        index=['Market', 'Color'],\n",
    "        aggfunc={'Price': np.mean, 'Sales': np.sum})\\\n",
    "    .reset_index()"
   ]
  },
  {
   "cell_type": "code",
   "execution_count": 25,
   "metadata": {
    "execution": {
     "iopub.execute_input": "2021-07-11T16:34:12.748278Z",
     "iopub.status.busy": "2021-07-11T16:34:12.748278Z",
     "iopub.status.idle": "2021-07-11T16:34:12.793158Z",
     "shell.execute_reply": "2021-07-11T16:34:12.792159Z",
     "shell.execute_reply.started": "2021-07-11T16:34:12.748278Z"
    }
   },
   "outputs": [
    {
     "data": {
      "text/html": [
       "<div>\n",
       "<style scoped>\n",
       "    .dataframe tbody tr th:only-of-type {\n",
       "        vertical-align: middle;\n",
       "    }\n",
       "\n",
       "    .dataframe tbody tr th {\n",
       "        vertical-align: top;\n",
       "    }\n",
       "\n",
       "    .dataframe thead th {\n",
       "        text-align: right;\n",
       "    }\n",
       "</style>\n",
       "<table border=\"1\" class=\"dataframe\">\n",
       "  <thead>\n",
       "    <tr style=\"text-align: right;\">\n",
       "      <th></th>\n",
       "      <th>Market</th>\n",
       "      <th>Color</th>\n",
       "      <th>Price</th>\n",
       "      <th>Sales</th>\n",
       "    </tr>\n",
       "  </thead>\n",
       "  <tbody>\n",
       "    <tr>\n",
       "      <th>0</th>\n",
       "      <td>Asian</td>\n",
       "      <td>Blue</td>\n",
       "      <td>16</td>\n",
       "      <td>109000</td>\n",
       "    </tr>\n",
       "    <tr>\n",
       "      <th>1</th>\n",
       "      <td>Asian</td>\n",
       "      <td>Red</td>\n",
       "      <td>14</td>\n",
       "      <td>112000</td>\n",
       "    </tr>\n",
       "    <tr>\n",
       "      <th>2</th>\n",
       "      <td>Europe</td>\n",
       "      <td>Blue</td>\n",
       "      <td>17</td>\n",
       "      <td>167000</td>\n",
       "    </tr>\n",
       "    <tr>\n",
       "      <th>3</th>\n",
       "      <td>Europe</td>\n",
       "      <td>Red</td>\n",
       "      <td>15</td>\n",
       "      <td>153000</td>\n",
       "    </tr>\n",
       "  </tbody>\n",
       "</table>\n",
       "</div>"
      ],
      "text/plain": [
       "   Market Color  Price   Sales\n",
       "0   Asian  Blue     16  109000\n",
       "1   Asian   Red     14  112000\n",
       "2  Europe  Blue     17  167000\n",
       "3  Europe   Red     15  153000"
      ]
     },
     "execution_count": 25,
     "metadata": {},
     "output_type": "execute_result"
    }
   ],
   "source": [
    "long\\\n",
    "    .groupby(['Market', 'Color'])\\\n",
    "    .agg({'Price': np.mean, 'Sales': np.sum})\\\n",
    "    .reset_index()"
   ]
  },
  {
   "cell_type": "markdown",
   "metadata": {},
   "source": [
    "# 3. Combining datasets"
   ]
  },
  {
   "cell_type": "markdown",
   "metadata": {},
   "source": [
    "## 3.1. Appending\n",
    "Appending is the process of concatenating data along the vertical axis (axis 0). This adds more observations to your current dataset."
   ]
  },
  {
   "cell_type": "markdown",
   "metadata": {},
   "source": [
    "#### Appending a table with another\n",
    "The Pandas `append()` method is equivalent to the `UNION ALL` statement in SQL. Notice that the data to be appended bases on columns of the same name. Therefore, you should select only neccessary columns and standardize their names."
   ]
  },
  {
   "cell_type": "code",
   "execution_count": 26,
   "metadata": {
    "execution": {
     "iopub.execute_input": "2021-07-11T16:34:12.800138Z",
     "iopub.status.busy": "2021-07-11T16:34:12.799141Z",
     "iopub.status.idle": "2021-07-11T16:34:12.809115Z",
     "shell.execute_reply": "2021-07-11T16:34:12.808117Z",
     "shell.execute_reply.started": "2021-07-11T16:34:12.800138Z"
    }
   },
   "outputs": [],
   "source": [
    "import numpy as np\n",
    "import pandas as pd"
   ]
  },
  {
   "cell_type": "code",
   "execution_count": 27,
   "metadata": {
    "execution": {
     "iopub.execute_input": "2021-07-11T16:34:12.812107Z",
     "iopub.status.busy": "2021-07-11T16:34:12.811109Z",
     "iopub.status.idle": "2021-07-11T16:34:12.843023Z",
     "shell.execute_reply": "2021-07-11T16:34:12.841030Z",
     "shell.execute_reply.started": "2021-07-11T16:34:12.812107Z"
    }
   },
   "outputs": [
    {
     "data": {
      "text/html": [
       "<div>\n",
       "<style scoped>\n",
       "    .dataframe tbody tr th:only-of-type {\n",
       "        vertical-align: middle;\n",
       "    }\n",
       "\n",
       "    .dataframe tbody tr th {\n",
       "        vertical-align: top;\n",
       "    }\n",
       "\n",
       "    .dataframe thead th {\n",
       "        text-align: right;\n",
       "    }\n",
       "</style>\n",
       "<table border=\"1\" class=\"dataframe\">\n",
       "  <thead>\n",
       "    <tr style=\"text-align: right;\">\n",
       "      <th></th>\n",
       "      <th>year</th>\n",
       "      <th>quarter</th>\n",
       "      <th>target</th>\n",
       "      <th>sales</th>\n",
       "    </tr>\n",
       "  </thead>\n",
       "  <tbody>\n",
       "    <tr>\n",
       "      <th>0</th>\n",
       "      <td>2000</td>\n",
       "      <td>1</td>\n",
       "      <td>40000</td>\n",
       "      <td>35000</td>\n",
       "    </tr>\n",
       "    <tr>\n",
       "      <th>1</th>\n",
       "      <td>2000</td>\n",
       "      <td>2</td>\n",
       "      <td>50000</td>\n",
       "      <td>38000</td>\n",
       "    </tr>\n",
       "    <tr>\n",
       "      <th>2</th>\n",
       "      <td>2000</td>\n",
       "      <td>3</td>\n",
       "      <td>70000</td>\n",
       "      <td>78000</td>\n",
       "    </tr>\n",
       "    <tr>\n",
       "      <th>3</th>\n",
       "      <td>2000</td>\n",
       "      <td>4</td>\n",
       "      <td>85000</td>\n",
       "      <td>90000</td>\n",
       "    </tr>\n",
       "  </tbody>\n",
       "</table>\n",
       "</div>"
      ],
      "text/plain": [
       "   year  quarter  target  sales\n",
       "0  2000        1   40000  35000\n",
       "1  2000        2   50000  38000\n",
       "2  2000        3   70000  78000\n",
       "3  2000        4   85000  90000"
      ]
     },
     "execution_count": 27,
     "metadata": {},
     "output_type": "execute_result"
    }
   ],
   "source": [
    "sales1 = pd.DataFrame({\n",
    "    'year': [2000, 2000, 2000, 2000],\n",
    "    'quarter': [1, 2, 3, 4],\n",
    "    'target': [40000, 50000, 70000, 85000],\n",
    "    'sales': [35000, 38000, 78000, 90000]\n",
    "})\n",
    "sales1"
   ]
  },
  {
   "cell_type": "code",
   "execution_count": 28,
   "metadata": {
    "execution": {
     "iopub.execute_input": "2021-07-11T16:34:12.846016Z",
     "iopub.status.busy": "2021-07-11T16:34:12.845019Z",
     "iopub.status.idle": "2021-07-11T16:34:12.872946Z",
     "shell.execute_reply": "2021-07-11T16:34:12.871946Z",
     "shell.execute_reply.started": "2021-07-11T16:34:12.846016Z"
    }
   },
   "outputs": [
    {
     "data": {
      "text/html": [
       "<div>\n",
       "<style scoped>\n",
       "    .dataframe tbody tr th:only-of-type {\n",
       "        vertical-align: middle;\n",
       "    }\n",
       "\n",
       "    .dataframe tbody tr th {\n",
       "        vertical-align: top;\n",
       "    }\n",
       "\n",
       "    .dataframe thead th {\n",
       "        text-align: right;\n",
       "    }\n",
       "</style>\n",
       "<table border=\"1\" class=\"dataframe\">\n",
       "  <thead>\n",
       "    <tr style=\"text-align: right;\">\n",
       "      <th></th>\n",
       "      <th>year</th>\n",
       "      <th>quarter</th>\n",
       "      <th>target</th>\n",
       "      <th>sales</th>\n",
       "      <th>profit</th>\n",
       "    </tr>\n",
       "  </thead>\n",
       "  <tbody>\n",
       "    <tr>\n",
       "      <th>0</th>\n",
       "      <td>2001</td>\n",
       "      <td>1</td>\n",
       "      <td>50000</td>\n",
       "      <td>60000</td>\n",
       "      <td>20000</td>\n",
       "    </tr>\n",
       "    <tr>\n",
       "      <th>1</th>\n",
       "      <td>2001</td>\n",
       "      <td>2</td>\n",
       "      <td>60000</td>\n",
       "      <td>65000</td>\n",
       "      <td>21000</td>\n",
       "    </tr>\n",
       "    <tr>\n",
       "      <th>2</th>\n",
       "      <td>2001</td>\n",
       "      <td>3</td>\n",
       "      <td>70000</td>\n",
       "      <td>82000</td>\n",
       "      <td>27000</td>\n",
       "    </tr>\n",
       "    <tr>\n",
       "      <th>3</th>\n",
       "      <td>2001</td>\n",
       "      <td>4</td>\n",
       "      <td>85000</td>\n",
       "      <td>94000</td>\n",
       "      <td>35000</td>\n",
       "    </tr>\n",
       "  </tbody>\n",
       "</table>\n",
       "</div>"
      ],
      "text/plain": [
       "   year  quarter  target  sales  profit\n",
       "0  2001        1   50000  60000   20000\n",
       "1  2001        2   60000  65000   21000\n",
       "2  2001        3   70000  82000   27000\n",
       "3  2001        4   85000  94000   35000"
      ]
     },
     "execution_count": 28,
     "metadata": {},
     "output_type": "execute_result"
    }
   ],
   "source": [
    "sales2 = pd.DataFrame({\n",
    "    'year': [2001, 2001, 2001, 2001],\n",
    "    'quarter': [1, 2, 3, 4],\n",
    "    'target': [50000, 60000, 70000, 85000],\n",
    "    'sales': [60000, 65000, 82000, 94000],\n",
    "    'profit': [20000, 21000, 27000, 35000]\n",
    "})\n",
    "sales2"
   ]
  },
  {
   "cell_type": "code",
   "execution_count": 29,
   "metadata": {
    "execution": {
     "iopub.execute_input": "2021-07-11T16:34:12.874939Z",
     "iopub.status.busy": "2021-07-11T16:34:12.873941Z",
     "iopub.status.idle": "2021-07-11T16:34:12.904859Z",
     "shell.execute_reply": "2021-07-11T16:34:12.903861Z",
     "shell.execute_reply.started": "2021-07-11T16:34:12.874939Z"
    }
   },
   "outputs": [
    {
     "data": {
      "text/html": [
       "<div>\n",
       "<style scoped>\n",
       "    .dataframe tbody tr th:only-of-type {\n",
       "        vertical-align: middle;\n",
       "    }\n",
       "\n",
       "    .dataframe tbody tr th {\n",
       "        vertical-align: top;\n",
       "    }\n",
       "\n",
       "    .dataframe thead th {\n",
       "        text-align: right;\n",
       "    }\n",
       "</style>\n",
       "<table border=\"1\" class=\"dataframe\">\n",
       "  <thead>\n",
       "    <tr style=\"text-align: right;\">\n",
       "      <th></th>\n",
       "      <th>year</th>\n",
       "      <th>quarter</th>\n",
       "      <th>target</th>\n",
       "      <th>sales</th>\n",
       "    </tr>\n",
       "  </thead>\n",
       "  <tbody>\n",
       "    <tr>\n",
       "      <th>0</th>\n",
       "      <td>2000</td>\n",
       "      <td>1</td>\n",
       "      <td>40000</td>\n",
       "      <td>35000</td>\n",
       "    </tr>\n",
       "    <tr>\n",
       "      <th>1</th>\n",
       "      <td>2000</td>\n",
       "      <td>2</td>\n",
       "      <td>50000</td>\n",
       "      <td>38000</td>\n",
       "    </tr>\n",
       "    <tr>\n",
       "      <th>2</th>\n",
       "      <td>2000</td>\n",
       "      <td>3</td>\n",
       "      <td>70000</td>\n",
       "      <td>78000</td>\n",
       "    </tr>\n",
       "    <tr>\n",
       "      <th>3</th>\n",
       "      <td>2000</td>\n",
       "      <td>4</td>\n",
       "      <td>85000</td>\n",
       "      <td>90000</td>\n",
       "    </tr>\n",
       "    <tr>\n",
       "      <th>0</th>\n",
       "      <td>2001</td>\n",
       "      <td>1</td>\n",
       "      <td>50000</td>\n",
       "      <td>60000</td>\n",
       "    </tr>\n",
       "    <tr>\n",
       "      <th>1</th>\n",
       "      <td>2001</td>\n",
       "      <td>2</td>\n",
       "      <td>60000</td>\n",
       "      <td>65000</td>\n",
       "    </tr>\n",
       "    <tr>\n",
       "      <th>2</th>\n",
       "      <td>2001</td>\n",
       "      <td>3</td>\n",
       "      <td>70000</td>\n",
       "      <td>82000</td>\n",
       "    </tr>\n",
       "    <tr>\n",
       "      <th>3</th>\n",
       "      <td>2001</td>\n",
       "      <td>4</td>\n",
       "      <td>85000</td>\n",
       "      <td>94000</td>\n",
       "    </tr>\n",
       "  </tbody>\n",
       "</table>\n",
       "</div>"
      ],
      "text/plain": [
       "   year  quarter  target  sales\n",
       "0  2000        1   40000  35000\n",
       "1  2000        2   50000  38000\n",
       "2  2000        3   70000  78000\n",
       "3  2000        4   85000  90000\n",
       "0  2001        1   50000  60000\n",
       "1  2001        2   60000  65000\n",
       "2  2001        3   70000  82000\n",
       "3  2001        4   85000  94000"
      ]
     },
     "execution_count": 29,
     "metadata": {},
     "output_type": "execute_result"
    }
   ],
   "source": [
    "sales1.append(sales2[['year', 'quarter', 'target', 'sales']])"
   ]
  },
  {
   "cell_type": "markdown",
   "metadata": {},
   "source": [
    "#### Concatenating multiple tables\n",
    "Since the current table and the table to be appended are equally treated, you can concatenate multiple tables at once. These tables should have the same format."
   ]
  },
  {
   "cell_type": "code",
   "execution_count": 30,
   "metadata": {
    "execution": {
     "iopub.execute_input": "2021-07-11T16:34:12.906853Z",
     "iopub.status.busy": "2021-07-11T16:34:12.905856Z",
     "iopub.status.idle": "2021-07-11T16:34:12.968689Z",
     "shell.execute_reply": "2021-07-11T16:34:12.967690Z",
     "shell.execute_reply.started": "2021-07-11T16:34:12.905856Z"
    }
   },
   "outputs": [
    {
     "data": {
      "text/plain": [
       "['1960s', '1970s', '1980s', '1990s', '2000s', '2010s']"
      ]
     },
     "execution_count": 30,
     "metadata": {},
     "output_type": "execute_result"
    }
   ],
   "source": [
    "file = pd.ExcelFile(r'data\\world_population.xlsx')\n",
    "file.sheet_names"
   ]
  },
  {
   "cell_type": "code",
   "execution_count": 31,
   "metadata": {
    "execution": {
     "iopub.execute_input": "2021-07-11T16:34:12.970683Z",
     "iopub.status.busy": "2021-07-11T16:34:12.969685Z",
     "iopub.status.idle": "2021-07-11T16:34:14.001196Z",
     "shell.execute_reply": "2021-07-11T16:34:14.000203Z",
     "shell.execute_reply.started": "2021-07-11T16:34:12.970683Z"
    }
   },
   "outputs": [
    {
     "data": {
      "text/html": [
       "<div>\n",
       "<style scoped>\n",
       "    .dataframe tbody tr th:only-of-type {\n",
       "        vertical-align: middle;\n",
       "    }\n",
       "\n",
       "    .dataframe tbody tr th {\n",
       "        vertical-align: top;\n",
       "    }\n",
       "\n",
       "    .dataframe thead th {\n",
       "        text-align: right;\n",
       "    }\n",
       "</style>\n",
       "<table border=\"1\" class=\"dataframe\">\n",
       "  <thead>\n",
       "    <tr style=\"text-align: right;\">\n",
       "      <th></th>\n",
       "      <th>index</th>\n",
       "      <th>year</th>\n",
       "      <th>country</th>\n",
       "      <th>population</th>\n",
       "    </tr>\n",
       "  </thead>\n",
       "  <tbody>\n",
       "    <tr>\n",
       "      <th>0</th>\n",
       "      <td>0</td>\n",
       "      <td>1960</td>\n",
       "      <td>Afghanistan</td>\n",
       "      <td>8996351</td>\n",
       "    </tr>\n",
       "    <tr>\n",
       "      <th>1</th>\n",
       "      <td>1</td>\n",
       "      <td>1961</td>\n",
       "      <td>Afghanistan</td>\n",
       "      <td>9166764</td>\n",
       "    </tr>\n",
       "    <tr>\n",
       "      <th>2</th>\n",
       "      <td>2</td>\n",
       "      <td>1962</td>\n",
       "      <td>Afghanistan</td>\n",
       "      <td>9345868</td>\n",
       "    </tr>\n",
       "    <tr>\n",
       "      <th>3</th>\n",
       "      <td>3</td>\n",
       "      <td>1963</td>\n",
       "      <td>Afghanistan</td>\n",
       "      <td>9533954</td>\n",
       "    </tr>\n",
       "    <tr>\n",
       "      <th>4</th>\n",
       "      <td>4</td>\n",
       "      <td>1964</td>\n",
       "      <td>Afghanistan</td>\n",
       "      <td>9731361</td>\n",
       "    </tr>\n",
       "    <tr>\n",
       "      <th>...</th>\n",
       "      <td>...</td>\n",
       "      <td>...</td>\n",
       "      <td>...</td>\n",
       "      <td>...</td>\n",
       "    </tr>\n",
       "    <tr>\n",
       "      <th>12258</th>\n",
       "      <td>1509</td>\n",
       "      <td>2012</td>\n",
       "      <td>Zimbabwe</td>\n",
       "      <td>14710826</td>\n",
       "    </tr>\n",
       "    <tr>\n",
       "      <th>12259</th>\n",
       "      <td>1510</td>\n",
       "      <td>2013</td>\n",
       "      <td>Zimbabwe</td>\n",
       "      <td>15054506</td>\n",
       "    </tr>\n",
       "    <tr>\n",
       "      <th>12260</th>\n",
       "      <td>1511</td>\n",
       "      <td>2014</td>\n",
       "      <td>Zimbabwe</td>\n",
       "      <td>15411675</td>\n",
       "    </tr>\n",
       "    <tr>\n",
       "      <th>12261</th>\n",
       "      <td>1512</td>\n",
       "      <td>2015</td>\n",
       "      <td>Zimbabwe</td>\n",
       "      <td>15777451</td>\n",
       "    </tr>\n",
       "    <tr>\n",
       "      <th>12262</th>\n",
       "      <td>1513</td>\n",
       "      <td>2016</td>\n",
       "      <td>Zimbabwe</td>\n",
       "      <td>16150362</td>\n",
       "    </tr>\n",
       "  </tbody>\n",
       "</table>\n",
       "<p>12263 rows × 4 columns</p>\n",
       "</div>"
      ],
      "text/plain": [
       "       index  year      country  population\n",
       "0          0  1960  Afghanistan     8996351\n",
       "1          1  1961  Afghanistan     9166764\n",
       "2          2  1962  Afghanistan     9345868\n",
       "3          3  1963  Afghanistan     9533954\n",
       "4          4  1964  Afghanistan     9731361\n",
       "...      ...   ...          ...         ...\n",
       "12258   1509  2012     Zimbabwe    14710826\n",
       "12259   1510  2013     Zimbabwe    15054506\n",
       "12260   1511  2014     Zimbabwe    15411675\n",
       "12261   1512  2015     Zimbabwe    15777451\n",
       "12262   1513  2016     Zimbabwe    16150362\n",
       "\n",
       "[12263 rows x 4 columns]"
      ]
     },
     "execution_count": 31,
     "metadata": {},
     "output_type": "execute_result"
    }
   ],
   "source": [
    "pd.concat(file.parse(i) for i in file.sheet_names)\\\n",
    "    .astype({'population': int})\\\n",
    "    .reset_index()"
   ]
  },
  {
   "cell_type": "markdown",
   "metadata": {},
   "source": [
    "## 3.2. Merging\n",
    "Merging is the process of concatenating data along the horizontal axis (axis 1). This adds more variables to your current dataset. The Pandas `merge()` method is equivalent to the `JOIN` statement in SQL.\n",
    "\n",
    "The `merge()` method uses common columns to merge on, this explains why you should rename columns before merging. Unlike `append()`, `merge()` treats the two tables not equally, therefore we have 4 types of merge: left, right, inner and outer; indicating which keys to be used."
   ]
  },
  {
   "cell_type": "code",
   "execution_count": 32,
   "metadata": {
    "execution": {
     "iopub.execute_input": "2021-07-11T16:34:14.004190Z",
     "iopub.status.busy": "2021-07-11T16:34:14.003193Z",
     "iopub.status.idle": "2021-07-11T16:34:14.018153Z",
     "shell.execute_reply": "2021-07-11T16:34:14.016158Z",
     "shell.execute_reply.started": "2021-07-11T16:34:14.004190Z"
    }
   },
   "outputs": [],
   "source": [
    "import numpy as np\n",
    "import pandas as pd"
   ]
  },
  {
   "cell_type": "code",
   "execution_count": 33,
   "metadata": {
    "execution": {
     "iopub.execute_input": "2021-07-11T16:34:14.022143Z",
     "iopub.status.busy": "2021-07-11T16:34:14.021144Z",
     "iopub.status.idle": "2021-07-11T16:34:14.049073Z",
     "shell.execute_reply": "2021-07-11T16:34:14.048073Z",
     "shell.execute_reply.started": "2021-07-11T16:34:14.022143Z"
    }
   },
   "outputs": [
    {
     "data": {
      "text/html": [
       "<div>\n",
       "<style scoped>\n",
       "    .dataframe tbody tr th:only-of-type {\n",
       "        vertical-align: middle;\n",
       "    }\n",
       "\n",
       "    .dataframe tbody tr th {\n",
       "        vertical-align: top;\n",
       "    }\n",
       "\n",
       "    .dataframe thead th {\n",
       "        text-align: right;\n",
       "    }\n",
       "</style>\n",
       "<table border=\"1\" class=\"dataframe\">\n",
       "  <thead>\n",
       "    <tr style=\"text-align: right;\">\n",
       "      <th></th>\n",
       "      <th>name</th>\n",
       "      <th>income_before_tax</th>\n",
       "      <th>tax_band</th>\n",
       "    </tr>\n",
       "  </thead>\n",
       "  <tbody>\n",
       "    <tr>\n",
       "      <th>0</th>\n",
       "      <td>Hannah</td>\n",
       "      <td>12000</td>\n",
       "      <td>Allowance</td>\n",
       "    </tr>\n",
       "    <tr>\n",
       "      <th>1</th>\n",
       "      <td>James</td>\n",
       "      <td>30000</td>\n",
       "      <td>Basic</td>\n",
       "    </tr>\n",
       "    <tr>\n",
       "      <th>2</th>\n",
       "      <td>Gabriel</td>\n",
       "      <td>7000</td>\n",
       "      <td>Allowance</td>\n",
       "    </tr>\n",
       "    <tr>\n",
       "      <th>3</th>\n",
       "      <td>Smith</td>\n",
       "      <td>20000</td>\n",
       "      <td>Basic</td>\n",
       "    </tr>\n",
       "    <tr>\n",
       "      <th>4</th>\n",
       "      <td>Alex</td>\n",
       "      <td>100000</td>\n",
       "      <td>Higher</td>\n",
       "    </tr>\n",
       "  </tbody>\n",
       "</table>\n",
       "</div>"
      ],
      "text/plain": [
       "      name  income_before_tax   tax_band\n",
       "0   Hannah              12000  Allowance\n",
       "1    James              30000      Basic\n",
       "2  Gabriel               7000  Allowance\n",
       "3    Smith              20000      Basic\n",
       "4     Alex             100000     Higher"
      ]
     },
     "execution_count": 33,
     "metadata": {},
     "output_type": "execute_result"
    }
   ],
   "source": [
    "income = pd.DataFrame({\n",
    "    'name': ['Hannah', 'James', 'Gabriel', 'Smith', 'Alex'],\n",
    "    'income_before_tax': [12000, 30000, 7000, 20000, 100000],\n",
    "    'tax_band': ['Allowance', 'Basic', 'Allowance', 'Basic', 'Higher']\n",
    "})\n",
    "income"
   ]
  },
  {
   "cell_type": "code",
   "execution_count": 34,
   "metadata": {
    "execution": {
     "iopub.execute_input": "2021-07-11T16:34:14.051067Z",
     "iopub.status.busy": "2021-07-11T16:34:14.050069Z",
     "iopub.status.idle": "2021-07-11T16:34:14.080988Z",
     "shell.execute_reply": "2021-07-11T16:34:14.079989Z",
     "shell.execute_reply.started": "2021-07-11T16:34:14.051067Z"
    }
   },
   "outputs": [
    {
     "data": {
      "text/html": [
       "<div>\n",
       "<style scoped>\n",
       "    .dataframe tbody tr th:only-of-type {\n",
       "        vertical-align: middle;\n",
       "    }\n",
       "\n",
       "    .dataframe tbody tr th {\n",
       "        vertical-align: top;\n",
       "    }\n",
       "\n",
       "    .dataframe thead th {\n",
       "        text-align: right;\n",
       "    }\n",
       "</style>\n",
       "<table border=\"1\" class=\"dataframe\">\n",
       "  <thead>\n",
       "    <tr style=\"text-align: right;\">\n",
       "      <th></th>\n",
       "      <th>band</th>\n",
       "      <th>income_range</th>\n",
       "      <th>tax_rate</th>\n",
       "    </tr>\n",
       "  </thead>\n",
       "  <tbody>\n",
       "    <tr>\n",
       "      <th>0</th>\n",
       "      <td>Allowance</td>\n",
       "      <td>Up to $12,500</td>\n",
       "      <td>0.00</td>\n",
       "    </tr>\n",
       "    <tr>\n",
       "      <th>1</th>\n",
       "      <td>Basic</td>\n",
       "      <td>\\$12,501 to $50,000</td>\n",
       "      <td>0.20</td>\n",
       "    </tr>\n",
       "    <tr>\n",
       "      <th>2</th>\n",
       "      <td>Higher</td>\n",
       "      <td>\\$50,001 to $150,000</td>\n",
       "      <td>0.40</td>\n",
       "    </tr>\n",
       "    <tr>\n",
       "      <th>3</th>\n",
       "      <td>Additional</td>\n",
       "      <td>Over $150,000</td>\n",
       "      <td>0.45</td>\n",
       "    </tr>\n",
       "  </tbody>\n",
       "</table>\n",
       "</div>"
      ],
      "text/plain": [
       "         band          income_range  tax_rate\n",
       "0   Allowance         Up to $12,500      0.00\n",
       "1       Basic   \\$12,501 to $50,000      0.20\n",
       "2      Higher  \\$50,001 to $150,000      0.40\n",
       "3  Additional         Over $150,000      0.45"
      ]
     },
     "execution_count": 34,
     "metadata": {},
     "output_type": "execute_result"
    }
   ],
   "source": [
    "tax = pd.DataFrame({\n",
    "    'band': ['Allowance', 'Basic', 'Higher', 'Additional'],\n",
    "    'income_range': ['Up to $12,500', '\\$12,501 to $50,000', '\\$50,001 to $150,000', 'Over $150,000'],\n",
    "    'tax_rate': [0, 0.2, 0.4, 0.45]\n",
    "})\n",
    "tax"
   ]
  },
  {
   "cell_type": "code",
   "execution_count": 35,
   "metadata": {
    "execution": {
     "iopub.execute_input": "2021-07-11T16:34:14.082979Z",
     "iopub.status.busy": "2021-07-11T16:34:14.082979Z",
     "iopub.status.idle": "2021-07-11T16:34:14.111901Z",
     "shell.execute_reply": "2021-07-11T16:34:14.110910Z",
     "shell.execute_reply.started": "2021-07-11T16:34:14.082979Z"
    }
   },
   "outputs": [
    {
     "data": {
      "text/html": [
       "<div>\n",
       "<style scoped>\n",
       "    .dataframe tbody tr th:only-of-type {\n",
       "        vertical-align: middle;\n",
       "    }\n",
       "\n",
       "    .dataframe tbody tr th {\n",
       "        vertical-align: top;\n",
       "    }\n",
       "\n",
       "    .dataframe thead th {\n",
       "        text-align: right;\n",
       "    }\n",
       "</style>\n",
       "<table border=\"1\" class=\"dataframe\">\n",
       "  <thead>\n",
       "    <tr style=\"text-align: right;\">\n",
       "      <th></th>\n",
       "      <th>name</th>\n",
       "      <th>income_before_tax</th>\n",
       "      <th>band</th>\n",
       "      <th>income_range</th>\n",
       "      <th>tax_rate</th>\n",
       "    </tr>\n",
       "  </thead>\n",
       "  <tbody>\n",
       "    <tr>\n",
       "      <th>0</th>\n",
       "      <td>Hannah</td>\n",
       "      <td>12000</td>\n",
       "      <td>Allowance</td>\n",
       "      <td>Up to $12,500</td>\n",
       "      <td>0.0</td>\n",
       "    </tr>\n",
       "    <tr>\n",
       "      <th>1</th>\n",
       "      <td>James</td>\n",
       "      <td>30000</td>\n",
       "      <td>Basic</td>\n",
       "      <td>\\$12,501 to $50,000</td>\n",
       "      <td>0.2</td>\n",
       "    </tr>\n",
       "    <tr>\n",
       "      <th>2</th>\n",
       "      <td>Gabriel</td>\n",
       "      <td>7000</td>\n",
       "      <td>Allowance</td>\n",
       "      <td>Up to $12,500</td>\n",
       "      <td>0.0</td>\n",
       "    </tr>\n",
       "    <tr>\n",
       "      <th>3</th>\n",
       "      <td>Smith</td>\n",
       "      <td>20000</td>\n",
       "      <td>Basic</td>\n",
       "      <td>\\$12,501 to $50,000</td>\n",
       "      <td>0.2</td>\n",
       "    </tr>\n",
       "    <tr>\n",
       "      <th>4</th>\n",
       "      <td>Alex</td>\n",
       "      <td>100000</td>\n",
       "      <td>Higher</td>\n",
       "      <td>\\$50,001 to $150,000</td>\n",
       "      <td>0.4</td>\n",
       "    </tr>\n",
       "  </tbody>\n",
       "</table>\n",
       "</div>"
      ],
      "text/plain": [
       "      name  income_before_tax       band          income_range  tax_rate\n",
       "0   Hannah              12000  Allowance         Up to $12,500       0.0\n",
       "1    James              30000      Basic   \\$12,501 to $50,000       0.2\n",
       "2  Gabriel               7000  Allowance         Up to $12,500       0.0\n",
       "3    Smith              20000      Basic   \\$12,501 to $50,000       0.2\n",
       "4     Alex             100000     Higher  \\$50,001 to $150,000       0.4"
      ]
     },
     "execution_count": 35,
     "metadata": {},
     "output_type": "execute_result"
    }
   ],
   "source": [
    "income\\\n",
    "    .rename(columns={'tax_band': 'band'})\\\n",
    "    .merge(tax, how='left')"
   ]
  },
  {
   "cell_type": "markdown",
   "metadata": {},
   "source": [
    "---\n",
    "*&#9829; By Quang Hung x Thuy Linh &#9829;*"
   ]
  }
 ],
 "metadata": {
  "colab": {
   "name": "lecture7.ipynb",
   "provenance": [],
   "version": "0.3.2"
  },
  "kernelspec": {
   "display_name": "Python 3",
   "language": "python",
   "name": "python3"
  },
  "language_info": {
   "codemirror_mode": {
    "name": "ipython",
    "version": 3
   },
   "file_extension": ".py",
   "mimetype": "text/x-python",
   "name": "python",
   "nbconvert_exporter": "python",
   "pygments_lexer": "ipython3",
   "version": "3.8.3"
  },
  "toc-autonumbering": false
 },
 "nbformat": 4,
 "nbformat_minor": 4
}
