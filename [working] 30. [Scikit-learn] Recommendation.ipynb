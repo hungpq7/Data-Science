{
 "cells": [
  {
   "cell_type": "markdown",
   "metadata": {},
   "source": [
    "# 1. Recommendation concepts\n",
    "A recommender system or recommendation engine is a program that aims to suggest the most revalent *items* to each *user*. With the rise of digital services, recommender systems have taken more and more places in human's life. Some successful recommender systems are of large comapnies such as Netflix, Google and Amazon."
   ]
  },
  {
   "cell_type": "markdown",
   "metadata": {},
   "source": [
    "#### Input data\n",
    "Explicit ratings, is the direct satisfaction level each an user would give to a product\n",
    "- Users are account for building input data\n",
    "- Missing data, since our customers are lazy\n",
    "- Being biased for personal perspective\n",
    "- Not stable, affected by user's feeling at current time and is not updated \n",
    "\n",
    "Implicit ratings, is the scores being derived from observed actions of users\n",
    "- The company is account for building input data\n",
    "- Require to have some sort of unsupervised formulas/rules to map an user's actions to his ratings\n",
    "- Overall, better than explicit ratings\n",
    "\n",
    "Metadata\n",
    "\n",
    "Linkage"
   ]
  },
  {
   "cell_type": "markdown",
   "metadata": {},
   "source": [
    "# 3. Content-based Filtering\n",
    "\n",
    "http://infolab.stanford.edu/~ullman/mmds/ch9.pdf\n",
    "\n",
    "Input data: items' metadata such as movie's genre, music genres, product brands,... especially description."
   ]
  },
  {
   "cell_type": "markdown",
   "metadata": {
    "execution": {
     "iopub.execute_input": "2021-07-14T07:54:58.249364Z",
     "iopub.status.busy": "2021-07-14T07:54:58.249364Z",
     "iopub.status.idle": "2021-07-14T07:54:58.257344Z",
     "shell.execute_reply": "2021-07-14T07:54:58.256346Z",
     "shell.execute_reply.started": "2021-07-14T07:54:58.249364Z"
    },
    "tags": []
   },
   "source": [
    "# Collaborative Filtering\n",
    "Input data: the utility matrix, contains user IDs, item IDs and ratings. The approach is to use ratings of other people to infer the missing scores of an user. Then recommend highest ranking items the user have not visited.\n",
    "\n",
    "Since the utility matrix has a lot of missing ratings, use one of these two strategies to fill them:\n",
    "- Fill 0\n",
    "- Fill mean value of each row/column, then subtract each row/column with the mean"
   ]
  },
  {
   "cell_type": "markdown",
   "metadata": {},
   "source": [
    "#### User-user collaborative filtering\n",
    "- Represent each customer as an $n$-dimensional vector of items, where $n$ is the number of distinct items. This vector is multiplied with the inverse frequency (the inverse number of people who have purchased or rated the item) in order to make less popular items more relavent.\n",
    "- Calculate the similarity matrix for all pairs of users. Some similarity measures: correlation coefficient, cosine, Euclidean distance.\n",
    "- Find $k$ most similar neighbors to the an user, then aggregate ratings of these neighbors as ratings for the items the user have not rated yet.\n",
    "\n",
    "This algorithm is computationally expensive, since there are usually milions of users and items in practice. This issue can be addressed by using a clustering algorithm to devide the customer pool into many segments. Then, find the nearest segment to each user instead of iterating over the customer base to find the most similar neighbors. However, there is a trade-off between recommendation quality and scalability. When grouping an enormous number of customers into a single segment, a lot of user information has been remove, thus the recommendation becomes less relevant."
   ]
  },
  {
   "cell_type": "markdown",
   "metadata": {},
   "source": [
    "#### Item-item collaborative filtering\n",
    "This method is similar to user-user approach, but it computes the similarity between items rather than users. As the number of items is usually much less than the number of users, this can reduce a lot of processing time and memory usage. There is also another improvement is that it only calculates the similarity between related items, since there are so many pairs having no common customers."
   ]
  },
  {
   "cell_type": "markdown",
   "metadata": {},
   "source": [
    "#### Siamese network"
   ]
  },
  {
   "cell_type": "code",
   "execution_count": null,
   "metadata": {},
   "outputs": [],
   "source": []
  },
  {
   "cell_type": "code",
   "execution_count": null,
   "metadata": {},
   "outputs": [],
   "source": []
  },
  {
   "cell_type": "markdown",
   "metadata": {},
   "source": [
    "# Dữ liệu đầu vào\n",
    "Explicit ratings: đánh giá trực tiếp của người dùng đối với từng sản phẩm.\n",
    "- Trách nhiệm xây dựng data thuộc về người dùng\n",
    "- Không đầy đủ\n",
    "- Bị biased vì thang điểm mỗi người khác nhau\n",
    "- Mang tính cảm tính, 1 người có thể cho nhiều rating khác nhau cho cùng 1 bộ phim, tuỳ cảm xúc\n",
    "\n",
    "Implicit ratings\n",
    "- Trách nhiệm thu thập data thuộc về PTDL\n",
    "- Không xác định được \"ghét\", chỉ xác định được \"thích\""
   ]
  },
  {
   "cell_type": "code",
   "execution_count": 1,
   "metadata": {
    "execution": {
     "iopub.execute_input": "2021-07-16T09:35:45.125694Z",
     "iopub.status.busy": "2021-07-16T09:35:45.115725Z",
     "iopub.status.idle": "2021-07-16T09:35:45.848561Z",
     "shell.execute_reply": "2021-07-16T09:35:45.847594Z",
     "shell.execute_reply.started": "2021-07-16T09:35:45.125694Z"
    },
    "tags": []
   },
   "outputs": [],
   "source": [
    "import pandas as pd\n",
    "import numpy as np"
   ]
  },
  {
   "cell_type": "code",
   "execution_count": 10,
   "metadata": {
    "execution": {
     "iopub.execute_input": "2021-07-16T09:44:52.840023Z",
     "iopub.status.busy": "2021-07-16T09:44:52.839038Z",
     "iopub.status.idle": "2021-07-16T09:44:52.854497Z",
     "shell.execute_reply": "2021-07-16T09:44:52.853524Z",
     "shell.execute_reply.started": "2021-07-16T09:44:52.840023Z"
    },
    "tags": []
   },
   "outputs": [
    {
     "data": {
      "text/html": [
       "<div>\n",
       "<style scoped>\n",
       "    .dataframe tbody tr th:only-of-type {\n",
       "        vertical-align: middle;\n",
       "    }\n",
       "\n",
       "    .dataframe tbody tr th {\n",
       "        vertical-align: top;\n",
       "    }\n",
       "\n",
       "    .dataframe thead th {\n",
       "        text-align: right;\n",
       "    }\n",
       "</style>\n",
       "<table border=\"1\" class=\"dataframe\">\n",
       "  <thead>\n",
       "    <tr style=\"text-align: right;\">\n",
       "      <th></th>\n",
       "      <th>user_id</th>\n",
       "      <th>age</th>\n",
       "      <th>sex</th>\n",
       "      <th>occupation</th>\n",
       "      <th>zip_code</th>\n",
       "    </tr>\n",
       "  </thead>\n",
       "  <tbody>\n",
       "    <tr>\n",
       "      <th>0</th>\n",
       "      <td>1</td>\n",
       "      <td>24</td>\n",
       "      <td>M</td>\n",
       "      <td>technician</td>\n",
       "      <td>85711</td>\n",
       "    </tr>\n",
       "    <tr>\n",
       "      <th>1</th>\n",
       "      <td>2</td>\n",
       "      <td>53</td>\n",
       "      <td>F</td>\n",
       "      <td>other</td>\n",
       "      <td>94043</td>\n",
       "    </tr>\n",
       "    <tr>\n",
       "      <th>2</th>\n",
       "      <td>3</td>\n",
       "      <td>23</td>\n",
       "      <td>M</td>\n",
       "      <td>writer</td>\n",
       "      <td>32067</td>\n",
       "    </tr>\n",
       "    <tr>\n",
       "      <th>3</th>\n",
       "      <td>4</td>\n",
       "      <td>24</td>\n",
       "      <td>M</td>\n",
       "      <td>technician</td>\n",
       "      <td>43537</td>\n",
       "    </tr>\n",
       "    <tr>\n",
       "      <th>4</th>\n",
       "      <td>5</td>\n",
       "      <td>33</td>\n",
       "      <td>F</td>\n",
       "      <td>other</td>\n",
       "      <td>15213</td>\n",
       "    </tr>\n",
       "  </tbody>\n",
       "</table>\n",
       "</div>"
      ],
      "text/plain": [
       "   user_id  age sex  occupation zip_code\n",
       "0        1   24   M  technician    85711\n",
       "1        2   53   F       other    94043\n",
       "2        3   23   M      writer    32067\n",
       "3        4   24   M  technician    43537\n",
       "4        5   33   F       other    15213"
      ]
     },
     "execution_count": 10,
     "metadata": {},
     "output_type": "execute_result"
    }
   ],
   "source": [
    "df_user = pd.read_csv('ml-100k/u.user', sep='|', names=['user_id', 'age', 'sex', 'occupation', 'zip_code'])\n",
    "df_user.head()"
   ]
  },
  {
   "cell_type": "code",
   "execution_count": 23,
   "metadata": {
    "execution": {
     "iopub.execute_input": "2021-07-16T10:00:50.034719Z",
     "iopub.status.busy": "2021-07-16T10:00:50.034719Z",
     "iopub.status.idle": "2021-07-16T10:00:50.085371Z",
     "shell.execute_reply": "2021-07-16T10:00:50.085371Z",
     "shell.execute_reply.started": "2021-07-16T10:00:50.034719Z"
    },
    "tags": []
   },
   "outputs": [
    {
     "data": {
      "text/html": [
       "<div>\n",
       "<style scoped>\n",
       "    .dataframe tbody tr th:only-of-type {\n",
       "        vertical-align: middle;\n",
       "    }\n",
       "\n",
       "    .dataframe tbody tr th {\n",
       "        vertical-align: top;\n",
       "    }\n",
       "\n",
       "    .dataframe thead th {\n",
       "        text-align: right;\n",
       "    }\n",
       "</style>\n",
       "<table border=\"1\" class=\"dataframe\">\n",
       "  <thead>\n",
       "    <tr style=\"text-align: right;\">\n",
       "      <th></th>\n",
       "      <th>user_id</th>\n",
       "      <th>movie_id</th>\n",
       "      <th>rating</th>\n",
       "      <th>unix_timestamp</th>\n",
       "    </tr>\n",
       "  </thead>\n",
       "  <tbody>\n",
       "    <tr>\n",
       "      <th>0</th>\n",
       "      <td>1</td>\n",
       "      <td>1</td>\n",
       "      <td>5</td>\n",
       "      <td>874965758</td>\n",
       "    </tr>\n",
       "    <tr>\n",
       "      <th>1</th>\n",
       "      <td>1</td>\n",
       "      <td>2</td>\n",
       "      <td>3</td>\n",
       "      <td>876893171</td>\n",
       "    </tr>\n",
       "    <tr>\n",
       "      <th>2</th>\n",
       "      <td>1</td>\n",
       "      <td>3</td>\n",
       "      <td>4</td>\n",
       "      <td>878542960</td>\n",
       "    </tr>\n",
       "    <tr>\n",
       "      <th>3</th>\n",
       "      <td>1</td>\n",
       "      <td>4</td>\n",
       "      <td>3</td>\n",
       "      <td>876893119</td>\n",
       "    </tr>\n",
       "    <tr>\n",
       "      <th>4</th>\n",
       "      <td>1</td>\n",
       "      <td>5</td>\n",
       "      <td>3</td>\n",
       "      <td>889751712</td>\n",
       "    </tr>\n",
       "  </tbody>\n",
       "</table>\n",
       "</div>"
      ],
      "text/plain": [
       "   user_id  movie_id  rating  unix_timestamp\n",
       "0        1         1       5       874965758\n",
       "1        1         2       3       876893171\n",
       "2        1         3       4       878542960\n",
       "3        1         4       3       876893119\n",
       "4        1         5       3       889751712"
      ]
     },
     "execution_count": 23,
     "metadata": {},
     "output_type": "execute_result"
    }
   ],
   "source": [
    "df_rating_base = pd.read_csv('ml-100k/ua.base', sep='\\t', names=['user_id', 'movie_id', 'rating', 'unix_timestamp'], encoding='latin-1')\n",
    "df_rating_test = pd.read_csv('ml-100k/ua.test', sep='\\t', names=['user_id', 'movie_id', 'rating', 'unix_timestamp'], encoding='latin-1')\n",
    "\n",
    "df_rating_base.head()"
   ]
  },
  {
   "cell_type": "code",
   "execution_count": 30,
   "metadata": {
    "execution": {
     "iopub.execute_input": "2021-07-16T10:07:25.547388Z",
     "iopub.status.busy": "2021-07-16T10:07:25.547388Z",
     "iopub.status.idle": "2021-07-16T10:07:25.578962Z",
     "shell.execute_reply": "2021-07-16T10:07:25.578962Z",
     "shell.execute_reply.started": "2021-07-16T10:07:25.547388Z"
    },
    "tags": []
   },
   "outputs": [
    {
     "data": {
      "text/html": [
       "<div>\n",
       "<style scoped>\n",
       "    .dataframe tbody tr th:only-of-type {\n",
       "        vertical-align: middle;\n",
       "    }\n",
       "\n",
       "    .dataframe tbody tr th {\n",
       "        vertical-align: top;\n",
       "    }\n",
       "\n",
       "    .dataframe thead th {\n",
       "        text-align: right;\n",
       "    }\n",
       "</style>\n",
       "<table border=\"1\" class=\"dataframe\">\n",
       "  <thead>\n",
       "    <tr style=\"text-align: right;\">\n",
       "      <th></th>\n",
       "      <th>movie id</th>\n",
       "      <th>movie title</th>\n",
       "      <th>release date</th>\n",
       "      <th>video release date</th>\n",
       "      <th>unknown</th>\n",
       "      <th>Action</th>\n",
       "      <th>Adventure</th>\n",
       "      <th>Animation</th>\n",
       "      <th>Children's</th>\n",
       "      <th>Comedy</th>\n",
       "      <th>...</th>\n",
       "      <th>Fantasy</th>\n",
       "      <th>Film-Noir</th>\n",
       "      <th>Horror</th>\n",
       "      <th>Musical</th>\n",
       "      <th>Mystery</th>\n",
       "      <th>Romance</th>\n",
       "      <th>Sci-Fi</th>\n",
       "      <th>Thriller</th>\n",
       "      <th>War</th>\n",
       "      <th>Western</th>\n",
       "    </tr>\n",
       "  </thead>\n",
       "  <tbody>\n",
       "    <tr>\n",
       "      <th>0</th>\n",
       "      <td>1</td>\n",
       "      <td>Toy Story (1995)</td>\n",
       "      <td>01-Jan-1995</td>\n",
       "      <td>NaN</td>\n",
       "      <td>0</td>\n",
       "      <td>0</td>\n",
       "      <td>0</td>\n",
       "      <td>1</td>\n",
       "      <td>1</td>\n",
       "      <td>1</td>\n",
       "      <td>...</td>\n",
       "      <td>0</td>\n",
       "      <td>0</td>\n",
       "      <td>0</td>\n",
       "      <td>0</td>\n",
       "      <td>0</td>\n",
       "      <td>0</td>\n",
       "      <td>0</td>\n",
       "      <td>0</td>\n",
       "      <td>0</td>\n",
       "      <td>0</td>\n",
       "    </tr>\n",
       "    <tr>\n",
       "      <th>1</th>\n",
       "      <td>2</td>\n",
       "      <td>GoldenEye (1995)</td>\n",
       "      <td>01-Jan-1995</td>\n",
       "      <td>NaN</td>\n",
       "      <td>0</td>\n",
       "      <td>1</td>\n",
       "      <td>1</td>\n",
       "      <td>0</td>\n",
       "      <td>0</td>\n",
       "      <td>0</td>\n",
       "      <td>...</td>\n",
       "      <td>0</td>\n",
       "      <td>0</td>\n",
       "      <td>0</td>\n",
       "      <td>0</td>\n",
       "      <td>0</td>\n",
       "      <td>0</td>\n",
       "      <td>0</td>\n",
       "      <td>1</td>\n",
       "      <td>0</td>\n",
       "      <td>0</td>\n",
       "    </tr>\n",
       "    <tr>\n",
       "      <th>2</th>\n",
       "      <td>3</td>\n",
       "      <td>Four Rooms (1995)</td>\n",
       "      <td>01-Jan-1995</td>\n",
       "      <td>NaN</td>\n",
       "      <td>0</td>\n",
       "      <td>0</td>\n",
       "      <td>0</td>\n",
       "      <td>0</td>\n",
       "      <td>0</td>\n",
       "      <td>0</td>\n",
       "      <td>...</td>\n",
       "      <td>0</td>\n",
       "      <td>0</td>\n",
       "      <td>0</td>\n",
       "      <td>0</td>\n",
       "      <td>0</td>\n",
       "      <td>0</td>\n",
       "      <td>0</td>\n",
       "      <td>1</td>\n",
       "      <td>0</td>\n",
       "      <td>0</td>\n",
       "    </tr>\n",
       "    <tr>\n",
       "      <th>3</th>\n",
       "      <td>4</td>\n",
       "      <td>Get Shorty (1995)</td>\n",
       "      <td>01-Jan-1995</td>\n",
       "      <td>NaN</td>\n",
       "      <td>0</td>\n",
       "      <td>1</td>\n",
       "      <td>0</td>\n",
       "      <td>0</td>\n",
       "      <td>0</td>\n",
       "      <td>1</td>\n",
       "      <td>...</td>\n",
       "      <td>0</td>\n",
       "      <td>0</td>\n",
       "      <td>0</td>\n",
       "      <td>0</td>\n",
       "      <td>0</td>\n",
       "      <td>0</td>\n",
       "      <td>0</td>\n",
       "      <td>0</td>\n",
       "      <td>0</td>\n",
       "      <td>0</td>\n",
       "    </tr>\n",
       "    <tr>\n",
       "      <th>4</th>\n",
       "      <td>5</td>\n",
       "      <td>Copycat (1995)</td>\n",
       "      <td>01-Jan-1995</td>\n",
       "      <td>NaN</td>\n",
       "      <td>0</td>\n",
       "      <td>0</td>\n",
       "      <td>0</td>\n",
       "      <td>0</td>\n",
       "      <td>0</td>\n",
       "      <td>0</td>\n",
       "      <td>...</td>\n",
       "      <td>0</td>\n",
       "      <td>0</td>\n",
       "      <td>0</td>\n",
       "      <td>0</td>\n",
       "      <td>0</td>\n",
       "      <td>0</td>\n",
       "      <td>0</td>\n",
       "      <td>1</td>\n",
       "      <td>0</td>\n",
       "      <td>0</td>\n",
       "    </tr>\n",
       "  </tbody>\n",
       "</table>\n",
       "<p>5 rows × 23 columns</p>\n",
       "</div>"
      ],
      "text/plain": [
       "   movie id        movie title release date  video release date  unknown  \\\n",
       "0         1   Toy Story (1995)  01-Jan-1995                 NaN        0   \n",
       "1         2   GoldenEye (1995)  01-Jan-1995                 NaN        0   \n",
       "2         3  Four Rooms (1995)  01-Jan-1995                 NaN        0   \n",
       "3         4  Get Shorty (1995)  01-Jan-1995                 NaN        0   \n",
       "4         5     Copycat (1995)  01-Jan-1995                 NaN        0   \n",
       "\n",
       "   Action  Adventure  Animation  Children's  Comedy  ...  Fantasy  Film-Noir  \\\n",
       "0       0          0          1           1       1  ...        0          0   \n",
       "1       1          1          0           0       0  ...        0          0   \n",
       "2       0          0          0           0       0  ...        0          0   \n",
       "3       1          0          0           0       1  ...        0          0   \n",
       "4       0          0          0           0       0  ...        0          0   \n",
       "\n",
       "   Horror  Musical  Mystery  Romance  Sci-Fi  Thriller  War  Western  \n",
       "0       0        0        0        0       0         0    0        0  \n",
       "1       0        0        0        0       0         1    0        0  \n",
       "2       0        0        0        0       0         1    0        0  \n",
       "3       0        0        0        0       0         0    0        0  \n",
       "4       0        0        0        0       0         1    0        0  \n",
       "\n",
       "[5 rows x 23 columns]"
      ]
     },
     "execution_count": 30,
     "metadata": {},
     "output_type": "execute_result"
    }
   ],
   "source": [
    "item_cols = ['movie id', 'movie title' ,'release date','video release date', 'IMDb URL', 'unknown', 'Action', 'Adventure',\n",
    " 'Animation', 'Children\\'s', 'Comedy', 'Crime', 'Documentary', 'Drama', 'Fantasy',\n",
    " 'Film-Noir', 'Horror', 'Musical', 'Mystery', 'Romance', 'Sci-Fi', 'Thriller', 'War', 'Western']\n",
    "\n",
    "df_item = pd.read_csv('ml-100k/u.item', sep='|', names=item_cols, encoding='latin-1').drop(columns=['IMDb URL'])\n",
    "df_item.head()"
   ]
  },
  {
   "cell_type": "code",
   "execution_count": 32,
   "metadata": {
    "execution": {
     "iopub.execute_input": "2021-07-16T10:48:22.354936Z",
     "iopub.status.busy": "2021-07-16T10:48:22.353940Z",
     "iopub.status.idle": "2021-07-16T10:48:22.372990Z",
     "shell.execute_reply": "2021-07-16T10:48:22.371994Z",
     "shell.execute_reply.started": "2021-07-16T10:48:22.354936Z"
    },
    "tags": []
   },
   "outputs": [],
   "source": [
    "users = df_user.values\n",
    "ratings = df_rating_base.values\n",
    "items = df_item.values[:, -19:]"
   ]
  },
  {
   "cell_type": "code",
   "execution_count": 33,
   "metadata": {
    "execution": {
     "iopub.execute_input": "2021-07-16T10:52:30.482749Z",
     "iopub.status.busy": "2021-07-16T10:52:30.482749Z",
     "iopub.status.idle": "2021-07-16T10:52:32.932264Z",
     "shell.execute_reply": "2021-07-16T10:52:32.931269Z",
     "shell.execute_reply.started": "2021-07-16T10:52:30.482749Z"
    },
    "tags": []
   },
   "outputs": [],
   "source": [
    "from sklearn.feature_extraction.text import TfidfTransformer\n",
    "transformer = TfidfTransformer(smooth_idf=True, norm ='l2')"
   ]
  },
  {
   "cell_type": "code",
   "execution_count": 40,
   "metadata": {
    "execution": {
     "iopub.execute_input": "2021-07-16T11:07:54.123718Z",
     "iopub.status.busy": "2021-07-16T11:07:54.122725Z",
     "iopub.status.idle": "2021-07-16T11:07:54.130716Z",
     "shell.execute_reply": "2021-07-16T11:07:54.129722Z",
     "shell.execute_reply.started": "2021-07-16T11:07:54.123718Z"
    },
    "tags": []
   },
   "outputs": [],
   "source": [
    "tfidf = transformer.fit_transform(items).toarray()"
   ]
  },
  {
   "cell_type": "markdown",
   "metadata": {},
   "source": [
    "# 4. Google's PageRank\n",
    "\n",
    "PageRank was originally invented by Google in 1998 and had became an extraordinary success as a search engine. It makes clever use of *eigenvalues* and *eigenvectors* to rank websites, thus delivers the most relevant result for the search query. The algorithm works in a *linked database*, where each node may contain some kind of *links* or *references* to other nodes. Two most familiar *linked databases* appear in real life are (1) research papers containing *citations* and (2) the world wide web, where web pages contain *links* to others.\n",
    "\n",
    "The advantage of recommendation engines generated by PageRank is that they ensure the more backlinks a page has, the more reliable it is. They also place more influence to a link from a trustworthy page compared to links from a less reliable page.\n",
    "\n",
    "*Reference:*\n",
    "- *[Google Patents - Method for node ranking in a linked database](https://patents.google.com/patent/US6285999B1/en) (original version)*\n",
    "- *[Google Patents - Producing a ranking for pages using distances in a web-link graph](https://patents.google.com/patent/US9165040B1/en) (updated version)*"
   ]
  },
  {
   "cell_type": "markdown",
   "metadata": {},
   "source": [
    "#### Giải pháp\n",
    "Xếp hạng cho 1 website dựa trên tổng số trích dẫn, liên kết từ các page khác đến page đó. Tuy nhiên trọng số của các page là khác nhau: page càng uy tín thì càng có tiếng nói và ngược lại. Vì vậy page A dù chỉ cần được trích dẫn từ 1 page rất uy tín, nhiều khả năng sẽ có thứ hạng cao hơn so với một page B được trích dẫn từ nhiều page kém chất lượng.\n",
    "\n",
    "$$r(A)=\\frac{\\alpha}{n}+(1-\\alpha)\\sum{\\frac{r(B_i)}{|B_i|}}$$\n",
    "\n",
    "trong đó:\n",
    "- A là page cần tính rank, $r(A)$ là rank page A\n",
    "- $B_i$ là một trong số các back link của page A, $|B_i|$ là số foward link của page $B$\n",
    "- $\\alpha$ là yếu tố damping, đại diện cho xác suất một người dùng ngẫu nhiên click vào 1 trang web thay vì đi theo foward link thông thường.\n",
    "- $n$ là tổng số page trong toàn bộ web\n",
    "\n",
    "Sau khi xây dựng mô hình xong, có thể giải hệ $n$ phương trình $n$ biến trên để tìm ra rank của từng page. Tuy nhiên cách này không khả thi khi số lượng page lên đến hàng triệu, vì vậy được thay thế bằng cách estimate xấp xỉ rank bằng kỹ thuật iterative như sau:\n",
    "- Khởi tạo 1 vector $p_0$ chứa rank cho mỗi page với giá trị $1/n$\n",
    "- Lập matrix A kích thước $n\\times n$ trong đó phần tử ở hàng i, cột j là foward link từ page i đến page j, thể hiện dưới dạng xác suất 1 người dùng đang từ page i chuyển sang page j. Vì là xác suất nên matrix này có tổng các phẩn tử trong 1 cột bằng 1 ([stochastic matrix](https://en.wikipedia.org/wiki/Stochastic_matrix)). Ngoài ra matrix này luôn có dominant eigenvalue = 1.\n",
    "- Sử dụng [Power interation](https://en.wikipedia.org/wiki/Power_iteration) tính xấp xỉ eigenvector. Các giá trị trong eigenvector chính là page rank.\n",
    "\n",
    "$$p_\\infty=\\lim_{n\\to\\infty}{A^\\infty p_0}$$"
   ]
  },
  {
   "cell_type": "markdown",
   "metadata": {},
   "source": [
    "---\n",
    "*&#9829; By Quang Hung x Thuy Linh &#9829;*"
   ]
  }
 ],
 "metadata": {
  "kernelspec": {
   "display_name": "Python 3",
   "language": "python",
   "name": "python3"
  },
  "language_info": {
   "codemirror_mode": {
    "name": "ipython",
    "version": 3
   },
   "file_extension": ".py",
   "mimetype": "text/x-python",
   "name": "python",
   "nbconvert_exporter": "python",
   "pygments_lexer": "ipython3",
   "version": "3.8.8"
  }
 },
 "nbformat": 4,
 "nbformat_minor": 4
}
