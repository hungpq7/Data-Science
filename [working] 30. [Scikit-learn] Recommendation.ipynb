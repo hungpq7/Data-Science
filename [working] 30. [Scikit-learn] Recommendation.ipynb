{
 "cells": [
  {
   "cell_type": "markdown",
   "metadata": {},
   "source": [
    "# 1. Recommendation concepts\n",
    "A recommender system or recommendation engine is a program that aims to suggest the most revalent *items* to each *user*. With the rise of digital services, recommender systems have taken more and more places in human's life. Some successful recommender systems are of large comapnies such as Netflix, Google and Amazon."
   ]
  },
  {
   "cell_type": "markdown",
   "metadata": {},
   "source": [
    "#### Input data\n",
    "Explicit ratings, is the direct satisfaction level each an user would give to a product\n",
    "- Users are account for building input data\n",
    "- Missing data, since our customers are lazy\n",
    "- Being biased for personal perspective\n",
    "- Not stable, affected by user's feeling at current time and is not updated \n",
    "\n",
    "Implicit ratings, is the scores being derived from observed actions of users\n",
    "- The company is account for building input data\n",
    "- Require to have some sort of unsupervised formulas/rules to map an user's actions to his ratings\n",
    "- Overall, better than explicit ratings\n",
    "\n",
    "Metadata\n",
    "\n",
    "Linkage"
   ]
  },
  {
   "cell_type": "markdown",
   "metadata": {},
   "source": [
    "# 3. Content-based Filtering\n",
    "\n",
    "http://infolab.stanford.edu/~ullman/mmds/ch9.pdf\n",
    "\n",
    "Input data: items' metadata such as movie's genre, music genres, product brands,... especially description."
   ]
  },
  {
   "cell_type": "markdown",
   "metadata": {
    "execution": {
     "iopub.execute_input": "2021-07-14T07:54:58.249364Z",
     "iopub.status.busy": "2021-07-14T07:54:58.249364Z",
     "iopub.status.idle": "2021-07-14T07:54:58.257344Z",
     "shell.execute_reply": "2021-07-14T07:54:58.256346Z",
     "shell.execute_reply.started": "2021-07-14T07:54:58.249364Z"
    },
    "tags": []
   },
   "source": [
    "# Collaborative Filtering\n",
    "Input data: the utility matrix, contains user IDs, item IDs and ratings. The approach is to use ratings of other people to infer the missing scores of an user. Then recommend highest ranking items the user have not visited.\n",
    "\n",
    "Since the utility matrix has a lot of missing ratings, use one of these two strategies to fill them:\n",
    "- Fill 0\n",
    "- Fill mean value of each row/column, then subtract each row/column with the mean"
   ]
  },
  {
   "cell_type": "markdown",
   "metadata": {},
   "source": [
    "#### User-user collaborative filtering\n",
    "- Represent each customer as an $n$-dimensional vector of items, where $n$ is the number of distinct items. This vector is multiplied with the inverse frequency (the inverse number of people who have purchased or rated the item) in order to make less popular items more relavent.\n",
    "- Calculate the similarity matrix for all pairs of users. Some similarity measures: correlation coefficient, cosine, Euclidean distance.\n",
    "- Find $k$ most similar neighbors to the an user, then aggregate ratings of these neighbors as ratings for the items the user have not rated yet.\n",
    "\n",
    "This algorithm is computationally expensive, since there are usually milions of users and items in practice. This issue can be addressed by using a clustering algorithm to devide the customer pool into many segments. Then, find the nearest segment to each user instead of iterating over the customer base to find the most similar neighbors. However, there is a trade-off between recommendation quality and scalability. When grouping an enormous number of customers into a single segment, a lot of user information has been remove, thus the recommendation becomes less relevant."
   ]
  },
  {
   "cell_type": "markdown",
   "metadata": {},
   "source": [
    "#### Item-item collaborative filtering\n",
    "This method is similar to user-user approach, but it computes the similarity between items rather than users. As the number of items is usually much less than the number of users, this can reduce a lot of processing time and memory usage. There is also another improvement is that it only calculates the similarity between related items, since there are so many pairs having no common customers."
   ]
  },
  {
   "cell_type": "markdown",
   "metadata": {},
   "source": [
    "#### Siamese network"
   ]
  },
  {
   "cell_type": "code",
   "execution_count": null,
   "metadata": {},
   "outputs": [],
   "source": []
  },
  {
   "cell_type": "code",
   "execution_count": null,
   "metadata": {},
   "outputs": [],
   "source": []
  },
  {
   "cell_type": "markdown",
   "metadata": {},
   "source": [
    "# Dữ liệu đầu vào\n",
    "Explicit ratings: đánh giá trực tiếp của người dùng đối với từng sản phẩm.\n",
    "- Trách nhiệm xây dựng data thuộc về người dùng\n",
    "- Không đầy đủ\n",
    "- Bị biased vì thang điểm mỗi người khác nhau\n",
    "- Mang tính cảm tính, 1 người có thể cho nhiều rating khác nhau cho cùng 1 bộ phim, tuỳ cảm xúc\n",
    "\n",
    "Implicit ratings\n",
    "- Trách nhiệm thu thập data thuộc về PTDL\n",
    "- Không xác định được \"ghét\", chỉ xác định được \"thích\""
   ]
  },
  {
   "cell_type": "code",
   "execution_count": 1,
   "metadata": {
    "execution": {
     "iopub.execute_input": "2021-07-16T09:35:45.125694Z",
     "iopub.status.busy": "2021-07-16T09:35:45.115725Z",
     "iopub.status.idle": "2021-07-16T09:35:45.848561Z",
     "shell.execute_reply": "2021-07-16T09:35:45.847594Z",
     "shell.execute_reply.started": "2021-07-16T09:35:45.125694Z"
    },
    "tags": []
   },
   "outputs": [],
   "source": [
    "import pandas as pd\n",
    "import numpy as np"
   ]
  },
  {
   "cell_type": "code",
   "execution_count": 10,
   "metadata": {
    "execution": {
     "iopub.execute_input": "2021-07-16T09:44:52.840023Z",
     "iopub.status.busy": "2021-07-16T09:44:52.839038Z",
     "iopub.status.idle": "2021-07-16T09:44:52.854497Z",
     "shell.execute_reply": "2021-07-16T09:44:52.853524Z",
     "shell.execute_reply.started": "2021-07-16T09:44:52.840023Z"
    },
    "tags": []
   },
   "outputs": [
    {
     "data": {
      "text/html": [
       "<div>\n",
       "<style scoped>\n",
       "    .dataframe tbody tr th:only-of-type {\n",
       "        vertical-align: middle;\n",
       "    }\n",
       "\n",
       "    .dataframe tbody tr th {\n",
       "        vertical-align: top;\n",
       "    }\n",
       "\n",
       "    .dataframe thead th {\n",
       "        text-align: right;\n",
       "    }\n",
       "</style>\n",
       "<table border=\"1\" class=\"dataframe\">\n",
       "  <thead>\n",
       "    <tr style=\"text-align: right;\">\n",
       "      <th></th>\n",
       "      <th>user_id</th>\n",
       "      <th>age</th>\n",
       "      <th>sex</th>\n",
       "      <th>occupation</th>\n",
       "      <th>zip_code</th>\n",
       "    </tr>\n",
       "  </thead>\n",
       "  <tbody>\n",
       "    <tr>\n",
       "      <th>0</th>\n",
       "      <td>1</td>\n",
       "      <td>24</td>\n",
       "      <td>M</td>\n",
       "      <td>technician</td>\n",
       "      <td>85711</td>\n",
       "    </tr>\n",
       "    <tr>\n",
       "      <th>1</th>\n",
       "      <td>2</td>\n",
       "      <td>53</td>\n",
       "      <td>F</td>\n",
       "      <td>other</td>\n",
       "      <td>94043</td>\n",
       "    </tr>\n",
       "    <tr>\n",
       "      <th>2</th>\n",
       "      <td>3</td>\n",
       "      <td>23</td>\n",
       "      <td>M</td>\n",
       "      <td>writer</td>\n",
       "      <td>32067</td>\n",
       "    </tr>\n",
       "    <tr>\n",
       "      <th>3</th>\n",
       "      <td>4</td>\n",
       "      <td>24</td>\n",
       "      <td>M</td>\n",
       "      <td>technician</td>\n",
       "      <td>43537</td>\n",
       "    </tr>\n",
       "    <tr>\n",
       "      <th>4</th>\n",
       "      <td>5</td>\n",
       "      <td>33</td>\n",
       "      <td>F</td>\n",
       "      <td>other</td>\n",
       "      <td>15213</td>\n",
       "    </tr>\n",
       "  </tbody>\n",
       "</table>\n",
       "</div>"
      ],
      "text/plain": [
       "   user_id  age sex  occupation zip_code\n",
       "0        1   24   M  technician    85711\n",
       "1        2   53   F       other    94043\n",
       "2        3   23   M      writer    32067\n",
       "3        4   24   M  technician    43537\n",
       "4        5   33   F       other    15213"
      ]
     },
     "execution_count": 10,
     "metadata": {},
     "output_type": "execute_result"
    }
   ],
   "source": [
    "df_user = pd.read_csv('ml-100k/u.user', sep='|', names=['user_id', 'age', 'sex', 'occupation', 'zip_code'])\n",
    "df_user.head()"
   ]
  },
  {
   "cell_type": "code",
   "execution_count": 23,
   "metadata": {
    "execution": {
     "iopub.execute_input": "2021-07-16T10:00:50.034719Z",
     "iopub.status.busy": "2021-07-16T10:00:50.034719Z",
     "iopub.status.idle": "2021-07-16T10:00:50.085371Z",
     "shell.execute_reply": "2021-07-16T10:00:50.085371Z",
     "shell.execute_reply.started": "2021-07-16T10:00:50.034719Z"
    },
    "tags": []
   },
   "outputs": [
    {
     "data": {
      "text/html": [
       "<div>\n",
       "<style scoped>\n",
       "    .dataframe tbody tr th:only-of-type {\n",
       "        vertical-align: middle;\n",
       "    }\n",
       "\n",
       "    .dataframe tbody tr th {\n",
       "        vertical-align: top;\n",
       "    }\n",
       "\n",
       "    .dataframe thead th {\n",
       "        text-align: right;\n",
       "    }\n",
       "</style>\n",
       "<table border=\"1\" class=\"dataframe\">\n",
       "  <thead>\n",
       "    <tr style=\"text-align: right;\">\n",
       "      <th></th>\n",
       "      <th>user_id</th>\n",
       "      <th>movie_id</th>\n",
       "      <th>rating</th>\n",
       "      <th>unix_timestamp</th>\n",
       "    </tr>\n",
       "  </thead>\n",
       "  <tbody>\n",
       "    <tr>\n",
       "      <th>0</th>\n",
       "      <td>1</td>\n",
       "      <td>1</td>\n",
       "      <td>5</td>\n",
       "      <td>874965758</td>\n",
       "    </tr>\n",
       "    <tr>\n",
       "      <th>1</th>\n",
       "      <td>1</td>\n",
       "      <td>2</td>\n",
       "      <td>3</td>\n",
       "      <td>876893171</td>\n",
       "    </tr>\n",
       "    <tr>\n",
       "      <th>2</th>\n",
       "      <td>1</td>\n",
       "      <td>3</td>\n",
       "      <td>4</td>\n",
       "      <td>878542960</td>\n",
       "    </tr>\n",
       "    <tr>\n",
       "      <th>3</th>\n",
       "      <td>1</td>\n",
       "      <td>4</td>\n",
       "      <td>3</td>\n",
       "      <td>876893119</td>\n",
       "    </tr>\n",
       "    <tr>\n",
       "      <th>4</th>\n",
       "      <td>1</td>\n",
       "      <td>5</td>\n",
       "      <td>3</td>\n",
       "      <td>889751712</td>\n",
       "    </tr>\n",
       "  </tbody>\n",
       "</table>\n",
       "</div>"
      ],
      "text/plain": [
       "   user_id  movie_id  rating  unix_timestamp\n",
       "0        1         1       5       874965758\n",
       "1        1         2       3       876893171\n",
       "2        1         3       4       878542960\n",
       "3        1         4       3       876893119\n",
       "4        1         5       3       889751712"
      ]
     },
     "execution_count": 23,
     "metadata": {},
     "output_type": "execute_result"
    }
   ],
   "source": [
    "df_rating_base = pd.read_csv('ml-100k/ua.base', sep='\\t', names=['user_id', 'movie_id', 'rating', 'unix_timestamp'], encoding='latin-1')\n",
    "df_rating_test = pd.read_csv('ml-100k/ua.test', sep='\\t', names=['user_id', 'movie_id', 'rating', 'unix_timestamp'], encoding='latin-1')\n",
    "\n",
    "df_rating_base.head()"
   ]
  },
  {
   "cell_type": "code",
   "execution_count": 30,
   "metadata": {
    "execution": {
     "iopub.execute_input": "2021-07-16T10:07:25.547388Z",
     "iopub.status.busy": "2021-07-16T10:07:25.547388Z",
     "iopub.status.idle": "2021-07-16T10:07:25.578962Z",
     "shell.execute_reply": "2021-07-16T10:07:25.578962Z",
     "shell.execute_reply.started": "2021-07-16T10:07:25.547388Z"
    },
    "tags": []
   },
   "outputs": [
    {
     "data": {
      "text/html": [
       "<div>\n",
       "<style scoped>\n",
       "    .dataframe tbody tr th:only-of-type {\n",
       "        vertical-align: middle;\n",
       "    }\n",
       "\n",
       "    .dataframe tbody tr th {\n",
       "        vertical-align: top;\n",
       "    }\n",
       "\n",
       "    .dataframe thead th {\n",
       "        text-align: right;\n",
       "    }\n",
       "</style>\n",
       "<table border=\"1\" class=\"dataframe\">\n",
       "  <thead>\n",
       "    <tr style=\"text-align: right;\">\n",
       "      <th></th>\n",
       "      <th>movie id</th>\n",
       "      <th>movie title</th>\n",
       "      <th>release date</th>\n",
       "      <th>video release date</th>\n",
       "      <th>unknown</th>\n",
       "      <th>Action</th>\n",
       "      <th>Adventure</th>\n",
       "      <th>Animation</th>\n",
       "      <th>Children's</th>\n",
       "      <th>Comedy</th>\n",
       "      <th>...</th>\n",
       "      <th>Fantasy</th>\n",
       "      <th>Film-Noir</th>\n",
       "      <th>Horror</th>\n",
       "      <th>Musical</th>\n",
       "      <th>Mystery</th>\n",
       "      <th>Romance</th>\n",
       "      <th>Sci-Fi</th>\n",
       "      <th>Thriller</th>\n",
       "      <th>War</th>\n",
       "      <th>Western</th>\n",
       "    </tr>\n",
       "  </thead>\n",
       "  <tbody>\n",
       "    <tr>\n",
       "      <th>0</th>\n",
       "      <td>1</td>\n",
       "      <td>Toy Story (1995)</td>\n",
       "      <td>01-Jan-1995</td>\n",
       "      <td>NaN</td>\n",
       "      <td>0</td>\n",
       "      <td>0</td>\n",
       "      <td>0</td>\n",
       "      <td>1</td>\n",
       "      <td>1</td>\n",
       "      <td>1</td>\n",
       "      <td>...</td>\n",
       "      <td>0</td>\n",
       "      <td>0</td>\n",
       "      <td>0</td>\n",
       "      <td>0</td>\n",
       "      <td>0</td>\n",
       "      <td>0</td>\n",
       "      <td>0</td>\n",
       "      <td>0</td>\n",
       "      <td>0</td>\n",
       "      <td>0</td>\n",
       "    </tr>\n",
       "    <tr>\n",
       "      <th>1</th>\n",
       "      <td>2</td>\n",
       "      <td>GoldenEye (1995)</td>\n",
       "      <td>01-Jan-1995</td>\n",
       "      <td>NaN</td>\n",
       "      <td>0</td>\n",
       "      <td>1</td>\n",
       "      <td>1</td>\n",
       "      <td>0</td>\n",
       "      <td>0</td>\n",
       "      <td>0</td>\n",
       "      <td>...</td>\n",
       "      <td>0</td>\n",
       "      <td>0</td>\n",
       "      <td>0</td>\n",
       "      <td>0</td>\n",
       "      <td>0</td>\n",
       "      <td>0</td>\n",
       "      <td>0</td>\n",
       "      <td>1</td>\n",
       "      <td>0</td>\n",
       "      <td>0</td>\n",
       "    </tr>\n",
       "    <tr>\n",
       "      <th>2</th>\n",
       "      <td>3</td>\n",
       "      <td>Four Rooms (1995)</td>\n",
       "      <td>01-Jan-1995</td>\n",
       "      <td>NaN</td>\n",
       "      <td>0</td>\n",
       "      <td>0</td>\n",
       "      <td>0</td>\n",
       "      <td>0</td>\n",
       "      <td>0</td>\n",
       "      <td>0</td>\n",
       "      <td>...</td>\n",
       "      <td>0</td>\n",
       "      <td>0</td>\n",
       "      <td>0</td>\n",
       "      <td>0</td>\n",
       "      <td>0</td>\n",
       "      <td>0</td>\n",
       "      <td>0</td>\n",
       "      <td>1</td>\n",
       "      <td>0</td>\n",
       "      <td>0</td>\n",
       "    </tr>\n",
       "    <tr>\n",
       "      <th>3</th>\n",
       "      <td>4</td>\n",
       "      <td>Get Shorty (1995)</td>\n",
       "      <td>01-Jan-1995</td>\n",
       "      <td>NaN</td>\n",
       "      <td>0</td>\n",
       "      <td>1</td>\n",
       "      <td>0</td>\n",
       "      <td>0</td>\n",
       "      <td>0</td>\n",
       "      <td>1</td>\n",
       "      <td>...</td>\n",
       "      <td>0</td>\n",
       "      <td>0</td>\n",
       "      <td>0</td>\n",
       "      <td>0</td>\n",
       "      <td>0</td>\n",
       "      <td>0</td>\n",
       "      <td>0</td>\n",
       "      <td>0</td>\n",
       "      <td>0</td>\n",
       "      <td>0</td>\n",
       "    </tr>\n",
       "    <tr>\n",
       "      <th>4</th>\n",
       "      <td>5</td>\n",
       "      <td>Copycat (1995)</td>\n",
       "      <td>01-Jan-1995</td>\n",
       "      <td>NaN</td>\n",
       "      <td>0</td>\n",
       "      <td>0</td>\n",
       "      <td>0</td>\n",
       "      <td>0</td>\n",
       "      <td>0</td>\n",
       "      <td>0</td>\n",
       "      <td>...</td>\n",
       "      <td>0</td>\n",
       "      <td>0</td>\n",
       "      <td>0</td>\n",
       "      <td>0</td>\n",
       "      <td>0</td>\n",
       "      <td>0</td>\n",
       "      <td>0</td>\n",
       "      <td>1</td>\n",
       "      <td>0</td>\n",
       "      <td>0</td>\n",
       "    </tr>\n",
       "  </tbody>\n",
       "</table>\n",
       "<p>5 rows × 23 columns</p>\n",
       "</div>"
      ],
      "text/plain": [
       "   movie id        movie title release date  video release date  unknown  \\\n",
       "0         1   Toy Story (1995)  01-Jan-1995                 NaN        0   \n",
       "1         2   GoldenEye (1995)  01-Jan-1995                 NaN        0   \n",
       "2         3  Four Rooms (1995)  01-Jan-1995                 NaN        0   \n",
       "3         4  Get Shorty (1995)  01-Jan-1995                 NaN        0   \n",
       "4         5     Copycat (1995)  01-Jan-1995                 NaN        0   \n",
       "\n",
       "   Action  Adventure  Animation  Children's  Comedy  ...  Fantasy  Film-Noir  \\\n",
       "0       0          0          1           1       1  ...        0          0   \n",
       "1       1          1          0           0       0  ...        0          0   \n",
       "2       0          0          0           0       0  ...        0          0   \n",
       "3       1          0          0           0       1  ...        0          0   \n",
       "4       0          0          0           0       0  ...        0          0   \n",
       "\n",
       "   Horror  Musical  Mystery  Romance  Sci-Fi  Thriller  War  Western  \n",
       "0       0        0        0        0       0         0    0        0  \n",
       "1       0        0        0        0       0         1    0        0  \n",
       "2       0        0        0        0       0         1    0        0  \n",
       "3       0        0        0        0       0         0    0        0  \n",
       "4       0        0        0        0       0         1    0        0  \n",
       "\n",
       "[5 rows x 23 columns]"
      ]
     },
     "execution_count": 30,
     "metadata": {},
     "output_type": "execute_result"
    }
   ],
   "source": [
    "item_cols = ['movie id', 'movie title' ,'release date','video release date', 'IMDb URL', 'unknown', 'Action', 'Adventure',\n",
    " 'Animation', 'Children\\'s', 'Comedy', 'Crime', 'Documentary', 'Drama', 'Fantasy',\n",
    " 'Film-Noir', 'Horror', 'Musical', 'Mystery', 'Romance', 'Sci-Fi', 'Thriller', 'War', 'Western']\n",
    "\n",
    "df_item = pd.read_csv('ml-100k/u.item', sep='|', names=item_cols, encoding='latin-1').drop(columns=['IMDb URL'])\n",
    "df_item.head()"
   ]
  },
  {
   "cell_type": "code",
   "execution_count": 32,
   "metadata": {
    "execution": {
     "iopub.execute_input": "2021-07-16T10:48:22.354936Z",
     "iopub.status.busy": "2021-07-16T10:48:22.353940Z",
     "iopub.status.idle": "2021-07-16T10:48:22.372990Z",
     "shell.execute_reply": "2021-07-16T10:48:22.371994Z",
     "shell.execute_reply.started": "2021-07-16T10:48:22.354936Z"
    },
    "tags": []
   },
   "outputs": [],
   "source": [
    "users = df_user.values\n",
    "ratings = df_rating_base.values\n",
    "items = df_item.values[:, -19:]"
   ]
  },
  {
   "cell_type": "code",
   "execution_count": 33,
   "metadata": {
    "execution": {
     "iopub.execute_input": "2021-07-16T10:52:30.482749Z",
     "iopub.status.busy": "2021-07-16T10:52:30.482749Z",
     "iopub.status.idle": "2021-07-16T10:52:32.932264Z",
     "shell.execute_reply": "2021-07-16T10:52:32.931269Z",
     "shell.execute_reply.started": "2021-07-16T10:52:30.482749Z"
    },
    "tags": []
   },
   "outputs": [],
   "source": [
    "from sklearn.feature_extraction.text import TfidfTransformer\n",
    "transformer = TfidfTransformer(smooth_idf=True, norm ='l2')"
   ]
  },
  {
   "cell_type": "code",
   "execution_count": 40,
   "metadata": {
    "execution": {
     "iopub.execute_input": "2021-07-16T11:07:54.123718Z",
     "iopub.status.busy": "2021-07-16T11:07:54.122725Z",
     "iopub.status.idle": "2021-07-16T11:07:54.130716Z",
     "shell.execute_reply": "2021-07-16T11:07:54.129722Z",
     "shell.execute_reply.started": "2021-07-16T11:07:54.123718Z"
    },
    "tags": []
   },
   "outputs": [],
   "source": [
    "tfidf = transformer.fit_transform(items).toarray()"
   ]
  },
  {
   "cell_type": "markdown",
   "metadata": {},
   "source": [
    "# 4. Google's PageRank\n",
    "\n",
    "PageRank was originally invented by Google in 1998 and had became an extraordinary success as a search engine. It makes clever use of *eigenvalues* and *eigenvectors* to rank websites, thus delivers the most relevant result for the search query. The algorithm works in a *linked database*, where each node may contain some kind of *links* or *references* to other nodes. Two most familiar *linked databases* appear in real life are (1) research papers containing *citations* and (2) the world wide web, where web pages contain *links* to others.\n",
    "\n",
    "The advantage of recommendation engines generated by PageRank is that they ensure the more backlinks a page has, the more reliable it is. They also place more influence to a link from a trustworthy page compared to links from a less reliable page.\n",
    "\n",
    "*Reference:*\n",
    "- *[Google Patents - Method for node ranking in a linked database](https://patents.google.com/patent/US6285999B1/en) (original version)*\n",
    "- *[Google Patents - Producing a ranking for pages using distances in a web-link graph](https://patents.google.com/patent/US9165040B1/en) (updated version)*"
   ]
  },
  {
   "cell_type": "markdown",
   "metadata": {},
   "source": [
    "#### The algorithm\n",
    "Xếp hạng cho 1 website dựa trên tổng số trích dẫn, liên kết từ các page khác đến page đó. Tuy nhiên trọng số của các page là khác nhau: page càng uy tín thì càng có tiếng nói và ngược lại. Vì vậy page A dù chỉ cần được trích dẫn từ 1 page rất uy tín, nhiều khả năng sẽ có thứ hạng cao hơn so với một page B được trích dẫn từ nhiều page kém chất lượng.\n",
    "\n",
    "$$r(A)=\\frac{\\alpha}{n}+(1-\\alpha)\\sum{\\frac{r(B_i)}{|B_i|}}$$\n",
    "\n",
    "trong đó:\n",
    "- A là page cần tính rank, $r(A)$ là rank page A\n",
    "- $B_i$ là một trong số các back link của page A, $|B_i|$ là số foward link của page $B$\n",
    "- $\\alpha$ là yếu tố damping, đại diện cho xác suất một người dùng ngẫu nhiên click vào 1 trang web thay vì đi theo foward link thông thường.\n",
    "- $n$ là tổng số page trong toàn bộ web\n",
    "\n",
    "Sau khi xây dựng mô hình xong, có thể giải hệ $n$ phương trình $n$ biến trên để tìm ra rank của từng page. Tuy nhiên cách này không khả thi khi số lượng page lên đến hàng triệu, vì vậy được thay thế bằng cách estimate xấp xỉ rank bằng kỹ thuật iterative như sau:\n",
    "- Khởi tạo 1 vector $p_0$ chứa rank cho mỗi page với giá trị $1/n$\n",
    "- Lập matrix A kích thước $n\\times n$ trong đó phần tử ở hàng i, cột j là foward link từ page i đến page j, thể hiện dưới dạng xác suất 1 người dùng đang từ page i chuyển sang page j. Vì là xác suất nên matrix này có tổng các phẩn tử trong 1 cột bằng 1 ([stochastic matrix](https://en.wikipedia.org/wiki/Stochastic_matrix)). Ngoài ra matrix này luôn có dominant eigenvalue = 1.\n",
    "- Sử dụng [Power interation](https://en.wikipedia.org/wiki/Power_iteration) tính xấp xỉ eigenvector. Các giá trị trong eigenvector chính là page rank.\n",
    "\n",
    "$$p_\\infty=\\lim_{n\\to\\infty}{A^\\infty p_0}$$"
   ]
  },
  {
   "cell_type": "code",
   "execution_count": 44,
   "metadata": {},
   "outputs": [
    {
     "data": {
      "image/png": "[encoded data removed]",
      "text/plain": [
       "<Figure size 432x288 with 1 Axes>"
      ]
     },
     "metadata": {
      "image/png": {
       "height": 302,
       "width": 446
      }
     },
     "output_type": "display_data"
    }
   ],
   "source": [
    "import networkx as nx\n",
    " \n",
    "my_graph = nx.DiGraph()\n",
    "edges = nx.read_edgelist('dataset/edges.txt')\n",
    "nodes = nx.read_adjlist(\"dataset/nodes.txt\")\n",
    "my_graph.add_edges_from(edges.edges())\n",
    "my_graph.add_nodes_from(nodes)\n",
    "nx.draw(my_graph, with_labels=True, font_weight='bold')"
   ]
  },
  {
   "cell_type": "code",
   "execution_count": 51,
   "metadata": {},
   "outputs": [
    {
     "data": {
      "text/plain": [
       "EdgeView([('node_1', 'node_2'), ('node_1', 'node_3'), ('node_2', 'node_3')])"
      ]
     },
     "execution_count": 51,
     "metadata": {},
     "output_type": "execute_result"
    }
   ],
   "source": [
    "nx.read_edgelist('dataset/edges.txt').edges"
   ]
  },
  {
   "cell_type": "code",
   "execution_count": 53,
   "metadata": {},
   "outputs": [
    {
     "data": {
      "text/plain": [
       "EdgeView([('1', '2'), ('2', '3'), ('3', '4'), ('4', '5'), ('5', '6')])"
      ]
     },
     "execution_count": 53,
     "metadata": {},
     "output_type": "execute_result"
    }
   ],
   "source": [
    "nx.read_edgelist('dataset/graph_1.txt', delimiter=',').edges"
   ]
  },
  {
   "cell_type": "code",
   "execution_count": null,
   "metadata": {},
   "outputs": [],
   "source": []
  },
  {
   "cell_type": "code",
   "execution_count": 48,
   "metadata": {},
   "outputs": [
    {
     "data": {
      "text/plain": [
       "<networkx.classes.graph.Graph at 0x7f9f89dd1e20>"
      ]
     },
     "execution_count": 48,
     "metadata": {},
     "output_type": "execute_result"
    }
   ],
   "source": [
    "nodes"
   ]
  },
  {
   "cell_type": "code",
   "execution_count": 49,
   "metadata": {},
   "outputs": [
    {
     "data": {
      "text/plain": [
       "<networkx.classes.graph.Graph at 0x7f9f89dd1e80>"
      ]
     },
     "execution_count": 49,
     "metadata": {},
     "output_type": "execute_result"
    }
   ],
   "source": [
    "edges"
   ]
  },
  {
   "cell_type": "code",
   "execution_count": 34,
   "metadata": {},
   "outputs": [
    {
     "data": {
      "text/plain": [
       "NodeView((0, 1, 2, 3, 4, 5, 6, 7, 8, 9))"
      ]
     },
     "execution_count": 34,
     "metadata": {},
     "output_type": "execute_result"
    }
   ],
   "source": [
    "nx.path_graph(10).nodes"
   ]
  },
  {
   "cell_type": "code",
   "execution_count": 32,
   "metadata": {},
   "outputs": [
    {
     "data": {
      "text/plain": [
       "EdgeView([])"
      ]
     },
     "execution_count": 32,
     "metadata": {},
     "output_type": "execute_result"
    }
   ],
   "source": [
    "edges.edges"
   ]
  },
  {
   "cell_type": "code",
   "execution_count": 28,
   "metadata": {
    "collapsed": true,
    "jupyter": {
     "outputs_hidden": true
    },
    "tags": []
   },
   "outputs": [
    {
     "data": {
      "text/plain": [
       "\u001b[0;31mType:\u001b[0m           Graph\n",
       "\u001b[0;31mString form:\u001b[0m    \n",
       "\u001b[0;31mLength:\u001b[0m         0\n",
       "\u001b[0;31mFile:\u001b[0m           /opt/anaconda3/lib/python3.8/site-packages/networkx/classes/graph.py\n",
       "\u001b[0;31mDocstring:\u001b[0m     \n",
       "Base class for undirected graphs.\n",
       "\n",
       "A Graph stores nodes and edges with optional data, or attributes.\n",
       "\n",
       "Graphs hold undirected edges.  Self loops are allowed but multiple\n",
       "(parallel) edges are not.\n",
       "\n",
       "Nodes can be arbitrary (hashable) Python objects with optional\n",
       "key/value attributes. By convention `None` is not used as a node.\n",
       "\n",
       "Edges are represented as links between nodes with optional\n",
       "key/value attributes.\n",
       "\n",
       "Parameters\n",
       "----------\n",
       "incoming_graph_data : input graph (optional, default: None)\n",
       "    Data to initialize graph. If None (default) an empty\n",
       "    graph is created.  The data can be any format that is supported\n",
       "    by the to_networkx_graph() function, currently including edge list,\n",
       "    dict of dicts, dict of lists, NetworkX graph, NumPy matrix\n",
       "    or 2d ndarray, SciPy sparse matrix, or PyGraphviz graph.\n",
       "\n",
       "attr : keyword arguments, optional (default= no attributes)\n",
       "    Attributes to add to graph as key=value pairs.\n",
       "\n",
       "See Also\n",
       "--------\n",
       "DiGraph\n",
       "MultiGraph\n",
       "MultiDiGraph\n",
       "OrderedGraph\n",
       "\n",
       "Examples\n",
       "--------\n",
       "Create an empty graph structure (a \"null graph\") with no nodes and\n",
       "no edges.\n",
       "\n",
       ">>> G = nx.Graph()\n",
       "\n",
       "G can be grown in several ways.\n",
       "\n",
       "**Nodes:**\n",
       "\n",
       "Add one node at a time:\n",
       "\n",
       ">>> G.add_node(1)\n",
       "\n",
       "Add the nodes from any container (a list, dict, set or\n",
       "even the lines from a file or the nodes from another graph).\n",
       "\n",
       ">>> G.add_nodes_from([2, 3])\n",
       ">>> G.add_nodes_from(range(100, 110))\n",
       ">>> H = nx.path_graph(10)\n",
       ">>> G.add_nodes_from(H)\n",
       "\n",
       "In addition to strings and integers any hashable Python object\n",
       "(except None) can represent a node, e.g. a customized node object,\n",
       "or even another Graph.\n",
       "\n",
       ">>> G.add_node(H)\n",
       "\n",
       "**Edges:**\n",
       "\n",
       "G can also be grown by adding edges.\n",
       "\n",
       "Add one edge,\n",
       "\n",
       ">>> G.add_edge(1, 2)\n",
       "\n",
       "a list of edges,\n",
       "\n",
       ">>> G.add_edges_from([(1, 2), (1, 3)])\n",
       "\n",
       "or a collection of edges,\n",
       "\n",
       ">>> G.add_edges_from(H.edges)\n",
       "\n",
       "If some edges connect nodes not yet in the graph, the nodes\n",
       "are added automatically.  There are no errors when adding\n",
       "nodes or edges that already exist.\n",
       "\n",
       "**Attributes:**\n",
       "\n",
       "Each graph, node, and edge can hold key/value attribute pairs\n",
       "in an associated attribute dictionary (the keys must be hashable).\n",
       "By default these are empty, but can be added or changed using\n",
       "add_edge, add_node or direct manipulation of the attribute\n",
       "dictionaries named graph, node and edge respectively.\n",
       "\n",
       ">>> G = nx.Graph(day=\"Friday\")\n",
       ">>> G.graph\n",
       "{'day': 'Friday'}\n",
       "\n",
       "Add node attributes using add_node(), add_nodes_from() or G.nodes\n",
       "\n",
       ">>> G.add_node(1, time=\"5pm\")\n",
       ">>> G.add_nodes_from([3], time=\"2pm\")\n",
       ">>> G.nodes[1]\n",
       "{'time': '5pm'}\n",
       ">>> G.nodes[1][\"room\"] = 714  # node must exist already to use G.nodes\n",
       ">>> del G.nodes[1][\"room\"]  # remove attribute\n",
       ">>> list(G.nodes(data=True))\n",
       "[(1, {'time': '5pm'}), (3, {'time': '2pm'})]\n",
       "\n",
       "Add edge attributes using add_edge(), add_edges_from(), subscript\n",
       "notation, or G.edges.\n",
       "\n",
       ">>> G.add_edge(1, 2, weight=4.7)\n",
       ">>> G.add_edges_from([(3, 4), (4, 5)], color=\"red\")\n",
       ">>> G.add_edges_from([(1, 2, {\"color\": \"blue\"}), (2, 3, {\"weight\": 8})])\n",
       ">>> G[1][2][\"weight\"] = 4.7\n",
       ">>> G.edges[1, 2][\"weight\"] = 4\n",
       "\n",
       "Warning: we protect the graph data structure by making `G.edges` a\n",
       "read-only dict-like structure. However, you can assign to attributes\n",
       "in e.g. `G.edges[1, 2]`. Thus, use 2 sets of brackets to add/change\n",
       "data attributes: `G.edges[1, 2]['weight'] = 4`\n",
       "(For multigraphs: `MG.edges[u, v, key][name] = value`).\n",
       "\n",
       "**Shortcuts:**\n",
       "\n",
       "Many common graph features allow python syntax to speed reporting.\n",
       "\n",
       ">>> 1 in G  # check if node in graph\n",
       "True\n",
       ">>> [n for n in G if n < 3]  # iterate through nodes\n",
       "[1, 2]\n",
       ">>> len(G)  # number of nodes in graph\n",
       "5\n",
       "\n",
       "Often the best way to traverse all edges of a graph is via the neighbors.\n",
       "The neighbors are reported as an adjacency-dict `G.adj` or `G.adjacency()`\n",
       "\n",
       ">>> for n, nbrsdict in G.adjacency():\n",
       "...     for nbr, eattr in nbrsdict.items():\n",
       "...         if \"weight\" in eattr:\n",
       "...             # Do something useful with the edges\n",
       "...             pass\n",
       "\n",
       "But the edges() method is often more convenient:\n",
       "\n",
       ">>> for u, v, weight in G.edges.data(\"weight\"):\n",
       "...     if weight is not None:\n",
       "...         # Do something useful with the edges\n",
       "...         pass\n",
       "\n",
       "**Reporting:**\n",
       "\n",
       "Simple graph information is obtained using object-attributes and methods.\n",
       "Reporting typically provides views instead of containers to reduce memory\n",
       "usage. The views update as the graph is updated similarly to dict-views.\n",
       "The objects `nodes`, `edges` and `adj` provide access to data attributes\n",
       "via lookup (e.g. `nodes[n]`, `edges[u, v]`, `adj[u][v]`) and iteration\n",
       "(e.g. `nodes.items()`, `nodes.data('color')`,\n",
       "`nodes.data('color', default='blue')` and similarly for `edges`)\n",
       "Views exist for `nodes`, `edges`, `neighbors()`/`adj` and `degree`.\n",
       "\n",
       "For details on these and other miscellaneous methods, see below.\n",
       "\n",
       "**Subclasses (Advanced):**\n",
       "\n",
       "The Graph class uses a dict-of-dict-of-dict data structure.\n",
       "The outer dict (node_dict) holds adjacency information keyed by node.\n",
       "The next dict (adjlist_dict) represents the adjacency information and holds\n",
       "edge data keyed by neighbor.  The inner dict (edge_attr_dict) represents\n",
       "the edge data and holds edge attribute values keyed by attribute names.\n",
       "\n",
       "Each of these three dicts can be replaced in a subclass by a user defined\n",
       "dict-like object. In general, the dict-like features should be\n",
       "maintained but extra features can be added. To replace one of the\n",
       "dicts create a new graph class by changing the class(!) variable\n",
       "holding the factory for that dict-like structure. The variable names are\n",
       "node_dict_factory, node_attr_dict_factory, adjlist_inner_dict_factory,\n",
       "adjlist_outer_dict_factory, edge_attr_dict_factory and graph_attr_dict_factory.\n",
       "\n",
       "node_dict_factory : function, (default: dict)\n",
       "    Factory function to be used to create the dict containing node\n",
       "    attributes, keyed by node id.\n",
       "    It should require no arguments and return a dict-like object\n",
       "\n",
       "node_attr_dict_factory: function, (default: dict)\n",
       "    Factory function to be used to create the node attribute\n",
       "    dict which holds attribute values keyed by attribute name.\n",
       "    It should require no arguments and return a dict-like object\n",
       "\n",
       "adjlist_outer_dict_factory : function, (default: dict)\n",
       "    Factory function to be used to create the outer-most dict\n",
       "    in the data structure that holds adjacency info keyed by node.\n",
       "    It should require no arguments and return a dict-like object.\n",
       "\n",
       "adjlist_inner_dict_factory : function, (default: dict)\n",
       "    Factory function to be used to create the adjacency list\n",
       "    dict which holds edge data keyed by neighbor.\n",
       "    It should require no arguments and return a dict-like object\n",
       "\n",
       "edge_attr_dict_factory : function, (default: dict)\n",
       "    Factory function to be used to create the edge attribute\n",
       "    dict which holds attribute values keyed by attribute name.\n",
       "    It should require no arguments and return a dict-like object.\n",
       "\n",
       "graph_attr_dict_factory : function, (default: dict)\n",
       "    Factory function to be used to create the graph attribute\n",
       "    dict which holds attribute values keyed by attribute name.\n",
       "    It should require no arguments and return a dict-like object.\n",
       "\n",
       "Typically, if your extension doesn't impact the data structure all\n",
       "methods will inherit without issue except: `to_directed/to_undirected`.\n",
       "By default these methods create a DiGraph/Graph class and you probably\n",
       "want them to create your extension of a DiGraph/Graph. To facilitate\n",
       "this we define two class variables that you can set in your subclass.\n",
       "\n",
       "to_directed_class : callable, (default: DiGraph or MultiDiGraph)\n",
       "    Class to create a new graph structure in the `to_directed` method.\n",
       "    If `None`, a NetworkX class (DiGraph or MultiDiGraph) is used.\n",
       "\n",
       "to_undirected_class : callable, (default: Graph or MultiGraph)\n",
       "    Class to create a new graph structure in the `to_undirected` method.\n",
       "    If `None`, a NetworkX class (Graph or MultiGraph) is used.\n",
       "\n",
       "Examples\n",
       "--------\n",
       "\n",
       "Create a low memory graph class that effectively disallows edge\n",
       "attributes by using a single attribute dict for all edges.\n",
       "This reduces the memory used, but you lose edge attributes.\n",
       "\n",
       ">>> class ThinGraph(nx.Graph):\n",
       "...     all_edge_dict = {\"weight\": 1}\n",
       "... \n",
       "...     def single_edge_dict(self):\n",
       "...         return self.all_edge_dict\n",
       "... \n",
       "...     edge_attr_dict_factory = single_edge_dict\n",
       ">>> G = ThinGraph()\n",
       ">>> G.add_edge(2, 1)\n",
       ">>> G[2][1]\n",
       "{'weight': 1}\n",
       ">>> G.add_edge(2, 2)\n",
       ">>> G[2][1] is G[2][2]\n",
       "True\n",
       "\n",
       "Please see :mod:`~networkx.classes.ordered` for more examples of\n",
       "creating graph subclasses by overwriting the base class `dict` with\n",
       "a dictionary-like object.\n",
       "\u001b[0;31mInit docstring:\u001b[0m\n",
       "Initialize a graph with edges, name, or graph attributes.\n",
       "\n",
       "Parameters\n",
       "----------\n",
       "incoming_graph_data : input graph (optional, default: None)\n",
       "    Data to initialize graph. If None (default) an empty\n",
       "    graph is created.  The data can be an edge list, or any\n",
       "    NetworkX graph object.  If the corresponding optional Python\n",
       "    packages are installed the data can also be a NumPy matrix\n",
       "    or 2d ndarray, a SciPy sparse matrix, or a PyGraphviz graph.\n",
       "\n",
       "attr : keyword arguments, optional (default= no attributes)\n",
       "    Attributes to add to graph as key=value pairs.\n",
       "\n",
       "See Also\n",
       "--------\n",
       "convert\n",
       "\n",
       "Examples\n",
       "--------\n",
       ">>> G = nx.Graph()  # or DiGraph, MultiGraph, MultiDiGraph, etc\n",
       ">>> G = nx.Graph(name=\"my graph\")\n",
       ">>> e = [(1, 2), (2, 3), (3, 4)]  # list of edges\n",
       ">>> G = nx.Graph(e)\n",
       "\n",
       "Arbitrary graph attribute pairs (key=value) may be assigned\n",
       "\n",
       ">>> G = nx.Graph(e, day=\"Friday\")\n",
       ">>> G.graph\n",
       "{'day': 'Friday'}\n"
      ]
     },
     "metadata": {},
     "output_type": "display_data"
    }
   ],
   "source": [
    "edges?"
   ]
  },
  {
   "cell_type": "code",
   "execution_count": 18,
   "metadata": {},
   "outputs": [],
   "source": [
    "import numpy as np\n",
    "import networkx as nx\n",
    "import matplotlib.pyplot as plt\n",
    "%config InlineBackend.figure_format = 'retina'"
   ]
  },
  {
   "cell_type": "code",
   "execution_count": 63,
   "metadata": {
    "tags": []
   },
   "outputs": [
    {
     "data": {
      "image/png": "[encoded data removed]",
      "text/plain": [
       "<Figure size 432x288 with 1 Axes>"
      ]
     },
     "metadata": {
      "image/png": {
       "height": 302,
       "width": 446
      }
     },
     "output_type": "display_data"
    }
   ],
   "source": [
    "g = nx.DiGraph()\n",
    "edges = nx.read_edgelist('dataset/graph_1.txt', delimiter=',')\n",
    "# g.add_edges_from(edges)\n",
    "nx.draw(edges, with_labels=True)"
   ]
  },
  {
   "cell_type": "code",
   "execution_count": 23,
   "metadata": {
    "tags": []
   },
   "outputs": [
    {
     "ename": "TypeError",
     "evalue": "add_edge() missing 1 required positional argument: 'v_of_edge'",
     "output_type": "error",
     "traceback": [
      "\u001b[0;31m---------------------------------------------------------------------------\u001b[0m",
      "\u001b[0;31mTypeError\u001b[0m                                 Traceback (most recent call last)",
      "\u001b[0;32m<ipython-input-23-63124ae4a72c>\u001b[0m in \u001b[0;36m<module>\u001b[0;34m\u001b[0m\n\u001b[1;32m      1\u001b[0m \u001b[0mg\u001b[0m \u001b[0;34m=\u001b[0m \u001b[0mnx\u001b[0m\u001b[0;34m.\u001b[0m\u001b[0mDiGraph\u001b[0m\u001b[0;34m(\u001b[0m\u001b[0;34m)\u001b[0m\u001b[0;34m\u001b[0m\u001b[0;34m\u001b[0m\u001b[0m\n\u001b[1;32m      2\u001b[0m \u001b[0medges\u001b[0m \u001b[0;34m=\u001b[0m \u001b[0mnx\u001b[0m\u001b[0;34m.\u001b[0m\u001b[0mread_edgelist\u001b[0m\u001b[0;34m(\u001b[0m\u001b[0;34m'dataset/graph_1.txt'\u001b[0m\u001b[0;34m)\u001b[0m\u001b[0;34m\u001b[0m\u001b[0;34m\u001b[0m\u001b[0m\n\u001b[0;32m----> 3\u001b[0;31m \u001b[0mg\u001b[0m\u001b[0;34m.\u001b[0m\u001b[0madd_edge\u001b[0m\u001b[0;34m(\u001b[0m\u001b[0medges\u001b[0m\u001b[0;34m)\u001b[0m\u001b[0;34m\u001b[0m\u001b[0;34m\u001b[0m\u001b[0m\n\u001b[0m\u001b[1;32m      4\u001b[0m \u001b[0mnx\u001b[0m\u001b[0;34m.\u001b[0m\u001b[0mdraw\u001b[0m\u001b[0;34m(\u001b[0m\u001b[0mg\u001b[0m\u001b[0;34m,\u001b[0m \u001b[0mwith_labels\u001b[0m\u001b[0;34m=\u001b[0m\u001b[0;32mTrue\u001b[0m\u001b[0;34m)\u001b[0m\u001b[0;34m\u001b[0m\u001b[0;34m\u001b[0m\u001b[0m\n",
      "\u001b[0;31mTypeError\u001b[0m: add_edge() missing 1 required positional argument: 'v_of_edge'"
     ]
    }
   ],
   "source": [
    "g = nx.DiGraph()\n",
    "edges = nx.read_edgelist('dataset/graph_1.txt')\n",
    "g.add_edge(edges)\n",
    "nx.draw(g, with_labels=True)"
   ]
  },
  {
   "cell_type": "code",
   "execution_count": 20,
   "metadata": {},
   "outputs": [
    {
     "name": "stdout",
     "output_type": "stream",
     "text": [
      "[0.088 0.187 0.369 0.128 0.059 0.11  0.    0.059]\n",
      "[0.043 0.144 0.03  0.187 0.268 0.144 0.154 0.03 ]\n",
      "[0.241 0.137 0.218 0.24  0.077 0.035 0.019 0.034]\n",
      "[[1.    0.208 0.221 0.193 0.217 0.269 0.    0.171]\n",
      " [0.208 1.    0.355 0.369 0.302 0.553 0.    0.369]\n",
      " [0.221 0.355 1.    0.242 0.4   0.325 0.    0.427]\n",
      " [0.193 0.369 0.242 1.    0.229 0.548 0.    0.244]\n",
      " [0.217 0.302 0.4   0.229 1.    0.272 0.    0.498]\n",
      " [0.269 0.553 0.325 0.548 0.272 1.    0.    0.245]\n",
      " [0.    0.    0.    0.    0.    0.    1.    0.   ]\n",
      " [0.171 0.369 0.427 0.244 0.498 0.245 0.    1.   ]]\n"
     ]
    }
   ],
   "source": [
    "import networkx as nx\n",
    "import numpy as np\n",
    "from numpy import array\n",
    "import matplotlib.pyplot as plt\n",
    "\n",
    "with open('./dataset/HITS.txt') as f:\n",
    "    lines = f.readlines()\n",
    "\n",
    "G = nx.DiGraph()\n",
    "\n",
    "for line in lines:\n",
    "    t = tuple(line.strip().split(','))\n",
    "    G.add_edge(*t)\n",
    "\n",
    "h, a = nx.hits(G, max_iter=100)\n",
    "h = dict(sorted(h.items(), key=lambda x: x[0]))\n",
    "a = dict(sorted(a.items(), key=lambda x: x[0]))\n",
    "\n",
    "print(np.round(list(a.values()), 3))\n",
    "print(np.round(list(h.values()), 3))\n",
    "\n",
    "pr = nx.pagerank(G)\n",
    "pr = dict(sorted(pr.items(), key=lambda x: x[0]))\n",
    "print(np.round(list(pr.values()), 3))\n",
    "\n",
    "\n",
    "sim = nx.simrank_similarity(G)\n",
    "lol = [[sim[u][v] for v in sorted(sim[u])] for u in sorted(sim)]\n",
    "sim_array = np.round(array(lol), 3)\n",
    "print(sim_array)\n",
    "\n",
    "# nx.draw(G, with_labels=True, node_size=2000, edge_color='#eb4034', width=3, font_size=16, font_weight=500, arrowsize=20, alpha=0.8)"
   ]
  },
  {
   "cell_type": "code",
   "execution_count": 1,
   "metadata": {},
   "outputs": [
    {
     "data": {
      "text/plain": [
       "'2.5.1'"
      ]
     },
     "execution_count": 1,
     "metadata": {},
     "output_type": "execute_result"
    }
   ],
   "source": [
    "import networkx as nx\n",
    "nx.__version__"
   ]
  },
  {
   "cell_type": "code",
   "execution_count": 21,
   "metadata": {},
   "outputs": [
    {
     "data": {
      "image/png": "[encoded data removed]",
      "text/plain": [
       "<Figure size 432x288 with 1 Axes>"
      ]
     },
     "metadata": {
      "image/png": {
       "height": 302,
       "width": 446
      }
     },
     "output_type": "display_data"
    }
   ],
   "source": [
    "import networkx as nx\n",
    "G = nx.dodecahedral_graph()\n",
    "nx.draw(G)\n",
    "nx.draw(G, pos=nx.spring_layout(G)) "
   ]
  },
  {
   "cell_type": "markdown",
   "metadata": {},
   "source": [
    "- https://www.cs.umd.edu/~samir/498/Amazon-Recommendations.pdf\n",
    "- https://en.wikipedia.org/wiki/Recommender_system#Content-based_filtering\n",
    "- https://www.datacamp.com/community/tutorials/recommender-systems-python\n",
    "- http://yifanhu.net/PUB/cf.pdf\n",
    "- https://www.analyticsvidhya.com/blog/2015/08/beginners-guide-learn-content-based-recommender-systems/\n",
    "- https://www.kaggle.com/faressayah/collaborative-filtering-for-movie-recommendations\n",
    "- https://machinelearningcoban.com/2017/05/31/matrixfactorization/\n",
    "- http://infolab.stanford.edu/~ullman/mmds/ch9.pdf\n",
    "- https://stanford.edu/~rezab/classes/cme323/S15/notes/lec14.pdf\n",
    "- https://realpython.com/build-recommendation-engine-collaborative-filtering/\n",
    "- https://heartbeat.fritz.ai/recommender-systems-with-python-part-i-content-based-filtering-5df4940bd831\n",
    "- https://medium.com/m/global-identity?redirectUrl=https%3A%2F%2Ftowardsdatascience.com%2Fitem-based-collaborative-filtering-in-python-91f747200fab\n",
    "- https://medium.com/m/global-identity?redirectUrl=https%3A%2F%2Ftowardsdatascience.com%2Frecommender-system-in-python-part-2-content-based-system-693a0e4bb306\n",
    "- https://medium.com/m/global-identity?redirectUrl=https%3A%2F%2Ftowardsdatascience.com%2Frecommender-system-in-python-part-1-preparation-and-analysis-d6bb7939091e\n",
    "- https://medium.com/analytics-vidhya/content-based-recommender-systems-in-python-2b330e01eb80\n",
    "- https://beckernick.github.io/matrix-factorization-recommender/\n",
    "- https://livebook.manning.com/book/practical-recommender-systems/chapter-4/8\n",
    "- https://www.onely.com/blog/what-is-tf-idf/\n",
    "- https://web.media.mit.edu/~lieber/IUI/Fu/Fu.pdf"
   ]
  },
  {
   "cell_type": "markdown",
   "metadata": {},
   "source": [
    "---\n",
    "*&#9829; By Quang Hung x Thuy Linh &#9829;*"
   ]
  }
 ],
 "metadata": {
  "kernelspec": {
   "display_name": "Python 3",
   "language": "python",
   "name": "python3"
  },
  "language_info": {
   "codemirror_mode": {
    "name": "ipython",
    "version": 3
   },
   "file_extension": ".py",
   "mimetype": "text/x-python",
   "name": "python",
   "nbconvert_exporter": "python",
   "pygments_lexer": "ipython3",
   "version": "3.8.8"
  }
 },
 "nbformat": 4,
 "nbformat_minor": 4
}
