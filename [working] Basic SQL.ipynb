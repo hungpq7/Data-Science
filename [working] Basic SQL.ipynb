{
 "cells": [
  {
   "cell_type": "markdown",
   "id": "94179a41-63d0-4378-8433-6ef89d054a58",
   "metadata": {},
   "source": [
    "JupyterLab allows writing SQL query directly in-cell, thanks to the `%sparksql` magic command (use two percent signs `%%sparksql` to span code in multiple lines). An amazing feature is that PySpark can also interacts with this enviroment. This means all local files can be read as Hive tables."
   ]
  },
  {
   "cell_type": "code",
   "execution_count": 1,
   "id": "a302ccd3-92cd-476f-87f5-b69b8e120e99",
   "metadata": {
    "tags": []
   },
   "outputs": [],
   "source": [
    "import findspark; findspark.init()\n",
    "from pyspark.sql import SparkSession\n",
    "spark = SparkSession.builder.enableHiveSupport().getOrCreate()\n",
    "spark.conf.set('spark.sql.repl.eagerEval.enabled', True)\n",
    "\n",
    "import pyspark.sql.functions as F\n",
    "import pyspark.sql.types as T"
   ]
  },
  {
   "cell_type": "code",
   "execution_count": 2,
   "id": "f752b6be-ab7c-448e-a961-aca186aea0a5",
   "metadata": {
    "tags": []
   },
   "outputs": [],
   "source": [
    "%load_ext sparksql_magic"
   ]
  },
  {
   "cell_type": "markdown",
   "id": "0bae05da-5a21-479f-a657-55cb8f1a44cd",
   "metadata": {},
   "source": [
    "# 1. Managing tables"
   ]
  },
  {
   "cell_type": "markdown",
   "id": "0cb8cfa0-751a-4550-bd78-7c674d539e24",
   "metadata": {},
   "source": [
    "## 1.1. Creating tables"
   ]
  },
  {
   "cell_type": "markdown",
   "id": "6a72c26f-bfe0-4fc5-ad4b-feaa2509868c",
   "metadata": {},
   "source": [
    "#### Manually creating tables"
   ]
  },
  {
   "cell_type": "code",
   "execution_count": 9,
   "id": "061d3c27-ec86-4cb5-87eb-122fdcdfc85b",
   "metadata": {
    "tags": []
   },
   "outputs": [
    {
     "data": {
      "text/html": [
       "<table><tr style=\"border-bottom: 1px solid\"></tr></table>"
      ],
      "text/plain": [
       "<IPython.core.display.HTML object>"
      ]
     },
     "execution_count": 9,
     "metadata": {},
     "output_type": "execute_result"
    }
   ],
   "source": [
    "%%sparksql\n",
    "\n",
    "CREATE TABLE IF NOT EXISTS tbl_product\n",
    "STORED AS PARQUET\n",
    "LOCATION 'data/spark_db/tbl_product'\n",
    "TBLPROPERTIES ('parquet.compression'='snappy')\n",
    "\n",
    "SELECT *\n",
    "FROM VALUES\n",
    "    ('Laptop', '1000', 15),\n",
    "    ('Mouse', '20', 100),\n",
    "    ('Headphone', '50', 50),\n",
    "    ('USB', NULL, 100)\n",
    "AS (product, price, stock)"
   ]
  },
  {
   "cell_type": "code",
   "execution_count": 10,
   "id": "11161110-d3a2-424f-8cee-efc7cd44e6c8",
   "metadata": {},
   "outputs": [
    {
     "data": {
      "text/html": [
       "<table><tr style=\"border-bottom: 1px solid\"><td style=\"font-weight: bold\">database</td><td style=\"font-weight: bold\">tableName</td><td style=\"font-weight: bold\">isTemporary</td></tr><tr><td>default</td><td>tbl_product</td><td>False</td></tr><tr><td>default</td><td>test</td><td>False</td></tr></table>"
      ],
      "text/plain": [
       "<IPython.core.display.HTML object>"
      ]
     },
     "execution_count": 10,
     "metadata": {},
     "output_type": "execute_result"
    }
   ],
   "source": [
    "%%sparksql\n",
    "\n",
    "SHOW TABLES"
   ]
  },
  {
   "cell_type": "code",
   "execution_count": 11,
   "id": "6e0b1e2d-f586-46a5-a615-52d65aee7136",
   "metadata": {},
   "outputs": [
    {
     "data": {
      "text/html": [
       "<table><tr style=\"border-bottom: 1px solid\"><td style=\"font-weight: bold\">col_name</td><td style=\"font-weight: bold\">data_type</td><td style=\"font-weight: bold\">comment</td></tr><tr><td>product</td><td>string</td><td>null</td></tr><tr><td>price</td><td>string</td><td>null</td></tr><tr><td>stock</td><td>bigint</td><td>null</td></tr><tr><td></td><td></td><td></td></tr><tr><td># Detailed Table Information</td><td></td><td></td></tr><tr><td>Database</td><td>default</td><td></td></tr><tr><td>Table</td><td>test</td><td></td></tr><tr><td>Owner</td><td>hungpq</td><td></td></tr><tr><td>Created Time</td><td>Wed Sep 15 00:05:53 ICT 2021</td><td></td></tr><tr><td>Last Access</td><td>UNKNOWN</td><td></td></tr><tr><td>Created By</td><td>Spark 3.1.2</td><td></td></tr><tr><td>Type</td><td>EXTERNAL</td><td></td></tr><tr><td>Provider</td><td>parquet</td><td></td></tr><tr><td>Location</td><td>file:/Users/hungpq/Documents/Data%2520Science/Jupyter/Python/spark-warehouse/data/spark_db/test</td><td></td></tr><tr><td>Serde Library</td><td>org.apache.hadoop.hive.ql.io.parquet.serde.ParquetHiveSerDe</td><td></td></tr><tr><td>InputFormat</td><td>org.apache.hadoop.hive.ql.io.parquet.MapredParquetInputFormat</td><td></td></tr><tr><td>OutputFormat</td><td>org.apache.hadoop.hive.ql.io.parquet.MapredParquetOutputFormat</td><td></td></tr><tr><td>Storage Properties</td><td>[compression=snappy]</td><td></td></tr></table>"
      ],
      "text/plain": [
       "<IPython.core.display.HTML object>"
      ]
     },
     "execution_count": 11,
     "metadata": {},
     "output_type": "execute_result"
    }
   ],
   "source": [
    "%%sparksql\n",
    "\n",
    "desc formatted test"
   ]
  },
  {
   "cell_type": "code",
   "execution_count": 15,
   "id": "5f691b99-6ea0-4822-8a84-01d91821ee40",
   "metadata": {},
   "outputs": [
    {
     "data": {
      "text/html": [
       "<table><tr style=\"border-bottom: 1px solid\"></tr></table>"
      ],
      "text/plain": [
       "<IPython.core.display.HTML object>"
      ]
     },
     "execution_count": 15,
     "metadata": {},
     "output_type": "execute_result"
    }
   ],
   "source": [
    "%%sparksql\n",
    "\n",
    "drop table tmp2"
   ]
  },
  {
   "cell_type": "code",
   "execution_count": 10,
   "id": "b97f59a9-e67b-41a2-a97f-0ba07ee6e988",
   "metadata": {},
   "outputs": [
    {
     "data": {
      "text/html": [
       "<table><tr style=\"border-bottom: 1px solid\"><td style=\"font-weight: bold\">namespace</td></tr><tr><td>default</td></tr></table>"
      ],
      "text/plain": [
       "<IPython.core.display.HTML object>"
      ]
     },
     "execution_count": 10,
     "metadata": {},
     "output_type": "execute_result"
    }
   ],
   "source": [
    "%%sparksql\n",
    "\n",
    "show databases"
   ]
  },
  {
   "cell_type": "code",
   "execution_count": 9,
   "id": "48524e54-8723-4797-80e4-7f1be25bf5de",
   "metadata": {},
   "outputs": [
    {
     "data": {
      "text/html": [
       "<table><tr style=\"border-bottom: 1px solid\"><td style=\"font-weight: bold\">a</td></tr><tr><td>1</td></tr></table>"
      ],
      "text/plain": [
       "<IPython.core.display.HTML object>"
      ]
     },
     "execution_count": 9,
     "metadata": {},
     "output_type": "execute_result"
    }
   ],
   "source": [
    "%%sparksql\n",
    "\n",
    "select * from tmp2"
   ]
  },
  {
   "cell_type": "code",
   "execution_count": 4,
   "id": "1fa1852e-3efe-44f9-a8b3-4600c2e380f0",
   "metadata": {},
   "outputs": [
    {
     "data": {
      "text/html": [
       "<table><tr style=\"border-bottom: 1px solid\"></tr></table>"
      ],
      "text/plain": [
       "<IPython.core.display.HTML object>"
      ]
     },
     "execution_count": 4,
     "metadata": {},
     "output_type": "execute_result"
    }
   ],
   "source": [
    "%%sparksql\n",
    "\n",
    "DROP TABLE tbl_product"
   ]
  },
  {
   "cell_type": "code",
   "execution_count": 3,
   "id": "32cae013-2b06-4e40-bff1-800eaaf949ec",
   "metadata": {},
   "outputs": [
    {
     "data": {
      "text/html": [
       "<table><tr style=\"border-bottom: 1px solid\"></tr></table>"
      ],
      "text/plain": [
       "<IPython.core.display.HTML object>"
      ]
     },
     "execution_count": 3,
     "metadata": {},
     "output_type": "execute_result"
    }
   ],
   "source": [
    "%%sparksql\n",
    "\n",
    "CREATE TABLE IF NOT EXISTS tbl_product (\n",
    "    product STRING COMMENT 'name of product',\n",
    "    price INT COMMENT 'price of product',\n",
    "    stock INT COMMENT 'number of products left'\n",
    ")\n",
    "STORED AS PARQUET\n",
    "LOCATION 'data/spark_db/tbl_product'\n",
    "TBLPROPERTIES ('parquet.compression'='snappy')"
   ]
  },
  {
   "cell_type": "code",
   "execution_count": 30,
   "id": "93071693-0a3e-4d4e-9c5b-d87b99beca7b",
   "metadata": {},
   "outputs": [
    {
     "data": {
      "text/html": [
       "<table><tr style=\"border-bottom: 1px solid\"><td style=\"font-weight: bold\">product</td><td style=\"font-weight: bold\">price</td><td style=\"font-weight: bold\">stock</td></tr><tr><td>Headphone</td><td>50</td><td>50</td></tr><tr><td>Laptop</td><td>1000</td><td>15</td></tr><tr><td>Mouse</td><td>20</td><td>100</td></tr><tr><td>USB</td><td>null</td><td>100</td></tr></table>"
      ],
      "text/plain": [
       "<IPython.core.display.HTML object>"
      ]
     },
     "execution_count": 30,
     "metadata": {},
     "output_type": "execute_result"
    }
   ],
   "source": [
    "%%sparksql\n",
    "\n",
    "SELECT *\n",
    "FROM tbl_product"
   ]
  },
  {
   "cell_type": "code",
   "execution_count": 40,
   "id": "013e8e0d-7f2a-46bb-a0ed-e98b00b78284",
   "metadata": {},
   "outputs": [
    {
     "data": {
      "text/html": [
       "<table><tr style=\"border-bottom: 1px solid\"></tr></table>"
      ],
      "text/plain": [
       "<IPython.core.display.HTML object>"
      ]
     },
     "execution_count": 40,
     "metadata": {},
     "output_type": "execute_result"
    }
   ],
   "source": [
    "%%sparksql\n",
    "\n",
    "CREATE TABLE IF NOT EXISTS tbl_test (\n",
    "    product STRING COMMENT 'name of product',\n",
    "    price INT COMMENT 'price of product',\n",
    "    stock INT COMMENT 'number of products left'\n",
    ")\n",
    "STORED AS PARQUET\n",
    "LOCATION 'data/spark_db/tbl_product'\n",
    "TBLPROPERTIES ('parquet.compression' = 'snappy')"
   ]
  },
  {
   "cell_type": "markdown",
   "id": "956ec8ac-f34f-426d-80ec-7c16a71de8fb",
   "metadata": {},
   "source": [
    "## 1.2. Importing local files"
   ]
  },
  {
   "cell_type": "code",
   "execution_count": null,
   "id": "009060dd-3b62-4712-8d38-2658a928b893",
   "metadata": {},
   "outputs": [],
   "source": [
    "%%sparksql --cache --view result df"
   ]
  },
  {
   "cell_type": "code",
   "execution_count": 7,
   "id": "f4626870-0111-4e69-9b1e-0da333568efa",
   "metadata": {
    "tags": []
   },
   "outputs": [],
   "source": [
    "data = [\n",
    "    ('Laptop', '$1000', 15),\n",
    "    ('Mouse', '$20', 100),\n",
    "    ('Headphone', '$50', 50),\n",
    "    ('USB', None, 100)\n",
    "]\n",
    "\n",
    "columns = ['product', 'price', 'stock']\n",
    "\n",
    "df = spark.createDataFrame(data, columns)"
   ]
  },
  {
   "cell_type": "code",
   "execution_count": 8,
   "id": "7199b1ba-08b6-41be-8874-7f709a58a72b",
   "metadata": {
    "tags": []
   },
   "outputs": [],
   "source": [
    "df\\\n",
    "    .write\\\n",
    "    .format('parquet')\\\n",
    "    .option('path', 'data/spark_db/test')\\\n",
    "    .option('compression', 'snappy')\\\n",
    "    .mode('overwrite').saveAsTable('test')"
   ]
  },
  {
   "cell_type": "markdown",
   "id": "e2abdebb-bb61-4a1b-b905-e130c0f020ec",
   "metadata": {},
   "source": [
    "#### Create tables"
   ]
  },
  {
   "cell_type": "code",
   "execution_count": 19,
   "id": "622770ed-3597-4451-96c5-207ddd868d28",
   "metadata": {
    "execution": {
     "iopub.execute_input": "2021-09-10T17:38:15.461025Z",
     "iopub.status.busy": "2021-09-10T17:38:15.460701Z",
     "iopub.status.idle": "2021-09-10T17:38:15.573900Z",
     "shell.execute_reply": "2021-09-10T17:38:15.573112Z",
     "shell.execute_reply.started": "2021-09-10T17:38:15.460996Z"
    },
    "tags": []
   },
   "outputs": [
    {
     "data": {
      "text/html": [
       "<table><tr style=\"border-bottom: 1px solid\"><td style=\"font-weight: bold\">product</td><td style=\"font-weight: bold\">price</td><td style=\"font-weight: bold\">stock</td></tr><tr><td>Laptop</td><td>$1000</td><td>15</td></tr><tr><td>Mouse</td><td>$20</td><td>100</td></tr><tr><td>Headphone</td><td>$50</td><td>50</td></tr><tr><td>USB</td><td>null</td><td>100</td></tr></table>"
      ],
      "text/plain": [
       "<IPython.core.display.HTML object>"
      ]
     },
     "execution_count": 19,
     "metadata": {},
     "output_type": "execute_result"
    }
   ],
   "source": [
    "%%sparksql\n",
    "\n",
    "SELECT *\n",
    "FROM VALUES\n",
    "    ('Laptop', '$1000', 15),\n",
    "    ('Mouse', '$20', 100),\n",
    "    ('Headphone', '$50', 50),\n",
    "    ('USB', NULL, 100)\n",
    "AS (product, price, stock)"
   ]
  },
  {
   "cell_type": "markdown",
   "id": "8f706137-9c9a-4793-8e27-c5515a302e76",
   "metadata": {},
   "source": [
    "#### Save tables"
   ]
  },
  {
   "cell_type": "code",
   "execution_count": 8,
   "id": "0af26f67-8439-45ec-b1c7-8768d95aa6dd",
   "metadata": {},
   "outputs": [
    {
     "data": {
      "text/html": [
       "<table><tr style=\"border-bottom: 1px solid\"><td style=\"font-weight: bold\">database</td><td style=\"font-weight: bold\">tableName</td><td style=\"font-weight: bold\">isTemporary</td></tr><tr><td>default</td><td>tmp2</td><td>False</td></tr></table>"
      ],
      "text/plain": [
       "<IPython.core.display.HTML object>"
      ]
     },
     "execution_count": 8,
     "metadata": {},
     "output_type": "execute_result"
    }
   ],
   "source": [
    "%%sparksql\n",
    "show tables"
   ]
  },
  {
   "cell_type": "code",
   "execution_count": 7,
   "id": "85abf580-22f3-46ad-9fed-d252662e954c",
   "metadata": {
    "tags": []
   },
   "outputs": [
    {
     "data": {
      "text/html": [
       "<table><tr style=\"border-bottom: 1px solid\"></tr></table>"
      ],
      "text/plain": [
       "<IPython.core.display.HTML object>"
      ]
     },
     "execution_count": 7,
     "metadata": {},
     "output_type": "execute_result"
    }
   ],
   "source": [
    "%%sparksql\n",
    "create table tmp2 as (select 1 as a)"
   ]
  },
  {
   "cell_type": "code",
   "execution_count": 32,
   "id": "3cddba3e-3d5c-4c08-91d3-e00a29021340",
   "metadata": {
    "execution": {
     "iopub.execute_input": "2021-09-10T17:50:20.388603Z",
     "iopub.status.busy": "2021-09-10T17:50:20.388285Z",
     "iopub.status.idle": "2021-09-10T17:50:20.471643Z",
     "shell.execute_reply": "2021-09-10T17:50:20.470364Z",
     "shell.execute_reply.started": "2021-09-10T17:50:20.388573Z"
    },
    "tags": []
   },
   "outputs": [
    {
     "data": {
      "text/html": [
       "<table><tr style=\"border-bottom: 1px solid\"></tr></table>"
      ],
      "text/plain": [
       "<IPython.core.display.HTML object>"
      ]
     },
     "execution_count": 32,
     "metadata": {},
     "output_type": "execute_result"
    }
   ],
   "source": [
    "%%sparksql\n",
    "\n",
    "create temporary view tmp as (select pi() as pi)\n",
    "-- select pi() as pi"
   ]
  },
  {
   "cell_type": "code",
   "execution_count": 11,
   "id": "6797bb19-8db8-4ed8-b996-e46b1d3b1448",
   "metadata": {
    "execution": {
     "iopub.execute_input": "2021-09-10T15:09:41.449105Z",
     "iopub.status.busy": "2021-09-10T15:09:41.448663Z",
     "iopub.status.idle": "2021-09-10T15:09:41.528678Z",
     "shell.execute_reply": "2021-09-10T15:09:41.527818Z",
     "shell.execute_reply.started": "2021-09-10T15:09:41.449060Z"
    },
    "tags": []
   },
   "outputs": [
    {
     "data": {
      "text/html": [
       "<table><tr style=\"border-bottom: 1px solid\"><td style=\"font-weight: bold\">pi</td></tr><tr><td>3.141592653589793</td></tr></table>"
      ],
      "text/plain": [
       "<IPython.core.display.HTML object>"
      ]
     },
     "execution_count": 11,
     "metadata": {},
     "output_type": "execute_result"
    }
   ],
   "source": [
    "%%sparksql\n",
    "select pi() as pi"
   ]
  },
  {
   "cell_type": "code",
   "execution_count": 4,
   "id": "77d1778d-b316-4313-a5fd-ce4913ddf0cd",
   "metadata": {
    "tags": []
   },
   "outputs": [
    {
     "data": {
      "text/html": [
       "<table><tr style=\"border-bottom: 1px solid\"><td style=\"font-weight: bold\">database</td><td style=\"font-weight: bold\">tableName</td><td style=\"font-weight: bold\">isTemporary</td></tr></table>"
      ],
      "text/plain": [
       "<IPython.core.display.HTML object>"
      ]
     },
     "execution_count": 4,
     "metadata": {},
     "output_type": "execute_result"
    }
   ],
   "source": [
    "%%sparksql\n",
    "show tables"
   ]
  },
  {
   "cell_type": "code",
   "execution_count": 44,
   "id": "93fbc99a-0b7b-4813-a294-eec30c013f6c",
   "metadata": {
    "tags": []
   },
   "outputs": [
    {
     "data": {
      "text/html": [
       "<table><tr style=\"border-bottom: 1px solid\"><td style=\"font-weight: bold\">col_name</td><td style=\"font-weight: bold\">data_type</td><td style=\"font-weight: bold\">comment</td></tr><tr><td>a</td><td>int</td><td>null</td></tr><tr><td></td><td></td><td></td></tr><tr><td># Detailed Table Information</td><td></td><td></td></tr><tr><td>Database</td><td>default</td><td></td></tr><tr><td>Table</td><td>tmp2</td><td></td></tr><tr><td>Created Time</td><td>Sat Sep 11 00:51:08 ICT 2021</td><td></td></tr><tr><td>Last Access</td><td>UNKNOWN</td><td></td></tr><tr><td>Created By</td><td>Spark 3.1.2</td><td></td></tr><tr><td>Type</td><td>VIEW</td><td></td></tr><tr><td>View Text</td><td>(select 1 as a)</td><td></td></tr><tr><td>View Original Text</td><td>(select 1 as a)</td><td></td></tr><tr><td>View Catalog and Namespace</td><td>spark_catalog.default</td><td></td></tr><tr><td>View Query Output Columns</td><td>[a]</td><td></td></tr><tr><td>Table Properties</td><td>[view.catalogAndNamespace.numParts=2, view.catalogAndNamespace.part.0=spark_catalog, view.catalogAndNamespace.part.1=default, view.query.out.col.0=a, view.query.out.numCols=1, view.referredTempFunctionsNames=[], view.referredTempViewNames=[], view.sqlConfig.spark.sql.repl.eagerEval.enabled=true]</td><td></td></tr></table>"
      ],
      "text/plain": [
       "<IPython.core.display.HTML object>"
      ]
     },
     "execution_count": 44,
     "metadata": {},
     "output_type": "execute_result"
    }
   ],
   "source": [
    "%%sparksql\n",
    "\n",
    "desc formatted tmp2"
   ]
  }
 ],
 "metadata": {
  "kernelspec": {
   "display_name": "Python 3",
   "language": "python",
   "name": "python3"
  },
  "language_info": {
   "codemirror_mode": {
    "name": "ipython",
    "version": 3
   },
   "file_extension": ".py",
   "mimetype": "text/x-python",
   "name": "python",
   "nbconvert_exporter": "python",
   "pygments_lexer": "ipython3",
   "version": "3.8.8"
  }
 },
 "nbformat": 4,
 "nbformat_minor": 5
}
