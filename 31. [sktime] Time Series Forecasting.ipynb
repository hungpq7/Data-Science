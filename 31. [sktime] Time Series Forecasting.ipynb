{
 "cells": [
  {
   "cell_type": "markdown",
   "id": "12c099f5-34c0-4770-b2a4-d96a7e5876c6",
   "metadata": {},
   "source": [
    "# 1. ARIMA\n",
    "[ARIMA](https://en.wikipedia.org/wiki/Autoregressive_integrated_moving_average) (**A**uto**R**egressive **I**ntegrated **M**oving **A**verage) is an statistical model aiming to demonstrate the auto-correlations in time series data. The term *auto* means we are examining the relationship between our series with historical versions of itself (lagged series)."
   ]
  },
  {
   "cell_type": "markdown",
   "id": "0aaf42e2-7ac9-4d0b-85c0-7e9a82722264",
   "metadata": {},
   "source": [
    "## 1.1. ARIMA model"
   ]
  },
  {
   "cell_type": "markdown",
   "id": "0806cbb3-e0db-45ab-a96a-2c754ace5bbc",
   "metadata": {},
   "source": [
    "### ARIMA functions\n",
    "In a nutshell, ARIMA is a combination of 3 separated processes:\n",
    "\n",
    "- Integration, $\\text{I}(d)$. In this process, the model keeps differencing a time series until it's stationary. The parameter $d$ is the order of differencing and is determined using ADF test. The term *integration* shares the same meaning as summing, which implies the reverse of differencing.\n",
    "\n",
    "- Auto-Regressive, $\\text{AR}(p)$. In this process, we perform a linear regression model where input variables are lagged versions of our data. The parameter $p$ indicates the maximum lag degree and is determined using PACF of a stationary series: when a coefficient suddenly drops to 0, then the corresponding lag is a possible value for $p$. The $\\text{AR}(p)$ function is:\n",
    "\n",
    "$$\\begin{align}\n",
    "\\hat{y}_t\n",
    "&= c+\\phi_1y_{t-1}+\\phi_2y_{t-2}+\\dots+\\phi_py_{t-p} \\\\\n",
    "&= c+(\\phi_1B+\\phi_2B^2+\\dots+\\phi_pB^p)y_t \\\\\n",
    "\\end{align}$$\n",
    "\n",
    "- Moving Average model, $\\text{MA}(q)$. It models our time series as a linear combination of past error (denoted $\\epsilon$, where $\\epsilon_{t-k}=y_{t-k}-\\phi_1 y_{t-k-1}$). The parameter $q$ indicates the maximum lag degree and is determined using ACF chart of a stationary series, in a similar decision-making process as for $p$. The $\\text{MA}(q)$ functions is:\n",
    "\n",
    "$$\\begin{align}\n",
    "\\hat{y}_t\n",
    "&= c+\\theta_1\\epsilon_{t-1}+\\theta_2\\epsilon_{t-2}+\\dots+\\theta_q\\epsilon_{t-q} \\\\\n",
    "&= c+(\\theta_1B+\\theta_2B^2+\\dots+\\theta_qB^q)\\epsilon_t \\\\\n",
    "\\end{align}$$\n",
    "\n",
    "The entire model $\\text{ARIMA}(p,d,q)$ is written as below:\n",
    "\n",
    "$$(1-B)^d\\hat{y}_t=c+(\\phi_1B+\\phi_2B^2+\\dots+\\phi_pB^p)(1-B)^dy_t+(\\theta_1B+\\theta_2B^2+\\dots+\\theta_qB^q)\\epsilon_t$$"
   ]
  },
  {
   "cell_type": "markdown",
   "id": "6de7082e-0aae-4c18-8739-aaa69f8e4ab3",
   "metadata": {},
   "source": [
    "### Procedure\n",
    "- *Estimation*. ARIMA estimates its parameters $c,\\phi_1,\\phi_2,\\dots,\\phi_p,\\theta_1,\\theta_2,\\dots,\\theta_q$ either by minimizing sum of squared errors ([OLS](https://en.wikipedia.org/wiki/Ordinary_least_squares)) or by maximizing likelihood ([MLE](https://en.wikipedia.org/wiki/Maximum_likelihood_estimation)). Both methods return the same result.\n",
    "\n",
    "- *Point forecasting*. It's obvious, by looking at ARIMA function, that each observation at time $t$ is modeled using previous step $t-1,t-2,\\dots$. This prediction is written $\\hat{y}_{t|t-1}$. As we have known all values up to time $T$, the forecasting is done in a *recursive* behaviour: $\\hat{y}_{T+1|T},\\hat{y}_{T+2|T+1},\\dots,\\hat{y}_{T+h|T+h-1}$.\n",
    "\n",
    "- *Prediction interval*. Being a regression model, ARIMA assumes that fitted residuals are normally distributed. Thus the confidence interval is given by $z_{\\alpha/2}\\sigma_h$ where $\\alpha$ is significance level and $\\sigma_h$ is the forecast standard deviation, it is proportional to the variance of residuals and $h$. But also note that when the above assumption is not hold, then prediction interval may be incorrect."
   ]
  },
  {
   "cell_type": "markdown",
   "id": "29432c10-793f-49b5-851d-c406347cc5bc",
   "metadata": {},
   "source": [
    "### Model selection\n",
    "Model selection (also known as hyperparameters tuning) for ARIMA is the process of choosing appropriate values for $p$, $q$ and $d$. While the selection of $d$ is very straightforward, we would want to put more focus on tuning $p$ and $q$. As described earlier, viable values for $p$ and $q$ can be obtained by looking at PACF and ACF charts of the differenced series, respectively. However, this method usually returns a number of choices rather than guarantees a single optimal selection. Thus we treat it as a tool for limiting potential candidates, then perform greedy search. The objective of exhausted search in ARIMA is to minimize an *information criterion*, which has several options:\n",
    "- [Akaike's Information Criterion](https://en.wikipedia.org/wiki/Akaike_information_criterion):\n",
    "$\\text{AIC} = -2 \\log(L) + 2(p+q+k+1)$\n",
    "- [Bayesian Information Criterion](https://en.wikipedia.org/wiki/Bayesian_information_criterion):\n",
    "$\\text{BIC} = \\text{AIC} + [\\log(T)-2](p+q+k+1)$\n",
    "- AICc, a corrected version of AIC for small data, in which time series is usually the case. When $n\\rightarrow\\infty$, AICc converges to AIC.\n",
    "\n",
    "All the above information criteria are constructed of the *loss* part and the *regularization* part. The regularization part prevents the model from adding too many explanatory variables and makes sure the model has a good forecasting power. It is recommended to use AICc in real-world tasks."
   ]
  },
  {
   "cell_type": "markdown",
   "id": "0cd66b2b-f7ca-4e42-99b9-75e246c73d25",
   "metadata": {},
   "source": [
    "## 1.2. Extensions"
   ]
  },
  {
   "cell_type": "markdown",
   "id": "503519e2-0123-46d1-b09a-dad968068684",
   "metadata": {},
   "source": [
    "### SARIMA\n",
    "SARIMA (**S**easonal **ARIMA**) is an extended version of ARIMA so that it is capable of learning seasonal patterns. The new model is written as:\n",
    "\n",
    "$$\\text{ARIMA} (p,d,q) \\times (P,D,Q)_m$$\n",
    "\n",
    "where $m$ is sesonal period and $(P,Q,D)$ are seasonal hyperparameters. Since SARIMA is very complicated, writing the entire function down is not convenient; it's better going through each of its newly added components.\n",
    "- $m$: the seasonal period. It is very easy to be pointed out after doing some analyses.\n",
    "- $D$: the order of seasonal differencing. The process is to apply seasonal differencing first to *de-seasonality*, then apply non-seasonal differencing to *de-trend*, until our data is stationary. Basically, after performing both types of differencing, we end up working on the series $(1-B^m)^D(1-B)^dy_t$.\n",
    "- $P$: the seasonal lag degree for auto-regressive model. For example, we are estimating monthly profit using profit of this month last year, this month 2 years ago,..., this month $P$ years ago. Viable values for $P$ are also determined using PACF, but this time we only look at seasonal lags.\n",
    "- $Q$: the seasonal lag degree for moving average model. We can also select $Q$ by looking at seasonal lags in ACF."
   ]
  },
  {
   "cell_type": "markdown",
   "id": "7d0dcf9b-4832-4b0e-8326-94e75ab9859f",
   "metadata": {},
   "source": [
    "### SARIMAX\n",
    "SARIMAX (**SARIMA** with e**X**ogenous variables) adds other independent variables $\\mathbf{x}_1,\\mathbf{x}_2,\\dots$ to the SARIMA function. This function, stand alone, is given by:\n",
    "\n",
    "$$\\hat{\\mathbf{y}}=c+\\beta_1\\mathbf{x}_1+\\beta_2\\mathbf{x}_2+\\dots$$\n",
    "\n",
    "Exogenous variables should be predictable, for examples: holidays, so they can be used to forecast in the same time step. If we don't know their values in the future, we can only use them to study their effects on $\\mathbf{y}$."
   ]
  },
  {
   "cell_type": "markdown",
   "id": "78894c95-f5d4-4421-8be7-818f07cb3bd1",
   "metadata": {},
   "source": [
    "### VAR\n",
    "[VAR](https://en.wikipedia.org/wiki/Vector_autoregression) (**V**ector **A**uto**R**egression) is a generalization of the univariate autoregression model for forcasting a vector of time series. In this model, all variables are treated symmetrically - all of them are *endogenous*. The structure of VAR is each variable is a linear function of past lags of itself and past lags of the other variables, given in matrix notation as below:\n",
    "\n",
    "$$\\hat{\\mathbf{y}}_{t}=\n",
    "\\mathbf{c}+\n",
    "\\boldsymbol{\\phi}_1\\circ\\mathbf{y}_{t-1}+\n",
    "\\boldsymbol{\\phi}_2\\circ\\mathbf{y}_{t-2}+\n",
    "\\cdots+\n",
    "\\boldsymbol{\\phi}_p\\circ\\mathbf{y}_{t-p}+\n",
    "\\boldsymbol{\\epsilon}_t\n",
    "$$\n",
    "\n",
    "where:\n",
    "- $\\mathbf{y}_t$ is a vector storing observations at time $t$ of all time series, $t=1,2\\dots,T$\n",
    "- $\\mathbf{c}$ is the vector of intercepts\n",
    "- $\\boldsymbol{\\phi}_1,\\dots,\\boldsymbol{\\phi}_p$ are vectors of coefficients at each different lags\n",
    "- $p$ is the maximum order of auto-regressive\n",
    "- $\\boldsymbol{\\epsilon}_t$ is white noise\n",
    "\n",
    "Before fit our data into VAR, all variables should be stationary. The model will then automatically select the most suitable value of $p$ be considering different criteria: $\\text{AIC}$, $\\text{FPE}$, $\\text{SC}$ and $\\text{HQIC}$."
   ]
  },
  {
   "cell_type": "markdown",
   "id": "e7f6b213-1fec-4f12-a2be-8e2acfff8706",
   "metadata": {},
   "source": [
    "## 1.3. Implementation"
   ]
  },
  {
   "cell_type": "code",
   "execution_count": 2,
   "id": "37c475ae-8e12-46fb-bdf2-ce7a9c29f248",
   "metadata": {
    "execution": {
     "iopub.execute_input": "2022-06-30T16:44:16.407932Z",
     "iopub.status.busy": "2022-06-30T16:44:16.407528Z",
     "iopub.status.idle": "2022-06-30T16:44:19.018547Z",
     "shell.execute_reply": "2022-06-30T16:44:19.017937Z",
     "shell.execute_reply.started": "2022-06-30T16:44:16.407894Z"
    },
    "tags": []
   },
   "outputs": [],
   "source": [
    "import numpy as np\n",
    "import pandas as pd\n",
    "import matplotlib.pyplot as plt\n",
    "np.set_printoptions(precision=4, suppress=True)\n",
    "plt.style.use(['seaborn', 'seaborn-whitegrid'])\n",
    "%config InlineBackend.figure_format = 'retina'\n",
    "\n",
    "from statsmodels.tsa.arima.model import ARIMA\n",
    "from statsmodels.tsa.statespace.sarimax import SARIMAX\n",
    "from statsmodels.tsa.statespace.varmax import VARMAX\n",
    "from sklearn.metrics import mean_squared_error as MSE, mean_absolute_error as MAE, r2_score as R2\n",
    "\n",
    "import warnings; warnings.filterwarnings('ignore')"
   ]
  },
  {
   "cell_type": "markdown",
   "id": "ff060d28-159f-4268-af52-65452d0f9249",
   "metadata": {},
   "source": [
    "### SARIMAX implementation\n",
    "We are going to implement SARIMAX's original form via class\n",
    "<code style='font-size:13px'><a href='https://www.statsmodels.org/devel/generated/statsmodels.tsa.arima.model.ARIMA.html'>ARIMA</a></code>\n",
    "or state space form via class\n",
    "<code style='font-size:13px'><a href='https://www.statsmodels.org/dev/generated/statsmodels.tsa.statespace.sarimax.SARIMAX.html'>SARIMAX</a></code>.\n",
    "They both use the same hyperparameters; the earlier class is useful in extracting model components while the later supports forecasting better.\n",
    "\n",
    "- <code style='font-size:13px; color:#BA2121'>order</code>: the non-seasonal orders in the form of a tuple $(p,d,q)$, defaults to *(1, 0, 0)*. $d$ must be an integer, while $p$ and $q$ can be an integer (using all lagged series up to that value) or a list (using only specific lags).\n",
    "- <code style='font-size:13px; color:#BA2121'>seasonal_order</code>: the seasonal orders in the form of a tuple $(P,D,Q,m)$, defaults to *(0, 0, 0, 0)*. $D$ and $m$ must be an integer; $P$ and $Q$ can be either an integer or a list."
   ]
  },
  {
   "cell_type": "code",
   "execution_count": 2,
   "id": "8aef2a91-ebcf-4aef-bdbd-8fe67f0c9ab1",
   "metadata": {
    "execution": {
     "iopub.execute_input": "2022-06-30T00:45:08.233586Z",
     "iopub.status.busy": "2022-06-30T00:45:08.233170Z",
     "iopub.status.idle": "2022-06-30T00:45:08.282223Z",
     "shell.execute_reply": "2022-06-30T00:45:08.281160Z",
     "shell.execute_reply.started": "2022-06-30T00:45:08.233554Z"
    },
    "tags": []
   },
   "outputs": [
    {
     "data": {
      "text/plain": [
       "date\n",
       "2019-10-28    379.49\n",
       "2019-10-29    669.51\n",
       "2019-10-30    337.17\n",
       "2019-10-31    603.74\n",
       "2019-11-01       NaN\n",
       "Freq: D, Name: quantity, dtype: float64"
      ]
     },
     "execution_count": 2,
     "metadata": {},
     "output_type": "execute_result"
    }
   ],
   "source": [
    "dfQty = pd.read_csv('data/purchase_quantity.csv')\n",
    "dfQty = dfQty.assign(date=dfQty.date.astype('datetime64'))\n",
    "y = dfQty.set_index('date').quantity.asfreq('d')\n",
    "y.head()"
   ]
  },
  {
   "cell_type": "code",
   "execution_count": 176,
   "id": "e019ccf6-abb1-4c1b-a37b-990a47bbe24c",
   "metadata": {
    "tags": []
   },
   "outputs": [],
   "source": [
    "model = SARIMAX(y, order=(2,1,3), seasonal_order=(2,1,2,7)).fit()"
   ]
  },
  {
   "cell_type": "code",
   "execution_count": 177,
   "id": "2b0900ac-11e4-49cf-a50f-1ffc0e891292",
   "metadata": {
    "tags": []
   },
   "outputs": [
    {
     "data": {
      "text/html": [
       "<table class=\"simpletable\">\n",
       "<caption>SARIMAX Results</caption>\n",
       "<tr>\n",
       "  <th>Dep. Variable:</th>                <td>quantity</td>              <th>  No. Observations:  </th>    <td>696</td>   \n",
       "</tr>\n",
       "<tr>\n",
       "  <th>Model:</th>           <td>SARIMAX(2, 1, 3)x(2, 1, [1, 2], 7)</td> <th>  Log Likelihood     </th> <td>-1858.433</td>\n",
       "</tr>\n",
       "<tr>\n",
       "  <th>Date:</th>                     <td>Tue, 28 Jun 2022</td>          <th>  AIC                </th> <td>3736.866</td> \n",
       "</tr>\n",
       "<tr>\n",
       "  <th>Time:</th>                         <td>16:41:54</td>              <th>  BIC                </th> <td>3782.204</td> \n",
       "</tr>\n",
       "<tr>\n",
       "  <th>Sample:</th>                      <td>01-11-2019</td>             <th>  HQIC               </th> <td>3754.406</td> \n",
       "</tr>\n",
       "<tr>\n",
       "  <th></th>                            <td>- 12-06-2020</td>            <th>                     </th>     <td> </td>    \n",
       "</tr>\n",
       "<tr>\n",
       "  <th>Covariance Type:</th>                 <td>opg</td>                <th>                     </th>     <td> </td>    \n",
       "</tr>\n",
       "</table>"
      ],
      "text/plain": [
       "<class 'statsmodels.iolib.table.SimpleTable'>"
      ]
     },
     "execution_count": 177,
     "metadata": {},
     "output_type": "execute_result"
    }
   ],
   "source": [
    "model.summary().tables[0]"
   ]
  },
  {
   "cell_type": "code",
   "execution_count": 178,
   "id": "9346bb52-804a-4a88-8913-e943bbbdaf19",
   "metadata": {
    "tags": []
   },
   "outputs": [
    {
     "data": {
      "text/html": [
       "<table class=\"simpletable\">\n",
       "<tr>\n",
       "      <td></td>        <th>coef</th>     <th>std err</th>      <th>z</th>      <th>P>|z|</th>  <th>[0.025</th>    <th>0.975]</th>  \n",
       "</tr>\n",
       "<tr>\n",
       "  <th>ar.L1</th>    <td>    0.8515</td> <td>    1.040</td> <td>    0.818</td> <td> 0.413</td> <td>   -1.188</td> <td>    2.891</td>\n",
       "</tr>\n",
       "<tr>\n",
       "  <th>ar.L2</th>    <td>   -0.4002</td> <td>    0.679</td> <td>   -0.589</td> <td> 0.556</td> <td>   -1.732</td> <td>    0.931</td>\n",
       "</tr>\n",
       "<tr>\n",
       "  <th>ma.L1</th>    <td>   -1.2415</td> <td>    1.086</td> <td>   -1.143</td> <td> 0.253</td> <td>   -3.371</td> <td>    0.888</td>\n",
       "</tr>\n",
       "<tr>\n",
       "  <th>ma.L2</th>    <td>    0.5936</td> <td>    1.124</td> <td>    0.528</td> <td> 0.597</td> <td>   -1.609</td> <td>    2.796</td>\n",
       "</tr>\n",
       "<tr>\n",
       "  <th>ma.L3</th>    <td>   -0.3361</td> <td>    0.310</td> <td>   -1.083</td> <td> 0.279</td> <td>   -0.944</td> <td>    0.272</td>\n",
       "</tr>\n",
       "<tr>\n",
       "  <th>ar.S.L7</th>  <td>   -0.6523</td> <td>    0.832</td> <td>   -0.784</td> <td> 0.433</td> <td>   -2.284</td> <td>    0.979</td>\n",
       "</tr>\n",
       "<tr>\n",
       "  <th>ar.S.L14</th> <td>    0.0629</td> <td>    0.319</td> <td>    0.198</td> <td> 0.843</td> <td>   -0.562</td> <td>    0.687</td>\n",
       "</tr>\n",
       "<tr>\n",
       "  <th>ma.S.L7</th>  <td>   -0.3510</td> <td>    0.791</td> <td>   -0.444</td> <td> 0.657</td> <td>   -1.901</td> <td>    1.199</td>\n",
       "</tr>\n",
       "<tr>\n",
       "  <th>ma.S.L14</th> <td>   -0.5668</td> <td>    0.744</td> <td>   -0.762</td> <td> 0.446</td> <td>   -2.024</td> <td>    0.891</td>\n",
       "</tr>\n",
       "<tr>\n",
       "  <th>sigma2</th>   <td> 2.556e+05</td> <td> 2.94e+04</td> <td>    8.699</td> <td> 0.000</td> <td> 1.98e+05</td> <td> 3.13e+05</td>\n",
       "</tr>\n",
       "</table>"
      ],
      "text/plain": [
       "<class 'statsmodels.iolib.table.SimpleTable'>"
      ]
     },
     "execution_count": 178,
     "metadata": {},
     "output_type": "execute_result"
    }
   ],
   "source": [
    "model.summary().tables[1]"
   ]
  },
  {
   "cell_type": "markdown",
   "id": "a5eebc95-ca6d-48a5-b682-35f3a1ecb406",
   "metadata": {},
   "source": [
    "Note that Statsmodels distinguishes *forecast* (for future values) and *prediction* (for observed values). Thus, we will work on 2 separated methods."
   ]
  },
  {
   "cell_type": "code",
   "execution_count": 179,
   "id": "d98414bb-8e0e-46e4-b35f-e56c6fb7b50e",
   "metadata": {},
   "outputs": [
    {
     "data": {
      "text/html": [
       "<div>\n",
       "<style scoped>\n",
       "    .dataframe tbody tr th:only-of-type {\n",
       "        vertical-align: middle;\n",
       "    }\n",
       "\n",
       "    .dataframe tbody tr th {\n",
       "        vertical-align: top;\n",
       "    }\n",
       "\n",
       "    .dataframe thead th {\n",
       "        text-align: right;\n",
       "    }\n",
       "</style>\n",
       "<table border=\"1\" class=\"dataframe\">\n",
       "  <thead>\n",
       "    <tr style=\"text-align: right;\">\n",
       "      <th>quantity</th>\n",
       "      <th>mean</th>\n",
       "      <th>mean_se</th>\n",
       "      <th>mean_ci_lower</th>\n",
       "      <th>mean_ci_upper</th>\n",
       "    </tr>\n",
       "  </thead>\n",
       "  <tbody>\n",
       "    <tr>\n",
       "      <th>2020-12-07</th>\n",
       "      <td>709.980037</td>\n",
       "      <td>530.200523</td>\n",
       "      <td>676.732870</td>\n",
       "      <td>743.227203</td>\n",
       "    </tr>\n",
       "    <tr>\n",
       "      <th>2020-12-08</th>\n",
       "      <td>747.900832</td>\n",
       "      <td>626.328889</td>\n",
       "      <td>708.625765</td>\n",
       "      <td>787.175898</td>\n",
       "    </tr>\n",
       "    <tr>\n",
       "      <th>2020-12-09</th>\n",
       "      <td>945.555913</td>\n",
       "      <td>682.462069</td>\n",
       "      <td>902.760916</td>\n",
       "      <td>988.350910</td>\n",
       "    </tr>\n",
       "    <tr>\n",
       "      <th>2020-12-10</th>\n",
       "      <td>1010.003658</td>\n",
       "      <td>690.453033</td>\n",
       "      <td>966.707573</td>\n",
       "      <td>1053.299743</td>\n",
       "    </tr>\n",
       "    <tr>\n",
       "      <th>2020-12-11</th>\n",
       "      <td>962.607449</td>\n",
       "      <td>689.159342</td>\n",
       "      <td>919.392487</td>\n",
       "      <td>1005.822410</td>\n",
       "    </tr>\n",
       "    <tr>\n",
       "      <th>2020-12-12</th>\n",
       "      <td>1008.861260</td>\n",
       "      <td>686.040604</td>\n",
       "      <td>965.841864</td>\n",
       "      <td>1051.880656</td>\n",
       "    </tr>\n",
       "    <tr>\n",
       "      <th>2020-12-13</th>\n",
       "      <td>914.228175</td>\n",
       "      <td>678.455653</td>\n",
       "      <td>871.684408</td>\n",
       "      <td>956.771943</td>\n",
       "    </tr>\n",
       "  </tbody>\n",
       "</table>\n",
       "</div>"
      ],
      "text/plain": [
       "quantity           mean     mean_se  mean_ci_lower  mean_ci_upper\n",
       "2020-12-07   709.980037  530.200523     676.732870     743.227203\n",
       "2020-12-08   747.900832  626.328889     708.625765     787.175898\n",
       "2020-12-09   945.555913  682.462069     902.760916     988.350910\n",
       "2020-12-10  1010.003658  690.453033     966.707573    1053.299743\n",
       "2020-12-11   962.607449  689.159342     919.392487    1005.822410\n",
       "2020-12-12  1008.861260  686.040604     965.841864    1051.880656\n",
       "2020-12-13   914.228175  678.455653     871.684408     956.771943"
      ]
     },
     "execution_count": 179,
     "metadata": {},
     "output_type": "execute_result"
    }
   ],
   "source": [
    "forecaster = model.get_forecast(steps=7)\n",
    "forecaster.summary_frame(alpha=0.95)"
   ]
  },
  {
   "cell_type": "code",
   "execution_count": 82,
   "id": "68739eea-09af-4108-88e3-f50ace0dab59",
   "metadata": {},
   "outputs": [
    {
     "data": {
      "text/html": [
       "<div>\n",
       "<style scoped>\n",
       "    .dataframe tbody tr th:only-of-type {\n",
       "        vertical-align: middle;\n",
       "    }\n",
       "\n",
       "    .dataframe tbody tr th {\n",
       "        vertical-align: top;\n",
       "    }\n",
       "\n",
       "    .dataframe thead th {\n",
       "        text-align: right;\n",
       "    }\n",
       "</style>\n",
       "<table border=\"1\" class=\"dataframe\">\n",
       "  <thead>\n",
       "    <tr style=\"text-align: right;\">\n",
       "      <th>quantity</th>\n",
       "      <th>mean</th>\n",
       "      <th>mean_se</th>\n",
       "      <th>mean_ci_lower</th>\n",
       "      <th>mean_ci_upper</th>\n",
       "    </tr>\n",
       "    <tr>\n",
       "      <th>date</th>\n",
       "      <th></th>\n",
       "      <th></th>\n",
       "      <th></th>\n",
       "      <th></th>\n",
       "    </tr>\n",
       "  </thead>\n",
       "  <tbody>\n",
       "    <tr>\n",
       "      <th>2019-01-11</th>\n",
       "      <td>0.000000</td>\n",
       "      <td>1633.762976</td>\n",
       "      <td>-102.448012</td>\n",
       "      <td>102.448012</td>\n",
       "    </tr>\n",
       "    <tr>\n",
       "      <th>2019-01-12</th>\n",
       "      <td>180.327594</td>\n",
       "      <td>1289.382228</td>\n",
       "      <td>99.474588</td>\n",
       "      <td>261.180599</td>\n",
       "    </tr>\n",
       "    <tr>\n",
       "      <th>2019-01-13</th>\n",
       "      <td>441.486381</td>\n",
       "      <td>1287.788377</td>\n",
       "      <td>360.733322</td>\n",
       "      <td>522.239441</td>\n",
       "    </tr>\n",
       "    <tr>\n",
       "      <th>2019-01-14</th>\n",
       "      <td>441.291429</td>\n",
       "      <td>1750.437348</td>\n",
       "      <td>331.527143</td>\n",
       "      <td>551.055715</td>\n",
       "    </tr>\n",
       "    <tr>\n",
       "      <th>2019-01-15</th>\n",
       "      <td>428.189605</td>\n",
       "      <td>2123.620260</td>\n",
       "      <td>295.024221</td>\n",
       "      <td>561.354989</td>\n",
       "    </tr>\n",
       "    <tr>\n",
       "      <th>...</th>\n",
       "      <td>...</td>\n",
       "      <td>...</td>\n",
       "      <td>...</td>\n",
       "      <td>...</td>\n",
       "    </tr>\n",
       "    <tr>\n",
       "      <th>2020-12-02</th>\n",
       "      <td>794.631547</td>\n",
       "      <td>535.515548</td>\n",
       "      <td>761.051093</td>\n",
       "      <td>828.212002</td>\n",
       "    </tr>\n",
       "    <tr>\n",
       "      <th>2020-12-03</th>\n",
       "      <td>1049.842517</td>\n",
       "      <td>534.571725</td>\n",
       "      <td>1016.321247</td>\n",
       "      <td>1083.363788</td>\n",
       "    </tr>\n",
       "    <tr>\n",
       "      <th>2020-12-04</th>\n",
       "      <td>1222.312068</td>\n",
       "      <td>527.366149</td>\n",
       "      <td>1189.242636</td>\n",
       "      <td>1255.381500</td>\n",
       "    </tr>\n",
       "    <tr>\n",
       "      <th>2020-12-05</th>\n",
       "      <td>691.552966</td>\n",
       "      <td>534.243903</td>\n",
       "      <td>658.052252</td>\n",
       "      <td>725.053680</td>\n",
       "    </tr>\n",
       "    <tr>\n",
       "      <th>2020-12-06</th>\n",
       "      <td>836.595410</td>\n",
       "      <td>530.451347</td>\n",
       "      <td>803.332515</td>\n",
       "      <td>869.858305</td>\n",
       "    </tr>\n",
       "  </tbody>\n",
       "</table>\n",
       "<p>696 rows × 4 columns</p>\n",
       "</div>"
      ],
      "text/plain": [
       "quantity           mean      mean_se  mean_ci_lower  mean_ci_upper\n",
       "date                                                              \n",
       "2019-01-11     0.000000  1633.762976    -102.448012     102.448012\n",
       "2019-01-12   180.327594  1289.382228      99.474588     261.180599\n",
       "2019-01-13   441.486381  1287.788377     360.733322     522.239441\n",
       "2019-01-14   441.291429  1750.437348     331.527143     551.055715\n",
       "2019-01-15   428.189605  2123.620260     295.024221     561.354989\n",
       "...                 ...          ...            ...            ...\n",
       "2020-12-02   794.631547   535.515548     761.051093     828.212002\n",
       "2020-12-03  1049.842517   534.571725    1016.321247    1083.363788\n",
       "2020-12-04  1222.312068   527.366149    1189.242636    1255.381500\n",
       "2020-12-05   691.552966   534.243903     658.052252     725.053680\n",
       "2020-12-06   836.595410   530.451347     803.332515     869.858305\n",
       "\n",
       "[696 rows x 4 columns]"
      ]
     },
     "execution_count": 82,
     "metadata": {},
     "output_type": "execute_result"
    }
   ],
   "source": [
    "predictor = model.get_prediction()\n",
    "predictor.summary_frame(alpha=0.95)"
   ]
  },
  {
   "cell_type": "markdown",
   "id": "fd711713-249e-43ac-a24d-29e27f765582",
   "metadata": {},
   "source": [
    "### VAR implementation\n",
    "Statsmodels implements VAR's statespace form via class\n",
    "<code style='font-size:13px'><a href='https://www.statsmodels.org/dev/generated/statsmodels.tsa.statespace.varmax.VARMAX.html'>VARMAX</a></code>."
   ]
  },
  {
   "cell_type": "code",
   "execution_count": 3,
   "id": "0fe7308d-c5d0-4044-af11-a6ee783dc302",
   "metadata": {
    "execution": {
     "iopub.execute_input": "2022-06-30T16:44:24.154064Z",
     "iopub.status.busy": "2022-06-30T16:44:24.153651Z",
     "iopub.status.idle": "2022-06-30T16:44:24.158555Z",
     "shell.execute_reply": "2022-06-30T16:44:24.157495Z",
     "shell.execute_reply.started": "2022-06-30T16:44:24.154037Z"
    },
    "tags": []
   },
   "outputs": [],
   "source": [
    "def StationaryTest(s):\n",
    "    from statsmodels.tsa.stattools import adfuller\n",
    "    stat, pval, _, _, crits, _ = adfuller(s, regression='nc')\n",
    "    result = pval < 0.05\n",
    "    \n",
    "    conclusion = 'stationary' if result else 'non-stationary'\n",
    "    sign = '<' if result else '>'\n",
    "    \n",
    "    mess = f'p-value={pval:6f} {sign} 0.05 | data is {conclusion}'\n",
    "    print(mess)"
   ]
  },
  {
   "cell_type": "code",
   "execution_count": 4,
   "id": "2d7dfad0-cae8-449e-8c90-5c4a2c9cafe6",
   "metadata": {
    "execution": {
     "iopub.execute_input": "2022-06-30T16:44:25.805610Z",
     "iopub.status.busy": "2022-06-30T16:44:25.805208Z",
     "iopub.status.idle": "2022-06-30T16:44:25.834336Z",
     "shell.execute_reply": "2022-06-30T16:44:25.833060Z",
     "shell.execute_reply.started": "2022-06-30T16:44:25.805581Z"
    },
    "tags": []
   },
   "outputs": [
    {
     "data": {
      "text/html": [
       "<div>\n",
       "<style scoped>\n",
       "    .dataframe tbody tr th:only-of-type {\n",
       "        vertical-align: middle;\n",
       "    }\n",
       "\n",
       "    .dataframe tbody tr th {\n",
       "        vertical-align: top;\n",
       "    }\n",
       "\n",
       "    .dataframe thead th {\n",
       "        text-align: right;\n",
       "    }\n",
       "</style>\n",
       "<table border=\"1\" class=\"dataframe\">\n",
       "  <thead>\n",
       "    <tr style=\"text-align: right;\">\n",
       "      <th></th>\n",
       "      <th>ex_rate</th>\n",
       "      <th>money_supply</th>\n",
       "      <th>inf</th>\n",
       "    </tr>\n",
       "    <tr>\n",
       "      <th>month</th>\n",
       "      <th></th>\n",
       "      <th></th>\n",
       "      <th></th>\n",
       "    </tr>\n",
       "  </thead>\n",
       "  <tbody>\n",
       "    <tr>\n",
       "      <th>2009-01-01</th>\n",
       "      <td>16954</td>\n",
       "      <td>1.582872e+06</td>\n",
       "      <td>15.536579</td>\n",
       "    </tr>\n",
       "    <tr>\n",
       "      <th>2009-02-01</th>\n",
       "      <td>16953</td>\n",
       "      <td>1.722413e+06</td>\n",
       "      <td>6.701754</td>\n",
       "    </tr>\n",
       "    <tr>\n",
       "      <th>2009-03-01</th>\n",
       "      <td>16991</td>\n",
       "      <td>1.830077e+06</td>\n",
       "      <td>2.417558</td>\n",
       "    </tr>\n",
       "    <tr>\n",
       "      <th>2009-04-01</th>\n",
       "      <td>17941</td>\n",
       "      <td>1.914078e+06</td>\n",
       "      <td>4.602838</td>\n",
       "    </tr>\n",
       "    <tr>\n",
       "      <th>2009-05-01</th>\n",
       "      <td>18544</td>\n",
       "      <td>1.964660e+06</td>\n",
       "      <td>9.696635</td>\n",
       "    </tr>\n",
       "  </tbody>\n",
       "</table>\n",
       "</div>"
      ],
      "text/plain": [
       "            ex_rate  money_supply        inf\n",
       "month                                       \n",
       "2009-01-01    16954  1.582872e+06  15.536579\n",
       "2009-02-01    16953  1.722413e+06   6.701754\n",
       "2009-03-01    16991  1.830077e+06   2.417558\n",
       "2009-04-01    17941  1.914078e+06   4.602838\n",
       "2009-05-01    18544  1.964660e+06   9.696635"
      ]
     },
     "execution_count": 4,
     "metadata": {},
     "output_type": "execute_result"
    }
   ],
   "source": [
    "dfCpi = pd.read_csv('data/cpi.csv')\n",
    "dfCpi = dfCpi.astype({'month': 'datetime64'})\n",
    "dfCpi = dfCpi.set_index('month')\n",
    "dfCpi.head()"
   ]
  },
  {
   "cell_type": "code",
   "execution_count": 5,
   "id": "6c6e184e-8e3e-4967-8229-bf4a240edb43",
   "metadata": {
    "execution": {
     "iopub.execute_input": "2022-06-30T16:44:27.838051Z",
     "iopub.status.busy": "2022-06-30T16:44:27.837722Z",
     "iopub.status.idle": "2022-06-30T16:44:27.863878Z",
     "shell.execute_reply": "2022-06-30T16:44:27.862807Z",
     "shell.execute_reply.started": "2022-06-30T16:44:27.838028Z"
    },
    "tags": []
   },
   "outputs": [
    {
     "name": "stdout",
     "output_type": "stream",
     "text": [
      "p-value=0.999465 > 0.05 | data is non-stationary\n",
      "p-value=1.000000 > 0.05 | data is non-stationary\n",
      "p-value=0.322387 > 0.05 | data is non-stationary\n"
     ]
    }
   ],
   "source": [
    "for i in dfCpi.columns:\n",
    "    StationaryTest(dfCpi[i])"
   ]
  },
  {
   "cell_type": "code",
   "execution_count": 7,
   "id": "f3d0ed1a-7abd-4b2e-b30b-07c64739b1fa",
   "metadata": {
    "execution": {
     "iopub.execute_input": "2022-06-30T16:44:33.055070Z",
     "iopub.status.busy": "2022-06-30T16:44:33.054741Z",
     "iopub.status.idle": "2022-06-30T16:44:33.117221Z",
     "shell.execute_reply": "2022-06-30T16:44:33.116301Z",
     "shell.execute_reply.started": "2022-06-30T16:44:33.055047Z"
    },
    "tags": []
   },
   "outputs": [
    {
     "name": "stdout",
     "output_type": "stream",
     "text": [
      "p-value=0.000000 < 0.05 | data is stationary\n",
      "p-value=0.551794 > 0.05 | data is non-stationary\n",
      "p-value=0.005036 < 0.05 | data is stationary\n"
     ]
    }
   ],
   "source": [
    "dfCpiDif = dfCpi.diff().dropna()\n",
    "for i in dfCpiDif.columns:\n",
    "    StationaryTest(dfCpiDif[i])"
   ]
  },
  {
   "cell_type": "code",
   "execution_count": 184,
   "id": "29d84bcf-4f7a-4d76-b653-559d603ad811",
   "metadata": {
    "tags": []
   },
   "outputs": [
    {
     "name": "stdout",
     "output_type": "stream",
     "text": [
      "p-value=0.000000 < 0.05 | data is stationary\n",
      "p-value=0.000000 < 0.05 | data is stationary\n",
      "p-value=0.000007 < 0.05 | data is stationary\n"
     ]
    }
   ],
   "source": [
    "dfCpiDif = dfCpi.diff().diff().dropna()\n",
    "for i in dfCpiDif.columns:\n",
    "    StationaryTest(dfCpiDif[i])"
   ]
  },
  {
   "cell_type": "code",
   "execution_count": 8,
   "id": "c9c519c2-9652-4865-aee3-f45efa71b488",
   "metadata": {
    "execution": {
     "iopub.execute_input": "2022-06-30T16:44:34.297762Z",
     "iopub.status.busy": "2022-06-30T16:44:34.297410Z",
     "iopub.status.idle": "2022-06-30T16:44:34.637327Z",
     "shell.execute_reply": "2022-06-30T16:44:34.636587Z",
     "shell.execute_reply.started": "2022-06-30T16:44:34.297730Z"
    },
    "tags": []
   },
   "outputs": [
    {
     "data": {
      "text/html": [
       "<table class=\"simpletable\">\n",
       "<caption>Statespace Model Results</caption>\n",
       "<tr>\n",
       "  <th>Dep. Variable:</th>   <td>['ex_rate', 'money_supply', 'inf']</td> <th>  No. Observations:  </th>    <td>43</td>   \n",
       "</tr>\n",
       "<tr>\n",
       "  <th>Model:</th>                         <td>VAR(1)</td>               <th>  Log Likelihood     </th> <td>-949.925</td>\n",
       "</tr>\n",
       "<tr>\n",
       "  <th></th>                             <td>+ intercept</td>            <th>  AIC                </th> <td>1935.849</td>\n",
       "</tr>\n",
       "<tr>\n",
       "  <th>Date:</th>                     <td>Thu, 30 Jun 2022</td>          <th>  BIC                </th> <td>1967.551</td>\n",
       "</tr>\n",
       "<tr>\n",
       "  <th>Time:</th>                         <td>23:44:34</td>              <th>  HQIC               </th> <td>1947.540</td>\n",
       "</tr>\n",
       "<tr>\n",
       "  <th>Sample:</th>                      <td>02-01-2009</td>             <th>                     </th>     <td> </td>   \n",
       "</tr>\n",
       "<tr>\n",
       "  <th></th>                            <td>- 08-01-2012</td>            <th>                     </th>     <td> </td>   \n",
       "</tr>\n",
       "<tr>\n",
       "  <th>Covariance Type:</th>                 <td>opg</td>                <th>                     </th>     <td> </td>   \n",
       "</tr>\n",
       "</table>\n",
       "<table class=\"simpletable\">\n",
       "<tr>\n",
       "  <th>Ljung-Box (L1) (Q):</th>     <td>0.07, 0.00, 0.03</td> <th>  Jarque-Bera (JB):  </th> <td>453.22, 29.30, 8.01</td>\n",
       "</tr>\n",
       "<tr>\n",
       "  <th>Prob(Q):</th>                <td>0.79, 0.95, 0.86</td> <th>  Prob(JB):          </th>  <td>0.00, 0.00, 0.02</td>  \n",
       "</tr>\n",
       "<tr>\n",
       "  <th>Heteroskedasticity (H):</th> <td>0.02, 0.46, 0.11</td> <th>  Skew:              </th>  <td>3.51, 1.18, -0.76</td> \n",
       "</tr>\n",
       "<tr>\n",
       "  <th>Prob(H) (two-sided):</th>    <td>0.00, 0.16, 0.00</td> <th>  Kurtosis:          </th>  <td>17.27, 6.28, 4.47</td> \n",
       "</tr>\n",
       "</table>\n",
       "<table class=\"simpletable\">\n",
       "<caption>Results for equation ex_rate</caption>\n",
       "<tr>\n",
       "         <td></td>            <th>coef</th>     <th>std err</th>      <th>z</th>      <th>P>|z|</th>  <th>[0.025</th>    <th>0.975]</th>  \n",
       "</tr>\n",
       "<tr>\n",
       "  <th>intercept</th>       <td>  238.4063</td> <td>    2.317</td> <td>  102.884</td> <td> 0.000</td> <td>  233.865</td> <td>  242.948</td>\n",
       "</tr>\n",
       "<tr>\n",
       "  <th>L1.ex_rate</th>      <td>   -0.0710</td> <td>    0.225</td> <td>   -0.316</td> <td> 0.752</td> <td>   -0.512</td> <td>    0.370</td>\n",
       "</tr>\n",
       "<tr>\n",
       "  <th>L1.money_supply</th> <td>   -0.0005</td> <td>    0.001</td> <td>   -0.737</td> <td> 0.461</td> <td>   -0.002</td> <td>    0.001</td>\n",
       "</tr>\n",
       "<tr>\n",
       "  <th>L1.inf</th>          <td>    7.9088</td> <td>   29.661</td> <td>    0.267</td> <td> 0.790</td> <td>  -50.226</td> <td>   66.044</td>\n",
       "</tr>\n",
       "</table>\n",
       "<table class=\"simpletable\">\n",
       "<caption>Results for equation money_supply</caption>\n",
       "<tr>\n",
       "         <td></td>            <th>coef</th>     <th>std err</th>      <th>z</th>      <th>P>|z|</th>  <th>[0.025</th>    <th>0.975]</th>  \n",
       "</tr>\n",
       "<tr>\n",
       "  <th>intercept</th>       <td> 1.902e+05</td> <td>    0.010</td> <td> 1.99e+07</td> <td> 0.000</td> <td>  1.9e+05</td> <td>  1.9e+05</td>\n",
       "</tr>\n",
       "<tr>\n",
       "  <th>L1.ex_rate</th>      <td> -123.0383</td> <td>    1.089</td> <td> -113.016</td> <td> 0.000</td> <td> -125.172</td> <td> -120.904</td>\n",
       "</tr>\n",
       "<tr>\n",
       "  <th>L1.money_supply</th> <td>    0.1428</td> <td>    0.103</td> <td>    1.389</td> <td> 0.165</td> <td>   -0.059</td> <td>    0.344</td>\n",
       "</tr>\n",
       "<tr>\n",
       "  <th>L1.inf</th>          <td> 1572.1054</td> <td>    0.130</td> <td> 1.21e+04</td> <td> 0.000</td> <td> 1571.851</td> <td> 1572.360</td>\n",
       "</tr>\n",
       "</table>\n",
       "<table class=\"simpletable\">\n",
       "<caption>Results for equation inf</caption>\n",
       "<tr>\n",
       "         <td></td>            <th>coef</th>     <th>std err</th>      <th>z</th>      <th>P>|z|</th>  <th>[0.025</th>    <th>0.975]</th>  \n",
       "</tr>\n",
       "<tr>\n",
       "  <th>intercept</th>       <td>   -1.9895</td> <td>    0.745</td> <td>   -2.672</td> <td> 0.008</td> <td>   -3.449</td> <td>   -0.530</td>\n",
       "</tr>\n",
       "<tr>\n",
       "  <th>L1.ex_rate</th>      <td>    0.0054</td> <td>    0.002</td> <td>    3.084</td> <td> 0.002</td> <td>    0.002</td> <td>    0.009</td>\n",
       "</tr>\n",
       "<tr>\n",
       "  <th>L1.money_supply</th> <td> 5.138e-06</td> <td> 4.32e-06</td> <td>    1.190</td> <td> 0.234</td> <td>-3.33e-06</td> <td> 1.36e-05</td>\n",
       "</tr>\n",
       "<tr>\n",
       "  <th>L1.inf</th>          <td>    0.3896</td> <td>    0.145</td> <td>    2.690</td> <td> 0.007</td> <td>    0.106</td> <td>    0.673</td>\n",
       "</tr>\n",
       "</table>\n",
       "<table class=\"simpletable\">\n",
       "<caption>Error covariance matrix</caption>\n",
       "<tr>\n",
       "                <td></td>                   <th>coef</th>     <th>std err</th>      <th>z</th>      <th>P>|z|</th>  <th>[0.025</th>    <th>0.975]</th>  \n",
       "</tr>\n",
       "<tr>\n",
       "  <th>sqrt.var.ex_rate</th>              <td>  319.8456</td> <td>   28.327</td> <td>   11.291</td> <td> 0.000</td> <td>  264.326</td> <td>  375.365</td>\n",
       "</tr>\n",
       "<tr>\n",
       "  <th>sqrt.cov.ex_rate.money_supply</th> <td>-2.807e+04</td> <td>    0.005</td> <td>-5.33e+06</td> <td> 0.000</td> <td>-2.81e+04</td> <td>-2.81e+04</td>\n",
       "</tr>\n",
       "<tr>\n",
       "  <th>sqrt.var.money_supply</th>         <td> 9.832e+04</td> <td>    0.026</td> <td>  3.8e+06</td> <td> 0.000</td> <td> 9.83e+04</td> <td> 9.83e+04</td>\n",
       "</tr>\n",
       "<tr>\n",
       "  <th>sqrt.cov.ex_rate.inf</th>          <td>    0.5114</td> <td>    0.378</td> <td>    1.355</td> <td> 0.176</td> <td>   -0.229</td> <td>    1.251</td>\n",
       "</tr>\n",
       "<tr>\n",
       "  <th>sqrt.cov.money_supply.inf</th>     <td>   -0.0346</td> <td>    0.261</td> <td>   -0.132</td> <td> 0.895</td> <td>   -0.546</td> <td>    0.477</td>\n",
       "</tr>\n",
       "<tr>\n",
       "  <th>sqrt.var.inf</th>                  <td>    1.7992</td> <td>    0.272</td> <td>    6.614</td> <td> 0.000</td> <td>    1.266</td> <td>    2.332</td>\n",
       "</tr>\n",
       "</table><br/><br/>Warnings:<br/>[1] Covariance matrix calculated using the outer product of gradients (complex-step).<br/>[2] Covariance matrix is singular or near-singular, with condition number 2.81e+23. Standard errors may be unstable."
      ],
      "text/plain": [
       "<class 'statsmodels.iolib.summary.Summary'>\n",
       "\"\"\"\n",
       "                                   Statespace Model Results                                   \n",
       "==============================================================================================\n",
       "Dep. Variable:     ['ex_rate', 'money_supply', 'inf']   No. Observations:                   43\n",
       "Model:                                         VAR(1)   Log Likelihood                -949.925\n",
       "                                          + intercept   AIC                           1935.849\n",
       "Date:                                Thu, 30 Jun 2022   BIC                           1967.551\n",
       "Time:                                        23:44:34   HQIC                          1947.540\n",
       "Sample:                                    02-01-2009                                         \n",
       "                                         - 08-01-2012                                         \n",
       "Covariance Type:                                  opg                                         \n",
       "====================================================================================\n",
       "Ljung-Box (L1) (Q):       0.07, 0.00, 0.03   Jarque-Bera (JB):   453.22, 29.30, 8.01\n",
       "Prob(Q):                  0.79, 0.95, 0.86   Prob(JB):              0.00, 0.00, 0.02\n",
       "Heteroskedasticity (H):   0.02, 0.46, 0.11   Skew:                 3.51, 1.18, -0.76\n",
       "Prob(H) (two-sided):      0.00, 0.16, 0.00   Kurtosis:             17.27, 6.28, 4.47\n",
       "                            Results for equation ex_rate                           \n",
       "===================================================================================\n",
       "                      coef    std err          z      P>|z|      [0.025      0.975]\n",
       "-----------------------------------------------------------------------------------\n",
       "intercept         238.4063      2.317    102.884      0.000     233.865     242.948\n",
       "L1.ex_rate         -0.0710      0.225     -0.316      0.752      -0.512       0.370\n",
       "L1.money_supply    -0.0005      0.001     -0.737      0.461      -0.002       0.001\n",
       "L1.inf              7.9088     29.661      0.267      0.790     -50.226      66.044\n",
       "                         Results for equation money_supply                         \n",
       "===================================================================================\n",
       "                      coef    std err          z      P>|z|      [0.025      0.975]\n",
       "-----------------------------------------------------------------------------------\n",
       "intercept        1.902e+05      0.010   1.99e+07      0.000     1.9e+05     1.9e+05\n",
       "L1.ex_rate       -123.0383      1.089   -113.016      0.000    -125.172    -120.904\n",
       "L1.money_supply     0.1428      0.103      1.389      0.165      -0.059       0.344\n",
       "L1.inf           1572.1054      0.130   1.21e+04      0.000    1571.851    1572.360\n",
       "                              Results for equation inf                             \n",
       "===================================================================================\n",
       "                      coef    std err          z      P>|z|      [0.025      0.975]\n",
       "-----------------------------------------------------------------------------------\n",
       "intercept          -1.9895      0.745     -2.672      0.008      -3.449      -0.530\n",
       "L1.ex_rate          0.0054      0.002      3.084      0.002       0.002       0.009\n",
       "L1.money_supply  5.138e-06   4.32e-06      1.190      0.234   -3.33e-06    1.36e-05\n",
       "L1.inf              0.3896      0.145      2.690      0.007       0.106       0.673\n",
       "                                     Error covariance matrix                                     \n",
       "=================================================================================================\n",
       "                                    coef    std err          z      P>|z|      [0.025      0.975]\n",
       "-------------------------------------------------------------------------------------------------\n",
       "sqrt.var.ex_rate                319.8456     28.327     11.291      0.000     264.326     375.365\n",
       "sqrt.cov.ex_rate.money_supply -2.807e+04      0.005  -5.33e+06      0.000   -2.81e+04   -2.81e+04\n",
       "sqrt.var.money_supply          9.832e+04      0.026    3.8e+06      0.000    9.83e+04    9.83e+04\n",
       "sqrt.cov.ex_rate.inf              0.5114      0.378      1.355      0.176      -0.229       1.251\n",
       "sqrt.cov.money_supply.inf        -0.0346      0.261     -0.132      0.895      -0.546       0.477\n",
       "sqrt.var.inf                      1.7992      0.272      6.614      0.000       1.266       2.332\n",
       "=================================================================================================\n",
       "\n",
       "Warnings:\n",
       "[1] Covariance matrix calculated using the outer product of gradients (complex-step).\n",
       "[2] Covariance matrix is singular or near-singular, with condition number 2.81e+23. Standard errors may be unstable.\n",
       "\"\"\""
      ]
     },
     "execution_count": 8,
     "metadata": {},
     "output_type": "execute_result"
    }
   ],
   "source": [
    "model = VARMAX(dfCpiDif)\n",
    "model = model.fit(maxlags=4, ic='aic', verbose=True)\n",
    "model.summary()"
   ]
  },
  {
   "cell_type": "code",
   "execution_count": 9,
   "id": "c34f7c11-1e30-466d-8130-8525db2452cd",
   "metadata": {
    "execution": {
     "iopub.execute_input": "2022-06-30T16:44:37.767939Z",
     "iopub.status.busy": "2022-06-30T16:44:37.767603Z",
     "iopub.status.idle": "2022-06-30T16:44:38.393063Z",
     "shell.execute_reply": "2022-06-30T16:44:38.392446Z",
     "shell.execute_reply.started": "2022-06-30T16:44:37.767915Z"
    },
    "tags": []
   },
   "outputs": [
    {
     "data": {
      "image/png": "[encoded data removed]",
      "text/plain": [
       "<Figure size 576x396 with 4 Axes>"
      ]
     },
     "metadata": {
      "image/png": {
       "height": 388,
       "width": 568
      }
     },
     "output_type": "display_data"
    }
   ],
   "source": [
    "fig, ax = plt.subplots(tight_layout=True)\n",
    "fig.clear()\n",
    "model.plot_diagnostics(variable=0, fig=fig)\n",
    "plt.show()"
   ]
  },
  {
   "cell_type": "code",
   "execution_count": 10,
   "id": "0ff8b109-4739-401e-8bdf-550ab9882f03",
   "metadata": {
    "execution": {
     "iopub.execute_input": "2022-06-30T16:44:42.056890Z",
     "iopub.status.busy": "2022-06-30T16:44:42.056197Z",
     "iopub.status.idle": "2022-06-30T16:44:42.079299Z",
     "shell.execute_reply": "2022-06-30T16:44:42.078401Z",
     "shell.execute_reply.started": "2022-06-30T16:44:42.056848Z"
    },
    "tags": []
   },
   "outputs": [
    {
     "data": {
      "text/html": [
       "<div>\n",
       "<style scoped>\n",
       "    .dataframe tbody tr th:only-of-type {\n",
       "        vertical-align: middle;\n",
       "    }\n",
       "\n",
       "    .dataframe tbody tr th {\n",
       "        vertical-align: top;\n",
       "    }\n",
       "\n",
       "    .dataframe thead th {\n",
       "        text-align: right;\n",
       "    }\n",
       "</style>\n",
       "<table border=\"1\" class=\"dataframe\">\n",
       "  <thead>\n",
       "    <tr style=\"text-align: right;\">\n",
       "      <th>money_supply</th>\n",
       "      <th>mean</th>\n",
       "      <th>mean_se</th>\n",
       "      <th>mean_ci_lower</th>\n",
       "      <th>mean_ci_upper</th>\n",
       "    </tr>\n",
       "  </thead>\n",
       "  <tbody>\n",
       "    <tr>\n",
       "      <th>2012-09-01</th>\n",
       "      <td>220783.357572</td>\n",
       "      <td>102249.700313</td>\n",
       "      <td>20377.627528</td>\n",
       "      <td>421189.087616</td>\n",
       "    </tr>\n",
       "    <tr>\n",
       "      <th>2012-10-01</th>\n",
       "      <td>206025.704672</td>\n",
       "      <td>111667.807843</td>\n",
       "      <td>-12839.176933</td>\n",
       "      <td>424890.586277</td>\n",
       "    </tr>\n",
       "    <tr>\n",
       "      <th>2012-11-01</th>\n",
       "      <td>204141.384441</td>\n",
       "      <td>112023.610686</td>\n",
       "      <td>-15420.857921</td>\n",
       "      <td>423703.626804</td>\n",
       "    </tr>\n",
       "    <tr>\n",
       "      <th>2012-12-01</th>\n",
       "      <td>202818.011280</td>\n",
       "      <td>112098.685311</td>\n",
       "      <td>-16891.374644</td>\n",
       "      <td>422527.397203</td>\n",
       "    </tr>\n",
       "    <tr>\n",
       "      <th>2013-01-01</th>\n",
       "      <td>202643.613557</td>\n",
       "      <td>112101.533046</td>\n",
       "      <td>-17071.353825</td>\n",
       "      <td>422358.580939</td>\n",
       "    </tr>\n",
       "    <tr>\n",
       "      <th>2013-02-01</th>\n",
       "      <td>202519.919885</td>\n",
       "      <td>112102.249296</td>\n",
       "      <td>-17196.451322</td>\n",
       "      <td>422236.291092</td>\n",
       "    </tr>\n",
       "    <tr>\n",
       "      <th>2013-03-01</th>\n",
       "      <td>202501.468416</td>\n",
       "      <td>112102.277431</td>\n",
       "      <td>-17214.957934</td>\n",
       "      <td>422217.894766</td>\n",
       "    </tr>\n",
       "  </tbody>\n",
       "</table>\n",
       "</div>"
      ],
      "text/plain": [
       "money_supply           mean        mean_se  mean_ci_lower  mean_ci_upper\n",
       "2012-09-01    220783.357572  102249.700313   20377.627528  421189.087616\n",
       "2012-10-01    206025.704672  111667.807843  -12839.176933  424890.586277\n",
       "2012-11-01    204141.384441  112023.610686  -15420.857921  423703.626804\n",
       "2012-12-01    202818.011280  112098.685311  -16891.374644  422527.397203\n",
       "2013-01-01    202643.613557  112101.533046  -17071.353825  422358.580939\n",
       "2013-02-01    202519.919885  112102.249296  -17196.451322  422236.291092\n",
       "2013-03-01    202501.468416  112102.277431  -17214.957934  422217.894766"
      ]
     },
     "execution_count": 10,
     "metadata": {},
     "output_type": "execute_result"
    }
   ],
   "source": [
    "model.get_forecast(7).summary_frame(endog=1)"
   ]
  },
  {
   "cell_type": "code",
   "execution_count": 11,
   "id": "2bf14edf-9066-43ee-b339-7d2b9730af4a",
   "metadata": {
    "execution": {
     "iopub.execute_input": "2022-06-30T16:44:43.746312Z",
     "iopub.status.busy": "2022-06-30T16:44:43.745971Z",
     "iopub.status.idle": "2022-06-30T16:44:43.759717Z",
     "shell.execute_reply": "2022-06-30T16:44:43.759057Z",
     "shell.execute_reply.started": "2022-06-30T16:44:43.746290Z"
    },
    "tags": []
   },
   "outputs": [
    {
     "data": {
      "text/html": [
       "<div>\n",
       "<style scoped>\n",
       "    .dataframe tbody tr th:only-of-type {\n",
       "        vertical-align: middle;\n",
       "    }\n",
       "\n",
       "    .dataframe tbody tr th {\n",
       "        vertical-align: top;\n",
       "    }\n",
       "\n",
       "    .dataframe thead th {\n",
       "        text-align: right;\n",
       "    }\n",
       "</style>\n",
       "<table border=\"1\" class=\"dataframe\">\n",
       "  <thead>\n",
       "    <tr style=\"text-align: right;\">\n",
       "      <th></th>\n",
       "      <th>ex_rate</th>\n",
       "      <th>money_supply</th>\n",
       "      <th>inf</th>\n",
       "    </tr>\n",
       "  </thead>\n",
       "  <tbody>\n",
       "    <tr>\n",
       "      <th>2012-09-01</th>\n",
       "      <td>116.385561</td>\n",
       "      <td>220783.357572</td>\n",
       "      <td>-0.886404</td>\n",
       "    </tr>\n",
       "    <tr>\n",
       "      <th>2012-10-01</th>\n",
       "      <td>118.620922</td>\n",
       "      <td>206025.704672</td>\n",
       "      <td>-0.569714</td>\n",
       "    </tr>\n",
       "    <tr>\n",
       "      <th>2012-11-01</th>\n",
       "      <td>127.952594</td>\n",
       "      <td>204141.384441</td>\n",
       "      <td>-0.510029</td>\n",
       "    </tr>\n",
       "    <tr>\n",
       "      <th>2012-12-01</th>\n",
       "      <td>128.653998</td>\n",
       "      <td>202818.011280</td>\n",
       "      <td>-0.445874</td>\n",
       "    </tr>\n",
       "    <tr>\n",
       "      <th>2013-01-01</th>\n",
       "      <td>129.738022</td>\n",
       "      <td>202643.613557</td>\n",
       "      <td>-0.423876</td>\n",
       "    </tr>\n",
       "    <tr>\n",
       "      <th>2013-02-01</th>\n",
       "      <td>129.917587</td>\n",
       "      <td>202519.919885</td>\n",
       "      <td>-0.410325</td>\n",
       "    </tr>\n",
       "    <tr>\n",
       "      <th>2013-03-01</th>\n",
       "      <td>130.070560</td>\n",
       "      <td>202501.468416</td>\n",
       "      <td>-0.404707</td>\n",
       "    </tr>\n",
       "  </tbody>\n",
       "</table>\n",
       "</div>"
      ],
      "text/plain": [
       "               ex_rate   money_supply       inf\n",
       "2012-09-01  116.385561  220783.357572 -0.886404\n",
       "2012-10-01  118.620922  206025.704672 -0.569714\n",
       "2012-11-01  127.952594  204141.384441 -0.510029\n",
       "2012-12-01  128.653998  202818.011280 -0.445874\n",
       "2013-01-01  129.738022  202643.613557 -0.423876\n",
       "2013-02-01  129.917587  202519.919885 -0.410325\n",
       "2013-03-01  130.070560  202501.468416 -0.404707"
      ]
     },
     "execution_count": 11,
     "metadata": {},
     "output_type": "execute_result"
    }
   ],
   "source": [
    "model.forecast(steps=7)"
   ]
  },
  {
   "cell_type": "code",
   "execution_count": 27,
   "id": "d275a820-29bc-45af-b294-fc995586fc2d",
   "metadata": {
    "execution": {
     "iopub.execute_input": "2022-06-30T01:34:26.894949Z",
     "iopub.status.busy": "2022-06-30T01:34:26.894592Z",
     "iopub.status.idle": "2022-06-30T01:34:26.914008Z",
     "shell.execute_reply": "2022-06-30T01:34:26.913242Z",
     "shell.execute_reply.started": "2022-06-30T01:34:26.894924Z"
    },
    "tags": []
   },
   "outputs": [
    {
     "data": {
      "text/html": [
       "<div>\n",
       "<style scoped>\n",
       "    .dataframe tbody tr th:only-of-type {\n",
       "        vertical-align: middle;\n",
       "    }\n",
       "\n",
       "    .dataframe tbody tr th {\n",
       "        vertical-align: top;\n",
       "    }\n",
       "\n",
       "    .dataframe thead th {\n",
       "        text-align: right;\n",
       "    }\n",
       "</style>\n",
       "<table border=\"1\" class=\"dataframe\">\n",
       "  <thead>\n",
       "    <tr style=\"text-align: right;\">\n",
       "      <th></th>\n",
       "      <th>ex_rate</th>\n",
       "      <th>money_supply</th>\n",
       "      <th>inf</th>\n",
       "    </tr>\n",
       "  </thead>\n",
       "  <tbody>\n",
       "    <tr>\n",
       "      <th>2012-09-01</th>\n",
       "      <td>23301.385561</td>\n",
       "      <td>1.042758e+07</td>\n",
       "      <td>2.553596</td>\n",
       "    </tr>\n",
       "    <tr>\n",
       "      <th>2012-10-01</th>\n",
       "      <td>23420.006482</td>\n",
       "      <td>1.063360e+07</td>\n",
       "      <td>1.983882</td>\n",
       "    </tr>\n",
       "    <tr>\n",
       "      <th>2012-11-01</th>\n",
       "      <td>23547.959076</td>\n",
       "      <td>1.083775e+07</td>\n",
       "      <td>1.473853</td>\n",
       "    </tr>\n",
       "    <tr>\n",
       "      <th>2012-12-01</th>\n",
       "      <td>23676.613074</td>\n",
       "      <td>1.104056e+07</td>\n",
       "      <td>1.027979</td>\n",
       "    </tr>\n",
       "    <tr>\n",
       "      <th>2013-01-01</th>\n",
       "      <td>23806.351097</td>\n",
       "      <td>1.124321e+07</td>\n",
       "      <td>0.604103</td>\n",
       "    </tr>\n",
       "    <tr>\n",
       "      <th>2013-02-01</th>\n",
       "      <td>23936.268683</td>\n",
       "      <td>1.144573e+07</td>\n",
       "      <td>0.193778</td>\n",
       "    </tr>\n",
       "    <tr>\n",
       "      <th>2013-03-01</th>\n",
       "      <td>24066.339243</td>\n",
       "      <td>1.164823e+07</td>\n",
       "      <td>-0.210929</td>\n",
       "    </tr>\n",
       "  </tbody>\n",
       "</table>\n",
       "</div>"
      ],
      "text/plain": [
       "                 ex_rate  money_supply       inf\n",
       "2012-09-01  23301.385561  1.042758e+07  2.553596\n",
       "2012-10-01  23420.006482  1.063360e+07  1.983882\n",
       "2012-11-01  23547.959076  1.083775e+07  1.473853\n",
       "2012-12-01  23676.613074  1.104056e+07  1.027979\n",
       "2013-01-01  23806.351097  1.124321e+07  0.604103\n",
       "2013-02-01  23936.268683  1.144573e+07  0.193778\n",
       "2013-03-01  24066.339243  1.164823e+07 -0.210929"
      ]
     },
     "execution_count": 27,
     "metadata": {},
     "output_type": "execute_result"
    }
   ],
   "source": [
    "dfForecastDif = model.forecast(steps=7)\n",
    "dfForecast = dfCpi.iloc[-1].values.reshape(1,-1) + dfForecastDif.cumsum(axis=0)\n",
    "dfForecast"
   ]
  },
  {
   "cell_type": "markdown",
   "id": "98adff73-a3c3-4a71-90a3-e7ab2703aede",
   "metadata": {},
   "source": [
    "# 2. ETS\n",
    "ETS (**E**rror, **T**rend and **S**easonality) is the [state-space](https://www.statsmodels.org/dev/statespace.html) form of Holt-Winters' method, which adds seasonality and trend to the simple *exponetial smoothing* model. The naive method assumes that only most recent observations are the most important ones."
   ]
  },
  {
   "cell_type": "markdown",
   "id": "7b229db0-a1e5-451e-bb77-649cc0b8d7ec",
   "metadata": {
    "tags": []
   },
   "source": [
    "## 2.1. Holt-Winters' method"
   ]
  },
  {
   "cell_type": "markdown",
   "id": "bf1a70d3-3e5a-4ae7-afef-da664ca4e756",
   "metadata": {
    "tags": []
   },
   "source": [
    "### Level component\n",
    "First, we go through the most basic foundation: exponential smoothing. A common sense is that most recent data should have a higher influence to the current value rather than further observations. Thus, we attach *exponentially decreasing weights* to observations, described as a *smoothing parameter*, $\\alpha$ (for $0\\leq\\alpha\\leq1$). The 1-step ahead forecast is given by the equation:\n",
    "\n",
    "$$\\hat{y}_{T+1|T}=\\alpha y_T+\\alpha(1-\\alpha)y_{T-1}+\\alpha(1-\\alpha)^2y_{T-2}+\\dots$$\n",
    "\n",
    "The function is smartly designed, so that the sum of weights tends to reach $1$, especially when $T$ is large enough. This is because:\n",
    "\n",
    "$$\n",
    "\\lim_{T\\rightarrow\\infty}\\sum_{t=0}^{T-1}(1-\\alpha)^t\n",
    "=\\lim_{T\\rightarrow\\infty}\\frac{1-(1-\\alpha)^T}{\\alpha}\n",
    "=\\frac{1}{\\alpha}\n",
    "$$\n",
    "\n",
    "The above function can be approximated using a recursion: $\\hat{y}_{T+1|T}=\\alpha y_{T}+(1-\\alpha)\\hat{y}_{T|T-1}$. Rewriting it gives us the very first component of ETS, the level $l_t$, represented as a weighted average between the last observation ($y_t$) and the last calculated level ($l_{t-1}$).\n",
    "\n",
    "$$\\begin{align*}\n",
    "  \\hat{y}_{t+h|t} & = l_{t}\\\\\n",
    "  l_{t}        & = \\alpha y_{t} + (1 - \\alpha)l_{t-1}\n",
    "\\end{align*}$$\n",
    "\n",
    "- $\\hat{y}_{t+h|t}$ is a fitted value for $t=1,2,\\dots,T-1$ and $h=1$\n",
    "- $\\hat{y}_{t+h|t}$ is a forecast for $t=T$ and $h=1,2,\\dots$\n",
    "\n",
    "The level component is parameterized by $\\alpha$ and $l_0$ (the initial value to calculate $l_1$). Notice that the forecast function returns a *flat forecat*, as it does not depend on $h$."
   ]
  },
  {
   "cell_type": "markdown",
   "id": "bc359890-5d30-4aa9-a5e1-758f3d199203",
   "metadata": {},
   "source": [
    "### Trend component\n",
    "If we think the level at time $t$ as some sort of *intercept*, then we need a *slope*. Let's denote it $b_t$ and model it using the last *instantaneous velocity* ($l_t-l_{t-1}$) and, of course, the last value of its own sequence ($b_{t-1}$):\n",
    "\n",
    "$$b_t=\\beta'(l_t-l_{t-1})+(1-\\beta')b_{t-1}$$\n",
    "\n",
    "Here, $\\beta'\\,(0\\leq\\beta'\\leq1)$ is a smothing parameter. By plugging in the equation for $l_t$ and denoting $\\beta=\\alpha\\beta'\\,(0\\leq\\beta\\leq\\alpha)$, we can extend the simple exponential smoothing equation:\n",
    "\n",
    "$$\\begin{align*}\n",
    "  \\hat{y}_{t+h|t} &= l_t + hb_t \\\\\n",
    "  l_t             &= \\alpha y_{t} + (1-\\alpha)(l_{t-1}+b_{t-1}) \\\\\n",
    "  b_t             &= \\beta(y_t-l_{t-1}) + (1-\\beta)b_{t-1}\n",
    "\\end{align*}$$\n",
    "\n",
    "Holt, the author of this method named it *trend*, but keep in mind that it is not the same *trend* as in component decomposition. An important conslusion can be drawn from the formulation is that the forecast function is now a linear function of $h$ rather than a constant. This function is less naive, but tends to overforecast in further horizons. This is the motivation for a damping parameter, $\\phi\\,(0\\leq\\phi\\leq1)$, which has proven its success and popularity in forecasting tasks. The equation for damped trend is given by:\n",
    "\n",
    "$$\\begin{align*}\n",
    "  \\hat{y}_{t+h|t} &= l_t + (\\phi+\\phi^2+\\dots+\\phi^h)b_t \\\\\n",
    "  l_t             &= \\alpha y_{t} + (1-\\alpha)(l_{t-1}+\\phi b_{t-1}) \\\\\n",
    "  b_t             &= \\beta(y_t-l_{t-1}) + (1-\\beta)\\phi b_{t-1}\n",
    "\\end{align*}$$\n",
    "\n",
    "If $\\phi=1$ then there is no damping at all, while a lower value of $\\phi$ indicates a very strong damping effect. In practice, $\\phi$ should not be less than $0.8$. In addition to $\\beta$ and $\\phi$, trend component also has the initial value $b_0$ as a parameter."
   ]
  },
  {
   "cell_type": "markdown",
   "id": "1d7b94f0-77a0-40b7-99ae-1deef7055639",
   "metadata": {},
   "source": [
    "### Seasonality component\n",
    "The seasonal part ($s_t$) in ETS requires a pre-selected seasonal period ($m$), and the same number of seasonal initial values ($s_{-m+1},s_{-m+2},\\dots,s_0$). For example, to model quarterly data ($m=4$), the intial values are $s_{-3},s_{-2},s_{-1},s_0$. The equation for seasonal component stand alone is expressed by the weighted average of the current seasonal term ($y_t-l_t$) and the last seasonal term ($s_{t-m}$) :\n",
    "\n",
    "$$s_t=\\gamma'(y_t-l_t)+(1-\\gamma')s_{t-m}$$\n",
    "\n",
    "$0\\leq\\gamma'\\leq1$ is a smoothing parameter. If we substitute $l_t$ from the smoothing equation and $\\gamma=(1-\\alpha)\\gamma'\\,(0\\leq\\gamma\\leq1-\\alpha)$, we end up getting the complete ETS model. When expressing the equations, the damping factor is removed for simplification purposes.\n",
    "\n",
    "$$\\begin{align*}\n",
    "  \\hat{y}_{t+h|t} &= l_{t} + hb_{t} + s_{t+h-m(k+1)} \\\\\n",
    "  l_t &= \\alpha(y_{t} - s_{t-m}) + (1 - \\alpha)(l_{t-1} + b_{t-1}) \\\\\n",
    "  b_{t} &= \\beta(y_t-l_{t-1}-s_{t-m})+(1-\\beta)b_{t-1} \\\\\n",
    "  s_t &= \\gamma (y_{t}-l_{t-1}-b_{t-1}) + (1-\\gamma)s_{t-m}\n",
    "\\end{align*}$$\n",
    "\n",
    "The term $s_{t+h-m(k+1)}\\,(k=\\lfloor(h-1)/m\\rfloor)$ may look ugly, but it is just the seasonal term of the same index last observed period."
   ]
  },
  {
   "cell_type": "markdown",
   "id": "f8b6d1f9-0bc3-4a96-bbb1-3537f96f3b5d",
   "metadata": {},
   "source": [
    "## 2.2. ETS model"
   ]
  },
  {
   "cell_type": "markdown",
   "id": "1e3bcd79-75ca-4b52-9f27-a0134aba4bef",
   "metadata": {},
   "source": [
    "### ETS function\n",
    "[State space](https://www.statsmodels.org/dev/statespace.html) is an abstract representation of time series models, including both ARIMA and Holt-Winters. For Holt-Winters only, each of its components (or *states*) can be represented as an equation of *error*. This state space form has a better readability than Holt-Winters' function.\n",
    "\n",
    "$$\\begin{align*}\n",
    "    y_t &= l_{t-1}+\\phi b_{t-1}+s_{t-m}+\\epsilon_t \\\\\n",
    "    l_t &= l_{t-1}+\\phi b_{t-1}+\\alpha\\epsilon_t \\\\\n",
    "    b_t &= \\phi b_{t-1}+\\beta\\epsilon_t \\\\\n",
    "    s_t &= s_{t-m}+\\gamma\\epsilon_t\n",
    "\\end{align*}$$\n",
    "\n",
    "Each component of error, trend and seasonality has two forms: additive and multiplicative. To distinguish between different combinations, we use the syntax: $\\text{ETS}(\\cdot\\cdot\\cdot)$, in which each dot stands for the form of the corresponding component: error, trend and seasonality. For example, $\\text{ETS(A,Md,M)}$ stands for an ETS model with additive error, damped multiplicative trend and multiplicative seasonality."
   ]
  },
  {
   "cell_type": "markdown",
   "id": "916ba78e-07ec-40de-9049-b86babf5db79",
   "metadata": {},
   "source": [
    "### Procedure\n",
    "- *Estimation*. Like ARIMA, ETS also estimates its parameters either by minimizing sum of squared error or maximizing the likelihood that error follows a normal distribution. ETS's parameters are coefficients (both smoothing and damping): $\\alpha$, $\\beta$, $\\gamma$ and $\\phi$ and initial values: $l_0$, $b_0$ and $s_0,s_{-1},\\dots,s_{-m+1}$.\n",
    "\n",
    "- *Point forecasting*. When forecasting future points using ETS equations ($t>T$), we only need to set $\\epsilon_t=0$. For further forecasts ($h>1$), the same *recursion* fashion used in ARIMA is applied.\n",
    "\n",
    "- *Prediction interval*. ETS also uses forecast variance to add confidence interval to point forecast. The formulas gets more and more complicated as we add more components and use multiplicative method, so they aren't going to be presented here."
   ]
  },
  {
   "cell_type": "markdown",
   "id": "e331d0de-628b-4a32-af92-9ede9f10f176",
   "metadata": {},
   "source": [
    "### Model selection\n",
    "Model selection for ETS is the process of choosing the appropriate form for each component. Like in ARIMA, this can be done by minimizing information criteria (AIC, AICc and BIC). But as there are only a few number of combinations ($2^4=16$), we'd better use Machine Learning's approach that exhausted searches for the best score (MAE, MSE or R2) on an observed validation set.\n",
    "\n",
    "Some models, particularly $\\text{ETS}(\\text{A}\\cdot\\text{M})$ (additive error, multiplicative seasonal and any type of trend), can be excluded from our search and help reducing the computation time. These are potentially unstable models who suffer from division by very small numbers."
   ]
  },
  {
   "cell_type": "markdown",
   "id": "86044ce6-7504-423c-b287-603874a13f41",
   "metadata": {},
   "source": [
    "## 2.3. Implementation\n",
    "We can implement Holt-Winters' model via class\n",
    "<code style='font-size:13px'><a href='https://www.statsmodels.org/devel/generated/statsmodels.tsa.holtwinters.ExponentialSmoothing.html'>ExponentialSmoothing</a></code>\n",
    "or ETS model via class\n",
    "<code style='font-size:13px'><a href='https://www.statsmodels.org/devel/generated/statsmodels.tsa.exponential_smoothing.ets.ETSModel.html'>ETSModel</a></code>. Both classes share the same hyperparameters, the later class sacrifies the capability of extracting model components (level, trend and season) in trade-off for generalization.\n",
    "\n",
    "- <code style='font-size:13px; color:#BA2121'>error</code>: the type of error model, defaults to *add*. The other option is *mul*.\n",
    "- <code style='font-size:13px; color:#BA2121'>trend</code>: the type of trend model, defaults to *None*. Other options are *add* and *mul*.\n",
    "- <code style='font-size:13px; color:#BA2121'>damped_trend</code>: whether to use damping factor in the trend model, defaults to *False*. The other option is *True*.\n",
    "- <code style='font-size:13px; color:#BA2121'>seasonal</code>: the type of seasonality model, defaults to *None*. Other options are *add* and *mul*.\n",
    "- <code style='font-size:13px; color:#BA2121'>seasonal_periods</code>: the length of a season, defaults to *None*. Must be an integer if seasonal model is used."
   ]
  },
  {
   "cell_type": "code",
   "execution_count": 28,
   "id": "1749edff-ae24-442f-9c60-351c39e1d30a",
   "metadata": {
    "execution": {
     "iopub.execute_input": "2022-06-30T01:40:45.117653Z",
     "iopub.status.busy": "2022-06-30T01:40:45.117244Z",
     "iopub.status.idle": "2022-06-30T01:40:45.129772Z",
     "shell.execute_reply": "2022-06-30T01:40:45.128929Z",
     "shell.execute_reply.started": "2022-06-30T01:40:45.117629Z"
    },
    "tags": []
   },
   "outputs": [],
   "source": [
    "import numpy as np\n",
    "import pandas as pd\n",
    "\n",
    "import numpy as np\n",
    "import matplotlib.pyplot as plt\n",
    "plt.style.use(['seaborn', 'seaborn-whitegrid'])\n",
    "%config InlineBackend.figure_format = 'retina'\n",
    "\n",
    "from statsmodels.tsa.exponential_smoothing.ets import ETSModel as ETS\n",
    "from statsmodels.tsa.holtwinters import ExponentialSmoothing as HW\n",
    "\n",
    "from sklearn.metrics import mean_squared_error as MSE, mean_absolute_error as MAE, r2_score as R2\n",
    "\n",
    "import warnings\n",
    "warnings.filterwarnings('ignore')\n",
    "with warnings.catch_warnings():\n",
    "    warnings.simplefilter('ignore')"
   ]
  },
  {
   "cell_type": "code",
   "execution_count": 104,
   "id": "589bf46a-1c0e-41d5-82b8-c22910a71f56",
   "metadata": {
    "execution": {
     "iopub.execute_input": "2022-06-07T09:26:26.070404Z",
     "iopub.status.busy": "2022-06-07T09:26:26.070001Z",
     "iopub.status.idle": "2022-06-07T09:26:26.103741Z",
     "shell.execute_reply": "2022-06-07T09:26:26.102618Z",
     "shell.execute_reply.started": "2022-06-07T09:26:26.070376Z"
    },
    "tags": []
   },
   "outputs": [
    {
     "data": {
      "text/plain": [
       "date\n",
       "2019-10-28    379.49\n",
       "2019-10-29    669.51\n",
       "2019-10-30    337.17\n",
       "2019-10-31    603.74\n",
       "2019-11-01    189.82\n",
       "Name: quantity, dtype: float64"
      ]
     },
     "execution_count": 104,
     "metadata": {},
     "output_type": "execute_result"
    }
   ],
   "source": [
    "dfQuantity = pd.read_csv('data/purchase_quantity.csv')\n",
    "dfQuantity = dfQuantity.assign(date=dfQuantity.date.astype('datetime64'))\n",
    "s = dfQuantity.set_index('date').quantity\n",
    "s.head()"
   ]
  },
  {
   "cell_type": "code",
   "execution_count": 140,
   "id": "26b4adb0-cc2e-4182-9362-63e0dc3e67b8",
   "metadata": {
    "execution": {
     "iopub.execute_input": "2022-06-07T09:43:00.783960Z",
     "iopub.status.busy": "2022-06-07T09:43:00.783587Z",
     "iopub.status.idle": "2022-06-07T09:43:00.788315Z",
     "shell.execute_reply": "2022-06-07T09:43:00.787091Z",
     "shell.execute_reply.started": "2022-06-07T09:43:00.783933Z"
    },
    "tags": []
   },
   "outputs": [],
   "source": [
    "nTest = 30\n",
    "\n",
    "cutEnd = dfQuantity.shape[0]\n",
    "cutTest = cutEnd - nTest\n",
    "\n",
    "xTest, yTest = s[:cutTest], s[cutTest:]"
   ]
  },
  {
   "cell_type": "code",
   "execution_count": 153,
   "id": "8430b4da-9842-42e3-a79c-a19bd54bd6f4",
   "metadata": {
    "execution": {
     "iopub.execute_input": "2022-06-07T09:48:47.284968Z",
     "iopub.status.busy": "2022-06-07T09:48:47.284591Z",
     "iopub.status.idle": "2022-06-07T09:48:47.715232Z",
     "shell.execute_reply": "2022-06-07T09:48:47.714367Z",
     "shell.execute_reply.started": "2022-06-07T09:48:47.284941Z"
    },
    "tags": []
   },
   "outputs": [],
   "source": [
    "model = ETS(xTest, trend='add', damped_trend=True, seasonal='add', seasonal_periods=30, freq='D').fit()\n",
    "result = model.summary().tables"
   ]
  },
  {
   "cell_type": "code",
   "execution_count": 142,
   "id": "40134406-e5df-4947-b76f-15e6b3424003",
   "metadata": {
    "execution": {
     "iopub.execute_input": "2022-06-07T09:43:04.370125Z",
     "iopub.status.busy": "2022-06-07T09:43:04.369682Z",
     "iopub.status.idle": "2022-06-07T09:43:04.376800Z",
     "shell.execute_reply": "2022-06-07T09:43:04.375941Z",
     "shell.execute_reply.started": "2022-06-07T09:43:04.370095Z"
    },
    "tags": []
   },
   "outputs": [
    {
     "data": {
      "text/html": [
       "<table class=\"simpletable\">\n",
       "<caption>ETS Results</caption>\n",
       "<tr>\n",
       "  <th>Dep. Variable:</th>       <td>quantity</td>     <th>  No. Observations:  </th>    <td>219</td>   \n",
       "</tr>\n",
       "<tr>\n",
       "  <th>Model:</th>               <td>ETS(AAdA)</td>    <th>  Log Likelihood     </th> <td>-1529.151</td>\n",
       "</tr>\n",
       "<tr>\n",
       "  <th>Date:</th>            <td>Tue, 07 Jun 2022</td> <th>  AIC                </th> <td>3132.302</td> \n",
       "</tr>\n",
       "<tr>\n",
       "  <th>Time:</th>                <td>16:43:02</td>     <th>  BIC                </th> <td>3257.698</td> \n",
       "</tr>\n",
       "<tr>\n",
       "  <th>Sample:</th>             <td>10-28-2019</td>    <th>  HQIC               </th> <td>3182.946</td> \n",
       "</tr>\n",
       "<tr>\n",
       "  <th></th>                   <td>- 06-02-2020</td>   <th>  Scale              </th> <td>67980.277</td>\n",
       "</tr>\n",
       "<tr>\n",
       "  <th>Covariance Type:</th>      <td>approx</td>      <th>                     </th>     <td> </td>    \n",
       "</tr>\n",
       "</table>"
      ],
      "text/plain": [
       "<class 'statsmodels.iolib.table.SimpleTable'>"
      ]
     },
     "execution_count": 142,
     "metadata": {},
     "output_type": "execute_result"
    }
   ],
   "source": [
    "result[0]"
   ]
  },
  {
   "cell_type": "code",
   "execution_count": 143,
   "id": "b36e79e7-45b0-4e1a-9cd1-7469c55b2700",
   "metadata": {
    "execution": {
     "iopub.execute_input": "2022-06-07T09:43:05.252237Z",
     "iopub.status.busy": "2022-06-07T09:43:05.251844Z",
     "iopub.status.idle": "2022-06-07T09:43:05.257760Z",
     "shell.execute_reply": "2022-06-07T09:43:05.256823Z",
     "shell.execute_reply.started": "2022-06-07T09:43:05.252211Z"
    },
    "tags": []
   },
   "outputs": [
    {
     "data": {
      "text/html": [
       "<table class=\"simpletable\">\n",
       "<tr>\n",
       "  <th>Ljung-Box (Q):</th>          <td>70.89</td> <th>  Jarque-Bera (JB):  </th> <td>196.46</td>\n",
       "</tr>\n",
       "<tr>\n",
       "  <th>Prob(Q):</th>                <td>0.00</td>  <th>  Prob(JB):          </th>  <td>0.00</td> \n",
       "</tr>\n",
       "<tr>\n",
       "  <th>Heteroskedasticity (H):</th> <td>3.24</td>  <th>  Skew:              </th>  <td>-0.58</td>\n",
       "</tr>\n",
       "<tr>\n",
       "  <th>Prob(H) (two-sided):</th>    <td>0.00</td>  <th>  Kurtosis:          </th>  <td>7.49</td> \n",
       "</tr>\n",
       "</table>"
      ],
      "text/plain": [
       "<class 'statsmodels.iolib.table.SimpleTable'>"
      ]
     },
     "execution_count": 143,
     "metadata": {},
     "output_type": "execute_result"
    }
   ],
   "source": [
    "result[2]"
   ]
  },
  {
   "cell_type": "code",
   "execution_count": 147,
   "id": "e850a66a-e0db-439a-8ce5-15810c75128d",
   "metadata": {
    "execution": {
     "iopub.execute_input": "2022-06-07T09:45:14.394582Z",
     "iopub.status.busy": "2022-06-07T09:45:14.394189Z",
     "iopub.status.idle": "2022-06-07T09:45:14.427404Z",
     "shell.execute_reply": "2022-06-07T09:45:14.426748Z",
     "shell.execute_reply.started": "2022-06-07T09:45:14.394554Z"
    },
    "tags": []
   },
   "outputs": [
    {
     "data": {
      "text/html": [
       "<div>\n",
       "<style scoped>\n",
       "    .dataframe tbody tr th:only-of-type {\n",
       "        vertical-align: middle;\n",
       "    }\n",
       "\n",
       "    .dataframe tbody tr th {\n",
       "        vertical-align: top;\n",
       "    }\n",
       "\n",
       "    .dataframe thead th {\n",
       "        text-align: right;\n",
       "    }\n",
       "</style>\n",
       "<table border=\"1\" class=\"dataframe\">\n",
       "  <thead>\n",
       "    <tr style=\"text-align: right;\">\n",
       "      <th></th>\n",
       "      <th>forecast</th>\n",
       "      <th>truth</th>\n",
       "      <th>ci_90_lower</th>\n",
       "      <th>ci_90_upper</th>\n",
       "      <th>ci_95_lower</th>\n",
       "      <th>ci_95_upper</th>\n",
       "      <th>ci_99_lower</th>\n",
       "      <th>ci_99_upper</th>\n",
       "    </tr>\n",
       "  </thead>\n",
       "  <tbody>\n",
       "    <tr>\n",
       "      <th>2020-06-28</th>\n",
       "      <td>505.658104</td>\n",
       "      <td>0.00</td>\n",
       "      <td>-934.301371</td>\n",
       "      <td>1945.617578</td>\n",
       "      <td>-1210.159440</td>\n",
       "      <td>2221.475647</td>\n",
       "      <td>-1749.308387</td>\n",
       "      <td>2760.624594</td>\n",
       "    </tr>\n",
       "    <tr>\n",
       "      <th>2020-06-29</th>\n",
       "      <td>415.254539</td>\n",
       "      <td>304.24</td>\n",
       "      <td>-1050.717878</td>\n",
       "      <td>1881.226956</td>\n",
       "      <td>-1331.559337</td>\n",
       "      <td>2162.068415</td>\n",
       "      <td>-1880.448038</td>\n",
       "      <td>2710.957116</td>\n",
       "    </tr>\n",
       "    <tr>\n",
       "      <th>2020-06-30</th>\n",
       "      <td>467.350354</td>\n",
       "      <td>661.91</td>\n",
       "      <td>-1024.181410</td>\n",
       "      <td>1958.882118</td>\n",
       "      <td>-1309.919363</td>\n",
       "      <td>2244.620071</td>\n",
       "      <td>-1868.377982</td>\n",
       "      <td>2803.078690</td>\n",
       "    </tr>\n",
       "    <tr>\n",
       "      <th>2020-07-01</th>\n",
       "      <td>409.722661</td>\n",
       "      <td>729.94</td>\n",
       "      <td>-1106.937785</td>\n",
       "      <td>1926.383108</td>\n",
       "      <td>-1397.489727</td>\n",
       "      <td>2216.935050</td>\n",
       "      <td>-1965.357015</td>\n",
       "      <td>2784.802338</td>\n",
       "    </tr>\n",
       "    <tr>\n",
       "      <th>2020-07-02</th>\n",
       "      <td>510.193281</td>\n",
       "      <td>608.80</td>\n",
       "      <td>-1031.186243</td>\n",
       "      <td>2051.572805</td>\n",
       "      <td>-1326.473705</td>\n",
       "      <td>2346.860268</td>\n",
       "      <td>-1903.596300</td>\n",
       "      <td>2923.982862</td>\n",
       "    </tr>\n",
       "  </tbody>\n",
       "</table>\n",
       "</div>"
      ],
      "text/plain": [
       "              forecast   truth  ci_90_lower  ci_90_upper  ci_95_lower  \\\n",
       "2020-06-28  505.658104    0.00  -934.301371  1945.617578 -1210.159440   \n",
       "2020-06-29  415.254539  304.24 -1050.717878  1881.226956 -1331.559337   \n",
       "2020-06-30  467.350354  661.91 -1024.181410  1958.882118 -1309.919363   \n",
       "2020-07-01  409.722661  729.94 -1106.937785  1926.383108 -1397.489727   \n",
       "2020-07-02  510.193281  608.80 -1031.186243  2051.572805 -1326.473705   \n",
       "\n",
       "            ci_95_upper  ci_99_lower  ci_99_upper  \n",
       "2020-06-28  2221.475647 -1749.308387  2760.624594  \n",
       "2020-06-29  2162.068415 -1880.448038  2710.957116  \n",
       "2020-06-30  2244.620071 -1868.377982  2803.078690  \n",
       "2020-07-01  2216.935050 -1965.357015  2784.802338  \n",
       "2020-07-02  2346.860268 -1903.596300  2923.982862  "
      ]
     },
     "execution_count": 147,
     "metadata": {},
     "output_type": "execute_result"
    }
   ],
   "source": [
    "forecaster = model.get_prediction(cutTest, cutEnd-1)\n",
    "yTestPred = forecaster.predicted_mean.rename('forecast')\n",
    "dfForecast = yTestPred.to_frame()\n",
    "dfForecast['truth'] = yTest\n",
    "listCi = [0.9, 0.95, 0.99]\n",
    "for ci in listCi:\n",
    "    strCi = int(ci*100)\n",
    "    dfCi = forecaster.summary_frame(alpha=1-ci)\n",
    "    dfCi = dfCi.iloc[:, -2:]\n",
    "    dfForecast[[f'ci_{strCi}_lower', f'ci_{strCi}_upper']] = dfCi\n",
    "dfForecast.tail()"
   ]
  },
  {
   "cell_type": "code",
   "execution_count": 150,
   "id": "5627851b-1df4-41dc-973f-4d43b4c57c10",
   "metadata": {
    "execution": {
     "iopub.execute_input": "2022-06-07T09:46:14.397633Z",
     "iopub.status.busy": "2022-06-07T09:46:14.397296Z",
     "iopub.status.idle": "2022-06-07T09:46:14.672700Z",
     "shell.execute_reply": "2022-06-07T09:46:14.672085Z",
     "shell.execute_reply.started": "2022-06-07T09:46:14.397610Z"
    },
    "tags": []
   },
   "outputs": [
    {
     "data": {
      "image/png": "[encoded data removed]",
      "text/plain": [
       "<Figure size 1296x432 with 1 Axes>"
      ]
     },
     "metadata": {
      "image/png": {
       "height": 373,
       "width": 1145
      }
     },
     "output_type": "display_data"
    }
   ],
   "source": [
    "df = dfForecast.copy()\n",
    "df = df.clip(lower=0)\n",
    "\n",
    "rmse = MSE(yTest, yTestPred, squared=False)\n",
    "mae = MAE(yTest, yTestPred)\n",
    "r2 = R2(yTest, yTestPred)\n",
    "title = f'ETS | RMSE={rmse:.2f} | MAE={mae:.2f} | R2={r2:.4f}'\n",
    "\n",
    "fig, ax = plt.subplots(figsize=(18,6))\n",
    "ax.plot(df.truth, color='teal', label='GroundTruth')\n",
    "ax.plot(df.forecast, '--', c='grey', label='Forecast')\n",
    "for ci in listCi:\n",
    "    alpha = 1 - ci + 0.05\n",
    "    strCi = int(ci*100)\n",
    "    lower, upper = df[f'ci_{strCi}_lower'], df[f'ci_{strCi}_upper']\n",
    "    ax.fill_between(df.index, lower, upper, color='grey', alpha=alpha, label=f'CI {strCi}%')\n",
    "ax.legend(bbox_to_anchor=(1, 0.5), loc='center left')\n",
    "ax.set_title(title, fontsize=14)\n",
    "plt.show()"
   ]
  },
  {
   "cell_type": "markdown",
   "id": "1f7215bb-3cb3-4284-9876-a4900ccea0a0",
   "metadata": {},
   "source": [
    "# 3. TBATS\n",
    "TBATS (**T**rigonometric seasonality, **B**ox-Cox transformation, **A**RMA errors, **T**rend and **S**easonal components) is a combination of ARMA and Holt-Winters' methods, with Fourier series to handle multiple, non-integers seasonal periods. This type of seasonality is popular in business time series, for example, daily data usually has weekly ($m_1=7$) as well as annual ($m_2=365.25$) patterns."
   ]
  },
  {
   "cell_type": "markdown",
   "id": "cb3e78cc-9c96-4804-94cc-62cb81bb34a5",
   "metadata": {
    "tags": []
   },
   "source": [
    "## 3.1. TBATS model\n",
    "TBATS model is described in the following equations:\n",
    "\n",
    "$$\\begin{align*}\n",
    "y_t^{(\\lambda)} &= l_{t-1}+\\delta b_{t-1}+s_{t-m}+d_t \\\\\n",
    "l_t &= l_{t-1}+\\delta b_{t-1}+\\alpha d_t \\\\\n",
    "b_t &= \\delta b_{t-1}+\\beta d_t \\\\\n",
    "d_t &= (\\phi_1 d_{t-1}+\\dots+\\phi_p d_{t-p})+(\\theta_1 d_{t-1}+\\dots+\\theta_q d_{t-q})+\\epsilon_t \\\\\n",
    "\\end{align*}$$\n",
    "\n",
    "Here, $l_t$ and $b_t$ are trend and damped slope components, $d_t$ refers to $\\text{ARMA}(p,q)$. The operator $\\lambda$ stands for Box-Cox transformation, which allows capturing non-linear patterns. $s_t$ in the above equation is a seasonal component; as it is the most complicated part of TBATS, we only express a single component to make things as simple as possible. To model multiple seasonal periods, we simple add more $s_t$ components. Each component $s_t$ is modeled as the sum of $K$ harmonics: $s_t = s_{1,t}+\\dots+s_{K,t}$. Each harmonic $s_{k,t}$ is given by:\n",
    "\n",
    "$$\\begin{align*}\n",
    "s_{k,t} &= s_{k,t-1}\\cos(w) + s'_{k,t-1}\\sin(w) + \\gamma_1d_t \\\\\n",
    "s'_{k,t} &= -s_{k,t-1}\\sin(w) + s'_{k,t-1}\\cos(w) + \\gamma_2d_t\n",
    "\\end{align*}$$\n",
    "\n",
    "$w=2\\pi k/m$, where $m$ is the length of seasonal period, $s'_{k,t}$ is just a subsidiary variable presented to compute $s_{k,t}$."
   ]
  },
  {
   "cell_type": "markdown",
   "id": "daff1620-2a27-4b69-8405-247171618cd3",
   "metadata": {},
   "source": [
    "## 3.2. Implementation\n",
    "TBATS is implemented in Sktime via class\n",
    "<code style='font-size:13px'><a href='https://www.sktime.org/en/stable/api_reference/auto_generated/sktime.forecasting.tbats.TBATS.html'>TBATS</a></code>.\n",
    "The hyperparameters are:\n",
    "\n",
    "- <code style='font-size:13px; color:#BA2121'>use_box_cox</code>: whether to use Box-Cox transform, defaults to *None* (automated). Other options are *True* and *Fasle*.\n",
    "- <code style='font-size:13px; color:#BA2121'>use_trend</code>: the type of trend model, defaults to *None*. Other options are *add* and *mul*.\n",
    "- <code style='font-size:13px; color:#BA2121'>use_damped_trend</code>: whether to use damping factor in the trend model, defaults to *False*. The other option is *True*.\n",
    "- <code style='font-size:13px; color:#BA2121'>use_arma_errors</code>: the type of seasonality model, defaults to *None*. Other options are *add* and *mul*.\n",
    "- <code style='font-size:13px; color:#BA2121'>sp</code>: the length of a season, defaults to *None*. Must be an integer if seasonal model is used."
   ]
  },
  {
   "cell_type": "markdown",
   "id": "bcbe116b-5c1e-40a3-8fb5-260bf004371b",
   "metadata": {},
   "source": [
    "# 4. Prophet\n",
    "[Prophet](https://facebook.github.io/prophet/) is proposed by Facebook in September 2017. It has so many advantages and is widely used in forecasting tasks.\n",
    "- It is fast and accurate\n",
    "- Requires no manual effort and is robust to outliers, missing data and dramatically changes\n",
    "- Accepts domain knowledge"
   ]
  },
  {
   "cell_type": "markdown",
   "id": "86591985-2a25-4d89-ab3e-d460017edce7",
   "metadata": {},
   "source": [
    "## 4.1. Algorithm\n",
    "Prophet decomposes our time series into three components: trends, seasonality, holidays and combines them in an additive model. The parameters of each model are estimated using [MAP](https://en.wikipedia.org/wiki/Maximum_a_posteriori_estimation) (Maximum A Posterior).\n",
    "\n",
    "$$\\hat{y}_t=g(t)+s(t)+h(t)+\\epsilon_t$$\n",
    "\n",
    "Here:\n",
    "- $g(t)$ is the trend function which models *non-periodic* changes in the time series\n",
    "- $s(t)$ models periodic changes (yearly, weekly and daily seasonality)\n",
    "- $h(t)$ is the model of holidays which occur irregularly\n",
    "- $\\epsilon_t$ is the irreducible error term, it should follow a normal distribution"
   ]
  },
  {
   "cell_type": "markdown",
   "id": "2cc07d93-f262-464c-a7e9-2f94312925ee",
   "metadata": {},
   "source": [
    "### Trend component\n",
    "Prophet's trend function is capable of modeling two types of trend:\n",
    "- Linear growth (via a linear function): $g(t)=kt+m$\n",
    "- Saturating growth (via a logistic function): $g(t)=\\dfrac{C}{1+\\exp(-k(t-m))}$\n",
    "\n",
    "where $k$ is the growth rate, $m$ is an offset parameter and $C$ is the carrying capacity. The trend model is even extended so that it can handle change-points. Let's say there are $S$ change-points, each denoted $y_s$ for $s=1,2,\\dots,S$. Prophet assumes that the rate and offset at time $t$ is the sum of base value plus all of the adjustments up to that point. We then define a *mask* vector (which is useful at expressing adjustments), $\\mathbf{a}(t)\\in\\{0,1\\}^S$, such that:\n",
    "\n",
    "$$a_s(t)=\\begin{cases}\n",
    "1 &\\text{if }t>s \\\\\n",
    "0 &\\text{otherwise}\n",
    "\\end{cases}$$\n",
    "\n",
    "The adjustments of growth rate at different change-points is denoted by a vector, $\\boldsymbol{\\delta}\\in\\mathbb{R}^S$. For offset, its adjustment vector, denoted $\\boldsymbol{\\gamma}\\in\\mathbb{R}^S$, is more complicated: $\\gamma_s$ is computed using all previous values of $\\boldsymbol{\\delta}$ and $\\boldsymbol{\\gamma}$. The updated value for $k$ and $m$ is then given by:\n",
    "\n",
    "$$\\begin{align}\n",
    "k &\\leftarrow k+\\mathbf{a}(t)^{\\text{T}}\\boldsymbol{\\delta} \\\\\n",
    "m &\\leftarrow m+\\mathbf{a}(t)^{\\text{T}}\\boldsymbol{\\gamma}\n",
    "\\end{align}$$\n",
    "\n",
    "Change-points can be either defined explicitly by analysts (for example, the known dates of product launches) or detected automatically by Prophet. A large number of potential change-points are initialized equally-spaced on the first 80% of the time series. Then Prophet uses the prior $\\boldsymbol{\\delta}\\sim\\text{Laplace}(0,\\tau)$, where $\\tau$ controls the flexibility of the trend model. The [Laplace distribution](https://en.wikipedia.org/wiki/Laplace_distribution) is used here due to its concentration to its location, making $\\boldsymbol{\\delta}$ favours 0. Such a sparse vector ensures most of the candidates are not going to be used. The larger $\\tau$ is, the less sparse $\\boldsymbol{\\delta}$ is and the more flexible the trend model is."
   ]
  },
  {
   "cell_type": "markdown",
   "id": "53d4b711-56d2-4399-999f-ea5434e36ff8",
   "metadata": {},
   "source": [
    "### Seasonality component\n",
    "Prophet relies on [Fourier series](https://en.wikipedia.org/wiki/Fourier_series) to provide a flexible model of periodic effects. Let $m$ be the period we expect the time series to have (e.g. $m=365.25$ for yearly data, $m=7$ for weekly data when our time series is given in days). The formula for seasonality at time $t$ is approximated with a standard Fourier series:\n",
    "\n",
    "$$s(t)=\\sum_{n=1}^{N}{\\left(a_n\\cos\\frac{2\\pi nt}{m}+b_n\\sin\\frac{2\\pi nt}{m}\\right)}$$\n",
    "\n",
    "Fitting seasonality is the process of estimating $2N$ parameters $\\boldsymbol{\\beta}=(a_1,b_1,a_2,b_2,\\dots,a_N,b_N)$. Prophet takes $\\boldsymbol{\\beta}\\sim\\text{Normal}(0,\\sigma^2)$ to impose a smoothing prior on the seasonality. When $N$ is too large, seasonal patterns may change very quickly and thus we risk overfitting. In practice, selecting $N=3$ for weekly seasonality and $N=10$ for yearly seasonality is a good rule of thumb. Optimal value for $N$ can also be found via model selection procedure that minimizes AIC."
   ]
  },
  {
   "cell_type": "markdown",
   "id": "93592347-49b3-433a-a4d4-0762934ddf78",
   "metadata": {},
   "source": [
    "### Holidays and events\n",
    "Holidays and events cause large, non-periodic but somewhat predictable shocks to business time series. Prophet assumes that not only a holiday, but also other days surrounding it, have effects on our time series. let's say at holiday number $i$, denote $D_i$ the window which specifies the surrounding days and $\\kappa_i$ the coefficient attached to the corresponding window. The holiday model is given by:\n",
    "\n",
    "$$h(t)=\\mathbf{Z}(t)\\boldsymbol{\\kappa}$$\n",
    "\n",
    "where:\n",
    "- $\\mathbf{Z}(t)=[\\mathbf{1}_{t\\in D_1},\\dots,\\mathbf{1}_{t\\in D_I}]$ is the matrix of regressors\n",
    "- $\\boldsymbol{\\kappa}$ is the vector of coefficients, the prior is $\\boldsymbol{\\kappa}\\sim\\text{Normal}(0,\\nu^2)$"
   ]
  },
  {
   "cell_type": "markdown",
   "id": "0047f23a-53c3-47e4-b543-a38353221a53",
   "metadata": {},
   "source": [
    "## 4.2. Implementation"
   ]
  },
  {
   "cell_type": "markdown",
   "id": "03db12fc-b4c1-4972-b4f2-fa14e22375d0",
   "metadata": {},
   "source": [
    "### Hyperparameters tuning\n",
    "- <code style='font-size:13px; color:#BA2121'>growth</code>: the type of trend, linear or saturating, defaults to *linear*. The other option is *logistic*.\n",
    "- <code style='font-size:13px; color:#BA2121'>changepoints</code>: a custom list of dates provided by analysts when change-points happen, defaults to *None*.\n",
    "- <code style='font-size:13px; color:#BA2121'>n_changepoints</code>: the number of initial change-points, defaults to *25*.\n",
    "- <code style='font-size:13px; color:#BA2121'>changepoint_range</code>: the proportion of history data in which potential change-points are initialized on, defaults to *0.8* (for the first 80% historical data).\n",
    "- <code style='font-size:13px; color:#BA2121'>changepoint_prior_scale</code>: the value of $\\tau$, defaults to *0.05*. Larger values allow more change-points but can lead to overfitting.\n",
    "- <code style='font-size:13px; color:#BA2121'>yearly_seasonality</code>\n",
    "<code style='font-size:13px; color:#BA2121'>weekly_seasonality</code>\n",
    "<code style='font-size:13px; color:#BA2121'>daily_seasonality</code>: how the respective seasonality is fitted, all default to *auto*. Other options are *True*, *False* or an integer representing $N$.\n",
    "- <code style='font-size:13px; color:#BA2121'>seasonality_mode</code>: the type of seasonality model, defaults to *additive*. The other option is *multiplicative*.\n",
    "- <code style='font-size:13px; color:#BA2121'>holidays_prior_scale</code>: the value of $\\nu$, defaults to *10*. This parameter indicates the strength of the holiday model, reducing it dampens holiday effects."
   ]
  },
  {
   "cell_type": "code",
   "execution_count": 44,
   "id": "234ab20d-ab5f-4edf-8cc9-a54494876e58",
   "metadata": {
    "execution": {
     "iopub.execute_input": "2022-06-22T00:59:35.441086Z",
     "iopub.status.busy": "2022-06-22T00:59:35.440721Z",
     "iopub.status.idle": "2022-06-22T00:59:35.453236Z",
     "shell.execute_reply": "2022-06-22T00:59:35.452154Z",
     "shell.execute_reply.started": "2022-06-22T00:59:35.441061Z"
    },
    "tags": []
   },
   "outputs": [],
   "source": [
    "import numpy as np\n",
    "import pandas as pd\n",
    "\n",
    "import matplotlib.pyplot as plt\n",
    "plt.style.use(['seaborn', 'seaborn-whitegrid'])\n",
    "%config InlineBackend.figure_format = 'retina'\n",
    "\n",
    "from prophet import Prophet as FBProphet\n",
    "from sktime.forecasting.fbprophet import Prophet\n",
    "\n",
    "from sklearn.metrics import mean_squared_error as MSE, mean_absolute_error as MAE, r2_score as R2\n",
    "\n",
    "import warnings; warnings.filterwarnings('ignore')"
   ]
  },
  {
   "cell_type": "code",
   "execution_count": 29,
   "id": "175d164b-4ed0-46a3-a214-e0b653aad7e3",
   "metadata": {
    "execution": {
     "iopub.execute_input": "2022-06-22T00:50:22.817456Z",
     "iopub.status.busy": "2022-06-22T00:50:22.817099Z",
     "iopub.status.idle": "2022-06-22T00:50:22.829538Z",
     "shell.execute_reply": "2022-06-22T00:50:22.828810Z",
     "shell.execute_reply.started": "2022-06-22T00:50:22.817430Z"
    },
    "tags": []
   },
   "outputs": [
    {
     "data": {
      "text/plain": [
       "date\n",
       "2019-10-28    379.490000\n",
       "2019-10-29    669.510000\n",
       "2019-10-30    337.170000\n",
       "2019-10-31    603.740000\n",
       "2019-11-01      0.000001\n",
       "                 ...    \n",
       "2020-02-03    119.320000\n",
       "2020-02-04      0.000000\n",
       "2020-02-05    303.440000\n",
       "2020-02-06    553.960000\n",
       "2020-02-07    608.800000\n",
       "Freq: D, Name: quantity, Length: 103, dtype: float64"
      ]
     },
     "execution_count": 29,
     "metadata": {},
     "output_type": "execute_result"
    }
   ],
   "source": [
    "dfQty = pd.read_csv('data/purchase_quantity.csv')\n",
    "dfQty = dfQty.assign(date=dfQty.date.astype('datetime64'))\n",
    "# dfQty = dfQty.rename(columns={'date': 'ds', 'quantity': 'y'})\n",
    "sQty = dfQty.set_index('date').asfreq('d').quantity.fillna(1e-6)\n",
    "sQty"
   ]
  },
  {
   "cell_type": "code",
   "execution_count": 3,
   "id": "7b22aa76-397c-47ed-a1f3-a9bd60d402b0",
   "metadata": {
    "execution": {
     "iopub.execute_input": "2022-06-21T23:52:04.157866Z",
     "iopub.status.busy": "2022-06-21T23:52:04.157427Z",
     "iopub.status.idle": "2022-06-21T23:52:06.040002Z",
     "shell.execute_reply": "2022-06-21T23:52:06.039277Z",
     "shell.execute_reply.started": "2022-06-21T23:52:04.157826Z"
    },
    "tags": []
   },
   "outputs": [
    {
     "name": "stderr",
     "output_type": "stream",
     "text": [
      "INFO:numexpr.utils:NumExpr defaulting to 8 threads.\n"
     ]
    },
    {
     "data": {
      "text/plain": [
       "<prophet.forecaster.Prophet at 0x7f843acebeb0>"
      ]
     },
     "execution_count": 3,
     "metadata": {},
     "output_type": "execute_result"
    }
   ],
   "source": [
    "model = Prophet(daily_seasonality=True, yearly_seasonality=True)\n",
    "model.fit(dfQty)"
   ]
  },
  {
   "cell_type": "code",
   "execution_count": 31,
   "id": "7783e664-2c88-4e54-9505-77ea7ecd0a42",
   "metadata": {
    "execution": {
     "iopub.execute_input": "2022-06-22T00:50:38.722936Z",
     "iopub.status.busy": "2022-06-22T00:50:38.722412Z",
     "iopub.status.idle": "2022-06-22T00:50:38.727681Z",
     "shell.execute_reply": "2022-06-22T00:50:38.726461Z",
     "shell.execute_reply.started": "2022-06-22T00:50:38.722904Z"
    },
    "tags": []
   },
   "outputs": [],
   "source": [
    "nTest = 30\n",
    "\n",
    "cutEnd = dfQty.shape[0]\n",
    "cutTest = cutEnd - nTest\n",
    "\n",
    "xTest, yTest = sQty[:cutTest], sQty[cutTest:]"
   ]
  },
  {
   "cell_type": "code",
   "execution_count": 32,
   "id": "c4d79d6a-d5ce-41dc-baa6-a369423fae1e",
   "metadata": {
    "execution": {
     "iopub.execute_input": "2022-06-22T00:50:40.572122Z",
     "iopub.status.busy": "2022-06-22T00:50:40.571709Z",
     "iopub.status.idle": "2022-06-22T00:50:40.642588Z",
     "shell.execute_reply": "2022-06-22T00:50:40.641771Z",
     "shell.execute_reply.started": "2022-06-22T00:50:40.572093Z"
    },
    "tags": []
   },
   "outputs": [
    {
     "name": "stderr",
     "output_type": "stream",
     "text": [
      "INFO:prophet:Disabling yearly seasonality. Run prophet with yearly_seasonality=True to override this.\n",
      "INFO:prophet:Disabling daily seasonality. Run prophet with daily_seasonality=True to override this.\n"
     ]
    }
   ],
   "source": [
    "model = Prophet()\n",
    "model = model.fit(xTest)"
   ]
  },
  {
   "cell_type": "code",
   "execution_count": 35,
   "id": "15f33936-c6be-452a-817e-80edb4af3361",
   "metadata": {
    "execution": {
     "iopub.execute_input": "2022-06-22T00:53:14.035237Z",
     "iopub.status.busy": "2022-06-22T00:53:14.034788Z",
     "iopub.status.idle": "2022-06-22T00:53:15.324754Z",
     "shell.execute_reply": "2022-06-22T00:53:15.324095Z",
     "shell.execute_reply.started": "2022-06-22T00:53:14.035206Z"
    },
    "tags": []
   },
   "outputs": [
    {
     "data": {
      "text/plain": [
       "2020-02-08    170.349775\n",
       "2020-02-09    105.395430\n",
       "2020-02-10    193.663917\n",
       "2020-02-11    299.418682\n",
       "2020-02-12    196.205274\n",
       "2020-02-13    226.190119\n",
       "dtype: float64"
      ]
     },
     "execution_count": 35,
     "metadata": {},
     "output_type": "execute_result"
    }
   ],
   "source": [
    "model.predict(fh=np.arange(1,7))"
   ]
  },
  {
   "cell_type": "code",
   "execution_count": 37,
   "id": "08c068b0-93b6-4229-8e6b-278425a285b9",
   "metadata": {
    "execution": {
     "iopub.execute_input": "2022-06-22T00:53:51.661876Z",
     "iopub.status.busy": "2022-06-22T00:53:51.661444Z",
     "iopub.status.idle": "2022-06-22T00:53:54.551765Z",
     "shell.execute_reply": "2022-06-22T00:53:54.551089Z",
     "shell.execute_reply.started": "2022-06-22T00:53:51.661839Z"
    },
    "tags": []
   },
   "outputs": [
    {
     "data": {
      "text/html": [
       "<div>\n",
       "<style scoped>\n",
       "    .dataframe tbody tr th:only-of-type {\n",
       "        vertical-align: middle;\n",
       "    }\n",
       "\n",
       "    .dataframe tbody tr th {\n",
       "        vertical-align: top;\n",
       "    }\n",
       "\n",
       "    .dataframe thead tr th {\n",
       "        text-align: left;\n",
       "    }\n",
       "</style>\n",
       "<table border=\"1\" class=\"dataframe\">\n",
       "  <thead>\n",
       "    <tr>\n",
       "      <th></th>\n",
       "      <th colspan=\"4\" halign=\"left\">Coverage</th>\n",
       "    </tr>\n",
       "    <tr>\n",
       "      <th></th>\n",
       "      <th colspan=\"2\" halign=\"left\">0.05</th>\n",
       "      <th colspan=\"2\" halign=\"left\">0.10</th>\n",
       "    </tr>\n",
       "    <tr>\n",
       "      <th></th>\n",
       "      <th>lower</th>\n",
       "      <th>upper</th>\n",
       "      <th>lower</th>\n",
       "      <th>upper</th>\n",
       "    </tr>\n",
       "  </thead>\n",
       "  <tbody>\n",
       "    <tr>\n",
       "      <th>2020-02-08</th>\n",
       "      <td>153.736828</td>\n",
       "      <td>183.750646</td>\n",
       "      <td>143.107235</td>\n",
       "      <td>199.260890</td>\n",
       "    </tr>\n",
       "    <tr>\n",
       "      <th>2020-02-09</th>\n",
       "      <td>100.295780</td>\n",
       "      <td>133.267656</td>\n",
       "      <td>62.129606</td>\n",
       "      <td>120.673937</td>\n",
       "    </tr>\n",
       "    <tr>\n",
       "      <th>2020-02-10</th>\n",
       "      <td>177.556500</td>\n",
       "      <td>203.243110</td>\n",
       "      <td>182.619010</td>\n",
       "      <td>240.438645</td>\n",
       "    </tr>\n",
       "    <tr>\n",
       "      <th>2020-02-11</th>\n",
       "      <td>270.869061</td>\n",
       "      <td>306.242832</td>\n",
       "      <td>265.075342</td>\n",
       "      <td>327.718608</td>\n",
       "    </tr>\n",
       "    <tr>\n",
       "      <th>2020-02-12</th>\n",
       "      <td>177.785264</td>\n",
       "      <td>201.907380</td>\n",
       "      <td>155.669653</td>\n",
       "      <td>219.028172</td>\n",
       "    </tr>\n",
       "    <tr>\n",
       "      <th>2020-02-13</th>\n",
       "      <td>211.893566</td>\n",
       "      <td>242.794435</td>\n",
       "      <td>187.795694</td>\n",
       "      <td>251.244370</td>\n",
       "    </tr>\n",
       "  </tbody>\n",
       "</table>\n",
       "</div>"
      ],
      "text/plain": [
       "              Coverage                                    \n",
       "                  0.05                    0.10            \n",
       "                 lower       upper       lower       upper\n",
       "2020-02-08  153.736828  183.750646  143.107235  199.260890\n",
       "2020-02-09  100.295780  133.267656   62.129606  120.673937\n",
       "2020-02-10  177.556500  203.243110  182.619010  240.438645\n",
       "2020-02-11  270.869061  306.242832  265.075342  327.718608\n",
       "2020-02-12  177.785264  201.907380  155.669653  219.028172\n",
       "2020-02-13  211.893566  242.794435  187.795694  251.244370"
      ]
     },
     "execution_count": 37,
     "metadata": {},
     "output_type": "execute_result"
    }
   ],
   "source": [
    "model.predict_interval(fh=np.arange(1,7), coverage=[0.05, 0.1])"
   ]
  },
  {
   "cell_type": "code",
   "execution_count": 46,
   "id": "fe7e63cd-dbb3-4465-a4b2-830ef983a3a8",
   "metadata": {
    "execution": {
     "iopub.execute_input": "2022-06-22T01:00:13.612790Z",
     "iopub.status.busy": "2022-06-22T01:00:13.612314Z",
     "iopub.status.idle": "2022-06-22T01:00:13.626913Z",
     "shell.execute_reply": "2022-06-22T01:00:13.625316Z",
     "shell.execute_reply.started": "2022-06-22T01:00:13.612756Z"
    },
    "tags": []
   },
   "outputs": [
    {
     "ename": "TypeError",
     "evalue": "__init__() got an unexpected keyword argument 'add_seasonality'",
     "output_type": "error",
     "traceback": [
      "\u001b[0;31m---------------------------------------------------------------------------\u001b[0m",
      "\u001b[0;31mTypeError\u001b[0m                                 Traceback (most recent call last)",
      "\u001b[0;32m<ipython-input-46-57657621bb4b>\u001b[0m in \u001b[0;36m<module>\u001b[0;34m\u001b[0m\n\u001b[0;32m----> 1\u001b[0;31m \u001b[0mFBProphet\u001b[0m\u001b[0;34m(\u001b[0m\u001b[0madd_seasonality\u001b[0m\u001b[0;34m=\u001b[0m\u001b[0;32mNone\u001b[0m\u001b[0;34m)\u001b[0m\u001b[0;34m\u001b[0m\u001b[0;34m\u001b[0m\u001b[0m\n\u001b[0m",
      "\u001b[0;31mTypeError\u001b[0m: __init__() got an unexpected keyword argument 'add_seasonality'"
     ]
    }
   ],
   "source": [
    "FBProphet(add_seasonality=None)"
   ]
  },
  {
   "cell_type": "code",
   "execution_count": 48,
   "id": "6c9b246e-3f30-4c36-8be5-bc383d8f12dd",
   "metadata": {
    "execution": {
     "iopub.execute_input": "2022-06-22T01:19:52.628206Z",
     "iopub.status.busy": "2022-06-22T01:19:52.627718Z",
     "iopub.status.idle": "2022-06-22T01:19:52.632562Z",
     "shell.execute_reply": "2022-06-22T01:19:52.631408Z",
     "shell.execute_reply.started": "2022-06-22T01:19:52.628175Z"
    },
    "tags": []
   },
   "outputs": [],
   "source": [
    "params = {\n",
    "    'mcmc_samples': [0, 1],\n",
    "    'growth': ['linear', 'logistic'],\n",
    "    'growth_cap': [10],\n",
    "    'n_changepoints': [25],\n",
    "    'changepoint_range': [0.8, 0.9],\n",
    "    'seasonality_mode': ['multiplicative', 'additive'],\n",
    "    'seasonality_prior_scale': [10],\n",
    "    'changepoint_prior_scale': [0.05],\n",
    "}"
   ]
  },
  {
   "cell_type": "markdown",
   "id": "97939748-7e2b-4e8e-9525-5e8e8f90b87e",
   "metadata": {},
   "source": [
    "# AutoForecast"
   ]
  },
  {
   "cell_type": "code",
   "execution_count": 21,
   "id": "e1506990-5820-4ad4-9632-c952286921d0",
   "metadata": {
    "execution": {
     "iopub.execute_input": "2022-07-01T01:54:11.514089Z",
     "iopub.status.busy": "2022-07-01T01:54:11.513737Z",
     "iopub.status.idle": "2022-07-01T01:54:11.527331Z",
     "shell.execute_reply": "2022-07-01T01:54:11.526340Z",
     "shell.execute_reply.started": "2022-07-01T01:54:11.514063Z"
    },
    "tags": []
   },
   "outputs": [],
   "source": [
    "import numpy as np\n",
    "import pandas as pd\n",
    "import datetime as dt\n",
    "from sspipe import p as f, px as p\n",
    "\n",
    "import matplotlib.pyplot as plt\n",
    "import seaborn as sns\n",
    "plt.style.use(['seaborn', 'seaborn-whitegrid'])\n",
    "%config InlineBackend.figure_format = 'retina'\n",
    "\n",
    "from sktime.forecasting.fbprophet import Prophet\n",
    "from sktime.forecasting.arima import AutoARIMA\n",
    "from sktime.forecasting.ets import AutoETS\n",
    "from sktime.forecasting.tbats import TBATS\n",
    "\n",
    "from sklearn.model_selection import ParameterGrid\n",
    "from sklearn.metrics import mean_squared_error as MSE, mean_absolute_error as MAE, r2_score as R2\n",
    "\n",
    "import warnings; warnings.filterwarnings('ignore')"
   ]
  },
  {
   "cell_type": "code",
   "execution_count": 2,
   "id": "a93004af-03c9-4b73-a950-753bd3daeb44",
   "metadata": {
    "execution": {
     "iopub.execute_input": "2022-07-01T00:33:26.571698Z",
     "iopub.status.busy": "2022-07-01T00:33:26.571326Z",
     "iopub.status.idle": "2022-07-01T00:33:26.786466Z",
     "shell.execute_reply": "2022-07-01T00:33:26.785665Z",
     "shell.execute_reply.started": "2022-07-01T00:33:26.571675Z"
    },
    "tags": []
   },
   "outputs": [
    {
     "data": {
      "text/plain": [
       "date\n",
       "2019-10-28    379.490001\n",
       "2019-10-29    669.510001\n",
       "2019-10-30    337.170001\n",
       "2019-10-31    603.740001\n",
       "2019-11-01      0.000001\n",
       "                 ...    \n",
       "2020-02-03    119.320001\n",
       "2020-02-04      0.000001\n",
       "2020-02-05    303.440001\n",
       "2020-02-06    553.960001\n",
       "2020-02-07    608.800001\n",
       "Freq: D, Name: quantity, Length: 103, dtype: float64"
      ]
     },
     "execution_count": 2,
     "metadata": {},
     "output_type": "execute_result"
    }
   ],
   "source": [
    "dfQty = pd.read_csv('data/purchase_quantity.csv')\n",
    "dfQty = dfQty.assign(date=dfQty.date.astype('datetime64'))\n",
    "# dfQty = dfQty.rename(columns={'date': 'ds', 'quantity': 'y'})\n",
    "sQty = dfQty.set_index('date').asfreq('d').quantity.fillna(0)\n",
    "sQty = sQty + 1e-6\n",
    "sQty"
   ]
  },
  {
   "cell_type": "code",
   "execution_count": 3,
   "id": "a4238d42-ce85-432f-93e8-969ca1b71a3b",
   "metadata": {
    "execution": {
     "iopub.execute_input": "2022-07-01T00:33:29.271459Z",
     "iopub.status.busy": "2022-07-01T00:33:29.271094Z",
     "iopub.status.idle": "2022-07-01T00:33:29.275666Z",
     "shell.execute_reply": "2022-07-01T00:33:29.274600Z",
     "shell.execute_reply.started": "2022-07-01T00:33:29.271430Z"
    },
    "tags": []
   },
   "outputs": [],
   "source": [
    "sTrain = sQty[:-7]\n",
    "sTest = sQty[-7:]"
   ]
  },
  {
   "cell_type": "code",
   "execution_count": 9,
   "id": "30a9e35c-f70f-499d-8a47-e0f4593918c1",
   "metadata": {
    "execution": {
     "iopub.execute_input": "2022-07-01T01:41:01.132711Z",
     "iopub.status.busy": "2022-07-01T01:41:01.132293Z",
     "iopub.status.idle": "2022-07-01T01:41:01.137656Z",
     "shell.execute_reply": "2022-07-01T01:41:01.136876Z",
     "shell.execute_reply.started": "2022-07-01T01:41:01.132683Z"
    },
    "tags": []
   },
   "outputs": [],
   "source": [
    "def format_number(num, decimal=2):\n",
    "    power = 0\n",
    "    while True:\n",
    "        base = num / 10**power\n",
    "        if np.abs(base) < 1e3:\n",
    "            break\n",
    "        power += 3\n",
    "    strBase = f'{base:.{decimal}f}'\n",
    "    strPower = f'e{power}' if power > 0 else ''\n",
    "    out = strBase + strPower\n",
    "    return out"
   ]
  },
  {
   "cell_type": "code",
   "execution_count": 10,
   "id": "e7ef5bf4-ce48-4d39-ae3e-f743565d7801",
   "metadata": {
    "execution": {
     "iopub.execute_input": "2022-07-01T01:41:01.139516Z",
     "iopub.status.busy": "2022-07-01T01:41:01.139201Z",
     "iopub.status.idle": "2022-07-01T01:41:01.145503Z",
     "shell.execute_reply": "2022-07-01T01:41:01.144607Z",
     "shell.execute_reply.started": "2022-07-01T01:41:01.139492Z"
    },
    "tags": []
   },
   "outputs": [],
   "source": [
    "def grid_search_series(estimator, paramsGrid, sTrain, sTest):\n",
    "    from sklearn.model_selection import ParameterGrid\n",
    "    from sklearn.metrics import (\n",
    "        mean_squared_error as MSE,\n",
    "        mean_absolute_error as MAE,\n",
    "        r2_score as R2,\n",
    "    )\n",
    "    paramsGrid = ParameterGrid(paramsGrid)\n",
    "    scoreBest = np.inf\n",
    "    for params in paramsGrid:\n",
    "        model = estimator(**params).fit(sTrain)\n",
    "        sTestPred = model.predict(sTest.index)\n",
    "        sTestPred[np.isnan(sTestPred)] = 0\n",
    "        scoreTest = MSE(sTest, sTestPred)\n",
    "        if scoreBest > scoreTest:\n",
    "            scoreBest = scoreTest\n",
    "            modelBest = model\n",
    "    return modelBest"
   ]
  },
  {
   "cell_type": "code",
   "execution_count": 11,
   "id": "a21a9e1b-dd4f-4b94-9301-443ac87ca5f5",
   "metadata": {
    "execution": {
     "iopub.execute_input": "2022-07-01T01:41:01.147827Z",
     "iopub.status.busy": "2022-07-01T01:41:01.147461Z",
     "iopub.status.idle": "2022-07-01T01:41:01.152026Z",
     "shell.execute_reply": "2022-07-01T01:41:01.151261Z",
     "shell.execute_reply.started": "2022-07-01T01:41:01.147798Z"
    },
    "tags": []
   },
   "outputs": [],
   "source": [
    "def optimize_arima(sTrain, sTest, sp):\n",
    "    model = AutoARIMA(\n",
    "        test='kpss', sp=sp,\n",
    "        start_p=0, max_p=7, start_q=0, max_q=5, d=0, max_d=2,\n",
    "        start_P=0, max_P=5, start_Q=0, max_Q=5, D=0, max_D=2,\n",
    "        suppress_warnings=True,\n",
    "    )\n",
    "    model = model.fit(sTest)\n",
    "    return model"
   ]
  },
  {
   "cell_type": "code",
   "execution_count": 12,
   "id": "d187d3b0-44ba-41ac-88ad-554da256bc4b",
   "metadata": {
    "execution": {
     "iopub.execute_input": "2022-07-01T01:41:01.153813Z",
     "iopub.status.busy": "2022-07-01T01:41:01.153516Z",
     "iopub.status.idle": "2022-07-01T01:41:01.157726Z",
     "shell.execute_reply": "2022-07-01T01:41:01.156895Z",
     "shell.execute_reply.started": "2022-07-01T01:41:01.153790Z"
    },
    "tags": []
   },
   "outputs": [],
   "source": [
    "def optimize_ets(sTrain, sTest, sp):\n",
    "    paramsGrid = {\n",
    "        'error': ['add', 'mul'],\n",
    "        'trend': ['add', 'mul'],\n",
    "        'seasonal': ['add', 'mul'],\n",
    "        'damped_trend': [True, False],\n",
    "        'sp': [sp],\n",
    "    }\n",
    "    model = grid_search_series(AutoETS, paramsGrid, sTrain, sTest)\n",
    "    return model"
   ]
  },
  {
   "cell_type": "code",
   "execution_count": 13,
   "id": "24ac3faf-bbac-4e67-b4ab-8614b14ed557",
   "metadata": {
    "execution": {
     "iopub.execute_input": "2022-07-01T01:41:01.159182Z",
     "iopub.status.busy": "2022-07-01T01:41:01.158852Z",
     "iopub.status.idle": "2022-07-01T01:41:01.163452Z",
     "shell.execute_reply": "2022-07-01T01:41:01.162418Z",
     "shell.execute_reply.started": "2022-07-01T01:41:01.159156Z"
    },
    "tags": []
   },
   "outputs": [],
   "source": [
    "def optimize_tbats(sTrain, sTest, sp):\n",
    "    paramsGrid = {\n",
    "        'use_box_cox': [True, False],\n",
    "        'use_trend': [True, False],\n",
    "        'use_damped_trend': [True, False],\n",
    "        'use_arma_errors': [True, False],\n",
    "        'sp': [sp],\n",
    "    }\n",
    "    model = grid_search_series(TBATS, paramsGrid, sTrain, sTest)\n",
    "    return model"
   ]
  },
  {
   "cell_type": "code",
   "execution_count": 29,
   "id": "fd76dc4f-9318-4fc4-af33-9a3d3fa340a5",
   "metadata": {
    "execution": {
     "iopub.execute_input": "2022-07-01T01:57:19.453238Z",
     "iopub.status.busy": "2022-07-01T01:57:19.451856Z",
     "iopub.status.idle": "2022-07-01T01:57:19.457758Z",
     "shell.execute_reply": "2022-07-01T01:57:19.457004Z",
     "shell.execute_reply.started": "2022-07-01T01:57:19.453199Z"
    },
    "tags": []
   },
   "outputs": [],
   "source": [
    "def optimize_prophet(sTrain, sTest, sp):\n",
    "    paramsGrid = {\n",
    "        'mcmc_samples': [0, 1],\n",
    "        'growth': ['linear', 'logistic'],\n",
    "        # 'growth_cap': [10],\n",
    "        'n_changepoints': [25],\n",
    "        'changepoint_range': [0.8, 0.9],\n",
    "        'seasonality_mode': ['multiplicative', 'additive'],\n",
    "        'seasonality_prior_scale': [10],\n",
    "        'changepoint_prior_scale': [0.05],\n",
    "    }\n",
    "    model = grid_search_series(Prophet, paramsGrid, sTrain, sTest)\n",
    "    return model"
   ]
  },
  {
   "cell_type": "code",
   "execution_count": 49,
   "id": "05cc6bb0-3c53-4edd-87ff-7d4589cca487",
   "metadata": {
    "execution": {
     "iopub.execute_input": "2022-06-30T18:22:47.969124Z",
     "iopub.status.busy": "2022-06-30T18:22:47.968714Z",
     "iopub.status.idle": "2022-06-30T18:22:47.981093Z",
     "shell.execute_reply": "2022-06-30T18:22:47.980408Z",
     "shell.execute_reply.started": "2022-06-30T18:22:47.969094Z"
    },
    "tags": []
   },
   "outputs": [
    {
     "data": {
      "text/plain": [
       "date\n",
       "2019-10-28    379.490001\n",
       "2019-10-29    669.510001\n",
       "2019-10-30    337.170001\n",
       "2019-10-31    603.740001\n",
       "2019-11-01      0.000001\n",
       "                 ...    \n",
       "2020-01-23      0.000001\n",
       "2020-01-24      0.000001\n",
       "2020-01-25      0.000001\n",
       "2020-01-26      0.000001\n",
       "2020-01-27      0.000001\n",
       "Freq: D, Name: quantity, Length: 92, dtype: float64"
      ]
     },
     "execution_count": 49,
     "metadata": {},
     "output_type": "execute_result"
    }
   ],
   "source": [
    "sTrain[:'2020-01-27']"
   ]
  },
  {
   "cell_type": "code",
   "execution_count": 30,
   "id": "4519c431-025e-40ce-b194-87ba3c82e056",
   "metadata": {
    "execution": {
     "iopub.execute_input": "2022-07-01T01:57:22.260359Z",
     "iopub.status.busy": "2022-07-01T01:57:22.259990Z",
     "iopub.status.idle": "2022-07-01T01:57:22.275949Z",
     "shell.execute_reply": "2022-07-01T01:57:22.275244Z",
     "shell.execute_reply.started": "2022-07-01T01:57:22.260333Z"
    },
    "tags": []
   },
   "outputs": [],
   "source": [
    "class AutoForecast():\n",
    "    def __init__(self, ts, estimator='ETS', nTest=7, nInfer=7, sp=7, beginForecast=None, forcePositive=True): \n",
    "        self.series = ts\n",
    "        self.estimator = estimator.upper()\n",
    "        self.nTest = nTest\n",
    "        self.nInfer = nInfer\n",
    "        self.sp = sp\n",
    "        self.beginForecast = beginForecast\n",
    "        self.forcePositive = forcePositive\n",
    "        \n",
    "        if self.beginForecast is not None:\n",
    "            sSeen = self.series[:beginForecast]\n",
    "        else:\n",
    "            sSeen = self.series\n",
    "            \n",
    "        self.sTrain = sSeen[:-nTest]\n",
    "        self.sTest = sSeen[-nTest:]\n",
    "        self.fhTest = np.arange(1, self.nTest + 1)\n",
    "        \n",
    "        start = dt.datetime.now()\n",
    "        \n",
    "        if self.estimator == 'ARIMA':\n",
    "            self.model = optimize_arima(self.sTrain, self.sTest, self.sp)\n",
    "        if self.estimator == 'ETS':\n",
    "            self.model = optimize_ets(self.sTrain, self.sTest, self.sp)\n",
    "        if self.estimator == 'TBATS':\n",
    "            self.model = optimize_tbats(self.sTrain, self.sTest, self.sp)\n",
    "        if self.estimator == 'PROPHET':\n",
    "            self.model = optimize_prophet(self.sTrain, self.sTest, self.sp)        \n",
    "                    \n",
    "        print(dt.datetime.now() - start)\n",
    "        \n",
    "    \n",
    "    def forecast(self, nInfer=7, gamma=(0.95, 0.99)):\n",
    "        fhInfer = np.arange(1, self.nTest + nInfer + 1)\n",
    "        dfCi = self.model.predict_interval(fhInfer, coverage=gamma)\n",
    "        if self.forcePositive:\n",
    "            dfCi = dfCi.clip(lower=0)\n",
    "        dfCi.columns = [f'{bound}_{int(ci*100)}' for ci in gamma for bound in ['lower', 'upper']]\n",
    "        dfForecast = self.model.predict(fhInfer).rename('forecast').to_frame()\n",
    "        dfForecast = dfForecast.join(dfCi)\n",
    "        dfForecast = dfForecast.join(self.series.rename('true'))\n",
    "        dfForecast['run_date'] = dt.date.today()\n",
    "        return dfForecast\n",
    "    \n",
    "    def plot_forecast(self, nInfer=7, gamma=(0.95, 0.99)):\n",
    "        sTestPred = self.model.predict(self.fhTest)\n",
    "        rmse = MSE(self.sTest, sTestPred, squared=False) | f(format_number)\n",
    "        mae = MAE(self.sTest, sTestPred) | f(format_number)\n",
    "        r2 = R2(self.sTest, sTestPred) | f(format_number)\n",
    "        try: \n",
    "            modelDetail = self.model.summary().tables[0][1][1].data\n",
    "        except:\n",
    "            modelDetail = self.estimator\n",
    "        title = f'{modelDetail} | RMSE={rmse} | MAE={mae} | R2={r2}'\n",
    "        \n",
    "        dfForecast = self.forecast(nInfer, gamma)\n",
    "\n",
    "        fig, ax = plt.subplots(figsize=(18,6))\n",
    "        ax.plot(dfForecast.true[:self.nTest], color='teal', label='True, seen')\n",
    "        ax.plot(dfForecast.true[self.nTest-1:], color='indianred', label='True, not seen')\n",
    "        ax.plot(dfForecast.forecast, '--', c='grey', label='Forecast')\n",
    "        for ci in gamma:\n",
    "            opacity = 1 - ci + 0.05\n",
    "            strCi = int(ci*100)\n",
    "            lower, upper = dfForecast[f'lower_{strCi}'], dfForecast[f'upper_{strCi}']\n",
    "            ax.fill_between(dfForecast.index, lower, upper, color='grey', alpha=opacity, label=f'CI {strCi}%')\n",
    "        ax.legend(bbox_to_anchor=(1, 0.5), loc='center left')\n",
    "        ax.set_title(title, fontsize=14)\n",
    "        \n",
    "        plt.show()"
   ]
  },
  {
   "cell_type": "code",
   "execution_count": 32,
   "id": "3c9456c0-cd2e-4c14-bc48-bd47c15aa0e7",
   "metadata": {
    "execution": {
     "iopub.execute_input": "2022-07-01T01:59:10.755254Z",
     "iopub.status.busy": "2022-07-01T01:59:10.754865Z",
     "iopub.status.idle": "2022-07-01T02:00:47.676168Z",
     "shell.execute_reply": "2022-07-01T02:00:47.675235Z",
     "shell.execute_reply.started": "2022-07-01T01:59:10.755225Z"
    },
    "tags": []
   },
   "outputs": [
    {
     "name": "stdout",
     "output_type": "stream",
     "text": [
      "0:01:36.656312\n"
     ]
    },
    {
     "data": {
      "image/png": "[encoded data removed]",
      "text/plain": [
       "<Figure size 1296x432 with 1 Axes>"
      ]
     },
     "metadata": {
      "image/png": {
       "height": 373,
       "width": 1158
      }
     },
     "output_type": "display_data"
    }
   ],
   "source": [
    "m = AutoForecast(sTrain, estimator='tbats', sp=30)\n",
    "m.plot_forecast()"
   ]
  },
  {
   "cell_type": "code",
   "execution_count": 57,
   "id": "eaa98026-9eda-41f4-b295-bd701729cb6b",
   "metadata": {
    "execution": {
     "iopub.execute_input": "2022-06-22T01:25:56.289112Z",
     "iopub.status.busy": "2022-06-22T01:25:56.288798Z",
     "iopub.status.idle": "2022-06-22T01:25:56.306680Z",
     "shell.execute_reply": "2022-06-22T01:25:56.305962Z",
     "shell.execute_reply.started": "2022-06-22T01:25:56.289090Z"
    },
    "tags": []
   },
   "outputs": [],
   "source": [
    "class AutoForecast():\n",
    "    def __init__(self, ts, estimator='ETS', nTest=7, nInfer=7, sp=7, beginForecast=None, forcePositive=True): \n",
    "        self.series = ts\n",
    "        self.estimator = estimator.upper()\n",
    "        self.nTest = nTest\n",
    "        self.nInfer = nInfer\n",
    "        self.sp = sp\n",
    "        self.beginForecast = T\n",
    "        self.forcePositive = forcePositive\n",
    "\n",
    "        lastDay = self.series.index[-1]\n",
    "        delta = (lastDay.weekday() + 1) % 7\n",
    "        lastSunday = lastDay - dt.timedelta(days=delta)\n",
    "        self.seriesRounded = self.series[:lastSunday]\n",
    "        \n",
    "        cutEnd = self.seriesRounded.shape[0]\n",
    "        cutTest = cutEnd - self.nTest\n",
    "        self.xTest = self.seriesRounded[:cutTest]\n",
    "        self.yTest = self.seriesRounded[cutTest:cutEnd]\n",
    "        self.horizonTest = np.arange(1, self.nTest + 1)\n",
    "        self.horizonInfer = np.arange(1, self.nTest + self.nInfer + 1)\n",
    "        \n",
    "        start = dt.datetime.now()\n",
    "        \n",
    "        if self.estimator == 'ARIMA':\n",
    "            model = AutoARIMA(\n",
    "                test='kpss', sp=7,\n",
    "                start_p=0, max_p=7, start_q=0, max_q=5, d=0, max_d=2,\n",
    "                start_P=0, max_P=5, start_Q=0, max_Q=5, D=0, max_D=2,\n",
    "                suppress_warnings=True,\n",
    "            )\n",
    "            self.model = model.fit(self.xTest)\n",
    "            self.yTestPred = model.predict(self.horizonTest)\n",
    "            \n",
    "        if self.estimator == 'ETS':\n",
    "            paramsGrid = ParameterGrid({\n",
    "                'error': ['add', 'mul'],\n",
    "                'trend': ['add', 'mul'],\n",
    "                'seasonal': ['add', 'mul'],\n",
    "                'damped_trend': [True, False],\n",
    "            })\n",
    "\n",
    "            rmseBest = np.inf\n",
    "            for params in paramsGrid:\n",
    "                model = AutoETS(**params, sp=self.nTest, auto=False, suppress_warnings=True).fit(self.xTest)\n",
    "                yTestPred = model.predict(self.horizonTest)\n",
    "                yTestPred[np.isnan(yTestPred)] = 0\n",
    "                rmseTest = MSE(self.yTest, yTestPred, squared=False) / 1e9\n",
    "                if rmseTest < rmseBest:\n",
    "                    rmseBest = rmseTest\n",
    "                    self.model = model\n",
    "                    self.yTestPred = yTestPred\n",
    "        \n",
    "        if self.estimator == 'PROPHET':\n",
    "            params = ParameterGrid({\n",
    "                'mcmc_samples': [0, 1],\n",
    "                'growth': ['linear', 'logistic'],\n",
    "                'growth_cap': [10],\n",
    "                'n_changepoints': [25],\n",
    "                'changepoint_range': [0.8, 0.9],\n",
    "                'seasonality_mode': ['multiplicative', 'additive'],\n",
    "                'seasonality_prior_scale': [10],\n",
    "                'changepoint_prior_scale': [0.05],\n",
    "            })\n",
    "            rmseBest = np.inf\n",
    "            for params in paramsGrid:\n",
    "                model = Prophet(**params).fit(self.xTest)\n",
    "                yTestPred = model.predict(self.horizonTest)\n",
    "                yTestPred[np.isnan(yTestPred)] = 0\n",
    "                rmseTest = MSE(self.yTest, yTestPred, squared=False) / 1e9\n",
    "                if rmseTest < rmseBest:\n",
    "                    rmseBest = rmseTest\n",
    "                    self.model = model\n",
    "                    self.yTestPred = yTestPred\n",
    "                    \n",
    "        print(dt.datetime.now() - start)\n",
    "        \n",
    "    \n",
    "    def forecast(self, horizon=None, gamma=(0.95, 0.99)):\n",
    "        if horizon is None:\n",
    "            horizon = self.horizonInfer\n",
    "        dfCi = self.model.predict_interval(horizon, coverage=self.gammaList)\n",
    "        if self.forcePositive:\n",
    "            dfCi = dfCi.clip(lower=0)\n",
    "        dfCi.columns = [f'{bound}_{int(gamma * 100)}' for gamma in self.gammaList for bound in ['lower', 'upper']]\n",
    "\n",
    "        dfForecast = self.model.predict(horizon).rename('forecast').to_frame()\n",
    "        dfForecast = dfForecast.join(dfCi)\n",
    "        dfForecast = dfForecast.join(self.series.rename('true'))\n",
    "        dfForecast['run_date'] = dt.date.today()\n",
    "\n",
    "        return dfForecast\n",
    "    \n",
    "    def plot(self, horizon=None, gamma=(0.95, 0.99)):\n",
    "        if horizon is None:\n",
    "            horizon = self.horizonInfer\n",
    "        rmse = MSE(self.yTest, self.yTestPred, squared=False)\n",
    "        mae = MAE(self.yTest, self.yTestPred)\n",
    "        r2 = R2(self.yTest, self.yTestPred)\n",
    "        modelDetail = self.model.summary().tables[0][1][1].data\n",
    "        title = f'{modelDetail} | RMSE={format_number(rmse)} | MAE={format_number(mae)} | R2={format_number(r2)}'\n",
    "        \n",
    "        dfForecast = self.forecast(horizon)\n",
    "\n",
    "        fig, ax = plt.subplots(figsize=(18,6))\n",
    "        ax.plot(dfForecast.true[0:self.nTest], color='teal', label='True, seen')\n",
    "        ax.plot(dfForecast.true[self.nTest-1:], color='indianred', label='True, not seen')\n",
    "        ax.plot(dfForecast.forecast, '--', c='grey', label='Forecast')\n",
    "        for ci in self.gammaList:\n",
    "            opacity = 1 - ci + 0.05\n",
    "            strCi = int(ci*100)\n",
    "            lower, upper = dfForecast[f'lower_{strCi}'], dfForecast[f'upper_{strCi}']\n",
    "            ax.fill_between(dfForecast.index, lower, upper, color='grey', alpha=opacity, label=f'CI {strCi}%')\n",
    "        ax.legend(bbox_to_anchor=(1, 0.5), loc='center left')\n",
    "        ax.set_title(title, fontsize=14)\n",
    "        \n",
    "        plt.show()"
   ]
  },
  {
   "cell_type": "markdown",
   "id": "d0b69658-d323-4e9d-9351-01c64a8e9439",
   "metadata": {},
   "source": [
    "# References\n",
    "- [Ebook] [Forecasting: Principles and Practice](https://otexts.com/fpp3/)\n",
    "- [Ebook] [Forecasting and Analytics with Adam](https://www.openforecast.org/adam/)\n",
    "- [Ebook] [STAT 510: Applied Time Series Analysis](https://online.stat.psu.edu/stat510/)\n",
    "- [Paper] [Forecasting time series with complex seasonal patterns using exponential smoothing](https://robjhyndman.com/papers/ComplexSeasonality.pdf)"
   ]
  },
  {
   "cell_type": "markdown",
   "id": "88732114-4c22-44e9-8c0d-45a4fd419bbc",
   "metadata": {},
   "source": [
    "https://github.com/jxx123/fireTS"
   ]
  },
  {
   "cell_type": "markdown",
   "id": "4c4b9918-8737-44a0-a2e6-578b9fd413a1",
   "metadata": {},
   "source": [
    "---\n",
    "*&#9829; By Quang Hung x Thuy Linh &#9829;*"
   ]
  }
 ],
 "metadata": {
  "kernelspec": {
   "display_name": "Python 3",
   "language": "python",
   "name": "python3"
  },
  "language_info": {
   "codemirror_mode": {
    "name": "ipython",
    "version": 3
   },
   "file_extension": ".py",
   "mimetype": "text/x-python",
   "name": "python",
   "nbconvert_exporter": "python",
   "pygments_lexer": "ipython3",
   "version": "3.8.8"
  }
 },
 "nbformat": 4,
 "nbformat_minor": 5
}
