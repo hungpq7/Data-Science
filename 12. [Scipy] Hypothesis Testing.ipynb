{
 "cells": [
  {
   "cell_type": "markdown",
   "metadata": {},
   "source": [
    "# 1. Basic concepts\n",
    "Hypothesis testing is a method of statistical inference that tests the validity of a claim about the population, using sample data. Hypothesis testing takes into account the following concepts."
   ]
  },
  {
   "cell_type": "markdown",
   "metadata": {},
   "source": [
    "#### Hypotheses\n",
    "- The *null hypothesis* (denoted $H_0$): the common view whose validity needs to be tested.\n",
    "- The *alternative hypothesis* (denoted $H_1$): what will be believed if $H_0$ is rejected."
   ]
  },
  {
   "cell_type": "markdown",
   "metadata": {},
   "source": [
    "#### Significance level\n",
    "*Significance level* (denoted $\\alpha$) is a pre-selected number ranges from $0$ to $1$, indicates the probability of rejecting the *null hypothesis*. Common values of $\\alpha$ is $0.05$ and $0.01$. A related concept to *significance level* is *confidence level*, $\\gamma$ ($\\gamma=1-\\alpha$)."
   ]
  },
  {
   "cell_type": "markdown",
   "metadata": {},
   "source": [
    "#### Test statistic\n",
    "Being one of the most important factor, *test statistic* is the transformed data that follows a theoretical distribution. Since probability distribution function is known, it allows calculating the probability value, telling which hypothesis is more likely to happen. Each *test statistic* is represented by a fraction where:\n",
    "- The numerator is the power of signal (denoted $P_{signal}$).\n",
    "- The denominator is the power of noise (denoted $P_{noise}$)."
   ]
  },
  {
   "cell_type": "markdown",
   "metadata": {},
   "source": [
    "#### p-value\n",
    "*p-value* is the probability of making type I error - rejecting $H_0$ when it's true. It represents the probability of $H_0$ being true, and when this probability is less than $\\alpha$, $H_0$ should be rejected. The smaller the p-value is, the stronger evidence that $H_0$ should be rejected.\n",
    "- A p-value less than $0.05$ indicates the difference is significant, meaning there is a probability of less than $5%$ that the null hypothesis is correct. Therefore, $H_0$ is rejected and $H_1$ is accepted.\n",
    "- A p-value higher than $0.05$ indicates the difference is not significant. In this case, $H_1$ is rejected but $H_0$ is failed to be rejected."
   ]
  },
  {
   "cell_type": "markdown",
   "metadata": {},
   "source": [
    "#### Descriptive statistics\n",
    "For populations:\n",
    "- $N$: population size\n",
    "- $\\mu$: population mean\n",
    "- $\\sigma$: population standard deviation\n",
    "- $\\sigma^2$: population variance\n",
    "- $p$: propotion of successes in population\n",
    "\n",
    "For samples\n",
    "- $n$: sample size\n",
    "- $\\hat\\mu$ or $\\bar x$: sample mean\n",
    "- $\\hat\\sigma$ or $SD$: sample standard deviation\n",
    "- $\\hat\\sigma^2$ or $s^2$: sample variance\n",
    "- $\\hat p$: propotion of successes in sample\n",
    "- $SE_{\\mu}$: standard error of mean\n",
    "- $SE_p$: standard error of proportion"
   ]
  },
  {
   "cell_type": "markdown",
   "metadata": {},
   "source": [
    "# Hypothesis testing summary\n",
    "Type  |Usage| Test statistic             \n",
    ":----------|:--------------|:--------------------------\n",
    "Z-test|1. Comparing the means of 1 or 2 populations <br> 2. Comparing the proportions of 1 or 2 populations|$Z$|\n",
    "F-test|Comparing the variances of 2 populations|$F$|\n",
    "T-test|Comparing the means of 1 or 2 populations|$T$|\n",
    "Chi-squared test|1. Comparing the propotions of 3 or more populations <br> 2. Testing of qualitative variables replationship|$\\chi^2$|\n",
    "ANOVA|Comparing the means of 3 population or more|$F$|\n",
    "KS test|Testing of distribution|$D$|"
   ]
  },
  {
   "cell_type": "markdown",
   "metadata": {
    "id": "ug6QBWgviuiz"
   },
   "source": [
    "# 1. Z-test\n",
    "Usage:\n",
    "- Comparing the means of one or two populations\n",
    "- Comparing the propotions of one or two populations\n",
    "\n",
    "Assumptions:\n",
    "- Populations are normally distributed\n",
    "- Samples are random and must have more than 30 observations\n",
    "- Population variances are known (only in mean z-test)"
   ]
  },
  {
   "cell_type": "code",
   "execution_count": 1,
   "metadata": {
    "colab": {
     "base_uri": "https://localhost:8080/"
    },
    "id": "5aGY_tGzipDo",
    "outputId": "bbbdb553-91da-4702-b87c-ede2a9346878"
   },
   "outputs": [],
   "source": [
    "import math\n",
    "import numpy as np\n",
    "import pandas as pd\n",
    "from statsmodels.stats.weightstats import ztest\n",
    "from scipy import stats\n",
    "\n",
    "from collections import namedtuple"
   ]
  },
  {
   "cell_type": "code",
   "execution_count": 3,
   "metadata": {
    "colab": {
     "base_uri": "https://localhost:8080/",
     "height": 224
    },
    "id": "fs_rCPNBP-UF",
    "outputId": "df4e484a-2a39-46ef-a887-5a2e09ee2c1e"
   },
   "outputs": [
    {
     "data": {
      "text/html": [
       "<div>\n",
       "<style scoped>\n",
       "    .dataframe tbody tr th:only-of-type {\n",
       "        vertical-align: middle;\n",
       "    }\n",
       "\n",
       "    .dataframe tbody tr th {\n",
       "        vertical-align: top;\n",
       "    }\n",
       "\n",
       "    .dataframe thead th {\n",
       "        text-align: right;\n",
       "    }\n",
       "</style>\n",
       "<table border=\"1\" class=\"dataframe\">\n",
       "  <thead>\n",
       "    <tr style=\"text-align: right;\">\n",
       "      <th></th>\n",
       "      <th>Code</th>\n",
       "      <th>area</th>\n",
       "      <th>gender</th>\n",
       "      <th>age</th>\n",
       "      <th>age_group</th>\n",
       "      <th>year_of_school</th>\n",
       "      <th>degree</th>\n",
       "      <th>job</th>\n",
       "      <th>know_english</th>\n",
       "      <th>know_france</th>\n",
       "      <th>...</th>\n",
       "      <th>flight_date</th>\n",
       "      <th>flight_status</th>\n",
       "      <th>professionally_staff</th>\n",
       "      <th>customer_service</th>\n",
       "      <th>diversity_product</th>\n",
       "      <th>good_price</th>\n",
       "      <th>easily_transaction</th>\n",
       "      <th>goodlooking_staff</th>\n",
       "      <th>diversity_flighttime</th>\n",
       "      <th>good_construction</th>\n",
       "    </tr>\n",
       "  </thead>\n",
       "  <tbody>\n",
       "    <tr>\n",
       "      <th>0</th>\n",
       "      <td>1</td>\n",
       "      <td>central</td>\n",
       "      <td>female</td>\n",
       "      <td>69</td>\n",
       "      <td>middle</td>\n",
       "      <td>16</td>\n",
       "      <td>master</td>\n",
       "      <td>manager</td>\n",
       "      <td>1</td>\n",
       "      <td>1</td>\n",
       "      <td>...</td>\n",
       "      <td>01/05/2013</td>\n",
       "      <td>1</td>\n",
       "      <td>2</td>\n",
       "      <td>2</td>\n",
       "      <td>1</td>\n",
       "      <td>1</td>\n",
       "      <td>2</td>\n",
       "      <td>2</td>\n",
       "      <td>1</td>\n",
       "      <td>1</td>\n",
       "    </tr>\n",
       "    <tr>\n",
       "      <th>1</th>\n",
       "      <td>2</td>\n",
       "      <td>southern</td>\n",
       "      <td>female</td>\n",
       "      <td>50</td>\n",
       "      <td>middle</td>\n",
       "      <td>12</td>\n",
       "      <td>highshool</td>\n",
       "      <td>officer</td>\n",
       "      <td>0</td>\n",
       "      <td>0</td>\n",
       "      <td>...</td>\n",
       "      <td>01/05/2013</td>\n",
       "      <td>1</td>\n",
       "      <td>3</td>\n",
       "      <td>3</td>\n",
       "      <td>3</td>\n",
       "      <td>2</td>\n",
       "      <td>3</td>\n",
       "      <td>3</td>\n",
       "      <td>2</td>\n",
       "      <td>3</td>\n",
       "    </tr>\n",
       "    <tr>\n",
       "      <th>2</th>\n",
       "      <td>3</td>\n",
       "      <td>northern</td>\n",
       "      <td>male</td>\n",
       "      <td>73</td>\n",
       "      <td>elder</td>\n",
       "      <td>12</td>\n",
       "      <td>highshool</td>\n",
       "      <td>officer</td>\n",
       "      <td>1</td>\n",
       "      <td>0</td>\n",
       "      <td>...</td>\n",
       "      <td>01/05/2013</td>\n",
       "      <td>1</td>\n",
       "      <td>2</td>\n",
       "      <td>2</td>\n",
       "      <td>1</td>\n",
       "      <td>2</td>\n",
       "      <td>3</td>\n",
       "      <td>5</td>\n",
       "      <td>1</td>\n",
       "      <td>1</td>\n",
       "    </tr>\n",
       "    <tr>\n",
       "      <th>3</th>\n",
       "      <td>4</td>\n",
       "      <td>northern</td>\n",
       "      <td>female</td>\n",
       "      <td>73</td>\n",
       "      <td>elder</td>\n",
       "      <td>12</td>\n",
       "      <td>highshool</td>\n",
       "      <td>officer</td>\n",
       "      <td>0</td>\n",
       "      <td>0</td>\n",
       "      <td>...</td>\n",
       "      <td>01/05/2013</td>\n",
       "      <td>1</td>\n",
       "      <td>5</td>\n",
       "      <td>3</td>\n",
       "      <td>2</td>\n",
       "      <td>4</td>\n",
       "      <td>5</td>\n",
       "      <td>3</td>\n",
       "      <td>2</td>\n",
       "      <td>2</td>\n",
       "    </tr>\n",
       "    <tr>\n",
       "      <th>4</th>\n",
       "      <td>5</td>\n",
       "      <td>central</td>\n",
       "      <td>male</td>\n",
       "      <td>69</td>\n",
       "      <td>middle</td>\n",
       "      <td>16</td>\n",
       "      <td>master</td>\n",
       "      <td>officer</td>\n",
       "      <td>1</td>\n",
       "      <td>0</td>\n",
       "      <td>...</td>\n",
       "      <td>01/05/2013</td>\n",
       "      <td>0</td>\n",
       "      <td>3</td>\n",
       "      <td>3</td>\n",
       "      <td>3</td>\n",
       "      <td>3</td>\n",
       "      <td>3</td>\n",
       "      <td>3</td>\n",
       "      <td>3</td>\n",
       "      <td>3</td>\n",
       "    </tr>\n",
       "  </tbody>\n",
       "</table>\n",
       "<p>5 rows × 23 columns</p>\n",
       "</div>"
      ],
      "text/plain": [
       "   Code      area  gender  age age_group  year_of_school     degree      job  \\\n",
       "0     1   central  female   69    middle              16     master  manager   \n",
       "1     2  southern  female   50    middle              12  highshool  officer   \n",
       "2     3  northern    male   73     elder              12  highshool  officer   \n",
       "3     4  northern  female   73     elder              12  highshool  officer   \n",
       "4     5   central    male   69    middle              16     master  officer   \n",
       "\n",
       "   know_english  know_france  ...  flight_date  flight_status  \\\n",
       "0             1            1  ...   01/05/2013              1   \n",
       "1             0            0  ...   01/05/2013              1   \n",
       "2             1            0  ...   01/05/2013              1   \n",
       "3             0            0  ...   01/05/2013              1   \n",
       "4             1            0  ...   01/05/2013              0   \n",
       "\n",
       "  professionally_staff customer_service   diversity_product  good_price  \\\n",
       "0                    2                 2                  1           1   \n",
       "1                    3                 3                  3           2   \n",
       "2                    2                 2                  1           2   \n",
       "3                    5                 3                  2           4   \n",
       "4                    3                 3                  3           3   \n",
       "\n",
       "   easily_transaction  goodlooking_staff  diversity_flighttime  \\\n",
       "0                   2                  2                     1   \n",
       "1                   3                  3                     2   \n",
       "2                   3                  5                     1   \n",
       "3                   5                  3                     2   \n",
       "4                   3                  3                     3   \n",
       "\n",
       "   good_construction  \n",
       "0                  1  \n",
       "1                  3  \n",
       "2                  1  \n",
       "3                  2  \n",
       "4                  3  \n",
       "\n",
       "[5 rows x 23 columns]"
      ]
     },
     "execution_count": 3,
     "metadata": {},
     "output_type": "execute_result"
    }
   ],
   "source": [
    "df = pd.read_excel('data/hypothesis.xlsx')\n",
    "df.head()"
   ]
  },
  {
   "cell_type": "code",
   "execution_count": 60,
   "metadata": {
    "id": "dDiXd546k_f8"
   },
   "outputs": [],
   "source": [
    "def _ztest_(data1, \n",
    "            data2= None, \n",
    "            value=0, \n",
    "            var1=0, \n",
    "            var2=None, \n",
    "            alternative='2s'):\n",
    "    ZtestResult = namedtuple('ZtestResult', ['zstat', 'pvalue'])\n",
    "    x1 = np.array(data1)\n",
    "    x1_mean = x1.mean()\n",
    "    x1_len = len(data1)\n",
    "    zstat = (x1_mean - value) / (np.sqrt(var1/x1_len))\n",
    "    if data2 is not None and var2 is not None:\n",
    "        x2 = np.array(data2)\n",
    "        x2_mean = x2.mean()\n",
    "        x2_len = len(data2)\n",
    "        zstat = (x1_mean - x2_mean - value) / (np.sqrt(var1/x1_len+var2/x2_len))\n",
    "    if alternative in [\"two-sided\", \"2-sided\", \"2s\"]:\n",
    "        pvalue = stats.norm.sf(np.abs(zstat)) * 2\n",
    "    elif alternative in [\"larger\", \"l\"]:\n",
    "        pvalue = stats.norm.sf(zstat)\n",
    "    elif alternative in [\"smaller\", \"s\"]:\n",
    "        pvalue = stats.norm.cdf(zstat)\n",
    "    else:\n",
    "        raise ValueError(\"invalid alternative\")\n",
    "    return ZtestResult(zstat, pvalue)"
   ]
  },
  {
   "cell_type": "markdown",
   "metadata": {
    "id": "ho6WereOi18h"
   },
   "source": [
    "## 1.1. One sample mean Z-test\n",
    "\n",
    "*Problem:* Given a random sample sized $n=500$ of people's income from a population having the standard deviation $\\sigma=5000$. With the significant level  $\\alpha=0.05$, can we conclude that the mean of the population $\\mu=A=14000$?\n",
    "\n",
    "First, state the hypotheses from the information:\n",
    "- $H_0: \\mu = 14000$\n",
    "- $H_1: \\mu \\neq 14000$\n",
    "\n",
    "Since we are doing a two-tailed test, the critical value will be $z_{\\alpha/2}=z_{0.025} = 1.96$. If $|Z|>1.96$, reject $H_0$ and accept $H_1$. However in this example, $|Z|=0.63$ and the corresponding p-value $=0.2643$, so $H_0$ cannot be rejected. The formula for test statistic is:\n",
    "\n",
    "$$Z = \\frac{\\hat{\\mu}-A}{\\sigma/\\sqrt{n}} = \\frac{\\hat{\\mu}-A}{SE_{\\mu}}$$"
   ]
  },
  {
   "cell_type": "code",
   "execution_count": 61,
   "metadata": {
    "colab": {
     "base_uri": "https://localhost:8080/"
    },
    "id": "zQtb3zg-lEbC",
    "outputId": "46997b82-96dc-41d7-ab36-2a875d11c70e"
   },
   "outputs": [
    {
     "data": {
      "text/plain": [
       "ZtestResult(zstat=1.480134241749042, pvalue=0.13883742504819616)"
      ]
     },
     "execution_count": 61,
     "metadata": {},
     "output_type": "execute_result"
    }
   ],
   "source": [
    "_ztest_(df.age, value = 59, var1 = np.var(df.age),alternative='two-sided')"
   ]
  },
  {
   "cell_type": "markdown",
   "metadata": {},
   "source": [
    "## 1.2. Two sample mean Z-test\n",
    "*Problem:* The average income of male is $5000$ higher than female, true or false? Given $\\alpha = 0.05$, population standard deviations of income of male and female are $\\sigma_1=7000$ and $\\sigma_2=5000$, consecutively.\n",
    "\n",
    "The hypotheses:\n",
    "- $H_0: \\mu_1 = \\mu_2+5000$\n",
    "- $H_1: \\mu_1 > \\mu_2+5000$\n",
    "\n",
    "This is a right-tailed test, $z_{\\alpha}=z_{0.05} = 1.64$ will be taken. If $Z>1.64$, reject $H_0$ and conclude that the average income of male is higher than female. In this example, $Z=2.57$ and the corresponding p-value is $0.0051$. The formula for test statistic is:\n",
    "\n",
    "$$Z = \\frac{\\hat{\\mu}_1-\\hat{\\mu}_2-A}{\\sqrt{\\sigma_1^2/n_1+\\sigma_2^2/n_2}}\n",
    "= \\frac{\\hat{\\mu}_1-\\hat{\\mu}_2-A}{SE_{\\mu}}$$"
   ]
  },
  {
   "cell_type": "code",
   "execution_count": 5,
   "metadata": {
    "id": "CUKNSXTVSeEy"
   },
   "outputs": [],
   "source": [
    "x1 = df[df['gender']=='male'].income\n",
    "x2 = df[df['gender']=='female'].income"
   ]
  },
  {
   "cell_type": "code",
   "execution_count": 6,
   "metadata": {
    "colab": {
     "base_uri": "https://localhost:8080/"
    },
    "id": "vpDhHTmP7Q5M",
    "outputId": "605f3926-621f-429c-c4a5-245860224cf8"
   },
   "outputs": [
    {
     "data": {
      "text/plain": [
       "(2.5734791058298225, 0.010068172587777743)"
      ]
     },
     "execution_count": 6,
     "metadata": {},
     "output_type": "execute_result"
    }
   ],
   "source": [
    "_ztest_(x1, x2, value=5000, var1=7000**2, var2=5000**2 ,alternative='two-sided')"
   ]
  },
  {
   "cell_type": "markdown",
   "metadata": {},
   "source": [
    "## 1.3. One sample proportion z-test\n",
    "*Problem:* In a large consignment of food packets, a random sample of $n=100$ packets revealed that 5 packets were leaking. Can we conclude that the population contains at least $A=10\\%$ of leaked packets at $\\alpha=0.05$?\n",
    "\n",
    "The hypotheses:\n",
    "- $H_0: p\\geq0.1$\n",
    "- $H_1: p<0.1$\n",
    "\n",
    "This is a left-tailed test, $H_0$ will be rejected if $Z<-z_{0.05}=-1.64$. For $Z=-2.294$, the corresponding p-value is $0.011$ ($<0.05$). The formula for test statistic is:\n",
    "\n",
    "$$Z = \\frac{\\hat{p}-A}{\\sqrt{\\hat{p}(1-\\hat{p})/n}} = \\frac{\\hat{p}-A}{SE_p}$$"
   ]
  },
  {
   "cell_type": "code",
   "execution_count": 5,
   "metadata": {},
   "outputs": [],
   "source": [
    "def _ztestp_(p1, \n",
    "            p2= None, \n",
    "            n1=1,\n",
    "            n2=None,\n",
    "            value=0, \n",
    "            alternative='2s'):\n",
    "    ZtestResult = namedtuple('ZtestResult', ['zstat', 'pvalue'])\n",
    "    se = np.sqrt(p1*(1-p1)/n1)\n",
    "    if se == 0:\n",
    "        raise ValueError(\"divide by zero\")\n",
    "    else:\n",
    "        zstat = (p1 - value) / se\n",
    "        if p2 is not None and n2 is not None:\n",
    "            se1 = p1*(1-p1)/n1\n",
    "            se2 = p2*(1-p2)/n2\n",
    "            zstat = (p1 - p2 - value) / np.sqrt(se1+se2)\n",
    "        if alternative in [\"two-sided\", \"2-sided\", \"2s\"]:\n",
    "            pvalue = stats.norm.sf(np.abs(zstat)) * 2\n",
    "        elif alternative in [\"larger\", \"l\"]:\n",
    "            pvalue = stats.norm.sf(zstat)\n",
    "        elif alternative in [\"smaller\", \"s\"]:\n",
    "            pvalue = stats.norm.cdf(zstat)\n",
    "        else:\n",
    "            raise ValueError(\"invalid alternative\")\n",
    "    return ZtestResult(zstat, pvalue)"
   ]
  },
  {
   "cell_type": "code",
   "execution_count": 6,
   "metadata": {},
   "outputs": [
    {
     "data": {
      "text/plain": [
       "ZtestResult(zstat=-2.294157338705618, pvalue=0.021781462791119477)"
      ]
     },
     "execution_count": 6,
     "metadata": {},
     "output_type": "execute_result"
    }
   ],
   "source": [
    "_ztestp_(p1=5/100, n1=100, value=0.1)"
   ]
  },
  {
   "cell_type": "markdown",
   "metadata": {},
   "source": [
    "## 1.4. Two sample proportion z-test \n",
    "*Problem:* A machine turns out 16 imperfect articles in a sample of $n_1=500$. After maintaining, it turns 3 imperfect articles in a sample of $n_2=100$. Has the machine improved after maintaining at significance level $\\alpha=0.05$?\n",
    "\n",
    "The hypotheses:\n",
    "- $H_0: p_1=p_2$\n",
    "- $H_1: p_1>p_2$\n",
    "\n",
    "If $Z>z_{0.05}=1.64$, reject $H_0$. The formula for test statistic is:\n",
    "\n",
    "$$Z = \\frac{\\hat{p}_1-\\hat{p}_2-A}{\\sqrt{\\frac{\\hat{p}_1(1-\\hat{p}_1)}{n_1}+\\frac{\\hat{p}_2(1-\\hat{p}_2)}{n_2}}}\n",
    "= \\frac{\\hat{p}_1-\\hat{p}_2-A}{SE_p}$$"
   ]
  },
  {
   "cell_type": "code",
   "execution_count": 7,
   "metadata": {},
   "outputs": [
    {
     "data": {
      "text/plain": [
       "ZtestResult(zstat=0.10645649716403335, pvalue=0.9152201694418036)"
      ]
     },
     "execution_count": 7,
     "metadata": {},
     "output_type": "execute_result"
    }
   ],
   "source": [
    "_ztestp_(p1=16/500,p2=3/100,n1=500,n2=100,value=0)"
   ]
  },
  {
   "cell_type": "markdown",
   "metadata": {
    "id": "MXqDiiiJfVEv"
   },
   "source": [
    "# 2. F-test\n",
    "Usage:\n",
    "- Comparing the variances of two populations\n",
    "- Being used in one-way ANOVA to compare means between groups (section 2.4)\n",
    "- Being used in multivariate linear regression to testing the significant of R-squared (section 3.2)\n",
    "\n",
    "Assumption:\n",
    "- Populations are normally distributed\n",
    "- Two random independent samples"
   ]
  },
  {
   "cell_type": "code",
   "execution_count": 7,
   "metadata": {
    "colab": {
     "base_uri": "https://localhost:8080/"
    },
    "id": "5aGY_tGzipDo",
    "outputId": "bbbdb553-91da-4702-b87c-ede2a9346878"
   },
   "outputs": [],
   "source": [
    "import math\n",
    "import numpy as np\n",
    "import pandas as pd\n",
    "from scipy import stats\n",
    "from collections import namedtuple"
   ]
  },
  {
   "cell_type": "code",
   "execution_count": 8,
   "metadata": {
    "colab": {
     "base_uri": "https://localhost:8080/",
     "height": 224
    },
    "id": "fs_rCPNBP-UF",
    "outputId": "df4e484a-2a39-46ef-a887-5a2e09ee2c1e"
   },
   "outputs": [
    {
     "data": {
      "text/html": [
       "<div>\n",
       "<style scoped>\n",
       "    .dataframe tbody tr th:only-of-type {\n",
       "        vertical-align: middle;\n",
       "    }\n",
       "\n",
       "    .dataframe tbody tr th {\n",
       "        vertical-align: top;\n",
       "    }\n",
       "\n",
       "    .dataframe thead th {\n",
       "        text-align: right;\n",
       "    }\n",
       "</style>\n",
       "<table border=\"1\" class=\"dataframe\">\n",
       "  <thead>\n",
       "    <tr style=\"text-align: right;\">\n",
       "      <th></th>\n",
       "      <th>Code</th>\n",
       "      <th>area</th>\n",
       "      <th>gender</th>\n",
       "      <th>age</th>\n",
       "      <th>age_group</th>\n",
       "      <th>year_of_school</th>\n",
       "      <th>degree</th>\n",
       "      <th>job</th>\n",
       "      <th>know_english</th>\n",
       "      <th>know_france</th>\n",
       "      <th>...</th>\n",
       "      <th>flight_date</th>\n",
       "      <th>flight_status</th>\n",
       "      <th>professionally_staff</th>\n",
       "      <th>customer_service</th>\n",
       "      <th>diversity_product</th>\n",
       "      <th>good_price</th>\n",
       "      <th>easily_transaction</th>\n",
       "      <th>goodlooking_staff</th>\n",
       "      <th>diversity_flighttime</th>\n",
       "      <th>good_construction</th>\n",
       "    </tr>\n",
       "  </thead>\n",
       "  <tbody>\n",
       "    <tr>\n",
       "      <th>0</th>\n",
       "      <td>1</td>\n",
       "      <td>central</td>\n",
       "      <td>female</td>\n",
       "      <td>69</td>\n",
       "      <td>middle</td>\n",
       "      <td>16</td>\n",
       "      <td>master</td>\n",
       "      <td>manager</td>\n",
       "      <td>1</td>\n",
       "      <td>1</td>\n",
       "      <td>...</td>\n",
       "      <td>01/05/2013</td>\n",
       "      <td>1</td>\n",
       "      <td>2</td>\n",
       "      <td>2</td>\n",
       "      <td>1</td>\n",
       "      <td>1</td>\n",
       "      <td>2</td>\n",
       "      <td>2</td>\n",
       "      <td>1</td>\n",
       "      <td>1</td>\n",
       "    </tr>\n",
       "    <tr>\n",
       "      <th>1</th>\n",
       "      <td>2</td>\n",
       "      <td>southern</td>\n",
       "      <td>female</td>\n",
       "      <td>50</td>\n",
       "      <td>middle</td>\n",
       "      <td>12</td>\n",
       "      <td>highshool</td>\n",
       "      <td>officer</td>\n",
       "      <td>0</td>\n",
       "      <td>0</td>\n",
       "      <td>...</td>\n",
       "      <td>01/05/2013</td>\n",
       "      <td>1</td>\n",
       "      <td>3</td>\n",
       "      <td>3</td>\n",
       "      <td>3</td>\n",
       "      <td>2</td>\n",
       "      <td>3</td>\n",
       "      <td>3</td>\n",
       "      <td>2</td>\n",
       "      <td>3</td>\n",
       "    </tr>\n",
       "    <tr>\n",
       "      <th>2</th>\n",
       "      <td>3</td>\n",
       "      <td>northern</td>\n",
       "      <td>male</td>\n",
       "      <td>73</td>\n",
       "      <td>elder</td>\n",
       "      <td>12</td>\n",
       "      <td>highshool</td>\n",
       "      <td>officer</td>\n",
       "      <td>1</td>\n",
       "      <td>0</td>\n",
       "      <td>...</td>\n",
       "      <td>01/05/2013</td>\n",
       "      <td>1</td>\n",
       "      <td>2</td>\n",
       "      <td>2</td>\n",
       "      <td>1</td>\n",
       "      <td>2</td>\n",
       "      <td>3</td>\n",
       "      <td>5</td>\n",
       "      <td>1</td>\n",
       "      <td>1</td>\n",
       "    </tr>\n",
       "    <tr>\n",
       "      <th>3</th>\n",
       "      <td>4</td>\n",
       "      <td>northern</td>\n",
       "      <td>female</td>\n",
       "      <td>73</td>\n",
       "      <td>elder</td>\n",
       "      <td>12</td>\n",
       "      <td>highshool</td>\n",
       "      <td>officer</td>\n",
       "      <td>0</td>\n",
       "      <td>0</td>\n",
       "      <td>...</td>\n",
       "      <td>01/05/2013</td>\n",
       "      <td>1</td>\n",
       "      <td>5</td>\n",
       "      <td>3</td>\n",
       "      <td>2</td>\n",
       "      <td>4</td>\n",
       "      <td>5</td>\n",
       "      <td>3</td>\n",
       "      <td>2</td>\n",
       "      <td>2</td>\n",
       "    </tr>\n",
       "    <tr>\n",
       "      <th>4</th>\n",
       "      <td>5</td>\n",
       "      <td>central</td>\n",
       "      <td>male</td>\n",
       "      <td>69</td>\n",
       "      <td>middle</td>\n",
       "      <td>16</td>\n",
       "      <td>master</td>\n",
       "      <td>officer</td>\n",
       "      <td>1</td>\n",
       "      <td>0</td>\n",
       "      <td>...</td>\n",
       "      <td>01/05/2013</td>\n",
       "      <td>0</td>\n",
       "      <td>3</td>\n",
       "      <td>3</td>\n",
       "      <td>3</td>\n",
       "      <td>3</td>\n",
       "      <td>3</td>\n",
       "      <td>3</td>\n",
       "      <td>3</td>\n",
       "      <td>3</td>\n",
       "    </tr>\n",
       "  </tbody>\n",
       "</table>\n",
       "<p>5 rows × 23 columns</p>\n",
       "</div>"
      ],
      "text/plain": [
       "   Code      area  gender  age age_group  year_of_school     degree      job  \\\n",
       "0     1   central  female   69    middle              16     master  manager   \n",
       "1     2  southern  female   50    middle              12  highshool  officer   \n",
       "2     3  northern    male   73     elder              12  highshool  officer   \n",
       "3     4  northern  female   73     elder              12  highshool  officer   \n",
       "4     5   central    male   69    middle              16     master  officer   \n",
       "\n",
       "   know_english  know_france  ...  flight_date  flight_status  \\\n",
       "0             1            1  ...   01/05/2013              1   \n",
       "1             0            0  ...   01/05/2013              1   \n",
       "2             1            0  ...   01/05/2013              1   \n",
       "3             0            0  ...   01/05/2013              1   \n",
       "4             1            0  ...   01/05/2013              0   \n",
       "\n",
       "  professionally_staff customer_service   diversity_product  good_price  \\\n",
       "0                    2                 2                  1           1   \n",
       "1                    3                 3                  3           2   \n",
       "2                    2                 2                  1           2   \n",
       "3                    5                 3                  2           4   \n",
       "4                    3                 3                  3           3   \n",
       "\n",
       "   easily_transaction  goodlooking_staff  diversity_flighttime  \\\n",
       "0                   2                  2                     1   \n",
       "1                   3                  3                     2   \n",
       "2                   3                  5                     1   \n",
       "3                   5                  3                     2   \n",
       "4                   3                  3                     3   \n",
       "\n",
       "   good_construction  \n",
       "0                  1  \n",
       "1                  3  \n",
       "2                  1  \n",
       "3                  2  \n",
       "4                  3  \n",
       "\n",
       "[5 rows x 23 columns]"
      ]
     },
     "execution_count": 8,
     "metadata": {},
     "output_type": "execute_result"
    }
   ],
   "source": [
    "df = pd.read_excel('data/hypothesis.xlsx')\n",
    "df.head()"
   ]
  },
  {
   "cell_type": "code",
   "execution_count": 64,
   "metadata": {
    "id": "Jni_D6WVfY4H"
   },
   "outputs": [],
   "source": [
    "def _ftest_(data1, data2, ratio, alternative):\n",
    "    FtestResult = namedtuple('FtestResult', ['fstat', 'pvalue'])\n",
    "    x1 = np.array(data1)\n",
    "    x2 = np.array(data2)\n",
    "    var1 = x1.var()\n",
    "    var2 = x2.var()\n",
    "    df1 = len(x1)-1\n",
    "    df2 = len(x2)-1\n",
    "    if ratio <= 0:\n",
    "        raise ValueError('Invalid ratio')\n",
    "    else:\n",
    "        fstat = var1/(ratio*var2)\n",
    "        if alternative in [\"two-sided\", \"2-sided\", \"2s\"]:\n",
    "            pvalue = stats.f.sf(np.abs(fstat), df1, df2) * 2\n",
    "        elif alternative in [\"larger\", \"l\"]:\n",
    "            pvalue = stats.f.sf(fstat, df1, df2)\n",
    "        elif alternative in [\"smaller\", \"s\"]:\n",
    "            pvalue = stats.f.cdf(fstat, df1, df2)\n",
    "        else:\n",
    "            raise ValueError(\"invalid alternative\")\n",
    "    return FtestResult(fstat, pvalue)"
   ]
  },
  {
   "cell_type": "markdown",
   "metadata": {},
   "source": [
    "*Problem:* With the significance level $\\alpha=0.05$, compare the population variances of income of male and female.\n",
    "\n",
    "The hypotheses:\n",
    "- $H_0: \\sigma^2_1 = 5\\sigma^2_2$\n",
    "- $H_1: \\sigma^2_1 > 5\\sigma^2_2$\n",
    "\n",
    "If p-value $<0.05$: reject $H_0$. The formula for test statistic is:\n",
    "\n",
    "$$F = \\frac{1}{A}\\frac{\\hat{\\sigma}_1^2}{\\hat{\\sigma}_2^2}$$"
   ]
  },
  {
   "cell_type": "code",
   "execution_count": 10,
   "metadata": {
    "id": "DMl7oRn2R2S5"
   },
   "outputs": [],
   "source": [
    "x1 = df[df['gender']=='male'].income\n",
    "x2 = df[df['gender']=='female'].income"
   ]
  },
  {
   "cell_type": "code",
   "execution_count": 65,
   "metadata": {
    "colab": {
     "base_uri": "https://localhost:8080/"
    },
    "id": "R_dsCIA7lpII",
    "outputId": "164436e8-d413-4969-9c9a-cd301ba40184"
   },
   "outputs": [
    {
     "data": {
      "text/plain": [
       "FtestResult(fstat=0.25990922844175496, pvalue=0.971297775456867)"
      ]
     },
     "execution_count": 65,
     "metadata": {},
     "output_type": "execute_result"
    }
   ],
   "source": [
    "_ftest_(x1, x2, ratio=5, alternative='larger')"
   ]
  },
  {
   "cell_type": "markdown",
   "metadata": {
    "id": "noChU7MAw0f-"
   },
   "source": [
    "# 3. T-test"
   ]
  },
  {
   "cell_type": "code",
   "execution_count": 12,
   "metadata": {
    "colab": {
     "base_uri": "https://localhost:8080/"
    },
    "id": "5aGY_tGzipDo",
    "outputId": "bbbdb553-91da-4702-b87c-ede2a9346878"
   },
   "outputs": [],
   "source": [
    "import math\n",
    "import numpy as np\n",
    "import pandas as pd\n",
    "from scipy import stats\n",
    "import pingouin as pg\n",
    "from collections import namedtuple"
   ]
  },
  {
   "cell_type": "code",
   "execution_count": 13,
   "metadata": {
    "colab": {
     "base_uri": "https://localhost:8080/",
     "height": 224
    },
    "id": "fs_rCPNBP-UF",
    "outputId": "df4e484a-2a39-46ef-a887-5a2e09ee2c1e"
   },
   "outputs": [
    {
     "data": {
      "text/html": [
       "<div>\n",
       "<style scoped>\n",
       "    .dataframe tbody tr th:only-of-type {\n",
       "        vertical-align: middle;\n",
       "    }\n",
       "\n",
       "    .dataframe tbody tr th {\n",
       "        vertical-align: top;\n",
       "    }\n",
       "\n",
       "    .dataframe thead th {\n",
       "        text-align: right;\n",
       "    }\n",
       "</style>\n",
       "<table border=\"1\" class=\"dataframe\">\n",
       "  <thead>\n",
       "    <tr style=\"text-align: right;\">\n",
       "      <th></th>\n",
       "      <th>Code</th>\n",
       "      <th>area</th>\n",
       "      <th>gender</th>\n",
       "      <th>age</th>\n",
       "      <th>age_group</th>\n",
       "      <th>year_of_school</th>\n",
       "      <th>degree</th>\n",
       "      <th>job</th>\n",
       "      <th>know_english</th>\n",
       "      <th>know_france</th>\n",
       "      <th>...</th>\n",
       "      <th>flight_date</th>\n",
       "      <th>flight_status</th>\n",
       "      <th>professionally_staff</th>\n",
       "      <th>customer_service</th>\n",
       "      <th>diversity_product</th>\n",
       "      <th>good_price</th>\n",
       "      <th>easily_transaction</th>\n",
       "      <th>goodlooking_staff</th>\n",
       "      <th>diversity_flighttime</th>\n",
       "      <th>good_construction</th>\n",
       "    </tr>\n",
       "  </thead>\n",
       "  <tbody>\n",
       "    <tr>\n",
       "      <th>0</th>\n",
       "      <td>1</td>\n",
       "      <td>central</td>\n",
       "      <td>female</td>\n",
       "      <td>69</td>\n",
       "      <td>middle</td>\n",
       "      <td>16</td>\n",
       "      <td>master</td>\n",
       "      <td>manager</td>\n",
       "      <td>1</td>\n",
       "      <td>1</td>\n",
       "      <td>...</td>\n",
       "      <td>01/05/2013</td>\n",
       "      <td>1</td>\n",
       "      <td>2</td>\n",
       "      <td>2</td>\n",
       "      <td>1</td>\n",
       "      <td>1</td>\n",
       "      <td>2</td>\n",
       "      <td>2</td>\n",
       "      <td>1</td>\n",
       "      <td>1</td>\n",
       "    </tr>\n",
       "    <tr>\n",
       "      <th>1</th>\n",
       "      <td>2</td>\n",
       "      <td>southern</td>\n",
       "      <td>female</td>\n",
       "      <td>50</td>\n",
       "      <td>middle</td>\n",
       "      <td>12</td>\n",
       "      <td>highshool</td>\n",
       "      <td>officer</td>\n",
       "      <td>0</td>\n",
       "      <td>0</td>\n",
       "      <td>...</td>\n",
       "      <td>01/05/2013</td>\n",
       "      <td>1</td>\n",
       "      <td>3</td>\n",
       "      <td>3</td>\n",
       "      <td>3</td>\n",
       "      <td>2</td>\n",
       "      <td>3</td>\n",
       "      <td>3</td>\n",
       "      <td>2</td>\n",
       "      <td>3</td>\n",
       "    </tr>\n",
       "    <tr>\n",
       "      <th>2</th>\n",
       "      <td>3</td>\n",
       "      <td>northern</td>\n",
       "      <td>male</td>\n",
       "      <td>73</td>\n",
       "      <td>elder</td>\n",
       "      <td>12</td>\n",
       "      <td>highshool</td>\n",
       "      <td>officer</td>\n",
       "      <td>1</td>\n",
       "      <td>0</td>\n",
       "      <td>...</td>\n",
       "      <td>01/05/2013</td>\n",
       "      <td>1</td>\n",
       "      <td>2</td>\n",
       "      <td>2</td>\n",
       "      <td>1</td>\n",
       "      <td>2</td>\n",
       "      <td>3</td>\n",
       "      <td>5</td>\n",
       "      <td>1</td>\n",
       "      <td>1</td>\n",
       "    </tr>\n",
       "    <tr>\n",
       "      <th>3</th>\n",
       "      <td>4</td>\n",
       "      <td>northern</td>\n",
       "      <td>female</td>\n",
       "      <td>73</td>\n",
       "      <td>elder</td>\n",
       "      <td>12</td>\n",
       "      <td>highshool</td>\n",
       "      <td>officer</td>\n",
       "      <td>0</td>\n",
       "      <td>0</td>\n",
       "      <td>...</td>\n",
       "      <td>01/05/2013</td>\n",
       "      <td>1</td>\n",
       "      <td>5</td>\n",
       "      <td>3</td>\n",
       "      <td>2</td>\n",
       "      <td>4</td>\n",
       "      <td>5</td>\n",
       "      <td>3</td>\n",
       "      <td>2</td>\n",
       "      <td>2</td>\n",
       "    </tr>\n",
       "    <tr>\n",
       "      <th>4</th>\n",
       "      <td>5</td>\n",
       "      <td>central</td>\n",
       "      <td>male</td>\n",
       "      <td>69</td>\n",
       "      <td>middle</td>\n",
       "      <td>16</td>\n",
       "      <td>master</td>\n",
       "      <td>officer</td>\n",
       "      <td>1</td>\n",
       "      <td>0</td>\n",
       "      <td>...</td>\n",
       "      <td>01/05/2013</td>\n",
       "      <td>0</td>\n",
       "      <td>3</td>\n",
       "      <td>3</td>\n",
       "      <td>3</td>\n",
       "      <td>3</td>\n",
       "      <td>3</td>\n",
       "      <td>3</td>\n",
       "      <td>3</td>\n",
       "      <td>3</td>\n",
       "    </tr>\n",
       "  </tbody>\n",
       "</table>\n",
       "<p>5 rows × 23 columns</p>\n",
       "</div>"
      ],
      "text/plain": [
       "   Code      area  gender  age age_group  year_of_school     degree      job  \\\n",
       "0     1   central  female   69    middle              16     master  manager   \n",
       "1     2  southern  female   50    middle              12  highshool  officer   \n",
       "2     3  northern    male   73     elder              12  highshool  officer   \n",
       "3     4  northern  female   73     elder              12  highshool  officer   \n",
       "4     5   central    male   69    middle              16     master  officer   \n",
       "\n",
       "   know_english  know_france  ...  flight_date  flight_status  \\\n",
       "0             1            1  ...   01/05/2013              1   \n",
       "1             0            0  ...   01/05/2013              1   \n",
       "2             1            0  ...   01/05/2013              1   \n",
       "3             0            0  ...   01/05/2013              1   \n",
       "4             1            0  ...   01/05/2013              0   \n",
       "\n",
       "  professionally_staff customer_service   diversity_product  good_price  \\\n",
       "0                    2                 2                  1           1   \n",
       "1                    3                 3                  3           2   \n",
       "2                    2                 2                  1           2   \n",
       "3                    5                 3                  2           4   \n",
       "4                    3                 3                  3           3   \n",
       "\n",
       "   easily_transaction  goodlooking_staff  diversity_flighttime  \\\n",
       "0                   2                  2                     1   \n",
       "1                   3                  3                     2   \n",
       "2                   3                  5                     1   \n",
       "3                   5                  3                     2   \n",
       "4                   3                  3                     3   \n",
       "\n",
       "   good_construction  \n",
       "0                  1  \n",
       "1                  3  \n",
       "2                  1  \n",
       "3                  2  \n",
       "4                  3  \n",
       "\n",
       "[5 rows x 23 columns]"
      ]
     },
     "execution_count": 13,
     "metadata": {},
     "output_type": "execute_result"
    }
   ],
   "source": [
    "df = pd.read_excel('data/hypothesis.xlsx')\n",
    "df.head()"
   ]
  },
  {
   "cell_type": "markdown",
   "metadata": {
    "id": "F2nLvouNw2X0"
   },
   "source": [
    "## 3.1. One sample T-test\n",
    "Usage: To compare the mean of a population when its variance is unknown.\n",
    "\n",
    "Assumption:\n",
    "- The population is normally distributed\n",
    "- The sample is random"
   ]
  },
  {
   "cell_type": "markdown",
   "metadata": {},
   "source": [
    "*Problem:* With the confidence level $\\alpha=0.05$, the mean of income is $13000$ or not?\n",
    "\n",
    "The hypotheses:\n",
    "- $H_0: \\mu=13000$\n",
    "- $H_1: \\mu\\neq13000$\n",
    "\n",
    "The formula for test statistic is:\n",
    "\n",
    "$$T = \\frac{\\hat{\\mu}-A}{\\hat\\sigma/\\sqrt{n}}$$"
   ]
  },
  {
   "cell_type": "code",
   "execution_count": 14,
   "metadata": {
    "colab": {
     "base_uri": "https://localhost:8080/"
    },
    "id": "iqKZVHctw4Kd",
    "outputId": "7ef46252-c20e-4b12-974c-1f96b1b0ef4c"
   },
   "outputs": [
    {
     "data": {
      "text/plain": [
       "Ttest_1sampResult(statistic=2.6904932307376574, pvalue=0.007373867945841888)"
      ]
     },
     "execution_count": 14,
     "metadata": {},
     "output_type": "execute_result"
    }
   ],
   "source": [
    "# new in scipy version 1.6.0\n",
    "stats.ttest_1samp(df.income, 13000, alternative='two-sided')"
   ]
  },
  {
   "cell_type": "code",
   "execution_count": 15,
   "metadata": {},
   "outputs": [
    {
     "data": {
      "text/html": [
       "<div>\n",
       "<style scoped>\n",
       "    .dataframe tbody tr th:only-of-type {\n",
       "        vertical-align: middle;\n",
       "    }\n",
       "\n",
       "    .dataframe tbody tr th {\n",
       "        vertical-align: top;\n",
       "    }\n",
       "\n",
       "    .dataframe thead th {\n",
       "        text-align: right;\n",
       "    }\n",
       "</style>\n",
       "<table border=\"1\" class=\"dataframe\">\n",
       "  <thead>\n",
       "    <tr style=\"text-align: right;\">\n",
       "      <th></th>\n",
       "      <th>T</th>\n",
       "      <th>dof</th>\n",
       "      <th>tail</th>\n",
       "      <th>p-val</th>\n",
       "      <th>CI95%</th>\n",
       "      <th>cohen-d</th>\n",
       "      <th>BF10</th>\n",
       "      <th>power</th>\n",
       "    </tr>\n",
       "  </thead>\n",
       "  <tbody>\n",
       "    <tr>\n",
       "      <th>T-test</th>\n",
       "      <td>2.690493</td>\n",
       "      <td>499</td>\n",
       "      <td>two-sided</td>\n",
       "      <td>0.007374</td>\n",
       "      <td>[13231.88, 14487.36]</td>\n",
       "      <td>0.120323</td>\n",
       "      <td>1.79</td>\n",
       "      <td>0.765882</td>\n",
       "    </tr>\n",
       "  </tbody>\n",
       "</table>\n",
       "</div>"
      ],
      "text/plain": [
       "               T  dof       tail     p-val                 CI95%   cohen-d  \\\n",
       "T-test  2.690493  499  two-sided  0.007374  [13231.88, 14487.36]  0.120323   \n",
       "\n",
       "        BF10     power  \n",
       "T-test  1.79  0.765882  "
      ]
     },
     "execution_count": 15,
     "metadata": {},
     "output_type": "execute_result"
    }
   ],
   "source": [
    "pg.ttest(x = df.income, y = 13000.0, tail='two-sided')"
   ]
  },
  {
   "cell_type": "markdown",
   "metadata": {
    "id": "TcvltzAoyBo1"
   },
   "source": [
    "## 3.2. Two independent sample T-test\n",
    "Usage: To compare the means of two population using their independent samples. A f-test should be used first to check the equality of the two population variances.\n",
    "\n",
    "Assumptions:\n",
    "- Two populations are normally distributed\n",
    "- Two samples are independent and random\n",
    "- Two variances are equal"
   ]
  },
  {
   "cell_type": "markdown",
   "metadata": {},
   "source": [
    "*Problem:* With $\\alpha=0.05$, the average income of male and female are equal, true or false?\n",
    "\n",
    "The hypotheses:\n",
    "- $H_0: \\mu_1 = \\mu_2$\n",
    "- $H_1: \\mu_1 \\neq \\mu_2$\n",
    "\n",
    "If $\\sigma_1^2 \\neq \\sigma_2^2$ (this example - already tested in section 2.2), the formula for test statistic is:\n",
    "\n",
    "$$T = \\frac{\\hat{\\mu}_1-\\hat{\\mu}_2-A}{\\sqrt{\\frac{\\hat{\\sigma}_1^2}{n_1}+\\frac{\\hat{\\sigma}_2^2}{n_2}}}$$\n",
    "\n",
    "If $\\sigma_1^2 = \\sigma_2^2$, the test statistic is:\n",
    "\n",
    "$$T = \\frac{\\hat{\\mu}_1-\\hat{\\mu}_2-A}{\\hat\\sigma_p \\sqrt{\\frac{1}{n_1}+\\frac{1}{n_2}}}$$\n",
    "\n",
    "where\n",
    "\n",
    "$$\\hat\\sigma_p = \\sqrt{\\frac{(n_1-1)\\hat{\\sigma}_1^2 + (n_2-1)\\hat{\\sigma}_2^2}{n_1+n_2-2}}$$\n",
    "\n",
    "is the pooled standard deviation of the two samples."
   ]
  },
  {
   "cell_type": "code",
   "execution_count": 16,
   "metadata": {
    "id": "ZDJrDUbdyQOl"
   },
   "outputs": [],
   "source": [
    "x1 = df[df['gender']=='male'].income\n",
    "x2 = df[df['gender']=='female'].income"
   ]
  },
  {
   "cell_type": "code",
   "execution_count": 17,
   "metadata": {
    "colab": {
     "base_uri": "https://localhost:8080/"
    },
    "id": "VtrXitghyFYV",
    "outputId": "065d852b-4d6f-49f1-c5ca-4b1fd342a308"
   },
   "outputs": [
    {
     "data": {
      "text/plain": [
       "Ttest_indResult(statistic=11.816737235568048, pvalue=1.6702963183174316e-27)"
      ]
     },
     "execution_count": 17,
     "metadata": {},
     "output_type": "execute_result"
    }
   ],
   "source": [
    "stats.ttest_ind(x1, x2, equal_var=False, alternative='two-sided')"
   ]
  },
  {
   "cell_type": "code",
   "execution_count": 18,
   "metadata": {},
   "outputs": [
    {
     "data": {
      "text/html": [
       "<div>\n",
       "<style scoped>\n",
       "    .dataframe tbody tr th:only-of-type {\n",
       "        vertical-align: middle;\n",
       "    }\n",
       "\n",
       "    .dataframe tbody tr th {\n",
       "        vertical-align: top;\n",
       "    }\n",
       "\n",
       "    .dataframe thead th {\n",
       "        text-align: right;\n",
       "    }\n",
       "</style>\n",
       "<table border=\"1\" class=\"dataframe\">\n",
       "  <thead>\n",
       "    <tr style=\"text-align: right;\">\n",
       "      <th></th>\n",
       "      <th>T</th>\n",
       "      <th>dof</th>\n",
       "      <th>tail</th>\n",
       "      <th>p-val</th>\n",
       "      <th>CI95%</th>\n",
       "      <th>cohen-d</th>\n",
       "      <th>BF10</th>\n",
       "      <th>power</th>\n",
       "    </tr>\n",
       "  </thead>\n",
       "  <tbody>\n",
       "    <tr>\n",
       "      <th>T-test</th>\n",
       "      <td>11.816737</td>\n",
       "      <td>364.874101</td>\n",
       "      <td>two-sided</td>\n",
       "      <td>1.670296e-27</td>\n",
       "      <td>[5323.12, 7448.52]</td>\n",
       "      <td>0.997539</td>\n",
       "      <td>1.904e+25</td>\n",
       "      <td>1.0</td>\n",
       "    </tr>\n",
       "  </tbody>\n",
       "</table>\n",
       "</div>"
      ],
      "text/plain": [
       "                T         dof       tail         p-val               CI95%  \\\n",
       "T-test  11.816737  364.874101  two-sided  1.670296e-27  [5323.12, 7448.52]   \n",
       "\n",
       "         cohen-d       BF10  power  \n",
       "T-test  0.997539  1.904e+25    1.0  "
      ]
     },
     "execution_count": 18,
     "metadata": {},
     "output_type": "execute_result"
    }
   ],
   "source": [
    "pg.ttest(x = x1, y = x2, correction = True, tail = 'two-sided')"
   ]
  },
  {
   "cell_type": "markdown",
   "metadata": {
    "id": "LTAMsih_yjfu"
   },
   "source": [
    "## 3.3. Pair sample T-test\n",
    "Usage: Comparing two population means, given their dependent samples. A paired samples t-test calculates the diffrence between paired observation and then performs a one-sample t-test.\n",
    "\n",
    "Assumptions:\n",
    "- The two populations should be both normally distributed\n",
    "- The two random samples come in pairs (before and after data for example)\n",
    "- Same sample sizes"
   ]
  },
  {
   "cell_type": "code",
   "execution_count": 19,
   "metadata": {
    "id": "G1mNuQGmzLr0"
   },
   "outputs": [],
   "source": [
    "x1 = [72,77,84,79,74,67,74,77,79,89]\n",
    "x2 = [65,68,77,73,66,61,66,71,71,78]"
   ]
  },
  {
   "cell_type": "markdown",
   "metadata": {},
   "source": [
    "*Problem:* With $\\alpha=0.05$, the average weight after is 8 kg less than before, true or false?\n",
    "\n",
    "The hypotheses:\n",
    "- $H_0: \\mu_1-\\mu_2\\geq8$\n",
    "- $H_1: \\mu_1-\\mu_2<8$\n",
    "\n",
    "The test statistic is:\n",
    "\n",
    "$$F = \\frac{\\hat\\mu_1-\\hat\\mu_2-A}{\\hat\\sigma_d/\\sqrt n} = \\frac{\\hat\\mu_d-A}{\\hat\\sigma_d/\\sqrt n}$$\n",
    "where\n",
    "- $\\hat\\mu_d$ is the sample mean of the differences\n",
    "- $\\hat\\sigma_d$ is the sample standard deviation of the differences"
   ]
  },
  {
   "cell_type": "code",
   "execution_count": 20,
   "metadata": {
    "colab": {
     "base_uri": "https://localhost:8080/"
    },
    "id": "NytVpMf3Y5Lo",
    "outputId": "5ef0041a-a2f3-44d4-afb7-a0c06c8e9274"
   },
   "outputs": [
    {
     "data": {
      "text/plain": [
       "Ttest_relResult(statistic=15.23389078900819, pvalue=9.861813084066749e-08)"
      ]
     },
     "execution_count": 20,
     "metadata": {},
     "output_type": "execute_result"
    }
   ],
   "source": [
    "# using scipy and pg can not change the mu value\n",
    "stats.ttest_rel(x1, x2, alternative='two-sided')"
   ]
  },
  {
   "cell_type": "code",
   "execution_count": 21,
   "metadata": {},
   "outputs": [
    {
     "data": {
      "text/html": [
       "<div>\n",
       "<style scoped>\n",
       "    .dataframe tbody tr th:only-of-type {\n",
       "        vertical-align: middle;\n",
       "    }\n",
       "\n",
       "    .dataframe tbody tr th {\n",
       "        vertical-align: top;\n",
       "    }\n",
       "\n",
       "    .dataframe thead th {\n",
       "        text-align: right;\n",
       "    }\n",
       "</style>\n",
       "<table border=\"1\" class=\"dataframe\">\n",
       "  <thead>\n",
       "    <tr style=\"text-align: right;\">\n",
       "      <th></th>\n",
       "      <th>T</th>\n",
       "      <th>dof</th>\n",
       "      <th>tail</th>\n",
       "      <th>p-val</th>\n",
       "      <th>CI95%</th>\n",
       "      <th>cohen-d</th>\n",
       "      <th>BF10</th>\n",
       "      <th>power</th>\n",
       "    </tr>\n",
       "  </thead>\n",
       "  <tbody>\n",
       "    <tr>\n",
       "      <th>T-test</th>\n",
       "      <td>15.233891</td>\n",
       "      <td>9</td>\n",
       "      <td>two-sided</td>\n",
       "      <td>9.861813e-08</td>\n",
       "      <td>[6.47, 8.73]</td>\n",
       "      <td>1.30767</td>\n",
       "      <td>1.176e+05</td>\n",
       "      <td>0.955888</td>\n",
       "    </tr>\n",
       "  </tbody>\n",
       "</table>\n",
       "</div>"
      ],
      "text/plain": [
       "                T  dof       tail         p-val         CI95%  cohen-d  \\\n",
       "T-test  15.233891    9  two-sided  9.861813e-08  [6.47, 8.73]  1.30767   \n",
       "\n",
       "             BF10     power  \n",
       "T-test  1.176e+05  0.955888  "
      ]
     },
     "execution_count": 21,
     "metadata": {},
     "output_type": "execute_result"
    }
   ],
   "source": [
    "pg.ttest(x=x1, y=x2, paired=True, tail='two-sided')"
   ]
  },
  {
   "cell_type": "code",
   "execution_count": 22,
   "metadata": {
    "id": "rpZg_iWstzyM"
   },
   "outputs": [],
   "source": [
    "def pair_ttest(data1, data2, mu=0, alternative='two-sided'):\n",
    "    x1 = np.array(data1)\n",
    "    x2 = np.array(data2)\n",
    "    x1_mean = x1.mean()\n",
    "    x2_mean = x2.mean()\n",
    "    d = np.sum(x1 - x2)**2\n",
    "    D = np.sum((x1 - x2)**2)\n",
    "    n = len(x1)\n",
    "    df = len(x1) - 1\n",
    "    var_d = np.sqrt((n*D-d)/df)/ np.sqrt(n)\n",
    "    tstat = (x1_mean - x2_mean - mu)/(var_d/np.sqrt(n))\n",
    "    if alternative in [\"two-sided\", \"2-sided\", \"2s\"]:\n",
    "        pvalue = stats.t.sf(np.abs(tstat), df) * 2\n",
    "    elif alternative in [\"larger\", \"l\"]:\n",
    "        pvalue = stats.t.sf(tstat, df)\n",
    "    elif alternative in [\"smaller\", \"s\"]:\n",
    "        pvalue = stats.t.cdf(tstat, df)\n",
    "    else:\n",
    "        raise ValueError(\"invalid alternative\")\n",
    "    return tstat, pvalue"
   ]
  },
  {
   "cell_type": "code",
   "execution_count": 23,
   "metadata": {},
   "outputs": [
    {
     "data": {
      "text/plain": [
       "(-0.8017837257372562, 0.22166592508483474)"
      ]
     },
     "execution_count": 23,
     "metadata": {},
     "output_type": "execute_result"
    }
   ],
   "source": [
    "pair_ttest(x1,x2, mu=8, alternative='smaller')"
   ]
  },
  {
   "cell_type": "markdown",
   "metadata": {
    "id": "bsTPkMpJljOS"
   },
   "source": [
    "# 4. Chi-square\n",
    "Usage:\n",
    "- Comparing the propotions of two or more populations\n",
    "- Independence testing between qualitative variables\n",
    "\n",
    "Assumptions:\n",
    "- Populations are normally distributed"
   ]
  },
  {
   "cell_type": "code",
   "execution_count": 24,
   "metadata": {
    "colab": {
     "base_uri": "https://localhost:8080/"
    },
    "id": "5aGY_tGzipDo",
    "outputId": "bbbdb553-91da-4702-b87c-ede2a9346878"
   },
   "outputs": [],
   "source": [
    "import math\n",
    "import numpy as np\n",
    "import pandas as pd\n",
    "from scipy import stats\n",
    "import pingouin as pg"
   ]
  },
  {
   "cell_type": "code",
   "execution_count": 30,
   "metadata": {
    "colab": {
     "base_uri": "https://localhost:8080/",
     "height": 224
    },
    "id": "fs_rCPNBP-UF",
    "outputId": "df4e484a-2a39-46ef-a887-5a2e09ee2c1e"
   },
   "outputs": [
    {
     "data": {
      "text/html": [
       "<div>\n",
       "<style scoped>\n",
       "    .dataframe tbody tr th:only-of-type {\n",
       "        vertical-align: middle;\n",
       "    }\n",
       "\n",
       "    .dataframe tbody tr th {\n",
       "        vertical-align: top;\n",
       "    }\n",
       "\n",
       "    .dataframe thead th {\n",
       "        text-align: right;\n",
       "    }\n",
       "</style>\n",
       "<table border=\"1\" class=\"dataframe\">\n",
       "  <thead>\n",
       "    <tr style=\"text-align: right;\">\n",
       "      <th></th>\n",
       "      <th>Code</th>\n",
       "      <th>area</th>\n",
       "      <th>gender</th>\n",
       "      <th>age</th>\n",
       "      <th>age_group</th>\n",
       "      <th>year_of_school</th>\n",
       "      <th>degree</th>\n",
       "      <th>job</th>\n",
       "      <th>know_english</th>\n",
       "      <th>know_france</th>\n",
       "      <th>...</th>\n",
       "      <th>flight_date</th>\n",
       "      <th>flight_status</th>\n",
       "      <th>professionally_staff</th>\n",
       "      <th>customer_service</th>\n",
       "      <th>diversity_product</th>\n",
       "      <th>good_price</th>\n",
       "      <th>easily_transaction</th>\n",
       "      <th>goodlooking_staff</th>\n",
       "      <th>diversity_flighttime</th>\n",
       "      <th>good_construction</th>\n",
       "    </tr>\n",
       "  </thead>\n",
       "  <tbody>\n",
       "    <tr>\n",
       "      <th>0</th>\n",
       "      <td>1</td>\n",
       "      <td>central</td>\n",
       "      <td>female</td>\n",
       "      <td>69</td>\n",
       "      <td>middle</td>\n",
       "      <td>16</td>\n",
       "      <td>master</td>\n",
       "      <td>manager</td>\n",
       "      <td>1</td>\n",
       "      <td>1</td>\n",
       "      <td>...</td>\n",
       "      <td>01/05/2013</td>\n",
       "      <td>1</td>\n",
       "      <td>2</td>\n",
       "      <td>2</td>\n",
       "      <td>1</td>\n",
       "      <td>1</td>\n",
       "      <td>2</td>\n",
       "      <td>2</td>\n",
       "      <td>1</td>\n",
       "      <td>1</td>\n",
       "    </tr>\n",
       "    <tr>\n",
       "      <th>1</th>\n",
       "      <td>2</td>\n",
       "      <td>southern</td>\n",
       "      <td>female</td>\n",
       "      <td>50</td>\n",
       "      <td>middle</td>\n",
       "      <td>12</td>\n",
       "      <td>highshool</td>\n",
       "      <td>officer</td>\n",
       "      <td>0</td>\n",
       "      <td>0</td>\n",
       "      <td>...</td>\n",
       "      <td>01/05/2013</td>\n",
       "      <td>1</td>\n",
       "      <td>3</td>\n",
       "      <td>3</td>\n",
       "      <td>3</td>\n",
       "      <td>2</td>\n",
       "      <td>3</td>\n",
       "      <td>3</td>\n",
       "      <td>2</td>\n",
       "      <td>3</td>\n",
       "    </tr>\n",
       "    <tr>\n",
       "      <th>2</th>\n",
       "      <td>3</td>\n",
       "      <td>northern</td>\n",
       "      <td>male</td>\n",
       "      <td>73</td>\n",
       "      <td>elder</td>\n",
       "      <td>12</td>\n",
       "      <td>highshool</td>\n",
       "      <td>officer</td>\n",
       "      <td>1</td>\n",
       "      <td>0</td>\n",
       "      <td>...</td>\n",
       "      <td>01/05/2013</td>\n",
       "      <td>1</td>\n",
       "      <td>2</td>\n",
       "      <td>2</td>\n",
       "      <td>1</td>\n",
       "      <td>2</td>\n",
       "      <td>3</td>\n",
       "      <td>5</td>\n",
       "      <td>1</td>\n",
       "      <td>1</td>\n",
       "    </tr>\n",
       "    <tr>\n",
       "      <th>3</th>\n",
       "      <td>4</td>\n",
       "      <td>northern</td>\n",
       "      <td>female</td>\n",
       "      <td>73</td>\n",
       "      <td>elder</td>\n",
       "      <td>12</td>\n",
       "      <td>highshool</td>\n",
       "      <td>officer</td>\n",
       "      <td>0</td>\n",
       "      <td>0</td>\n",
       "      <td>...</td>\n",
       "      <td>01/05/2013</td>\n",
       "      <td>1</td>\n",
       "      <td>5</td>\n",
       "      <td>3</td>\n",
       "      <td>2</td>\n",
       "      <td>4</td>\n",
       "      <td>5</td>\n",
       "      <td>3</td>\n",
       "      <td>2</td>\n",
       "      <td>2</td>\n",
       "    </tr>\n",
       "    <tr>\n",
       "      <th>4</th>\n",
       "      <td>5</td>\n",
       "      <td>central</td>\n",
       "      <td>male</td>\n",
       "      <td>69</td>\n",
       "      <td>middle</td>\n",
       "      <td>16</td>\n",
       "      <td>master</td>\n",
       "      <td>officer</td>\n",
       "      <td>1</td>\n",
       "      <td>0</td>\n",
       "      <td>...</td>\n",
       "      <td>01/05/2013</td>\n",
       "      <td>0</td>\n",
       "      <td>3</td>\n",
       "      <td>3</td>\n",
       "      <td>3</td>\n",
       "      <td>3</td>\n",
       "      <td>3</td>\n",
       "      <td>3</td>\n",
       "      <td>3</td>\n",
       "      <td>3</td>\n",
       "    </tr>\n",
       "  </tbody>\n",
       "</table>\n",
       "<p>5 rows × 23 columns</p>\n",
       "</div>"
      ],
      "text/plain": [
       "   Code      area  gender  age age_group  year_of_school     degree      job  \\\n",
       "0     1   central  female   69    middle              16     master  manager   \n",
       "1     2  southern  female   50    middle              12  highshool  officer   \n",
       "2     3  northern    male   73     elder              12  highshool  officer   \n",
       "3     4  northern  female   73     elder              12  highshool  officer   \n",
       "4     5   central    male   69    middle              16     master  officer   \n",
       "\n",
       "   know_english  know_france  ...  flight_date  flight_status  \\\n",
       "0             1            1  ...   01/05/2013              1   \n",
       "1             0            0  ...   01/05/2013              1   \n",
       "2             1            0  ...   01/05/2013              1   \n",
       "3             0            0  ...   01/05/2013              1   \n",
       "4             1            0  ...   01/05/2013              0   \n",
       "\n",
       "  professionally_staff customer_service   diversity_product  good_price  \\\n",
       "0                    2                 2                  1           1   \n",
       "1                    3                 3                  3           2   \n",
       "2                    2                 2                  1           2   \n",
       "3                    5                 3                  2           4   \n",
       "4                    3                 3                  3           3   \n",
       "\n",
       "   easily_transaction  goodlooking_staff  diversity_flighttime  \\\n",
       "0                   2                  2                     1   \n",
       "1                   3                  3                     2   \n",
       "2                   3                  5                     1   \n",
       "3                   5                  3                     2   \n",
       "4                   3                  3                     3   \n",
       "\n",
       "   good_construction  \n",
       "0                  1  \n",
       "1                  3  \n",
       "2                  1  \n",
       "3                  2  \n",
       "4                  3  \n",
       "\n",
       "[5 rows x 23 columns]"
      ]
     },
     "execution_count": 30,
     "metadata": {},
     "output_type": "execute_result"
    }
   ],
   "source": [
    "df = pd.read_excel('data/hypothesis.xlsx')\n",
    "df.head()"
   ]
  },
  {
   "cell_type": "markdown",
   "metadata": {},
   "source": [
    "## 4.1. Dependent chi-square \n",
    "*Problem*: Is there a relationship between `age_group` and `degree`?\n",
    "\n",
    "The hypotheses:\n",
    "- $H_0:$ The two variables are independent\n",
    "- $H_1:$ The two variables are dependent\n",
    "\n",
    "`age_group` and `degree` are said to be strongly related if p-value $<0.05$."
   ]
  },
  {
   "cell_type": "code",
   "execution_count": 31,
   "metadata": {
    "id": "PuK0T79VosB2"
   },
   "outputs": [],
   "source": [
    "table = pd.crosstab(df.age_group,df.degree)"
   ]
  },
  {
   "cell_type": "code",
   "execution_count": 32,
   "metadata": {
    "colab": {
     "base_uri": "https://localhost:8080/"
    },
    "id": "unZg2Mv3Y5PO",
    "outputId": "c395f30d-ad89-4426-8542-2268932d3ba1"
   },
   "outputs": [
    {
     "name": "stdout",
     "output_type": "stream",
     "text": [
      "chi stats: 84.7456748205155\n",
      "p-value: 1.717625046407707e-17\n"
     ]
    }
   ],
   "source": [
    "chi, pvalue, dof, _ = stats.chi2_contingency(table)\n",
    "print(\"chi stats:\", chi)\n",
    "print('p-value:', pvalue)"
   ]
  },
  {
   "cell_type": "code",
   "execution_count": 33,
   "metadata": {
    "collapsed": true,
    "jupyter": {
     "outputs_hidden": true
    },
    "tags": []
   },
   "outputs": [
    {
     "name": "stderr",
     "output_type": "stream",
     "text": [
      "C:\\Users\\Thuy_Linh\\AppData\\Roaming\\Python\\Python37\\site-packages\\pingouin\\contingency.py:151: UserWarning: Low count on observed frequencies.\n",
      "  warnings.warn('Low count on {} frequencies.'.format(name))\n",
      "C:\\Users\\Thuy_Linh\\AppData\\Roaming\\Python\\Python37\\site-packages\\scipy\\stats\\stats.py:6134: RuntimeWarning: divide by zero encountered in power\n",
      "  terms = f_obs * ((f_obs / f_exp)**lambda_ - 1)\n",
      "C:\\Users\\Thuy_Linh\\AppData\\Roaming\\Python\\Python37\\site-packages\\scipy\\stats\\stats.py:6134: RuntimeWarning: invalid value encountered in multiply\n",
      "  terms = f_obs * ((f_obs / f_exp)**lambda_ - 1)\n",
      "C:\\Users\\Thuy_Linh\\AppData\\Roaming\\Python\\Python37\\site-packages\\scipy\\stats\\_distn_infrastructure.py:2007: RuntimeWarning: invalid value encountered in less_equal\n",
      "  cond2 = cond0 & (x <= _a)\n",
      "C:\\Users\\Thuy_Linh\\AppData\\Roaming\\Python\\Python37\\site-packages\\scipy\\stats\\_continuous_distns.py:5807: RuntimeWarning: invalid value encountered in greater_equal\n",
      "  return (df > 0) & (nc >= 0)\n",
      "C:\\Users\\Thuy_Linh\\AppData\\Roaming\\Python\\Python37\\site-packages\\scipy\\stats\\stats.py:6131: RuntimeWarning: divide by zero encountered in true_divide\n",
      "  terms = 2.0 * special.xlogy(f_exp, f_exp / f_obs)\n"
     ]
    }
   ],
   "source": [
    "expected, observed, stats = pg.chi2_independence(data=df, x='age_group', y='degree')"
   ]
  },
  {
   "cell_type": "code",
   "execution_count": 34,
   "metadata": {},
   "outputs": [
    {
     "data": {
      "text/html": [
       "<div>\n",
       "<style scoped>\n",
       "    .dataframe tbody tr th:only-of-type {\n",
       "        vertical-align: middle;\n",
       "    }\n",
       "\n",
       "    .dataframe tbody tr th {\n",
       "        vertical-align: top;\n",
       "    }\n",
       "\n",
       "    .dataframe thead th {\n",
       "        text-align: right;\n",
       "    }\n",
       "</style>\n",
       "<table border=\"1\" class=\"dataframe\">\n",
       "  <thead>\n",
       "    <tr style=\"text-align: right;\">\n",
       "      <th>degree</th>\n",
       "      <th>bachelor</th>\n",
       "      <th>highshool</th>\n",
       "      <th>master</th>\n",
       "    </tr>\n",
       "    <tr>\n",
       "      <th>age_group</th>\n",
       "      <th></th>\n",
       "      <th></th>\n",
       "      <th></th>\n",
       "    </tr>\n",
       "  </thead>\n",
       "  <tbody>\n",
       "    <tr>\n",
       "      <th>elder</th>\n",
       "      <td>25.542</td>\n",
       "      <td>50.886</td>\n",
       "      <td>22.572</td>\n",
       "    </tr>\n",
       "    <tr>\n",
       "      <th>middle</th>\n",
       "      <td>91.074</td>\n",
       "      <td>181.442</td>\n",
       "      <td>80.484</td>\n",
       "    </tr>\n",
       "    <tr>\n",
       "      <th>youth</th>\n",
       "      <td>12.384</td>\n",
       "      <td>24.672</td>\n",
       "      <td>10.944</td>\n",
       "    </tr>\n",
       "  </tbody>\n",
       "</table>\n",
       "</div>"
      ],
      "text/plain": [
       "degree     bachelor  highshool  master\n",
       "age_group                             \n",
       "elder        25.542     50.886  22.572\n",
       "middle       91.074    181.442  80.484\n",
       "youth        12.384     24.672  10.944"
      ]
     },
     "execution_count": 34,
     "metadata": {},
     "output_type": "execute_result"
    }
   ],
   "source": [
    "expected"
   ]
  },
  {
   "cell_type": "code",
   "execution_count": 35,
   "metadata": {},
   "outputs": [
    {
     "data": {
      "text/html": [
       "<div>\n",
       "<style scoped>\n",
       "    .dataframe tbody tr th:only-of-type {\n",
       "        vertical-align: middle;\n",
       "    }\n",
       "\n",
       "    .dataframe tbody tr th {\n",
       "        vertical-align: top;\n",
       "    }\n",
       "\n",
       "    .dataframe thead th {\n",
       "        text-align: right;\n",
       "    }\n",
       "</style>\n",
       "<table border=\"1\" class=\"dataframe\">\n",
       "  <thead>\n",
       "    <tr style=\"text-align: right;\">\n",
       "      <th></th>\n",
       "      <th>test</th>\n",
       "      <th>lambda</th>\n",
       "      <th>chi2</th>\n",
       "      <th>dof</th>\n",
       "      <th>pval</th>\n",
       "      <th>cramer</th>\n",
       "      <th>power</th>\n",
       "    </tr>\n",
       "  </thead>\n",
       "  <tbody>\n",
       "    <tr>\n",
       "      <th>0</th>\n",
       "      <td>pearson</td>\n",
       "      <td>1.000000</td>\n",
       "      <td>84.745675</td>\n",
       "      <td>4.0</td>\n",
       "      <td>1.717625e-17</td>\n",
       "      <td>0.291111</td>\n",
       "      <td>0.999915</td>\n",
       "    </tr>\n",
       "    <tr>\n",
       "      <th>1</th>\n",
       "      <td>cressie-read</td>\n",
       "      <td>0.666667</td>\n",
       "      <td>89.164397</td>\n",
       "      <td>4.0</td>\n",
       "      <td>1.981493e-18</td>\n",
       "      <td>0.298604</td>\n",
       "      <td>0.999956</td>\n",
       "    </tr>\n",
       "    <tr>\n",
       "      <th>2</th>\n",
       "      <td>log-likelihood</td>\n",
       "      <td>0.000000</td>\n",
       "      <td>108.047053</td>\n",
       "      <td>4.0</td>\n",
       "      <td>1.898580e-22</td>\n",
       "      <td>0.328705</td>\n",
       "      <td>0.999998</td>\n",
       "    </tr>\n",
       "    <tr>\n",
       "      <th>3</th>\n",
       "      <td>freeman-tukey</td>\n",
       "      <td>-0.500000</td>\n",
       "      <td>NaN</td>\n",
       "      <td>4.0</td>\n",
       "      <td>NaN</td>\n",
       "      <td>NaN</td>\n",
       "      <td>NaN</td>\n",
       "    </tr>\n",
       "    <tr>\n",
       "      <th>4</th>\n",
       "      <td>mod-log-likelihood</td>\n",
       "      <td>-1.000000</td>\n",
       "      <td>inf</td>\n",
       "      <td>4.0</td>\n",
       "      <td>0.000000e+00</td>\n",
       "      <td>inf</td>\n",
       "      <td>1.000000</td>\n",
       "    </tr>\n",
       "    <tr>\n",
       "      <th>5</th>\n",
       "      <td>neyman</td>\n",
       "      <td>-2.000000</td>\n",
       "      <td>NaN</td>\n",
       "      <td>4.0</td>\n",
       "      <td>NaN</td>\n",
       "      <td>NaN</td>\n",
       "      <td>NaN</td>\n",
       "    </tr>\n",
       "  </tbody>\n",
       "</table>\n",
       "</div>"
      ],
      "text/plain": [
       "                 test    lambda        chi2  dof          pval    cramer  \\\n",
       "0             pearson  1.000000   84.745675  4.0  1.717625e-17  0.291111   \n",
       "1        cressie-read  0.666667   89.164397  4.0  1.981493e-18  0.298604   \n",
       "2      log-likelihood  0.000000  108.047053  4.0  1.898580e-22  0.328705   \n",
       "3       freeman-tukey -0.500000         NaN  4.0           NaN       NaN   \n",
       "4  mod-log-likelihood -1.000000         inf  4.0  0.000000e+00       inf   \n",
       "5              neyman -2.000000         NaN  4.0           NaN       NaN   \n",
       "\n",
       "      power  \n",
       "0  0.999915  \n",
       "1  0.999956  \n",
       "2  0.999998  \n",
       "3       NaN  \n",
       "4  1.000000  \n",
       "5       NaN  "
      ]
     },
     "execution_count": 35,
     "metadata": {},
     "output_type": "execute_result"
    }
   ],
   "source": [
    "stats"
   ]
  },
  {
   "cell_type": "markdown",
   "metadata": {
    "id": "3YxYCVbio8iM"
   },
   "source": [
    "## 4.2. Proportion chi-square\n",
    "\n",
    "In R, Yate's correction chi-square test is used for the `prop.test` function. A pearson's chi-square is upward bias for 2x2 contingency table - an upwards bias tends to make results larger than they should be so yate's correction is a regularization term in formula of chi-square statistic. However, Yate correction should'n be used because the correction is too strict for making the decision on data.\n",
    "\n",
    "In that case, `stats.chisquare` function can be used for proportion chi-square"
   ]
  },
  {
   "cell_type": "markdown",
   "metadata": {},
   "source": [
    "*Problem*: The number of officer is equal to the number of salesperson and 5 times greater than the number of managers, true or false?\n",
    "\n",
    "- $H_0: p_1=1/11, p_2=p_3=5/11$\n",
    "- $H_1$: There is at least one incorrect equation."
   ]
  },
  {
   "cell_type": "code",
   "execution_count": 33,
   "metadata": {},
   "outputs": [],
   "source": [
    "df_chi = df.groupby('job').count()[['Code']].reset_index()\n",
    "\n",
    "df_chi['obs'] = df_chi.Code/len(df)\n",
    "df_chi['exp'] = [1/11,5/11,5/11]"
   ]
  },
  {
   "cell_type": "code",
   "execution_count": 34,
   "metadata": {},
   "outputs": [
    {
     "data": {
      "text/html": [
       "<div>\n",
       "<style scoped>\n",
       "    .dataframe tbody tr th:only-of-type {\n",
       "        vertical-align: middle;\n",
       "    }\n",
       "\n",
       "    .dataframe tbody tr th {\n",
       "        vertical-align: top;\n",
       "    }\n",
       "\n",
       "    .dataframe thead th {\n",
       "        text-align: right;\n",
       "    }\n",
       "</style>\n",
       "<table border=\"1\" class=\"dataframe\">\n",
       "  <thead>\n",
       "    <tr style=\"text-align: right;\">\n",
       "      <th></th>\n",
       "      <th>job</th>\n",
       "      <th>Code</th>\n",
       "      <th>obs</th>\n",
       "      <th>exp</th>\n",
       "    </tr>\n",
       "  </thead>\n",
       "  <tbody>\n",
       "    <tr>\n",
       "      <th>0</th>\n",
       "      <td>manager</td>\n",
       "      <td>44</td>\n",
       "      <td>0.088</td>\n",
       "      <td>0.090909</td>\n",
       "    </tr>\n",
       "    <tr>\n",
       "      <th>1</th>\n",
       "      <td>officer</td>\n",
       "      <td>239</td>\n",
       "      <td>0.478</td>\n",
       "      <td>0.454545</td>\n",
       "    </tr>\n",
       "    <tr>\n",
       "      <th>2</th>\n",
       "      <td>sale</td>\n",
       "      <td>217</td>\n",
       "      <td>0.434</td>\n",
       "      <td>0.454545</td>\n",
       "    </tr>\n",
       "  </tbody>\n",
       "</table>\n",
       "</div>"
      ],
      "text/plain": [
       "       job  Code    obs       exp\n",
       "0  manager    44  0.088  0.090909\n",
       "1  officer   239  0.478  0.454545\n",
       "2     sale   217  0.434  0.454545"
      ]
     },
     "execution_count": 34,
     "metadata": {},
     "output_type": "execute_result"
    }
   ],
   "source": [
    "df_chi"
   ]
  },
  {
   "cell_type": "code",
   "execution_count": 35,
   "metadata": {},
   "outputs": [
    {
     "data": {
      "text/plain": [
       "Power_divergenceResult(statistic=0.0022319999999999987, pvalue=0.9988846224964097)"
      ]
     },
     "execution_count": 35,
     "metadata": {},
     "output_type": "execute_result"
    }
   ],
   "source": [
    "stats.chisquare(df_chi.obs,df_chi.exp)"
   ]
  },
  {
   "cell_type": "markdown",
   "metadata": {},
   "source": [
    "# 5. ANOVA\n",
    "ANOVA (Analysis of Variance) is a technique involving a collection of statistical tests analyzing the difference of the means of two or more groups. The means is calculated from a quantitative variable; the groups are determined using qualitative variables.\n",
    "\n",
    "## One way ANOVA\n",
    "Usage: Compare multiple population means when you have one categorical variable containing at least three categories.\n",
    "\n",
    "Assumptions:\n",
    "- Populations are normally distributed\n",
    "- Samples are random\n",
    "- Homogeneity of variances\n",
    "\n",
    "The work flow:\n",
    "1. Test the homogeneity of variances, using one of the following test:\n",
    "    - Bartlett test (`stats.bartlett` function)\n",
    "    - Levene test (`stats.levene` function)\n",
    "    - Fligner-Killeen test (`stats.fligner` function)\n",
    "2. Test the equality of population means:\n",
    "    - If the variances are equal, use the `f_oneway` or `pg.anova` function\n",
    "    - If the variances are not equal, use the `pg.welch_anova` function\n",
    "3. Post-hoc test to compare pairwise population means:\n",
    "    - If the variances are equal, use Tukey HSD test (`pg.pairwise_tukey`)\n",
    "    - If the variances are not equal, use Games-Howell test (`pg.pairwise_gameshowell`)"
   ]
  },
  {
   "cell_type": "code",
   "execution_count": 36,
   "metadata": {
    "colab": {
     "base_uri": "https://localhost:8080/"
    },
    "id": "5aGY_tGzipDo",
    "outputId": "bbbdb553-91da-4702-b87c-ede2a9346878"
   },
   "outputs": [],
   "source": [
    "import math\n",
    "import numpy as np\n",
    "import pandas as pd\n",
    "from scipy import stats\n",
    "import pingouin as pg"
   ]
  },
  {
   "cell_type": "code",
   "execution_count": 37,
   "metadata": {
    "colab": {
     "base_uri": "https://localhost:8080/",
     "height": 224
    },
    "id": "fs_rCPNBP-UF",
    "outputId": "df4e484a-2a39-46ef-a887-5a2e09ee2c1e"
   },
   "outputs": [
    {
     "data": {
      "text/html": [
       "<div>\n",
       "<style scoped>\n",
       "    .dataframe tbody tr th:only-of-type {\n",
       "        vertical-align: middle;\n",
       "    }\n",
       "\n",
       "    .dataframe tbody tr th {\n",
       "        vertical-align: top;\n",
       "    }\n",
       "\n",
       "    .dataframe thead th {\n",
       "        text-align: right;\n",
       "    }\n",
       "</style>\n",
       "<table border=\"1\" class=\"dataframe\">\n",
       "  <thead>\n",
       "    <tr style=\"text-align: right;\">\n",
       "      <th></th>\n",
       "      <th>Code</th>\n",
       "      <th>area</th>\n",
       "      <th>gender</th>\n",
       "      <th>age</th>\n",
       "      <th>age_group</th>\n",
       "      <th>year_of_school</th>\n",
       "      <th>degree</th>\n",
       "      <th>job</th>\n",
       "      <th>know_english</th>\n",
       "      <th>know_france</th>\n",
       "      <th>...</th>\n",
       "      <th>flight_date</th>\n",
       "      <th>flight_status</th>\n",
       "      <th>professionally_staff</th>\n",
       "      <th>customer_service</th>\n",
       "      <th>diversity_product</th>\n",
       "      <th>good_price</th>\n",
       "      <th>easily_transaction</th>\n",
       "      <th>goodlooking_staff</th>\n",
       "      <th>diversity_flighttime</th>\n",
       "      <th>good_construction</th>\n",
       "    </tr>\n",
       "  </thead>\n",
       "  <tbody>\n",
       "    <tr>\n",
       "      <th>0</th>\n",
       "      <td>1</td>\n",
       "      <td>central</td>\n",
       "      <td>female</td>\n",
       "      <td>69</td>\n",
       "      <td>middle</td>\n",
       "      <td>16</td>\n",
       "      <td>master</td>\n",
       "      <td>manager</td>\n",
       "      <td>1</td>\n",
       "      <td>1</td>\n",
       "      <td>...</td>\n",
       "      <td>01/05/2013</td>\n",
       "      <td>1</td>\n",
       "      <td>2</td>\n",
       "      <td>2</td>\n",
       "      <td>1</td>\n",
       "      <td>1</td>\n",
       "      <td>2</td>\n",
       "      <td>2</td>\n",
       "      <td>1</td>\n",
       "      <td>1</td>\n",
       "    </tr>\n",
       "    <tr>\n",
       "      <th>1</th>\n",
       "      <td>2</td>\n",
       "      <td>southern</td>\n",
       "      <td>female</td>\n",
       "      <td>50</td>\n",
       "      <td>middle</td>\n",
       "      <td>12</td>\n",
       "      <td>highshool</td>\n",
       "      <td>officer</td>\n",
       "      <td>0</td>\n",
       "      <td>0</td>\n",
       "      <td>...</td>\n",
       "      <td>01/05/2013</td>\n",
       "      <td>1</td>\n",
       "      <td>3</td>\n",
       "      <td>3</td>\n",
       "      <td>3</td>\n",
       "      <td>2</td>\n",
       "      <td>3</td>\n",
       "      <td>3</td>\n",
       "      <td>2</td>\n",
       "      <td>3</td>\n",
       "    </tr>\n",
       "    <tr>\n",
       "      <th>2</th>\n",
       "      <td>3</td>\n",
       "      <td>northern</td>\n",
       "      <td>male</td>\n",
       "      <td>73</td>\n",
       "      <td>elder</td>\n",
       "      <td>12</td>\n",
       "      <td>highshool</td>\n",
       "      <td>officer</td>\n",
       "      <td>1</td>\n",
       "      <td>0</td>\n",
       "      <td>...</td>\n",
       "      <td>01/05/2013</td>\n",
       "      <td>1</td>\n",
       "      <td>2</td>\n",
       "      <td>2</td>\n",
       "      <td>1</td>\n",
       "      <td>2</td>\n",
       "      <td>3</td>\n",
       "      <td>5</td>\n",
       "      <td>1</td>\n",
       "      <td>1</td>\n",
       "    </tr>\n",
       "    <tr>\n",
       "      <th>3</th>\n",
       "      <td>4</td>\n",
       "      <td>northern</td>\n",
       "      <td>female</td>\n",
       "      <td>73</td>\n",
       "      <td>elder</td>\n",
       "      <td>12</td>\n",
       "      <td>highshool</td>\n",
       "      <td>officer</td>\n",
       "      <td>0</td>\n",
       "      <td>0</td>\n",
       "      <td>...</td>\n",
       "      <td>01/05/2013</td>\n",
       "      <td>1</td>\n",
       "      <td>5</td>\n",
       "      <td>3</td>\n",
       "      <td>2</td>\n",
       "      <td>4</td>\n",
       "      <td>5</td>\n",
       "      <td>3</td>\n",
       "      <td>2</td>\n",
       "      <td>2</td>\n",
       "    </tr>\n",
       "    <tr>\n",
       "      <th>4</th>\n",
       "      <td>5</td>\n",
       "      <td>central</td>\n",
       "      <td>male</td>\n",
       "      <td>69</td>\n",
       "      <td>middle</td>\n",
       "      <td>16</td>\n",
       "      <td>master</td>\n",
       "      <td>officer</td>\n",
       "      <td>1</td>\n",
       "      <td>0</td>\n",
       "      <td>...</td>\n",
       "      <td>01/05/2013</td>\n",
       "      <td>0</td>\n",
       "      <td>3</td>\n",
       "      <td>3</td>\n",
       "      <td>3</td>\n",
       "      <td>3</td>\n",
       "      <td>3</td>\n",
       "      <td>3</td>\n",
       "      <td>3</td>\n",
       "      <td>3</td>\n",
       "    </tr>\n",
       "  </tbody>\n",
       "</table>\n",
       "<p>5 rows × 23 columns</p>\n",
       "</div>"
      ],
      "text/plain": [
       "   Code      area  gender  age age_group  year_of_school     degree      job  \\\n",
       "0     1   central  female   69    middle              16     master  manager   \n",
       "1     2  southern  female   50    middle              12  highshool  officer   \n",
       "2     3  northern    male   73     elder              12  highshool  officer   \n",
       "3     4  northern  female   73     elder              12  highshool  officer   \n",
       "4     5   central    male   69    middle              16     master  officer   \n",
       "\n",
       "   know_english  know_france  ...  flight_date  flight_status  \\\n",
       "0             1            1  ...   01/05/2013              1   \n",
       "1             0            0  ...   01/05/2013              1   \n",
       "2             1            0  ...   01/05/2013              1   \n",
       "3             0            0  ...   01/05/2013              1   \n",
       "4             1            0  ...   01/05/2013              0   \n",
       "\n",
       "  professionally_staff customer_service   diversity_product  good_price  \\\n",
       "0                    2                 2                  1           1   \n",
       "1                    3                 3                  3           2   \n",
       "2                    2                 2                  1           2   \n",
       "3                    5                 3                  2           4   \n",
       "4                    3                 3                  3           3   \n",
       "\n",
       "   easily_transaction  goodlooking_staff  diversity_flighttime  \\\n",
       "0                   2                  2                     1   \n",
       "1                   3                  3                     2   \n",
       "2                   3                  5                     1   \n",
       "3                   5                  3                     2   \n",
       "4                   3                  3                     3   \n",
       "\n",
       "   good_construction  \n",
       "0                  1  \n",
       "1                  3  \n",
       "2                  1  \n",
       "3                  2  \n",
       "4                  3  \n",
       "\n",
       "[5 rows x 23 columns]"
      ]
     },
     "execution_count": 37,
     "metadata": {},
     "output_type": "execute_result"
    }
   ],
   "source": [
    "df = pd.read_excel('data/hypothesis.xlsx')\n",
    "df.head()"
   ]
  },
  {
   "cell_type": "markdown",
   "metadata": {},
   "source": [
    "*Problem:* Is there a difference in average income between 3 areas (Central, Southern and Northern)? If there is, which group differs from the others?"
   ]
  },
  {
   "cell_type": "markdown",
   "metadata": {},
   "source": [
    "**Step 1:** Check the equality of population variances. If p-value $<0.05$, then reject $H_0$. The hypotheses:\n",
    "- $H_0: \\sigma_1^2 = \\sigma_2^2 = \\dots = \\sigma_k^2$\n",
    "- $H_1$: Exist at least one pair $\\sigma_i^2 \\neq \\sigma_j^2 $ where $i \\neq j$"
   ]
  },
  {
   "cell_type": "code",
   "execution_count": 38,
   "metadata": {},
   "outputs": [],
   "source": [
    "central = df[df['area'] =='central']['income']\n",
    "northern = df[df['area'] =='northern']['income']\n",
    "southern = df[df['area'] =='southern']['income']"
   ]
  },
  {
   "cell_type": "code",
   "execution_count": 39,
   "metadata": {},
   "outputs": [
    {
     "data": {
      "text/plain": [
       "BartlettResult(statistic=865.4773139975722, pvalue=1.1587484312813138e-188)"
      ]
     },
     "execution_count": 39,
     "metadata": {},
     "output_type": "execute_result"
    }
   ],
   "source": [
    "stats.bartlett(central, northern, southern)"
   ]
  },
  {
   "cell_type": "markdown",
   "metadata": {},
   "source": [
    "**Step 2:** Test wether the population means are equal or not. If p-value $<0.05$, then reject $H_0$. The hypothese:\n",
    "- $H_0$: $\\mu_1 = \\mu_2 = \\dots = \\mu_k$\n",
    "- $H_1$: There is at least one pair $\\mu_i \\neq \\mu_j $ where $i \\neq j$"
   ]
  },
  {
   "cell_type": "code",
   "execution_count": 40,
   "metadata": {},
   "outputs": [
    {
     "data": {
      "text/plain": [
       "F_onewayResult(statistic=222.22364903952098, pvalue=1.1382909390301103e-69)"
      ]
     },
     "execution_count": 40,
     "metadata": {},
     "output_type": "execute_result"
    }
   ],
   "source": [
    "stats.f_oneway(central, northern, southern)"
   ]
  },
  {
   "cell_type": "code",
   "execution_count": 41,
   "metadata": {},
   "outputs": [
    {
     "data": {
      "text/html": [
       "<div>\n",
       "<style scoped>\n",
       "    .dataframe tbody tr th:only-of-type {\n",
       "        vertical-align: middle;\n",
       "    }\n",
       "\n",
       "    .dataframe tbody tr th {\n",
       "        vertical-align: top;\n",
       "    }\n",
       "\n",
       "    .dataframe thead th {\n",
       "        text-align: right;\n",
       "    }\n",
       "</style>\n",
       "<table border=\"1\" class=\"dataframe\">\n",
       "  <thead>\n",
       "    <tr style=\"text-align: right;\">\n",
       "      <th></th>\n",
       "      <th>Source</th>\n",
       "      <th>ddof1</th>\n",
       "      <th>ddof2</th>\n",
       "      <th>F</th>\n",
       "      <th>p-unc</th>\n",
       "      <th>np2</th>\n",
       "    </tr>\n",
       "  </thead>\n",
       "  <tbody>\n",
       "    <tr>\n",
       "      <th>0</th>\n",
       "      <td>area</td>\n",
       "      <td>2</td>\n",
       "      <td>497</td>\n",
       "      <td>222.223649</td>\n",
       "      <td>1.138291e-69</td>\n",
       "      <td>0.472089</td>\n",
       "    </tr>\n",
       "  </tbody>\n",
       "</table>\n",
       "</div>"
      ],
      "text/plain": [
       "  Source  ddof1  ddof2           F         p-unc       np2\n",
       "0   area      2    497  222.223649  1.138291e-69  0.472089"
      ]
     },
     "execution_count": 41,
     "metadata": {},
     "output_type": "execute_result"
    }
   ],
   "source": [
    "pg.anova(data=df, dv='income', between='area')"
   ]
  },
  {
   "cell_type": "code",
   "execution_count": 42,
   "metadata": {},
   "outputs": [
    {
     "data": {
      "text/html": [
       "<div>\n",
       "<style scoped>\n",
       "    .dataframe tbody tr th:only-of-type {\n",
       "        vertical-align: middle;\n",
       "    }\n",
       "\n",
       "    .dataframe tbody tr th {\n",
       "        vertical-align: top;\n",
       "    }\n",
       "\n",
       "    .dataframe thead th {\n",
       "        text-align: right;\n",
       "    }\n",
       "</style>\n",
       "<table border=\"1\" class=\"dataframe\">\n",
       "  <thead>\n",
       "    <tr style=\"text-align: right;\">\n",
       "      <th></th>\n",
       "      <th>Source</th>\n",
       "      <th>ddof1</th>\n",
       "      <th>ddof2</th>\n",
       "      <th>F</th>\n",
       "      <th>p-unc</th>\n",
       "      <th>np2</th>\n",
       "    </tr>\n",
       "  </thead>\n",
       "  <tbody>\n",
       "    <tr>\n",
       "      <th>0</th>\n",
       "      <td>area</td>\n",
       "      <td>2</td>\n",
       "      <td>283.472665</td>\n",
       "      <td>441.890825</td>\n",
       "      <td>7.605951e-88</td>\n",
       "      <td>0.472089</td>\n",
       "    </tr>\n",
       "  </tbody>\n",
       "</table>\n",
       "</div>"
      ],
      "text/plain": [
       "  Source  ddof1       ddof2           F         p-unc       np2\n",
       "0   area      2  283.472665  441.890825  7.605951e-88  0.472089"
      ]
     },
     "execution_count": 42,
     "metadata": {},
     "output_type": "execute_result"
    }
   ],
   "source": [
    "pg.welch_anova(data=df, dv='income', between='area')"
   ]
  },
  {
   "cell_type": "markdown",
   "metadata": {},
   "source": [
    "**Step 3:** Post-hoc test to compare pairwise means. Any pair having p-value $<0.05$ can be considered significantly diffrerent in mean. "
   ]
  },
  {
   "cell_type": "code",
   "execution_count": 43,
   "metadata": {},
   "outputs": [
    {
     "data": {
      "text/html": [
       "<div>\n",
       "<style scoped>\n",
       "    .dataframe tbody tr th:only-of-type {\n",
       "        vertical-align: middle;\n",
       "    }\n",
       "\n",
       "    .dataframe tbody tr th {\n",
       "        vertical-align: top;\n",
       "    }\n",
       "\n",
       "    .dataframe thead th {\n",
       "        text-align: right;\n",
       "    }\n",
       "</style>\n",
       "<table border=\"1\" class=\"dataframe\">\n",
       "  <thead>\n",
       "    <tr style=\"text-align: right;\">\n",
       "      <th></th>\n",
       "      <th>A</th>\n",
       "      <th>B</th>\n",
       "      <th>mean(A)</th>\n",
       "      <th>mean(B)</th>\n",
       "      <th>diff</th>\n",
       "      <th>se</th>\n",
       "      <th>T</th>\n",
       "      <th>p-tukey</th>\n",
       "      <th>hedges</th>\n",
       "    </tr>\n",
       "  </thead>\n",
       "  <tbody>\n",
       "    <tr>\n",
       "      <th>0</th>\n",
       "      <td>central</td>\n",
       "      <td>northern</td>\n",
       "      <td>19586.096618</td>\n",
       "      <td>10750.421622</td>\n",
       "      <td>8835.674997</td>\n",
       "      <td>526.240020</td>\n",
       "      <td>16.790200</td>\n",
       "      <td>0.001</td>\n",
       "      <td>1.695475</td>\n",
       "    </tr>\n",
       "    <tr>\n",
       "      <th>1</th>\n",
       "      <td>central</td>\n",
       "      <td>southern</td>\n",
       "      <td>19586.096618</td>\n",
       "      <td>8209.814815</td>\n",
       "      <td>11376.281804</td>\n",
       "      <td>617.404943</td>\n",
       "      <td>18.425965</td>\n",
       "      <td>0.001</td>\n",
       "      <td>2.181955</td>\n",
       "    </tr>\n",
       "    <tr>\n",
       "      <th>2</th>\n",
       "      <td>northern</td>\n",
       "      <td>southern</td>\n",
       "      <td>10750.421622</td>\n",
       "      <td>8209.814815</td>\n",
       "      <td>2540.606807</td>\n",
       "      <td>629.865678</td>\n",
       "      <td>4.033569</td>\n",
       "      <td>0.001</td>\n",
       "      <td>0.487196</td>\n",
       "    </tr>\n",
       "  </tbody>\n",
       "</table>\n",
       "</div>"
      ],
      "text/plain": [
       "          A         B       mean(A)       mean(B)          diff          se  \\\n",
       "0   central  northern  19586.096618  10750.421622   8835.674997  526.240020   \n",
       "1   central  southern  19586.096618   8209.814815  11376.281804  617.404943   \n",
       "2  northern  southern  10750.421622   8209.814815   2540.606807  629.865678   \n",
       "\n",
       "           T  p-tukey    hedges  \n",
       "0  16.790200    0.001  1.695475  \n",
       "1  18.425965    0.001  2.181955  \n",
       "2   4.033569    0.001  0.487196  "
      ]
     },
     "execution_count": 43,
     "metadata": {},
     "output_type": "execute_result"
    }
   ],
   "source": [
    "pg.pairwise_tukey(data=df, dv='income', between='area')"
   ]
  },
  {
   "cell_type": "code",
   "execution_count": 44,
   "metadata": {},
   "outputs": [
    {
     "data": {
      "text/html": [
       "<div>\n",
       "<style scoped>\n",
       "    .dataframe tbody tr th:only-of-type {\n",
       "        vertical-align: middle;\n",
       "    }\n",
       "\n",
       "    .dataframe tbody tr th {\n",
       "        vertical-align: top;\n",
       "    }\n",
       "\n",
       "    .dataframe thead th {\n",
       "        text-align: right;\n",
       "    }\n",
       "</style>\n",
       "<table border=\"1\" class=\"dataframe\">\n",
       "  <thead>\n",
       "    <tr style=\"text-align: right;\">\n",
       "      <th></th>\n",
       "      <th>A</th>\n",
       "      <th>B</th>\n",
       "      <th>mean(A)</th>\n",
       "      <th>mean(B)</th>\n",
       "      <th>diff</th>\n",
       "      <th>se</th>\n",
       "      <th>T</th>\n",
       "      <th>df</th>\n",
       "      <th>pval</th>\n",
       "      <th>hedges</th>\n",
       "    </tr>\n",
       "  </thead>\n",
       "  <tbody>\n",
       "    <tr>\n",
       "      <th>0</th>\n",
       "      <td>central</td>\n",
       "      <td>northern</td>\n",
       "      <td>19586.096618</td>\n",
       "      <td>10750.421622</td>\n",
       "      <td>8835.674997</td>\n",
       "      <td>560.507528</td>\n",
       "      <td>15.763704</td>\n",
       "      <td>211.211292</td>\n",
       "      <td>0.001</td>\n",
       "      <td>1.591819</td>\n",
       "    </tr>\n",
       "    <tr>\n",
       "      <th>1</th>\n",
       "      <td>central</td>\n",
       "      <td>southern</td>\n",
       "      <td>19586.096618</td>\n",
       "      <td>8209.814815</td>\n",
       "      <td>11376.281804</td>\n",
       "      <td>563.372921</td>\n",
       "      <td>20.193164</td>\n",
       "      <td>215.382039</td>\n",
       "      <td>0.001</td>\n",
       "      <td>2.391222</td>\n",
       "    </tr>\n",
       "    <tr>\n",
       "      <th>2</th>\n",
       "      <td>northern</td>\n",
       "      <td>southern</td>\n",
       "      <td>10750.421622</td>\n",
       "      <td>8209.814815</td>\n",
       "      <td>2540.606807</td>\n",
       "      <td>105.242773</td>\n",
       "      <td>24.140440</td>\n",
       "      <td>218.527723</td>\n",
       "      <td>0.001</td>\n",
       "      <td>2.915812</td>\n",
       "    </tr>\n",
       "  </tbody>\n",
       "</table>\n",
       "</div>"
      ],
      "text/plain": [
       "          A         B       mean(A)       mean(B)          diff          se  \\\n",
       "0   central  northern  19586.096618  10750.421622   8835.674997  560.507528   \n",
       "1   central  southern  19586.096618   8209.814815  11376.281804  563.372921   \n",
       "2  northern  southern  10750.421622   8209.814815   2540.606807  105.242773   \n",
       "\n",
       "           T          df   pval    hedges  \n",
       "0  15.763704  211.211292  0.001  1.591819  \n",
       "1  20.193164  215.382039  0.001  2.391222  \n",
       "2  24.140440  218.527723  0.001  2.915812  "
      ]
     },
     "execution_count": 44,
     "metadata": {},
     "output_type": "execute_result"
    }
   ],
   "source": [
    "pg.pairwise_gameshowell(data=df, dv='income', between='area')"
   ]
  },
  {
   "cell_type": "markdown",
   "metadata": {},
   "source": [
    "# 6. Distribution test\n",
    "The Kolmogorov-Smirnov test (KS test) is used to test whether a random variable follows a specific distribution or not. The test statistic is calculated as the difference between the empirical CDF of the observed variable and the CDF of the reference distribution. In scipy, the `stats.ks` function performs Kolmogorov-Smirnov test.\n",
    "\n",
    "Here are the popular distributions that `stats.ks` supports:\n",
    "\n",
    "Distribution|function|Parameters         |\n",
    ":-----------|:---------|:------------------|\n",
    "Binomial    |`binom`  |`size`, `prob`     |\n",
    "Poisson     |`poisson`   |`lambda`           |\n",
    "Unifrom     |`uniform`   |`min`, `max`       |\n",
    "Normal      |`norm`   |`mean`, `sd`       |\n",
    "Cauchy      |`cauchy` |`location`, `scale`|\n",
    "T           |`t`      |`df`               |\n",
    "F           |`f`      |`df1`, `df2`       |\n",
    "Chi-squared |`chi`  |`df`               |\n",
    "Beta        |`beta`   |`shape1`, `shape2` |\n",
    "Gamma       |`gamma`  |`shape`, `scale`   |"
   ]
  },
  {
   "cell_type": "code",
   "execution_count": 45,
   "metadata": {
    "colab": {
     "base_uri": "https://localhost:8080/"
    },
    "id": "5aGY_tGzipDo",
    "outputId": "bbbdb553-91da-4702-b87c-ede2a9346878"
   },
   "outputs": [],
   "source": [
    "import math\n",
    "import numpy as np\n",
    "import pandas as pd\n",
    "from scipy import stats"
   ]
  },
  {
   "cell_type": "code",
   "execution_count": 46,
   "metadata": {
    "colab": {
     "base_uri": "https://localhost:8080/",
     "height": 224
    },
    "id": "fs_rCPNBP-UF",
    "outputId": "df4e484a-2a39-46ef-a887-5a2e09ee2c1e"
   },
   "outputs": [
    {
     "data": {
      "text/html": [
       "<div>\n",
       "<style scoped>\n",
       "    .dataframe tbody tr th:only-of-type {\n",
       "        vertical-align: middle;\n",
       "    }\n",
       "\n",
       "    .dataframe tbody tr th {\n",
       "        vertical-align: top;\n",
       "    }\n",
       "\n",
       "    .dataframe thead th {\n",
       "        text-align: right;\n",
       "    }\n",
       "</style>\n",
       "<table border=\"1\" class=\"dataframe\">\n",
       "  <thead>\n",
       "    <tr style=\"text-align: right;\">\n",
       "      <th></th>\n",
       "      <th>Code</th>\n",
       "      <th>area</th>\n",
       "      <th>gender</th>\n",
       "      <th>age</th>\n",
       "      <th>age_group</th>\n",
       "      <th>year_of_school</th>\n",
       "      <th>degree</th>\n",
       "      <th>job</th>\n",
       "      <th>know_english</th>\n",
       "      <th>know_france</th>\n",
       "      <th>...</th>\n",
       "      <th>flight_date</th>\n",
       "      <th>flight_status</th>\n",
       "      <th>professionally_staff</th>\n",
       "      <th>customer_service</th>\n",
       "      <th>diversity_product</th>\n",
       "      <th>good_price</th>\n",
       "      <th>easily_transaction</th>\n",
       "      <th>goodlooking_staff</th>\n",
       "      <th>diversity_flighttime</th>\n",
       "      <th>good_construction</th>\n",
       "    </tr>\n",
       "  </thead>\n",
       "  <tbody>\n",
       "    <tr>\n",
       "      <th>0</th>\n",
       "      <td>1</td>\n",
       "      <td>central</td>\n",
       "      <td>female</td>\n",
       "      <td>69</td>\n",
       "      <td>middle</td>\n",
       "      <td>16</td>\n",
       "      <td>master</td>\n",
       "      <td>manager</td>\n",
       "      <td>1</td>\n",
       "      <td>1</td>\n",
       "      <td>...</td>\n",
       "      <td>01/05/2013</td>\n",
       "      <td>1</td>\n",
       "      <td>2</td>\n",
       "      <td>2</td>\n",
       "      <td>1</td>\n",
       "      <td>1</td>\n",
       "      <td>2</td>\n",
       "      <td>2</td>\n",
       "      <td>1</td>\n",
       "      <td>1</td>\n",
       "    </tr>\n",
       "    <tr>\n",
       "      <th>1</th>\n",
       "      <td>2</td>\n",
       "      <td>southern</td>\n",
       "      <td>female</td>\n",
       "      <td>50</td>\n",
       "      <td>middle</td>\n",
       "      <td>12</td>\n",
       "      <td>highshool</td>\n",
       "      <td>officer</td>\n",
       "      <td>0</td>\n",
       "      <td>0</td>\n",
       "      <td>...</td>\n",
       "      <td>01/05/2013</td>\n",
       "      <td>1</td>\n",
       "      <td>3</td>\n",
       "      <td>3</td>\n",
       "      <td>3</td>\n",
       "      <td>2</td>\n",
       "      <td>3</td>\n",
       "      <td>3</td>\n",
       "      <td>2</td>\n",
       "      <td>3</td>\n",
       "    </tr>\n",
       "    <tr>\n",
       "      <th>2</th>\n",
       "      <td>3</td>\n",
       "      <td>northern</td>\n",
       "      <td>male</td>\n",
       "      <td>73</td>\n",
       "      <td>elder</td>\n",
       "      <td>12</td>\n",
       "      <td>highshool</td>\n",
       "      <td>officer</td>\n",
       "      <td>1</td>\n",
       "      <td>0</td>\n",
       "      <td>...</td>\n",
       "      <td>01/05/2013</td>\n",
       "      <td>1</td>\n",
       "      <td>2</td>\n",
       "      <td>2</td>\n",
       "      <td>1</td>\n",
       "      <td>2</td>\n",
       "      <td>3</td>\n",
       "      <td>5</td>\n",
       "      <td>1</td>\n",
       "      <td>1</td>\n",
       "    </tr>\n",
       "    <tr>\n",
       "      <th>3</th>\n",
       "      <td>4</td>\n",
       "      <td>northern</td>\n",
       "      <td>female</td>\n",
       "      <td>73</td>\n",
       "      <td>elder</td>\n",
       "      <td>12</td>\n",
       "      <td>highshool</td>\n",
       "      <td>officer</td>\n",
       "      <td>0</td>\n",
       "      <td>0</td>\n",
       "      <td>...</td>\n",
       "      <td>01/05/2013</td>\n",
       "      <td>1</td>\n",
       "      <td>5</td>\n",
       "      <td>3</td>\n",
       "      <td>2</td>\n",
       "      <td>4</td>\n",
       "      <td>5</td>\n",
       "      <td>3</td>\n",
       "      <td>2</td>\n",
       "      <td>2</td>\n",
       "    </tr>\n",
       "    <tr>\n",
       "      <th>4</th>\n",
       "      <td>5</td>\n",
       "      <td>central</td>\n",
       "      <td>male</td>\n",
       "      <td>69</td>\n",
       "      <td>middle</td>\n",
       "      <td>16</td>\n",
       "      <td>master</td>\n",
       "      <td>officer</td>\n",
       "      <td>1</td>\n",
       "      <td>0</td>\n",
       "      <td>...</td>\n",
       "      <td>01/05/2013</td>\n",
       "      <td>0</td>\n",
       "      <td>3</td>\n",
       "      <td>3</td>\n",
       "      <td>3</td>\n",
       "      <td>3</td>\n",
       "      <td>3</td>\n",
       "      <td>3</td>\n",
       "      <td>3</td>\n",
       "      <td>3</td>\n",
       "    </tr>\n",
       "  </tbody>\n",
       "</table>\n",
       "<p>5 rows × 23 columns</p>\n",
       "</div>"
      ],
      "text/plain": [
       "   Code      area  gender  age age_group  year_of_school     degree      job  \\\n",
       "0     1   central  female   69    middle              16     master  manager   \n",
       "1     2  southern  female   50    middle              12  highshool  officer   \n",
       "2     3  northern    male   73     elder              12  highshool  officer   \n",
       "3     4  northern  female   73     elder              12  highshool  officer   \n",
       "4     5   central    male   69    middle              16     master  officer   \n",
       "\n",
       "   know_english  know_france  ...  flight_date  flight_status  \\\n",
       "0             1            1  ...   01/05/2013              1   \n",
       "1             0            0  ...   01/05/2013              1   \n",
       "2             1            0  ...   01/05/2013              1   \n",
       "3             0            0  ...   01/05/2013              1   \n",
       "4             1            0  ...   01/05/2013              0   \n",
       "\n",
       "  professionally_staff customer_service   diversity_product  good_price  \\\n",
       "0                    2                 2                  1           1   \n",
       "1                    3                 3                  3           2   \n",
       "2                    2                 2                  1           2   \n",
       "3                    5                 3                  2           4   \n",
       "4                    3                 3                  3           3   \n",
       "\n",
       "   easily_transaction  goodlooking_staff  diversity_flighttime  \\\n",
       "0                   2                  2                     1   \n",
       "1                   3                  3                     2   \n",
       "2                   3                  5                     1   \n",
       "3                   5                  3                     2   \n",
       "4                   3                  3                     3   \n",
       "\n",
       "   good_construction  \n",
       "0                  1  \n",
       "1                  3  \n",
       "2                  1  \n",
       "3                  2  \n",
       "4                  3  \n",
       "\n",
       "[5 rows x 23 columns]"
      ]
     },
     "execution_count": 46,
     "metadata": {},
     "output_type": "execute_result"
    }
   ],
   "source": [
    "df = pd.read_excel('data/hypothesis.xlsx')\n",
    "df.head()"
   ]
  },
  {
   "cell_type": "code",
   "execution_count": 47,
   "metadata": {},
   "outputs": [
    {
     "data": {
      "text/plain": [
       "KstestResult(statistic=1.0, pvalue=0.0)"
      ]
     },
     "execution_count": 47,
     "metadata": {},
     "output_type": "execute_result"
    }
   ],
   "source": [
    "stats.kstest(df.age, cdf = 'norm', args=(24, 0.05))"
   ]
  },
  {
   "cell_type": "markdown",
   "metadata": {},
   "source": [
    "---\n",
    "*&#9829; By Quang Hung x Thuy Linh &#9829;*"
   ]
  }
 ],
 "metadata": {
  "colab": {
   "collapsed_sections": [],
   "name": "Hypothesis testingg.ipynb",
   "provenance": []
  },
  "kernelspec": {
   "display_name": "Python 3",
   "language": "python",
   "name": "python3"
  },
  "language_info": {
   "codemirror_mode": {
    "name": "ipython",
    "version": 3
   },
   "file_extension": ".py",
   "mimetype": "text/x-python",
   "name": "python",
   "nbconvert_exporter": "python",
   "pygments_lexer": "ipython3",
   "version": "3.8.3"
  }
 },
 "nbformat": 4,
 "nbformat_minor": 4
}
