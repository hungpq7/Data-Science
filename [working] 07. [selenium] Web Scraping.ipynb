{
 "cells": [
  {
   "cell_type": "markdown",
   "id": "2f376952-246c-43c7-9dca-8faf36744449",
   "metadata": {},
   "source": [
    "# 1. Requests\n",
    "[]"
   ]
  },
  {
   "cell_type": "code",
   "execution_count": null,
   "id": "91156548-e523-40a2-8056-bf1aa1ccefbd",
   "metadata": {},
   "outputs": [],
   "source": [
    "1.1. "
   ]
  },
  {
   "cell_type": "code",
   "execution_count": 1,
   "id": "6b64e288-57a1-41c9-b892-56c3af9b8141",
   "metadata": {},
   "outputs": [],
   "source": [
    "import requests"
   ]
  },
  {
   "cell_type": "code",
   "execution_count": 25,
   "id": "d9ff88d1-a165-4ac1-b698-40bad0637d2b",
   "metadata": {},
   "outputs": [],
   "source": [
    "url = 'https://jsonplaceholder.typicode.com/todo/1'\n",
    "response = requests.get(url)"
   ]
  },
  {
   "cell_type": "code",
   "execution_count": 26,
   "id": "d5e9e0f5-78d4-4836-b0b7-61303e91239a",
   "metadata": {},
   "outputs": [
    {
     "data": {
      "text/plain": [
       "'{}'"
      ]
     },
     "execution_count": 26,
     "metadata": {},
     "output_type": "execute_result"
    }
   ],
   "source": [
    "response.text"
   ]
  },
  {
   "cell_type": "code",
   "execution_count": 12,
   "id": "3dd21241-49f7-4b48-8330-3dd3bef62b40",
   "metadata": {},
   "outputs": [
    {
     "data": {
      "text/plain": [
       "{'Server': 'GitHub.com', 'Date': 'Wed, 04 Jan 2023 03:39:40 GMT', 'Content-Type': 'application/json; charset=utf-8', 'Cache-Control': 'public, max-age=60, s-maxage=60', 'Vary': 'Accept, Accept-Encoding, Accept, X-Requested-With', 'ETag': 'W/\"5448449b40fc7067bd63ec89d45656dd564fce56cefcb6709f947a16aa20dfdd\"', 'Last-Modified': 'Fri, 16 Dec 2022 11:18:33 GMT', 'X-GitHub-Media-Type': 'github.v3; format=json', 'x-github-api-version-selected': '2022-11-28', 'Access-Control-Expose-Headers': 'ETag, Link, Location, Retry-After, X-GitHub-OTP, X-RateLimit-Limit, X-RateLimit-Remaining, X-RateLimit-Used, X-RateLimit-Resource, X-RateLimit-Reset, X-OAuth-Scopes, X-Accepted-OAuth-Scopes, X-Poll-Interval, X-GitHub-Media-Type, X-GitHub-SSO, X-GitHub-Request-Id, Deprecation, Sunset', 'Access-Control-Allow-Origin': '*', 'Strict-Transport-Security': 'max-age=31536000; includeSubdomains; preload', 'X-Frame-Options': 'deny', 'X-Content-Type-Options': 'nosniff', 'X-XSS-Protection': '0', 'Referrer-Policy': 'origin-when-cross-origin, strict-origin-when-cross-origin', 'Content-Security-Policy': \"default-src 'none'\", 'Content-Encoding': 'gzip', 'X-RateLimit-Limit': '60', 'X-RateLimit-Remaining': '54', 'X-RateLimit-Reset': '1672806626', 'X-RateLimit-Resource': 'core', 'X-RateLimit-Used': '6', 'Accept-Ranges': 'bytes', 'Content-Length': '466', 'X-GitHub-Request-Id': 'DAB0:260E:38E6C4:3BD7D7:63B4F4FC'}"
      ]
     },
     "execution_count": 12,
     "metadata": {},
     "output_type": "execute_result"
    }
   ],
   "source": [
    "response.headers"
   ]
  },
  {
   "cell_type": "code",
   "execution_count": 24,
   "id": "36be96a0-2117-48aa-ab87-9324193c70ba",
   "metadata": {},
   "outputs": [
    {
     "data": {
      "text/plain": [
       "{'userId': 1, 'id': 1, 'title': 'delectus aut autem', 'completed': False}"
      ]
     },
     "execution_count": 24,
     "metadata": {},
     "output_type": "execute_result"
    }
   ],
   "source": [
    "response.json()"
   ]
  },
  {
   "cell_type": "code",
   "execution_count": null,
   "id": "2b339ee7-6249-4c8b-b9be-6e1ee4188a83",
   "metadata": {},
   "outputs": [],
   "source": []
  },
  {
   "cell_type": "code",
   "execution_count": 27,
   "id": "9721eada-9f9e-4e7f-bb97-e05422f7f212",
   "metadata": {},
   "outputs": [
    {
     "ename": "ModuleNotFoundError",
     "evalue": "No module named 'requests_html'",
     "output_type": "error",
     "traceback": [
      "\u001b[1;31m---------------------------------------------------------------------------\u001b[0m",
      "\u001b[1;31mModuleNotFoundError\u001b[0m                       Traceback (most recent call last)",
      "\u001b[1;32m~\\AppData\\Local\\Temp/ipykernel_9608/1161350045.py\u001b[0m in \u001b[0;36m<module>\u001b[1;34m\u001b[0m\n\u001b[0;32m      1\u001b[0m \u001b[1;32mimport\u001b[0m \u001b[0mrequests\u001b[0m\u001b[1;33m\u001b[0m\u001b[1;33m\u001b[0m\u001b[0m\n\u001b[1;32m----> 2\u001b[1;33m \u001b[1;32mimport\u001b[0m \u001b[0mrequests_html\u001b[0m\u001b[1;33m\u001b[0m\u001b[1;33m\u001b[0m\u001b[0m\n\u001b[0m",
      "\u001b[1;31mModuleNotFoundError\u001b[0m: No module named 'requests_html'"
     ]
    }
   ],
   "source": [
    "import requests\n",
    "import requests_html "
   ]
  },
  {
   "cell_type": "markdown",
   "id": "68d392e1-77c9-431a-922b-9492951c9984",
   "metadata": {},
   "source": [
    "## Hidden APIs"
   ]
  },
  {
   "cell_type": "code",
   "execution_count": null,
   "id": "d15bbf27-afa5-42d7-8130-e7c9ca4f3772",
   "metadata": {},
   "outputs": [],
   "source": []
  },
  {
   "cell_type": "markdown",
   "id": "8660274b-f6e1-4c45-b334-94abc56bb8d7",
   "metadata": {},
   "source": [
    "# 2. Basic HTML"
   ]
  },
  {
   "cell_type": "markdown",
   "id": "7410b0b8-c6d1-4e43-b8b2-d5f4a79ca4a5",
   "metadata": {},
   "source": [
    "## 2.1. HTML concepts\n",
    "\n",
    "```html\n",
    "<html>\n",
    "<head>...</head>\n",
    "<body>\n",
    "...\n",
    "<form id=\"loginForm\">\n",
    "<input name=\"name\" type=\"text\" value=\"First Name\" />\n",
    "<input name=\"name\" type=\"text\" value=\"Last Name\" />\n",
    "<input name=\"email\" type=\"text\" value=\"Business Email\" />\n",
    "<input name=\"password\" type=\"password\" />\n",
    "<input name=\"continue\" type=\"submit\" value=\"Sign Me Up\" />\n",
    "</form>\n",
    "</body>\n",
    "</html>\n",
    "```"
   ]
  },
  {
   "cell_type": "markdown",
   "id": "fcaa7de4-a57c-471a-82ab-b4021bedd32f",
   "metadata": {},
   "source": [
    "## 2.2. Element locating"
   ]
  },
  {
   "cell_type": "markdown",
   "id": "5a9e5868-cc32-4a9a-a9b6-f9afa461968f",
   "metadata": {},
   "source": [
    "### ID and class"
   ]
  },
  {
   "cell_type": "markdown",
   "id": "91b13e6d-08f5-4a2d-83e4-36dee2ff48e9",
   "metadata": {},
   "source": [
    "### XPath"
   ]
  },
  {
   "cell_type": "markdown",
   "id": "cf01cb51-f89f-47b8-822a-4d200b19ffa0",
   "metadata": {},
   "source": [
    "### CSS selector"
   ]
  },
  {
   "cell_type": "markdown",
   "id": "5d79f863-31ef-4993-943e-20523f24d3ec",
   "metadata": {},
   "source": [
    "# 3. HTML parser"
   ]
  },
  {
   "cell_type": "markdown",
   "id": "4b862c62-fd56-45bd-bca2-9bb98a32fc6c",
   "metadata": {},
   "source": [
    "# 4. Web driver"
   ]
  },
  {
   "cell_type": "markdown",
   "id": "fdb93a2f-98dc-4650-a336-dd4ce824fd55",
   "metadata": {},
   "source": [
    "---\n",
    "*&#9829; By Quang Hung x Thuy Linh &#9829;*"
   ]
  }
 ],
 "metadata": {
  "kernelspec": {
   "display_name": "Python 3 (ipykernel)",
   "language": "python",
   "name": "python3"
  },
  "language_info": {
   "codemirror_mode": {
    "name": "ipython",
    "version": 3
   },
   "file_extension": ".py",
   "mimetype": "text/x-python",
   "name": "python",
   "nbconvert_exporter": "python",
   "pygments_lexer": "ipython3",
   "version": "3.9.7"
  }
 },
 "nbformat": 4,
 "nbformat_minor": 5
}
