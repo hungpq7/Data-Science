{
 "cells": [
  {
   "cell_type": "markdown",
   "metadata": {},
   "source": [
    "## 1.1 Regex \n",
    "\n",
    "Some string processing techniques with regex was introduce in `2. [python] Classes`. Therefore, below will only introduce some common patterns in text processing"
   ]
  },
  {
   "cell_type": "code",
   "execution_count": 18,
   "metadata": {},
   "outputs": [],
   "source": [
    "import re"
   ]
  },
  {
   "cell_type": "code",
   "execution_count": 19,
   "metadata": {},
   "outputs": [
    {
     "name": "stdout",
     "output_type": "stream",
     "text": [
      "['🔥', '𝑩', '𝑨', '𝑪', '𝑲', '𝑻', '𝑶', '𝑺', '𝑪', '𝑯', '𝑶', '𝑶', '𝑳', 'J', '™', '💃', '\\U0001fab5', '\\U0001fab5', '【', 'J', 'N', '】', 'K', '🌈', '𝗡', '𝗘', '𝗪', '𝗔', '𝗥', '𝗥', '𝗜', '𝗩', '𝗔', '𝗟', '💢', '📽', '️', '9', '2', 'Q', '🔵', '𝐅', '𝐑', '𝐄', '𝐄', '𝐒', '𝐇', '𝐈', '𝐏', '🔵']\n"
     ]
    }
   ],
   "source": [
    "# find special characters\n",
    "pattern ='[^aàảãáạăằẳẵắặâầẩẫấậbcdđeèẻẽéẹêềểễếệfghiìỉĩíịjklmnoòỏõóọôồổỗốộơờởỡớợpqrstuùủũúụưừửữứựvwxyỳỷỹýỵz\\s]'\n",
    "string = \"\"\"🔥𝑩𝑨𝑪𝑲 𝑻𝑶 𝑺𝑪𝑯𝑶𝑶𝑳 balo Japan classic™   balo đi học  balo laptop   balo thời trang   balo chống nước\n",
    "💃 đầm trắng nữ cổ vuông eo chun váy nữ cộc tay chất đũi dáng xòe\n",
    "🪵có sẵn set áo babydoll thô đũi viền ren kèm quần đùi 🪵\n",
    "【JN】heybig spring and summer new Korean\n",
    "🌈𝗡𝗘𝗪 𝗔𝗥𝗥𝗜𝗩𝗔𝗟💢 áo khoác kaki unisex 📽️ videoảnh thật a92\n",
    "Quần jean nam trơn màu xanh 🔵 𝐅𝐑𝐄𝐄 𝐒𝐇𝐈𝐏 🔵 quần bò nam co giãn thời trang hpfashion\"\"\"\n",
    "\n",
    "print(re.findall(pattern,string))"
   ]
  },
  {
   "cell_type": "code",
   "execution_count": 20,
   "metadata": {},
   "outputs": [
    {
     "data": {
      "text/plain": [
       "[('', 'I ', ' '), (' ', 'a ', ' ')]"
      ]
     },
     "execution_count": 20,
     "metadata": {},
     "output_type": "execute_result"
    }
   ],
   "source": [
    "# Find stop word\n",
    "pattern = '(^|\\s+)(\\S(\\s+|$))+'\n",
    "sen = 'I need a doctor'\n",
    "\n",
    "re.findall(pattern, sen)"
   ]
  },
  {
   "cell_type": "code",
   "execution_count": 21,
   "metadata": {},
   "outputs": [
    {
     "data": {
      "text/plain": [
       "['https://regex101.com/']"
      ]
     },
     "execution_count": 21,
     "metadata": {},
     "output_type": "execute_result"
    }
   ],
   "source": [
    "# find url link\n",
    "pattern = 'http\\S+'\n",
    "sen = 'Reference: https://regex101.com/ (regex online checking)'\n",
    "\n",
    "re.findall(pattern, sen)"
   ]
  },
  {
   "cell_type": "code",
   "execution_count": 23,
   "metadata": {
    "tags": []
   },
   "outputs": [
    {
     "data": {
      "text/plain": [
       "['www.google', 'id.zalo']"
      ]
     },
     "execution_count": 23,
     "metadata": {},
     "output_type": "execute_result"
    }
   ],
   "source": [
    "# find sub domain of url\n",
    "pattern = '(?<=//)\\S+(?=\\.)'\n",
    "sen = \"\"\"https://www.google.ca/\n",
    "https://id.zalo.me/account/outapp\"\"\"\n",
    "\n",
    "re.findall(pattern, sen)"
   ]
  },
  {
   "cell_type": "code",
   "execution_count": 33,
   "metadata": {},
   "outputs": [
    {
     "data": {
      "text/plain": [
       "['20211021121219895', '20211021185707803']"
      ]
     },
     "execution_count": 33,
     "metadata": {},
     "output_type": "execute_result"
    }
   ],
   "source": [
    "# find item id in a url\n",
    "pattern = '\\d+(?=rf\\d+|\\.htm)'\n",
    "url1 = 'https://soha.vn/giam-doc-bv-bach-mai-nguyen-quang-tuan-bi-khoi-to-bo-y-te-noi-gi-20211021185707803.htm'\n",
    "url2 = 'https://soha.vn/phu-tho-ghi-nhan-them-17-ca-duong-tinh-voi-sars-cov-2-20211021121219895rf20211021185707803.htm'\n",
    "re.findall(pattern, url1)\n",
    "re.findall(pattern, url2)"
   ]
  },
  {
   "cell_type": "markdown",
   "metadata": {},
   "source": [
    "---\n",
    "*&#9829; By Quang Hung x Thuy Linh &#9829;*"
   ]
  }
 ],
 "metadata": {
  "kernelspec": {
   "display_name": "Python 3 (ipykernel)",
   "language": "python",
   "name": "python3"
  },
  "language_info": {
   "codemirror_mode": {
    "name": "ipython",
    "version": 3
   },
   "file_extension": ".py",
   "mimetype": "text/x-python",
   "name": "python",
   "nbconvert_exporter": "python",
   "pygments_lexer": "ipython3",
   "version": "3.9.7"
  }
 },
 "nbformat": 4,
 "nbformat_minor": 4
}
