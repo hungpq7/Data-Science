{
 "cells": [
  {
   "cell_type": "code",
   "execution_count": 1,
   "metadata": {
    "tags": []
   },
   "outputs": [],
   "source": [
    "from bs4 import BeautifulSoup\n",
    "import requests"
   ]
  },
  {
   "cell_type": "code",
   "execution_count": 2,
   "metadata": {
    "tags": []
   },
   "outputs": [],
   "source": [
    "category_map = {}\n",
    "\n",
    "headers = {\n",
    "    'user-agent': 'Mozilla/5.0 (Windows NT 10.0; Win64; x64) AppleWebKit/537.36 (KHTML, like Gecko) Chrome/75.0.3770.142 Safari/537.36'\n",
    "}"
   ]
  },
  {
   "cell_type": "code",
   "execution_count": 62,
   "metadata": {
    "execution": {
     "iopub.execute_input": "2021-07-05T16:56:45.721420Z",
     "iopub.status.busy": "2021-07-05T16:56:45.721420Z",
     "iopub.status.idle": "2021-07-05T16:56:45.745353Z",
     "shell.execute_reply": "2021-07-05T16:56:45.744356Z",
     "shell.execute_reply.started": "2021-07-05T16:56:45.721420Z"
    },
    "tags": []
   },
   "outputs": [],
   "source": [
    "def getCategoryPath(category_id):\n",
    "\n",
    "    # request to the url\n",
    "    url = f'https://tiki.vn/business-economics/c{category_id}'\n",
    "    response = requests.get(url, headers=headers)\n",
    "    \n",
    "    # check if category name in the response url does not change: then that category_id does not exist\n",
    "    if response.url.split('/')[3] == 'business-economics':\n",
    "        category_path = None\n",
    "    else:\n",
    "        # get page content and turn into html parser\n",
    "        content = response.content\n",
    "        soup = BeautifulSoup(content, 'html.parser')\n",
    "        \n",
    "        categories = []\n",
    "        \n",
    "        # parse categories of all levels, gather them into a list\n",
    "        body = soup.find('div', class_='breadcrumb')\n",
    "        elements = body.find_all('a', class_='breadcrumb-item')\n",
    "        for element in elements[1:]:\n",
    "            category = element.text\n",
    "            categories.append(category)\n",
    "        \n",
    "        # transform the list into a single path-like category\n",
    "        category_path = '|'.join(categories)\n",
    "        \n",
    "    return category_path"
   ]
  },
  {
   "cell_type": "code",
   "execution_count": 70,
   "metadata": {
    "execution": {
     "iopub.execute_input": "2021-07-05T17:29:27.751978Z",
     "iopub.status.busy": "2021-07-05T17:29:27.751978Z",
     "iopub.status.idle": "2021-07-05T17:29:34.043939Z",
     "shell.execute_reply": "2021-07-05T17:29:34.041944Z",
     "shell.execute_reply.started": "2021-07-05T17:29:27.751978Z"
    },
    "tags": []
   },
   "outputs": [
    {
     "data": {
      "text/plain": [
       "{5: \"Chương trình khuyến mãi|Book - Khuyến mại|Foreign Books Collection|Editors' Picks|Top book lists|100 Books to Read in a Lifetime|Books that will change your life\",\n",
       " 6: \"Nhà Sách Tiki|English Books|Children's Books|Literature & Fiction|Science Fiction & Fantasy\",\n",
       " 7: \"Nhà Sách Tiki|English Books|Children's Books\",\n",
       " 8: 'Nhà Sách Tiki|English Books|Fiction - Literature|Mystery, Thriller & Suspense',\n",
       " 9: 'Nhà Sách Tiki|English Books|Fiction - Literature',\n",
       " 10: 'Nhà Sách Tiki|English Books|Science - Technology|Internet - Computers',\n",
       " 13: 'Nhà Sách Tiki|English Books|Business & Economics|Management - Leadership',\n",
       " 15: 'Memoirs - Biographies',\n",
       " 19: 'Design - Arts'}"
      ]
     },
     "execution_count": 70,
     "metadata": {},
     "output_type": "execute_result"
    }
   ],
   "source": [
    "for category_id in range(5, 20):\n",
    "    category_path = getCategoryPath(category_id)\n",
    "    if category_path == None:\n",
    "        continue\n",
    "    else:\n",
    "        category_map[category_id] = category_path\n",
    "\n",
    "category_map"
   ]
  },
  {
   "cell_type": "markdown",
   "metadata": {},
   "source": [
    "---\n",
    "*&#9829; By Quang Hung x Thuy Linh &#9829;*"
   ]
  }
 ],
 "metadata": {
  "kernelspec": {
   "display_name": "Python 3",
   "language": "python",
   "name": "python3"
  },
  "language_info": {
   "codemirror_mode": {
    "name": "ipython",
    "version": 3
   },
   "file_extension": ".py",
   "mimetype": "text/x-python",
   "name": "python",
   "nbconvert_exporter": "python",
   "pygments_lexer": "ipython3",
   "version": "3.8.8"
  }
 },
 "nbformat": 4,
 "nbformat_minor": 4
}
