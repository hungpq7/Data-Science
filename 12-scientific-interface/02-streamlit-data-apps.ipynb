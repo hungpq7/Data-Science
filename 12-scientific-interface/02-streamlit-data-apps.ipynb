{
 "cells": [
  {
   "cell_type": "markdown",
   "metadata": {},
   "source": [
    "- https://share.streamlit.io/\n",
    "- https://data-chilly.streamlit.app/"
   ]
  }
 ],
 "metadata": {
  "language_info": {
   "name": "python"
  }
 },
 "nbformat": 4,
 "nbformat_minor": 2
}
