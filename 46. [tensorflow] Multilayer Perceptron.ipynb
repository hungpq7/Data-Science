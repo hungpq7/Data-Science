{
 "cells": [
  {
   "cell_type": "markdown",
   "metadata": {},
   "source": [
    "# 1. Overview"
   ]
  },
  {
   "cell_type": "markdown",
   "metadata": {},
   "source": [
    "## 1.1. Basic concepts"
   ]
  },
  {
   "cell_type": "markdown",
   "metadata": {},
   "source": [
    "### Nodes and edges\n",
    "Going back to familiar binary Logistic Regression, we visualize, let's say, a model trained on the dataset having 3 features and a single label. On the graph, each feature/label ($\\mathbf{x}$ or $\\mathbf{y}$) is represented by a *node* and each model weight ($w_1,w_2,w_3$) is represented by a *colored edge*. The bias $w_0$ (or sometimes denoted $b$) is not showing on the graph, but keep in mind it is attached to the output node. This is the most basic architecture of a Neural Network with 4 parameters (3 weights + 1 bias).\n",
    "\n",
    "<img src='image/mlp_linear_simple.png' style='height:180px; margin:20px auto;'>"
   ]
  },
  {
   "cell_type": "markdown",
   "metadata": {},
   "source": [
    "### Layers\n",
    "Now, we extend the problem to a Stacking model, where 5 base models and the meta model are all Logistic Regression. Beside an input layer and an output layer, there is a new layer between them, called the *hidden layer*. We can add more and more hidden layers for multilevel stacking design. By doing this, our Neural Network becomes *deeper* and can capture more complicated relationship in our data. This opens up a new branch of Machine Learning algorithms: Deep Learning.\n",
    "\n",
    "<img src='image/mlp_linear_stacking.png' style='height:300px; margin:20px auto;'>"
   ]
  },
  {
   "cell_type": "markdown",
   "metadata": {},
   "source": [
    "### Representation learning\n",
    "In the two examples above, the Neural Network is designed for a binary classification problem, where the target is a vector storing the probabilities of being classified to the positive class. For a multi-class classification problem, we need to contruct a vector of probabilities for each class. Below is an example Neural Network architecture with 2 hidden layers for the Iris data which has 4 features and 3 classes.\n",
    "\n",
    "<img src='image/mlp_iris.png' style='height:300px; margin:20px auto;'>\n",
    "\n",
    "This type of architecture is generally called Deep Neural Network of Multilayer Perceptron. Notice that each node represents a vector, we can think of nodes in the hidden layers as *latent features*, as they are automatically discovered by Deep Neural Networks. Such an approach is called [representation learning], one of the benefits that Multilayer Perceptron offer.\n",
    "\n",
    "[representation learning]: https://en.wikipedia.org/wiki/Feature_learning"
   ]
  },
  {
   "cell_type": "markdown",
   "metadata": {},
   "source": [
    "### Inspiration\n",
    "Now we have known what a Deep Neural Network is, but what does the term *neural* implies here? This is because Neural Nets are inspired by biological neural network that constitute human brains. Artificial Neural Networks are constructed by nodes and edges, which resemble *neurons* and *synapses* in biological brains. An artificial neuron recieves signals, processes them and transmit it to other neurons. The strength of a signal between neurons is modeled by the weight of an edge.\n",
    "\n",
    "Biological nervous system in fact is much more complicated, and Artificial Neural Network is just a simple counterpart."
   ]
  },
  {
   "cell_type": "markdown",
   "metadata": {},
   "source": [
    "### Architecture\n",
    "The first thing to notice when constructing a Neural Network is the shape of each layer. Let's take a look at the first hidden layer: it has the shape of (None, 6). This means, this layer is a matrix with 6 columns and an unspecified number of rows. In other words, the architecture of the Neural Network is fixed, but it can adapts to any data size.\n",
    "\n",
    "Another important thing is the number of parameters (weights and biases). A large number of parameters leads to high training time and oerfitting. Here are the numbers of parameters for each layer:\n",
    "- Layer 1: $4\\times6=24$ weights and $6$ biases or $30$ in total\n",
    "- Layer 2: $6\\times6=36$ weights and $6$ biases or $42$ in total\n",
    "- Layer 3: $6\\times3=18$ weights and $3$ biases or $21$ in total"
   ]
  },
  {
   "cell_type": "markdown",
   "metadata": {},
   "source": [
    "## 1.2. TensorFlow and Keras\n",
    "[TensorFlow] is one of the most popular Deep Learning framework released in 2015, but it focuses on computation and thus have a low-level API. [Keras], in the other hand, is a high-level, easy-to-use framework with multiple backends (TensorFlow, Theano and CNTK). In the late 2019 to 2020, [Keras 2.4] was released as a part of [TensorFlow 2.0] and stopped supporting other backends.\n",
    "\n",
    "In this topic, we are going to use \n",
    "<code style='font-size:13px'><a href='https://www.tensorflow.org/api_docs/python/tf/keras'>tensorflow.keras</a></code>\n",
    "to construct a Neural Network for the Iris example above. There are two APIs that Keras supports: sequential and functional.\n",
    "\n",
    "[TensorFlow]: https://www.tensorflow.org/api_docs\n",
    "[Keras]: https://keras.io/about/\n",
    "[Keras 2.4]: https://github.com/keras-team/keras/releases/tag/2.4.0\n",
    "[TensorFlow 2.0]: https://blog.tensorflow.org/2019/09/tensorflow-20-is-now-available.html"
   ]
  },
  {
   "cell_type": "code",
   "execution_count": 1,
   "metadata": {
    "tags": []
   },
   "outputs": [],
   "source": [
    "import numpy as np\n",
    "import pandas as pd\n",
    "\n",
    "import tensorflow as tf\n",
    "from tensorflow import keras\n",
    "from tensorflow.keras import layers"
   ]
  },
  {
   "cell_type": "markdown",
   "metadata": {},
   "source": [
    "### Sequential API\n",
    "In this interface, each layer has exactly one input tensor and one output tensor. We use a\n",
    "<code style='font-size:13px'><a href='https://www.tensorflow.org/api_docs/python/tf/keras/Sequential'>Sequential</a></code>\n",
    "to add [layers] successively to the network. There are so many types of layer, but we will start with the most basic one, Dense (also known as Fully Connected), indicating all nodes from the previous layers connect to the next layer.\n",
    "\n",
    "In the example below, we initialize the network with the first two layers, then add the rest.\n",
    "\n",
    "[layers]: https://www.tensorflow.org/api_docs/python/tf/keras/layers"
   ]
  },
  {
   "cell_type": "code",
   "execution_count": 12,
   "metadata": {},
   "outputs": [
    {
     "name": "stdout",
     "output_type": "stream",
     "text": [
      "Model: \"sequential_4\"\n",
      "_________________________________________________________________\n",
      " Layer (type)                Output Shape              Param #   \n",
      "=================================================================\n",
      " dense_12 (Dense)            (None, 6)                 30        \n",
      "                                                                 \n",
      " dense_13 (Dense)            (None, 6)                 42        \n",
      "                                                                 \n",
      " dense_14 (Dense)            (None, 3)                 21        \n",
      "                                                                 \n",
      "=================================================================\n",
      "Total params: 93\n",
      "Trainable params: 93\n",
      "Non-trainable params: 0\n",
      "_________________________________________________________________\n"
     ]
    }
   ],
   "source": [
    "model = keras.Sequential([\n",
    "    layers.Input(shape=4),\n",
    "    layers.Dense(units=6),\n",
    "])\n",
    "model.add(layers.Dense(units=6))\n",
    "model.add(layers.Dense(units=3, activation='softmax'))\n",
    "\n",
    "model.compile(loss='categorical_crossentropy')\n",
    "model.summary()"
   ]
  },
  {
   "cell_type": "markdown",
   "metadata": {},
   "source": [
    "### Functional API\n",
    "This interface builds a *graph of layers*, allow us to manipulate layers that are not connect sequentially."
   ]
  },
  {
   "cell_type": "code",
   "execution_count": 15,
   "metadata": {},
   "outputs": [
    {
     "name": "stdout",
     "output_type": "stream",
     "text": [
      "Model: \"model_1\"\n",
      "_________________________________________________________________\n",
      " Layer (type)                Output Shape              Param #   \n",
      "=================================================================\n",
      " input_8 (InputLayer)        [(None, 4)]               0         \n",
      "                                                                 \n",
      " dense_19 (Dense)            (None, 6)                 30        \n",
      "                                                                 \n",
      " dense_20 (Dense)            (None, 6)                 42        \n",
      "                                                                 \n",
      " dense_21 (Dense)            (None, 3)                 21        \n",
      "                                                                 \n",
      "=================================================================\n",
      "Total params: 93\n",
      "Trainable params: 93\n",
      "Non-trainable params: 0\n",
      "_________________________________________________________________\n"
     ]
    }
   ],
   "source": [
    "layerInput = layers.Input(shape=4)\n",
    "layerHidden = layers.Dense(6)(layerInput)\n",
    "layerHidden = layers.Dense(6)(layerHidden)\n",
    "layerOutput = layers.Dense(3, activation='softmax')(layerHidden)\n",
    "\n",
    "model = keras.Model(inputs=layerInput, outputs=layerOutput)\n",
    "model.compile(loss='categorical_crossentropy')\n",
    "\n",
    "model.summary()"
   ]
  },
  {
   "cell_type": "markdown",
   "metadata": {},
   "source": [
    "## 1.2. Activation functions\n",
    "We have already known a Deep Neural Network is simply the combination of many Logistic Regression models. But if we keep stacking up linear functions, the result is still a linear function. In other words, using multiple linear layers is the same as using a single linear layer. To go beyonds linearity, an [activation function] is added to each layer. These special functions *activate* non-linearity for layers, so that our Neural Network can model complicated relationship in the data.\n",
    "\n",
    "There are several aspects should be considered when choosing the appropriate activation function:\n",
    "- gradient vanishing\n",
    "- zero-centered\n",
    "- computational cost\n",
    "\n",
    "In Keras, activation functions can either be used through an [activation layer], or through the [activation parameter] supported by all forward layers. Each function of the second type has a string identifier.\n",
    "\n",
    "[activation function]: https://en.wikipedia.org/wiki/Activation_function\n",
    "[Activation layer]: https://keras.io/api/layers/activation_layers/\n",
    "[activation parameter]: https://www.tensorflow.org/api_docs/python/tf/keras/activations"
   ]
  },
  {
   "cell_type": "code",
   "execution_count": 2,
   "metadata": {
    "tags": []
   },
   "outputs": [],
   "source": [
    "import numpy as np\n",
    "np.set_printoptions(precision=4, suppress=True)\n",
    "import pandas as pd\n",
    "import matplotlib.pyplot as plt\n",
    "plt.style.use(['seaborn', 'seaborn-whitegrid'])\n",
    "%config InlineBackend.figure_format = 'retina'\n",
    "\n",
    "import tensorflow as tf\n",
    "from tensorflow import keras\n",
    "from tensorflow.keras import layers"
   ]
  },
  {
   "cell_type": "markdown",
   "metadata": {},
   "source": [
    "### Sigmoid\n",
    "$$\\text{Sigmoid}(x)=\\frac{1}{1+e^{-x}}$$\n",
    "\n",
    "The [sigmoid function] returns a value in the interval $(0,1)$, thus it can be used in the output layer of binary classification problems. The Sigmoid function uses to be popular in the past due to its nice representation. However, it is rarely used nowadays due to these drawbacks:\n",
    "- *It kills gradients*. An undesired property of Sigmoid is that it *saturates* at two tails (it approaches $0$ and $1$). If a node falls into these regions, its gradient is almost $0$ and it fires almost no signal to the next node. This problem is also known as *gradient vanishing*.\n",
    "- *It is not zero-centered*.\n",
    "\n",
    "However, the output will be very close to $0$ or $1$ if input is $<-5$ or $>5$ and thus causes gradient vanishing. It's also not zero-centered and is computationally expensive, so we rarely see it in practice.\n",
    "\n",
    "[sigmoid function]: https://en.wikipedia.org/wiki/Sigmoid_function"
   ]
  },
  {
   "cell_type": "code",
   "execution_count": 139,
   "metadata": {},
   "outputs": [
    {
     "data": {
      "image/png": "[encoded data removed]",
      "text/plain": [
       "<Figure size 288x216 with 1 Axes>"
      ]
     },
     "metadata": {
      "image/png": {
       "height": 193,
       "width": 258
      }
     },
     "output_type": "display_data"
    }
   ],
   "source": [
    "layer = keras.activations.sigmoid\n",
    "x = tf.linspace(-5, 5, 1000)\n",
    "y = layer(x)\n",
    "\n",
    "fig, ax = plt.subplots(figsize=(4,3))\n",
    "ax.plot(x, y, 'grey')\n",
    "plt.show()"
   ]
  },
  {
   "cell_type": "markdown",
   "metadata": {},
   "source": [
    "### Softmax\n",
    "The [softmax function] is a more generalized form of the sigmoid, it converts data in a row into probabilities (be positive and sum up to $1$), using the formula:\n",
    "\n",
    "$$\\text{Softmax}(x_d)=\\frac{\\exp{(x_d)}}{\\sum_{d=1}^{D}{\\exp{(x_d)}}}$$\n",
    "\n",
    "where $D$ is the number of nodes in a layer. Softmax treats input values as log-odds, and can be used in the last layer of multiclass classification problems.\n",
    "\n",
    "[softmax function]: https://en.wikipedia.org/wiki/Softmax_function"
   ]
  },
  {
   "cell_type": "code",
   "execution_count": 136,
   "metadata": {
    "tags": []
   },
   "outputs": [
    {
     "data": {
      "text/plain": [
       "array([[0.6604, 0.1115, 0.2281],\n",
       "       [0.0924, 0.4246, 0.483 ],\n",
       "       [0.1463, 0.3795, 0.4742],\n",
       "       [0.4801, 0.357 , 0.1629],\n",
       "       [0.4771, 0.3065, 0.2164],\n",
       "       [0.3281, 0.3926, 0.2793],\n",
       "       [0.1052, 0.2064, 0.6884],\n",
       "       [0.3203, 0.5797, 0.1   ],\n",
       "       [0.2061, 0.2349, 0.5591],\n",
       "       [0.1831, 0.2805, 0.5364]], dtype=float32)"
      ]
     },
     "execution_count": 136,
     "metadata": {},
     "output_type": "execute_result"
    }
   ],
   "source": [
    "layer = keras.activations.softmax\n",
    "x = tf.random.normal(shape=(100,3))\n",
    "y = layer(x)\n",
    "y[:10].numpy()"
   ]
  },
  {
   "cell_type": "markdown",
   "metadata": {},
   "source": [
    "### Tanh\n",
    "Hyperbolic tangent (tanh) is another S-shaped function. It outputs values in the interval $(-1,1)$ rather than $(0,1)$ and is zero-centered. Tanh is also rarely used because the domain $(-3,3)$ before the function approaches $-1$ and $1$ is quite small.\n",
    "\n",
    "$$\\text{Tanh}(x)=\\frac{{{e^x} - {e^{-x}}}}{{{e^x} + {e^{-x}}}}$$"
   ]
  },
  {
   "cell_type": "code",
   "execution_count": 157,
   "metadata": {},
   "outputs": [
    {
     "data": {
      "image/png": "[encoded data removed]",
      "text/plain": [
       "<Figure size 288x216 with 1 Axes>"
      ]
     },
     "metadata": {
      "image/png": {
       "height": 193,
       "width": 264
      }
     },
     "output_type": "display_data"
    }
   ],
   "source": [
    "layer = keras.activations.tanh\n",
    "x = tf.linspace(-3, 3, 1000)\n",
    "y = layer(x)\n",
    "\n",
    "fig, ax = plt.subplots(figsize=(4,3))\n",
    "ax.plot(x, y, 'grey')\n",
    "plt.show()"
   ]
  },
  {
   "cell_type": "markdown",
   "metadata": {},
   "source": [
    "### Softsign\n",
    "Softsign is very much like Tanh, but the domain before approaching boundaries of Softsign is wider than Tanh.\n",
    "\n",
    "$$\\text{Softsign}(x)=\\frac{x}{|x|+1}$$"
   ]
  },
  {
   "cell_type": "code",
   "execution_count": 152,
   "metadata": {},
   "outputs": [
    {
     "data": {
      "image/png": "[encoded data removed]",
      "text/plain": [
       "<Figure size 288x216 with 1 Axes>"
      ]
     },
     "metadata": {
      "image/png": {
       "height": 194,
       "width": 264
      }
     },
     "output_type": "display_data"
    }
   ],
   "source": [
    "layer = keras.activations.softsign\n",
    "x = tf.linspace(-20, 20, 1000)\n",
    "y = layer(x)\n",
    "\n",
    "fig, ax = plt.subplots(figsize=(4,3))\n",
    "ax.plot(x, y, 'grey')\n",
    "plt.show()"
   ]
  },
  {
   "cell_type": "markdown",
   "metadata": {},
   "source": [
    "### ReLU\n",
    "[**Re**ctified **L**inear **U**nit] (ReLU)\n",
    "\n",
    "$$\n",
    "\\text{ReLU}(x)=\\max{(0,x)}=\n",
    "\\begin{cases}\n",
    "    0 &\\;\\text{if }x<0 \\\\\n",
    "    x &\\;\\text{if }x\\geq0 \\\\\n",
    "\\end{cases}\n",
    "$$\n",
    "\n",
    "[**Re**ctified **L**inear **U**nit]: https://en.wikipedia.org/wiki/Rectifier_(neural_networks)"
   ]
  },
  {
   "cell_type": "code",
   "execution_count": 173,
   "metadata": {},
   "outputs": [
    {
     "data": {
      "image/png": "[encoded data removed]",
      "text/plain": [
       "<Figure size 288x216 with 1 Axes>"
      ]
     },
     "metadata": {
      "image/png": {
       "height": 193,
       "width": 258
      }
     },
     "output_type": "display_data"
    }
   ],
   "source": [
    "layer = keras.activations.relu\n",
    "x = tf.linspace(-2, 2, 1000)\n",
    "y = layer(x)\n",
    "\n",
    "fig, ax = plt.subplots(figsize=(4,3))\n",
    "ax.plot(x, y, 'grey')\n",
    "plt.show()"
   ]
  },
  {
   "cell_type": "markdown",
   "metadata": {},
   "source": [
    "### LeakyReLU\n",
    "\n",
    "$$\n",
    "\\text{LeakyReLU}(x)=\n",
    "\\begin{cases}\n",
    "    \\alpha x &\\;\\text{if }x<0 \\\\\n",
    "    x &\\;\\text{if }x\\geq0 \\\\\n",
    "\\end{cases}\n",
    "$$\n"
   ]
  },
  {
   "cell_type": "code",
   "execution_count": 172,
   "metadata": {},
   "outputs": [
    {
     "data": {
      "image/png": "[encoded data removed]",
      "text/plain": [
       "<Figure size 288x216 with 1 Axes>"
      ]
     },
     "metadata": {
      "image/png": {
       "height": 193,
       "width": 258
      }
     },
     "output_type": "display_data"
    }
   ],
   "source": [
    "layer = keras.layers.LeakyReLU(alpha=0.1)\n",
    "x = tf.linspace(-2, 2, 1000)\n",
    "y = layer(x)\n",
    "\n",
    "fig, ax = plt.subplots(figsize=(4,3))\n",
    "ax.plot(x, y, 'grey')\n",
    "plt.show()"
   ]
  },
  {
   "cell_type": "markdown",
   "metadata": {},
   "source": [
    "### PReLU\n",
    "PReLU (**P**arametric **ReLU**) has exactly the same function form as LeakyReLU, but $\\alpha$ is *learnable* parameter instead of being a *tunable* hyperparameter."
   ]
  },
  {
   "cell_type": "code",
   "execution_count": 180,
   "metadata": {},
   "outputs": [
    {
     "name": "stdout",
     "output_type": "stream",
     "text": [
      "Model: \"sequential_5\"\n",
      "_________________________________________________________________\n",
      " Layer (type)                Output Shape              Param #   \n",
      "=================================================================\n",
      " dense_22 (Dense)            (None, 6)                 30        \n",
      "                                                                 \n",
      " leaky_re_lu_12 (LeakyReLU)  (None, 6)                 0         \n",
      "                                                                 \n",
      " dense_23 (Dense)            (None, 6)                 42        \n",
      "                                                                 \n",
      " p_re_lu (PReLU)             (None, 6)                 6         \n",
      "                                                                 \n",
      "=================================================================\n",
      "Total params: 78\n",
      "Trainable params: 78\n",
      "Non-trainable params: 0\n",
      "_________________________________________________________________\n"
     ]
    }
   ],
   "source": [
    "model = keras.Sequential([\n",
    "    layers.Input(shape=4),\n",
    "    layers.Dense(units=6),\n",
    "    layers.LeakyReLU(),\n",
    "    layers.Dense(units=6),\n",
    "    layers.PReLU(),\n",
    "])\n",
    "\n",
    "model.compile(loss='categorical_crossentropy')\n",
    "model.summary()"
   ]
  },
  {
   "cell_type": "markdown",
   "metadata": {},
   "source": [
    "### ELU\n",
    "ELU (**E**xponential **L**inear **U**nit)\n",
    "\n",
    "$$\n",
    "\\text{ELU}(x)=\n",
    "\\begin{cases}\n",
    "    \\alpha(e^x-1) &\\;\\text{if }x<0 \\\\\n",
    "    x &\\;\\text{if }x\\geq0 \\\\\n",
    "\\end{cases}\n",
    "$$"
   ]
  },
  {
   "cell_type": "code",
   "execution_count": 179,
   "metadata": {},
   "outputs": [
    {
     "data": {
      "image/png": "[encoded data removed]",
      "text/plain": [
       "<Figure size 288x216 with 1 Axes>"
      ]
     },
     "metadata": {
      "image/png": {
       "height": 193,
       "width": 250
      }
     },
     "output_type": "display_data"
    }
   ],
   "source": [
    "layer = keras.layers.ELU(alpha=0.5)\n",
    "x = tf.linspace(-5, 5, 1000)\n",
    "y = layer(x)\n",
    "\n",
    "fig, ax = plt.subplots(figsize=(4,3))\n",
    "ax.plot(x, y, 'grey')\n",
    "plt.show()"
   ]
  },
  {
   "cell_type": "markdown",
   "metadata": {},
   "source": [
    "### GELU"
   ]
  },
  {
   "cell_type": "markdown",
   "metadata": {},
   "source": [
    "### Softplus"
   ]
  },
  {
   "cell_type": "markdown",
   "metadata": {},
   "source": [
    "## 1.3. Backpropagation"
   ]
  },
  {
   "cell_type": "code",
   "execution_count": 1,
   "metadata": {
    "tags": []
   },
   "outputs": [],
   "source": [
    "import numpy as np\n",
    "import pandas as pd\n",
    "\n",
    "import tensorflow as tf\n",
    "from tensorflow import keras\n",
    "from tensorflow.keras import layers"
   ]
  },
  {
   "cell_type": "code",
   "execution_count": 5,
   "metadata": {},
   "outputs": [
    {
     "name": "stdout",
     "output_type": "stream",
     "text": [
      "Model: \"sequential_3\"\n",
      "_________________________________________________________________\n",
      " Layer (type)                Output Shape              Param #   \n",
      "=================================================================\n",
      " dense_3 (Dense)             (None, 1)                 4         \n",
      "                                                                 \n",
      "=================================================================\n",
      "Total params: 4\n",
      "Trainable params: 4\n",
      "Non-trainable params: 0\n",
      "_________________________________________________________________\n"
     ]
    }
   ],
   "source": [
    "model = keras.Sequential()\n",
    "model.add(layers.Dense(units=1))\n",
    "model.compile(tf.optimizers.Adam(learning_rate=0.1), loss='mean_absolute_error')\n",
    "model.build(input_shape=(None,3))\n",
    "model.summary()"
   ]
  },
  {
   "cell_type": "code",
   "execution_count": null,
   "metadata": {},
   "outputs": [],
   "source": []
  },
  {
   "cell_type": "code",
   "execution_count": null,
   "metadata": {},
   "outputs": [],
   "source": []
  },
  {
   "cell_type": "code",
   "execution_count": 2,
   "metadata": {
    "execution": {
     "iopub.execute_input": "2022-03-06T08:19:21.207404Z",
     "iopub.status.busy": "2022-03-06T08:19:21.207195Z",
     "iopub.status.idle": "2022-03-06T08:19:21.211669Z",
     "shell.execute_reply": "2022-03-06T08:19:21.210779Z",
     "shell.execute_reply.started": "2022-03-06T08:19:21.207384Z"
    },
    "id": "1RwrL2LCk6d1",
    "tags": []
   },
   "outputs": [],
   "source": [
    "x = np.array([-1.0, 0.0, 1.0, 2.0, 3.0, 4.0], dtype=float)\n",
    "y = np.array([0.0, 1.0, 2.0, 3.0, 4.0, 5.0], dtype=float)"
   ]
  },
  {
   "cell_type": "code",
   "execution_count": 14,
   "metadata": {
    "execution": {
     "iopub.execute_input": "2022-03-06T08:26:10.244712Z",
     "iopub.status.busy": "2022-03-06T08:26:10.244453Z",
     "iopub.status.idle": "2022-03-06T08:26:10.255065Z",
     "shell.execute_reply": "2022-03-06T08:26:10.254017Z",
     "shell.execute_reply.started": "2022-03-06T08:26:10.244689Z"
    },
    "tags": []
   },
   "outputs": [
    {
     "name": "stdout",
     "output_type": "stream",
     "text": [
      "Model: \"sequential_7\"\n",
      "_________________________________________________________________\n",
      " Layer (type)                Output Shape              Param #   \n",
      "=================================================================\n",
      " dense_7 (Dense)             (None, 1)                 2         \n",
      "                                                                 \n",
      "=================================================================\n",
      "Total params: 2\n",
      "Trainable params: 2\n",
      "Non-trainable params: 0\n",
      "_________________________________________________________________\n"
     ]
    }
   ],
   "source": [
    "model1.summary()"
   ]
  },
  {
   "cell_type": "code",
   "execution_count": 42,
   "metadata": {
    "execution": {
     "iopub.execute_input": "2022-03-06T08:57:23.726387Z",
     "iopub.status.busy": "2022-03-06T08:57:23.725977Z",
     "iopub.status.idle": "2022-03-06T08:57:26.001395Z",
     "shell.execute_reply": "2022-03-06T08:57:26.000600Z",
     "shell.execute_reply.started": "2022-03-06T08:57:23.726349Z"
    },
    "tags": []
   },
   "outputs": [
    {
     "data": {
      "text/plain": [
       "array([[-0.03436869],\n",
       "       [ 0.9754254 ],\n",
       "       [ 1.9852195 ],\n",
       "       [ 2.9950137 ],\n",
       "       [ 4.0048075 ],\n",
       "       [ 5.0146017 ]], dtype=float32)"
      ]
     },
     "execution_count": 42,
     "metadata": {},
     "output_type": "execute_result"
    }
   ],
   "source": [
    "normalizer = layers.Normalization(input_shape=(1,), axis=None)\n",
    "normalizer.adapt(xs)\n",
    "\n",
    "xs = xs.reshape(-1,1)\n",
    "ys = ys.reshape(-1,1)\n",
    "model1 = keras.Sequential()\n",
    "# model1.add(normalizer)\n",
    "model1.add(layers.Dense(units=1))\n",
    "\n",
    "model1.compile(loss='binary_crossentropy')\n",
    "\n",
    "model1.fit(xs, ys, validation_split=0.2, epochs=100, verbose=0)\n",
    "model1.predict(xs)"
   ]
  },
  {
   "cell_type": "markdown",
   "metadata": {},
   "source": [
    "References\n",
    "- *cs231n.github.io - [Convolutional Neural Networks for Visual Recognition](https://cs231n.github.io/neural-networks-1/)*\n",
    "- *towardsdatascience.com - [Activation Functions in Neural Networks](https://towardsdatascience.com/activation-functions-neural-networks-1cbd9f8d91d6)*"
   ]
  }
 ],
 "metadata": {
  "kernelspec": {
   "display_name": "Python 3 (ipykernel)",
   "language": "python",
   "name": "python3"
  },
  "language_info": {
   "codemirror_mode": {
    "name": "ipython",
    "version": 3
   },
   "file_extension": ".py",
   "mimetype": "text/x-python",
   "name": "python",
   "nbconvert_exporter": "python",
   "pygments_lexer": "ipython3",
   "version": "3.9.7"
  }
 },
 "nbformat": 4,
 "nbformat_minor": 4
}
