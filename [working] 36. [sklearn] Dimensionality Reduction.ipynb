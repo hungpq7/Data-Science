{
 "cells": [
  {
   "cell_type": "markdown",
   "id": "8107f2f4-deeb-4bf9-8d2f-4bd35c052f7e",
   "metadata": {},
   "source": [
    "# 2. Dimensionality reduction"
   ]
  },
  {
   "cell_type": "markdown",
   "id": "2c0a4645-5192-4e34-a9d7-24099f0afcd1",
   "metadata": {},
   "source": [
    "### The curse of dimensionality"
   ]
  },
  {
   "cell_type": "markdown",
   "id": "33a34dd1-94b0-409a-804b-8ef1998e4b08",
   "metadata": {},
   "source": [
    "## 2.1. Feature selection\n",
    "Feature selection refers to the tasks that remove low quality data, hence keep informative features. It helps reduce noises and computational cost. Here are some feature selection techniques, they can be implemented very easily."
   ]
  },
  {
   "cell_type": "markdown",
   "id": "937e3520-ab98-4520-949f-3ffb225332e1",
   "metadata": {},
   "source": [
    "### Filter methods\n",
    "Filter methods use Descriptive Statistics to decide which feature to be filtered out.\n",
    "\n",
    "- *Missing ratio evaluation*. Features having more than 40-50% of missing values can be dropped.\n",
    "\n",
    "- *Low variance filtering*. Think about a constant feature, whose all observations have the same value, it has no predictive power and cannot explain the target variable. Therefore, features with very low variance can be safely removed.\n",
    "\n",
    "- *High correlation filtering*. A pair of features having a high Pearson's correlation coefficient means they are very similar to each other, and they will bring the same information to the predictive model. Such a situation is call *multi-colinearity*, and it can mislead some Machine Learning algorithms. Therefore, only 1 variable in the high correlated pair should be used."
   ]
  },
  {
   "cell_type": "markdown",
   "id": "dcf59b15-b725-4fc1-88bb-31e5f575aa1c",
   "metadata": {},
   "source": [
    "### Wrapper methods\n",
    "Wrapper methods run Machine Learning algorithms on a subsets of the dataset to detect unimporatant features.\n",
    "\n",
    "- *Feature importances analysis*. Some ML algorithms have the ability to return feature importances. For example, Linear Regression uses variable weights and Decision Tree uses sum of information gains. Feature importances express how much information features contribute on predicting the target variable. In this approach, low important features will be removed.\n",
    "\n",
    "- *Backward feature elimination*. The idea of this technique is to fit an algorithm on all input variables and consecutively remove one feature at a time that worst reduces model score. This procedure stops when model score no longer changes.\n",
    "\n",
    "- *Foward feature construction*. This is basically the inverse process of the previous techique, it fits model and evaluate the results untill all significant features have been visited. Both backward elimination and foward construction are greedy algorithms, therefore they are not suite for large scale data."
   ]
  },
  {
   "cell_type": "markdown",
   "id": "7216ea50-90e0-4ea1-af1e-769a9a40b146",
   "metadata": {},
   "source": [
    "## 2.2. Principle Component Analysis"
   ]
  },
  {
   "cell_type": "markdown",
   "id": "8a3bc050-ce07-4848-8f84-97e6636325cd",
   "metadata": {},
   "source": [
    "**1. Principal Component Analysis (PCA)**\n",
    "\n",
    "PCA is a popular linear dimesionality reduction technique. In some problems, the number of features can be a thousand and it hard to collect enough data for each feature. This also cause overfitting for the model then dimesionality reduction is important. In easy way, dimesionality reduction is a function - with input is $\\mathbf{x} \\in \\mathbb{R}^D$ ($D$ is very large) and output is $\\mathbf{z} \\in \\mathbb{R}^K$ ($K < D$)\n",
    "\n",
    "**PCA makes maximum variability in the dataset more visible by rotating the axes**. In new coordinate, the importance of each feature will be more visible and we can delete the least important features.\n",
    "\n",
    "![image](data/pca.png)\n",
    "\n",
    "\n",
    "**The work flow:**\n",
    "1. Split $x$ and $y$ of dataset, assume that new dataset has *d dimensional* corresponding to *d columns of $x$*\n",
    "Student|Math|English|Art\n",
    ":---:|:------:|:---:|:--:|\n",
    "1 | 90 | 60 | 90\n",
    "2 | 90 | 90 | 30\n",
    "3 | 60 | 60 | 60\n",
    "4 | 60 | 60 | 90\n",
    "5 | 30 | 30 | 30\n",
    "\n",
    "Rewrite dataframe to matrix \n",
    "$$A = \n",
    "\\begin{bmatrix}\n",
    "90 & 60 & 90 \\\\\n",
    "90 & 90 & 30 \\\\\n",
    "60 & 60 & 60 \\\\\n",
    "60 & 60 & 90 \\\\\n",
    "30 & 30 & 30 \\\\\n",
    "\\end{bmatrix}\n",
    "$$\n",
    "2. Compute the *covariance matrix* of matrix. Find the most variability variable on the diagonal of covariance matrix.\n",
    "\n",
    "$$\n",
    "cov = \n",
    "\\begin{bmatrix}\n",
    "504 & 360 & 180 \\\\\n",
    "360 & 360 &   0 \\\\\n",
    "180 &   0 & 720 \\\\\n",
    "\\end{bmatrix}\n",
    "$$\n",
    "3. Conpute *Eigenvectors and  eigenvalues* of covariance matrix\n",
    "$$Eigenvalues: [ 44.819, 910.069, 629.110]$$\n",
    "\n",
    "4. Sort the eigenvectors by decreasing eigenvalues and choose $k$ eigenvectors with the largest eigenvalues to form a *d x k dimensional matrix $W$*\n",
    "\n",
    "$$W = [-0.65580225, -0.4291978 , -0.62105769]\\\\\n",
    "      [-0.3859988 , -0.51636642,  0.7644414 ]$$\n",
    "      \n",
    "5. Use $W$ - eigenvector matrix to transform the samples onto new subspace.\n",
    "$$x_{new}= x . W'$$\n",
    "With $W'$ is the transpose of $W$ and $x_{new}$ is $k$ principal components on a new subspace\n",
    "\n",
    "*Reference:* [Mathematics behind PCA](https://towardsdatascience.com/the-mathematics-behind-principal-component-analysis-fff2d7f4b643)"
   ]
  },
  {
   "cell_type": "markdown",
   "id": "08c43695-59dd-4b85-841e-adade244b268",
   "metadata": {},
   "source": [
    "**Describe mathematics behind PCA**"
   ]
  },
  {
   "cell_type": "code",
   "execution_count": 1,
   "id": "32eac925-2cd6-4bf2-a925-64e1fb6eaee1",
   "metadata": {},
   "outputs": [],
   "source": [
    "import numpy as np\n",
    "import pandas as pd"
   ]
  },
  {
   "cell_type": "code",
   "execution_count": 2,
   "id": "29f408ff-7edc-4dd0-a750-4a71919129ba",
   "metadata": {},
   "outputs": [],
   "source": [
    "math = np.array([90,90,60,60,30])\n",
    "english = np.array([60, 90, 60, 60, 30])\n",
    "art = np.array([90, 30, 60, 90, 30])"
   ]
  },
  {
   "cell_type": "code",
   "execution_count": 3,
   "id": "50a1c8b4-2c60-40ce-abd3-d31fa30b52fc",
   "metadata": {},
   "outputs": [
    {
     "data": {
      "text/plain": [
       "array([[504., 360., 180.],\n",
       "       [360., 360.,   0.],\n",
       "       [180.,   0., 720.]])"
      ]
     },
     "execution_count": 3,
     "metadata": {},
     "output_type": "execute_result"
    }
   ],
   "source": [
    "cov = np.cov([math, english, art])\n",
    "covn = cov/1.25\n",
    "covn"
   ]
  },
  {
   "cell_type": "code",
   "execution_count": 4,
   "id": "e47c4c8f-7ab7-4b48-bc60-718f078f585c",
   "metadata": {},
   "outputs": [],
   "source": [
    "eigenvalues, eigenvectors = np.linalg.eig(covn)"
   ]
  },
  {
   "cell_type": "code",
   "execution_count": 5,
   "id": "712caa4c-0f75-47de-a3fd-be4a16311124",
   "metadata": {},
   "outputs": [
    {
     "data": {
      "text/plain": [
       "array([ 44.81966028, 910.06995304, 629.11038668])"
      ]
     },
     "execution_count": 5,
     "metadata": {},
     "output_type": "execute_result"
    }
   ],
   "source": [
    "eigenvalues"
   ]
  },
  {
   "cell_type": "code",
   "execution_count": 6,
   "id": "983166ad-004e-438e-8199-b43ae050c08e",
   "metadata": {},
   "outputs": [
    {
     "data": {
      "text/plain": [
       "array([ 44.81966028, 629.11038668, 910.06995304])"
      ]
     },
     "execution_count": 6,
     "metadata": {},
     "output_type": "execute_result"
    }
   ],
   "source": [
    "np.sort(eigenvalues)"
   ]
  },
  {
   "cell_type": "code",
   "execution_count": 7,
   "id": "11b6aea0-96e8-4f1f-bc38-f52046340c77",
   "metadata": {},
   "outputs": [
    {
     "data": {
      "text/plain": [
       "array([[ 0.6487899 , -0.65580225, -0.3859988 ],\n",
       "       [-0.74104991, -0.4291978 , -0.51636642],\n",
       "       [-0.17296443, -0.62105769,  0.7644414 ]])"
      ]
     },
     "execution_count": 7,
     "metadata": {},
     "output_type": "execute_result"
    }
   ],
   "source": [
    "eigenvectors"
   ]
  },
  {
   "cell_type": "code",
   "execution_count": 8,
   "id": "6eb10f8c-bf86-40d8-b327-01e4b0c3692d",
   "metadata": {},
   "outputs": [
    {
     "data": {
      "text/plain": [
       "array([[-0.65580225, -0.4291978 , -0.62105769],\n",
       "       [-0.3859988 , -0.51636642,  0.7644414 ]])"
      ]
     },
     "execution_count": 8,
     "metadata": {},
     "output_type": "execute_result"
    }
   ],
   "source": [
    "W = eigenvectors[:, 1:3]\n",
    "W = W.T\n",
    "W"
   ]
  },
  {
   "cell_type": "code",
   "execution_count": 9,
   "id": "58a4d1c1-fb20-47ed-8ea0-25b587f0aad3",
   "metadata": {},
   "outputs": [
    {
     "data": {
      "text/plain": [
       "array([[90, 60, 90],\n",
       "       [90, 90, 30],\n",
       "       [60, 60, 60],\n",
       "       [60, 60, 90],\n",
       "       [30, 30, 30]])"
      ]
     },
     "execution_count": 9,
     "metadata": {},
     "output_type": "execute_result"
    }
   ],
   "source": [
    "A = np.array([math, english, art]).T\n",
    "A"
   ]
  },
  {
   "cell_type": "code",
   "execution_count": 10,
   "id": "125263ff-7519-4fe2-9e82-a16a36088126",
   "metadata": {},
   "outputs": [
    {
     "data": {
      "text/plain": [
       "array([[-140.6692628 ,    3.07784927],\n",
       "       [-116.28173533,  -58.27962721],\n",
       "       [-102.36346447,   -8.27542884],\n",
       "       [-120.99519515,   14.65781313],\n",
       "       [ -51.18173223,   -4.13771442]])"
      ]
     },
     "execution_count": 10,
     "metadata": {},
     "output_type": "execute_result"
    }
   ],
   "source": [
    "x_new = np.dot(A, W.T)\n",
    "x_new"
   ]
  },
  {
   "cell_type": "markdown",
   "id": "c365b827-5817-429a-8368-a3904ac7c2e5",
   "metadata": {},
   "source": [
    "**PCA with sklearn**\n",
    "\n",
    "**Problem:** Find the countries which need aid from WTO depend on information about economic and healthcare."
   ]
  },
  {
   "cell_type": "code",
   "execution_count": 74,
   "id": "d80696a3-3ef9-4839-bb69-40427489492f",
   "metadata": {},
   "outputs": [],
   "source": [
    "import numpy as np\n",
    "import pandas as pd\n",
    "import matplotlib.pyplot as plt\n",
    "from sklearn.preprocessing import StandardScaler\n",
    "from sklearn.decomposition import PCA"
   ]
  },
  {
   "cell_type": "code",
   "execution_count": 75,
   "id": "eeb7e2b0-4ca4-4692-9486-398fbf017d03",
   "metadata": {},
   "outputs": [
    {
     "data": {
      "text/html": [
       "<div>\n",
       "<style scoped>\n",
       "    .dataframe tbody tr th:only-of-type {\n",
       "        vertical-align: middle;\n",
       "    }\n",
       "\n",
       "    .dataframe tbody tr th {\n",
       "        vertical-align: top;\n",
       "    }\n",
       "\n",
       "    .dataframe thead th {\n",
       "        text-align: right;\n",
       "    }\n",
       "</style>\n",
       "<table border=\"1\" class=\"dataframe\">\n",
       "  <thead>\n",
       "    <tr style=\"text-align: right;\">\n",
       "      <th></th>\n",
       "      <th>country</th>\n",
       "      <th>child_mort</th>\n",
       "      <th>exports</th>\n",
       "      <th>health</th>\n",
       "      <th>imports</th>\n",
       "      <th>income</th>\n",
       "      <th>inflation</th>\n",
       "      <th>life_expec</th>\n",
       "      <th>total_fer</th>\n",
       "      <th>gdpp</th>\n",
       "    </tr>\n",
       "  </thead>\n",
       "  <tbody>\n",
       "    <tr>\n",
       "      <th>0</th>\n",
       "      <td>Afghanistan</td>\n",
       "      <td>90.2</td>\n",
       "      <td>10.0</td>\n",
       "      <td>7.58</td>\n",
       "      <td>44.9</td>\n",
       "      <td>1610</td>\n",
       "      <td>9.44</td>\n",
       "      <td>56.2</td>\n",
       "      <td>5.82</td>\n",
       "      <td>553</td>\n",
       "    </tr>\n",
       "    <tr>\n",
       "      <th>1</th>\n",
       "      <td>Albania</td>\n",
       "      <td>16.6</td>\n",
       "      <td>28.0</td>\n",
       "      <td>6.55</td>\n",
       "      <td>48.6</td>\n",
       "      <td>9930</td>\n",
       "      <td>4.49</td>\n",
       "      <td>76.3</td>\n",
       "      <td>1.65</td>\n",
       "      <td>4090</td>\n",
       "    </tr>\n",
       "    <tr>\n",
       "      <th>2</th>\n",
       "      <td>Algeria</td>\n",
       "      <td>27.3</td>\n",
       "      <td>38.4</td>\n",
       "      <td>4.17</td>\n",
       "      <td>31.4</td>\n",
       "      <td>12900</td>\n",
       "      <td>16.10</td>\n",
       "      <td>76.5</td>\n",
       "      <td>2.89</td>\n",
       "      <td>4460</td>\n",
       "    </tr>\n",
       "    <tr>\n",
       "      <th>3</th>\n",
       "      <td>Angola</td>\n",
       "      <td>119.0</td>\n",
       "      <td>62.3</td>\n",
       "      <td>2.85</td>\n",
       "      <td>42.9</td>\n",
       "      <td>5900</td>\n",
       "      <td>22.40</td>\n",
       "      <td>60.1</td>\n",
       "      <td>6.16</td>\n",
       "      <td>3530</td>\n",
       "    </tr>\n",
       "    <tr>\n",
       "      <th>4</th>\n",
       "      <td>Antigua and Barbuda</td>\n",
       "      <td>10.3</td>\n",
       "      <td>45.5</td>\n",
       "      <td>6.03</td>\n",
       "      <td>58.9</td>\n",
       "      <td>19100</td>\n",
       "      <td>1.44</td>\n",
       "      <td>76.8</td>\n",
       "      <td>2.13</td>\n",
       "      <td>12200</td>\n",
       "    </tr>\n",
       "  </tbody>\n",
       "</table>\n",
       "</div>"
      ],
      "text/plain": [
       "               country  child_mort  exports  health  imports  income  \\\n",
       "0          Afghanistan        90.2     10.0    7.58     44.9    1610   \n",
       "1              Albania        16.6     28.0    6.55     48.6    9930   \n",
       "2              Algeria        27.3     38.4    4.17     31.4   12900   \n",
       "3               Angola       119.0     62.3    2.85     42.9    5900   \n",
       "4  Antigua and Barbuda        10.3     45.5    6.03     58.9   19100   \n",
       "\n",
       "   inflation  life_expec  total_fer   gdpp  \n",
       "0       9.44        56.2       5.82    553  \n",
       "1       4.49        76.3       1.65   4090  \n",
       "2      16.10        76.5       2.89   4460  \n",
       "3      22.40        60.1       6.16   3530  \n",
       "4       1.44        76.8       2.13  12200  "
      ]
     },
     "execution_count": 75,
     "metadata": {},
     "output_type": "execute_result"
    }
   ],
   "source": [
    "df = pd.read_csv('data/country_data.csv')\n",
    "df.head()"
   ]
  },
  {
   "cell_type": "code",
   "execution_count": 76,
   "id": "28063655-557c-43ec-9a11-d5328bf02cbe",
   "metadata": {},
   "outputs": [
    {
     "data": {
      "text/html": [
       "<div>\n",
       "<style scoped>\n",
       "    .dataframe tbody tr th:only-of-type {\n",
       "        vertical-align: middle;\n",
       "    }\n",
       "\n",
       "    .dataframe tbody tr th {\n",
       "        vertical-align: top;\n",
       "    }\n",
       "\n",
       "    .dataframe thead th {\n",
       "        text-align: right;\n",
       "    }\n",
       "</style>\n",
       "<table border=\"1\" class=\"dataframe\">\n",
       "  <thead>\n",
       "    <tr style=\"text-align: right;\">\n",
       "      <th></th>\n",
       "      <th>child_mort</th>\n",
       "      <th>exports</th>\n",
       "      <th>health</th>\n",
       "      <th>imports</th>\n",
       "      <th>income</th>\n",
       "      <th>inflation</th>\n",
       "      <th>life_expec</th>\n",
       "      <th>total_fer</th>\n",
       "      <th>gdpp</th>\n",
       "    </tr>\n",
       "  </thead>\n",
       "  <tbody>\n",
       "    <tr>\n",
       "      <th>0</th>\n",
       "      <td>90.2</td>\n",
       "      <td>10.0</td>\n",
       "      <td>7.58</td>\n",
       "      <td>44.9</td>\n",
       "      <td>1610</td>\n",
       "      <td>9.44</td>\n",
       "      <td>56.2</td>\n",
       "      <td>5.82</td>\n",
       "      <td>553</td>\n",
       "    </tr>\n",
       "    <tr>\n",
       "      <th>1</th>\n",
       "      <td>16.6</td>\n",
       "      <td>28.0</td>\n",
       "      <td>6.55</td>\n",
       "      <td>48.6</td>\n",
       "      <td>9930</td>\n",
       "      <td>4.49</td>\n",
       "      <td>76.3</td>\n",
       "      <td>1.65</td>\n",
       "      <td>4090</td>\n",
       "    </tr>\n",
       "    <tr>\n",
       "      <th>2</th>\n",
       "      <td>27.3</td>\n",
       "      <td>38.4</td>\n",
       "      <td>4.17</td>\n",
       "      <td>31.4</td>\n",
       "      <td>12900</td>\n",
       "      <td>16.10</td>\n",
       "      <td>76.5</td>\n",
       "      <td>2.89</td>\n",
       "      <td>4460</td>\n",
       "    </tr>\n",
       "    <tr>\n",
       "      <th>3</th>\n",
       "      <td>119.0</td>\n",
       "      <td>62.3</td>\n",
       "      <td>2.85</td>\n",
       "      <td>42.9</td>\n",
       "      <td>5900</td>\n",
       "      <td>22.40</td>\n",
       "      <td>60.1</td>\n",
       "      <td>6.16</td>\n",
       "      <td>3530</td>\n",
       "    </tr>\n",
       "    <tr>\n",
       "      <th>4</th>\n",
       "      <td>10.3</td>\n",
       "      <td>45.5</td>\n",
       "      <td>6.03</td>\n",
       "      <td>58.9</td>\n",
       "      <td>19100</td>\n",
       "      <td>1.44</td>\n",
       "      <td>76.8</td>\n",
       "      <td>2.13</td>\n",
       "      <td>12200</td>\n",
       "    </tr>\n",
       "  </tbody>\n",
       "</table>\n",
       "</div>"
      ],
      "text/plain": [
       "   child_mort  exports  health  imports  income  inflation  life_expec  \\\n",
       "0        90.2     10.0    7.58     44.9    1610       9.44        56.2   \n",
       "1        16.6     28.0    6.55     48.6    9930       4.49        76.3   \n",
       "2        27.3     38.4    4.17     31.4   12900      16.10        76.5   \n",
       "3       119.0     62.3    2.85     42.9    5900      22.40        60.1   \n",
       "4        10.3     45.5    6.03     58.9   19100       1.44        76.8   \n",
       "\n",
       "   total_fer   gdpp  \n",
       "0       5.82    553  \n",
       "1       1.65   4090  \n",
       "2       2.89   4460  \n",
       "3       6.16   3530  \n",
       "4       2.13  12200  "
      ]
     },
     "execution_count": 76,
     "metadata": {},
     "output_type": "execute_result"
    }
   ],
   "source": [
    "x = df.drop(columns=['country'])\n",
    "x.head()"
   ]
  },
  {
   "cell_type": "code",
   "execution_count": 77,
   "id": "e336bfff-9dd8-4d84-a3b4-c3cdc8261216",
   "metadata": {},
   "outputs": [
    {
     "data": {
      "text/plain": [
       "array([[ 1.29153238, -1.13827979,  0.27908825, ..., -1.61909203,\n",
       "         1.90288227, -0.67917961],\n",
       "       [-0.5389489 , -0.47965843, -0.09701618, ...,  0.64786643,\n",
       "        -0.85997281, -0.48562324],\n",
       "       [-0.27283273, -0.09912164, -0.96607302, ...,  0.67042323,\n",
       "        -0.0384044 , -0.46537561],\n",
       "       ...,\n",
       "       [-0.37231541,  1.13030491,  0.0088773 , ...,  0.28695762,\n",
       "        -0.66120626, -0.63775406],\n",
       "       [ 0.44841668, -0.40647827, -0.59727159, ..., -0.34463279,\n",
       "         1.14094382, -0.63775406],\n",
       "       [ 1.11495062, -0.15034774, -0.33801514, ..., -2.09278484,\n",
       "         1.6246091 , -0.62954556]])"
      ]
     },
     "execution_count": 77,
     "metadata": {},
     "output_type": "execute_result"
    }
   ],
   "source": [
    "ss = StandardScaler()\n",
    "ss.fit_transform(x)"
   ]
  },
  {
   "cell_type": "code",
   "execution_count": 78,
   "id": "d22835f4-6350-4908-bd1f-a13361e89f51",
   "metadata": {},
   "outputs": [
    {
     "data": {
      "text/html": [
       "<div>\n",
       "<style scoped>\n",
       "    .dataframe tbody tr th:only-of-type {\n",
       "        vertical-align: middle;\n",
       "    }\n",
       "\n",
       "    .dataframe tbody tr th {\n",
       "        vertical-align: top;\n",
       "    }\n",
       "\n",
       "    .dataframe thead th {\n",
       "        text-align: right;\n",
       "    }\n",
       "</style>\n",
       "<table border=\"1\" class=\"dataframe\">\n",
       "  <thead>\n",
       "    <tr style=\"text-align: right;\">\n",
       "      <th></th>\n",
       "      <th>PC1</th>\n",
       "      <th>PC2</th>\n",
       "    </tr>\n",
       "  </thead>\n",
       "  <tbody>\n",
       "    <tr>\n",
       "      <th>0</th>\n",
       "      <td>-19815.128018</td>\n",
       "      <td>-1651.124720</td>\n",
       "    </tr>\n",
       "    <tr>\n",
       "      <th>1</th>\n",
       "      <td>-11338.938992</td>\n",
       "      <td>1493.469028</td>\n",
       "    </tr>\n",
       "    <tr>\n",
       "      <th>2</th>\n",
       "      <td>-8926.352589</td>\n",
       "      <td>3264.684102</td>\n",
       "    </tr>\n",
       "    <tr>\n",
       "      <th>3</th>\n",
       "      <td>-14652.465937</td>\n",
       "      <td>-867.795270</td>\n",
       "    </tr>\n",
       "    <tr>\n",
       "      <th>4</th>\n",
       "      <td>896.142032</td>\n",
       "      <td>1898.478151</td>\n",
       "    </tr>\n",
       "  </tbody>\n",
       "</table>\n",
       "</div>"
      ],
      "text/plain": [
       "            PC1          PC2\n",
       "0 -19815.128018 -1651.124720\n",
       "1 -11338.938992  1493.469028\n",
       "2  -8926.352589  3264.684102\n",
       "3 -14652.465937  -867.795270\n",
       "4    896.142032  1898.478151"
      ]
     },
     "execution_count": 78,
     "metadata": {},
     "output_type": "execute_result"
    }
   ],
   "source": [
    "pca = PCA(n_components=2)\n",
    "pc_df = pd.DataFrame(data = pca.fit_transform(x), columns = ['PC1', 'PC2'])\n",
    "pc_df.head()"
   ]
  },
  {
   "cell_type": "code",
   "execution_count": 79,
   "id": "da25b04b-e3e6-43c1-befc-63bc52f873ad",
   "metadata": {},
   "outputs": [
    {
     "data": {
      "text/plain": [
       "array([0.94792307, 0.05207346])"
      ]
     },
     "execution_count": 79,
     "metadata": {},
     "output_type": "execute_result"
    }
   ],
   "source": [
    "pca.explained_variance_ratio_"
   ]
  },
  {
   "cell_type": "code",
   "execution_count": 80,
   "id": "80129808-440f-4906-93c0-4d67685cc6bd",
   "metadata": {},
   "outputs": [],
   "source": [
    "import seaborn as sns \n",
    "from sklearn.cluster import KMeans"
   ]
  },
  {
   "cell_type": "code",
   "execution_count": 81,
   "id": "0b263d91-84dc-4f8b-99b4-88d86627c29e",
   "metadata": {},
   "outputs": [
    {
     "data": {
      "text/plain": [
       "KMeans(algorithm='auto', copy_x=True, init='k-means++', max_iter=300,\n",
       "       n_clusters=4, n_init=10, n_jobs=None, precompute_distances='auto',\n",
       "       random_state=None, tol=0.0001, verbose=0)"
      ]
     },
     "execution_count": 81,
     "metadata": {},
     "output_type": "execute_result"
    }
   ],
   "source": [
    "kmean = KMeans(n_clusters=4)\n",
    "kmean.fit(pc_df)"
   ]
  },
  {
   "cell_type": "code",
   "execution_count": 82,
   "id": "0a997f53-3ef0-4b1c-a3a9-3589694f75db",
   "metadata": {},
   "outputs": [
    {
     "data": {
      "text/html": [
       "<div>\n",
       "<style scoped>\n",
       "    .dataframe tbody tr th:only-of-type {\n",
       "        vertical-align: middle;\n",
       "    }\n",
       "\n",
       "    .dataframe tbody tr th {\n",
       "        vertical-align: top;\n",
       "    }\n",
       "\n",
       "    .dataframe thead th {\n",
       "        text-align: right;\n",
       "    }\n",
       "</style>\n",
       "<table border=\"1\" class=\"dataframe\">\n",
       "  <thead>\n",
       "    <tr style=\"text-align: right;\">\n",
       "      <th></th>\n",
       "      <th>PC1</th>\n",
       "      <th>PC2</th>\n",
       "      <th>group</th>\n",
       "    </tr>\n",
       "  </thead>\n",
       "  <tbody>\n",
       "    <tr>\n",
       "      <th>0</th>\n",
       "      <td>-19815.128018</td>\n",
       "      <td>-1651.124720</td>\n",
       "      <td>0</td>\n",
       "    </tr>\n",
       "    <tr>\n",
       "      <th>1</th>\n",
       "      <td>-11338.938992</td>\n",
       "      <td>1493.469028</td>\n",
       "      <td>0</td>\n",
       "    </tr>\n",
       "    <tr>\n",
       "      <th>2</th>\n",
       "      <td>-8926.352589</td>\n",
       "      <td>3264.684102</td>\n",
       "      <td>0</td>\n",
       "    </tr>\n",
       "    <tr>\n",
       "      <th>3</th>\n",
       "      <td>-14652.465937</td>\n",
       "      <td>-867.795270</td>\n",
       "      <td>0</td>\n",
       "    </tr>\n",
       "    <tr>\n",
       "      <th>4</th>\n",
       "      <td>896.142032</td>\n",
       "      <td>1898.478151</td>\n",
       "      <td>2</td>\n",
       "    </tr>\n",
       "  </tbody>\n",
       "</table>\n",
       "</div>"
      ],
      "text/plain": [
       "            PC1          PC2  group\n",
       "0 -19815.128018 -1651.124720      0\n",
       "1 -11338.938992  1493.469028      0\n",
       "2  -8926.352589  3264.684102      0\n",
       "3 -14652.465937  -867.795270      0\n",
       "4    896.142032  1898.478151      2"
      ]
     },
     "execution_count": 82,
     "metadata": {},
     "output_type": "execute_result"
    }
   ],
   "source": [
    "group = kmean.fit_predict(pc_df)\n",
    "result = pd.DataFrame(pc_df)\n",
    "result['group'] = group\n",
    "result.head()"
   ]
  },
  {
   "cell_type": "code",
   "execution_count": 83,
   "id": "2a2def32-6812-4162-bdbc-f1eb941a9032",
   "metadata": {},
   "outputs": [
    {
     "data": {
      "text/plain": [
       "<matplotlib.axes._subplots.AxesSubplot at 0x27fbe79a470>"
      ]
     },
     "execution_count": 83,
     "metadata": {},
     "output_type": "execute_result"
    },
    {
     "data": {
      "image/png": "[encoded data removed]",
      "text/plain": [
       "<Figure size 720x360 with 1 Axes>"
      ]
     },
     "metadata": {
      "needs_background": "light"
     },
     "output_type": "display_data"
    }
   ],
   "source": [
    "plt.figure(figsize=(10,5))\n",
    "sns.scatterplot(data=result, x='PC1', y='PC2', hue='group',palette='Set1', s=100)"
   ]
  },
  {
   "cell_type": "code",
   "execution_count": 90,
   "id": "7abc5f46-fdb9-46be-bacd-068e2405a0bc",
   "metadata": {},
   "outputs": [
    {
     "data": {
      "text/html": [
       "<div>\n",
       "<style scoped>\n",
       "    .dataframe tbody tr th:only-of-type {\n",
       "        vertical-align: middle;\n",
       "    }\n",
       "\n",
       "    .dataframe tbody tr th {\n",
       "        vertical-align: top;\n",
       "    }\n",
       "\n",
       "    .dataframe thead th {\n",
       "        text-align: right;\n",
       "    }\n",
       "</style>\n",
       "<table border=\"1\" class=\"dataframe\">\n",
       "  <thead>\n",
       "    <tr style=\"text-align: right;\">\n",
       "      <th></th>\n",
       "      <th>PC1</th>\n",
       "      <th>PC2</th>\n",
       "      <th>group</th>\n",
       "      <th>country</th>\n",
       "    </tr>\n",
       "  </thead>\n",
       "  <tbody>\n",
       "    <tr>\n",
       "      <th>0</th>\n",
       "      <td>-19815.128018</td>\n",
       "      <td>-1651.124720</td>\n",
       "      <td>0</td>\n",
       "      <td>Afghanistan</td>\n",
       "    </tr>\n",
       "    <tr>\n",
       "      <th>1</th>\n",
       "      <td>-11338.938992</td>\n",
       "      <td>1493.469028</td>\n",
       "      <td>0</td>\n",
       "      <td>Albania</td>\n",
       "    </tr>\n",
       "    <tr>\n",
       "      <th>2</th>\n",
       "      <td>-8926.352589</td>\n",
       "      <td>3264.684102</td>\n",
       "      <td>0</td>\n",
       "      <td>Algeria</td>\n",
       "    </tr>\n",
       "    <tr>\n",
       "      <th>3</th>\n",
       "      <td>-14652.465937</td>\n",
       "      <td>-867.795270</td>\n",
       "      <td>0</td>\n",
       "      <td>Angola</td>\n",
       "    </tr>\n",
       "    <tr>\n",
       "      <th>6</th>\n",
       "      <td>-14283.944388</td>\n",
       "      <td>-92.967224</td>\n",
       "      <td>0</td>\n",
       "      <td>Armenia</td>\n",
       "    </tr>\n",
       "    <tr>\n",
       "      <th>9</th>\n",
       "      <td>-5725.513089</td>\n",
       "      <td>4391.181823</td>\n",
       "      <td>0</td>\n",
       "      <td>Azerbaijan</td>\n",
       "    </tr>\n",
       "    <tr>\n",
       "      <th>12</th>\n",
       "      <td>-19071.076155</td>\n",
       "      <td>-1229.949789</td>\n",
       "      <td>0</td>\n",
       "      <td>Bangladesh</td>\n",
       "    </tr>\n",
       "    <tr>\n",
       "      <th>14</th>\n",
       "      <td>-5449.620912</td>\n",
       "      <td>4390.499532</td>\n",
       "      <td>0</td>\n",
       "      <td>Belarus</td>\n",
       "    </tr>\n",
       "    <tr>\n",
       "      <th>16</th>\n",
       "      <td>-12657.029819</td>\n",
       "      <td>-96.344094</td>\n",
       "      <td>0</td>\n",
       "      <td>Belize</td>\n",
       "    </tr>\n",
       "    <tr>\n",
       "      <th>17</th>\n",
       "      <td>-19521.704558</td>\n",
       "      <td>-1655.858612</td>\n",
       "      <td>0</td>\n",
       "      <td>Benin</td>\n",
       "    </tr>\n",
       "    <tr>\n",
       "      <th>18</th>\n",
       "      <td>-15201.820427</td>\n",
       "      <td>470.524185</td>\n",
       "      <td>0</td>\n",
       "      <td>Bhutan</td>\n",
       "    </tr>\n",
       "    <tr>\n",
       "      <th>19</th>\n",
       "      <td>-16073.223937</td>\n",
       "      <td>-77.903922</td>\n",
       "      <td>0</td>\n",
       "      <td>Bolivia</td>\n",
       "    </tr>\n",
       "    <tr>\n",
       "      <th>20</th>\n",
       "      <td>-11134.355849</td>\n",
       "      <td>971.315924</td>\n",
       "      <td>0</td>\n",
       "      <td>Bosnia and Herzegovina</td>\n",
       "    </tr>\n",
       "    <tr>\n",
       "      <th>21</th>\n",
       "      <td>-7337.422761</td>\n",
       "      <td>2165.881860</td>\n",
       "      <td>0</td>\n",
       "      <td>Botswana</td>\n",
       "    </tr>\n",
       "    <tr>\n",
       "      <th>22</th>\n",
       "      <td>-3133.829680</td>\n",
       "      <td>-534.572278</td>\n",
       "      <td>0</td>\n",
       "      <td>Brazil</td>\n",
       "    </tr>\n",
       "    <tr>\n",
       "      <th>24</th>\n",
       "      <td>-5547.304481</td>\n",
       "      <td>3183.611779</td>\n",
       "      <td>0</td>\n",
       "      <td>Bulgaria</td>\n",
       "    </tr>\n",
       "    <tr>\n",
       "      <th>25</th>\n",
       "      <td>-19930.847861</td>\n",
       "      <td>-1790.762942</td>\n",
       "      <td>0</td>\n",
       "      <td>Burkina Faso</td>\n",
       "    </tr>\n",
       "    <tr>\n",
       "      <th>26</th>\n",
       "      <td>-20651.142870</td>\n",
       "      <td>-1998.236120</td>\n",
       "      <td>0</td>\n",
       "      <td>Burundi</td>\n",
       "    </tr>\n",
       "    <tr>\n",
       "      <th>27</th>\n",
       "      <td>-18993.675823</td>\n",
       "      <td>-1195.307427</td>\n",
       "      <td>0</td>\n",
       "      <td>Cambodia</td>\n",
       "    </tr>\n",
       "    <tr>\n",
       "      <th>28</th>\n",
       "      <td>-18532.066416</td>\n",
       "      <td>-1480.024177</td>\n",
       "      <td>0</td>\n",
       "      <td>Cameroon</td>\n",
       "    </tr>\n",
       "    <tr>\n",
       "      <th>30</th>\n",
       "      <td>-14854.391096</td>\n",
       "      <td>-755.975582</td>\n",
       "      <td>0</td>\n",
       "      <td>Cape Verde</td>\n",
       "    </tr>\n",
       "    <tr>\n",
       "      <th>31</th>\n",
       "      <td>-20413.388007</td>\n",
       "      <td>-2069.341065</td>\n",
       "      <td>0</td>\n",
       "      <td>Central African Republic</td>\n",
       "    </tr>\n",
       "    <tr>\n",
       "      <th>32</th>\n",
       "      <td>-19346.308348</td>\n",
       "      <td>-1681.324874</td>\n",
       "      <td>0</td>\n",
       "      <td>Chad</td>\n",
       "    </tr>\n",
       "    <tr>\n",
       "      <th>34</th>\n",
       "      <td>-11306.796152</td>\n",
       "      <td>877.134686</td>\n",
       "      <td>0</td>\n",
       "      <td>China</td>\n",
       "    </tr>\n",
       "    <tr>\n",
       "      <th>35</th>\n",
       "      <td>-9150.291559</td>\n",
       "      <td>589.977233</td>\n",
       "      <td>0</td>\n",
       "      <td>Colombia</td>\n",
       "    </tr>\n",
       "    <tr>\n",
       "      <th>36</th>\n",
       "      <td>-19812.097767</td>\n",
       "      <td>-1945.475968</td>\n",
       "      <td>0</td>\n",
       "      <td>Comoros</td>\n",
       "    </tr>\n",
       "    <tr>\n",
       "      <th>37</th>\n",
       "      <td>-20693.038660</td>\n",
       "      <td>-2179.539605</td>\n",
       "      <td>0</td>\n",
       "      <td>Congo, Dem. Rep.</td>\n",
       "    </tr>\n",
       "    <tr>\n",
       "      <th>38</th>\n",
       "      <td>-15711.053196</td>\n",
       "      <td>-781.314329</td>\n",
       "      <td>0</td>\n",
       "      <td>Congo, Rep.</td>\n",
       "    </tr>\n",
       "    <tr>\n",
       "      <th>39</th>\n",
       "      <td>-6284.640726</td>\n",
       "      <td>615.340533</td>\n",
       "      <td>0</td>\n",
       "      <td>Costa Rica</td>\n",
       "    </tr>\n",
       "    <tr>\n",
       "      <th>40</th>\n",
       "      <td>-18572.071960</td>\n",
       "      <td>-1393.982921</td>\n",
       "      <td>0</td>\n",
       "      <td>Cote d'Ivoire</td>\n",
       "    </tr>\n",
       "    <tr>\n",
       "      <th>...</th>\n",
       "      <td>...</td>\n",
       "      <td>...</td>\n",
       "      <td>...</td>\n",
       "      <td>...</td>\n",
       "    </tr>\n",
       "    <tr>\n",
       "      <th>117</th>\n",
       "      <td>-4622.861337</td>\n",
       "      <td>2351.150867</td>\n",
       "      <td>0</td>\n",
       "      <td>Panama</td>\n",
       "    </tr>\n",
       "    <tr>\n",
       "      <th>118</th>\n",
       "      <td>-13848.281044</td>\n",
       "      <td>305.067155</td>\n",
       "      <td>0</td>\n",
       "      <td>Paraguay</td>\n",
       "    </tr>\n",
       "    <tr>\n",
       "      <th>119</th>\n",
       "      <td>-10678.320886</td>\n",
       "      <td>838.198290</td>\n",
       "      <td>0</td>\n",
       "      <td>Peru</td>\n",
       "    </tr>\n",
       "    <tr>\n",
       "      <th>120</th>\n",
       "      <td>-15832.097715</td>\n",
       "      <td>-56.403071</td>\n",
       "      <td>0</td>\n",
       "      <td>Philippines</td>\n",
       "    </tr>\n",
       "    <tr>\n",
       "      <th>126</th>\n",
       "      <td>-19997.189902</td>\n",
       "      <td>-1836.973662</td>\n",
       "      <td>0</td>\n",
       "      <td>Rwanda</td>\n",
       "    </tr>\n",
       "    <tr>\n",
       "      <th>127</th>\n",
       "      <td>-15070.722476</td>\n",
       "      <td>-1153.088681</td>\n",
       "      <td>0</td>\n",
       "      <td>Samoa</td>\n",
       "    </tr>\n",
       "    <tr>\n",
       "      <th>129</th>\n",
       "      <td>-19093.807724</td>\n",
       "      <td>-1584.420180</td>\n",
       "      <td>0</td>\n",
       "      <td>Senegal</td>\n",
       "    </tr>\n",
       "    <tr>\n",
       "      <th>130</th>\n",
       "      <td>-8419.126824</td>\n",
       "      <td>2436.895822</td>\n",
       "      <td>0</td>\n",
       "      <td>Serbia</td>\n",
       "    </tr>\n",
       "    <tr>\n",
       "      <th>132</th>\n",
       "      <td>-20204.397346</td>\n",
       "      <td>-1807.130232</td>\n",
       "      <td>0</td>\n",
       "      <td>Sierra Leone</td>\n",
       "    </tr>\n",
       "    <tr>\n",
       "      <th>136</th>\n",
       "      <td>-19185.256417</td>\n",
       "      <td>-2069.890978</td>\n",
       "      <td>0</td>\n",
       "      <td>Solomon Islands</td>\n",
       "    </tr>\n",
       "    <tr>\n",
       "      <th>137</th>\n",
       "      <td>-7643.383851</td>\n",
       "      <td>597.014692</td>\n",
       "      <td>0</td>\n",
       "      <td>South Africa</td>\n",
       "    </tr>\n",
       "    <tr>\n",
       "      <th>140</th>\n",
       "      <td>-13213.824508</td>\n",
       "      <td>1482.646911</td>\n",
       "      <td>0</td>\n",
       "      <td>Sri Lanka</td>\n",
       "    </tr>\n",
       "    <tr>\n",
       "      <th>141</th>\n",
       "      <td>-9876.234202</td>\n",
       "      <td>-68.641705</td>\n",
       "      <td>0</td>\n",
       "      <td>St. Vincent and the Grenadines</td>\n",
       "    </tr>\n",
       "    <tr>\n",
       "      <th>142</th>\n",
       "      <td>-17899.278931</td>\n",
       "      <td>-1115.849786</td>\n",
       "      <td>0</td>\n",
       "      <td>Sudan</td>\n",
       "    </tr>\n",
       "    <tr>\n",
       "      <th>143</th>\n",
       "      <td>-5343.857429</td>\n",
       "      <td>1366.961947</td>\n",
       "      <td>0</td>\n",
       "      <td>Suriname</td>\n",
       "    </tr>\n",
       "    <tr>\n",
       "      <th>146</th>\n",
       "      <td>-19324.640009</td>\n",
       "      <td>-1442.092923</td>\n",
       "      <td>0</td>\n",
       "      <td>Tajikistan</td>\n",
       "    </tr>\n",
       "    <tr>\n",
       "      <th>147</th>\n",
       "      <td>-19363.922698</td>\n",
       "      <td>-1429.678239</td>\n",
       "      <td>0</td>\n",
       "      <td>Tanzania</td>\n",
       "    </tr>\n",
       "    <tr>\n",
       "      <th>148</th>\n",
       "      <td>-8064.394858</td>\n",
       "      <td>3226.274823</td>\n",
       "      <td>0</td>\n",
       "      <td>Thailand</td>\n",
       "    </tr>\n",
       "    <tr>\n",
       "      <th>149</th>\n",
       "      <td>-17547.691695</td>\n",
       "      <td>-3700.654628</td>\n",
       "      <td>0</td>\n",
       "      <td>Timor-Leste</td>\n",
       "    </tr>\n",
       "    <tr>\n",
       "      <th>150</th>\n",
       "      <td>-20150.457554</td>\n",
       "      <td>-1878.620974</td>\n",
       "      <td>0</td>\n",
       "      <td>Togo</td>\n",
       "    </tr>\n",
       "    <tr>\n",
       "      <th>151</th>\n",
       "      <td>-15307.272707</td>\n",
       "      <td>-1514.276848</td>\n",
       "      <td>0</td>\n",
       "      <td>Tonga</td>\n",
       "    </tr>\n",
       "    <tr>\n",
       "      <th>152</th>\n",
       "      <td>-10963.010995</td>\n",
       "      <td>1779.997533</td>\n",
       "      <td>0</td>\n",
       "      <td>Tunisia</td>\n",
       "    </tr>\n",
       "    <tr>\n",
       "      <th>154</th>\n",
       "      <td>-11091.269041</td>\n",
       "      <td>1245.996498</td>\n",
       "      <td>0</td>\n",
       "      <td>Turkmenistan</td>\n",
       "    </tr>\n",
       "    <tr>\n",
       "      <th>155</th>\n",
       "      <td>-19837.141030</td>\n",
       "      <td>-1729.720426</td>\n",
       "      <td>0</td>\n",
       "      <td>Uganda</td>\n",
       "    </tr>\n",
       "    <tr>\n",
       "      <th>156</th>\n",
       "      <td>-13641.695898</td>\n",
       "      <td>858.081528</td>\n",
       "      <td>0</td>\n",
       "      <td>Ukraine</td>\n",
       "    </tr>\n",
       "    <tr>\n",
       "      <th>161</th>\n",
       "      <td>-17335.658854</td>\n",
       "      <td>-445.534817</td>\n",
       "      <td>0</td>\n",
       "      <td>Uzbekistan</td>\n",
       "    </tr>\n",
       "    <tr>\n",
       "      <th>162</th>\n",
       "      <td>-17180.967679</td>\n",
       "      <td>-2487.153835</td>\n",
       "      <td>0</td>\n",
       "      <td>Vanuatu</td>\n",
       "    </tr>\n",
       "    <tr>\n",
       "      <th>164</th>\n",
       "      <td>-17202.017189</td>\n",
       "      <td>-222.889872</td>\n",
       "      <td>0</td>\n",
       "      <td>Vietnam</td>\n",
       "    </tr>\n",
       "    <tr>\n",
       "      <th>165</th>\n",
       "      <td>-17209.340213</td>\n",
       "      <td>-229.815901</td>\n",
       "      <td>0</td>\n",
       "      <td>Yemen</td>\n",
       "    </tr>\n",
       "    <tr>\n",
       "      <th>166</th>\n",
       "      <td>-17978.421643</td>\n",
       "      <td>-1163.124631</td>\n",
       "      <td>0</td>\n",
       "      <td>Zambia</td>\n",
       "    </tr>\n",
       "  </tbody>\n",
       "</table>\n",
       "<p>108 rows × 4 columns</p>\n",
       "</div>"
      ],
      "text/plain": [
       "              PC1          PC2  group                         country\n",
       "0   -19815.128018 -1651.124720      0                     Afghanistan\n",
       "1   -11338.938992  1493.469028      0                         Albania\n",
       "2    -8926.352589  3264.684102      0                         Algeria\n",
       "3   -14652.465937  -867.795270      0                          Angola\n",
       "6   -14283.944388   -92.967224      0                         Armenia\n",
       "9    -5725.513089  4391.181823      0                      Azerbaijan\n",
       "12  -19071.076155 -1229.949789      0                      Bangladesh\n",
       "14   -5449.620912  4390.499532      0                         Belarus\n",
       "16  -12657.029819   -96.344094      0                          Belize\n",
       "17  -19521.704558 -1655.858612      0                           Benin\n",
       "18  -15201.820427   470.524185      0                          Bhutan\n",
       "19  -16073.223937   -77.903922      0                         Bolivia\n",
       "20  -11134.355849   971.315924      0          Bosnia and Herzegovina\n",
       "21   -7337.422761  2165.881860      0                        Botswana\n",
       "22   -3133.829680  -534.572278      0                          Brazil\n",
       "24   -5547.304481  3183.611779      0                        Bulgaria\n",
       "25  -19930.847861 -1790.762942      0                    Burkina Faso\n",
       "26  -20651.142870 -1998.236120      0                         Burundi\n",
       "27  -18993.675823 -1195.307427      0                        Cambodia\n",
       "28  -18532.066416 -1480.024177      0                        Cameroon\n",
       "30  -14854.391096  -755.975582      0                      Cape Verde\n",
       "31  -20413.388007 -2069.341065      0        Central African Republic\n",
       "32  -19346.308348 -1681.324874      0                            Chad\n",
       "34  -11306.796152   877.134686      0                           China\n",
       "35   -9150.291559   589.977233      0                        Colombia\n",
       "36  -19812.097767 -1945.475968      0                         Comoros\n",
       "37  -20693.038660 -2179.539605      0                Congo, Dem. Rep.\n",
       "38  -15711.053196  -781.314329      0                     Congo, Rep.\n",
       "39   -6284.640726   615.340533      0                      Costa Rica\n",
       "40  -18572.071960 -1393.982921      0                   Cote d'Ivoire\n",
       "..            ...          ...    ...                             ...\n",
       "117  -4622.861337  2351.150867      0                          Panama\n",
       "118 -13848.281044   305.067155      0                        Paraguay\n",
       "119 -10678.320886   838.198290      0                            Peru\n",
       "120 -15832.097715   -56.403071      0                     Philippines\n",
       "126 -19997.189902 -1836.973662      0                          Rwanda\n",
       "127 -15070.722476 -1153.088681      0                           Samoa\n",
       "129 -19093.807724 -1584.420180      0                         Senegal\n",
       "130  -8419.126824  2436.895822      0                          Serbia\n",
       "132 -20204.397346 -1807.130232      0                    Sierra Leone\n",
       "136 -19185.256417 -2069.890978      0                 Solomon Islands\n",
       "137  -7643.383851   597.014692      0                    South Africa\n",
       "140 -13213.824508  1482.646911      0                       Sri Lanka\n",
       "141  -9876.234202   -68.641705      0  St. Vincent and the Grenadines\n",
       "142 -17899.278931 -1115.849786      0                           Sudan\n",
       "143  -5343.857429  1366.961947      0                        Suriname\n",
       "146 -19324.640009 -1442.092923      0                      Tajikistan\n",
       "147 -19363.922698 -1429.678239      0                        Tanzania\n",
       "148  -8064.394858  3226.274823      0                        Thailand\n",
       "149 -17547.691695 -3700.654628      0                     Timor-Leste\n",
       "150 -20150.457554 -1878.620974      0                            Togo\n",
       "151 -15307.272707 -1514.276848      0                           Tonga\n",
       "152 -10963.010995  1779.997533      0                         Tunisia\n",
       "154 -11091.269041  1245.996498      0                    Turkmenistan\n",
       "155 -19837.141030 -1729.720426      0                          Uganda\n",
       "156 -13641.695898   858.081528      0                         Ukraine\n",
       "161 -17335.658854  -445.534817      0                      Uzbekistan\n",
       "162 -17180.967679 -2487.153835      0                         Vanuatu\n",
       "164 -17202.017189  -222.889872      0                         Vietnam\n",
       "165 -17209.340213  -229.815901      0                           Yemen\n",
       "166 -17978.421643 -1163.124631      0                          Zambia\n",
       "\n",
       "[108 rows x 4 columns]"
      ]
     },
     "execution_count": 90,
     "metadata": {},
     "output_type": "execute_result"
    }
   ],
   "source": [
    "d_country = pd.concat([result, df[['country']]], axis = 1)\n",
    "d_country[d_country['group']==0]"
   ]
  },
  {
   "cell_type": "markdown",
   "id": "080db431-b7d3-49f6-8ff4-317ad733f3fe",
   "metadata": {},
   "source": [
    "## 2.3. Linear Discriminant Analysis"
   ]
  },
  {
   "cell_type": "markdown",
   "id": "1a1b6742-ddc7-4d6e-89ca-817f6974e5e4",
   "metadata": {},
   "source": [
    "**2. Linear Discriminant Analysis (LDA)**\n",
    "\n",
    "LDA is a supervised learning method of dimesionality reduntion for classification, this can be used for dimesionality reduntion or classification or both of them - means use LDA to reduce the data dimension for the most effective classification.\n",
    "`Discriminant` means special features of each class, `Linear` means linear transform - the data dimension reduction is performed by a projection matrix."
   ]
  },
  {
   "cell_type": "markdown",
   "id": "25f7ed34-55d1-48ce-9e82-6702a6b90286",
   "metadata": {},
   "source": [
    "**2.1. Simple Idea behind LDA**\n",
    "\n",
    "![image](data/lda.png)\n",
    "\n",
    "The problem is we need to split 2 classes: blue and red data. In `a,`, both classes are too scattered making the overlap ratio (gray area part) large, this means data is not discriminantive. In `b,`, the standard deviation of 2 classes are small but the distance between two expectation is too small, this make overlap ratio large. And in `c,`, the standard deviation of 2 classes are small and the distance between two expectation is large, the overlap is small.\n",
    "\n",
    "The small standard deviation represents less scattering of the data. This means that the data in each class tends to be the same. Two variances $s_1, s_2$ are called `within-class variances`. The large gap between expectations proves that the two classes are far apart, the data between classes is much different. Square the distance between two expectations $(m_1-m_2)^2$ is called `between-class variance`\n",
    "\n",
    "Two class are called **discriminant** if between-class variance is huge and within-class variance is small. LDA is a algorithm which find a projection to maximum the ratio between within-class variances and between-class variance\n",
    "\n",
    "*Reference: [Linear discriminant analysis](https://machinelearningcoban.com/2017/06/30/lda/)*"
   ]
  },
  {
   "cell_type": "markdown",
   "id": "73e8362b-3e53-4766-a9c1-3ba367f87425",
   "metadata": {},
   "source": [
    "**2.2. Target function**\n",
    "\n",
    "Assume that we have $N$ data points $x_1, x_2, \\dots, x_n$, in which $N_1 < N$ first points belong to class 1, $N_2 = N - N_1$ points belong to class 2. The projection is described by a vector $W$, the new data points are:\n",
    "$$y_n = W^T . x_n$$\n",
    "\n",
    "**Expectation vector**:\n",
    "$$\\mathbf{m}_k = \\frac{1}{N_k}\\sum_{n \\in \\mathcal{C}_k}\\mathbf{x}_n,~~~ k = 1, 2 ~~~~$$\n",
    "\n",
    "Then:\n",
    "$$m_1 - m_2 = \\frac{1}{N_1}\\sum_{i \\in \\mathcal{C}_1}y_i - \\frac{1}{N_2}\\sum_{j \\in \\mathcal{C}_2}y_j =  \\mathbf{w}^T(\\mathbf{m}_1 - \\mathbf{m}_2) ~~~~ $$\n",
    "\n",
    "**Within-class variances:**\n",
    "$$s_k^2 = \\sum_{n \\in \\mathcal{C}_k} (y_n - m_k)^2, ~~ k = 1, 2 ~~~~ $$\n",
    "\n",
    "**LDA will find the maximum value of target function:**\n",
    "$$J(\\mathbf{w}) = \\frac{(m_1 - m_2)^2}{s_1^2 + s_2^2}$$"
   ]
  },
  {
   "cell_type": "markdown",
   "id": "c230ab84-5466-4b4f-b8ec-f926846ce190",
   "metadata": {},
   "source": [
    "**2.3. Multi-classes classification with LDA**\n",
    "\n",
    "Assume that numbers of new dimesion is $D' < D$, new data coresponse to $x$ is:\n",
    "$$y = W^T.x$$\n",
    "\n",
    "- Within-class variances of class $k$:\n",
    "$$\\begin{eqnarray}\n",
    "\\sigma_k^2 &=& \\sum_{n \\in \\mathcal{C}_k} (\\mathbf{y}_n -\\mathbf{e}_k)^2 \\\\\n",
    "&=& (\\mathbf{W}^T (\\mathbf{X}_k - \\mathbf{M}_k))^2 &\n",
    "\\end{eqnarray}$$\n",
    "\n",
    "With:\\\n",
    "$e_k$: expectation vector of class $k$ in new space\\\n",
    "$m_k$: expectation vector of class $k$ in old space\\\n",
    "$X_k, Y_k$: data matrix of class $k$ in old space and new space\n",
    "\n",
    "- Between-class variance:\n",
    "$$s_B = \\sum_{k=1}^C N_k ({e}_k - {e})^2 = \\sum_{k=1}^C ({E}_k - E)^2$$\n",
    "\n",
    "With:\\\n",
    "$N_k$: numbers of points in class $k$\\\n",
    "$e$: expectation vector of all class\n",
    "\n",
    "**Loss function:**\n",
    "\n",
    "$$W = \\arg\\max J(W) = \\frac{\\sigma^2}{s_B}$$"
   ]
  },
  {
   "cell_type": "code",
   "execution_count": 11,
   "id": "b5e92ca8-3047-4631-8ed2-0155a316423d",
   "metadata": {},
   "outputs": [],
   "source": [
    "import numpy as np\n",
    "import pandas as pd\n",
    "import matplotlib.pyplot as plt\n",
    "from sklearn.model_selection import train_test_split\n",
    "from sklearn import datasets\n",
    "from sklearn.discriminant_analysis import LinearDiscriminantAnalysis"
   ]
  },
  {
   "cell_type": "code",
   "execution_count": 10,
   "id": "350241e7-9220-432b-af5a-7e9569a341df",
   "metadata": {},
   "outputs": [
    {
     "data": {
      "text/html": [
       "<div>\n",
       "<style scoped>\n",
       "    .dataframe tbody tr th:only-of-type {\n",
       "        vertical-align: middle;\n",
       "    }\n",
       "\n",
       "    .dataframe tbody tr th {\n",
       "        vertical-align: top;\n",
       "    }\n",
       "\n",
       "    .dataframe thead th {\n",
       "        text-align: right;\n",
       "    }\n",
       "</style>\n",
       "<table border=\"1\" class=\"dataframe\">\n",
       "  <thead>\n",
       "    <tr style=\"text-align: right;\">\n",
       "      <th></th>\n",
       "      <th>sepal length (cm)</th>\n",
       "      <th>sepal width (cm)</th>\n",
       "      <th>petal length (cm)</th>\n",
       "      <th>petal width (cm)</th>\n",
       "      <th>target</th>\n",
       "    </tr>\n",
       "  </thead>\n",
       "  <tbody>\n",
       "    <tr>\n",
       "      <th>0</th>\n",
       "      <td>5.1</td>\n",
       "      <td>3.5</td>\n",
       "      <td>1.4</td>\n",
       "      <td>0.2</td>\n",
       "      <td>0</td>\n",
       "    </tr>\n",
       "    <tr>\n",
       "      <th>1</th>\n",
       "      <td>4.9</td>\n",
       "      <td>3.0</td>\n",
       "      <td>1.4</td>\n",
       "      <td>0.2</td>\n",
       "      <td>0</td>\n",
       "    </tr>\n",
       "    <tr>\n",
       "      <th>2</th>\n",
       "      <td>4.7</td>\n",
       "      <td>3.2</td>\n",
       "      <td>1.3</td>\n",
       "      <td>0.2</td>\n",
       "      <td>0</td>\n",
       "    </tr>\n",
       "    <tr>\n",
       "      <th>3</th>\n",
       "      <td>4.6</td>\n",
       "      <td>3.1</td>\n",
       "      <td>1.5</td>\n",
       "      <td>0.2</td>\n",
       "      <td>0</td>\n",
       "    </tr>\n",
       "    <tr>\n",
       "      <th>4</th>\n",
       "      <td>5.0</td>\n",
       "      <td>3.6</td>\n",
       "      <td>1.4</td>\n",
       "      <td>0.2</td>\n",
       "      <td>0</td>\n",
       "    </tr>\n",
       "  </tbody>\n",
       "</table>\n",
       "</div>"
      ],
      "text/plain": [
       "   sepal length (cm)  sepal width (cm)  petal length (cm)  petal width (cm)  \\\n",
       "0                5.1               3.5                1.4               0.2   \n",
       "1                4.9               3.0                1.4               0.2   \n",
       "2                4.7               3.2                1.3               0.2   \n",
       "3                4.6               3.1                1.5               0.2   \n",
       "4                5.0               3.6                1.4               0.2   \n",
       "\n",
       "   target  \n",
       "0       0  \n",
       "1       0  \n",
       "2       0  \n",
       "3       0  \n",
       "4       0  "
      ]
     },
     "execution_count": 10,
     "metadata": {},
     "output_type": "execute_result"
    }
   ],
   "source": [
    "iris = datasets.load_iris()\n",
    "\n",
    "iris_df = pd.DataFrame(iris.data, columns=iris.feature_names)\n",
    "iris_df['target'] = iris.target\n",
    "iris_df.head()"
   ]
  },
  {
   "cell_type": "code",
   "execution_count": 8,
   "id": "de87b75d-9ae8-48c3-a262-52b8c38d2aaa",
   "metadata": {},
   "outputs": [],
   "source": [
    "x = iris.data\n",
    "y = iris.target"
   ]
  },
  {
   "cell_type": "code",
   "execution_count": 12,
   "id": "0eaa6609-fbb7-4923-aa3b-b2f33d34237f",
   "metadata": {},
   "outputs": [],
   "source": [
    "x_train, x_test, y_train, y_test = train_test_split(x, y, test_size = 0.3)"
   ]
  },
  {
   "cell_type": "code",
   "execution_count": 32,
   "id": "1a831f37-552b-4f73-8503-8561017a9984",
   "metadata": {},
   "outputs": [
    {
     "data": {
      "text/plain": [
       "LinearDiscriminantAnalysis(n_components=2, priors=None, shrinkage=None,\n",
       "                           solver='svd', store_covariance=False, tol=0.0001)"
      ]
     },
     "execution_count": 32,
     "metadata": {},
     "output_type": "execute_result"
    }
   ],
   "source": [
    "lda = LinearDiscriminantAnalysis(n_components = 2)\n",
    "lda.fit(x_train, y_train)"
   ]
  },
  {
   "cell_type": "code",
   "execution_count": 33,
   "id": "29dcd480-c57c-4b36-90cf-9d84857e16d1",
   "metadata": {},
   "outputs": [
    {
     "data": {
      "text/plain": [
       "array([0.99390364, 0.00609636])"
      ]
     },
     "execution_count": 33,
     "metadata": {},
     "output_type": "execute_result"
    }
   ],
   "source": [
    "lda.explained_variance_ratio_"
   ]
  },
  {
   "cell_type": "code",
   "execution_count": 34,
   "id": "baadb8e9-8ea4-49a6-a588-f49eb88e66d7",
   "metadata": {},
   "outputs": [
    {
     "name": "stdout",
     "output_type": "stream",
     "text": [
      "accuracy for train set is 0.9809523809523809\n",
      "accuracy for test set is 0.9777777777777777\n"
     ]
    }
   ],
   "source": [
    "train_score = lda.score(x_train, y_train)\n",
    "test_score = lda.score(x_test, y_test)\n",
    "\n",
    "print(f'accuracy for train set is {train_score}')\n",
    "print(f'accuracy for test set is {test_score}')"
   ]
  },
  {
   "cell_type": "code",
   "execution_count": 39,
   "id": "0fbb356a-4e55-4e51-b2ae-bd9d99219b15",
   "metadata": {},
   "outputs": [
    {
     "data": {
      "text/html": [
       "<div>\n",
       "<style scoped>\n",
       "    .dataframe tbody tr th:only-of-type {\n",
       "        vertical-align: middle;\n",
       "    }\n",
       "\n",
       "    .dataframe tbody tr th {\n",
       "        vertical-align: top;\n",
       "    }\n",
       "\n",
       "    .dataframe thead th {\n",
       "        text-align: right;\n",
       "    }\n",
       "</style>\n",
       "<table border=\"1\" class=\"dataframe\">\n",
       "  <thead>\n",
       "    <tr style=\"text-align: right;\">\n",
       "      <th></th>\n",
       "      <th>LDA1</th>\n",
       "      <th>LDA2</th>\n",
       "      <th>class</th>\n",
       "    </tr>\n",
       "  </thead>\n",
       "  <tbody>\n",
       "    <tr>\n",
       "      <th>0</th>\n",
       "      <td>4.970070</td>\n",
       "      <td>-0.344928</td>\n",
       "      <td>2</td>\n",
       "    </tr>\n",
       "    <tr>\n",
       "      <th>1</th>\n",
       "      <td>1.714130</td>\n",
       "      <td>-1.313460</td>\n",
       "      <td>1</td>\n",
       "    </tr>\n",
       "    <tr>\n",
       "      <th>2</th>\n",
       "      <td>-6.519435</td>\n",
       "      <td>-1.063749</td>\n",
       "      <td>0</td>\n",
       "    </tr>\n",
       "    <tr>\n",
       "      <th>3</th>\n",
       "      <td>-6.264658</td>\n",
       "      <td>-0.295488</td>\n",
       "      <td>0</td>\n",
       "    </tr>\n",
       "    <tr>\n",
       "      <th>4</th>\n",
       "      <td>3.127009</td>\n",
       "      <td>-0.218253</td>\n",
       "      <td>1</td>\n",
       "    </tr>\n",
       "  </tbody>\n",
       "</table>\n",
       "</div>"
      ],
      "text/plain": [
       "       LDA1      LDA2  class\n",
       "0  4.970070 -0.344928      2\n",
       "1  1.714130 -1.313460      1\n",
       "2 -6.519435 -1.063749      0\n",
       "3 -6.264658 -0.295488      0\n",
       "4  3.127009 -0.218253      1"
      ]
     },
     "execution_count": 39,
     "metadata": {},
     "output_type": "execute_result"
    }
   ],
   "source": [
    "train_df = pd.DataFrame(lda.fit_transform(x_train, y_train),\n",
    "                        columns=['LDA1','LDA2'])\n",
    "train_df['class'] = y_train\n",
    "train_df.head()"
   ]
  },
  {
   "cell_type": "code",
   "execution_count": 64,
   "id": "73f32fb4-89e5-40e2-bf50-61e1bc93204e",
   "metadata": {},
   "outputs": [
    {
     "data": {
      "text/plain": [
       "<matplotlib.axes._subplots.AxesSubplot at 0x1ddf67be278>"
      ]
     },
     "execution_count": 64,
     "metadata": {},
     "output_type": "execute_result"
    },
    {
     "data": {
      "image/png": "[encoded data removed]",
      "text/plain": [
       "<Figure size 720x360 with 1 Axes>"
      ]
     },
     "metadata": {},
     "output_type": "display_data"
    }
   ],
   "source": [
    "import seaborn as sns\n",
    "plt.style.use('seaborn-deep')\n",
    "sns.set_style('whitegrid')\n",
    "plt.figure(figsize=(10,5))\n",
    "sns.scatterplot(data = train_df, x='LDA1', y='LDA2', hue='class', palette='Set2', s=100)"
   ]
  },
  {
   "cell_type": "code",
   "execution_count": 23,
   "id": "acee3a7c-e648-4bd8-bbae-3cb21b4493a0",
   "metadata": {},
   "outputs": [],
   "source": [
    "y_pred = lda.predict(x_test)"
   ]
  },
  {
   "cell_type": "code",
   "execution_count": 65,
   "id": "0578026f-184b-4902-bdde-9e91e3ecc06e",
   "metadata": {},
   "outputs": [
    {
     "data": {
      "text/html": [
       "<div>\n",
       "<style scoped>\n",
       "    .dataframe tbody tr th:only-of-type {\n",
       "        vertical-align: middle;\n",
       "    }\n",
       "\n",
       "    .dataframe tbody tr th {\n",
       "        vertical-align: top;\n",
       "    }\n",
       "\n",
       "    .dataframe thead th {\n",
       "        text-align: right;\n",
       "    }\n",
       "</style>\n",
       "<table border=\"1\" class=\"dataframe\">\n",
       "  <thead>\n",
       "    <tr style=\"text-align: right;\">\n",
       "      <th></th>\n",
       "      <th>LDA1</th>\n",
       "      <th>LDA2</th>\n",
       "      <th>class</th>\n",
       "    </tr>\n",
       "  </thead>\n",
       "  <tbody>\n",
       "    <tr>\n",
       "      <th>0</th>\n",
       "      <td>5.017269</td>\n",
       "      <td>2.225811</td>\n",
       "      <td>2</td>\n",
       "    </tr>\n",
       "    <tr>\n",
       "      <th>1</th>\n",
       "      <td>6.086837</td>\n",
       "      <td>1.970519</td>\n",
       "      <td>2</td>\n",
       "    </tr>\n",
       "    <tr>\n",
       "      <th>2</th>\n",
       "      <td>2.583906</td>\n",
       "      <td>0.736939</td>\n",
       "      <td>2</td>\n",
       "    </tr>\n",
       "    <tr>\n",
       "      <th>3</th>\n",
       "      <td>-1.161554</td>\n",
       "      <td>-0.871624</td>\n",
       "      <td>1</td>\n",
       "    </tr>\n",
       "    <tr>\n",
       "      <th>4</th>\n",
       "      <td>-8.080134</td>\n",
       "      <td>-0.036636</td>\n",
       "      <td>0</td>\n",
       "    </tr>\n",
       "  </tbody>\n",
       "</table>\n",
       "</div>"
      ],
      "text/plain": [
       "       LDA1      LDA2  class\n",
       "0  5.017269  2.225811      2\n",
       "1  6.086837  1.970519      2\n",
       "2  2.583906  0.736939      2\n",
       "3 -1.161554 -0.871624      1\n",
       "4 -8.080134 -0.036636      0"
      ]
     },
     "execution_count": 65,
     "metadata": {},
     "output_type": "execute_result"
    }
   ],
   "source": [
    "test_df = pd.DataFrame(lda.fit_transform(x_test, y_test),\n",
    "                        columns=['LDA1','LDA2'])\n",
    "test_df['class'] = y_pred\n",
    "test_df.head()"
   ]
  },
  {
   "cell_type": "code",
   "execution_count": 66,
   "id": "b621796f-5f6d-4a59-9cc1-37ae0f2a198e",
   "metadata": {},
   "outputs": [
    {
     "data": {
      "text/plain": [
       "<matplotlib.axes._subplots.AxesSubplot at 0x1ddf511e048>"
      ]
     },
     "execution_count": 66,
     "metadata": {},
     "output_type": "execute_result"
    },
    {
     "data": {
      "image/png": "[encoded data removed]",
      "text/plain": [
       "<Figure size 720x360 with 1 Axes>"
      ]
     },
     "metadata": {},
     "output_type": "display_data"
    }
   ],
   "source": [
    "plt.figure(figsize=(10,5))\n",
    "sns.scatterplot(data = test_df, x='LDA1', y='LDA2', hue='class', palette='Set2',s =100)"
   ]
  },
  {
   "cell_type": "markdown",
   "id": "9bf350cf-6d4f-4cb8-8759-0ed8990b5f9a",
   "metadata": {},
   "source": [
    "## 2.4. t-distributed Stochastic Neighbor Embedding"
   ]
  },
  {
   "cell_type": "markdown",
   "id": "6ef5fed5-15ef-4881-8634-a90783aa0f38",
   "metadata": {},
   "source": [
    "---\n",
    "*&#9829; By Quang Hung x Thuy Linh &#9829;*"
   ]
  }
 ],
 "metadata": {
  "kernelspec": {
   "display_name": "Python 3",
   "language": "python",
   "name": "python3"
  },
  "language_info": {
   "codemirror_mode": {
    "name": "ipython",
    "version": 3
   },
   "file_extension": ".py",
   "mimetype": "text/x-python",
   "name": "python",
   "nbconvert_exporter": "python",
   "pygments_lexer": "ipython3",
   "version": "3.8.8"
  }
 },
 "nbformat": 4,
 "nbformat_minor": 5
}
