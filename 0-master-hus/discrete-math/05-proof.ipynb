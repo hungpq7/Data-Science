{
 "cells": [
  {
   "cell_type": "markdown",
   "metadata": {},
   "source": [
    "- [Textbook](https://faculty.ksu.edu.sa/sites/default/files/rosen_discrete_mathematics_and_its_applications_7th_edition.pdf)\n",
    "- [Python](https://colab.research.google.com/drive/1vGYrfTyTM2QF3bVeSj_UStaRKwkTFCCm#scrollTo=aSh0bpboPoVn)\n",
    "- [Calculator](https://www.desmos.com/scientific)"
   ]
  },
  {
   "cell_type": "markdown",
   "metadata": {},
   "source": [
    "## 1.7 - Intro to Proof"
   ]
  },
  {
   "cell_type": "markdown",
   "metadata": {},
   "source": [
    "***\n",
    "> **21.**\n",
    "*Let $P(n)$ be the proposition \"If $a$ and $b$ are positive real numbers, then $(a + b)^n \\geq a^n + b^n$\". Prove that $P(1)$ is true. What kind of proof did you use?*"
   ]
  },
  {
   "cell_type": "markdown",
   "metadata": {},
   "source": [
    "## 1.8 - Proof methods"
   ]
  },
  {
   "cell_type": "markdown",
   "metadata": {},
   "source": [
    "***\n",
    "**12.**\n",
    "*Show that the product of two of the numbers $65^{1000} - 8^{2001} + 3^{177}$, $79^{1212} - 9^{2399} + 2^{2001}$, and $24^{4493} - 5^{8192} + 7^{1777}$ is nonnegative. Is your proof constructive or nonconstructive?*\n",
    "\n",
    "In any 3 numbers, if there are 2 or 3 positive numbers then their product is positive. If there are 0 or 1 positive numbers then there are 2 or 3 negative numbers, their product is also positive."
   ]
  },
  {
   "cell_type": "markdown",
   "metadata": {},
   "source": [
    "***\n",
    "**25.**\n",
    "*Write the numbers $1, 2, \\ldots, 2n$ on a blackboard, where $n$ is an odd integer. Pick any two of the numbers, $j$ and $k$, write $|j - k|$ on the board and erase $j$ and $k$. Continue this process until only one integer is written on the board. Prove that this integer must be odd.*\n",
    "\n",
    "At iteration $t=1,\\ldots,T$, let's say there are $O_t$ odd numbers, $E_t$ even numbers. First iteration: $O_0=E_0=2k+1$. Almost last iteration, $(O_{T-1},E_{T-1})$ can be $(1,1)$, $(0,2)$ or $(2,0)$\n",
    "\n",
    "When deleting 2 number and keep their differences, there can 3 cases:\n",
    "- 1 even 1 odd $\\to$ difference is odd $\\to$ $E_t$ reduces by 1\n",
    "- 2 evens $\\to$ difference is even $\\to$ $E_t$ reduces by 1\n",
    "- 2 odds $\\to$ difference is even $\\to$ $E_t$ increases by 1, $O_t$ reduces by 2\n",
    "\n",
    "We can observe that at any iteration, $O_t,E_t$ can only both odd or even-odd, never be both even. So $(O_{T-1},E_{T-1})=(1,1)$, then $(O_T,E_T)=(1,0)$"
   ]
  },
  {
   "cell_type": "markdown",
   "metadata": {},
   "source": [
    "## 5.1 - Mathematical Induction"
   ]
  },
  {
   "cell_type": "markdown",
   "metadata": {},
   "source": [
    "***\n",
    "**4.**\n",
    "*Prove:* $4(1^3+2^3+\\ldots+n^3)=n^2(n+1)^2$\n",
    "\n",
    "Basic step: $P(1)\\equiv 1=1$ is always True\n",
    "\n",
    "Induction step:\n",
    "- Assume being true: $P(n=k)\\equiv1^3+\\ldots+k^3=k^2(k+1)^2/4$\n",
    "- Prove: $P(n=k+1)\\equiv1^3+\\ldots+k^3+(k+1)^3=(k+1)^2(k+2)^2/4$\n",
    "\n",
    "$$\\begin{aligned}\n",
    "k^2(k+1)^2/4+(k+1)^3 &= (k+1)^2(k+2)^2/4 \\\\\n",
    "k^2+4(k+1) &= (k+2)^2 \\\\\n",
    "k^2+4k+4 &= (k+2)^2\n",
    "\\end{aligned}$$"
   ]
  },
  {
   "cell_type": "markdown",
   "metadata": {},
   "source": [
    "***\n",
    "**6.** *Prove for $n$ is a positive integer:*\n",
    "$1\\cdot 1!+2\\cdot 2!+\\ldots+n\\cdot n!=(n+1)!-1$\n",
    "\n",
    "Basic step: easily proved\n",
    "\n",
    "Induction step:\n",
    "- Assume being true: $P(k)\\equiv\\sum kk!=(k+1)!-1$\n",
    "- Prove: $P(k+1)\\equiv\\sum (k+1)(k+1)!=(k+2)!-1$\n",
    "\n",
    "$$\\begin{aligned}\n",
    "(k+1)!-1+(k+1)(k+1)! &= (k+2)!-1 \\\\\n",
    "(k+1)(k+1)! &= (k+2)!-(k+1)! \\\\\n",
    "(k+1)(k+1)! &= (k+2)(k+1)!-(k+1)! \\\\\n",
    "(k+1)(k+1)! &= (k+1)(k+1)! \\\\\n",
    "\\end{aligned}$$"
   ]
  },
  {
   "cell_type": "markdown",
   "metadata": {},
   "source": [
    "***\n",
    "***25.** *For all non-negative integers $n$, if $h>-1$ prove*\n",
    "$(1+h)^n\\geq1+nh$\n",
    "\n",
    "Basic step: obvious\n",
    "\n",
    "Induction step:\n",
    "- assume being true: $(1+h)^k\\geq1+kh$\n",
    "- prove: $(1+h)^{k+1}\\geq1+(k+1)h$\n",
    "\n",
    "$(1+h)^{k+1}=(1+h)(1+h)^k\\geq(1+h)(1+kh)=1+(k+1)h+kh^2\\geq1+(k+1)h$"
   ]
  },
  {
   "cell_type": "markdown",
   "metadata": {},
   "source": [
    "***\n",
    "> ****63.** Prove the AM-GM inequality\n",
    "\n",
    "$\\displaystyle{P(n)=\\frac{1}{n}\\sum_{1}^{n}} \\geq \\sqrt[n]{\\prod_{1}^{n}}$\n",
    "\n",
    "Basic: obvious $P(2)=\\text{True}$\n",
    "\n",
    "Induction 1: $P(k)=\\text{True}\\rightarrow P(2k)=\\text{True}$\n",
    "\n",
    "$\\displaystyle{\n",
    "\\text{LHS}\n",
    "=\\frac{1}{2k}\\sum_{1}^{2k}\n",
    "=\\frac{1}{2}\\left( \\frac{1}{k}\\sum_{1}^{k} + \\frac{1}{k}\\sum_{k+1}^{2k} \\right)\n",
    "\\geq \\frac{1}{2} \\left( \\sqrt[k]{\\prod_{1}^{k}} + \\sqrt[k]{\\prod_{k+1}^{2k}} \\right)\n",
    "\\geq \\sqrt[2k]{\\prod_{1}^{k} \\prod_{k+1}^{2k}}\n",
    "=\\sqrt[2k]{\\prod_{1}^{2k}}\n",
    "=\\text{RHS}\n",
    "}$"
   ]
  },
  {
   "cell_type": "markdown",
   "metadata": {},
   "source": [
    "$\\displaystyle{\n",
    "\\frac{1}{k-1}\\sum_{1}^{k-1}\n",
    "=\\frac{k}{k-1}\\frac{1}{k}\\sum_{1}^{k}-\\frac{x_k}{k-1}\n",
    "\\geq \\frac{k}{k-1}\\sqrt[k]{\\prod_{1}^{k}}\n",
    "}$"
   ]
  }
 ],
 "metadata": {
  "language_info": {
   "name": "python"
  }
 },
 "nbformat": 4,
 "nbformat_minor": 2
}
