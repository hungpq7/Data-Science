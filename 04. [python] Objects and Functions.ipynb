{
 "cells": [
  {
   "cell_type": "markdown",
   "metadata": {},
   "source": [
    "# 1. Functions\n",
    "There are two types of function in Python:\n",
    "- Built-in: functions that are pre-defined and always available for use.\n",
    "- User-defined: functions that are created by users to make code blocks reusable and more readable."
   ]
  },
  {
   "cell_type": "markdown",
   "metadata": {},
   "source": [
    "## 1.1. Function as object"
   ]
  },
  {
   "cell_type": "code",
   "execution_count": 25,
   "metadata": {},
   "outputs": [
    {
     "data": {
      "text/plain": [
       "'print'"
      ]
     },
     "execution_count": 25,
     "metadata": {},
     "output_type": "execute_result"
    }
   ],
   "source": [
    "print.__name__"
   ]
  },
  {
   "cell_type": "markdown",
   "metadata": {},
   "source": [
    "Now give an alias <code style='font-size:13px;'>pr</code> to the <code style='font-size:13px;'>print()</code> function, let's see its behaviours."
   ]
  },
  {
   "cell_type": "code",
   "execution_count": 28,
   "metadata": {},
   "outputs": [
    {
     "name": "stdout",
     "output_type": "stream",
     "text": [
      "Lion\n"
     ]
    }
   ],
   "source": [
    "pr = print\n",
    "pr('Lion')"
   ]
  },
  {
   "cell_type": "code",
   "execution_count": 29,
   "metadata": {},
   "outputs": [
    {
     "data": {
      "text/plain": [
       "'print'"
      ]
     },
     "execution_count": 29,
     "metadata": {},
     "output_type": "execute_result"
    }
   ],
   "source": [
    "pr.__name__"
   ]
  },
  {
   "cell_type": "markdown",
   "metadata": {},
   "source": [
    "## 1.2. User-defined functions\n",
    "A new function can be created by using the <code style='font-size:13px;'>def</code> statement. Arguments passed to a function are the input. The output of the function is indicated using the <code style='font-size:13px;'>return</code> statement, otherwise the function outputs <code style='font-size:13px;'>None</code>."
   ]
  },
  {
   "cell_type": "markdown",
   "metadata": {},
   "source": [
    "<b style='color:navy'><i class=\"fa fa-thumbs-up\"></i>&nbsp; Best practice</b><br>\n",
    "- A function should only do a single task.\n",
    "- Always include a string at the start of the function body (called the *docstring*) that describes what the function does.\n",
    "- Use <code style='font-size:13px'>:</code> and <code style='font-size:13px'>-></code> to annotate the type of input and output, respectively. They have no actual syntactical effect, only for information and is optional."
   ]
  },
  {
   "cell_type": "code",
   "execution_count": 39,
   "metadata": {},
   "outputs": [],
   "source": [
    "def exp(base:float, power:int) -> float:\n",
    "    'A function that computes exponentials.'\n",
    "    return base**power"
   ]
  },
  {
   "cell_type": "code",
   "execution_count": 41,
   "metadata": {},
   "outputs": [
    {
     "data": {
      "text/plain": [
       "8"
      ]
     },
     "execution_count": 41,
     "metadata": {},
     "output_type": "execute_result"
    }
   ],
   "source": [
    "exp(2, 3)"
   ]
  },
  {
   "cell_type": "code",
   "execution_count": 42,
   "metadata": {},
   "outputs": [
    {
     "data": {
      "text/plain": [
       "25"
      ]
     },
     "execution_count": 42,
     "metadata": {},
     "output_type": "execute_result"
    }
   ],
   "source": [
    "exp(base=-5, power=2)"
   ]
  },
  {
   "cell_type": "code",
   "execution_count": 43,
   "metadata": {},
   "outputs": [
    {
     "data": {
      "text/plain": [
       "'A function that computes exponentials.'"
      ]
     },
     "execution_count": 43,
     "metadata": {},
     "output_type": "execute_result"
    }
   ],
   "source": [
    "exp.__doc__"
   ]
  },
  {
   "cell_type": "markdown",
   "metadata": {},
   "source": [
    "### Default values"
   ]
  },
  {
   "cell_type": "code",
   "execution_count": 1,
   "metadata": {},
   "outputs": [
    {
     "data": {
      "text/plain": [
       "25"
      ]
     },
     "execution_count": 1,
     "metadata": {},
     "output_type": "execute_result"
    }
   ],
   "source": [
    "def exp(base, power=2):\n",
    "    return base**power\n",
    "exp(base=5)"
   ]
  },
  {
   "cell_type": "code",
   "execution_count": 9,
   "metadata": {},
   "outputs": [
    {
     "data": {
      "text/plain": [
       "81"
      ]
     },
     "execution_count": 9,
     "metadata": {},
     "output_type": "execute_result"
    }
   ],
   "source": [
    "exp(base=3, power=4)"
   ]
  },
  {
   "cell_type": "code",
   "execution_count": 10,
   "metadata": {},
   "outputs": [
    {
     "data": {
      "text/plain": [
       "9"
      ]
     },
     "execution_count": 10,
     "metadata": {},
     "output_type": "execute_result"
    }
   ],
   "source": [
    "exp(3)"
   ]
  },
  {
   "cell_type": "markdown",
   "metadata": {
    "colab_type": "text",
    "id": "N3Xaj2Lhcsv1"
   },
   "source": [
    "### Variable scope\n",
    "Variables are only available in the scope where they are defined. Python currently supports *local* and *global* variables. By default, all variables declared in functions are local, and the <code style='font-size:13px;'>global</code> statement can be used to change the scope of the variable."
   ]
  },
  {
   "cell_type": "code",
   "execution_count": 20,
   "metadata": {},
   "outputs": [
    {
     "name": "stdout",
     "output_type": "stream",
     "text": [
      "17\n",
      "100\n"
     ]
    }
   ],
   "source": [
    "y = 100\n",
    "\n",
    "def f(x):\n",
    "    y = x + 7\n",
    "    return y\n",
    "\n",
    "print(f(10))\n",
    "print(y)"
   ]
  },
  {
   "cell_type": "code",
   "execution_count": 21,
   "metadata": {},
   "outputs": [
    {
     "name": "stdout",
     "output_type": "stream",
     "text": [
      "17\n",
      "17\n"
     ]
    }
   ],
   "source": [
    "y = 100\n",
    "\n",
    "def f(x):\n",
    "    global y\n",
    "    y = x + 7\n",
    "    return y\n",
    "\n",
    "print(f(10))\n",
    "print(y)"
   ]
  },
  {
   "cell_type": "markdown",
   "metadata": {},
   "source": [
    "### Multiple outputs"
   ]
  },
  {
   "cell_type": "code",
   "execution_count": 1,
   "metadata": {
    "execution": {
     "iopub.execute_input": "2022-11-30T16:09:34.219836Z",
     "iopub.status.busy": "2022-11-30T16:09:34.219410Z",
     "iopub.status.idle": "2022-11-30T16:09:34.223906Z",
     "shell.execute_reply": "2022-11-30T16:09:34.222946Z",
     "shell.execute_reply.started": "2022-11-30T16:09:34.219754Z"
    },
    "tags": []
   },
   "outputs": [],
   "source": [
    "def rectangle(width, length):\n",
    "    perimeter = 2 * (width + length)\n",
    "    area = width * length\n",
    "    return perimeter, area\n",
    "\n",
    "# unpacking the output\n",
    "perimeter, area = rectangle(10, 15)"
   ]
  },
  {
   "cell_type": "markdown",
   "metadata": {},
   "source": [
    "### Multiple arguments\n",
    "To define a function that takes multiple arguments, Python supports two special syntaxes, <code style='font-size:13px;'>*</code> and <code style='font-size:13px;'>**</code>. By convention, they are usually wirtten as <code style='font-size:13px;'>*args</code> (*arguments*) and <code style='font-size:13px;'>**kwargs</code> (*keyworded arguments*).\n",
    "- <code style='font-size:13px;'>*args</code> represents a variable number of arguments being passed to the function. The <code style='font-size:13px;'>args</code> variable is a tuple.\n",
    "- <code style='font-size:13px;'>**kwargs</code> represents a variable number of keyworded arguments (or named arguments) being passed to the function. The <code style='font-size:13px;'>kwargs</code> variable is a dictionary."
   ]
  },
  {
   "cell_type": "code",
   "execution_count": 33,
   "metadata": {},
   "outputs": [
    {
     "data": {
      "text/plain": [
       "4.0"
      ]
     },
     "execution_count": 33,
     "metadata": {},
     "output_type": "execute_result"
    }
   ],
   "source": [
    "def mean(*args):\n",
    "    mean = sum(args) / len(args)\n",
    "    return mean\n",
    "mean(1, 3, 5, 7)"
   ]
  },
  {
   "cell_type": "code",
   "execution_count": 35,
   "metadata": {},
   "outputs": [
    {
     "data": {
      "text/plain": [
       "4.0"
      ]
     },
     "execution_count": 35,
     "metadata": {},
     "output_type": "execute_result"
    }
   ],
   "source": [
    "def mean(**kwargs):\n",
    "    mean = sum(kwargs.values()) / len(kwargs)\n",
    "    return mean\n",
    "mean(a=1, b=3, c=5, d=7)"
   ]
  },
  {
   "cell_type": "markdown",
   "metadata": {
    "colab_type": "text",
    "id": "2s1ed5Z2csyK"
   },
   "source": [
    "### Lambda functions\n",
    "Python also provides a shorter way to declare a function, making use of the <code style='font-size:13px;'>lambda</code> statement instead of using <code style='font-size:13px;'>def</code>. Since a *lambda functions* have no name by default, they are also called *anonymous functions*. The advantage of *lambda functions* are their ability to be written inline, thus are useful to quickly create temporary functions."
   ]
  },
  {
   "cell_type": "code",
   "execution_count": null,
   "metadata": {},
   "outputs": [],
   "source": [
    "lambda x: x*x"
   ]
  },
  {
   "cell_type": "code",
   "execution_count": null,
   "metadata": {},
   "outputs": [],
   "source": [
    "def square(x):\n",
    "    return x*x"
   ]
  },
  {
   "cell_type": "code",
   "execution_count": null,
   "metadata": {},
   "outputs": [],
   "source": [
    "# give the lambda function a name\n",
    "square = lambda x: x*x\n",
    "square(5)"
   ]
  },
  {
   "cell_type": "code",
   "execution_count": 38,
   "metadata": {},
   "outputs": [
    {
     "data": {
      "text/plain": [
       "30"
      ]
     },
     "execution_count": 38,
     "metadata": {},
     "output_type": "execute_result"
    }
   ],
   "source": [
    "product = lambda a, b: a*b\n",
    "product(5, 6)"
   ]
  },
  {
   "cell_type": "code",
   "execution_count": 39,
   "metadata": {},
   "outputs": [
    {
     "data": {
      "text/plain": [
       "25"
      ]
     },
     "execution_count": 39,
     "metadata": {},
     "output_type": "execute_result"
    }
   ],
   "source": [
    "(lambda a, b: a**2 + b**2)(3, 4)"
   ]
  },
  {
   "cell_type": "markdown",
   "metadata": {},
   "source": [
    "## 1.3. Function as argument\n",
    "*Higher-order functions* such as\n",
    "<code style='font-size:13px;'>map()</code>\n",
    "<code style='font-size:13px;'>sorted()</code>\n",
    "<code style='font-size:13px;'>filter()</code>\n",
    "may take other functions as arguments."
   ]
  },
  {
   "cell_type": "markdown",
   "metadata": {},
   "source": [
    "### Mapping"
   ]
  },
  {
   "cell_type": "code",
   "execution_count": 38,
   "metadata": {},
   "outputs": [
    {
     "data": {
      "text/plain": [
       "[5, 4, 7, 7, 4, 6, 7]"
      ]
     },
     "execution_count": 38,
     "metadata": {},
     "output_type": "execute_result"
    }
   ],
   "source": [
    "# map from each word to its length\n",
    "cats = ['tiger', 'lion', 'panther', 'cheetah', 'puma', 'jaguar', 'leopard']\n",
    "list(map(len, cats))"
   ]
  },
  {
   "cell_type": "code",
   "execution_count": 45,
   "metadata": {},
   "outputs": [
    {
     "data": {
      "text/plain": [
       "[25, 16, 9, 4, 1, 1, 4, 9, 16, 25]"
      ]
     },
     "execution_count": 45,
     "metadata": {},
     "output_type": "execute_result"
    }
   ],
   "source": [
    "# map from each number to its square\n",
    "numbers = [-5, -4, -3, -2, -1, 1, 2, 3, 4, 5]\n",
    "list(map(lambda x: x**2, numbers))"
   ]
  },
  {
   "cell_type": "markdown",
   "metadata": {},
   "source": [
    "### Sorting"
   ]
  },
  {
   "cell_type": "code",
   "execution_count": 37,
   "metadata": {},
   "outputs": [
    {
     "data": {
      "text/plain": [
       "['lion', 'puma', 'tiger', 'jaguar', 'panther', 'cheetah', 'leopard']"
      ]
     },
     "execution_count": 37,
     "metadata": {},
     "output_type": "execute_result"
    }
   ],
   "source": [
    "# sort by item's length\n",
    "cats = ['tiger', 'lion', 'panther', 'cheetah', 'puma', 'jaguar', 'leopard']\n",
    "sorted(cats, key=len)"
   ]
  },
  {
   "cell_type": "code",
   "execution_count": 43,
   "metadata": {},
   "outputs": [
    {
     "data": {
      "text/plain": [
       "[-1, -2, -3, -4, -5, 5, 4, 3, 2, 1]"
      ]
     },
     "execution_count": 43,
     "metadata": {},
     "output_type": "execute_result"
    }
   ],
   "source": [
    "# sort by the reciprocal of each number\n",
    "numbers = [-5, -4, -3, -2, -1, 1, 2, 3, 4, 5]\n",
    "sorted(numbers, key=lambda x: 1/x)"
   ]
  },
  {
   "cell_type": "markdown",
   "metadata": {},
   "source": [
    "### Filtering"
   ]
  },
  {
   "cell_type": "code",
   "execution_count": 50,
   "metadata": {},
   "outputs": [
    {
     "data": {
      "text/plain": [
       "['tiger', 'panther', 'cheetah', 'leopard']"
      ]
     },
     "execution_count": 50,
     "metadata": {},
     "output_type": "execute_result"
    }
   ],
   "source": [
    "# filter out words containing 'e'\n",
    "cats = ['tiger', 'lion', 'panther', 'cheetah', 'puma', 'jaguar', 'leopard']\n",
    "list(filter(lambda x: 'e' in x, cats))"
   ]
  },
  {
   "cell_type": "code",
   "execution_count": 46,
   "metadata": {},
   "outputs": [
    {
     "data": {
      "text/plain": [
       "[-4, -2, 2, 4]"
      ]
     },
     "execution_count": 46,
     "metadata": {},
     "output_type": "execute_result"
    }
   ],
   "source": [
    "# filter out even numbers\n",
    "numbers = [-5, -4, -3, -2, -1, 1, 2, 3, 4, 5]\n",
    "list(filter(lambda x: x%2==0, numbers))"
   ]
  },
  {
   "cell_type": "markdown",
   "metadata": {},
   "source": [
    "## 1.4. Decorator functions\n",
    "A *dectorator function* in Python is a higher-order function that take an *inner function* as input and extends its functionality. People also call it the wrapper function, due to its behaviour that *wraps* around another function. This concept, in my opinion is quite abstract, so we will learn its usage first, then learn how to create a custom one later."
   ]
  },
  {
   "cell_type": "markdown",
   "metadata": {},
   "source": [
    "### Practical usage\n",
    "Let's say we want to apply the ReLU function $f(x)=\\max(x,0)$ to a list of numbers. We break this problem into two steps, (1) write the <code style='font-size:13px'>relu</code> function that processes a single number and (2) apply it to the entire list. The second step will be implemented using the Numpy's\n",
    "<code style='font-size:13px'><a href=https://numpy.org/doc/stable/reference/generated/numpy.vectorize.html>vectorize</a></code>\n",
    "function, as it is faster and more readable that loops.\n",
    "\n",
    "In this program, <code style='font-size:13px'>vectorize</code> is the decorator function and <code style='font-size:13px'>relu</code> is the inner function. It is written in two equivalent ways, notice that the second way provides a convinient syntax using the <code style='font-size:13px'>@</code> symbol."
   ]
  },
  {
   "cell_type": "code",
   "execution_count": 2,
   "metadata": {},
   "outputs": [],
   "source": [
    "from numpy import vectorize\n",
    "x = range(-4, 5)"
   ]
  },
  {
   "cell_type": "code",
   "execution_count": 3,
   "metadata": {},
   "outputs": [
    {
     "data": {
      "text/plain": [
       "array([0, 0, 0, 0, 0, 1, 2, 3, 4])"
      ]
     },
     "execution_count": 3,
     "metadata": {},
     "output_type": "execute_result"
    }
   ],
   "source": [
    "def relu(x):\n",
    "    return x if x > 0 else 0\n",
    "relu = vectorize(relu)\n",
    "\n",
    "relu(x)"
   ]
  },
  {
   "cell_type": "code",
   "execution_count": 25,
   "metadata": {},
   "outputs": [
    {
     "data": {
      "text/plain": [
       "array([0, 0, 0, 0, 0, 1, 2, 3, 4])"
      ]
     },
     "execution_count": 25,
     "metadata": {},
     "output_type": "execute_result"
    }
   ],
   "source": [
    "@vectorize\n",
    "def relu(x):\n",
    "    return x if x > 0 else 0\n",
    "\n",
    "relu(x)"
   ]
  },
  {
   "cell_type": "markdown",
   "metadata": {},
   "source": [
    "### Custom decorators\n",
    "In this section we are going to write, from scratch, some useful decorators. A convenience function <code style='font-size:13px'>wraps</code> is used to retain the original attributes of the inner function, but does not change the logic."
   ]
  },
  {
   "cell_type": "code",
   "execution_count": 49,
   "metadata": {},
   "outputs": [],
   "source": [
    "import logging\n",
    "import datetime as dt\n",
    "import functools\n",
    "\n",
    "def timer(inner):\n",
    "    @functools.wraps(inner)\n",
    "    def _wrapper(*args, **kwargs):\n",
    "        start = dt.datetime.now()\n",
    "        \n",
    "        # call the inner function\n",
    "        output = inner(*args, **kwargs)\n",
    "        \n",
    "        end = dt.datetime.now()\n",
    "        logging.warning(f'Elapsed time {end-start}')\n",
    "        return output\n",
    "    \n",
    "    return _wrapper"
   ]
  },
  {
   "cell_type": "code",
   "execution_count": 47,
   "metadata": {},
   "outputs": [
    {
     "name": "stderr",
     "output_type": "stream",
     "text": [
      "WARNING:root:Elapsed time 0:00:00.514547\n"
     ]
    },
    {
     "data": {
      "text/plain": [
       "9"
      ]
     },
     "execution_count": 47,
     "metadata": {},
     "output_type": "execute_result"
    }
   ],
   "source": [
    "import time\n",
    "\n",
    "@timer\n",
    "def exp(base, power=2):\n",
    "    'The exponential function'\n",
    "    time.sleep(0.5)\n",
    "    return base**power\n",
    "\n",
    "exp(3)"
   ]
  },
  {
   "cell_type": "code",
   "execution_count": 38,
   "metadata": {},
   "outputs": [
    {
     "data": {
      "text/plain": [
       "'The exponential function'"
      ]
     },
     "execution_count": 38,
     "metadata": {},
     "output_type": "execute_result"
    }
   ],
   "source": [
    "exp.__doc__"
   ]
  },
  {
   "cell_type": "markdown",
   "metadata": {},
   "source": [
    "# 2. Classes\n",
    "Python is an [object-oriented programming] (OOP) language, meaning everything in Python is an *object*. On the other hand, objects are *instances* of *classes*, the blueprints for creating objects. In this section, we learn how to invent our own classes to move to the next step of code reproducibility\n",
    "\n",
    "[object-oriented programming]: https://en.wikipedia.org/wiki/Object-oriented_programming"
   ]
  },
  {
   "cell_type": "markdown",
   "metadata": {},
   "source": [
    "## 2.1. Initialization\n",
    "We use the statement <code style='font-size:13px'>class</code> to define a new class, followed by any name we want. According to [PEP 8] convention, class names should be capitalized, such as MyClass. The next thing must be done after naming is defining the constructor via the <code style='font-size:13px'>\\_\\_init__()</code> special method. The first argument of this method is always a <code style='font-size:13px'>self</code> keyword that represent the *instance* itself.\n",
    "\n",
    "[PEP 8]: https://peps.python.org/pep-0008/"
   ]
  },
  {
   "cell_type": "code",
   "execution_count": 11,
   "metadata": {
    "tags": []
   },
   "outputs": [],
   "source": [
    "class Rectangle:\n",
    "    'This class only stores sizes'\n",
    "    def __init__(self, width, length):\n",
    "        pass"
   ]
  },
  {
   "cell_type": "code",
   "execution_count": 3,
   "metadata": {
    "execution": {
     "iopub.execute_input": "2022-11-30T16:26:43.278631Z",
     "iopub.status.busy": "2022-11-30T16:26:43.278154Z",
     "iopub.status.idle": "2022-11-30T16:26:43.289168Z",
     "shell.execute_reply": "2022-11-30T16:26:43.287871Z",
     "shell.execute_reply.started": "2022-11-30T16:26:43.278593Z"
    },
    "tags": []
   },
   "outputs": [
    {
     "data": {
      "text/plain": [
       "'This class only stores sizes'"
      ]
     },
     "execution_count": 3,
     "metadata": {},
     "output_type": "execute_result"
    }
   ],
   "source": [
    "Rectangle(3, 4).__doc__"
   ]
  },
  {
   "cell_type": "markdown",
   "metadata": {},
   "source": [
    "### Attributes\n",
    "We start adding to our class some attributes, which are variables defined inside of classes. There are three types of attributes you may see in practice:\n",
    "- *Normal attributes* such as <code style='font-size:13px'>width_</code> and <code style='font-size:13px'>length</code>. They can be easily accessed and modified. Some libraries such as Scikit-learn name attributes with a trailing underscore to distinguish them with methods.\n",
    "- *Private attributes* with double leading underscore like <code style='font-size:13px'>__nEdges</code> indicate *strong* internal use. They attributes invoke *name mangling*, which protects themselves from being modified. In practice, it is recommended by PEP 8 to write private attributes using a leading underscore like <code style='font-size:13px'>_nCorners</code> (*weak* internal use). These ones work exactly the same as normal attributes, but people understand the convention and take double care when dealing with such stuff.\n",
    "- *Magical attributes* with double leading and trailing underscore like <code style='font-size:13px'>\\_\\_doc__</code> and <code style='font-size:13px'>\\_\\_name__</code> are special ones that Python create for you. You are free to override those to change the behaviour of your class, but should never make up such names."
   ]
  },
  {
   "cell_type": "code",
   "execution_count": 11,
   "metadata": {
    "tags": []
   },
   "outputs": [],
   "source": [
    "class Rectangle:\n",
    "    _nCorners = 4\n",
    "    __nEdges = 4\n",
    "    \n",
    "    def __init__(self, width, length):\n",
    "        self.width_ = width\n",
    "        self.length = length\n",
    "        \n",
    "rec = Rectangle(3, 8)"
   ]
  },
  {
   "cell_type": "code",
   "execution_count": 12,
   "metadata": {},
   "outputs": [
    {
     "data": {
      "text/plain": [
       "3"
      ]
     },
     "execution_count": 12,
     "metadata": {},
     "output_type": "execute_result"
    }
   ],
   "source": [
    "rec.width_"
   ]
  },
  {
   "cell_type": "code",
   "execution_count": 13,
   "metadata": {
    "tags": []
   },
   "outputs": [
    {
     "data": {
      "text/plain": [
       "4"
      ]
     },
     "execution_count": 13,
     "metadata": {},
     "output_type": "execute_result"
    }
   ],
   "source": [
    "rec._nCorners"
   ]
  },
  {
   "cell_type": "code",
   "execution_count": 14,
   "metadata": {
    "tags": []
   },
   "outputs": [
    {
     "data": {
      "text/plain": [
       "4"
      ]
     },
     "execution_count": 14,
     "metadata": {},
     "output_type": "execute_result"
    }
   ],
   "source": [
    "# name mangling\n",
    "rec._Rectangle__nEdges"
   ]
  },
  {
   "cell_type": "markdown",
   "metadata": {},
   "source": [
    "### Methods\n",
    "Methods are functions defined inside of classes, with the first argument also being <code style='font-size:13px'>self</code>. This allows methods to access attributes assigned during the initialization. We also introduce the special <code style='font-size:13px'>\\_\\_call__()</code> method, a method that helps instances acting like a function."
   ]
  },
  {
   "cell_type": "code",
   "execution_count": 7,
   "metadata": {
    "tags": []
   },
   "outputs": [],
   "source": [
    "class Rectangle:\n",
    "    def __init__(self, width, length):\n",
    "        self.width = width\n",
    "        self.length = length\n",
    "        \n",
    "    def compute_area(self):\n",
    "        return self.width * self.length\n",
    "    \n",
    "    def compute_perimeter(self):\n",
    "        return 2 * (self.width + self.length)\n",
    "    \n",
    "    def __call__(self):\n",
    "        print(f'A rectangle size {self.width} x {self.length}')\n",
    "        \n",
    "rec = Rectangle(4, 6)"
   ]
  },
  {
   "cell_type": "code",
   "execution_count": 8,
   "metadata": {},
   "outputs": [
    {
     "data": {
      "text/plain": [
       "24"
      ]
     },
     "execution_count": 8,
     "metadata": {},
     "output_type": "execute_result"
    }
   ],
   "source": [
    "rec.compute_area()"
   ]
  },
  {
   "cell_type": "code",
   "execution_count": 9,
   "metadata": {},
   "outputs": [
    {
     "data": {
      "text/plain": [
       "20"
      ]
     },
     "execution_count": 9,
     "metadata": {},
     "output_type": "execute_result"
    }
   ],
   "source": [
    "rec.compute_perimeter()"
   ]
  },
  {
   "cell_type": "code",
   "execution_count": 10,
   "metadata": {},
   "outputs": [
    {
     "name": "stdout",
     "output_type": "stream",
     "text": [
      "A rectangle size 4 x 6\n"
     ]
    }
   ],
   "source": [
    "rec()"
   ]
  },
  {
   "cell_type": "markdown",
   "metadata": {},
   "source": [
    "## 2.2. The four pillars"
   ]
  },
  {
   "cell_type": "markdown",
   "metadata": {},
   "source": [
    "### Abstraction"
   ]
  },
  {
   "cell_type": "markdown",
   "metadata": {},
   "source": [
    "### Encapsulation"
   ]
  },
  {
   "cell_type": "markdown",
   "metadata": {},
   "source": [
    "### Inheritance"
   ]
  },
  {
   "cell_type": "code",
   "execution_count": 36,
   "metadata": {},
   "outputs": [],
   "source": [
    "class Rectangle:\n",
    "    def __init__(self, width, length):\n",
    "        self.width = width\n",
    "        self.length = length\n",
    "        \n",
    "    def compute_area(self):\n",
    "        return self.width * self.length\n",
    "    \n",
    "    def compute_perimeter(self):\n",
    "        return 2 * (self.width + self.length)"
   ]
  },
  {
   "cell_type": "code",
   "execution_count": 37,
   "metadata": {},
   "outputs": [],
   "source": [
    "class Square(Rectangle):\n",
    "    def __init__(self, size):\n",
    "        super().__init__(size, size)"
   ]
  },
  {
   "cell_type": "code",
   "execution_count": 40,
   "metadata": {},
   "outputs": [
    {
     "data": {
      "text/plain": [
       "20"
      ]
     },
     "execution_count": 40,
     "metadata": {},
     "output_type": "execute_result"
    }
   ],
   "source": [
    "Square(5).compute_perimeter()"
   ]
  },
  {
   "cell_type": "markdown",
   "metadata": {},
   "source": [
    "### Polymorphism"
   ]
  },
  {
   "cell_type": "markdown",
   "metadata": {},
   "source": [
    "## 2.3. Special decorators"
   ]
  },
  {
   "cell_type": "markdown",
   "metadata": {},
   "source": [
    "### Class method\n",
    "Class methods are methods you can use on the class rather than an instance, i.e., you can write something like\n",
    "<code style='font-size:13px'>Class.class_method()</code>\n",
    "while normal behaviour will be\n",
    "<code style='font-size:13px'>instance.normal_method()</code>.\n",
    "In order to write one, use\n",
    "<code style='font-size:13px'>@classmethod</code>\n",
    "as the decorator to wrap around a method, who always takes\n",
    "<code style='font-size:13px'>cls</code>\n",
    "(abbreviated for *class*) as the first argument.\n",
    "\n",
    "So in which case a standalone class is useful for? Well, a popular use case is to provide addition ways to initialize instances. For example, instead of following exactly the blueprint of a rectangle by specifying width and length, we give our class more flexibility by allowing it to accept and process a string containing sizes. We can see this kind of method appears in Pandas's \n",
    "<code style='font-size:13px'><a href=https://pandas.pydata.org/docs/reference/api/pandas.DataFrame.from_dict.html>DataFrame.from_dict()</a></code>\n",
    "method."
   ]
  },
  {
   "cell_type": "code",
   "execution_count": 42,
   "metadata": {},
   "outputs": [],
   "source": [
    "class Rectangle:\n",
    "    def __init__(self, width, length):\n",
    "        self.width = width\n",
    "        self.length = length\n",
    "    \n",
    "    @classmethod\n",
    "    def from_string(cls, argString):\n",
    "        width, length = [float(edge) for edge in argString.split(',')]\n",
    "        return cls(width, length)\n",
    "    \n",
    "    @classmethod\n",
    "    def from_total_diff(cls, total, diff):\n",
    "        width = (total - diff) / 2\n",
    "        length = (total + diff) / 2\n",
    "        return cls(width, length)\n",
    "    \n",
    "    def compute_area(self):\n",
    "        return self.width * self.length\n",
    "    \n",
    "    def compute_perimeter(self):\n",
    "        return 2 * (self.width + self.length)"
   ]
  },
  {
   "cell_type": "code",
   "execution_count": 43,
   "metadata": {},
   "outputs": [
    {
     "data": {
      "text/plain": [
       "13.0"
      ]
     },
     "execution_count": 43,
     "metadata": {},
     "output_type": "execute_result"
    }
   ],
   "source": [
    "Rectangle.from_string('2.5, 4').compute_perimeter()"
   ]
  },
  {
   "cell_type": "code",
   "execution_count": 44,
   "metadata": {},
   "outputs": [
    {
     "data": {
      "text/plain": [
       "15.0"
      ]
     },
     "execution_count": 44,
     "metadata": {},
     "output_type": "execute_result"
    }
   ],
   "source": [
    "Rectangle.from_total_diff(8, 2).compute_area()"
   ]
  },
  {
   "cell_type": "markdown",
   "metadata": {},
   "source": [
    "### Static method\n",
    "Static methods, like class methods, are also defined for classes, but they don't require the class being passed to them. Because of this, they work the same as normal functions (defined outside of classes) and are only useful in very few situations such as when a function is semantically related to a class. You can create one with the decorator <code style='font-size:13px'>@staticmethod</code>, but they are rarely seen in practice."
   ]
  },
  {
   "cell_type": "markdown",
   "metadata": {},
   "source": [
    "### Property\n",
    "A property is a special attribute that gives developers maximum access over three basic methods: *get*, *set* and *delete*. "
   ]
  },
  {
   "cell_type": "code",
   "execution_count": 34,
   "metadata": {},
   "outputs": [],
   "source": [
    "import logging\n",
    "import numpy as np\n",
    "\n",
    "class Circle:\n",
    "    def __init__(self, radius=0):\n",
    "        self._radius = radius\n",
    "    \n",
    "    def _get_radius(self):\n",
    "        return self._radius\n",
    "    \n",
    "    def _set_radius(self, value):\n",
    "        if value < 0:\n",
    "            raise ValueError('Radius should be positive')\n",
    "        self._radius = value\n",
    "    \n",
    "    def _del_radius(self):\n",
    "        logging.warning('Attribute radius deleted')\n",
    "        del self._radius\n",
    "    \n",
    "    radius = property(_get_radius, _set_radius, _del_radius)\n",
    "    \n",
    "    def compute_area(self):\n",
    "        return np.pi * self.radius**2"
   ]
  },
  {
   "cell_type": "code",
   "execution_count": 35,
   "metadata": {},
   "outputs": [
    {
     "name": "stderr",
     "output_type": "stream",
     "text": [
      "WARNING:root:Radius = 0\n"
     ]
    },
    {
     "data": {
      "text/plain": [
       "0"
      ]
     },
     "execution_count": 35,
     "metadata": {},
     "output_type": "execute_result"
    }
   ],
   "source": [
    "circle = Circle()\n",
    "circle.radius"
   ]
  },
  {
   "cell_type": "code",
   "execution_count": 36,
   "metadata": {},
   "outputs": [
    {
     "name": "stderr",
     "output_type": "stream",
     "text": [
      "WARNING:root:Attribute radius deleted\n"
     ]
    }
   ],
   "source": [
    "del circle.radius"
   ]
  },
  {
   "cell_type": "code",
   "execution_count": 37,
   "metadata": {},
   "outputs": [
    {
     "ename": "ValueError",
     "evalue": "Radius should be positive",
     "output_type": "error",
     "traceback": [
      "\u001b[1;31m---------------------------------------------------------------------------\u001b[0m",
      "\u001b[1;31mValueError\u001b[0m                                Traceback (most recent call last)",
      "\u001b[1;32m~\\AppData\\Local\\Temp/ipykernel_39504/3754316364.py\u001b[0m in \u001b[0;36m<module>\u001b[1;34m\u001b[0m\n\u001b[1;32m----> 1\u001b[1;33m \u001b[0mc\u001b[0m\u001b[1;33m.\u001b[0m\u001b[0mradius\u001b[0m \u001b[1;33m=\u001b[0m \u001b[1;33m-\u001b[0m\u001b[1;36m1\u001b[0m\u001b[1;33m\u001b[0m\u001b[1;33m\u001b[0m\u001b[0m\n\u001b[0m",
      "\u001b[1;32m~\\AppData\\Local\\Temp/ipykernel_39504/797347798.py\u001b[0m in \u001b[0;36m_set_radius\u001b[1;34m(self, value)\u001b[0m\n\u001b[0;32m     11\u001b[0m     \u001b[1;32mdef\u001b[0m \u001b[0m_set_radius\u001b[0m\u001b[1;33m(\u001b[0m\u001b[0mself\u001b[0m\u001b[1;33m,\u001b[0m \u001b[0mvalue\u001b[0m\u001b[1;33m)\u001b[0m\u001b[1;33m:\u001b[0m\u001b[1;33m\u001b[0m\u001b[1;33m\u001b[0m\u001b[0m\n\u001b[0;32m     12\u001b[0m         \u001b[1;32mif\u001b[0m \u001b[0mvalue\u001b[0m \u001b[1;33m<\u001b[0m \u001b[1;36m0\u001b[0m\u001b[1;33m:\u001b[0m\u001b[1;33m\u001b[0m\u001b[1;33m\u001b[0m\u001b[0m\n\u001b[1;32m---> 13\u001b[1;33m             \u001b[1;32mraise\u001b[0m \u001b[0mValueError\u001b[0m\u001b[1;33m(\u001b[0m\u001b[1;34m'Radius should be positive'\u001b[0m\u001b[1;33m)\u001b[0m\u001b[1;33m\u001b[0m\u001b[1;33m\u001b[0m\u001b[0m\n\u001b[0m\u001b[0;32m     14\u001b[0m         \u001b[0mself\u001b[0m\u001b[1;33m.\u001b[0m\u001b[0m_radius\u001b[0m \u001b[1;33m=\u001b[0m \u001b[0mvalue\u001b[0m\u001b[1;33m\u001b[0m\u001b[1;33m\u001b[0m\u001b[0m\n\u001b[0;32m     15\u001b[0m \u001b[1;33m\u001b[0m\u001b[0m\n",
      "\u001b[1;31mValueError\u001b[0m: Radius should be positive"
     ]
    }
   ],
   "source": [
    "c.radius = -1"
   ]
  },
  {
   "cell_type": "code",
   "execution_count": 1,
   "metadata": {},
   "outputs": [],
   "source": [
    "import logging\n",
    "import numpy as np\n",
    "\n",
    "class Circle:\n",
    "    def __init__(self, radius=0):\n",
    "        self._radius = radius\n",
    "    \n",
    "    @property\n",
    "    def radius(self):\n",
    "        return self._radius\n",
    "    \n",
    "    @radius.setter\n",
    "    def radius(self, value):\n",
    "        if value < 0:\n",
    "            raise ValueError('Radius should be positive')\n",
    "        self._radius = value\n",
    "    \n",
    "    @radius.deleter\n",
    "    def radius(self):\n",
    "        logging.warning('Attribute radius deleted')\n",
    "        del self._radius\n",
    "    \n",
    "    def compute_area(self):\n",
    "        return np.pi * self.radius**2"
   ]
  },
  {
   "cell_type": "code",
   "execution_count": 5,
   "metadata": {},
   "outputs": [],
   "source": [
    "circle = Circle()\n",
    "circle.radius = 10"
   ]
  },
  {
   "cell_type": "code",
   "execution_count": 6,
   "metadata": {},
   "outputs": [
    {
     "data": {
      "text/plain": [
       "314.1592653589793"
      ]
     },
     "execution_count": 6,
     "metadata": {},
     "output_type": "execute_result"
    }
   ],
   "source": [
    "circle.compute_area()"
   ]
  },
  {
   "cell_type": "code",
   "execution_count": null,
   "metadata": {},
   "outputs": [
    {
     "data": {
      "text/plain": [
       "'Descriptor to change the getter on a property.'"
      ]
     },
     "execution_count": 21,
     "metadata": {},
     "output_type": "execute_result"
    }
   ],
   "source": [
    "property().getter.__doc__"
   ]
  },
  {
   "cell_type": "markdown",
   "metadata": {},
   "source": [
    "# References\n",
    "- *bas.codes - [Understanding decorators in Python](https://bas.codes/posts/python-decorators)*\n",
    "- *towardsdatascience.com - [Python: Decorators in OOP](https://towardsdatascience.com/python-decorators-in-oop-3189c526ead6)*"
   ]
  },
  {
   "cell_type": "markdown",
   "metadata": {},
   "source": [
    "---\n",
    "*&#9829; By Quang Hung x Thuy Linh &#9829;*"
   ]
  }
 ],
 "metadata": {
  "colab": {
   "name": "Lecture 4.ipynb",
   "provenance": [],
   "version": "0.3.2"
  },
  "kernelspec": {
   "display_name": "Python 3 (ipykernel)",
   "language": "python",
   "name": "python3"
  },
  "language_info": {
   "codemirror_mode": {
    "name": "ipython",
    "version": 3
   },
   "file_extension": ".py",
   "mimetype": "text/x-python",
   "name": "python",
   "nbconvert_exporter": "python",
   "pygments_lexer": "ipython3",
   "version": "3.9.7"
  },
  "toc-autonumbering": false
 },
 "nbformat": 4,
 "nbformat_minor": 4
}
