{
 "cells": [
  {
   "cell_type": "markdown",
   "metadata": {},
   "source": [
    "# 1. Functions\n",
    "There are two types of function in Python:\n",
    "- Built-in: functions that are pre-defined and always available for use.\n",
    "- User-defined: functions that are created by users to make code blocks reusable and more readable."
   ]
  },
  {
   "cell_type": "markdown",
   "metadata": {},
   "source": [
    "## 1.1. Function as object"
   ]
  },
  {
   "cell_type": "code",
   "execution_count": 25,
   "metadata": {},
   "outputs": [
    {
     "data": {
      "text/plain": [
       "'print'"
      ]
     },
     "execution_count": 25,
     "metadata": {},
     "output_type": "execute_result"
    }
   ],
   "source": [
    "print.__name__"
   ]
  },
  {
   "cell_type": "markdown",
   "metadata": {},
   "source": [
    "Now give an alias <code style='font-size:13px;'>pr</code> to the <code style='font-size:13px;'>print()</code> function, let's see its behaviours."
   ]
  },
  {
   "cell_type": "code",
   "execution_count": 28,
   "metadata": {},
   "outputs": [
    {
     "name": "stdout",
     "output_type": "stream",
     "text": [
      "Lion\n"
     ]
    }
   ],
   "source": [
    "pr = print\n",
    "pr('Lion')"
   ]
  },
  {
   "cell_type": "code",
   "execution_count": 29,
   "metadata": {},
   "outputs": [
    {
     "data": {
      "text/plain": [
       "'print'"
      ]
     },
     "execution_count": 29,
     "metadata": {},
     "output_type": "execute_result"
    }
   ],
   "source": [
    "pr.__name__"
   ]
  },
  {
   "cell_type": "markdown",
   "metadata": {},
   "source": [
    "## 1.2. User-defined functions\n",
    "A new function can be created by using the <code style='font-size:13px;'>def</code> statement. Arguments passed to a function are the input. The output of the function is indicated using the <code style='font-size:13px;'>return</code> statement, otherwise the function outputs <code style='font-size:13px;'>None</code>."
   ]
  },
  {
   "cell_type": "markdown",
   "metadata": {},
   "source": [
    "<b style='color:navy'><i class=\"fa fa-thumbs-up\"></i>&nbsp; Best practice</b><br>\n",
    "- A function should only do a single task.\n",
    "- Always include a string at the start of the function body (called the *docstring*) that describes what the function does.\n",
    "- Use <code style='font-size:13px'>:</code> and <code style='font-size:13px'>-></code> to annotate the type of input and output, respectively. They have no actual syntactical effect, only for information and is optional."
   ]
  },
  {
   "cell_type": "code",
   "execution_count": 39,
   "metadata": {},
   "outputs": [],
   "source": [
    "def exp(base:float, power:int) -> float:\n",
    "    'A function that computes exponentials.'\n",
    "    return base**power"
   ]
  },
  {
   "cell_type": "code",
   "execution_count": 41,
   "metadata": {},
   "outputs": [
    {
     "data": {
      "text/plain": [
       "8"
      ]
     },
     "execution_count": 41,
     "metadata": {},
     "output_type": "execute_result"
    }
   ],
   "source": [
    "exp(2, 3)"
   ]
  },
  {
   "cell_type": "code",
   "execution_count": 42,
   "metadata": {},
   "outputs": [
    {
     "data": {
      "text/plain": [
       "25"
      ]
     },
     "execution_count": 42,
     "metadata": {},
     "output_type": "execute_result"
    }
   ],
   "source": [
    "exp(base=-5, power=2)"
   ]
  },
  {
   "cell_type": "code",
   "execution_count": 43,
   "metadata": {},
   "outputs": [
    {
     "data": {
      "text/plain": [
       "'A function that computes exponentials.'"
      ]
     },
     "execution_count": 43,
     "metadata": {},
     "output_type": "execute_result"
    }
   ],
   "source": [
    "exp.__doc__"
   ]
  },
  {
   "cell_type": "markdown",
   "metadata": {},
   "source": [
    "### Default values"
   ]
  },
  {
   "cell_type": "code",
   "execution_count": 1,
   "metadata": {},
   "outputs": [
    {
     "data": {
      "text/plain": [
       "25"
      ]
     },
     "execution_count": 1,
     "metadata": {},
     "output_type": "execute_result"
    }
   ],
   "source": [
    "def exp(base, power=2):\n",
    "    return base**power\n",
    "exp(base=5)"
   ]
  },
  {
   "cell_type": "code",
   "execution_count": 9,
   "metadata": {},
   "outputs": [
    {
     "data": {
      "text/plain": [
       "81"
      ]
     },
     "execution_count": 9,
     "metadata": {},
     "output_type": "execute_result"
    }
   ],
   "source": [
    "exp(base=3, power=4)"
   ]
  },
  {
   "cell_type": "code",
   "execution_count": 10,
   "metadata": {},
   "outputs": [
    {
     "data": {
      "text/plain": [
       "9"
      ]
     },
     "execution_count": 10,
     "metadata": {},
     "output_type": "execute_result"
    }
   ],
   "source": [
    "exp(3)"
   ]
  },
  {
   "cell_type": "markdown",
   "metadata": {
    "colab_type": "text",
    "id": "N3Xaj2Lhcsv1"
   },
   "source": [
    "### Variable scope\n",
    "Variables are only available in the scope where they are defined. Python currently supports *local* and *global* variables. By default, all variables declared in functions are local, and the <code style='font-size:13px;'>global</code> statement can be used to change the scope of the variable."
   ]
  },
  {
   "cell_type": "code",
   "execution_count": 20,
   "metadata": {},
   "outputs": [
    {
     "name": "stdout",
     "output_type": "stream",
     "text": [
      "17\n",
      "100\n"
     ]
    }
   ],
   "source": [
    "y = 100\n",
    "\n",
    "def f(x):\n",
    "    y = x + 7\n",
    "    return y\n",
    "\n",
    "print(f(10))\n",
    "print(y)"
   ]
  },
  {
   "cell_type": "code",
   "execution_count": 21,
   "metadata": {},
   "outputs": [
    {
     "name": "stdout",
     "output_type": "stream",
     "text": [
      "17\n",
      "17\n"
     ]
    }
   ],
   "source": [
    "y = 100\n",
    "\n",
    "def f(x):\n",
    "    global y\n",
    "    y = x + 7\n",
    "    return y\n",
    "\n",
    "print(f(10))\n",
    "print(y)"
   ]
  },
  {
   "cell_type": "markdown",
   "metadata": {},
   "source": [
    "### Multiple outputs"
   ]
  },
  {
   "cell_type": "code",
   "execution_count": 1,
   "metadata": {
    "execution": {
     "iopub.execute_input": "2022-11-30T16:09:34.219836Z",
     "iopub.status.busy": "2022-11-30T16:09:34.219410Z",
     "iopub.status.idle": "2022-11-30T16:09:34.223906Z",
     "shell.execute_reply": "2022-11-30T16:09:34.222946Z",
     "shell.execute_reply.started": "2022-11-30T16:09:34.219754Z"
    },
    "tags": []
   },
   "outputs": [],
   "source": [
    "def rectangle(width, length):\n",
    "    perimeter = 2 * (width + length)\n",
    "    area = width * length\n",
    "    return perimeter, area\n",
    "\n",
    "# unpacking the output\n",
    "perimeter, area = rectangle(10, 15)"
   ]
  },
  {
   "cell_type": "markdown",
   "metadata": {},
   "source": [
    "### Multiple arguments\n",
    "To define a function that takes multiple arguments, Python supports two special syntaxes, <code style='font-size:13px;'>*</code> and <code style='font-size:13px;'>**</code>. By convention, they are usually wirtten as <code style='font-size:13px;'>*args</code> (*arguments*) and <code style='font-size:13px;'>**kwargs</code> (*keyworded arguments*).\n",
    "- <code style='font-size:13px;'>*args</code> represents a variable number of arguments being passed to the function. The <code style='font-size:13px;'>args</code> variable is a tuple.\n",
    "- <code style='font-size:13px;'>**kwargs</code> represents a variable number of keyworded arguments (or named arguments) being passed to the function. The <code style='font-size:13px;'>kwargs</code> variable is a dictionary."
   ]
  },
  {
   "cell_type": "code",
   "execution_count": 33,
   "metadata": {},
   "outputs": [
    {
     "data": {
      "text/plain": [
       "4.0"
      ]
     },
     "execution_count": 33,
     "metadata": {},
     "output_type": "execute_result"
    }
   ],
   "source": [
    "def mean(*args):\n",
    "    mean = sum(args) / len(args)\n",
    "    return mean\n",
    "mean(1, 3, 5, 7)"
   ]
  },
  {
   "cell_type": "code",
   "execution_count": 35,
   "metadata": {},
   "outputs": [
    {
     "data": {
      "text/plain": [
       "4.0"
      ]
     },
     "execution_count": 35,
     "metadata": {},
     "output_type": "execute_result"
    }
   ],
   "source": [
    "def mean(**kwargs):\n",
    "    mean = sum(kwargs.values()) / len(kwargs)\n",
    "    return mean\n",
    "mean(a=1, b=3, c=5, d=7)"
   ]
  },
  {
   "cell_type": "markdown",
   "metadata": {
    "colab_type": "text",
    "id": "2s1ed5Z2csyK"
   },
   "source": [
    "### Lambda functions\n",
    "Python also provides a shorter way to declare a function, making use of the <code style='font-size:13px;'>lambda</code> statement instead of using <code style='font-size:13px;'>def</code>. Since a *lambda functions* have no name by default, they are also called *anonymous functions*. The advantage of *lambda functions* are their ability to be written inline, thus are useful to quickly create temporary functions."
   ]
  },
  {
   "cell_type": "code",
   "execution_count": null,
   "metadata": {},
   "outputs": [],
   "source": [
    "lambda x: x*x"
   ]
  },
  {
   "cell_type": "code",
   "execution_count": null,
   "metadata": {},
   "outputs": [],
   "source": [
    "def square(x):\n",
    "    return x*x"
   ]
  },
  {
   "cell_type": "code",
   "execution_count": null,
   "metadata": {},
   "outputs": [],
   "source": [
    "# give the lambda function a name\n",
    "square = lambda x: x*x\n",
    "square(5)"
   ]
  },
  {
   "cell_type": "code",
   "execution_count": 38,
   "metadata": {},
   "outputs": [
    {
     "data": {
      "text/plain": [
       "30"
      ]
     },
     "execution_count": 38,
     "metadata": {},
     "output_type": "execute_result"
    }
   ],
   "source": [
    "product = lambda a, b: a*b\n",
    "product(5, 6)"
   ]
  },
  {
   "cell_type": "code",
   "execution_count": 39,
   "metadata": {},
   "outputs": [
    {
     "data": {
      "text/plain": [
       "25"
      ]
     },
     "execution_count": 39,
     "metadata": {},
     "output_type": "execute_result"
    }
   ],
   "source": [
    "(lambda a, b: a**2 + b**2)(3, 4)"
   ]
  },
  {
   "cell_type": "markdown",
   "metadata": {},
   "source": [
    "## 1.3. Function as argument\n",
    "*Higher-order functions* such as\n",
    "<code style='font-size:13px;'>map()</code>\n",
    "<code style='font-size:13px;'>sorted()</code>\n",
    "<code style='font-size:13px;'>filter()</code>\n",
    "may take other functions as arguments."
   ]
  },
  {
   "cell_type": "markdown",
   "metadata": {},
   "source": [
    "### Mapping"
   ]
  },
  {
   "cell_type": "code",
   "execution_count": 38,
   "metadata": {},
   "outputs": [
    {
     "data": {
      "text/plain": [
       "[5, 4, 7, 7, 4, 6, 7]"
      ]
     },
     "execution_count": 38,
     "metadata": {},
     "output_type": "execute_result"
    }
   ],
   "source": [
    "# map from each word to its length\n",
    "cats = ['tiger', 'lion', 'panther', 'cheetah', 'puma', 'jaguar', 'leopard']\n",
    "list(map(len, cats))"
   ]
  },
  {
   "cell_type": "code",
   "execution_count": 45,
   "metadata": {},
   "outputs": [
    {
     "data": {
      "text/plain": [
       "[25, 16, 9, 4, 1, 1, 4, 9, 16, 25]"
      ]
     },
     "execution_count": 45,
     "metadata": {},
     "output_type": "execute_result"
    }
   ],
   "source": [
    "# map from each number to its square\n",
    "numbers = [-5, -4, -3, -2, -1, 1, 2, 3, 4, 5]\n",
    "list(map(lambda x: x**2, numbers))"
   ]
  },
  {
   "cell_type": "markdown",
   "metadata": {},
   "source": [
    "### Sorting"
   ]
  },
  {
   "cell_type": "code",
   "execution_count": 37,
   "metadata": {},
   "outputs": [
    {
     "data": {
      "text/plain": [
       "['lion', 'puma', 'tiger', 'jaguar', 'panther', 'cheetah', 'leopard']"
      ]
     },
     "execution_count": 37,
     "metadata": {},
     "output_type": "execute_result"
    }
   ],
   "source": [
    "# sort by item's length\n",
    "cats = ['tiger', 'lion', 'panther', 'cheetah', 'puma', 'jaguar', 'leopard']\n",
    "sorted(cats, key=len)"
   ]
  },
  {
   "cell_type": "code",
   "execution_count": 43,
   "metadata": {},
   "outputs": [
    {
     "data": {
      "text/plain": [
       "[-1, -2, -3, -4, -5, 5, 4, 3, 2, 1]"
      ]
     },
     "execution_count": 43,
     "metadata": {},
     "output_type": "execute_result"
    }
   ],
   "source": [
    "# sort by the reciprocal of each number\n",
    "numbers = [-5, -4, -3, -2, -1, 1, 2, 3, 4, 5]\n",
    "sorted(numbers, key=lambda x: 1/x)"
   ]
  },
  {
   "cell_type": "markdown",
   "metadata": {},
   "source": [
    "### Filtering"
   ]
  },
  {
   "cell_type": "code",
   "execution_count": 50,
   "metadata": {},
   "outputs": [
    {
     "data": {
      "text/plain": [
       "['tiger', 'panther', 'cheetah', 'leopard']"
      ]
     },
     "execution_count": 50,
     "metadata": {},
     "output_type": "execute_result"
    }
   ],
   "source": [
    "# filter out words containing 'e'\n",
    "cats = ['tiger', 'lion', 'panther', 'cheetah', 'puma', 'jaguar', 'leopard']\n",
    "list(filter(lambda x: 'e' in x, cats))"
   ]
  },
  {
   "cell_type": "code",
   "execution_count": 46,
   "metadata": {},
   "outputs": [
    {
     "data": {
      "text/plain": [
       "[-4, -2, 2, 4]"
      ]
     },
     "execution_count": 46,
     "metadata": {},
     "output_type": "execute_result"
    }
   ],
   "source": [
    "# filter out even numbers\n",
    "numbers = [-5, -4, -3, -2, -1, 1, 2, 3, 4, 5]\n",
    "list(filter(lambda x: x%2==0, numbers))"
   ]
  },
  {
   "cell_type": "markdown",
   "metadata": {},
   "source": [
    "## 1.4. Decorator functions\n",
    "A *dectorator function* in Python is a higher-order function that take an *inner function* as input and extends its functionality. People also call it the wrapper function, due to its behaviour that *wraps* around another function. This concept, in my opinion is quite abstract, so we will learn its usage first, then learn how to create a custom one later."
   ]
  },
  {
   "cell_type": "markdown",
   "metadata": {},
   "source": [
    "### Practical usage\n",
    "Let's say we want to apply the ReLU function $f(x)=\\max(x,0)$ to a list of numbers. We break this problem into two steps, (1) write the <code style='font-size:13px'>relu</code> function that processes a single number and (2) apply it to the entire list. The second step will be implemented using the Numpy's\n",
    "<code style='font-size:13px'><a href=https://numpy.org/doc/stable/reference/generated/numpy.vectorize.html>vectorize</a></code>\n",
    "function, as it is faster and more readable that loops.\n",
    "\n",
    "In this program, <code style='font-size:13px'>vectorize</code> is the decorator function and <code style='font-size:13px'>relu</code> is the inner function. It is written in two equivalent ways, notice that the second way provides a convinient syntax using the <code style='font-size:13px'>@</code> symbol."
   ]
  },
  {
   "cell_type": "code",
   "execution_count": 2,
   "metadata": {},
   "outputs": [],
   "source": [
    "from numpy import vectorize\n",
    "x = range(-4, 5)"
   ]
  },
  {
   "cell_type": "code",
   "execution_count": 3,
   "metadata": {},
   "outputs": [
    {
     "data": {
      "text/plain": [
       "array([0, 0, 0, 0, 0, 1, 2, 3, 4])"
      ]
     },
     "execution_count": 3,
     "metadata": {},
     "output_type": "execute_result"
    }
   ],
   "source": [
    "def relu(x):\n",
    "    return x if x > 0 else 0\n",
    "relu = vectorize(relu)\n",
    "\n",
    "relu(x)"
   ]
  },
  {
   "cell_type": "code",
   "execution_count": 25,
   "metadata": {},
   "outputs": [
    {
     "data": {
      "text/plain": [
       "array([0, 0, 0, 0, 0, 1, 2, 3, 4])"
      ]
     },
     "execution_count": 25,
     "metadata": {},
     "output_type": "execute_result"
    }
   ],
   "source": [
    "@vectorize\n",
    "def relu(x):\n",
    "    return x if x > 0 else 0\n",
    "\n",
    "relu(x)"
   ]
  },
  {
   "cell_type": "markdown",
   "metadata": {},
   "source": [
    "### Custom decorators\n",
    "In this section we are going to write, from scratch, some useful decorators. A convenience function <code style='font-size:13px'>wraps</code> is used to retain the original attributes of the inner function, but does not change the logic."
   ]
  },
  {
   "cell_type": "code",
   "execution_count": 49,
   "metadata": {},
   "outputs": [],
   "source": [
    "import logging\n",
    "import datetime as dt\n",
    "import functools\n",
    "\n",
    "def timer(inner):\n",
    "    @functools.wraps(inner)\n",
    "    def _wrapper(*args, **kwargs):\n",
    "        start = dt.datetime.now()\n",
    "        \n",
    "        # call the inner function\n",
    "        output = inner(*args, **kwargs)\n",
    "        \n",
    "        end = dt.datetime.now()\n",
    "        logging.warning(f'Elapsed time {end-start}')\n",
    "        return output\n",
    "    \n",
    "    return _wrapper"
   ]
  },
  {
   "cell_type": "code",
   "execution_count": 47,
   "metadata": {},
   "outputs": [
    {
     "name": "stderr",
     "output_type": "stream",
     "text": [
      "WARNING:root:Elapsed time 0:00:00.514547\n"
     ]
    },
    {
     "data": {
      "text/plain": [
       "9"
      ]
     },
     "execution_count": 47,
     "metadata": {},
     "output_type": "execute_result"
    }
   ],
   "source": [
    "import time\n",
    "\n",
    "@timer\n",
    "def exp(base, power=2):\n",
    "    'The exponential function'\n",
    "    time.sleep(0.5)\n",
    "    return base**power\n",
    "\n",
    "exp(3)"
   ]
  },
  {
   "cell_type": "code",
   "execution_count": 38,
   "metadata": {},
   "outputs": [
    {
     "data": {
      "text/plain": [
       "'The exponential function'"
      ]
     },
     "execution_count": 38,
     "metadata": {},
     "output_type": "execute_result"
    }
   ],
   "source": [
    "exp.__doc__"
   ]
  },
  {
   "cell_type": "code",
   "execution_count": 54,
   "metadata": {},
   "outputs": [],
   "source": [
    "class Rectangle:\n",
    "    def __init__(self, height, width):\n",
    "        self.height = height\n",
    "        self.width = width\n",
    "    \n",
    "    @classmethod\n",
    "    def from_string(cls, argString):\n",
    "        height, width = argString.split(',')\n",
    "        height, width = float(height), float(width)\n",
    "        return cls(height, width)\n",
    "    \n",
    "    def get_area(self):\n",
    "        return self.height * self.width\n",
    "    \n",
    "    def get_perimeter(self):\n",
    "        return 2 * (self.height + self.width)"
   ]
  },
  {
   "cell_type": "code",
   "execution_count": 57,
   "metadata": {},
   "outputs": [
    {
     "data": {
      "text/plain": [
       "14.0"
      ]
     },
     "execution_count": 57,
     "metadata": {},
     "output_type": "execute_result"
    }
   ],
   "source": [
    "Rectangle.from_string('3.5, 4').get_area()"
   ]
  },
  {
   "cell_type": "code",
   "execution_count": null,
   "metadata": {},
   "outputs": [],
   "source": []
  },
  {
   "cell_type": "code",
   "execution_count": null,
   "metadata": {},
   "outputs": [],
   "source": []
  },
  {
   "cell_type": "code",
   "execution_count": null,
   "metadata": {},
   "outputs": [],
   "source": []
  },
  {
   "cell_type": "code",
   "execution_count": null,
   "metadata": {},
   "outputs": [],
   "source": []
  },
  {
   "cell_type": "code",
   "execution_count": null,
   "metadata": {},
   "outputs": [],
   "source": []
  },
  {
   "cell_type": "markdown",
   "metadata": {},
   "source": [
    "# 2. Classes\n",
    "Python is an [object-oriented programming] (OOP) language, meaning everything in Python is an *object*. In this section we learn how to make up our own objects to move to the next step of code reproducibility. This is done by designing *classes*, the blueprints for creating objects.\n",
    "\n",
    "[object-oriented programming]: https://en.wikipedia.org/wiki/Object-oriented_programming"
   ]
  },
  {
   "cell_type": "markdown",
   "metadata": {},
   "source": [
    "## 2.1. Initialization\n",
    "We use the statement <code style='font-size:13px'>class</code> to define a new class, followed by any name we want. According to [PEP 8] convention, class names should be capitalized, such as MyClass. The next thing must be done after naming is defining the constructor via the <code style='font-size:13px'>\\_\\_init__()</code> special method. The first argument of this method is always a <code style='font-size:13px'>self</code> keyword that represent the *instance* itself.\n",
    "\n",
    "[PEP 8]: https://peps.python.org/pep-0008/"
   ]
  },
  {
   "cell_type": "code",
   "execution_count": 11,
   "metadata": {
    "tags": []
   },
   "outputs": [],
   "source": [
    "class Rectangle:\n",
    "    'This class only stores sizes'\n",
    "    def __init__(self, width, length):\n",
    "        pass"
   ]
  },
  {
   "cell_type": "code",
   "execution_count": 3,
   "metadata": {
    "execution": {
     "iopub.execute_input": "2022-11-30T16:26:43.278631Z",
     "iopub.status.busy": "2022-11-30T16:26:43.278154Z",
     "iopub.status.idle": "2022-11-30T16:26:43.289168Z",
     "shell.execute_reply": "2022-11-30T16:26:43.287871Z",
     "shell.execute_reply.started": "2022-11-30T16:26:43.278593Z"
    },
    "tags": []
   },
   "outputs": [
    {
     "data": {
      "text/plain": [
       "'This class only stores sizes'"
      ]
     },
     "execution_count": 3,
     "metadata": {},
     "output_type": "execute_result"
    }
   ],
   "source": [
    "Rectangle(3, 4).__doc__"
   ]
  },
  {
   "cell_type": "markdown",
   "metadata": {},
   "source": [
    "### Attributes\n",
    "We start adding to our class some attributes, which are variables defined inside of classes. There are three types of attributes you may see in practice:\n",
    "- *Normal attributes* such as <code style='font-size:13px'>width</code> and <code style='font-size:13px'>length</code>. They can be easily accessed and modified. Some libraries such as Scikit-learn name attributes with a trailing underscore to distinguish them with methods.\n",
    "- *Private attributes* with double leading underscore like <code style='font-size:13px'>__nEdges</code> indicate *strong* internal use. They attributes invoke *name mangling*, which protects themselves from being modified. In practice, it is recommended by PEP 8 to write private attributes using a leading underscore like <code style='font-size:13px'>_nCorners</code> (*weak* internal use). These ones work exactly the same as normal attributes, but people understand the convention and take double care when dealing with such stuff.\n",
    "- *Magical attributes* with double leading and trailing underscore like <code style='font-size:13px'>\\_\\_doc__</code> and <code style='font-size:13px'>\\_\\_name__</code> are special ones that Python create for you. You are free to override those to change the behaviour of your class, but should never make up such names."
   ]
  },
  {
   "cell_type": "code",
   "execution_count": 12,
   "metadata": {
    "tags": []
   },
   "outputs": [],
   "source": [
    "class Rectangle:\n",
    "    _nCorners = 4\n",
    "    __nEdges = 4\n",
    "    \n",
    "    def __init__(self, width, length):\n",
    "        self.width_ = width\n",
    "        self.length = length"
   ]
  },
  {
   "cell_type": "code",
   "execution_count": 14,
   "metadata": {},
   "outputs": [
    {
     "data": {
      "text/plain": [
       "3"
      ]
     },
     "execution_count": 14,
     "metadata": {},
     "output_type": "execute_result"
    }
   ],
   "source": [
    "Rectangle(3,8).width_"
   ]
  },
  {
   "cell_type": "code",
   "execution_count": 15,
   "metadata": {
    "tags": []
   },
   "outputs": [
    {
     "data": {
      "text/plain": [
       "4"
      ]
     },
     "execution_count": 15,
     "metadata": {},
     "output_type": "execute_result"
    }
   ],
   "source": [
    "Rectangle(3,8)._nCorners"
   ]
  },
  {
   "cell_type": "code",
   "execution_count": 16,
   "metadata": {
    "tags": []
   },
   "outputs": [
    {
     "data": {
      "text/plain": [
       "4"
      ]
     },
     "execution_count": 16,
     "metadata": {},
     "output_type": "execute_result"
    }
   ],
   "source": [
    "# name mangling\n",
    "Rectangle(3,8)._Rectangle__nEdges"
   ]
  },
  {
   "cell_type": "markdown",
   "metadata": {},
   "source": [
    "### Methods\n",
    "Methods are functions defined inside of classes, with the first argument also being <code style='font-size:13px'>self</code>. This allows methods to access attributes assigned during initialization."
   ]
  },
  {
   "cell_type": "code",
   "execution_count": 17,
   "metadata": {
    "tags": []
   },
   "outputs": [],
   "source": [
    "class Rectangle:\n",
    "    def __init__(self, width, length):\n",
    "        self.width = width\n",
    "        self.length = length\n",
    "        \n",
    "    def get_area(self):\n",
    "        return self.width * self.length\n",
    "    \n",
    "    def get_perimeter(self):\n",
    "        return 2 * (self.width + self.length)"
   ]
  },
  {
   "cell_type": "code",
   "execution_count": 24,
   "metadata": {},
   "outputs": [
    {
     "data": {
      "text/plain": [
       "24"
      ]
     },
     "execution_count": 24,
     "metadata": {},
     "output_type": "execute_result"
    }
   ],
   "source": [
    "Rectangle(4,6).get_area()"
   ]
  },
  {
   "cell_type": "code",
   "execution_count": 25,
   "metadata": {},
   "outputs": [
    {
     "data": {
      "text/plain": [
       "20"
      ]
     },
     "execution_count": 25,
     "metadata": {},
     "output_type": "execute_result"
    }
   ],
   "source": [
    "Rectangle(4,6).get_perimeter()"
   ]
  },
  {
   "cell_type": "markdown",
   "metadata": {},
   "source": [
    "## 2.2. Advanced behaviours"
   ]
  },
  {
   "cell_type": "code",
   "execution_count": null,
   "metadata": {},
   "outputs": [],
   "source": []
  },
  {
   "cell_type": "code",
   "execution_count": null,
   "metadata": {},
   "outputs": [],
   "source": []
  },
  {
   "cell_type": "code",
   "execution_count": 26,
   "metadata": {},
   "outputs": [],
   "source": [
    "class Student:\n",
    "\tdef __init__(self,name):\n",
    "\t\tself._name = name\n",
    "\t@property\n",
    "\tdef name(self):\n",
    "\t\treturn self._name\n",
    "\t@name.setter\n",
    "\tdef name(self,newname):\n",
    "\t\tself._name = newname"
   ]
  },
  {
   "cell_type": "code",
   "execution_count": 29,
   "metadata": {},
   "outputs": [
    {
     "data": {
      "text/plain": [
       "'h'"
      ]
     },
     "execution_count": 29,
     "metadata": {},
     "output_type": "execute_result"
    }
   ],
   "source": [
    "Student('h').name"
   ]
  },
  {
   "cell_type": "code",
   "execution_count": null,
   "metadata": {},
   "outputs": [],
   "source": []
  },
  {
   "cell_type": "code",
   "execution_count": null,
   "metadata": {},
   "outputs": [],
   "source": []
  },
  {
   "cell_type": "code",
   "execution_count": null,
   "metadata": {},
   "outputs": [],
   "source": []
  },
  {
   "cell_type": "code",
   "execution_count": null,
   "metadata": {},
   "outputs": [],
   "source": [
    "class Office:\n",
    "    name = name\n",
    "    color = color\n",
    "    extension = suffix\n",
    "\n",
    "# each instance needs 3 arguments to be created\n",
    "word = Office('MS Word', 'blue', '.docx')\n",
    "excel = Office('MS Excel', 'green', '.xlsx')\n",
    "powerpoint = Office('MS PowerPoint', 'red', '.pptx')"
   ]
  },
  {
   "cell_type": "code",
   "execution_count": 8,
   "metadata": {},
   "outputs": [
    {
     "data": {
      "text/plain": [
       "'MS Word'"
      ]
     },
     "execution_count": 8,
     "metadata": {},
     "output_type": "execute_result"
    }
   ],
   "source": [
    "word.name"
   ]
  },
  {
   "cell_type": "code",
   "execution_count": 9,
   "metadata": {},
   "outputs": [
    {
     "data": {
      "text/plain": [
       "'.docx'"
      ]
     },
     "execution_count": 9,
     "metadata": {},
     "output_type": "execute_result"
    }
   ],
   "source": [
    "excel.extension"
   ]
  },
  {
   "cell_type": "code",
   "execution_count": 11,
   "metadata": {},
   "outputs": [
    {
     "data": {
      "text/plain": [
       "'red'"
      ]
     },
     "execution_count": 11,
     "metadata": {},
     "output_type": "execute_result"
    }
   ],
   "source": [
    "powerpoint.color"
   ]
  },
  {
   "cell_type": "markdown",
   "metadata": {},
   "source": [
    "# References\n",
    "- *bas.codes - [Understanding decorators in Python](https://bas.codes/posts/python-decorators)*"
   ]
  },
  {
   "cell_type": "markdown",
   "metadata": {},
   "source": [
    "---\n",
    "*&#9829; By Quang Hung x Thuy Linh &#9829;*"
   ]
  }
 ],
 "metadata": {
  "colab": {
   "name": "Lecture 4.ipynb",
   "provenance": [],
   "version": "0.3.2"
  },
  "kernelspec": {
   "display_name": "Python 3 (ipykernel)",
   "language": "python",
   "name": "python3"
  },
  "language_info": {
   "codemirror_mode": {
    "name": "ipython",
    "version": 3
   },
   "file_extension": ".py",
   "mimetype": "text/x-python",
   "name": "python",
   "nbconvert_exporter": "python",
   "pygments_lexer": "ipython3",
   "version": "3.9.7"
  },
  "toc-autonumbering": false
 },
 "nbformat": 4,
 "nbformat_minor": 4
}
