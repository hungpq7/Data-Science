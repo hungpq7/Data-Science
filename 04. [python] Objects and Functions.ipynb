{
 "cells": [
  {
   "cell_type": "markdown",
   "metadata": {},
   "source": [
    "# 1. Class and object\n",
    "Python is an [object-oriented programming] (OOP) language, meaning everything in Python is an object. Class is the object constructor, is the blueprint/template for creating objects. An object is an instance of a class.\n",
    "\n",
    "[object-oriented programming]: https://en.wikipedia.org/wiki/Object-oriented_programming"
   ]
  },
  {
   "cell_type": "markdown",
   "metadata": {},
   "source": [
    "## 1.1. Attribute and method"
   ]
  },
  {
   "cell_type": "markdown",
   "metadata": {},
   "source": [
    "The <code style='font-size:13px;'>BigCat</code> class with 2 attributes <code style='font-size:13px;'>classification</code> and <code style='font-size:13px;'>character</code>."
   ]
  },
  {
   "cell_type": "code",
   "execution_count": 20,
   "metadata": {},
   "outputs": [],
   "source": [
    "class Rectangle:\n",
    "    def __init__(self, length, width):\n",
    "        pass"
   ]
  },
  {
   "cell_type": "code",
   "execution_count": 16,
   "metadata": {},
   "outputs": [],
   "source": [
    "from untitled import *"
   ]
  },
  {
   "cell_type": "code",
   "execution_count": 17,
   "metadata": {},
   "outputs": [
    {
     "data": {
      "text/plain": [
       "'zf'"
      ]
     },
     "execution_count": 17,
     "metadata": {},
     "output_type": "execute_result"
    }
   ],
   "source": [
    "name"
   ]
  },
  {
   "cell_type": "code",
   "execution_count": 19,
   "metadata": {},
   "outputs": [
    {
     "ename": "NameError",
     "evalue": "name '_age' is not defined",
     "output_type": "error",
     "traceback": [
      "\u001b[1;31m---------------------------------------------------------------------------\u001b[0m",
      "\u001b[1;31mNameError\u001b[0m                                 Traceback (most recent call last)",
      "\u001b[1;32m~\\AppData\\Local\\Temp/ipykernel_26100/1421361227.py\u001b[0m in \u001b[0;36m<module>\u001b[1;34m\u001b[0m\n\u001b[1;32m----> 1\u001b[1;33m \u001b[0m_age\u001b[0m\u001b[1;33m\u001b[0m\u001b[1;33m\u001b[0m\u001b[0m\n\u001b[0m",
      "\u001b[1;31mNameError\u001b[0m: name '_age' is not defined"
     ]
    }
   ],
   "source": [
    "_age"
   ]
  },
  {
   "cell_type": "code",
   "execution_count": 14,
   "metadata": {},
   "outputs": [
    {
     "data": {
      "text/plain": [
       "4"
      ]
     },
     "execution_count": 14,
     "metadata": {},
     "output_type": "execute_result"
    }
   ],
   "source": [
    "Rectangle(4,5)._Rectangle__corners"
   ]
  },
  {
   "cell_type": "code",
   "execution_count": 21,
   "metadata": {},
   "outputs": [
    {
     "data": {
      "text/plain": [
       "['.env',\n",
       " '.git',\n",
       " '.gitignore',\n",
       " '.ipynb_checkpoints',\n",
       " '01. [python] Basic Concepts.ipynb',\n",
       " '02. [python] Data Types.ipynb',\n",
       " '03. [python] Containers.ipynb',\n",
       " '04. [python] Objects and Functions.ipynb',\n",
       " '06. [python] External Sources.ipynb',\n",
       " '08. [numpy] Arrays.ipynb',\n",
       " '09. [matplotlib] Graph Construction.ipynb',\n",
       " '10. [numpy] Linear Algebra.ipynb',\n",
       " '11. [sympy] Calculus.ipynb',\n",
       " '12. [numpy] Probability.ipynb',\n",
       " '13. [numpy] Statistics.ipynb',\n",
       " '14. [scipy] Hypothesis Testing.ipynb',\n",
       " '16. [pandas] Data Exploratory.ipynb',\n",
       " '17. [pandas] Data Cleaning.ipynb',\n",
       " '18. [pandas] Data Transformation.ipynb',\n",
       " '19. [janitor] Pandas Extensions.ipynb',\n",
       " '20. [statsmodels] Time Series Analysis.ipynb',\n",
       " '21. [hiveql] Data Manipulation.ipynb',\n",
       " '22. [pyspark] Data Exploratory.ipynb',\n",
       " '23. [pyspark] Data Cleaning.ipynb',\n",
       " '24. [pyspark] Data Transformation.ipynb',\n",
       " '25. [dask] Dask Introduction.ipynb',\n",
       " '26. [seaborn] Data Visualization.ipynb',\n",
       " '27. [plotly] Interactive Visualization.ipynb',\n",
       " '30. [sklearn] Machine Learning.ipynb',\n",
       " '31. [sklearn] Classification.ipynb',\n",
       " '32. [sklearn] Regression.ipynb',\n",
       " '33. [sklearn] Ensemble Learning.ipynb',\n",
       " '34. [xgboost] Tree Boosting.ipynb',\n",
       " '35. [sklearn] Feature Engineering.ipynb',\n",
       " '36. [numpy] Gradient Descent.ipynb',\n",
       " '37. [ray] Hyperparam Optimization.ipynb',\n",
       " '38. [shap] Model Interpretation.ipynb',\n",
       " '39. [imblearn] Imbalanced Learning.ipynb',\n",
       " '41. [prophet] Forecasting Algorithms.ipynb',\n",
       " '42. [sktime] Forecasting Pipeline.ipynb',\n",
       " '43. [lenskit] Recommendation.ipynb',\n",
       " '44. [sklearn] Clustering.ipynb',\n",
       " '45. [sklearn] Dimension Reduction.ipynb',\n",
       " '46. [pyod] Anomaly Detection.ipynb',\n",
       " '47. [pyspark] Machine Learning.ipynb',\n",
       " '48. [nltk] Text Processing.ipynb',\n",
       " '48. [old] Text Mining.ipynb',\n",
       " '50. [tensorflow] Multilayer Perceptron.ipynb',\n",
       " '54. [r] Basic Concepts.ipynb',\n",
       " '55. [r] Data Structures.ipynb',\n",
       " '56. [tidyverse] Data Wrangling.ipynb',\n",
       " '57. [dplyr] Data Cleaning.ipynb',\n",
       " '58. [ggplot] Data Visualization.ipynb',\n",
       " '59. [r] Statistics.ipynb',\n",
       " 'data',\n",
       " 'image',\n",
       " 'output',\n",
       " 'readme.md',\n",
       " 'util',\n",
       " '[working] 05. [pygorithm] Algorithms.ipynb',\n",
       " '[working] 07. [Selenium] Web Scraping.ipynb',\n",
       " '[working] 15. [numpy] Applied Mathematics.ipynb',\n",
       " '[working] 28. [mlxtend] Association Rule.ipynb',\n",
       " '[working] 29. [networkx] Network Analysis.ipynb',\n",
       " '[working] 40. [casualml] Uplift Modeling.ipynb',\n",
       " '[working] 49. [opencv] Image Processing.ipynb',\n",
       " '[working] 51. [tensorflow] Recurrent Networks.ipynb',\n",
       " '[working] 52. [tensorflow] Convolutional Networks.ipynb',\n",
       " '[working] 53. [pytorch] Deep Learning.ipynb',\n",
       " '__pycache__']"
      ]
     },
     "execution_count": 21,
     "metadata": {},
     "output_type": "execute_result"
    }
   ],
   "source": [
    "import os\n",
    "os.listdir()"
   ]
  },
  {
   "cell_type": "code",
   "execution_count": null,
   "metadata": {},
   "outputs": [],
   "source": []
  },
  {
   "cell_type": "code",
   "execution_count": 13,
   "metadata": {},
   "outputs": [
    {
     "data": {
      "text/plain": [
       "['_Rectangle__corners',\n",
       " '__class__',\n",
       " '__delattr__',\n",
       " '__dict__',\n",
       " '__dir__',\n",
       " '__doc__',\n",
       " '__eq__',\n",
       " '__format__',\n",
       " '__ge__',\n",
       " '__getattribute__',\n",
       " '__gt__',\n",
       " '__hash__',\n",
       " '__init__',\n",
       " '__init_subclass__',\n",
       " '__le__',\n",
       " '__lt__',\n",
       " '__module__',\n",
       " '__ne__',\n",
       " '__new__',\n",
       " '__reduce__',\n",
       " '__reduce_ex__',\n",
       " '__repr__',\n",
       " '__setattr__',\n",
       " '__sizeof__',\n",
       " '__str__',\n",
       " '__subclasshook__',\n",
       " '__weakref__',\n",
       " 'length',\n",
       " 'width']"
      ]
     },
     "execution_count": 13,
     "metadata": {},
     "output_type": "execute_result"
    }
   ],
   "source": [
    "r = Rectangle(4,5)\n",
    "dir(r)"
   ]
  },
  {
   "cell_type": "code",
   "execution_count": null,
   "metadata": {},
   "outputs": [],
   "source": []
  },
  {
   "cell_type": "code",
   "execution_count": null,
   "metadata": {},
   "outputs": [],
   "source": []
  },
  {
   "cell_type": "code",
   "execution_count": 1,
   "metadata": {},
   "outputs": [],
   "source": [
    "class BigCat:\n",
    "    classification = 'felidae'\n",
    "    character = 'aggressive'"
   ]
  },
  {
   "cell_type": "code",
   "execution_count": 2,
   "metadata": {},
   "outputs": [
    {
     "data": {
      "text/plain": [
       "'felidae'"
      ]
     },
     "execution_count": 2,
     "metadata": {},
     "output_type": "execute_result"
    }
   ],
   "source": [
    "# access an attribute\n",
    "cat = big_cats()\n",
    "cat.classification"
   ]
  },
  {
   "cell_type": "markdown",
   "metadata": {},
   "source": [
    "The <code style='font-size:13px;'>snake</code> class with an attribute <code style='font-size:13px;'>name</code> and a method <code style='font-size:13px;'>change_name()</code>"
   ]
  },
  {
   "cell_type": "code",
   "execution_count": 3,
   "metadata": {},
   "outputs": [],
   "source": [
    "class snake:\n",
    "    name = 'python'\n",
    "    def change_name(self, new_name):\n",
    "        self.name = new_name"
   ]
  },
  {
   "cell_type": "code",
   "execution_count": 4,
   "metadata": {},
   "outputs": [
    {
     "data": {
      "text/plain": [
       "'python'"
      ]
     },
     "execution_count": 4,
     "metadata": {},
     "output_type": "execute_result"
    }
   ],
   "source": [
    "# access the attribue        \n",
    "anaconda = snake()\n",
    "anaconda.name"
   ]
  },
  {
   "cell_type": "code",
   "execution_count": 5,
   "metadata": {},
   "outputs": [
    {
     "data": {
      "text/plain": [
       "'anaconda'"
      ]
     },
     "execution_count": 5,
     "metadata": {},
     "output_type": "execute_result"
    }
   ],
   "source": [
    "# call the method\n",
    "anaconda.change_name('anaconda')\n",
    "anaconda.name"
   ]
  },
  {
   "cell_type": "markdown",
   "metadata": {},
   "source": [
    "## 1.2. Constructor\n",
    "The <code style='font-size:13px;'>\\_\\_init\\_\\_</code> method represents a constructor, which initializes (assigns values) attributes of a class. The <code style='font-size:13px;'>self</code> keyword represents the instance itself."
   ]
  },
  {
   "cell_type": "code",
   "execution_count": 1,
   "metadata": {},
   "outputs": [],
   "source": [
    "class Office:\n",
    "    def __init__(self, name, color, suffix):\n",
    "        self.name = name\n",
    "        self.color = color\n",
    "        self.extension = suffix\n",
    "\n",
    "# each instance needs 3 arguments to be created\n",
    "word = Office('MS Word', 'blue', '.docx')\n",
    "excel = Office('MS Excel', 'green', '.xlsx')\n",
    "powerpoint = Office('MS PowerPoint', 'red', '.pptx')"
   ]
  },
  {
   "cell_type": "code",
   "execution_count": 2,
   "metadata": {},
   "outputs": [
    {
     "ename": "NameError",
     "evalue": "name 'name' is not defined",
     "output_type": "error",
     "traceback": [
      "\u001b[1;31m---------------------------------------------------------------------------\u001b[0m",
      "\u001b[1;31mNameError\u001b[0m                                 Traceback (most recent call last)",
      "\u001b[1;32m~\\AppData\\Local\\Temp/ipykernel_26100/3431855802.py\u001b[0m in \u001b[0;36m<module>\u001b[1;34m\u001b[0m\n\u001b[1;32m----> 1\u001b[1;33m \u001b[1;32mclass\u001b[0m \u001b[0mOffice\u001b[0m\u001b[1;33m:\u001b[0m\u001b[1;33m\u001b[0m\u001b[1;33m\u001b[0m\u001b[0m\n\u001b[0m\u001b[0;32m      2\u001b[0m     \u001b[0mname\u001b[0m \u001b[1;33m=\u001b[0m \u001b[0mname\u001b[0m\u001b[1;33m\u001b[0m\u001b[1;33m\u001b[0m\u001b[0m\n\u001b[0;32m      3\u001b[0m     \u001b[0mcolor\u001b[0m \u001b[1;33m=\u001b[0m \u001b[0mcolor\u001b[0m\u001b[1;33m\u001b[0m\u001b[1;33m\u001b[0m\u001b[0m\n\u001b[0;32m      4\u001b[0m     \u001b[0mextension\u001b[0m \u001b[1;33m=\u001b[0m \u001b[0msuffix\u001b[0m\u001b[1;33m\u001b[0m\u001b[1;33m\u001b[0m\u001b[0m\n\u001b[0;32m      5\u001b[0m \u001b[1;33m\u001b[0m\u001b[0m\n",
      "\u001b[1;32m~\\AppData\\Local\\Temp/ipykernel_26100/3431855802.py\u001b[0m in \u001b[0;36mOffice\u001b[1;34m()\u001b[0m\n\u001b[0;32m      1\u001b[0m \u001b[1;32mclass\u001b[0m \u001b[0mOffice\u001b[0m\u001b[1;33m:\u001b[0m\u001b[1;33m\u001b[0m\u001b[1;33m\u001b[0m\u001b[0m\n\u001b[1;32m----> 2\u001b[1;33m     \u001b[0mname\u001b[0m \u001b[1;33m=\u001b[0m \u001b[0mname\u001b[0m\u001b[1;33m\u001b[0m\u001b[1;33m\u001b[0m\u001b[0m\n\u001b[0m\u001b[0;32m      3\u001b[0m     \u001b[0mcolor\u001b[0m \u001b[1;33m=\u001b[0m \u001b[0mcolor\u001b[0m\u001b[1;33m\u001b[0m\u001b[1;33m\u001b[0m\u001b[0m\n\u001b[0;32m      4\u001b[0m     \u001b[0mextension\u001b[0m \u001b[1;33m=\u001b[0m \u001b[0msuffix\u001b[0m\u001b[1;33m\u001b[0m\u001b[1;33m\u001b[0m\u001b[0m\n\u001b[0;32m      5\u001b[0m \u001b[1;33m\u001b[0m\u001b[0m\n",
      "\u001b[1;31mNameError\u001b[0m: name 'name' is not defined"
     ]
    }
   ],
   "source": [
    "class Office:\n",
    "    name = name\n",
    "    color = color\n",
    "    extension = suffix\n",
    "\n",
    "# each instance needs 3 arguments to be created\n",
    "word = Office('MS Word', 'blue', '.docx')\n",
    "excel = Office('MS Excel', 'green', '.xlsx')\n",
    "powerpoint = Office('MS PowerPoint', 'red', '.pptx')"
   ]
  },
  {
   "cell_type": "code",
   "execution_count": 8,
   "metadata": {},
   "outputs": [
    {
     "data": {
      "text/plain": [
       "'MS Word'"
      ]
     },
     "execution_count": 8,
     "metadata": {},
     "output_type": "execute_result"
    }
   ],
   "source": [
    "word.name"
   ]
  },
  {
   "cell_type": "code",
   "execution_count": 9,
   "metadata": {},
   "outputs": [
    {
     "data": {
      "text/plain": [
       "'.docx'"
      ]
     },
     "execution_count": 9,
     "metadata": {},
     "output_type": "execute_result"
    }
   ],
   "source": [
    "excel.extension"
   ]
  },
  {
   "cell_type": "code",
   "execution_count": 11,
   "metadata": {},
   "outputs": [
    {
     "data": {
      "text/plain": [
       "'red'"
      ]
     },
     "execution_count": 11,
     "metadata": {},
     "output_type": "execute_result"
    }
   ],
   "source": [
    "powerpoint.color"
   ]
  },
  {
   "cell_type": "markdown",
   "metadata": {},
   "source": [
    "### Some examples"
   ]
  },
  {
   "cell_type": "code",
   "execution_count": 16,
   "metadata": {},
   "outputs": [],
   "source": [
    "class person:\n",
    "    \n",
    "    def __init__(self, name, birth_year):\n",
    "        self.name = name\n",
    "        self.birth_year = birth_year\n",
    "        \n",
    "    def age(self):\n",
    "        from datetime import date\n",
    "        current_year = date.today().year\n",
    "        return current_year - self.birth_year"
   ]
  },
  {
   "cell_type": "code",
   "execution_count": 16,
   "metadata": {},
   "outputs": [
    {
     "data": {
      "text/plain": [
       "24"
      ]
     },
     "execution_count": 16,
     "metadata": {},
     "output_type": "execute_result"
    }
   ],
   "source": [
    "me = person('Hung', 1996)\n",
    "me.age()"
   ]
  },
  {
   "cell_type": "code",
   "execution_count": 17,
   "metadata": {},
   "outputs": [],
   "source": [
    "class rectangle:\n",
    "    \n",
    "    def __init__(self, width, length):\n",
    "        self.width = width\n",
    "        self.length = length\n",
    "    \n",
    "    def area(self):\n",
    "        return self.width * self.length\n",
    "    \n",
    "    def perimeter(self):\n",
    "        return (self.width + self.length) * 2"
   ]
  },
  {
   "cell_type": "code",
   "execution_count": 19,
   "metadata": {},
   "outputs": [],
   "source": [
    "my_rec = rectangle(4, 6)"
   ]
  },
  {
   "cell_type": "code",
   "execution_count": 20,
   "metadata": {},
   "outputs": [
    {
     "data": {
      "text/plain": [
       "24"
      ]
     },
     "execution_count": 20,
     "metadata": {},
     "output_type": "execute_result"
    }
   ],
   "source": [
    "my_rec.area()"
   ]
  },
  {
   "cell_type": "code",
   "execution_count": 22,
   "metadata": {},
   "outputs": [
    {
     "data": {
      "text/plain": [
       "20"
      ]
     },
     "execution_count": 22,
     "metadata": {},
     "output_type": "execute_result"
    }
   ],
   "source": [
    "my_rec.perimeter()"
   ]
  },
  {
   "cell_type": "markdown",
   "metadata": {},
   "source": [
    "# 2. Functions\n",
    "Two types of function in Python:\n",
    "- Built-in: functions that are pre-defined and always available for use.\n",
    "- User-defined: functions that are created by users to make code blocks reusable and more readable."
   ]
  },
  {
   "cell_type": "markdown",
   "metadata": {},
   "source": [
    "## 2.1. Functions as objects"
   ]
  },
  {
   "cell_type": "code",
   "execution_count": 25,
   "metadata": {},
   "outputs": [
    {
     "data": {
      "text/plain": [
       "'print'"
      ]
     },
     "execution_count": 25,
     "metadata": {},
     "output_type": "execute_result"
    }
   ],
   "source": [
    "print.__name__"
   ]
  },
  {
   "cell_type": "markdown",
   "metadata": {},
   "source": [
    "Now give an alias <code style='font-size:13px;'>pr</code> to the <code style='font-size:13px;'>print()</code> function, let's see its behaviours."
   ]
  },
  {
   "cell_type": "code",
   "execution_count": 28,
   "metadata": {},
   "outputs": [
    {
     "name": "stdout",
     "output_type": "stream",
     "text": [
      "Lion\n"
     ]
    }
   ],
   "source": [
    "pr = print\n",
    "pr('Lion')"
   ]
  },
  {
   "cell_type": "code",
   "execution_count": 29,
   "metadata": {},
   "outputs": [
    {
     "data": {
      "text/plain": [
       "'print'"
      ]
     },
     "execution_count": 29,
     "metadata": {},
     "output_type": "execute_result"
    }
   ],
   "source": [
    "pr.__name__"
   ]
  },
  {
   "cell_type": "markdown",
   "metadata": {},
   "source": [
    "## 2.2. User-defined functions\n",
    "A new function can be created by using the <code style='font-size:13px;'>def</code> statement. Arguments passed to a function are the input. The output of the function is indicated using the <code style='font-size:13px;'>return</code> statement, otherwise the function outputs <code style='font-size:13px;'>None</code>."
   ]
  },
  {
   "cell_type": "code",
   "execution_count": 3,
   "metadata": {},
   "outputs": [
    {
     "data": {
      "text/plain": [
       "16"
      ]
     },
     "execution_count": 3,
     "metadata": {},
     "output_type": "execute_result"
    }
   ],
   "source": [
    "def square(base):\n",
    "    return base**2\n",
    "square(4)"
   ]
  },
  {
   "cell_type": "code",
   "execution_count": 11,
   "metadata": {},
   "outputs": [
    {
     "name": "stdout",
     "output_type": "stream",
     "text": [
      "125\n"
     ]
    }
   ],
   "source": [
    "def cube(base):\n",
    "    print(base**3)\n",
    "cube(base=5)"
   ]
  },
  {
   "cell_type": "markdown",
   "metadata": {},
   "source": [
    "### Docstring"
   ]
  },
  {
   "cell_type": "code",
   "execution_count": 30,
   "metadata": {
    "colab": {},
    "colab_type": "code",
    "id": "Ejs7XILicsvn"
   },
   "outputs": [],
   "source": [
    "def do_nothing(x):\n",
    "    'This function really does nothing.'\n",
    "    pass\n",
    "do_nothing(7)"
   ]
  },
  {
   "cell_type": "code",
   "execution_count": 6,
   "metadata": {},
   "outputs": [
    {
     "data": {
      "text/plain": [
       "'This function really does nothing.'"
      ]
     },
     "execution_count": 6,
     "metadata": {},
     "output_type": "execute_result"
    }
   ],
   "source": [
    "# show the docstring of the function\n",
    "do_nothing.__doc__"
   ]
  },
  {
   "cell_type": "markdown",
   "metadata": {},
   "source": [
    "### Default values"
   ]
  },
  {
   "cell_type": "code",
   "execution_count": 1,
   "metadata": {},
   "outputs": [
    {
     "data": {
      "text/plain": [
       "25"
      ]
     },
     "execution_count": 1,
     "metadata": {},
     "output_type": "execute_result"
    }
   ],
   "source": [
    "def exp(base, power=2):\n",
    "    return base**power\n",
    "exp(base=5)"
   ]
  },
  {
   "cell_type": "code",
   "execution_count": 9,
   "metadata": {},
   "outputs": [
    {
     "data": {
      "text/plain": [
       "81"
      ]
     },
     "execution_count": 9,
     "metadata": {},
     "output_type": "execute_result"
    }
   ],
   "source": [
    "exp(base=3, power=4)"
   ]
  },
  {
   "cell_type": "code",
   "execution_count": 10,
   "metadata": {},
   "outputs": [
    {
     "data": {
      "text/plain": [
       "9"
      ]
     },
     "execution_count": 10,
     "metadata": {},
     "output_type": "execute_result"
    }
   ],
   "source": [
    "exp(3)"
   ]
  },
  {
   "cell_type": "markdown",
   "metadata": {},
   "source": [
    "### Returning multiple values"
   ]
  },
  {
   "cell_type": "code",
   "execution_count": 17,
   "metadata": {},
   "outputs": [
    {
     "name": "stdout",
     "output_type": "stream",
     "text": [
      "The perimeter is 50\n",
      "The area is 150\n"
     ]
    }
   ],
   "source": [
    "def rectangle(width, length):\n",
    "    perimeter = 2 * (width + length)\n",
    "    area = width * length\n",
    "    return perimeter, area\n",
    "\n",
    "# unpacking the output\n",
    "perimeter, area = rectangle(10, 15)\n",
    "print(f'The perimeter is {perimeter}')\n",
    "print(f'The area is {area}')"
   ]
  },
  {
   "cell_type": "markdown",
   "metadata": {
    "colab_type": "text",
    "id": "N3Xaj2Lhcsv1"
   },
   "source": [
    "## 2.3. Variable scope\n",
    "Variables are only available in the scope where they are defined. Python currently supports *local* and *global* variables. By default, all variables declared in functions are local, and the <code style='font-size:13px;'>global</code> statement can be used to change the scope of the variable."
   ]
  },
  {
   "cell_type": "code",
   "execution_count": 20,
   "metadata": {},
   "outputs": [
    {
     "name": "stdout",
     "output_type": "stream",
     "text": [
      "17\n",
      "100\n"
     ]
    }
   ],
   "source": [
    "y = 100\n",
    "\n",
    "def f(x):\n",
    "    y = x + 7\n",
    "    return y\n",
    "\n",
    "print(f(10))\n",
    "print(y)"
   ]
  },
  {
   "cell_type": "code",
   "execution_count": 21,
   "metadata": {},
   "outputs": [
    {
     "name": "stdout",
     "output_type": "stream",
     "text": [
      "17\n",
      "17\n"
     ]
    }
   ],
   "source": [
    "y = 100\n",
    "\n",
    "def f(x):\n",
    "    global y\n",
    "    y = x + 7\n",
    "    return y\n",
    "\n",
    "print(f(10))\n",
    "print(y)"
   ]
  },
  {
   "cell_type": "markdown",
   "metadata": {},
   "source": [
    "## 2.4. Multiple arguments\n",
    "To define a function that takes multiple arguments, Python supports two special syntaxes, <code style='font-size:13px;'>*</code> and <code style='font-size:13px;'>**</code>. By convention, they are usually wirtten as <code style='font-size:13px;'>*args</code> (*arguments*) and <code style='font-size:13px;'>**kwargs</code> (*keyworded arguments*).\n",
    "- <code style='font-size:13px;'>*args</code> represents a variable number of arguments being passed to the function. The <code style='font-size:13px;'>args</code> variable is a tuple.\n",
    "- <code style='font-size:13px;'>**kwargs</code> represents a variable number of keyworded arguments (or named arguments) being passed to the function. The <code style='font-size:13px;'>kwargs</code> variable is a dictionary."
   ]
  },
  {
   "cell_type": "code",
   "execution_count": 33,
   "metadata": {},
   "outputs": [
    {
     "data": {
      "text/plain": [
       "4.0"
      ]
     },
     "execution_count": 33,
     "metadata": {},
     "output_type": "execute_result"
    }
   ],
   "source": [
    "def mean(*args):\n",
    "    mean = sum(args) / len(args)\n",
    "    return mean\n",
    "mean(1, 3, 5, 7)"
   ]
  },
  {
   "cell_type": "code",
   "execution_count": 35,
   "metadata": {},
   "outputs": [
    {
     "data": {
      "text/plain": [
       "4.0"
      ]
     },
     "execution_count": 35,
     "metadata": {},
     "output_type": "execute_result"
    }
   ],
   "source": [
    "def mean(**kwargs):\n",
    "    mean = sum(kwargs.values()) / len(kwargs)\n",
    "    return mean\n",
    "mean(a=1, b=3, c=5, d=7)"
   ]
  },
  {
   "cell_type": "code",
   "execution_count": 34,
   "metadata": {},
   "outputs": [
    {
     "data": {
      "text/plain": [
       "['Odd', 'Odd', 'Even', 'Odd', 'Even', 'Even', 'Even']"
      ]
     },
     "execution_count": 34,
     "metadata": {},
     "output_type": "execute_result"
    }
   ],
   "source": [
    "def odd_or_even(*args):\n",
    "    output = []\n",
    "    for i in args:\n",
    "        if i%2 == 0:\n",
    "            output.append('Even')\n",
    "        elif i%2 != 0:\n",
    "            output.append('Odd')\n",
    "    return output\n",
    "\n",
    "odd_or_even(-7, -3, 0, 5, 8, 18, 30)"
   ]
  },
  {
   "cell_type": "markdown",
   "metadata": {
    "colab_type": "text",
    "id": "2s1ed5Z2csyK"
   },
   "source": [
    "## 2.5. Lambda functions\n",
    "Python also provides a shorter way to declare a function, making use of the <code style='font-size:13px;'>lambda</code> statement instead of using <code style='font-size:13px;'>def</code>. Since a *lambda* functions have no name by default, they are also called *anonymous* functions. The advantage of *lambda* functions are their ability to be written inline, thus are useful to quickly create temporary functions."
   ]
  },
  {
   "cell_type": "code",
   "execution_count": null,
   "metadata": {},
   "outputs": [],
   "source": [
    "lambda x: x*x"
   ]
  },
  {
   "cell_type": "code",
   "execution_count": null,
   "metadata": {},
   "outputs": [],
   "source": [
    "def square(x):\n",
    "    return x*x"
   ]
  },
  {
   "cell_type": "markdown",
   "metadata": {},
   "source": [
    "The two functions above work the same, but the lambda function itself doesn't have a name."
   ]
  },
  {
   "cell_type": "code",
   "execution_count": null,
   "metadata": {},
   "outputs": [],
   "source": [
    "# give the lambda function a name\n",
    "square = lambda x: x*x\n",
    "square(5)"
   ]
  },
  {
   "cell_type": "code",
   "execution_count": 38,
   "metadata": {},
   "outputs": [
    {
     "data": {
      "text/plain": [
       "30"
      ]
     },
     "execution_count": 38,
     "metadata": {},
     "output_type": "execute_result"
    }
   ],
   "source": [
    "product = lambda a, b: a*b\n",
    "product(5, 6)"
   ]
  },
  {
   "cell_type": "code",
   "execution_count": 39,
   "metadata": {},
   "outputs": [
    {
     "data": {
      "text/plain": [
       "25"
      ]
     },
     "execution_count": 39,
     "metadata": {},
     "output_type": "execute_result"
    }
   ],
   "source": [
    "(lambda a, b: a**2 + b**2)(3, 4)"
   ]
  },
  {
   "cell_type": "markdown",
   "metadata": {},
   "source": [
    "## 2.6. Functions as arguments\n",
    "Higher-order functions (such as <code style='font-size:13px;'>map()</code>, <code style='font-size:13px;'>sorted()</code> and <code style='font-size:13px;'>filter()</code>) may take other functions as arguments."
   ]
  },
  {
   "cell_type": "markdown",
   "metadata": {},
   "source": [
    "### Mapping"
   ]
  },
  {
   "cell_type": "code",
   "execution_count": 38,
   "metadata": {},
   "outputs": [
    {
     "data": {
      "text/plain": [
       "[5, 4, 7, 7, 4, 6, 7]"
      ]
     },
     "execution_count": 38,
     "metadata": {},
     "output_type": "execute_result"
    }
   ],
   "source": [
    "# map from each word to its length\n",
    "cats = ['tiger', 'lion', 'panther', 'cheetah', 'puma', 'jaguar', 'leopard']\n",
    "list(map(len, cats))"
   ]
  },
  {
   "cell_type": "code",
   "execution_count": 45,
   "metadata": {},
   "outputs": [
    {
     "data": {
      "text/plain": [
       "[25, 16, 9, 4, 1, 1, 4, 9, 16, 25]"
      ]
     },
     "execution_count": 45,
     "metadata": {},
     "output_type": "execute_result"
    }
   ],
   "source": [
    "# map from each number to its square\n",
    "numbers = [-5, -4, -3, -2, -1, 1, 2, 3, 4, 5]\n",
    "list(map(lambda x: x**2, numbers))"
   ]
  },
  {
   "cell_type": "markdown",
   "metadata": {},
   "source": [
    "### Sorting"
   ]
  },
  {
   "cell_type": "code",
   "execution_count": 37,
   "metadata": {},
   "outputs": [
    {
     "data": {
      "text/plain": [
       "['lion', 'puma', 'tiger', 'jaguar', 'panther', 'cheetah', 'leopard']"
      ]
     },
     "execution_count": 37,
     "metadata": {},
     "output_type": "execute_result"
    }
   ],
   "source": [
    "# sort by item's length\n",
    "cats = ['tiger', 'lion', 'panther', 'cheetah', 'puma', 'jaguar', 'leopard']\n",
    "sorted(cats, key=len)"
   ]
  },
  {
   "cell_type": "code",
   "execution_count": 43,
   "metadata": {},
   "outputs": [
    {
     "data": {
      "text/plain": [
       "[-1, -2, -3, -4, -5, 5, 4, 3, 2, 1]"
      ]
     },
     "execution_count": 43,
     "metadata": {},
     "output_type": "execute_result"
    }
   ],
   "source": [
    "# sort by the reciprocal of each number\n",
    "numbers = [-5, -4, -3, -2, -1, 1, 2, 3, 4, 5]\n",
    "sorted(numbers, key=lambda x: 1/x)"
   ]
  },
  {
   "cell_type": "markdown",
   "metadata": {},
   "source": [
    "### Filtering"
   ]
  },
  {
   "cell_type": "code",
   "execution_count": 50,
   "metadata": {},
   "outputs": [
    {
     "data": {
      "text/plain": [
       "['tiger', 'panther', 'cheetah', 'leopard']"
      ]
     },
     "execution_count": 50,
     "metadata": {},
     "output_type": "execute_result"
    }
   ],
   "source": [
    "# filter out words containing 'e'\n",
    "cats = ['tiger', 'lion', 'panther', 'cheetah', 'puma', 'jaguar', 'leopard']\n",
    "list(filter(lambda x: 'e' in x, cats))"
   ]
  },
  {
   "cell_type": "code",
   "execution_count": 46,
   "metadata": {},
   "outputs": [
    {
     "data": {
      "text/plain": [
       "[-4, -2, 2, 4]"
      ]
     },
     "execution_count": 46,
     "metadata": {},
     "output_type": "execute_result"
    }
   ],
   "source": [
    "# filter out even numbers\n",
    "numbers = [-5, -4, -3, -2, -1, 1, 2, 3, 4, 5]\n",
    "list(filter(lambda x: x%2==0, numbers))"
   ]
  },
  {
   "cell_type": "markdown",
   "metadata": {},
   "source": [
    "---\n",
    "*&#9829; By Quang Hung x Thuy Linh &#9829;*"
   ]
  }
 ],
 "metadata": {
  "colab": {
   "name": "Lecture 4.ipynb",
   "provenance": [],
   "version": "0.3.2"
  },
  "kernelspec": {
   "display_name": "Python 3",
   "language": "python",
   "name": "python3"
  },
  "language_info": {
   "codemirror_mode": {
    "name": "ipython",
    "version": 3
   },
   "file_extension": ".py",
   "mimetype": "text/x-python",
   "name": "python",
   "nbconvert_exporter": "python",
   "pygments_lexer": "ipython3",
   "version": "3.8.8"
  },
  "toc-autonumbering": false
 },
 "nbformat": 4,
 "nbformat_minor": 4
}
