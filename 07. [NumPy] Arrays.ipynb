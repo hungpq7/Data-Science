{
 "cells": [
  {
   "cell_type": "markdown",
   "metadata": {},
   "source": [
    "# 1. Introduction to NumPy\n",
    "NumPy is the fundamental package for scientific computing, especially for Statistics, Linear Algebra."
   ]
  },
  {
   "cell_type": "code",
   "execution_count": 1,
   "metadata": {
    "execution": {
     "iopub.execute_input": "2021-07-11T16:29:30.202593Z",
     "iopub.status.busy": "2021-07-11T16:29:30.201596Z",
     "iopub.status.idle": "2021-07-11T16:29:30.407134Z",
     "shell.execute_reply": "2021-07-11T16:29:30.407134Z",
     "shell.execute_reply.started": "2021-07-11T16:29:30.201596Z"
    }
   },
   "outputs": [],
   "source": [
    "import numpy as np"
   ]
  },
  {
   "cell_type": "code",
   "execution_count": 2,
   "metadata": {
    "execution": {
     "iopub.execute_input": "2021-07-11T16:29:30.407134Z",
     "iopub.status.busy": "2021-07-11T16:29:30.407134Z",
     "iopub.status.idle": "2021-07-11T16:29:30.437798Z",
     "shell.execute_reply": "2021-07-11T16:29:30.436800Z",
     "shell.execute_reply.started": "2021-07-11T16:29:30.407134Z"
    }
   },
   "outputs": [
    {
     "data": {
      "text/plain": [
       "'1.18.5'"
      ]
     },
     "execution_count": 2,
     "metadata": {},
     "output_type": "execute_result"
    }
   ],
   "source": [
    "np.__version__"
   ]
  },
  {
   "cell_type": "markdown",
   "metadata": {},
   "source": [
    "## 1.1. NumPy constants "
   ]
  },
  {
   "cell_type": "code",
   "execution_count": 3,
   "metadata": {
    "execution": {
     "iopub.execute_input": "2021-07-11T16:29:30.444780Z",
     "iopub.status.busy": "2021-07-11T16:29:30.441789Z",
     "iopub.status.idle": "2021-07-11T16:29:30.455751Z",
     "shell.execute_reply": "2021-07-11T16:29:30.452758Z",
     "shell.execute_reply.started": "2021-07-11T16:29:30.444780Z"
    }
   },
   "outputs": [],
   "source": [
    "import numpy as np"
   ]
  },
  {
   "cell_type": "code",
   "execution_count": 4,
   "metadata": {
    "execution": {
     "iopub.execute_input": "2021-07-11T16:29:30.457747Z",
     "iopub.status.busy": "2021-07-11T16:29:30.457747Z",
     "iopub.status.idle": "2021-07-11T16:29:30.469714Z",
     "shell.execute_reply": "2021-07-11T16:29:30.468748Z",
     "shell.execute_reply.started": "2021-07-11T16:29:30.457747Z"
    }
   },
   "outputs": [
    {
     "data": {
      "text/plain": [
       "3.141592653589793"
      ]
     },
     "execution_count": 4,
     "metadata": {},
     "output_type": "execute_result"
    }
   ],
   "source": [
    "np.pi"
   ]
  },
  {
   "cell_type": "code",
   "execution_count": 5,
   "metadata": {
    "execution": {
     "iopub.execute_input": "2021-07-11T16:29:30.471709Z",
     "iopub.status.busy": "2021-07-11T16:29:30.471709Z",
     "iopub.status.idle": "2021-07-11T16:29:30.485670Z",
     "shell.execute_reply": "2021-07-11T16:29:30.484672Z",
     "shell.execute_reply.started": "2021-07-11T16:29:30.471709Z"
    }
   },
   "outputs": [
    {
     "data": {
      "text/plain": [
       "2.718281828459045"
      ]
     },
     "execution_count": 5,
     "metadata": {},
     "output_type": "execute_result"
    }
   ],
   "source": [
    "np.e"
   ]
  },
  {
   "cell_type": "code",
   "execution_count": 6,
   "metadata": {
    "execution": {
     "iopub.execute_input": "2021-07-11T16:29:30.487667Z",
     "iopub.status.busy": "2021-07-11T16:29:30.486667Z",
     "iopub.status.idle": "2021-07-11T16:29:30.501627Z",
     "shell.execute_reply": "2021-07-11T16:29:30.500632Z",
     "shell.execute_reply.started": "2021-07-11T16:29:30.487667Z"
    }
   },
   "outputs": [
    {
     "data": {
      "text/plain": [
       "inf"
      ]
     },
     "execution_count": 6,
     "metadata": {},
     "output_type": "execute_result"
    }
   ],
   "source": [
    "# the infinity\n",
    "np.inf"
   ]
  },
  {
   "cell_type": "code",
   "execution_count": 7,
   "metadata": {
    "execution": {
     "iopub.execute_input": "2021-07-11T16:29:30.506615Z",
     "iopub.status.busy": "2021-07-11T16:29:30.505617Z",
     "iopub.status.idle": "2021-07-11T16:29:30.533543Z",
     "shell.execute_reply": "2021-07-11T16:29:30.532545Z",
     "shell.execute_reply.started": "2021-07-11T16:29:30.506615Z"
    }
   },
   "outputs": [
    {
     "data": {
      "text/plain": [
       "nan"
      ]
     },
     "execution_count": 7,
     "metadata": {},
     "output_type": "execute_result"
    }
   ],
   "source": [
    "# not a number\n",
    "np.nan"
   ]
  },
  {
   "cell_type": "markdown",
   "metadata": {},
   "source": [
    "## 1.2. NumPy multi-dimensional array\n",
    "The NumPy `ndarray` ($n$-dimensional array) is the main NumPy data structure."
   ]
  },
  {
   "cell_type": "code",
   "execution_count": 8,
   "metadata": {
    "execution": {
     "iopub.execute_input": "2021-07-11T16:29:30.537531Z",
     "iopub.status.busy": "2021-07-11T16:29:30.536548Z",
     "iopub.status.idle": "2021-07-11T16:29:30.549499Z",
     "shell.execute_reply": "2021-07-11T16:29:30.548501Z",
     "shell.execute_reply.started": "2021-07-11T16:29:30.537531Z"
    }
   },
   "outputs": [],
   "source": [
    "import numpy as np"
   ]
  },
  {
   "cell_type": "markdown",
   "metadata": {},
   "source": [
    "#### List versus Array\n",
    "Comparison                |Python lists |NumPy arrays |\n",
    ":-------------------------|:-----------:|:-----------:|\n",
    "**Data type**             |Heterogeneous|Homogeneous  |\n",
    "**Better performance**    |             |&#128504;    |\n",
    "**Better for calculation**|             |&#128504;    |\n",
    "**General purposes**      |&#128504;    |             |"
   ]
  },
  {
   "cell_type": "markdown",
   "metadata": {},
   "source": [
    "#### From scalars to tensors\n",
    "An array can be either a scalar ($n = 0$), a vector ($n = 1$), a matrix ($n = 2$) or a tensor ($n > 2$). The number of dimensions of an array equals to the number of brackets `[]`."
   ]
  },
  {
   "cell_type": "code",
   "execution_count": 9,
   "metadata": {
    "execution": {
     "iopub.execute_input": "2021-07-11T16:29:30.552493Z",
     "iopub.status.busy": "2021-07-11T16:29:30.552493Z",
     "iopub.status.idle": "2021-07-11T16:29:30.565457Z",
     "shell.execute_reply": "2021-07-11T16:29:30.564461Z",
     "shell.execute_reply.started": "2021-07-11T16:29:30.552493Z"
    }
   },
   "outputs": [
    {
     "data": {
      "text/plain": [
       "array(7)"
      ]
     },
     "execution_count": 9,
     "metadata": {},
     "output_type": "execute_result"
    }
   ],
   "source": [
    "# scala\n",
    "np.array(7)"
   ]
  },
  {
   "cell_type": "code",
   "execution_count": 10,
   "metadata": {
    "execution": {
     "iopub.execute_input": "2021-07-11T16:29:30.572438Z",
     "iopub.status.busy": "2021-07-11T16:29:30.571440Z",
     "iopub.status.idle": "2021-07-11T16:29:30.597372Z",
     "shell.execute_reply": "2021-07-11T16:29:30.596374Z",
     "shell.execute_reply.started": "2021-07-11T16:29:30.572438Z"
    }
   },
   "outputs": [
    {
     "data": {
      "text/plain": [
       "array([1, 2, 3])"
      ]
     },
     "execution_count": 10,
     "metadata": {},
     "output_type": "execute_result"
    }
   ],
   "source": [
    "# vector\n",
    "np.array([1, 2, 3])"
   ]
  },
  {
   "cell_type": "code",
   "execution_count": 11,
   "metadata": {
    "execution": {
     "iopub.execute_input": "2021-07-11T16:29:30.599367Z",
     "iopub.status.busy": "2021-07-11T16:29:30.598369Z",
     "iopub.status.idle": "2021-07-11T16:29:30.613329Z",
     "shell.execute_reply": "2021-07-11T16:29:30.612333Z",
     "shell.execute_reply.started": "2021-07-11T16:29:30.599367Z"
    }
   },
   "outputs": [
    {
     "data": {
      "text/plain": [
       "array([[1, 2],\n",
       "       [3, 4]])"
      ]
     },
     "execution_count": 11,
     "metadata": {},
     "output_type": "execute_result"
    }
   ],
   "source": [
    "# matrix\n",
    "np.array([[1, 2], [3, 4]])"
   ]
  },
  {
   "cell_type": "code",
   "execution_count": 12,
   "metadata": {
    "execution": {
     "iopub.execute_input": "2021-07-11T16:29:30.615323Z",
     "iopub.status.busy": "2021-07-11T16:29:30.615323Z",
     "iopub.status.idle": "2021-07-11T16:29:30.629289Z",
     "shell.execute_reply": "2021-07-11T16:29:30.628289Z",
     "shell.execute_reply.started": "2021-07-11T16:29:30.615323Z"
    }
   },
   "outputs": [],
   "source": [
    "import numpy as ap"
   ]
  },
  {
   "cell_type": "markdown",
   "metadata": {},
   "source": [
    "#### Row-vector and column-vector\n",
    "Row-vectors are 1-dimensional and column-vectors are 2-dimensional."
   ]
  },
  {
   "cell_type": "code",
   "execution_count": 13,
   "metadata": {
    "execution": {
     "iopub.execute_input": "2021-07-11T16:29:30.635272Z",
     "iopub.status.busy": "2021-07-11T16:29:30.634274Z",
     "iopub.status.idle": "2021-07-11T16:29:30.661202Z",
     "shell.execute_reply": "2021-07-11T16:29:30.660203Z",
     "shell.execute_reply.started": "2021-07-11T16:29:30.635272Z"
    }
   },
   "outputs": [
    {
     "data": {
      "text/plain": [
       "array([1, 2, 3])"
      ]
     },
     "execution_count": 13,
     "metadata": {},
     "output_type": "execute_result"
    }
   ],
   "source": [
    "# row vector\n",
    "np.array([1, 2, 3])"
   ]
  },
  {
   "cell_type": "code",
   "execution_count": 14,
   "metadata": {
    "execution": {
     "iopub.execute_input": "2021-07-11T16:29:30.663197Z",
     "iopub.status.busy": "2021-07-11T16:29:30.662197Z",
     "iopub.status.idle": "2021-07-11T16:29:30.677157Z",
     "shell.execute_reply": "2021-07-11T16:29:30.676160Z",
     "shell.execute_reply.started": "2021-07-11T16:29:30.663197Z"
    }
   },
   "outputs": [
    {
     "data": {
      "text/plain": [
       "array([[1],\n",
       "       [2],\n",
       "       [3]])"
      ]
     },
     "execution_count": 14,
     "metadata": {},
     "output_type": "execute_result"
    }
   ],
   "source": [
    "# column vector\n",
    "np.array([[1], [2], [3]])"
   ]
  },
  {
   "cell_type": "markdown",
   "metadata": {},
   "source": [
    "#### Equally spaced arrays"
   ]
  },
  {
   "cell_type": "markdown",
   "metadata": {},
   "source": [
    "The `numpy.arange()` function is similar to the Python `range()` function but much more powerful: it can take floats as start, stop and step."
   ]
  },
  {
   "cell_type": "code",
   "execution_count": 15,
   "metadata": {
    "execution": {
     "iopub.execute_input": "2021-07-11T16:29:30.679152Z",
     "iopub.status.busy": "2021-07-11T16:29:30.679152Z",
     "iopub.status.idle": "2021-07-11T16:29:30.709073Z",
     "shell.execute_reply": "2021-07-11T16:29:30.708075Z",
     "shell.execute_reply.started": "2021-07-11T16:29:30.679152Z"
    }
   },
   "outputs": [
    {
     "data": {
      "text/plain": [
       "array([1.4, 1.6, 1.8, 2. , 2.2, 2.4, 2.6])"
      ]
     },
     "execution_count": 15,
     "metadata": {},
     "output_type": "execute_result"
    }
   ],
   "source": [
    "np.arange(1.4, 2.6, 0.2)"
   ]
  },
  {
   "cell_type": "code",
   "execution_count": 16,
   "metadata": {
    "execution": {
     "iopub.execute_input": "2021-07-11T16:29:30.712064Z",
     "iopub.status.busy": "2021-07-11T16:29:30.711068Z",
     "iopub.status.idle": "2021-07-11T16:29:30.725032Z",
     "shell.execute_reply": "2021-07-11T16:29:30.724031Z",
     "shell.execute_reply.started": "2021-07-11T16:29:30.712064Z"
    }
   },
   "outputs": [
    {
     "data": {
      "text/plain": [
       "array([ 3.00000000e+00,  2.80000000e+00,  2.60000000e+00,  2.40000000e+00,\n",
       "        2.20000000e+00,  2.00000000e+00,  1.80000000e+00,  1.60000000e+00,\n",
       "        1.40000000e+00,  1.20000000e+00,  1.00000000e+00,  8.00000000e-01,\n",
       "        6.00000000e-01,  4.00000000e-01,  2.00000000e-01, -2.66453526e-15,\n",
       "       -2.00000000e-01, -4.00000000e-01, -6.00000000e-01, -8.00000000e-01,\n",
       "       -1.00000000e+00, -1.20000000e+00, -1.40000000e+00, -1.60000000e+00,\n",
       "       -1.80000000e+00, -2.00000000e+00, -2.20000000e+00, -2.40000000e+00,\n",
       "       -2.60000000e+00, -2.80000000e+00])"
      ]
     },
     "execution_count": 16,
     "metadata": {},
     "output_type": "execute_result"
    }
   ],
   "source": [
    "np.arange(3, -3, -0.2)"
   ]
  },
  {
   "cell_type": "markdown",
   "metadata": {},
   "source": [
    "The `numpy.linspace()` function allows you to choose how many points to be generated."
   ]
  },
  {
   "cell_type": "code",
   "execution_count": 17,
   "metadata": {
    "execution": {
     "iopub.execute_input": "2021-07-11T16:29:30.727024Z",
     "iopub.status.busy": "2021-07-11T16:29:30.727024Z",
     "iopub.status.idle": "2021-07-11T16:29:30.740987Z",
     "shell.execute_reply": "2021-07-11T16:29:30.739990Z",
     "shell.execute_reply.started": "2021-07-11T16:29:30.727024Z"
    }
   },
   "outputs": [
    {
     "data": {
      "text/plain": [
       "array([ 0., 20., 40., 60.])"
      ]
     },
     "execution_count": 17,
     "metadata": {},
     "output_type": "execute_result"
    }
   ],
   "source": [
    "np.linspace(0, 60, 4)"
   ]
  },
  {
   "cell_type": "code",
   "execution_count": 18,
   "metadata": {
    "execution": {
     "iopub.execute_input": "2021-07-11T16:29:30.743980Z",
     "iopub.status.busy": "2021-07-11T16:29:30.742981Z",
     "iopub.status.idle": "2021-07-11T16:29:30.772902Z",
     "shell.execute_reply": "2021-07-11T16:29:30.771905Z",
     "shell.execute_reply.started": "2021-07-11T16:29:30.743980Z"
    }
   },
   "outputs": [
    {
     "data": {
      "text/plain": [
       "array([ 0., 15., 30., 45.])"
      ]
     },
     "execution_count": 18,
     "metadata": {},
     "output_type": "execute_result"
    }
   ],
   "source": [
    "np.linspace(0, 60, 4, endpoint=False)"
   ]
  },
  {
   "cell_type": "code",
   "execution_count": 19,
   "metadata": {
    "execution": {
     "iopub.execute_input": "2021-07-11T16:29:30.774897Z",
     "iopub.status.busy": "2021-07-11T16:29:30.773900Z",
     "iopub.status.idle": "2021-07-11T16:29:30.787862Z",
     "shell.execute_reply": "2021-07-11T16:29:30.786864Z",
     "shell.execute_reply.started": "2021-07-11T16:29:30.774897Z"
    }
   },
   "outputs": [
    {
     "data": {
      "text/plain": [
       "array([ 0, 15, 30, 45])"
      ]
     },
     "execution_count": 19,
     "metadata": {},
     "output_type": "execute_result"
    }
   ],
   "source": [
    "np.linspace(0, 60, 4, endpoint=False, dtype=int)"
   ]
  },
  {
   "cell_type": "markdown",
   "metadata": {},
   "source": [
    "Beside the `numpy.linspace()` function, NumPy aslo provides the `numpy.logspace()` function, returns the exponents. "
   ]
  },
  {
   "cell_type": "code",
   "execution_count": 20,
   "metadata": {
    "execution": {
     "iopub.execute_input": "2021-07-11T16:29:30.789857Z",
     "iopub.status.busy": "2021-07-11T16:29:30.789857Z",
     "iopub.status.idle": "2021-07-11T16:29:30.803818Z",
     "shell.execute_reply": "2021-07-11T16:29:30.802821Z",
     "shell.execute_reply.started": "2021-07-11T16:29:30.789857Z"
    }
   },
   "outputs": [
    {
     "data": {
      "text/plain": [
       "array([   10.,   100.,  1000., 10000.])"
      ]
     },
     "execution_count": 20,
     "metadata": {},
     "output_type": "execute_result"
    }
   ],
   "source": [
    "np.logspace(1, 4, 4)"
   ]
  },
  {
   "cell_type": "code",
   "execution_count": 21,
   "metadata": {
    "execution": {
     "iopub.execute_input": "2021-07-11T16:29:30.814792Z",
     "iopub.status.busy": "2021-07-11T16:29:30.810801Z",
     "iopub.status.idle": "2021-07-11T16:29:30.834736Z",
     "shell.execute_reply": "2021-07-11T16:29:30.833740Z",
     "shell.execute_reply.started": "2021-07-11T16:29:30.814792Z"
    }
   },
   "outputs": [
    {
     "data": {
      "text/plain": [
       "array([ 4.,  8., 16., 32.])"
      ]
     },
     "execution_count": 21,
     "metadata": {},
     "output_type": "execute_result"
    }
   ],
   "source": [
    "np.logspace(2, 5, 4, base=2)"
   ]
  },
  {
   "cell_type": "markdown",
   "metadata": {},
   "source": [
    "## 1.3. Element-wise operations"
   ]
  },
  {
   "cell_type": "code",
   "execution_count": 22,
   "metadata": {
    "execution": {
     "iopub.execute_input": "2021-07-11T16:29:30.836732Z",
     "iopub.status.busy": "2021-07-11T16:29:30.835732Z",
     "iopub.status.idle": "2021-07-11T16:29:30.850693Z",
     "shell.execute_reply": "2021-07-11T16:29:30.849699Z",
     "shell.execute_reply.started": "2021-07-11T16:29:30.836732Z"
    }
   },
   "outputs": [],
   "source": [
    "import numpy as np"
   ]
  },
  {
   "cell_type": "code",
   "execution_count": 23,
   "metadata": {
    "execution": {
     "iopub.execute_input": "2021-07-11T16:29:30.852690Z",
     "iopub.status.busy": "2021-07-11T16:29:30.852690Z",
     "iopub.status.idle": "2021-07-11T16:29:30.866651Z",
     "shell.execute_reply": "2021-07-11T16:29:30.865653Z",
     "shell.execute_reply.started": "2021-07-11T16:29:30.852690Z"
    }
   },
   "outputs": [
    {
     "data": {
      "text/plain": [
       "[1, 2, 3, 4, 5, 6]"
      ]
     },
     "execution_count": 23,
     "metadata": {},
     "output_type": "execute_result"
    }
   ],
   "source": [
    "# adding two Python lists ends up doing a concatenation\n",
    "[1, 2, 3] + [4, 5, 6]"
   ]
  },
  {
   "cell_type": "code",
   "execution_count": 24,
   "metadata": {
    "execution": {
     "iopub.execute_input": "2021-07-11T16:29:30.868646Z",
     "iopub.status.busy": "2021-07-11T16:29:30.868646Z",
     "iopub.status.idle": "2021-07-11T16:29:30.882608Z",
     "shell.execute_reply": "2021-07-11T16:29:30.881611Z",
     "shell.execute_reply.started": "2021-07-11T16:29:30.868646Z"
    }
   },
   "outputs": [
    {
     "data": {
      "text/plain": [
       "array([5, 7, 9])"
      ]
     },
     "execution_count": 24,
     "metadata": {},
     "output_type": "execute_result"
    }
   ],
   "source": [
    "np.array([1, 2, 3]) + np.array([4, 5, 6])"
   ]
  },
  {
   "cell_type": "code",
   "execution_count": 25,
   "metadata": {
    "execution": {
     "iopub.execute_input": "2021-07-11T16:29:30.886600Z",
     "iopub.status.busy": "2021-07-11T16:29:30.885603Z",
     "iopub.status.idle": "2021-07-11T16:29:30.913526Z",
     "shell.execute_reply": "2021-07-11T16:29:30.912527Z",
     "shell.execute_reply.started": "2021-07-11T16:29:30.886600Z"
    }
   },
   "outputs": [
    {
     "data": {
      "text/plain": [
       "array([ 8,  9, 10])"
      ]
     },
     "execution_count": 25,
     "metadata": {},
     "output_type": "execute_result"
    }
   ],
   "source": [
    "np.array([1, 2, 3]) + 7"
   ]
  },
  {
   "cell_type": "markdown",
   "metadata": {},
   "source": [
    "You can add up either:\n",
    "- an array and a scala\n",
    "- two arrays of the same shape"
   ]
  },
  {
   "cell_type": "code",
   "execution_count": 26,
   "metadata": {
    "execution": {
     "iopub.execute_input": "2021-07-11T16:29:30.919512Z",
     "iopub.status.busy": "2021-07-11T16:29:30.919512Z",
     "iopub.status.idle": "2021-07-11T16:29:30.932475Z",
     "shell.execute_reply": "2021-07-11T16:29:30.928486Z",
     "shell.execute_reply.started": "2021-07-11T16:29:30.919512Z"
    }
   },
   "outputs": [
    {
     "data": {
      "text/plain": [
       "array([[2, 2, 2],\n",
       "       [3, 3, 3],\n",
       "       [4, 4, 4]])"
      ]
     },
     "execution_count": 26,
     "metadata": {},
     "output_type": "execute_result"
    }
   ],
   "source": [
    "a = np.array([[1, 1, 1],\n",
    "              [1, 1, 1],\n",
    "              [1, 1, 1]])\n",
    "b = np.array([[2], [3], [4]])\n",
    "a * b"
   ]
  },
  {
   "cell_type": "code",
   "execution_count": 27,
   "metadata": {
    "execution": {
     "iopub.execute_input": "2021-07-11T16:29:30.941451Z",
     "iopub.status.busy": "2021-07-11T16:29:30.941451Z",
     "iopub.status.idle": "2021-07-11T16:29:30.961397Z",
     "shell.execute_reply": "2021-07-11T16:29:30.960401Z",
     "shell.execute_reply.started": "2021-07-11T16:29:30.941451Z"
    }
   },
   "outputs": [
    {
     "data": {
      "text/plain": [
       "array([[2, 3, 4],\n",
       "       [2, 3, 4],\n",
       "       [2, 3, 4]])"
      ]
     },
     "execution_count": 27,
     "metadata": {},
     "output_type": "execute_result"
    }
   ],
   "source": [
    "a = np.array([[1, 1, 1],\n",
    "              [1, 1, 1],\n",
    "              [1, 1, 1]])\n",
    "b = np.array([2, 3, 4])\n",
    "a * b"
   ]
  },
  {
   "cell_type": "markdown",
   "metadata": {},
   "source": [
    "#### Vectorization\n",
    "You can convert a non-elementwise functions to an elementwise one."
   ]
  },
  {
   "cell_type": "code",
   "execution_count": 28,
   "metadata": {
    "execution": {
     "iopub.execute_input": "2021-07-11T16:29:30.963394Z",
     "iopub.status.busy": "2021-07-11T16:29:30.962394Z",
     "iopub.status.idle": "2021-07-11T16:29:30.977355Z",
     "shell.execute_reply": "2021-07-11T16:29:30.976356Z",
     "shell.execute_reply.started": "2021-07-11T16:29:30.963394Z"
    }
   },
   "outputs": [
    {
     "data": {
      "text/plain": [
       "array([ 1,  2,  6, 24])"
      ]
     },
     "execution_count": 28,
     "metadata": {},
     "output_type": "execute_result"
    }
   ],
   "source": [
    "import math\n",
    "factorial = np.vectorize(math.factorial)\n",
    "factorial(np.array([1, 2, 3, 4]))"
   ]
  },
  {
   "cell_type": "code",
   "execution_count": 29,
   "metadata": {
    "execution": {
     "iopub.execute_input": "2021-07-11T16:29:30.979350Z",
     "iopub.status.busy": "2021-07-11T16:29:30.978352Z",
     "iopub.status.idle": "2021-07-11T16:29:30.993313Z",
     "shell.execute_reply": "2021-07-11T16:29:30.992315Z",
     "shell.execute_reply.started": "2021-07-11T16:29:30.979350Z"
    }
   },
   "outputs": [
    {
     "data": {
      "text/plain": [
       "array([101, 102, 103, 104])"
      ]
     },
     "execution_count": 29,
     "metadata": {},
     "output_type": "execute_result"
    }
   ],
   "source": [
    "add_100 = lambda x: x + 100\n",
    "add_100(np.array([1, 2, 3, 4]))"
   ]
  },
  {
   "cell_type": "markdown",
   "metadata": {},
   "source": [
    "## 1.4. Random sampling\n",
    "*Reference: [SciPy - Random Sampling](https://docs.scipy.org/doc/numpy-1.14.0/reference/routines.random.html)*"
   ]
  },
  {
   "cell_type": "code",
   "execution_count": 30,
   "metadata": {
    "execution": {
     "iopub.execute_input": "2021-07-11T16:29:30.995308Z",
     "iopub.status.busy": "2021-07-11T16:29:30.995308Z",
     "iopub.status.idle": "2021-07-11T16:29:31.011264Z",
     "shell.execute_reply": "2021-07-11T16:29:31.009269Z",
     "shell.execute_reply.started": "2021-07-11T16:29:30.995308Z"
    }
   },
   "outputs": [],
   "source": [
    "import numpy as np"
   ]
  },
  {
   "cell_type": "markdown",
   "metadata": {},
   "source": [
    "#### Random floats\n",
    "The `numpy.random.random()` function outputs random floats in the half-open interval $(0; 1]$.  \n",
    "To generate floats in $[a; b)$ you can multiply the outputs by $(b - a)$ and add $a$."
   ]
  },
  {
   "cell_type": "code",
   "execution_count": 31,
   "metadata": {
    "execution": {
     "iopub.execute_input": "2021-07-11T16:29:31.013259Z",
     "iopub.status.busy": "2021-07-11T16:29:31.013259Z",
     "iopub.status.idle": "2021-07-11T16:29:31.025226Z",
     "shell.execute_reply": "2021-07-11T16:29:31.024230Z",
     "shell.execute_reply.started": "2021-07-11T16:29:31.013259Z"
    }
   },
   "outputs": [
    {
     "data": {
      "text/plain": [
       "array([[5.31734870e-01, 5.44262408e-01, 3.81328487e-01, 2.86907503e-01,\n",
       "        1.59862221e-01],\n",
       "       [7.65427108e-01, 8.06151195e-02, 4.70728334e-01, 9.17047050e-01,\n",
       "        1.77597321e-01],\n",
       "       [6.27300391e-01, 3.13345953e-01, 4.98345712e-01, 3.62456804e-01,\n",
       "        8.70853206e-04],\n",
       "       [1.57427169e-01, 7.98092526e-01, 4.85920756e-01, 7.51486368e-01,\n",
       "        4.82329935e-01]])"
      ]
     },
     "execution_count": 31,
     "metadata": {},
     "output_type": "execute_result"
    }
   ],
   "source": [
    "# random floats from 0 (inclusive) to 1 (exclusive)\n",
    "np.random.random(size=(4,5))"
   ]
  },
  {
   "cell_type": "code",
   "execution_count": 32,
   "metadata": {
    "execution": {
     "iopub.execute_input": "2021-07-11T16:29:31.027224Z",
     "iopub.status.busy": "2021-07-11T16:29:31.027224Z",
     "iopub.status.idle": "2021-07-11T16:29:31.040186Z",
     "shell.execute_reply": "2021-07-11T16:29:31.039189Z",
     "shell.execute_reply.started": "2021-07-11T16:29:31.027224Z"
    }
   },
   "outputs": [
    {
     "data": {
      "text/plain": [
       "array([75.60233853, 22.42259568, 68.85037967, 67.22073322, 14.66968567,\n",
       "       75.37364188, 51.6791819 , 39.96037907, 20.27581669, 83.73425235,\n",
       "       20.58127954, 31.00951254, 73.51746311, 97.60671889, 10.46461905,\n",
       "       38.34035854, 58.153025  , 64.34206748, 14.68908644, 87.30767617])"
      ]
     },
     "execution_count": 32,
     "metadata": {},
     "output_type": "execute_result"
    }
   ],
   "source": [
    "# random floats from 10 (inclusive) to 100 (exclusive)\n",
    "a = 10\n",
    "b = 100\n",
    "(b-a) * np.random.random(size=20) + a"
   ]
  },
  {
   "cell_type": "markdown",
   "metadata": {},
   "source": [
    "#### Random integers\n",
    "The `numpy.random.randint()` function outputs random integers in the half-open interval $[a; b)$ or $[0; a)$"
   ]
  },
  {
   "cell_type": "code",
   "execution_count": 33,
   "metadata": {
    "execution": {
     "iopub.execute_input": "2021-07-11T16:29:31.042181Z",
     "iopub.status.busy": "2021-07-11T16:29:31.041184Z",
     "iopub.status.idle": "2021-07-11T16:29:31.056144Z",
     "shell.execute_reply": "2021-07-11T16:29:31.055146Z",
     "shell.execute_reply.started": "2021-07-11T16:29:31.042181Z"
    }
   },
   "outputs": [
    {
     "data": {
      "text/plain": [
       "array([[21, 92, 27, 61, 71],\n",
       "       [39, 68, 12, 16, 80],\n",
       "       [54, 12, 30, 49, 10],\n",
       "       [36, 57, 42, 35, 31]])"
      ]
     },
     "execution_count": 33,
     "metadata": {},
     "output_type": "execute_result"
    }
   ],
   "source": [
    "np.random.randint(10, 100, (4,5))"
   ]
  },
  {
   "cell_type": "code",
   "execution_count": 34,
   "metadata": {
    "execution": {
     "iopub.execute_input": "2021-07-11T16:29:31.061132Z",
     "iopub.status.busy": "2021-07-11T16:29:31.058139Z",
     "iopub.status.idle": "2021-07-11T16:29:31.088060Z",
     "shell.execute_reply": "2021-07-11T16:29:31.087061Z",
     "shell.execute_reply.started": "2021-07-11T16:29:31.060134Z"
    }
   },
   "outputs": [
    {
     "data": {
      "text/plain": [
       "array([[1, 2, 4, 4, 0],\n",
       "       [1, 1, 2, 1, 2],\n",
       "       [1, 4, 2, 2, 4],\n",
       "       [0, 3, 2, 2, 0]])"
      ]
     },
     "execution_count": 34,
     "metadata": {},
     "output_type": "execute_result"
    }
   ],
   "source": [
    "np.random.randint(5, size=(4,5))"
   ]
  },
  {
   "cell_type": "markdown",
   "metadata": {},
   "source": [
    "#### Normal distribution\n",
    "The function `numpy.random.normal()` draws random samples from a normal (Gaussian) distribution. The `loc` and `scale` parameters represent the mean and standard deviation of the distribution."
   ]
  },
  {
   "cell_type": "code",
   "execution_count": 35,
   "metadata": {
    "execution": {
     "iopub.execute_input": "2021-07-11T16:29:31.090055Z",
     "iopub.status.busy": "2021-07-11T16:29:31.089056Z",
     "iopub.status.idle": "2021-07-11T16:29:33.094043Z",
     "shell.execute_reply": "2021-07-11T16:29:33.093044Z",
     "shell.execute_reply.started": "2021-07-11T16:29:31.090055Z"
    }
   },
   "outputs": [
    {
     "data": {
      "image/png": "[encoded data removed]",
      "text/plain": [
       "<Figure size 720x360 with 1 Axes>"
      ]
     },
     "metadata": {},
     "output_type": "display_data"
    }
   ],
   "source": [
    "import matplotlib.pyplot as plt\n",
    "import seaborn as sns; sns.set_style('whitegrid')\n",
    "\n",
    "vector = np.random.normal(loc=0, scale=5, size=10000)\n",
    "\n",
    "plt.figure(figsize=(10,5))\n",
    "_ = sns.distplot(vector, color='darkred', kde=False)"
   ]
  },
  {
   "cell_type": "markdown",
   "metadata": {},
   "source": [
    "#### Logistic distribution"
   ]
  },
  {
   "cell_type": "code",
   "execution_count": 36,
   "metadata": {
    "execution": {
     "iopub.execute_input": "2021-07-11T16:29:33.096037Z",
     "iopub.status.busy": "2021-07-11T16:29:33.096037Z",
     "iopub.status.idle": "2021-07-11T16:29:33.457415Z",
     "shell.execute_reply": "2021-07-11T16:29:33.456419Z",
     "shell.execute_reply.started": "2021-07-11T16:29:33.096037Z"
    }
   },
   "outputs": [
    {
     "data": {
      "image/png": "[encoded data removed]",
      "text/plain": [
       "<Figure size 720x360 with 1 Axes>"
      ]
     },
     "metadata": {},
     "output_type": "display_data"
    }
   ],
   "source": [
    "import matplotlib.pyplot as plt\n",
    "import seaborn as sns; sns.set_style('whitegrid')\n",
    "\n",
    "vector = np.random.logistic(loc=0, scale=5, size=10000)\n",
    "\n",
    "plt.figure(figsize=(10,5))\n",
    "_ = sns.distplot(vector, color='darkred', kde=False)"
   ]
  },
  {
   "cell_type": "markdown",
   "metadata": {},
   "source": [
    "#### Uniform distribution"
   ]
  },
  {
   "cell_type": "code",
   "execution_count": 37,
   "metadata": {
    "execution": {
     "iopub.execute_input": "2021-07-11T16:29:33.459408Z",
     "iopub.status.busy": "2021-07-11T16:29:33.459408Z",
     "iopub.status.idle": "2021-07-11T16:29:33.858990Z",
     "shell.execute_reply": "2021-07-11T16:29:33.858990Z",
     "shell.execute_reply.started": "2021-07-11T16:29:33.459408Z"
    }
   },
   "outputs": [
    {
     "data": {
      "image/png": "[encoded data removed]",
      "text/plain": [
       "<Figure size 720x360 with 1 Axes>"
      ]
     },
     "metadata": {},
     "output_type": "display_data"
    }
   ],
   "source": [
    "import matplotlib.pyplot as plt\n",
    "import seaborn as sns; sns.set_style('whitegrid')\n",
    "\n",
    "vector = np.random.uniform(low=-30, high=30, size=100000)\n",
    "\n",
    "plt.figure(figsize=(10,5))\n",
    "_ = sns.distplot(vector, color='darkred', kde=False)"
   ]
  },
  {
   "cell_type": "markdown",
   "metadata": {},
   "source": [
    "#### Seed\n",
    "The `numpy.random.seed()` function with an argument keeps the result unchanged each time you call a random function."
   ]
  },
  {
   "cell_type": "code",
   "execution_count": 38,
   "metadata": {
    "execution": {
     "iopub.execute_input": "2021-07-11T16:29:33.858990Z",
     "iopub.status.busy": "2021-07-11T16:29:33.858990Z",
     "iopub.status.idle": "2021-07-11T16:29:33.874574Z",
     "shell.execute_reply": "2021-07-11T16:29:33.874574Z",
     "shell.execute_reply.started": "2021-07-11T16:29:33.858990Z"
    }
   },
   "outputs": [
    {
     "data": {
      "text/plain": [
       "array([5, 0, 3, 3, 7, 9, 3, 5, 2, 4, 7, 6, 8, 8, 1, 6, 7, 7, 8, 1])"
      ]
     },
     "execution_count": 38,
     "metadata": {},
     "output_type": "execute_result"
    }
   ],
   "source": [
    "np.random.seed(0)\n",
    "np.random.randint(0, 10, 20)"
   ]
  },
  {
   "cell_type": "markdown",
   "metadata": {},
   "source": [
    "# 2. Array manipulation"
   ]
  },
  {
   "cell_type": "markdown",
   "metadata": {},
   "source": [
    "## 2.1. Describing an array"
   ]
  },
  {
   "cell_type": "code",
   "execution_count": 39,
   "metadata": {
    "execution": {
     "iopub.execute_input": "2021-07-11T16:29:33.874574Z",
     "iopub.status.busy": "2021-07-11T16:29:33.874574Z",
     "iopub.status.idle": "2021-07-11T16:29:33.891318Z",
     "shell.execute_reply": "2021-07-11T16:29:33.890354Z",
     "shell.execute_reply.started": "2021-07-11T16:29:33.874574Z"
    }
   },
   "outputs": [],
   "source": [
    "import numpy as np"
   ]
  },
  {
   "cell_type": "code",
   "execution_count": 40,
   "metadata": {
    "execution": {
     "iopub.execute_input": "2021-07-11T16:29:33.894311Z",
     "iopub.status.busy": "2021-07-11T16:29:33.893313Z",
     "iopub.status.idle": "2021-07-11T16:29:33.907275Z",
     "shell.execute_reply": "2021-07-11T16:29:33.906278Z",
     "shell.execute_reply.started": "2021-07-11T16:29:33.894311Z"
    }
   },
   "outputs": [
    {
     "data": {
      "text/plain": [
       "(4, 6)"
      ]
     },
     "execution_count": 40,
     "metadata": {},
     "output_type": "execute_result"
    }
   ],
   "source": [
    "array = np.array(\n",
    "    [[ 1,  2,  3,  4,  5,  6],\n",
    "     [ 7,  8,  9, 10, 11, 12],\n",
    "     [13, 14, 15, 16, 17, 18],\n",
    "     [19, 20, 21, 22, 23, 24]]\n",
    ")\n",
    "array.shape"
   ]
  },
  {
   "cell_type": "code",
   "execution_count": 41,
   "metadata": {
    "execution": {
     "iopub.execute_input": "2021-07-11T16:29:33.909269Z",
     "iopub.status.busy": "2021-07-11T16:29:33.909269Z",
     "iopub.status.idle": "2021-07-11T16:29:33.923234Z",
     "shell.execute_reply": "2021-07-11T16:29:33.922273Z",
     "shell.execute_reply.started": "2021-07-11T16:29:33.909269Z"
    }
   },
   "outputs": [
    {
     "data": {
      "text/plain": [
       "(4, 6)"
      ]
     },
     "execution_count": 41,
     "metadata": {},
     "output_type": "execute_result"
    }
   ],
   "source": [
    "# the length of each dimension, as a tuple\n",
    "array.shape"
   ]
  },
  {
   "cell_type": "code",
   "execution_count": 42,
   "metadata": {
    "execution": {
     "iopub.execute_input": "2021-07-11T16:29:33.925229Z",
     "iopub.status.busy": "2021-07-11T16:29:33.925229Z",
     "iopub.status.idle": "2021-07-11T16:29:33.940187Z",
     "shell.execute_reply": "2021-07-11T16:29:33.938193Z",
     "shell.execute_reply.started": "2021-07-11T16:29:33.925229Z"
    }
   },
   "outputs": [
    {
     "data": {
      "text/plain": [
       "2"
      ]
     },
     "execution_count": 42,
     "metadata": {},
     "output_type": "execute_result"
    }
   ],
   "source": [
    "# the number of dimensions\n",
    "array.ndim"
   ]
  },
  {
   "cell_type": "code",
   "execution_count": 43,
   "metadata": {
    "execution": {
     "iopub.execute_input": "2021-07-11T16:29:33.944176Z",
     "iopub.status.busy": "2021-07-11T16:29:33.943181Z",
     "iopub.status.idle": "2021-07-11T16:29:33.955149Z",
     "shell.execute_reply": "2021-07-11T16:29:33.954150Z",
     "shell.execute_reply.started": "2021-07-11T16:29:33.944176Z"
    }
   },
   "outputs": [
    {
     "data": {
      "text/plain": [
       "24"
      ]
     },
     "execution_count": 43,
     "metadata": {},
     "output_type": "execute_result"
    }
   ],
   "source": [
    "# the number of items\n",
    "array.size"
   ]
  },
  {
   "cell_type": "markdown",
   "metadata": {},
   "source": [
    "## 2.2. Array slicing"
   ]
  },
  {
   "cell_type": "code",
   "execution_count": 44,
   "metadata": {
    "execution": {
     "iopub.execute_input": "2021-07-11T16:29:33.957143Z",
     "iopub.status.busy": "2021-07-11T16:29:33.956144Z",
     "iopub.status.idle": "2021-07-11T16:29:33.970106Z",
     "shell.execute_reply": "2021-07-11T16:29:33.969110Z",
     "shell.execute_reply.started": "2021-07-11T16:29:33.957143Z"
    }
   },
   "outputs": [],
   "source": [
    "import numpy as np"
   ]
  },
  {
   "cell_type": "markdown",
   "metadata": {},
   "source": [
    "#### Basic slicing\n",
    "Syntax: `[start:stop:step]`. For nested array, use comma `,` to separate different levels of slicing."
   ]
  },
  {
   "cell_type": "code",
   "execution_count": 45,
   "metadata": {
    "execution": {
     "iopub.execute_input": "2021-07-11T16:29:33.973098Z",
     "iopub.status.busy": "2021-07-11T16:29:33.972100Z",
     "iopub.status.idle": "2021-07-11T16:29:33.986065Z",
     "shell.execute_reply": "2021-07-11T16:29:33.985065Z",
     "shell.execute_reply.started": "2021-07-11T16:29:33.973098Z"
    }
   },
   "outputs": [],
   "source": [
    "array = np.array(\n",
    "    [[ 1,  2,  3,  4,  5,  6],\n",
    "     [ 7,  8,  9, 10, 11, 12],\n",
    "     [13, 14, 15, 16, 17, 18],\n",
    "     [19, 20, 21, 22, 23, 24]]\n",
    ")"
   ]
  },
  {
   "cell_type": "code",
   "execution_count": 46,
   "metadata": {
    "execution": {
     "iopub.execute_input": "2021-07-11T16:29:33.988059Z",
     "iopub.status.busy": "2021-07-11T16:29:33.987061Z",
     "iopub.status.idle": "2021-07-11T16:29:34.002021Z",
     "shell.execute_reply": "2021-07-11T16:29:34.001025Z",
     "shell.execute_reply.started": "2021-07-11T16:29:33.988059Z"
    }
   },
   "outputs": [
    {
     "data": {
      "text/plain": [
       "array([[ 7,  8,  9, 10, 11, 12],\n",
       "       [13, 14, 15, 16, 17, 18]])"
      ]
     },
     "execution_count": 46,
     "metadata": {},
     "output_type": "execute_result"
    }
   ],
   "source": [
    "array[1:3]"
   ]
  },
  {
   "cell_type": "code",
   "execution_count": 47,
   "metadata": {
    "execution": {
     "iopub.execute_input": "2021-07-11T16:29:34.005016Z",
     "iopub.status.busy": "2021-07-11T16:29:34.004018Z",
     "iopub.status.idle": "2021-07-11T16:29:34.033935Z",
     "shell.execute_reply": "2021-07-11T16:29:34.032939Z",
     "shell.execute_reply.started": "2021-07-11T16:29:34.005016Z"
    }
   },
   "outputs": [
    {
     "data": {
      "text/plain": [
       "array([[ 9, 10, 11],\n",
       "       [15, 16, 17]])"
      ]
     },
     "execution_count": 47,
     "metadata": {},
     "output_type": "execute_result"
    }
   ],
   "source": [
    "array[1:3, 2:5]"
   ]
  },
  {
   "cell_type": "code",
   "execution_count": 48,
   "metadata": {
    "execution": {
     "iopub.execute_input": "2021-07-11T16:29:34.036929Z",
     "iopub.status.busy": "2021-07-11T16:29:34.035931Z",
     "iopub.status.idle": "2021-07-11T16:29:34.048895Z",
     "shell.execute_reply": "2021-07-11T16:29:34.048895Z",
     "shell.execute_reply.started": "2021-07-11T16:29:34.036929Z"
    }
   },
   "outputs": [
    {
     "data": {
      "text/plain": [
       "array([[ 0,  2,  0,  4,  0,  6],\n",
       "       [ 0,  8,  0, 10,  0, 12],\n",
       "       [ 0, 14,  0, 16,  0, 18],\n",
       "       [ 0, 20,  0, 22,  0, 24]])"
      ]
     },
     "execution_count": 48,
     "metadata": {},
     "output_type": "execute_result"
    }
   ],
   "source": [
    "# item assignment\n",
    "array[::, ::2] = 0\n",
    "array"
   ]
  },
  {
   "cell_type": "markdown",
   "metadata": {},
   "source": [
    "#### Integer slicing\n",
    "Each integer represents the index of one element."
   ]
  },
  {
   "cell_type": "code",
   "execution_count": 49,
   "metadata": {
    "execution": {
     "iopub.execute_input": "2021-07-11T16:29:34.050891Z",
     "iopub.status.busy": "2021-07-11T16:29:34.050891Z",
     "iopub.status.idle": "2021-07-11T16:29:34.065852Z",
     "shell.execute_reply": "2021-07-11T16:29:34.064855Z",
     "shell.execute_reply.started": "2021-07-11T16:29:34.050891Z"
    }
   },
   "outputs": [
    {
     "data": {
      "text/plain": [
       "array([3, 7, 9])"
      ]
     },
     "execution_count": 49,
     "metadata": {},
     "output_type": "execute_result"
    }
   ],
   "source": [
    "array = np.array([1, 3, 5, 7, 9])\n",
    "array[[1, 3, 4]]"
   ]
  },
  {
   "cell_type": "code",
   "execution_count": 50,
   "metadata": {
    "execution": {
     "iopub.execute_input": "2021-07-11T16:29:34.068845Z",
     "iopub.status.busy": "2021-07-11T16:29:34.067845Z",
     "iopub.status.idle": "2021-07-11T16:29:34.092229Z",
     "shell.execute_reply": "2021-07-11T16:29:34.091232Z",
     "shell.execute_reply.started": "2021-07-11T16:29:34.068845Z"
    },
    "tags": []
   },
   "outputs": [],
   "source": [
    "array = np.array(\n",
    "    [[ 1,  2,  3,  4,  5,  6],\n",
    "     [ 7,  8,  9, 10, 11, 12],\n",
    "     [13, 14, 15, 16, 17, 18],\n",
    "     [19, 20, 21, 22, 23, 24]]\n",
    ")"
   ]
  },
  {
   "cell_type": "code",
   "execution_count": 51,
   "metadata": {
    "execution": {
     "iopub.execute_input": "2021-07-11T16:29:34.095221Z",
     "iopub.status.busy": "2021-07-11T16:29:34.094224Z",
     "iopub.status.idle": "2021-07-11T16:29:34.107189Z",
     "shell.execute_reply": "2021-07-11T16:29:34.106191Z",
     "shell.execute_reply.started": "2021-07-11T16:29:34.094224Z"
    },
    "tags": []
   },
   "outputs": [
    {
     "data": {
      "text/plain": [
       "array([ 9, 14, 21])"
      ]
     },
     "execution_count": 51,
     "metadata": {},
     "output_type": "execute_result"
    }
   ],
   "source": [
    "array[[1,2,3],[2,1,2]]"
   ]
  },
  {
   "cell_type": "code",
   "execution_count": 52,
   "metadata": {
    "execution": {
     "iopub.execute_input": "2021-07-11T16:29:34.110182Z",
     "iopub.status.busy": "2021-07-11T16:29:34.110182Z",
     "iopub.status.idle": "2021-07-11T16:29:34.123147Z",
     "shell.execute_reply": "2021-07-11T16:29:34.122149Z",
     "shell.execute_reply.started": "2021-07-11T16:29:34.110182Z"
    },
    "tags": []
   },
   "outputs": [
    {
     "data": {
      "text/plain": [
       "array([[ 7,  8],\n",
       "       [13, 14],\n",
       "       [19, 20]])"
      ]
     },
     "execution_count": 52,
     "metadata": {},
     "output_type": "execute_result"
    }
   ],
   "source": [
    "array[[1,2,3], 0:2]"
   ]
  },
  {
   "cell_type": "markdown",
   "metadata": {},
   "source": [
    "#### Boolean slicing"
   ]
  },
  {
   "cell_type": "markdown",
   "metadata": {},
   "source": [
    "Element-wisely comparison returns a Boolean array."
   ]
  },
  {
   "cell_type": "code",
   "execution_count": 53,
   "metadata": {
    "execution": {
     "iopub.execute_input": "2021-07-11T16:29:34.128134Z",
     "iopub.status.busy": "2021-07-11T16:29:34.126140Z",
     "iopub.status.idle": "2021-07-11T16:29:34.155062Z",
     "shell.execute_reply": "2021-07-11T16:29:34.154063Z",
     "shell.execute_reply.started": "2021-07-11T16:29:34.128134Z"
    }
   },
   "outputs": [
    {
     "data": {
      "text/plain": [
       "array([False, False, False,  True,  True])"
      ]
     },
     "execution_count": 53,
     "metadata": {},
     "output_type": "execute_result"
    }
   ],
   "source": [
    "array = np.array([1, 3, 5, 7, 9])\n",
    "array > 5"
   ]
  },
  {
   "cell_type": "markdown",
   "metadata": {},
   "source": [
    "You can apply logical bitwise operators `&` and `|` to Boolean arrays. They are equivalent to `and` and `or`."
   ]
  },
  {
   "cell_type": "code",
   "execution_count": 54,
   "metadata": {
    "execution": {
     "iopub.execute_input": "2021-07-11T16:29:34.157057Z",
     "iopub.status.busy": "2021-07-11T16:29:34.156057Z",
     "iopub.status.idle": "2021-07-11T16:29:34.170021Z",
     "shell.execute_reply": "2021-07-11T16:29:34.169023Z",
     "shell.execute_reply.started": "2021-07-11T16:29:34.157057Z"
    }
   },
   "outputs": [
    {
     "data": {
      "text/plain": [
       "array([ True, False, False, False])"
      ]
     },
     "execution_count": 54,
     "metadata": {},
     "output_type": "execute_result"
    }
   ],
   "source": [
    "np.array([True, True, False, False]) & np.array([True, False, True, False])"
   ]
  },
  {
   "cell_type": "code",
   "execution_count": 55,
   "metadata": {
    "execution": {
     "iopub.execute_input": "2021-07-11T16:29:34.172016Z",
     "iopub.status.busy": "2021-07-11T16:29:34.171019Z",
     "iopub.status.idle": "2021-07-11T16:29:34.188972Z",
     "shell.execute_reply": "2021-07-11T16:29:34.186978Z",
     "shell.execute_reply.started": "2021-07-11T16:29:34.172016Z"
    }
   },
   "outputs": [
    {
     "data": {
      "text/plain": [
       "array([ True,  True,  True, False])"
      ]
     },
     "execution_count": 55,
     "metadata": {},
     "output_type": "execute_result"
    }
   ],
   "source": [
    "np.array([True, True, False, False]) | np.array([True, False, True, False])"
   ]
  },
  {
   "cell_type": "markdown",
   "metadata": {},
   "source": [
    "To active Boolean slicing: you can pass in either a naked Boolean array of the same size to the array to be sliced, or simply a condition."
   ]
  },
  {
   "cell_type": "code",
   "execution_count": 56,
   "metadata": {
    "execution": {
     "iopub.execute_input": "2021-07-11T16:29:34.194954Z",
     "iopub.status.busy": "2021-07-11T16:29:34.193957Z",
     "iopub.status.idle": "2021-07-11T16:29:34.216896Z",
     "shell.execute_reply": "2021-07-11T16:29:34.215897Z",
     "shell.execute_reply.started": "2021-07-11T16:29:34.194954Z"
    }
   },
   "outputs": [
    {
     "data": {
      "text/plain": [
       "array([1, 3, 9])"
      ]
     },
     "execution_count": 56,
     "metadata": {},
     "output_type": "execute_result"
    }
   ],
   "source": [
    "array = np.array([1, 3, 5, 7, 9])\n",
    "array[[True, True, False, False, True]]"
   ]
  },
  {
   "cell_type": "code",
   "execution_count": 57,
   "metadata": {
    "execution": {
     "iopub.execute_input": "2021-07-11T16:29:34.218891Z",
     "iopub.status.busy": "2021-07-11T16:29:34.217893Z",
     "iopub.status.idle": "2021-07-11T16:29:34.232853Z",
     "shell.execute_reply": "2021-07-11T16:29:34.231856Z",
     "shell.execute_reply.started": "2021-07-11T16:29:34.218891Z"
    }
   },
   "outputs": [
    {
     "data": {
      "text/plain": [
       "array([5, 7])"
      ]
     },
     "execution_count": 57,
     "metadata": {},
     "output_type": "execute_result"
    }
   ],
   "source": [
    "array = np.array([1, 3, 5, 7, 9])\n",
    "array[(array>=5) & (array!=9)]"
   ]
  },
  {
   "cell_type": "markdown",
   "metadata": {},
   "source": [
    "**Note:** The tilde `~` may be used to invert a Boolean array. This may be useful in removing unnecessary elements."
   ]
  },
  {
   "cell_type": "code",
   "execution_count": 58,
   "metadata": {
    "execution": {
     "iopub.execute_input": "2021-07-11T16:29:34.235845Z",
     "iopub.status.busy": "2021-07-11T16:29:34.234850Z",
     "iopub.status.idle": "2021-07-11T16:29:34.248810Z",
     "shell.execute_reply": "2021-07-11T16:29:34.247813Z",
     "shell.execute_reply.started": "2021-07-11T16:29:34.235845Z"
    }
   },
   "outputs": [
    {
     "data": {
      "text/plain": [
       "array([False,  True, False])"
      ]
     },
     "execution_count": 58,
     "metadata": {},
     "output_type": "execute_result"
    }
   ],
   "source": [
    "~np.array([True, False, True])"
   ]
  },
  {
   "cell_type": "code",
   "execution_count": 59,
   "metadata": {
    "execution": {
     "iopub.execute_input": "2021-07-11T16:29:34.251803Z",
     "iopub.status.busy": "2021-07-11T16:29:34.250805Z",
     "iopub.status.idle": "2021-07-11T16:29:34.264768Z",
     "shell.execute_reply": "2021-07-11T16:29:34.263772Z",
     "shell.execute_reply.started": "2021-07-11T16:29:34.250805Z"
    }
   },
   "outputs": [
    {
     "data": {
      "text/plain": [
       "array([1, 2, 3, 4, 5, 6, 7])"
      ]
     },
     "execution_count": 59,
     "metadata": {},
     "output_type": "execute_result"
    }
   ],
   "source": [
    "array = np.array([1, 2, 3, 4, 5, 6, 7, 100])\n",
    "array[~(array>10)]"
   ]
  },
  {
   "cell_type": "markdown",
   "metadata": {},
   "source": [
    "**Note:** You can use the `where()` function to get the indices of the elements meeting a condition(s)."
   ]
  },
  {
   "cell_type": "code",
   "execution_count": 60,
   "metadata": {
    "execution": {
     "iopub.execute_input": "2021-07-11T16:29:34.266762Z",
     "iopub.status.busy": "2021-07-11T16:29:34.265765Z",
     "iopub.status.idle": "2021-07-11T16:29:34.280735Z",
     "shell.execute_reply": "2021-07-11T16:29:34.279726Z",
     "shell.execute_reply.started": "2021-07-11T16:29:34.266762Z"
    }
   },
   "outputs": [
    {
     "data": {
      "text/plain": [
       "(array([0, 1, 2, 3, 4, 5, 6], dtype=int64),)"
      ]
     },
     "execution_count": 60,
     "metadata": {},
     "output_type": "execute_result"
    }
   ],
   "source": [
    "np.where(array<10)"
   ]
  },
  {
   "cell_type": "markdown",
   "metadata": {},
   "source": [
    "#### Tensor slicing\n",
    "The ellipsis `...` may be used to indicate \"selecting in full\" any remaining unspecified dimensions. There may only a single ellipsis present."
   ]
  },
  {
   "cell_type": "code",
   "execution_count": 61,
   "metadata": {
    "execution": {
     "iopub.execute_input": "2021-07-11T16:29:34.282720Z",
     "iopub.status.busy": "2021-07-11T16:29:34.281722Z",
     "iopub.status.idle": "2021-07-11T16:29:34.296681Z",
     "shell.execute_reply": "2021-07-11T16:29:34.295685Z",
     "shell.execute_reply.started": "2021-07-11T16:29:34.282720Z"
    }
   },
   "outputs": [],
   "source": [
    "tensor = np.array(\n",
    "    [[[[ 1,  2], [ 3,  4]],\n",
    "      [[ 5,  6], [ 7,  8]]],\n",
    "     [[[ 9, 10], [11, 12]],\n",
    "      [[13, 14], [15, 16]]]]\n",
    ")"
   ]
  },
  {
   "cell_type": "code",
   "execution_count": 62,
   "metadata": {
    "execution": {
     "iopub.execute_input": "2021-07-11T16:29:34.302666Z",
     "iopub.status.busy": "2021-07-11T16:29:34.301670Z",
     "iopub.status.idle": "2021-07-11T16:29:34.328596Z",
     "shell.execute_reply": "2021-07-11T16:29:34.327599Z",
     "shell.execute_reply.started": "2021-07-11T16:29:34.302666Z"
    }
   },
   "outputs": [
    {
     "data": {
      "text/plain": [
       "(2, 2, 2, 2)"
      ]
     },
     "execution_count": 62,
     "metadata": {},
     "output_type": "execute_result"
    }
   ],
   "source": [
    "tensor.shape"
   ]
  },
  {
   "cell_type": "markdown",
   "metadata": {},
   "source": [
    "These two code lines return the same output:"
   ]
  },
  {
   "cell_type": "code",
   "execution_count": 63,
   "metadata": {
    "execution": {
     "iopub.execute_input": "2021-07-11T16:29:34.330592Z",
     "iopub.status.busy": "2021-07-11T16:29:34.330592Z",
     "iopub.status.idle": "2021-07-11T16:29:34.344554Z",
     "shell.execute_reply": "2021-07-11T16:29:34.343557Z",
     "shell.execute_reply.started": "2021-07-11T16:29:34.330592Z"
    }
   },
   "outputs": [
    {
     "data": {
      "text/plain": [
       "array([[[ 1,  3],\n",
       "        [ 5,  7]],\n",
       "\n",
       "       [[ 9, 11],\n",
       "        [13, 15]]])"
      ]
     },
     "execution_count": 63,
     "metadata": {},
     "output_type": "execute_result"
    }
   ],
   "source": [
    "tensor[:, :, :, 0]"
   ]
  },
  {
   "cell_type": "code",
   "execution_count": 64,
   "metadata": {
    "execution": {
     "iopub.execute_input": "2021-07-11T16:29:34.347546Z",
     "iopub.status.busy": "2021-07-11T16:29:34.346549Z",
     "iopub.status.idle": "2021-07-11T16:29:34.376469Z",
     "shell.execute_reply": "2021-07-11T16:29:34.375470Z",
     "shell.execute_reply.started": "2021-07-11T16:29:34.347546Z"
    }
   },
   "outputs": [
    {
     "data": {
      "text/plain": [
       "array([[[ 1,  3],\n",
       "        [ 5,  7]],\n",
       "\n",
       "       [[ 9, 11],\n",
       "        [13, 15]]])"
      ]
     },
     "execution_count": 64,
     "metadata": {},
     "output_type": "execute_result"
    }
   ],
   "source": [
    "tensor[..., 0]"
   ]
  },
  {
   "cell_type": "markdown",
   "metadata": {},
   "source": [
    "Other examples of using elipsis `...`."
   ]
  },
  {
   "cell_type": "code",
   "execution_count": 65,
   "metadata": {
    "execution": {
     "iopub.execute_input": "2021-07-11T16:29:34.378464Z",
     "iopub.status.busy": "2021-07-11T16:29:34.378464Z",
     "iopub.status.idle": "2021-07-11T16:29:34.394421Z",
     "shell.execute_reply": "2021-07-11T16:29:34.391429Z",
     "shell.execute_reply.started": "2021-07-11T16:29:34.378464Z"
    }
   },
   "outputs": [
    {
     "data": {
      "text/plain": [
       "array([[[ 5,  6],\n",
       "        [ 7,  8]],\n",
       "\n",
       "       [[13, 14],\n",
       "        [15, 16]]])"
      ]
     },
     "execution_count": 65,
     "metadata": {},
     "output_type": "execute_result"
    }
   ],
   "source": [
    "tensor[:, 1,...]"
   ]
  },
  {
   "cell_type": "code",
   "execution_count": 66,
   "metadata": {
    "execution": {
     "iopub.execute_input": "2021-07-11T16:29:34.401169Z",
     "iopub.status.busy": "2021-07-11T16:29:34.401169Z",
     "iopub.status.idle": "2021-07-11T16:29:34.417334Z",
     "shell.execute_reply": "2021-07-11T16:29:34.416338Z",
     "shell.execute_reply.started": "2021-07-11T16:29:34.401169Z"
    }
   },
   "outputs": [
    {
     "data": {
      "text/plain": [
       "array([[1, 3],\n",
       "       [5, 7]])"
      ]
     },
     "execution_count": 66,
     "metadata": {},
     "output_type": "execute_result"
    }
   ],
   "source": [
    "tensor[0,..., 0]"
   ]
  },
  {
   "cell_type": "markdown",
   "metadata": {},
   "source": [
    "## 2.3. Reshaping\n",
    "The `reshape()` method allows you to restructure an array so that it is organized in a diffrent shape. The element values and the linear indices will remain unchanged."
   ]
  },
  {
   "cell_type": "code",
   "execution_count": 67,
   "metadata": {
    "execution": {
     "iopub.execute_input": "2021-07-11T16:29:34.420325Z",
     "iopub.status.busy": "2021-07-11T16:29:34.419330Z",
     "iopub.status.idle": "2021-07-11T16:29:34.433291Z",
     "shell.execute_reply": "2021-07-11T16:29:34.432294Z",
     "shell.execute_reply.started": "2021-07-11T16:29:34.420325Z"
    }
   },
   "outputs": [],
   "source": [
    "import numpy as np"
   ]
  },
  {
   "cell_type": "markdown",
   "metadata": {},
   "source": [
    "#### Basic reshaping"
   ]
  },
  {
   "cell_type": "code",
   "execution_count": 68,
   "metadata": {
    "execution": {
     "iopub.execute_input": "2021-07-11T16:29:34.435287Z",
     "iopub.status.busy": "2021-07-11T16:29:34.435287Z",
     "iopub.status.idle": "2021-07-11T16:29:34.449249Z",
     "shell.execute_reply": "2021-07-11T16:29:34.448252Z",
     "shell.execute_reply.started": "2021-07-11T16:29:34.435287Z"
    }
   },
   "outputs": [
    {
     "data": {
      "text/plain": [
       "array([ 0,  1,  2,  3,  4,  5,  6,  7,  8,  9, 10, 11, 12, 13, 14, 15, 16,\n",
       "       17, 18, 19, 20, 21, 22, 23])"
      ]
     },
     "execution_count": 68,
     "metadata": {},
     "output_type": "execute_result"
    }
   ],
   "source": [
    "array = np.arange(24)\n",
    "array"
   ]
  },
  {
   "cell_type": "code",
   "execution_count": 69,
   "metadata": {
    "execution": {
     "iopub.execute_input": "2021-07-11T16:29:34.452240Z",
     "iopub.status.busy": "2021-07-11T16:29:34.451243Z",
     "iopub.status.idle": "2021-07-11T16:29:34.465206Z",
     "shell.execute_reply": "2021-07-11T16:29:34.464207Z",
     "shell.execute_reply.started": "2021-07-11T16:29:34.451243Z"
    }
   },
   "outputs": [
    {
     "data": {
      "text/plain": [
       "array([[ 0,  1,  2,  3,  4,  5,  6,  7],\n",
       "       [ 8,  9, 10, 11, 12, 13, 14, 15],\n",
       "       [16, 17, 18, 19, 20, 21, 22, 23]])"
      ]
     },
     "execution_count": 69,
     "metadata": {},
     "output_type": "execute_result"
    }
   ],
   "source": [
    "array.reshape(3,8)"
   ]
  },
  {
   "cell_type": "code",
   "execution_count": 70,
   "metadata": {
    "execution": {
     "iopub.execute_input": "2021-07-11T16:29:34.467201Z",
     "iopub.status.busy": "2021-07-11T16:29:34.467201Z",
     "iopub.status.idle": "2021-07-11T16:29:34.481163Z",
     "shell.execute_reply": "2021-07-11T16:29:34.480167Z",
     "shell.execute_reply.started": "2021-07-11T16:29:34.467201Z"
    }
   },
   "outputs": [
    {
     "data": {
      "text/plain": [
       "array([[[ 0,  1,  2,  3],\n",
       "        [ 4,  5,  6,  7],\n",
       "        [ 8,  9, 10, 11]],\n",
       "\n",
       "       [[12, 13, 14, 15],\n",
       "        [16, 17, 18, 19],\n",
       "        [20, 21, 22, 23]]])"
      ]
     },
     "execution_count": 70,
     "metadata": {},
     "output_type": "execute_result"
    }
   ],
   "source": [
    "array.reshape(2,3,4)"
   ]
  },
  {
   "cell_type": "markdown",
   "metadata": {},
   "source": [
    "**Note:** You can pass in exactly one `-1` argument, which represents an unknown dimension. That dimension's length is inferred by NumPy."
   ]
  },
  {
   "cell_type": "code",
   "execution_count": 71,
   "metadata": {
    "execution": {
     "iopub.execute_input": "2021-07-11T16:29:34.483158Z",
     "iopub.status.busy": "2021-07-11T16:29:34.483158Z",
     "iopub.status.idle": "2021-07-11T16:29:34.497121Z",
     "shell.execute_reply": "2021-07-11T16:29:34.496123Z",
     "shell.execute_reply.started": "2021-07-11T16:29:34.483158Z"
    }
   },
   "outputs": [
    {
     "data": {
      "text/plain": [
       "array([[ 0,  1,  2,  3,  4,  5],\n",
       "       [ 6,  7,  8,  9, 10, 11],\n",
       "       [12, 13, 14, 15, 16, 17],\n",
       "       [18, 19, 20, 21, 22, 23]])"
      ]
     },
     "execution_count": 71,
     "metadata": {},
     "output_type": "execute_result"
    }
   ],
   "source": [
    "array.reshape(4,-1)"
   ]
  },
  {
   "cell_type": "markdown",
   "metadata": {},
   "source": [
    "#### Flattening\n",
    "Array flattening is the process transforming an array to a vector."
   ]
  },
  {
   "cell_type": "code",
   "execution_count": 72,
   "metadata": {
    "execution": {
     "iopub.execute_input": "2021-07-11T16:29:34.499115Z",
     "iopub.status.busy": "2021-07-11T16:29:34.498118Z",
     "iopub.status.idle": "2021-07-11T16:29:34.516471Z",
     "shell.execute_reply": "2021-07-11T16:29:34.516471Z",
     "shell.execute_reply.started": "2021-07-11T16:29:34.499115Z"
    }
   },
   "outputs": [
    {
     "data": {
      "text/plain": [
       "array([[0, 1, 2],\n",
       "       [3, 4, 5]])"
      ]
     },
     "execution_count": 72,
     "metadata": {},
     "output_type": "execute_result"
    }
   ],
   "source": [
    "array = np.arange(6).reshape(2,3)\n",
    "array"
   ]
  },
  {
   "cell_type": "code",
   "execution_count": 73,
   "metadata": {
    "execution": {
     "iopub.execute_input": "2021-07-11T16:29:34.516471Z",
     "iopub.status.busy": "2021-07-11T16:29:34.516471Z",
     "iopub.status.idle": "2021-07-11T16:29:34.548569Z",
     "shell.execute_reply": "2021-07-11T16:29:34.547573Z",
     "shell.execute_reply.started": "2021-07-11T16:29:34.516471Z"
    }
   },
   "outputs": [
    {
     "data": {
      "text/plain": [
       "array([0, 1, 2, 3, 4, 5])"
      ]
     },
     "execution_count": 73,
     "metadata": {},
     "output_type": "execute_result"
    }
   ],
   "source": [
    "array.flatten()"
   ]
  },
  {
   "cell_type": "code",
   "execution_count": 74,
   "metadata": {
    "execution": {
     "iopub.execute_input": "2021-07-11T16:29:34.551561Z",
     "iopub.status.busy": "2021-07-11T16:29:34.550563Z",
     "iopub.status.idle": "2021-07-11T16:29:34.564525Z",
     "shell.execute_reply": "2021-07-11T16:29:34.563530Z",
     "shell.execute_reply.started": "2021-07-11T16:29:34.551561Z"
    }
   },
   "outputs": [
    {
     "data": {
      "text/plain": [
       "array([0, 1, 2, 3, 4, 5])"
      ]
     },
     "execution_count": 74,
     "metadata": {},
     "output_type": "execute_result"
    }
   ],
   "source": [
    "array.reshape(-1)"
   ]
  },
  {
   "cell_type": "markdown",
   "metadata": {},
   "source": [
    "## 2.4. Sorting"
   ]
  },
  {
   "cell_type": "code",
   "execution_count": 75,
   "metadata": {
    "execution": {
     "iopub.execute_input": "2021-07-11T16:29:34.566521Z",
     "iopub.status.busy": "2021-07-11T16:29:34.565524Z",
     "iopub.status.idle": "2021-07-11T16:29:34.580483Z",
     "shell.execute_reply": "2021-07-11T16:29:34.579485Z",
     "shell.execute_reply.started": "2021-07-11T16:29:34.566521Z"
    }
   },
   "outputs": [],
   "source": [
    "import numpy as np"
   ]
  },
  {
   "cell_type": "code",
   "execution_count": 76,
   "metadata": {
    "execution": {
     "iopub.execute_input": "2021-07-11T16:29:34.582480Z",
     "iopub.status.busy": "2021-07-11T16:29:34.581481Z",
     "iopub.status.idle": "2021-07-11T16:29:34.596441Z",
     "shell.execute_reply": "2021-07-11T16:29:34.595444Z",
     "shell.execute_reply.started": "2021-07-11T16:29:34.582480Z"
    }
   },
   "outputs": [
    {
     "data": {
      "text/plain": [
       "array([[54, 57, 74, 77, 77, 19],\n",
       "       [93, 31, 46, 97, 80, 98],\n",
       "       [98, 22, 68, 75, 49, 97],\n",
       "       [56, 98, 91, 47, 35, 87]])"
      ]
     },
     "execution_count": 76,
     "metadata": {},
     "output_type": "execute_result"
    }
   ],
   "source": [
    "np.random.seed(0)\n",
    "array = np.random.randint(10, 100, 24).reshape(4,6)\n",
    "array"
   ]
  },
  {
   "cell_type": "markdown",
   "metadata": {},
   "source": [
    "To sort a multi-dimensional array along a specific axis, use the `numpy.sort()` function. The default value of axis is `-1`, which means sorting along the last axis."
   ]
  },
  {
   "cell_type": "code",
   "execution_count": 77,
   "metadata": {
    "execution": {
     "iopub.execute_input": "2021-07-11T16:29:34.598436Z",
     "iopub.status.busy": "2021-07-11T16:29:34.598436Z",
     "iopub.status.idle": "2021-07-11T16:29:34.612398Z",
     "shell.execute_reply": "2021-07-11T16:29:34.611400Z",
     "shell.execute_reply.started": "2021-07-11T16:29:34.598436Z"
    }
   },
   "outputs": [
    {
     "data": {
      "text/plain": [
       "array([[19, 54, 57, 74, 77, 77],\n",
       "       [31, 46, 80, 93, 97, 98],\n",
       "       [22, 49, 68, 75, 97, 98],\n",
       "       [35, 47, 56, 87, 91, 98]])"
      ]
     },
     "execution_count": 77,
     "metadata": {},
     "output_type": "execute_result"
    }
   ],
   "source": [
    "np.sort(array)"
   ]
  },
  {
   "cell_type": "code",
   "execution_count": 78,
   "metadata": {
    "execution": {
     "iopub.execute_input": "2021-07-11T16:29:34.614393Z",
     "iopub.status.busy": "2021-07-11T16:29:34.613395Z",
     "iopub.status.idle": "2021-07-11T16:29:34.629353Z",
     "shell.execute_reply": "2021-07-11T16:29:34.627358Z",
     "shell.execute_reply.started": "2021-07-11T16:29:34.614393Z"
    }
   },
   "outputs": [
    {
     "data": {
      "text/plain": [
       "array([[54, 22, 46, 47, 35, 19],\n",
       "       [56, 31, 68, 75, 49, 87],\n",
       "       [93, 57, 74, 77, 77, 97],\n",
       "       [98, 98, 91, 97, 80, 98]])"
      ]
     },
     "execution_count": 78,
     "metadata": {},
     "output_type": "execute_result"
    }
   ],
   "source": [
    "np.sort(array, axis=0)"
   ]
  },
  {
   "cell_type": "markdown",
   "metadata": {},
   "source": [
    "The `argsort()` method returns the indices that would sort an array instead of the sorted array."
   ]
  },
  {
   "cell_type": "code",
   "execution_count": 79,
   "metadata": {
    "execution": {
     "iopub.execute_input": "2021-07-11T16:29:34.631349Z",
     "iopub.status.busy": "2021-07-11T16:29:34.631349Z",
     "iopub.status.idle": "2021-07-11T16:29:34.644312Z",
     "shell.execute_reply": "2021-07-11T16:29:34.642319Z",
     "shell.execute_reply.started": "2021-07-11T16:29:34.631349Z"
    }
   },
   "outputs": [
    {
     "data": {
      "text/plain": [
       "array([[5, 0, 1, 2, 3, 4],\n",
       "       [1, 2, 4, 0, 3, 5],\n",
       "       [1, 4, 2, 3, 5, 0],\n",
       "       [4, 3, 0, 5, 2, 1]], dtype=int64)"
      ]
     },
     "execution_count": 79,
     "metadata": {},
     "output_type": "execute_result"
    }
   ],
   "source": [
    "array.argsort()"
   ]
  },
  {
   "cell_type": "markdown",
   "metadata": {},
   "source": [
    "#### Sorting matrices\n",
    "Here is the thinking process of sorting the entire matrix by the second row."
   ]
  },
  {
   "cell_type": "code",
   "execution_count": 80,
   "metadata": {
    "execution": {
     "iopub.execute_input": "2021-07-11T16:29:34.655285Z",
     "iopub.status.busy": "2021-07-11T16:29:34.654288Z",
     "iopub.status.idle": "2021-07-11T16:29:34.675229Z",
     "shell.execute_reply": "2021-07-11T16:29:34.674233Z",
     "shell.execute_reply.started": "2021-07-11T16:29:34.655285Z"
    }
   },
   "outputs": [
    {
     "data": {
      "text/plain": [
       "array([[54, 57, 74, 77, 77, 19],\n",
       "       [93, 31, 46, 97, 80, 98],\n",
       "       [98, 22, 68, 75, 49, 97],\n",
       "       [56, 98, 91, 47, 35, 87]])"
      ]
     },
     "execution_count": 80,
     "metadata": {},
     "output_type": "execute_result"
    }
   ],
   "source": [
    "np.random.seed(0)\n",
    "array = np.random.randint(10, 100, 24).reshape(4,6)\n",
    "array"
   ]
  },
  {
   "cell_type": "code",
   "execution_count": 81,
   "metadata": {
    "execution": {
     "iopub.execute_input": "2021-07-11T16:29:34.677225Z",
     "iopub.status.busy": "2021-07-11T16:29:34.677225Z",
     "iopub.status.idle": "2021-07-11T16:29:34.691187Z",
     "shell.execute_reply": "2021-07-11T16:29:34.690191Z",
     "shell.execute_reply.started": "2021-07-11T16:29:34.677225Z"
    }
   },
   "outputs": [
    {
     "data": {
      "text/plain": [
       "array([1, 2, 4, 0, 3, 5], dtype=int64)"
      ]
     },
     "execution_count": 81,
     "metadata": {},
     "output_type": "execute_result"
    }
   ],
   "source": [
    "# get the sorted indices of the second row\n",
    "array[1].argsort()"
   ]
  },
  {
   "cell_type": "code",
   "execution_count": 82,
   "metadata": {
    "execution": {
     "iopub.execute_input": "2021-07-11T16:29:34.694180Z",
     "iopub.status.busy": "2021-07-11T16:29:34.693182Z",
     "iopub.status.idle": "2021-07-11T16:29:34.707145Z",
     "shell.execute_reply": "2021-07-11T16:29:34.706147Z",
     "shell.execute_reply.started": "2021-07-11T16:29:34.694180Z"
    }
   },
   "outputs": [
    {
     "data": {
      "text/plain": [
       "array([[57, 74, 77, 54, 77, 19],\n",
       "       [31, 46, 80, 93, 97, 98],\n",
       "       [22, 68, 49, 98, 75, 97],\n",
       "       [98, 91, 35, 56, 47, 87]])"
      ]
     },
     "execution_count": 82,
     "metadata": {},
     "output_type": "execute_result"
    }
   ],
   "source": [
    "# integer slice using the indices found\n",
    "array[:, array[1].argsort()]"
   ]
  },
  {
   "cell_type": "markdown",
   "metadata": {},
   "source": [
    "To sort the entire matrix by a column, namely the third column, apply the same process."
   ]
  },
  {
   "cell_type": "code",
   "execution_count": 83,
   "metadata": {
    "execution": {
     "iopub.execute_input": "2021-07-11T16:29:34.710138Z",
     "iopub.status.busy": "2021-07-11T16:29:34.709140Z",
     "iopub.status.idle": "2021-07-11T16:29:34.722110Z",
     "shell.execute_reply": "2021-07-11T16:29:34.721108Z",
     "shell.execute_reply.started": "2021-07-11T16:29:34.710138Z"
    }
   },
   "outputs": [
    {
     "data": {
      "text/plain": [
       "array([[93, 31, 46, 97, 80, 98],\n",
       "       [98, 22, 68, 75, 49, 97],\n",
       "       [54, 57, 74, 77, 77, 19],\n",
       "       [56, 98, 91, 47, 35, 87]])"
      ]
     },
     "execution_count": 83,
     "metadata": {},
     "output_type": "execute_result"
    }
   ],
   "source": [
    "array[array[:,2].argsort()]"
   ]
  },
  {
   "cell_type": "markdown",
   "metadata": {},
   "source": [
    "# 3. Mathematical functions\n",
    "*Reference: [NumPy - Mathematical functions](https://numpy.org/doc/stable/reference/routines.math.html)*"
   ]
  },
  {
   "cell_type": "code",
   "execution_count": 1,
   "metadata": {
    "execution": {
     "iopub.execute_input": "2021-07-11T16:30:00.790958Z",
     "iopub.status.busy": "2021-07-11T16:30:00.789967Z",
     "iopub.status.idle": "2021-07-11T16:30:00.971650Z",
     "shell.execute_reply": "2021-07-11T16:30:00.971650Z",
     "shell.execute_reply.started": "2021-07-11T16:30:00.790958Z"
    }
   },
   "outputs": [],
   "source": [
    "import numpy as np"
   ]
  },
  {
   "cell_type": "markdown",
   "metadata": {},
   "source": [
    "#### Trigonometry"
   ]
  },
  {
   "cell_type": "code",
   "execution_count": 2,
   "metadata": {
    "execution": {
     "iopub.execute_input": "2021-07-11T16:30:00.971650Z",
     "iopub.status.busy": "2021-07-11T16:30:00.971650Z",
     "iopub.status.idle": "2021-07-11T16:30:01.002729Z",
     "shell.execute_reply": "2021-07-11T16:30:01.001766Z",
     "shell.execute_reply.started": "2021-07-11T16:30:00.971650Z"
    }
   },
   "outputs": [
    {
     "data": {
      "text/plain": [
       "3.141592653589793"
      ]
     },
     "execution_count": 2,
     "metadata": {},
     "output_type": "execute_result"
    }
   ],
   "source": [
    "np.pi"
   ]
  },
  {
   "cell_type": "code",
   "execution_count": 3,
   "metadata": {
    "execution": {
     "iopub.execute_input": "2021-07-11T16:30:01.004723Z",
     "iopub.status.busy": "2021-07-11T16:30:01.004723Z",
     "iopub.status.idle": "2021-07-11T16:30:01.018687Z",
     "shell.execute_reply": "2021-07-11T16:30:01.017688Z",
     "shell.execute_reply.started": "2021-07-11T16:30:01.004723Z"
    }
   },
   "outputs": [
    {
     "data": {
      "text/plain": [
       "1.0"
      ]
     },
     "execution_count": 3,
     "metadata": {},
     "output_type": "execute_result"
    }
   ],
   "source": [
    "np.sin(np.pi/2)"
   ]
  },
  {
   "cell_type": "code",
   "execution_count": 4,
   "metadata": {
    "execution": {
     "iopub.execute_input": "2021-07-11T16:30:01.022676Z",
     "iopub.status.busy": "2021-07-11T16:30:01.021679Z",
     "iopub.status.idle": "2021-07-11T16:30:01.034642Z",
     "shell.execute_reply": "2021-07-11T16:30:01.033645Z",
     "shell.execute_reply.started": "2021-07-11T16:30:01.021679Z"
    }
   },
   "outputs": [
    {
     "data": {
      "text/plain": [
       "1.0"
      ]
     },
     "execution_count": 4,
     "metadata": {},
     "output_type": "execute_result"
    }
   ],
   "source": [
    "np.cos(0)"
   ]
  },
  {
   "cell_type": "code",
   "execution_count": 5,
   "metadata": {
    "execution": {
     "iopub.execute_input": "2021-07-11T16:30:01.036638Z",
     "iopub.status.busy": "2021-07-11T16:30:01.036638Z",
     "iopub.status.idle": "2021-07-11T16:30:01.050601Z",
     "shell.execute_reply": "2021-07-11T16:30:01.049602Z",
     "shell.execute_reply.started": "2021-07-11T16:30:01.036638Z"
    }
   },
   "outputs": [
    {
     "data": {
      "text/plain": [
       "0.9999999999999999"
      ]
     },
     "execution_count": 5,
     "metadata": {},
     "output_type": "execute_result"
    }
   ],
   "source": [
    "np.tan(np.pi/4)"
   ]
  },
  {
   "cell_type": "markdown",
   "metadata": {},
   "source": [
    "#### Rounding"
   ]
  },
  {
   "cell_type": "code",
   "execution_count": 6,
   "metadata": {
    "execution": {
     "iopub.execute_input": "2021-07-11T16:30:01.053593Z",
     "iopub.status.busy": "2021-07-11T16:30:01.052596Z",
     "iopub.status.idle": "2021-07-11T16:30:01.066557Z",
     "shell.execute_reply": "2021-07-11T16:30:01.065561Z",
     "shell.execute_reply.started": "2021-07-11T16:30:01.052596Z"
    }
   },
   "outputs": [
    {
     "data": {
      "text/plain": [
       "array([-5.,  3.,  5., -8.])"
      ]
     },
     "execution_count": 6,
     "metadata": {},
     "output_type": "execute_result"
    }
   ],
   "source": [
    "array = np.array([-4.3, 3.14, 5.64, -7.55])\n",
    "np.floor(array)"
   ]
  },
  {
   "cell_type": "code",
   "execution_count": 7,
   "metadata": {
    "execution": {
     "iopub.execute_input": "2021-07-11T16:30:01.068552Z",
     "iopub.status.busy": "2021-07-11T16:30:01.068552Z",
     "iopub.status.idle": "2021-07-11T16:30:01.082524Z",
     "shell.execute_reply": "2021-07-11T16:30:01.081516Z",
     "shell.execute_reply.started": "2021-07-11T16:30:01.068552Z"
    }
   },
   "outputs": [
    {
     "data": {
      "text/plain": [
       "array([-4.,  4.,  6., -7.])"
      ]
     },
     "execution_count": 7,
     "metadata": {},
     "output_type": "execute_result"
    }
   ],
   "source": [
    "array = np.array([-4.3, 3.14, 5.64, -7.55])\n",
    "np.ceil(array)"
   ]
  },
  {
   "cell_type": "code",
   "execution_count": 8,
   "metadata": {
    "execution": {
     "iopub.execute_input": "2021-07-11T16:30:01.086503Z",
     "iopub.status.busy": "2021-07-11T16:30:01.086503Z",
     "iopub.status.idle": "2021-07-11T16:30:01.098472Z",
     "shell.execute_reply": "2021-07-11T16:30:01.097475Z",
     "shell.execute_reply.started": "2021-07-11T16:30:01.086503Z"
    }
   },
   "outputs": [
    {
     "data": {
      "text/plain": [
       "3.0"
      ]
     },
     "execution_count": 8,
     "metadata": {},
     "output_type": "execute_result"
    }
   ],
   "source": [
    "np.round(np.pi)"
   ]
  },
  {
   "cell_type": "code",
   "execution_count": 9,
   "metadata": {
    "execution": {
     "iopub.execute_input": "2021-07-11T16:30:01.101464Z",
     "iopub.status.busy": "2021-07-11T16:30:01.101464Z",
     "iopub.status.idle": "2021-07-11T16:30:01.130387Z",
     "shell.execute_reply": "2021-07-11T16:30:01.129390Z",
     "shell.execute_reply.started": "2021-07-11T16:30:01.101464Z"
    }
   },
   "outputs": [
    {
     "data": {
      "text/plain": [
       "2.72"
      ]
     },
     "execution_count": 9,
     "metadata": {},
     "output_type": "execute_result"
    }
   ],
   "source": [
    "np.round(np.e, 2)"
   ]
  },
  {
   "cell_type": "markdown",
   "metadata": {},
   "source": [
    "#### Exponents and logarithms"
   ]
  },
  {
   "cell_type": "code",
   "execution_count": 10,
   "metadata": {
    "execution": {
     "iopub.execute_input": "2021-07-11T16:30:01.132383Z",
     "iopub.status.busy": "2021-07-11T16:30:01.132383Z",
     "iopub.status.idle": "2021-07-11T16:30:01.146345Z",
     "shell.execute_reply": "2021-07-11T16:30:01.145347Z",
     "shell.execute_reply.started": "2021-07-11T16:30:01.132383Z"
    }
   },
   "outputs": [
    {
     "data": {
      "text/plain": [
       "2.718281828459045"
      ]
     },
     "execution_count": 10,
     "metadata": {},
     "output_type": "execute_result"
    }
   ],
   "source": [
    "np.e"
   ]
  },
  {
   "cell_type": "code",
   "execution_count": 11,
   "metadata": {
    "execution": {
     "iopub.execute_input": "2021-07-11T16:30:01.148340Z",
     "iopub.status.busy": "2021-07-11T16:30:01.148340Z",
     "iopub.status.idle": "2021-07-11T16:30:01.162301Z",
     "shell.execute_reply": "2021-07-11T16:30:01.161305Z",
     "shell.execute_reply.started": "2021-07-11T16:30:01.148340Z"
    }
   },
   "outputs": [
    {
     "data": {
      "text/plain": [
       "array([ 2.71828183,  7.3890561 , 20.08553692])"
      ]
     },
     "execution_count": 11,
     "metadata": {},
     "output_type": "execute_result"
    }
   ],
   "source": [
    "array = np.array([1, 2, 3])\n",
    "np.exp(array)"
   ]
  },
  {
   "cell_type": "code",
   "execution_count": 12,
   "metadata": {
    "execution": {
     "iopub.execute_input": "2021-07-11T16:30:01.164296Z",
     "iopub.status.busy": "2021-07-11T16:30:01.163299Z",
     "iopub.status.idle": "2021-07-11T16:30:01.178259Z",
     "shell.execute_reply": "2021-07-11T16:30:01.177262Z",
     "shell.execute_reply.started": "2021-07-11T16:30:01.164296Z"
    }
   },
   "outputs": [
    {
     "data": {
      "text/plain": [
       "1j"
      ]
     },
     "execution_count": 12,
     "metadata": {},
     "output_type": "execute_result"
    }
   ],
   "source": [
    "np.emath.sqrt(-1)"
   ]
  },
  {
   "cell_type": "code",
   "execution_count": 13,
   "metadata": {
    "execution": {
     "iopub.execute_input": "2021-07-11T16:30:01.180255Z",
     "iopub.status.busy": "2021-07-11T16:30:01.180255Z",
     "iopub.status.idle": "2021-07-11T16:30:01.194216Z",
     "shell.execute_reply": "2021-07-11T16:30:01.193217Z",
     "shell.execute_reply.started": "2021-07-11T16:30:01.180255Z"
    }
   },
   "outputs": [
    {
     "data": {
      "text/plain": [
       "1.0"
      ]
     },
     "execution_count": 13,
     "metadata": {},
     "output_type": "execute_result"
    }
   ],
   "source": [
    "np.log(np.e)"
   ]
  },
  {
   "cell_type": "code",
   "execution_count": 14,
   "metadata": {
    "execution": {
     "iopub.execute_input": "2021-07-11T16:30:01.196210Z",
     "iopub.status.busy": "2021-07-11T16:30:01.195213Z",
     "iopub.status.idle": "2021-07-11T16:30:01.210173Z",
     "shell.execute_reply": "2021-07-11T16:30:01.209176Z",
     "shell.execute_reply.started": "2021-07-11T16:30:01.196210Z"
    }
   },
   "outputs": [
    {
     "data": {
      "text/plain": [
       "array([1., 3., 5.])"
      ]
     },
     "execution_count": 14,
     "metadata": {},
     "output_type": "execute_result"
    }
   ],
   "source": [
    "array = np.array([10, 1000, 100000])\n",
    "np.log10(array)"
   ]
  },
  {
   "cell_type": "markdown",
   "metadata": {},
   "source": [
    "#### Other functions"
   ]
  },
  {
   "cell_type": "code",
   "execution_count": 15,
   "metadata": {
    "execution": {
     "iopub.execute_input": "2021-07-11T16:30:01.212168Z",
     "iopub.status.busy": "2021-07-11T16:30:01.212168Z",
     "iopub.status.idle": "2021-07-11T16:30:01.226131Z",
     "shell.execute_reply": "2021-07-11T16:30:01.225133Z",
     "shell.execute_reply.started": "2021-07-11T16:30:01.212168Z"
    }
   },
   "outputs": [
    {
     "data": {
      "text/plain": [
       "array([4, 6, 7])"
      ]
     },
     "execution_count": 15,
     "metadata": {},
     "output_type": "execute_result"
    }
   ],
   "source": [
    "array = np.array([-4, 6, -7])\n",
    "np.abs(array)"
   ]
  },
  {
   "cell_type": "code",
   "execution_count": 16,
   "metadata": {
    "execution": {
     "iopub.execute_input": "2021-07-11T16:30:01.229124Z",
     "iopub.status.busy": "2021-07-11T16:30:01.228126Z",
     "iopub.status.idle": "2021-07-11T16:30:01.258045Z",
     "shell.execute_reply": "2021-07-11T16:30:01.257048Z",
     "shell.execute_reply.started": "2021-07-11T16:30:01.229124Z"
    }
   },
   "outputs": [
    {
     "data": {
      "text/plain": [
       "array([ 0,  1,  3,  6, 10, 15, 21, 28, 36, 45], dtype=int32)"
      ]
     },
     "execution_count": 16,
     "metadata": {},
     "output_type": "execute_result"
    }
   ],
   "source": [
    "array = np.arange(10)\n",
    "np.cumsum(array)"
   ]
  },
  {
   "cell_type": "code",
   "execution_count": 17,
   "metadata": {
    "execution": {
     "iopub.execute_input": "2021-07-11T16:30:01.260041Z",
     "iopub.status.busy": "2021-07-11T16:30:01.260041Z",
     "iopub.status.idle": "2021-07-11T16:30:01.274002Z",
     "shell.execute_reply": "2021-07-11T16:30:01.273005Z",
     "shell.execute_reply.started": "2021-07-11T16:30:01.260041Z"
    }
   },
   "outputs": [
    {
     "data": {
      "text/plain": [
       "array([  90.,  900., 9000.])"
      ]
     },
     "execution_count": 17,
     "metadata": {},
     "output_type": "execute_result"
    }
   ],
   "source": [
    "array = np.logspace(1, 4, 4)\n",
    "np.diff(array)"
   ]
  },
  {
   "cell_type": "markdown",
   "metadata": {},
   "source": [
    "#### Polynomial fitting\n",
    "Find the coefficients for the polynomial $p(\\mathbf{x})$ of degree $n$ that is the best fit for the data points $(\\mathbf{x}_i, \\mathbf{y}_i)$. Based on the least squares method."
   ]
  },
  {
   "cell_type": "code",
   "execution_count": 18,
   "metadata": {
    "execution": {
     "iopub.execute_input": "2021-07-11T16:30:01.276995Z",
     "iopub.status.busy": "2021-07-11T16:30:01.275997Z",
     "iopub.status.idle": "2021-07-11T16:30:03.658746Z",
     "shell.execute_reply": "2021-07-11T16:30:03.657740Z",
     "shell.execute_reply.started": "2021-07-11T16:30:01.276995Z"
    }
   },
   "outputs": [
    {
     "data": {
      "image/png": "[encoded data removed]",
      "text/plain": [
       "<Figure size 432x288 with 1 Axes>"
      ]
     },
     "metadata": {},
     "output_type": "display_data"
    }
   ],
   "source": [
    "import seaborn as sns; sns.set_style('whitegrid')\n",
    "\n",
    "degree = 1\n",
    "\n",
    "x = np.array([10, 8, 13, 9, 11, 14, 6, 4, 12, 7, 5])\n",
    "y = np.array([8.04, 6.950, 7.58, 8.81, 8.33, 9.96, 7.24, 4.26, 10.84, 4.82, 5.68])\n",
    "\n",
    "coefs = np.polyfit(x, y, deg=degree)\n",
    "\n",
    "x_fit = np.linspace(0, 18, 1000)\n",
    "y_fit = sum(x_fit**(degree-i) * coefs[i] for i in range(degree+1))\n",
    "\n",
    "_ = sns.scatterplot(x, y)\n",
    "_ = sns.lineplot(x_fit, y_fit)"
   ]
  },
  {
   "cell_type": "markdown",
   "metadata": {},
   "source": [
    "---\n",
    "*&#9829; By Quang Hung x Thuy Linh &#9829;*"
   ]
  }
 ],
 "metadata": {
  "kernelspec": {
   "display_name": "Python 3",
   "language": "python",
   "name": "python3"
  },
  "language_info": {
   "codemirror_mode": {
    "name": "ipython",
    "version": 3
   },
   "file_extension": ".py",
   "mimetype": "text/x-python",
   "name": "python",
   "nbconvert_exporter": "python",
   "pygments_lexer": "ipython3",
   "version": "3.8.3"
  }
 },
 "nbformat": 4,
 "nbformat_minor": 4
}
