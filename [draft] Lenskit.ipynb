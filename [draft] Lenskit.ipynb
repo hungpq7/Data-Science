{
 "cells": [
  {
   "cell_type": "code",
   "execution_count": 81,
   "metadata": {
    "execution": {
     "iopub.execute_input": "2021-12-23T06:43:36.139340Z",
     "iopub.status.busy": "2021-12-23T06:43:36.138373Z",
     "iopub.status.idle": "2021-12-23T06:43:36.147318Z",
     "shell.execute_reply": "2021-12-23T06:43:36.147318Z",
     "shell.execute_reply.started": "2021-12-23T06:43:36.139340Z"
    },
    "tags": []
   },
   "outputs": [],
   "source": [
    "from lenskit import batch, topn, util, crossfold as xf\n",
    "from lenskit.algorithms import Recommender, als, item_knn as knn\n",
    "from lenskit.algorithms.item_knn import ItemItem\n",
    "from lenskit.algorithms.user_knn import UserUser\n",
    "from lenskit.algorithms.als import BiasedMF, ImplicitMF\n",
    "from lenskit.algorithms.funksvd import FunkSVD\n",
    "from lenskit.algorithms.bias import Bias\n",
    "\n",
    "import pandas as pd\n",
    "import numpy as np"
   ]
  },
  {
   "cell_type": "code",
   "execution_count": 73,
   "metadata": {
    "execution": {
     "iopub.execute_input": "2021-12-23T04:28:13.555149Z",
     "iopub.status.busy": "2021-12-23T04:28:13.554165Z",
     "iopub.status.idle": "2021-12-23T04:28:13.589059Z",
     "shell.execute_reply": "2021-12-23T04:28:13.588093Z",
     "shell.execute_reply.started": "2021-12-23T04:28:13.555149Z"
    },
    "tags": []
   },
   "outputs": [
    {
     "data": {
      "text/html": [
       "<div>\n",
       "<style scoped>\n",
       "    .dataframe tbody tr th:only-of-type {\n",
       "        vertical-align: middle;\n",
       "    }\n",
       "\n",
       "    .dataframe tbody tr th {\n",
       "        vertical-align: top;\n",
       "    }\n",
       "\n",
       "    .dataframe thead th {\n",
       "        text-align: right;\n",
       "    }\n",
       "</style>\n",
       "<table border=\"1\" class=\"dataframe\">\n",
       "  <thead>\n",
       "    <tr style=\"text-align: right;\">\n",
       "      <th></th>\n",
       "      <th>user</th>\n",
       "      <th>item</th>\n",
       "      <th>rating</th>\n",
       "    </tr>\n",
       "  </thead>\n",
       "  <tbody>\n",
       "    <tr>\n",
       "      <th>0</th>\n",
       "      <td>1</td>\n",
       "      <td>1</td>\n",
       "      <td>5</td>\n",
       "    </tr>\n",
       "    <tr>\n",
       "      <th>1</th>\n",
       "      <td>1</td>\n",
       "      <td>2</td>\n",
       "      <td>3</td>\n",
       "    </tr>\n",
       "    <tr>\n",
       "      <th>2</th>\n",
       "      <td>1</td>\n",
       "      <td>3</td>\n",
       "      <td>4</td>\n",
       "    </tr>\n",
       "    <tr>\n",
       "      <th>3</th>\n",
       "      <td>1</td>\n",
       "      <td>4</td>\n",
       "      <td>3</td>\n",
       "    </tr>\n",
       "    <tr>\n",
       "      <th>4</th>\n",
       "      <td>1</td>\n",
       "      <td>5</td>\n",
       "      <td>3</td>\n",
       "    </tr>\n",
       "  </tbody>\n",
       "</table>\n",
       "</div>"
      ],
      "text/plain": [
       "   user  item  rating\n",
       "0     1     1       5\n",
       "1     1     2       3\n",
       "2     1     3       4\n",
       "3     1     4       3\n",
       "4     1     5       3"
      ]
     },
     "execution_count": 73,
     "metadata": {},
     "output_type": "execute_result"
    }
   ],
   "source": [
    "dfRating = pd.read_csv('data/movielens/rating_base.csv')\n",
    "dfRating = dfRating.rename(columns={'user_id': 'user', 'movie_id': 'item'})\n",
    "dfRating.head()"
   ]
  },
  {
   "cell_type": "markdown",
   "metadata": {},
   "source": [
    "### Matrix Factorization"
   ]
  },
  {
   "cell_type": "code",
   "execution_count": 74,
   "metadata": {
    "execution": {
     "iopub.execute_input": "2021-12-23T04:30:13.838831Z",
     "iopub.status.busy": "2021-12-23T04:30:13.837806Z",
     "iopub.status.idle": "2021-12-23T04:30:14.046245Z",
     "shell.execute_reply": "2021-12-23T04:30:14.046245Z",
     "shell.execute_reply.started": "2021-12-23T04:30:13.838831Z"
    },
    "tags": []
   },
   "outputs": [],
   "source": [
    "mf = BiasedMF(features=30)\n",
    "mf = Recommender.adapt(mf) # ensure the object to be a Recommender\n",
    "mf = mf.fit(dfRating) # input columns specified by name: \"user\", \"item\" and \"rating\""
   ]
  },
  {
   "cell_type": "code",
   "execution_count": 52,
   "metadata": {
    "execution": {
     "iopub.execute_input": "2021-12-23T03:27:54.763136Z",
     "iopub.status.busy": "2021-12-23T03:27:54.762138Z",
     "iopub.status.idle": "2021-12-23T03:27:58.945717Z",
     "shell.execute_reply": "2021-12-23T03:27:58.945717Z",
     "shell.execute_reply.started": "2021-12-23T03:27:54.763136Z"
    },
    "tags": []
   },
   "outputs": [
    {
     "data": {
      "text/html": [
       "<div>\n",
       "<style scoped>\n",
       "    .dataframe tbody tr th:only-of-type {\n",
       "        vertical-align: middle;\n",
       "    }\n",
       "\n",
       "    .dataframe tbody tr th {\n",
       "        vertical-align: top;\n",
       "    }\n",
       "\n",
       "    .dataframe thead th {\n",
       "        text-align: right;\n",
       "    }\n",
       "</style>\n",
       "<table border=\"1\" class=\"dataframe\">\n",
       "  <thead>\n",
       "    <tr style=\"text-align: right;\">\n",
       "      <th></th>\n",
       "      <th>user</th>\n",
       "      <th>item</th>\n",
       "      <th>rating</th>\n",
       "      <th>prediction</th>\n",
       "    </tr>\n",
       "  </thead>\n",
       "  <tbody>\n",
       "    <tr>\n",
       "      <th>0</th>\n",
       "      <td>1</td>\n",
       "      <td>1</td>\n",
       "      <td>5</td>\n",
       "      <td>3.859648</td>\n",
       "    </tr>\n",
       "    <tr>\n",
       "      <th>1</th>\n",
       "      <td>1</td>\n",
       "      <td>2</td>\n",
       "      <td>3</td>\n",
       "      <td>3.204404</td>\n",
       "    </tr>\n",
       "    <tr>\n",
       "      <th>2</th>\n",
       "      <td>1</td>\n",
       "      <td>3</td>\n",
       "      <td>4</td>\n",
       "      <td>3.377372</td>\n",
       "    </tr>\n",
       "    <tr>\n",
       "      <th>3</th>\n",
       "      <td>1</td>\n",
       "      <td>4</td>\n",
       "      <td>3</td>\n",
       "      <td>3.783276</td>\n",
       "    </tr>\n",
       "    <tr>\n",
       "      <th>4</th>\n",
       "      <td>1</td>\n",
       "      <td>5</td>\n",
       "      <td>3</td>\n",
       "      <td>2.926787</td>\n",
       "    </tr>\n",
       "  </tbody>\n",
       "</table>\n",
       "</div>"
      ],
      "text/plain": [
       "   user  item  rating  prediction\n",
       "0     1     1       5    3.859648\n",
       "1     1     2       3    3.204404\n",
       "2     1     3       4    3.377372\n",
       "3     1     4       3    3.783276\n",
       "4     1     5       3    2.926787"
      ]
     },
     "execution_count": 52,
     "metadata": {},
     "output_type": "execute_result"
    }
   ],
   "source": [
    "batch.predict(mf, dfRating).head()"
   ]
  },
  {
   "cell_type": "code",
   "execution_count": 57,
   "metadata": {
    "execution": {
     "iopub.execute_input": "2021-12-23T03:29:07.822721Z",
     "iopub.status.busy": "2021-12-23T03:29:07.822721Z",
     "iopub.status.idle": "2021-12-23T03:29:07.826690Z",
     "shell.execute_reply": "2021-12-23T03:29:07.826690Z",
     "shell.execute_reply.started": "2021-12-23T03:29:07.822721Z"
    },
    "tags": []
   },
   "outputs": [
    {
     "data": {
      "text/plain": [
       "(943, 30)"
      ]
     },
     "execution_count": 57,
     "metadata": {},
     "output_type": "execute_result"
    }
   ],
   "source": [
    "mf.predictor.user_features_.shape"
   ]
  },
  {
   "cell_type": "code",
   "execution_count": 61,
   "metadata": {
    "execution": {
     "iopub.execute_input": "2021-12-23T03:30:19.005423Z",
     "iopub.status.busy": "2021-12-23T03:30:19.005423Z",
     "iopub.status.idle": "2021-12-23T03:30:19.010384Z",
     "shell.execute_reply": "2021-12-23T03:30:19.009411Z",
     "shell.execute_reply.started": "2021-12-23T03:30:19.005423Z"
    },
    "tags": []
   },
   "outputs": [
    {
     "data": {
      "text/plain": [
       "(1680, 30)"
      ]
     },
     "execution_count": 61,
     "metadata": {},
     "output_type": "execute_result"
    }
   ],
   "source": [
    "mf.predictor.item_features_.shape"
   ]
  },
  {
   "cell_type": "markdown",
   "metadata": {
    "execution": {
     "iopub.execute_input": "2021-12-23T03:15:20.293132Z",
     "iopub.status.busy": "2021-12-23T03:15:20.293132Z",
     "iopub.status.idle": "2021-12-23T03:15:20.299130Z",
     "shell.execute_reply": "2021-12-23T03:15:20.298118Z",
     "shell.execute_reply.started": "2021-12-23T03:15:20.293132Z"
    },
    "tags": []
   },
   "source": [
    "### Collaborative Filtering"
   ]
  },
  {
   "cell_type": "code",
   "execution_count": 32,
   "metadata": {
    "execution": {
     "iopub.execute_input": "2021-12-23T03:10:54.123792Z",
     "iopub.status.busy": "2021-12-23T03:10:54.123792Z",
     "iopub.status.idle": "2021-12-23T03:10:56.928908Z",
     "shell.execute_reply": "2021-12-23T03:10:56.928908Z",
     "shell.execute_reply.started": "2021-12-23T03:10:54.123792Z"
    },
    "tags": []
   },
   "outputs": [],
   "source": [
    "kni = knn.ItemItem(20)\n",
    "kni = Recommender.adapt(kni)\n",
    "kni = kni.fit(dfRating)"
   ]
  },
  {
   "cell_type": "code",
   "execution_count": 30,
   "metadata": {
    "execution": {
     "iopub.execute_input": "2021-12-23T03:08:18.407032Z",
     "iopub.status.busy": "2021-12-23T03:08:18.404069Z",
     "iopub.status.idle": "2021-12-23T03:08:28.260128Z",
     "shell.execute_reply": "2021-12-23T03:08:28.260128Z",
     "shell.execute_reply.started": "2021-12-23T03:08:18.407032Z"
    },
    "tags": []
   },
   "outputs": [
    {
     "data": {
      "text/html": [
       "<div>\n",
       "<style scoped>\n",
       "    .dataframe tbody tr th:only-of-type {\n",
       "        vertical-align: middle;\n",
       "    }\n",
       "\n",
       "    .dataframe tbody tr th {\n",
       "        vertical-align: top;\n",
       "    }\n",
       "\n",
       "    .dataframe thead th {\n",
       "        text-align: right;\n",
       "    }\n",
       "</style>\n",
       "<table border=\"1\" class=\"dataframe\">\n",
       "  <thead>\n",
       "    <tr style=\"text-align: right;\">\n",
       "      <th></th>\n",
       "      <th>item</th>\n",
       "      <th>score</th>\n",
       "      <th>user</th>\n",
       "      <th>rank</th>\n",
       "    </tr>\n",
       "  </thead>\n",
       "  <tbody>\n",
       "    <tr>\n",
       "      <th>0</th>\n",
       "      <td>1449</td>\n",
       "      <td>5.142813</td>\n",
       "      <td>1</td>\n",
       "      <td>1</td>\n",
       "    </tr>\n",
       "    <tr>\n",
       "      <th>1</th>\n",
       "      <td>408</td>\n",
       "      <td>5.053245</td>\n",
       "      <td>1</td>\n",
       "      <td>2</td>\n",
       "    </tr>\n",
       "    <tr>\n",
       "      <th>2</th>\n",
       "      <td>1642</td>\n",
       "      <td>4.877075</td>\n",
       "      <td>1</td>\n",
       "      <td>3</td>\n",
       "    </tr>\n",
       "    <tr>\n",
       "      <th>3</th>\n",
       "      <td>1449</td>\n",
       "      <td>5.017128</td>\n",
       "      <td>2</td>\n",
       "      <td>1</td>\n",
       "    </tr>\n",
       "    <tr>\n",
       "      <th>4</th>\n",
       "      <td>169</td>\n",
       "      <td>4.836834</td>\n",
       "      <td>2</td>\n",
       "      <td>2</td>\n",
       "    </tr>\n",
       "    <tr>\n",
       "      <th>5</th>\n",
       "      <td>1594</td>\n",
       "      <td>4.830486</td>\n",
       "      <td>2</td>\n",
       "      <td>3</td>\n",
       "    </tr>\n",
       "  </tbody>\n",
       "</table>\n",
       "</div>"
      ],
      "text/plain": [
       "   item     score  user  rank\n",
       "0  1449  5.142813     1     1\n",
       "1   408  5.053245     1     2\n",
       "2  1642  4.877075     1     3\n",
       "3  1449  5.017128     2     1\n",
       "4   169  4.836834     2     2\n",
       "5  1594  4.830486     2     3"
      ]
     },
     "execution_count": 30,
     "metadata": {},
     "output_type": "execute_result"
    }
   ],
   "source": [
    "users = dfRating.user.unique()\n",
    "batch.recommend(kni, users, 3).head(6)"
   ]
  },
  {
   "cell_type": "code",
   "execution_count": 31,
   "metadata": {
    "execution": {
     "iopub.execute_input": "2021-12-23T03:08:33.262787Z",
     "iopub.status.busy": "2021-12-23T03:08:33.261800Z",
     "iopub.status.idle": "2021-12-23T03:08:38.880599Z",
     "shell.execute_reply": "2021-12-23T03:08:38.880599Z",
     "shell.execute_reply.started": "2021-12-23T03:08:33.262787Z"
    },
    "tags": []
   },
   "outputs": [
    {
     "data": {
      "text/html": [
       "<div>\n",
       "<style scoped>\n",
       "    .dataframe tbody tr th:only-of-type {\n",
       "        vertical-align: middle;\n",
       "    }\n",
       "\n",
       "    .dataframe tbody tr th {\n",
       "        vertical-align: top;\n",
       "    }\n",
       "\n",
       "    .dataframe thead th {\n",
       "        text-align: right;\n",
       "    }\n",
       "</style>\n",
       "<table border=\"1\" class=\"dataframe\">\n",
       "  <thead>\n",
       "    <tr style=\"text-align: right;\">\n",
       "      <th></th>\n",
       "      <th>user</th>\n",
       "      <th>item</th>\n",
       "      <th>rating</th>\n",
       "      <th>prediction</th>\n",
       "    </tr>\n",
       "  </thead>\n",
       "  <tbody>\n",
       "    <tr>\n",
       "      <th>0</th>\n",
       "      <td>1</td>\n",
       "      <td>1</td>\n",
       "      <td>5</td>\n",
       "      <td>4.117345</td>\n",
       "    </tr>\n",
       "    <tr>\n",
       "      <th>1</th>\n",
       "      <td>1</td>\n",
       "      <td>2</td>\n",
       "      <td>3</td>\n",
       "      <td>3.155572</td>\n",
       "    </tr>\n",
       "    <tr>\n",
       "      <th>2</th>\n",
       "      <td>1</td>\n",
       "      <td>3</td>\n",
       "      <td>4</td>\n",
       "      <td>3.055646</td>\n",
       "    </tr>\n",
       "    <tr>\n",
       "      <th>3</th>\n",
       "      <td>1</td>\n",
       "      <td>4</td>\n",
       "      <td>3</td>\n",
       "      <td>3.727712</td>\n",
       "    </tr>\n",
       "    <tr>\n",
       "      <th>4</th>\n",
       "      <td>1</td>\n",
       "      <td>5</td>\n",
       "      <td>3</td>\n",
       "      <td>3.137253</td>\n",
       "    </tr>\n",
       "  </tbody>\n",
       "</table>\n",
       "</div>"
      ],
      "text/plain": [
       "   user  item  rating  prediction\n",
       "0     1     1       5    4.117345\n",
       "1     1     2       3    3.155572\n",
       "2     1     3       4    3.055646\n",
       "3     1     4       3    3.727712\n",
       "4     1     5       3    3.137253"
      ]
     },
     "execution_count": 31,
     "metadata": {},
     "output_type": "execute_result"
    }
   ],
   "source": [
    "batch.predict(kni, dfRating).head()"
   ]
  },
  {
   "cell_type": "code",
   "execution_count": 78,
   "metadata": {
    "execution": {
     "iopub.execute_input": "2021-12-23T04:44:24.163921Z",
     "iopub.status.busy": "2021-12-23T04:44:24.163921Z",
     "iopub.status.idle": "2021-12-23T04:44:24.196405Z",
     "shell.execute_reply": "2021-12-23T04:44:24.194872Z",
     "shell.execute_reply.started": "2021-12-23T04:44:24.163921Z"
    },
    "tags": []
   },
   "outputs": [
    {
     "data": {
      "text/plain": [
       "(1680,)"
      ]
     },
     "execution_count": 78,
     "metadata": {},
     "output_type": "execute_result"
    }
   ],
   "source": [
    "kni.predictor.item_means_.shape"
   ]
  },
  {
   "cell_type": "markdown",
   "metadata": {},
   "source": [
    "### Baseline"
   ]
  },
  {
   "cell_type": "code",
   "execution_count": 82,
   "metadata": {
    "execution": {
     "iopub.execute_input": "2021-12-23T06:44:44.527942Z",
     "iopub.status.busy": "2021-12-23T06:44:44.527942Z",
     "iopub.status.idle": "2021-12-23T06:44:44.584385Z",
     "shell.execute_reply": "2021-12-23T06:44:44.584385Z",
     "shell.execute_reply.started": "2021-12-23T06:44:44.527942Z"
    },
    "tags": []
   },
   "outputs": [],
   "source": [
    "bsl = Bias()\n",
    "bsl = Recommender.adapt(bsl)\n",
    "bsl = bsl.fit(dfRating)"
   ]
  },
  {
   "cell_type": "code",
   "execution_count": 83,
   "metadata": {
    "execution": {
     "iopub.execute_input": "2021-12-23T06:44:56.257844Z",
     "iopub.status.busy": "2021-12-23T06:44:56.257844Z",
     "iopub.status.idle": "2021-12-23T06:45:01.532635Z",
     "shell.execute_reply": "2021-12-23T06:45:01.531869Z",
     "shell.execute_reply.started": "2021-12-23T06:44:56.257844Z"
    },
    "tags": []
   },
   "outputs": [
    {
     "data": {
      "text/html": [
       "<div>\n",
       "<style scoped>\n",
       "    .dataframe tbody tr th:only-of-type {\n",
       "        vertical-align: middle;\n",
       "    }\n",
       "\n",
       "    .dataframe tbody tr th {\n",
       "        vertical-align: top;\n",
       "    }\n",
       "\n",
       "    .dataframe thead th {\n",
       "        text-align: right;\n",
       "    }\n",
       "</style>\n",
       "<table border=\"1\" class=\"dataframe\">\n",
       "  <thead>\n",
       "    <tr style=\"text-align: right;\">\n",
       "      <th></th>\n",
       "      <th>user</th>\n",
       "      <th>item</th>\n",
       "      <th>rating</th>\n",
       "      <th>prediction</th>\n",
       "    </tr>\n",
       "  </thead>\n",
       "  <tbody>\n",
       "    <tr>\n",
       "      <th>0</th>\n",
       "      <td>1</td>\n",
       "      <td>1</td>\n",
       "      <td>5</td>\n",
       "      <td>3.947421</td>\n",
       "    </tr>\n",
       "    <tr>\n",
       "      <th>1</th>\n",
       "      <td>1</td>\n",
       "      <td>2</td>\n",
       "      <td>3</td>\n",
       "      <td>3.286075</td>\n",
       "    </tr>\n",
       "    <tr>\n",
       "      <th>2</th>\n",
       "      <td>1</td>\n",
       "      <td>3</td>\n",
       "      <td>4</td>\n",
       "      <td>3.146551</td>\n",
       "    </tr>\n",
       "    <tr>\n",
       "      <th>3</th>\n",
       "      <td>1</td>\n",
       "      <td>4</td>\n",
       "      <td>3</td>\n",
       "      <td>3.633182</td>\n",
       "    </tr>\n",
       "    <tr>\n",
       "      <th>4</th>\n",
       "      <td>1</td>\n",
       "      <td>5</td>\n",
       "      <td>3</td>\n",
       "      <td>3.378867</td>\n",
       "    </tr>\n",
       "  </tbody>\n",
       "</table>\n",
       "</div>"
      ],
      "text/plain": [
       "   user  item  rating  prediction\n",
       "0     1     1       5    3.947421\n",
       "1     1     2       3    3.286075\n",
       "2     1     3       4    3.146551\n",
       "3     1     4       3    3.633182\n",
       "4     1     5       3    3.378867"
      ]
     },
     "execution_count": 83,
     "metadata": {},
     "output_type": "execute_result"
    }
   ],
   "source": [
    "batch.predict(bsl, dfRating).head()"
   ]
  },
  {
   "cell_type": "code",
   "execution_count": 85,
   "metadata": {
    "execution": {
     "iopub.execute_input": "2021-12-23T06:45:28.809632Z",
     "iopub.status.busy": "2021-12-23T06:45:28.809632Z",
     "iopub.status.idle": "2021-12-23T06:45:28.815597Z",
     "shell.execute_reply": "2021-12-23T06:45:28.814614Z",
     "shell.execute_reply.started": "2021-12-23T06:45:28.809632Z"
    },
    "tags": []
   },
   "outputs": [
    {
     "data": {
      "text/plain": [
       "(1680,)"
      ]
     },
     "execution_count": 85,
     "metadata": {},
     "output_type": "execute_result"
    }
   ],
   "source": [
    "bsl.predictor.item_offsets_.shape"
   ]
  },
  {
   "cell_type": "code",
   "execution_count": 86,
   "metadata": {
    "execution": {
     "iopub.execute_input": "2021-12-23T06:45:35.098741Z",
     "iopub.status.busy": "2021-12-23T06:45:35.097744Z",
     "iopub.status.idle": "2021-12-23T06:45:35.104725Z",
     "shell.execute_reply": "2021-12-23T06:45:35.103729Z",
     "shell.execute_reply.started": "2021-12-23T06:45:35.098741Z"
    },
    "tags": []
   },
   "outputs": [
    {
     "data": {
      "text/plain": [
       "(943,)"
      ]
     },
     "execution_count": 86,
     "metadata": {},
     "output_type": "execute_result"
    }
   ],
   "source": [
    "bsl.predictor.user_offsets_.shape"
   ]
  },
  {
   "cell_type": "markdown",
   "metadata": {},
   "source": [
    "### Evaluation"
   ]
  },
  {
   "cell_type": "code",
   "execution_count": 92,
   "metadata": {
    "execution": {
     "iopub.execute_input": "2021-12-23T07:28:23.389827Z",
     "iopub.status.busy": "2021-12-23T07:28:23.389827Z",
     "iopub.status.idle": "2021-12-23T07:28:27.462300Z",
     "shell.execute_reply": "2021-12-23T07:28:27.461303Z",
     "shell.execute_reply.started": "2021-12-23T07:28:23.389827Z"
    },
    "tags": []
   },
   "outputs": [
    {
     "data": {
      "text/html": [
       "<div>\n",
       "<style scoped>\n",
       "    .dataframe tbody tr th:only-of-type {\n",
       "        vertical-align: middle;\n",
       "    }\n",
       "\n",
       "    .dataframe tbody tr th {\n",
       "        vertical-align: top;\n",
       "    }\n",
       "\n",
       "    .dataframe thead th {\n",
       "        text-align: right;\n",
       "    }\n",
       "</style>\n",
       "<table border=\"1\" class=\"dataframe\">\n",
       "  <thead>\n",
       "    <tr style=\"text-align: right;\">\n",
       "      <th></th>\n",
       "      <th>user</th>\n",
       "      <th>item</th>\n",
       "      <th>rating</th>\n",
       "      <th>prediction</th>\n",
       "    </tr>\n",
       "  </thead>\n",
       "  <tbody>\n",
       "    <tr>\n",
       "      <th>0</th>\n",
       "      <td>1</td>\n",
       "      <td>1</td>\n",
       "      <td>5</td>\n",
       "      <td>3.903727</td>\n",
       "    </tr>\n",
       "    <tr>\n",
       "      <th>1</th>\n",
       "      <td>1</td>\n",
       "      <td>2</td>\n",
       "      <td>3</td>\n",
       "      <td>3.117148</td>\n",
       "    </tr>\n",
       "    <tr>\n",
       "      <th>2</th>\n",
       "      <td>1</td>\n",
       "      <td>3</td>\n",
       "      <td>4</td>\n",
       "      <td>3.389806</td>\n",
       "    </tr>\n",
       "    <tr>\n",
       "      <th>3</th>\n",
       "      <td>1</td>\n",
       "      <td>4</td>\n",
       "      <td>3</td>\n",
       "      <td>3.766424</td>\n",
       "    </tr>\n",
       "    <tr>\n",
       "      <th>4</th>\n",
       "      <td>1</td>\n",
       "      <td>5</td>\n",
       "      <td>3</td>\n",
       "      <td>2.902128</td>\n",
       "    </tr>\n",
       "  </tbody>\n",
       "</table>\n",
       "</div>"
      ],
      "text/plain": [
       "   user  item  rating  prediction\n",
       "0     1     1       5    3.903727\n",
       "1     1     2       3    3.117148\n",
       "2     1     3       4    3.389806\n",
       "3     1     4       3    3.766424\n",
       "4     1     5       3    2.902128"
      ]
     },
     "execution_count": 92,
     "metadata": {},
     "output_type": "execute_result"
    }
   ],
   "source": [
    "dfPredict = batch.predict(mf, dfRating)\n",
    "dfPredict.head()"
   ]
  },
  {
   "cell_type": "code",
   "execution_count": 101,
   "metadata": {
    "execution": {
     "iopub.execute_input": "2021-12-23T07:50:20.149882Z",
     "iopub.status.busy": "2021-12-23T07:50:20.149882Z",
     "iopub.status.idle": "2021-12-23T07:50:24.791894Z",
     "shell.execute_reply": "2021-12-23T07:50:24.790897Z",
     "shell.execute_reply.started": "2021-12-23T07:50:20.149882Z"
    },
    "tags": []
   },
   "outputs": [
    {
     "data": {
      "text/html": [
       "<div>\n",
       "<style scoped>\n",
       "    .dataframe tbody tr th:only-of-type {\n",
       "        vertical-align: middle;\n",
       "    }\n",
       "\n",
       "    .dataframe tbody tr th {\n",
       "        vertical-align: top;\n",
       "    }\n",
       "\n",
       "    .dataframe thead th {\n",
       "        text-align: right;\n",
       "    }\n",
       "</style>\n",
       "<table border=\"1\" class=\"dataframe\">\n",
       "  <thead>\n",
       "    <tr style=\"text-align: right;\">\n",
       "      <th></th>\n",
       "      <th>item</th>\n",
       "      <th>score</th>\n",
       "      <th>user</th>\n",
       "      <th>rank</th>\n",
       "    </tr>\n",
       "  </thead>\n",
       "  <tbody>\n",
       "    <tr>\n",
       "      <th>0</th>\n",
       "      <td>408</td>\n",
       "      <td>5.080110</td>\n",
       "      <td>1</td>\n",
       "      <td>1</td>\n",
       "    </tr>\n",
       "    <tr>\n",
       "      <th>1</th>\n",
       "      <td>647</td>\n",
       "      <td>4.942757</td>\n",
       "      <td>1</td>\n",
       "      <td>2</td>\n",
       "    </tr>\n",
       "    <tr>\n",
       "      <th>2</th>\n",
       "      <td>285</td>\n",
       "      <td>4.914985</td>\n",
       "      <td>1</td>\n",
       "      <td>3</td>\n",
       "    </tr>\n",
       "    <tr>\n",
       "      <th>3</th>\n",
       "      <td>171</td>\n",
       "      <td>4.887552</td>\n",
       "      <td>1</td>\n",
       "      <td>4</td>\n",
       "    </tr>\n",
       "    <tr>\n",
       "      <th>4</th>\n",
       "      <td>511</td>\n",
       "      <td>4.815067</td>\n",
       "      <td>1</td>\n",
       "      <td>5</td>\n",
       "    </tr>\n",
       "  </tbody>\n",
       "</table>\n",
       "</div>"
      ],
      "text/plain": [
       "   item     score  user  rank\n",
       "0   408  5.080110     1     1\n",
       "1   647  4.942757     1     2\n",
       "2   285  4.914985     1     3\n",
       "3   171  4.887552     1     4\n",
       "4   511  4.815067     1     5"
      ]
     },
     "execution_count": 101,
     "metadata": {},
     "output_type": "execute_result"
    }
   ],
   "source": [
    "users = dfRating.user.unique()\n",
    "dfRecommend = batch.recommend(mf, users, n=10)\n",
    "dfRecommend.head()"
   ]
  },
  {
   "cell_type": "code",
   "execution_count": 128,
   "metadata": {
    "execution": {
     "iopub.execute_input": "2021-12-23T10:08:58.380185Z",
     "iopub.status.busy": "2021-12-23T10:08:58.380185Z",
     "iopub.status.idle": "2021-12-23T10:08:58.400994Z",
     "shell.execute_reply": "2021-12-23T10:08:58.400994Z",
     "shell.execute_reply.started": "2021-12-23T10:08:58.380185Z"
    },
    "tags": []
   },
   "outputs": [
    {
     "data": {
      "text/plain": [
       "0.0"
      ]
     },
     "execution_count": 128,
     "metadata": {},
     "output_type": "execute_result"
    }
   ],
   "source": [
    "topn.ndcg(dfRecommend, dfRating)"
   ]
  },
  {
   "cell_type": "code",
   "execution_count": 129,
   "metadata": {
    "execution": {
     "iopub.execute_input": "2021-12-23T10:09:09.900060Z",
     "iopub.status.busy": "2021-12-23T10:09:09.900060Z",
     "iopub.status.idle": "2021-12-23T10:09:09.925158Z",
     "shell.execute_reply": "2021-12-23T10:09:09.925158Z",
     "shell.execute_reply.started": "2021-12-23T10:09:09.900060Z"
    },
    "tags": []
   },
   "outputs": [
    {
     "data": {
      "text/plain": [
       "0.0"
      ]
     },
     "execution_count": 129,
     "metadata": {},
     "output_type": "execute_result"
    }
   ],
   "source": [
    "topn.recip_rank(dfRecommend, dfRating)"
   ]
  },
  {
   "cell_type": "code",
   "execution_count": 131,
   "metadata": {
    "execution": {
     "iopub.execute_input": "2021-12-23T10:09:22.958603Z",
     "iopub.status.busy": "2021-12-23T10:09:22.958603Z",
     "iopub.status.idle": "2021-12-23T10:09:22.978061Z",
     "shell.execute_reply": "2021-12-23T10:09:22.977092Z",
     "shell.execute_reply.started": "2021-12-23T10:09:22.958603Z"
    },
    "tags": []
   },
   "outputs": [
    {
     "data": {
      "text/plain": [
       "0.0"
      ]
     },
     "execution_count": 131,
     "metadata": {},
     "output_type": "execute_result"
    }
   ],
   "source": [
    "topn.precision(dfRecommend, dfRating, k=2)"
   ]
  },
  {
   "cell_type": "code",
   "execution_count": 127,
   "metadata": {
    "execution": {
     "iopub.execute_input": "2021-12-23T10:08:54.096206Z",
     "iopub.status.busy": "2021-12-23T10:08:54.095224Z",
     "iopub.status.idle": "2021-12-23T10:08:54.106154Z",
     "shell.execute_reply": "2021-12-23T10:08:54.105182Z",
     "shell.execute_reply.started": "2021-12-23T10:08:54.096206Z"
    },
    "tags": []
   },
   "outputs": [
    {
     "data": {
      "text/html": [
       "<div>\n",
       "<style scoped>\n",
       "    .dataframe tbody tr th:only-of-type {\n",
       "        vertical-align: middle;\n",
       "    }\n",
       "\n",
       "    .dataframe tbody tr th {\n",
       "        vertical-align: top;\n",
       "    }\n",
       "\n",
       "    .dataframe thead th {\n",
       "        text-align: right;\n",
       "    }\n",
       "</style>\n",
       "<table border=\"1\" class=\"dataframe\">\n",
       "  <thead>\n",
       "    <tr style=\"text-align: right;\">\n",
       "      <th></th>\n",
       "      <th>user</th>\n",
       "      <th>item</th>\n",
       "      <th>score</th>\n",
       "      <th>rank</th>\n",
       "    </tr>\n",
       "  </thead>\n",
       "  <tbody>\n",
       "    <tr>\n",
       "      <th>0</th>\n",
       "      <td>1</td>\n",
       "      <td>a</td>\n",
       "      <td>4.742</td>\n",
       "      <td>1</td>\n",
       "    </tr>\n",
       "    <tr>\n",
       "      <th>1</th>\n",
       "      <td>1</td>\n",
       "      <td>b</td>\n",
       "      <td>4.532</td>\n",
       "      <td>2</td>\n",
       "    </tr>\n",
       "    <tr>\n",
       "      <th>2</th>\n",
       "      <td>1</td>\n",
       "      <td>c</td>\n",
       "      <td>4.051</td>\n",
       "      <td>3</td>\n",
       "    </tr>\n",
       "    <tr>\n",
       "      <th>3</th>\n",
       "      <td>1</td>\n",
       "      <td>d</td>\n",
       "      <td>3.814</td>\n",
       "      <td>4</td>\n",
       "    </tr>\n",
       "    <tr>\n",
       "      <th>4</th>\n",
       "      <td>1</td>\n",
       "      <td>e</td>\n",
       "      <td>3.581</td>\n",
       "      <td>5</td>\n",
       "    </tr>\n",
       "  </tbody>\n",
       "</table>\n",
       "</div>"
      ],
      "text/plain": [
       "   user item  score  rank\n",
       "0     1    a  4.742     1\n",
       "1     1    b  4.532     2\n",
       "2     1    c  4.051     3\n",
       "3     1    d  3.814     4\n",
       "4     1    e  3.581     5"
      ]
     },
     "execution_count": 127,
     "metadata": {},
     "output_type": "execute_result"
    }
   ],
   "source": [
    "dfRecommend = pd.DataFrame({\n",
    "    'user': [1]*5,\n",
    "    'item': ['a', 'b', 'c', 'd', 'e'],\n",
    "    'score': [4.742, 4.532, 4.051, 3.814, 3.581],\n",
    "    'rank': [1,2,3,4,5]\n",
    "})\n",
    "dfRecommend"
   ]
  },
  {
   "cell_type": "code",
   "execution_count": 126,
   "metadata": {
    "execution": {
     "iopub.execute_input": "2021-12-23T10:08:39.661914Z",
     "iopub.status.busy": "2021-12-23T10:08:39.660918Z",
     "iopub.status.idle": "2021-12-23T10:08:39.669883Z",
     "shell.execute_reply": "2021-12-23T10:08:39.669883Z",
     "shell.execute_reply.started": "2021-12-23T10:08:39.661914Z"
    },
    "tags": []
   },
   "outputs": [
    {
     "data": {
      "text/html": [
       "<div>\n",
       "<style scoped>\n",
       "    .dataframe tbody tr th:only-of-type {\n",
       "        vertical-align: middle;\n",
       "    }\n",
       "\n",
       "    .dataframe tbody tr th {\n",
       "        vertical-align: top;\n",
       "    }\n",
       "\n",
       "    .dataframe thead th {\n",
       "        text-align: right;\n",
       "    }\n",
       "</style>\n",
       "<table border=\"1\" class=\"dataframe\">\n",
       "  <thead>\n",
       "    <tr style=\"text-align: right;\">\n",
       "      <th></th>\n",
       "      <th>user</th>\n",
       "      <th>item</th>\n",
       "      <th>rating</th>\n",
       "    </tr>\n",
       "  </thead>\n",
       "  <tbody>\n",
       "    <tr>\n",
       "      <th>0</th>\n",
       "      <td>1</td>\n",
       "      <td>a</td>\n",
       "      <td>5</td>\n",
       "    </tr>\n",
       "    <tr>\n",
       "      <th>1</th>\n",
       "      <td>1</td>\n",
       "      <td>b</td>\n",
       "      <td>4</td>\n",
       "    </tr>\n",
       "    <tr>\n",
       "      <th>2</th>\n",
       "      <td>1</td>\n",
       "      <td>c</td>\n",
       "      <td>4</td>\n",
       "    </tr>\n",
       "    <tr>\n",
       "      <th>3</th>\n",
       "      <td>1</td>\n",
       "      <td>d</td>\n",
       "      <td>3</td>\n",
       "    </tr>\n",
       "    <tr>\n",
       "      <th>4</th>\n",
       "      <td>1</td>\n",
       "      <td>e</td>\n",
       "      <td>2</td>\n",
       "    </tr>\n",
       "    <tr>\n",
       "      <th>5</th>\n",
       "      <td>1</td>\n",
       "      <td>f</td>\n",
       "      <td>5</td>\n",
       "    </tr>\n",
       "    <tr>\n",
       "      <th>6</th>\n",
       "      <td>1</td>\n",
       "      <td>g</td>\n",
       "      <td>1</td>\n",
       "    </tr>\n",
       "  </tbody>\n",
       "</table>\n",
       "</div>"
      ],
      "text/plain": [
       "   user item  rating\n",
       "0     1    a       5\n",
       "1     1    b       4\n",
       "2     1    c       4\n",
       "3     1    d       3\n",
       "4     1    e       2\n",
       "5     1    f       5\n",
       "6     1    g       1"
      ]
     },
     "execution_count": 126,
     "metadata": {},
     "output_type": "execute_result"
    }
   ],
   "source": [
    "dfRecommend = pd.DataFrame({\n",
    "    'user': [1]*7,\n",
    "    'item': ['a', 'b', 'c', 'd', 'e', 'f', 'g'],\n",
    "    'rating': [5, 4, 4, 3, 2, 5, 1]\n",
    "})\n",
    "dfRecommend"
   ]
  },
  {
   "cell_type": "code",
   "execution_count": null,
   "metadata": {},
   "outputs": [],
   "source": []
  },
  {
   "cell_type": "code",
   "execution_count": null,
   "metadata": {},
   "outputs": [],
   "source": []
  },
  {
   "cell_type": "code",
   "execution_count": null,
   "metadata": {},
   "outputs": [],
   "source": []
  }
 ],
 "metadata": {
  "kernelspec": {
   "display_name": "Python 3",
   "language": "python",
   "name": "python3"
  },
  "language_info": {
   "codemirror_mode": {
    "name": "ipython",
    "version": 3
   },
   "file_extension": ".py",
   "mimetype": "text/x-python",
   "name": "python",
   "nbconvert_exporter": "python",
   "pygments_lexer": "ipython3",
   "version": "3.8.5"
  }
 },
 "nbformat": 4,
 "nbformat_minor": 4
}
